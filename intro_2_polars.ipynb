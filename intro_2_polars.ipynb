{
  "cells": [
    {
      "cell_type": "raw",
      "metadata": {},
      "source": [
        "---\n",
        "title: Intro 2 Polars\n",
        "execute:\n",
        "  warning: true\n",
        "  error: true\n",
        "  keep-ipynb: true\n",
        "  cache: true\n",
        "html:\n",
        "  code-tools: true\n",
        "  fold-code: false\n",
        "  author: Jonathan D. Rosenblatt\n",
        "  data: 02-01-2023\n",
        "  toc: true\n",
        "  number-sections: true\n",
        "---"
      ],
      "id": "3ee05824"
    },
    {
      "cell_type": "code",
      "metadata": {},
      "source": [
        "import polars as pl\n",
        "import pandas as pd\n",
        "import numpy as np\n",
        "import pyarrow as pa\n",
        "import plotly.express as px\n",
        "import string\n",
        "import random\n",
        "from datetime import datetime"
      ],
      "id": "d1e1a86f",
      "execution_count": null,
      "outputs": []
    },
    {
      "cell_type": "markdown",
      "metadata": {},
      "source": [
        "# Motivation\n",
        "\n",
        "1. Small memory footpring\n",
        "  - Native dtypes: missing, strings.\n",
        "  - Arrow format.\n",
        "1. Query Planning\n",
        "1. Parallelism:\n",
        "    - Speed\n",
        "    - Debugging\n",
        "\n",
        "\n",
        "\n",
        "\n",
        "## Memory Footprint\n",
        "\n",
        "\n",
        "### Memory Footprint of Storage\n",
        "\n",
        "Polars vs. Pandas:"
      ],
      "id": "8f83d1f3"
    },
    {
      "cell_type": "code",
      "metadata": {},
      "source": [
        "letters = pl.Series(list(string.ascii_letters))\n",
        "\n",
        "n = int(10e6)\n",
        "letter1 = letters.sample(n,with_replacement=True)\n",
        "letter1.estimated_size(unit='gb')"
      ],
      "id": "b8fc957b",
      "execution_count": null,
      "outputs": []
    },
    {
      "cell_type": "code",
      "metadata": {},
      "source": [
        "letter1_pandas = letter1.to_pandas() \n",
        "letter1_pandas.memory_usage(deep=True, index=False) / 1e9"
      ],
      "id": "9501e9a2",
      "execution_count": null,
      "outputs": []
    },
    {
      "cell_type": "markdown",
      "metadata": {},
      "source": [
        "The memory footprint of the polars Series is 1/7 of the pandas Series(!).\n",
        "But I did cheat- I used string type data to emphasize the difference. The difference would have been smaller if I had used integers or floats. \n",
        "\n",
        "\n",
        "\n",
        "\n",
        "### Memory Footprint of Compute\n",
        "\n",
        "You are probably storing your data to compute with it.\n",
        "Let's compare the memory footprint of computations. \n"
      ],
      "id": "ba6c7ffe"
    },
    {
      "cell_type": "code",
      "metadata": {},
      "source": [
        "%load_ext memory_profiler"
      ],
      "id": "be62cceb",
      "execution_count": null,
      "outputs": []
    },
    {
      "cell_type": "code",
      "metadata": {},
      "source": [
        "%memit letter1.sort()"
      ],
      "id": "a182512e",
      "execution_count": null,
      "outputs": []
    },
    {
      "cell_type": "code",
      "metadata": {},
      "source": [
        "%memit letter1_pandas.sort_values()"
      ],
      "id": "3a935d3f",
      "execution_count": null,
      "outputs": []
    },
    {
      "cell_type": "code",
      "metadata": {},
      "source": [
        "%memit letter1[10]='a'"
      ],
      "id": "43afe9b9",
      "execution_count": null,
      "outputs": []
    },
    {
      "cell_type": "code",
      "metadata": {},
      "source": [
        "%memit letter1_pandas[10]='a'"
      ],
      "id": "0f1fe225",
      "execution_count": null,
      "outputs": []
    },
    {
      "cell_type": "markdown",
      "metadata": {},
      "source": [
        "Things to notice:\n",
        "\n",
        "- Operating on existing data consumes less memory in polars than in pandas.\n",
        "- Changing the data consumes more memory in polars than in pandas. Why is that?\n",
        "\n",
        "\n",
        "### Operating From Disk to Disk\n",
        "\n",
        "What if my data does not fit into RAM?\n",
        "Turns out you can read from disk, process in RAM, and write to disk. This allows you to process data larger than your memory. \n",
        "\n",
        "TODO: demonstrate sink_parquet from [here](https://www.rhosignal.com/posts/sink-parquet-files/).\n",
        "\n",
        "\n",
        "\n",
        "\n",
        "\n",
        "## Query Planning\n",
        "\n",
        "Consider a sort opperation that follows a filter operation. \n",
        "Ideally, filter precededs the sort, but we did not ensure this...\n",
        "We now demonstarte that polars' query planner will do it for you. \n",
        "En passant, we see polars is more efficient also without the query planner. \n",
        "\n",
        "\n",
        "Polars' Eager evaluation, without query planning. \n",
        "Sort then filter. "
      ],
      "id": "b78c252e"
    },
    {
      "cell_type": "code",
      "metadata": {},
      "source": [
        "%timeit -n 2 -r 2 letter1.sort().filter(letter1.is_in(['a','b','c']))"
      ],
      "id": "86eec200",
      "execution_count": null,
      "outputs": []
    },
    {
      "cell_type": "markdown",
      "metadata": {},
      "source": [
        "Polars' Eager evaluation, without query planning. \n",
        "Filter then sort. "
      ],
      "id": "dd89aad5"
    },
    {
      "cell_type": "code",
      "metadata": {},
      "source": [
        "%timeit -n 2 -r 2 letter1.filter(letter1.is_in(['a','b','c'])).sort()"
      ],
      "id": "92da2082",
      "execution_count": null,
      "outputs": []
    },
    {
      "cell_type": "markdown",
      "metadata": {},
      "source": [
        "Polars' Lazy evaluation with query planning. \n",
        "Recieves sort then filter; executes filter then sort. "
      ],
      "id": "f872c853"
    },
    {
      "cell_type": "code",
      "metadata": {},
      "source": [
        "%timeit -n 2 -r 2 letter1.alias('letters').to_frame().lazy().sort(by='letters').filter(pl.col('letters').is_in(['a','b','c'])).collect()"
      ],
      "id": "882ea2a1",
      "execution_count": null,
      "outputs": []
    },
    {
      "cell_type": "markdown",
      "metadata": {},
      "source": [
        "Pandas' eager evaluation in the wrong order: Sort then filter. "
      ],
      "id": "5ed85514"
    },
    {
      "cell_type": "markdown",
      "metadata": {},
      "source": [
        "%timeit -n 2 -r 2 letter1_pandas.sort_values().loc[lambda x: x.isin(['a','b','c'])]\n",
        "```\n",
        "\n",
        "\n",
        "Pandas eager evaluation in the right order: Filter then sort. "
      ],
      "id": "07bec788"
    },
    {
      "cell_type": "code",
      "metadata": {},
      "source": [
        "%timeit -n 2 letter1_pandas.loc[lambda x: x.isin(['a','b','c'])].sort_values()"
      ],
      "id": "af47f278",
      "execution_count": null,
      "outputs": []
    },
    {
      "cell_type": "markdown",
      "metadata": {},
      "source": [
        "Pandas alternative syntax, just as slow. "
      ],
      "id": "5788eb09"
    },
    {
      "cell_type": "code",
      "metadata": {},
      "source": [
        "%timeit -n 2 -r 2 letter1_pandas.loc[letter1_pandas.isin(['a','b','c'])].sort_values()"
      ],
      "id": "572edbc2",
      "execution_count": null,
      "outputs": []
    },
    {
      "cell_type": "markdown",
      "metadata": {},
      "source": [
        "Things to note:\n",
        "\n",
        "1. Query planning works!\n",
        "1. Polars faster than Pandas even in eager evaluation (without query planning).\n",
        "\n",
        "\n",
        "\n",
        "## Parallelism\n",
        "\n",
        "Polars seamlessly parallelizes over columns (also within, when possible).\n",
        "As the number of columns in the data grows, we would expect fixed runtime until all cores are used, and then linear scaling.\n",
        "The following code demonstrates this idea, using a simple sum-within-column.\n"
      ],
      "id": "f5549d02"
    },
    {
      "cell_type": "code",
      "metadata": {},
      "source": [
        "import time\n",
        "\n",
        "def scaling_of_sums(n_rows, n_cols):\n",
        "  # n_cols = 2\n",
        "  # n_rows = int(1e6)\n",
        "  A = {}\n",
        "  A_numpy = np.random.randn(n_rows,n_cols)\n",
        "  A['numpy'] = A_numpy.copy()\n",
        "  A['polars'] = pl.DataFrame(A_numpy)\n",
        "  A['pandas'] = pd.DataFrame(A_numpy)\n",
        "\n",
        "  times = {}\n",
        "  for key,value in A.items():\n",
        "    start = time.time()\n",
        "    value.sum()\n",
        "    end = time.time()\n",
        "    times[key] = end-start\n",
        "\n",
        "  return(times)"
      ],
      "id": "448815f0",
      "execution_count": null,
      "outputs": []
    },
    {
      "cell_type": "code",
      "metadata": {},
      "source": [
        "scaling_of_time = {\n",
        "  p:scaling_of_sums(n_rows= int(1e6),n_cols = p) for p in np.arange(1,16)}"
      ],
      "id": "4b95a09c",
      "execution_count": null,
      "outputs": []
    },
    {
      "cell_type": "code",
      "metadata": {},
      "source": [
        "data = pd.DataFrame(scaling_of_time).T\n",
        "px.line(\n",
        "  data, \n",
        "  labels=dict(\n",
        "    index=\"Number of Columns\", \n",
        "    value=\"Runtime\")\n",
        ")"
      ],
      "id": "93b45b13",
      "execution_count": null,
      "outputs": []
    },
    {
      "cell_type": "markdown",
      "metadata": {},
      "source": [
        "Things to note:\n",
        "\n",
        "- Pandas is slow. \n",
        "- Numpy is quite efficient.\n",
        "- My machine has 8 cores. I would thus expect a fixed timing until 8 columns, and then linear scaling. This is not the case. I wonder why?\n",
        "\n",
        "\n",
        "## Speed Of Import\n",
        "\n",
        "Polar's `read_x` functions are quite faster than Pandas. \n",
        "This is due to better type \"guessing\" heuristics, and to native support of the parquet file format. \n",
        "\n",
        "We now make synthetic data, save it as csv or parquet, and reimport it with polars and pandas.\n",
        "\n",
        "Starting with CSV:"
      ],
      "id": "7712e3f2"
    },
    {
      "cell_type": "code",
      "metadata": {},
      "source": [
        "n_rows = int(1e5)\n",
        "n_cols = 10\n",
        "data = np.random.randn(n_rows,n_cols)\n",
        "data.tofile('data/data.csv', sep = ',')"
      ],
      "id": "de2ba022",
      "execution_count": null,
      "outputs": []
    },
    {
      "cell_type": "markdown",
      "metadata": {},
      "source": [
        "Import with pandas. "
      ],
      "id": "c21b8aca"
    },
    {
      "cell_type": "code",
      "metadata": {},
      "source": [
        "%timeit -n2 -r2 data_pandas = pd.read_csv('data/data.csv', header = None)"
      ],
      "id": "7fd8e957",
      "execution_count": null,
      "outputs": []
    },
    {
      "cell_type": "markdown",
      "metadata": {},
      "source": [
        "Import with polars. "
      ],
      "id": "90ee5c9d"
    },
    {
      "cell_type": "code",
      "metadata": {},
      "source": [
        "%timeit -n2 -r2 data_polars = pl.read_csv('data/data.csv', has_header = False)"
      ],
      "id": "0dad2612",
      "execution_count": null,
      "outputs": []
    },
    {
      "cell_type": "markdown",
      "metadata": {},
      "source": [
        "Moving to parquet:\n"
      ],
      "id": "d344127a"
    },
    {
      "cell_type": "code",
      "metadata": {},
      "source": [
        "data_pandas = pd.DataFrame(data)\n",
        "data_pandas.columns = data_pandas.columns.astype(str)\n",
        "data_pandas.to_parquet('data/data.parquet', index = False)"
      ],
      "id": "44344408",
      "execution_count": null,
      "outputs": []
    },
    {
      "cell_type": "code",
      "metadata": {},
      "source": [
        "%timeit -n2 -r2 data_pandas = pd.read_parquet('data/data.parquet')"
      ],
      "id": "8493930e",
      "execution_count": null,
      "outputs": []
    },
    {
      "cell_type": "code",
      "metadata": {},
      "source": [
        "%timeit -n2 -r2 data_polars = pl.read_parquet('data/data.parquet')"
      ],
      "id": "6fdd8b5a",
      "execution_count": null,
      "outputs": []
    },
    {
      "cell_type": "markdown",
      "metadata": {},
      "source": [
        "Things to note:\n",
        "\n",
        "- The difference in speed is quite large.\n",
        "- I dare argue that polars' type guessing is better, but I am not demonstrating it here. \n",
        "- Bonus fact: parquet is much faster than csv, and also saves the frame's schema.\n",
        "\n",
        "\n",
        "\n",
        "## Speed Of Join\n",
        "\n",
        "Because pandas is built on numpy, people see it as both an in-memory database, and a matrix/array library.\n",
        "With polars, it is quite clear it is an in-memory database, and not an array processing library (despite having a `pl.dot()` function for inner products).\n",
        "As such, you cannot multiply two polars dataframes, but you can certainly join then efficiently.\n",
        "\n",
        "Make some data:"
      ],
      "id": "c9256e35"
    },
    {
      "cell_type": "code",
      "metadata": {},
      "source": [
        "def make_data(n_rows, n_cols):\n",
        "  data = np.concatenate(\n",
        "  (\n",
        "    np.arange(n_rows)[:,np.newaxis], # index\n",
        "    np.random.randn(n_rows,n_cols), # values\n",
        "    ),\n",
        "    axis=1)\n",
        "    \n",
        "  return data\n",
        "\n",
        "\n",
        "n_rows = int(1e6)\n",
        "n_cols = 10\n",
        "data_left = make_data(n_rows, n_cols)\n",
        "data_right = make_data(n_rows, n_cols)"
      ],
      "id": "bcb25443",
      "execution_count": null,
      "outputs": []
    },
    {
      "cell_type": "markdown",
      "metadata": {},
      "source": [
        "Polars join:"
      ],
      "id": "7a8874a9"
    },
    {
      "cell_type": "code",
      "metadata": {},
      "source": [
        "data_left_polars = pl.DataFrame(data_left)\n",
        "data_right_polars = pl.DataFrame(data_right)\n",
        "\n",
        "%timeit -n2 -r2 polars_joined = data_left_polars.join(data_right_polars, on = 'column_0', how = 'inner')"
      ],
      "id": "323267b4",
      "execution_count": null,
      "outputs": []
    },
    {
      "cell_type": "markdown",
      "metadata": {},
      "source": [
        "Pandas join:"
      ],
      "id": "970936dc"
    },
    {
      "cell_type": "code",
      "metadata": {},
      "source": [
        "data_left_pandas = pd.DataFrame(data_left)\n",
        "data_right_pandas = pd.DataFrame(data_right)\n",
        "\n",
        "%timeit -n2 -r2 pandas_joined = data_left_pandas.merge(data_right_pandas, on = 0, how = 'inner')"
      ],
      "id": "8b454fad",
      "execution_count": null,
      "outputs": []
    },
    {
      "cell_type": "markdown",
      "metadata": {},
      "source": [
        "## Moving Forward...\n",
        "\n",
        "If this motivational seection has convinced you to try polars instead of pandas, here is a  more structured intro. \n",
        "\n",
        "\n",
        "\n",
        "\n",
        "\n",
        "\n",
        "# Polars Series\n",
        "\n",
        "Much like pandas, polars' fundamental building block is the series. \n",
        "A series is a column of data, with a name, and a dtype.\n",
        "In the following we:\n",
        "\n",
        "1. Create a series and demonstrate basic operations on it.\n",
        "1. Demonstrate the various dtypes. \n",
        "1. Discuss missing values.\n",
        "1. Filter a series.\n",
        "\n",
        "## Series Housekeeping\n",
        "Construct a series"
      ],
      "id": "d9ea3786"
    },
    {
      "cell_type": "code",
      "metadata": {},
      "source": [
        "s = pl.Series(\"a\", [1, 2, 3])\n",
        "s"
      ],
      "id": "05603818",
      "execution_count": null,
      "outputs": []
    },
    {
      "cell_type": "markdown",
      "metadata": {},
      "source": [
        "Make pandas series for comparison:"
      ],
      "id": "84b2fb3e"
    },
    {
      "cell_type": "code",
      "metadata": {},
      "source": [
        "s_pandas = pd.Series([1, 2, 3], name = \"a\")"
      ],
      "id": "cbdfbdcd",
      "execution_count": null,
      "outputs": []
    },
    {
      "cell_type": "code",
      "metadata": {},
      "source": [
        "type(s)"
      ],
      "id": "105bc5d0",
      "execution_count": null,
      "outputs": []
    },
    {
      "cell_type": "code",
      "metadata": {},
      "source": [
        "type(s_pandas)"
      ],
      "id": "675702a1",
      "execution_count": null,
      "outputs": []
    },
    {
      "cell_type": "code",
      "metadata": {},
      "source": [
        "s.dtype"
      ],
      "id": "08044796",
      "execution_count": null,
      "outputs": []
    },
    {
      "cell_type": "code",
      "metadata": {},
      "source": [
        "s_pandas.dtype"
      ],
      "id": "f58210ab",
      "execution_count": null,
      "outputs": []
    },
    {
      "cell_type": "markdown",
      "metadata": {},
      "source": [
        "Renaming a series; will be very useful when operating on dataframe columns."
      ],
      "id": "7cbfe322"
    },
    {
      "cell_type": "code",
      "metadata": {},
      "source": [
        "s.alias(\"b\")"
      ],
      "id": "2852a7fa",
      "execution_count": null,
      "outputs": []
    },
    {
      "cell_type": "code",
      "metadata": {},
      "source": [
        "s.clone()"
      ],
      "id": "b17bb60f",
      "execution_count": null,
      "outputs": []
    },
    {
      "cell_type": "code",
      "metadata": {},
      "source": [
        "s.clone().append(pl.Series(\"a\", [4, 5, 6]))"
      ],
      "id": "1f31be47",
      "execution_count": null,
      "outputs": []
    },
    {
      "cell_type": "markdown",
      "metadata": {},
      "source": [
        "Note: `series.append` operates in-place. That is why we cloned the series first.\n",
        "\n",
        "Flatten a list of lists using `explode()`."
      ],
      "id": "ed5ec07a"
    },
    {
      "cell_type": "code",
      "metadata": {},
      "source": [
        "pl.Series(\"a\", [[1, 2], [3, 4], [9, 10]]).explode()"
      ],
      "id": "da1481cf",
      "execution_count": null,
      "outputs": []
    },
    {
      "cell_type": "code",
      "metadata": {},
      "source": [
        "s.extend_constant(666, n=2)"
      ],
      "id": "38abeaa6",
      "execution_count": null,
      "outputs": []
    },
    {
      "cell_type": "code",
      "metadata": {},
      "source": [
        "#| eval: false\n",
        "s.new_from_index()"
      ],
      "id": "3b792f09",
      "execution_count": null,
      "outputs": []
    },
    {
      "cell_type": "code",
      "metadata": {},
      "source": [
        "s.rechunk()"
      ],
      "id": "73a9465e",
      "execution_count": null,
      "outputs": []
    },
    {
      "cell_type": "code",
      "metadata": {},
      "source": [
        "s.rename(\"b\", in_place=False) # has an in_place option. Unlike .alias()"
      ],
      "id": "f001b8b5",
      "execution_count": null,
      "outputs": []
    },
    {
      "cell_type": "code",
      "metadata": {},
      "source": [
        "s.to_dummies()"
      ],
      "id": "19d69ca1",
      "execution_count": null,
      "outputs": []
    },
    {
      "cell_type": "code",
      "metadata": {},
      "source": [
        "s.cleared() # creates an empty series, with same dtype"
      ],
      "id": "34f5e6ee",
      "execution_count": null,
      "outputs": []
    },
    {
      "cell_type": "markdown",
      "metadata": {},
      "source": [
        "Consturcting a series of floats, for later use."
      ],
      "id": "4937dc24"
    },
    {
      "cell_type": "code",
      "metadata": {},
      "source": [
        "f = pl.Series(\"a\", [1., 2., 3.])\n",
        "f"
      ],
      "id": "56660911",
      "execution_count": null,
      "outputs": []
    },
    {
      "cell_type": "code",
      "metadata": {},
      "source": [
        "f.dtype"
      ],
      "id": "9b611d75",
      "execution_count": null,
      "outputs": []
    },
    {
      "cell_type": "markdown",
      "metadata": {},
      "source": [
        "## Memory Representation of Series\n",
        "\n",
        "Object size in memory. Super useful for profiling:"
      ],
      "id": "e7bf74b9"
    },
    {
      "cell_type": "code",
      "metadata": {},
      "source": [
        "s.estimated_size(unit=\"gb\")"
      ],
      "id": "9db8d8dd",
      "execution_count": null,
      "outputs": []
    },
    {
      "cell_type": "code",
      "metadata": {},
      "source": [
        "s.chunk_lengths() # what is the length of each memory chunk?"
      ],
      "id": "65f52683",
      "execution_count": null,
      "outputs": []
    },
    {
      "cell_type": "markdown",
      "metadata": {},
      "source": [
        "## Filtering and Subsetting\n"
      ],
      "id": "ec122d82"
    },
    {
      "cell_type": "code",
      "metadata": {},
      "source": [
        "s[0]"
      ],
      "id": "c3dcc264",
      "execution_count": null,
      "outputs": []
    },
    {
      "cell_type": "markdown",
      "metadata": {},
      "source": [
        "Filtering with boolneas requires a series of booleans, not a list:"
      ],
      "id": "cb0870df"
    },
    {
      "cell_type": "code",
      "metadata": {},
      "source": [
        "s.filter(pl.Series(\"a\", [True, False, True])) # works"
      ],
      "id": "d3ea5138",
      "execution_count": null,
      "outputs": []
    },
    {
      "cell_type": "markdown",
      "metadata": {},
      "source": [
        "Will not work:"
      ],
      "id": "7417196a"
    },
    {
      "cell_type": "code",
      "metadata": {},
      "source": [
        "#| eval: false\n",
        "\n",
        "s[[True, False, True]]"
      ],
      "id": "555b3248",
      "execution_count": null,
      "outputs": []
    },
    {
      "cell_type": "markdown",
      "metadata": {},
      "source": [
        "Don't be confused with pandas!"
      ],
      "id": "5ddf51d2"
    },
    {
      "cell_type": "code",
      "metadata": {},
      "source": [
        "#| eval: false\n",
        "\n",
        "s.loc[[True, False, True]] "
      ],
      "id": "b7d5c03a",
      "execution_count": null,
      "outputs": []
    },
    {
      "cell_type": "code",
      "metadata": {},
      "source": [
        "s.head(2)"
      ],
      "id": "91626002",
      "execution_count": null,
      "outputs": []
    },
    {
      "cell_type": "code",
      "metadata": {},
      "source": [
        "s.limit(2)"
      ],
      "id": "91aeb72a",
      "execution_count": null,
      "outputs": []
    },
    {
      "cell_type": "markdown",
      "metadata": {},
      "source": [
        "Negative indexing is not supported:"
      ],
      "id": "56c4bddc"
    },
    {
      "cell_type": "code",
      "metadata": {},
      "source": [
        "#| eval: false\n",
        "\n",
        "s.head(-1)\n",
        "s.limit(-1)"
      ],
      "id": "069aaffd",
      "execution_count": null,
      "outputs": []
    },
    {
      "cell_type": "code",
      "metadata": {},
      "source": [
        "s.tail(2)"
      ],
      "id": "3db11919",
      "execution_count": null,
      "outputs": []
    },
    {
      "cell_type": "code",
      "metadata": {},
      "source": [
        "s.sample(2, with_replacement=False)"
      ],
      "id": "db793e43",
      "execution_count": null,
      "outputs": []
    },
    {
      "cell_type": "code",
      "metadata": {},
      "source": [
        "s.take([0, 2]) # same as .iloc"
      ],
      "id": "b076b793",
      "execution_count": null,
      "outputs": []
    },
    {
      "cell_type": "code",
      "metadata": {},
      "source": [
        "s.slice(1, 2) # same as pandas .iloc[1:2]"
      ],
      "id": "e7fcd323",
      "execution_count": null,
      "outputs": []
    },
    {
      "cell_type": "code",
      "metadata": {},
      "source": [
        "s.take_every(2)"
      ],
      "id": "2e8dba70",
      "execution_count": null,
      "outputs": []
    },
    {
      "cell_type": "markdown",
      "metadata": {},
      "source": [
        "## Aggregations"
      ],
      "id": "7ff49f97"
    },
    {
      "cell_type": "code",
      "metadata": {},
      "source": [
        "s.sum()"
      ],
      "id": "759ebdbc",
      "execution_count": null,
      "outputs": []
    },
    {
      "cell_type": "code",
      "metadata": {},
      "source": [
        "s.min()"
      ],
      "id": "d23ed7a9",
      "execution_count": null,
      "outputs": []
    },
    {
      "cell_type": "code",
      "metadata": {},
      "source": [
        "s.arg_min()"
      ],
      "id": "3e81fa46",
      "execution_count": null,
      "outputs": []
    },
    {
      "cell_type": "code",
      "metadata": {},
      "source": [
        "s.mean()"
      ],
      "id": "9ab662e0",
      "execution_count": null,
      "outputs": []
    },
    {
      "cell_type": "code",
      "metadata": {},
      "source": [
        "s.median()"
      ],
      "id": "08220d28",
      "execution_count": null,
      "outputs": []
    },
    {
      "cell_type": "code",
      "metadata": {},
      "source": [
        "s.entropy()"
      ],
      "id": "e8b3e224",
      "execution_count": null,
      "outputs": []
    },
    {
      "cell_type": "code",
      "metadata": {},
      "source": [
        "s.describe()"
      ],
      "id": "915a2402",
      "execution_count": null,
      "outputs": []
    },
    {
      "cell_type": "code",
      "metadata": {},
      "source": [
        "s.value_counts()"
      ],
      "id": "132f698e",
      "execution_count": null,
      "outputs": []
    },
    {
      "cell_type": "markdown",
      "metadata": {},
      "source": [
        "## Object Transformations\n"
      ],
      "id": "a26e0dbf"
    },
    {
      "cell_type": "code",
      "metadata": {},
      "source": [
        "pl.Series(\"a\",[1,2,3,4]).reshape(dims = (2,2))"
      ],
      "id": "8450022f",
      "execution_count": null,
      "outputs": []
    },
    {
      "cell_type": "code",
      "metadata": {},
      "source": [
        "s.shift(1)"
      ],
      "id": "0e3470da",
      "execution_count": null,
      "outputs": []
    },
    {
      "cell_type": "code",
      "metadata": {},
      "source": [
        "s.shift(-1)"
      ],
      "id": "4afa1099",
      "execution_count": null,
      "outputs": []
    },
    {
      "cell_type": "code",
      "metadata": {},
      "source": [
        "s.shift_and_fill(1, 999)"
      ],
      "id": "e536853a",
      "execution_count": null,
      "outputs": []
    },
    {
      "cell_type": "markdown",
      "metadata": {},
      "source": [
        "## Mathematical Transformations"
      ],
      "id": "93fe1ce2"
    },
    {
      "cell_type": "code",
      "metadata": {},
      "source": [
        "s.abs()"
      ],
      "id": "83471191",
      "execution_count": null,
      "outputs": []
    },
    {
      "cell_type": "code",
      "metadata": {},
      "source": [
        "s.sin()"
      ],
      "id": "b21429ce",
      "execution_count": null,
      "outputs": []
    },
    {
      "cell_type": "code",
      "metadata": {},
      "source": [
        "s.exp()"
      ],
      "id": "a7ccaeb1",
      "execution_count": null,
      "outputs": []
    },
    {
      "cell_type": "code",
      "metadata": {},
      "source": [
        "s.hash()"
      ],
      "id": "4e296e99",
      "execution_count": null,
      "outputs": []
    },
    {
      "cell_type": "code",
      "metadata": {},
      "source": [
        "s.log()"
      ],
      "id": "d9433633",
      "execution_count": null,
      "outputs": []
    },
    {
      "cell_type": "code",
      "metadata": {},
      "source": [
        "s.peak_max()"
      ],
      "id": "ffaa4a6f",
      "execution_count": null,
      "outputs": []
    },
    {
      "cell_type": "code",
      "metadata": {},
      "source": [
        "s.sqrt()"
      ],
      "id": "b39ecb8a",
      "execution_count": null,
      "outputs": []
    },
    {
      "cell_type": "code",
      "metadata": {},
      "source": [
        "s.clip_max(2)"
      ],
      "id": "e001f46c",
      "execution_count": null,
      "outputs": []
    },
    {
      "cell_type": "code",
      "metadata": {},
      "source": [
        "s.clip_min(1)"
      ],
      "id": "439231cc",
      "execution_count": null,
      "outputs": []
    },
    {
      "cell_type": "markdown",
      "metadata": {},
      "source": [
        "You cannot round integers, but you can round floats.\n"
      ],
      "id": "2dd4263f"
    },
    {
      "cell_type": "code",
      "metadata": {},
      "source": [
        "f.round(2)"
      ],
      "id": "4d94078d",
      "execution_count": null,
      "outputs": []
    },
    {
      "cell_type": "code",
      "metadata": {},
      "source": [
        "f.ceil()"
      ],
      "id": "f0b53776",
      "execution_count": null,
      "outputs": []
    },
    {
      "cell_type": "code",
      "metadata": {},
      "source": [
        "f.floor()"
      ],
      "id": "dee2d923",
      "execution_count": null,
      "outputs": []
    },
    {
      "cell_type": "code",
      "metadata": {},
      "source": [
        "s.is_in(pl.Series([1, 10]))"
      ],
      "id": "f4146738",
      "execution_count": null,
      "outputs": []
    },
    {
      "cell_type": "markdown",
      "metadata": {},
      "source": [
        "__Caution__: `is_in()` in polars has an underscore, unlike `isin()` in pandas.\n",
        "\n",
        "\n",
        "\n",
        "## Apply\n",
        "\n",
        "Applying your own function:"
      ],
      "id": "1a6195fa"
    },
    {
      "cell_type": "code",
      "metadata": {},
      "source": [
        "s.apply(lambda x: x + 1)"
      ],
      "id": "c9a090d2",
      "execution_count": null,
      "outputs": []
    },
    {
      "cell_type": "markdown",
      "metadata": {},
      "source": [
        "Using your own functions comes with a performance cost:"
      ],
      "id": "f22ef74d"
    },
    {
      "cell_type": "code",
      "metadata": {},
      "source": [
        "s1 = pl.Series(np.random.randn(int(1e5)))\n",
        "\n",
        "%timeit -n2 -r2 s1+1"
      ],
      "id": "d27d55cf",
      "execution_count": null,
      "outputs": []
    },
    {
      "cell_type": "code",
      "metadata": {},
      "source": [
        "%timeit -n2 -r2 s1.apply(lambda x: x + 1)"
      ],
      "id": "06792d48",
      "execution_count": null,
      "outputs": []
    },
    {
      "cell_type": "markdown",
      "metadata": {},
      "source": [
        "## Cummulative Operations\n"
      ],
      "id": "c3dc28a0"
    },
    {
      "cell_type": "code",
      "metadata": {},
      "source": [
        "s.cummax()"
      ],
      "id": "f8665f9e",
      "execution_count": null,
      "outputs": []
    },
    {
      "cell_type": "code",
      "metadata": {},
      "source": [
        "s.cumsum()"
      ],
      "id": "ea530638",
      "execution_count": null,
      "outputs": []
    },
    {
      "cell_type": "code",
      "metadata": {},
      "source": [
        "s.cumprod()"
      ],
      "id": "000082b3",
      "execution_count": null,
      "outputs": []
    },
    {
      "cell_type": "code",
      "metadata": {},
      "source": [
        "s.ewm_mean(com=0.5)"
      ],
      "id": "b6374219",
      "execution_count": null,
      "outputs": []
    },
    {
      "cell_type": "markdown",
      "metadata": {},
      "source": [
        "## Sequential Operations\n"
      ],
      "id": "0d461b56"
    },
    {
      "cell_type": "code",
      "metadata": {},
      "source": [
        "s.diff()"
      ],
      "id": "3f5556b7",
      "execution_count": null,
      "outputs": []
    },
    {
      "cell_type": "code",
      "metadata": {},
      "source": [
        "s.pct_change()"
      ],
      "id": "345e6bf9",
      "execution_count": null,
      "outputs": []
    },
    {
      "cell_type": "markdown",
      "metadata": {},
      "source": [
        "## Windowed Operations\n"
      ],
      "id": "3aabcd94"
    },
    {
      "cell_type": "code",
      "metadata": {},
      "source": [
        "s.rolling_apply(\n",
        "  pl.sum, \n",
        "  window_size=2)"
      ],
      "id": "9a27d50e",
      "execution_count": null,
      "outputs": []
    },
    {
      "cell_type": "markdown",
      "metadata": {},
      "source": [
        "Not all functions will work within a `rolling_apply`! Only polars' functions will."
      ],
      "id": "665bddd3"
    },
    {
      "cell_type": "code",
      "metadata": {},
      "source": [
        "#| eval: false\n",
        "\n",
        "s.rolling_apply(np.sum, window_size=2) # will not work"
      ],
      "id": "dbf8e0e1",
      "execution_count": null,
      "outputs": []
    },
    {
      "cell_type": "code",
      "metadata": {},
      "source": [
        "s.rolling_max(window_size=2)"
      ],
      "id": "cf7ee399",
      "execution_count": null,
      "outputs": []
    },
    {
      "cell_type": "code",
      "metadata": {},
      "source": [
        "s.clip(1, 2)"
      ],
      "id": "af29a2e1",
      "execution_count": null,
      "outputs": []
    },
    {
      "cell_type": "code",
      "metadata": {},
      "source": [
        "s.clone()"
      ],
      "id": "42f5ee95",
      "execution_count": null,
      "outputs": []
    },
    {
      "cell_type": "code",
      "metadata": {},
      "source": [
        "# check equality with clone\n",
        "s == s.clone()"
      ],
      "id": "1bcab221",
      "execution_count": null,
      "outputs": []
    },
    {
      "cell_type": "markdown",
      "metadata": {},
      "source": [
        "## Booleans\n"
      ],
      "id": "96d1a1c0"
    },
    {
      "cell_type": "code",
      "metadata": {},
      "source": [
        "b = pl.Series(\"a\", [True, True, False])\n",
        "b.dtype"
      ],
      "id": "8fac4e91",
      "execution_count": null,
      "outputs": []
    },
    {
      "cell_type": "code",
      "metadata": {},
      "source": [
        "b.all()"
      ],
      "id": "6725aabf",
      "execution_count": null,
      "outputs": []
    },
    {
      "cell_type": "code",
      "metadata": {},
      "source": [
        "b.any()"
      ],
      "id": "29418f5b",
      "execution_count": null,
      "outputs": []
    },
    {
      "cell_type": "markdown",
      "metadata": {},
      "source": [
        "## Uniques and Duplicates\n"
      ],
      "id": "3acdf448"
    },
    {
      "cell_type": "code",
      "metadata": {},
      "source": [
        "s.is_duplicated()"
      ],
      "id": "eac4367a",
      "execution_count": null,
      "outputs": []
    },
    {
      "cell_type": "code",
      "metadata": {},
      "source": [
        "s.is_unique()"
      ],
      "id": "d45ab680",
      "execution_count": null,
      "outputs": []
    },
    {
      "cell_type": "code",
      "metadata": {},
      "source": [
        "s.n_unique()"
      ],
      "id": "571e0498",
      "execution_count": null,
      "outputs": []
    },
    {
      "cell_type": "code",
      "metadata": {},
      "source": [
        "pl.Series([1,2,3,4,1]).unique_counts()"
      ],
      "id": "0b7875d7",
      "execution_count": null,
      "outputs": []
    },
    {
      "cell_type": "markdown",
      "metadata": {},
      "source": [
        "The first appearance of a value in a series:"
      ],
      "id": "47fed5a6"
    },
    {
      "cell_type": "code",
      "metadata": {},
      "source": [
        "pl.Series([1,2,3,4,1]).is_first()"
      ],
      "id": "109aeaff",
      "execution_count": null,
      "outputs": []
    },
    {
      "cell_type": "markdown",
      "metadata": {},
      "source": [
        "## dtypes\n",
        "\n",
        "__Note__. Unlike pandas, polars' test functions have an underscore: `is_numeric()` instead of `isnumeric()`.\n",
        "\n",
        "\n",
        "### Testing"
      ],
      "id": "f615ed56"
    },
    {
      "cell_type": "code",
      "metadata": {},
      "source": [
        "s.is_numeric()"
      ],
      "id": "2f8f7111",
      "execution_count": null,
      "outputs": []
    },
    {
      "cell_type": "code",
      "metadata": {},
      "source": [
        "s.is_float()"
      ],
      "id": "c40e926c",
      "execution_count": null,
      "outputs": []
    },
    {
      "cell_type": "code",
      "metadata": {},
      "source": [
        "s.is_utf8()"
      ],
      "id": "2af20543",
      "execution_count": null,
      "outputs": []
    },
    {
      "cell_type": "code",
      "metadata": {},
      "source": [
        "s.is_boolean()"
      ],
      "id": "c8137be2",
      "execution_count": null,
      "outputs": []
    },
    {
      "cell_type": "code",
      "metadata": {},
      "source": [
        "s.is_datelike()"
      ],
      "id": "fd0ba129",
      "execution_count": null,
      "outputs": []
    },
    {
      "cell_type": "markdown",
      "metadata": {},
      "source": [
        "Compare with Pandas Type Checkers:"
      ],
      "id": "5dc86ddf"
    },
    {
      "cell_type": "code",
      "metadata": {},
      "source": [
        "pd.api.types.is_string_dtype(s_pandas)"
      ],
      "id": "129c540c",
      "execution_count": null,
      "outputs": []
    },
    {
      "cell_type": "code",
      "metadata": {},
      "source": [
        "pd.api.types.is_string_dtype(s)"
      ],
      "id": "e8c19c4b",
      "execution_count": null,
      "outputs": []
    },
    {
      "cell_type": "markdown",
      "metadata": {},
      "source": [
        "### Casting\n"
      ],
      "id": "fc9d822d"
    },
    {
      "cell_type": "code",
      "metadata": {},
      "source": [
        "s.cast(pl.Int32)"
      ],
      "id": "5af24c5e",
      "execution_count": null,
      "outputs": []
    },
    {
      "cell_type": "markdown",
      "metadata": {},
      "source": [
        "Things to note: \n",
        "\n",
        "- `s.cast()` is an in place operation. If you want to keep the original series, you can use `s.cast(pl.Int32).clone()`.\n",
        "- `cast()` is polars' equivalent of pandas' `astype()`.\n",
        "- For a list of dtypes see the official [documentation](see https://pola-rs.github.io/polars/py-polars/html/reference/datatypes.html).\n",
        "\n",
        "\n",
        "\n",
        "### Optimizing dtypes\n",
        "\n",
        "Find the most efficient dtype for a series:"
      ],
      "id": "5a70a142"
    },
    {
      "cell_type": "code",
      "metadata": {},
      "source": [
        "s.shrink_dtype()"
      ],
      "id": "30d8429d",
      "execution_count": null,
      "outputs": []
    },
    {
      "cell_type": "markdown",
      "metadata": {},
      "source": [
        "Also see [here](http://braaannigan.github.io/software/2022/10/31/polars-dtype-diet.html).\n",
        "\n",
        "Shrink the memory allocation to the size of the actual data (in place)."
      ],
      "id": "dd1e7cda"
    },
    {
      "cell_type": "code",
      "metadata": {},
      "source": [
        "s.shrink_to_fit() "
      ],
      "id": "a9ef02c9",
      "execution_count": null,
      "outputs": []
    },
    {
      "cell_type": "markdown",
      "metadata": {},
      "source": [
        "## Ordering and Sorting \n"
      ],
      "id": "315ad39f"
    },
    {
      "cell_type": "code",
      "metadata": {},
      "source": [
        "s.sort()"
      ],
      "id": "2fb5d210",
      "execution_count": null,
      "outputs": []
    },
    {
      "cell_type": "code",
      "metadata": {},
      "source": [
        "s.reverse()"
      ],
      "id": "2e25bf2f",
      "execution_count": null,
      "outputs": []
    },
    {
      "cell_type": "code",
      "metadata": {},
      "source": [
        "s.rank()"
      ],
      "id": "2e71dae0",
      "execution_count": null,
      "outputs": []
    },
    {
      "cell_type": "code",
      "metadata": {},
      "source": [
        "s.arg_sort() "
      ],
      "id": "8bca9194",
      "execution_count": null,
      "outputs": []
    },
    {
      "cell_type": "markdown",
      "metadata": {},
      "source": [
        "`arg_sort()` returns the indices that would sort the series. Same as R's `order()`.\n"
      ],
      "id": "20eb7b6b"
    },
    {
      "cell_type": "code",
      "metadata": {},
      "source": [
        "s.sort() == s[s.arg_sort()]"
      ],
      "id": "7c2c3711",
      "execution_count": null,
      "outputs": []
    },
    {
      "cell_type": "markdown",
      "metadata": {},
      "source": [
        "`arg_sort()` can also be used to return the original series from the sorted one:"
      ],
      "id": "1d76a060"
    },
    {
      "cell_type": "code",
      "metadata": {},
      "source": [
        "s == s[s[s.arg_sort()].arg_sort()]"
      ],
      "id": "c3044f80",
      "execution_count": null,
      "outputs": []
    },
    {
      "cell_type": "code",
      "metadata": {},
      "source": [
        "s.shuffle(seed=1)"
      ],
      "id": "fe902836",
      "execution_count": null,
      "outputs": []
    },
    {
      "cell_type": "markdown",
      "metadata": {},
      "source": [
        "## Missing\n",
        "\n",
        "Pandas users will be excited to know that polars has built in missing value support (!) for all dtypes.\n",
        "This has been a long awaited feature in the Python data science ecosystem, with implications on performance and syntax.\n"
      ],
      "id": "77f94fc1"
    },
    {
      "cell_type": "code",
      "metadata": {},
      "source": [
        "m = pl.Series(\"a\", [1, 2, None, np.nan])\n",
        "m.is_null()"
      ],
      "id": "693e2e34",
      "execution_count": null,
      "outputs": []
    },
    {
      "cell_type": "code",
      "metadata": {},
      "source": [
        "m.is_nan()"
      ],
      "id": "9591f4c3",
      "execution_count": null,
      "outputs": []
    },
    {
      "cell_type": "code",
      "metadata": {},
      "source": [
        "m1 = pl.Series(\"a\", [1, None, 2, ]) # python native None\n",
        "m2 = pl.Series(\"a\", [1, np.nan, 2, ]) # numpy's nan\n",
        "m3 = pl.Series(\"a\", [1, float('nan'), 2, ]) # python's nan\n",
        "m4 = pd.Series([1, None, 2 ])\n",
        "m5 = pd.Series([1, np.nan, 2, ])\n",
        "m6 = pd.Series([1, float('nan'), 2, ])"
      ],
      "id": "99ceef7e",
      "execution_count": null,
      "outputs": []
    },
    {
      "cell_type": "code",
      "metadata": {},
      "source": [
        "[m1.sum(), m2.sum(), m3.sum(), m4.sum(), m5.sum(), m6.sum()]"
      ],
      "id": "72138e8d",
      "execution_count": null,
      "outputs": []
    },
    {
      "cell_type": "markdown",
      "metadata": {},
      "source": [
        "Things to note:\n",
        "\n",
        "- The use of `is_null()` instead of pandas `isna()`.\n",
        "- Polars supports `np.nan` but that is a different dtype than `None` (which is a `Null` type). `None` is not considered \n",
        "- Aggregating pandas and polars series behave differently w.r.t. missing values:\n",
        "  - Both will ignore `None`; which is unsafe.\n",
        "  - Polars will not ignore `np.nan`; which is safe. Pandas is unsafe w.r.t. `np.nan`, and will ignore it. \n",
        "\n",
        "\n",
        "Filling missing values; `None` and `np.nan` are treated differently:"
      ],
      "id": "c81442a5"
    },
    {
      "cell_type": "code",
      "metadata": {},
      "source": [
        "m1.fill_null(0)"
      ],
      "id": "96651d2d",
      "execution_count": null,
      "outputs": []
    },
    {
      "cell_type": "code",
      "metadata": {},
      "source": [
        "m1.interpolate()"
      ],
      "id": "9a498da0",
      "execution_count": null,
      "outputs": []
    },
    {
      "cell_type": "code",
      "metadata": {},
      "source": [
        "m2.fill_null(0)"
      ],
      "id": "7d6f06b8",
      "execution_count": null,
      "outputs": []
    },
    {
      "cell_type": "code",
      "metadata": {},
      "source": [
        "m2.fill_nan(0)"
      ],
      "id": "6cca655d",
      "execution_count": null,
      "outputs": []
    },
    {
      "cell_type": "code",
      "metadata": {},
      "source": [
        "m1.drop_nulls()"
      ],
      "id": "a536fb48",
      "execution_count": null,
      "outputs": []
    },
    {
      "cell_type": "code",
      "metadata": {},
      "source": [
        "m1.drop_nans()"
      ],
      "id": "626b19b3",
      "execution_count": null,
      "outputs": []
    },
    {
      "cell_type": "code",
      "metadata": {},
      "source": [
        "m2.drop_nulls()"
      ],
      "id": "d153634e",
      "execution_count": null,
      "outputs": []
    },
    {
      "cell_type": "markdown",
      "metadata": {},
      "source": [
        "## Export\n"
      ],
      "id": "aacc91b0"
    },
    {
      "cell_type": "code",
      "metadata": {},
      "source": [
        "s.to_frame()"
      ],
      "id": "7a7f2da7",
      "execution_count": null,
      "outputs": []
    },
    {
      "cell_type": "code",
      "metadata": {},
      "source": [
        "s.to_list()"
      ],
      "id": "4c0e4186",
      "execution_count": null,
      "outputs": []
    },
    {
      "cell_type": "code",
      "metadata": {},
      "source": [
        "s.to_numpy()"
      ],
      "id": "0158d51b",
      "execution_count": null,
      "outputs": []
    },
    {
      "cell_type": "code",
      "metadata": {},
      "source": [
        "s.to_pandas()"
      ],
      "id": "401c57b1",
      "execution_count": null,
      "outputs": []
    },
    {
      "cell_type": "code",
      "metadata": {},
      "source": [
        "s.to_arrow()"
      ],
      "id": "c1ce433c",
      "execution_count": null,
      "outputs": []
    },
    {
      "cell_type": "markdown",
      "metadata": {},
      "source": [
        "## Strings \n",
        "Like Pandas, accessed with the `.str` attribute.\n"
      ],
      "id": "f9e3ad30"
    },
    {
      "cell_type": "code",
      "metadata": {},
      "source": [
        "st = pl.Series(\"a\", [\"foo\", \"bar\", \"baz\"])"
      ],
      "id": "8e86880a",
      "execution_count": null,
      "outputs": []
    },
    {
      "cell_type": "code",
      "metadata": {},
      "source": [
        "st.str.n_chars() # gets number of chars. In ASCII this is the same as lengths()"
      ],
      "id": "504bc20f",
      "execution_count": null,
      "outputs": []
    },
    {
      "cell_type": "code",
      "metadata": {},
      "source": [
        "st.str.lengths() # gets number of bytes in memory"
      ],
      "id": "bf54cafe",
      "execution_count": null,
      "outputs": []
    },
    {
      "cell_type": "code",
      "metadata": {},
      "source": [
        "st.str.concat(\"-\")"
      ],
      "id": "7559efcb",
      "execution_count": null,
      "outputs": []
    },
    {
      "cell_type": "code",
      "metadata": {},
      "source": [
        "st.str.contains(\"foo|tra|bar\")"
      ],
      "id": "bef1aa41",
      "execution_count": null,
      "outputs": []
    },
    {
      "cell_type": "code",
      "metadata": {},
      "source": [
        "st.str.count_match(pattern= 'o') # count literal metches"
      ],
      "id": "c73c3e1c",
      "execution_count": null,
      "outputs": []
    },
    {
      "cell_type": "markdown",
      "metadata": {},
      "source": [
        "Count pattern matches. \n",
        "Notice the `r\"<regex pattern>\"` syntax for regex (more about it [here](https://stackoverflow.com/questions/2241600/python-regex-r-prefix)). "
      ],
      "id": "379bf77d"
    },
    {
      "cell_type": "code",
      "metadata": {},
      "source": [
        "st.str.count_match(r\"\\w\") # regex for alphanumeric"
      ],
      "id": "00246de9",
      "execution_count": null,
      "outputs": []
    },
    {
      "cell_type": "code",
      "metadata": {},
      "source": [
        "st.str.ends_with(\"oo\")"
      ],
      "id": "e8c540ba",
      "execution_count": null,
      "outputs": []
    },
    {
      "cell_type": "code",
      "metadata": {},
      "source": [
        "st.str.starts_with(\"fo\")"
      ],
      "id": "886b0cdd",
      "execution_count": null,
      "outputs": []
    },
    {
      "cell_type": "markdown",
      "metadata": {},
      "source": [
        "To extract the first appearance of a pattern, use `extract`:"
      ],
      "id": "1b0cc952"
    },
    {
      "cell_type": "code",
      "metadata": {},
      "source": [
        "url = pl.Series(\"a\", [\n",
        "            \"http://vote.com/ballon_dor?candidate=messi&ref=polars\",\n",
        "\n",
        "            \"http://vote.com/ballon_dor?candidate=jorginho&ref=polars\",\n",
        "\n",
        "            \"http://vote.com/ballon_dor?candidate=ronaldo&ref=polars\"\n",
        "            ])\n",
        "\n",
        "url.str.extract(r\"=(\\w+)\", 1)"
      ],
      "id": "c2b6477c",
      "execution_count": null,
      "outputs": []
    },
    {
      "cell_type": "markdown",
      "metadata": {},
      "source": [
        "To extract all appearances of a pattern, use `extract_all`:"
      ],
      "id": "196e8db7"
    },
    {
      "cell_type": "code",
      "metadata": {},
      "source": [
        "url.str.extract_all(\"=(\\w+)\")"
      ],
      "id": "de17d02e",
      "execution_count": null,
      "outputs": []
    },
    {
      "cell_type": "code",
      "metadata": {},
      "source": [
        "st.str.ljust(8, \"*\")"
      ],
      "id": "82dd0ff8",
      "execution_count": null,
      "outputs": []
    },
    {
      "cell_type": "code",
      "metadata": {},
      "source": [
        "st.str.rjust(8, \"*\")"
      ],
      "id": "0f91b857",
      "execution_count": null,
      "outputs": []
    },
    {
      "cell_type": "code",
      "metadata": {},
      "source": [
        "st.str.lstrip('f')"
      ],
      "id": "8205a062",
      "execution_count": null,
      "outputs": []
    },
    {
      "cell_type": "code",
      "metadata": {},
      "source": [
        "st.str.rstrip('r')"
      ],
      "id": "96317090",
      "execution_count": null,
      "outputs": []
    },
    {
      "cell_type": "markdown",
      "metadata": {},
      "source": [
        "Replacing first appearance of a pattern:"
      ],
      "id": "d41061d3"
    },
    {
      "cell_type": "code",
      "metadata": {},
      "source": [
        "st.str.replace(r\"o\", \"ZZ\")  "
      ],
      "id": "42912668",
      "execution_count": null,
      "outputs": []
    },
    {
      "cell_type": "code",
      "metadata": {},
      "source": [
        "st.str.replace(r\"o+\", \"ZZ\")  "
      ],
      "id": "4cac105a",
      "execution_count": null,
      "outputs": []
    },
    {
      "cell_type": "markdown",
      "metadata": {},
      "source": [
        "Replace all appearances of a pattern:"
      ],
      "id": "d4d0fbd1"
    },
    {
      "cell_type": "code",
      "metadata": {},
      "source": [
        "st.str.replace_all(\"o\", \"ZZ\")"
      ],
      "id": "5b927c98",
      "execution_count": null,
      "outputs": []
    },
    {
      "cell_type": "markdown",
      "metadata": {},
      "source": [
        "String to list of strings. Number of spits inferred."
      ],
      "id": "53c3c746"
    },
    {
      "cell_type": "code",
      "metadata": {},
      "source": [
        "st.str.split(by=\"o\")"
      ],
      "id": "8024edf8",
      "execution_count": null,
      "outputs": []
    },
    {
      "cell_type": "code",
      "metadata": {},
      "source": [
        "s.str.split(by=\"a\", inclusive=True)"
      ],
      "id": "df680ae6",
      "execution_count": null,
      "outputs": []
    },
    {
      "cell_type": "markdown",
      "metadata": {},
      "source": [
        "String to dict of strings. Number of splits fixed."
      ],
      "id": "200ddb19"
    },
    {
      "cell_type": "code",
      "metadata": {},
      "source": [
        "st.str.split_exact(\"a\", 2)"
      ],
      "id": "79dec730",
      "execution_count": null,
      "outputs": []
    },
    {
      "cell_type": "markdown",
      "metadata": {},
      "source": [
        "String to dict of strings. Length of output fixed."
      ],
      "id": "df3eb5a2"
    },
    {
      "cell_type": "code",
      "metadata": {},
      "source": [
        "st.str.splitn(\"a\", 4)"
      ],
      "id": "1f13455f",
      "execution_count": null,
      "outputs": []
    },
    {
      "cell_type": "markdown",
      "metadata": {},
      "source": [
        "Strip white spaces."
      ],
      "id": "cfced2d1"
    },
    {
      "cell_type": "code",
      "metadata": {},
      "source": [
        "st.str.rjust(8, \" \").str.strip()"
      ],
      "id": "c202d2c5",
      "execution_count": null,
      "outputs": []
    },
    {
      "cell_type": "code",
      "metadata": {},
      "source": [
        "st.str.to_uppercase()"
      ],
      "id": "0aabffc9",
      "execution_count": null,
      "outputs": []
    },
    {
      "cell_type": "code",
      "metadata": {},
      "source": [
        "st.str.to_lowercase()"
      ],
      "id": "558456a1",
      "execution_count": null,
      "outputs": []
    },
    {
      "cell_type": "code",
      "metadata": {},
      "source": [
        "st.str.zfill(5)"
      ],
      "id": "6a115029",
      "execution_count": null,
      "outputs": []
    },
    {
      "cell_type": "markdown",
      "metadata": {},
      "source": [
        "## Date and Time\n",
        "\n",
        "There are 4 datetime dtypes in polars:\n",
        "\n",
        "1. Date: A date, without hours. Generated with `pl.Date()`.\n",
        "2. Datetime: Date and hours. Generated with `pl.Datetime()`.\n",
        "3. Duration: As the name suggests. Similar t o `timedelta` in pandas. Generated with `pl.Duration()`.\n",
        "4. Time: Hour of day. Generated with `pl.Time()`.\n",
        "\n",
        "\n",
        "### Converting from Strings\n"
      ],
      "id": "616369ca"
    },
    {
      "cell_type": "code",
      "metadata": {},
      "source": [
        "sd = pl.Series(\n",
        "    \"date\",\n",
        "    [\n",
        "        \"2021-04-22\",\n",
        "        \"2022-01-04 00:00:00\",\n",
        "        \"01/31/22\",\n",
        "        \"Sun Jul  8 00:34:60 2001\",\n",
        "    ],\n",
        ")\n",
        "sd.str.strptime(pl.Date, \"%F\", strict=False)"
      ],
      "id": "efcd3fcd",
      "execution_count": null,
      "outputs": []
    },
    {
      "cell_type": "code",
      "metadata": {},
      "source": [
        "sd.str.strptime(pl.Date, \"%F %T\",strict=False)"
      ],
      "id": "8fe1001e",
      "execution_count": null,
      "outputs": []
    },
    {
      "cell_type": "code",
      "metadata": {},
      "source": [
        "sd.str.strptime(pl.Date, \"%D\", strict=False)"
      ],
      "id": "f3a83ec9",
      "execution_count": null,
      "outputs": []
    },
    {
      "cell_type": "markdown",
      "metadata": {},
      "source": [
        "### Time Range\n"
      ],
      "id": "3b3e76af"
    },
    {
      "cell_type": "code",
      "metadata": {},
      "source": [
        "from datetime import datetime, timedelta\n",
        "\n",
        "start = datetime(year= 2001, month=2, day=2)\n",
        "stop = datetime(year=2001, month=2, day=3)\n",
        "\n",
        "date = pl.date_range(\n",
        "  low=start, \n",
        "  high=stop, \n",
        "  interval=timedelta(seconds=500*61))\n",
        "date"
      ],
      "id": "892d1f27",
      "execution_count": null,
      "outputs": []
    },
    {
      "cell_type": "markdown",
      "metadata": {},
      "source": [
        "Things to note:\n",
        "\n",
        "- How else could I have constructed this series? What other types are accepted as `low` and `high`? \n",
        "- `pl.date_range` may return a series of dtype `Date` or `Datetime`. This depens of the granularity of the inputs. \n"
      ],
      "id": "b953b1b1"
    },
    {
      "cell_type": "code",
      "metadata": {},
      "source": [
        "date.dtype"
      ],
      "id": "9b284e0b",
      "execution_count": null,
      "outputs": []
    },
    {
      "cell_type": "markdown",
      "metadata": {},
      "source": [
        "Cast to different time unit. \n",
        "May be useful when joining datasets, and the time unit is different."
      ],
      "id": "3a4c4e98"
    },
    {
      "cell_type": "code",
      "metadata": {},
      "source": [
        "date.dt.cast_time_unit(tu=\"ms\")"
      ],
      "id": "9dd025cc",
      "execution_count": null,
      "outputs": []
    },
    {
      "cell_type": "markdown",
      "metadata": {},
      "source": [
        "### From Date to String\n"
      ],
      "id": "9df55412"
    },
    {
      "cell_type": "code",
      "metadata": {},
      "source": [
        "date.dt.strftime(\"%Y-%m-%d\")"
      ],
      "id": "6f45419f",
      "execution_count": null,
      "outputs": []
    },
    {
      "cell_type": "markdown",
      "metadata": {},
      "source": [
        "### Ecxtract Time Sub-Units\n"
      ],
      "id": "fc6fd47e"
    },
    {
      "cell_type": "code",
      "metadata": {},
      "source": [
        "date.dt.second()"
      ],
      "id": "f7b06cce",
      "execution_count": null,
      "outputs": []
    },
    {
      "cell_type": "code",
      "metadata": {},
      "source": [
        "date.dt.minute()"
      ],
      "id": "95ecf5d8",
      "execution_count": null,
      "outputs": []
    },
    {
      "cell_type": "code",
      "metadata": {},
      "source": [
        "date.dt.hour()"
      ],
      "id": "b9abf48e",
      "execution_count": null,
      "outputs": []
    },
    {
      "cell_type": "code",
      "metadata": {},
      "source": [
        "date.dt.day()"
      ],
      "id": "2c854002",
      "execution_count": null,
      "outputs": []
    },
    {
      "cell_type": "code",
      "metadata": {},
      "source": [
        "date.dt.week()"
      ],
      "id": "c2ad528d",
      "execution_count": null,
      "outputs": []
    },
    {
      "cell_type": "code",
      "metadata": {},
      "source": [
        "date.dt.weekday()"
      ],
      "id": "4357f742",
      "execution_count": null,
      "outputs": []
    },
    {
      "cell_type": "code",
      "metadata": {},
      "source": [
        "date.dt.month()"
      ],
      "id": "77d819f1",
      "execution_count": null,
      "outputs": []
    },
    {
      "cell_type": "code",
      "metadata": {},
      "source": [
        "date.dt.year()"
      ],
      "id": "52c3b68b",
      "execution_count": null,
      "outputs": []
    },
    {
      "cell_type": "code",
      "metadata": {},
      "source": [
        "date.dt.ordinal_day() # day in year"
      ],
      "id": "96bce47d",
      "execution_count": null,
      "outputs": []
    },
    {
      "cell_type": "code",
      "metadata": {},
      "source": [
        "date.dt.quarter()"
      ],
      "id": "547d8465",
      "execution_count": null,
      "outputs": []
    },
    {
      "cell_type": "markdown",
      "metadata": {},
      "source": [
        "### Durations \n",
        "\n",
        "Equivalent to Pandas `period` dtype.\n"
      ],
      "id": "aed89ba5"
    },
    {
      "cell_type": "code",
      "metadata": {},
      "source": [
        "diffs = date.diff()\n",
        "diffs"
      ],
      "id": "7cee03cc",
      "execution_count": null,
      "outputs": []
    },
    {
      "cell_type": "code",
      "metadata": {},
      "source": [
        "diffs.dtype"
      ],
      "id": "c6a4c7b9",
      "execution_count": null,
      "outputs": []
    },
    {
      "cell_type": "code",
      "metadata": {},
      "source": [
        "diffs.dt.seconds()"
      ],
      "id": "066b7298",
      "execution_count": null,
      "outputs": []
    },
    {
      "cell_type": "code",
      "metadata": {},
      "source": [
        "diffs.dt.minutes()"
      ],
      "id": "4156ee77",
      "execution_count": null,
      "outputs": []
    },
    {
      "cell_type": "code",
      "metadata": {},
      "source": [
        "diffs.dt.days()"
      ],
      "id": "e42f0643",
      "execution_count": null,
      "outputs": []
    },
    {
      "cell_type": "code",
      "metadata": {},
      "source": [
        "diffs.dt.hours()"
      ],
      "id": "01f1cc9d",
      "execution_count": null,
      "outputs": []
    },
    {
      "cell_type": "markdown",
      "metadata": {},
      "source": [
        "### Date Aggregations\n",
        "Note that aggregating dates, returns a `datetime` type object. \n"
      ],
      "id": "cc57342a"
    },
    {
      "cell_type": "code",
      "metadata": {},
      "source": [
        "date.dt.max()"
      ],
      "id": "73dd1184",
      "execution_count": null,
      "outputs": []
    },
    {
      "cell_type": "code",
      "metadata": {},
      "source": [
        "date.dt.min()"
      ],
      "id": "adc25df4",
      "execution_count": null,
      "outputs": []
    },
    {
      "cell_type": "markdown",
      "metadata": {},
      "source": [
        "I have no idea what is an \"average date\", but it can be computed."
      ],
      "id": "22b611c7"
    },
    {
      "cell_type": "code",
      "metadata": {},
      "source": [
        "date.dt.mean()"
      ],
      "id": "1a4525d4",
      "execution_count": null,
      "outputs": []
    },
    {
      "cell_type": "code",
      "metadata": {},
      "source": [
        "date.dt.median()"
      ],
      "id": "cacb6df0",
      "execution_count": null,
      "outputs": []
    },
    {
      "cell_type": "markdown",
      "metadata": {},
      "source": [
        "### Data Transformations\n",
        "\n",
        "Notice the syntax of `offset_by`. It is similar to R's `lubridate` package."
      ],
      "id": "1f3e049d"
    },
    {
      "cell_type": "code",
      "metadata": {},
      "source": [
        "date.dt.offset_by(by=\"1y2m20d\")"
      ],
      "id": "1309819c",
      "execution_count": null,
      "outputs": []
    },
    {
      "cell_type": "markdown",
      "metadata": {},
      "source": [
        "Nagative offset is also allowed."
      ],
      "id": "b70574c6"
    },
    {
      "cell_type": "code",
      "metadata": {},
      "source": [
        "date.dt.offset_by(by=\"-1y2m20d\")"
      ],
      "id": "947c85d8",
      "execution_count": null,
      "outputs": []
    },
    {
      "cell_type": "code",
      "metadata": {},
      "source": [
        "date.dt.round(\"1y\")"
      ],
      "id": "10e2bdd7",
      "execution_count": null,
      "outputs": []
    },
    {
      "cell_type": "code",
      "metadata": {},
      "source": [
        "date2 = date.dt.truncate(\"30m\") # round to period\n",
        "pd.crosstab(date,date2)"
      ],
      "id": "6e5e2b74",
      "execution_count": null,
      "outputs": []
    },
    {
      "cell_type": "markdown",
      "metadata": {},
      "source": [
        "## Comparing Series "
      ],
      "id": "95a34471"
    },
    {
      "cell_type": "code",
      "metadata": {},
      "source": [
        "s.series_equal(pl.Series(\"a\", [1, 2, 3]))"
      ],
      "id": "cab0d2e9",
      "execution_count": null,
      "outputs": []
    },
    {
      "cell_type": "markdown",
      "metadata": {},
      "source": [
        "# head\n",
        "\n",
        "\n",
        "\n",
        "\n",
        "\n",
        "\n",
        "\n",
        "\n",
        "\n",
        "# DataFrames\n",
        "\n",
        "General:\n",
        "1. There is no row index (like R's `data.frame`, `data.table`, and `tibble`; unlike Python's `pandas`). \n",
        "1. Will not accept duplicat column names (unlike pandas).\n",
        "\n",
        "\n",
        "## DataFrame Hosekeeping\n",
        "\n",
        "A frame can be created as you would expect. \n",
        "From a dictionary of series, a numpy array, a pandas dataframe, or a list of polars (or pandas) series, etc.\n"
      ],
      "id": "17b875c1"
    },
    {
      "cell_type": "code",
      "metadata": {},
      "source": [
        "dataframe = pl.DataFrame({\"integer\": [1, 2, 3], \n",
        "                          \"date\": [\n",
        "                              (datetime(2022, 1, 1)), \n",
        "                              (datetime(2022, 1, 2)), \n",
        "                              (datetime(2022, 1, 3))\n",
        "                          ], \n",
        "                          \"float\":[4.0, 5.0, 6.0]})\n",
        "\n",
        "dataframe"
      ],
      "id": "e696c78d",
      "execution_count": null,
      "outputs": []
    },
    {
      "cell_type": "code",
      "metadata": {},
      "source": [
        "print(dataframe)"
      ],
      "id": "c245bb67",
      "execution_count": null,
      "outputs": []
    },
    {
      "cell_type": "markdown",
      "metadata": {},
      "source": [
        "Things to note:\n",
        "\n",
        "1. \n"
      ],
      "id": "e4d185e0"
    },
    {
      "cell_type": "markdown",
      "metadata": {},
      "source": [
        "## Statistical Aggregations\n",
        "\n",
        "## Filtering Rows\n",
        "\n",
        "## Selecting Columns\n",
        "\n",
        "\n",
        "\n",
        "Select cols along time_unit and convert\n",
        "This may be useful when joining multiple dataframes with different time units."
      ],
      "id": "fccb4156"
    },
    {
      "cell_type": "code",
      "metadata": {},
      "source": [
        "# df.with_column(\n",
        "#     pl.col(pl.Datetime(\"ns\")).dt.cast_time_unit(tu=\"ms\")\n",
        "# )            "
      ],
      "id": "b033e1bc",
      "execution_count": null,
      "outputs": []
    },
    {
      "cell_type": "markdown",
      "metadata": {},
      "source": [
        "## Joins\n",
        "\n",
        "## Reshaping\n",
        "\n",
        "## Groupby\n",
        "\n",
        "## Query Planning and Optimization\n",
        "\n",
        "- describe_plan\n",
        "- show_graph\n",
        "- describe_optimized_plan\n",
        "\n",
        "\n",
        "\n",
        "# I/O\n",
        "\n",
        "## Import\n",
        "\n",
        "- From csv\n",
        "- From parquet\n",
        "- From multiple parquets\n",
        "- From Arrow DataSet\n",
        "\n",
        "\n",
        "\n",
        "Warnings:\n",
        "\n",
        "1. String caching\n",
        "\n",
        "\n",
        "## Export\n",
        "\n",
        "\n",
        "\n",
        "\n",
        "# Plotting\n",
        "\n",
        "# Polars and ML\n",
        "\n",
        "# Strings\n",
        "\n",
        "# Datatimes\n",
        "\n",
        "\n",
        "# Config\n"
      ],
      "id": "43c816dc"
    },
    {
      "cell_type": "code",
      "metadata": {},
      "source": [
        "list(dir(pl.Config))"
      ],
      "id": "aad9bf63",
      "execution_count": null,
      "outputs": []
    }
  ],
  "metadata": {
    "kernelspec": {
      "name": "python3",
      "language": "python",
      "display_name": "Python 3 (ipykernel)"
    }
  },
  "nbformat": 4,
  "nbformat_minor": 5
}
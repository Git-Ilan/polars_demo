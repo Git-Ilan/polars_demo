{
 "cells": [
  {
   "cell_type": "raw",
   "id": "bb1fa358",
   "metadata": {},
   "source": [
    "---\n",
    "title: Intro 2 Polars\n",
    "execute:\n",
    "  eval: true\n",
    "  warning: true\n",
    "  error: true\n",
    "  keep-ipynb: true\n",
    "  cache: true\n",
    "pdf-engine: lualatex\n",
    "html:\n",
    "  code-tools: false\n",
    "  fold-code: false\n",
    "  author: Jonathan D. Rosenblatt\n",
    "  data: 02-27-2023\n",
    "  toc: false\n",
    "  number-sections: true\n",
    "  number-depth: 3\n",
    "  embed-resources: true\n",
    "---"
   ]
  },
  {
   "cell_type": "markdown",
   "id": "e39cdae6",
   "metadata": {},
   "source": [
    "# Background {#sec-background}\n",
    "\n",
    "\n",
    "## Ritchie Vink, Rust, Apache Arrow and Covid\n",
    "\n",
    "[Here](https://www.ritchievink.com/blog/2021/02/28/i-wrote-one-of-the-fastest-dataframe-libraries/) is the story, by the creator of Polars.\n",
    "\n",
    "\n",
    "## Who Can Benefit from Polars?\n",
    "\n",
    "- Researcher (DS, Analyst, Statistician, etc):\n",
    "  - Working on their local machine. \n",
    "  - Working on a cloud machine (SageMaker, EC2).\n",
    "- Production system:\n",
    "  - Running on a dedicated server. \n",
    "  - Running on \"serverless\" (e.g. AWS Lambda, Google Cloud Functions).\n",
    "\n",
    "## The DataFrame Landscape\n",
    "\n",
    "Initially there were R's `data.frame`. \n",
    "R has evolved, and it now offers `tibble`s and `data.table`s.\n",
    "Python had only `Pandas` for years. \n",
    "Then the Python ecosystem exploded, and now we have:\n",
    "\n",
    "-  [Pandas](https://Pandas.pydata.org/): The original Python dataframe module. Build by Wes McKinney, on top of numpy.\n",
    "-  [Polars](https://www.pola.rs/): A new dataframe module, build by Ritchie Vink, on top of Rust and Apache Arrow.\n",
    "-  [datatable](https://datatable.readthedocs.io/en/latest/): An attempt to recreate R's [data.table](https://github.com/Rdatatable/data.table) API and (crazy) speed in Python. \n",
    "-  [Dask](https://www.dask.org/): A distributed computing engine for Python, with support for distributing data over multiple processes running Pandas (or numpy, Polars, etc).\n",
    "-  [Vaex](https://vaex.io/): A high performance Python library for lazy Out-of-Core DataFrames (similar to dask, but with a different API).\n",
    "-  [Modin](https://github.com/modin-project/modin): A drop-in distributed  replacement for Pandas, built on top of [Ray](https://www.ray.io/). \n",
    "-  [DuckDB](https://duckdb.org/): An embeddable SQL OLAP database management system. These are dataframe that are stored on disk, compute on a single process, and queried with SQL or pythonic API.\n",
    "- [Daft](https://www.getdaft.io/): A distributed dataframe library built for \"Complex Data\" (data that doesn't usually fit in a SQL table such as images, videos, documents etc). \n",
    "-  [Fugue](https://fugue-tutorials.readthedocs.io/): A dataframe library that allows you to write SQL-like code, and execute it on different backends (e.g. Spark, Dask, Pandas, Polars, etc).\n",
    "-  [pySpark](https://spark.apache.org/docs/latest/api/python/index.html): The Python API for Spark. Spark is a distributed computing engine, with support for distributing data over multiple processes running Pandas (or numpy, Polars, etc).\n",
    "-  [CUDF](https://github.com/rapidsai/cudf): A GPU accelerated dataframe library, build on top of Apache Arrow.\n",
    "\n",
    "\n",
    "\n",
    "See [here](https://pola-rs.github.io/Polars-book/user-guide/misc/alternatives/) and [here](https://www.getdaft.io/projects/docs/en/latest/dataframe_comparison.html) for more details. \n",
    "\n",
    "\n",
    "\n",
    "\n",
    "\n",
    "# Motivation {#sec-motivation}\n",
    "\n",
    "Each of the following, alone(!), is amazing.\n",
    "\n",
    "1. Small memory footprint.\n",
    "1. Native dtypes: missing, strings.\n",
    "2. Lazy evaluation allows query Planning.\n",
    "3. Streaming engine: No need to load entire dataset into memory.\n",
    "4. Out of the box parallelism: Fast and informative messages for debugging.\n",
    "5. Strict typing: This means the dtype of output is defined by the operation and not bu the input. This is both safer, and allows static analysis.\n",
    "\n",
    "\n",
    "## Setting Up the Environment\n",
    "\n",
    "At this point you may want to create and activate a [venv](https://realpython.com/python-virtual-environments-a-primer/) for this project. \n"
   ]
  },
  {
   "cell_type": "code",
   "execution_count": 1,
   "id": "07aa5e82",
   "metadata": {},
   "outputs": [],
   "source": [
    "# %pip install --upgrade pip\n",
    "# %pip install --upgrade polars\n",
    "# %pip install --upgrade pyarrow\n",
    "# %pip install --upgrade Pandas\n",
    "# %pip install --upgrade plotly\n",
    "# %pip freeze > requirements.txt\n",
    "# %pip install -r requirements.txt"
   ]
  },
  {
   "cell_type": "code",
   "execution_count": 2,
   "id": "Polars-version",
   "metadata": {},
   "outputs": [
    {
     "name": "stdout",
     "output_type": "stream",
     "text": [
      "Name: polars\r\n"
     ]
    },
    {
     "name": "stdout",
     "output_type": "stream",
     "text": [
      "Version: 0.20.14\r\n",
      "Summary: Blazingly fast DataFrame library\r\n",
      "Home-page: \r\n",
      "Author: \r\n",
      "Author-email: Ritchie Vink <ritchie46@gmail.com>\r\n",
      "License: \r\n",
      "Location: /Users/johnros/workspace/polars_demo/.venv/lib/python3.9/site-packages\r\n",
      "Requires: \r\n",
      "Required-by: \r\n"
     ]
    },
    {
     "name": "stdout",
     "output_type": "stream",
     "text": [
      "Note: you may need to restart the kernel to use updated packages.\n"
     ]
    }
   ],
   "source": [
    "#| label: Polars-version\n",
    "%pip show Polars # check you Polars version"
   ]
  },
  {
   "cell_type": "code",
   "execution_count": 3,
   "id": "Pandas-version",
   "metadata": {},
   "outputs": [
    {
     "name": "stdout",
     "output_type": "stream",
     "text": [
      "Name: pandas\r\n",
      "Version: 2.2.0\r\n",
      "Summary: Powerful data structures for data analysis, time series, and statistics\r\n",
      "Home-page: https://pandas.pydata.org\r\n",
      "Author: \r\n",
      "Author-email: The Pandas Development Team <pandas-dev@python.org>\r\n",
      "License: BSD 3-Clause License\r\n",
      "        \r\n",
      "        Copyright (c) 2008-2011, AQR Capital Management, LLC, Lambda Foundry, Inc. and PyData Development Team\r\n",
      "        All rights reserved.\r\n",
      "        \r\n",
      "        Copyright (c) 2011-2023, Open source contributors.\r\n",
      "        \r\n",
      "        Redistribution and use in source and binary forms, with or without\r\n",
      "        modification, are permitted provided that the following conditions are met:\r\n",
      "        \r\n",
      "        * Redistributions of source code must retain the above copyright notice, this\r\n",
      "          list of conditions and the following disclaimer.\r\n",
      "        \r\n",
      "        * Redistributions in binary form must reproduce the above copyright notice,\r\n",
      "          this list of conditions and the following disclaimer in the documentation\r\n",
      "          and/or other materials provided with the distribution.\r\n",
      "        \r\n",
      "        * Neither the name of the copyright holder nor the names of its\r\n",
      "          contributors may be used to endorse or promote products derived from\r\n",
      "          this software without specific prior written permission.\r\n",
      "        \r\n",
      "        THIS SOFTWARE IS PROVIDED BY THE COPYRIGHT HOLDERS AND CONTRIBUTORS \"AS IS\"\r\n",
      "        AND ANY EXPRESS OR IMPLIED WARRANTIES, INCLUDING, BUT NOT LIMITED TO, THE\r\n",
      "        IMPLIED WARRANTIES OF MERCHANTABILITY AND FITNESS FOR A PARTICULAR PURPOSE ARE\r\n",
      "        DISCLAIMED. IN NO EVENT SHALL THE COPYRIGHT HOLDER OR CONTRIBUTORS BE LIABLE\r\n",
      "        FOR ANY DIRECT, INDIRECT, INCIDENTAL, SPECIAL, EXEMPLARY, OR CONSEQUENTIAL\r\n",
      "        DAMAGES (INCLUDING, BUT NOT LIMITED TO, PROCUREMENT OF SUBSTITUTE GOODS OR\r\n",
      "        SERVICES; LOSS OF USE, DATA, OR PROFITS; OR BUSINESS INTERRUPTION) HOWEVER\r\n",
      "        CAUSED AND ON ANY THEORY OF LIABILITY, WHETHER IN CONTRACT, STRICT LIABILITY,\r\n",
      "        OR TORT (INCLUDING NEGLIGENCE OR OTHERWISE) ARISING IN ANY WAY OUT OF THE USE\r\n",
      "        OF THIS SOFTWARE, EVEN IF ADVISED OF THE POSSIBILITY OF SUCH DAMAGE.\r\n",
      "Location: /Users/johnros/workspace/polars_demo/.venv/lib/python3.9/site-packages\r\n",
      "Requires: numpy, python-dateutil, pytz, tzdata\r\n",
      "Required-by: category-encoders, seaborn, statsmodels\r\n"
     ]
    },
    {
     "name": "stdout",
     "output_type": "stream",
     "text": [
      "Note: you may need to restart the kernel to use updated packages.\n"
     ]
    }
   ],
   "source": [
    "#| label: Pandas-version\n",
    "%pip show Pandas # check you Polars version"
   ]
  },
  {
   "cell_type": "code",
   "execution_count": 4,
   "id": "preliminaries",
   "metadata": {},
   "outputs": [],
   "source": [
    "#| label: preliminaries\n",
    "\n",
    "import polars as pl\n",
    "pl.Config(fmt_str_lengths=50)\n",
    "import polars.selectors as cs\n",
    "\n",
    "import pandas as pd\n",
    "import numpy as np\n",
    "import pyarrow as pa\n",
    "import plotly.express as px\n",
    "import string\n",
    "import random\n",
    "import os\n",
    "import sys\n",
    "%matplotlib inline \n",
    "import matplotlib.pyplot as plt\n",
    "from datetime import datetime\n",
    "\n",
    "# Following two lines only required to view plotly when rendering from VScode. \n",
    "import plotly.io as pio\n",
    "# pio.renderers.default = \"plotly_mimetype+notebook_connected+notebook\"\n",
    "pio.renderers.default = \"plotly_mimetype+notebook\""
   ]
  },
  {
   "cell_type": "markdown",
   "id": "a4d87f75",
   "metadata": {},
   "source": [
    "## Memory Footprint\n",
    "\n",
    "### Memory Footprint of Storage\n",
    "\n",
    "Comparing Polars to Pandas- the memory footprint of a series of strings. \n",
    "\n",
    "Polars. "
   ]
  },
  {
   "cell_type": "code",
   "execution_count": 5,
   "id": "20ea4204",
   "metadata": {},
   "outputs": [
    {
     "data": {
      "text/plain": [
       "0.14901161193847656"
      ]
     },
     "execution_count": 5,
     "metadata": {},
     "output_type": "execute_result"
    }
   ],
   "source": [
    "letters = pl.Series(list(string.ascii_letters))\n",
    "\n",
    "n = int(10e6)\n",
    "letter1 = letters.sample(n,with_replacement=True)\n",
    "letter1.estimated_size(unit='gb') "
   ]
  },
  {
   "cell_type": "markdown",
   "id": "c3a130ec",
   "metadata": {},
   "source": [
    "Pandas before Pandas 2.0. "
   ]
  },
  {
   "cell_type": "code",
   "execution_count": 6,
   "id": "1c70ee86",
   "metadata": {},
   "outputs": [
    {
     "data": {
      "text/plain": [
       "0.58"
      ]
     },
     "execution_count": 6,
     "metadata": {},
     "output_type": "execute_result"
    }
   ],
   "source": [
    "# Pandas with Ver 1.x backend\n",
    "letter1_Pandas = letter1.to_pandas(use_pyarrow_extension_array=False) \n",
    "letter1_Pandas.memory_usage(deep=True, index=False) / 1e9"
   ]
  },
  {
   "cell_type": "markdown",
   "id": "eb4d9cb2",
   "metadata": {},
   "source": [
    "Pandas after Pandas 2.0, with the Pyarrow backend (Apr 2023)."
   ]
  },
  {
   "cell_type": "code",
   "execution_count": 7,
   "id": "9999908d",
   "metadata": {},
   "outputs": [
    {
     "data": {
      "text/plain": [
       "0.09"
      ]
     },
     "execution_count": 7,
     "metadata": {},
     "output_type": "execute_result"
    }
   ],
   "source": [
    "letter1_Pandas = letter1.to_pandas(use_pyarrow_extension_array=True) \n",
    "letter1_Pandas.memory_usage(deep=True, index=False) / 1e9"
   ]
  },
  {
   "cell_type": "markdown",
   "id": "62362e76",
   "metadata": {},
   "source": [
    "### Operating From Disk to Disk\n",
    "\n",
    "What if my data does not fit into RAM? \n",
    "Turns out you manifest a lazy frame into disk, instead of RAM, thus avoiding the need to load the entire dataset into memory. \n",
    "Alas, the function that does so, [sink_parquet()](https://pola-rs.github.io/Polars/py-Polars/html/reference/lazyframe/api/Polars.LazyFrame.sink_parquet.html), has currently limited functionality. \n",
    "It is certainly worth keeping an eye on this function, as it matures.\n",
    "\n",
    "::: {.callout-note}\n",
    "Although the potential of `sink_parquet()` is amazing, I find that it currently does not support complicated queries. \n",
    ":::\n",
    "\n",
    "\n",
    "## Lazy Frames and Query Planning {#sec-query-planning}\n",
    "\n",
    "Consider a sort operation that follows a filter operation. \n",
    "Ideally, filter precedes the sort, but we did not ensure this... \n",
    "We now demonstrate that Polars' query planner will do it for you. \n",
    "En passant, we see Polars is more efficient also without the query planner.\n",
    "\n",
    "\n",
    "Polars' Eager evaluation in the **wrong** order. \n",
    "Sort then filter.\n"
   ]
  },
  {
   "cell_type": "code",
   "execution_count": 8,
   "id": "91c8252c",
   "metadata": {},
   "outputs": [
    {
     "name": "stdout",
     "output_type": "stream",
     "text": [
      "491 ms ± 20.1 ms per loop (mean ± std. dev. of 2 runs, 2 loops each)\n"
     ]
    }
   ],
   "source": [
    "%timeit -n 2 -r 2 letter1.sort().filter(letter1.is_in(['a','b','c']))"
   ]
  },
  {
   "cell_type": "markdown",
   "id": "62102f2a",
   "metadata": {},
   "source": [
    "Polars' Eager evaluation in the **right** order. \n",
    "Filter then sort.\n"
   ]
  },
  {
   "cell_type": "code",
   "execution_count": 9,
   "id": "f1065049",
   "metadata": {},
   "outputs": [
    {
     "name": "stdout",
     "output_type": "stream",
     "text": [
      "72.2 ms ± 298 µs per loop (mean ± std. dev. of 2 runs, 2 loops each)\n"
     ]
    }
   ],
   "source": [
    "%timeit -n 2 -r 2 letter1.filter(letter1.is_in(['a','b','c'])).sort()"
   ]
  },
  {
   "cell_type": "code",
   "execution_count": 10,
   "id": "277800f3",
   "metadata": {},
   "outputs": [],
   "source": [
    "latter1_lazy = letter1.alias('letters').to_frame().lazy()"
   ]
  },
  {
   "cell_type": "markdown",
   "id": "9a8299d6",
   "metadata": {},
   "source": [
    "Polars' Lazy evaluation in the **wrong** order; **without** query planning"
   ]
  },
  {
   "cell_type": "code",
   "execution_count": 11,
   "id": "820c9776",
   "metadata": {},
   "outputs": [
    {
     "name": "stdout",
     "output_type": "stream",
     "text": [
      "444 ms ± 6.37 ms per loop (mean ± std. dev. of 2 runs, 2 loops each)\n"
     ]
    }
   ],
   "source": [
    "%timeit -n 2 -r 2 latter1_lazy.sort(by='letters').filter(pl.col('letters').is_in(['a','b','c'])).collect(no_optimization=True)"
   ]
  },
  {
   "cell_type": "markdown",
   "id": "a6d951e7",
   "metadata": {},
   "source": [
    "Polars' Lazy evaluation in the **wrong** order; **with** query planning"
   ]
  },
  {
   "cell_type": "code",
   "execution_count": 12,
   "id": "a49180be",
   "metadata": {},
   "outputs": [
    {
     "name": "stdout",
     "output_type": "stream",
     "text": [
      "75.9 ms ± 2.68 ms per loop (mean ± std. dev. of 2 runs, 2 loops each)\n"
     ]
    }
   ],
   "source": [
    "%timeit -n 2 -r 2 latter1_lazy.sort(by='letters').filter(pl.col('letters').is_in(['a','b','c'])).collect()"
   ]
  },
  {
   "cell_type": "markdown",
   "id": "69bc7928",
   "metadata": {},
   "source": [
    "Things to note:\n",
    "\n",
    "1. A lazy evaluation was triggered when `df.lazy()` converted the Polars DataFrame to a Polars LazyFrame.\n",
    "2. The query planner worked: The Lazy evaluation in the wrong order timed as much as an eager evaluation in the right order; even when accounting for the overhead of converting the frame from eager to lazy.\n",
    "\n",
    "Now compare to Pandas...\n",
    "\n",
    "Pandas' eager evaluation in the **wrong** order.\n"
   ]
  },
  {
   "cell_type": "code",
   "execution_count": 13,
   "id": "689c8980",
   "metadata": {},
   "outputs": [
    {
     "name": "stdout",
     "output_type": "stream",
     "text": [
      "2.24 s ± 0 ns per loop (mean ± std. dev. of 1 run, 1 loop each)\n"
     ]
    }
   ],
   "source": [
    "%timeit -n1 -r1 letter1_Pandas.sort_values().loc[lambda x: x.isin(['a','b','c'])]"
   ]
  },
  {
   "cell_type": "markdown",
   "id": "5da00514",
   "metadata": {},
   "source": [
    "Pandas eager evaluation in the **right** order: Filter then sort.\n"
   ]
  },
  {
   "cell_type": "code",
   "execution_count": 14,
   "id": "4a119afb",
   "metadata": {},
   "outputs": [
    {
     "name": "stdout",
     "output_type": "stream",
     "text": [
      "134 ms ± 0 ns per loop (mean ± std. dev. of 1 run, 1 loop each)\n"
     ]
    }
   ],
   "source": [
    "%timeit -n1 -r1 letter1_Pandas.loc[lambda x: x.isin(['a','b','c'])].sort_values()"
   ]
  },
  {
   "cell_type": "markdown",
   "id": "6ffd809c",
   "metadata": {},
   "source": [
    "Pandas without lambda functions syntax; looks slightly better.\n"
   ]
  },
  {
   "cell_type": "code",
   "execution_count": 15,
   "id": "f9020d35",
   "metadata": {},
   "outputs": [
    {
     "name": "stdout",
     "output_type": "stream",
     "text": [
      "131 ms ± 503 µs per loop (mean ± std. dev. of 2 runs, 2 loops each)\n"
     ]
    }
   ],
   "source": [
    "%timeit -n 2 -r 2 letter1_Pandas.loc[letter1_Pandas.isin(['a','b','c'])].sort_values()"
   ]
  },
  {
   "cell_type": "markdown",
   "id": "b865402c",
   "metadata": {},
   "source": [
    "Things to note:\n",
    "\n",
    "1. Query planning works!\n",
    "2. Pandas has dramatically improved since <2.0.0. \n",
    "3. Lambda functions are always slow (both Pandas and Polars).\n",
    "\n",
    "\n",
    "## Optimized for Within-Column Operations\n",
    "\n",
    "Polars seamlessly parallelizes over columns (also within, when possible). \n",
    "As the number of columns in the data grows, we would expect fixed runtime until all cores are used, and then linear scaling. \n",
    "The following code demonstrates this idea, using a simple sum-within-column.\n"
   ]
  },
  {
   "cell_type": "code",
   "execution_count": 16,
   "id": "27593458",
   "metadata": {},
   "outputs": [],
   "source": [
    "# Mac users with Apple silicon (M1 or M2) may also want to benchmark Apples' mlx:\n",
    "# %pip install mlx\n",
    "import mlx.core as mx"
   ]
  },
  {
   "cell_type": "code",
   "execution_count": 17,
   "id": "b3d7a4c3",
   "metadata": {},
   "outputs": [],
   "source": [
    "# Maker an array of floats.\n",
    "A_numpy = np.random.randn(int(1e6), 10)\n",
    "\n",
    "A_numpy = A_numpy.copy()\n",
    "A_Polars = pl.DataFrame(A_numpy)\n",
    "A_Pandas_numpy = pd.DataFrame(A_numpy)\n",
    "A_Pandas_arrow = pd.DataFrame(A_numpy, dtype=\"float32[pyarrow]\")\n",
    "# A_arrow = pa.Table.from_Pandas(A_Pandas_numpy) # no sum method\n",
    "A_mlx = mx.array(A_numpy)"
   ]
  },
  {
   "cell_type": "markdown",
   "id": "31168fc5",
   "metadata": {},
   "source": [
    "Candidates currently omited:\n",
    "\n",
    "1. JAX\n",
    "2. PyTorch\n",
    "3. TensorFlow\n",
    "4. ...?\n",
    "\n",
    "\n",
    "\n",
    "### Summing Over Columns\n"
   ]
  },
  {
   "cell_type": "code",
   "execution_count": 18,
   "id": "226ec0b4",
   "metadata": {},
   "outputs": [
    {
     "name": "stdout",
     "output_type": "stream",
     "text": [
      "7.93 ms ± 33 µs per loop (mean ± std. dev. of 2 runs, 4 loops each)\n"
     ]
    }
   ],
   "source": [
    "%timeit -n 4 -r 2 A_numpy.sum(axis=0)"
   ]
  },
  {
   "cell_type": "code",
   "execution_count": 19,
   "id": "511eede5",
   "metadata": {},
   "outputs": [
    {
     "data": {
      "text/plain": [
       "(10,)"
      ]
     },
     "execution_count": 19,
     "metadata": {},
     "output_type": "execute_result"
    }
   ],
   "source": [
    "A_numpy.sum(axis=0).shape"
   ]
  },
  {
   "cell_type": "code",
   "execution_count": 20,
   "id": "114a92ba",
   "metadata": {},
   "outputs": [
    {
     "name": "stdout",
     "output_type": "stream",
     "text": [
      "1.9 ms ± 344 µs per loop (mean ± std. dev. of 2 runs, 4 loops each)\n"
     ]
    }
   ],
   "source": [
    "%timeit -n 4 -r 2 A_Polars.sum()"
   ]
  },
  {
   "cell_type": "code",
   "execution_count": 21,
   "id": "f0d7bfa8",
   "metadata": {},
   "outputs": [
    {
     "data": {
      "text/plain": [
       "(1, 10)"
      ]
     },
     "execution_count": 21,
     "metadata": {},
     "output_type": "execute_result"
    }
   ],
   "source": [
    "A_Polars.sum().shape"
   ]
  },
  {
   "cell_type": "code",
   "execution_count": 22,
   "id": "ab51309a",
   "metadata": {},
   "outputs": [
    {
     "name": "stdout",
     "output_type": "stream",
     "text": [
      "The slowest run took 136.54 times longer than the fastest. This could mean that an intermediate result is being cached.\n",
      "144 µs ± 142 µs per loop (mean ± std. dev. of 2 runs, 4 loops each)\n"
     ]
    }
   ],
   "source": [
    "%timeit -n 4 -r 2 A_mlx.sum(axis=0)"
   ]
  },
  {
   "cell_type": "code",
   "execution_count": 23,
   "id": "97c5264c",
   "metadata": {},
   "outputs": [
    {
     "data": {
      "text/plain": [
       "(10,)"
      ]
     },
     "execution_count": 23,
     "metadata": {},
     "output_type": "execute_result"
    }
   ],
   "source": [
    "A_mlx.sum(axis=0).shape"
   ]
  },
  {
   "cell_type": "markdown",
   "id": "08a84ded",
   "metadata": {},
   "source": [
    "### 50 Shades of Pandas\n",
    "\n",
    "Pandas with numpy backend"
   ]
  },
  {
   "cell_type": "code",
   "execution_count": 24,
   "id": "9e2dad85",
   "metadata": {},
   "outputs": [
    {
     "name": "stdout",
     "output_type": "stream",
     "text": [
      "25.5 ms ± 366 µs per loop (mean ± std. dev. of 2 runs, 4 loops each)\n"
     ]
    }
   ],
   "source": [
    "%timeit -n 4 -r 2 A_Pandas_numpy.sum(axis=0)"
   ]
  },
  {
   "cell_type": "code",
   "execution_count": 25,
   "id": "04fba458",
   "metadata": {},
   "outputs": [
    {
     "data": {
      "text/plain": [
       "(10,)"
      ]
     },
     "execution_count": 25,
     "metadata": {},
     "output_type": "execute_result"
    }
   ],
   "source": [
    "A_Pandas_numpy.sum(axis=0).shape"
   ]
  },
  {
   "cell_type": "markdown",
   "id": "3eb4db41",
   "metadata": {},
   "source": [
    "Pandas with arrow backend"
   ]
  },
  {
   "cell_type": "code",
   "execution_count": 26,
   "id": "0997054d",
   "metadata": {},
   "outputs": [
    {
     "name": "stdout",
     "output_type": "stream",
     "text": [
      "3.34 ms ± 473 µs per loop (mean ± std. dev. of 2 runs, 4 loops each)\n"
     ]
    }
   ],
   "source": [
    "%timeit -n 4 -r 2 A_Pandas_arrow.sum(axis=0)"
   ]
  },
  {
   "cell_type": "code",
   "execution_count": 27,
   "id": "052ec4c8",
   "metadata": {},
   "outputs": [
    {
     "data": {
      "text/plain": [
       "(10,)"
      ]
     },
     "execution_count": 27,
     "metadata": {},
     "output_type": "execute_result"
    }
   ],
   "source": [
    "A_Pandas_arrow.sum(axis=0).shape"
   ]
  },
  {
   "cell_type": "markdown",
   "id": "fd099e7f",
   "metadata": {},
   "source": [
    "Pandas with numpy backend, converted to numpy"
   ]
  },
  {
   "cell_type": "code",
   "execution_count": 28,
   "id": "2fccfa2f",
   "metadata": {},
   "outputs": [
    {
     "name": "stdout",
     "output_type": "stream",
     "text": [
      "7.89 ms ± 38.5 µs per loop (mean ± std. dev. of 2 runs, 4 loops each)\n"
     ]
    }
   ],
   "source": [
    "%timeit -n 4 -r 2 A_Pandas_numpy.values.sum(axis=0)"
   ]
  },
  {
   "cell_type": "code",
   "execution_count": 29,
   "id": "a2010e1e",
   "metadata": {},
   "outputs": [
    {
     "data": {
      "text/plain": [
       "(10,)"
      ]
     },
     "execution_count": 29,
     "metadata": {},
     "output_type": "execute_result"
    }
   ],
   "source": [
    "A_Pandas_numpy.values.sum(axis=0).shape"
   ]
  },
  {
   "cell_type": "markdown",
   "id": "8630a593",
   "metadata": {},
   "source": [
    "Pandas with arrow backend, converted to numpy"
   ]
  },
  {
   "cell_type": "code",
   "execution_count": 30,
   "id": "f0a9ac8d",
   "metadata": {},
   "outputs": [
    {
     "name": "stdout",
     "output_type": "stream",
     "text": [
      "402 ms ± 13.2 ms per loop (mean ± std. dev. of 2 runs, 4 loops each)\n"
     ]
    }
   ],
   "source": [
    "%timeit -n 4 -r 2 A_Pandas_arrow.values.sum(axis=0)"
   ]
  },
  {
   "cell_type": "code",
   "execution_count": 31,
   "id": "6b18e1b3",
   "metadata": {},
   "outputs": [
    {
     "data": {
      "text/plain": [
       "numpy.ndarray"
      ]
     },
     "execution_count": 31,
     "metadata": {},
     "output_type": "execute_result"
    }
   ],
   "source": [
    "type(A_Pandas_arrow.values)"
   ]
  },
  {
   "cell_type": "code",
   "execution_count": 32,
   "id": "35195897",
   "metadata": {},
   "outputs": [
    {
     "data": {
      "text/plain": [
       "(10,)"
      ]
     },
     "execution_count": 32,
     "metadata": {},
     "output_type": "execute_result"
    }
   ],
   "source": [
    "A_Pandas_arrow.values.sum(axis=0).shape"
   ]
  },
  {
   "cell_type": "markdown",
   "id": "673f431e",
   "metadata": {},
   "source": [
    "Pandas to mlx"
   ]
  },
  {
   "cell_type": "code",
   "execution_count": 33,
   "id": "b6fa985f",
   "metadata": {},
   "outputs": [
    {
     "name": "stdout",
     "output_type": "stream",
     "text": [
      "4.72 ms ± 2.62 ms per loop (mean ± std. dev. of 2 runs, 4 loops each)\n"
     ]
    }
   ],
   "source": [
    "%timeit -n 4 -r 2 mx.array(A_Pandas_numpy.values).sum(axis=0)"
   ]
  },
  {
   "cell_type": "code",
   "execution_count": 34,
   "id": "f6f8d5e0",
   "metadata": {},
   "outputs": [
    {
     "data": {
      "text/plain": [
       "(10,)"
      ]
     },
     "execution_count": 34,
     "metadata": {},
     "output_type": "execute_result"
    }
   ],
   "source": [
    "mx.array(A_Pandas_numpy.values).sum(axis=0).shape"
   ]
  },
  {
   "cell_type": "markdown",
   "id": "4c280578",
   "metadata": {},
   "source": [
    "### Summing Over Rows\n"
   ]
  },
  {
   "cell_type": "code",
   "execution_count": 35,
   "id": "10f444c6",
   "metadata": {},
   "outputs": [
    {
     "name": "stdout",
     "output_type": "stream",
     "text": [
      "8.39 ms ± 165 µs per loop (mean ± std. dev. of 2 runs, 4 loops each)\n"
     ]
    }
   ],
   "source": [
    "%timeit -n 4 -r 2 A_numpy.sum(axis=1)"
   ]
  },
  {
   "cell_type": "code",
   "execution_count": 36,
   "id": "66efb1d4",
   "metadata": {},
   "outputs": [
    {
     "data": {
      "text/plain": [
       "(1000000,)"
      ]
     },
     "execution_count": 36,
     "metadata": {},
     "output_type": "execute_result"
    }
   ],
   "source": [
    "A_numpy.sum(axis=1).shape"
   ]
  },
  {
   "cell_type": "code",
   "execution_count": 37,
   "id": "0aef81d2",
   "metadata": {},
   "outputs": [
    {
     "name": "stdout",
     "output_type": "stream",
     "text": [
      "5.84 ms ± 278 µs per loop (mean ± std. dev. of 2 runs, 4 loops each)\n"
     ]
    }
   ],
   "source": [
    "%timeit -n 4 -r 2 A_Polars.sum_horizontal()"
   ]
  },
  {
   "cell_type": "code",
   "execution_count": 38,
   "id": "54e69fe6",
   "metadata": {},
   "outputs": [
    {
     "data": {
      "text/plain": [
       "(1000000,)"
      ]
     },
     "execution_count": 38,
     "metadata": {},
     "output_type": "execute_result"
    }
   ],
   "source": [
    "A_Polars.sum_horizontal().shape"
   ]
  },
  {
   "cell_type": "code",
   "execution_count": 39,
   "id": "8aac5240",
   "metadata": {},
   "outputs": [
    {
     "name": "stdout",
     "output_type": "stream",
     "text": [
      "3.68 µs ± 1.66 µs per loop (mean ± std. dev. of 2 runs, 4 loops each)\n"
     ]
    }
   ],
   "source": [
    "%timeit -n 4 -r 2 A_mlx.sum(axis=1)"
   ]
  },
  {
   "cell_type": "code",
   "execution_count": 40,
   "id": "6542f4e0",
   "metadata": {},
   "outputs": [
    {
     "data": {
      "text/plain": [
       "(1000000,)"
      ]
     },
     "execution_count": 40,
     "metadata": {},
     "output_type": "execute_result"
    }
   ],
   "source": [
    "A_mlx.sum(axis=1).shape"
   ]
  },
  {
   "cell_type": "markdown",
   "id": "869cba38",
   "metadata": {},
   "source": [
    "### 50 Shades of Pandas\n",
    "\n",
    "Pandas with numpy backend"
   ]
  },
  {
   "cell_type": "code",
   "execution_count": 41,
   "id": "65c304c0",
   "metadata": {},
   "outputs": [
    {
     "name": "stdout",
     "output_type": "stream",
     "text": [
      "71.6 ms ± 647 µs per loop (mean ± std. dev. of 2 runs, 4 loops each)\n"
     ]
    }
   ],
   "source": [
    "%timeit -n 4 -r 2 A_Pandas_numpy.sum(axis=1)"
   ]
  },
  {
   "cell_type": "markdown",
   "id": "cff35ced",
   "metadata": {},
   "source": [
    "Pandas with arrow backend"
   ]
  },
  {
   "cell_type": "code",
   "execution_count": 42,
   "id": "d0db1bfb",
   "metadata": {},
   "outputs": [
    {
     "name": "stdout",
     "output_type": "stream",
     "text": [
      "193 ms ± 11.2 ms per loop (mean ± std. dev. of 2 runs, 4 loops each)\n"
     ]
    }
   ],
   "source": [
    "%timeit -n 4 -r 2 A_Pandas_arrow.sum(axis=1)"
   ]
  },
  {
   "cell_type": "markdown",
   "id": "a33596d8",
   "metadata": {},
   "source": [
    "Pandas with numpy backend, converted to numpy"
   ]
  },
  {
   "cell_type": "code",
   "execution_count": 43,
   "id": "102f4a11",
   "metadata": {},
   "outputs": [
    {
     "name": "stdout",
     "output_type": "stream",
     "text": [
      "8.53 ms ± 337 µs per loop (mean ± std. dev. of 2 runs, 4 loops each)\n"
     ]
    }
   ],
   "source": [
    "%timeit -n 4 -r 2 A_Pandas_numpy.values.sum(axis=1)"
   ]
  },
  {
   "cell_type": "markdown",
   "id": "8047f22d",
   "metadata": {},
   "source": [
    "Pandas with arrow backend, converted to numpy"
   ]
  },
  {
   "cell_type": "code",
   "execution_count": 44,
   "id": "53a331f5",
   "metadata": {},
   "outputs": [
    {
     "name": "stdout",
     "output_type": "stream",
     "text": [
      "415 ms ± 2.5 ms per loop (mean ± std. dev. of 2 runs, 4 loops each)\n"
     ]
    }
   ],
   "source": [
    "%timeit -n 4 -r 2 A_Pandas_arrow.values.sum(axis=1)"
   ]
  },
  {
   "cell_type": "markdown",
   "id": "06edeab4",
   "metadata": {},
   "source": [
    "Pandas to mlx"
   ]
  },
  {
   "cell_type": "code",
   "execution_count": 45,
   "id": "1619c455",
   "metadata": {},
   "outputs": [
    {
     "name": "stdout",
     "output_type": "stream",
     "text": [
      "4.51 ms ± 1.68 ms per loop (mean ± std. dev. of 2 runs, 4 loops each)\n"
     ]
    }
   ],
   "source": [
    "%timeit -n 4 -r 2 mx.array(A_Pandas_numpy.values).sum(axis=1)"
   ]
  },
  {
   "cell_type": "markdown",
   "id": "dc662304",
   "metadata": {},
   "source": [
    "## Speed Of Import\n",
    "\n",
    "Polar's `read_X` functions are quite faster than Pandas. \n",
    "This is due to better type \"guessing\" heuristics, and easier mapping between the disk representation and memory representation of the data.\n",
    "\n",
    "We benchmark by making synthetic data, save it on disk, and reimporting it.\n",
    "\n",
    "### CSV Format\n"
   ]
  },
  {
   "cell_type": "code",
   "execution_count": 46,
   "id": "c8e602ab",
   "metadata": {},
   "outputs": [
    {
     "data": {
      "text/plain": [
       "'1.96 MB on disk'"
      ]
     },
     "execution_count": 46,
     "metadata": {},
     "output_type": "execute_result"
    }
   ],
   "source": [
    "n_rows = int(1e5)\n",
    "n_cols = 10\n",
    "data_Polars = pl.DataFrame(np.random.randn(n_rows,n_cols))\n",
    "data_Polars.write_csv('data/data.csv', include_header = False)\n",
    "f\"{os.path.getsize('data/data.csv')/1e7:.2f} MB on disk\""
   ]
  },
  {
   "cell_type": "markdown",
   "id": "41a2846d",
   "metadata": {},
   "source": [
    "Import with Pandas.\n"
   ]
  },
  {
   "cell_type": "code",
   "execution_count": 47,
   "id": "583313aa",
   "metadata": {},
   "outputs": [
    {
     "name": "stdout",
     "output_type": "stream",
     "text": [
      "93.2 ms ± 875 µs per loop (mean ± std. dev. of 2 runs, 2 loops each)\n"
     ]
    }
   ],
   "source": [
    "%timeit -n2 -r2 data_Pandas = pd.read_csv('data/data.csv', header = None)"
   ]
  },
  {
   "cell_type": "markdown",
   "id": "16ed08a3",
   "metadata": {},
   "source": [
    "Import with Polars.\n"
   ]
  },
  {
   "cell_type": "code",
   "execution_count": 48,
   "id": "b3c3260c",
   "metadata": {},
   "outputs": [
    {
     "name": "stdout",
     "output_type": "stream",
     "text": [
      "12.4 ms ± 5.03 ms per loop (mean ± std. dev. of 2 runs, 2 loops each)\n"
     ]
    }
   ],
   "source": [
    "%timeit -n2 -r2 data_Polars = pl.read_csv('data/data.csv', has_header = False)"
   ]
  },
  {
   "cell_type": "markdown",
   "id": "d6abc3e0",
   "metadata": {},
   "source": [
    "What is the ratio of times on your machine?\n",
    "How many cores do you have?\n",
    "\n",
    "\n",
    "\n",
    "\n",
    "### Parquet Format\n"
   ]
  },
  {
   "cell_type": "code",
   "execution_count": 49,
   "id": "312e3940",
   "metadata": {},
   "outputs": [
    {
     "data": {
      "text/plain": [
       "'0.78 MB on disk'"
      ]
     },
     "execution_count": 49,
     "metadata": {},
     "output_type": "execute_result"
    }
   ],
   "source": [
    "data_Polars.write_parquet('data/data.parquet')\n",
    "f\"{os.path.getsize('data/data.parquet')/1e7:.2f} MB on disk\""
   ]
  },
  {
   "cell_type": "code",
   "execution_count": 50,
   "id": "8d156c7f",
   "metadata": {},
   "outputs": [
    {
     "name": "stdout",
     "output_type": "stream",
     "text": [
      "The slowest run took 4.80 times longer than the fastest. This could mean that an intermediate result is being cached.\n",
      "19 ms ± 12.4 ms per loop (mean ± std. dev. of 2 runs, 2 loops each)\n"
     ]
    }
   ],
   "source": [
    "%timeit -n2 -r2 data_Pandas = pd.read_parquet('data/data.parquet')"
   ]
  },
  {
   "cell_type": "code",
   "execution_count": 51,
   "id": "1cd38657",
   "metadata": {},
   "outputs": [
    {
     "name": "stdout",
     "output_type": "stream",
     "text": [
      "5.61 ms ± 1.98 ms per loop (mean ± std. dev. of 2 runs, 2 loops each)\n"
     ]
    }
   ],
   "source": [
    "%timeit -n2 -r2 data_Polars = pl.read_parquet('data/data.parquet')"
   ]
  },
  {
   "cell_type": "markdown",
   "id": "d6177e16",
   "metadata": {},
   "source": [
    "### Feather (Apache IPC) Format\n"
   ]
  },
  {
   "cell_type": "code",
   "execution_count": 52,
   "id": "570335a9",
   "metadata": {},
   "outputs": [
    {
     "data": {
      "text/plain": [
       "'0.80 MB on disk'"
      ]
     },
     "execution_count": 52,
     "metadata": {},
     "output_type": "execute_result"
    }
   ],
   "source": [
    "data_Polars.write_ipc('data/data.feather')\n",
    "f\"{os.path.getsize('data/data.feather')/1e7:.2f} MB on disk\""
   ]
  },
  {
   "cell_type": "code",
   "execution_count": 53,
   "id": "f492fe6e",
   "metadata": {},
   "outputs": [
    {
     "name": "stdout",
     "output_type": "stream",
     "text": [
      "The slowest run took 16.37 times longer than the fastest. This could mean that an intermediate result is being cached.\n",
      "424 µs ± 375 µs per loop (mean ± std. dev. of 2 runs, 2 loops each)\n"
     ]
    }
   ],
   "source": [
    "%timeit -n2 -r2 data_Polars = pl.read_ipc('data/data.feather')"
   ]
  },
  {
   "cell_type": "code",
   "execution_count": 54,
   "id": "8b173d59",
   "metadata": {},
   "outputs": [
    {
     "name": "stdout",
     "output_type": "stream",
     "text": [
      "3.47 ms ± 1.09 ms per loop (mean ± std. dev. of 2 runs, 2 loops each)\n"
     ]
    }
   ],
   "source": [
    "%timeit -n2 -r2 data_Pandas = pd.read_feather('data/data.feather')"
   ]
  },
  {
   "cell_type": "markdown",
   "id": "ada6a315",
   "metadata": {},
   "source": [
    "### Pickle Format"
   ]
  },
  {
   "cell_type": "code",
   "execution_count": 55,
   "id": "5038b78b",
   "metadata": {},
   "outputs": [
    {
     "data": {
      "text/plain": [
       "'0.80 MB on disk'"
      ]
     },
     "execution_count": 55,
     "metadata": {},
     "output_type": "execute_result"
    }
   ],
   "source": [
    "import pickle\n",
    "pickle.dump(data_Polars, open('data/data.pickle', 'wb'))\n",
    "f\"{os.path.getsize('data/data.pickle')/1e7:.2f} MB on disk\""
   ]
  },
  {
   "cell_type": "code",
   "execution_count": 56,
   "id": "b943df5a",
   "metadata": {},
   "outputs": [
    {
     "name": "stdout",
     "output_type": "stream",
     "text": [
      "2.86 ms ± 804 µs per loop (mean ± std. dev. of 2 runs, 2 loops each)\n"
     ]
    }
   ],
   "source": [
    "%timeit -n2 -r2 data_Polars = pickle.load(open('data/data.pickle', 'rb'))"
   ]
  },
  {
   "cell_type": "markdown",
   "id": "398132ba",
   "metadata": {},
   "source": [
    "### Summarizing Import\n",
    "\n",
    "Things to note:\n",
    "\n",
    "1. The difference in speed is quite large between Pandas vs. Polars.\n",
    "1. When dealing with CSV's, the function `pl.read_csv` reads in parallel, and has better type guessing heuristics.\n",
    "2. The difference in speed is quite large between csv vs. parquet and feather, with feather\\<parquet\\<csv.\n",
    "1. Feather is the fastest, but larger on disk. Thus good for short-term storage, and parquet for long-term.\n",
    "1. The fact that pickle isn't the fastest surprised me; but then again, it is not optimized for data.\n",
    "\n",
    "\n",
    "\n",
    "## Speed Of Join\n",
    "\n",
    "Because Pandas is built on numpy, people see it as both an in-memory database, and a matrix/array library. With Polars, it is quite clear it is an in-memory database, and not an array processing library (despite having a `pl.dot()` function for inner products). As such, you cannot multiply two Polars dataframes, but you can certainly join then efficiently.\n",
    "\n",
    "Make some data:\n"
   ]
  },
  {
   "cell_type": "code",
   "execution_count": 57,
   "id": "09b76e91",
   "metadata": {},
   "outputs": [
    {
     "data": {
      "text/plain": [
       "(1000000, 11)"
      ]
     },
     "execution_count": 57,
     "metadata": {},
     "output_type": "execute_result"
    }
   ],
   "source": [
    "def make_data(n_rows, n_cols):\n",
    "  data = np.concatenate(\n",
    "  (\n",
    "    np.arange(n_rows)[:,np.newaxis], # index\n",
    "    np.random.randn(n_rows,n_cols), # values\n",
    "    ),\n",
    "    axis=1)\n",
    "    \n",
    "  return data\n",
    "\n",
    "\n",
    "n_rows = int(1e6)\n",
    "n_cols = 10\n",
    "data_left = make_data(n_rows, n_cols)\n",
    "data_right = make_data(n_rows, n_cols)\n",
    "\n",
    "data_left.shape"
   ]
  },
  {
   "cell_type": "markdown",
   "id": "34a2318d",
   "metadata": {},
   "source": [
    "### Polars Join\n"
   ]
  },
  {
   "cell_type": "code",
   "execution_count": 58,
   "id": "60af654a",
   "metadata": {},
   "outputs": [
    {
     "name": "stdout",
     "output_type": "stream",
     "text": [
      "44.5 ms ± 11.2 ms per loop (mean ± std. dev. of 2 runs, 2 loops each)\n"
     ]
    }
   ],
   "source": [
    "data_left_Polars = pl.DataFrame(data_left)\n",
    "data_right_Polars = pl.DataFrame(data_right)\n",
    "\n",
    "%timeit -n2 -r2 Polars_joined = data_left_Polars.join(data_right_Polars, on = 'column_0', how = 'left')"
   ]
  },
  {
   "cell_type": "markdown",
   "id": "53575469",
   "metadata": {},
   "source": [
    "### Pandas Join\n"
   ]
  },
  {
   "cell_type": "code",
   "execution_count": 59,
   "id": "1e9f830f",
   "metadata": {},
   "outputs": [
    {
     "name": "stdout",
     "output_type": "stream",
     "text": [
      "89.4 ms ± 2.85 ms per loop (mean ± std. dev. of 2 runs, 2 loops each)\n"
     ]
    }
   ],
   "source": [
    "data_left_Pandas = pd.DataFrame(data_left)\n",
    "data_right_Pandas = pd.DataFrame(data_right)\n",
    "\n",
    "%timeit -n2 -r2 Pandas_joined = data_left_Pandas.merge(data_right_Pandas, on = 0, how = 'inner')"
   ]
  },
  {
   "cell_type": "markdown",
   "id": "012cc78e",
   "metadata": {},
   "source": [
    "## The NYC Taxi Dataset {#sec-nyc_taxi}\n",
    "\n",
    "Empirical demonstration:\n",
    "Load the celebrated NYC taxi dataset, filter some rides and get the mean `tip_amount` by `passenger_count`.\n"
   ]
  },
  {
   "cell_type": "code",
   "execution_count": 60,
   "id": "ff6933f4",
   "metadata": {},
   "outputs": [],
   "source": [
    "path = 'data/NYC' # Data from https://www.nyc.gov/site/tlc/about/tlc-trip-record-data.page\n",
    "file_names = os.listdir(path)"
   ]
  },
  {
   "cell_type": "markdown",
   "id": "5019f201",
   "metadata": {},
   "source": [
    "### Pandas\n",
    "\n",
    "`df.query()` syntax."
   ]
  },
  {
   "cell_type": "code",
   "execution_count": 61,
   "id": "4bbefbe2",
   "metadata": {},
   "outputs": [
    {
     "ename": "AttributeError",
     "evalue": "'DataFrame' object has no attribute 'group_by'",
     "output_type": "error",
     "traceback": [
      "\u001b[0;31m---------------------------------------------------------------------------\u001b[0m",
      "\u001b[0;31mAttributeError\u001b[0m                            Traceback (most recent call last)",
      "File \u001b[0;32m<timed exec>:15\u001b[0m\n",
      "File \u001b[0;32m~/workspace/polars_demo/.venv/lib/python3.9/site-packages/pandas/core/generic.py:6293\u001b[0m, in \u001b[0;36mNDFrame.__getattr__\u001b[0;34m(self, name)\u001b[0m\n\u001b[1;32m   6286\u001b[0m \u001b[38;5;28;01mif\u001b[39;00m (\n\u001b[1;32m   6287\u001b[0m     name \u001b[38;5;129;01mnot\u001b[39;00m \u001b[38;5;129;01min\u001b[39;00m \u001b[38;5;28mself\u001b[39m\u001b[38;5;241m.\u001b[39m_internal_names_set\n\u001b[1;32m   6288\u001b[0m     \u001b[38;5;129;01mand\u001b[39;00m name \u001b[38;5;129;01mnot\u001b[39;00m \u001b[38;5;129;01min\u001b[39;00m \u001b[38;5;28mself\u001b[39m\u001b[38;5;241m.\u001b[39m_metadata\n\u001b[1;32m   6289\u001b[0m     \u001b[38;5;129;01mand\u001b[39;00m name \u001b[38;5;129;01mnot\u001b[39;00m \u001b[38;5;129;01min\u001b[39;00m \u001b[38;5;28mself\u001b[39m\u001b[38;5;241m.\u001b[39m_accessors\n\u001b[1;32m   6290\u001b[0m     \u001b[38;5;129;01mand\u001b[39;00m \u001b[38;5;28mself\u001b[39m\u001b[38;5;241m.\u001b[39m_info_axis\u001b[38;5;241m.\u001b[39m_can_hold_identifiers_and_holds_name(name)\n\u001b[1;32m   6291\u001b[0m ):\n\u001b[1;32m   6292\u001b[0m     \u001b[38;5;28;01mreturn\u001b[39;00m \u001b[38;5;28mself\u001b[39m[name]\n\u001b[0;32m-> 6293\u001b[0m \u001b[38;5;28;01mreturn\u001b[39;00m \u001b[38;5;28;43mobject\u001b[39;49m\u001b[38;5;241;43m.\u001b[39;49m\u001b[38;5;21;43m__getattribute__\u001b[39;49m\u001b[43m(\u001b[49m\u001b[38;5;28;43mself\u001b[39;49m\u001b[43m,\u001b[49m\u001b[43m \u001b[49m\u001b[43mname\u001b[49m\u001b[43m)\u001b[49m\n",
      "\u001b[0;31mAttributeError\u001b[0m: 'DataFrame' object has no attribute 'group_by'"
     ]
    }
   ],
   "source": [
    "%%time \n",
    "taxi_Pandas = pd.read_parquet(path)\n",
    "\n",
    "query = '''\n",
    "    passenger_count > 0 and \n",
    "    passenger_count < 5 and  \n",
    "    trip_distance >= 0 and \n",
    "    trip_distance <= 10 and \n",
    "    fare_amount >= 0 and \n",
    "    fare_amount <= 100 and \n",
    "    tip_amount >= 0 and \n",
    "    tip_amount <= 20 and \n",
    "    total_amount >= 0 and \n",
    "    total_amount <= 100\n",
    "    '''.replace('\\n', '')\n",
    "taxi_Pandas.query(query).group_by('passenger_count').agg({'tip_amount':'mean'})"
   ]
  },
  {
   "cell_type": "markdown",
   "id": "7fc1c19e",
   "metadata": {},
   "source": [
    "Well, the `df.loc[]` syntax is usually faster than the `query` syntax:\n"
   ]
  },
  {
   "cell_type": "code",
   "execution_count": 62,
   "id": "79deaa37",
   "metadata": {},
   "outputs": [
    {
     "name": "stdout",
     "output_type": "stream",
     "text": [
      "CPU times: user 1.94 s, sys: 1.73 s, total: 3.67 s\n",
      "Wall time: 2.21 s\n"
     ]
    },
    {
     "data": {
      "text/html": [
       "<div>\n",
       "<style scoped>\n",
       "    .dataframe tbody tr th:only-of-type {\n",
       "        vertical-align: middle;\n",
       "    }\n",
       "\n",
       "    .dataframe tbody tr th {\n",
       "        vertical-align: top;\n",
       "    }\n",
       "\n",
       "    .dataframe thead th {\n",
       "        text-align: right;\n",
       "    }\n",
       "</style>\n",
       "<table border=\"1\" class=\"dataframe\">\n",
       "  <thead>\n",
       "    <tr style=\"text-align: right;\">\n",
       "      <th></th>\n",
       "      <th>tip_amount</th>\n",
       "    </tr>\n",
       "    <tr>\n",
       "      <th>passenger_count</th>\n",
       "      <th></th>\n",
       "    </tr>\n",
       "  </thead>\n",
       "  <tbody>\n",
       "    <tr>\n",
       "      <th>1.0</th>\n",
       "      <td>2.843313</td>\n",
       "    </tr>\n",
       "    <tr>\n",
       "      <th>2.0</th>\n",
       "      <td>2.844228</td>\n",
       "    </tr>\n",
       "    <tr>\n",
       "      <th>3.0</th>\n",
       "      <td>2.777564</td>\n",
       "    </tr>\n",
       "    <tr>\n",
       "      <th>4.0</th>\n",
       "      <td>2.648380</td>\n",
       "    </tr>\n",
       "  </tbody>\n",
       "</table>\n",
       "</div>"
      ],
      "text/plain": [
       "                 tip_amount\n",
       "passenger_count            \n",
       "1.0                2.843313\n",
       "2.0                2.844228\n",
       "3.0                2.777564\n",
       "4.0                2.648380"
      ]
     },
     "execution_count": 62,
     "metadata": {},
     "output_type": "execute_result"
    }
   ],
   "source": [
    "%%time \n",
    "taxi_Pandas = pd.read_parquet(path)\n",
    "\n",
    "ind = (\n",
    "    taxi_Pandas['passenger_count'].between(1,4) \n",
    "    & taxi_Pandas['trip_distance'].between(0,10) \n",
    "    & taxi_Pandas['fare_amount'].between(0,100) \n",
    "    & taxi_Pandas['tip_amount'].between(0,20) \n",
    "    & taxi_Pandas['total_amount'].between(0,100)\n",
    ")\n",
    "(\n",
    "    taxi_Pandas[ind]\n",
    "    .groupby('passenger_count')\n",
    "    .agg({'tip_amount':'mean'})\n",
    ")"
   ]
  },
  {
   "cell_type": "markdown",
   "id": "9cf1f533",
   "metadata": {},
   "source": [
    "### Polars Lazy In Memory {#sec-polars-lazy-in-memory}\n"
   ]
  },
  {
   "cell_type": "code",
   "execution_count": 63,
   "id": "f06b1853",
   "metadata": {},
   "outputs": [
    {
     "name": "stdout",
     "output_type": "stream",
     "text": [
      "CPU times: user 572 ms, sys: 297 ms, total: 869 ms\n",
      "Wall time: 383 ms\n"
     ]
    },
    {
     "data": {
      "text/html": [
       "<div><style>\n",
       ".dataframe > thead > tr,\n",
       ".dataframe > tbody > tr {\n",
       "  text-align: right;\n",
       "  white-space: pre-wrap;\n",
       "}\n",
       "</style>\n",
       "<small>shape: (4, 2)</small><table border=\"1\" class=\"dataframe\"><thead><tr><th>passenger_count</th><th>tip_amount_mean</th></tr><tr><td>f64</td><td>f64</td></tr></thead><tbody><tr><td>3.0</td><td>2.777564</td></tr><tr><td>1.0</td><td>2.843313</td></tr><tr><td>4.0</td><td>2.64838</td></tr><tr><td>2.0</td><td>2.844228</td></tr></tbody></table></div>"
      ],
      "text/plain": [
       "shape: (4, 2)\n",
       "┌─────────────────┬─────────────────┐\n",
       "│ passenger_count ┆ tip_amount_mean │\n",
       "│ ---             ┆ ---             │\n",
       "│ f64             ┆ f64             │\n",
       "╞═════════════════╪═════════════════╡\n",
       "│ 3.0             ┆ 2.777564        │\n",
       "│ 1.0             ┆ 2.843313        │\n",
       "│ 4.0             ┆ 2.64838         │\n",
       "│ 2.0             ┆ 2.844228        │\n",
       "└─────────────────┴─────────────────┘"
      ]
     },
     "execution_count": 63,
     "metadata": {},
     "output_type": "execute_result"
    }
   ],
   "source": [
    "%%time \n",
    "\n",
    "import pyarrow.dataset as ds\n",
    "dset = ds.dataset(\"data/NYC\", format=\"parquet\")  # define folder as Pyarrow dataset\n",
    "\n",
    "q = (\n",
    "    pl.scan_pyarrow_dataset(dset)\n",
    "    # pl.read_parquet(\"data/NYC/*.parquet\") # will now work because parquet was created with Int32, and not Int64. \n",
    "    .filter(\n",
    "        pl.col('passenger_count').is_between(1,4),\n",
    "        pl.col('trip_distance').is_between(0,10),\n",
    "        pl.col('fare_amount').is_between(0,100),\n",
    "        pl.col('tip_amount').is_between(0,20),\n",
    "        pl.col('total_amount').is_between(0,100)\n",
    "    )\n",
    "    .group_by('passenger_count')\n",
    "    .agg(\n",
    "      pl.col('tip_amount').mean().name.suffix('_mean')\n",
    "      ) \n",
    "    )\n",
    "\n",
    "q.collect()"
   ]
  },
  {
   "cell_type": "code",
   "execution_count": 64,
   "id": "bb22e6b1",
   "metadata": {},
   "outputs": [
    {
     "data": {
      "image/svg+xml": [
       "<svg xmlns=\"http://www.w3.org/2000/svg\" xmlns:xlink=\"http://www.w3.org/1999/xlink\" width=\"357pt\" height=\"231pt\" viewBox=\"0.00 0.00 357.00 231.00\">\n",
       "<g id=\"graph0\" class=\"graph\" transform=\"scale(1 1) rotate(0) translate(4 227)\">\n",
       "<title>polars_query</title>\n",
       "<polygon fill=\"white\" stroke=\"none\" points=\"-4,4 -4,-227 353,-227 353,4 -4,4\"/>\n",
       "<!-- AGG [col(&quot;tip_amount&quot;).mean().alias(&quot;tip_amount_mean&quot;)]\n",
       "BY\n",
       "[col(&quot;passenger_count&quot;)] [(0, 0)] [(0, 0)] -->\n",
       "<g id=\"node1\" class=\"node\">\n",
       "<title>AGG [col(&quot;tip_amount&quot;).mean().alias(&quot;tip_amount_mean&quot;)]\n",
       "BY\n",
       "[col(&quot;passenger_count&quot;)] [(0, 0)] [(0, 0)]</title>\n",
       "<polygon fill=\"none\" stroke=\"black\" points=\"349,-223 0,-223 0,-165.5 349,-165.5 349,-223\"/>\n",
       "<text text-anchor=\"middle\" x=\"174.5\" y=\"-205.7\" font-family=\"Times,serif\" font-size=\"14.00\">AGG [col(&quot;tip_amount&quot;).mean().alias(&quot;tip_amount_mean&quot;)]</text>\n",
       "<text text-anchor=\"middle\" x=\"174.5\" y=\"-189.2\" font-family=\"Times,serif\" font-size=\"14.00\">BY</text>\n",
       "<text text-anchor=\"middle\" x=\"174.5\" y=\"-172.7\" font-family=\"Times,serif\" font-size=\"14.00\">[col(&quot;passenger_count&quot;)] [(0, 0)]</text>\n",
       "</g>\n",
       "<!-- FILTER BY ((((col(&quot;passenger_count&quot;... [(0, 1)] -->\n",
       "<g id=\"node2\" class=\"node\">\n",
       "<title>FILTER BY ((((col(&quot;passenger_count&quot;... [(0, 1)]</title>\n",
       "<polygon fill=\"none\" stroke=\"black\" points=\"294.25,-129.5 54.75,-129.5 54.75,-93.5 294.25,-93.5 294.25,-129.5\"/>\n",
       "<text text-anchor=\"middle\" x=\"174.5\" y=\"-106.45\" font-family=\"Times,serif\" font-size=\"14.00\">FILTER BY ((((col(&quot;passenger_count&quot;...</text>\n",
       "</g>\n",
       "<!-- AGG [col(&quot;tip_amount&quot;).mean().alias(&quot;tip_amount_mean&quot;)]\n",
       "BY\n",
       "[col(&quot;passenger_count&quot;)] [(0, 0)] [(0, 0)]&#45;&#45;FILTER BY ((((col(&quot;passenger_count&quot;... [(0, 1)] -->\n",
       "<g id=\"edge1\" class=\"edge\">\n",
       "<title>AGG [col(&quot;tip_amount&quot;).mean().alias(&quot;tip_amount_mean&quot;)]\n",
       "BY\n",
       "[col(&quot;passenger_count&quot;)] [(0, 0)] [(0, 0)]--FILTER BY ((((col(&quot;passenger_count&quot;... [(0, 1)]</title>\n",
       "<path fill=\"none\" stroke=\"black\" d=\"M174.5,-165.01C174.5,-153.18 174.5,-139.83 174.5,-129.54\"/>\n",
       "</g>\n",
       "<!-- PYTHON SCAN ;\n",
       "π 5/19;\n",
       "σ &#45; [(0, 2)] -->\n",
       "<g id=\"node3\" class=\"node\">\n",
       "<title>PYTHON SCAN ;\n",
       "π 5/19;\n",
       "σ - [(0, 2)]</title>\n",
       "<polygon fill=\"none\" stroke=\"black\" points=\"233.5,-57.5 115.5,-57.5 115.5,0 233.5,0 233.5,-57.5\"/>\n",
       "<text text-anchor=\"middle\" x=\"174.5\" y=\"-40.2\" font-family=\"Times,serif\" font-size=\"14.00\">PYTHON SCAN ;</text>\n",
       "<text text-anchor=\"middle\" x=\"174.5\" y=\"-23.7\" font-family=\"Times,serif\" font-size=\"14.00\">π 5/19;</text>\n",
       "<text text-anchor=\"middle\" x=\"174.5\" y=\"-7.2\" font-family=\"Times,serif\" font-size=\"14.00\">σ -</text>\n",
       "</g>\n",
       "<!-- FILTER BY ((((col(&quot;passenger_count&quot;... [(0, 1)]&#45;&#45;PYTHON SCAN ;\n",
       "π 5/19;\n",
       "σ &#45; [(0, 2)] -->\n",
       "<g id=\"edge2\" class=\"edge\">\n",
       "<title>FILTER BY ((((col(&quot;passenger_count&quot;... [(0, 1)]--PYTHON SCAN ;\n",
       "π 5/19;\n",
       "σ - [(0, 2)]</title>\n",
       "<path fill=\"none\" stroke=\"black\" d=\"M174.5,-93.38C174.5,-83.1 174.5,-69.77 174.5,-57.97\"/>\n",
       "</g>\n",
       "</g>\n",
       "</svg>"
      ],
      "text/plain": [
       "<IPython.core.display.SVG object>"
      ]
     },
     "metadata": {},
     "output_type": "display_data"
    }
   ],
   "source": [
    "q.show_graph(optimized=True) # Graphviz has to be installed"
   ]
  },
  {
   "cell_type": "markdown",
   "id": "1e3a0d10",
   "metadata": {},
   "source": [
    "Things to note:\n",
    "\n",
    "1. I did not use the native `pl.scan_parquet()` as it is recommended. For your purposes, you will almost always use the native readers. It is convenient to remember, however, that you can also use the PyArrow importers in the native importers fail. \n",
    "2. I only have 2 parquet files. When I run the same with more files, despite my 16GB of RAM, **Pandas will crash my python kernel**.\n",
    "3. From the query graph I see import is done in parallel, and filtering done at scanning time!\n",
    "4. \n",
    "\n",
    "\n",
    "\n",
    "### Polars Lazy From Disk\n",
    "\n",
    "::: {.callout-important}\n",
    "The following shows how to use the Polars streaming engine. \n",
    "This is arguably the biggest difference with Pandas, and other in memory dataframe libraries.\n",
    ":::\n"
   ]
  },
  {
   "cell_type": "code",
   "execution_count": 65,
   "id": "Polars-lazy-from-disk",
   "metadata": {},
   "outputs": [
    {
     "data": {
      "text/html": [
       "<div><style>\n",
       ".dataframe > thead > tr,\n",
       ".dataframe > tbody > tr {\n",
       "  text-align: right;\n",
       "  white-space: pre-wrap;\n",
       "}\n",
       "</style>\n",
       "<small>shape: (4, 2)</small><table border=\"1\" class=\"dataframe\"><thead><tr><th>passenger_count</th><th>tip_amount_mean</th></tr><tr><td>f64</td><td>f64</td></tr></thead><tbody><tr><td>4.0</td><td>2.64838</td></tr><tr><td>1.0</td><td>2.843313</td></tr><tr><td>2.0</td><td>2.844228</td></tr><tr><td>3.0</td><td>2.777564</td></tr></tbody></table></div>"
      ],
      "text/plain": [
       "shape: (4, 2)\n",
       "┌─────────────────┬─────────────────┐\n",
       "│ passenger_count ┆ tip_amount_mean │\n",
       "│ ---             ┆ ---             │\n",
       "│ f64             ┆ f64             │\n",
       "╞═════════════════╪═════════════════╡\n",
       "│ 4.0             ┆ 2.64838         │\n",
       "│ 1.0             ┆ 2.843313        │\n",
       "│ 2.0             ┆ 2.844228        │\n",
       "│ 3.0             ┆ 2.777564        │\n",
       "└─────────────────┴─────────────────┘"
      ]
     },
     "execution_count": 65,
     "metadata": {},
     "output_type": "execute_result"
    }
   ],
   "source": [
    "#| label: Polars-lazy-from-disk\n",
    "\n",
    "q.collect(streaming=True)"
   ]
  },
  {
   "cell_type": "markdown",
   "id": "6612ab7e",
   "metadata": {},
   "source": [
    "# Preliminaries\n",
    "\n",
    "\n",
    "\n",
    "\n",
    "## Object Classes\n",
    "\n",
    "- **Polars Series**: Like a Pandas series. An in-memory array of data, with a name, and a dtype. \n",
    "\n",
    "- **Polars Expr**: A Polars series that is not yet computed, and that will be computed when needed.  A Polars Expression can be thought of as:\n",
    "  1. A Lazy Series: A series that is not yet computed, and that will be computed when needed.\n",
    "  2. A function: That maps a Polars series to another Polars series (possibly of length 1).\n",
    "\n",
    "- **Polars LazyFrame**: A collection of Polars Expressions. This is the Polars equivalent of a Spark DataFrame. It is lazy, thus allows query planning.\n",
    "\n",
    "- **Polars DataFrame**: A collection of Polars Series. This is the Polars equivalent of a Pandas DataFrame. It is eager, and does not allow query planning.\n",
    "  \n",
    "\n",
    "::: {.callout-warning}\n",
    "Not all methods are implemented for all classes. \n",
    "In particular, not all `pl.Dataframe` methods are implemented for `pl.LazyFrame` and vice versa. The same goes for `pl.Series` and `pl.Expr`.\n",
    "\n",
    "This is not because the developers are lazy, but because the API is still being developed, and there are fundamental differences between the classes.\n",
    "\n",
    "Think about it:\n",
    "\n",
    "1. Why do we not see a `df.height` attribute for a `pl.LazeFrame`?\n",
    "2. Why do we not see a `df.sample()` method for a `pl.LazyFrame`?\n",
    "\n",
    ":::\n",
    "\n",
    "\n",
    "\n",
    "## Evaluation Engines\n",
    "\n",
    "Polars seemingly **2 evaluation engines**:\n",
    "\n",
    "1. **Eager**: This is the default. It is the same as Pandas. When you call a method, the method is immediately executed.\n",
    "2. **Lazy**: This is the same as Spark. When you call a method, the method is not immediately executed. Instead, a query plan is created. The query plan is then executed when you call `.collect()`.\n",
    "\n",
    "Why \"seemingly\" 2? \n",
    "Because each engine has it's own subtleties.\n",
    "For instance, the behavior of the lazy engine may depend on streaming VS non-streaming evaluation, and on the means of loading the data.\n",
    "\n",
    "1. **Streaming**: This is a special case of lazy evaluation. It is used when you have a large dataset, and you want to process it in chunks. You can then call `.collect(streaming=True)` to process the dataset in chunks. This is useful when you have a dataset that is too large to fit into memory, and you want to process it in chunks. It is also useful when you want to process a dataset in real-time, as it is being generated.\n",
    "2. **Loading**: Reading multiple parquet files using Polars native readers, may behave slightly different than reading the same files as a Pyarrow dataset (always prefer the native readers, when possible).\n",
    "  \n",
    "\n",
    "\n",
    "\n",
    "## Polars dtypes\n",
    "\n",
    "Polars has its own dtypes, call with `pl.<dtype>`; e.g. `pl.Int32`.\n",
    "A comprehensive list may be found [here](https://docs.pola.rs/py-Polars/html/reference/datatypes.html).\n",
    "\n",
    "Here are the most common. \n",
    "Note, that unlike Pandas, all are native Polars dtypes, and do not recur to Python objects. \n",
    "\n",
    "- Floats: \n",
    "  - `pl.Float64`: Arguably, the most frequently used dtype.\n",
    "- Integers: \n",
    "  - `pl.Int64`: The most frequently used integer dtype.\n",
    "- Booleans: \n",
    "  - `pl.Boolean`: As the name suggests. \n",
    "- Strings: \n",
    "  - `pl.Utf8`: The only string encoding supported by Polars. \n",
    "  - `pl.String`: Recently introduced as an alias to `pl.Utf8`.\n",
    "- Temporal: \n",
    "  - `pl.Date`: Date, without time.\n",
    "  - `pl.Datetime`: Date, with time. \n",
    "  - `pl.Time`: Time, without date.\n",
    "  - `pl.Duration`: Time difference.\n",
    "- Nulls: \n",
    "  - `pl.Null`: Polars equivalent of `None`.\n",
    "  - `np.nan`: The numpy dtype. Essentially a float, and not as a null.\n",
    "- Nested:\n",
    "  - `pl.List`: A list of items.\n",
    "  - `pl.Array`: Fixed length list. \n",
    "  - `pl.Struct`: Think of it as a dict within a frame.\n",
    "\n",
    "\n",
    "\n",
    "Things to note:\n",
    "\n",
    "-  Polars has no `Int` dtype, nor `Float`. You must specify the number of bits.\n",
    "-  Polars recently introduced `pl.String` as an alias for `pl.Utf8`. No other encodings are supported.\n",
    "-  Polars also supports `np.nan`(!), which is different than its `pl.Null` dtype. `np.nan` is a **float**, and `Null` is a None.\n",
    "  \n",
    "\n",
    "\n",
    "\n",
    "## The Polars API\n",
    "\n",
    "- You will fall in love with it!\n",
    "- Much more similar to PySpark than to Pandas. The Pandas API is simply not amenable to lazy evaluation. \n",
    "\n",
    "\n",
    "### Some Design Principles {#sec-api-principles}\n",
    "\n",
    "Here are some principles that will help you understand the API:\n",
    "\n",
    "1. All columns are created equal. There are **no indexing** columns. \n",
    "\n",
    "2. Always **remember the class** you are operating on: Is it a series, a dataframe, an expression, or a lazyframe?\n",
    "\n",
    "5. Operations on the columns of a dataframe will always be part of a **context**. Context may include:\n",
    "    1. `pl.DataFrame.select()`: This is the most common context. It is used to select columns, and to apply operations on columns.\n",
    "    2. `pl.DataFrame.with_columns()`: This is used to add columns to a dataframe.\n",
    "    3. `pl.DataFrame.group_by().agg()`: The `.agg()` context works like a `.select()` context, but it is used to apply operations on sub-groups of rows.\n",
    "    4. `pl.DataFrame.filter()`: This is used to filter rows using expressions that evaluate to Booleans.\n",
    "\n",
    "6. Two-word methods are always lower-case, and separated by underscores. E.g: `.is_in()` instead of `.isin()`; `.is_null()` instead of `.isnull()`; `.group_by()` instead of `.group_by()` (starting version 19.0.0). \n",
    "\n",
    "7. Polars was designed for operation within **columns**, not within rows. Operations within rows are the exception, and the will have a `_horizontal()` suffix. Examples: `pl.sum_horizontal()`, `pl.mean_horizontal()`, `pl.rolling_sum_horizontal()`.\n",
    "\n",
    "8. Look for `pl.Expr()` methods so you can chain operations. E.g. `pl.col('a').add(pl.col('b'))` is better than `pl.col('a') + pl.col('b')`; the former can be further chained.\n",
    "  \n",
    "\n",
    "### Some Examples of the API\n",
    "\n",
    "Here is an example to give you a little taste of what the API feels like. \n"
   ]
  },
  {
   "cell_type": "code",
   "execution_count": 66,
   "id": "Polars-api",
   "metadata": {},
   "outputs": [
    {
     "data": {
      "text/html": [
       "<div><style>\n",
       ".dataframe > thead > tr,\n",
       ".dataframe > tbody > tr {\n",
       "  text-align: right;\n",
       "  white-space: pre-wrap;\n",
       "}\n",
       "</style>\n",
       "<small>shape: (5, 5)</small><table border=\"1\" class=\"dataframe\"><thead><tr><th>column_0</th><th>column_1</th><th>column_2</th><th>column_3</th><th>column_4</th></tr><tr><td>f64</td><td>f64</td><td>f64</td><td>f64</td><td>f64</td></tr></thead><tbody><tr><td>0.0</td><td>1.669047</td><td>-0.326934</td><td>-1.951628</td><td>-0.21938</td></tr><tr><td>1.0</td><td>0.898881</td><td>-0.99467</td><td>-1.082106</td><td>1.268585</td></tr><tr><td>2.0</td><td>-0.471933</td><td>-1.227642</td><td>1.21697</td><td>-0.375647</td></tr><tr><td>3.0</td><td>-1.058041</td><td>0.774177</td><td>-0.796355</td><td>0.344851</td></tr><tr><td>4.0</td><td>-0.497077</td><td>-2.342677</td><td>-2.276122</td><td>-0.699242</td></tr></tbody></table></div>"
      ],
      "text/plain": [
       "shape: (5, 5)\n",
       "┌──────────┬───────────┬───────────┬───────────┬───────────┐\n",
       "│ column_0 ┆ column_1  ┆ column_2  ┆ column_3  ┆ column_4  │\n",
       "│ ---      ┆ ---       ┆ ---       ┆ ---       ┆ ---       │\n",
       "│ f64      ┆ f64       ┆ f64       ┆ f64       ┆ f64       │\n",
       "╞══════════╪═══════════╪═══════════╪═══════════╪═══════════╡\n",
       "│ 0.0      ┆ 1.669047  ┆ -0.326934 ┆ -1.951628 ┆ -0.21938  │\n",
       "│ 1.0      ┆ 0.898881  ┆ -0.99467  ┆ -1.082106 ┆ 1.268585  │\n",
       "│ 2.0      ┆ -0.471933 ┆ -1.227642 ┆ 1.21697   ┆ -0.375647 │\n",
       "│ 3.0      ┆ -1.058041 ┆ 0.774177  ┆ -0.796355 ┆ 0.344851  │\n",
       "│ 4.0      ┆ -0.497077 ┆ -2.342677 ┆ -2.276122 ┆ -0.699242 │\n",
       "└──────────┴───────────┴───────────┴───────────┴───────────┘"
      ]
     },
     "execution_count": 66,
     "metadata": {},
     "output_type": "execute_result"
    }
   ],
   "source": [
    "#| label: Polars-api\n",
    "\n",
    "# Make some data\n",
    "polars_frame = pl.DataFrame(make_data(100,4))\n",
    "polars_frame.limit(5)"
   ]
  },
  {
   "cell_type": "markdown",
   "id": "3be84d56",
   "metadata": {},
   "source": [
    "::: {.callout-note}\n",
    "What is the difference between `.head()` and `limit()`?\n",
    "For eager frames? For lazy frames?\n",
    ":::\n",
    "\n",
    "\n",
    "\n",
    "Can you parse the following in your head?"
   ]
  },
  {
   "cell_type": "code",
   "execution_count": 67,
   "id": "00e5c366",
   "metadata": {},
   "outputs": [
    {
     "data": {
      "text/html": [
       "<div><style>\n",
       ".dataframe > thead > tr,\n",
       ".dataframe > tbody > tr {\n",
       "  text-align: right;\n",
       "  white-space: pre-wrap;\n",
       "}\n",
       "</style>\n",
       "<small>shape: (2, 6)</small><table border=\"1\" class=\"dataframe\"><thead><tr><th>non-negative</th><th>one-to-four</th><th>column_1_mean</th><th>column_2_mean</th><th>column_3_mean</th><th>column_4_mean</th></tr><tr><td>bool</td><td>u32</td><td>f64</td><td>f64</td><td>f64</td><td>f64</td></tr></thead><tbody><tr><td>true</td><td>1</td><td>0.759827</td><td>0.024952</td><td>-0.021888</td><td>-0.014504</td></tr><tr><td>false</td><td>3</td><td>-0.836159</td><td>-0.021363</td><td>-0.081255</td><td>-0.109327</td></tr></tbody></table></div>"
      ],
      "text/plain": [
       "shape: (2, 6)\n",
       "┌──────────────┬─────────────┬───────────────┬───────────────┬───────────────┬───────────────┐\n",
       "│ non-negative ┆ one-to-four ┆ column_1_mean ┆ column_2_mean ┆ column_3_mean ┆ column_4_mean │\n",
       "│ ---          ┆ ---         ┆ ---           ┆ ---           ┆ ---           ┆ ---           │\n",
       "│ bool         ┆ u32         ┆ f64           ┆ f64           ┆ f64           ┆ f64           │\n",
       "╞══════════════╪═════════════╪═══════════════╪═══════════════╪═══════════════╪═══════════════╡\n",
       "│ true         ┆ 1           ┆ 0.759827      ┆ 0.024952      ┆ -0.021888     ┆ -0.014504     │\n",
       "│ false        ┆ 3           ┆ -0.836159     ┆ -0.021363     ┆ -0.081255     ┆ -0.109327     │\n",
       "└──────────────┴─────────────┴───────────────┴───────────────┴───────────────┴───────────────┘"
      ]
     },
     "execution_count": 67,
     "metadata": {},
     "output_type": "execute_result"
    }
   ],
   "source": [
    "(\n",
    "  polars_frame\n",
    "  .rename({'column_0':'group'})\n",
    "  .with_columns(\n",
    "    pl.col('group').cast(pl.Int32),\n",
    "    pl.col('column_1').ge(0).alias('non-negative'),\n",
    "  )\n",
    "  .group_by('non-negative')\n",
    "  .agg(\n",
    "    pl.col('group').is_between(1,4).sum().alias('one-to-four'),\n",
    "    pl.col('^column_[0-9]$').mean().name.suffix('_mean'),\n",
    "  )\n",
    ")"
   ]
  },
  {
   "cell_type": "markdown",
   "id": "efb93817",
   "metadata": {},
   "source": [
    "Ask yourself:\n",
    "\n",
    "- What is `polars_frame`? Is it an eager or a lazy Polars dataframe?\n",
    "- Why is `column_1_mean` when `non-negative=false` indeed non negative?\n",
    "- What is a Polars expression?\n",
    "- What is a Polars series?\n",
    "- How did I create the columns `column_1_mean`...`column_4_mean`?\n",
    "- How would you have written this in Pandas?\n"
   ]
  },
  {
   "cell_type": "code",
   "execution_count": 68,
   "id": "Polars-api-second-example",
   "metadata": {},
   "outputs": [
    {
     "data": {
      "text/html": [
       "<div><style>\n",
       ".dataframe > thead > tr,\n",
       ".dataframe > tbody > tr {\n",
       "  text-align: right;\n",
       "  white-space: pre-wrap;\n",
       "}\n",
       "</style>\n",
       "<small>shape: (21, 2)</small><table border=\"1\" class=\"dataframe\"><thead><tr><th>group</th><th>column_1_mean</th></tr><tr><td>f64</td><td>f64</td></tr></thead><tbody><tr><td>1.0</td><td>0.022673</td></tr><tr><td>1.0</td><td>0.324603</td></tr><tr><td>1.0</td><td>0.660366</td></tr><tr><td>1.0</td><td>0.224827</td></tr><tr><td>1.0</td><td>0.524375</td></tr><tr><td>&hellip;</td><td>&hellip;</td></tr><tr><td>1.0</td><td>0.886574</td></tr><tr><td>1.0</td><td>0.446373</td></tr><tr><td>1.0</td><td>0.108046</td></tr><tr><td>1.0</td><td>0.658929</td></tr><tr><td>1.0</td><td>0.309261</td></tr></tbody></table></div>"
      ],
      "text/plain": [
       "shape: (21, 2)\n",
       "┌───────┬───────────────┐\n",
       "│ group ┆ column_1_mean │\n",
       "│ ---   ┆ ---           │\n",
       "│ f64   ┆ f64           │\n",
       "╞═══════╪═══════════════╡\n",
       "│ 1.0   ┆ 0.022673      │\n",
       "│ 1.0   ┆ 0.324603      │\n",
       "│ 1.0   ┆ 0.660366      │\n",
       "│ 1.0   ┆ 0.224827      │\n",
       "│ 1.0   ┆ 0.524375      │\n",
       "│ …     ┆ …             │\n",
       "│ 1.0   ┆ 0.886574      │\n",
       "│ 1.0   ┆ 0.446373      │\n",
       "│ 1.0   ┆ 0.108046      │\n",
       "│ 1.0   ┆ 0.658929      │\n",
       "│ 1.0   ┆ 0.309261      │\n",
       "└───────┴───────────────┘"
      ]
     },
     "execution_count": 68,
     "metadata": {},
     "output_type": "execute_result"
    }
   ],
   "source": [
    "#| label: Polars-api-second-example\n",
    "\n",
    "(\n",
    "  polars_frame\n",
    "  .rename({'column_0':'group'})\n",
    "  .select(\n",
    "    pl.col('group').mod(2),\n",
    "\n",
    "    pl.mean_horizontal(\n",
    "      pl.col('^column_[0-9]$')\n",
    "    )\n",
    "    .name.suffix('_mean')\n",
    "  )\n",
    "  .filter(\n",
    "    pl.col('group').eq(1),\n",
    "    pl.col('column_1_mean').gt(0)\n",
    "  )\n",
    ")"
   ]
  },
  {
   "cell_type": "markdown",
   "id": "37878c2e",
   "metadata": {},
   "source": [
    "Try parsing the following in your head:\n"
   ]
  },
  {
   "cell_type": "code",
   "execution_count": 69,
   "id": "01188412",
   "metadata": {},
   "outputs": [
    {
     "data": {
      "text/html": [
       "<div><style>\n",
       ".dataframe > thead > tr,\n",
       ".dataframe > tbody > tr {\n",
       "  text-align: right;\n",
       "  white-space: pre-wrap;\n",
       "}\n",
       "</style>\n",
       "<small>shape: (100, 6)</small><table border=\"1\" class=\"dataframe\"><thead><tr><th>column_0</th><th>column_1</th><th>column_2</th><th>column_3</th><th>column_4</th><th>column_1_second</th></tr><tr><td>f64</td><td>f64</td><td>f64</td><td>f64</td><td>f64</td><td>f64</td></tr></thead><tbody><tr><td>0.0</td><td>1.669047</td><td>-0.326934</td><td>-1.951628</td><td>-0.21938</td><td>-0.612633</td></tr><tr><td>1.0</td><td>0.898881</td><td>-0.99467</td><td>-1.082106</td><td>1.268585</td><td>-1.31972</td></tr><tr><td>2.0</td><td>-0.471933</td><td>-1.227642</td><td>1.21697</td><td>-0.375647</td><td>0.751427</td></tr><tr><td>3.0</td><td>-1.058041</td><td>0.774177</td><td>-0.796355</td><td>0.344851</td><td>0.347318</td></tr><tr><td>4.0</td><td>-0.497077</td><td>-2.342677</td><td>-2.276122</td><td>-0.699242</td><td>0.477649</td></tr><tr><td>&hellip;</td><td>&hellip;</td><td>&hellip;</td><td>&hellip;</td><td>&hellip;</td><td>&hellip;</td></tr><tr><td>95.0</td><td>0.580987</td><td>0.500641</td><td>-1.1551</td><td>0.505653</td><td>-0.675634</td></tr><tr><td>96.0</td><td>1.349532</td><td>0.039131</td><td>1.543008</td><td>-0.113703</td><td>0.585072</td></tr><tr><td>97.0</td><td>1.644299</td><td>-0.035973</td><td>1.901353</td><td>-0.873964</td><td>1.521826</td></tr><tr><td>98.0</td><td>0.448303</td><td>-0.369767</td><td>1.638619</td><td>-1.332098</td><td>-1.485568</td></tr><tr><td>99.0</td><td>0.099429</td><td>-0.689272</td><td>0.079562</td><td>1.747323</td><td>0.563477</td></tr></tbody></table></div>"
      ],
      "text/plain": [
       "shape: (100, 6)\n",
       "┌──────────┬───────────┬───────────┬───────────┬───────────┬─────────────────┐\n",
       "│ column_0 ┆ column_1  ┆ column_2  ┆ column_3  ┆ column_4  ┆ column_1_second │\n",
       "│ ---      ┆ ---       ┆ ---       ┆ ---       ┆ ---       ┆ ---             │\n",
       "│ f64      ┆ f64       ┆ f64       ┆ f64       ┆ f64       ┆ f64             │\n",
       "╞══════════╪═══════════╪═══════════╪═══════════╪═══════════╪═════════════════╡\n",
       "│ 0.0      ┆ 1.669047  ┆ -0.326934 ┆ -1.951628 ┆ -0.21938  ┆ -0.612633       │\n",
       "│ 1.0      ┆ 0.898881  ┆ -0.99467  ┆ -1.082106 ┆ 1.268585  ┆ -1.31972        │\n",
       "│ 2.0      ┆ -0.471933 ┆ -1.227642 ┆ 1.21697   ┆ -0.375647 ┆ 0.751427        │\n",
       "│ 3.0      ┆ -1.058041 ┆ 0.774177  ┆ -0.796355 ┆ 0.344851  ┆ 0.347318        │\n",
       "│ 4.0      ┆ -0.497077 ┆ -2.342677 ┆ -2.276122 ┆ -0.699242 ┆ 0.477649        │\n",
       "│ …        ┆ …         ┆ …         ┆ …         ┆ …         ┆ …               │\n",
       "│ 95.0     ┆ 0.580987  ┆ 0.500641  ┆ -1.1551   ┆ 0.505653  ┆ -0.675634       │\n",
       "│ 96.0     ┆ 1.349532  ┆ 0.039131  ┆ 1.543008  ┆ -0.113703 ┆ 0.585072        │\n",
       "│ 97.0     ┆ 1.644299  ┆ -0.035973 ┆ 1.901353  ┆ -0.873964 ┆ 1.521826        │\n",
       "│ 98.0     ┆ 0.448303  ┆ -0.369767 ┆ 1.638619  ┆ -1.332098 ┆ -1.485568       │\n",
       "│ 99.0     ┆ 0.099429  ┆ -0.689272 ┆ 0.079562  ┆ 1.747323  ┆ 0.563477        │\n",
       "└──────────┴───────────┴───────────┴───────────┴───────────┴─────────────────┘"
      ]
     },
     "execution_count": 69,
     "metadata": {},
     "output_type": "execute_result"
    }
   ],
   "source": [
    "polars_frame_2 = (\n",
    "  pl.DataFrame(make_data(100,1))\n",
    "  .select(\n",
    "    pl.col('*').name.suffix('_second')\n",
    "  )\n",
    ")\n",
    "\n",
    "\n",
    "\n",
    "(\n",
    "  polars_frame\n",
    "  .join(\n",
    "    polars_frame_2,\n",
    "    left_on = 'column_0',\n",
    "    right_on = 'column_0_second',\n",
    "    how = 'left',\n",
    "    validate='1:1'\n",
    "  )\n",
    ")\n"
   ]
  },
  {
   "cell_type": "markdown",
   "id": "3ebf7558",
   "metadata": {},
   "source": [
    "Can you parse the following in your head?\n"
   ]
  },
  {
   "cell_type": "code",
   "execution_count": 70,
   "id": "5aa392af",
   "metadata": {},
   "outputs": [
    {
     "data": {
      "text/html": [
       "<div><style>\n",
       ".dataframe > thead > tr,\n",
       ".dataframe > tbody > tr {\n",
       "  text-align: right;\n",
       "  white-space: pre-wrap;\n",
       "}\n",
       "</style>\n",
       "<small>shape: (100, 2)</small><table border=\"1\" class=\"dataframe\"><thead><tr><th>column_0_first</th><th>literal</th></tr><tr><td>f64</td><td>f64</td></tr></thead><tbody><tr><td>0.0</td><td>1.0</td></tr><tr><td>1.0</td><td>-1.369989</td></tr><tr><td>2.0</td><td>1.0</td></tr><tr><td>3.0</td><td>-1.369989</td></tr><tr><td>4.0</td><td>1.0</td></tr><tr><td>&hellip;</td><td>&hellip;</td></tr><tr><td>95.0</td><td>-1.369989</td></tr><tr><td>96.0</td><td>1.0</td></tr><tr><td>97.0</td><td>-1.369989</td></tr><tr><td>98.0</td><td>1.0</td></tr><tr><td>99.0</td><td>-1.369989</td></tr></tbody></table></div>"
      ],
      "text/plain": [
       "shape: (100, 2)\n",
       "┌────────────────┬───────────┐\n",
       "│ column_0_first ┆ literal   │\n",
       "│ ---            ┆ ---       │\n",
       "│ f64            ┆ f64       │\n",
       "╞════════════════╪═══════════╡\n",
       "│ 0.0            ┆ 1.0       │\n",
       "│ 1.0            ┆ -1.369989 │\n",
       "│ 2.0            ┆ 1.0       │\n",
       "│ 3.0            ┆ -1.369989 │\n",
       "│ 4.0            ┆ 1.0       │\n",
       "│ …              ┆ …         │\n",
       "│ 95.0           ┆ -1.369989 │\n",
       "│ 96.0           ┆ 1.0       │\n",
       "│ 97.0           ┆ -1.369989 │\n",
       "│ 98.0           ┆ 1.0       │\n",
       "│ 99.0           ┆ -1.369989 │\n",
       "└────────────────┴───────────┘"
      ]
     },
     "execution_count": 70,
     "metadata": {},
     "output_type": "execute_result"
    }
   ],
   "source": [
    "polars_frame_3 = pl.DataFrame(make_data(10,1))\n",
    "\n",
    "(\n",
    "  polars_frame.lazy()\n",
    "  .select(\n",
    "    pl.col('*').name.suffix('_first')\n",
    "  )\n",
    "  .with_context(\n",
    "    polars_frame_3.lazy()\n",
    "    .select(\n",
    "      pl.col('*').name.suffix('_third')\n",
    "    ) \n",
    "  )\n",
    "  .select(\n",
    "    'column_0_first',\n",
    "\n",
    "    pl.when(\n",
    "      pl.col('column_0_first').mod(2).eq(0)\n",
    "      )\n",
    "    .then(\n",
    "      pl.lit(1)\n",
    "      )\n",
    "    .otherwise(\n",
    "      polars_frame_3\n",
    "      .select(\n",
    "        pl.last().min()\n",
    "        )\n",
    "      )\n",
    "  )\n",
    "  .collect(streaming=True)\n",
    ")"
   ]
  },
  {
   "cell_type": "markdown",
   "id": "6ff6b33f",
   "metadata": {},
   "source": [
    "## Getting Help\n",
    "\n",
    "Before we dive in, you should be aware of the following references for further help:\n",
    "\n",
    "1.  A [github page](https://github.com/pola-rs/Polars). It is particular important to subscribe to [release updates](https://github.com/pola-rs/Polars/releases). \n",
    "2.  A [user guide](https://pola-rs.github.io/Polars-book/user-guide/index.html).\n",
    "3.  A very active community on [Discord](https://discord.gg/4UfP5cfBE7).\n",
    "4.  The [API reference](https://pola-rs.github.io/Polars/py-Polars/html/reference/index.html).\n",
    "5.  A Stack-Overflow [tag](https://stackoverflow.com/questions/tagged/python-Polars).\n",
    "6.  Cheat-sheet for [Pandas users](https://www.rhosignal.com/posts/Polars-Pandas-cheatsheet/).\n",
    "\n",
    "**Warning**: Be careful of AI assistants such as Github-Copilot, TabNine, etc. \n",
    "Polars is still very new, and they may give you Pandas completions instead of Polars.\n",
    "\n",
    "\n",
    "\n",
    "\n",
    "\n",
    "# Polars Series {#sec-series}\n",
    "\n",
    "A Polars series looks a feels a lot like a Pandas series.\n",
    "You usually will try to avoid them because: (a) Your objects will usually be in frames, not in series. (b) If in frames, you will be calling `pl.Expr()` methods, and not `pl.Series()` methods. \n",
    "Getting used to Polars series, will thus give you bad intuitions when you move to Polars expressions.\n",
    "Nevertheless, it is the simples object to learn, so we start there. \n",
    "\n",
    "\n",
    "Construct a series\n"
   ]
  },
  {
   "cell_type": "code",
   "execution_count": 71,
   "id": "make-a-series",
   "metadata": {},
   "outputs": [
    {
     "data": {
      "text/html": [
       "<div><style>\n",
       ".dataframe > thead > tr,\n",
       ".dataframe > tbody > tr {\n",
       "  text-align: right;\n",
       "  white-space: pre-wrap;\n",
       "}\n",
       "</style>\n",
       "<small>shape: (3,)</small><table border=\"1\" class=\"dataframe\"><thead><tr><th>a</th></tr><tr><td>i64</td></tr></thead><tbody><tr><td>1</td></tr><tr><td>2</td></tr><tr><td>3</td></tr></tbody></table></div>"
      ],
      "text/plain": [
       "shape: (3,)\n",
       "Series: 'a' [i64]\n",
       "[\n",
       "\t1\n",
       "\t2\n",
       "\t3\n",
       "]"
      ]
     },
     "execution_count": 71,
     "metadata": {},
     "output_type": "execute_result"
    }
   ],
   "source": [
    "#| label: make-a-series\n",
    "s = pl.Series(\"a\", [1, 2, 3])\n",
    "s"
   ]
  },
  {
   "cell_type": "markdown",
   "id": "71ac7fc5",
   "metadata": {},
   "source": [
    "Make Pandas series for later comparisons.\n"
   ]
  },
  {
   "cell_type": "code",
   "execution_count": 72,
   "id": "make-a-Pandas-series",
   "metadata": {},
   "outputs": [
    {
     "data": {
      "text/plain": [
       "0    1\n",
       "1    2\n",
       "2    3\n",
       "Name: a, dtype: int64"
      ]
     },
     "execution_count": 72,
     "metadata": {},
     "output_type": "execute_result"
    }
   ],
   "source": [
    "#| label: make-a-Pandas-series\n",
    "s_Pandas = pd.Series([1, 2, 3], name = \"a\")\n",
    "s_Pandas"
   ]
  },
  {
   "cell_type": "markdown",
   "id": "c25a5db2",
   "metadata": {},
   "source": [
    "Notice even the printing to Jupiter is different.\n"
   ]
  },
  {
   "cell_type": "code",
   "execution_count": 73,
   "id": "check-series-type",
   "metadata": {},
   "outputs": [
    {
     "data": {
      "text/plain": [
       "polars.series.series.Series"
      ]
     },
     "execution_count": 73,
     "metadata": {},
     "output_type": "execute_result"
    }
   ],
   "source": [
    "#| label: check-series-type\n",
    "type(s)"
   ]
  },
  {
   "cell_type": "code",
   "execution_count": 74,
   "id": "check-Pandas-series-type",
   "metadata": {},
   "outputs": [
    {
     "data": {
      "text/plain": [
       "pandas.core.series.Series"
      ]
     },
     "execution_count": 74,
     "metadata": {},
     "output_type": "execute_result"
    }
   ],
   "source": [
    "#| label: check-Pandas-series-type\n",
    "type(s_Pandas)"
   ]
  },
  {
   "cell_type": "code",
   "execution_count": 75,
   "id": "check-series-dtype",
   "metadata": {},
   "outputs": [
    {
     "data": {
      "text/plain": [
       "Int64"
      ]
     },
     "execution_count": 75,
     "metadata": {},
     "output_type": "execute_result"
    }
   ],
   "source": [
    "#| label: check-series-dtype\n",
    "s.dtype"
   ]
  },
  {
   "cell_type": "code",
   "execution_count": 76,
   "id": "check-Pandas-series-dtype",
   "metadata": {},
   "outputs": [
    {
     "data": {
      "text/plain": [
       "dtype('int64')"
      ]
     },
     "execution_count": 76,
     "metadata": {},
     "output_type": "execute_result"
    }
   ],
   "source": [
    "#| label: check-Pandas-series-dtype\n",
    "s_Pandas.dtype"
   ]
  },
  {
   "cell_type": "markdown",
   "id": "b610b799",
   "metadata": {},
   "source": [
    "Renaming a series; will be very useful when operating on dataframe columns.\n"
   ]
  },
  {
   "cell_type": "code",
   "execution_count": 77,
   "id": "rename-series",
   "metadata": {},
   "outputs": [
    {
     "data": {
      "text/html": [
       "<div><style>\n",
       ".dataframe > thead > tr,\n",
       ".dataframe > tbody > tr {\n",
       "  text-align: right;\n",
       "  white-space: pre-wrap;\n",
       "}\n",
       "</style>\n",
       "<small>shape: (3,)</small><table border=\"1\" class=\"dataframe\"><thead><tr><th>b</th></tr><tr><td>i64</td></tr></thead><tbody><tr><td>1</td></tr><tr><td>2</td></tr><tr><td>3</td></tr></tbody></table></div>"
      ],
      "text/plain": [
       "shape: (3,)\n",
       "Series: 'b' [i64]\n",
       "[\n",
       "\t1\n",
       "\t2\n",
       "\t3\n",
       "]"
      ]
     },
     "execution_count": 77,
     "metadata": {},
     "output_type": "execute_result"
    }
   ],
   "source": [
    "#| label: rename-series\n",
    "s.alias(\"b\")"
   ]
  },
  {
   "cell_type": "markdown",
   "id": "f0d720fc",
   "metadata": {},
   "source": [
    "Constructing a series of floats, for later use.\n"
   ]
  },
  {
   "cell_type": "code",
   "execution_count": 78,
   "id": "make-a-float-series",
   "metadata": {},
   "outputs": [
    {
     "data": {
      "text/html": [
       "<div><style>\n",
       ".dataframe > thead > tr,\n",
       ".dataframe > tbody > tr {\n",
       "  text-align: right;\n",
       "  white-space: pre-wrap;\n",
       "}\n",
       "</style>\n",
       "<small>shape: (3,)</small><table border=\"1\" class=\"dataframe\"><thead><tr><th>a</th></tr><tr><td>f64</td></tr></thead><tbody><tr><td>1.0</td></tr><tr><td>2.0</td></tr><tr><td>3.0</td></tr></tbody></table></div>"
      ],
      "text/plain": [
       "shape: (3,)\n",
       "Series: 'a' [f64]\n",
       "[\n",
       "\t1.0\n",
       "\t2.0\n",
       "\t3.0\n",
       "]"
      ]
     },
     "execution_count": 78,
     "metadata": {},
     "output_type": "execute_result"
    }
   ],
   "source": [
    "#| label: make-a-float-series\n",
    "f = pl.Series(\"a\", [1., 2., 3.])\n",
    "f"
   ]
  },
  {
   "cell_type": "code",
   "execution_count": 79,
   "id": "check-float-series-dtype",
   "metadata": {},
   "outputs": [
    {
     "data": {
      "text/plain": [
       "Float64"
      ]
     },
     "execution_count": 79,
     "metadata": {},
     "output_type": "execute_result"
    }
   ],
   "source": [
    "#| label: check-float-series-dtype\n",
    "f.dtype"
   ]
  },
  {
   "cell_type": "markdown",
   "id": "160666ab",
   "metadata": {},
   "source": [
    "## Export To Other Python Objects\n",
    "\n",
    "The current section deals with exports to other python objects, **in memory**. \n",
    "See @sec-disk-export for exporting to disk.\n",
    "\n",
    "Export to Polars DataFrame."
   ]
  },
  {
   "cell_type": "code",
   "execution_count": 80,
   "id": "series-to-Polars-dataframe",
   "metadata": {},
   "outputs": [
    {
     "data": {
      "text/html": [
       "<div><style>\n",
       ".dataframe > thead > tr,\n",
       ".dataframe > tbody > tr {\n",
       "  text-align: right;\n",
       "  white-space: pre-wrap;\n",
       "}\n",
       "</style>\n",
       "<small>shape: (3, 1)</small><table border=\"1\" class=\"dataframe\"><thead><tr><th>a</th></tr><tr><td>i64</td></tr></thead><tbody><tr><td>1</td></tr><tr><td>2</td></tr><tr><td>3</td></tr></tbody></table></div>"
      ],
      "text/plain": [
       "shape: (3, 1)\n",
       "┌─────┐\n",
       "│ a   │\n",
       "│ --- │\n",
       "│ i64 │\n",
       "╞═════╡\n",
       "│ 1   │\n",
       "│ 2   │\n",
       "│ 3   │\n",
       "└─────┘"
      ]
     },
     "execution_count": 80,
     "metadata": {},
     "output_type": "execute_result"
    }
   ],
   "source": [
    "#| label: series-to-Polars-dataframe\n",
    "s.to_frame() "
   ]
  },
  {
   "cell_type": "markdown",
   "id": "8beb4bb6",
   "metadata": {},
   "source": [
    "Export to Python list. "
   ]
  },
  {
   "cell_type": "code",
   "execution_count": 81,
   "id": "series-to-list",
   "metadata": {},
   "outputs": [
    {
     "data": {
      "text/plain": [
       "[1, 2, 3]"
      ]
     },
     "execution_count": 81,
     "metadata": {},
     "output_type": "execute_result"
    }
   ],
   "source": [
    "#| label: series-to-list\n",
    "s.to_list()"
   ]
  },
  {
   "cell_type": "markdown",
   "id": "7c83b7ab",
   "metadata": {},
   "source": [
    "Export to Numpy array. "
   ]
  },
  {
   "cell_type": "code",
   "execution_count": 82,
   "id": "series-to-numpy",
   "metadata": {},
   "outputs": [
    {
     "data": {
      "text/plain": [
       "array([1, 2, 3])"
      ]
     },
     "execution_count": 82,
     "metadata": {},
     "output_type": "execute_result"
    }
   ],
   "source": [
    "#| label: series-to-numpy\n",
    "s.to_numpy() # useful for preparing data for learning with scikit-learn"
   ]
  },
  {
   "cell_type": "markdown",
   "id": "0a7362d6",
   "metadata": {},
   "source": [
    "Export to Pandas Series. "
   ]
  },
  {
   "cell_type": "code",
   "execution_count": 83,
   "id": "series-to-Pandas-series",
   "metadata": {},
   "outputs": [
    {
     "data": {
      "text/plain": [
       "0    1\n",
       "1    2\n",
       "2    3\n",
       "Name: a, dtype: int64"
      ]
     },
     "execution_count": 83,
     "metadata": {},
     "output_type": "execute_result"
    }
   ],
   "source": [
    "#| label: series-to-Pandas-series\n",
    "s.to_pandas()"
   ]
  },
  {
   "cell_type": "markdown",
   "id": "a86530ee",
   "metadata": {},
   "source": [
    "Export to Arrow Array.\n",
    "Useful for preparing data for learning with XGBoost which supports Arrow.\n",
    "Maybe Scikit-learn will also support Arrow in the future? Although Scikit-learn [may support Polars](https://github.com/scikit-learn/scikit-learn/issues/25896) before it supports Arrow."
   ]
  },
  {
   "cell_type": "code",
   "execution_count": 84,
   "id": "series-to-arrow",
   "metadata": {},
   "outputs": [
    {
     "data": {
      "text/plain": [
       "<pyarrow.lib.Int64Array object at 0x12ef65e80>\n",
       "[\n",
       "  1,\n",
       "  2,\n",
       "  3\n",
       "]"
      ]
     },
     "execution_count": 84,
     "metadata": {},
     "output_type": "execute_result"
    }
   ],
   "source": [
    "#| label: series-to-arrow\n",
    "s.to_arrow() "
   ]
  },
  {
   "cell_type": "markdown",
   "id": "4344cc44",
   "metadata": {},
   "source": [
    "## Memory Representation of Series\n",
    "\n",
    "Object size in memory. \n",
    "Super useful for profiling.\n",
    "Will only be available for eager objects; by definitions. \n"
   ]
  },
  {
   "cell_type": "code",
   "execution_count": 85,
   "id": "series-memory-size",
   "metadata": {},
   "outputs": [
    {
     "data": {
      "text/plain": [
       "24"
      ]
     },
     "execution_count": 85,
     "metadata": {},
     "output_type": "execute_result"
    }
   ],
   "source": [
    "#| label: series-memory-size\n",
    "s.estimated_size(unit=\"b\") # 8(bytes) * 3(length)"
   ]
  },
  {
   "cell_type": "markdown",
   "id": "bb98b695",
   "metadata": {},
   "source": [
    "## Filtering and Subsetting {#sec-filtering-subsetting-series}\n"
   ]
  },
  {
   "cell_type": "code",
   "execution_count": 86,
   "id": "92b40813",
   "metadata": {},
   "outputs": [
    {
     "data": {
      "text/plain": [
       "1"
      ]
     },
     "execution_count": 86,
     "metadata": {},
     "output_type": "execute_result"
    }
   ],
   "source": [
    "s[0] # same as s.__getitem__(0)"
   ]
  },
  {
   "cell_type": "markdown",
   "id": "a64b71c8",
   "metadata": {},
   "source": [
    "To filter, you need to use the `.filter()` method.\n"
   ]
  },
  {
   "cell_type": "code",
   "execution_count": 87,
   "id": "series-filter-with-series",
   "metadata": {},
   "outputs": [
    {
     "data": {
      "text/html": [
       "<div><style>\n",
       ".dataframe > thead > tr,\n",
       ".dataframe > tbody > tr {\n",
       "  text-align: right;\n",
       "  white-space: pre-wrap;\n",
       "}\n",
       "</style>\n",
       "<small>shape: (2,)</small><table border=\"1\" class=\"dataframe\"><thead><tr><th>a</th></tr><tr><td>i64</td></tr></thead><tbody><tr><td>1</td></tr><tr><td>3</td></tr></tbody></table></div>"
      ],
      "text/plain": [
       "shape: (2,)\n",
       "Series: 'a' [i64]\n",
       "[\n",
       "\t1\n",
       "\t3\n",
       "]"
      ]
     },
     "execution_count": 87,
     "metadata": {},
     "output_type": "execute_result"
    }
   ],
   "source": [
    "#| label: series-filter-with-series\n",
    "s.filter(pl.Series(\"a\", [True, False, True])) # works"
   ]
  },
  {
   "cell_type": "markdown",
   "id": "2f973d5b",
   "metadata": {},
   "source": [
    "Filtering with the `[` operator will not work:\n"
   ]
  },
  {
   "cell_type": "code",
   "execution_count": 88,
   "id": "series-subset-with-boolean",
   "metadata": {},
   "outputs": [],
   "source": [
    "#| label: series-subset-with-boolean\n",
    "#| eval: false\n",
    "s[[True, False, True]]"
   ]
  },
  {
   "cell_type": "code",
   "execution_count": 89,
   "id": "series-filter-with-list",
   "metadata": {},
   "outputs": [
    {
     "data": {
      "text/html": [
       "<div><style>\n",
       ".dataframe > thead > tr,\n",
       ".dataframe > tbody > tr {\n",
       "  text-align: right;\n",
       "  white-space: pre-wrap;\n",
       "}\n",
       "</style>\n",
       "<small>shape: (2,)</small><table border=\"1\" class=\"dataframe\"><thead><tr><th>a</th></tr><tr><td>i64</td></tr></thead><tbody><tr><td>1</td></tr><tr><td>3</td></tr></tbody></table></div>"
      ],
      "text/plain": [
       "shape: (2,)\n",
       "Series: 'a' [i64]\n",
       "[\n",
       "\t1\n",
       "\t3\n",
       "]"
      ]
     },
     "execution_count": 88,
     "metadata": {},
     "output_type": "execute_result"
    }
   ],
   "source": [
    "#| label: series-filter-with-list\n",
    "s.filter([True, False, True])"
   ]
  },
  {
   "cell_type": "code",
   "execution_count": 90,
   "id": "series-limit",
   "metadata": {},
   "outputs": [
    {
     "data": {
      "text/html": [
       "<div><style>\n",
       ".dataframe > thead > tr,\n",
       ".dataframe > tbody > tr {\n",
       "  text-align: right;\n",
       "  white-space: pre-wrap;\n",
       "}\n",
       "</style>\n",
       "<small>shape: (2,)</small><table border=\"1\" class=\"dataframe\"><thead><tr><th>a</th></tr><tr><td>i64</td></tr></thead><tbody><tr><td>1</td></tr><tr><td>2</td></tr></tbody></table></div>"
      ],
      "text/plain": [
       "shape: (2,)\n",
       "Series: 'a' [i64]\n",
       "[\n",
       "\t1\n",
       "\t2\n",
       "]"
      ]
     },
     "execution_count": 89,
     "metadata": {},
     "output_type": "execute_result"
    }
   ],
   "source": [
    "#| label: series-limit\n",
    "s.limit(2)"
   ]
  },
  {
   "cell_type": "code",
   "execution_count": 91,
   "id": "series-head",
   "metadata": {},
   "outputs": [
    {
     "data": {
      "text/html": [
       "<div><style>\n",
       ".dataframe > thead > tr,\n",
       ".dataframe > tbody > tr {\n",
       "  text-align: right;\n",
       "  white-space: pre-wrap;\n",
       "}\n",
       "</style>\n",
       "<small>shape: (2,)</small><table border=\"1\" class=\"dataframe\"><thead><tr><th>a</th></tr><tr><td>i64</td></tr></thead><tbody><tr><td>1</td></tr><tr><td>2</td></tr></tbody></table></div>"
      ],
      "text/plain": [
       "shape: (2,)\n",
       "Series: 'a' [i64]\n",
       "[\n",
       "\t1\n",
       "\t2\n",
       "]"
      ]
     },
     "execution_count": 90,
     "metadata": {},
     "output_type": "execute_result"
    }
   ],
   "source": [
    "#| label: series-head\n",
    "s.head(2)"
   ]
  },
  {
   "cell_type": "code",
   "execution_count": 92,
   "id": "series-tail",
   "metadata": {},
   "outputs": [
    {
     "data": {
      "text/html": [
       "<div><style>\n",
       ".dataframe > thead > tr,\n",
       ".dataframe > tbody > tr {\n",
       "  text-align: right;\n",
       "  white-space: pre-wrap;\n",
       "}\n",
       "</style>\n",
       "<small>shape: (2,)</small><table border=\"1\" class=\"dataframe\"><thead><tr><th>a</th></tr><tr><td>i64</td></tr></thead><tbody><tr><td>2</td></tr><tr><td>3</td></tr></tbody></table></div>"
      ],
      "text/plain": [
       "shape: (2,)\n",
       "Series: 'a' [i64]\n",
       "[\n",
       "\t2\n",
       "\t3\n",
       "]"
      ]
     },
     "execution_count": 91,
     "metadata": {},
     "output_type": "execute_result"
    }
   ],
   "source": [
    "#| label: series-tail\n",
    "s.tail(2)"
   ]
  },
  {
   "cell_type": "code",
   "execution_count": 93,
   "id": "series-sample",
   "metadata": {},
   "outputs": [
    {
     "data": {
      "text/html": [
       "<div><style>\n",
       ".dataframe > thead > tr,\n",
       ".dataframe > tbody > tr {\n",
       "  text-align: right;\n",
       "  white-space: pre-wrap;\n",
       "}\n",
       "</style>\n",
       "<small>shape: (2,)</small><table border=\"1\" class=\"dataframe\"><thead><tr><th>a</th></tr><tr><td>i64</td></tr></thead><tbody><tr><td>1</td></tr><tr><td>2</td></tr></tbody></table></div>"
      ],
      "text/plain": [
       "shape: (2,)\n",
       "Series: 'a' [i64]\n",
       "[\n",
       "\t1\n",
       "\t2\n",
       "]"
      ]
     },
     "execution_count": 92,
     "metadata": {},
     "output_type": "execute_result"
    }
   ],
   "source": [
    "#| label: series-sample\n",
    "s.sample(2, with_replacement=False)"
   ]
  },
  {
   "cell_type": "code",
   "execution_count": 94,
   "id": "series-gather-aka-iloc",
   "metadata": {},
   "outputs": [
    {
     "data": {
      "text/html": [
       "<div><style>\n",
       ".dataframe > thead > tr,\n",
       ".dataframe > tbody > tr {\n",
       "  text-align: right;\n",
       "  white-space: pre-wrap;\n",
       "}\n",
       "</style>\n",
       "<small>shape: (2,)</small><table border=\"1\" class=\"dataframe\"><thead><tr><th>a</th></tr><tr><td>i64</td></tr></thead><tbody><tr><td>1</td></tr><tr><td>3</td></tr></tbody></table></div>"
      ],
      "text/plain": [
       "shape: (2,)\n",
       "Series: 'a' [i64]\n",
       "[\n",
       "\t1\n",
       "\t3\n",
       "]"
      ]
     },
     "execution_count": 93,
     "metadata": {},
     "output_type": "execute_result"
    }
   ],
   "source": [
    "#| label: series-gather-aka-iloc\n",
    "s.gather([0, 2]) # same as s[0,2] and Pandas .iloc[[0,2]]"
   ]
  },
  {
   "cell_type": "code",
   "execution_count": 95,
   "id": "series-slice",
   "metadata": {},
   "outputs": [
    {
     "data": {
      "text/html": [
       "<div><style>\n",
       ".dataframe > thead > tr,\n",
       ".dataframe > tbody > tr {\n",
       "  text-align: right;\n",
       "  white-space: pre-wrap;\n",
       "}\n",
       "</style>\n",
       "<small>shape: (2,)</small><table border=\"1\" class=\"dataframe\"><thead><tr><th>a</th></tr><tr><td>i64</td></tr></thead><tbody><tr><td>2</td></tr><tr><td>3</td></tr></tbody></table></div>"
      ],
      "text/plain": [
       "shape: (2,)\n",
       "Series: 'a' [i64]\n",
       "[\n",
       "\t2\n",
       "\t3\n",
       "]"
      ]
     },
     "execution_count": 94,
     "metadata": {},
     "output_type": "execute_result"
    }
   ],
   "source": [
    "#| label: series-slice\n",
    "s.slice(1, 2) # same as Pandas .iloc[1:2]"
   ]
  },
  {
   "cell_type": "code",
   "execution_count": 96,
   "id": "series-gather-every",
   "metadata": {},
   "outputs": [
    {
     "data": {
      "text/html": [
       "<div><style>\n",
       ".dataframe > thead > tr,\n",
       ".dataframe > tbody > tr {\n",
       "  text-align: right;\n",
       "  white-space: pre-wrap;\n",
       "}\n",
       "</style>\n",
       "<small>shape: (2,)</small><table border=\"1\" class=\"dataframe\"><thead><tr><th>a</th></tr><tr><td>i64</td></tr></thead><tbody><tr><td>1</td></tr><tr><td>3</td></tr></tbody></table></div>"
      ],
      "text/plain": [
       "shape: (2,)\n",
       "Series: 'a' [i64]\n",
       "[\n",
       "\t1\n",
       "\t3\n",
       "]"
      ]
     },
     "execution_count": 95,
     "metadata": {},
     "output_type": "execute_result"
    }
   ],
   "source": [
    "#| label: series-gather-every\n",
    "s.gather_every(2) # same as Pandas .iloc[::2]"
   ]
  },
  {
   "cell_type": "markdown",
   "id": "c6b9166f",
   "metadata": {},
   "source": [
    "## Aggregations\n"
   ]
  },
  {
   "cell_type": "code",
   "execution_count": 97,
   "id": "series-sum",
   "metadata": {},
   "outputs": [
    {
     "data": {
      "text/plain": [
       "6"
      ]
     },
     "execution_count": 96,
     "metadata": {},
     "output_type": "execute_result"
    }
   ],
   "source": [
    "#| label: series-sum\n",
    "s.sum()"
   ]
  },
  {
   "cell_type": "code",
   "execution_count": 98,
   "id": "series-min",
   "metadata": {},
   "outputs": [
    {
     "data": {
      "text/plain": [
       "1"
      ]
     },
     "execution_count": 97,
     "metadata": {},
     "output_type": "execute_result"
    }
   ],
   "source": [
    "#| label: series-min\n",
    "s.min()"
   ]
  },
  {
   "cell_type": "code",
   "execution_count": 99,
   "id": "series-arg-min",
   "metadata": {},
   "outputs": [
    {
     "data": {
      "text/plain": [
       "0"
      ]
     },
     "execution_count": 98,
     "metadata": {},
     "output_type": "execute_result"
    }
   ],
   "source": [
    "#| label: series-arg-min\n",
    "s.arg_min()"
   ]
  },
  {
   "cell_type": "code",
   "execution_count": 100,
   "id": "series-max",
   "metadata": {},
   "outputs": [
    {
     "data": {
      "text/plain": [
       "3"
      ]
     },
     "execution_count": 99,
     "metadata": {},
     "output_type": "execute_result"
    }
   ],
   "source": [
    "#| label: series-max\n",
    "s.max()"
   ]
  },
  {
   "cell_type": "code",
   "execution_count": 101,
   "id": "series-arg-max",
   "metadata": {},
   "outputs": [
    {
     "data": {
      "text/plain": [
       "2"
      ]
     },
     "execution_count": 100,
     "metadata": {},
     "output_type": "execute_result"
    }
   ],
   "source": [
    "#| label: series-arg-max\n",
    "s.arg_max()"
   ]
  },
  {
   "cell_type": "code",
   "execution_count": 102,
   "id": "series-mean",
   "metadata": {},
   "outputs": [
    {
     "data": {
      "text/plain": [
       "2.0"
      ]
     },
     "execution_count": 101,
     "metadata": {},
     "output_type": "execute_result"
    }
   ],
   "source": [
    "#| label: series-mean\n",
    "s.mean()"
   ]
  },
  {
   "cell_type": "code",
   "execution_count": 103,
   "id": "series-median",
   "metadata": {},
   "outputs": [
    {
     "data": {
      "text/plain": [
       "2.0"
      ]
     },
     "execution_count": 102,
     "metadata": {},
     "output_type": "execute_result"
    }
   ],
   "source": [
    "#| label: series-median\n",
    "s.median()"
   ]
  },
  {
   "cell_type": "code",
   "execution_count": 104,
   "id": "series-quantile",
   "metadata": {},
   "outputs": [
    {
     "data": {
      "text/plain": [
       "1.0"
      ]
     },
     "execution_count": 103,
     "metadata": {},
     "output_type": "execute_result"
    }
   ],
   "source": [
    "#| label: series-quantile\n",
    "s.quantile(0.2)"
   ]
  },
  {
   "cell_type": "code",
   "execution_count": 105,
   "id": "series-entropy",
   "metadata": {},
   "outputs": [
    {
     "data": {
      "text/plain": [
       "-4.68213122712422"
      ]
     },
     "execution_count": 104,
     "metadata": {},
     "output_type": "execute_result"
    }
   ],
   "source": [
    "#| label: series-entropy\n",
    "s.entropy()"
   ]
  },
  {
   "cell_type": "code",
   "execution_count": 106,
   "id": "Polars-series-describe",
   "metadata": {},
   "outputs": [
    {
     "data": {
      "text/html": [
       "<div><style>\n",
       ".dataframe > thead > tr,\n",
       ".dataframe > tbody > tr {\n",
       "  text-align: right;\n",
       "  white-space: pre-wrap;\n",
       "}\n",
       "</style>\n",
       "<small>shape: (9, 2)</small><table border=\"1\" class=\"dataframe\"><thead><tr><th>statistic</th><th>value</th></tr><tr><td>str</td><td>f64</td></tr></thead><tbody><tr><td>&quot;count&quot;</td><td>3.0</td></tr><tr><td>&quot;null_count&quot;</td><td>0.0</td></tr><tr><td>&quot;mean&quot;</td><td>2.0</td></tr><tr><td>&quot;std&quot;</td><td>1.0</td></tr><tr><td>&quot;min&quot;</td><td>1.0</td></tr><tr><td>&quot;25%&quot;</td><td>2.0</td></tr><tr><td>&quot;50%&quot;</td><td>2.0</td></tr><tr><td>&quot;75%&quot;</td><td>3.0</td></tr><tr><td>&quot;max&quot;</td><td>3.0</td></tr></tbody></table></div>"
      ],
      "text/plain": [
       "shape: (9, 2)\n",
       "┌────────────┬───────┐\n",
       "│ statistic  ┆ value │\n",
       "│ ---        ┆ ---   │\n",
       "│ str        ┆ f64   │\n",
       "╞════════════╪═══════╡\n",
       "│ count      ┆ 3.0   │\n",
       "│ null_count ┆ 0.0   │\n",
       "│ mean       ┆ 2.0   │\n",
       "│ std        ┆ 1.0   │\n",
       "│ min        ┆ 1.0   │\n",
       "│ 25%        ┆ 2.0   │\n",
       "│ 50%        ┆ 2.0   │\n",
       "│ 75%        ┆ 3.0   │\n",
       "│ max        ┆ 3.0   │\n",
       "└────────────┴───────┘"
      ]
     },
     "execution_count": 105,
     "metadata": {},
     "output_type": "execute_result"
    }
   ],
   "source": [
    "#| label: Polars-series-describe\n",
    "s.describe() "
   ]
  },
  {
   "cell_type": "markdown",
   "id": "59fcba1c",
   "metadata": {},
   "source": [
    "Polars `pl.series.describe()` is almost the same as Pandas `pd.series.describe()`.\n"
   ]
  },
  {
   "cell_type": "code",
   "execution_count": 107,
   "id": "Pandas-series-describe",
   "metadata": {},
   "outputs": [
    {
     "data": {
      "text/plain": [
       "count    3.0\n",
       "mean     2.0\n",
       "std      1.0\n",
       "min      1.0\n",
       "25%      1.5\n",
       "50%      2.0\n",
       "75%      2.5\n",
       "max      3.0\n",
       "Name: a, dtype: float64"
      ]
     },
     "execution_count": 106,
     "metadata": {},
     "output_type": "execute_result"
    }
   ],
   "source": [
    "#| label: Pandas-series-describe\n",
    "s_Pandas.describe()"
   ]
  },
  {
   "cell_type": "code",
   "execution_count": 108,
   "id": "series-value-counts",
   "metadata": {},
   "outputs": [
    {
     "data": {
      "text/html": [
       "<div><style>\n",
       ".dataframe > thead > tr,\n",
       ".dataframe > tbody > tr {\n",
       "  text-align: right;\n",
       "  white-space: pre-wrap;\n",
       "}\n",
       "</style>\n",
       "<small>shape: (3, 2)</small><table border=\"1\" class=\"dataframe\"><thead><tr><th>a</th><th>count</th></tr><tr><td>i64</td><td>u32</td></tr></thead><tbody><tr><td>3</td><td>1</td></tr><tr><td>1</td><td>1</td></tr><tr><td>2</td><td>1</td></tr></tbody></table></div>"
      ],
      "text/plain": [
       "shape: (3, 2)\n",
       "┌─────┬───────┐\n",
       "│ a   ┆ count │\n",
       "│ --- ┆ ---   │\n",
       "│ i64 ┆ u32   │\n",
       "╞═════╪═══════╡\n",
       "│ 3   ┆ 1     │\n",
       "│ 1   ┆ 1     │\n",
       "│ 2   ┆ 1     │\n",
       "└─────┴───────┘"
      ]
     },
     "execution_count": 107,
     "metadata": {},
     "output_type": "execute_result"
    }
   ],
   "source": [
    "#| label: series-value-counts\n",
    "s.value_counts()"
   ]
  },
  {
   "cell_type": "markdown",
   "id": "d950aa24",
   "metadata": {},
   "source": [
    "## Missing\n",
    "\n",
    "Thanks to Arrow, Polars has built in missing value support for all(!) dtypes. \n",
    "This has been a long awaited feature in the Python data science ecosystem with implications on speed, memory, style and more. \n",
    "The [Polars User Guide](https://pola-rs.github.io/Polars-book/user-guide/howcani/missing_data.html) has a great overview of the topic from which we collect some take-homes:\n",
    "\n",
    "- `np.nan` is also supported along `pl.Null`, but is not considered as a missing value by Polars. This has implications on null counts, statistical aggregations, etc.\n",
    "- `pl.Null`, and `np.nan`s have their own separate functions for imputing, counting, etc.\n"
   ]
  },
  {
   "cell_type": "code",
   "execution_count": 109,
   "id": "38175ab4",
   "metadata": {},
   "outputs": [],
   "source": [
    "m = pl.Series(\"a\", [1, 2, None, np.nan])"
   ]
  },
  {
   "cell_type": "code",
   "execution_count": 110,
   "id": "2f578931",
   "metadata": {},
   "outputs": [
    {
     "data": {
      "text/html": [
       "<div><style>\n",
       ".dataframe > thead > tr,\n",
       ".dataframe > tbody > tr {\n",
       "  text-align: right;\n",
       "  white-space: pre-wrap;\n",
       "}\n",
       "</style>\n",
       "<small>shape: (4,)</small><table border=\"1\" class=\"dataframe\"><thead><tr><th>a</th></tr><tr><td>bool</td></tr></thead><tbody><tr><td>false</td></tr><tr><td>false</td></tr><tr><td>true</td></tr><tr><td>false</td></tr></tbody></table></div>"
      ],
      "text/plain": [
       "shape: (4,)\n",
       "Series: 'a' [bool]\n",
       "[\n",
       "\tfalse\n",
       "\tfalse\n",
       "\ttrue\n",
       "\tfalse\n",
       "]"
      ]
     },
     "execution_count": 109,
     "metadata": {},
     "output_type": "execute_result"
    }
   ],
   "source": [
    "m.is_null() # checking for None's. Like Pandas .isna()"
   ]
  },
  {
   "cell_type": "code",
   "execution_count": 111,
   "id": "cffab97a",
   "metadata": {},
   "outputs": [
    {
     "data": {
      "text/html": [
       "<div><style>\n",
       ".dataframe > thead > tr,\n",
       ".dataframe > tbody > tr {\n",
       "  text-align: right;\n",
       "  white-space: pre-wrap;\n",
       "}\n",
       "</style>\n",
       "<small>shape: (4,)</small><table border=\"1\" class=\"dataframe\"><thead><tr><th>a</th></tr><tr><td>bool</td></tr></thead><tbody><tr><td>false</td></tr><tr><td>false</td></tr><tr><td>null</td></tr><tr><td>true</td></tr></tbody></table></div>"
      ],
      "text/plain": [
       "shape: (4,)\n",
       "Series: 'a' [bool]\n",
       "[\n",
       "\tfalse\n",
       "\tfalse\n",
       "\tnull\n",
       "\ttrue\n",
       "]"
      ]
     },
     "execution_count": 110,
     "metadata": {},
     "output_type": "execute_result"
    }
   ],
   "source": [
    "m.is_nan() # checking for np.nan's"
   ]
  },
  {
   "cell_type": "markdown",
   "id": "d98ee664",
   "metadata": {},
   "source": [
    "For comparison with Pandas:\n"
   ]
  },
  {
   "cell_type": "code",
   "execution_count": 112,
   "id": "85dd35a7",
   "metadata": {},
   "outputs": [],
   "source": [
    "m_Pandas = pd.Series([1, 2, None, np.nan])"
   ]
  },
  {
   "cell_type": "code",
   "execution_count": 113,
   "id": "c624c313",
   "metadata": {},
   "outputs": [
    {
     "data": {
      "text/plain": [
       "0    False\n",
       "1    False\n",
       "2     True\n",
       "3     True\n",
       "dtype: bool"
      ]
     },
     "execution_count": 112,
     "metadata": {},
     "output_type": "execute_result"
    }
   ],
   "source": [
    "m_Pandas.isna()"
   ]
  },
  {
   "cell_type": "code",
   "execution_count": 114,
   "id": "3abbcfdc",
   "metadata": {},
   "outputs": [
    {
     "data": {
      "text/plain": [
       "0    False\n",
       "1    False\n",
       "2     True\n",
       "3     True\n",
       "dtype: bool"
      ]
     },
     "execution_count": 113,
     "metadata": {},
     "output_type": "execute_result"
    }
   ],
   "source": [
    "m_Pandas.isnull() # alias for pd.isna()"
   ]
  },
  {
   "cell_type": "markdown",
   "id": "4f85e258",
   "metadata": {},
   "source": [
    "### Operating on Missing\n",
    "\n",
    "We now compare the behavior of Polars to Pandas when operating on missing values.\n",
    "When interpreting the following remember:\n",
    "\n",
    "1. For Polars, nan is not missing. It is some unknown number. \n",
    "2. For Pandas, nan and Nulls are the same. \n"
   ]
  },
  {
   "cell_type": "code",
   "execution_count": 115,
   "id": "0a13a619",
   "metadata": {},
   "outputs": [],
   "source": [
    "# Polars\n",
    "m1 = pl.Series(\"a\", [1, None, 2, ]) # python native None\n",
    "m2 = pl.Series(\"a\", [1, np.nan, 2, ]) # numpy's nan\n",
    "m3 = pl.Series(\"a\", [1, float('nan'), 2, ]) # python's nan\n",
    "\n",
    "# Pandas\n",
    "m4 = pd.Series([1, None, 2 ])\n",
    "m5 = pd.Series([1, np.nan, 2, ])\n",
    "m6 = pd.Series([1, float('nan'), 2, ])"
   ]
  },
  {
   "cell_type": "code",
   "execution_count": 116,
   "id": "d5e888d6",
   "metadata": {},
   "outputs": [
    {
     "data": {
      "text/plain": [
       "[3, nan, nan, 3.0, 3.0, 3.0]"
      ]
     },
     "execution_count": 115,
     "metadata": {},
     "output_type": "execute_result"
    }
   ],
   "source": [
    "[\n",
    "  m1.sum(), \n",
    "  m2.sum(), \n",
    "  m3.sum(), \n",
    "  m4.sum(), \n",
    "  m5.sum(), \n",
    "  m6.sum(),\n",
    "  ]"
   ]
  },
  {
   "cell_type": "markdown",
   "id": "6d65abf7",
   "metadata": {},
   "source": [
    "Things to note:\n",
    "\n",
    "-   `None` will be ignored by both, which is **unsafe**.\n",
    "-   `np.nan` will be ignored by Pandas (unsafe), but not by Polars (safe).\n",
    "\n",
    "Filling missing values; `None` and `np.nan` are treated differently:\n"
   ]
  },
  {
   "cell_type": "code",
   "execution_count": 117,
   "id": "series-fill-null-for-null",
   "metadata": {},
   "outputs": [
    {
     "data": {
      "text/html": [
       "<div><style>\n",
       ".dataframe > thead > tr,\n",
       ".dataframe > tbody > tr {\n",
       "  text-align: right;\n",
       "  white-space: pre-wrap;\n",
       "}\n",
       "</style>\n",
       "<small>shape: (3,)</small><table border=\"1\" class=\"dataframe\"><thead><tr><th>a</th></tr><tr><td>i64</td></tr></thead><tbody><tr><td>1</td></tr><tr><td>0</td></tr><tr><td>2</td></tr></tbody></table></div>"
      ],
      "text/plain": [
       "shape: (3,)\n",
       "Series: 'a' [i64]\n",
       "[\n",
       "\t1\n",
       "\t0\n",
       "\t2\n",
       "]"
      ]
     },
     "execution_count": 116,
     "metadata": {},
     "output_type": "execute_result"
    }
   ],
   "source": [
    "#| label: series-fill-null-for-null\n",
    "m1.fill_null(0)"
   ]
  },
  {
   "cell_type": "code",
   "execution_count": 118,
   "id": "series-fill-null-for-nan",
   "metadata": {},
   "outputs": [
    {
     "data": {
      "text/html": [
       "<div><style>\n",
       ".dataframe > thead > tr,\n",
       ".dataframe > tbody > tr {\n",
       "  text-align: right;\n",
       "  white-space: pre-wrap;\n",
       "}\n",
       "</style>\n",
       "<small>shape: (3,)</small><table border=\"1\" class=\"dataframe\"><thead><tr><th>a</th></tr><tr><td>f64</td></tr></thead><tbody><tr><td>1.0</td></tr><tr><td>NaN</td></tr><tr><td>2.0</td></tr></tbody></table></div>"
      ],
      "text/plain": [
       "shape: (3,)\n",
       "Series: 'a' [f64]\n",
       "[\n",
       "\t1.0\n",
       "\tNaN\n",
       "\t2.0\n",
       "]"
      ]
     },
     "execution_count": 117,
     "metadata": {},
     "output_type": "execute_result"
    }
   ],
   "source": [
    "#| label: series-fill-null-for-nan\n",
    "m2.fill_null(0)"
   ]
  },
  {
   "cell_type": "code",
   "execution_count": 119,
   "id": "series-fill-nan-for-nan",
   "metadata": {},
   "outputs": [
    {
     "data": {
      "text/html": [
       "<div><style>\n",
       ".dataframe > thead > tr,\n",
       ".dataframe > tbody > tr {\n",
       "  text-align: right;\n",
       "  white-space: pre-wrap;\n",
       "}\n",
       "</style>\n",
       "<small>shape: (3,)</small><table border=\"1\" class=\"dataframe\"><thead><tr><th>a</th></tr><tr><td>f64</td></tr></thead><tbody><tr><td>1.0</td></tr><tr><td>0.0</td></tr><tr><td>2.0</td></tr></tbody></table></div>"
      ],
      "text/plain": [
       "shape: (3,)\n",
       "Series: 'a' [f64]\n",
       "[\n",
       "\t1.0\n",
       "\t0.0\n",
       "\t2.0\n",
       "]"
      ]
     },
     "execution_count": 118,
     "metadata": {},
     "output_type": "execute_result"
    }
   ],
   "source": [
    "#| label: series-fill-nan-for-nan\n",
    "m2.fill_nan(0)"
   ]
  },
  {
   "cell_type": "code",
   "execution_count": 120,
   "id": "series-drop-null-for-null",
   "metadata": {},
   "outputs": [
    {
     "data": {
      "text/html": [
       "<div><style>\n",
       ".dataframe > thead > tr,\n",
       ".dataframe > tbody > tr {\n",
       "  text-align: right;\n",
       "  white-space: pre-wrap;\n",
       "}\n",
       "</style>\n",
       "<small>shape: (2,)</small><table border=\"1\" class=\"dataframe\"><thead><tr><th>a</th></tr><tr><td>i64</td></tr></thead><tbody><tr><td>1</td></tr><tr><td>2</td></tr></tbody></table></div>"
      ],
      "text/plain": [
       "shape: (2,)\n",
       "Series: 'a' [i64]\n",
       "[\n",
       "\t1\n",
       "\t2\n",
       "]"
      ]
     },
     "execution_count": 119,
     "metadata": {},
     "output_type": "execute_result"
    }
   ],
   "source": [
    "#| label: series-drop-null-for-null\n",
    "m1.drop_nulls()"
   ]
  },
  {
   "cell_type": "code",
   "execution_count": 121,
   "id": "series-drop-nan-for-null",
   "metadata": {},
   "outputs": [
    {
     "data": {
      "text/html": [
       "<div><style>\n",
       ".dataframe > thead > tr,\n",
       ".dataframe > tbody > tr {\n",
       "  text-align: right;\n",
       "  white-space: pre-wrap;\n",
       "}\n",
       "</style>\n",
       "<small>shape: (3,)</small><table border=\"1\" class=\"dataframe\"><thead><tr><th>a</th></tr><tr><td>i64</td></tr></thead><tbody><tr><td>1</td></tr><tr><td>null</td></tr><tr><td>2</td></tr></tbody></table></div>"
      ],
      "text/plain": [
       "shape: (3,)\n",
       "Series: 'a' [i64]\n",
       "[\n",
       "\t1\n",
       "\tnull\n",
       "\t2\n",
       "]"
      ]
     },
     "execution_count": 120,
     "metadata": {},
     "output_type": "execute_result"
    }
   ],
   "source": [
    "#| label: series-drop-nan-for-null\n",
    "m1.drop_nans()"
   ]
  },
  {
   "cell_type": "code",
   "execution_count": 122,
   "id": "series-drop-null-for-nan",
   "metadata": {},
   "outputs": [
    {
     "data": {
      "text/html": [
       "<div><style>\n",
       ".dataframe > thead > tr,\n",
       ".dataframe > tbody > tr {\n",
       "  text-align: right;\n",
       "  white-space: pre-wrap;\n",
       "}\n",
       "</style>\n",
       "<small>shape: (3,)</small><table border=\"1\" class=\"dataframe\"><thead><tr><th>a</th></tr><tr><td>f64</td></tr></thead><tbody><tr><td>1.0</td></tr><tr><td>NaN</td></tr><tr><td>2.0</td></tr></tbody></table></div>"
      ],
      "text/plain": [
       "shape: (3,)\n",
       "Series: 'a' [f64]\n",
       "[\n",
       "\t1.0\n",
       "\tNaN\n",
       "\t2.0\n",
       "]"
      ]
     },
     "execution_count": 121,
     "metadata": {},
     "output_type": "execute_result"
    }
   ],
   "source": [
    "#| label: series-drop-null-for-nan\n",
    "m2.drop_nulls()"
   ]
  },
  {
   "cell_type": "code",
   "execution_count": 123,
   "id": "series-interpolate-null-for-null",
   "metadata": {},
   "outputs": [
    {
     "data": {
      "text/html": [
       "<div><style>\n",
       ".dataframe > thead > tr,\n",
       ".dataframe > tbody > tr {\n",
       "  text-align: right;\n",
       "  white-space: pre-wrap;\n",
       "}\n",
       "</style>\n",
       "<small>shape: (3,)</small><table border=\"1\" class=\"dataframe\"><thead><tr><th>a</th></tr><tr><td>f64</td></tr></thead><tbody><tr><td>1.0</td></tr><tr><td>1.5</td></tr><tr><td>2.0</td></tr></tbody></table></div>"
      ],
      "text/plain": [
       "shape: (3,)\n",
       "Series: 'a' [f64]\n",
       "[\n",
       "\t1.0\n",
       "\t1.5\n",
       "\t2.0\n",
       "]"
      ]
     },
     "execution_count": 122,
     "metadata": {},
     "output_type": "execute_result"
    }
   ],
   "source": [
    "#| label: series-interpolate-null-for-null\n",
    "m1.interpolate()"
   ]
  },
  {
   "cell_type": "code",
   "execution_count": 124,
   "id": "series-interpolate-null-for-nan",
   "metadata": {},
   "outputs": [
    {
     "data": {
      "text/html": [
       "<div><style>\n",
       ".dataframe > thead > tr,\n",
       ".dataframe > tbody > tr {\n",
       "  text-align: right;\n",
       "  white-space: pre-wrap;\n",
       "}\n",
       "</style>\n",
       "<small>shape: (3,)</small><table border=\"1\" class=\"dataframe\"><thead><tr><th>a</th></tr><tr><td>f64</td></tr></thead><tbody><tr><td>1.0</td></tr><tr><td>NaN</td></tr><tr><td>2.0</td></tr></tbody></table></div>"
      ],
      "text/plain": [
       "shape: (3,)\n",
       "Series: 'a' [f64]\n",
       "[\n",
       "\t1.0\n",
       "\tNaN\n",
       "\t2.0\n",
       "]"
      ]
     },
     "execution_count": 123,
     "metadata": {},
     "output_type": "execute_result"
    }
   ],
   "source": [
    "#| label: series-interpolate-null-for-nan\n",
    "m2.interpolate() # np.nan is not considered missing, so why interpolate?"
   ]
  },
  {
   "cell_type": "markdown",
   "id": "2d262754",
   "metadata": {},
   "source": [
    "## Shape Transformations\n"
   ]
  },
  {
   "cell_type": "code",
   "execution_count": 125,
   "id": "series-to-dummies",
   "metadata": {},
   "outputs": [
    {
     "data": {
      "text/html": [
       "<div><style>\n",
       ".dataframe > thead > tr,\n",
       ".dataframe > tbody > tr {\n",
       "  text-align: right;\n",
       "  white-space: pre-wrap;\n",
       "}\n",
       "</style>\n",
       "<small>shape: (3, 3)</small><table border=\"1\" class=\"dataframe\"><thead><tr><th>a_1</th><th>a_2</th><th>a_3</th></tr><tr><td>u8</td><td>u8</td><td>u8</td></tr></thead><tbody><tr><td>1</td><td>0</td><td>0</td></tr><tr><td>0</td><td>1</td><td>0</td></tr><tr><td>0</td><td>0</td><td>1</td></tr></tbody></table></div>"
      ],
      "text/plain": [
       "shape: (3, 3)\n",
       "┌─────┬─────┬─────┐\n",
       "│ a_1 ┆ a_2 ┆ a_3 │\n",
       "│ --- ┆ --- ┆ --- │\n",
       "│ u8  ┆ u8  ┆ u8  │\n",
       "╞═════╪═════╪═════╡\n",
       "│ 1   ┆ 0   ┆ 0   │\n",
       "│ 0   ┆ 1   ┆ 0   │\n",
       "│ 0   ┆ 0   ┆ 1   │\n",
       "└─────┴─────┴─────┘"
      ]
     },
     "execution_count": 124,
     "metadata": {},
     "output_type": "execute_result"
    }
   ],
   "source": [
    "#| label: series-to-dummies\n",
    "s.to_dummies()"
   ]
  },
  {
   "cell_type": "code",
   "execution_count": 126,
   "id": "series-shift",
   "metadata": {},
   "outputs": [
    {
     "data": {
      "text/html": [
       "<div><style>\n",
       ".dataframe > thead > tr,\n",
       ".dataframe > tbody > tr {\n",
       "  text-align: right;\n",
       "  white-space: pre-wrap;\n",
       "}\n",
       "</style>\n",
       "<small>shape: (3,)</small><table border=\"1\" class=\"dataframe\"><thead><tr><th>a</th></tr><tr><td>i64</td></tr></thead><tbody><tr><td>999</td></tr><tr><td>1</td></tr><tr><td>2</td></tr></tbody></table></div>"
      ],
      "text/plain": [
       "shape: (3,)\n",
       "Series: 'a' [i64]\n",
       "[\n",
       "\t999\n",
       "\t1\n",
       "\t2\n",
       "]"
      ]
     },
     "execution_count": 125,
     "metadata": {},
     "output_type": "execute_result"
    }
   ],
   "source": [
    "#| label: series-shift\n",
    "s.shift(1, fill_value=999)"
   ]
  },
  {
   "cell_type": "code",
   "execution_count": 127,
   "id": "series-shift-back",
   "metadata": {},
   "outputs": [
    {
     "data": {
      "text/html": [
       "<div><style>\n",
       ".dataframe > thead > tr,\n",
       ".dataframe > tbody > tr {\n",
       "  text-align: right;\n",
       "  white-space: pre-wrap;\n",
       "}\n",
       "</style>\n",
       "<small>shape: (3,)</small><table border=\"1\" class=\"dataframe\"><thead><tr><th>a</th></tr><tr><td>i64</td></tr></thead><tbody><tr><td>2</td></tr><tr><td>3</td></tr><tr><td>null</td></tr></tbody></table></div>"
      ],
      "text/plain": [
       "shape: (3,)\n",
       "Series: 'a' [i64]\n",
       "[\n",
       "\t2\n",
       "\t3\n",
       "\tnull\n",
       "]"
      ]
     },
     "execution_count": 126,
     "metadata": {},
     "output_type": "execute_result"
    }
   ],
   "source": [
    "#| label: series-shift-back\n",
    "s.shift(-1)"
   ]
  },
  {
   "cell_type": "code",
   "execution_count": 128,
   "id": "series-reshape",
   "metadata": {},
   "outputs": [
    {
     "data": {
      "text/html": [
       "<div><style>\n",
       ".dataframe > thead > tr,\n",
       ".dataframe > tbody > tr {\n",
       "  text-align: right;\n",
       "  white-space: pre-wrap;\n",
       "}\n",
       "</style>\n",
       "<small>shape: (2,)</small><table border=\"1\" class=\"dataframe\"><thead><tr><th>a</th></tr><tr><td>list[i64]</td></tr></thead><tbody><tr><td>[1, 2]</td></tr><tr><td>[3, 4]</td></tr></tbody></table></div>"
      ],
      "text/plain": [
       "shape: (2,)\n",
       "Series: 'a' [list[i64]]\n",
       "[\n",
       "\t[1, 2]\n",
       "\t[3, 4]\n",
       "]"
      ]
     },
     "execution_count": 127,
     "metadata": {},
     "output_type": "execute_result"
    }
   ],
   "source": [
    "#| label: series-reshape\n",
    "pl.Series(\"a\",[1,2,3,4]).reshape((2,2))"
   ]
  },
  {
   "cell_type": "markdown",
   "id": "8fdb08d3",
   "metadata": {},
   "source": [
    "## Arithmetic Operations\n",
    "\n",
    "The following will fail for `pl.Series` for will work(!) for `pl.Expr`.\n"
   ]
  },
  {
   "cell_type": "code",
   "execution_count": 129,
   "id": "series-add",
   "metadata": {},
   "outputs": [],
   "source": [
    "#| label: series-add\n",
    "#| eval: false\n",
    "\n",
    "s.add(1)"
   ]
  },
  {
   "cell_type": "code",
   "execution_count": 130,
   "id": "series-sub",
   "metadata": {},
   "outputs": [],
   "source": [
    "#| label: series-sub\n",
    "#| eval: false\n",
    "\n",
    "s.sub(1)"
   ]
  },
  {
   "cell_type": "code",
   "execution_count": 131,
   "id": "series-mul",
   "metadata": {},
   "outputs": [],
   "source": [
    "#| label: series-mul\n",
    "#| eval: false\n",
    "\n",
    "s.mul(2)"
   ]
  },
  {
   "cell_type": "code",
   "execution_count": 132,
   "id": "series-truediv",
   "metadata": {},
   "outputs": [],
   "source": [
    "#| label: series-truediv\n",
    "#| eval: false\n",
    "\n",
    "s.truediv(2)"
   ]
  },
  {
   "cell_type": "code",
   "execution_count": 133,
   "id": "series-floordiv",
   "metadata": {},
   "outputs": [],
   "source": [
    "#| label: series-floordiv\n",
    "#| eval: false\n",
    "\n",
    "s.floordiv(2)"
   ]
  },
  {
   "cell_type": "markdown",
   "id": "8fd244dc",
   "metadata": {},
   "source": [
    "## Mathematical Transformations\n"
   ]
  },
  {
   "cell_type": "code",
   "execution_count": 134,
   "id": "series-abs",
   "metadata": {},
   "outputs": [
    {
     "data": {
      "text/html": [
       "<div><style>\n",
       ".dataframe > thead > tr,\n",
       ".dataframe > tbody > tr {\n",
       "  text-align: right;\n",
       "  white-space: pre-wrap;\n",
       "}\n",
       "</style>\n",
       "<small>shape: (3,)</small><table border=\"1\" class=\"dataframe\"><thead><tr><th>a</th></tr><tr><td>i64</td></tr></thead><tbody><tr><td>1</td></tr><tr><td>2</td></tr><tr><td>3</td></tr></tbody></table></div>"
      ],
      "text/plain": [
       "shape: (3,)\n",
       "Series: 'a' [i64]\n",
       "[\n",
       "\t1\n",
       "\t2\n",
       "\t3\n",
       "]"
      ]
     },
     "execution_count": 128,
     "metadata": {},
     "output_type": "execute_result"
    }
   ],
   "source": [
    "#| label: series-abs\n",
    "s.abs()"
   ]
  },
  {
   "cell_type": "code",
   "execution_count": 135,
   "id": "series-sin",
   "metadata": {},
   "outputs": [
    {
     "data": {
      "text/html": [
       "<div><style>\n",
       ".dataframe > thead > tr,\n",
       ".dataframe > tbody > tr {\n",
       "  text-align: right;\n",
       "  white-space: pre-wrap;\n",
       "}\n",
       "</style>\n",
       "<small>shape: (3,)</small><table border=\"1\" class=\"dataframe\"><thead><tr><th>a</th></tr><tr><td>f64</td></tr></thead><tbody><tr><td>0.841471</td></tr><tr><td>0.909297</td></tr><tr><td>0.14112</td></tr></tbody></table></div>"
      ],
      "text/plain": [
       "shape: (3,)\n",
       "Series: 'a' [f64]\n",
       "[\n",
       "\t0.841471\n",
       "\t0.909297\n",
       "\t0.14112\n",
       "]"
      ]
     },
     "execution_count": 129,
     "metadata": {},
     "output_type": "execute_result"
    }
   ],
   "source": [
    "#| label: series-sin\n",
    "s.sin()"
   ]
  },
  {
   "cell_type": "code",
   "execution_count": 136,
   "id": "series-exp",
   "metadata": {},
   "outputs": [
    {
     "data": {
      "text/html": [
       "<div><style>\n",
       ".dataframe > thead > tr,\n",
       ".dataframe > tbody > tr {\n",
       "  text-align: right;\n",
       "  white-space: pre-wrap;\n",
       "}\n",
       "</style>\n",
       "<small>shape: (3,)</small><table border=\"1\" class=\"dataframe\"><thead><tr><th>a</th></tr><tr><td>f64</td></tr></thead><tbody><tr><td>2.718282</td></tr><tr><td>7.389056</td></tr><tr><td>20.085537</td></tr></tbody></table></div>"
      ],
      "text/plain": [
       "shape: (3,)\n",
       "Series: 'a' [f64]\n",
       "[\n",
       "\t2.718282\n",
       "\t7.389056\n",
       "\t20.085537\n",
       "]"
      ]
     },
     "execution_count": 130,
     "metadata": {},
     "output_type": "execute_result"
    }
   ],
   "source": [
    "#| label: series-exp\n",
    "s.exp()"
   ]
  },
  {
   "cell_type": "code",
   "execution_count": 137,
   "id": "series-hash",
   "metadata": {},
   "outputs": [
    {
     "data": {
      "text/html": [
       "<div><style>\n",
       ".dataframe > thead > tr,\n",
       ".dataframe > tbody > tr {\n",
       "  text-align: right;\n",
       "  white-space: pre-wrap;\n",
       "}\n",
       "</style>\n",
       "<small>shape: (3,)</small><table border=\"1\" class=\"dataframe\"><thead><tr><th>a</th></tr><tr><td>u64</td></tr></thead><tbody><tr><td>13306526652308846960</td></tr><tr><td>10493018799795767247</td></tr><tr><td>7189915626077311336</td></tr></tbody></table></div>"
      ],
      "text/plain": [
       "shape: (3,)\n",
       "Series: 'a' [u64]\n",
       "[\n",
       "\t13306526652308846960\n",
       "\t10493018799795767247\n",
       "\t7189915626077311336\n",
       "]"
      ]
     },
     "execution_count": 131,
     "metadata": {},
     "output_type": "execute_result"
    }
   ],
   "source": [
    "#| label: series-hash\n",
    "s.hash()"
   ]
  },
  {
   "cell_type": "code",
   "execution_count": 138,
   "id": "series-log",
   "metadata": {},
   "outputs": [
    {
     "data": {
      "text/html": [
       "<div><style>\n",
       ".dataframe > thead > tr,\n",
       ".dataframe > tbody > tr {\n",
       "  text-align: right;\n",
       "  white-space: pre-wrap;\n",
       "}\n",
       "</style>\n",
       "<small>shape: (3,)</small><table border=\"1\" class=\"dataframe\"><thead><tr><th>a</th></tr><tr><td>f64</td></tr></thead><tbody><tr><td>0.0</td></tr><tr><td>0.693147</td></tr><tr><td>1.098612</td></tr></tbody></table></div>"
      ],
      "text/plain": [
       "shape: (3,)\n",
       "Series: 'a' [f64]\n",
       "[\n",
       "\t0.0\n",
       "\t0.693147\n",
       "\t1.098612\n",
       "]"
      ]
     },
     "execution_count": 132,
     "metadata": {},
     "output_type": "execute_result"
    }
   ],
   "source": [
    "#| label: series-log\n",
    "s.log()"
   ]
  },
  {
   "cell_type": "code",
   "execution_count": 139,
   "id": "series-sqrt",
   "metadata": {},
   "outputs": [
    {
     "data": {
      "text/html": [
       "<div><style>\n",
       ".dataframe > thead > tr,\n",
       ".dataframe > tbody > tr {\n",
       "  text-align: right;\n",
       "  white-space: pre-wrap;\n",
       "}\n",
       "</style>\n",
       "<small>shape: (3,)</small><table border=\"1\" class=\"dataframe\"><thead><tr><th>a</th></tr><tr><td>f64</td></tr></thead><tbody><tr><td>1.0</td></tr><tr><td>1.414214</td></tr><tr><td>1.732051</td></tr></tbody></table></div>"
      ],
      "text/plain": [
       "shape: (3,)\n",
       "Series: 'a' [f64]\n",
       "[\n",
       "\t1.0\n",
       "\t1.414214\n",
       "\t1.732051\n",
       "]"
      ]
     },
     "execution_count": 133,
     "metadata": {},
     "output_type": "execute_result"
    }
   ],
   "source": [
    "#| label: series-sqrt\n",
    "s.sqrt()"
   ]
  },
  {
   "cell_type": "markdown",
   "id": "36c4ebec",
   "metadata": {},
   "source": [
    "## Comparisons\n"
   ]
  },
  {
   "cell_type": "code",
   "execution_count": 140,
   "id": "589b7e5c",
   "metadata": {},
   "outputs": [
    {
     "data": {
      "text/plain": [
       "True"
      ]
     },
     "execution_count": 134,
     "metadata": {},
     "output_type": "execute_result"
    }
   ],
   "source": [
    "s.equals(pl.Series(\"a\", [1, 2, 3]))"
   ]
  },
  {
   "cell_type": "code",
   "execution_count": 141,
   "id": "series-eq",
   "metadata": {},
   "outputs": [
    {
     "data": {
      "text/html": [
       "<div><style>\n",
       ".dataframe > thead > tr,\n",
       ".dataframe > tbody > tr {\n",
       "  text-align: right;\n",
       "  white-space: pre-wrap;\n",
       "}\n",
       "</style>\n",
       "<small>shape: (3,)</small><table border=\"1\" class=\"dataframe\"><thead><tr><th>a</th></tr><tr><td>bool</td></tr></thead><tbody><tr><td>false</td></tr><tr><td>true</td></tr><tr><td>false</td></tr></tbody></table></div>"
      ],
      "text/plain": [
       "shape: (3,)\n",
       "Series: 'a' [bool]\n",
       "[\n",
       "\tfalse\n",
       "\ttrue\n",
       "\tfalse\n",
       "]"
      ]
     },
     "execution_count": 135,
     "metadata": {},
     "output_type": "execute_result"
    }
   ],
   "source": [
    "#| label: series-eq\n",
    "s.eq(2)"
   ]
  },
  {
   "cell_type": "code",
   "execution_count": 142,
   "id": "series-ge",
   "metadata": {},
   "outputs": [
    {
     "data": {
      "text/html": [
       "<div><style>\n",
       ".dataframe > thead > tr,\n",
       ".dataframe > tbody > tr {\n",
       "  text-align: right;\n",
       "  white-space: pre-wrap;\n",
       "}\n",
       "</style>\n",
       "<small>shape: (3,)</small><table border=\"1\" class=\"dataframe\"><thead><tr><th>a</th></tr><tr><td>bool</td></tr></thead><tbody><tr><td>false</td></tr><tr><td>true</td></tr><tr><td>true</td></tr></tbody></table></div>"
      ],
      "text/plain": [
       "shape: (3,)\n",
       "Series: 'a' [bool]\n",
       "[\n",
       "\tfalse\n",
       "\ttrue\n",
       "\ttrue\n",
       "]"
      ]
     },
     "execution_count": 136,
     "metadata": {},
     "output_type": "execute_result"
    }
   ],
   "source": [
    "#| label: series-ge\n",
    "s.ge(2)"
   ]
  },
  {
   "cell_type": "markdown",
   "id": "5868bd57",
   "metadata": {},
   "source": [
    "Clip, aka Winsorize. \n"
   ]
  },
  {
   "cell_type": "code",
   "execution_count": 143,
   "id": "series-clip",
   "metadata": {},
   "outputs": [
    {
     "data": {
      "text/html": [
       "<div><style>\n",
       ".dataframe > thead > tr,\n",
       ".dataframe > tbody > tr {\n",
       "  text-align: right;\n",
       "  white-space: pre-wrap;\n",
       "}\n",
       "</style>\n",
       "<small>shape: (3,)</small><table border=\"1\" class=\"dataframe\"><thead><tr><th>a</th></tr><tr><td>f64</td></tr></thead><tbody><tr><td>1.5</td></tr><tr><td>2.0</td></tr><tr><td>2.5</td></tr></tbody></table></div>"
      ],
      "text/plain": [
       "shape: (3,)\n",
       "Series: 'a' [f64]\n",
       "[\n",
       "\t1.5\n",
       "\t2.0\n",
       "\t2.5\n",
       "]"
      ]
     },
     "execution_count": 137,
     "metadata": {},
     "output_type": "execute_result"
    }
   ],
   "source": [
    "#| label: series-clip\n",
    "f.clip(lower_bound=1.5,upper_bound=2.5)"
   ]
  },
  {
   "cell_type": "code",
   "execution_count": 144,
   "id": "series-round",
   "metadata": {},
   "outputs": [
    {
     "data": {
      "text/html": [
       "<div><style>\n",
       ".dataframe > thead > tr,\n",
       ".dataframe > tbody > tr {\n",
       "  text-align: right;\n",
       "  white-space: pre-wrap;\n",
       "}\n",
       "</style>\n",
       "<small>shape: (3,)</small><table border=\"1\" class=\"dataframe\"><thead><tr><th>a</th></tr><tr><td>f64</td></tr></thead><tbody><tr><td>1.0</td></tr><tr><td>2.0</td></tr><tr><td>3.0</td></tr></tbody></table></div>"
      ],
      "text/plain": [
       "shape: (3,)\n",
       "Series: 'a' [f64]\n",
       "[\n",
       "\t1.0\n",
       "\t2.0\n",
       "\t3.0\n",
       "]"
      ]
     },
     "execution_count": 138,
     "metadata": {},
     "output_type": "execute_result"
    }
   ],
   "source": [
    "#| label: series-round\n",
    "f.round(2)"
   ]
  },
  {
   "cell_type": "code",
   "execution_count": 145,
   "id": "series-ceil",
   "metadata": {},
   "outputs": [
    {
     "data": {
      "text/html": [
       "<div><style>\n",
       ".dataframe > thead > tr,\n",
       ".dataframe > tbody > tr {\n",
       "  text-align: right;\n",
       "  white-space: pre-wrap;\n",
       "}\n",
       "</style>\n",
       "<small>shape: (3,)</small><table border=\"1\" class=\"dataframe\"><thead><tr><th>a</th></tr><tr><td>f64</td></tr></thead><tbody><tr><td>1.0</td></tr><tr><td>2.0</td></tr><tr><td>3.0</td></tr></tbody></table></div>"
      ],
      "text/plain": [
       "shape: (3,)\n",
       "Series: 'a' [f64]\n",
       "[\n",
       "\t1.0\n",
       "\t2.0\n",
       "\t3.0\n",
       "]"
      ]
     },
     "execution_count": 139,
     "metadata": {},
     "output_type": "execute_result"
    }
   ],
   "source": [
    "#| label: series-ceil\n",
    "f.ceil()"
   ]
  },
  {
   "cell_type": "code",
   "execution_count": 146,
   "id": "series-floor",
   "metadata": {},
   "outputs": [
    {
     "data": {
      "text/html": [
       "<div><style>\n",
       ".dataframe > thead > tr,\n",
       ".dataframe > tbody > tr {\n",
       "  text-align: right;\n",
       "  white-space: pre-wrap;\n",
       "}\n",
       "</style>\n",
       "<small>shape: (3,)</small><table border=\"1\" class=\"dataframe\"><thead><tr><th>a</th></tr><tr><td>f64</td></tr></thead><tbody><tr><td>1.0</td></tr><tr><td>2.0</td></tr><tr><td>3.0</td></tr></tbody></table></div>"
      ],
      "text/plain": [
       "shape: (3,)\n",
       "Series: 'a' [f64]\n",
       "[\n",
       "\t1.0\n",
       "\t2.0\n",
       "\t3.0\n",
       "]"
      ]
     },
     "execution_count": 140,
     "metadata": {},
     "output_type": "execute_result"
    }
   ],
   "source": [
    "#| label: series-floor\n",
    "f.floor()"
   ]
  },
  {
   "cell_type": "code",
   "execution_count": 147,
   "id": "series-which-max",
   "metadata": {},
   "outputs": [
    {
     "data": {
      "text/html": [
       "<div><style>\n",
       ".dataframe > thead > tr,\n",
       ".dataframe > tbody > tr {\n",
       "  text-align: right;\n",
       "  white-space: pre-wrap;\n",
       "}\n",
       "</style>\n",
       "<small>shape: (3,)</small><table border=\"1\" class=\"dataframe\"><thead><tr><th>a</th></tr><tr><td>bool</td></tr></thead><tbody><tr><td>false</td></tr><tr><td>false</td></tr><tr><td>true</td></tr></tbody></table></div>"
      ],
      "text/plain": [
       "shape: (3,)\n",
       "Series: 'a' [bool]\n",
       "[\n",
       "\tfalse\n",
       "\tfalse\n",
       "\ttrue\n",
       "]"
      ]
     },
     "execution_count": 141,
     "metadata": {},
     "output_type": "execute_result"
    }
   ],
   "source": [
    "#| label: series-which-max\n",
    "s.peak_max()"
   ]
  },
  {
   "cell_type": "markdown",
   "id": "b699f9d2",
   "metadata": {},
   "source": [
    "## Search\n"
   ]
  },
  {
   "cell_type": "code",
   "execution_count": 148,
   "id": "series-search-in-list",
   "metadata": {},
   "outputs": [
    {
     "data": {
      "text/html": [
       "<div><style>\n",
       ".dataframe > thead > tr,\n",
       ".dataframe > tbody > tr {\n",
       "  text-align: right;\n",
       "  white-space: pre-wrap;\n",
       "}\n",
       "</style>\n",
       "<small>shape: (3,)</small><table border=\"1\" class=\"dataframe\"><thead><tr><th>a</th></tr><tr><td>bool</td></tr></thead><tbody><tr><td>true</td></tr><tr><td>false</td></tr><tr><td>false</td></tr></tbody></table></div>"
      ],
      "text/plain": [
       "shape: (3,)\n",
       "Series: 'a' [bool]\n",
       "[\n",
       "\ttrue\n",
       "\tfalse\n",
       "\tfalse\n",
       "]"
      ]
     },
     "execution_count": 142,
     "metadata": {},
     "output_type": "execute_result"
    }
   ],
   "source": [
    "#| label: series-search-in-list\n",
    "s.is_in([1, 10])"
   ]
  },
  {
   "cell_type": "code",
   "execution_count": 149,
   "id": "series-search-in-range",
   "metadata": {},
   "outputs": [
    {
     "data": {
      "text/html": [
       "<div><style>\n",
       ".dataframe > thead > tr,\n",
       ".dataframe > tbody > tr {\n",
       "  text-align: right;\n",
       "  white-space: pre-wrap;\n",
       "}\n",
       "</style>\n",
       "<small>shape: (3,)</small><table border=\"1\" class=\"dataframe\"><thead><tr><th>a</th></tr><tr><td>bool</td></tr></thead><tbody><tr><td>false</td></tr><tr><td>true</td></tr><tr><td>true</td></tr></tbody></table></div>"
      ],
      "text/plain": [
       "shape: (3,)\n",
       "Series: 'a' [bool]\n",
       "[\n",
       "\tfalse\n",
       "\ttrue\n",
       "\ttrue\n",
       "]"
      ]
     },
     "execution_count": 143,
     "metadata": {},
     "output_type": "execute_result"
    }
   ],
   "source": [
    "#| label: series-search-in-range\n",
    "s.is_between(2, 3, closed='both')"
   ]
  },
  {
   "cell_type": "markdown",
   "id": "26d9f1b3",
   "metadata": {},
   "source": [
    "## Apply (map_elements)\n",
    "\n",
    "Applying your own function. \n",
    "Also note the informative error message (introduced in Polars Ver 0.18.0) that will try to recommend a more efficient way to do things.\n"
   ]
  },
  {
   "cell_type": "code",
   "execution_count": 150,
   "id": "d950a56b",
   "metadata": {},
   "outputs": [
    {
     "name": "stderr",
     "output_type": "stream",
     "text": [
      "/var/folders/ld/j2ckdhnj5hqcx58byy0gj9th0000gn/T/ipykernel_99747/2438314803.py:1: PolarsInefficientMapWarning:\n",
      "\n",
      "\n",
      "Series.map_elements is significantly slower than the native series API.\n",
      "Only use if you absolutely CANNOT implement your logic otherwise.\n",
      "Replace this expression...\n",
      "  - s.map_elements(lambda x: ...)\n",
      "with this one instead:\n",
      "  + s + 1\n",
      "\n",
      "\n"
     ]
    },
    {
     "data": {
      "text/html": [
       "<div><style>\n",
       ".dataframe > thead > tr,\n",
       ".dataframe > tbody > tr {\n",
       "  text-align: right;\n",
       "  white-space: pre-wrap;\n",
       "}\n",
       "</style>\n",
       "<small>shape: (3,)</small><table border=\"1\" class=\"dataframe\"><thead><tr><th>a</th></tr><tr><td>i64</td></tr></thead><tbody><tr><td>2</td></tr><tr><td>3</td></tr><tr><td>4</td></tr></tbody></table></div>"
      ],
      "text/plain": [
       "shape: (3,)\n",
       "Series: 'a' [i64]\n",
       "[\n",
       "\t2\n",
       "\t3\n",
       "\t4\n",
       "]"
      ]
     },
     "execution_count": 144,
     "metadata": {},
     "output_type": "execute_result"
    }
   ],
   "source": [
    "s.map_elements(lambda x: x + 1)"
   ]
  },
  {
   "cell_type": "markdown",
   "id": "5c20140d",
   "metadata": {},
   "source": [
    "Are lambda functions really so much slower?\n"
   ]
  },
  {
   "cell_type": "code",
   "execution_count": 151,
   "id": "87da22ff",
   "metadata": {},
   "outputs": [],
   "source": [
    "s1 = pl.Series(np.random.randn(int(1e6)))"
   ]
  },
  {
   "cell_type": "markdown",
   "id": "6fe828bf",
   "metadata": {},
   "source": [
    "Adding 1 with apply:\n"
   ]
  },
  {
   "cell_type": "code",
   "execution_count": 152,
   "id": "4dde1543",
   "metadata": {},
   "outputs": [
    {
     "name": "stdout",
     "output_type": "stream",
     "text": [
      "136 ms ± 2.05 ms per loop (mean ± std. dev. of 2 runs, 2 loops each)\n"
     ]
    }
   ],
   "source": [
    "%timeit -n2 -r2 s1.map_elements(lambda x: x + 1)"
   ]
  },
  {
   "cell_type": "markdown",
   "id": "c4345f48",
   "metadata": {},
   "source": [
    "Adding 1 without apply:\n"
   ]
  },
  {
   "cell_type": "code",
   "execution_count": 153,
   "id": "5b6d9b3b",
   "metadata": {},
   "outputs": [
    {
     "name": "stdout",
     "output_type": "stream",
     "text": [
      "892 µs ± 126 µs per loop (mean ± std. dev. of 2 runs, 2 loops each)\n"
     ]
    }
   ],
   "source": [
    "%timeit -n2 -r2 s1+1"
   ]
  },
  {
   "cell_type": "markdown",
   "id": "e06f0ead",
   "metadata": {},
   "source": [
    "## Cumulative Operations\n"
   ]
  },
  {
   "cell_type": "code",
   "execution_count": 154,
   "id": "series-cum-max",
   "metadata": {},
   "outputs": [
    {
     "data": {
      "text/html": [
       "<div><style>\n",
       ".dataframe > thead > tr,\n",
       ".dataframe > tbody > tr {\n",
       "  text-align: right;\n",
       "  white-space: pre-wrap;\n",
       "}\n",
       "</style>\n",
       "<small>shape: (3,)</small><table border=\"1\" class=\"dataframe\"><thead><tr><th>a</th></tr><tr><td>i64</td></tr></thead><tbody><tr><td>1</td></tr><tr><td>2</td></tr><tr><td>3</td></tr></tbody></table></div>"
      ],
      "text/plain": [
       "shape: (3,)\n",
       "Series: 'a' [i64]\n",
       "[\n",
       "\t1\n",
       "\t2\n",
       "\t3\n",
       "]"
      ]
     },
     "execution_count": 148,
     "metadata": {},
     "output_type": "execute_result"
    }
   ],
   "source": [
    "#| label: series-cum-max\n",
    "s.cum_max()"
   ]
  },
  {
   "cell_type": "code",
   "execution_count": 155,
   "id": "series-cumsum",
   "metadata": {},
   "outputs": [
    {
     "data": {
      "text/html": [
       "<div><style>\n",
       ".dataframe > thead > tr,\n",
       ".dataframe > tbody > tr {\n",
       "  text-align: right;\n",
       "  white-space: pre-wrap;\n",
       "}\n",
       "</style>\n",
       "<small>shape: (3,)</small><table border=\"1\" class=\"dataframe\"><thead><tr><th>a</th></tr><tr><td>i64</td></tr></thead><tbody><tr><td>1</td></tr><tr><td>3</td></tr><tr><td>6</td></tr></tbody></table></div>"
      ],
      "text/plain": [
       "shape: (3,)\n",
       "Series: 'a' [i64]\n",
       "[\n",
       "\t1\n",
       "\t3\n",
       "\t6\n",
       "]"
      ]
     },
     "execution_count": 149,
     "metadata": {},
     "output_type": "execute_result"
    }
   ],
   "source": [
    "#| label: series-cumsum\n",
    "s.cum_sum()"
   ]
  },
  {
   "cell_type": "code",
   "execution_count": 156,
   "id": "series-cumprod",
   "metadata": {},
   "outputs": [
    {
     "data": {
      "text/html": [
       "<div><style>\n",
       ".dataframe > thead > tr,\n",
       ".dataframe > tbody > tr {\n",
       "  text-align: right;\n",
       "  white-space: pre-wrap;\n",
       "}\n",
       "</style>\n",
       "<small>shape: (3,)</small><table border=\"1\" class=\"dataframe\"><thead><tr><th>a</th></tr><tr><td>i64</td></tr></thead><tbody><tr><td>1</td></tr><tr><td>2</td></tr><tr><td>6</td></tr></tbody></table></div>"
      ],
      "text/plain": [
       "shape: (3,)\n",
       "Series: 'a' [i64]\n",
       "[\n",
       "\t1\n",
       "\t2\n",
       "\t6\n",
       "]"
      ]
     },
     "execution_count": 150,
     "metadata": {},
     "output_type": "execute_result"
    }
   ],
   "source": [
    "#| label: series-cumprod\n",
    "s.cum_prod()"
   ]
  },
  {
   "cell_type": "code",
   "execution_count": 157,
   "id": "series-ewm",
   "metadata": {},
   "outputs": [
    {
     "name": "stderr",
     "output_type": "stream",
     "text": [
      "/var/folders/ld/j2ckdhnj5hqcx58byy0gj9th0000gn/T/ipykernel_99747/799281854.py:1: DeprecationWarning:\n",
      "\n",
      "The default value for `ignore_nulls` for `ewm` methods will change from True to False in the next breaking release. Explicitly set `ignore_nulls=True` to keep the existing behavior and silence this warning.\n",
      "\n"
     ]
    },
    {
     "data": {
      "text/html": [
       "<div><style>\n",
       ".dataframe > thead > tr,\n",
       ".dataframe > tbody > tr {\n",
       "  text-align: right;\n",
       "  white-space: pre-wrap;\n",
       "}\n",
       "</style>\n",
       "<small>shape: (3,)</small><table border=\"1\" class=\"dataframe\"><thead><tr><th>a</th></tr><tr><td>f64</td></tr></thead><tbody><tr><td>1.0</td></tr><tr><td>1.75</td></tr><tr><td>2.615385</td></tr></tbody></table></div>"
      ],
      "text/plain": [
       "shape: (3,)\n",
       "Series: 'a' [f64]\n",
       "[\n",
       "\t1.0\n",
       "\t1.75\n",
       "\t2.615385\n",
       "]"
      ]
     },
     "execution_count": 151,
     "metadata": {},
     "output_type": "execute_result"
    }
   ],
   "source": [
    "#| label: series-ewm\n",
    "s.ewm_mean(com=0.5)"
   ]
  },
  {
   "cell_type": "markdown",
   "id": "73a04495",
   "metadata": {},
   "source": [
    "## Differentiation Operations\n"
   ]
  },
  {
   "cell_type": "code",
   "execution_count": 158,
   "id": "series-diff",
   "metadata": {},
   "outputs": [
    {
     "data": {
      "text/html": [
       "<div><style>\n",
       ".dataframe > thead > tr,\n",
       ".dataframe > tbody > tr {\n",
       "  text-align: right;\n",
       "  white-space: pre-wrap;\n",
       "}\n",
       "</style>\n",
       "<small>shape: (3,)</small><table border=\"1\" class=\"dataframe\"><thead><tr><th>a</th></tr><tr><td>i64</td></tr></thead><tbody><tr><td>null</td></tr><tr><td>1</td></tr><tr><td>1</td></tr></tbody></table></div>"
      ],
      "text/plain": [
       "shape: (3,)\n",
       "Series: 'a' [i64]\n",
       "[\n",
       "\tnull\n",
       "\t1\n",
       "\t1\n",
       "]"
      ]
     },
     "execution_count": 152,
     "metadata": {},
     "output_type": "execute_result"
    }
   ],
   "source": [
    "#| label: series-diff\n",
    "s.diff()"
   ]
  },
  {
   "cell_type": "code",
   "execution_count": 159,
   "id": "series-pct-change",
   "metadata": {},
   "outputs": [
    {
     "data": {
      "text/html": [
       "<div><style>\n",
       ".dataframe > thead > tr,\n",
       ".dataframe > tbody > tr {\n",
       "  text-align: right;\n",
       "  white-space: pre-wrap;\n",
       "}\n",
       "</style>\n",
       "<small>shape: (3,)</small><table border=\"1\" class=\"dataframe\"><thead><tr><th>a</th></tr><tr><td>f64</td></tr></thead><tbody><tr><td>null</td></tr><tr><td>1.0</td></tr><tr><td>0.5</td></tr></tbody></table></div>"
      ],
      "text/plain": [
       "shape: (3,)\n",
       "Series: 'a' [f64]\n",
       "[\n",
       "\tnull\n",
       "\t1.0\n",
       "\t0.5\n",
       "]"
      ]
     },
     "execution_count": 153,
     "metadata": {},
     "output_type": "execute_result"
    }
   ],
   "source": [
    "#| label: series-pct-change\n",
    "s.pct_change()"
   ]
  },
  {
   "cell_type": "markdown",
   "id": "4f22e979",
   "metadata": {},
   "source": [
    "## Windowed Operations\n"
   ]
  },
  {
   "cell_type": "code",
   "execution_count": 160,
   "id": "series-rolling-mean",
   "metadata": {},
   "outputs": [
    {
     "data": {
      "text/html": [
       "<div><style>\n",
       ".dataframe > thead > tr,\n",
       ".dataframe > tbody > tr {\n",
       "  text-align: right;\n",
       "  white-space: pre-wrap;\n",
       "}\n",
       "</style>\n",
       "<small>shape: (3,)</small><table border=\"1\" class=\"dataframe\"><thead><tr><th>a</th></tr><tr><td>f64</td></tr></thead><tbody><tr><td>null</td></tr><tr><td>1.5</td></tr><tr><td>2.5</td></tr></tbody></table></div>"
      ],
      "text/plain": [
       "shape: (3,)\n",
       "Series: 'a' [f64]\n",
       "[\n",
       "\tnull\n",
       "\t1.5\n",
       "\t2.5\n",
       "]"
      ]
     },
     "execution_count": 154,
     "metadata": {},
     "output_type": "execute_result"
    }
   ],
   "source": [
    "#| label: series-rolling-mean\n",
    "\n",
    "s.rolling_mean(window_size=2)"
   ]
  },
  {
   "cell_type": "code",
   "execution_count": 161,
   "id": "series-rolling-sum",
   "metadata": {},
   "outputs": [
    {
     "data": {
      "text/html": [
       "<div><style>\n",
       ".dataframe > thead > tr,\n",
       ".dataframe > tbody > tr {\n",
       "  text-align: right;\n",
       "  white-space: pre-wrap;\n",
       "}\n",
       "</style>\n",
       "<small>shape: (3,)</small><table border=\"1\" class=\"dataframe\"><thead><tr><th>a</th></tr><tr><td>i64</td></tr></thead><tbody><tr><td>null</td></tr><tr><td>3</td></tr><tr><td>5</td></tr></tbody></table></div>"
      ],
      "text/plain": [
       "shape: (3,)\n",
       "Series: 'a' [i64]\n",
       "[\n",
       "\tnull\n",
       "\t3\n",
       "\t5\n",
       "]"
      ]
     },
     "execution_count": 155,
     "metadata": {},
     "output_type": "execute_result"
    }
   ],
   "source": [
    "#| label: series-rolling-sum\n",
    "\n",
    "s.rolling_sum(window_size=2)"
   ]
  },
  {
   "cell_type": "code",
   "execution_count": 162,
   "id": "series-rolling-map",
   "metadata": {},
   "outputs": [
    {
     "data": {
      "text/html": [
       "<div><style>\n",
       ".dataframe > thead > tr,\n",
       ".dataframe > tbody > tr {\n",
       "  text-align: right;\n",
       "  white-space: pre-wrap;\n",
       "}\n",
       "</style>\n",
       "<small>shape: (3,)</small><table border=\"1\" class=\"dataframe\"><thead><tr><th>a</th></tr><tr><td>i64</td></tr></thead><tbody><tr><td>null</td></tr><tr><td>3</td></tr><tr><td>5</td></tr></tbody></table></div>"
      ],
      "text/plain": [
       "shape: (3,)\n",
       "Series: 'a' [i64]\n",
       "[\n",
       "\tnull\n",
       "\t3\n",
       "\t5\n",
       "]"
      ]
     },
     "execution_count": 156,
     "metadata": {},
     "output_type": "execute_result"
    }
   ],
   "source": [
    "#| label: series-rolling-map\n",
    "s.rolling_map(\n",
    "  sum, \n",
    "  window_size=2)"
   ]
  },
  {
   "cell_type": "markdown",
   "id": "6fe74277",
   "metadata": {},
   "source": [
    "Note:\n",
    "\n",
    "- `sum` is the `pl.sum()` function. You cannot use arbitrary functions within a `rolling_map()` context. \n",
    "- Many rolling functions have been prepared. See the [computations section](https://docs.pola.rs/py-Polars/html/reference/series/computation.html) of the Series class in the official API.\n",
    "\n",
    "\n",
    "\n",
    "## Logical Aggregations\n"
   ]
  },
  {
   "cell_type": "code",
   "execution_count": 163,
   "id": "make-boolean-series",
   "metadata": {},
   "outputs": [
    {
     "data": {
      "text/plain": [
       "Boolean"
      ]
     },
     "execution_count": 157,
     "metadata": {},
     "output_type": "execute_result"
    }
   ],
   "source": [
    "#| label: make-boolean-series\n",
    "b = pl.Series(\"a\", [True, True, False])\n",
    "b.dtype"
   ]
  },
  {
   "cell_type": "code",
   "execution_count": 164,
   "id": "series-all",
   "metadata": {},
   "outputs": [
    {
     "data": {
      "text/plain": [
       "False"
      ]
     },
     "execution_count": 158,
     "metadata": {},
     "output_type": "execute_result"
    }
   ],
   "source": [
    "#| label: series-all\n",
    "b.all()"
   ]
  },
  {
   "cell_type": "code",
   "execution_count": 165,
   "id": "series-any",
   "metadata": {},
   "outputs": [
    {
     "data": {
      "text/plain": [
       "True"
      ]
     },
     "execution_count": 159,
     "metadata": {},
     "output_type": "execute_result"
    }
   ],
   "source": [
    "#| label: series-any\n",
    "b.any()"
   ]
  },
  {
   "cell_type": "code",
   "execution_count": 166,
   "id": "series-not",
   "metadata": {},
   "outputs": [
    {
     "data": {
      "text/html": [
       "<div><style>\n",
       ".dataframe > thead > tr,\n",
       ".dataframe > tbody > tr {\n",
       "  text-align: right;\n",
       "  white-space: pre-wrap;\n",
       "}\n",
       "</style>\n",
       "<small>shape: (3,)</small><table border=\"1\" class=\"dataframe\"><thead><tr><th>a</th></tr><tr><td>bool</td></tr></thead><tbody><tr><td>false</td></tr><tr><td>false</td></tr><tr><td>true</td></tr></tbody></table></div>"
      ],
      "text/plain": [
       "shape: (3,)\n",
       "Series: 'a' [bool]\n",
       "[\n",
       "\tfalse\n",
       "\tfalse\n",
       "\ttrue\n",
       "]"
      ]
     },
     "execution_count": 160,
     "metadata": {},
     "output_type": "execute_result"
    }
   ],
   "source": [
    "#| label: series-not\n",
    "b.not_()"
   ]
  },
  {
   "cell_type": "markdown",
   "id": "8ad25cd2",
   "metadata": {},
   "source": [
    "## Uniques and Duplicates\n"
   ]
  },
  {
   "cell_type": "code",
   "execution_count": 167,
   "id": "series-is-duplicated",
   "metadata": {},
   "outputs": [
    {
     "data": {
      "text/html": [
       "<div><style>\n",
       ".dataframe > thead > tr,\n",
       ".dataframe > tbody > tr {\n",
       "  text-align: right;\n",
       "  white-space: pre-wrap;\n",
       "}\n",
       "</style>\n",
       "<small>shape: (3,)</small><table border=\"1\" class=\"dataframe\"><thead><tr><th>a</th></tr><tr><td>bool</td></tr></thead><tbody><tr><td>false</td></tr><tr><td>false</td></tr><tr><td>false</td></tr></tbody></table></div>"
      ],
      "text/plain": [
       "shape: (3,)\n",
       "Series: 'a' [bool]\n",
       "[\n",
       "\tfalse\n",
       "\tfalse\n",
       "\tfalse\n",
       "]"
      ]
     },
     "execution_count": 161,
     "metadata": {},
     "output_type": "execute_result"
    }
   ],
   "source": [
    "#| label: series-is-duplicated\n",
    "s.is_duplicated()"
   ]
  },
  {
   "cell_type": "code",
   "execution_count": 168,
   "id": "series-is-unique",
   "metadata": {},
   "outputs": [
    {
     "data": {
      "text/html": [
       "<div><style>\n",
       ".dataframe > thead > tr,\n",
       ".dataframe > tbody > tr {\n",
       "  text-align: right;\n",
       "  white-space: pre-wrap;\n",
       "}\n",
       "</style>\n",
       "<small>shape: (3,)</small><table border=\"1\" class=\"dataframe\"><thead><tr><th>a</th></tr><tr><td>bool</td></tr></thead><tbody><tr><td>true</td></tr><tr><td>true</td></tr><tr><td>true</td></tr></tbody></table></div>"
      ],
      "text/plain": [
       "shape: (3,)\n",
       "Series: 'a' [bool]\n",
       "[\n",
       "\ttrue\n",
       "\ttrue\n",
       "\ttrue\n",
       "]"
      ]
     },
     "execution_count": 162,
     "metadata": {},
     "output_type": "execute_result"
    }
   ],
   "source": [
    "#| label: series-is-unique\n",
    "s.is_unique()"
   ]
  },
  {
   "cell_type": "code",
   "execution_count": 169,
   "id": "series-n-unique",
   "metadata": {},
   "outputs": [
    {
     "data": {
      "text/html": [
       "<div><style>\n",
       ".dataframe > thead > tr,\n",
       ".dataframe > tbody > tr {\n",
       "  text-align: right;\n",
       "  white-space: pre-wrap;\n",
       "}\n",
       "</style>\n",
       "<small>shape: (3,)</small><table border=\"1\" class=\"dataframe\"><thead><tr><th>a</th></tr><tr><td>i64</td></tr></thead><tbody><tr><td>1</td></tr><tr><td>2</td></tr><tr><td>3</td></tr></tbody></table></div>"
      ],
      "text/plain": [
       "shape: (3,)\n",
       "Series: 'a' [i64]\n",
       "[\n",
       "\t1\n",
       "\t2\n",
       "\t3\n",
       "]"
      ]
     },
     "execution_count": 163,
     "metadata": {},
     "output_type": "execute_result"
    }
   ],
   "source": [
    "#| label: series-n-unique\n",
    "s.unique() # Same as Pandas drop_duplicates()"
   ]
  },
  {
   "cell_type": "code",
   "execution_count": 170,
   "id": "13baf86d",
   "metadata": {},
   "outputs": [
    {
     "data": {
      "text/plain": [
       "3"
      ]
     },
     "execution_count": 164,
     "metadata": {},
     "output_type": "execute_result"
    }
   ],
   "source": [
    "s.n_unique()"
   ]
  },
  {
   "cell_type": "code",
   "execution_count": 171,
   "id": "6db930f6",
   "metadata": {},
   "outputs": [
    {
     "data": {
      "text/html": [
       "<div><style>\n",
       ".dataframe > thead > tr,\n",
       ".dataframe > tbody > tr {\n",
       "  text-align: right;\n",
       "  white-space: pre-wrap;\n",
       "}\n",
       "</style>\n",
       "<small>shape: (4,)</small><table border=\"1\" class=\"dataframe\"><thead><tr><th></th></tr><tr><td>u32</td></tr></thead><tbody><tr><td>2</td></tr><tr><td>1</td></tr><tr><td>1</td></tr><tr><td>1</td></tr></tbody></table></div>"
      ],
      "text/plain": [
       "shape: (4,)\n",
       "Series: '' [u32]\n",
       "[\n",
       "\t2\n",
       "\t1\n",
       "\t1\n",
       "\t1\n",
       "]"
      ]
     },
     "execution_count": 165,
     "metadata": {},
     "output_type": "execute_result"
    }
   ],
   "source": [
    "pl.Series([1,2,3,4,1]).unique_counts()"
   ]
  },
  {
   "cell_type": "code",
   "execution_count": 172,
   "id": "series-is-first-distinct",
   "metadata": {},
   "outputs": [
    {
     "data": {
      "text/html": [
       "<div><style>\n",
       ".dataframe > thead > tr,\n",
       ".dataframe > tbody > tr {\n",
       "  text-align: right;\n",
       "  white-space: pre-wrap;\n",
       "}\n",
       "</style>\n",
       "<small>shape: (3,)</small><table border=\"1\" class=\"dataframe\"><thead><tr><th>a</th></tr><tr><td>bool</td></tr></thead><tbody><tr><td>true</td></tr><tr><td>true</td></tr><tr><td>true</td></tr></tbody></table></div>"
      ],
      "text/plain": [
       "shape: (3,)\n",
       "Series: 'a' [bool]\n",
       "[\n",
       "\ttrue\n",
       "\ttrue\n",
       "\ttrue\n",
       "]"
      ]
     },
     "execution_count": 166,
     "metadata": {},
     "output_type": "execute_result"
    }
   ],
   "source": [
    "#| label: series-is-first-distinct\n",
    "s.is_first_distinct() # not sure there is a pl.Expr method "
   ]
  },
  {
   "cell_type": "markdown",
   "id": "0abdc9b0",
   "metadata": {},
   "source": [
    "Notes:\n",
    "\n",
    "- `is_first_distinct()` has had many name changes in the past. It was `is_first()` in Polars 0.18.0, and `is_first_distinct()` in Polars 0.19.0.\n",
    "\n",
    "- Do not confuse `.is_first_distinct()` with `.first()`. The former is a logical aggregation, and the latter is a series method. \n"
   ]
  },
  {
   "cell_type": "code",
   "execution_count": 173,
   "id": "first-counter-examples",
   "metadata": {},
   "outputs": [
    {
     "data": {
      "text/html": [
       "<div><style>\n",
       ".dataframe > thead > tr,\n",
       ".dataframe > tbody > tr {\n",
       "  text-align: right;\n",
       "  white-space: pre-wrap;\n",
       "}\n",
       "</style>\n",
       "<small>shape: (1, 1)</small><table border=\"1\" class=\"dataframe\"><thead><tr><th>a</th></tr><tr><td>i64</td></tr></thead><tbody><tr><td>1</td></tr></tbody></table></div>"
      ],
      "text/plain": [
       "shape: (1, 1)\n",
       "┌─────┐\n",
       "│ a   │\n",
       "│ --- │\n",
       "│ i64 │\n",
       "╞═════╡\n",
       "│ 1   │\n",
       "└─────┘"
      ]
     },
     "execution_count": 167,
     "metadata": {},
     "output_type": "execute_result"
    }
   ],
   "source": [
    "#| label: first-counter-examples\n",
    "(\n",
    "  pl.DataFrame(pl.Series(\"a\",[1,2,3,1]))\n",
    "  .select(\n",
    "    pl.col('a').first()\n",
    "    )\n",
    ")"
   ]
  },
  {
   "cell_type": "markdown",
   "id": "3ffc372e",
   "metadata": {},
   "source": [
    "## Casting\n"
   ]
  },
  {
   "cell_type": "code",
   "execution_count": 174,
   "id": "7e10b02b",
   "metadata": {},
   "outputs": [
    {
     "data": {
      "text/html": [
       "<div><style>\n",
       ".dataframe > thead > tr,\n",
       ".dataframe > tbody > tr {\n",
       "  text-align: right;\n",
       "  white-space: pre-wrap;\n",
       "}\n",
       "</style>\n",
       "<small>shape: (3,)</small><table border=\"1\" class=\"dataframe\"><thead><tr><th>a</th></tr><tr><td>i32</td></tr></thead><tbody><tr><td>1</td></tr><tr><td>2</td></tr><tr><td>3</td></tr></tbody></table></div>"
      ],
      "text/plain": [
       "shape: (3,)\n",
       "Series: 'a' [i32]\n",
       "[\n",
       "\t1\n",
       "\t2\n",
       "\t3\n",
       "]"
      ]
     },
     "execution_count": 168,
     "metadata": {},
     "output_type": "execute_result"
    }
   ],
   "source": [
    "s.cast(pl.Int32)"
   ]
  },
  {
   "cell_type": "markdown",
   "id": "c11bda9b",
   "metadata": {},
   "source": [
    "Things to note:\n",
    "\n",
    "-   `cast()` is Polars' equivalent of Pandas' `astype()`.\n",
    "-   The dtypes to cast to are **Polars** dtypes. Don't try `s.cast(\"int32\")`, `s.cast(np.int32)`, or `s.cast(pd.int)`\n",
    "-   For a list of dtypes see the official [documentation](see%20https://pola-rs.github.io/Polars/py-Polars/html/reference/datatypes.html).\n",
    "\n",
    "\n",
    "\n",
    "Find the most efficient dtype for a series; Like Pandas `pd.to_numeric(..., downcast=\"...\"`).\n"
   ]
  },
  {
   "cell_type": "code",
   "execution_count": 175,
   "id": "04224a13",
   "metadata": {},
   "outputs": [
    {
     "data": {
      "text/plain": [
       "Int8"
      ]
     },
     "execution_count": 169,
     "metadata": {},
     "output_type": "execute_result"
    }
   ],
   "source": [
    "s.shrink_dtype().dtype # "
   ]
  },
  {
   "cell_type": "markdown",
   "id": "5953c70f",
   "metadata": {},
   "source": [
    "Also see [here](http://braaannigan.github.io/software/2022/10/31/Polars-dtype-diet.html).\n",
    "\n",
    "Shrink the memory allocation to the size of the actual data (in place).\n"
   ]
  },
  {
   "cell_type": "code",
   "execution_count": 176,
   "id": "3d7681e0",
   "metadata": {},
   "outputs": [
    {
     "data": {
      "text/html": [
       "<div><style>\n",
       ".dataframe > thead > tr,\n",
       ".dataframe > tbody > tr {\n",
       "  text-align: right;\n",
       "  white-space: pre-wrap;\n",
       "}\n",
       "</style>\n",
       "<small>shape: (3,)</small><table border=\"1\" class=\"dataframe\"><thead><tr><th>a</th></tr><tr><td>i64</td></tr></thead><tbody><tr><td>1</td></tr><tr><td>2</td></tr><tr><td>3</td></tr></tbody></table></div>"
      ],
      "text/plain": [
       "shape: (3,)\n",
       "Series: 'a' [i64]\n",
       "[\n",
       "\t1\n",
       "\t2\n",
       "\t3\n",
       "]"
      ]
     },
     "execution_count": 170,
     "metadata": {},
     "output_type": "execute_result"
    }
   ],
   "source": [
    "s.shrink_to_fit() "
   ]
  },
  {
   "cell_type": "markdown",
   "id": "5540702a",
   "metadata": {},
   "source": [
    "## Ordering and Sorting\n"
   ]
  },
  {
   "cell_type": "code",
   "execution_count": 177,
   "id": "series-sort",
   "metadata": {},
   "outputs": [
    {
     "data": {
      "text/html": [
       "<div><style>\n",
       ".dataframe > thead > tr,\n",
       ".dataframe > tbody > tr {\n",
       "  text-align: right;\n",
       "  white-space: pre-wrap;\n",
       "}\n",
       "</style>\n",
       "<small>shape: (3,)</small><table border=\"1\" class=\"dataframe\"><thead><tr><th>a</th></tr><tr><td>i64</td></tr></thead><tbody><tr><td>1</td></tr><tr><td>2</td></tr><tr><td>3</td></tr></tbody></table></div>"
      ],
      "text/plain": [
       "shape: (3,)\n",
       "Series: 'a' [i64]\n",
       "[\n",
       "\t1\n",
       "\t2\n",
       "\t3\n",
       "]"
      ]
     },
     "execution_count": 171,
     "metadata": {},
     "output_type": "execute_result"
    }
   ],
   "source": [
    "#| label: series-sort\n",
    "s.sort()"
   ]
  },
  {
   "cell_type": "code",
   "execution_count": 178,
   "id": "series-reverse",
   "metadata": {},
   "outputs": [
    {
     "data": {
      "text/html": [
       "<div><style>\n",
       ".dataframe > thead > tr,\n",
       ".dataframe > tbody > tr {\n",
       "  text-align: right;\n",
       "  white-space: pre-wrap;\n",
       "}\n",
       "</style>\n",
       "<small>shape: (3,)</small><table border=\"1\" class=\"dataframe\"><thead><tr><th>a</th></tr><tr><td>i64</td></tr></thead><tbody><tr><td>3</td></tr><tr><td>2</td></tr><tr><td>1</td></tr></tbody></table></div>"
      ],
      "text/plain": [
       "shape: (3,)\n",
       "Series: 'a' [i64]\n",
       "[\n",
       "\t3\n",
       "\t2\n",
       "\t1\n",
       "]"
      ]
     },
     "execution_count": 172,
     "metadata": {},
     "output_type": "execute_result"
    }
   ],
   "source": [
    "#| label: series-reverse\n",
    "s.reverse()"
   ]
  },
  {
   "cell_type": "code",
   "execution_count": 179,
   "id": "series-rank",
   "metadata": {},
   "outputs": [
    {
     "data": {
      "text/html": [
       "<div><style>\n",
       ".dataframe > thead > tr,\n",
       ".dataframe > tbody > tr {\n",
       "  text-align: right;\n",
       "  white-space: pre-wrap;\n",
       "}\n",
       "</style>\n",
       "<small>shape: (3,)</small><table border=\"1\" class=\"dataframe\"><thead><tr><th>a</th></tr><tr><td>f64</td></tr></thead><tbody><tr><td>1.0</td></tr><tr><td>2.0</td></tr><tr><td>3.0</td></tr></tbody></table></div>"
      ],
      "text/plain": [
       "shape: (3,)\n",
       "Series: 'a' [f64]\n",
       "[\n",
       "\t1.0\n",
       "\t2.0\n",
       "\t3.0\n",
       "]"
      ]
     },
     "execution_count": 173,
     "metadata": {},
     "output_type": "execute_result"
    }
   ],
   "source": [
    "#| label: series-rank\n",
    "s.rank()"
   ]
  },
  {
   "cell_type": "code",
   "execution_count": 180,
   "id": "series-arg-sort",
   "metadata": {},
   "outputs": [
    {
     "data": {
      "text/html": [
       "<div><style>\n",
       ".dataframe > thead > tr,\n",
       ".dataframe > tbody > tr {\n",
       "  text-align: right;\n",
       "  white-space: pre-wrap;\n",
       "}\n",
       "</style>\n",
       "<small>shape: (3,)</small><table border=\"1\" class=\"dataframe\"><thead><tr><th>a</th></tr><tr><td>u32</td></tr></thead><tbody><tr><td>0</td></tr><tr><td>1</td></tr><tr><td>2</td></tr></tbody></table></div>"
      ],
      "text/plain": [
       "shape: (3,)\n",
       "Series: 'a' [u32]\n",
       "[\n",
       "\t0\n",
       "\t1\n",
       "\t2\n",
       "]"
      ]
     },
     "execution_count": 174,
     "metadata": {},
     "output_type": "execute_result"
    }
   ],
   "source": [
    "#| label: series-arg-sort\n",
    "s.arg_sort() "
   ]
  },
  {
   "cell_type": "markdown",
   "id": "d4121949",
   "metadata": {},
   "source": [
    "`arg_sort()` returns the indices that would sort the series. Same as R's `order()`.\n"
   ]
  },
  {
   "cell_type": "code",
   "execution_count": 181,
   "id": "f9ca7eab",
   "metadata": {},
   "outputs": [
    {
     "data": {
      "text/plain": [
       "True"
      ]
     },
     "execution_count": 175,
     "metadata": {},
     "output_type": "execute_result"
    }
   ],
   "source": [
    "sorted_s = s[s.arg_sort()]\n",
    "(s.sort() == sorted_s).all()"
   ]
  },
  {
   "cell_type": "code",
   "execution_count": 182,
   "id": "series-shuffle",
   "metadata": {},
   "outputs": [
    {
     "data": {
      "text/html": [
       "<div><style>\n",
       ".dataframe > thead > tr,\n",
       ".dataframe > tbody > tr {\n",
       "  text-align: right;\n",
       "  white-space: pre-wrap;\n",
       "}\n",
       "</style>\n",
       "<small>shape: (3,)</small><table border=\"1\" class=\"dataframe\"><thead><tr><th>a</th></tr><tr><td>i64</td></tr></thead><tbody><tr><td>2</td></tr><tr><td>1</td></tr><tr><td>3</td></tr></tbody></table></div>"
      ],
      "text/plain": [
       "shape: (3,)\n",
       "Series: 'a' [i64]\n",
       "[\n",
       "\t2\n",
       "\t1\n",
       "\t3\n",
       "]"
      ]
     },
     "execution_count": 176,
     "metadata": {},
     "output_type": "execute_result"
    }
   ],
   "source": [
    "#| label: series-shuffle\n",
    "s.shuffle(seed=1) # random permutation"
   ]
  },
  {
   "cell_type": "markdown",
   "id": "5d6531f3",
   "metadata": {},
   "source": [
    "## Date and Time\n",
    "\n",
    "There are 4 datetime dtypes in Polars:\n",
    "\n",
    "1.  **Date**: A date, without hours. Generated with `pl.Date()`.\n",
    "2.  **Datetime**: Date and hours. Generated with `pl.Datetime()`.\n",
    "3.  **Time**: Hour of day. Generated with `pl.Time()`.\n",
    "4.  **Duration**: As the name suggests. Similar to `timedelta` in Pandas. Generated with `pl.Duration()`.\n",
    "\n",
    "::: {.callout-warning}\n",
    "Python has a sea of modules that support datetimes. \n",
    "A partial list includes: [datetime module](https://docs.python.org/3/library/datetime.html), extensions in [dateutil](https://dateutil.readthedocs.io/en/stable/), [numpy](https://numpy.org/doc/stable/reference/arrays.datetime.html), [Pandas](https://Pandas.pydata.org/Pandas-docs/version/1.1/user_guide/timeseries.html), [arrow](https://arrow.readthedocs.io/en/latest/), the deprecated [scikits.timeseries](https://pytseries.sourceforge.net/) and certainly others. \n",
    "Be aware of the dtype you are using, and the accompanying methods.\n",
    ":::\n",
    "\n",
    "\n",
    "### Time Range\n"
   ]
  },
  {
   "cell_type": "code",
   "execution_count": 183,
   "id": "ad413a5a",
   "metadata": {},
   "outputs": [
    {
     "data": {
      "text/html": [
       "<div><style>\n",
       ".dataframe > thead > tr,\n",
       ".dataframe > tbody > tr {\n",
       "  text-align: right;\n",
       "  white-space: pre-wrap;\n",
       "}\n",
       "</style>\n",
       "<small>shape: (10,)</small><table border=\"1\" class=\"dataframe\"><thead><tr><th>literal</th></tr><tr><td>datetime[μs]</td></tr></thead><tbody><tr><td>2001-05-31 16:09:03</td></tr><tr><td>2001-06-15 03:52:07</td></tr><tr><td>2001-05-11 16:20:39</td></tr><tr><td>2001-06-19 02:31:48</td></tr><tr><td>2001-06-18 16:39:27</td></tr><tr><td>2001-09-12 03:08:14</td></tr><tr><td>2001-02-13 11:11:23</td></tr><tr><td>2002-01-16 04:46:25</td></tr><tr><td>2001-05-31 00:12:40</td></tr><tr><td>2001-04-12 23:56:59</td></tr></tbody></table></div>"
      ],
      "text/plain": [
       "shape: (10,)\n",
       "Series: 'literal' [datetime[μs]]\n",
       "[\n",
       "\t2001-05-31 16:09:03\n",
       "\t2001-06-15 03:52:07\n",
       "\t2001-05-11 16:20:39\n",
       "\t2001-06-19 02:31:48\n",
       "\t2001-06-18 16:39:27\n",
       "\t2001-09-12 03:08:14\n",
       "\t2001-02-13 11:11:23\n",
       "\t2002-01-16 04:46:25\n",
       "\t2001-05-31 00:12:40\n",
       "\t2001-04-12 23:56:59\n",
       "]"
      ]
     },
     "execution_count": 177,
     "metadata": {},
     "output_type": "execute_result"
    }
   ],
   "source": [
    "from datetime import datetime, timedelta\n",
    "\n",
    "date = (\n",
    "  pl.datetime_range(\n",
    "    start = datetime(\n",
    "      year= 2001, month=2, day=2, hour =2, minute=24, second=12), \n",
    "    end = datetime(\n",
    "      year=2002, month=2, day=5, hour =5, minute=34, second=45),\n",
    "    interval='1s', \n",
    "    eager= True, \n",
    "  )\n",
    "  .sample(10)\n",
    ")\n",
    "\n",
    "date"
   ]
  },
  {
   "cell_type": "markdown",
   "id": "e20baf57",
   "metadata": {},
   "source": [
    "Things to note:\n",
    "\n",
    "-   How else could I have constructed this series? What other types are accepted as `start` and `end`?\n",
    "-   `pl.date_range` may return a series of dtype `Date` or `Datetime`. This depens of the granularity of the inputs.\n"
   ]
  },
  {
   "cell_type": "code",
   "execution_count": 184,
   "id": "0a7c05ff",
   "metadata": {},
   "outputs": [
    {
     "data": {
      "text/plain": [
       "Datetime(time_unit='us', time_zone=None)"
      ]
     },
     "execution_count": 178,
     "metadata": {},
     "output_type": "execute_result"
    }
   ],
   "source": [
    "date.dtype"
   ]
  },
  {
   "cell_type": "markdown",
   "id": "68d8a789",
   "metadata": {},
   "source": [
    "Cast to different time unit. \n",
    "May be useful when joining datasets, and the time unit is different.\n"
   ]
  },
  {
   "cell_type": "code",
   "execution_count": 185,
   "id": "cf1bca1f",
   "metadata": {},
   "outputs": [
    {
     "data": {
      "text/html": [
       "<div><style>\n",
       ".dataframe > thead > tr,\n",
       ".dataframe > tbody > tr {\n",
       "  text-align: right;\n",
       "  white-space: pre-wrap;\n",
       "}\n",
       "</style>\n",
       "<small>shape: (10,)</small><table border=\"1\" class=\"dataframe\"><thead><tr><th>literal</th></tr><tr><td>datetime[ms]</td></tr></thead><tbody><tr><td>2001-05-31 16:09:03</td></tr><tr><td>2001-06-15 03:52:07</td></tr><tr><td>2001-05-11 16:20:39</td></tr><tr><td>2001-06-19 02:31:48</td></tr><tr><td>2001-06-18 16:39:27</td></tr><tr><td>2001-09-12 03:08:14</td></tr><tr><td>2001-02-13 11:11:23</td></tr><tr><td>2002-01-16 04:46:25</td></tr><tr><td>2001-05-31 00:12:40</td></tr><tr><td>2001-04-12 23:56:59</td></tr></tbody></table></div>"
      ],
      "text/plain": [
       "shape: (10,)\n",
       "Series: 'literal' [datetime[ms]]\n",
       "[\n",
       "\t2001-05-31 16:09:03\n",
       "\t2001-06-15 03:52:07\n",
       "\t2001-05-11 16:20:39\n",
       "\t2001-06-19 02:31:48\n",
       "\t2001-06-18 16:39:27\n",
       "\t2001-09-12 03:08:14\n",
       "\t2001-02-13 11:11:23\n",
       "\t2002-01-16 04:46:25\n",
       "\t2001-05-31 00:12:40\n",
       "\t2001-04-12 23:56:59\n",
       "]"
      ]
     },
     "execution_count": 179,
     "metadata": {},
     "output_type": "execute_result"
    }
   ],
   "source": [
    "date.dt.cast_time_unit(time_unit=\"ms\")"
   ]
  },
  {
   "cell_type": "markdown",
   "id": "04f0c6c0",
   "metadata": {},
   "source": [
    "Datetime methods are accessed with the `.dt` namespace.\n",
    "\n",
    "\n",
    "### Extract Time Sub-Units\n"
   ]
  },
  {
   "cell_type": "code",
   "execution_count": 186,
   "id": "1e886872",
   "metadata": {},
   "outputs": [
    {
     "data": {
      "text/html": [
       "<div><style>\n",
       ".dataframe > thead > tr,\n",
       ".dataframe > tbody > tr {\n",
       "  text-align: right;\n",
       "  white-space: pre-wrap;\n",
       "}\n",
       "</style>\n",
       "<small>shape: (10,)</small><table border=\"1\" class=\"dataframe\"><thead><tr><th>literal</th></tr><tr><td>i8</td></tr></thead><tbody><tr><td>3</td></tr><tr><td>7</td></tr><tr><td>39</td></tr><tr><td>48</td></tr><tr><td>27</td></tr><tr><td>14</td></tr><tr><td>23</td></tr><tr><td>25</td></tr><tr><td>40</td></tr><tr><td>59</td></tr></tbody></table></div>"
      ],
      "text/plain": [
       "shape: (10,)\n",
       "Series: 'literal' [i8]\n",
       "[\n",
       "\t3\n",
       "\t7\n",
       "\t39\n",
       "\t48\n",
       "\t27\n",
       "\t14\n",
       "\t23\n",
       "\t25\n",
       "\t40\n",
       "\t59\n",
       "]"
      ]
     },
     "execution_count": 180,
     "metadata": {},
     "output_type": "execute_result"
    }
   ],
   "source": [
    "date.dt.second()"
   ]
  },
  {
   "cell_type": "code",
   "execution_count": 187,
   "id": "64593771",
   "metadata": {},
   "outputs": [
    {
     "data": {
      "text/html": [
       "<div><style>\n",
       ".dataframe > thead > tr,\n",
       ".dataframe > tbody > tr {\n",
       "  text-align: right;\n",
       "  white-space: pre-wrap;\n",
       "}\n",
       "</style>\n",
       "<small>shape: (10,)</small><table border=\"1\" class=\"dataframe\"><thead><tr><th>literal</th></tr><tr><td>i8</td></tr></thead><tbody><tr><td>9</td></tr><tr><td>52</td></tr><tr><td>20</td></tr><tr><td>31</td></tr><tr><td>39</td></tr><tr><td>8</td></tr><tr><td>11</td></tr><tr><td>46</td></tr><tr><td>12</td></tr><tr><td>56</td></tr></tbody></table></div>"
      ],
      "text/plain": [
       "shape: (10,)\n",
       "Series: 'literal' [i8]\n",
       "[\n",
       "\t9\n",
       "\t52\n",
       "\t20\n",
       "\t31\n",
       "\t39\n",
       "\t8\n",
       "\t11\n",
       "\t46\n",
       "\t12\n",
       "\t56\n",
       "]"
      ]
     },
     "execution_count": 181,
     "metadata": {},
     "output_type": "execute_result"
    }
   ],
   "source": [
    "date.dt.minute()"
   ]
  },
  {
   "cell_type": "code",
   "execution_count": 188,
   "id": "1d9cb68c",
   "metadata": {},
   "outputs": [
    {
     "data": {
      "text/html": [
       "<div><style>\n",
       ".dataframe > thead > tr,\n",
       ".dataframe > tbody > tr {\n",
       "  text-align: right;\n",
       "  white-space: pre-wrap;\n",
       "}\n",
       "</style>\n",
       "<small>shape: (10,)</small><table border=\"1\" class=\"dataframe\"><thead><tr><th>literal</th></tr><tr><td>i8</td></tr></thead><tbody><tr><td>16</td></tr><tr><td>3</td></tr><tr><td>16</td></tr><tr><td>2</td></tr><tr><td>16</td></tr><tr><td>3</td></tr><tr><td>11</td></tr><tr><td>4</td></tr><tr><td>0</td></tr><tr><td>23</td></tr></tbody></table></div>"
      ],
      "text/plain": [
       "shape: (10,)\n",
       "Series: 'literal' [i8]\n",
       "[\n",
       "\t16\n",
       "\t3\n",
       "\t16\n",
       "\t2\n",
       "\t16\n",
       "\t3\n",
       "\t11\n",
       "\t4\n",
       "\t0\n",
       "\t23\n",
       "]"
      ]
     },
     "execution_count": 182,
     "metadata": {},
     "output_type": "execute_result"
    }
   ],
   "source": [
    "date.dt.hour()"
   ]
  },
  {
   "cell_type": "code",
   "execution_count": 189,
   "id": "35a27b42",
   "metadata": {},
   "outputs": [
    {
     "data": {
      "text/html": [
       "<div><style>\n",
       ".dataframe > thead > tr,\n",
       ".dataframe > tbody > tr {\n",
       "  text-align: right;\n",
       "  white-space: pre-wrap;\n",
       "}\n",
       "</style>\n",
       "<small>shape: (10,)</small><table border=\"1\" class=\"dataframe\"><thead><tr><th>literal</th></tr><tr><td>i8</td></tr></thead><tbody><tr><td>31</td></tr><tr><td>15</td></tr><tr><td>11</td></tr><tr><td>19</td></tr><tr><td>18</td></tr><tr><td>12</td></tr><tr><td>13</td></tr><tr><td>16</td></tr><tr><td>31</td></tr><tr><td>12</td></tr></tbody></table></div>"
      ],
      "text/plain": [
       "shape: (10,)\n",
       "Series: 'literal' [i8]\n",
       "[\n",
       "\t31\n",
       "\t15\n",
       "\t11\n",
       "\t19\n",
       "\t18\n",
       "\t12\n",
       "\t13\n",
       "\t16\n",
       "\t31\n",
       "\t12\n",
       "]"
      ]
     },
     "execution_count": 183,
     "metadata": {},
     "output_type": "execute_result"
    }
   ],
   "source": [
    "date.dt.day()"
   ]
  },
  {
   "cell_type": "code",
   "execution_count": 190,
   "id": "c2ba7877",
   "metadata": {},
   "outputs": [
    {
     "data": {
      "text/html": [
       "<div><style>\n",
       ".dataframe > thead > tr,\n",
       ".dataframe > tbody > tr {\n",
       "  text-align: right;\n",
       "  white-space: pre-wrap;\n",
       "}\n",
       "</style>\n",
       "<small>shape: (10,)</small><table border=\"1\" class=\"dataframe\"><thead><tr><th>literal</th></tr><tr><td>i8</td></tr></thead><tbody><tr><td>22</td></tr><tr><td>24</td></tr><tr><td>19</td></tr><tr><td>25</td></tr><tr><td>25</td></tr><tr><td>37</td></tr><tr><td>7</td></tr><tr><td>3</td></tr><tr><td>22</td></tr><tr><td>15</td></tr></tbody></table></div>"
      ],
      "text/plain": [
       "shape: (10,)\n",
       "Series: 'literal' [i8]\n",
       "[\n",
       "\t22\n",
       "\t24\n",
       "\t19\n",
       "\t25\n",
       "\t25\n",
       "\t37\n",
       "\t7\n",
       "\t3\n",
       "\t22\n",
       "\t15\n",
       "]"
      ]
     },
     "execution_count": 184,
     "metadata": {},
     "output_type": "execute_result"
    }
   ],
   "source": [
    "date.dt.week()"
   ]
  },
  {
   "cell_type": "code",
   "execution_count": 191,
   "id": "76f5330e",
   "metadata": {},
   "outputs": [
    {
     "data": {
      "text/html": [
       "<div><style>\n",
       ".dataframe > thead > tr,\n",
       ".dataframe > tbody > tr {\n",
       "  text-align: right;\n",
       "  white-space: pre-wrap;\n",
       "}\n",
       "</style>\n",
       "<small>shape: (10,)</small><table border=\"1\" class=\"dataframe\"><thead><tr><th>literal</th></tr><tr><td>i8</td></tr></thead><tbody><tr><td>4</td></tr><tr><td>5</td></tr><tr><td>5</td></tr><tr><td>2</td></tr><tr><td>1</td></tr><tr><td>3</td></tr><tr><td>2</td></tr><tr><td>3</td></tr><tr><td>4</td></tr><tr><td>4</td></tr></tbody></table></div>"
      ],
      "text/plain": [
       "shape: (10,)\n",
       "Series: 'literal' [i8]\n",
       "[\n",
       "\t4\n",
       "\t5\n",
       "\t5\n",
       "\t2\n",
       "\t1\n",
       "\t3\n",
       "\t2\n",
       "\t3\n",
       "\t4\n",
       "\t4\n",
       "]"
      ]
     },
     "execution_count": 185,
     "metadata": {},
     "output_type": "execute_result"
    }
   ],
   "source": [
    "date.dt.weekday()"
   ]
  },
  {
   "cell_type": "code",
   "execution_count": 192,
   "id": "78957a4c",
   "metadata": {},
   "outputs": [
    {
     "data": {
      "text/html": [
       "<div><style>\n",
       ".dataframe > thead > tr,\n",
       ".dataframe > tbody > tr {\n",
       "  text-align: right;\n",
       "  white-space: pre-wrap;\n",
       "}\n",
       "</style>\n",
       "<small>shape: (10,)</small><table border=\"1\" class=\"dataframe\"><thead><tr><th>literal</th></tr><tr><td>i8</td></tr></thead><tbody><tr><td>5</td></tr><tr><td>6</td></tr><tr><td>5</td></tr><tr><td>6</td></tr><tr><td>6</td></tr><tr><td>9</td></tr><tr><td>2</td></tr><tr><td>1</td></tr><tr><td>5</td></tr><tr><td>4</td></tr></tbody></table></div>"
      ],
      "text/plain": [
       "shape: (10,)\n",
       "Series: 'literal' [i8]\n",
       "[\n",
       "\t5\n",
       "\t6\n",
       "\t5\n",
       "\t6\n",
       "\t6\n",
       "\t9\n",
       "\t2\n",
       "\t1\n",
       "\t5\n",
       "\t4\n",
       "]"
      ]
     },
     "execution_count": 186,
     "metadata": {},
     "output_type": "execute_result"
    }
   ],
   "source": [
    "date.dt.month()"
   ]
  },
  {
   "cell_type": "code",
   "execution_count": 193,
   "id": "81dd75d5",
   "metadata": {},
   "outputs": [
    {
     "data": {
      "text/html": [
       "<div><style>\n",
       ".dataframe > thead > tr,\n",
       ".dataframe > tbody > tr {\n",
       "  text-align: right;\n",
       "  white-space: pre-wrap;\n",
       "}\n",
       "</style>\n",
       "<small>shape: (10,)</small><table border=\"1\" class=\"dataframe\"><thead><tr><th>literal</th></tr><tr><td>i32</td></tr></thead><tbody><tr><td>2001</td></tr><tr><td>2001</td></tr><tr><td>2001</td></tr><tr><td>2001</td></tr><tr><td>2001</td></tr><tr><td>2001</td></tr><tr><td>2001</td></tr><tr><td>2002</td></tr><tr><td>2001</td></tr><tr><td>2001</td></tr></tbody></table></div>"
      ],
      "text/plain": [
       "shape: (10,)\n",
       "Series: 'literal' [i32]\n",
       "[\n",
       "\t2001\n",
       "\t2001\n",
       "\t2001\n",
       "\t2001\n",
       "\t2001\n",
       "\t2001\n",
       "\t2001\n",
       "\t2002\n",
       "\t2001\n",
       "\t2001\n",
       "]"
      ]
     },
     "execution_count": 187,
     "metadata": {},
     "output_type": "execute_result"
    }
   ],
   "source": [
    "date.dt.year()"
   ]
  },
  {
   "cell_type": "code",
   "execution_count": 194,
   "id": "e03bfc8a",
   "metadata": {},
   "outputs": [
    {
     "data": {
      "text/html": [
       "<div><style>\n",
       ".dataframe > thead > tr,\n",
       ".dataframe > tbody > tr {\n",
       "  text-align: right;\n",
       "  white-space: pre-wrap;\n",
       "}\n",
       "</style>\n",
       "<small>shape: (10,)</small><table border=\"1\" class=\"dataframe\"><thead><tr><th>literal</th></tr><tr><td>i16</td></tr></thead><tbody><tr><td>151</td></tr><tr><td>166</td></tr><tr><td>131</td></tr><tr><td>170</td></tr><tr><td>169</td></tr><tr><td>255</td></tr><tr><td>44</td></tr><tr><td>16</td></tr><tr><td>151</td></tr><tr><td>102</td></tr></tbody></table></div>"
      ],
      "text/plain": [
       "shape: (10,)\n",
       "Series: 'literal' [i16]\n",
       "[\n",
       "\t151\n",
       "\t166\n",
       "\t131\n",
       "\t170\n",
       "\t169\n",
       "\t255\n",
       "\t44\n",
       "\t16\n",
       "\t151\n",
       "\t102\n",
       "]"
      ]
     },
     "execution_count": 188,
     "metadata": {},
     "output_type": "execute_result"
    }
   ],
   "source": [
    "date.dt.ordinal_day() # day in year"
   ]
  },
  {
   "cell_type": "code",
   "execution_count": 195,
   "id": "aac7b031",
   "metadata": {},
   "outputs": [
    {
     "data": {
      "text/html": [
       "<div><style>\n",
       ".dataframe > thead > tr,\n",
       ".dataframe > tbody > tr {\n",
       "  text-align: right;\n",
       "  white-space: pre-wrap;\n",
       "}\n",
       "</style>\n",
       "<small>shape: (10,)</small><table border=\"1\" class=\"dataframe\"><thead><tr><th>literal</th></tr><tr><td>i8</td></tr></thead><tbody><tr><td>2</td></tr><tr><td>2</td></tr><tr><td>2</td></tr><tr><td>2</td></tr><tr><td>2</td></tr><tr><td>3</td></tr><tr><td>1</td></tr><tr><td>1</td></tr><tr><td>2</td></tr><tr><td>2</td></tr></tbody></table></div>"
      ],
      "text/plain": [
       "shape: (10,)\n",
       "Series: 'literal' [i8]\n",
       "[\n",
       "\t2\n",
       "\t2\n",
       "\t2\n",
       "\t2\n",
       "\t2\n",
       "\t3\n",
       "\t1\n",
       "\t1\n",
       "\t2\n",
       "\t2\n",
       "]"
      ]
     },
     "execution_count": 189,
     "metadata": {},
     "output_type": "execute_result"
    }
   ],
   "source": [
    "date.dt.quarter()"
   ]
  },
  {
   "cell_type": "markdown",
   "id": "2a4335d0",
   "metadata": {},
   "source": [
    "### Durations\n",
    "\n",
    "Equivalent to Pandas `period` dtype.\n"
   ]
  },
  {
   "cell_type": "code",
   "execution_count": 196,
   "id": "06cdf07d",
   "metadata": {},
   "outputs": [
    {
     "data": {
      "text/html": [
       "<div><style>\n",
       ".dataframe > thead > tr,\n",
       ".dataframe > tbody > tr {\n",
       "  text-align: right;\n",
       "  white-space: pre-wrap;\n",
       "}\n",
       "</style>\n",
       "<small>shape: (10,)</small><table border=\"1\" class=\"dataframe\"><thead><tr><th>literal</th></tr><tr><td>duration[μs]</td></tr></thead><tbody><tr><td>null</td></tr><tr><td>14d 11h 43m 4s</td></tr><tr><td>-34d -11h -31m -28s</td></tr><tr><td>38d 10h 11m 9s</td></tr><tr><td>-9h -52m -21s</td></tr><tr><td>85d 10h 28m 47s</td></tr><tr><td>-210d -15h -56m -51s</td></tr><tr><td>336d 17h 35m 2s</td></tr><tr><td>-230d -4h -33m -45s</td></tr><tr><td>-48d -15m -41s</td></tr></tbody></table></div>"
      ],
      "text/plain": [
       "shape: (10,)\n",
       "Series: 'literal' [duration[μs]]\n",
       "[\n",
       "\tnull\n",
       "\t14d 11h 43m 4s\n",
       "\t-34d -11h -31m -28s\n",
       "\t38d 10h 11m 9s\n",
       "\t-9h -52m -21s\n",
       "\t85d 10h 28m 47s\n",
       "\t-210d -15h -56m -51s\n",
       "\t336d 17h 35m 2s\n",
       "\t-230d -4h -33m -45s\n",
       "\t-48d -15m -41s\n",
       "]"
      ]
     },
     "execution_count": 190,
     "metadata": {},
     "output_type": "execute_result"
    }
   ],
   "source": [
    "diffs = date.diff()\n",
    "diffs"
   ]
  },
  {
   "cell_type": "code",
   "execution_count": 197,
   "id": "89173212",
   "metadata": {},
   "outputs": [
    {
     "data": {
      "text/plain": [
       "Duration(time_unit='us')"
      ]
     },
     "execution_count": 191,
     "metadata": {},
     "output_type": "execute_result"
    }
   ],
   "source": [
    "diffs.dtype"
   ]
  },
  {
   "cell_type": "markdown",
   "id": "6118d212",
   "metadata": {},
   "source": [
    "::: {.callout-important}\n",
    "The extrator of sub-units from a `pl.Duration` has recently changed from `.dt.X()` to `.dt.total_X()`.\n",
    ":::\n"
   ]
  },
  {
   "cell_type": "code",
   "execution_count": 198,
   "id": "870eef16",
   "metadata": {},
   "outputs": [
    {
     "data": {
      "text/html": [
       "<div><style>\n",
       ".dataframe > thead > tr,\n",
       ".dataframe > tbody > tr {\n",
       "  text-align: right;\n",
       "  white-space: pre-wrap;\n",
       "}\n",
       "</style>\n",
       "<small>shape: (10,)</small><table border=\"1\" class=\"dataframe\"><thead><tr><th>literal</th></tr><tr><td>i64</td></tr></thead><tbody><tr><td>null</td></tr><tr><td>1251784</td></tr><tr><td>-2979088</td></tr><tr><td>3319869</td></tr><tr><td>-35541</td></tr><tr><td>7381727</td></tr><tr><td>-18201411</td></tr><tr><td>29093702</td></tr><tr><td>-19888425</td></tr><tr><td>-4148141</td></tr></tbody></table></div>"
      ],
      "text/plain": [
       "shape: (10,)\n",
       "Series: 'literal' [i64]\n",
       "[\n",
       "\tnull\n",
       "\t1251784\n",
       "\t-2979088\n",
       "\t3319869\n",
       "\t-35541\n",
       "\t7381727\n",
       "\t-18201411\n",
       "\t29093702\n",
       "\t-19888425\n",
       "\t-4148141\n",
       "]"
      ]
     },
     "execution_count": 192,
     "metadata": {},
     "output_type": "execute_result"
    }
   ],
   "source": [
    "diffs.dt.total_seconds()"
   ]
  },
  {
   "cell_type": "code",
   "execution_count": 199,
   "id": "ac3ea263",
   "metadata": {},
   "outputs": [
    {
     "data": {
      "text/html": [
       "<div><style>\n",
       ".dataframe > thead > tr,\n",
       ".dataframe > tbody > tr {\n",
       "  text-align: right;\n",
       "  white-space: pre-wrap;\n",
       "}\n",
       "</style>\n",
       "<small>shape: (10,)</small><table border=\"1\" class=\"dataframe\"><thead><tr><th>literal</th></tr><tr><td>i64</td></tr></thead><tbody><tr><td>null</td></tr><tr><td>20863</td></tr><tr><td>-49651</td></tr><tr><td>55331</td></tr><tr><td>-592</td></tr><tr><td>123028</td></tr><tr><td>-303356</td></tr><tr><td>484895</td></tr><tr><td>-331473</td></tr><tr><td>-69135</td></tr></tbody></table></div>"
      ],
      "text/plain": [
       "shape: (10,)\n",
       "Series: 'literal' [i64]\n",
       "[\n",
       "\tnull\n",
       "\t20863\n",
       "\t-49651\n",
       "\t55331\n",
       "\t-592\n",
       "\t123028\n",
       "\t-303356\n",
       "\t484895\n",
       "\t-331473\n",
       "\t-69135\n",
       "]"
      ]
     },
     "execution_count": 193,
     "metadata": {},
     "output_type": "execute_result"
    }
   ],
   "source": [
    "diffs.dt.total_minutes()"
   ]
  },
  {
   "cell_type": "code",
   "execution_count": 200,
   "id": "38689a8a",
   "metadata": {},
   "outputs": [
    {
     "name": "stderr",
     "output_type": "stream",
     "text": [
      "/var/folders/ld/j2ckdhnj5hqcx58byy0gj9th0000gn/T/ipykernel_99747/1692501085.py:1: DeprecationWarning:\n",
      "\n",
      "`days` is deprecated. It has been renamed to `total_days`.\n",
      "\n"
     ]
    },
    {
     "data": {
      "text/html": [
       "<div><style>\n",
       ".dataframe > thead > tr,\n",
       ".dataframe > tbody > tr {\n",
       "  text-align: right;\n",
       "  white-space: pre-wrap;\n",
       "}\n",
       "</style>\n",
       "<small>shape: (10,)</small><table border=\"1\" class=\"dataframe\"><thead><tr><th>literal</th></tr><tr><td>i64</td></tr></thead><tbody><tr><td>null</td></tr><tr><td>14</td></tr><tr><td>-34</td></tr><tr><td>38</td></tr><tr><td>0</td></tr><tr><td>85</td></tr><tr><td>-210</td></tr><tr><td>336</td></tr><tr><td>-230</td></tr><tr><td>-48</td></tr></tbody></table></div>"
      ],
      "text/plain": [
       "shape: (10,)\n",
       "Series: 'literal' [i64]\n",
       "[\n",
       "\tnull\n",
       "\t14\n",
       "\t-34\n",
       "\t38\n",
       "\t0\n",
       "\t85\n",
       "\t-210\n",
       "\t336\n",
       "\t-230\n",
       "\t-48\n",
       "]"
      ]
     },
     "execution_count": 194,
     "metadata": {},
     "output_type": "execute_result"
    }
   ],
   "source": [
    "diffs.dt.days()"
   ]
  },
  {
   "cell_type": "code",
   "execution_count": 201,
   "id": "06dc872f",
   "metadata": {},
   "outputs": [
    {
     "data": {
      "text/html": [
       "<div><style>\n",
       ".dataframe > thead > tr,\n",
       ".dataframe > tbody > tr {\n",
       "  text-align: right;\n",
       "  white-space: pre-wrap;\n",
       "}\n",
       "</style>\n",
       "<small>shape: (10,)</small><table border=\"1\" class=\"dataframe\"><thead><tr><th>literal</th></tr><tr><td>i64</td></tr></thead><tbody><tr><td>null</td></tr><tr><td>347</td></tr><tr><td>-827</td></tr><tr><td>922</td></tr><tr><td>-9</td></tr><tr><td>2050</td></tr><tr><td>-5055</td></tr><tr><td>8081</td></tr><tr><td>-5524</td></tr><tr><td>-1152</td></tr></tbody></table></div>"
      ],
      "text/plain": [
       "shape: (10,)\n",
       "Series: 'literal' [i64]\n",
       "[\n",
       "\tnull\n",
       "\t347\n",
       "\t-827\n",
       "\t922\n",
       "\t-9\n",
       "\t2050\n",
       "\t-5055\n",
       "\t8081\n",
       "\t-5524\n",
       "\t-1152\n",
       "]"
      ]
     },
     "execution_count": 195,
     "metadata": {},
     "output_type": "execute_result"
    }
   ],
   "source": [
    "diffs.dt.total_hours()"
   ]
  },
  {
   "cell_type": "markdown",
   "id": "6d05df8b",
   "metadata": {},
   "source": [
    "### Date Aggregations\n",
    "\n",
    "Note that aggregating dates, returns a `datetime` type object.\n"
   ]
  },
  {
   "cell_type": "code",
   "execution_count": 202,
   "id": "938f0d0e",
   "metadata": {},
   "outputs": [
    {
     "data": {
      "text/plain": [
       "datetime.datetime(2002, 1, 16, 4, 46, 25)"
      ]
     },
     "execution_count": 196,
     "metadata": {},
     "output_type": "execute_result"
    }
   ],
   "source": [
    "date.dt.max()"
   ]
  },
  {
   "cell_type": "code",
   "execution_count": 203,
   "id": "10c6d3ba",
   "metadata": {},
   "outputs": [
    {
     "data": {
      "text/plain": [
       "datetime.datetime(2001, 2, 13, 11, 11, 23)"
      ]
     },
     "execution_count": 197,
     "metadata": {},
     "output_type": "execute_result"
    }
   ],
   "source": [
    "date.dt.min()"
   ]
  },
  {
   "cell_type": "markdown",
   "id": "b522b7db",
   "metadata": {},
   "source": [
    "I never quite undersootd that is the \"average day.\""
   ]
  },
  {
   "cell_type": "code",
   "execution_count": 204,
   "id": "66bda2ce",
   "metadata": {},
   "outputs": [
    {
     "data": {
      "text/plain": [
       "datetime.datetime(2001, 6, 21, 9, 52, 52, 500000)"
      ]
     },
     "execution_count": 198,
     "metadata": {},
     "output_type": "execute_result"
    }
   ],
   "source": [
    "date.dt.mean()"
   ]
  },
  {
   "cell_type": "code",
   "execution_count": 205,
   "id": "e31d3114",
   "metadata": {},
   "outputs": [
    {
     "data": {
      "text/plain": [
       "datetime.datetime(2001, 6, 7, 22, 0, 35)"
      ]
     },
     "execution_count": 199,
     "metadata": {},
     "output_type": "execute_result"
    }
   ],
   "source": [
    "date.dt.median()"
   ]
  },
  {
   "cell_type": "markdown",
   "id": "34b0069a",
   "metadata": {},
   "source": [
    "### Date Transformations\n"
   ]
  },
  {
   "cell_type": "code",
   "execution_count": 206,
   "id": "3543d6fa",
   "metadata": {},
   "outputs": [
    {
     "data": {
      "text/html": [
       "<div><style>\n",
       ".dataframe > thead > tr,\n",
       ".dataframe > tbody > tr {\n",
       "  text-align: right;\n",
       "  white-space: pre-wrap;\n",
       "}\n",
       "</style>\n",
       "<small>shape: (10,)</small><table border=\"1\" class=\"dataframe\"><thead><tr><th>literal</th></tr><tr><td>datetime[μs]</td></tr></thead><tbody><tr><td>1901-05-31 16:09:03</td></tr><tr><td>1901-06-15 03:52:07</td></tr><tr><td>1901-05-11 16:20:39</td></tr><tr><td>1901-06-19 02:31:48</td></tr><tr><td>1901-06-18 16:39:27</td></tr><tr><td>1901-09-12 03:08:14</td></tr><tr><td>1901-02-13 11:11:23</td></tr><tr><td>1902-01-16 04:46:25</td></tr><tr><td>1901-05-31 00:12:40</td></tr><tr><td>1901-04-12 23:56:59</td></tr></tbody></table></div>"
      ],
      "text/plain": [
       "shape: (10,)\n",
       "Series: 'literal' [datetime[μs]]\n",
       "[\n",
       "\t1901-05-31 16:09:03\n",
       "\t1901-06-15 03:52:07\n",
       "\t1901-05-11 16:20:39\n",
       "\t1901-06-19 02:31:48\n",
       "\t1901-06-18 16:39:27\n",
       "\t1901-09-12 03:08:14\n",
       "\t1901-02-13 11:11:23\n",
       "\t1902-01-16 04:46:25\n",
       "\t1901-05-31 00:12:40\n",
       "\t1901-04-12 23:56:59\n",
       "]"
      ]
     },
     "execution_count": 200,
     "metadata": {},
     "output_type": "execute_result"
    }
   ],
   "source": [
    "date.dt.offset_by(by=\"-100y\")"
   ]
  },
  {
   "cell_type": "markdown",
   "id": "62257b13",
   "metadata": {},
   "source": [
    "Notice the syntax of `offset_by`. It is similar to R's `lubridate` package.\n"
   ]
  },
  {
   "cell_type": "code",
   "execution_count": 207,
   "id": "4582b17a",
   "metadata": {},
   "outputs": [
    {
     "data": {
      "text/html": [
       "<div><style>\n",
       ".dataframe > thead > tr,\n",
       ".dataframe > tbody > tr {\n",
       "  text-align: right;\n",
       "  white-space: pre-wrap;\n",
       "}\n",
       "</style>\n",
       "<small>shape: (10,)</small><table border=\"1\" class=\"dataframe\"><thead><tr><th>literal</th></tr><tr><td>datetime[μs]</td></tr></thead><tbody><tr><td>2002-06-20 16:11:03</td></tr><tr><td>2002-07-05 03:54:07</td></tr><tr><td>2002-05-31 16:22:39</td></tr><tr><td>2002-07-09 02:33:48</td></tr><tr><td>2002-07-08 16:41:27</td></tr><tr><td>2002-10-02 03:10:14</td></tr><tr><td>2002-03-05 11:13:23</td></tr><tr><td>2003-02-05 04:48:25</td></tr><tr><td>2002-06-20 00:14:40</td></tr><tr><td>2002-05-02 23:58:59</td></tr></tbody></table></div>"
      ],
      "text/plain": [
       "shape: (10,)\n",
       "Series: 'literal' [datetime[μs]]\n",
       "[\n",
       "\t2002-06-20 16:11:03\n",
       "\t2002-07-05 03:54:07\n",
       "\t2002-05-31 16:22:39\n",
       "\t2002-07-09 02:33:48\n",
       "\t2002-07-08 16:41:27\n",
       "\t2002-10-02 03:10:14\n",
       "\t2002-03-05 11:13:23\n",
       "\t2003-02-05 04:48:25\n",
       "\t2002-06-20 00:14:40\n",
       "\t2002-05-02 23:58:59\n",
       "]"
      ]
     },
     "execution_count": 201,
     "metadata": {},
     "output_type": "execute_result"
    }
   ],
   "source": [
    "date.dt.offset_by(by=\"1y2m20d\")"
   ]
  },
  {
   "cell_type": "code",
   "execution_count": 208,
   "id": "e5d10f9a",
   "metadata": {},
   "outputs": [
    {
     "data": {
      "text/html": [
       "<div><style>\n",
       ".dataframe > thead > tr,\n",
       ".dataframe > tbody > tr {\n",
       "  text-align: right;\n",
       "  white-space: pre-wrap;\n",
       "}\n",
       "</style>\n",
       "<small>shape: (10,)</small><table border=\"1\" class=\"dataframe\"><thead><tr><th>literal</th></tr><tr><td>datetime[μs]</td></tr></thead><tbody><tr><td>2001-05-31 16:09:00</td></tr><tr><td>2001-06-15 03:52:00</td></tr><tr><td>2001-05-11 16:20:00</td></tr><tr><td>2001-06-19 02:31:00</td></tr><tr><td>2001-06-18 16:39:00</td></tr><tr><td>2001-09-12 03:08:00</td></tr><tr><td>2001-02-13 11:11:00</td></tr><tr><td>2002-01-16 04:46:00</td></tr><tr><td>2001-05-31 00:12:00</td></tr><tr><td>2001-04-12 23:56:00</td></tr></tbody></table></div>"
      ],
      "text/plain": [
       "shape: (10,)\n",
       "Series: 'literal' [datetime[μs]]\n",
       "[\n",
       "\t2001-05-31 16:09:00\n",
       "\t2001-06-15 03:52:00\n",
       "\t2001-05-11 16:20:00\n",
       "\t2001-06-19 02:31:00\n",
       "\t2001-06-18 16:39:00\n",
       "\t2001-09-12 03:08:00\n",
       "\t2001-02-13 11:11:00\n",
       "\t2002-01-16 04:46:00\n",
       "\t2001-05-31 00:12:00\n",
       "\t2001-04-12 23:56:00\n",
       "]"
      ]
     },
     "execution_count": 202,
     "metadata": {},
     "output_type": "execute_result"
    }
   ],
   "source": [
    "date.dt.truncate(\"1m\")"
   ]
  },
  {
   "cell_type": "code",
   "execution_count": 209,
   "id": "efdc5a3f",
   "metadata": {},
   "outputs": [
    {
     "data": {
      "text/html": [
       "<div><style>\n",
       ".dataframe > thead > tr,\n",
       ".dataframe > tbody > tr {\n",
       "  text-align: right;\n",
       "  white-space: pre-wrap;\n",
       "}\n",
       "</style>\n",
       "<small>shape: (10,)</small><table border=\"1\" class=\"dataframe\"><thead><tr><th>literal</th></tr><tr><td>datetime[μs]</td></tr></thead><tbody><tr><td>2001-05-31 16:09:00</td></tr><tr><td>2001-06-15 03:52:00</td></tr><tr><td>2001-05-11 16:21:00</td></tr><tr><td>2001-06-19 02:32:00</td></tr><tr><td>2001-06-18 16:39:00</td></tr><tr><td>2001-09-12 03:08:00</td></tr><tr><td>2001-02-13 11:11:00</td></tr><tr><td>2002-01-16 04:46:00</td></tr><tr><td>2001-05-31 00:13:00</td></tr><tr><td>2001-04-12 23:57:00</td></tr></tbody></table></div>"
      ],
      "text/plain": [
       "shape: (10,)\n",
       "Series: 'literal' [datetime[μs]]\n",
       "[\n",
       "\t2001-05-31 16:09:00\n",
       "\t2001-06-15 03:52:00\n",
       "\t2001-05-11 16:21:00\n",
       "\t2001-06-19 02:32:00\n",
       "\t2001-06-18 16:39:00\n",
       "\t2001-09-12 03:08:00\n",
       "\t2001-02-13 11:11:00\n",
       "\t2002-01-16 04:46:00\n",
       "\t2001-05-31 00:13:00\n",
       "\t2001-04-12 23:57:00\n",
       "]"
      ]
     },
     "execution_count": 203,
     "metadata": {},
     "output_type": "execute_result"
    }
   ],
   "source": [
    "date.dt.round(every=\"1m\")"
   ]
  },
  {
   "cell_type": "markdown",
   "id": "2c59b7c6",
   "metadata": {},
   "source": [
    "### From Date to String\n"
   ]
  },
  {
   "cell_type": "code",
   "execution_count": 210,
   "id": "409071c5",
   "metadata": {},
   "outputs": [
    {
     "data": {
      "text/html": [
       "<div><style>\n",
       ".dataframe > thead > tr,\n",
       ".dataframe > tbody > tr {\n",
       "  text-align: right;\n",
       "  white-space: pre-wrap;\n",
       "}\n",
       "</style>\n",
       "<small>shape: (10,)</small><table border=\"1\" class=\"dataframe\"><thead><tr><th>literal</th></tr><tr><td>str</td></tr></thead><tbody><tr><td>&quot;2001-05-31&quot;</td></tr><tr><td>&quot;2001-06-15&quot;</td></tr><tr><td>&quot;2001-05-11&quot;</td></tr><tr><td>&quot;2001-06-19&quot;</td></tr><tr><td>&quot;2001-06-18&quot;</td></tr><tr><td>&quot;2001-09-12&quot;</td></tr><tr><td>&quot;2001-02-13&quot;</td></tr><tr><td>&quot;2002-01-16&quot;</td></tr><tr><td>&quot;2001-05-31&quot;</td></tr><tr><td>&quot;2001-04-12&quot;</td></tr></tbody></table></div>"
      ],
      "text/plain": [
       "shape: (10,)\n",
       "Series: 'literal' [str]\n",
       "[\n",
       "\t\"2001-05-31\"\n",
       "\t\"2001-06-15\"\n",
       "\t\"2001-05-11\"\n",
       "\t\"2001-06-19\"\n",
       "\t\"2001-06-18\"\n",
       "\t\"2001-09-12\"\n",
       "\t\"2001-02-13\"\n",
       "\t\"2002-01-16\"\n",
       "\t\"2001-05-31\"\n",
       "\t\"2001-04-12\"\n",
       "]"
      ]
     },
     "execution_count": 204,
     "metadata": {},
     "output_type": "execute_result"
    }
   ],
   "source": [
    "date.dt.to_string(\"%Y-%m-%d\")"
   ]
  },
  {
   "cell_type": "markdown",
   "id": "1d1d59bd",
   "metadata": {},
   "source": [
    "Or equivalently:"
   ]
  },
  {
   "cell_type": "code",
   "execution_count": 211,
   "id": "6f174acf",
   "metadata": {},
   "outputs": [
    {
     "data": {
      "text/html": [
       "<div><style>\n",
       ".dataframe > thead > tr,\n",
       ".dataframe > tbody > tr {\n",
       "  text-align: right;\n",
       "  white-space: pre-wrap;\n",
       "}\n",
       "</style>\n",
       "<small>shape: (10,)</small><table border=\"1\" class=\"dataframe\"><thead><tr><th>literal</th></tr><tr><td>str</td></tr></thead><tbody><tr><td>&quot;2001-05-31&quot;</td></tr><tr><td>&quot;2001-06-15&quot;</td></tr><tr><td>&quot;2001-05-11&quot;</td></tr><tr><td>&quot;2001-06-19&quot;</td></tr><tr><td>&quot;2001-06-18&quot;</td></tr><tr><td>&quot;2001-09-12&quot;</td></tr><tr><td>&quot;2001-02-13&quot;</td></tr><tr><td>&quot;2002-01-16&quot;</td></tr><tr><td>&quot;2001-05-31&quot;</td></tr><tr><td>&quot;2001-04-12&quot;</td></tr></tbody></table></div>"
      ],
      "text/plain": [
       "shape: (10,)\n",
       "Series: 'literal' [str]\n",
       "[\n",
       "\t\"2001-05-31\"\n",
       "\t\"2001-06-15\"\n",
       "\t\"2001-05-11\"\n",
       "\t\"2001-06-19\"\n",
       "\t\"2001-06-18\"\n",
       "\t\"2001-09-12\"\n",
       "\t\"2001-02-13\"\n",
       "\t\"2002-01-16\"\n",
       "\t\"2001-05-31\"\n",
       "\t\"2001-04-12\"\n",
       "]"
      ]
     },
     "execution_count": 205,
     "metadata": {},
     "output_type": "execute_result"
    }
   ],
   "source": [
    "date.dt.strftime(\"%Y-%m-%d\")"
   ]
  },
  {
   "cell_type": "markdown",
   "id": "2105bc00",
   "metadata": {},
   "source": [
    "### From String to Datetime\n"
   ]
  },
  {
   "cell_type": "code",
   "execution_count": 212,
   "id": "8285cde5",
   "metadata": {},
   "outputs": [
    {
     "data": {
      "text/html": [
       "<div><style>\n",
       ".dataframe > thead > tr,\n",
       ".dataframe > tbody > tr {\n",
       "  text-align: right;\n",
       "  white-space: pre-wrap;\n",
       "}\n",
       "</style>\n",
       "<small>shape: (4,)</small><table border=\"1\" class=\"dataframe\"><thead><tr><th>date</th></tr><tr><td>str</td></tr></thead><tbody><tr><td>&quot;2021-04-22&quot;</td></tr><tr><td>&quot;2022-01-04 00:00:00&quot;</td></tr><tr><td>&quot;01/31/22&quot;</td></tr><tr><td>&quot;Sun Jul  8 00:34:60 2001&quot;</td></tr></tbody></table></div>"
      ],
      "text/plain": [
       "shape: (4,)\n",
       "Series: 'date' [str]\n",
       "[\n",
       "\t\"2021-04-22\"\n",
       "\t\"2022-01-04 00:00:00\"\n",
       "\t\"01/31/22\"\n",
       "\t\"Sun Jul  8 00:34:60 2001\"\n",
       "]"
      ]
     },
     "execution_count": 206,
     "metadata": {},
     "output_type": "execute_result"
    }
   ],
   "source": [
    "sd = pl.Series(\n",
    "    \"date\",\n",
    "    [\n",
    "        \"2021-04-22\",\n",
    "        \"2022-01-04 00:00:00\",\n",
    "        \"01/31/22\",\n",
    "        \"Sun Jul  8 00:34:60 2001\",\n",
    "    ],\n",
    ")\n",
    "sd"
   ]
  },
  {
   "cell_type": "markdown",
   "id": "835f468e",
   "metadata": {},
   "source": [
    "Parse into `Date` type.\n"
   ]
  },
  {
   "cell_type": "code",
   "execution_count": 213,
   "id": "7416ad9f",
   "metadata": {},
   "outputs": [
    {
     "data": {
      "text/html": [
       "<div><style>\n",
       ".dataframe > thead > tr,\n",
       ".dataframe > tbody > tr {\n",
       "  text-align: right;\n",
       "  white-space: pre-wrap;\n",
       "}\n",
       "</style>\n",
       "<small>shape: (4,)</small><table border=\"1\" class=\"dataframe\"><thead><tr><th>date</th></tr><tr><td>date</td></tr></thead><tbody><tr><td>2021-04-22</td></tr><tr><td>null</td></tr><tr><td>null</td></tr><tr><td>null</td></tr></tbody></table></div>"
      ],
      "text/plain": [
       "shape: (4,)\n",
       "Series: 'date' [date]\n",
       "[\n",
       "\t2021-04-22\n",
       "\tnull\n",
       "\tnull\n",
       "\tnull\n",
       "]"
      ]
     },
     "execution_count": 207,
     "metadata": {},
     "output_type": "execute_result"
    }
   ],
   "source": [
    "sd.str.to_date(format=\"%F\", strict=False)"
   ]
  },
  {
   "cell_type": "markdown",
   "id": "85d70b50",
   "metadata": {},
   "source": [
    "Or equivalently:"
   ]
  },
  {
   "cell_type": "code",
   "execution_count": 214,
   "id": "db24c4ad",
   "metadata": {},
   "outputs": [
    {
     "data": {
      "text/html": [
       "<div><style>\n",
       ".dataframe > thead > tr,\n",
       ".dataframe > tbody > tr {\n",
       "  text-align: right;\n",
       "  white-space: pre-wrap;\n",
       "}\n",
       "</style>\n",
       "<small>shape: (4,)</small><table border=\"1\" class=\"dataframe\"><thead><tr><th>date</th></tr><tr><td>date</td></tr></thead><tbody><tr><td>2021-04-22</td></tr><tr><td>null</td></tr><tr><td>null</td></tr><tr><td>null</td></tr></tbody></table></div>"
      ],
      "text/plain": [
       "shape: (4,)\n",
       "Series: 'date' [date]\n",
       "[\n",
       "\t2021-04-22\n",
       "\tnull\n",
       "\tnull\n",
       "\tnull\n",
       "]"
      ]
     },
     "execution_count": 208,
     "metadata": {},
     "output_type": "execute_result"
    }
   ],
   "source": [
    "sd.str.strptime(dtype= pl.Date, format=\"%F\", strict=False)"
   ]
  },
  {
   "cell_type": "code",
   "execution_count": 215,
   "id": "ea325294",
   "metadata": {},
   "outputs": [
    {
     "data": {
      "text/html": [
       "<div><style>\n",
       ".dataframe > thead > tr,\n",
       ".dataframe > tbody > tr {\n",
       "  text-align: right;\n",
       "  white-space: pre-wrap;\n",
       "}\n",
       "</style>\n",
       "<small>shape: (4,)</small><table border=\"1\" class=\"dataframe\"><thead><tr><th>date</th></tr><tr><td>date</td></tr></thead><tbody><tr><td>null</td></tr><tr><td>null</td></tr><tr><td>2022-01-31</td></tr><tr><td>null</td></tr></tbody></table></div>"
      ],
      "text/plain": [
       "shape: (4,)\n",
       "Series: 'date' [date]\n",
       "[\n",
       "\tnull\n",
       "\tnull\n",
       "\t2022-01-31\n",
       "\tnull\n",
       "]"
      ]
     },
     "execution_count": 209,
     "metadata": {},
     "output_type": "execute_result"
    }
   ],
   "source": [
    "sd.str.strptime(pl.Date, \"%D\", strict=False)"
   ]
  },
  {
   "cell_type": "markdown",
   "id": "e42c3a10",
   "metadata": {},
   "source": [
    "Parse into `Datetime` type.\n"
   ]
  },
  {
   "cell_type": "code",
   "execution_count": 216,
   "id": "1752b54d",
   "metadata": {},
   "outputs": [
    {
     "data": {
      "text/html": [
       "<div><style>\n",
       ".dataframe > thead > tr,\n",
       ".dataframe > tbody > tr {\n",
       "  text-align: right;\n",
       "  white-space: pre-wrap;\n",
       "}\n",
       "</style>\n",
       "<small>shape: (4,)</small><table border=\"1\" class=\"dataframe\"><thead><tr><th>date</th></tr><tr><td>datetime[μs]</td></tr></thead><tbody><tr><td>null</td></tr><tr><td>2022-01-04 00:00:00</td></tr><tr><td>null</td></tr><tr><td>null</td></tr></tbody></table></div>"
      ],
      "text/plain": [
       "shape: (4,)\n",
       "Series: 'date' [datetime[μs]]\n",
       "[\n",
       "\tnull\n",
       "\t2022-01-04 00:00:00\n",
       "\tnull\n",
       "\tnull\n",
       "]"
      ]
     },
     "execution_count": 210,
     "metadata": {},
     "output_type": "execute_result"
    }
   ],
   "source": [
    "sd.str.to_datetime(format=\"%F %T\", strict=False)"
   ]
  },
  {
   "cell_type": "markdown",
   "id": "e7da98e5",
   "metadata": {},
   "source": [
    "Or equivalently:"
   ]
  },
  {
   "cell_type": "code",
   "execution_count": 217,
   "id": "ab1a0c92",
   "metadata": {},
   "outputs": [
    {
     "data": {
      "text/html": [
       "<div><style>\n",
       ".dataframe > thead > tr,\n",
       ".dataframe > tbody > tr {\n",
       "  text-align: right;\n",
       "  white-space: pre-wrap;\n",
       "}\n",
       "</style>\n",
       "<small>shape: (4,)</small><table border=\"1\" class=\"dataframe\"><thead><tr><th>date</th></tr><tr><td>datetime[μs]</td></tr></thead><tbody><tr><td>null</td></tr><tr><td>2022-01-04 00:00:00</td></tr><tr><td>null</td></tr><tr><td>null</td></tr></tbody></table></div>"
      ],
      "text/plain": [
       "shape: (4,)\n",
       "Series: 'date' [datetime[μs]]\n",
       "[\n",
       "\tnull\n",
       "\t2022-01-04 00:00:00\n",
       "\tnull\n",
       "\tnull\n",
       "]"
      ]
     },
     "execution_count": 211,
     "metadata": {},
     "output_type": "execute_result"
    }
   ],
   "source": [
    "sd.str.strptime(pl.Datetime, \"%F %T\", strict=False)"
   ]
  },
  {
   "cell_type": "code",
   "execution_count": 218,
   "id": "6a700e9c",
   "metadata": {},
   "outputs": [
    {
     "data": {
      "text/html": [
       "<div><style>\n",
       ".dataframe > thead > tr,\n",
       ".dataframe > tbody > tr {\n",
       "  text-align: right;\n",
       "  white-space: pre-wrap;\n",
       "}\n",
       "</style>\n",
       "<small>shape: (4,)</small><table border=\"1\" class=\"dataframe\"><thead><tr><th>date</th></tr><tr><td>datetime[μs]</td></tr></thead><tbody><tr><td>null</td></tr><tr><td>null</td></tr><tr><td>null</td></tr><tr><td>2001-07-08 00:35:00</td></tr></tbody></table></div>"
      ],
      "text/plain": [
       "shape: (4,)\n",
       "Series: 'date' [datetime[μs]]\n",
       "[\n",
       "\tnull\n",
       "\tnull\n",
       "\tnull\n",
       "\t2001-07-08 00:35:00\n",
       "]"
      ]
     },
     "execution_count": 212,
     "metadata": {},
     "output_type": "execute_result"
    }
   ],
   "source": [
    "sd.str.strptime(pl.Datetime, \"%a %h %d %T %Y\",strict=False)"
   ]
  },
  {
   "cell_type": "markdown",
   "id": "6301bd54",
   "metadata": {},
   "source": [
    "Parse into `Time` dtype."
   ]
  },
  {
   "cell_type": "code",
   "execution_count": 219,
   "id": "b9285ec4",
   "metadata": {},
   "outputs": [
    {
     "data": {
      "text/html": [
       "<div><style>\n",
       ".dataframe > thead > tr,\n",
       ".dataframe > tbody > tr {\n",
       "  text-align: right;\n",
       "  white-space: pre-wrap;\n",
       "}\n",
       "</style>\n",
       "<small>shape: (4,)</small><table border=\"1\" class=\"dataframe\"><thead><tr><th>date</th></tr><tr><td>time</td></tr></thead><tbody><tr><td>null</td></tr><tr><td>null</td></tr><tr><td>null</td></tr><tr><td>00:35:00</td></tr></tbody></table></div>"
      ],
      "text/plain": [
       "shape: (4,)\n",
       "Series: 'date' [time]\n",
       "[\n",
       "\tnull\n",
       "\tnull\n",
       "\tnull\n",
       "\t00:35:00\n",
       "]"
      ]
     },
     "execution_count": 213,
     "metadata": {},
     "output_type": "execute_result"
    }
   ],
   "source": [
    "sd.str.to_time(\"%a %h %d %T %Y\",strict=False)"
   ]
  },
  {
   "cell_type": "code",
   "execution_count": 220,
   "id": "5981ecfc",
   "metadata": {},
   "outputs": [
    {
     "data": {
      "text/html": [
       "<div><style>\n",
       ".dataframe > thead > tr,\n",
       ".dataframe > tbody > tr {\n",
       "  text-align: right;\n",
       "  white-space: pre-wrap;\n",
       "}\n",
       "</style>\n",
       "<small>shape: (4,)</small><table border=\"1\" class=\"dataframe\"><thead><tr><th>date</th></tr><tr><td>time</td></tr></thead><tbody><tr><td>null</td></tr><tr><td>null</td></tr><tr><td>null</td></tr><tr><td>00:35:00</td></tr></tbody></table></div>"
      ],
      "text/plain": [
       "shape: (4,)\n",
       "Series: 'date' [time]\n",
       "[\n",
       "\tnull\n",
       "\tnull\n",
       "\tnull\n",
       "\t00:35:00\n",
       "]"
      ]
     },
     "execution_count": 214,
     "metadata": {},
     "output_type": "execute_result"
    }
   ],
   "source": [
    "sd.str.strptime(pl.Time, \"%a %h %d %T %Y\", strict=False)"
   ]
  },
  {
   "cell_type": "markdown",
   "id": "ef88a8f8",
   "metadata": {},
   "source": [
    "## Strings\n",
    "\n",
    "String methods are accessed with the `.str` namespace.\n"
   ]
  },
  {
   "cell_type": "code",
   "execution_count": 221,
   "id": "make-string-series",
   "metadata": {},
   "outputs": [],
   "source": [
    "#| label: make-string-series\n",
    "st = pl.Series(\"a\", [\"foo\", \"bar\", \"baz\"])"
   ]
  },
  {
   "cell_type": "code",
   "execution_count": 222,
   "id": "string-length",
   "metadata": {},
   "outputs": [
    {
     "data": {
      "text/html": [
       "<div><style>\n",
       ".dataframe > thead > tr,\n",
       ".dataframe > tbody > tr {\n",
       "  text-align: right;\n",
       "  white-space: pre-wrap;\n",
       "}\n",
       "</style>\n",
       "<small>shape: (3,)</small><table border=\"1\" class=\"dataframe\"><thead><tr><th>a</th></tr><tr><td>u32</td></tr></thead><tbody><tr><td>3</td></tr><tr><td>3</td></tr><tr><td>3</td></tr></tbody></table></div>"
      ],
      "text/plain": [
       "shape: (3,)\n",
       "Series: 'a' [u32]\n",
       "[\n",
       "\t3\n",
       "\t3\n",
       "\t3\n",
       "]"
      ]
     },
     "execution_count": 216,
     "metadata": {},
     "output_type": "execute_result"
    }
   ],
   "source": [
    "#| label: string-length\n",
    "st.str.len_chars() # gets number of chars. In ASCII this is the same as lengths()"
   ]
  },
  {
   "cell_type": "code",
   "execution_count": 223,
   "id": "string-concat",
   "metadata": {},
   "outputs": [
    {
     "data": {
      "text/html": [
       "<div><style>\n",
       ".dataframe > thead > tr,\n",
       ".dataframe > tbody > tr {\n",
       "  text-align: right;\n",
       "  white-space: pre-wrap;\n",
       "}\n",
       "</style>\n",
       "<small>shape: (1,)</small><table border=\"1\" class=\"dataframe\"><thead><tr><th>a</th></tr><tr><td>str</td></tr></thead><tbody><tr><td>&quot;foo-bar-baz&quot;</td></tr></tbody></table></div>"
      ],
      "text/plain": [
       "shape: (1,)\n",
       "Series: 'a' [str]\n",
       "[\n",
       "\t\"foo-bar-baz\"\n",
       "]"
      ]
     },
     "execution_count": 217,
     "metadata": {},
     "output_type": "execute_result"
    }
   ],
   "source": [
    "#| label: string-concat\n",
    "st.str.concat(\"-\")"
   ]
  },
  {
   "cell_type": "code",
   "execution_count": 224,
   "id": "string-count-matches",
   "metadata": {},
   "outputs": [
    {
     "data": {
      "text/html": [
       "<div><style>\n",
       ".dataframe > thead > tr,\n",
       ".dataframe > tbody > tr {\n",
       "  text-align: right;\n",
       "  white-space: pre-wrap;\n",
       "}\n",
       "</style>\n",
       "<small>shape: (3,)</small><table border=\"1\" class=\"dataframe\"><thead><tr><th>a</th></tr><tr><td>u32</td></tr></thead><tbody><tr><td>2</td></tr><tr><td>0</td></tr><tr><td>0</td></tr></tbody></table></div>"
      ],
      "text/plain": [
       "shape: (3,)\n",
       "Series: 'a' [u32]\n",
       "[\n",
       "\t2\n",
       "\t0\n",
       "\t0\n",
       "]"
      ]
     },
     "execution_count": 218,
     "metadata": {},
     "output_type": "execute_result"
    }
   ],
   "source": [
    "#| label: string-count-matches\n",
    "st.str.count_matches(pattern= 'o') # count literal matches"
   ]
  },
  {
   "cell_type": "code",
   "execution_count": 225,
   "id": "string-contains",
   "metadata": {},
   "outputs": [
    {
     "data": {
      "text/html": [
       "<div><style>\n",
       ".dataframe > thead > tr,\n",
       ".dataframe > tbody > tr {\n",
       "  text-align: right;\n",
       "  white-space: pre-wrap;\n",
       "}\n",
       "</style>\n",
       "<small>shape: (3,)</small><table border=\"1\" class=\"dataframe\"><thead><tr><th>a</th></tr><tr><td>bool</td></tr></thead><tbody><tr><td>true</td></tr><tr><td>true</td></tr><tr><td>false</td></tr></tbody></table></div>"
      ],
      "text/plain": [
       "shape: (3,)\n",
       "Series: 'a' [bool]\n",
       "[\n",
       "\ttrue\n",
       "\ttrue\n",
       "\tfalse\n",
       "]"
      ]
     },
     "execution_count": 219,
     "metadata": {},
     "output_type": "execute_result"
    }
   ],
   "source": [
    "#| label: string-contains\n",
    "st.str.contains(\"foo|tra|bar\") "
   ]
  },
  {
   "cell_type": "code",
   "execution_count": 226,
   "id": "string-contains-regrex",
   "metadata": {},
   "outputs": [
    {
     "data": {
      "text/html": [
       "<div><style>\n",
       ".dataframe > thead > tr,\n",
       ".dataframe > tbody > tr {\n",
       "  text-align: right;\n",
       "  white-space: pre-wrap;\n",
       "}\n",
       "</style>\n",
       "<small>shape: (3,)</small><table border=\"1\" class=\"dataframe\"><thead><tr><th>a</th></tr><tr><td>bool</td></tr></thead><tbody><tr><td>false</td></tr><tr><td>true</td></tr><tr><td>true</td></tr></tbody></table></div>"
      ],
      "text/plain": [
       "shape: (3,)\n",
       "Series: 'a' [bool]\n",
       "[\n",
       "\tfalse\n",
       "\ttrue\n",
       "\ttrue\n",
       "]"
      ]
     },
     "execution_count": 220,
     "metadata": {},
     "output_type": "execute_result"
    }
   ],
   "source": [
    "#| label: string-contains-regrex\n",
    "st.str.contains(\"ba[a-zA-Z]\") "
   ]
  },
  {
   "cell_type": "code",
   "execution_count": 227,
   "id": "string-contains-regex-2",
   "metadata": {},
   "outputs": [
    {
     "data": {
      "text/html": [
       "<div><style>\n",
       ".dataframe > thead > tr,\n",
       ".dataframe > tbody > tr {\n",
       "  text-align: right;\n",
       "  white-space: pre-wrap;\n",
       "}\n",
       "</style>\n",
       "<small>shape: (3,)</small><table border=\"1\" class=\"dataframe\"><thead><tr><th>a</th></tr><tr><td>bool</td></tr></thead><tbody><tr><td>false</td></tr><tr><td>false</td></tr><tr><td>false</td></tr></tbody></table></div>"
      ],
      "text/plain": [
       "shape: (3,)\n",
       "Series: 'a' [bool]\n",
       "[\n",
       "\tfalse\n",
       "\tfalse\n",
       "\tfalse\n",
       "]"
      ]
     },
     "execution_count": 221,
     "metadata": {},
     "output_type": "execute_result"
    }
   ],
   "source": [
    "#| label: string-contains-regex-2\n",
    "st.str.contains(\"[a-zA-Z]{4,5}\") "
   ]
  },
  {
   "cell_type": "code",
   "execution_count": 228,
   "id": "string-count-matches-2",
   "metadata": {},
   "outputs": [
    {
     "data": {
      "text/html": [
       "<div><style>\n",
       ".dataframe > thead > tr,\n",
       ".dataframe > tbody > tr {\n",
       "  text-align: right;\n",
       "  white-space: pre-wrap;\n",
       "}\n",
       "</style>\n",
       "<small>shape: (3,)</small><table border=\"1\" class=\"dataframe\"><thead><tr><th>a</th></tr><tr><td>u32</td></tr></thead><tbody><tr><td>3</td></tr><tr><td>3</td></tr><tr><td>3</td></tr></tbody></table></div>"
      ],
      "text/plain": [
       "shape: (3,)\n",
       "Series: 'a' [u32]\n",
       "[\n",
       "\t3\n",
       "\t3\n",
       "\t3\n",
       "]"
      ]
     },
     "execution_count": 222,
     "metadata": {},
     "output_type": "execute_result"
    }
   ],
   "source": [
    "#| label: string-count-matches-2\n",
    "st.str.count_matches(pattern='[a-zA-Z]')"
   ]
  },
  {
   "cell_type": "code",
   "execution_count": 229,
   "id": "string-ends-with",
   "metadata": {},
   "outputs": [
    {
     "data": {
      "text/html": [
       "<div><style>\n",
       ".dataframe > thead > tr,\n",
       ".dataframe > tbody > tr {\n",
       "  text-align: right;\n",
       "  white-space: pre-wrap;\n",
       "}\n",
       "</style>\n",
       "<small>shape: (3,)</small><table border=\"1\" class=\"dataframe\"><thead><tr><th>a</th></tr><tr><td>bool</td></tr></thead><tbody><tr><td>true</td></tr><tr><td>false</td></tr><tr><td>false</td></tr></tbody></table></div>"
      ],
      "text/plain": [
       "shape: (3,)\n",
       "Series: 'a' [bool]\n",
       "[\n",
       "\ttrue\n",
       "\tfalse\n",
       "\tfalse\n",
       "]"
      ]
     },
     "execution_count": 223,
     "metadata": {},
     "output_type": "execute_result"
    }
   ],
   "source": [
    "#| label: string-ends-with\n",
    "st.str.ends_with(\"oo\")"
   ]
  },
  {
   "cell_type": "code",
   "execution_count": 230,
   "id": "string-starts-with",
   "metadata": {},
   "outputs": [
    {
     "data": {
      "text/html": [
       "<div><style>\n",
       ".dataframe > thead > tr,\n",
       ".dataframe > tbody > tr {\n",
       "  text-align: right;\n",
       "  white-space: pre-wrap;\n",
       "}\n",
       "</style>\n",
       "<small>shape: (3,)</small><table border=\"1\" class=\"dataframe\"><thead><tr><th>a</th></tr><tr><td>bool</td></tr></thead><tbody><tr><td>true</td></tr><tr><td>false</td></tr><tr><td>false</td></tr></tbody></table></div>"
      ],
      "text/plain": [
       "shape: (3,)\n",
       "Series: 'a' [bool]\n",
       "[\n",
       "\ttrue\n",
       "\tfalse\n",
       "\tfalse\n",
       "]"
      ]
     },
     "execution_count": 224,
     "metadata": {},
     "output_type": "execute_result"
    }
   ],
   "source": [
    "#| label: string-starts-with\n",
    "st.str.starts_with(\"fo\")"
   ]
  },
  {
   "cell_type": "markdown",
   "id": "158310a4",
   "metadata": {},
   "source": [
    "To extract the **first** appearance of a pattern, use `extract`:\n"
   ]
  },
  {
   "cell_type": "code",
   "execution_count": 231,
   "id": "sample-strings",
   "metadata": {},
   "outputs": [],
   "source": [
    "#| label: sample-strings\n",
    "url = pl.Series(\"a\", [\n",
    "            \"http://vote.com/ballon_dor?candidate=messi&ref=Polars\",\n",
    "\n",
    "            \"http://vote.com/ballon_dor?candidate=jorginho&ref=Polars\",\n",
    "\n",
    "            \"http://vote.com/ballon_dor?candidate=ronaldo&ref=Polars\"\n",
    "            ])"
   ]
  },
  {
   "cell_type": "code",
   "execution_count": 232,
   "id": "string-extract",
   "metadata": {},
   "outputs": [
    {
     "data": {
      "text/html": [
       "<div><style>\n",
       ".dataframe > thead > tr,\n",
       ".dataframe > tbody > tr {\n",
       "  text-align: right;\n",
       "  white-space: pre-wrap;\n",
       "}\n",
       "</style>\n",
       "<small>shape: (3,)</small><table border=\"1\" class=\"dataframe\"><thead><tr><th>a</th></tr><tr><td>str</td></tr></thead><tbody><tr><td>&quot;messi&quot;</td></tr><tr><td>&quot;jorginho&quot;</td></tr><tr><td>&quot;ronaldo&quot;</td></tr></tbody></table></div>"
      ],
      "text/plain": [
       "shape: (3,)\n",
       "Series: 'a' [str]\n",
       "[\n",
       "\t\"messi\"\n",
       "\t\"jorginho\"\n",
       "\t\"ronaldo\"\n",
       "]"
      ]
     },
     "execution_count": 226,
     "metadata": {},
     "output_type": "execute_result"
    }
   ],
   "source": [
    "#| label: string-extract\n",
    "url.str.extract(\"=([a-zA-Z]+)\", 1) \n",
    "# \"=([a-zA-Z]+)\" is read: \"match an equality, followed by any number of alphanumerics\"."
   ]
  },
  {
   "cell_type": "markdown",
   "id": "0fe1bf72",
   "metadata": {},
   "source": [
    "To extract **all** appearances of a pattern, use `extract_all`:\n"
   ]
  },
  {
   "cell_type": "code",
   "execution_count": 233,
   "id": "string-extract-all",
   "metadata": {},
   "outputs": [
    {
     "data": {
      "text/html": [
       "<div><style>\n",
       ".dataframe > thead > tr,\n",
       ".dataframe > tbody > tr {\n",
       "  text-align: right;\n",
       "  white-space: pre-wrap;\n",
       "}\n",
       "</style>\n",
       "<small>shape: (3,)</small><table border=\"1\" class=\"dataframe\"><thead><tr><th>a</th></tr><tr><td>list[str]</td></tr></thead><tbody><tr><td>[&quot;=messi&quot;, &quot;=Polars&quot;]</td></tr><tr><td>[&quot;=jorginho&quot;, &quot;=Polars&quot;]</td></tr><tr><td>[&quot;=ronaldo&quot;, &quot;=Polars&quot;]</td></tr></tbody></table></div>"
      ],
      "text/plain": [
       "shape: (3,)\n",
       "Series: 'a' [list[str]]\n",
       "[\n",
       "\t[\"=messi\", \"=Polars\"]\n",
       "\t[\"=jorginho\", \"=Polars\"]\n",
       "\t[\"=ronaldo\", \"=Polars\"]\n",
       "]"
      ]
     },
     "execution_count": 227,
     "metadata": {},
     "output_type": "execute_result"
    }
   ],
   "source": [
    "#| label: string-extract-all\n",
    "url.str.extract_all(\"=(\\w+)\") # \\w is a shorthand for [a-zA-Z0-9_], i.e., alphanumerics and underscore."
   ]
  },
  {
   "cell_type": "code",
   "execution_count": 234,
   "id": "string-pad-end",
   "metadata": {},
   "outputs": [
    {
     "data": {
      "text/html": [
       "<div><style>\n",
       ".dataframe > thead > tr,\n",
       ".dataframe > tbody > tr {\n",
       "  text-align: right;\n",
       "  white-space: pre-wrap;\n",
       "}\n",
       "</style>\n",
       "<small>shape: (3,)</small><table border=\"1\" class=\"dataframe\"><thead><tr><th>a</th></tr><tr><td>str</td></tr></thead><tbody><tr><td>&quot;foo*****&quot;</td></tr><tr><td>&quot;bar*****&quot;</td></tr><tr><td>&quot;baz*****&quot;</td></tr></tbody></table></div>"
      ],
      "text/plain": [
       "shape: (3,)\n",
       "Series: 'a' [str]\n",
       "[\n",
       "\t\"foo*****\"\n",
       "\t\"bar*****\"\n",
       "\t\"baz*****\"\n",
       "]"
      ]
     },
     "execution_count": 228,
     "metadata": {},
     "output_type": "execute_result"
    }
   ],
   "source": [
    "#| label: string-pad-end\n",
    "st.str.pad_end(8, \"*\")"
   ]
  },
  {
   "cell_type": "code",
   "execution_count": 235,
   "id": "string-pad-start",
   "metadata": {},
   "outputs": [
    {
     "data": {
      "text/html": [
       "<div><style>\n",
       ".dataframe > thead > tr,\n",
       ".dataframe > tbody > tr {\n",
       "  text-align: right;\n",
       "  white-space: pre-wrap;\n",
       "}\n",
       "</style>\n",
       "<small>shape: (3,)</small><table border=\"1\" class=\"dataframe\"><thead><tr><th>a</th></tr><tr><td>str</td></tr></thead><tbody><tr><td>&quot;*****foo&quot;</td></tr><tr><td>&quot;*****bar&quot;</td></tr><tr><td>&quot;*****baz&quot;</td></tr></tbody></table></div>"
      ],
      "text/plain": [
       "shape: (3,)\n",
       "Series: 'a' [str]\n",
       "[\n",
       "\t\"*****foo\"\n",
       "\t\"*****bar\"\n",
       "\t\"*****baz\"\n",
       "]"
      ]
     },
     "execution_count": 229,
     "metadata": {},
     "output_type": "execute_result"
    }
   ],
   "source": [
    "#| label: string-pad-start\n",
    "st.str.pad_start(8, \"*\")"
   ]
  },
  {
   "cell_type": "code",
   "execution_count": 236,
   "id": "string-strip-char-start",
   "metadata": {},
   "outputs": [
    {
     "data": {
      "text/html": [
       "<div><style>\n",
       ".dataframe > thead > tr,\n",
       ".dataframe > tbody > tr {\n",
       "  text-align: right;\n",
       "  white-space: pre-wrap;\n",
       "}\n",
       "</style>\n",
       "<small>shape: (3,)</small><table border=\"1\" class=\"dataframe\"><thead><tr><th>a</th></tr><tr><td>str</td></tr></thead><tbody><tr><td>&quot;oo&quot;</td></tr><tr><td>&quot;bar&quot;</td></tr><tr><td>&quot;baz&quot;</td></tr></tbody></table></div>"
      ],
      "text/plain": [
       "shape: (3,)\n",
       "Series: 'a' [str]\n",
       "[\n",
       "\t\"oo\"\n",
       "\t\"bar\"\n",
       "\t\"baz\"\n",
       "]"
      ]
     },
     "execution_count": 230,
     "metadata": {},
     "output_type": "execute_result"
    }
   ],
   "source": [
    "#| label: string-strip-char-start\n",
    "st.str.strip_chars_start('f')"
   ]
  },
  {
   "cell_type": "code",
   "execution_count": 237,
   "id": "string-strip-char-end",
   "metadata": {},
   "outputs": [
    {
     "data": {
      "text/html": [
       "<div><style>\n",
       ".dataframe > thead > tr,\n",
       ".dataframe > tbody > tr {\n",
       "  text-align: right;\n",
       "  white-space: pre-wrap;\n",
       "}\n",
       "</style>\n",
       "<small>shape: (3,)</small><table border=\"1\" class=\"dataframe\"><thead><tr><th>a</th></tr><tr><td>str</td></tr></thead><tbody><tr><td>&quot;foo&quot;</td></tr><tr><td>&quot;ba&quot;</td></tr><tr><td>&quot;baz&quot;</td></tr></tbody></table></div>"
      ],
      "text/plain": [
       "shape: (3,)\n",
       "Series: 'a' [str]\n",
       "[\n",
       "\t\"foo\"\n",
       "\t\"ba\"\n",
       "\t\"baz\"\n",
       "]"
      ]
     },
     "execution_count": 231,
     "metadata": {},
     "output_type": "execute_result"
    }
   ],
   "source": [
    "#| label: string-strip-char-end\n",
    "st.str.strip_chars_end('r')"
   ]
  },
  {
   "cell_type": "markdown",
   "id": "4f0fcdfa",
   "metadata": {},
   "source": [
    "Replacing first appearance of a pattern:\n"
   ]
  },
  {
   "cell_type": "code",
   "execution_count": 238,
   "id": "string-replace",
   "metadata": {},
   "outputs": [
    {
     "data": {
      "text/html": [
       "<div><style>\n",
       ".dataframe > thead > tr,\n",
       ".dataframe > tbody > tr {\n",
       "  text-align: right;\n",
       "  white-space: pre-wrap;\n",
       "}\n",
       "</style>\n",
       "<small>shape: (3,)</small><table border=\"1\" class=\"dataframe\"><thead><tr><th>a</th></tr><tr><td>str</td></tr></thead><tbody><tr><td>&quot;fZZ&quot;</td></tr><tr><td>&quot;bar&quot;</td></tr><tr><td>&quot;baz&quot;</td></tr></tbody></table></div>"
      ],
      "text/plain": [
       "shape: (3,)\n",
       "Series: 'a' [str]\n",
       "[\n",
       "\t\"fZZ\"\n",
       "\t\"bar\"\n",
       "\t\"baz\"\n",
       "]"
      ]
     },
     "execution_count": 232,
     "metadata": {},
     "output_type": "execute_result"
    }
   ],
   "source": [
    "#| label: string-replace\n",
    "st.str.replace(\"o+\", \"ZZ\")"
   ]
  },
  {
   "cell_type": "markdown",
   "id": "2a9751fb",
   "metadata": {},
   "source": [
    "Replace all appearances of a pattern:\n"
   ]
  },
  {
   "cell_type": "code",
   "execution_count": 239,
   "id": "string-replace-all",
   "metadata": {},
   "outputs": [
    {
     "data": {
      "text/html": [
       "<div><style>\n",
       ".dataframe > thead > tr,\n",
       ".dataframe > tbody > tr {\n",
       "  text-align: right;\n",
       "  white-space: pre-wrap;\n",
       "}\n",
       "</style>\n",
       "<small>shape: (3,)</small><table border=\"1\" class=\"dataframe\"><thead><tr><th>a</th></tr><tr><td>str</td></tr></thead><tbody><tr><td>&quot;fZZZZ&quot;</td></tr><tr><td>&quot;bar&quot;</td></tr><tr><td>&quot;baz&quot;</td></tr></tbody></table></div>"
      ],
      "text/plain": [
       "shape: (3,)\n",
       "Series: 'a' [str]\n",
       "[\n",
       "\t\"fZZZZ\"\n",
       "\t\"bar\"\n",
       "\t\"baz\"\n",
       "]"
      ]
     },
     "execution_count": 233,
     "metadata": {},
     "output_type": "execute_result"
    }
   ],
   "source": [
    "#| label: string-replace-all\n",
    "st.str.replace_all(\"o\", \"ZZ\")"
   ]
  },
  {
   "cell_type": "markdown",
   "id": "e57c19e3",
   "metadata": {},
   "source": [
    "String to list of strings. Number of splits inferred.\n"
   ]
  },
  {
   "cell_type": "code",
   "execution_count": 240,
   "id": "string-split",
   "metadata": {},
   "outputs": [
    {
     "data": {
      "text/html": [
       "<div><style>\n",
       ".dataframe > thead > tr,\n",
       ".dataframe > tbody > tr {\n",
       "  text-align: right;\n",
       "  white-space: pre-wrap;\n",
       "}\n",
       "</style>\n",
       "<small>shape: (3,)</small><table border=\"1\" class=\"dataframe\"><thead><tr><th>a</th></tr><tr><td>list[str]</td></tr></thead><tbody><tr><td>[&quot;f&quot;, &quot;&quot;, &quot;&quot;]</td></tr><tr><td>[&quot;bar&quot;]</td></tr><tr><td>[&quot;baz&quot;]</td></tr></tbody></table></div>"
      ],
      "text/plain": [
       "shape: (3,)\n",
       "Series: 'a' [list[str]]\n",
       "[\n",
       "\t[\"f\", \"\", \"\"]\n",
       "\t[\"bar\"]\n",
       "\t[\"baz\"]\n",
       "]"
      ]
     },
     "execution_count": 234,
     "metadata": {},
     "output_type": "execute_result"
    }
   ],
   "source": [
    "#| label: string-split\n",
    "st.str.split(by=\"o\")"
   ]
  },
  {
   "cell_type": "code",
   "execution_count": 241,
   "id": "string-split-inclusive",
   "metadata": {},
   "outputs": [
    {
     "data": {
      "text/html": [
       "<div><style>\n",
       ".dataframe > thead > tr,\n",
       ".dataframe > tbody > tr {\n",
       "  text-align: right;\n",
       "  white-space: pre-wrap;\n",
       "}\n",
       "</style>\n",
       "<small>shape: (3,)</small><table border=\"1\" class=\"dataframe\"><thead><tr><th>a</th></tr><tr><td>list[str]</td></tr></thead><tbody><tr><td>[&quot;foo&quot;]</td></tr><tr><td>[&quot;ba&quot;, &quot;r&quot;]</td></tr><tr><td>[&quot;ba&quot;, &quot;z&quot;]</td></tr></tbody></table></div>"
      ],
      "text/plain": [
       "shape: (3,)\n",
       "Series: 'a' [list[str]]\n",
       "[\n",
       "\t[\"foo\"]\n",
       "\t[\"ba\", \"r\"]\n",
       "\t[\"ba\", \"z\"]\n",
       "]"
      ]
     },
     "execution_count": 235,
     "metadata": {},
     "output_type": "execute_result"
    }
   ],
   "source": [
    "#| label: string-split-inclusive\n",
    "st.str.split(by=\"a\", inclusive=True)"
   ]
  },
  {
   "cell_type": "markdown",
   "id": "ffaebc9a",
   "metadata": {},
   "source": [
    "String to dict of strings. \n",
    "Number of **splits** fixed.\n"
   ]
  },
  {
   "cell_type": "code",
   "execution_count": 242,
   "id": "string-split-exact",
   "metadata": {},
   "outputs": [
    {
     "data": {
      "text/html": [
       "<div><style>\n",
       ".dataframe > thead > tr,\n",
       ".dataframe > tbody > tr {\n",
       "  text-align: right;\n",
       "  white-space: pre-wrap;\n",
       "}\n",
       "</style>\n",
       "<small>shape: (3,)</small><table border=\"1\" class=\"dataframe\"><thead><tr><th>a</th></tr><tr><td>struct[3]</td></tr></thead><tbody><tr><td>{&quot;foo&quot;,null,null}</td></tr><tr><td>{&quot;b&quot;,&quot;r&quot;,null}</td></tr><tr><td>{&quot;b&quot;,&quot;z&quot;,null}</td></tr></tbody></table></div>"
      ],
      "text/plain": [
       "shape: (3,)\n",
       "Series: 'a' [struct[3]]\n",
       "[\n",
       "\t{\"foo\",null,null}\n",
       "\t{\"b\",\"r\",null}\n",
       "\t{\"b\",\"z\",null}\n",
       "]"
      ]
     },
     "execution_count": 236,
     "metadata": {},
     "output_type": "execute_result"
    }
   ],
   "source": [
    "#| label: string-split-exact\n",
    "st.str.split_exact(\"a\", 2)"
   ]
  },
  {
   "cell_type": "markdown",
   "id": "2fa2dde0",
   "metadata": {},
   "source": [
    "String to dict of strings. \n",
    "Length of **output** fixed.\n"
   ]
  },
  {
   "cell_type": "code",
   "execution_count": 243,
   "id": "string-split-length",
   "metadata": {},
   "outputs": [
    {
     "data": {
      "text/html": [
       "<div><style>\n",
       ".dataframe > thead > tr,\n",
       ".dataframe > tbody > tr {\n",
       "  text-align: right;\n",
       "  white-space: pre-wrap;\n",
       "}\n",
       "</style>\n",
       "<small>shape: (3,)</small><table border=\"1\" class=\"dataframe\"><thead><tr><th>a</th></tr><tr><td>struct[4]</td></tr></thead><tbody><tr><td>{&quot;foo&quot;,null,null,null}</td></tr><tr><td>{&quot;b&quot;,&quot;r&quot;,null,null}</td></tr><tr><td>{&quot;b&quot;,&quot;z&quot;,null,null}</td></tr></tbody></table></div>"
      ],
      "text/plain": [
       "shape: (3,)\n",
       "Series: 'a' [struct[4]]\n",
       "[\n",
       "\t{\"foo\",null,null,null}\n",
       "\t{\"b\",\"r\",null,null}\n",
       "\t{\"b\",\"z\",null,null}\n",
       "]"
      ]
     },
     "execution_count": 237,
     "metadata": {},
     "output_type": "execute_result"
    }
   ],
   "source": [
    "#| label: string-split-length\n",
    "st.str.splitn(\"a\", 4)"
   ]
  },
  {
   "cell_type": "markdown",
   "id": "685da095",
   "metadata": {},
   "source": [
    "Strip white spaces.\n"
   ]
  },
  {
   "cell_type": "code",
   "execution_count": 244,
   "id": "89351dd5",
   "metadata": {},
   "outputs": [
    {
     "name": "stderr",
     "output_type": "stream",
     "text": [
      "/var/folders/ld/j2ckdhnj5hqcx58byy0gj9th0000gn/T/ipykernel_99747/1297794149.py:1: DeprecationWarning:\n",
      "\n",
      "`strip` is deprecated. It has been renamed to `strip_chars`.\n",
      "\n"
     ]
    },
    {
     "data": {
      "text/html": [
       "<div><style>\n",
       ".dataframe > thead > tr,\n",
       ".dataframe > tbody > tr {\n",
       "  text-align: right;\n",
       "  white-space: pre-wrap;\n",
       "}\n",
       "</style>\n",
       "<small>shape: (2,)</small><table border=\"1\" class=\"dataframe\"><thead><tr><th></th></tr><tr><td>str</td></tr></thead><tbody><tr><td>&quot;ohh&quot;</td></tr><tr><td>&quot;yeah&quot;</td></tr></tbody></table></div>"
      ],
      "text/plain": [
       "shape: (2,)\n",
       "Series: '' [str]\n",
       "[\n",
       "\t\"ohh\"\n",
       "\t\"yeah\"\n",
       "]"
      ]
     },
     "execution_count": 238,
     "metadata": {},
     "output_type": "execute_result"
    }
   ],
   "source": [
    "pl.Series(['   ohh   ','   yeah   ']).str.strip()"
   ]
  },
  {
   "cell_type": "code",
   "execution_count": 245,
   "id": "string-to-uppercase",
   "metadata": {},
   "outputs": [
    {
     "data": {
      "text/html": [
       "<div><style>\n",
       ".dataframe > thead > tr,\n",
       ".dataframe > tbody > tr {\n",
       "  text-align: right;\n",
       "  white-space: pre-wrap;\n",
       "}\n",
       "</style>\n",
       "<small>shape: (3,)</small><table border=\"1\" class=\"dataframe\"><thead><tr><th>a</th></tr><tr><td>str</td></tr></thead><tbody><tr><td>&quot;FOO&quot;</td></tr><tr><td>&quot;BAR&quot;</td></tr><tr><td>&quot;BAZ&quot;</td></tr></tbody></table></div>"
      ],
      "text/plain": [
       "shape: (3,)\n",
       "Series: 'a' [str]\n",
       "[\n",
       "\t\"FOO\"\n",
       "\t\"BAR\"\n",
       "\t\"BAZ\"\n",
       "]"
      ]
     },
     "execution_count": 239,
     "metadata": {},
     "output_type": "execute_result"
    }
   ],
   "source": [
    "#| label: string-to-uppercase\n",
    "st.str.to_uppercase()"
   ]
  },
  {
   "cell_type": "code",
   "execution_count": 246,
   "id": "string-to-lowercase",
   "metadata": {},
   "outputs": [
    {
     "data": {
      "text/html": [
       "<div><style>\n",
       ".dataframe > thead > tr,\n",
       ".dataframe > tbody > tr {\n",
       "  text-align: right;\n",
       "  white-space: pre-wrap;\n",
       "}\n",
       "</style>\n",
       "<small>shape: (3,)</small><table border=\"1\" class=\"dataframe\"><thead><tr><th>a</th></tr><tr><td>str</td></tr></thead><tbody><tr><td>&quot;foo&quot;</td></tr><tr><td>&quot;bar&quot;</td></tr><tr><td>&quot;baz&quot;</td></tr></tbody></table></div>"
      ],
      "text/plain": [
       "shape: (3,)\n",
       "Series: 'a' [str]\n",
       "[\n",
       "\t\"foo\"\n",
       "\t\"bar\"\n",
       "\t\"baz\"\n",
       "]"
      ]
     },
     "execution_count": 240,
     "metadata": {},
     "output_type": "execute_result"
    }
   ],
   "source": [
    "#| label: string-to-lowercase\n",
    "st.str.to_lowercase()"
   ]
  },
  {
   "cell_type": "code",
   "execution_count": 247,
   "id": "string-to-titlecase",
   "metadata": {},
   "outputs": [
    {
     "data": {
      "text/html": [
       "<div><style>\n",
       ".dataframe > thead > tr,\n",
       ".dataframe > tbody > tr {\n",
       "  text-align: right;\n",
       "  white-space: pre-wrap;\n",
       "}\n",
       "</style>\n",
       "<small>shape: (3,)</small><table border=\"1\" class=\"dataframe\"><thead><tr><th>a</th></tr><tr><td>str</td></tr></thead><tbody><tr><td>&quot;Foo&quot;</td></tr><tr><td>&quot;Bar&quot;</td></tr><tr><td>&quot;Baz&quot;</td></tr></tbody></table></div>"
      ],
      "text/plain": [
       "shape: (3,)\n",
       "Series: 'a' [str]\n",
       "[\n",
       "\t\"Foo\"\n",
       "\t\"Bar\"\n",
       "\t\"Baz\"\n",
       "]"
      ]
     },
     "execution_count": 241,
     "metadata": {},
     "output_type": "execute_result"
    }
   ],
   "source": [
    "#| label: string-to-titlecase\n",
    "st.str.to_titlecase()"
   ]
  },
  {
   "cell_type": "code",
   "execution_count": 248,
   "id": "string-zfill",
   "metadata": {},
   "outputs": [
    {
     "data": {
      "text/html": [
       "<div><style>\n",
       ".dataframe > thead > tr,\n",
       ".dataframe > tbody > tr {\n",
       "  text-align: right;\n",
       "  white-space: pre-wrap;\n",
       "}\n",
       "</style>\n",
       "<small>shape: (3,)</small><table border=\"1\" class=\"dataframe\"><thead><tr><th>a</th></tr><tr><td>str</td></tr></thead><tbody><tr><td>&quot;00foo&quot;</td></tr><tr><td>&quot;00bar&quot;</td></tr><tr><td>&quot;00baz&quot;</td></tr></tbody></table></div>"
      ],
      "text/plain": [
       "shape: (3,)\n",
       "Series: 'a' [str]\n",
       "[\n",
       "\t\"00foo\"\n",
       "\t\"00bar\"\n",
       "\t\"00baz\"\n",
       "]"
      ]
     },
     "execution_count": 242,
     "metadata": {},
     "output_type": "execute_result"
    }
   ],
   "source": [
    "#| label: string-zfill\n",
    "st.str.zfill(5)"
   ]
  },
  {
   "cell_type": "code",
   "execution_count": 249,
   "id": "string-slice",
   "metadata": {},
   "outputs": [
    {
     "data": {
      "text/html": [
       "<div><style>\n",
       ".dataframe > thead > tr,\n",
       ".dataframe > tbody > tr {\n",
       "  text-align: right;\n",
       "  white-space: pre-wrap;\n",
       "}\n",
       "</style>\n",
       "<small>shape: (3,)</small><table border=\"1\" class=\"dataframe\"><thead><tr><th>a</th></tr><tr><td>str</td></tr></thead><tbody><tr><td>&quot;o&quot;</td></tr><tr><td>&quot;a&quot;</td></tr><tr><td>&quot;a&quot;</td></tr></tbody></table></div>"
      ],
      "text/plain": [
       "shape: (3,)\n",
       "Series: 'a' [str]\n",
       "[\n",
       "\t\"o\"\n",
       "\t\"a\"\n",
       "\t\"a\"\n",
       "]"
      ]
     },
     "execution_count": 243,
     "metadata": {},
     "output_type": "execute_result"
    }
   ],
   "source": [
    "#| label: string-slice\n",
    "st.str.slice(offset=1, length=1)"
   ]
  },
  {
   "cell_type": "markdown",
   "id": "df1d7404",
   "metadata": {},
   "source": [
    "# Polars (Eager) DataFrames {#sec-dataframes}\n",
    "\n",
    "Recall :\n",
    "\n",
    "1.  There is no row index (like R's `data.frame`, `data.table`, and `tibble`; unlike Python's `Pandas`).\n",
    "2.  Will not accept duplicate column names (unlike Pandas).\n",
    "\n",
    "## Create\n",
    "\n",
    "A frame can be created as you would expect. From a dictionary of series, a numpy array, a Pandas sdataframe, or a list of Polars (or Pandas) series, etc.\n"
   ]
  },
  {
   "cell_type": "code",
   "execution_count": 250,
   "id": "make-dataframe",
   "metadata": {},
   "outputs": [],
   "source": [
    "#| label: make-dataframe\n",
    "\n",
    "df = pl.DataFrame({\n",
    "  \"integer\": [1, 2, 3], \n",
    "  \"date\": [\n",
    "    (datetime(2022, 1, 1)), \n",
    "    (datetime(2022, 1, 2)), \n",
    "    (datetime(2022, 1, 3))], \n",
    "    \"float\": [4.0, 5.0, 6.0],\n",
    "    \"string\": [\"a\", \"b\", \"c\"]})"
   ]
  },
  {
   "cell_type": "markdown",
   "id": "908e9708",
   "metadata": {},
   "source": [
    "## Inspect\n",
    "\n",
    "Nice HTML printing to iPython. "
   ]
  },
  {
   "cell_type": "code",
   "execution_count": 251,
   "id": "e48460b2",
   "metadata": {},
   "outputs": [
    {
     "data": {
      "text/html": [
       "<div><style>\n",
       ".dataframe > thead > tr,\n",
       ".dataframe > tbody > tr {\n",
       "  text-align: right;\n",
       "  white-space: pre-wrap;\n",
       "}\n",
       "</style>\n",
       "<small>shape: (3, 4)</small><table border=\"1\" class=\"dataframe\"><thead><tr><th>integer</th><th>date</th><th>float</th><th>string</th></tr><tr><td>i64</td><td>datetime[μs]</td><td>f64</td><td>str</td></tr></thead><tbody><tr><td>1</td><td>2022-01-01 00:00:00</td><td>4.0</td><td>&quot;a&quot;</td></tr><tr><td>2</td><td>2022-01-02 00:00:00</td><td>5.0</td><td>&quot;b&quot;</td></tr><tr><td>3</td><td>2022-01-03 00:00:00</td><td>6.0</td><td>&quot;c&quot;</td></tr></tbody></table></div>"
      ],
      "text/plain": [
       "shape: (3, 4)\n",
       "┌─────────┬─────────────────────┬───────┬────────┐\n",
       "│ integer ┆ date                ┆ float ┆ string │\n",
       "│ ---     ┆ ---                 ┆ ---   ┆ ---    │\n",
       "│ i64     ┆ datetime[μs]        ┆ f64   ┆ str    │\n",
       "╞═════════╪═════════════════════╪═══════╪════════╡\n",
       "│ 1       ┆ 2022-01-01 00:00:00 ┆ 4.0   ┆ a      │\n",
       "│ 2       ┆ 2022-01-02 00:00:00 ┆ 5.0   ┆ b      │\n",
       "│ 3       ┆ 2022-01-03 00:00:00 ┆ 6.0   ┆ c      │\n",
       "└─────────┴─────────────────────┴───────┴────────┘"
      ]
     },
     "execution_count": 245,
     "metadata": {},
     "output_type": "execute_result"
    }
   ],
   "source": [
    "df"
   ]
  },
  {
   "cell_type": "code",
   "execution_count": 252,
   "id": "2cb5b9f1",
   "metadata": {},
   "outputs": [
    {
     "name": "stdout",
     "output_type": "stream",
     "text": [
      "shape: (3, 4)\n",
      "┌─────────┬─────────────────────┬───────┬────────┐\n",
      "│ integer ┆ date                ┆ float ┆ string │\n",
      "│ ---     ┆ ---                 ┆ ---   ┆ ---    │\n",
      "│ i64     ┆ datetime[μs]        ┆ f64   ┆ str    │\n",
      "╞═════════╪═════════════════════╪═══════╪════════╡\n",
      "│ 1       ┆ 2022-01-01 00:00:00 ┆ 4.0   ┆ a      │\n",
      "│ 2       ┆ 2022-01-02 00:00:00 ┆ 5.0   ┆ b      │\n",
      "│ 3       ┆ 2022-01-03 00:00:00 ┆ 6.0   ┆ c      │\n",
      "└─────────┴─────────────────────┴───────┴────────┘\n"
     ]
    }
   ],
   "source": [
    "print(df)"
   ]
  },
  {
   "cell_type": "code",
   "execution_count": 253,
   "id": "37773098",
   "metadata": {},
   "outputs": [
    {
     "name": "stdout",
     "output_type": "stream",
     "text": [
      "Rows: 3\n",
      "Columns: 4\n",
      "$ integer          <i64> 1, 2, 3\n",
      "$ date    <datetime[μs]> 2022-01-01 00:00:00, 2022-01-02 00:00:00, 2022-01-03 00:00:00\n",
      "$ float            <f64> 4.0, 5.0, 6.0\n",
      "$ string           <str> 'a', 'b', 'c'\n",
      "\n"
     ]
    }
   ],
   "source": [
    "df.glimpse() # useful for wide frames. Similar to R's str() of Pandas's .info()"
   ]
  },
  {
   "cell_type": "code",
   "execution_count": 254,
   "id": "81cde2db",
   "metadata": {},
   "outputs": [
    {
     "data": {
      "text/plain": [
       "['integer', 'date', 'float', 'string']"
      ]
     },
     "execution_count": 248,
     "metadata": {},
     "output_type": "execute_result"
    }
   ],
   "source": [
    "df.columns"
   ]
  },
  {
   "cell_type": "code",
   "execution_count": 255,
   "id": "dcfdbc10",
   "metadata": {},
   "outputs": [
    {
     "data": {
      "text/plain": [
       "(3, 4)"
      ]
     },
     "execution_count": 249,
     "metadata": {},
     "output_type": "execute_result"
    }
   ],
   "source": [
    "df.shape"
   ]
  },
  {
   "cell_type": "code",
   "execution_count": 256,
   "id": "25637a4c",
   "metadata": {},
   "outputs": [
    {
     "data": {
      "text/plain": [
       "3"
      ]
     },
     "execution_count": 250,
     "metadata": {},
     "output_type": "execute_result"
    }
   ],
   "source": [
    "df.height # probably more useful than df.shape[0]"
   ]
  },
  {
   "cell_type": "code",
   "execution_count": 257,
   "id": "8ae3a70f",
   "metadata": {},
   "outputs": [
    {
     "data": {
      "text/plain": [
       "4"
      ]
     },
     "execution_count": 251,
     "metadata": {},
     "output_type": "execute_result"
    }
   ],
   "source": [
    "df.width"
   ]
  },
  {
   "cell_type": "code",
   "execution_count": 258,
   "id": "135349c5",
   "metadata": {},
   "outputs": [
    {
     "data": {
      "text/plain": [
       "OrderedDict([('integer', Int64),\n",
       "             ('date', Datetime(time_unit='us', time_zone=None)),\n",
       "             ('float', Float64),\n",
       "             ('string', String)])"
      ]
     },
     "execution_count": 252,
     "metadata": {},
     "output_type": "execute_result"
    }
   ],
   "source": [
    "df.schema # similar to Pandas info()"
   ]
  },
  {
   "cell_type": "code",
   "execution_count": 259,
   "id": "7c75af4b",
   "metadata": {},
   "outputs": [
    {
     "name": "stderr",
     "output_type": "stream",
     "text": [
      "/var/folders/ld/j2ckdhnj5hqcx58byy0gj9th0000gn/T/ipykernel_99747/354286280.py:1: DeprecationWarning:\n",
      "\n",
      "`with_row_count` is deprecated. Use `with_row_index` instead. Note that the default column name has changed from 'row_nr' to 'index'.\n",
      "\n"
     ]
    },
    {
     "data": {
      "text/html": [
       "<div><style>\n",
       ".dataframe > thead > tr,\n",
       ".dataframe > tbody > tr {\n",
       "  text-align: right;\n",
       "  white-space: pre-wrap;\n",
       "}\n",
       "</style>\n",
       "<small>shape: (3, 5)</small><table border=\"1\" class=\"dataframe\"><thead><tr><th>row_nr</th><th>integer</th><th>date</th><th>float</th><th>string</th></tr><tr><td>u32</td><td>i64</td><td>datetime[μs]</td><td>f64</td><td>str</td></tr></thead><tbody><tr><td>0</td><td>1</td><td>2022-01-01 00:00:00</td><td>4.0</td><td>&quot;a&quot;</td></tr><tr><td>1</td><td>2</td><td>2022-01-02 00:00:00</td><td>5.0</td><td>&quot;b&quot;</td></tr><tr><td>2</td><td>3</td><td>2022-01-03 00:00:00</td><td>6.0</td><td>&quot;c&quot;</td></tr></tbody></table></div>"
      ],
      "text/plain": [
       "shape: (3, 5)\n",
       "┌────────┬─────────┬─────────────────────┬───────┬────────┐\n",
       "│ row_nr ┆ integer ┆ date                ┆ float ┆ string │\n",
       "│ ---    ┆ ---     ┆ ---                 ┆ ---   ┆ ---    │\n",
       "│ u32    ┆ i64     ┆ datetime[μs]        ┆ f64   ┆ str    │\n",
       "╞════════╪═════════╪═════════════════════╪═══════╪════════╡\n",
       "│ 0      ┆ 1       ┆ 2022-01-01 00:00:00 ┆ 4.0   ┆ a      │\n",
       "│ 1      ┆ 2       ┆ 2022-01-02 00:00:00 ┆ 5.0   ┆ b      │\n",
       "│ 2      ┆ 3       ┆ 2022-01-03 00:00:00 ┆ 6.0   ┆ c      │\n",
       "└────────┴─────────┴─────────────────────┴───────┴────────┘"
      ]
     },
     "execution_count": 253,
     "metadata": {},
     "output_type": "execute_result"
    }
   ],
   "source": [
    "df.with_row_count()"
   ]
  },
  {
   "cell_type": "markdown",
   "id": "9f3f8295",
   "metadata": {},
   "source": [
    "Things to note:\n",
    "\n",
    "1. `df.schema` and `df.columns` will be available for lazy objects, even before materializing them.\n",
    "2. `df.height` and `df.shape` will not be available for lazy objects, until they are materialized.\n",
    "\n",
    "## Intro to Column Operations\n",
    "\n",
    "::: {.callout-important}\n",
    "This is probably the most important section of the document.\n",
    ":::\n",
    "\n",
    "### Contexts {#sec-contexts}\n",
    "\n",
    "As discussed in @sec-api-principles, operations on columns will always be done within a **context**.\n",
    "Pandas fans may think of Polars Context as `.eval()` or `.assign()` Pandas methods.\n",
    "\n",
    "- `df.with_columns()` to add columns.\n",
    "- `df.select()` to select columns.\n",
    "- `df.group_by().agg()` is acutually `.select()` within a `group_by()` context.\n",
    "- `df.filter()` is a context for filtering rows. \n",
    "- `pl.when()` is a context for conditional operations.\n",
    "\n",
    "\n",
    "Select Context:"
   ]
  },
  {
   "cell_type": "code",
   "execution_count": 260,
   "id": "select-context",
   "metadata": {},
   "outputs": [
    {
     "data": {
      "text/html": [
       "<div><style>\n",
       ".dataframe > thead > tr,\n",
       ".dataframe > tbody > tr {\n",
       "  text-align: right;\n",
       "  white-space: pre-wrap;\n",
       "}\n",
       "</style>\n",
       "<small>shape: (3, 1)</small><table border=\"1\" class=\"dataframe\"><thead><tr><th>integer</th></tr><tr><td>i64</td></tr></thead><tbody><tr><td>2</td></tr><tr><td>3</td></tr><tr><td>4</td></tr></tbody></table></div>"
      ],
      "text/plain": [
       "shape: (3, 1)\n",
       "┌─────────┐\n",
       "│ integer │\n",
       "│ ---     │\n",
       "│ i64     │\n",
       "╞═════════╡\n",
       "│ 2       │\n",
       "│ 3       │\n",
       "│ 4       │\n",
       "└─────────┘"
      ]
     },
     "execution_count": 254,
     "metadata": {},
     "output_type": "execute_result"
    }
   ],
   "source": [
    "#| label: select-context\n",
    "df.select(pl.col(\"integer\").add(1))"
   ]
  },
  {
   "cell_type": "code",
   "execution_count": 261,
   "id": "with-colummns-context",
   "metadata": {},
   "outputs": [
    {
     "data": {
      "text/html": [
       "<div><style>\n",
       ".dataframe > thead > tr,\n",
       ".dataframe > tbody > tr {\n",
       "  text-align: right;\n",
       "  white-space: pre-wrap;\n",
       "}\n",
       "</style>\n",
       "<small>shape: (3, 4)</small><table border=\"1\" class=\"dataframe\"><thead><tr><th>integer</th><th>date</th><th>float</th><th>string</th></tr><tr><td>i64</td><td>datetime[μs]</td><td>f64</td><td>str</td></tr></thead><tbody><tr><td>2</td><td>2022-01-01 00:00:00</td><td>4.0</td><td>&quot;a&quot;</td></tr><tr><td>3</td><td>2022-01-02 00:00:00</td><td>5.0</td><td>&quot;b&quot;</td></tr><tr><td>4</td><td>2022-01-03 00:00:00</td><td>6.0</td><td>&quot;c&quot;</td></tr></tbody></table></div>"
      ],
      "text/plain": [
       "shape: (3, 4)\n",
       "┌─────────┬─────────────────────┬───────┬────────┐\n",
       "│ integer ┆ date                ┆ float ┆ string │\n",
       "│ ---     ┆ ---                 ┆ ---   ┆ ---    │\n",
       "│ i64     ┆ datetime[μs]        ┆ f64   ┆ str    │\n",
       "╞═════════╪═════════════════════╪═══════╪════════╡\n",
       "│ 2       ┆ 2022-01-01 00:00:00 ┆ 4.0   ┆ a      │\n",
       "│ 3       ┆ 2022-01-02 00:00:00 ┆ 5.0   ┆ b      │\n",
       "│ 4       ┆ 2022-01-03 00:00:00 ┆ 6.0   ┆ c      │\n",
       "└─────────┴─────────────────────┴───────┴────────┘"
      ]
     },
     "execution_count": 255,
     "metadata": {},
     "output_type": "execute_result"
    }
   ],
   "source": [
    "#| label: with-colummns-context\n",
    "df.with_columns(pl.col(\"integer\").add(1))"
   ]
  },
  {
   "cell_type": "markdown",
   "id": "219bffa2",
   "metadata": {},
   "source": [
    "Group-by context:"
   ]
  },
  {
   "cell_type": "code",
   "execution_count": 262,
   "id": "group-by-context",
   "metadata": {},
   "outputs": [
    {
     "data": {
      "text/html": [
       "<div><style>\n",
       ".dataframe > thead > tr,\n",
       ".dataframe > tbody > tr {\n",
       "  text-align: right;\n",
       "  white-space: pre-wrap;\n",
       "}\n",
       "</style>\n",
       "<small>shape: (3, 2)</small><table border=\"1\" class=\"dataframe\"><thead><tr><th>string</th><th>integer</th></tr><tr><td>str</td><td>list[i64]</td></tr></thead><tbody><tr><td>&quot;a&quot;</td><td>[2]</td></tr><tr><td>&quot;c&quot;</td><td>[4]</td></tr><tr><td>&quot;b&quot;</td><td>[3]</td></tr></tbody></table></div>"
      ],
      "text/plain": [
       "shape: (3, 2)\n",
       "┌────────┬───────────┐\n",
       "│ string ┆ integer   │\n",
       "│ ---    ┆ ---       │\n",
       "│ str    ┆ list[i64] │\n",
       "╞════════╪═══════════╡\n",
       "│ a      ┆ [2]       │\n",
       "│ c      ┆ [4]       │\n",
       "│ b      ┆ [3]       │\n",
       "└────────┴───────────┘"
      ]
     },
     "execution_count": 256,
     "metadata": {},
     "output_type": "execute_result"
    }
   ],
   "source": [
    "#| label: group-by-context\n",
    "df.group_by(\"string\").agg(pl.col(\"integer\").add(1))"
   ]
  },
  {
   "cell_type": "markdown",
   "id": "d592c34c",
   "metadata": {},
   "source": [
    "### Column Access\n",
    "\n",
    "Within a context there are many ways to access a column.\n",
    "Here are some examples of various ways of adding 1 to the integer column.\n"
   ]
  },
  {
   "cell_type": "code",
   "execution_count": 263,
   "id": "add-1-to-column",
   "metadata": {},
   "outputs": [
    {
     "data": {
      "text/html": [
       "<div><style>\n",
       ".dataframe > thead > tr,\n",
       ".dataframe > tbody > tr {\n",
       "  text-align: right;\n",
       "  white-space: pre-wrap;\n",
       "}\n",
       "</style>\n",
       "<small>shape: (3, 1)</small><table border=\"1\" class=\"dataframe\"><thead><tr><th>integer</th></tr><tr><td>i64</td></tr></thead><tbody><tr><td>2</td></tr><tr><td>3</td></tr><tr><td>4</td></tr></tbody></table></div>"
      ],
      "text/plain": [
       "shape: (3, 1)\n",
       "┌─────────┐\n",
       "│ integer │\n",
       "│ ---     │\n",
       "│ i64     │\n",
       "╞═════════╡\n",
       "│ 2       │\n",
       "│ 3       │\n",
       "│ 4       │\n",
       "└─────────┘"
      ]
     },
     "execution_count": 257,
     "metadata": {},
     "output_type": "execute_result"
    }
   ],
   "source": [
    "#| label: add-1-to-column\n",
    "#| lst-label: col-ref\n",
    "#| lst-cap: Referencing a Column in a Select Context\n",
    "df.select(pl.col(\"integer\").add(1))"
   ]
  },
  {
   "cell_type": "code",
   "execution_count": 264,
   "id": "d9805cb7",
   "metadata": {},
   "outputs": [
    {
     "data": {
      "text/html": [
       "<div><style>\n",
       ".dataframe > thead > tr,\n",
       ".dataframe > tbody > tr {\n",
       "  text-align: right;\n",
       "  white-space: pre-wrap;\n",
       "}\n",
       "</style>\n",
       "<small>shape: (3, 1)</small><table border=\"1\" class=\"dataframe\"><thead><tr><th>integer</th></tr><tr><td>i64</td></tr></thead><tbody><tr><td>2</td></tr><tr><td>3</td></tr><tr><td>4</td></tr></tbody></table></div>"
      ],
      "text/plain": [
       "shape: (3, 1)\n",
       "┌─────────┐\n",
       "│ integer │\n",
       "│ ---     │\n",
       "│ i64     │\n",
       "╞═════════╡\n",
       "│ 2       │\n",
       "│ 3       │\n",
       "│ 4       │\n",
       "└─────────┘"
      ]
     },
     "execution_count": 258,
     "metadata": {},
     "output_type": "execute_result"
    }
   ],
   "source": [
    "df.select(pl.col([\"integer\"]).add(1))"
   ]
  },
  {
   "cell_type": "code",
   "execution_count": 265,
   "id": "5b8381fd",
   "metadata": {},
   "outputs": [
    {
     "data": {
      "text/html": [
       "<div><style>\n",
       ".dataframe > thead > tr,\n",
       ".dataframe > tbody > tr {\n",
       "  text-align: right;\n",
       "  white-space: pre-wrap;\n",
       "}\n",
       "</style>\n",
       "<small>shape: (3, 1)</small><table border=\"1\" class=\"dataframe\"><thead><tr><th>integer</th></tr><tr><td>i64</td></tr></thead><tbody><tr><td>2</td></tr><tr><td>3</td></tr><tr><td>4</td></tr></tbody></table></div>"
      ],
      "text/plain": [
       "shape: (3, 1)\n",
       "┌─────────┐\n",
       "│ integer │\n",
       "│ ---     │\n",
       "│ i64     │\n",
       "╞═════════╡\n",
       "│ 2       │\n",
       "│ 3       │\n",
       "│ 4       │\n",
       "└─────────┘"
      ]
     },
     "execution_count": 259,
     "metadata": {},
     "output_type": "execute_result"
    }
   ],
   "source": [
    "df.select(pl.col(r\"^integer$\").add(1))"
   ]
  },
  {
   "cell_type": "code",
   "execution_count": 266,
   "id": "23478a3b",
   "metadata": {},
   "outputs": [
    {
     "data": {
      "text/html": [
       "<div><style>\n",
       ".dataframe > thead > tr,\n",
       ".dataframe > tbody > tr {\n",
       "  text-align: right;\n",
       "  white-space: pre-wrap;\n",
       "}\n",
       "</style>\n",
       "<small>shape: (3, 1)</small><table border=\"1\" class=\"dataframe\"><thead><tr><th>integer</th></tr><tr><td>i64</td></tr></thead><tbody><tr><td>2</td></tr><tr><td>3</td></tr><tr><td>4</td></tr></tbody></table></div>"
      ],
      "text/plain": [
       "shape: (3, 1)\n",
       "┌─────────┐\n",
       "│ integer │\n",
       "│ ---     │\n",
       "│ i64     │\n",
       "╞═════════╡\n",
       "│ 2       │\n",
       "│ 3       │\n",
       "│ 4       │\n",
       "└─────────┘"
      ]
     },
     "execution_count": 260,
     "metadata": {},
     "output_type": "execute_result"
    }
   ],
   "source": [
    "df.select(pl.col(pl.Int64).add(1))"
   ]
  },
  {
   "cell_type": "code",
   "execution_count": 267,
   "id": "687534bd",
   "metadata": {},
   "outputs": [
    {
     "data": {
      "text/html": [
       "<div><style>\n",
       ".dataframe > thead > tr,\n",
       ".dataframe > tbody > tr {\n",
       "  text-align: right;\n",
       "  white-space: pre-wrap;\n",
       "}\n",
       "</style>\n",
       "<small>shape: (3, 1)</small><table border=\"1\" class=\"dataframe\"><thead><tr><th>integer</th></tr><tr><td>i64</td></tr></thead><tbody><tr><td>2</td></tr><tr><td>3</td></tr><tr><td>4</td></tr></tbody></table></div>"
      ],
      "text/plain": [
       "shape: (3, 1)\n",
       "┌─────────┐\n",
       "│ integer │\n",
       "│ ---     │\n",
       "│ i64     │\n",
       "╞═════════╡\n",
       "│ 2       │\n",
       "│ 3       │\n",
       "│ 4       │\n",
       "└─────────┘"
      ]
     },
     "execution_count": 261,
     "metadata": {},
     "output_type": "execute_result"
    }
   ],
   "source": [
    "df.select(pl.first().add(1))"
   ]
  },
  {
   "cell_type": "code",
   "execution_count": 268,
   "id": "d81a893e",
   "metadata": {},
   "outputs": [
    {
     "data": {
      "text/html": [
       "<div><style>\n",
       ".dataframe > thead > tr,\n",
       ".dataframe > tbody > tr {\n",
       "  text-align: right;\n",
       "  white-space: pre-wrap;\n",
       "}\n",
       "</style>\n",
       "<small>shape: (3, 1)</small><table border=\"1\" class=\"dataframe\"><thead><tr><th>integer</th></tr><tr><td>i64</td></tr></thead><tbody><tr><td>2</td></tr><tr><td>3</td></tr><tr><td>4</td></tr></tbody></table></div>"
      ],
      "text/plain": [
       "shape: (3, 1)\n",
       "┌─────────┐\n",
       "│ integer │\n",
       "│ ---     │\n",
       "│ i64     │\n",
       "╞═════════╡\n",
       "│ 2       │\n",
       "│ 3       │\n",
       "│ 4       │\n",
       "└─────────┘"
      ]
     },
     "execution_count": 262,
     "metadata": {},
     "output_type": "execute_result"
    }
   ],
   "source": [
    "import polars.selectors as cs\n",
    "\n",
    "df.select(cs.by_name(\"integer\").add(1))"
   ]
  },
  {
   "cell_type": "code",
   "execution_count": 269,
   "id": "06375798",
   "metadata": {},
   "outputs": [
    {
     "data": {
      "text/html": [
       "<div><style>\n",
       ".dataframe > thead > tr,\n",
       ".dataframe > tbody > tr {\n",
       "  text-align: right;\n",
       "  white-space: pre-wrap;\n",
       "}\n",
       "</style>\n",
       "<small>shape: (3, 1)</small><table border=\"1\" class=\"dataframe\"><thead><tr><th>integer</th></tr><tr><td>i64</td></tr></thead><tbody><tr><td>2</td></tr><tr><td>3</td></tr><tr><td>4</td></tr></tbody></table></div>"
      ],
      "text/plain": [
       "shape: (3, 1)\n",
       "┌─────────┐\n",
       "│ integer │\n",
       "│ ---     │\n",
       "│ i64     │\n",
       "╞═════════╡\n",
       "│ 2       │\n",
       "│ 3       │\n",
       "│ 4       │\n",
       "└─────────┘"
      ]
     },
     "execution_count": 263,
     "metadata": {},
     "output_type": "execute_result"
    }
   ],
   "source": [
    "df.select(cs.ends_with(\"ger\").add(1))"
   ]
  },
  {
   "cell_type": "code",
   "execution_count": 270,
   "id": "07f1beda",
   "metadata": {},
   "outputs": [
    {
     "data": {
      "text/html": [
       "<div><style>\n",
       ".dataframe > thead > tr,\n",
       ".dataframe > tbody > tr {\n",
       "  text-align: right;\n",
       "  white-space: pre-wrap;\n",
       "}\n",
       "</style>\n",
       "<small>shape: (3, 1)</small><table border=\"1\" class=\"dataframe\"><thead><tr><th>integer</th></tr><tr><td>i64</td></tr></thead><tbody><tr><td>2</td></tr><tr><td>3</td></tr><tr><td>4</td></tr></tbody></table></div>"
      ],
      "text/plain": [
       "shape: (3, 1)\n",
       "┌─────────┐\n",
       "│ integer │\n",
       "│ ---     │\n",
       "│ i64     │\n",
       "╞═════════╡\n",
       "│ 2       │\n",
       "│ 3       │\n",
       "│ 4       │\n",
       "└─────────┘"
      ]
     },
     "execution_count": 264,
     "metadata": {},
     "output_type": "execute_result"
    }
   ],
   "source": [
    "df.select(cs.starts_with('int').add(1))"
   ]
  },
  {
   "cell_type": "code",
   "execution_count": 271,
   "id": "8e3c32e2",
   "metadata": {},
   "outputs": [
    {
     "data": {
      "text/html": [
       "<div><style>\n",
       ".dataframe > thead > tr,\n",
       ".dataframe > tbody > tr {\n",
       "  text-align: right;\n",
       "  white-space: pre-wrap;\n",
       "}\n",
       "</style>\n",
       "<small>shape: (3, 1)</small><table border=\"1\" class=\"dataframe\"><thead><tr><th>integer</th></tr><tr><td>i64</td></tr></thead><tbody><tr><td>2</td></tr><tr><td>3</td></tr><tr><td>4</td></tr></tbody></table></div>"
      ],
      "text/plain": [
       "shape: (3, 1)\n",
       "┌─────────┐\n",
       "│ integer │\n",
       "│ ---     │\n",
       "│ i64     │\n",
       "╞═════════╡\n",
       "│ 2       │\n",
       "│ 3       │\n",
       "│ 4       │\n",
       "└─────────┘"
      ]
     },
     "execution_count": 265,
     "metadata": {},
     "output_type": "execute_result"
    }
   ],
   "source": [
    "df.select(cs.integer().add(1))"
   ]
  },
  {
   "cell_type": "code",
   "execution_count": 272,
   "id": "b4d67879",
   "metadata": {},
   "outputs": [
    {
     "data": {
      "text/html": [
       "<div><style>\n",
       ".dataframe > thead > tr,\n",
       ".dataframe > tbody > tr {\n",
       "  text-align: right;\n",
       "  white-space: pre-wrap;\n",
       "}\n",
       "</style>\n",
       "<small>shape: (3, 1)</small><table border=\"1\" class=\"dataframe\"><thead><tr><th>integer</th></tr><tr><td>i64</td></tr></thead><tbody><tr><td>2</td></tr><tr><td>3</td></tr><tr><td>4</td></tr></tbody></table></div>"
      ],
      "text/plain": [
       "shape: (3, 1)\n",
       "┌─────────┐\n",
       "│ integer │\n",
       "│ ---     │\n",
       "│ i64     │\n",
       "╞═════════╡\n",
       "│ 2       │\n",
       "│ 3       │\n",
       "│ 4       │\n",
       "└─────────┘"
      ]
     },
     "execution_count": 266,
     "metadata": {},
     "output_type": "execute_result"
    }
   ],
   "source": [
    "df.select(cs.first().add(1))"
   ]
  },
  {
   "cell_type": "code",
   "execution_count": 273,
   "id": "fd7153bf",
   "metadata": {},
   "outputs": [
    {
     "data": {
      "text/html": [
       "<div><style>\n",
       ".dataframe > thead > tr,\n",
       ".dataframe > tbody > tr {\n",
       "  text-align: right;\n",
       "  white-space: pre-wrap;\n",
       "}\n",
       "</style>\n",
       "<small>shape: (3, 1)</small><table border=\"1\" class=\"dataframe\"><thead><tr><th>integer</th></tr><tr><td>i64</td></tr></thead><tbody><tr><td>2</td></tr><tr><td>3</td></tr><tr><td>4</td></tr></tbody></table></div>"
      ],
      "text/plain": [
       "shape: (3, 1)\n",
       "┌─────────┐\n",
       "│ integer │\n",
       "│ ---     │\n",
       "│ i64     │\n",
       "╞═════════╡\n",
       "│ 2       │\n",
       "│ 3       │\n",
       "│ 4       │\n",
       "└─────────┘"
      ]
     },
     "execution_count": 267,
     "metadata": {},
     "output_type": "execute_result"
    }
   ],
   "source": [
    "df.select(cs.matches(r\"^integer$\").add(1))"
   ]
  },
  {
   "cell_type": "code",
   "execution_count": 274,
   "id": "6a76b4a0",
   "metadata": {},
   "outputs": [
    {
     "data": {
      "text/html": [
       "<div><style>\n",
       ".dataframe > thead > tr,\n",
       ".dataframe > tbody > tr {\n",
       "  text-align: right;\n",
       "  white-space: pre-wrap;\n",
       "}\n",
       "</style>\n",
       "<small>shape: (3, 1)</small><table border=\"1\" class=\"dataframe\"><thead><tr><th>integer</th></tr><tr><td>i64</td></tr></thead><tbody><tr><td>2</td></tr><tr><td>3</td></tr><tr><td>4</td></tr></tbody></table></div>"
      ],
      "text/plain": [
       "shape: (3, 1)\n",
       "┌─────────┐\n",
       "│ integer │\n",
       "│ ---     │\n",
       "│ i64     │\n",
       "╞═════════╡\n",
       "│ 2       │\n",
       "│ 3       │\n",
       "│ 4       │\n",
       "└─────────┘"
      ]
     },
     "execution_count": 268,
     "metadata": {},
     "output_type": "execute_result"
    }
   ],
   "source": [
    "df.select(cs.contains(\"int\").add(1))"
   ]
  },
  {
   "cell_type": "code",
   "execution_count": 275,
   "id": "c4acfd8d",
   "metadata": {},
   "outputs": [
    {
     "data": {
      "text/html": [
       "<div><style>\n",
       ".dataframe > thead > tr,\n",
       ".dataframe > tbody > tr {\n",
       "  text-align: right;\n",
       "  white-space: pre-wrap;\n",
       "}\n",
       "</style>\n",
       "<small>shape: (3, 1)</small><table border=\"1\" class=\"dataframe\"><thead><tr><th>integer</th></tr><tr><td>i64</td></tr></thead><tbody><tr><td>2</td></tr><tr><td>3</td></tr><tr><td>4</td></tr></tbody></table></div>"
      ],
      "text/plain": [
       "shape: (3, 1)\n",
       "┌─────────┐\n",
       "│ integer │\n",
       "│ ---     │\n",
       "│ i64     │\n",
       "╞═════════╡\n",
       "│ 2       │\n",
       "│ 3       │\n",
       "│ 4       │\n",
       "└─────────┘"
      ]
     },
     "execution_count": 269,
     "metadata": {},
     "output_type": "execute_result"
    }
   ],
   "source": [
    "df.select(pl.col(\"integer\")+1)"
   ]
  },
  {
   "cell_type": "code",
   "execution_count": 276,
   "id": "781656bc",
   "metadata": {},
   "outputs": [
    {
     "data": {
      "text/html": [
       "<div><style>\n",
       ".dataframe > thead > tr,\n",
       ".dataframe > tbody > tr {\n",
       "  text-align: right;\n",
       "  white-space: pre-wrap;\n",
       "}\n",
       "</style>\n",
       "<small>shape: (3,)</small><table border=\"1\" class=\"dataframe\"><thead><tr><th>integer</th></tr><tr><td>i64</td></tr></thead><tbody><tr><td>2</td></tr><tr><td>3</td></tr><tr><td>4</td></tr></tbody></table></div>"
      ],
      "text/plain": [
       "shape: (3,)\n",
       "Series: 'integer' [i64]\n",
       "[\n",
       "\t2\n",
       "\t3\n",
       "\t4\n",
       "]"
      ]
     },
     "execution_count": 270,
     "metadata": {},
     "output_type": "execute_result"
    }
   ],
   "source": [
    "df['integer']+1"
   ]
  },
  {
   "cell_type": "code",
   "execution_count": 277,
   "id": "dc2fbf6d",
   "metadata": {},
   "outputs": [
    {
     "data": {
      "text/html": [
       "<div><style>\n",
       ".dataframe > thead > tr,\n",
       ".dataframe > tbody > tr {\n",
       "  text-align: right;\n",
       "  white-space: pre-wrap;\n",
       "}\n",
       "</style>\n",
       "<small>shape: (3,)</small><table border=\"1\" class=\"dataframe\"><thead><tr><th>integer</th></tr><tr><td>i64</td></tr></thead><tbody><tr><td>2</td></tr><tr><td>3</td></tr><tr><td>4</td></tr></tbody></table></div>"
      ],
      "text/plain": [
       "shape: (3,)\n",
       "Series: 'integer' [i64]\n",
       "[\n",
       "\t2\n",
       "\t3\n",
       "\t4\n",
       "]"
      ]
     },
     "execution_count": 271,
     "metadata": {},
     "output_type": "execute_result"
    }
   ],
   "source": [
    "df.get_column('integer')+1"
   ]
  },
  {
   "cell_type": "markdown",
   "id": "938c3a7d",
   "metadata": {},
   "source": [
    "The following will not work because a series does not have a `.add(1)` method."
   ]
  },
  {
   "cell_type": "code",
   "execution_count": 278,
   "id": "94ef6b40",
   "metadata": {},
   "outputs": [],
   "source": [
    "#| eval: false\n",
    "df['integer'].add(1)\n",
    "df.get_column('integer').add(1)"
   ]
  },
  {
   "cell_type": "markdown",
   "id": "ba49638c",
   "metadata": {},
   "source": [
    "::: {.callout-important}\n",
    "Think: What are the differences between these methods?\n",
    ":::\n",
    "\n",
    "My preferred syntax is @col-ref, which is the one I will use in the rest of the document.\n",
    "\n",
    "\n",
    "\n",
    "\n",
    "\n",
    "\n",
    "\n",
    "\n",
    "\n",
    "\n",
    "\n",
    "\n",
    "## Convert to Other Python Objects\n",
    "\n",
    "You can always convert your `pl.Series` or `pl.DataFrame` to other Python objects.\n",
    "\n",
    "To Pandas DataFrame"
   ]
  },
  {
   "cell_type": "code",
   "execution_count": 279,
   "id": "dataframe-to-Pandas",
   "metadata": {},
   "outputs": [
    {
     "data": {
      "text/html": [
       "<div>\n",
       "<style scoped>\n",
       "    .dataframe tbody tr th:only-of-type {\n",
       "        vertical-align: middle;\n",
       "    }\n",
       "\n",
       "    .dataframe tbody tr th {\n",
       "        vertical-align: top;\n",
       "    }\n",
       "\n",
       "    .dataframe thead th {\n",
       "        text-align: right;\n",
       "    }\n",
       "</style>\n",
       "<table border=\"1\" class=\"dataframe\">\n",
       "  <thead>\n",
       "    <tr style=\"text-align: right;\">\n",
       "      <th></th>\n",
       "      <th>integer</th>\n",
       "      <th>date</th>\n",
       "      <th>float</th>\n",
       "      <th>string</th>\n",
       "    </tr>\n",
       "  </thead>\n",
       "  <tbody>\n",
       "    <tr>\n",
       "      <th>0</th>\n",
       "      <td>1</td>\n",
       "      <td>2022-01-01</td>\n",
       "      <td>4.0</td>\n",
       "      <td>a</td>\n",
       "    </tr>\n",
       "    <tr>\n",
       "      <th>1</th>\n",
       "      <td>2</td>\n",
       "      <td>2022-01-02</td>\n",
       "      <td>5.0</td>\n",
       "      <td>b</td>\n",
       "    </tr>\n",
       "    <tr>\n",
       "      <th>2</th>\n",
       "      <td>3</td>\n",
       "      <td>2022-01-03</td>\n",
       "      <td>6.0</td>\n",
       "      <td>c</td>\n",
       "    </tr>\n",
       "  </tbody>\n",
       "</table>\n",
       "</div>"
      ],
      "text/plain": [
       "   integer       date  float string\n",
       "0        1 2022-01-01    4.0      a\n",
       "1        2 2022-01-02    5.0      b\n",
       "2        3 2022-01-03    6.0      c"
      ]
     },
     "execution_count": 272,
     "metadata": {},
     "output_type": "execute_result"
    }
   ],
   "source": [
    "#| label: dataframe-to-Pandas\n",
    "df.to_pandas()"
   ]
  },
  {
   "cell_type": "markdown",
   "id": "f908cc76",
   "metadata": {},
   "source": [
    "To Numpy Array"
   ]
  },
  {
   "cell_type": "code",
   "execution_count": 280,
   "id": "dataframe-to-numpy",
   "metadata": {},
   "outputs": [
    {
     "data": {
      "text/plain": [
       "array([[1, datetime.datetime(2022, 1, 1, 0, 0), 4.0, 'a'],\n",
       "       [2, datetime.datetime(2022, 1, 2, 0, 0), 5.0, 'b'],\n",
       "       [3, datetime.datetime(2022, 1, 3, 0, 0), 6.0, 'c']], dtype=object)"
      ]
     },
     "execution_count": 273,
     "metadata": {},
     "output_type": "execute_result"
    }
   ],
   "source": [
    "#| label: dataframe-to-numpy\n",
    "df.to_numpy()"
   ]
  },
  {
   "cell_type": "markdown",
   "id": "77c59703",
   "metadata": {},
   "source": [
    "To List of Polars Series"
   ]
  },
  {
   "cell_type": "code",
   "execution_count": 281,
   "id": "dataframe-to-list",
   "metadata": {},
   "outputs": [
    {
     "data": {
      "text/plain": [
       "[shape: (3,)\n",
       " Series: 'integer' [i64]\n",
       " [\n",
       " \t1\n",
       " \t2\n",
       " \t3\n",
       " ],\n",
       " shape: (3,)\n",
       " Series: 'date' [datetime[μs]]\n",
       " [\n",
       " \t2022-01-01 00:00:00\n",
       " \t2022-01-02 00:00:00\n",
       " \t2022-01-03 00:00:00\n",
       " ],\n",
       " shape: (3,)\n",
       " Series: 'float' [f64]\n",
       " [\n",
       " \t4.0\n",
       " \t5.0\n",
       " \t6.0\n",
       " ],\n",
       " shape: (3,)\n",
       " Series: 'string' [str]\n",
       " [\n",
       " \t\"a\"\n",
       " \t\"b\"\n",
       " \t\"c\"\n",
       " ]]"
      ]
     },
     "execution_count": 274,
     "metadata": {},
     "output_type": "execute_result"
    }
   ],
   "source": [
    "#| label: dataframe-to-list\n",
    "df.get_columns() # columns as list of Polars series"
   ]
  },
  {
   "cell_type": "markdown",
   "id": "b5749d70",
   "metadata": {},
   "source": [
    "To list of tuples"
   ]
  },
  {
   "cell_type": "code",
   "execution_count": 282,
   "id": "dataframe-to-list-of-tuples",
   "metadata": {},
   "outputs": [
    {
     "data": {
      "text/plain": [
       "[(1, datetime.datetime(2022, 1, 1, 0, 0), 4.0, 'a'),\n",
       " (2, datetime.datetime(2022, 1, 2, 0, 0), 5.0, 'b'),\n",
       " (3, datetime.datetime(2022, 1, 3, 0, 0), 6.0, 'c')]"
      ]
     },
     "execution_count": 275,
     "metadata": {},
     "output_type": "execute_result"
    }
   ],
   "source": [
    "#| label: dataframe-to-list-of-tuples\n",
    "df.rows() "
   ]
  },
  {
   "cell_type": "markdown",
   "id": "4a4cd9e8",
   "metadata": {},
   "source": [
    "To Dict of Polars Series"
   ]
  },
  {
   "cell_type": "code",
   "execution_count": 283,
   "id": "dataframe-to-dict-of-series",
   "metadata": {},
   "outputs": [
    {
     "data": {
      "text/plain": [
       "{'integer': shape: (3,)\n",
       " Series: 'integer' [i64]\n",
       " [\n",
       " \t1\n",
       " \t2\n",
       " \t3\n",
       " ],\n",
       " 'date': shape: (3,)\n",
       " Series: 'date' [datetime[μs]]\n",
       " [\n",
       " \t2022-01-01 00:00:00\n",
       " \t2022-01-02 00:00:00\n",
       " \t2022-01-03 00:00:00\n",
       " ],\n",
       " 'float': shape: (3,)\n",
       " Series: 'float' [f64]\n",
       " [\n",
       " \t4.0\n",
       " \t5.0\n",
       " \t6.0\n",
       " ],\n",
       " 'string': shape: (3,)\n",
       " Series: 'string' [str]\n",
       " [\n",
       " \t\"a\"\n",
       " \t\"b\"\n",
       " \t\"c\"\n",
       " ]}"
      ]
     },
     "execution_count": 276,
     "metadata": {},
     "output_type": "execute_result"
    }
   ],
   "source": [
    "#| label: dataframe-to-dict-of-series\n",
    "df.to_dict() # columns as dict of Polars series"
   ]
  },
  {
   "cell_type": "markdown",
   "id": "f1078385",
   "metadata": {},
   "source": [
    "To Dict of Python Lists"
   ]
  },
  {
   "cell_type": "code",
   "execution_count": 284,
   "id": "dataframe-to-dict-of-lists",
   "metadata": {},
   "outputs": [
    {
     "data": {
      "text/plain": [
       "{'integer': [1, 2, 3],\n",
       " 'date': [datetime.datetime(2022, 1, 1, 0, 0),\n",
       "  datetime.datetime(2022, 1, 2, 0, 0),\n",
       "  datetime.datetime(2022, 1, 3, 0, 0)],\n",
       " 'float': [4.0, 5.0, 6.0],\n",
       " 'string': ['a', 'b', 'c']}"
      ]
     },
     "execution_count": 277,
     "metadata": {},
     "output_type": "execute_result"
    }
   ],
   "source": [
    "#| label: dataframe-to-dict-of-lists\n",
    "df.to_dict(as_series=False) # columns as dict of Polars series"
   ]
  },
  {
   "cell_type": "markdown",
   "id": "60756a48",
   "metadata": {},
   "source": [
    "To String Representation (`repr`)"
   ]
  },
  {
   "cell_type": "code",
   "execution_count": 285,
   "id": "dataframe-to-repr",
   "metadata": {},
   "outputs": [
    {
     "data": {
      "text/plain": [
       "'pl.DataFrame(\\n    [\\n        pl.Series(\"integer\", [1, 2, 3], dtype=pl.Int64),\\n        pl.Series(\"date\", [datetime.datetime(2022, 1, 1, 0, 0), datetime.datetime(2022, 1, 2, 0, 0), datetime.datetime(2022, 1, 3, 0, 0)], dtype=pl.Datetime(time_unit=\\'us\\', time_zone=None)),\\n        pl.Series(\"float\", [4.0, 5.0, 6.0], dtype=pl.Float64),\\n        pl.Series(\"string\", [\\'a\\', \\'b\\', \\'c\\'], dtype=pl.String),\\n    ]\\n)\\n'"
      ]
     },
     "execution_count": 278,
     "metadata": {},
     "output_type": "execute_result"
    }
   ],
   "source": [
    "#| label: dataframe-to-repr\n",
    "df.to_init_repr()"
   ]
  },
  {
   "cell_type": "markdown",
   "id": "c7d98ac0",
   "metadata": {},
   "source": [
    "To a Polars Series of Polars Struct"
   ]
  },
  {
   "cell_type": "code",
   "execution_count": 286,
   "id": "dataframe-to-struct",
   "metadata": {},
   "outputs": [
    {
     "data": {
      "text/html": [
       "<div><style>\n",
       ".dataframe > thead > tr,\n",
       ".dataframe > tbody > tr {\n",
       "  text-align: right;\n",
       "  white-space: pre-wrap;\n",
       "}\n",
       "</style>\n",
       "<small>shape: (3,)</small><table border=\"1\" class=\"dataframe\"><thead><tr><th></th></tr><tr><td>struct[4]</td></tr></thead><tbody><tr><td>{1,2022-01-01 00:00:00,4.0,&quot;a&quot;}</td></tr><tr><td>{2,2022-01-02 00:00:00,5.0,&quot;b&quot;}</td></tr><tr><td>{3,2022-01-03 00:00:00,6.0,&quot;c&quot;}</td></tr></tbody></table></div>"
      ],
      "text/plain": [
       "shape: (3,)\n",
       "Series: '' [struct[4]]\n",
       "[\n",
       "\t{1,2022-01-01 00:00:00,4.0,\"a\"}\n",
       "\t{2,2022-01-02 00:00:00,5.0,\"b\"}\n",
       "\t{3,2022-01-03 00:00:00,6.0,\"c\"}\n",
       "]"
      ]
     },
     "execution_count": 279,
     "metadata": {},
     "output_type": "execute_result"
    }
   ],
   "source": [
    "#| label: dataframe-to-struct\n",
    "df.to_struct()"
   ]
  },
  {
   "cell_type": "markdown",
   "id": "565b9bfe",
   "metadata": {},
   "source": [
    "To PyArrow Table"
   ]
  },
  {
   "cell_type": "code",
   "execution_count": 287,
   "id": "dataframe-to-arrow",
   "metadata": {},
   "outputs": [
    {
     "data": {
      "text/plain": [
       "pyarrow.Table\n",
       "integer: int64\n",
       "date: timestamp[us]\n",
       "float: double\n",
       "string: large_string\n",
       "----\n",
       "integer: [[1,2,3]]\n",
       "date: [[2022-01-01 00:00:00.000000,2022-01-02 00:00:00.000000,2022-01-03 00:00:00.000000]]\n",
       "float: [[4,5,6]]\n",
       "string: [[\"a\",\"b\",\"c\"]]"
      ]
     },
     "execution_count": 280,
     "metadata": {},
     "output_type": "execute_result"
    }
   ],
   "source": [
    "#| label: dataframe-to-arrow\n",
    "df.to_arrow()"
   ]
  },
  {
   "cell_type": "markdown",
   "id": "2f12c7ef",
   "metadata": {},
   "source": [
    "## Statistical Aggregations\n"
   ]
  },
  {
   "cell_type": "code",
   "execution_count": 288,
   "id": "dataframe-describe",
   "metadata": {},
   "outputs": [
    {
     "data": {
      "text/html": [
       "<div><style>\n",
       ".dataframe > thead > tr,\n",
       ".dataframe > tbody > tr {\n",
       "  text-align: right;\n",
       "  white-space: pre-wrap;\n",
       "}\n",
       "</style>\n",
       "<small>shape: (9, 5)</small><table border=\"1\" class=\"dataframe\"><thead><tr><th>statistic</th><th>integer</th><th>date</th><th>float</th><th>string</th></tr><tr><td>str</td><td>f64</td><td>str</td><td>f64</td><td>str</td></tr></thead><tbody><tr><td>&quot;count&quot;</td><td>3.0</td><td>&quot;3&quot;</td><td>3.0</td><td>&quot;3&quot;</td></tr><tr><td>&quot;null_count&quot;</td><td>0.0</td><td>&quot;0&quot;</td><td>0.0</td><td>&quot;0&quot;</td></tr><tr><td>&quot;mean&quot;</td><td>2.0</td><td>&quot;2022-01-02 00:00:00&quot;</td><td>5.0</td><td>null</td></tr><tr><td>&quot;std&quot;</td><td>1.0</td><td>null</td><td>1.0</td><td>null</td></tr><tr><td>&quot;min&quot;</td><td>1.0</td><td>&quot;2022-01-01 00:00:00&quot;</td><td>4.0</td><td>&quot;a&quot;</td></tr><tr><td>&quot;25%&quot;</td><td>2.0</td><td>&quot;2022-01-02 00:00:00&quot;</td><td>5.0</td><td>null</td></tr><tr><td>&quot;50%&quot;</td><td>2.0</td><td>&quot;2022-01-02 00:00:00&quot;</td><td>5.0</td><td>null</td></tr><tr><td>&quot;75%&quot;</td><td>3.0</td><td>&quot;2022-01-03 00:00:00&quot;</td><td>6.0</td><td>null</td></tr><tr><td>&quot;max&quot;</td><td>3.0</td><td>&quot;2022-01-03 00:00:00&quot;</td><td>6.0</td><td>&quot;c&quot;</td></tr></tbody></table></div>"
      ],
      "text/plain": [
       "shape: (9, 5)\n",
       "┌────────────┬─────────┬─────────────────────┬───────┬────────┐\n",
       "│ statistic  ┆ integer ┆ date                ┆ float ┆ string │\n",
       "│ ---        ┆ ---     ┆ ---                 ┆ ---   ┆ ---    │\n",
       "│ str        ┆ f64     ┆ str                 ┆ f64   ┆ str    │\n",
       "╞════════════╪═════════╪═════════════════════╪═══════╪════════╡\n",
       "│ count      ┆ 3.0     ┆ 3                   ┆ 3.0   ┆ 3      │\n",
       "│ null_count ┆ 0.0     ┆ 0                   ┆ 0.0   ┆ 0      │\n",
       "│ mean       ┆ 2.0     ┆ 2022-01-02 00:00:00 ┆ 5.0   ┆ null   │\n",
       "│ std        ┆ 1.0     ┆ null                ┆ 1.0   ┆ null   │\n",
       "│ min        ┆ 1.0     ┆ 2022-01-01 00:00:00 ┆ 4.0   ┆ a      │\n",
       "│ 25%        ┆ 2.0     ┆ 2022-01-02 00:00:00 ┆ 5.0   ┆ null   │\n",
       "│ 50%        ┆ 2.0     ┆ 2022-01-02 00:00:00 ┆ 5.0   ┆ null   │\n",
       "│ 75%        ┆ 3.0     ┆ 2022-01-03 00:00:00 ┆ 6.0   ┆ null   │\n",
       "│ max        ┆ 3.0     ┆ 2022-01-03 00:00:00 ┆ 6.0   ┆ c      │\n",
       "└────────────┴─────────┴─────────────────────┴───────┴────────┘"
      ]
     },
     "execution_count": 281,
     "metadata": {},
     "output_type": "execute_result"
    }
   ],
   "source": [
    "#| label: dataframe-describe\n",
    "df.describe()"
   ]
  },
  {
   "cell_type": "markdown",
   "id": "b204a7de",
   "metadata": {},
   "source": [
    "Compare to Pandas: Polars will summarize all columns even if they are not numeric.\n"
   ]
  },
  {
   "cell_type": "code",
   "execution_count": 289,
   "id": "dataframe-describe-pandas",
   "metadata": {},
   "outputs": [
    {
     "data": {
      "text/html": [
       "<div>\n",
       "<style scoped>\n",
       "    .dataframe tbody tr th:only-of-type {\n",
       "        vertical-align: middle;\n",
       "    }\n",
       "\n",
       "    .dataframe tbody tr th {\n",
       "        vertical-align: top;\n",
       "    }\n",
       "\n",
       "    .dataframe thead th {\n",
       "        text-align: right;\n",
       "    }\n",
       "</style>\n",
       "<table border=\"1\" class=\"dataframe\">\n",
       "  <thead>\n",
       "    <tr style=\"text-align: right;\">\n",
       "      <th></th>\n",
       "      <th>integer</th>\n",
       "      <th>date</th>\n",
       "      <th>float</th>\n",
       "    </tr>\n",
       "  </thead>\n",
       "  <tbody>\n",
       "    <tr>\n",
       "      <th>count</th>\n",
       "      <td>3.0</td>\n",
       "      <td>3</td>\n",
       "      <td>3.0</td>\n",
       "    </tr>\n",
       "    <tr>\n",
       "      <th>mean</th>\n",
       "      <td>2.0</td>\n",
       "      <td>2022-01-02 00:00:00</td>\n",
       "      <td>5.0</td>\n",
       "    </tr>\n",
       "    <tr>\n",
       "      <th>min</th>\n",
       "      <td>1.0</td>\n",
       "      <td>2022-01-01 00:00:00</td>\n",
       "      <td>4.0</td>\n",
       "    </tr>\n",
       "    <tr>\n",
       "      <th>25%</th>\n",
       "      <td>1.5</td>\n",
       "      <td>2022-01-01 12:00:00</td>\n",
       "      <td>4.5</td>\n",
       "    </tr>\n",
       "    <tr>\n",
       "      <th>50%</th>\n",
       "      <td>2.0</td>\n",
       "      <td>2022-01-02 00:00:00</td>\n",
       "      <td>5.0</td>\n",
       "    </tr>\n",
       "    <tr>\n",
       "      <th>75%</th>\n",
       "      <td>2.5</td>\n",
       "      <td>2022-01-02 12:00:00</td>\n",
       "      <td>5.5</td>\n",
       "    </tr>\n",
       "    <tr>\n",
       "      <th>max</th>\n",
       "      <td>3.0</td>\n",
       "      <td>2022-01-03 00:00:00</td>\n",
       "      <td>6.0</td>\n",
       "    </tr>\n",
       "    <tr>\n",
       "      <th>std</th>\n",
       "      <td>1.0</td>\n",
       "      <td>NaN</td>\n",
       "      <td>1.0</td>\n",
       "    </tr>\n",
       "  </tbody>\n",
       "</table>\n",
       "</div>"
      ],
      "text/plain": [
       "       integer                 date  float\n",
       "count      3.0                    3    3.0\n",
       "mean       2.0  2022-01-02 00:00:00    5.0\n",
       "min        1.0  2022-01-01 00:00:00    4.0\n",
       "25%        1.5  2022-01-01 12:00:00    4.5\n",
       "50%        2.0  2022-01-02 00:00:00    5.0\n",
       "75%        2.5  2022-01-02 12:00:00    5.5\n",
       "max        3.0  2022-01-03 00:00:00    6.0\n",
       "std        1.0                  NaN    1.0"
      ]
     },
     "execution_count": 282,
     "metadata": {},
     "output_type": "execute_result"
    }
   ],
   "source": [
    "#| label: dataframe-describe-pandas\n",
    "df.to_pandas().describe()"
   ]
  },
  {
   "cell_type": "markdown",
   "id": "da344082",
   "metadata": {},
   "source": [
    "Statistical aggregations operate column-wise (and in parallel!)."
   ]
  },
  {
   "cell_type": "code",
   "execution_count": 290,
   "id": "dataframe-max",
   "metadata": {},
   "outputs": [
    {
     "data": {
      "text/html": [
       "<div><style>\n",
       ".dataframe > thead > tr,\n",
       ".dataframe > tbody > tr {\n",
       "  text-align: right;\n",
       "  white-space: pre-wrap;\n",
       "}\n",
       "</style>\n",
       "<small>shape: (1, 4)</small><table border=\"1\" class=\"dataframe\"><thead><tr><th>integer</th><th>date</th><th>float</th><th>string</th></tr><tr><td>i64</td><td>datetime[μs]</td><td>f64</td><td>str</td></tr></thead><tbody><tr><td>3</td><td>2022-01-03 00:00:00</td><td>6.0</td><td>&quot;c&quot;</td></tr></tbody></table></div>"
      ],
      "text/plain": [
       "shape: (1, 4)\n",
       "┌─────────┬─────────────────────┬───────┬────────┐\n",
       "│ integer ┆ date                ┆ float ┆ string │\n",
       "│ ---     ┆ ---                 ┆ ---   ┆ ---    │\n",
       "│ i64     ┆ datetime[μs]        ┆ f64   ┆ str    │\n",
       "╞═════════╪═════════════════════╪═══════╪════════╡\n",
       "│ 3       ┆ 2022-01-03 00:00:00 ┆ 6.0   ┆ c      │\n",
       "└─────────┴─────────────────────┴───────┴────────┘"
      ]
     },
     "execution_count": 283,
     "metadata": {},
     "output_type": "execute_result"
    }
   ],
   "source": [
    "#| label: dataframe-max\n",
    "df.max()"
   ]
  },
  {
   "cell_type": "code",
   "execution_count": 291,
   "id": "dataframe-min",
   "metadata": {},
   "outputs": [
    {
     "data": {
      "text/html": [
       "<div><style>\n",
       ".dataframe > thead > tr,\n",
       ".dataframe > tbody > tr {\n",
       "  text-align: right;\n",
       "  white-space: pre-wrap;\n",
       "}\n",
       "</style>\n",
       "<small>shape: (1, 4)</small><table border=\"1\" class=\"dataframe\"><thead><tr><th>integer</th><th>date</th><th>float</th><th>string</th></tr><tr><td>i64</td><td>datetime[μs]</td><td>f64</td><td>str</td></tr></thead><tbody><tr><td>1</td><td>2022-01-01 00:00:00</td><td>4.0</td><td>&quot;a&quot;</td></tr></tbody></table></div>"
      ],
      "text/plain": [
       "shape: (1, 4)\n",
       "┌─────────┬─────────────────────┬───────┬────────┐\n",
       "│ integer ┆ date                ┆ float ┆ string │\n",
       "│ ---     ┆ ---                 ┆ ---   ┆ ---    │\n",
       "│ i64     ┆ datetime[μs]        ┆ f64   ┆ str    │\n",
       "╞═════════╪═════════════════════╪═══════╪════════╡\n",
       "│ 1       ┆ 2022-01-01 00:00:00 ┆ 4.0   ┆ a      │\n",
       "└─────────┴─────────────────────┴───────┴────────┘"
      ]
     },
     "execution_count": 284,
     "metadata": {},
     "output_type": "execute_result"
    }
   ],
   "source": [
    "#| label: dataframe-min\n",
    "df.min()"
   ]
  },
  {
   "cell_type": "code",
   "execution_count": 292,
   "id": "dataframe-mean",
   "metadata": {},
   "outputs": [
    {
     "data": {
      "text/html": [
       "<div><style>\n",
       ".dataframe > thead > tr,\n",
       ".dataframe > tbody > tr {\n",
       "  text-align: right;\n",
       "  white-space: pre-wrap;\n",
       "}\n",
       "</style>\n",
       "<small>shape: (1, 4)</small><table border=\"1\" class=\"dataframe\"><thead><tr><th>integer</th><th>date</th><th>float</th><th>string</th></tr><tr><td>f64</td><td>datetime[μs]</td><td>f64</td><td>str</td></tr></thead><tbody><tr><td>2.0</td><td>2022-01-02 00:00:00</td><td>5.0</td><td>null</td></tr></tbody></table></div>"
      ],
      "text/plain": [
       "shape: (1, 4)\n",
       "┌─────────┬─────────────────────┬───────┬────────┐\n",
       "│ integer ┆ date                ┆ float ┆ string │\n",
       "│ ---     ┆ ---                 ┆ ---   ┆ ---    │\n",
       "│ f64     ┆ datetime[μs]        ┆ f64   ┆ str    │\n",
       "╞═════════╪═════════════════════╪═══════╪════════╡\n",
       "│ 2.0     ┆ 2022-01-02 00:00:00 ┆ 5.0   ┆ null   │\n",
       "└─────────┴─────────────────────┴───────┴────────┘"
      ]
     },
     "execution_count": 285,
     "metadata": {},
     "output_type": "execute_result"
    }
   ],
   "source": [
    "#| label: dataframe-mean\n",
    "df.mean()"
   ]
  },
  {
   "cell_type": "code",
   "execution_count": 293,
   "id": "dataframe-median",
   "metadata": {},
   "outputs": [
    {
     "data": {
      "text/html": [
       "<div><style>\n",
       ".dataframe > thead > tr,\n",
       ".dataframe > tbody > tr {\n",
       "  text-align: right;\n",
       "  white-space: pre-wrap;\n",
       "}\n",
       "</style>\n",
       "<small>shape: (1, 4)</small><table border=\"1\" class=\"dataframe\"><thead><tr><th>integer</th><th>date</th><th>float</th><th>string</th></tr><tr><td>f64</td><td>datetime[μs]</td><td>f64</td><td>str</td></tr></thead><tbody><tr><td>2.0</td><td>2022-01-02 00:00:00</td><td>5.0</td><td>null</td></tr></tbody></table></div>"
      ],
      "text/plain": [
       "shape: (1, 4)\n",
       "┌─────────┬─────────────────────┬───────┬────────┐\n",
       "│ integer ┆ date                ┆ float ┆ string │\n",
       "│ ---     ┆ ---                 ┆ ---   ┆ ---    │\n",
       "│ f64     ┆ datetime[μs]        ┆ f64   ┆ str    │\n",
       "╞═════════╪═════════════════════╪═══════╪════════╡\n",
       "│ 2.0     ┆ 2022-01-02 00:00:00 ┆ 5.0   ┆ null   │\n",
       "└─────────┴─────────────────────┴───────┴────────┘"
      ]
     },
     "execution_count": 286,
     "metadata": {},
     "output_type": "execute_result"
    }
   ],
   "source": [
    "#| label: dataframe-median\n",
    "df.median()"
   ]
  },
  {
   "cell_type": "code",
   "execution_count": 294,
   "id": "dataframe-quantile",
   "metadata": {},
   "outputs": [
    {
     "data": {
      "text/html": [
       "<div><style>\n",
       ".dataframe > thead > tr,\n",
       ".dataframe > tbody > tr {\n",
       "  text-align: right;\n",
       "  white-space: pre-wrap;\n",
       "}\n",
       "</style>\n",
       "<small>shape: (1, 4)</small><table border=\"1\" class=\"dataframe\"><thead><tr><th>integer</th><th>date</th><th>float</th><th>string</th></tr><tr><td>f64</td><td>datetime[μs]</td><td>f64</td><td>str</td></tr></thead><tbody><tr><td>1.0</td><td>null</td><td>4.0</td><td>null</td></tr></tbody></table></div>"
      ],
      "text/plain": [
       "shape: (1, 4)\n",
       "┌─────────┬──────────────┬───────┬────────┐\n",
       "│ integer ┆ date         ┆ float ┆ string │\n",
       "│ ---     ┆ ---          ┆ ---   ┆ ---    │\n",
       "│ f64     ┆ datetime[μs] ┆ f64   ┆ str    │\n",
       "╞═════════╪══════════════╪═══════╪════════╡\n",
       "│ 1.0     ┆ null         ┆ 4.0   ┆ null   │\n",
       "└─────────┴──────────────┴───────┴────────┘"
      ]
     },
     "execution_count": 287,
     "metadata": {},
     "output_type": "execute_result"
    }
   ],
   "source": [
    "#| label: dataframe-quantile\n",
    "df.quantile(0.1)"
   ]
  },
  {
   "cell_type": "code",
   "execution_count": 295,
   "id": "dataframe-sum",
   "metadata": {},
   "outputs": [
    {
     "data": {
      "text/html": [
       "<div><style>\n",
       ".dataframe > thead > tr,\n",
       ".dataframe > tbody > tr {\n",
       "  text-align: right;\n",
       "  white-space: pre-wrap;\n",
       "}\n",
       "</style>\n",
       "<small>shape: (1, 4)</small><table border=\"1\" class=\"dataframe\"><thead><tr><th>integer</th><th>date</th><th>float</th><th>string</th></tr><tr><td>i64</td><td>datetime[μs]</td><td>f64</td><td>str</td></tr></thead><tbody><tr><td>6</td><td>null</td><td>15.0</td><td>null</td></tr></tbody></table></div>"
      ],
      "text/plain": [
       "shape: (1, 4)\n",
       "┌─────────┬──────────────┬───────┬────────┐\n",
       "│ integer ┆ date         ┆ float ┆ string │\n",
       "│ ---     ┆ ---          ┆ ---   ┆ ---    │\n",
       "│ i64     ┆ datetime[μs] ┆ f64   ┆ str    │\n",
       "╞═════════╪══════════════╪═══════╪════════╡\n",
       "│ 6       ┆ null         ┆ 15.0  ┆ null   │\n",
       "└─────────┴──────────────┴───────┴────────┘"
      ]
     },
     "execution_count": 288,
     "metadata": {},
     "output_type": "execute_result"
    }
   ],
   "source": [
    "#| label: dataframe-sum\n",
    "df.sum()"
   ]
  },
  {
   "cell_type": "markdown",
   "id": "5dbc8035",
   "metadata": {},
   "source": [
    "Constrast with summation in row:"
   ]
  },
  {
   "cell_type": "code",
   "execution_count": 296,
   "id": "dataframe-sum-horizontal",
   "metadata": {},
   "outputs": [
    {
     "data": {
      "text/html": [
       "<div><style>\n",
       ".dataframe > thead > tr,\n",
       ".dataframe > tbody > tr {\n",
       "  text-align: right;\n",
       "  white-space: pre-wrap;\n",
       "}\n",
       "</style>\n",
       "<small>shape: (3, 4)</small><table border=\"1\" class=\"dataframe\"><thead><tr><th>integer</th><th>date</th><th>float</th><th>string</th></tr><tr><td>str</td><td>datetime[μs]</td><td>f64</td><td>str</td></tr></thead><tbody><tr><td>&quot;16409952000000014.0a&quot;</td><td>2022-01-01 00:00:00</td><td>4.0</td><td>&quot;a&quot;</td></tr><tr><td>&quot;16410816000000025.0b&quot;</td><td>2022-01-02 00:00:00</td><td>5.0</td><td>&quot;b&quot;</td></tr><tr><td>&quot;16411680000000036.0c&quot;</td><td>2022-01-03 00:00:00</td><td>6.0</td><td>&quot;c&quot;</td></tr></tbody></table></div>"
      ],
      "text/plain": [
       "shape: (3, 4)\n",
       "┌──────────────────────┬─────────────────────┬───────┬────────┐\n",
       "│ integer              ┆ date                ┆ float ┆ string │\n",
       "│ ---                  ┆ ---                 ┆ ---   ┆ ---    │\n",
       "│ str                  ┆ datetime[μs]        ┆ f64   ┆ str    │\n",
       "╞══════════════════════╪═════════════════════╪═══════╪════════╡\n",
       "│ 16409952000000014.0a ┆ 2022-01-01 00:00:00 ┆ 4.0   ┆ a      │\n",
       "│ 16410816000000025.0b ┆ 2022-01-02 00:00:00 ┆ 5.0   ┆ b      │\n",
       "│ 16411680000000036.0c ┆ 2022-01-03 00:00:00 ┆ 6.0   ┆ c      │\n",
       "└──────────────────────┴─────────────────────┴───────┴────────┘"
      ]
     },
     "execution_count": 289,
     "metadata": {},
     "output_type": "execute_result"
    }
   ],
   "source": [
    "#| label: dataframe-sum-horizontal\n",
    "df.with_columns(pl.sum_horizontal('*'))"
   ]
  },
  {
   "cell_type": "markdown",
   "id": "f669ffca",
   "metadata": {},
   "source": [
    "## Selections {#sec-filtering-subsetting-frames}\n",
    "\n",
    "1.  If you are used to Pandas, recall there is no index. There is thus no need for `loc` vs. `iloc`, `reset_index()`, etc. See [here](https://pola-rs.github.io/Polars-book/user-guide/howcani/selecting_data/selecting_data_indexing.html) for a comparison of extractors between Polars and Pandas.\n",
    "2.  Filtering and selection is possible with the `[` operator, or the `filter()` and `select()` methods. The latter is recommended to facilitate query planning (discussed in @sec-query-planning).\n",
    "\n",
    "### Selecting With Indices\n",
    "\n",
    "The following are presented for completeness. \n",
    "Gnerally, you can, and should, avoid selecting with indices. \n",
    "See @sec-selecting-columns for selecting columns, and @sec-filtering-rows for selecting rows.\n"
   ]
  },
  {
   "cell_type": "code",
   "execution_count": 297,
   "id": "single-cell-extraction",
   "metadata": {},
   "outputs": [
    {
     "data": {
      "text/plain": [
       "1"
      ]
     },
     "execution_count": 290,
     "metadata": {},
     "output_type": "execute_result"
    }
   ],
   "source": [
    "#| label: single-cell-extraction\n",
    "df[0,0] # like Pandas .iloc[]"
   ]
  },
  {
   "cell_type": "markdown",
   "id": "fbe1ff5b",
   "metadata": {},
   "source": [
    "Slicing along rows."
   ]
  },
  {
   "cell_type": "code",
   "execution_count": 298,
   "id": "slice-rows",
   "metadata": {},
   "outputs": [
    {
     "data": {
      "text/html": [
       "<div><style>\n",
       ".dataframe > thead > tr,\n",
       ".dataframe > tbody > tr {\n",
       "  text-align: right;\n",
       "  white-space: pre-wrap;\n",
       "}\n",
       "</style>\n",
       "<small>shape: (1, 4)</small><table border=\"1\" class=\"dataframe\"><thead><tr><th>integer</th><th>date</th><th>float</th><th>string</th></tr><tr><td>i64</td><td>datetime[μs]</td><td>f64</td><td>str</td></tr></thead><tbody><tr><td>1</td><td>2022-01-01 00:00:00</td><td>4.0</td><td>&quot;a&quot;</td></tr></tbody></table></div>"
      ],
      "text/plain": [
       "shape: (1, 4)\n",
       "┌─────────┬─────────────────────┬───────┬────────┐\n",
       "│ integer ┆ date                ┆ float ┆ string │\n",
       "│ ---     ┆ ---                 ┆ ---   ┆ ---    │\n",
       "│ i64     ┆ datetime[μs]        ┆ f64   ┆ str    │\n",
       "╞═════════╪═════════════════════╪═══════╪════════╡\n",
       "│ 1       ┆ 2022-01-01 00:00:00 ┆ 4.0   ┆ a      │\n",
       "└─────────┴─────────────────────┴───────┴────────┘"
      ]
     },
     "execution_count": 291,
     "metadata": {},
     "output_type": "execute_result"
    }
   ],
   "source": [
    "#| label: slice-rows\n",
    "df[0:1] "
   ]
  },
  {
   "cell_type": "markdown",
   "id": "7af67927",
   "metadata": {},
   "source": [
    "Slicing along columns.\n"
   ]
  },
  {
   "cell_type": "code",
   "execution_count": 299,
   "id": "slice-columns",
   "metadata": {},
   "outputs": [
    {
     "data": {
      "text/html": [
       "<div><style>\n",
       ".dataframe > thead > tr,\n",
       ".dataframe > tbody > tr {\n",
       "  text-align: right;\n",
       "  white-space: pre-wrap;\n",
       "}\n",
       "</style>\n",
       "<small>shape: (3, 1)</small><table border=\"1\" class=\"dataframe\"><thead><tr><th>integer</th></tr><tr><td>i64</td></tr></thead><tbody><tr><td>1</td></tr><tr><td>2</td></tr><tr><td>3</td></tr></tbody></table></div>"
      ],
      "text/plain": [
       "shape: (3, 1)\n",
       "┌─────────┐\n",
       "│ integer │\n",
       "│ ---     │\n",
       "│ i64     │\n",
       "╞═════════╡\n",
       "│ 1       │\n",
       "│ 2       │\n",
       "│ 3       │\n",
       "└─────────┘"
      ]
     },
     "execution_count": 292,
     "metadata": {},
     "output_type": "execute_result"
    }
   ],
   "source": [
    "#| label: slice-columns\n",
    "df[:,0:1]"
   ]
  },
  {
   "cell_type": "markdown",
   "id": "9da19b56",
   "metadata": {},
   "source": [
    "### Selecting Columns {#sec-selecting-columns}\n",
    "\n",
    "First- do you want to return a Polars frame or a Polars series?\n",
    "\n",
    "For a frame:"
   ]
  },
  {
   "cell_type": "code",
   "execution_count": 300,
   "id": "3bd2b3d3",
   "metadata": {},
   "outputs": [
    {
     "data": {
      "text/html": [
       "<div><style>\n",
       ".dataframe > thead > tr,\n",
       ".dataframe > tbody > tr {\n",
       "  text-align: right;\n",
       "  white-space: pre-wrap;\n",
       "}\n",
       "</style>\n",
       "<small>shape: (3, 1)</small><table border=\"1\" class=\"dataframe\"><thead><tr><th>integer</th></tr><tr><td>i64</td></tr></thead><tbody><tr><td>1</td></tr><tr><td>2</td></tr><tr><td>3</td></tr></tbody></table></div>"
      ],
      "text/plain": [
       "shape: (3, 1)\n",
       "┌─────────┐\n",
       "│ integer │\n",
       "│ ---     │\n",
       "│ i64     │\n",
       "╞═════════╡\n",
       "│ 1       │\n",
       "│ 2       │\n",
       "│ 3       │\n",
       "└─────────┘"
      ]
     },
     "execution_count": 293,
     "metadata": {},
     "output_type": "execute_result"
    }
   ],
   "source": [
    "df.select(\"integer\")"
   ]
  },
  {
   "cell_type": "markdown",
   "id": "252ed83f",
   "metadata": {},
   "source": [
    "For a series:"
   ]
  },
  {
   "cell_type": "code",
   "execution_count": 301,
   "id": "1dd4c529",
   "metadata": {},
   "outputs": [
    {
     "data": {
      "text/html": [
       "<div><style>\n",
       ".dataframe > thead > tr,\n",
       ".dataframe > tbody > tr {\n",
       "  text-align: right;\n",
       "  white-space: pre-wrap;\n",
       "}\n",
       "</style>\n",
       "<small>shape: (3,)</small><table border=\"1\" class=\"dataframe\"><thead><tr><th>integer</th></tr><tr><td>i64</td></tr></thead><tbody><tr><td>1</td></tr><tr><td>2</td></tr><tr><td>3</td></tr></tbody></table></div>"
      ],
      "text/plain": [
       "shape: (3,)\n",
       "Series: 'integer' [i64]\n",
       "[\n",
       "\t1\n",
       "\t2\n",
       "\t3\n",
       "]"
      ]
     },
     "execution_count": 294,
     "metadata": {},
     "output_type": "execute_result"
    }
   ],
   "source": [
    "df['integer']"
   ]
  },
  {
   "cell_type": "markdown",
   "id": "0ccc279a",
   "metadata": {},
   "source": [
    "How do I know which is which? \n",
    "\n",
    "1. You can use `type()`.\n",
    "2. Notice the dimension of the index in the output. \n",
    "\n",
    "\n",
    "Select columns with list of labels\n"
   ]
  },
  {
   "cell_type": "code",
   "execution_count": 302,
   "id": "eebb91f5",
   "metadata": {},
   "outputs": [
    {
     "data": {
      "text/html": [
       "<div><style>\n",
       ".dataframe > thead > tr,\n",
       ".dataframe > tbody > tr {\n",
       "  text-align: right;\n",
       "  white-space: pre-wrap;\n",
       "}\n",
       "</style>\n",
       "<small>shape: (3, 2)</small><table border=\"1\" class=\"dataframe\"><thead><tr><th>integer</th><th>float</th></tr><tr><td>i64</td><td>f64</td></tr></thead><tbody><tr><td>1</td><td>4.0</td></tr><tr><td>2</td><td>5.0</td></tr><tr><td>3</td><td>6.0</td></tr></tbody></table></div>"
      ],
      "text/plain": [
       "shape: (3, 2)\n",
       "┌─────────┬───────┐\n",
       "│ integer ┆ float │\n",
       "│ ---     ┆ ---   │\n",
       "│ i64     ┆ f64   │\n",
       "╞═════════╪═══════╡\n",
       "│ 1       ┆ 4.0   │\n",
       "│ 2       ┆ 5.0   │\n",
       "│ 3       ┆ 6.0   │\n",
       "└─────────┴───────┘"
      ]
     },
     "execution_count": 295,
     "metadata": {},
     "output_type": "execute_result"
    }
   ],
   "source": [
    "df.select([\"integer\", \"float\"])"
   ]
  },
  {
   "cell_type": "markdown",
   "id": "3c83c13a",
   "metadata": {},
   "source": [
    "As of Polars\\>=15.0.0, you don't have to pass a list:\n"
   ]
  },
  {
   "cell_type": "code",
   "execution_count": 303,
   "id": "d6368634",
   "metadata": {},
   "outputs": [
    {
     "data": {
      "text/html": [
       "<div><style>\n",
       ".dataframe > thead > tr,\n",
       ".dataframe > tbody > tr {\n",
       "  text-align: right;\n",
       "  white-space: pre-wrap;\n",
       "}\n",
       "</style>\n",
       "<small>shape: (3, 2)</small><table border=\"1\" class=\"dataframe\"><thead><tr><th>integer</th><th>float</th></tr><tr><td>i64</td><td>f64</td></tr></thead><tbody><tr><td>1</td><td>4.0</td></tr><tr><td>2</td><td>5.0</td></tr><tr><td>3</td><td>6.0</td></tr></tbody></table></div>"
      ],
      "text/plain": [
       "shape: (3, 2)\n",
       "┌─────────┬───────┐\n",
       "│ integer ┆ float │\n",
       "│ ---     ┆ ---   │\n",
       "│ i64     ┆ f64   │\n",
       "╞═════════╪═══════╡\n",
       "│ 1       ┆ 4.0   │\n",
       "│ 2       ┆ 5.0   │\n",
       "│ 3       ┆ 6.0   │\n",
       "└─────────┴───────┘"
      ]
     },
     "execution_count": 296,
     "metadata": {},
     "output_type": "execute_result"
    }
   ],
   "source": [
    "df.select(\"integer\", \"float\")"
   ]
  },
  {
   "cell_type": "markdown",
   "id": "65e7641d",
   "metadata": {},
   "source": [
    "Column slicing by label"
   ]
  },
  {
   "cell_type": "code",
   "execution_count": 304,
   "id": "4f26f0db",
   "metadata": {},
   "outputs": [
    {
     "data": {
      "text/html": [
       "<div><style>\n",
       ".dataframe > thead > tr,\n",
       ".dataframe > tbody > tr {\n",
       "  text-align: right;\n",
       "  white-space: pre-wrap;\n",
       "}\n",
       "</style>\n",
       "<small>shape: (3, 3)</small><table border=\"1\" class=\"dataframe\"><thead><tr><th>integer</th><th>date</th><th>float</th></tr><tr><td>i64</td><td>datetime[μs]</td><td>f64</td></tr></thead><tbody><tr><td>1</td><td>2022-01-01 00:00:00</td><td>4.0</td></tr><tr><td>2</td><td>2022-01-02 00:00:00</td><td>5.0</td></tr><tr><td>3</td><td>2022-01-03 00:00:00</td><td>6.0</td></tr></tbody></table></div>"
      ],
      "text/plain": [
       "shape: (3, 3)\n",
       "┌─────────┬─────────────────────┬───────┐\n",
       "│ integer ┆ date                ┆ float │\n",
       "│ ---     ┆ ---                 ┆ ---   │\n",
       "│ i64     ┆ datetime[μs]        ┆ f64   │\n",
       "╞═════════╪═════════════════════╪═══════╡\n",
       "│ 1       ┆ 2022-01-01 00:00:00 ┆ 4.0   │\n",
       "│ 2       ┆ 2022-01-02 00:00:00 ┆ 5.0   │\n",
       "│ 3       ┆ 2022-01-03 00:00:00 ┆ 6.0   │\n",
       "└─────────┴─────────────────────┴───────┘"
      ]
     },
     "execution_count": 297,
     "metadata": {},
     "output_type": "execute_result"
    }
   ],
   "source": [
    "df[:,\"integer\":\"float\"]"
   ]
  },
  {
   "cell_type": "markdown",
   "id": "55f62b6c",
   "metadata": {},
   "source": [
    "Note: `df.select()` does not support slicing ranges such as `df.select(\"integer\":\"float\")`. \n",
    "\n",
    "Get a column as a Polars Series."
   ]
  },
  {
   "cell_type": "code",
   "execution_count": 305,
   "id": "a01cfba5",
   "metadata": {},
   "outputs": [
    {
     "data": {
      "text/html": [
       "<div><style>\n",
       ".dataframe > thead > tr,\n",
       ".dataframe > tbody > tr {\n",
       "  text-align: right;\n",
       "  white-space: pre-wrap;\n",
       "}\n",
       "</style>\n",
       "<small>shape: (3,)</small><table border=\"1\" class=\"dataframe\"><thead><tr><th>integer</th></tr><tr><td>i64</td></tr></thead><tbody><tr><td>1</td></tr><tr><td>2</td></tr><tr><td>3</td></tr></tbody></table></div>"
      ],
      "text/plain": [
       "shape: (3,)\n",
       "Series: 'integer' [i64]\n",
       "[\n",
       "\t1\n",
       "\t2\n",
       "\t3\n",
       "]"
      ]
     },
     "execution_count": 298,
     "metadata": {},
     "output_type": "execute_result"
    }
   ],
   "source": [
    "df.get_column('integer')"
   ]
  },
  {
   "cell_type": "markdown",
   "id": "5b26594c",
   "metadata": {},
   "source": [
    "Get a column as a Polars series."
   ]
  },
  {
   "cell_type": "code",
   "execution_count": 306,
   "id": "945c7d60",
   "metadata": {},
   "outputs": [
    {
     "data": {
      "text/html": [
       "<div><style>\n",
       ".dataframe > thead > tr,\n",
       ".dataframe > tbody > tr {\n",
       "  text-align: right;\n",
       "  white-space: pre-wrap;\n",
       "}\n",
       "</style>\n",
       "<small>shape: (3,)</small><table border=\"1\" class=\"dataframe\"><thead><tr><th>integer</th></tr><tr><td>i64</td></tr></thead><tbody><tr><td>1</td></tr><tr><td>2</td></tr><tr><td>3</td></tr></tbody></table></div>"
      ],
      "text/plain": [
       "shape: (3,)\n",
       "Series: 'integer' [i64]\n",
       "[\n",
       "\t1\n",
       "\t2\n",
       "\t3\n",
       "]"
      ]
     },
     "execution_count": 299,
     "metadata": {},
     "output_type": "execute_result"
    }
   ],
   "source": [
    "df.to_series(0)"
   ]
  },
  {
   "cell_type": "code",
   "execution_count": 307,
   "id": "12662b16",
   "metadata": {},
   "outputs": [
    {
     "data": {
      "text/plain": [
       "2"
      ]
     },
     "execution_count": 300,
     "metadata": {},
     "output_type": "execute_result"
    }
   ],
   "source": [
    "df.get_column_index('float')"
   ]
  },
  {
   "cell_type": "code",
   "execution_count": 308,
   "id": "74919c00",
   "metadata": {},
   "outputs": [
    {
     "data": {
      "text/html": [
       "<div><style>\n",
       ".dataframe > thead > tr,\n",
       ".dataframe > tbody > tr {\n",
       "  text-align: right;\n",
       "  white-space: pre-wrap;\n",
       "}\n",
       "</style>\n",
       "<small>shape: (3, 3)</small><table border=\"1\" class=\"dataframe\"><thead><tr><th>date</th><th>float</th><th>string</th></tr><tr><td>datetime[μs]</td><td>f64</td><td>str</td></tr></thead><tbody><tr><td>2022-01-01 00:00:00</td><td>4.0</td><td>&quot;a&quot;</td></tr><tr><td>2022-01-02 00:00:00</td><td>5.0</td><td>&quot;b&quot;</td></tr><tr><td>2022-01-03 00:00:00</td><td>6.0</td><td>&quot;c&quot;</td></tr></tbody></table></div>"
      ],
      "text/plain": [
       "shape: (3, 3)\n",
       "┌─────────────────────┬───────┬────────┐\n",
       "│ date                ┆ float ┆ string │\n",
       "│ ---                 ┆ ---   ┆ ---    │\n",
       "│ datetime[μs]        ┆ f64   ┆ str    │\n",
       "╞═════════════════════╪═══════╪════════╡\n",
       "│ 2022-01-01 00:00:00 ┆ 4.0   ┆ a      │\n",
       "│ 2022-01-02 00:00:00 ┆ 5.0   ┆ b      │\n",
       "│ 2022-01-03 00:00:00 ┆ 6.0   ┆ c      │\n",
       "└─────────────────────┴───────┴────────┘"
      ]
     },
     "execution_count": 301,
     "metadata": {},
     "output_type": "execute_result"
    }
   ],
   "source": [
    "df.drop(\"integer\")"
   ]
  },
  {
   "cell_type": "markdown",
   "id": "966f7947",
   "metadata": {},
   "source": [
    "`df.drop()` not have an `inplace` argument. Use `df.drop_in_place()` instead.\n",
    "\n",
    "\n",
    "\n",
    "### pl.col()\n",
    "\n",
    "The `pl.col()` is **super important**. It allows you to select columns in many ways, and provides almost all the methods (i.e. Polars Expressions) you will need to operate on them. \n"
   ]
  },
  {
   "cell_type": "code",
   "execution_count": 309,
   "id": "cc62cf91",
   "metadata": {},
   "outputs": [
    {
     "data": {
      "text/html": [
       "<div><style>\n",
       ".dataframe > thead > tr,\n",
       ".dataframe > tbody > tr {\n",
       "  text-align: right;\n",
       "  white-space: pre-wrap;\n",
       "}\n",
       "</style>\n",
       "<small>shape: (3, 1)</small><table border=\"1\" class=\"dataframe\"><thead><tr><th>integer</th></tr><tr><td>i64</td></tr></thead><tbody><tr><td>1</td></tr><tr><td>2</td></tr><tr><td>3</td></tr></tbody></table></div>"
      ],
      "text/plain": [
       "shape: (3, 1)\n",
       "┌─────────┐\n",
       "│ integer │\n",
       "│ ---     │\n",
       "│ i64     │\n",
       "╞═════════╡\n",
       "│ 1       │\n",
       "│ 2       │\n",
       "│ 3       │\n",
       "└─────────┘"
      ]
     },
     "execution_count": 302,
     "metadata": {},
     "output_type": "execute_result"
    }
   ],
   "source": [
    "df.select(pl.col(pl.Int64))"
   ]
  },
  {
   "cell_type": "code",
   "execution_count": 310,
   "id": "e821623c",
   "metadata": {},
   "outputs": [
    {
     "data": {
      "text/html": [
       "<div><style>\n",
       ".dataframe > thead > tr,\n",
       ".dataframe > tbody > tr {\n",
       "  text-align: right;\n",
       "  white-space: pre-wrap;\n",
       "}\n",
       "</style>\n",
       "<small>shape: (3, 1)</small><table border=\"1\" class=\"dataframe\"><thead><tr><th>float</th></tr><tr><td>f64</td></tr></thead><tbody><tr><td>4.0</td></tr><tr><td>5.0</td></tr><tr><td>6.0</td></tr></tbody></table></div>"
      ],
      "text/plain": [
       "shape: (3, 1)\n",
       "┌───────┐\n",
       "│ float │\n",
       "│ ---   │\n",
       "│ f64   │\n",
       "╞═══════╡\n",
       "│ 4.0   │\n",
       "│ 5.0   │\n",
       "│ 6.0   │\n",
       "└───────┘"
      ]
     },
     "execution_count": 303,
     "metadata": {},
     "output_type": "execute_result"
    }
   ],
   "source": [
    "df.select(pl.col(pl.Float64))"
   ]
  },
  {
   "cell_type": "code",
   "execution_count": 311,
   "id": "d1eb5b7b",
   "metadata": {},
   "outputs": [
    {
     "data": {
      "text/html": [
       "<div><style>\n",
       ".dataframe > thead > tr,\n",
       ".dataframe > tbody > tr {\n",
       "  text-align: right;\n",
       "  white-space: pre-wrap;\n",
       "}\n",
       "</style>\n",
       "<small>shape: (3, 1)</small><table border=\"1\" class=\"dataframe\"><thead><tr><th>string</th></tr><tr><td>str</td></tr></thead><tbody><tr><td>&quot;a&quot;</td></tr><tr><td>&quot;b&quot;</td></tr><tr><td>&quot;c&quot;</td></tr></tbody></table></div>"
      ],
      "text/plain": [
       "shape: (3, 1)\n",
       "┌────────┐\n",
       "│ string │\n",
       "│ ---    │\n",
       "│ str    │\n",
       "╞════════╡\n",
       "│ a      │\n",
       "│ b      │\n",
       "│ c      │\n",
       "└────────┘"
      ]
     },
     "execution_count": 304,
     "metadata": {},
     "output_type": "execute_result"
    }
   ],
   "source": [
    "df.select(pl.col(pl.Utf8))"
   ]
  },
  {
   "cell_type": "markdown",
   "id": "38857d18",
   "metadata": {},
   "source": [
    "Python List of Polars dtypes"
   ]
  },
  {
   "cell_type": "code",
   "execution_count": 312,
   "id": "cae9052b",
   "metadata": {},
   "outputs": [
    {
     "data": {
      "text/html": [
       "<div><style>\n",
       ".dataframe > thead > tr,\n",
       ".dataframe > tbody > tr {\n",
       "  text-align: right;\n",
       "  white-space: pre-wrap;\n",
       "}\n",
       "</style>\n",
       "<small>shape: (3, 2)</small><table border=\"1\" class=\"dataframe\"><thead><tr><th>integer</th><th>float</th></tr><tr><td>i64</td><td>f64</td></tr></thead><tbody><tr><td>1</td><td>4.0</td></tr><tr><td>2</td><td>5.0</td></tr><tr><td>3</td><td>6.0</td></tr></tbody></table></div>"
      ],
      "text/plain": [
       "shape: (3, 2)\n",
       "┌─────────┬───────┐\n",
       "│ integer ┆ float │\n",
       "│ ---     ┆ ---   │\n",
       "│ i64     ┆ f64   │\n",
       "╞═════════╪═══════╡\n",
       "│ 1       ┆ 4.0   │\n",
       "│ 2       ┆ 5.0   │\n",
       "│ 3       ┆ 6.0   │\n",
       "└─────────┴───────┘"
      ]
     },
     "execution_count": 305,
     "metadata": {},
     "output_type": "execute_result"
    }
   ],
   "source": [
    "df.select(pl.col([pl.Int64, pl.Float64]))"
   ]
  },
  {
   "cell_type": "markdown",
   "id": "548e2691",
   "metadata": {},
   "source": [
    "Patterns (\"glob\")"
   ]
  },
  {
   "cell_type": "code",
   "execution_count": 313,
   "id": "cdaaec86",
   "metadata": {},
   "outputs": [
    {
     "data": {
      "text/html": [
       "<div><style>\n",
       ".dataframe > thead > tr,\n",
       ".dataframe > tbody > tr {\n",
       "  text-align: right;\n",
       "  white-space: pre-wrap;\n",
       "}\n",
       "</style>\n",
       "<small>shape: (3, 4)</small><table border=\"1\" class=\"dataframe\"><thead><tr><th>integer</th><th>date</th><th>float</th><th>string</th></tr><tr><td>i64</td><td>datetime[μs]</td><td>f64</td><td>str</td></tr></thead><tbody><tr><td>1</td><td>2022-01-01 00:00:00</td><td>4.0</td><td>&quot;a&quot;</td></tr><tr><td>2</td><td>2022-01-02 00:00:00</td><td>5.0</td><td>&quot;b&quot;</td></tr><tr><td>3</td><td>2022-01-03 00:00:00</td><td>6.0</td><td>&quot;c&quot;</td></tr></tbody></table></div>"
      ],
      "text/plain": [
       "shape: (3, 4)\n",
       "┌─────────┬─────────────────────┬───────┬────────┐\n",
       "│ integer ┆ date                ┆ float ┆ string │\n",
       "│ ---     ┆ ---                 ┆ ---   ┆ ---    │\n",
       "│ i64     ┆ datetime[μs]        ┆ f64   ┆ str    │\n",
       "╞═════════╪═════════════════════╪═══════╪════════╡\n",
       "│ 1       ┆ 2022-01-01 00:00:00 ┆ 4.0   ┆ a      │\n",
       "│ 2       ┆ 2022-01-02 00:00:00 ┆ 5.0   ┆ b      │\n",
       "│ 3       ┆ 2022-01-03 00:00:00 ┆ 6.0   ┆ c      │\n",
       "└─────────┴─────────────────────┴───────┴────────┘"
      ]
     },
     "execution_count": 306,
     "metadata": {},
     "output_type": "execute_result"
    }
   ],
   "source": [
    "df.select(pl.col(\"*\")) # same as df.select(pl.all())"
   ]
  },
  {
   "cell_type": "markdown",
   "id": "eeb57ed2",
   "metadata": {},
   "source": [
    "Regular Expression. Important! Use `pl.col('^<patterh>$')` to match regular expressions."
   ]
  },
  {
   "cell_type": "code",
   "execution_count": 314,
   "id": "4ff7435b",
   "metadata": {},
   "outputs": [
    {
     "data": {
      "text/html": [
       "<div><style>\n",
       ".dataframe > thead > tr,\n",
       ".dataframe > tbody > tr {\n",
       "  text-align: right;\n",
       "  white-space: pre-wrap;\n",
       "}\n",
       "</style>\n",
       "<small>shape: (3, 1)</small><table border=\"1\" class=\"dataframe\"><thead><tr><th>date</th></tr><tr><td>datetime[μs]</td></tr></thead><tbody><tr><td>2022-01-01 00:00:00</td></tr><tr><td>2022-01-02 00:00:00</td></tr><tr><td>2022-01-03 00:00:00</td></tr></tbody></table></div>"
      ],
      "text/plain": [
       "shape: (3, 1)\n",
       "┌─────────────────────┐\n",
       "│ date                │\n",
       "│ ---                 │\n",
       "│ datetime[μs]        │\n",
       "╞═════════════════════╡\n",
       "│ 2022-01-01 00:00:00 │\n",
       "│ 2022-01-02 00:00:00 │\n",
       "│ 2022-01-03 00:00:00 │\n",
       "└─────────────────────┘"
      ]
     },
     "execution_count": 307,
     "metadata": {},
     "output_type": "execute_result"
    }
   ],
   "source": [
    "df.select(pl.col(\"^\\w{4}$\")) "
   ]
  },
  {
   "cell_type": "code",
   "execution_count": 315,
   "id": "35e08a8e",
   "metadata": {},
   "outputs": [
    {
     "data": {
      "text/html": [
       "<div><style>\n",
       ".dataframe > thead > tr,\n",
       ".dataframe > tbody > tr {\n",
       "  text-align: right;\n",
       "  white-space: pre-wrap;\n",
       "}\n",
       "</style>\n",
       "<small>shape: (3, 1)</small><table border=\"1\" class=\"dataframe\"><thead><tr><th>string</th></tr><tr><td>str</td></tr></thead><tbody><tr><td>&quot;a&quot;</td></tr><tr><td>&quot;b&quot;</td></tr><tr><td>&quot;c&quot;</td></tr></tbody></table></div>"
      ],
      "text/plain": [
       "shape: (3, 1)\n",
       "┌────────┐\n",
       "│ string │\n",
       "│ ---    │\n",
       "│ str    │\n",
       "╞════════╡\n",
       "│ a      │\n",
       "│ b      │\n",
       "│ c      │\n",
       "└────────┘"
      ]
     },
     "execution_count": 308,
     "metadata": {},
     "output_type": "execute_result"
    }
   ],
   "source": [
    "df.select(pl.col('^.*g$'))"
   ]
  },
  {
   "cell_type": "code",
   "execution_count": 316,
   "id": "pl-col-with-regex",
   "metadata": {},
   "outputs": [
    {
     "data": {
      "text/html": [
       "<div><style>\n",
       ".dataframe > thead > tr,\n",
       ".dataframe > tbody > tr {\n",
       "  text-align: right;\n",
       "  white-space: pre-wrap;\n",
       "}\n",
       "</style>\n",
       "<small>shape: (3, 2)</small><table border=\"1\" class=\"dataframe\"><thead><tr><th>integer</th><th>date</th></tr><tr><td>i64</td><td>datetime[μs]</td></tr></thead><tbody><tr><td>1</td><td>2022-01-01 00:00:00</td></tr><tr><td>2</td><td>2022-01-02 00:00:00</td></tr><tr><td>3</td><td>2022-01-03 00:00:00</td></tr></tbody></table></div>"
      ],
      "text/plain": [
       "shape: (3, 2)\n",
       "┌─────────┬─────────────────────┐\n",
       "│ integer ┆ date                │\n",
       "│ ---     ┆ ---                 │\n",
       "│ i64     ┆ datetime[μs]        │\n",
       "╞═════════╪═════════════════════╡\n",
       "│ 1       ┆ 2022-01-01 00:00:00 │\n",
       "│ 2       ┆ 2022-01-02 00:00:00 │\n",
       "│ 3       ┆ 2022-01-03 00:00:00 │\n",
       "└─────────┴─────────────────────┘"
      ]
     },
     "execution_count": 309,
     "metadata": {},
     "output_type": "execute_result"
    }
   ],
   "source": [
    "#| label: pl-col-with-regex\n",
    "df.select(pl.col(\"^.*te.*$\")) # regex matching anything with a \"te\""
   ]
  },
  {
   "cell_type": "markdown",
   "id": "09113699",
   "metadata": {},
   "source": [
    "You can use `pl.col()` to exclude columns."
   ]
  },
  {
   "cell_type": "code",
   "execution_count": 317,
   "id": "02ad572c",
   "metadata": {},
   "outputs": [
    {
     "data": {
      "text/html": [
       "<div><style>\n",
       ".dataframe > thead > tr,\n",
       ".dataframe > tbody > tr {\n",
       "  text-align: right;\n",
       "  white-space: pre-wrap;\n",
       "}\n",
       "</style>\n",
       "<small>shape: (3, 3)</small><table border=\"1\" class=\"dataframe\"><thead><tr><th>date</th><th>float</th><th>string</th></tr><tr><td>datetime[μs]</td><td>f64</td><td>str</td></tr></thead><tbody><tr><td>2022-01-01 00:00:00</td><td>4.0</td><td>&quot;a&quot;</td></tr><tr><td>2022-01-02 00:00:00</td><td>5.0</td><td>&quot;b&quot;</td></tr><tr><td>2022-01-03 00:00:00</td><td>6.0</td><td>&quot;c&quot;</td></tr></tbody></table></div>"
      ],
      "text/plain": [
       "shape: (3, 3)\n",
       "┌─────────────────────┬───────┬────────┐\n",
       "│ date                ┆ float ┆ string │\n",
       "│ ---                 ┆ ---   ┆ ---    │\n",
       "│ datetime[μs]        ┆ f64   ┆ str    │\n",
       "╞═════════════════════╪═══════╪════════╡\n",
       "│ 2022-01-01 00:00:00 ┆ 4.0   ┆ a      │\n",
       "│ 2022-01-02 00:00:00 ┆ 5.0   ┆ b      │\n",
       "│ 2022-01-03 00:00:00 ┆ 6.0   ┆ c      │\n",
       "└─────────────────────┴───────┴────────┘"
      ]
     },
     "execution_count": 310,
     "metadata": {},
     "output_type": "execute_result"
    }
   ],
   "source": [
    "df.select(pl.col(\"*\").exclude(\"integer\"))"
   ]
  },
  {
   "cell_type": "code",
   "execution_count": 318,
   "id": "b007fc79",
   "metadata": {},
   "outputs": [
    {
     "data": {
      "text/html": [
       "<div><style>\n",
       ".dataframe > thead > tr,\n",
       ".dataframe > tbody > tr {\n",
       "  text-align: right;\n",
       "  white-space: pre-wrap;\n",
       "}\n",
       "</style>\n",
       "<small>shape: (3, 3)</small><table border=\"1\" class=\"dataframe\"><thead><tr><th>integer</th><th>date</th><th>string</th></tr><tr><td>i64</td><td>datetime[μs]</td><td>str</td></tr></thead><tbody><tr><td>1</td><td>2022-01-01 00:00:00</td><td>&quot;a&quot;</td></tr><tr><td>2</td><td>2022-01-02 00:00:00</td><td>&quot;b&quot;</td></tr><tr><td>3</td><td>2022-01-03 00:00:00</td><td>&quot;c&quot;</td></tr></tbody></table></div>"
      ],
      "text/plain": [
       "shape: (3, 3)\n",
       "┌─────────┬─────────────────────┬────────┐\n",
       "│ integer ┆ date                ┆ string │\n",
       "│ ---     ┆ ---                 ┆ ---    │\n",
       "│ i64     ┆ datetime[μs]        ┆ str    │\n",
       "╞═════════╪═════════════════════╪════════╡\n",
       "│ 1       ┆ 2022-01-01 00:00:00 ┆ a      │\n",
       "│ 2       ┆ 2022-01-02 00:00:00 ┆ b      │\n",
       "│ 3       ┆ 2022-01-03 00:00:00 ┆ c      │\n",
       "└─────────┴─────────────────────┴────────┘"
      ]
     },
     "execution_count": 311,
     "metadata": {},
     "output_type": "execute_result"
    }
   ],
   "source": [
    "df.select(pl.col(\"*\").exclude(pl.Float64))"
   ]
  },
  {
   "cell_type": "markdown",
   "id": "f19edd29",
   "metadata": {},
   "source": [
    "Exciting! [New API](https://pola-rs.github.io/Polars/py-Polars/html/reference/selectors.html) for column selection. \n"
   ]
  },
  {
   "cell_type": "code",
   "execution_count": 319,
   "id": "pl-column-selector",
   "metadata": {},
   "outputs": [
    {
     "data": {
      "text/html": [
       "<div><style>\n",
       ".dataframe > thead > tr,\n",
       ".dataframe > tbody > tr {\n",
       "  text-align: right;\n",
       "  white-space: pre-wrap;\n",
       "}\n",
       "</style>\n",
       "<small>shape: (3, 1)</small><table border=\"1\" class=\"dataframe\"><thead><tr><th>integer</th></tr><tr><td>i64</td></tr></thead><tbody><tr><td>1</td></tr><tr><td>2</td></tr><tr><td>3</td></tr></tbody></table></div>"
      ],
      "text/plain": [
       "shape: (3, 1)\n",
       "┌─────────┐\n",
       "│ integer │\n",
       "│ ---     │\n",
       "│ i64     │\n",
       "╞═════════╡\n",
       "│ 1       │\n",
       "│ 2       │\n",
       "│ 3       │\n",
       "└─────────┘"
      ]
     },
     "execution_count": 312,
     "metadata": {},
     "output_type": "execute_result"
    }
   ],
   "source": [
    "#| label: pl-column-selector\n",
    "import polars.selectors as cs\n",
    "\n",
    "df.select(cs.starts_with('i'))"
   ]
  },
  {
   "cell_type": "code",
   "execution_count": 320,
   "id": "pl-column-selector-set-opeartions",
   "metadata": {},
   "outputs": [
    {
     "data": {
      "text/html": [
       "<div><style>\n",
       ".dataframe > thead > tr,\n",
       ".dataframe > tbody > tr {\n",
       "  text-align: right;\n",
       "  white-space: pre-wrap;\n",
       "}\n",
       "</style>\n",
       "<small>shape: (3, 2)</small><table border=\"1\" class=\"dataframe\"><thead><tr><th>integer</th><th>date</th></tr><tr><td>i64</td><td>datetime[μs]</td></tr></thead><tbody><tr><td>1</td><td>2022-01-01 00:00:00</td></tr><tr><td>2</td><td>2022-01-02 00:00:00</td></tr><tr><td>3</td><td>2022-01-03 00:00:00</td></tr></tbody></table></div>"
      ],
      "text/plain": [
       "shape: (3, 2)\n",
       "┌─────────┬─────────────────────┐\n",
       "│ integer ┆ date                │\n",
       "│ ---     ┆ ---                 │\n",
       "│ i64     ┆ datetime[μs]        │\n",
       "╞═════════╪═════════════════════╡\n",
       "│ 1       ┆ 2022-01-01 00:00:00 │\n",
       "│ 2       ┆ 2022-01-02 00:00:00 │\n",
       "│ 3       ┆ 2022-01-03 00:00:00 │\n",
       "└─────────┴─────────────────────┘"
      ]
     },
     "execution_count": 313,
     "metadata": {},
     "output_type": "execute_result"
    }
   ],
   "source": [
    "#| label: pl-column-selector-set-opeartions\n",
    "\n",
    "df.select(cs.starts_with('i') | cs.starts_with('d'))"
   ]
  },
  {
   "cell_type": "code",
   "execution_count": 321,
   "id": "b8f1c0f6",
   "metadata": {},
   "outputs": [
    {
     "data": {
      "text/html": [
       "<div><style>\n",
       ".dataframe > thead > tr,\n",
       ".dataframe > tbody > tr {\n",
       "  text-align: right;\n",
       "  white-space: pre-wrap;\n",
       "}\n",
       "</style>\n",
       "<small>shape: (3, 2)</small><table border=\"1\" class=\"dataframe\"><thead><tr><th>integer</th><th>date</th></tr><tr><td>i64</td><td>datetime[μs]</td></tr></thead><tbody><tr><td>1</td><td>2022-01-01 00:00:00</td></tr><tr><td>2</td><td>2022-01-02 00:00:00</td></tr><tr><td>3</td><td>2022-01-03 00:00:00</td></tr></tbody></table></div>"
      ],
      "text/plain": [
       "shape: (3, 2)\n",
       "┌─────────┬─────────────────────┐\n",
       "│ integer ┆ date                │\n",
       "│ ---     ┆ ---                 │\n",
       "│ i64     ┆ datetime[μs]        │\n",
       "╞═════════╪═════════════════════╡\n",
       "│ 1       ┆ 2022-01-01 00:00:00 │\n",
       "│ 2       ┆ 2022-01-02 00:00:00 │\n",
       "│ 3       ┆ 2022-01-03 00:00:00 │\n",
       "└─────────┴─────────────────────┘"
      ]
     },
     "execution_count": 314,
     "metadata": {},
     "output_type": "execute_result"
    }
   ],
   "source": [
    "df.select(cs.starts_with('i') | cs.starts_with('d'))"
   ]
  },
  {
   "cell_type": "markdown",
   "id": "462a6c93",
   "metadata": {},
   "source": [
    "### Selecting Rows By Index\n"
   ]
  },
  {
   "cell_type": "code",
   "execution_count": 322,
   "id": "d1aa8640",
   "metadata": {},
   "outputs": [
    {
     "data": {
      "text/html": [
       "<div><style>\n",
       ".dataframe > thead > tr,\n",
       ".dataframe > tbody > tr {\n",
       "  text-align: right;\n",
       "  white-space: pre-wrap;\n",
       "}\n",
       "</style>\n",
       "<small>shape: (2, 4)</small><table border=\"1\" class=\"dataframe\"><thead><tr><th>integer</th><th>date</th><th>float</th><th>string</th></tr><tr><td>i64</td><td>datetime[μs]</td><td>f64</td><td>str</td></tr></thead><tbody><tr><td>1</td><td>2022-01-01 00:00:00</td><td>4.0</td><td>&quot;a&quot;</td></tr><tr><td>2</td><td>2022-01-02 00:00:00</td><td>5.0</td><td>&quot;b&quot;</td></tr></tbody></table></div>"
      ],
      "text/plain": [
       "shape: (2, 4)\n",
       "┌─────────┬─────────────────────┬───────┬────────┐\n",
       "│ integer ┆ date                ┆ float ┆ string │\n",
       "│ ---     ┆ ---                 ┆ ---   ┆ ---    │\n",
       "│ i64     ┆ datetime[μs]        ┆ f64   ┆ str    │\n",
       "╞═════════╪═════════════════════╪═══════╪════════╡\n",
       "│ 1       ┆ 2022-01-01 00:00:00 ┆ 4.0   ┆ a      │\n",
       "│ 2       ┆ 2022-01-02 00:00:00 ┆ 5.0   ┆ b      │\n",
       "└─────────┴─────────────────────┴───────┴────────┘"
      ]
     },
     "execution_count": 315,
     "metadata": {},
     "output_type": "execute_result"
    }
   ],
   "source": [
    "df.limit(2)"
   ]
  },
  {
   "cell_type": "code",
   "execution_count": 323,
   "id": "d53e6e04",
   "metadata": {},
   "outputs": [
    {
     "data": {
      "text/html": [
       "<div><style>\n",
       ".dataframe > thead > tr,\n",
       ".dataframe > tbody > tr {\n",
       "  text-align: right;\n",
       "  white-space: pre-wrap;\n",
       "}\n",
       "</style>\n",
       "<small>shape: (2, 4)</small><table border=\"1\" class=\"dataframe\"><thead><tr><th>integer</th><th>date</th><th>float</th><th>string</th></tr><tr><td>i64</td><td>datetime[μs]</td><td>f64</td><td>str</td></tr></thead><tbody><tr><td>1</td><td>2022-01-01 00:00:00</td><td>4.0</td><td>&quot;a&quot;</td></tr><tr><td>2</td><td>2022-01-02 00:00:00</td><td>5.0</td><td>&quot;b&quot;</td></tr></tbody></table></div>"
      ],
      "text/plain": [
       "shape: (2, 4)\n",
       "┌─────────┬─────────────────────┬───────┬────────┐\n",
       "│ integer ┆ date                ┆ float ┆ string │\n",
       "│ ---     ┆ ---                 ┆ ---   ┆ ---    │\n",
       "│ i64     ┆ datetime[μs]        ┆ f64   ┆ str    │\n",
       "╞═════════╪═════════════════════╪═══════╪════════╡\n",
       "│ 1       ┆ 2022-01-01 00:00:00 ┆ 4.0   ┆ a      │\n",
       "│ 2       ┆ 2022-01-02 00:00:00 ┆ 5.0   ┆ b      │\n",
       "└─────────┴─────────────────────┴───────┴────────┘"
      ]
     },
     "execution_count": 316,
     "metadata": {},
     "output_type": "execute_result"
    }
   ],
   "source": [
    "df.head(2)"
   ]
  },
  {
   "cell_type": "code",
   "execution_count": 324,
   "id": "7404dbd2",
   "metadata": {},
   "outputs": [
    {
     "data": {
      "text/html": [
       "<div><style>\n",
       ".dataframe > thead > tr,\n",
       ".dataframe > tbody > tr {\n",
       "  text-align: right;\n",
       "  white-space: pre-wrap;\n",
       "}\n",
       "</style>\n",
       "<small>shape: (1, 4)</small><table border=\"1\" class=\"dataframe\"><thead><tr><th>integer</th><th>date</th><th>float</th><th>string</th></tr><tr><td>i64</td><td>datetime[μs]</td><td>f64</td><td>str</td></tr></thead><tbody><tr><td>3</td><td>2022-01-03 00:00:00</td><td>6.0</td><td>&quot;c&quot;</td></tr></tbody></table></div>"
      ],
      "text/plain": [
       "shape: (1, 4)\n",
       "┌─────────┬─────────────────────┬───────┬────────┐\n",
       "│ integer ┆ date                ┆ float ┆ string │\n",
       "│ ---     ┆ ---                 ┆ ---   ┆ ---    │\n",
       "│ i64     ┆ datetime[μs]        ┆ f64   ┆ str    │\n",
       "╞═════════╪═════════════════════╪═══════╪════════╡\n",
       "│ 3       ┆ 2022-01-03 00:00:00 ┆ 6.0   ┆ c      │\n",
       "└─────────┴─────────────────────┴───────┴────────┘"
      ]
     },
     "execution_count": 317,
     "metadata": {},
     "output_type": "execute_result"
    }
   ],
   "source": [
    "df.tail(1)"
   ]
  },
  {
   "cell_type": "code",
   "execution_count": 325,
   "id": "30ce5c8c",
   "metadata": {},
   "outputs": [
    {
     "name": "stderr",
     "output_type": "stream",
     "text": [
      "/var/folders/ld/j2ckdhnj5hqcx58byy0gj9th0000gn/T/ipykernel_99747/2485267278.py:1: DeprecationWarning:\n",
      "\n",
      "`take_every` is deprecated. It has been renamed to `gather_every`.\n",
      "\n"
     ]
    },
    {
     "data": {
      "text/html": [
       "<div><style>\n",
       ".dataframe > thead > tr,\n",
       ".dataframe > tbody > tr {\n",
       "  text-align: right;\n",
       "  white-space: pre-wrap;\n",
       "}\n",
       "</style>\n",
       "<small>shape: (2, 4)</small><table border=\"1\" class=\"dataframe\"><thead><tr><th>integer</th><th>date</th><th>float</th><th>string</th></tr><tr><td>i64</td><td>datetime[μs]</td><td>f64</td><td>str</td></tr></thead><tbody><tr><td>1</td><td>2022-01-01 00:00:00</td><td>4.0</td><td>&quot;a&quot;</td></tr><tr><td>3</td><td>2022-01-03 00:00:00</td><td>6.0</td><td>&quot;c&quot;</td></tr></tbody></table></div>"
      ],
      "text/plain": [
       "shape: (2, 4)\n",
       "┌─────────┬─────────────────────┬───────┬────────┐\n",
       "│ integer ┆ date                ┆ float ┆ string │\n",
       "│ ---     ┆ ---                 ┆ ---   ┆ ---    │\n",
       "│ i64     ┆ datetime[μs]        ┆ f64   ┆ str    │\n",
       "╞═════════╪═════════════════════╪═══════╪════════╡\n",
       "│ 1       ┆ 2022-01-01 00:00:00 ┆ 4.0   ┆ a      │\n",
       "│ 3       ┆ 2022-01-03 00:00:00 ┆ 6.0   ┆ c      │\n",
       "└─────────┴─────────────────────┴───────┴────────┘"
      ]
     },
     "execution_count": 318,
     "metadata": {},
     "output_type": "execute_result"
    }
   ],
   "source": [
    "df.take_every(2)"
   ]
  },
  {
   "cell_type": "code",
   "execution_count": 326,
   "id": "2e0b65cd",
   "metadata": {},
   "outputs": [
    {
     "data": {
      "text/html": [
       "<div><style>\n",
       ".dataframe > thead > tr,\n",
       ".dataframe > tbody > tr {\n",
       "  text-align: right;\n",
       "  white-space: pre-wrap;\n",
       "}\n",
       "</style>\n",
       "<small>shape: (1, 4)</small><table border=\"1\" class=\"dataframe\"><thead><tr><th>integer</th><th>date</th><th>float</th><th>string</th></tr><tr><td>i64</td><td>datetime[μs]</td><td>f64</td><td>str</td></tr></thead><tbody><tr><td>2</td><td>2022-01-02 00:00:00</td><td>5.0</td><td>&quot;b&quot;</td></tr></tbody></table></div>"
      ],
      "text/plain": [
       "shape: (1, 4)\n",
       "┌─────────┬─────────────────────┬───────┬────────┐\n",
       "│ integer ┆ date                ┆ float ┆ string │\n",
       "│ ---     ┆ ---                 ┆ ---   ┆ ---    │\n",
       "│ i64     ┆ datetime[μs]        ┆ f64   ┆ str    │\n",
       "╞═════════╪═════════════════════╪═══════╪════════╡\n",
       "│ 2       ┆ 2022-01-02 00:00:00 ┆ 5.0   ┆ b      │\n",
       "└─────────┴─────────────────────┴───────┴────────┘"
      ]
     },
     "execution_count": 319,
     "metadata": {},
     "output_type": "execute_result"
    }
   ],
   "source": [
    "df.slice(offset=1, length=1)"
   ]
  },
  {
   "cell_type": "code",
   "execution_count": 327,
   "id": "00622f7c",
   "metadata": {},
   "outputs": [
    {
     "data": {
      "text/html": [
       "<div><style>\n",
       ".dataframe > thead > tr,\n",
       ".dataframe > tbody > tr {\n",
       "  text-align: right;\n",
       "  white-space: pre-wrap;\n",
       "}\n",
       "</style>\n",
       "<small>shape: (1, 4)</small><table border=\"1\" class=\"dataframe\"><thead><tr><th>integer</th><th>date</th><th>float</th><th>string</th></tr><tr><td>i64</td><td>datetime[μs]</td><td>f64</td><td>str</td></tr></thead><tbody><tr><td>2</td><td>2022-01-02 00:00:00</td><td>5.0</td><td>&quot;b&quot;</td></tr></tbody></table></div>"
      ],
      "text/plain": [
       "shape: (1, 4)\n",
       "┌─────────┬─────────────────────┬───────┬────────┐\n",
       "│ integer ┆ date                ┆ float ┆ string │\n",
       "│ ---     ┆ ---                 ┆ ---   ┆ ---    │\n",
       "│ i64     ┆ datetime[μs]        ┆ f64   ┆ str    │\n",
       "╞═════════╪═════════════════════╪═══════╪════════╡\n",
       "│ 2       ┆ 2022-01-02 00:00:00 ┆ 5.0   ┆ b      │\n",
       "└─────────┴─────────────────────┴───────┴────────┘"
      ]
     },
     "execution_count": 320,
     "metadata": {},
     "output_type": "execute_result"
    }
   ],
   "source": [
    "df.sample(1)"
   ]
  },
  {
   "cell_type": "markdown",
   "id": "c2275c2a",
   "metadata": {},
   "source": [
    "Because `.sample()` requires row counts, it will not work for lazy objects.\n"
   ]
  },
  {
   "cell_type": "code",
   "execution_count": 328,
   "id": "4d3c9821",
   "metadata": {},
   "outputs": [
    {
     "data": {
      "text/plain": [
       "(2, datetime.datetime(2022, 1, 2, 0, 0), 5.0, 'b')"
      ]
     },
     "execution_count": 321,
     "metadata": {},
     "output_type": "execute_result"
    }
   ],
   "source": [
    "df.row(1) # get row as tuple"
   ]
  },
  {
   "cell_type": "markdown",
   "id": "1cd34f84",
   "metadata": {},
   "source": [
    "### Selecting Rows By Condition {#sec-filtering-rows}\n",
    "\n",
    "Aka [Projection](https://en.wikipedia.org/wiki/Projection_(relational_algebra)). \n",
    "\n",
    "Enter the `df.filter()` context. \n"
   ]
  },
  {
   "cell_type": "code",
   "execution_count": 329,
   "id": "filter-context",
   "metadata": {},
   "outputs": [
    {
     "data": {
      "text/html": [
       "<div><style>\n",
       ".dataframe > thead > tr,\n",
       ".dataframe > tbody > tr {\n",
       "  text-align: right;\n",
       "  white-space: pre-wrap;\n",
       "}\n",
       "</style>\n",
       "<small>shape: (1, 4)</small><table border=\"1\" class=\"dataframe\"><thead><tr><th>integer</th><th>date</th><th>float</th><th>string</th></tr><tr><td>i64</td><td>datetime[μs]</td><td>f64</td><td>str</td></tr></thead><tbody><tr><td>2</td><td>2022-01-02 00:00:00</td><td>5.0</td><td>&quot;b&quot;</td></tr></tbody></table></div>"
      ],
      "text/plain": [
       "shape: (1, 4)\n",
       "┌─────────┬─────────────────────┬───────┬────────┐\n",
       "│ integer ┆ date                ┆ float ┆ string │\n",
       "│ ---     ┆ ---                 ┆ ---   ┆ ---    │\n",
       "│ i64     ┆ datetime[μs]        ┆ f64   ┆ str    │\n",
       "╞═════════╪═════════════════════╪═══════╪════════╡\n",
       "│ 2       ┆ 2022-01-02 00:00:00 ┆ 5.0   ┆ b      │\n",
       "└─────────┴─────────────────────┴───────┴────────┘"
      ]
     },
     "execution_count": 322,
     "metadata": {},
     "output_type": "execute_result"
    }
   ],
   "source": [
    "#| label: filter-context\n",
    "#| lst-label: filter-context\n",
    "#| lst-cap: Filtering Rows in a DataFrame\n",
    "\n",
    "df.filter(pl.col(\"integer\").eq(2))"
   ]
  },
  {
   "cell_type": "markdown",
   "id": "187dee23",
   "metadata": {},
   "source": [
    "Things to note:\n",
    "\n",
    "- `df.filter()` is a **Polars Context**. \n",
    "- It is a **keep** filter, not a **drop** filter: it will evaluate expressions, and return the rows where the expression does not evaluate to `False`. \n",
    "-   The `[` operator does not support indexing with boolean such as `df[df[\"integer\"] == 2]`.\n",
    "-   The `filter()` method is recommended over `[` by the authors of Polars, to facilitate lazy evaluation (discussed later).\n",
    "\n",
    "\n",
    "An alternative syntax for equality filtering, known as **constraint** in the Polars documentation.\n"
   ]
  },
  {
   "cell_type": "code",
   "execution_count": 330,
   "id": "123a3272",
   "metadata": {},
   "outputs": [
    {
     "data": {
      "text/html": [
       "<div><style>\n",
       ".dataframe > thead > tr,\n",
       ".dataframe > tbody > tr {\n",
       "  text-align: right;\n",
       "  white-space: pre-wrap;\n",
       "}\n",
       "</style>\n",
       "<small>shape: (1, 4)</small><table border=\"1\" class=\"dataframe\"><thead><tr><th>integer</th><th>date</th><th>float</th><th>string</th></tr><tr><td>i64</td><td>datetime[μs]</td><td>f64</td><td>str</td></tr></thead><tbody><tr><td>2</td><td>2022-01-02 00:00:00</td><td>5.0</td><td>&quot;b&quot;</td></tr></tbody></table></div>"
      ],
      "text/plain": [
       "shape: (1, 4)\n",
       "┌─────────┬─────────────────────┬───────┬────────┐\n",
       "│ integer ┆ date                ┆ float ┆ string │\n",
       "│ ---     ┆ ---                 ┆ ---   ┆ ---    │\n",
       "│ i64     ┆ datetime[μs]        ┆ f64   ┆ str    │\n",
       "╞═════════╪═════════════════════╪═══════╪════════╡\n",
       "│ 2       ┆ 2022-01-02 00:00:00 ┆ 5.0   ┆ b      │\n",
       "└─────────┴─────────────────────┴───────┴────────┘"
      ]
     },
     "execution_count": 323,
     "metadata": {},
     "output_type": "execute_result"
    }
   ],
   "source": [
    "df.filter(integer = 2)"
   ]
  },
  {
   "cell_type": "markdown",
   "id": "cba7420d",
   "metadata": {},
   "source": [
    "AND conditions:"
   ]
  },
  {
   "cell_type": "code",
   "execution_count": 331,
   "id": "filter-and",
   "metadata": {},
   "outputs": [
    {
     "data": {
      "text/html": [
       "<div><style>\n",
       ".dataframe > thead > tr,\n",
       ".dataframe > tbody > tr {\n",
       "  text-align: right;\n",
       "  white-space: pre-wrap;\n",
       "}\n",
       "</style>\n",
       "<small>shape: (0, 4)</small><table border=\"1\" class=\"dataframe\"><thead><tr><th>integer</th><th>date</th><th>float</th><th>string</th></tr><tr><td>i64</td><td>datetime[μs]</td><td>f64</td><td>str</td></tr></thead><tbody></tbody></table></div>"
      ],
      "text/plain": [
       "shape: (0, 4)\n",
       "┌─────────┬──────────────┬───────┬────────┐\n",
       "│ integer ┆ date         ┆ float ┆ string │\n",
       "│ ---     ┆ ---          ┆ ---   ┆ ---    │\n",
       "│ i64     ┆ datetime[μs] ┆ f64   ┆ str    │\n",
       "╞═════════╪══════════════╪═══════╪════════╡\n",
       "└─────────┴──────────────┴───────┴────────┘"
      ]
     },
     "execution_count": 324,
     "metadata": {},
     "output_type": "execute_result"
    }
   ],
   "source": [
    "#| label: filter-and\n",
    "df.filter(\n",
    "  pl.col('integer').eq(2),\n",
    "  pl.col('float').gt(10)\n",
    ")"
   ]
  },
  {
   "cell_type": "code",
   "execution_count": 332,
   "id": "filter-and-2",
   "metadata": {},
   "outputs": [
    {
     "data": {
      "text/html": [
       "<div><style>\n",
       ".dataframe > thead > tr,\n",
       ".dataframe > tbody > tr {\n",
       "  text-align: right;\n",
       "  white-space: pre-wrap;\n",
       "}\n",
       "</style>\n",
       "<small>shape: (0, 4)</small><table border=\"1\" class=\"dataframe\"><thead><tr><th>integer</th><th>date</th><th>float</th><th>string</th></tr><tr><td>i64</td><td>datetime[μs]</td><td>f64</td><td>str</td></tr></thead><tbody></tbody></table></div>"
      ],
      "text/plain": [
       "shape: (0, 4)\n",
       "┌─────────┬──────────────┬───────┬────────┐\n",
       "│ integer ┆ date         ┆ float ┆ string │\n",
       "│ ---     ┆ ---          ┆ ---   ┆ ---    │\n",
       "│ i64     ┆ datetime[μs] ┆ f64   ┆ str    │\n",
       "╞═════════╪══════════════╪═══════╪════════╡\n",
       "└─────────┴──────────────┴───────┴────────┘"
      ]
     },
     "execution_count": 325,
     "metadata": {},
     "output_type": "execute_result"
    }
   ],
   "source": [
    "#| label: filter-and-2\n",
    "df.filter(\n",
    "  pl.col('integer').eq(2) &\n",
    "  pl.col('float').gt(10)\n",
    ")"
   ]
  },
  {
   "cell_type": "markdown",
   "id": "7a4d60cc",
   "metadata": {},
   "source": [
    "OR conditions:"
   ]
  },
  {
   "cell_type": "code",
   "execution_count": 333,
   "id": "filter-or",
   "metadata": {},
   "outputs": [
    {
     "data": {
      "text/html": [
       "<div><style>\n",
       ".dataframe > thead > tr,\n",
       ".dataframe > tbody > tr {\n",
       "  text-align: right;\n",
       "  white-space: pre-wrap;\n",
       "}\n",
       "</style>\n",
       "<small>shape: (1, 4)</small><table border=\"1\" class=\"dataframe\"><thead><tr><th>integer</th><th>date</th><th>float</th><th>string</th></tr><tr><td>i64</td><td>datetime[μs]</td><td>f64</td><td>str</td></tr></thead><tbody><tr><td>2</td><td>2022-01-02 00:00:00</td><td>5.0</td><td>&quot;b&quot;</td></tr></tbody></table></div>"
      ],
      "text/plain": [
       "shape: (1, 4)\n",
       "┌─────────┬─────────────────────┬───────┬────────┐\n",
       "│ integer ┆ date                ┆ float ┆ string │\n",
       "│ ---     ┆ ---                 ┆ ---   ┆ ---    │\n",
       "│ i64     ┆ datetime[μs]        ┆ f64   ┆ str    │\n",
       "╞═════════╪═════════════════════╪═══════╪════════╡\n",
       "│ 2       ┆ 2022-01-02 00:00:00 ┆ 5.0   ┆ b      │\n",
       "└─────────┴─────────────────────┴───────┴────────┘"
      ]
     },
     "execution_count": 326,
     "metadata": {},
     "output_type": "execute_result"
    }
   ],
   "source": [
    "#| label: filter-or\n",
    "df.filter(\n",
    "  pl.col('integer').eq(2) |\n",
    "  pl.col('float').gt(10)\n",
    ")"
   ]
  },
  {
   "cell_type": "markdown",
   "id": "8dad5fca",
   "metadata": {},
   "source": [
    "::: {.callout-note}\n",
    "How would you write an AND, or OR condition, without using the comparison methods `.eq()`, `.gt()`, etc.?\n",
    ":::\n",
    "\n",
    "\n",
    "### Selecting From Single Item Frame\n",
    "\n",
    "Say your operation returned a Polars frame with a single float, which you want to manipulate as a Python float:"
   ]
  },
  {
   "cell_type": "code",
   "execution_count": 334,
   "id": "single-item-to-python",
   "metadata": {},
   "outputs": [
    {
     "data": {
      "text/plain": [
       "1"
      ]
     },
     "execution_count": 327,
     "metadata": {},
     "output_type": "execute_result"
    }
   ],
   "source": [
    "#| label: single-item-to-python\n",
    "pl.DataFrame([1]).item()"
   ]
  },
  {
   "cell_type": "markdown",
   "id": "38353abe",
   "metadata": {},
   "source": [
    "## Column Transformations \n",
    "\n",
    "1. Transformations are done with Polars Expressions (@sec-expressions) within a **context** (see @sec-contexts).\n",
    "-   The output column will have the same name as the input, unless you use the `alias()` method to rename it.\n"
   ]
  },
  {
   "cell_type": "code",
   "execution_count": 335,
   "id": "with-columns",
   "metadata": {},
   "outputs": [
    {
     "data": {
      "text/html": [
       "<div><style>\n",
       ".dataframe > thead > tr,\n",
       ".dataframe > tbody > tr {\n",
       "  text-align: right;\n",
       "  white-space: pre-wrap;\n",
       "}\n",
       "</style>\n",
       "<small>shape: (3, 6)</small><table border=\"1\" class=\"dataframe\"><thead><tr><th>integer</th><th>date</th><th>float</th><th>string</th><th>integer2</th><th>integer3</th></tr><tr><td>i64</td><td>datetime[μs]</td><td>f64</td><td>str</td><td>i64</td><td>f64</td></tr></thead><tbody><tr><td>2</td><td>2022-01-01 00:00:00</td><td>4.0</td><td>&quot;a&quot;</td><td>1</td><td>0.333333</td></tr><tr><td>4</td><td>2022-01-02 00:00:00</td><td>5.0</td><td>&quot;b&quot;</td><td>2</td><td>0.666667</td></tr><tr><td>6</td><td>2022-01-03 00:00:00</td><td>6.0</td><td>&quot;c&quot;</td><td>3</td><td>1.0</td></tr></tbody></table></div>"
      ],
      "text/plain": [
       "shape: (3, 6)\n",
       "┌─────────┬─────────────────────┬───────┬────────┬──────────┬──────────┐\n",
       "│ integer ┆ date                ┆ float ┆ string ┆ integer2 ┆ integer3 │\n",
       "│ ---     ┆ ---                 ┆ ---   ┆ ---    ┆ ---      ┆ ---      │\n",
       "│ i64     ┆ datetime[μs]        ┆ f64   ┆ str    ┆ i64      ┆ f64      │\n",
       "╞═════════╪═════════════════════╪═══════╪════════╪══════════╪══════════╡\n",
       "│ 2       ┆ 2022-01-01 00:00:00 ┆ 4.0   ┆ a      ┆ 1        ┆ 0.333333 │\n",
       "│ 4       ┆ 2022-01-02 00:00:00 ┆ 5.0   ┆ b      ┆ 2        ┆ 0.666667 │\n",
       "│ 6       ┆ 2022-01-03 00:00:00 ┆ 6.0   ┆ c      ┆ 3        ┆ 1.0      │\n",
       "└─────────┴─────────────────────┴───────┴────────┴──────────┴──────────┘"
      ]
     },
     "execution_count": 328,
     "metadata": {},
     "output_type": "execute_result"
    }
   ],
   "source": [
    "#| label: with-columns\n",
    "df.with_columns(\n",
    "    pl.col(\"integer\").mul(2),\n",
    "    pl.col(\"integer\").alias(\"integer2\"),\n",
    "    integer3 = pl.col(\"integer\").truediv(3),\n",
    ")"
   ]
  },
  {
   "cell_type": "markdown",
   "id": "81649f92",
   "metadata": {},
   "source": [
    "Warning!"
   ]
  },
  {
   "cell_type": "code",
   "execution_count": 336,
   "id": "b337672b",
   "metadata": {},
   "outputs": [],
   "source": [
    "#| eval: false\n",
    "df.with_columns(\n",
    "    integer3 = pl.col(\"integer\").truediv(3),\n",
    "    pl.col(\"integer\").mul(2),\n",
    "    pl.col(\"integer\").alias(\"integer2\"),\n",
    ")"
   ]
  },
  {
   "cell_type": "markdown",
   "id": "d82f86e2",
   "metadata": {},
   "source": [
    "Things to note:\n",
    "\n",
    "-   You cannot use `[` to assign! This would not have worked `df['integer3'] = df['integer'] * 2`\n",
    "-   The columns `integer` is multiplied by 2 **in place**, because no `alias` is used.\n",
    "-   As of Polars version \\>15.*.* (I think), you can use `=` to assign. That is how `integer3` is created.\n",
    "-   The column `integer` is copied, by renaming it to `integer2`.\n",
    "-   Why `.truediv()`? To distinguish from `.floordiv()` and `.mod()`. See [this issue](https://github.com/pola-rs/polars/issues/12450) for a discussion of the topic. \n",
    "\n",
    "If a selection returns multiple columns, all will be transformed:"
   ]
  },
  {
   "cell_type": "code",
   "execution_count": 337,
   "id": "with-columns-multiple",
   "metadata": {},
   "outputs": [
    {
     "data": {
      "text/html": [
       "<div><style>\n",
       ".dataframe > thead > tr,\n",
       ".dataframe > tbody > tr {\n",
       "  text-align: right;\n",
       "  white-space: pre-wrap;\n",
       "}\n",
       "</style>\n",
       "<small>shape: (3, 4)</small><table border=\"1\" class=\"dataframe\"><thead><tr><th>integer</th><th>date</th><th>float</th><th>string</th></tr><tr><td>i64</td><td>datetime[μs]</td><td>f64</td><td>str</td></tr></thead><tbody><tr><td>2</td><td>2022-01-01 00:00:00</td><td>8.0</td><td>&quot;a&quot;</td></tr><tr><td>4</td><td>2022-01-02 00:00:00</td><td>10.0</td><td>&quot;b&quot;</td></tr><tr><td>6</td><td>2022-01-03 00:00:00</td><td>12.0</td><td>&quot;c&quot;</td></tr></tbody></table></div>"
      ],
      "text/plain": [
       "shape: (3, 4)\n",
       "┌─────────┬─────────────────────┬───────┬────────┐\n",
       "│ integer ┆ date                ┆ float ┆ string │\n",
       "│ ---     ┆ ---                 ┆ ---   ┆ ---    │\n",
       "│ i64     ┆ datetime[μs]        ┆ f64   ┆ str    │\n",
       "╞═════════╪═════════════════════╪═══════╪════════╡\n",
       "│ 2       ┆ 2022-01-01 00:00:00 ┆ 8.0   ┆ a      │\n",
       "│ 4       ┆ 2022-01-02 00:00:00 ┆ 10.0  ┆ b      │\n",
       "│ 6       ┆ 2022-01-03 00:00:00 ┆ 12.0  ┆ c      │\n",
       "└─────────┴─────────────────────┴───────┴────────┘"
      ]
     },
     "execution_count": 329,
     "metadata": {},
     "output_type": "execute_result"
    }
   ],
   "source": [
    "#| label: with-columns-multiple\n",
    "df.with_columns(\n",
    "    pl.col([pl.Int64,pl.Float64]).mul(2)\n",
    ")"
   ]
  },
  {
   "cell_type": "code",
   "execution_count": 338,
   "id": "with-columns-all-cast",
   "metadata": {},
   "outputs": [
    {
     "data": {
      "text/html": [
       "<div><style>\n",
       ".dataframe > thead > tr,\n",
       ".dataframe > tbody > tr {\n",
       "  text-align: right;\n",
       "  white-space: pre-wrap;\n",
       "}\n",
       "</style>\n",
       "<small>shape: (3, 4)</small><table border=\"1\" class=\"dataframe\"><thead><tr><th>integer</th><th>date</th><th>float</th><th>string</th></tr><tr><td>str</td><td>str</td><td>str</td><td>str</td></tr></thead><tbody><tr><td>&quot;1&quot;</td><td>&quot;2022-01-01 00:00:00.000000&quot;</td><td>&quot;4.0&quot;</td><td>&quot;a&quot;</td></tr><tr><td>&quot;2&quot;</td><td>&quot;2022-01-02 00:00:00.000000&quot;</td><td>&quot;5.0&quot;</td><td>&quot;b&quot;</td></tr><tr><td>&quot;3&quot;</td><td>&quot;2022-01-03 00:00:00.000000&quot;</td><td>&quot;6.0&quot;</td><td>&quot;c&quot;</td></tr></tbody></table></div>"
      ],
      "text/plain": [
       "shape: (3, 4)\n",
       "┌─────────┬────────────────────────────┬───────┬────────┐\n",
       "│ integer ┆ date                       ┆ float ┆ string │\n",
       "│ ---     ┆ ---                        ┆ ---   ┆ ---    │\n",
       "│ str     ┆ str                        ┆ str   ┆ str    │\n",
       "╞═════════╪════════════════════════════╪═══════╪════════╡\n",
       "│ 1       ┆ 2022-01-01 00:00:00.000000 ┆ 4.0   ┆ a      │\n",
       "│ 2       ┆ 2022-01-02 00:00:00.000000 ┆ 5.0   ┆ b      │\n",
       "│ 3       ┆ 2022-01-03 00:00:00.000000 ┆ 6.0   ┆ c      │\n",
       "└─────────┴────────────────────────────┴───────┴────────┘"
      ]
     },
     "execution_count": 330,
     "metadata": {},
     "output_type": "execute_result"
    }
   ],
   "source": [
    "#| label: with-columns-all-cast\n",
    "df.with_columns(\n",
    "    pl.all().cast(pl.Utf8)\n",
    ")"
   ]
  },
  {
   "cell_type": "markdown",
   "id": "f72a557b",
   "metadata": {},
   "source": [
    "You cannot `.alias()` when operating on multiple columns. But you can use `.name.suffix()` or `.name.prefix()` from the `.name.` namespace."
   ]
  },
  {
   "cell_type": "code",
   "execution_count": 339,
   "id": "with-columns-multiple-2",
   "metadata": {},
   "outputs": [
    {
     "data": {
      "text/html": [
       "<div><style>\n",
       ".dataframe > thead > tr,\n",
       ".dataframe > tbody > tr {\n",
       "  text-align: right;\n",
       "  white-space: pre-wrap;\n",
       "}\n",
       "</style>\n",
       "<small>shape: (3, 6)</small><table border=\"1\" class=\"dataframe\"><thead><tr><th>integer</th><th>date</th><th>float</th><th>string</th><th>integer_2X</th><th>float_2X</th></tr><tr><td>i64</td><td>datetime[μs]</td><td>f64</td><td>str</td><td>i64</td><td>f64</td></tr></thead><tbody><tr><td>1</td><td>2022-01-01 00:00:00</td><td>4.0</td><td>&quot;a&quot;</td><td>2</td><td>8.0</td></tr><tr><td>2</td><td>2022-01-02 00:00:00</td><td>5.0</td><td>&quot;b&quot;</td><td>4</td><td>10.0</td></tr><tr><td>3</td><td>2022-01-03 00:00:00</td><td>6.0</td><td>&quot;c&quot;</td><td>6</td><td>12.0</td></tr></tbody></table></div>"
      ],
      "text/plain": [
       "shape: (3, 6)\n",
       "┌─────────┬─────────────────────┬───────┬────────┬────────────┬──────────┐\n",
       "│ integer ┆ date                ┆ float ┆ string ┆ integer_2X ┆ float_2X │\n",
       "│ ---     ┆ ---                 ┆ ---   ┆ ---    ┆ ---        ┆ ---      │\n",
       "│ i64     ┆ datetime[μs]        ┆ f64   ┆ str    ┆ i64        ┆ f64      │\n",
       "╞═════════╪═════════════════════╪═══════╪════════╪════════════╪══════════╡\n",
       "│ 1       ┆ 2022-01-01 00:00:00 ┆ 4.0   ┆ a      ┆ 2          ┆ 8.0      │\n",
       "│ 2       ┆ 2022-01-02 00:00:00 ┆ 5.0   ┆ b      ┆ 4          ┆ 10.0     │\n",
       "│ 3       ┆ 2022-01-03 00:00:00 ┆ 6.0   ┆ c      ┆ 6          ┆ 12.0     │\n",
       "└─────────┴─────────────────────┴───────┴────────┴────────────┴──────────┘"
      ]
     },
     "execution_count": 331,
     "metadata": {},
     "output_type": "execute_result"
    }
   ],
   "source": [
    "#| label: with-columns-multiple-2\n",
    "df.with_columns(\n",
    "    pl.col([pl.Int64,pl.Float64]).mul(2).name.suffix(\"_2X\")\n",
    ")"
   ]
  },
  {
   "cell_type": "markdown",
   "id": "fc3c1a81",
   "metadata": {},
   "source": [
    "### Transform the Transformed Columns\n",
    "\n",
    "All the expressions within a context see the frame as it's initial state. \n",
    "Recall, odds are expressions will be evaluated in parallel, and not sequentially. \n",
    "So how can I operate on columns I have just transformed?\n",
    "By chaining contexts!\n"
   ]
  },
  {
   "cell_type": "code",
   "execution_count": 340,
   "id": "chained-contexts",
   "metadata": {},
   "outputs": [
    {
     "data": {
      "text/html": [
       "<div><style>\n",
       ".dataframe > thead > tr,\n",
       ".dataframe > tbody > tr {\n",
       "  text-align: right;\n",
       "  white-space: pre-wrap;\n",
       "}\n",
       "</style>\n",
       "<small>shape: (3, 5)</small><table border=\"1\" class=\"dataframe\"><thead><tr><th>integer</th><th>date</th><th>float</th><th>string</th><th>ratio</th></tr><tr><td>i64</td><td>datetime[μs]</td><td>f64</td><td>str</td><td>f64</td></tr></thead><tbody><tr><td>1</td><td>2022-01-01 00:00:00</td><td>4.0</td><td>&quot;a&quot;</td><td>25.0</td></tr><tr><td>2</td><td>2022-01-02 00:00:00</td><td>5.0</td><td>&quot;b&quot;</td><td>40.0</td></tr><tr><td>3</td><td>2022-01-03 00:00:00</td><td>6.0</td><td>&quot;c&quot;</td><td>50.0</td></tr></tbody></table></div>"
      ],
      "text/plain": [
       "shape: (3, 5)\n",
       "┌─────────┬─────────────────────┬───────┬────────┬───────┐\n",
       "│ integer ┆ date                ┆ float ┆ string ┆ ratio │\n",
       "│ ---     ┆ ---                 ┆ ---   ┆ ---    ┆ ---   │\n",
       "│ i64     ┆ datetime[μs]        ┆ f64   ┆ str    ┆ f64   │\n",
       "╞═════════╪═════════════════════╪═══════╪════════╪═══════╡\n",
       "│ 1       ┆ 2022-01-01 00:00:00 ┆ 4.0   ┆ a      ┆ 25.0  │\n",
       "│ 2       ┆ 2022-01-02 00:00:00 ┆ 5.0   ┆ b      ┆ 40.0  │\n",
       "│ 3       ┆ 2022-01-03 00:00:00 ┆ 6.0   ┆ c      ┆ 50.0  │\n",
       "└─────────┴─────────────────────┴───────┴────────┴───────┘"
      ]
     },
     "execution_count": 332,
     "metadata": {},
     "output_type": "execute_result"
    }
   ],
   "source": [
    "#| label: chained-contexts\n",
    "(\n",
    "  df\n",
    "  .with_columns(\n",
    "    pl.col(\"integer\").truediv(pl.col(\"float\")).alias(\"ratio\")\n",
    "  )\n",
    "  .with_columns(\n",
    "    pl.col(\"ratio\").mul(100)\n",
    "  )\n",
    ")"
   ]
  },
  {
   "cell_type": "markdown",
   "id": "80971362",
   "metadata": {},
   "source": [
    "### Conditional Transformation (if-else)\n"
   ]
  },
  {
   "cell_type": "code",
   "execution_count": 341,
   "id": "conditional-transformation",
   "metadata": {},
   "outputs": [
    {
     "data": {
      "text/html": [
       "<div><style>\n",
       ".dataframe > thead > tr,\n",
       ".dataframe > tbody > tr {\n",
       "  text-align: right;\n",
       "  white-space: pre-wrap;\n",
       "}\n",
       "</style>\n",
       "<small>shape: (3, 5)</small><table border=\"1\" class=\"dataframe\"><thead><tr><th>integer</th><th>date</th><th>float</th><th>string</th><th>new_col</th></tr><tr><td>i64</td><td>datetime[μs]</td><td>f64</td><td>str</td><td>i64</td></tr></thead><tbody><tr><td>1</td><td>2022-01-01 00:00:00</td><td>4.0</td><td>&quot;a&quot;</td><td>1</td></tr><tr><td>2</td><td>2022-01-02 00:00:00</td><td>5.0</td><td>&quot;b&quot;</td><td>2</td></tr><tr><td>3</td><td>2022-01-03 00:00:00</td><td>6.0</td><td>&quot;c&quot;</td><td>1</td></tr></tbody></table></div>"
      ],
      "text/plain": [
       "shape: (3, 5)\n",
       "┌─────────┬─────────────────────┬───────┬────────┬─────────┐\n",
       "│ integer ┆ date                ┆ float ┆ string ┆ new_col │\n",
       "│ ---     ┆ ---                 ┆ ---   ┆ ---    ┆ ---     │\n",
       "│ i64     ┆ datetime[μs]        ┆ f64   ┆ str    ┆ i64     │\n",
       "╞═════════╪═════════════════════╪═══════╪════════╪═════════╡\n",
       "│ 1       ┆ 2022-01-01 00:00:00 ┆ 4.0   ┆ a      ┆ 1       │\n",
       "│ 2       ┆ 2022-01-02 00:00:00 ┆ 5.0   ┆ b      ┆ 2       │\n",
       "│ 3       ┆ 2022-01-03 00:00:00 ┆ 6.0   ┆ c      ┆ 1       │\n",
       "└─────────┴─────────────────────┴───────┴────────┴─────────┘"
      ]
     },
     "execution_count": 333,
     "metadata": {},
     "output_type": "execute_result"
    }
   ],
   "source": [
    "#| label: conditional-transformation\n",
    "df.with_columns(\n",
    "    pl.when(\n",
    "      pl.col(\"integer\").gt(2)\n",
    "    )\n",
    "    .then(pl.lit(1))\n",
    "    .otherwise(pl.col(\"integer\"))\n",
    "    .alias(\"new_col\")\n",
    ")"
   ]
  },
  {
   "cell_type": "markdown",
   "id": "de25075c",
   "metadata": {},
   "source": [
    "Things to note:\n",
    "\n",
    "-  The `otherwise()` method is optional. If omitted, the original column will be returned (see next example).\n",
    "-  `pl.lit(1)` is a Polars expression that returns the literal 1. It may be ommited, but it is good practice to include it for clarity and safety.\n",
    "-  `pl.col(\"integer\").gt(2)` could have been replaced with `pl.col(\"integer\") > 2`. I like the former because it allows easier composition of conditions.\n"
   ]
  },
  {
   "cell_type": "code",
   "execution_count": 342,
   "id": "6cc5698d",
   "metadata": {},
   "outputs": [
    {
     "data": {
      "text/html": [
       "<div><style>\n",
       ".dataframe > thead > tr,\n",
       ".dataframe > tbody > tr {\n",
       "  text-align: right;\n",
       "  white-space: pre-wrap;\n",
       "}\n",
       "</style>\n",
       "<small>shape: (3, 5)</small><table border=\"1\" class=\"dataframe\"><thead><tr><th>integer</th><th>date</th><th>float</th><th>string</th><th>new_col</th></tr><tr><td>i64</td><td>datetime[μs]</td><td>f64</td><td>str</td><td>i64</td></tr></thead><tbody><tr><td>1</td><td>2022-01-01 00:00:00</td><td>4.0</td><td>&quot;a&quot;</td><td>1</td></tr><tr><td>2</td><td>2022-01-02 00:00:00</td><td>5.0</td><td>&quot;b&quot;</td><td>2</td></tr><tr><td>3</td><td>2022-01-03 00:00:00</td><td>6.0</td><td>&quot;c&quot;</td><td>1</td></tr></tbody></table></div>"
      ],
      "text/plain": [
       "shape: (3, 5)\n",
       "┌─────────┬─────────────────────┬───────┬────────┬─────────┐\n",
       "│ integer ┆ date                ┆ float ┆ string ┆ new_col │\n",
       "│ ---     ┆ ---                 ┆ ---   ┆ ---    ┆ ---     │\n",
       "│ i64     ┆ datetime[μs]        ┆ f64   ┆ str    ┆ i64     │\n",
       "╞═════════╪═════════════════════╪═══════╪════════╪═════════╡\n",
       "│ 1       ┆ 2022-01-01 00:00:00 ┆ 4.0   ┆ a      ┆ 1       │\n",
       "│ 2       ┆ 2022-01-02 00:00:00 ┆ 5.0   ┆ b      ┆ 2       │\n",
       "│ 3       ┆ 2022-01-03 00:00:00 ┆ 6.0   ┆ c      ┆ 1       │\n",
       "└─────────┴─────────────────────┴───────┴────────┴─────────┘"
      ]
     },
     "execution_count": 334,
     "metadata": {},
     "output_type": "execute_result"
    }
   ],
   "source": [
    "df.with_columns(\n",
    "    pl.when(\n",
    "      pl.col(\"integer\") > 2\n",
    "    )\n",
    "    .then(1)\n",
    "    .otherwise(pl.col(\"integer\"))\n",
    "    .alias(\"new_col\")\n",
    ")"
   ]
  },
  {
   "cell_type": "markdown",
   "id": "99a10c1f",
   "metadata": {},
   "source": [
    "### Python Lambda Functions\n",
    "\n",
    "Apply your own lambda function."
   ]
  },
  {
   "cell_type": "code",
   "execution_count": 343,
   "id": "b03ed06a",
   "metadata": {},
   "outputs": [
    {
     "data": {
      "text/html": [
       "<div><style>\n",
       ".dataframe > thead > tr,\n",
       ".dataframe > tbody > tr {\n",
       "  text-align: right;\n",
       "  white-space: pre-wrap;\n",
       "}\n",
       "</style>\n",
       "<small>shape: (3, 1)</small><table border=\"1\" class=\"dataframe\"><thead><tr><th>map</th></tr><tr><td>f64</td></tr></thead><tbody><tr><td>5.0</td></tr><tr><td>7.0</td></tr><tr><td>9.0</td></tr></tbody></table></div>"
      ],
      "text/plain": [
       "shape: (3, 1)\n",
       "┌─────┐\n",
       "│ map │\n",
       "│ --- │\n",
       "│ f64 │\n",
       "╞═════╡\n",
       "│ 5.0 │\n",
       "│ 7.0 │\n",
       "│ 9.0 │\n",
       "└─────┘"
      ]
     },
     "execution_count": 335,
     "metadata": {},
     "output_type": "execute_result"
    }
   ],
   "source": [
    "df.select([pl.col(\"integer\"), pl.col(\"float\")]).map_rows(lambda x: x[0] + x[1])"
   ]
  },
  {
   "cell_type": "markdown",
   "id": "b62818c6",
   "metadata": {},
   "source": [
    "As usual, using your own functions may have a very serious toll on performance.\n"
   ]
  },
  {
   "cell_type": "code",
   "execution_count": 344,
   "id": "8dec75db",
   "metadata": {},
   "outputs": [],
   "source": [
    "df_big = pl.DataFrame(np.random.randn(1000000, 2), schema=[\"a\", \"b\"]) # previous versions used columns= instead of schema="
   ]
  },
  {
   "cell_type": "code",
   "execution_count": 345,
   "id": "b523a560",
   "metadata": {},
   "outputs": [
    {
     "name": "stdout",
     "output_type": "stream",
     "text": [
      "1.43 ms ± 295 µs per loop (mean ± std. dev. of 2 runs, 2 loops each)\n"
     ]
    }
   ],
   "source": [
    "%timeit -n2 -r2 df_big.sum_horizontal()"
   ]
  },
  {
   "cell_type": "code",
   "execution_count": 346,
   "id": "601baf59",
   "metadata": {},
   "outputs": [
    {
     "name": "stdout",
     "output_type": "stream",
     "text": [
      "225 ms ± 8.92 ms per loop (mean ± std. dev. of 2 runs, 2 loops each)\n"
     ]
    }
   ],
   "source": [
    "%timeit -n2 -r2 df_big.map_rows(lambda x: x[0] + x[1])"
   ]
  },
  {
   "cell_type": "markdown",
   "id": "25cd71a4",
   "metadata": {},
   "source": [
    "### Numpy Ufuncs\n",
    "\n",
    "You can use Numpy's universal functions (ufuncs) on Polars frames. \n",
    "There is little overhead in using Numpy ufuncs.\n",
    "\n",
    "- See [here](https://docs.pola.rs/user-guide/expressions/numpy/) to use Numpy   ufuncs in Polars.\n",
    "- See [here](https://www.w3schools.com/python/numpy/numpy_ufunc_create_function.asp) to create your own Numpy ufunc's.\n",
    "\n",
    "Applying off-the-shelf Numpy ufuncs is as simple.\n"
   ]
  },
  {
   "cell_type": "code",
   "execution_count": 347,
   "id": "numpy-ufunc",
   "metadata": {},
   "outputs": [
    {
     "data": {
      "text/html": [
       "<div><style>\n",
       ".dataframe > thead > tr,\n",
       ".dataframe > tbody > tr {\n",
       "  text-align: right;\n",
       "  white-space: pre-wrap;\n",
       "}\n",
       "</style>\n",
       "<small>shape: (3, 1)</small><table border=\"1\" class=\"dataframe\"><thead><tr><th>integer</th></tr><tr><td>f64</td></tr></thead><tbody><tr><td>0.841471</td></tr><tr><td>0.909297</td></tr><tr><td>0.14112</td></tr></tbody></table></div>"
      ],
      "text/plain": [
       "shape: (3, 1)\n",
       "┌──────────┐\n",
       "│ integer  │\n",
       "│ ---      │\n",
       "│ f64      │\n",
       "╞══════════╡\n",
       "│ 0.841471 │\n",
       "│ 0.909297 │\n",
       "│ 0.14112  │\n",
       "└──────────┘"
      ]
     },
     "execution_count": 339,
     "metadata": {},
     "output_type": "execute_result"
    }
   ],
   "source": [
    "#| label: numpy-ufunc\n",
    "\n",
    "df.select(pl.col('integer').pipe(np.sin))\n",
    "# the same as \n",
    "# df.select(np.sin(pl.col('integer')))"
   ]
  },
  {
   "cell_type": "markdown",
   "id": "7df46cc1",
   "metadata": {},
   "source": [
    "Writing your own Numpy ufunc is easy. "
   ]
  },
  {
   "cell_type": "code",
   "execution_count": 348,
   "id": "numpy-ufunc-2",
   "metadata": {},
   "outputs": [
    {
     "data": {
      "text/html": [
       "<div><style>\n",
       ".dataframe > thead > tr,\n",
       ".dataframe > tbody > tr {\n",
       "  text-align: right;\n",
       "  white-space: pre-wrap;\n",
       "}\n",
       "</style>\n",
       "<small>shape: (3, 1)</small><table border=\"1\" class=\"dataframe\"><thead><tr><th>float</th></tr><tr><td>f64</td></tr></thead><tbody><tr><td>25.0</td></tr><tr><td>36.0</td></tr><tr><td>49.0</td></tr></tbody></table></div>"
      ],
      "text/plain": [
       "shape: (3, 1)\n",
       "┌───────┐\n",
       "│ float │\n",
       "│ ---   │\n",
       "│ f64   │\n",
       "╞═══════╡\n",
       "│ 25.0  │\n",
       "│ 36.0  │\n",
       "│ 49.0  │\n",
       "└───────┘"
      ]
     },
     "execution_count": 340,
     "metadata": {},
     "output_type": "execute_result"
    }
   ],
   "source": [
    "#| label: numpy-ufunc-2\n",
    "\n",
    "def myfunc(x):\n",
    "  return x**2 + 2*x + 1\n",
    "\n",
    "# make myfunc a ufunc\n",
    "myfunc_ufunc = np.frompyfunc(myfunc, 1, 1)\n",
    "\n",
    "df.select(\n",
    "  pl.col('float').pipe(myfunc_ufunc, casting='unsafe')\n",
    "  )"
   ]
  },
  {
   "cell_type": "markdown",
   "id": "444a77c4",
   "metadata": {},
   "source": [
    "Things to note:\n",
    "\n",
    "- My Ufunc is created with `np.frompyfunc()`. It could have also been created with `np.vectorize()`.\n",
    "- The `casting='unsafe'` argument is required, to deal with dtype mismatch. There could be a more elegant way, but I did not find it. \n",
    "- Calling a **Ufunc with multiple arguments** is slightly more involved, and I currently did not find a \"clean\" solution. \n",
    "\n",
    "\n",
    "\n",
    "\n",
    "\n",
    "## Uniques and Duplicates\n",
    "\n",
    "Keep uniques; same as `pd.drop_duplicates()`.\n"
   ]
  },
  {
   "cell_type": "code",
   "execution_count": 349,
   "id": "dataframe-unique",
   "metadata": {},
   "outputs": [
    {
     "data": {
      "text/html": [
       "<div><style>\n",
       ".dataframe > thead > tr,\n",
       ".dataframe > tbody > tr {\n",
       "  text-align: right;\n",
       "  white-space: pre-wrap;\n",
       "}\n",
       "</style>\n",
       "<small>shape: (3, 4)</small><table border=\"1\" class=\"dataframe\"><thead><tr><th>integer</th><th>date</th><th>float</th><th>string</th></tr><tr><td>i64</td><td>datetime[μs]</td><td>f64</td><td>str</td></tr></thead><tbody><tr><td>2</td><td>2022-01-02 00:00:00</td><td>5.0</td><td>&quot;b&quot;</td></tr><tr><td>1</td><td>2022-01-01 00:00:00</td><td>4.0</td><td>&quot;a&quot;</td></tr><tr><td>3</td><td>2022-01-03 00:00:00</td><td>6.0</td><td>&quot;c&quot;</td></tr></tbody></table></div>"
      ],
      "text/plain": [
       "shape: (3, 4)\n",
       "┌─────────┬─────────────────────┬───────┬────────┐\n",
       "│ integer ┆ date                ┆ float ┆ string │\n",
       "│ ---     ┆ ---                 ┆ ---   ┆ ---    │\n",
       "│ i64     ┆ datetime[μs]        ┆ f64   ┆ str    │\n",
       "╞═════════╪═════════════════════╪═══════╪════════╡\n",
       "│ 2       ┆ 2022-01-02 00:00:00 ┆ 5.0   ┆ b      │\n",
       "│ 1       ┆ 2022-01-01 00:00:00 ┆ 4.0   ┆ a      │\n",
       "│ 3       ┆ 2022-01-03 00:00:00 ┆ 6.0   ┆ c      │\n",
       "└─────────┴─────────────────────┴───────┴────────┘"
      ]
     },
     "execution_count": 341,
     "metadata": {},
     "output_type": "execute_result"
    }
   ],
   "source": [
    "#| label: dataframe-unique\n",
    "df.unique() "
   ]
  },
  {
   "cell_type": "markdown",
   "id": "17e28692",
   "metadata": {},
   "source": [
    "Can be used with column subset"
   ]
  },
  {
   "cell_type": "code",
   "execution_count": 350,
   "id": "dataframe-unique-subset",
   "metadata": {},
   "outputs": [
    {
     "data": {
      "text/html": [
       "<div><style>\n",
       ".dataframe > thead > tr,\n",
       ".dataframe > tbody > tr {\n",
       "  text-align: right;\n",
       "  white-space: pre-wrap;\n",
       "}\n",
       "</style>\n",
       "<small>shape: (3, 4)</small><table border=\"1\" class=\"dataframe\"><thead><tr><th>integer</th><th>date</th><th>float</th><th>string</th></tr><tr><td>i64</td><td>datetime[μs]</td><td>f64</td><td>str</td></tr></thead><tbody><tr><td>3</td><td>2022-01-03 00:00:00</td><td>6.0</td><td>&quot;c&quot;</td></tr><tr><td>2</td><td>2022-01-02 00:00:00</td><td>5.0</td><td>&quot;b&quot;</td></tr><tr><td>1</td><td>2022-01-01 00:00:00</td><td>4.0</td><td>&quot;a&quot;</td></tr></tbody></table></div>"
      ],
      "text/plain": [
       "shape: (3, 4)\n",
       "┌─────────┬─────────────────────┬───────┬────────┐\n",
       "│ integer ┆ date                ┆ float ┆ string │\n",
       "│ ---     ┆ ---                 ┆ ---   ┆ ---    │\n",
       "│ i64     ┆ datetime[μs]        ┆ f64   ┆ str    │\n",
       "╞═════════╪═════════════════════╪═══════╪════════╡\n",
       "│ 3       ┆ 2022-01-03 00:00:00 ┆ 6.0   ┆ c      │\n",
       "│ 2       ┆ 2022-01-02 00:00:00 ┆ 5.0   ┆ b      │\n",
       "│ 1       ┆ 2022-01-01 00:00:00 ┆ 4.0   ┆ a      │\n",
       "└─────────┴─────────────────────┴───────┴────────┘"
      ]
     },
     "execution_count": 342,
     "metadata": {},
     "output_type": "execute_result"
    }
   ],
   "source": [
    "#| label: dataframe-unique-subset\n",
    "df.unique([\"integer\", \"float\"])"
   ]
  },
  {
   "cell_type": "code",
   "execution_count": 351,
   "id": "53cabecc",
   "metadata": {},
   "outputs": [
    {
     "data": {
      "text/html": [
       "<div><style>\n",
       ".dataframe > thead > tr,\n",
       ".dataframe > tbody > tr {\n",
       "  text-align: right;\n",
       "  white-space: pre-wrap;\n",
       "}\n",
       "</style>\n",
       "<small>shape: (3,)</small><table border=\"1\" class=\"dataframe\"><thead><tr><th></th></tr><tr><td>bool</td></tr></thead><tbody><tr><td>true</td></tr><tr><td>true</td></tr><tr><td>true</td></tr></tbody></table></div>"
      ],
      "text/plain": [
       "shape: (3,)\n",
       "Series: '' [bool]\n",
       "[\n",
       "\ttrue\n",
       "\ttrue\n",
       "\ttrue\n",
       "]"
      ]
     },
     "execution_count": 343,
     "metadata": {},
     "output_type": "execute_result"
    }
   ],
   "source": [
    "df.is_unique()"
   ]
  },
  {
   "cell_type": "code",
   "execution_count": 352,
   "id": "9d7666da",
   "metadata": {},
   "outputs": [
    {
     "data": {
      "text/html": [
       "<div><style>\n",
       ".dataframe > thead > tr,\n",
       ".dataframe > tbody > tr {\n",
       "  text-align: right;\n",
       "  white-space: pre-wrap;\n",
       "}\n",
       "</style>\n",
       "<small>shape: (3,)</small><table border=\"1\" class=\"dataframe\"><thead><tr><th></th></tr><tr><td>bool</td></tr></thead><tbody><tr><td>false</td></tr><tr><td>false</td></tr><tr><td>false</td></tr></tbody></table></div>"
      ],
      "text/plain": [
       "shape: (3,)\n",
       "Series: '' [bool]\n",
       "[\n",
       "\tfalse\n",
       "\tfalse\n",
       "\tfalse\n",
       "]"
      ]
     },
     "execution_count": 344,
     "metadata": {},
     "output_type": "execute_result"
    }
   ],
   "source": [
    "df.is_duplicated()"
   ]
  },
  {
   "cell_type": "code",
   "execution_count": 353,
   "id": "24bb556b",
   "metadata": {},
   "outputs": [
    {
     "data": {
      "text/plain": [
       "3"
      ]
     },
     "execution_count": 345,
     "metadata": {},
     "output_type": "execute_result"
    }
   ],
   "source": [
    "df.n_unique()"
   ]
  },
  {
   "cell_type": "markdown",
   "id": "c61cfbab",
   "metadata": {},
   "source": [
    "## Missing\n",
    "\n",
    "Make some data with missing. \n"
   ]
  },
  {
   "cell_type": "code",
   "execution_count": 354,
   "id": "make-dataframe-with-nulls",
   "metadata": {},
   "outputs": [],
   "source": [
    "#| label: make-dataframe-with-nulls\n",
    "df_with_nulls = df.with_columns(\n",
    "    null_1 = pl.Series(\"missing\", [3, None, np.nan]),\n",
    "    null_2 = pl.Series(\"missing\", [None, 5, 6]),\n",
    ")"
   ]
  },
  {
   "cell_type": "code",
   "execution_count": 355,
   "id": "dataframe-with-nulls",
   "metadata": {},
   "outputs": [
    {
     "data": {
      "text/html": [
       "<div><style>\n",
       ".dataframe > thead > tr,\n",
       ".dataframe > tbody > tr {\n",
       "  text-align: right;\n",
       "  white-space: pre-wrap;\n",
       "}\n",
       "</style>\n",
       "<small>shape: (1, 6)</small><table border=\"1\" class=\"dataframe\"><thead><tr><th>integer</th><th>date</th><th>float</th><th>string</th><th>null_1</th><th>null_2</th></tr><tr><td>u32</td><td>u32</td><td>u32</td><td>u32</td><td>u32</td><td>u32</td></tr></thead><tbody><tr><td>0</td><td>0</td><td>0</td><td>0</td><td>1</td><td>1</td></tr></tbody></table></div>"
      ],
      "text/plain": [
       "shape: (1, 6)\n",
       "┌─────────┬──────┬───────┬────────┬────────┬────────┐\n",
       "│ integer ┆ date ┆ float ┆ string ┆ null_1 ┆ null_2 │\n",
       "│ ---     ┆ ---  ┆ ---   ┆ ---    ┆ ---    ┆ ---    │\n",
       "│ u32     ┆ u32  ┆ u32   ┆ u32    ┆ u32    ┆ u32    │\n",
       "╞═════════╪══════╪═══════╪════════╪════════╪════════╡\n",
       "│ 0       ┆ 0    ┆ 0     ┆ 0      ┆ 1      ┆ 1      │\n",
       "└─────────┴──────┴───────┴────────┴────────┴────────┘"
      ]
     },
     "execution_count": 347,
     "metadata": {},
     "output_type": "execute_result"
    }
   ],
   "source": [
    "#| label: dataframe-with-nulls\n",
    "df_with_nulls.null_count() # same as pd.isnull().sum()"
   ]
  },
  {
   "cell_type": "code",
   "execution_count": 356,
   "id": "df-drop-nulls",
   "metadata": {},
   "outputs": [
    {
     "data": {
      "text/html": [
       "<div><style>\n",
       ".dataframe > thead > tr,\n",
       ".dataframe > tbody > tr {\n",
       "  text-align: right;\n",
       "  white-space: pre-wrap;\n",
       "}\n",
       "</style>\n",
       "<small>shape: (1, 6)</small><table border=\"1\" class=\"dataframe\"><thead><tr><th>integer</th><th>date</th><th>float</th><th>string</th><th>null_1</th><th>null_2</th></tr><tr><td>i64</td><td>datetime[μs]</td><td>f64</td><td>str</td><td>f64</td><td>i64</td></tr></thead><tbody><tr><td>3</td><td>2022-01-03 00:00:00</td><td>6.0</td><td>&quot;c&quot;</td><td>NaN</td><td>6</td></tr></tbody></table></div>"
      ],
      "text/plain": [
       "shape: (1, 6)\n",
       "┌─────────┬─────────────────────┬───────┬────────┬────────┬────────┐\n",
       "│ integer ┆ date                ┆ float ┆ string ┆ null_1 ┆ null_2 │\n",
       "│ ---     ┆ ---                 ┆ ---   ┆ ---    ┆ ---    ┆ ---    │\n",
       "│ i64     ┆ datetime[μs]        ┆ f64   ┆ str    ┆ f64    ┆ i64    │\n",
       "╞═════════╪═════════════════════╪═══════╪════════╪════════╪════════╡\n",
       "│ 3       ┆ 2022-01-03 00:00:00 ┆ 6.0   ┆ c      ┆ NaN    ┆ 6      │\n",
       "└─────────┴─────────────────────┴───────┴────────┴────────┴────────┘"
      ]
     },
     "execution_count": 348,
     "metadata": {},
     "output_type": "execute_result"
    }
   ],
   "source": [
    "#| label: df-drop-nulls\n",
    "df_with_nulls.drop_nulls() # same as pd.dropna()"
   ]
  },
  {
   "cell_type": "markdown",
   "id": "7da17dde",
   "metadata": {},
   "source": [
    "Can I also drop `np.nan`'s? \n",
    "There is no `drop_nan()` method. \n",
    "See [StackOverflow](https://stackoverflow.com/questions/75548444/Polars-dataframe-drop-nans) for workarounds.\n"
   ]
  },
  {
   "cell_type": "code",
   "execution_count": 357,
   "id": "df-fill-nulls",
   "metadata": {},
   "outputs": [
    {
     "data": {
      "text/html": [
       "<div><style>\n",
       ".dataframe > thead > tr,\n",
       ".dataframe > tbody > tr {\n",
       "  text-align: right;\n",
       "  white-space: pre-wrap;\n",
       "}\n",
       "</style>\n",
       "<small>shape: (3, 6)</small><table border=\"1\" class=\"dataframe\"><thead><tr><th>integer</th><th>date</th><th>float</th><th>string</th><th>null_1</th><th>null_2</th></tr><tr><td>i64</td><td>datetime[μs]</td><td>f64</td><td>str</td><td>f64</td><td>i64</td></tr></thead><tbody><tr><td>1</td><td>2022-01-01 00:00:00</td><td>4.0</td><td>&quot;a&quot;</td><td>3.0</td><td>0</td></tr><tr><td>2</td><td>2022-01-02 00:00:00</td><td>5.0</td><td>&quot;b&quot;</td><td>0.0</td><td>5</td></tr><tr><td>3</td><td>2022-01-03 00:00:00</td><td>6.0</td><td>&quot;c&quot;</td><td>NaN</td><td>6</td></tr></tbody></table></div>"
      ],
      "text/plain": [
       "shape: (3, 6)\n",
       "┌─────────┬─────────────────────┬───────┬────────┬────────┬────────┐\n",
       "│ integer ┆ date                ┆ float ┆ string ┆ null_1 ┆ null_2 │\n",
       "│ ---     ┆ ---                 ┆ ---   ┆ ---    ┆ ---    ┆ ---    │\n",
       "│ i64     ┆ datetime[μs]        ┆ f64   ┆ str    ┆ f64    ┆ i64    │\n",
       "╞═════════╪═════════════════════╪═══════╪════════╪════════╪════════╡\n",
       "│ 1       ┆ 2022-01-01 00:00:00 ┆ 4.0   ┆ a      ┆ 3.0    ┆ 0      │\n",
       "│ 2       ┆ 2022-01-02 00:00:00 ┆ 5.0   ┆ b      ┆ 0.0    ┆ 5      │\n",
       "│ 3       ┆ 2022-01-03 00:00:00 ┆ 6.0   ┆ c      ┆ NaN    ┆ 6      │\n",
       "└─────────┴─────────────────────┴───────┴────────┴────────┴────────┘"
      ]
     },
     "execution_count": 349,
     "metadata": {},
     "output_type": "execute_result"
    }
   ],
   "source": [
    "#| label: df-fill-nulls\n",
    "df_with_nulls.fill_null(0) # same as pd.fillna(0)"
   ]
  },
  {
   "cell_type": "markdown",
   "id": "3454707f",
   "metadata": {},
   "source": [
    "But recall that `None` and `np.nan` are not the same thing."
   ]
  },
  {
   "cell_type": "code",
   "execution_count": 358,
   "id": "df-fill-nans",
   "metadata": {},
   "outputs": [
    {
     "data": {
      "text/html": [
       "<div><style>\n",
       ".dataframe > thead > tr,\n",
       ".dataframe > tbody > tr {\n",
       "  text-align: right;\n",
       "  white-space: pre-wrap;\n",
       "}\n",
       "</style>\n",
       "<small>shape: (3, 6)</small><table border=\"1\" class=\"dataframe\"><thead><tr><th>integer</th><th>date</th><th>float</th><th>string</th><th>null_1</th><th>null_2</th></tr><tr><td>i64</td><td>datetime[μs]</td><td>f64</td><td>str</td><td>f64</td><td>i64</td></tr></thead><tbody><tr><td>1</td><td>2022-01-01 00:00:00</td><td>4.0</td><td>&quot;a&quot;</td><td>3.0</td><td>null</td></tr><tr><td>2</td><td>2022-01-02 00:00:00</td><td>5.0</td><td>&quot;b&quot;</td><td>null</td><td>5</td></tr><tr><td>3</td><td>2022-01-03 00:00:00</td><td>6.0</td><td>&quot;c&quot;</td><td>99.0</td><td>6</td></tr></tbody></table></div>"
      ],
      "text/plain": [
       "shape: (3, 6)\n",
       "┌─────────┬─────────────────────┬───────┬────────┬────────┬────────┐\n",
       "│ integer ┆ date                ┆ float ┆ string ┆ null_1 ┆ null_2 │\n",
       "│ ---     ┆ ---                 ┆ ---   ┆ ---    ┆ ---    ┆ ---    │\n",
       "│ i64     ┆ datetime[μs]        ┆ f64   ┆ str    ┆ f64    ┆ i64    │\n",
       "╞═════════╪═════════════════════╪═══════╪════════╪════════╪════════╡\n",
       "│ 1       ┆ 2022-01-01 00:00:00 ┆ 4.0   ┆ a      ┆ 3.0    ┆ null   │\n",
       "│ 2       ┆ 2022-01-02 00:00:00 ┆ 5.0   ┆ b      ┆ null   ┆ 5      │\n",
       "│ 3       ┆ 2022-01-03 00:00:00 ┆ 6.0   ┆ c      ┆ 99.0   ┆ 6      │\n",
       "└─────────┴─────────────────────┴───────┴────────┴────────┴────────┘"
      ]
     },
     "execution_count": 350,
     "metadata": {},
     "output_type": "execute_result"
    }
   ],
   "source": [
    "#| label: df-fill-nans\n",
    "df_with_nulls.fill_nan(99)"
   ]
  },
  {
   "cell_type": "code",
   "execution_count": 359,
   "id": "df-null-interpolate",
   "metadata": {},
   "outputs": [
    {
     "data": {
      "text/html": [
       "<div><style>\n",
       ".dataframe > thead > tr,\n",
       ".dataframe > tbody > tr {\n",
       "  text-align: right;\n",
       "  white-space: pre-wrap;\n",
       "}\n",
       "</style>\n",
       "<small>shape: (3, 6)</small><table border=\"1\" class=\"dataframe\"><thead><tr><th>integer</th><th>date</th><th>float</th><th>string</th><th>null_1</th><th>null_2</th></tr><tr><td>f64</td><td>datetime[μs]</td><td>f64</td><td>str</td><td>f64</td><td>f64</td></tr></thead><tbody><tr><td>1.0</td><td>2022-01-01 00:00:00</td><td>4.0</td><td>&quot;a&quot;</td><td>3.0</td><td>null</td></tr><tr><td>2.0</td><td>2022-01-02 00:00:00</td><td>5.0</td><td>&quot;b&quot;</td><td>NaN</td><td>5.0</td></tr><tr><td>3.0</td><td>2022-01-03 00:00:00</td><td>6.0</td><td>&quot;c&quot;</td><td>NaN</td><td>6.0</td></tr></tbody></table></div>"
      ],
      "text/plain": [
       "shape: (3, 6)\n",
       "┌─────────┬─────────────────────┬───────┬────────┬────────┬────────┐\n",
       "│ integer ┆ date                ┆ float ┆ string ┆ null_1 ┆ null_2 │\n",
       "│ ---     ┆ ---                 ┆ ---   ┆ ---    ┆ ---    ┆ ---    │\n",
       "│ f64     ┆ datetime[μs]        ┆ f64   ┆ str    ┆ f64    ┆ f64    │\n",
       "╞═════════╪═════════════════════╪═══════╪════════╪════════╪════════╡\n",
       "│ 1.0     ┆ 2022-01-01 00:00:00 ┆ 4.0   ┆ a      ┆ 3.0    ┆ null   │\n",
       "│ 2.0     ┆ 2022-01-02 00:00:00 ┆ 5.0   ┆ b      ┆ NaN    ┆ 5.0    │\n",
       "│ 3.0     ┆ 2022-01-03 00:00:00 ┆ 6.0   ┆ c      ┆ NaN    ┆ 6.0    │\n",
       "└─────────┴─────────────────────┴───────┴────────┴────────┴────────┘"
      ]
     },
     "execution_count": 351,
     "metadata": {},
     "output_type": "execute_result"
    }
   ],
   "source": [
    "#| label: df-null-interpolate\n",
    "df_with_nulls.interpolate()"
   ]
  },
  {
   "cell_type": "markdown",
   "id": "b192a66a",
   "metadata": {},
   "source": [
    "## Sorting\n"
   ]
  },
  {
   "cell_type": "code",
   "execution_count": 360,
   "id": "046f7e78",
   "metadata": {},
   "outputs": [
    {
     "data": {
      "text/html": [
       "<div><style>\n",
       ".dataframe > thead > tr,\n",
       ".dataframe > tbody > tr {\n",
       "  text-align: right;\n",
       "  white-space: pre-wrap;\n",
       "}\n",
       "</style>\n",
       "<small>shape: (3, 4)</small><table border=\"1\" class=\"dataframe\"><thead><tr><th>integer</th><th>date</th><th>float</th><th>string</th></tr><tr><td>i64</td><td>datetime[μs]</td><td>f64</td><td>str</td></tr></thead><tbody><tr><td>1</td><td>2022-01-01 00:00:00</td><td>4.0</td><td>&quot;a&quot;</td></tr><tr><td>2</td><td>2022-01-02 00:00:00</td><td>5.0</td><td>&quot;b&quot;</td></tr><tr><td>3</td><td>2022-01-03 00:00:00</td><td>6.0</td><td>&quot;c&quot;</td></tr></tbody></table></div>"
      ],
      "text/plain": [
       "shape: (3, 4)\n",
       "┌─────────┬─────────────────────┬───────┬────────┐\n",
       "│ integer ┆ date                ┆ float ┆ string │\n",
       "│ ---     ┆ ---                 ┆ ---   ┆ ---    │\n",
       "│ i64     ┆ datetime[μs]        ┆ f64   ┆ str    │\n",
       "╞═════════╪═════════════════════╪═══════╪════════╡\n",
       "│ 1       ┆ 2022-01-01 00:00:00 ┆ 4.0   ┆ a      │\n",
       "│ 2       ┆ 2022-01-02 00:00:00 ┆ 5.0   ┆ b      │\n",
       "│ 3       ┆ 2022-01-03 00:00:00 ┆ 6.0   ┆ c      │\n",
       "└─────────┴─────────────────────┴───────┴────────┘"
      ]
     },
     "execution_count": 352,
     "metadata": {},
     "output_type": "execute_result"
    }
   ],
   "source": [
    "df.sort(by=[\"integer\",\"float\"])"
   ]
  },
  {
   "cell_type": "code",
   "execution_count": 361,
   "id": "23d91ca8",
   "metadata": {},
   "outputs": [
    {
     "data": {
      "text/html": [
       "<div><style>\n",
       ".dataframe > thead > tr,\n",
       ".dataframe > tbody > tr {\n",
       "  text-align: right;\n",
       "  white-space: pre-wrap;\n",
       "}\n",
       "</style>\n",
       "<small>shape: (3, 4)</small><table border=\"1\" class=\"dataframe\"><thead><tr><th>integer</th><th>date</th><th>float</th><th>string</th></tr><tr><td>i64</td><td>datetime[μs]</td><td>f64</td><td>str</td></tr></thead><tbody><tr><td>3</td><td>2022-01-03 00:00:00</td><td>6.0</td><td>&quot;c&quot;</td></tr><tr><td>2</td><td>2022-01-02 00:00:00</td><td>5.0</td><td>&quot;b&quot;</td></tr><tr><td>1</td><td>2022-01-01 00:00:00</td><td>4.0</td><td>&quot;a&quot;</td></tr></tbody></table></div>"
      ],
      "text/plain": [
       "shape: (3, 4)\n",
       "┌─────────┬─────────────────────┬───────┬────────┐\n",
       "│ integer ┆ date                ┆ float ┆ string │\n",
       "│ ---     ┆ ---                 ┆ ---   ┆ ---    │\n",
       "│ i64     ┆ datetime[μs]        ┆ f64   ┆ str    │\n",
       "╞═════════╪═════════════════════╪═══════╪════════╡\n",
       "│ 3       ┆ 2022-01-03 00:00:00 ┆ 6.0   ┆ c      │\n",
       "│ 2       ┆ 2022-01-02 00:00:00 ┆ 5.0   ┆ b      │\n",
       "│ 1       ┆ 2022-01-01 00:00:00 ┆ 4.0   ┆ a      │\n",
       "└─────────┴─────────────────────┴───────┴────────┘"
      ]
     },
     "execution_count": 353,
     "metadata": {},
     "output_type": "execute_result"
    }
   ],
   "source": [
    "df.reverse()"
   ]
  },
  {
   "cell_type": "markdown",
   "id": "da195416",
   "metadata": {},
   "source": [
    "## Groupby\n",
    "\n",
    "High level:\n",
    "\n",
    "-   `df.group_by()` is a **context**, for grouping. Just like Pandas, only parallelized, etc. The output will have as many rows as the number of groups.\n",
    "-   `df.partion_by()` will return a **list** of frames.\n",
    "-   `pl.col().expression().over()` is like Pandas `df.groupby.transform()`: will will not collapse rows in the original frame. Rather, it will assign each row in the original frame with the aggregate in the group. The output will have the same number of rows as the input. \n",
    "\n",
    "Grouping over time:\n",
    "\n",
    "-   `df.grouby_rolling()` for rolling window grouping, a.k.a. a sliding window. Each row will be assigned the aggregate in the window.\n",
    "-   `df.group_by_dynamic()` for dynamic grouping. Each period will be assigned the agregate in the period. The output may have more rows than the input.\n",
    "\n",
    "\n",
    "\n",
    "The `group_by()` context will be followed by an aggregation:\n",
    "\n",
    "1.   `df.group_by().agg()`: an aggregating context. \n",
    "2.   `df.group_by().apply()`: deprecated and replaced by `df.group_by().map_groups()`.\n",
    "3.   `df.group_by().map_groups()`: to apply your own function to each group.\n",
    "\n",
    "See the [API reference](https://docs.pola.rs/py-polars/html/reference/dataframe/api/polars.DataFrame.group_by.html) for the various options. \n",
    "Also see the [user guide](https://docs.pola.rs/user-guide/transformations/time-series/rolling/) for more details.\n"
   ]
  },
  {
   "cell_type": "code",
   "execution_count": 362,
   "id": "c55d316e",
   "metadata": {},
   "outputs": [],
   "source": [
    "df2 = pl.DataFrame({\n",
    "    \"integer\": [1, 1, 2, 2, 3, 3],\n",
    "    \"float\": [1.0, 2.0, 3.0, 4.0, 5.0, 6.0],\n",
    "    \"string\": [\"a\", \"b\", \"c\", \"c\", \"d\", \"d\"],\n",
    "    \"datetime\": [\n",
    "        (datetime(2022, 1, 4)), \n",
    "        (datetime(2022, 1, 4)), \n",
    "        (datetime(2022, 1, 4)), \n",
    "        (datetime(2022, 1, 9)), \n",
    "        (datetime(2022, 1, 9)), \n",
    "        (datetime(2022, 1, 9))],\n",
    "})"
   ]
  },
  {
   "cell_type": "markdown",
   "id": "f4e100a9",
   "metadata": {},
   "source": [
    "### partition_by()\n",
    "\n",
    "Make the list of frames"
   ]
  },
  {
   "cell_type": "code",
   "execution_count": 363,
   "id": "partition-by",
   "metadata": {},
   "outputs": [
    {
     "data": {
      "text/plain": [
       "[shape: (2, 4)\n",
       " ┌─────────┬───────┬────────┬─────────────────────┐\n",
       " │ integer ┆ float ┆ string ┆ datetime            │\n",
       " │ ---     ┆ ---   ┆ ---    ┆ ---                 │\n",
       " │ i64     ┆ f64   ┆ str    ┆ datetime[μs]        │\n",
       " ╞═════════╪═══════╪════════╪═════════════════════╡\n",
       " │ 1       ┆ 1.0   ┆ a      ┆ 2022-01-04 00:00:00 │\n",
       " │ 1       ┆ 2.0   ┆ b      ┆ 2022-01-04 00:00:00 │\n",
       " └─────────┴───────┴────────┴─────────────────────┘,\n",
       " shape: (2, 4)\n",
       " ┌─────────┬───────┬────────┬─────────────────────┐\n",
       " │ integer ┆ float ┆ string ┆ datetime            │\n",
       " │ ---     ┆ ---   ┆ ---    ┆ ---                 │\n",
       " │ i64     ┆ f64   ┆ str    ┆ datetime[μs]        │\n",
       " ╞═════════╪═══════╪════════╪═════════════════════╡\n",
       " │ 2       ┆ 3.0   ┆ c      ┆ 2022-01-04 00:00:00 │\n",
       " │ 2       ┆ 4.0   ┆ c      ┆ 2022-01-09 00:00:00 │\n",
       " └─────────┴───────┴────────┴─────────────────────┘,\n",
       " shape: (2, 4)\n",
       " ┌─────────┬───────┬────────┬─────────────────────┐\n",
       " │ integer ┆ float ┆ string ┆ datetime            │\n",
       " │ ---     ┆ ---   ┆ ---    ┆ ---                 │\n",
       " │ i64     ┆ f64   ┆ str    ┆ datetime[μs]        │\n",
       " ╞═════════╪═══════╪════════╪═════════════════════╡\n",
       " │ 3       ┆ 5.0   ┆ d      ┆ 2022-01-09 00:00:00 │\n",
       " │ 3       ┆ 6.0   ┆ d      ┆ 2022-01-09 00:00:00 │\n",
       " └─────────┴───────┴────────┴─────────────────────┘]"
      ]
     },
     "execution_count": 355,
     "metadata": {},
     "output_type": "execute_result"
    }
   ],
   "source": [
    "#| label: partition-by\n",
    "partitioner = df2.partition_by(\"integer\")\n",
    "partitioner"
   ]
  },
  {
   "cell_type": "markdown",
   "id": "9f9d6cf3",
   "metadata": {},
   "source": [
    "The iterate like any Python list, with a function that operates on Polars frames:"
   ]
  },
  {
   "cell_type": "code",
   "execution_count": 364,
   "id": "663574e1",
   "metadata": {},
   "outputs": [
    {
     "name": "stdout",
     "output_type": "stream",
     "text": [
      "shape: (1, 1)\n",
      "┌───────┐\n",
      "│ float │\n",
      "│ ---   │\n",
      "│ f64   │\n",
      "╞═══════╡\n",
      "│ 3.0   │\n",
      "└───────┘\n",
      "shape: (1, 1)\n",
      "┌───────┐\n",
      "│ float │\n",
      "│ ---   │\n",
      "│ f64   │\n",
      "╞═══════╡\n",
      "│ 7.0   │\n",
      "└───────┘\n",
      "shape: (1, 1)\n",
      "┌───────┐\n",
      "│ float │\n",
      "│ ---   │\n",
      "│ f64   │\n",
      "╞═══════╡\n",
      "│ 11.0  │\n",
      "└───────┘\n"
     ]
    }
   ],
   "source": [
    "def myfunc(\n",
    "  df: pl.DataFrame\n",
    "  ) -> pl.DataFrame:\n",
    "  return df.select(pl.col(\"float\").sum())\n",
    "\n",
    "for df in partitioner: \n",
    "  print(myfunc(df))"
   ]
  },
  {
   "cell_type": "markdown",
   "id": "bbca5d94",
   "metadata": {},
   "source": [
    "### group_by()\n"
   ]
  },
  {
   "cell_type": "code",
   "execution_count": 365,
   "id": "group-by",
   "metadata": {},
   "outputs": [],
   "source": [
    "#| label: group-by\n",
    "groupper = df2.group_by(\"integer\")"
   ]
  },
  {
   "cell_type": "code",
   "execution_count": 366,
   "id": "2ebda236",
   "metadata": {},
   "outputs": [
    {
     "data": {
      "text/html": [
       "<div><style>\n",
       ".dataframe > thead > tr,\n",
       ".dataframe > tbody > tr {\n",
       "  text-align: right;\n",
       "  white-space: pre-wrap;\n",
       "}\n",
       "</style>\n",
       "<small>shape: (3, 4)</small><table border=\"1\" class=\"dataframe\"><thead><tr><th>integer</th><th>float_sum</th><th>string_n_unique</th><th>string</th></tr><tr><td>i64</td><td>f64</td><td>u32</td><td>list[str]</td></tr></thead><tbody><tr><td>3</td><td>11.0</td><td>1</td><td>[&quot;d&quot;, &quot;d&quot;]</td></tr><tr><td>2</td><td>7.0</td><td>1</td><td>[&quot;c&quot;, &quot;c&quot;]</td></tr><tr><td>1</td><td>3.0</td><td>2</td><td>[&quot;a&quot;, &quot;b&quot;]</td></tr></tbody></table></div>"
      ],
      "text/plain": [
       "shape: (3, 4)\n",
       "┌─────────┬───────────┬─────────────────┬────────────┐\n",
       "│ integer ┆ float_sum ┆ string_n_unique ┆ string     │\n",
       "│ ---     ┆ ---       ┆ ---             ┆ ---        │\n",
       "│ i64     ┆ f64       ┆ u32             ┆ list[str]  │\n",
       "╞═════════╪═══════════╪═════════════════╪════════════╡\n",
       "│ 3       ┆ 11.0      ┆ 1               ┆ [\"d\", \"d\"] │\n",
       "│ 2       ┆ 7.0       ┆ 1               ┆ [\"c\", \"c\"] │\n",
       "│ 1       ┆ 3.0       ┆ 2               ┆ [\"a\", \"b\"] │\n",
       "└─────────┴───────────┴─────────────────┴────────────┘"
      ]
     },
     "execution_count": 358,
     "metadata": {},
     "output_type": "execute_result"
    }
   ],
   "source": [
    "groupper.agg(\n",
    "  cs.numeric().sum().name.suffix(\"_sum\"),\n",
    "  pl.col('string').n_unique().name.suffix(\"_n_unique\"),\n",
    "  pl.col('string'),\n",
    ")"
   ]
  },
  {
   "cell_type": "markdown",
   "id": "6cbda852",
   "metadata": {},
   "source": [
    "Things to note:\n",
    "\n",
    "- Don't expect an index. This is Polars, not Pandas.\n",
    "- The grouping may be saved as an object, and used later.\n",
    "- The `group_by()` and `.agg()` contexts offer the usual functonality of `.select()` and `.with_columns()`. In particular, you can use `pl.col()` to access columns, or the `pl.selector` module (`cs`).\n",
    "- In the selector is not followed by an expression, it will collapse the Series to a Polars List (see @sec-nested-dtypes). \n",
    "\n",
    "Some random/useful examples now follow.\n",
    "\n",
    "#### Examples\n",
    "\n",
    "The count (length) of each group:"
   ]
  },
  {
   "cell_type": "code",
   "execution_count": 367,
   "id": "8a51e0b2",
   "metadata": {},
   "outputs": [
    {
     "data": {
      "text/html": [
       "<div><style>\n",
       ".dataframe > thead > tr,\n",
       ".dataframe > tbody > tr {\n",
       "  text-align: right;\n",
       "  white-space: pre-wrap;\n",
       "}\n",
       "</style>\n",
       "<small>shape: (3, 2)</small><table border=\"1\" class=\"dataframe\"><thead><tr><th>integer</th><th>len</th></tr><tr><td>i64</td><td>u32</td></tr></thead><tbody><tr><td>3</td><td>2</td></tr><tr><td>2</td><td>2</td></tr><tr><td>1</td><td>2</td></tr></tbody></table></div>"
      ],
      "text/plain": [
       "shape: (3, 2)\n",
       "┌─────────┬─────┐\n",
       "│ integer ┆ len │\n",
       "│ ---     ┆ --- │\n",
       "│ i64     ┆ u32 │\n",
       "╞═════════╪═════╡\n",
       "│ 3       ┆ 2   │\n",
       "│ 2       ┆ 2   │\n",
       "│ 1       ┆ 2   │\n",
       "└─────────┴─────┘"
      ]
     },
     "execution_count": 359,
     "metadata": {},
     "output_type": "execute_result"
    }
   ],
   "source": [
    "groupper.agg(pl.len())"
   ]
  },
  {
   "cell_type": "markdown",
   "id": "95c63ade",
   "metadata": {},
   "source": [
    "When operating on all columns,"
   ]
  },
  {
   "cell_type": "code",
   "execution_count": 368,
   "id": "6597a47d",
   "metadata": {},
   "outputs": [
    {
     "data": {
      "text/html": [
       "<div><style>\n",
       ".dataframe > thead > tr,\n",
       ".dataframe > tbody > tr {\n",
       "  text-align: right;\n",
       "  white-space: pre-wrap;\n",
       "}\n",
       "</style>\n",
       "<small>shape: (3, 2)</small><table border=\"1\" class=\"dataframe\"><thead><tr><th>integer</th><th>len</th></tr><tr><td>i64</td><td>u32</td></tr></thead><tbody><tr><td>1</td><td>2</td></tr><tr><td>2</td><td>2</td></tr><tr><td>3</td><td>2</td></tr></tbody></table></div>"
      ],
      "text/plain": [
       "shape: (3, 2)\n",
       "┌─────────┬─────┐\n",
       "│ integer ┆ len │\n",
       "│ ---     ┆ --- │\n",
       "│ i64     ┆ u32 │\n",
       "╞═════════╪═════╡\n",
       "│ 1       ┆ 2   │\n",
       "│ 2       ┆ 2   │\n",
       "│ 3       ┆ 2   │\n",
       "└─────────┴─────┘"
      ]
     },
     "execution_count": 360,
     "metadata": {},
     "output_type": "execute_result"
    }
   ],
   "source": [
    "groupper.len()"
   ]
  },
  {
   "cell_type": "code",
   "execution_count": 369,
   "id": "9bc30342",
   "metadata": {},
   "outputs": [
    {
     "data": {
      "text/html": [
       "<div><style>\n",
       ".dataframe > thead > tr,\n",
       ".dataframe > tbody > tr {\n",
       "  text-align: right;\n",
       "  white-space: pre-wrap;\n",
       "}\n",
       "</style>\n",
       "<small>shape: (3, 4)</small><table border=\"1\" class=\"dataframe\"><thead><tr><th>integer</th><th>float</th><th>string</th><th>datetime</th></tr><tr><td>i64</td><td>f64</td><td>str</td><td>datetime[μs]</td></tr></thead><tbody><tr><td>3</td><td>11.0</td><td>null</td><td>null</td></tr><tr><td>2</td><td>7.0</td><td>null</td><td>null</td></tr><tr><td>1</td><td>3.0</td><td>null</td><td>null</td></tr></tbody></table></div>"
      ],
      "text/plain": [
       "shape: (3, 4)\n",
       "┌─────────┬───────┬────────┬──────────────┐\n",
       "│ integer ┆ float ┆ string ┆ datetime     │\n",
       "│ ---     ┆ ---   ┆ ---    ┆ ---          │\n",
       "│ i64     ┆ f64   ┆ str    ┆ datetime[μs] │\n",
       "╞═════════╪═══════╪════════╪══════════════╡\n",
       "│ 3       ┆ 11.0  ┆ null   ┆ null         │\n",
       "│ 2       ┆ 7.0   ┆ null   ┆ null         │\n",
       "│ 1       ┆ 3.0   ┆ null   ┆ null         │\n",
       "└─────────┴───────┴────────┴──────────────┘"
      ]
     },
     "execution_count": 361,
     "metadata": {},
     "output_type": "execute_result"
    }
   ],
   "source": [
    "groupper.sum()"
   ]
  },
  {
   "cell_type": "markdown",
   "id": "0bd25251",
   "metadata": {},
   "source": [
    "### over()\n",
    "\n",
    "You may be familar with Pandas `group_by().transform()`, which will return a frame with the same row-count as its input. \n",
    "You may be familiar with Postgres SQL [window function](https://www.postgresql.org/docs/current/tutorial-window.html). \n",
    "You may not be familiar with neither, and still want to aggregate within group, but propagate the result to all group members. \n",
    "Polars' `.over()` is the answer.\n"
   ]
  },
  {
   "cell_type": "code",
   "execution_count": 370,
   "id": "over",
   "metadata": {},
   "outputs": [
    {
     "data": {
      "text/html": [
       "<div><style>\n",
       ".dataframe > thead > tr,\n",
       ".dataframe > tbody > tr {\n",
       "  text-align: right;\n",
       "  white-space: pre-wrap;\n",
       "}\n",
       "</style>\n",
       "<small>shape: (6, 5)</small><table border=\"1\" class=\"dataframe\"><thead><tr><th>integer</th><th>float</th><th>string</th><th>datetime</th><th>sum</th></tr><tr><td>i64</td><td>f64</td><td>str</td><td>datetime[μs]</td><td>f64</td></tr></thead><tbody><tr><td>1</td><td>1.0</td><td>&quot;a&quot;</td><td>2022-01-04 00:00:00</td><td>1.0</td></tr><tr><td>1</td><td>2.0</td><td>&quot;b&quot;</td><td>2022-01-04 00:00:00</td><td>2.0</td></tr><tr><td>2</td><td>3.0</td><td>&quot;c&quot;</td><td>2022-01-04 00:00:00</td><td>7.0</td></tr><tr><td>2</td><td>4.0</td><td>&quot;c&quot;</td><td>2022-01-09 00:00:00</td><td>7.0</td></tr><tr><td>3</td><td>5.0</td><td>&quot;d&quot;</td><td>2022-01-09 00:00:00</td><td>11.0</td></tr><tr><td>3</td><td>6.0</td><td>&quot;d&quot;</td><td>2022-01-09 00:00:00</td><td>11.0</td></tr></tbody></table></div>"
      ],
      "text/plain": [
       "shape: (6, 5)\n",
       "┌─────────┬───────┬────────┬─────────────────────┬──────┐\n",
       "│ integer ┆ float ┆ string ┆ datetime            ┆ sum  │\n",
       "│ ---     ┆ ---   ┆ ---    ┆ ---                 ┆ ---  │\n",
       "│ i64     ┆ f64   ┆ str    ┆ datetime[μs]        ┆ f64  │\n",
       "╞═════════╪═══════╪════════╪═════════════════════╪══════╡\n",
       "│ 1       ┆ 1.0   ┆ a      ┆ 2022-01-04 00:00:00 ┆ 1.0  │\n",
       "│ 1       ┆ 2.0   ┆ b      ┆ 2022-01-04 00:00:00 ┆ 2.0  │\n",
       "│ 2       ┆ 3.0   ┆ c      ┆ 2022-01-04 00:00:00 ┆ 7.0  │\n",
       "│ 2       ┆ 4.0   ┆ c      ┆ 2022-01-09 00:00:00 ┆ 7.0  │\n",
       "│ 3       ┆ 5.0   ┆ d      ┆ 2022-01-09 00:00:00 ┆ 11.0 │\n",
       "│ 3       ┆ 6.0   ┆ d      ┆ 2022-01-09 00:00:00 ┆ 11.0 │\n",
       "└─────────┴───────┴────────┴─────────────────────┴──────┘"
      ]
     },
     "execution_count": 362,
     "metadata": {},
     "output_type": "execute_result"
    }
   ],
   "source": [
    "#| label: over\n",
    "df2.with_columns(\n",
    "  pl.col(\"float\").sum().over(\"string\").alias(\"sum\")\n",
    ")"
   ]
  },
  {
   "cell_type": "markdown",
   "id": "043c54db",
   "metadata": {},
   "source": [
    "Things to note:\n",
    "\n",
    "- The output will have the same number of rows as the input.\n",
    "- `.over()` is a **context**. As such, you can evaluate column selectors and expressions within it.\n",
    "- **Careful**: `over()` should be the last operation in a chain. @over-wrong will sadly **not fail**, while it should have.\n"
   ]
  },
  {
   "cell_type": "code",
   "execution_count": 371,
   "id": "over-wrong",
   "metadata": {},
   "outputs": [
    {
     "data": {
      "text/html": [
       "<div><style>\n",
       ".dataframe > thead > tr,\n",
       ".dataframe > tbody > tr {\n",
       "  text-align: right;\n",
       "  white-space: pre-wrap;\n",
       "}\n",
       "</style>\n",
       "<small>shape: (6, 5)</small><table border=\"1\" class=\"dataframe\"><thead><tr><th>integer</th><th>float</th><th>string</th><th>datetime</th><th>sum</th></tr><tr><td>i64</td><td>f64</td><td>str</td><td>datetime[μs]</td><td>f64</td></tr></thead><tbody><tr><td>1</td><td>1.0</td><td>&quot;a&quot;</td><td>2022-01-04 00:00:00</td><td>21.0</td></tr><tr><td>1</td><td>2.0</td><td>&quot;b&quot;</td><td>2022-01-04 00:00:00</td><td>21.0</td></tr><tr><td>2</td><td>3.0</td><td>&quot;c&quot;</td><td>2022-01-04 00:00:00</td><td>21.0</td></tr><tr><td>2</td><td>4.0</td><td>&quot;c&quot;</td><td>2022-01-09 00:00:00</td><td>21.0</td></tr><tr><td>3</td><td>5.0</td><td>&quot;d&quot;</td><td>2022-01-09 00:00:00</td><td>21.0</td></tr><tr><td>3</td><td>6.0</td><td>&quot;d&quot;</td><td>2022-01-09 00:00:00</td><td>21.0</td></tr></tbody></table></div>"
      ],
      "text/plain": [
       "shape: (6, 5)\n",
       "┌─────────┬───────┬────────┬─────────────────────┬──────┐\n",
       "│ integer ┆ float ┆ string ┆ datetime            ┆ sum  │\n",
       "│ ---     ┆ ---   ┆ ---    ┆ ---                 ┆ ---  │\n",
       "│ i64     ┆ f64   ┆ str    ┆ datetime[μs]        ┆ f64  │\n",
       "╞═════════╪═══════╪════════╪═════════════════════╪══════╡\n",
       "│ 1       ┆ 1.0   ┆ a      ┆ 2022-01-04 00:00:00 ┆ 21.0 │\n",
       "│ 1       ┆ 2.0   ┆ b      ┆ 2022-01-04 00:00:00 ┆ 21.0 │\n",
       "│ 2       ┆ 3.0   ┆ c      ┆ 2022-01-04 00:00:00 ┆ 21.0 │\n",
       "│ 2       ┆ 4.0   ┆ c      ┆ 2022-01-09 00:00:00 ┆ 21.0 │\n",
       "│ 3       ┆ 5.0   ┆ d      ┆ 2022-01-09 00:00:00 ┆ 21.0 │\n",
       "│ 3       ┆ 6.0   ┆ d      ┆ 2022-01-09 00:00:00 ┆ 21.0 │\n",
       "└─────────┴───────┴────────┴─────────────────────┴──────┘"
      ]
     },
     "execution_count": 363,
     "metadata": {},
     "output_type": "execute_result"
    }
   ],
   "source": [
    "#| label: over-wrong\n",
    "#| lst-label: over-wrong\n",
    "#| lst-cap: A wrong use of over()\n",
    "\n",
    "df2.with_columns(\n",
    "  pl.col(\"float\").over(\"string\").sum().alias(\"sum\")\n",
    ")"
   ]
  },
  {
   "cell_type": "markdown",
   "id": "84719cab",
   "metadata": {},
   "source": [
    "### Grouping on time\n",
    "\n",
    "High level:\n",
    "\n",
    "1. Grouping on time is special, because a temporal variable implies multiple resolutions which may be used for grouping. E.g. a date may be grouped by year, month, day, etc.\n",
    "2. For a temporal version of `group_by()`, use `df.group_by_dynamic()`.\n",
    "3. For a temporal version of `over()`, use `df.rolling()`.\n"
   ]
  },
  {
   "cell_type": "code",
   "execution_count": 372,
   "id": "group-by-dynamic",
   "metadata": {},
   "outputs": [
    {
     "data": {
      "text/html": [
       "<div><style>\n",
       ".dataframe > thead > tr,\n",
       ".dataframe > tbody > tr {\n",
       "  text-align: right;\n",
       "  white-space: pre-wrap;\n",
       "}\n",
       "</style>\n",
       "<small>shape: (2, 2)</small><table border=\"1\" class=\"dataframe\"><thead><tr><th>datetime</th><th>float</th></tr><tr><td>datetime[μs]</td><td>f64</td></tr></thead><tbody><tr><td>2022-01-04 00:00:00</td><td>6.0</td></tr><tr><td>2022-01-09 00:00:00</td><td>15.0</td></tr></tbody></table></div>"
      ],
      "text/plain": [
       "shape: (2, 2)\n",
       "┌─────────────────────┬───────┐\n",
       "│ datetime            ┆ float │\n",
       "│ ---                 ┆ ---   │\n",
       "│ datetime[μs]        ┆ f64   │\n",
       "╞═════════════════════╪═══════╡\n",
       "│ 2022-01-04 00:00:00 ┆ 6.0   │\n",
       "│ 2022-01-09 00:00:00 ┆ 15.0  │\n",
       "└─────────────────────┴───────┘"
      ]
     },
     "execution_count": 364,
     "metadata": {},
     "output_type": "execute_result"
    }
   ],
   "source": [
    "#| label: group-by-dynamic\n",
    "(\n",
    "  df2\n",
    "  .sort(\"datetime\")\n",
    "  .group_by_dynamic(\n",
    "    index_column=\"datetime\", \n",
    "    every=\"1d\",\n",
    "    )\n",
    "  .agg(pl.col(\"float\").sum())\n",
    ")"
   ]
  },
  {
   "cell_type": "code",
   "execution_count": 373,
   "id": "rolling",
   "metadata": {},
   "outputs": [
    {
     "data": {
      "text/html": [
       "<div><style>\n",
       ".dataframe > thead > tr,\n",
       ".dataframe > tbody > tr {\n",
       "  text-align: right;\n",
       "  white-space: pre-wrap;\n",
       "}\n",
       "</style>\n",
       "<small>shape: (6, 2)</small><table border=\"1\" class=\"dataframe\"><thead><tr><th>datetime</th><th>float</th></tr><tr><td>datetime[μs]</td><td>f64</td></tr></thead><tbody><tr><td>2022-01-04 00:00:00</td><td>6.0</td></tr><tr><td>2022-01-04 00:00:00</td><td>6.0</td></tr><tr><td>2022-01-04 00:00:00</td><td>6.0</td></tr><tr><td>2022-01-09 00:00:00</td><td>15.0</td></tr><tr><td>2022-01-09 00:00:00</td><td>15.0</td></tr><tr><td>2022-01-09 00:00:00</td><td>15.0</td></tr></tbody></table></div>"
      ],
      "text/plain": [
       "shape: (6, 2)\n",
       "┌─────────────────────┬───────┐\n",
       "│ datetime            ┆ float │\n",
       "│ ---                 ┆ ---   │\n",
       "│ datetime[μs]        ┆ f64   │\n",
       "╞═════════════════════╪═══════╡\n",
       "│ 2022-01-04 00:00:00 ┆ 6.0   │\n",
       "│ 2022-01-04 00:00:00 ┆ 6.0   │\n",
       "│ 2022-01-04 00:00:00 ┆ 6.0   │\n",
       "│ 2022-01-09 00:00:00 ┆ 15.0  │\n",
       "│ 2022-01-09 00:00:00 ┆ 15.0  │\n",
       "│ 2022-01-09 00:00:00 ┆ 15.0  │\n",
       "└─────────────────────┴───────┘"
      ]
     },
     "execution_count": 365,
     "metadata": {},
     "output_type": "execute_result"
    }
   ],
   "source": [
    "#| label: rolling\n",
    "(\n",
    "  df2\n",
    "  .sort(\"datetime\")\n",
    "  .rolling(\n",
    "    index_column=\"datetime\", \n",
    "    period='1d',\n",
    "    )\n",
    "  .agg(pl.col(\"float\").sum())\n",
    ")"
   ]
  },
  {
   "cell_type": "markdown",
   "id": "4256e37f",
   "metadata": {},
   "source": [
    "## Joins {#sec-joins}\n",
    "\n",
    "High level:\n",
    "\n",
    "-   `df.join()` for joins; like Pandas `pd.merge()` or `df.join()`.\n",
    "-  `df.join_asof()` for asof joins; like Pandas `pd.merge_asof()`.\n",
    "-   `df.hstack()` for horizontal concatenation; like Pandas `pd.concat([],axis=1)` or R's `cbind`.\n",
    "-   `df.vstack()` for vertical concatenation; like Pandas `pd.concat([],axis=0)` or R's `rbind`.\n",
    "-   `df.merge_sorted()` for vertical stacking, with sorting.\n",
    "-   `pl.concat()`, which is similar to the previous two, but with memory re-chunking. `pl.concat()` also allows diagonal concatenation, if columns are not shared.\n",
    "-   `df.extend()` for vertical concatenation, but with memory re-chunking. Similar to `df.vstack().rechunk()`.\n",
    "\n",
    "For more on the differences between these methods, see [here](https://www.rhosignal.com/posts/Polars-extend-vstack/).\n",
    "\n",
    "\n",
    "\n",
    "### join()\n"
   ]
  },
  {
   "cell_type": "code",
   "execution_count": 374,
   "id": "join",
   "metadata": {},
   "outputs": [
    {
     "data": {
      "text/html": [
       "<div><style>\n",
       ".dataframe > thead > tr,\n",
       ".dataframe > tbody > tr {\n",
       "  text-align: right;\n",
       "  white-space: pre-wrap;\n",
       "}\n",
       "</style>\n",
       "<small>shape: (3, 7)</small><table border=\"1\" class=\"dataframe\"><thead><tr><th>integer</th><th>date</th><th>float</th><th>string</th><th>date_right</th><th>float_right</th><th>string_right</th></tr><tr><td>i64</td><td>datetime[μs]</td><td>f64</td><td>str</td><td>datetime[μs]</td><td>f64</td><td>str</td></tr></thead><tbody><tr><td>1</td><td>2022-01-01 00:00:00</td><td>4.0</td><td>&quot;a&quot;</td><td>2022-01-04 00:00:00</td><td>7.0</td><td>&quot;d&quot;</td></tr><tr><td>2</td><td>2022-01-02 00:00:00</td><td>5.0</td><td>&quot;b&quot;</td><td>2022-01-05 00:00:00</td><td>8.0</td><td>&quot;d&quot;</td></tr><tr><td>3</td><td>2022-01-03 00:00:00</td><td>6.0</td><td>&quot;c&quot;</td><td>2022-01-06 00:00:00</td><td>9.0</td><td>&quot;d&quot;</td></tr></tbody></table></div>"
      ],
      "text/plain": [
       "shape: (3, 7)\n",
       "┌─────────┬──────────────┬───────┬────────┬─────────────────────┬─────────────┬──────────────┐\n",
       "│ integer ┆ date         ┆ float ┆ string ┆ date_right          ┆ float_right ┆ string_right │\n",
       "│ ---     ┆ ---          ┆ ---   ┆ ---    ┆ ---                 ┆ ---         ┆ ---          │\n",
       "│ i64     ┆ datetime[μs] ┆ f64   ┆ str    ┆ datetime[μs]        ┆ f64         ┆ str          │\n",
       "╞═════════╪══════════════╪═══════╪════════╪═════════════════════╪═════════════╪══════════════╡\n",
       "│ 1       ┆ 2022-01-01   ┆ 4.0   ┆ a      ┆ 2022-01-04 00:00:00 ┆ 7.0         ┆ d            │\n",
       "│         ┆ 00:00:00     ┆       ┆        ┆                     ┆             ┆              │\n",
       "│ 2       ┆ 2022-01-02   ┆ 5.0   ┆ b      ┆ 2022-01-05 00:00:00 ┆ 8.0         ┆ d            │\n",
       "│         ┆ 00:00:00     ┆       ┆        ┆                     ┆             ┆              │\n",
       "│ 3       ┆ 2022-01-03   ┆ 6.0   ┆ c      ┆ 2022-01-06 00:00:00 ┆ 9.0         ┆ d            │\n",
       "│         ┆ 00:00:00     ┆       ┆        ┆                     ┆             ┆              │\n",
       "└─────────┴──────────────┴───────┴────────┴─────────────────────┴─────────────┴──────────────┘"
      ]
     },
     "execution_count": 366,
     "metadata": {},
     "output_type": "execute_result"
    }
   ],
   "source": [
    "#| label: join\n",
    "\n",
    "df = pl.DataFrame({\n",
    "  \"integer\": [1, 2, 3], \n",
    "  \"date\": [\n",
    "    (datetime(2022, 1, 1)), \n",
    "    (datetime(2022, 1, 2)), \n",
    "    (datetime(2022, 1, 3))], \n",
    "    \"float\": [4.0, 5.0, 6.0],\n",
    "    \"string\": [\"a\", \"b\", \"c\"]})\n",
    "\n",
    "\n",
    "df2 = pl.DataFrame({\n",
    "  \"integer\": [1, 2, 3], \n",
    "  \"date\": [\n",
    "    (datetime(2022, 1, 4)), \n",
    "    (datetime(2022, 1, 5)), \n",
    "    (datetime(2022, 1, 6))], \n",
    "    \"float\":[7.0, 8.0, 9.0],\n",
    "    \"string\": [\"d\", \"d\", \"d\"]})\n",
    "\n",
    "\n",
    "df.join(\n",
    "  df2, \n",
    "  on=\"integer\", \n",
    "  how=\"left\",\n",
    "  validate='m:1'\n",
    "  )"
   ]
  },
  {
   "cell_type": "markdown",
   "id": "d3691b07",
   "metadata": {},
   "source": [
    "Things to note:\n",
    "\n",
    "-   Repeating column names have been suffixed with \"\\_right\".\n",
    "-   Recall, there are **no indices**. The `on`/`left_on`/`right_on` argument is always required.\n",
    "- `how=` may take the following values: 'inner', 'left', 'outer', 'semi', 'anti', 'cross'. 'inner' is the default. \n",
    "- I like to add the `validate=` argument, for safety. \n",
    "- The join is super fast, as demonstrated in @sec-motivation above.\n",
    "\n",
    "\n",
    "### join_asof()\n"
   ]
  },
  {
   "cell_type": "code",
   "execution_count": 375,
   "id": "3fed3a3a",
   "metadata": {},
   "outputs": [
    {
     "data": {
      "text/html": [
       "<div><style>\n",
       ".dataframe > thead > tr,\n",
       ".dataframe > tbody > tr {\n",
       "  text-align: right;\n",
       "  white-space: pre-wrap;\n",
       "}\n",
       "</style>\n",
       "<small>shape: (3, 6)</small><table border=\"1\" class=\"dataframe\"><thead><tr><th>integer</th><th>date</th><th>float</th><th>string</th><th>float_right</th><th>string_right</th></tr><tr><td>i64</td><td>datetime[μs]</td><td>f64</td><td>str</td><td>f64</td><td>str</td></tr></thead><tbody><tr><td>1</td><td>2022-01-01 00:00:00</td><td>4.0</td><td>&quot;a&quot;</td><td>null</td><td>null</td></tr><tr><td>2</td><td>2022-01-02 00:00:00</td><td>5.0</td><td>&quot;b&quot;</td><td>null</td><td>null</td></tr><tr><td>3</td><td>2022-01-03 00:00:00</td><td>6.0</td><td>&quot;c&quot;</td><td>null</td><td>null</td></tr></tbody></table></div>"
      ],
      "text/plain": [
       "shape: (3, 6)\n",
       "┌─────────┬─────────────────────┬───────┬────────┬─────────────┬──────────────┐\n",
       "│ integer ┆ date                ┆ float ┆ string ┆ float_right ┆ string_right │\n",
       "│ ---     ┆ ---                 ┆ ---   ┆ ---    ┆ ---         ┆ ---          │\n",
       "│ i64     ┆ datetime[μs]        ┆ f64   ┆ str    ┆ f64         ┆ str          │\n",
       "╞═════════╪═════════════════════╪═══════╪════════╪═════════════╪══════════════╡\n",
       "│ 1       ┆ 2022-01-01 00:00:00 ┆ 4.0   ┆ a      ┆ null        ┆ null         │\n",
       "│ 2       ┆ 2022-01-02 00:00:00 ┆ 5.0   ┆ b      ┆ null        ┆ null         │\n",
       "│ 3       ┆ 2022-01-03 00:00:00 ┆ 6.0   ┆ c      ┆ null        ┆ null         │\n",
       "└─────────┴─────────────────────┴───────┴────────┴─────────────┴──────────────┘"
      ]
     },
     "execution_count": 367,
     "metadata": {},
     "output_type": "execute_result"
    }
   ],
   "source": [
    "df.join_asof(\n",
    "    df2, \n",
    "    left_on=\"date\", \n",
    "    right_on='date', \n",
    "    by=\"integer\", \n",
    "    strategy=\"backward\", \n",
    "    tolerance='1w',\n",
    "    )"
   ]
  },
  {
   "cell_type": "markdown",
   "id": "e0338bc1",
   "metadata": {},
   "source": [
    "Things to note:\n",
    "\n",
    "-   Yes! `join_asof()` is available. In streaming engine as well!\n",
    "-   The `strategy=` argument may take the following values: 'backward', 'forward'.\n",
    "-   The `tolerance=` argument may take the following values: '1w', '1d', '1h', '1m', '1s', '1ms', '1us', '1ns'.\n",
    "\n",
    "\n",
    "\n",
    "\n",
    "### hstack"
   ]
  },
  {
   "cell_type": "code",
   "execution_count": 376,
   "id": "hstack",
   "metadata": {},
   "outputs": [
    {
     "data": {
      "text/html": [
       "<div><style>\n",
       ".dataframe > thead > tr,\n",
       ".dataframe > tbody > tr {\n",
       "  text-align: right;\n",
       "  white-space: pre-wrap;\n",
       "}\n",
       "</style>\n",
       "<small>shape: (3, 5)</small><table border=\"1\" class=\"dataframe\"><thead><tr><th>integer</th><th>date</th><th>float</th><th>string</th><th>c</th></tr><tr><td>i64</td><td>datetime[μs]</td><td>f64</td><td>str</td><td>i64</td></tr></thead><tbody><tr><td>1</td><td>2022-01-01 00:00:00</td><td>4.0</td><td>&quot;a&quot;</td><td>1</td></tr><tr><td>2</td><td>2022-01-02 00:00:00</td><td>5.0</td><td>&quot;b&quot;</td><td>1</td></tr><tr><td>3</td><td>2022-01-03 00:00:00</td><td>6.0</td><td>&quot;c&quot;</td><td>1</td></tr></tbody></table></div>"
      ],
      "text/plain": [
       "shape: (3, 5)\n",
       "┌─────────┬─────────────────────┬───────┬────────┬─────┐\n",
       "│ integer ┆ date                ┆ float ┆ string ┆ c   │\n",
       "│ ---     ┆ ---                 ┆ ---   ┆ ---    ┆ --- │\n",
       "│ i64     ┆ datetime[μs]        ┆ f64   ┆ str    ┆ i64 │\n",
       "╞═════════╪═════════════════════╪═══════╪════════╪═════╡\n",
       "│ 1       ┆ 2022-01-01 00:00:00 ┆ 4.0   ┆ a      ┆ 1   │\n",
       "│ 2       ┆ 2022-01-02 00:00:00 ┆ 5.0   ┆ b      ┆ 1   │\n",
       "│ 3       ┆ 2022-01-03 00:00:00 ┆ 6.0   ┆ c      ┆ 1   │\n",
       "└─────────┴─────────────────────┴───────┴────────┴─────┘"
      ]
     },
     "execution_count": 368,
     "metadata": {},
     "output_type": "execute_result"
    }
   ],
   "source": [
    "#| label: hstack\n",
    "new_column = pl.Series(\"c\", np.repeat(1, df.height))\n",
    "\n",
    "df.hstack([new_column])"
   ]
  },
  {
   "cell_type": "markdown",
   "id": "898d4ac0",
   "metadata": {},
   "source": [
    "### vstack"
   ]
  },
  {
   "cell_type": "code",
   "execution_count": 377,
   "id": "vstack",
   "metadata": {},
   "outputs": [
    {
     "data": {
      "text/html": [
       "<div><style>\n",
       ".dataframe > thead > tr,\n",
       ".dataframe > tbody > tr {\n",
       "  text-align: right;\n",
       "  white-space: pre-wrap;\n",
       "}\n",
       "</style>\n",
       "<small>shape: (6, 4)</small><table border=\"1\" class=\"dataframe\"><thead><tr><th>integer</th><th>date</th><th>float</th><th>string</th></tr><tr><td>i64</td><td>datetime[μs]</td><td>f64</td><td>str</td></tr></thead><tbody><tr><td>1</td><td>2022-01-01 00:00:00</td><td>4.0</td><td>&quot;a&quot;</td></tr><tr><td>2</td><td>2022-01-02 00:00:00</td><td>5.0</td><td>&quot;b&quot;</td></tr><tr><td>3</td><td>2022-01-03 00:00:00</td><td>6.0</td><td>&quot;c&quot;</td></tr><tr><td>1</td><td>2022-01-04 00:00:00</td><td>7.0</td><td>&quot;d&quot;</td></tr><tr><td>2</td><td>2022-01-05 00:00:00</td><td>8.0</td><td>&quot;d&quot;</td></tr><tr><td>3</td><td>2022-01-06 00:00:00</td><td>9.0</td><td>&quot;d&quot;</td></tr></tbody></table></div>"
      ],
      "text/plain": [
       "shape: (6, 4)\n",
       "┌─────────┬─────────────────────┬───────┬────────┐\n",
       "│ integer ┆ date                ┆ float ┆ string │\n",
       "│ ---     ┆ ---                 ┆ ---   ┆ ---    │\n",
       "│ i64     ┆ datetime[μs]        ┆ f64   ┆ str    │\n",
       "╞═════════╪═════════════════════╪═══════╪════════╡\n",
       "│ 1       ┆ 2022-01-01 00:00:00 ┆ 4.0   ┆ a      │\n",
       "│ 2       ┆ 2022-01-02 00:00:00 ┆ 5.0   ┆ b      │\n",
       "│ 3       ┆ 2022-01-03 00:00:00 ┆ 6.0   ┆ c      │\n",
       "│ 1       ┆ 2022-01-04 00:00:00 ┆ 7.0   ┆ d      │\n",
       "│ 2       ┆ 2022-01-05 00:00:00 ┆ 8.0   ┆ d      │\n",
       "│ 3       ┆ 2022-01-06 00:00:00 ┆ 9.0   ┆ d      │\n",
       "└─────────┴─────────────────────┴───────┴────────┘"
      ]
     },
     "execution_count": 369,
     "metadata": {},
     "output_type": "execute_result"
    }
   ],
   "source": [
    "#| label: vstack\n",
    "\n",
    "df.vstack(df2)"
   ]
  },
  {
   "cell_type": "markdown",
   "id": "295802a8",
   "metadata": {},
   "source": [
    "Caution: Joining along rows is possible only if matched columns have the same dtype. Timestamps may be tricky because they may have different time units. Recall that timeunits may be cast before joining using `series.dt.cast_time_unit()`. \n",
    "Here is a demonstration of the problem:\n"
   ]
  },
  {
   "cell_type": "code",
   "execution_count": 378,
   "id": "vstack-caution",
   "metadata": {},
   "outputs": [],
   "source": [
    "#| label: vstack-caution\n",
    "#| eval: false\n",
    "(\n",
    "  df\n",
    "  .vstack(\n",
    "    df2\n",
    "    .with_columns(\n",
    "      pl.col('date').dt.cast_time_unit(time_unit=\"ms\")\n",
    "      )\n",
    "    )\n",
    ")"
   ]
  },
  {
   "cell_type": "markdown",
   "id": "73d3680a",
   "metadata": {},
   "source": [
    "### merge_sorted\n",
    "\n",
    "This is a **vertical** stacking, when expecting a sorted result, and assuming inputs are sorted. \n"
   ]
  },
  {
   "cell_type": "code",
   "execution_count": 379,
   "id": "353185bc",
   "metadata": {},
   "outputs": [
    {
     "data": {
      "text/html": [
       "<div><style>\n",
       ".dataframe > thead > tr,\n",
       ".dataframe > tbody > tr {\n",
       "  text-align: right;\n",
       "  white-space: pre-wrap;\n",
       "}\n",
       "</style>\n",
       "<small>shape: (6, 4)</small><table border=\"1\" class=\"dataframe\"><thead><tr><th>integer</th><th>date</th><th>float</th><th>string</th></tr><tr><td>i64</td><td>datetime[μs]</td><td>f64</td><td>str</td></tr></thead><tbody><tr><td>1</td><td>2022-01-01 00:00:00</td><td>4.0</td><td>&quot;a&quot;</td></tr><tr><td>1</td><td>2022-01-04 00:00:00</td><td>7.0</td><td>&quot;d&quot;</td></tr><tr><td>2</td><td>2022-01-02 00:00:00</td><td>5.0</td><td>&quot;b&quot;</td></tr><tr><td>2</td><td>2022-01-05 00:00:00</td><td>8.0</td><td>&quot;d&quot;</td></tr><tr><td>3</td><td>2022-01-03 00:00:00</td><td>6.0</td><td>&quot;c&quot;</td></tr><tr><td>3</td><td>2022-01-06 00:00:00</td><td>9.0</td><td>&quot;d&quot;</td></tr></tbody></table></div>"
      ],
      "text/plain": [
       "shape: (6, 4)\n",
       "┌─────────┬─────────────────────┬───────┬────────┐\n",
       "│ integer ┆ date                ┆ float ┆ string │\n",
       "│ ---     ┆ ---                 ┆ ---   ┆ ---    │\n",
       "│ i64     ┆ datetime[μs]        ┆ f64   ┆ str    │\n",
       "╞═════════╪═════════════════════╪═══════╪════════╡\n",
       "│ 1       ┆ 2022-01-01 00:00:00 ┆ 4.0   ┆ a      │\n",
       "│ 1       ┆ 2022-01-04 00:00:00 ┆ 7.0   ┆ d      │\n",
       "│ 2       ┆ 2022-01-02 00:00:00 ┆ 5.0   ┆ b      │\n",
       "│ 2       ┆ 2022-01-05 00:00:00 ┆ 8.0   ┆ d      │\n",
       "│ 3       ┆ 2022-01-03 00:00:00 ┆ 6.0   ┆ c      │\n",
       "│ 3       ┆ 2022-01-06 00:00:00 ┆ 9.0   ┆ d      │\n",
       "└─────────┴─────────────────────┴───────┴────────┘"
      ]
     },
     "execution_count": 370,
     "metadata": {},
     "output_type": "execute_result"
    }
   ],
   "source": [
    "df.merge_sorted(df2, key=\"integer\") "
   ]
  },
  {
   "cell_type": "markdown",
   "id": "334f3a0f",
   "metadata": {},
   "source": [
    "### concat()\n",
    "\n",
    "Vertical "
   ]
  },
  {
   "cell_type": "code",
   "execution_count": 380,
   "id": "0fc5e913",
   "metadata": {},
   "outputs": [
    {
     "data": {
      "text/html": [
       "<div><style>\n",
       ".dataframe > thead > tr,\n",
       ".dataframe > tbody > tr {\n",
       "  text-align: right;\n",
       "  white-space: pre-wrap;\n",
       "}\n",
       "</style>\n",
       "<small>shape: (6, 4)</small><table border=\"1\" class=\"dataframe\"><thead><tr><th>integer</th><th>date</th><th>float</th><th>string</th></tr><tr><td>i64</td><td>datetime[μs]</td><td>f64</td><td>str</td></tr></thead><tbody><tr><td>1</td><td>2022-01-01 00:00:00</td><td>4.0</td><td>&quot;a&quot;</td></tr><tr><td>2</td><td>2022-01-02 00:00:00</td><td>5.0</td><td>&quot;b&quot;</td></tr><tr><td>3</td><td>2022-01-03 00:00:00</td><td>6.0</td><td>&quot;c&quot;</td></tr><tr><td>1</td><td>2022-01-04 00:00:00</td><td>7.0</td><td>&quot;d&quot;</td></tr><tr><td>2</td><td>2022-01-05 00:00:00</td><td>8.0</td><td>&quot;d&quot;</td></tr><tr><td>3</td><td>2022-01-06 00:00:00</td><td>9.0</td><td>&quot;d&quot;</td></tr></tbody></table></div>"
      ],
      "text/plain": [
       "shape: (6, 4)\n",
       "┌─────────┬─────────────────────┬───────┬────────┐\n",
       "│ integer ┆ date                ┆ float ┆ string │\n",
       "│ ---     ┆ ---                 ┆ ---   ┆ ---    │\n",
       "│ i64     ┆ datetime[μs]        ┆ f64   ┆ str    │\n",
       "╞═════════╪═════════════════════╪═══════╪════════╡\n",
       "│ 1       ┆ 2022-01-01 00:00:00 ┆ 4.0   ┆ a      │\n",
       "│ 2       ┆ 2022-01-02 00:00:00 ┆ 5.0   ┆ b      │\n",
       "│ 3       ┆ 2022-01-03 00:00:00 ┆ 6.0   ┆ c      │\n",
       "│ 1       ┆ 2022-01-04 00:00:00 ┆ 7.0   ┆ d      │\n",
       "│ 2       ┆ 2022-01-05 00:00:00 ┆ 8.0   ┆ d      │\n",
       "│ 3       ┆ 2022-01-06 00:00:00 ┆ 9.0   ┆ d      │\n",
       "└─────────┴─────────────────────┴───────┴────────┘"
      ]
     },
     "execution_count": 371,
     "metadata": {},
     "output_type": "execute_result"
    }
   ],
   "source": [
    "pl.concat([df, df2]) \n",
    "# equivalent to:\n",
    "# pl.concat([df, df2], how='vertical', rechunk=True, parallel=True) "
   ]
  },
  {
   "cell_type": "markdown",
   "id": "62f7369c",
   "metadata": {},
   "source": [
    "Horizontal"
   ]
  },
  {
   "cell_type": "code",
   "execution_count": 381,
   "id": "47702729",
   "metadata": {},
   "outputs": [
    {
     "data": {
      "text/html": [
       "<div><style>\n",
       ".dataframe > thead > tr,\n",
       ".dataframe > tbody > tr {\n",
       "  text-align: right;\n",
       "  white-space: pre-wrap;\n",
       "}\n",
       "</style>\n",
       "<small>shape: (3, 5)</small><table border=\"1\" class=\"dataframe\"><thead><tr><th>integer</th><th>date</th><th>float</th><th>string</th><th>c</th></tr><tr><td>i64</td><td>datetime[μs]</td><td>f64</td><td>str</td><td>i64</td></tr></thead><tbody><tr><td>1</td><td>2022-01-01 00:00:00</td><td>4.0</td><td>&quot;a&quot;</td><td>1</td></tr><tr><td>2</td><td>2022-01-02 00:00:00</td><td>5.0</td><td>&quot;b&quot;</td><td>1</td></tr><tr><td>3</td><td>2022-01-03 00:00:00</td><td>6.0</td><td>&quot;c&quot;</td><td>1</td></tr></tbody></table></div>"
      ],
      "text/plain": [
       "shape: (3, 5)\n",
       "┌─────────┬─────────────────────┬───────┬────────┬─────┐\n",
       "│ integer ┆ date                ┆ float ┆ string ┆ c   │\n",
       "│ ---     ┆ ---                 ┆ ---   ┆ ---    ┆ --- │\n",
       "│ i64     ┆ datetime[μs]        ┆ f64   ┆ str    ┆ i64 │\n",
       "╞═════════╪═════════════════════╪═══════╪════════╪═════╡\n",
       "│ 1       ┆ 2022-01-01 00:00:00 ┆ 4.0   ┆ a      ┆ 1   │\n",
       "│ 2       ┆ 2022-01-02 00:00:00 ┆ 5.0   ┆ b      ┆ 1   │\n",
       "│ 3       ┆ 2022-01-03 00:00:00 ┆ 6.0   ┆ c      ┆ 1   │\n",
       "└─────────┴─────────────────────┴───────┴────────┴─────┘"
      ]
     },
     "execution_count": 372,
     "metadata": {},
     "output_type": "execute_result"
    }
   ],
   "source": [
    "pl.concat(\n",
    "  [df,new_column.to_frame()], \n",
    "  how='horizontal',\n",
    "  )"
   ]
  },
  {
   "cell_type": "markdown",
   "id": "61b02d1f",
   "metadata": {},
   "source": [
    "Diagonal"
   ]
  },
  {
   "cell_type": "code",
   "execution_count": 382,
   "id": "905dfe63",
   "metadata": {},
   "outputs": [
    {
     "data": {
      "text/html": [
       "<div><style>\n",
       ".dataframe > thead > tr,\n",
       ".dataframe > tbody > tr {\n",
       "  text-align: right;\n",
       "  white-space: pre-wrap;\n",
       "}\n",
       "</style>\n",
       "<small>shape: (6, 5)</small><table border=\"1\" class=\"dataframe\"><thead><tr><th>integer</th><th>date</th><th>float</th><th>string</th><th>c</th></tr><tr><td>i64</td><td>datetime[μs]</td><td>f64</td><td>str</td><td>i64</td></tr></thead><tbody><tr><td>1</td><td>2022-01-01 00:00:00</td><td>4.0</td><td>&quot;a&quot;</td><td>null</td></tr><tr><td>2</td><td>2022-01-02 00:00:00</td><td>5.0</td><td>&quot;b&quot;</td><td>null</td></tr><tr><td>3</td><td>2022-01-03 00:00:00</td><td>6.0</td><td>&quot;c&quot;</td><td>null</td></tr><tr><td>null</td><td>null</td><td>null</td><td>null</td><td>1</td></tr><tr><td>null</td><td>null</td><td>null</td><td>null</td><td>1</td></tr><tr><td>null</td><td>null</td><td>null</td><td>null</td><td>1</td></tr></tbody></table></div>"
      ],
      "text/plain": [
       "shape: (6, 5)\n",
       "┌─────────┬─────────────────────┬───────┬────────┬──────┐\n",
       "│ integer ┆ date                ┆ float ┆ string ┆ c    │\n",
       "│ ---     ┆ ---                 ┆ ---   ┆ ---    ┆ ---  │\n",
       "│ i64     ┆ datetime[μs]        ┆ f64   ┆ str    ┆ i64  │\n",
       "╞═════════╪═════════════════════╪═══════╪════════╪══════╡\n",
       "│ 1       ┆ 2022-01-01 00:00:00 ┆ 4.0   ┆ a      ┆ null │\n",
       "│ 2       ┆ 2022-01-02 00:00:00 ┆ 5.0   ┆ b      ┆ null │\n",
       "│ 3       ┆ 2022-01-03 00:00:00 ┆ 6.0   ┆ c      ┆ null │\n",
       "│ null    ┆ null                ┆ null  ┆ null   ┆ 1    │\n",
       "│ null    ┆ null                ┆ null  ┆ null   ┆ 1    │\n",
       "│ null    ┆ null                ┆ null  ┆ null   ┆ 1    │\n",
       "└─────────┴─────────────────────┴───────┴────────┴──────┘"
      ]
     },
     "execution_count": 373,
     "metadata": {},
     "output_type": "execute_result"
    }
   ],
   "source": [
    "pl.concat(\n",
    "  [df,new_column.to_frame()], \n",
    "  how='diagonal')"
   ]
  },
  {
   "cell_type": "markdown",
   "id": "35625566",
   "metadata": {},
   "source": [
    "What is the difference between `pl.concat()` and `df.vstack()` and `hstack()`?\n",
    "`pl.concat()` is more general with more functionality.\n",
    "\n",
    "- concat includes re-chunking, which is useful for memory management.\n",
    "- concat includes diagonal concatenation, which is useful when columns are not shared.\n",
    "- concat includes parallel execution, which is useful for performance.\n",
    "- concat has recenetly been equipped with `how=vertial_relaxed` and `how=horizontal_relaxed`, which finds a common dtype if schemas are mismatched.\n",
    "\n",
    "\n",
    "\n",
    "### extend()\n",
    "\n",
    "Like `vstack()`, but with memory re-chunking. Similar to `df.vstack().rechunk()`.\n"
   ]
  },
  {
   "cell_type": "code",
   "execution_count": 383,
   "id": "f0baab36",
   "metadata": {},
   "outputs": [
    {
     "data": {
      "text/html": [
       "<div><style>\n",
       ".dataframe > thead > tr,\n",
       ".dataframe > tbody > tr {\n",
       "  text-align: right;\n",
       "  white-space: pre-wrap;\n",
       "}\n",
       "</style>\n",
       "<small>shape: (6, 4)</small><table border=\"1\" class=\"dataframe\"><thead><tr><th>integer</th><th>date</th><th>float</th><th>string</th></tr><tr><td>i64</td><td>datetime[μs]</td><td>f64</td><td>str</td></tr></thead><tbody><tr><td>1</td><td>2022-01-01 00:00:00</td><td>4.0</td><td>&quot;a&quot;</td></tr><tr><td>2</td><td>2022-01-02 00:00:00</td><td>5.0</td><td>&quot;b&quot;</td></tr><tr><td>3</td><td>2022-01-03 00:00:00</td><td>6.0</td><td>&quot;c&quot;</td></tr><tr><td>1</td><td>2022-01-04 00:00:00</td><td>7.0</td><td>&quot;d&quot;</td></tr><tr><td>2</td><td>2022-01-05 00:00:00</td><td>8.0</td><td>&quot;d&quot;</td></tr><tr><td>3</td><td>2022-01-06 00:00:00</td><td>9.0</td><td>&quot;d&quot;</td></tr></tbody></table></div>"
      ],
      "text/plain": [
       "shape: (6, 4)\n",
       "┌─────────┬─────────────────────┬───────┬────────┐\n",
       "│ integer ┆ date                ┆ float ┆ string │\n",
       "│ ---     ┆ ---                 ┆ ---   ┆ ---    │\n",
       "│ i64     ┆ datetime[μs]        ┆ f64   ┆ str    │\n",
       "╞═════════╪═════════════════════╪═══════╪════════╡\n",
       "│ 1       ┆ 2022-01-01 00:00:00 ┆ 4.0   ┆ a      │\n",
       "│ 2       ┆ 2022-01-02 00:00:00 ┆ 5.0   ┆ b      │\n",
       "│ 3       ┆ 2022-01-03 00:00:00 ┆ 6.0   ┆ c      │\n",
       "│ 1       ┆ 2022-01-04 00:00:00 ┆ 7.0   ┆ d      │\n",
       "│ 2       ┆ 2022-01-05 00:00:00 ┆ 8.0   ┆ d      │\n",
       "│ 3       ┆ 2022-01-06 00:00:00 ┆ 9.0   ┆ d      │\n",
       "└─────────┴─────────────────────┴───────┴────────┘"
      ]
     },
     "execution_count": 374,
     "metadata": {},
     "output_type": "execute_result"
    }
   ],
   "source": [
    "df.extend(df2) "
   ]
  },
  {
   "cell_type": "markdown",
   "id": "eb966c5d",
   "metadata": {},
   "source": [
    "Why should I care about re-chunking?\n",
    "Since Polar is a columnar store, it is important to have contiguous memory layout. Otherwise, you may not enjoy the benefits of vectorized operations. \n",
    "\n",
    "Is there a method for `df.hstack().rechunk()`?\n",
    "No. \n",
    "A columnar storage is not sensitive to emory framgmentation along columns.\n",
    "\n",
    "\n",
    "\n",
    "## Nested dtypes {#sec-nested-dtypes}\n",
    "\n",
    "Recall the nested dtypes:\n",
    "\n",
    "1. Polars Struct: Like a Python dict within a cell; Multiple named elements. \n",
    "2. Polars List: Similar to a Python list within a cell; Multiple unnamed elements. Unlike the Python list, in a Polars list, all elements must have the same dtype.\n",
    "3. Polars Array: Like a Polars list, but with a fixed length for all cells in the column.\n",
    "\n",
    "### Polars Struct {#sec-struct}\n",
    "\n",
    "Why would I want to use a Polars Struct?\n",
    "\n",
    "1. To call functions that expects a dict argument constructed from multiple columns. E.g. a Ufunc called using `pl.col().pipe()` or `pl.col().map_elements()`. See [here](https://docs.pola.rs/user-guide/expressions/user-defined-functions/). \n",
    "2. To use column methods on multiple columns: hashing, checking uniqueness, etc.\n",
    "3. As the output of a an operation that returns multiple columns. E.g. `value_counts()` within a `group_by()` context.\n",
    "4. When information cannot be structured into tabular form. \n",
    "\n",
    "See [here](https://docs.pola.rs/user-guide/expressions/structs/) for more information on Polars Structs.\n",
    "\n",
    "\n",
    "Make a Polars Struct"
   ]
  },
  {
   "cell_type": "code",
   "execution_count": 384,
   "id": "struct",
   "metadata": {},
   "outputs": [
    {
     "data": {
      "text/html": [
       "<div><style>\n",
       ".dataframe > thead > tr,\n",
       ".dataframe > tbody > tr {\n",
       "  text-align: right;\n",
       "  white-space: pre-wrap;\n",
       "}\n",
       "</style>\n",
       "<small>shape: (6, 5)</small><table border=\"1\" class=\"dataframe\"><thead><tr><th>integer</th><th>date</th><th>float</th><th>string</th><th>struct</th></tr><tr><td>i64</td><td>datetime[μs]</td><td>f64</td><td>str</td><td>struct[3]</td></tr></thead><tbody><tr><td>1</td><td>2022-01-01 00:00:00</td><td>4.0</td><td>&quot;a&quot;</td><td>{1,4.0,&quot;a&quot;}</td></tr><tr><td>2</td><td>2022-01-02 00:00:00</td><td>5.0</td><td>&quot;b&quot;</td><td>{2,5.0,&quot;b&quot;}</td></tr><tr><td>3</td><td>2022-01-03 00:00:00</td><td>6.0</td><td>&quot;c&quot;</td><td>{3,6.0,&quot;c&quot;}</td></tr><tr><td>1</td><td>2022-01-04 00:00:00</td><td>7.0</td><td>&quot;d&quot;</td><td>{1,7.0,&quot;d&quot;}</td></tr><tr><td>2</td><td>2022-01-05 00:00:00</td><td>8.0</td><td>&quot;d&quot;</td><td>{2,8.0,&quot;d&quot;}</td></tr><tr><td>3</td><td>2022-01-06 00:00:00</td><td>9.0</td><td>&quot;d&quot;</td><td>{3,9.0,&quot;d&quot;}</td></tr></tbody></table></div>"
      ],
      "text/plain": [
       "shape: (6, 5)\n",
       "┌─────────┬─────────────────────┬───────┬────────┬─────────────┐\n",
       "│ integer ┆ date                ┆ float ┆ string ┆ struct      │\n",
       "│ ---     ┆ ---                 ┆ ---   ┆ ---    ┆ ---         │\n",
       "│ i64     ┆ datetime[μs]        ┆ f64   ┆ str    ┆ struct[3]   │\n",
       "╞═════════╪═════════════════════╪═══════╪════════╪═════════════╡\n",
       "│ 1       ┆ 2022-01-01 00:00:00 ┆ 4.0   ┆ a      ┆ {1,4.0,\"a\"} │\n",
       "│ 2       ┆ 2022-01-02 00:00:00 ┆ 5.0   ┆ b      ┆ {2,5.0,\"b\"} │\n",
       "│ 3       ┆ 2022-01-03 00:00:00 ┆ 6.0   ┆ c      ┆ {3,6.0,\"c\"} │\n",
       "│ 1       ┆ 2022-01-04 00:00:00 ┆ 7.0   ┆ d      ┆ {1,7.0,\"d\"} │\n",
       "│ 2       ┆ 2022-01-05 00:00:00 ┆ 8.0   ┆ d      ┆ {2,8.0,\"d\"} │\n",
       "│ 3       ┆ 2022-01-06 00:00:00 ┆ 9.0   ┆ d      ┆ {3,9.0,\"d\"} │\n",
       "└─────────┴─────────────────────┴───────┴────────┴─────────────┘"
      ]
     },
     "execution_count": 375,
     "metadata": {},
     "output_type": "execute_result"
    }
   ],
   "source": [
    "#| label: struct\n",
    "#| lst-label: struct\n",
    "#| lst-cap: Making a Polars Struct\n",
    "\n",
    "df.with_columns(\n",
    "  pl.struct(\n",
    "    pl.col(\"integer\"),\n",
    "    pl.col(\"float\"),\n",
    "    pl.col(\"string\"),\n",
    "    )\n",
    "  .alias(\"struct\")\n",
    "  )"
   ]
  },
  {
   "cell_type": "markdown",
   "id": "658caf47",
   "metadata": {},
   "source": [
    "Or more compactly:"
   ]
  },
  {
   "cell_type": "code",
   "execution_count": 385,
   "id": "53221cbb",
   "metadata": {},
   "outputs": [
    {
     "data": {
      "text/html": [
       "<div><style>\n",
       ".dataframe > thead > tr,\n",
       ".dataframe > tbody > tr {\n",
       "  text-align: right;\n",
       "  white-space: pre-wrap;\n",
       "}\n",
       "</style>\n",
       "<small>shape: (6, 5)</small><table border=\"1\" class=\"dataframe\"><thead><tr><th>integer</th><th>date</th><th>float</th><th>string</th><th>struct</th></tr><tr><td>i64</td><td>datetime[μs]</td><td>f64</td><td>str</td><td>struct[3]</td></tr></thead><tbody><tr><td>1</td><td>2022-01-01 00:00:00</td><td>4.0</td><td>&quot;a&quot;</td><td>{1,4.0,&quot;a&quot;}</td></tr><tr><td>2</td><td>2022-01-02 00:00:00</td><td>5.0</td><td>&quot;b&quot;</td><td>{2,5.0,&quot;b&quot;}</td></tr><tr><td>3</td><td>2022-01-03 00:00:00</td><td>6.0</td><td>&quot;c&quot;</td><td>{3,6.0,&quot;c&quot;}</td></tr><tr><td>1</td><td>2022-01-04 00:00:00</td><td>7.0</td><td>&quot;d&quot;</td><td>{1,7.0,&quot;d&quot;}</td></tr><tr><td>2</td><td>2022-01-05 00:00:00</td><td>8.0</td><td>&quot;d&quot;</td><td>{2,8.0,&quot;d&quot;}</td></tr><tr><td>3</td><td>2022-01-06 00:00:00</td><td>9.0</td><td>&quot;d&quot;</td><td>{3,9.0,&quot;d&quot;}</td></tr></tbody></table></div>"
      ],
      "text/plain": [
       "shape: (6, 5)\n",
       "┌─────────┬─────────────────────┬───────┬────────┬─────────────┐\n",
       "│ integer ┆ date                ┆ float ┆ string ┆ struct      │\n",
       "│ ---     ┆ ---                 ┆ ---   ┆ ---    ┆ ---         │\n",
       "│ i64     ┆ datetime[μs]        ┆ f64   ┆ str    ┆ struct[3]   │\n",
       "╞═════════╪═════════════════════╪═══════╪════════╪═════════════╡\n",
       "│ 1       ┆ 2022-01-01 00:00:00 ┆ 4.0   ┆ a      ┆ {1,4.0,\"a\"} │\n",
       "│ 2       ┆ 2022-01-02 00:00:00 ┆ 5.0   ┆ b      ┆ {2,5.0,\"b\"} │\n",
       "│ 3       ┆ 2022-01-03 00:00:00 ┆ 6.0   ┆ c      ┆ {3,6.0,\"c\"} │\n",
       "│ 1       ┆ 2022-01-04 00:00:00 ┆ 7.0   ┆ d      ┆ {1,7.0,\"d\"} │\n",
       "│ 2       ┆ 2022-01-05 00:00:00 ┆ 8.0   ┆ d      ┆ {2,8.0,\"d\"} │\n",
       "│ 3       ┆ 2022-01-06 00:00:00 ┆ 9.0   ┆ d      ┆ {3,9.0,\"d\"} │\n",
       "└─────────┴─────────────────────┴───────┴────────┴─────────────┘"
      ]
     },
     "execution_count": 376,
     "metadata": {},
     "output_type": "execute_result"
    }
   ],
   "source": [
    "df.with_columns(\n",
    "  pl.struct('integer', 'float', 'string').alias('struct')\n",
    "  )"
   ]
  },
  {
   "cell_type": "markdown",
   "id": "4330f4c9",
   "metadata": {},
   "source": [
    "Now add field names:"
   ]
  },
  {
   "cell_type": "code",
   "execution_count": 386,
   "id": "fe54d7be",
   "metadata": {},
   "outputs": [
    {
     "data": {
      "text/html": [
       "<div><style>\n",
       ".dataframe > thead > tr,\n",
       ".dataframe > tbody > tr {\n",
       "  text-align: right;\n",
       "  white-space: pre-wrap;\n",
       "}\n",
       "</style>\n",
       "<small>shape: (6, 1)</small><table border=\"1\" class=\"dataframe\"><thead><tr><th>struct</th></tr><tr><td>struct[3]</td></tr></thead><tbody><tr><td>{1,4.0,&quot;a&quot;}</td></tr><tr><td>{2,5.0,&quot;b&quot;}</td></tr><tr><td>{3,6.0,&quot;c&quot;}</td></tr><tr><td>{1,7.0,&quot;d&quot;}</td></tr><tr><td>{2,8.0,&quot;d&quot;}</td></tr><tr><td>{3,9.0,&quot;d&quot;}</td></tr></tbody></table></div>"
      ],
      "text/plain": [
       "shape: (6, 1)\n",
       "┌─────────────┐\n",
       "│ struct      │\n",
       "│ ---         │\n",
       "│ struct[3]   │\n",
       "╞═════════════╡\n",
       "│ {1,4.0,\"a\"} │\n",
       "│ {2,5.0,\"b\"} │\n",
       "│ {3,6.0,\"c\"} │\n",
       "│ {1,7.0,\"d\"} │\n",
       "│ {2,8.0,\"d\"} │\n",
       "│ {3,9.0,\"d\"} │\n",
       "└─────────────┘"
      ]
     },
     "execution_count": 377,
     "metadata": {},
     "output_type": "execute_result"
    }
   ],
   "source": [
    "df_with_struct = df.select(\n",
    "  pl.struct(\n",
    "    integer=pl.col(\"integer\"),\n",
    "    float=pl.col(\"float\"),\n",
    "    string=pl.col(\"string\"),\n",
    "    )\n",
    "  .alias(\"struct\")\n",
    "  )\n",
    "\n",
    "df_with_struct"
   ]
  },
  {
   "cell_type": "markdown",
   "id": "6185d381",
   "metadata": {},
   "source": [
    "Convert struct to string in JSON format"
   ]
  },
  {
   "cell_type": "code",
   "execution_count": 387,
   "id": "18fb568f",
   "metadata": {},
   "outputs": [
    {
     "data": {
      "text/html": [
       "<div><style>\n",
       ".dataframe > thead > tr,\n",
       ".dataframe > tbody > tr {\n",
       "  text-align: right;\n",
       "  white-space: pre-wrap;\n",
       "}\n",
       "</style>\n",
       "<small>shape: (6, 1)</small><table border=\"1\" class=\"dataframe\"><thead><tr><th>struct</th></tr><tr><td>str</td></tr></thead><tbody><tr><td>&quot;{&quot;integer&quot;:1,&quot;float&quot;:4.0,&quot;string&quot;:&quot;a&quot;}&quot;</td></tr><tr><td>&quot;{&quot;integer&quot;:2,&quot;float&quot;:5.0,&quot;string&quot;:&quot;b&quot;}&quot;</td></tr><tr><td>&quot;{&quot;integer&quot;:3,&quot;float&quot;:6.0,&quot;string&quot;:&quot;c&quot;}&quot;</td></tr><tr><td>&quot;{&quot;integer&quot;:1,&quot;float&quot;:7.0,&quot;string&quot;:&quot;d&quot;}&quot;</td></tr><tr><td>&quot;{&quot;integer&quot;:2,&quot;float&quot;:8.0,&quot;string&quot;:&quot;d&quot;}&quot;</td></tr><tr><td>&quot;{&quot;integer&quot;:3,&quot;float&quot;:9.0,&quot;string&quot;:&quot;d&quot;}&quot;</td></tr></tbody></table></div>"
      ],
      "text/plain": [
       "shape: (6, 1)\n",
       "┌────────────────────────────────────────┐\n",
       "│ struct                                 │\n",
       "│ ---                                    │\n",
       "│ str                                    │\n",
       "╞════════════════════════════════════════╡\n",
       "│ {\"integer\":1,\"float\":4.0,\"string\":\"a\"} │\n",
       "│ {\"integer\":2,\"float\":5.0,\"string\":\"b\"} │\n",
       "│ {\"integer\":3,\"float\":6.0,\"string\":\"c\"} │\n",
       "│ {\"integer\":1,\"float\":7.0,\"string\":\"d\"} │\n",
       "│ {\"integer\":2,\"float\":8.0,\"string\":\"d\"} │\n",
       "│ {\"integer\":3,\"float\":9.0,\"string\":\"d\"} │\n",
       "└────────────────────────────────────────┘"
      ]
     },
     "execution_count": 378,
     "metadata": {},
     "output_type": "execute_result"
    }
   ],
   "source": [
    "df_with_struct.select(\n",
    "  pl.col(\"struct\").struct.json_encode()\n",
    "  )"
   ]
  },
  {
   "cell_type": "markdown",
   "id": "457f1fba",
   "metadata": {},
   "source": [
    "Get field names"
   ]
  },
  {
   "cell_type": "code",
   "execution_count": 388,
   "id": "struct-fields",
   "metadata": {},
   "outputs": [
    {
     "data": {
      "text/plain": [
       "['integer', 'float', 'string']"
      ]
     },
     "execution_count": 379,
     "metadata": {},
     "output_type": "execute_result"
    }
   ],
   "source": [
    "#| label: struct-fields\n",
    "#| lst-label: struct-fields\n",
    "#| lst-cap: Getting the fields of a Polars Struct\n",
    "df_with_struct[\"struct\"].struct.fields"
   ]
  },
  {
   "cell_type": "markdown",
   "id": "9567fe77",
   "metadata": {},
   "source": [
    "::: {.callout-note}\n",
    "In @struct-fields, I used a Series method. \n",
    "For reasons I do not understand, `struct.fields` has currently only a `pl.Series` [version](https://docs.pola.rs/py-polars/html/reference/series/struct.html), and not a `pl.Expr` [version](https://docs.pola.rs/py-polars/html/reference/expressions/struct.html).\n",
    ":::\n",
    "\n",
    "\n",
    "Accessing fields"
   ]
  },
  {
   "cell_type": "code",
   "execution_count": 389,
   "id": "struct-access",
   "metadata": {},
   "outputs": [
    {
     "data": {
      "text/html": [
       "<div><style>\n",
       ".dataframe > thead > tr,\n",
       ".dataframe > tbody > tr {\n",
       "  text-align: right;\n",
       "  white-space: pre-wrap;\n",
       "}\n",
       "</style>\n",
       "<small>shape: (6, 1)</small><table border=\"1\" class=\"dataframe\"><thead><tr><th>integer</th></tr><tr><td>i64</td></tr></thead><tbody><tr><td>1</td></tr><tr><td>2</td></tr><tr><td>3</td></tr><tr><td>1</td></tr><tr><td>2</td></tr><tr><td>3</td></tr></tbody></table></div>"
      ],
      "text/plain": [
       "shape: (6, 1)\n",
       "┌─────────┐\n",
       "│ integer │\n",
       "│ ---     │\n",
       "│ i64     │\n",
       "╞═════════╡\n",
       "│ 1       │\n",
       "│ 2       │\n",
       "│ 3       │\n",
       "│ 1       │\n",
       "│ 2       │\n",
       "│ 3       │\n",
       "└─────────┘"
      ]
     },
     "execution_count": 380,
     "metadata": {},
     "output_type": "execute_result"
    }
   ],
   "source": [
    "#| label: struct-access\n",
    "df_with_struct.select(\n",
    "  pl.col(\"struct\").struct.field(\"integer\")\n",
    "  )"
   ]
  },
  {
   "cell_type": "markdown",
   "id": "0e33e8a2",
   "metadata": {},
   "source": [
    "Struct to columns with `unnest()`"
   ]
  },
  {
   "cell_type": "code",
   "execution_count": 390,
   "id": "e1ec4b3e",
   "metadata": {},
   "outputs": [
    {
     "data": {
      "text/html": [
       "<div><style>\n",
       ".dataframe > thead > tr,\n",
       ".dataframe > tbody > tr {\n",
       "  text-align: right;\n",
       "  white-space: pre-wrap;\n",
       "}\n",
       "</style>\n",
       "<small>shape: (6, 3)</small><table border=\"1\" class=\"dataframe\"><thead><tr><th>integer</th><th>float</th><th>string</th></tr><tr><td>i64</td><td>f64</td><td>str</td></tr></thead><tbody><tr><td>1</td><td>4.0</td><td>&quot;a&quot;</td></tr><tr><td>2</td><td>5.0</td><td>&quot;b&quot;</td></tr><tr><td>3</td><td>6.0</td><td>&quot;c&quot;</td></tr><tr><td>1</td><td>7.0</td><td>&quot;d&quot;</td></tr><tr><td>2</td><td>8.0</td><td>&quot;d&quot;</td></tr><tr><td>3</td><td>9.0</td><td>&quot;d&quot;</td></tr></tbody></table></div>"
      ],
      "text/plain": [
       "shape: (6, 3)\n",
       "┌─────────┬───────┬────────┐\n",
       "│ integer ┆ float ┆ string │\n",
       "│ ---     ┆ ---   ┆ ---    │\n",
       "│ i64     ┆ f64   ┆ str    │\n",
       "╞═════════╪═══════╪════════╡\n",
       "│ 1       ┆ 4.0   ┆ a      │\n",
       "│ 2       ┆ 5.0   ┆ b      │\n",
       "│ 3       ┆ 6.0   ┆ c      │\n",
       "│ 1       ┆ 7.0   ┆ d      │\n",
       "│ 2       ┆ 8.0   ┆ d      │\n",
       "│ 3       ┆ 9.0   ┆ d      │\n",
       "└─────────┴───────┴────────┘"
      ]
     },
     "execution_count": 381,
     "metadata": {},
     "output_type": "execute_result"
    }
   ],
   "source": [
    "df_with_struct.unnest(columns=[\"struct\"])"
   ]
  },
  {
   "cell_type": "markdown",
   "id": "dced8056",
   "metadata": {},
   "source": [
    "### Polars List\n",
    "\n",
    "When will I want to use a Polars List?\n",
    "\n",
    "1. When I want to hold variable length data in a single cell. E.g. a list of tags, a list of items in a shopping cart, etc.\n",
    "\n",
    "See [here](https://docs.pola.rs/user-guide/expressions/lists/) for more information on Polars Lists.\n",
    "\n",
    "\n",
    "Make a Polars Series with strings"
   ]
  },
  {
   "cell_type": "code",
   "execution_count": 391,
   "id": "list",
   "metadata": {},
   "outputs": [
    {
     "data": {
      "text/html": [
       "<div><style>\n",
       ".dataframe > thead > tr,\n",
       ".dataframe > tbody > tr {\n",
       "  text-align: right;\n",
       "  white-space: pre-wrap;\n",
       "}\n",
       "</style>\n",
       "<small>shape: (6, 1)</small><table border=\"1\" class=\"dataframe\"><thead><tr><th>employees</th></tr><tr><td>str</td></tr></thead><tbody><tr><td>&quot;Alice, Bob, Charlie&quot;</td></tr><tr><td>&quot;David, Eve, Frank&quot;</td></tr><tr><td>&quot;George, Helen, Ida, Jack, Kate&quot;</td></tr><tr><td>&quot;Liam, Mary, Noah, Olivia, Paul, Queen, Rose, Sam, Tom, Uma, Victor, Wendy, Xavier, Yara, Zane&quot;</td></tr><tr><td>&quot;Abe, Ben, Cal, Dan, Ed, Fred, Gus, Hal, Ike, Joe, Ken, Lou, Max, Ned, Ollie, Pat, Quin, Ray, Sam, Tom, Ulf, Vic, Will, Xan, Yul, Zed&quot;</td></tr><tr><td>&quot;Tim, Kim, Jim, Sim, Dim, Lim, Mim, Rim, Vim&quot;</td></tr></tbody></table></div>"
      ],
      "text/plain": [
       "shape: (6, 1)\n",
       "┌───────────────────────────────────────────────────────────────────────────────────────────────┐\n",
       "│ employees                                                                                     │\n",
       "│ ---                                                                                           │\n",
       "│ str                                                                                           │\n",
       "╞═══════════════════════════════════════════════════════════════════════════════════════════════╡\n",
       "│ Alice, Bob, Charlie                                                                           │\n",
       "│ David, Eve, Frank                                                                             │\n",
       "│ George, Helen, Ida, Jack, Kate                                                                │\n",
       "│ Liam, Mary, Noah, Olivia, Paul, Queen, Rose, Sam, Tom, Uma, Victor, Wendy, Xavier, Yara, Zane │\n",
       "│ Abe, Ben, Cal, Dan, Ed, Fred, Gus, Hal, Ike, Joe, Ken, Lou, Max, Ned, Ollie, Pat, Quin, Ray,  │\n",
       "│ Sam, Tom, Ulf, Vic, Will, Xan, Yul, Zed                                                       │\n",
       "│ Tim, Kim, Jim, Sim, Dim, Lim, Mim, Rim, Vim                                                   │\n",
       "└───────────────────────────────────────────────────────────────────────────────────────────────┘"
      ]
     },
     "execution_count": 382,
     "metadata": {},
     "output_type": "execute_result"
    }
   ],
   "source": [
    "#| label: list\n",
    "\n",
    "pl.Series([\"Alice, Bob, Charlie\", \"David, Eve, Frank\", \"George, Helen, Ida, Jack, Kate\"])\n",
    "\n",
    "df_with_long_strings = pl.DataFrame(\n",
    "  {\"employees\": [\n",
    "    \"Alice, Bob, Charlie\", \n",
    "    \"David, Eve, Frank\", \n",
    "    \"George, Helen, Ida, Jack, Kate\",\n",
    "    \"Liam, Mary, Noah, Olivia, Paul, Queen, Rose, Sam, Tom, Uma, Victor, Wendy, Xavier, Yara, Zane\",\n",
    "    \"Abe, Ben, Cal, Dan, Ed, Fred, Gus, Hal, Ike, Joe, Ken, Lou, Max, Ned, Ollie, Pat, Quin, Ray, Sam, Tom, Ulf, Vic, Will, Xan, Yul, Zed\",\n",
    "    \"Tim, Kim, Jim, Sim, Dim, Lim, Mim, Rim, Vim\",\n",
    "  ]}\n",
    ")\n",
    "\n",
    "pl.Config.set_fmt_str_lengths(200)\n",
    "df_with_long_strings"
   ]
  },
  {
   "cell_type": "markdown",
   "id": "34c8ea23",
   "metadata": {},
   "source": [
    "Break strings into list"
   ]
  },
  {
   "cell_type": "code",
   "execution_count": 392,
   "id": "list-split",
   "metadata": {},
   "outputs": [
    {
     "data": {
      "text/html": [
       "<div><style>\n",
       ".dataframe > thead > tr,\n",
       ".dataframe > tbody > tr {\n",
       "  text-align: right;\n",
       "  white-space: pre-wrap;\n",
       "}\n",
       "</style>\n",
       "<small>shape: (6, 1)</small><table border=\"1\" class=\"dataframe\"><thead><tr><th>employees</th></tr><tr><td>list[str]</td></tr></thead><tbody><tr><td>[&quot;Alice&quot;, &quot;Bob&quot;, &quot;Charlie&quot;]</td></tr><tr><td>[&quot;David&quot;, &quot;Eve&quot;, &quot;Frank&quot;]</td></tr><tr><td>[&quot;George&quot;, &quot;Helen&quot;, &quot;Ida&quot;, &quot;Jack&quot;, &quot;Kate&quot;]</td></tr><tr><td>[&quot;Liam&quot;, &quot;Mary&quot;, &quot;Noah&quot;, &quot;Olivia&quot;, &quot;Paul&quot;, &quot;Queen&quot;, &quot;Rose&quot;, &quot;Sam&quot;, &quot;Tom&quot;, &quot;Uma&quot;, &quot;Victor&quot;, &quot;Wendy&quot;, &quot;Xavier&quot;, &quot;Yara&quot;, &quot;Zane&quot;]</td></tr><tr><td>[&quot;Abe&quot;, &quot;Ben&quot;, &quot;Cal&quot;, &quot;Dan&quot;, &quot;Ed&quot;, &quot;Fred&quot;, &quot;Gus&quot;, &quot;Hal&quot;, &quot;Ike&quot;, &quot;Joe&quot;, &quot;Ken&quot;, &quot;Lou&quot;, &quot;Max&quot;, &quot;Ned&quot;, &quot;Ollie&quot;, &quot;Pat&quot;, &quot;Quin&quot;, &quot;Ray&quot;, &quot;Sam&quot;, &quot;Tom&quot;, &quot;Ulf&quot;, &quot;Vic&quot;, &quot;Will&quot;, &quot;Xan&quot;, &quot;Yul&quot;, &quot;Zed&quot;]</td></tr><tr><td>[&quot;Tim&quot;, &quot;Kim&quot;, &quot;Jim&quot;, &quot;Sim&quot;, &quot;Dim&quot;, &quot;Lim&quot;, &quot;Mim&quot;, &quot;Rim&quot;, &quot;Vim&quot;]</td></tr></tbody></table></div>"
      ],
      "text/plain": [
       "shape: (6, 1)\n",
       "┌──────────────────────────────────────────────────────────────────────────────────────────────────┐\n",
       "│ employees                                                                                        │\n",
       "│ ---                                                                                              │\n",
       "│ list[str]                                                                                        │\n",
       "╞══════════════════════════════════════════════════════════════════════════════════════════════════╡\n",
       "│ [\"Alice\", \"Bob\", \"Charlie\"]                                                                      │\n",
       "│ [\"David\", \"Eve\", \"Frank\"]                                                                        │\n",
       "│ [\"George\", \"Helen\", \"Ida\", \"Jack\", \"Kate\"]                                                       │\n",
       "│ [\"Liam\", \"Mary\", \"Noah\", \"Olivia\", \"Paul\", \"Queen\", \"Rose\", \"Sam\", \"Tom\", \"Uma\", \"Victor\",       │\n",
       "│ \"Wendy\", \"Xavier\", \"Yara\", \"Zane\"]                                                               │\n",
       "│ [\"Abe\", \"Ben\", \"Cal\", \"Dan\", \"Ed\", \"Fred\", \"Gus\", \"Hal\", \"Ike\", \"Joe\", \"Ken\", \"Lou\", \"Max\",      │\n",
       "│ \"Ned\", \"Ollie\", \"Pat\", \"Quin\", \"Ray\", \"Sam\", \"Tom\", \"Ulf\", \"Vic\", \"Will\", \"Xan\", \"Yul\", \"Zed\"]   │\n",
       "│ [\"Tim\", \"Kim\", \"Jim\", \"Sim\", \"Dim\", \"Lim\", \"Mim\", \"Rim\", \"Vim\"]                                  │\n",
       "└──────────────────────────────────────────────────────────────────────────────────────────────────┘"
      ]
     },
     "execution_count": 383,
     "metadata": {},
     "output_type": "execute_result"
    }
   ],
   "source": [
    "#| label: list-split\n",
    "\n",
    "df_with_list = df_with_long_strings.with_columns(\n",
    "  pl.col(\"employees\").str.split(\", \").alias(\"employees\")\n",
    "  )\n",
    "\n",
    "pl.Config.set_fmt_table_cell_list_len(100)\n",
    "df_with_list"
   ]
  },
  {
   "cell_type": "markdown",
   "id": "7b2c4a2a",
   "metadata": {},
   "source": [
    "Start Operating on List Elements"
   ]
  },
  {
   "cell_type": "code",
   "execution_count": 393,
   "id": "list-operations",
   "metadata": {},
   "outputs": [
    {
     "data": {
      "text/html": [
       "<div><style>\n",
       ".dataframe > thead > tr,\n",
       ".dataframe > tbody > tr {\n",
       "  text-align: right;\n",
       "  white-space: pre-wrap;\n",
       "}\n",
       "</style>\n",
       "<small>shape: (6, 5)</small><table border=\"1\" class=\"dataframe\"><thead><tr><th>n_employees</th><th>first_employee</th><th>last_employee</th><th>second_and_third_employees</th><th>contains_Alice</th></tr><tr><td>u32</td><td>str</td><td>str</td><td>list[str]</td><td>bool</td></tr></thead><tbody><tr><td>3</td><td>&quot;Alice&quot;</td><td>&quot;Charlie&quot;</td><td>[&quot;Bob&quot;, &quot;Charlie&quot;]</td><td>true</td></tr><tr><td>3</td><td>&quot;David&quot;</td><td>&quot;Frank&quot;</td><td>[&quot;Eve&quot;, &quot;Frank&quot;]</td><td>false</td></tr><tr><td>5</td><td>&quot;George&quot;</td><td>&quot;Kate&quot;</td><td>[&quot;Helen&quot;, &quot;Ida&quot;]</td><td>false</td></tr><tr><td>15</td><td>&quot;Liam&quot;</td><td>&quot;Zane&quot;</td><td>[&quot;Mary&quot;, &quot;Noah&quot;]</td><td>false</td></tr><tr><td>26</td><td>&quot;Abe&quot;</td><td>&quot;Zed&quot;</td><td>[&quot;Ben&quot;, &quot;Cal&quot;]</td><td>false</td></tr><tr><td>9</td><td>&quot;Tim&quot;</td><td>&quot;Vim&quot;</td><td>[&quot;Kim&quot;, &quot;Jim&quot;]</td><td>false</td></tr></tbody></table></div>"
      ],
      "text/plain": [
       "shape: (6, 5)\n",
       "┌─────────────┬────────────────┬───────────────┬────────────────────────────┬────────────────┐\n",
       "│ n_employees ┆ first_employee ┆ last_employee ┆ second_and_third_employees ┆ contains_Alice │\n",
       "│ ---         ┆ ---            ┆ ---           ┆ ---                        ┆ ---            │\n",
       "│ u32         ┆ str            ┆ str           ┆ list[str]                  ┆ bool           │\n",
       "╞═════════════╪════════════════╪═══════════════╪════════════════════════════╪════════════════╡\n",
       "│ 3           ┆ Alice          ┆ Charlie       ┆ [\"Bob\", \"Charlie\"]         ┆ true           │\n",
       "│ 3           ┆ David          ┆ Frank         ┆ [\"Eve\", \"Frank\"]           ┆ false          │\n",
       "│ 5           ┆ George         ┆ Kate          ┆ [\"Helen\", \"Ida\"]           ┆ false          │\n",
       "│ 15          ┆ Liam           ┆ Zane          ┆ [\"Mary\", \"Noah\"]           ┆ false          │\n",
       "│ 26          ┆ Abe            ┆ Zed           ┆ [\"Ben\", \"Cal\"]             ┆ false          │\n",
       "│ 9           ┆ Tim            ┆ Vim           ┆ [\"Kim\", \"Jim\"]             ┆ false          │\n",
       "└─────────────┴────────────────┴───────────────┴────────────────────────────┴────────────────┘"
      ]
     },
     "execution_count": 384,
     "metadata": {},
     "output_type": "execute_result"
    }
   ],
   "source": [
    "#| label: list-operations\n",
    "\n",
    "df_with_list.select(\n",
    "  pl.col(\"employees\").list.len().alias(\"n_employees\"),\n",
    "  pl.col(\"employees\").list.first().alias(\"first_employee\"),\n",
    "  # pl.col(\"employees\").list.get(0).alias(\"first_employee\"), will also work\n",
    "  pl.col(\"employees\").list.last().alias(\"last_employee\"),\n",
    "  # pl.col(\"employees\").list.get(-1).alias(\"last_employee\"), will also work\n",
    "  pl.col(\"employees\").list.slice(offset=1, length=2).alias(\"second_and_third_employees\"),\n",
    "  pl.col(\"employees\").list.contains(\"Alice\").alias(\"contains_Alice\")\n",
    ")"
   ]
  },
  {
   "cell_type": "markdown",
   "id": "e7232103",
   "metadata": {},
   "source": [
    "Things to note:\n",
    "\n",
    "1. Use `.list.` to access list methods.\n",
    "2. The full list of list methods is [here](https://docs.pola.rs/py-polars/html/reference/expressions/list.html).\n",
    "\n",
    "\n",
    "### explode()\n",
    "\n",
    "Polars List columns may be \"exploded\", i.e. broken into rows of a single list element each. \n"
   ]
  },
  {
   "cell_type": "code",
   "execution_count": 394,
   "id": "explode",
   "metadata": {},
   "outputs": [
    {
     "data": {
      "text/plain": [
       "(61, 1)"
      ]
     },
     "execution_count": 385,
     "metadata": {},
     "output_type": "execute_result"
    }
   ],
   "source": [
    "#| label: explode\n",
    "\n",
    "df_with_list.explode(\"employees\").shape"
   ]
  },
  {
   "cell_type": "markdown",
   "id": "2f81b78b",
   "metadata": {},
   "source": [
    "#### List-to-Struct and Struct-to List\n",
    "\n",
    "Sometimes, you need to convert a list to a struct. \n",
    "For instance, if you want to `unnest()` a list, you will need to convert it to a struct first. Alternatively, if you want named access to list elements. \n",
    "\n",
    "List to Struct"
   ]
  },
  {
   "cell_type": "code",
   "execution_count": 395,
   "id": "list-to-struct",
   "metadata": {},
   "outputs": [
    {
     "data": {
      "text/html": [
       "<div><style>\n",
       ".dataframe > thead > tr,\n",
       ".dataframe > tbody > tr {\n",
       "  text-align: right;\n",
       "  white-space: pre-wrap;\n",
       "}\n",
       "</style>\n",
       "<small>shape: (6, 26)</small><table border=\"1\" class=\"dataframe\"><thead><tr><th>field_0</th><th>field_1</th><th>field_2</th><th>field_3</th><th>field_4</th><th>field_5</th><th>field_6</th><th>field_7</th><th>field_8</th><th>field_9</th><th>field_10</th><th>field_11</th><th>field_12</th><th>field_13</th><th>field_14</th><th>field_15</th><th>field_16</th><th>field_17</th><th>field_18</th><th>field_19</th><th>field_20</th><th>field_21</th><th>field_22</th><th>field_23</th><th>field_24</th><th>field_25</th></tr><tr><td>str</td><td>str</td><td>str</td><td>str</td><td>str</td><td>str</td><td>str</td><td>str</td><td>str</td><td>str</td><td>str</td><td>str</td><td>str</td><td>str</td><td>str</td><td>str</td><td>str</td><td>str</td><td>str</td><td>str</td><td>str</td><td>str</td><td>str</td><td>str</td><td>str</td><td>str</td></tr></thead><tbody><tr><td>&quot;Alice&quot;</td><td>&quot;Bob&quot;</td><td>&quot;Charlie&quot;</td><td>null</td><td>null</td><td>null</td><td>null</td><td>null</td><td>null</td><td>null</td><td>null</td><td>null</td><td>null</td><td>null</td><td>null</td><td>null</td><td>null</td><td>null</td><td>null</td><td>null</td><td>null</td><td>null</td><td>null</td><td>null</td><td>null</td><td>null</td></tr><tr><td>&quot;David&quot;</td><td>&quot;Eve&quot;</td><td>&quot;Frank&quot;</td><td>null</td><td>null</td><td>null</td><td>null</td><td>null</td><td>null</td><td>null</td><td>null</td><td>null</td><td>null</td><td>null</td><td>null</td><td>null</td><td>null</td><td>null</td><td>null</td><td>null</td><td>null</td><td>null</td><td>null</td><td>null</td><td>null</td><td>null</td></tr><tr><td>&quot;George&quot;</td><td>&quot;Helen&quot;</td><td>&quot;Ida&quot;</td><td>&quot;Jack&quot;</td><td>&quot;Kate&quot;</td><td>null</td><td>null</td><td>null</td><td>null</td><td>null</td><td>null</td><td>null</td><td>null</td><td>null</td><td>null</td><td>null</td><td>null</td><td>null</td><td>null</td><td>null</td><td>null</td><td>null</td><td>null</td><td>null</td><td>null</td><td>null</td></tr><tr><td>&quot;Liam&quot;</td><td>&quot;Mary&quot;</td><td>&quot;Noah&quot;</td><td>&quot;Olivia&quot;</td><td>&quot;Paul&quot;</td><td>&quot;Queen&quot;</td><td>&quot;Rose&quot;</td><td>&quot;Sam&quot;</td><td>&quot;Tom&quot;</td><td>&quot;Uma&quot;</td><td>&quot;Victor&quot;</td><td>&quot;Wendy&quot;</td><td>&quot;Xavier&quot;</td><td>&quot;Yara&quot;</td><td>&quot;Zane&quot;</td><td>null</td><td>null</td><td>null</td><td>null</td><td>null</td><td>null</td><td>null</td><td>null</td><td>null</td><td>null</td><td>null</td></tr><tr><td>&quot;Abe&quot;</td><td>&quot;Ben&quot;</td><td>&quot;Cal&quot;</td><td>&quot;Dan&quot;</td><td>&quot;Ed&quot;</td><td>&quot;Fred&quot;</td><td>&quot;Gus&quot;</td><td>&quot;Hal&quot;</td><td>&quot;Ike&quot;</td><td>&quot;Joe&quot;</td><td>&quot;Ken&quot;</td><td>&quot;Lou&quot;</td><td>&quot;Max&quot;</td><td>&quot;Ned&quot;</td><td>&quot;Ollie&quot;</td><td>&quot;Pat&quot;</td><td>&quot;Quin&quot;</td><td>&quot;Ray&quot;</td><td>&quot;Sam&quot;</td><td>&quot;Tom&quot;</td><td>&quot;Ulf&quot;</td><td>&quot;Vic&quot;</td><td>&quot;Will&quot;</td><td>&quot;Xan&quot;</td><td>&quot;Yul&quot;</td><td>&quot;Zed&quot;</td></tr><tr><td>&quot;Tim&quot;</td><td>&quot;Kim&quot;</td><td>&quot;Jim&quot;</td><td>&quot;Sim&quot;</td><td>&quot;Dim&quot;</td><td>&quot;Lim&quot;</td><td>&quot;Mim&quot;</td><td>&quot;Rim&quot;</td><td>&quot;Vim&quot;</td><td>null</td><td>null</td><td>null</td><td>null</td><td>null</td><td>null</td><td>null</td><td>null</td><td>null</td><td>null</td><td>null</td><td>null</td><td>null</td><td>null</td><td>null</td><td>null</td><td>null</td></tr></tbody></table></div>"
      ],
      "text/plain": [
       "shape: (6, 26)\n",
       "┌─────────┬─────────┬─────────┬─────────┬───┬──────────┬──────────┬──────────┬──────────┐\n",
       "│ field_0 ┆ field_1 ┆ field_2 ┆ field_3 ┆ … ┆ field_22 ┆ field_23 ┆ field_24 ┆ field_25 │\n",
       "│ ---     ┆ ---     ┆ ---     ┆ ---     ┆   ┆ ---      ┆ ---      ┆ ---      ┆ ---      │\n",
       "│ str     ┆ str     ┆ str     ┆ str     ┆   ┆ str      ┆ str      ┆ str      ┆ str      │\n",
       "╞═════════╪═════════╪═════════╪═════════╪═══╪══════════╪══════════╪══════════╪══════════╡\n",
       "│ Alice   ┆ Bob     ┆ Charlie ┆ null    ┆ … ┆ null     ┆ null     ┆ null     ┆ null     │\n",
       "│ David   ┆ Eve     ┆ Frank   ┆ null    ┆ … ┆ null     ┆ null     ┆ null     ┆ null     │\n",
       "│ George  ┆ Helen   ┆ Ida     ┆ Jack    ┆ … ┆ null     ┆ null     ┆ null     ┆ null     │\n",
       "│ Liam    ┆ Mary    ┆ Noah    ┆ Olivia  ┆ … ┆ null     ┆ null     ┆ null     ┆ null     │\n",
       "│ Abe     ┆ Ben     ┆ Cal     ┆ Dan     ┆ … ┆ Will     ┆ Xan      ┆ Yul      ┆ Zed      │\n",
       "│ Tim     ┆ Kim     ┆ Jim     ┆ Sim     ┆ … ┆ null     ┆ null     ┆ null     ┆ null     │\n",
       "└─────────┴─────────┴─────────┴─────────┴───┴──────────┴──────────┴──────────┴──────────┘"
      ]
     },
     "execution_count": 386,
     "metadata": {},
     "output_type": "execute_result"
    }
   ],
   "source": [
    "#| label: list-to-struct\n",
    "\n",
    "(\n",
    "  df_with_list\n",
    "  .select(\n",
    "    pl.col('employees').list.to_struct(\n",
    "      n_field_strategy='max_width',\n",
    "    )\n",
    "  )\n",
    "  .unnest('employees')\n",
    ")"
   ]
  },
  {
   "cell_type": "markdown",
   "id": "3d62dcc4",
   "metadata": {},
   "source": [
    "When converting list to struct there are two things to consider: the number of fields and their names.\n",
    "The number of fields is governed by the `n_field_strategy` argument.\n",
    "The name of the fields is governed by the `fields` argument.\n",
    "\n",
    "\n",
    "### Polars Array\n",
    "\n",
    "As of March 2024, Arrays are quite new to Polars. \n",
    "Currently, the behave mostly like lists, but with a fixed length.\n",
    "I can expect that the fixed length constraint will allow for more efficient memory allocation, and simpler API than the more general Polars Lists. \n",
    "\n",
    "\n",
    "See [here](https://docs.pola.rs/py-polars/html/reference/expressions/array.html) for more information on Polars Arrays.\n",
    "\n",
    "\n",
    "\n",
    "\n",
    "\n",
    "\n",
    "\n",
    "\n",
    "## Reshaping\n",
    "\n",
    "High level:\n",
    "\n",
    "-   `df.transpose()` as the name suggests.\n",
    "-   `df.melt()` for wide to long.\n",
    "-   `df.pivot()` for long to wide.\n",
    "-   `df.unnest()` for breaking structs into columns.\n",
    "-   `df.unstack()`\n",
    "\n",
    "\n",
    "\n",
    "### transpose()\n",
    "\n",
    "Recall\n"
   ]
  },
  {
   "cell_type": "code",
   "execution_count": 396,
   "id": "b6b17ebe",
   "metadata": {},
   "outputs": [
    {
     "data": {
      "text/html": [
       "<div><style>\n",
       ".dataframe > thead > tr,\n",
       ".dataframe > tbody > tr {\n",
       "  text-align: right;\n",
       "  white-space: pre-wrap;\n",
       "}\n",
       "</style>\n",
       "<small>shape: (6, 4)</small><table border=\"1\" class=\"dataframe\"><thead><tr><th>integer</th><th>date</th><th>float</th><th>string</th></tr><tr><td>i64</td><td>datetime[μs]</td><td>f64</td><td>str</td></tr></thead><tbody><tr><td>1</td><td>2022-01-01 00:00:00</td><td>4.0</td><td>&quot;a&quot;</td></tr><tr><td>2</td><td>2022-01-02 00:00:00</td><td>5.0</td><td>&quot;b&quot;</td></tr><tr><td>3</td><td>2022-01-03 00:00:00</td><td>6.0</td><td>&quot;c&quot;</td></tr><tr><td>1</td><td>2022-01-04 00:00:00</td><td>7.0</td><td>&quot;d&quot;</td></tr><tr><td>2</td><td>2022-01-05 00:00:00</td><td>8.0</td><td>&quot;d&quot;</td></tr><tr><td>3</td><td>2022-01-06 00:00:00</td><td>9.0</td><td>&quot;d&quot;</td></tr></tbody></table></div>"
      ],
      "text/plain": [
       "shape: (6, 4)\n",
       "┌─────────┬─────────────────────┬───────┬────────┐\n",
       "│ integer ┆ date                ┆ float ┆ string │\n",
       "│ ---     ┆ ---                 ┆ ---   ┆ ---    │\n",
       "│ i64     ┆ datetime[μs]        ┆ f64   ┆ str    │\n",
       "╞═════════╪═════════════════════╪═══════╪════════╡\n",
       "│ 1       ┆ 2022-01-01 00:00:00 ┆ 4.0   ┆ a      │\n",
       "│ 2       ┆ 2022-01-02 00:00:00 ┆ 5.0   ┆ b      │\n",
       "│ 3       ┆ 2022-01-03 00:00:00 ┆ 6.0   ┆ c      │\n",
       "│ 1       ┆ 2022-01-04 00:00:00 ┆ 7.0   ┆ d      │\n",
       "│ 2       ┆ 2022-01-05 00:00:00 ┆ 8.0   ┆ d      │\n",
       "│ 3       ┆ 2022-01-06 00:00:00 ┆ 9.0   ┆ d      │\n",
       "└─────────┴─────────────────────┴───────┴────────┘"
      ]
     },
     "execution_count": 387,
     "metadata": {},
     "output_type": "execute_result"
    }
   ],
   "source": [
    "df"
   ]
  },
  {
   "cell_type": "markdown",
   "id": "28dd1c0c",
   "metadata": {},
   "source": [
    "Since there are no indices, if you want to keep the column names, as a new column you need to use the `include_header=True` argument."
   ]
  },
  {
   "cell_type": "code",
   "execution_count": 397,
   "id": "670ec921",
   "metadata": {},
   "outputs": [
    {
     "data": {
      "text/html": [
       "<div><style>\n",
       ".dataframe > thead > tr,\n",
       ".dataframe > tbody > tr {\n",
       "  text-align: right;\n",
       "  white-space: pre-wrap;\n",
       "}\n",
       "</style>\n",
       "<small>shape: (4, 7)</small><table border=\"1\" class=\"dataframe\"><thead><tr><th>column</th><th>column_0</th><th>column_1</th><th>column_2</th><th>column_3</th><th>column_4</th><th>column_5</th></tr><tr><td>str</td><td>str</td><td>str</td><td>str</td><td>str</td><td>str</td><td>str</td></tr></thead><tbody><tr><td>&quot;integer&quot;</td><td>&quot;1&quot;</td><td>&quot;2&quot;</td><td>&quot;3&quot;</td><td>&quot;1&quot;</td><td>&quot;2&quot;</td><td>&quot;3&quot;</td></tr><tr><td>&quot;date&quot;</td><td>&quot;2022-01-01 00:00:00.000000&quot;</td><td>&quot;2022-01-02 00:00:00.000000&quot;</td><td>&quot;2022-01-03 00:00:00.000000&quot;</td><td>&quot;2022-01-04 00:00:00.000000&quot;</td><td>&quot;2022-01-05 00:00:00.000000&quot;</td><td>&quot;2022-01-06 00:00:00.000000&quot;</td></tr><tr><td>&quot;float&quot;</td><td>&quot;4.0&quot;</td><td>&quot;5.0&quot;</td><td>&quot;6.0&quot;</td><td>&quot;7.0&quot;</td><td>&quot;8.0&quot;</td><td>&quot;9.0&quot;</td></tr><tr><td>&quot;string&quot;</td><td>&quot;a&quot;</td><td>&quot;b&quot;</td><td>&quot;c&quot;</td><td>&quot;d&quot;</td><td>&quot;d&quot;</td><td>&quot;d&quot;</td></tr></tbody></table></div>"
      ],
      "text/plain": [
       "shape: (4, 7)\n",
       "┌─────────┬──────────────┬──────────────┬──────────────┬──────────────┬──────────────┬─────────────┐\n",
       "│ column  ┆ column_0     ┆ column_1     ┆ column_2     ┆ column_3     ┆ column_4     ┆ column_5    │\n",
       "│ ---     ┆ ---          ┆ ---          ┆ ---          ┆ ---          ┆ ---          ┆ ---         │\n",
       "│ str     ┆ str          ┆ str          ┆ str          ┆ str          ┆ str          ┆ str         │\n",
       "╞═════════╪══════════════╪══════════════╪══════════════╪══════════════╪══════════════╪═════════════╡\n",
       "│ integer ┆ 1            ┆ 2            ┆ 3            ┆ 1            ┆ 2            ┆ 3           │\n",
       "│ date    ┆ 2022-01-01   ┆ 2022-01-02   ┆ 2022-01-03   ┆ 2022-01-04   ┆ 2022-01-05   ┆ 2022-01-06  │\n",
       "│         ┆ 00:00:00.000 ┆ 00:00:00.000 ┆ 00:00:00.000 ┆ 00:00:00.000 ┆ 00:00:00.000 ┆ 00:00:00.00 │\n",
       "│         ┆ 000          ┆ 000          ┆ 000          ┆ 000          ┆ 000          ┆ 0000        │\n",
       "│ float   ┆ 4.0          ┆ 5.0          ┆ 6.0          ┆ 7.0          ┆ 8.0          ┆ 9.0         │\n",
       "│ string  ┆ a            ┆ b            ┆ c            ┆ d            ┆ d            ┆ d           │\n",
       "└─────────┴──────────────┴──────────────┴──────────────┴──────────────┴──────────────┴─────────────┘"
      ]
     },
     "execution_count": 388,
     "metadata": {},
     "output_type": "execute_result"
    }
   ],
   "source": [
    "df.transpose(include_header=True)"
   ]
  },
  {
   "cell_type": "markdown",
   "id": "e70d0140",
   "metadata": {},
   "source": [
    "### Wide to Long- melt()\n",
    "\n",
    "Some data in wide format"
   ]
  },
  {
   "cell_type": "code",
   "execution_count": 398,
   "id": "03aba0ce",
   "metadata": {},
   "outputs": [
    {
     "data": {
      "text/html": [
       "<div><style>\n",
       ".dataframe > thead > tr,\n",
       ".dataframe > tbody > tr {\n",
       "  text-align: right;\n",
       "  white-space: pre-wrap;\n",
       "}\n",
       "</style>\n",
       "<small>shape: (3, 4)</small><table border=\"1\" class=\"dataframe\"><thead><tr><th>famid</th><th>birth</th><th>ht1</th><th>ht2</th></tr><tr><td>str</td><td>i64</td><td>f64</td><td>f64</td></tr></thead><tbody><tr><td>&quot;11&quot;</td><td>1</td><td>2.8</td><td>3.4</td></tr><tr><td>&quot;12&quot;</td><td>2</td><td>2.9</td><td>3.8</td></tr><tr><td>&quot;13&quot;</td><td>3</td><td>2.2</td><td>2.9</td></tr></tbody></table></div>"
      ],
      "text/plain": [
       "shape: (3, 4)\n",
       "┌───────┬───────┬─────┬─────┐\n",
       "│ famid ┆ birth ┆ ht1 ┆ ht2 │\n",
       "│ ---   ┆ ---   ┆ --- ┆ --- │\n",
       "│ str   ┆ i64   ┆ f64 ┆ f64 │\n",
       "╞═══════╪═══════╪═════╪═════╡\n",
       "│ 11    ┆ 1     ┆ 2.8 ┆ 3.4 │\n",
       "│ 12    ┆ 2     ┆ 2.9 ┆ 3.8 │\n",
       "│ 13    ┆ 3     ┆ 2.2 ┆ 2.9 │\n",
       "└───────┴───────┴─────┴─────┘"
      ]
     },
     "execution_count": 389,
     "metadata": {},
     "output_type": "execute_result"
    }
   ],
   "source": [
    "# The following example is adapted from Pandas documentation: https://Pandas.pydata.org/docs/reference/api/Pandas.wide_to_long.html\n",
    "\n",
    "np.random.seed(123)\n",
    "wide = pl.DataFrame({\n",
    "    'famid': [\"11\", \"12\", \"13\"],\n",
    "    'birth': [1, 2, 3],\n",
    "    'ht1': [2.8, 2.9, 2.2],\n",
    "    'ht2': [3.4, 3.8, 2.9]})\n",
    "\n",
    "wide"
   ]
  },
  {
   "cell_type": "markdown",
   "id": "17b9f1ec",
   "metadata": {},
   "source": [
    "Reshape into long format"
   ]
  },
  {
   "cell_type": "code",
   "execution_count": 399,
   "id": "179ea544",
   "metadata": {},
   "outputs": [
    {
     "data": {
      "text/html": [
       "<div><style>\n",
       ".dataframe > thead > tr,\n",
       ".dataframe > tbody > tr {\n",
       "  text-align: right;\n",
       "  white-space: pre-wrap;\n",
       "}\n",
       "</style>\n",
       "<small>shape: (6, 4)</small><table border=\"1\" class=\"dataframe\"><thead><tr><th>famid</th><th>birth</th><th>treatment</th><th>height</th></tr><tr><td>str</td><td>i64</td><td>str</td><td>f64</td></tr></thead><tbody><tr><td>&quot;11&quot;</td><td>1</td><td>&quot;ht1&quot;</td><td>2.8</td></tr><tr><td>&quot;12&quot;</td><td>2</td><td>&quot;ht1&quot;</td><td>2.9</td></tr><tr><td>&quot;13&quot;</td><td>3</td><td>&quot;ht1&quot;</td><td>2.2</td></tr><tr><td>&quot;11&quot;</td><td>1</td><td>&quot;ht2&quot;</td><td>3.4</td></tr><tr><td>&quot;12&quot;</td><td>2</td><td>&quot;ht2&quot;</td><td>3.8</td></tr><tr><td>&quot;13&quot;</td><td>3</td><td>&quot;ht2&quot;</td><td>2.9</td></tr></tbody></table></div>"
      ],
      "text/plain": [
       "shape: (6, 4)\n",
       "┌───────┬───────┬───────────┬────────┐\n",
       "│ famid ┆ birth ┆ treatment ┆ height │\n",
       "│ ---   ┆ ---   ┆ ---       ┆ ---    │\n",
       "│ str   ┆ i64   ┆ str       ┆ f64    │\n",
       "╞═══════╪═══════╪═══════════╪════════╡\n",
       "│ 11    ┆ 1     ┆ ht1       ┆ 2.8    │\n",
       "│ 12    ┆ 2     ┆ ht1       ┆ 2.9    │\n",
       "│ 13    ┆ 3     ┆ ht1       ┆ 2.2    │\n",
       "│ 11    ┆ 1     ┆ ht2       ┆ 3.4    │\n",
       "│ 12    ┆ 2     ┆ ht2       ┆ 3.8    │\n",
       "│ 13    ┆ 3     ┆ ht2       ┆ 2.9    │\n",
       "└───────┴───────┴───────────┴────────┘"
      ]
     },
     "execution_count": 390,
     "metadata": {},
     "output_type": "execute_result"
    }
   ],
   "source": [
    "wide.melt(\n",
    "  id_vars=['famid', 'birth'], \n",
    "  value_vars=['ht1', 'ht2'], \n",
    "  variable_name='treatment', \n",
    "  value_name='height')"
   ]
  },
  {
   "cell_type": "markdown",
   "id": "59a15760",
   "metadata": {},
   "source": [
    "Things to note:\n",
    "\n",
    "- `id_vars` are the columns that index the wide format; these will be repeated.\n",
    "- `value_vars` are the columns that hold information in the wide format; these will be stacked in the long format.\n",
    "- `variable_name` is the column name, in the long format, that holds the column names from the wide format. The indexing columns in the long format will thus be `id_vars`+`variable_name`.\n",
    "- `value_name` is the column name, in the long format, that holds the values after stacking.\n",
    "\n",
    "\n",
    "\n",
    "### Long to Wide- pivot()\n"
   ]
  },
  {
   "cell_type": "code",
   "execution_count": 400,
   "id": "33b3ad46",
   "metadata": {},
   "outputs": [
    {
     "data": {
      "text/html": [
       "<div><style>\n",
       ".dataframe > thead > tr,\n",
       ".dataframe > tbody > tr {\n",
       "  text-align: right;\n",
       "  white-space: pre-wrap;\n",
       "}\n",
       "</style>\n",
       "<small>shape: (6, 3)</small><table border=\"1\" class=\"dataframe\"><thead><tr><th>id</th><th>treatment</th><th>height</th></tr><tr><td>i64</td><td>str</td><td>f64</td></tr></thead><tbody><tr><td>1</td><td>&quot;A&quot;</td><td>2.8</td></tr><tr><td>1</td><td>&quot;B&quot;</td><td>2.9</td></tr><tr><td>2</td><td>&quot;A&quot;</td><td>1.9</td></tr><tr><td>2</td><td>&quot;B&quot;</td><td>2.2</td></tr><tr><td>3</td><td>&quot;A&quot;</td><td>2.3</td></tr><tr><td>3</td><td>&quot;B&quot;</td><td>2.1</td></tr></tbody></table></div>"
      ],
      "text/plain": [
       "shape: (6, 3)\n",
       "┌─────┬───────────┬────────┐\n",
       "│ id  ┆ treatment ┆ height │\n",
       "│ --- ┆ ---       ┆ ---    │\n",
       "│ i64 ┆ str       ┆ f64    │\n",
       "╞═════╪═══════════╪════════╡\n",
       "│ 1   ┆ A         ┆ 2.8    │\n",
       "│ 1   ┆ B         ┆ 2.9    │\n",
       "│ 2   ┆ A         ┆ 1.9    │\n",
       "│ 2   ┆ B         ┆ 2.2    │\n",
       "│ 3   ┆ A         ┆ 2.3    │\n",
       "│ 3   ┆ B         ┆ 2.1    │\n",
       "└─────┴───────────┴────────┘"
      ]
     },
     "execution_count": 391,
     "metadata": {},
     "output_type": "execute_result"
    }
   ],
   "source": [
    "# Example adapted from https://stackoverflow.com/questions/5890584/how-to-reshape-data-from-long-to-wide-format\n",
    "\n",
    "long = pl.DataFrame({\n",
    "    'id': [1, 1, 2, 2, 3, 3],\n",
    "    'treatment': ['A', 'B', 'A', 'B', 'A', 'B'],\n",
    "    'height': [2.8, 2.9, 1.9, 2.2, 2.3, 2.1]\n",
    "    })\n",
    "  \n",
    "long"
   ]
  },
  {
   "cell_type": "markdown",
   "id": "5941efb5",
   "metadata": {},
   "source": [
    "Pivot Without Aggregation"
   ]
  },
  {
   "cell_type": "code",
   "execution_count": 401,
   "id": "f118d377",
   "metadata": {},
   "outputs": [
    {
     "data": {
      "text/html": [
       "<div><style>\n",
       ".dataframe > thead > tr,\n",
       ".dataframe > tbody > tr {\n",
       "  text-align: right;\n",
       "  white-space: pre-wrap;\n",
       "}\n",
       "</style>\n",
       "<small>shape: (3, 3)</small><table border=\"1\" class=\"dataframe\"><thead><tr><th>id</th><th>A</th><th>B</th></tr><tr><td>i64</td><td>f64</td><td>f64</td></tr></thead><tbody><tr><td>1</td><td>2.8</td><td>2.9</td></tr><tr><td>2</td><td>1.9</td><td>2.2</td></tr><tr><td>3</td><td>2.3</td><td>2.1</td></tr></tbody></table></div>"
      ],
      "text/plain": [
       "shape: (3, 3)\n",
       "┌─────┬─────┬─────┐\n",
       "│ id  ┆ A   ┆ B   │\n",
       "│ --- ┆ --- ┆ --- │\n",
       "│ i64 ┆ f64 ┆ f64 │\n",
       "╞═════╪═════╪═════╡\n",
       "│ 1   ┆ 2.8 ┆ 2.9 │\n",
       "│ 2   ┆ 1.9 ┆ 2.2 │\n",
       "│ 3   ┆ 2.3 ┆ 2.1 │\n",
       "└─────┴─────┴─────┘"
      ]
     },
     "execution_count": 392,
     "metadata": {},
     "output_type": "execute_result"
    }
   ],
   "source": [
    "long.pivot(\n",
    "  index='id', # index in the wide format\n",
    "  columns='treatment', # defines columns in the wide format\n",
    "  values='height',\n",
    "  )"
   ]
  },
  {
   "cell_type": "markdown",
   "id": "ace92928",
   "metadata": {},
   "source": [
    "If each combinatio of `index=` and `columns=` maps to more than a single value of `values=`, you can use the `aggregate_function=` argument of `.pivot()`.\n",
    "\n",
    "\n",
    "\n",
    "#### pivot() VS value_counts()\n",
    "\n",
    "Here are two ways to count the number of unique values in a column, by group.\n"
   ]
  },
  {
   "cell_type": "code",
   "execution_count": 402,
   "id": "pivot-vs-value_counts",
   "metadata": {},
   "outputs": [],
   "source": [
    "#| label: pivot-vs-value_counts\n",
    "\n",
    "df_to_count = (\n",
    "  pl.DataFrame({\n",
    "    \"group\": [\"A\", \"A\", \"A\", \"B\", \"B\", \"B\"],\n",
    "    \"value\": [1, 2, 3, 1, 2, 3],\n",
    "    })\n",
    ")"
   ]
  },
  {
   "cell_type": "markdown",
   "id": "e7b6bce9",
   "metadata": {},
   "source": [
    "How to get the distribution of `value` by `group`?\n",
    "\n",
    "The `.pivot()` method:\n"
   ]
  },
  {
   "cell_type": "code",
   "execution_count": 403,
   "id": "pivot-vs-value_counts-0",
   "metadata": {},
   "outputs": [
    {
     "data": {
      "text/html": [
       "<div><style>\n",
       ".dataframe > thead > tr,\n",
       ".dataframe > tbody > tr {\n",
       "  text-align: right;\n",
       "  white-space: pre-wrap;\n",
       "}\n",
       "</style>\n",
       "<small>shape: (2, 4)</small><table border=\"1\" class=\"dataframe\"><thead><tr><th>group</th><th>1</th><th>2</th><th>3</th></tr><tr><td>str</td><td>u32</td><td>u32</td><td>u32</td></tr></thead><tbody><tr><td>&quot;A&quot;</td><td>1</td><td>1</td><td>1</td></tr><tr><td>&quot;B&quot;</td><td>1</td><td>1</td><td>1</td></tr></tbody></table></div>"
      ],
      "text/plain": [
       "shape: (2, 4)\n",
       "┌───────┬─────┬─────┬─────┐\n",
       "│ group ┆ 1   ┆ 2   ┆ 3   │\n",
       "│ ---   ┆ --- ┆ --- ┆ --- │\n",
       "│ str   ┆ u32 ┆ u32 ┆ u32 │\n",
       "╞═══════╪═════╪═════╪═════╡\n",
       "│ A     ┆ 1   ┆ 1   ┆ 1   │\n",
       "│ B     ┆ 1   ┆ 1   ┆ 1   │\n",
       "└───────┴─────┴─────┴─────┘"
      ]
     },
     "execution_count": 394,
     "metadata": {},
     "output_type": "execute_result"
    }
   ],
   "source": [
    "#| label: pivot-vs-value_counts-0\n",
    "df_to_count.pivot(\n",
    "  index=\"group\",\n",
    "  columns=\"value\",\n",
    "  values=\"value\",\n",
    "  aggregate_function=\"len\",\n",
    "  )"
   ]
  },
  {
   "cell_type": "markdown",
   "id": "de2a337e",
   "metadata": {},
   "source": [
    "The `.value_counts()` method:\n"
   ]
  },
  {
   "cell_type": "code",
   "execution_count": 404,
   "id": "pivot-vs-value_counts-1",
   "metadata": {},
   "outputs": [
    {
     "data": {
      "text/html": [
       "<div><style>\n",
       ".dataframe > thead > tr,\n",
       ".dataframe > tbody > tr {\n",
       "  text-align: right;\n",
       "  white-space: pre-wrap;\n",
       "}\n",
       "</style>\n",
       "<small>shape: (2, 2)</small><table border=\"1\" class=\"dataframe\"><thead><tr><th>group</th><th>n_unique_values</th></tr><tr><td>str</td><td>list[struct[2]]</td></tr></thead><tbody><tr><td>&quot;A&quot;</td><td>[{2,1}, {3,1}, {1,1}]</td></tr><tr><td>&quot;B&quot;</td><td>[{1,1}, {2,1}, {3,1}]</td></tr></tbody></table></div>"
      ],
      "text/plain": [
       "shape: (2, 2)\n",
       "┌───────┬───────────────────────┐\n",
       "│ group ┆ n_unique_values       │\n",
       "│ ---   ┆ ---                   │\n",
       "│ str   ┆ list[struct[2]]       │\n",
       "╞═══════╪═══════════════════════╡\n",
       "│ A     ┆ [{2,1}, {3,1}, {1,1}] │\n",
       "│ B     ┆ [{1,1}, {2,1}, {3,1}] │\n",
       "└───────┴───────────────────────┘"
      ]
     },
     "execution_count": 395,
     "metadata": {},
     "output_type": "execute_result"
    }
   ],
   "source": [
    "#| label: pivot-vs-value_counts-1\n",
    "counts_with_value_counts = (\n",
    "  df_to_count\n",
    "  .group_by(\"group\")\n",
    "  .agg(\n",
    "    pl.col(\"value\").value_counts().alias(\"n_unique_values\")\n",
    "  )\n",
    ")\n",
    "\n",
    "counts_with_value_counts"
   ]
  },
  {
   "cell_type": "markdown",
   "id": "88b56a4a",
   "metadata": {},
   "source": [
    "Things to note:\n",
    "\n",
    "- The `.pivot()` methods return a column per unique value. \n",
    "- `value_counts()` returns a Polars-List of Polars-Struct per group. This may be a pro or a con; depending on your planned usage, or the number of unique values in each group. To see this, consider a case where each group has 1000 value, non overlapping with the other groups; how many columns will the `.pivot()` method return?\n",
    "\n",
    "\n",
    "Here is my best attempt to extract the frequencies of each value. \n",
    "If you have a better solution, please let me know."
   ]
  },
  {
   "cell_type": "code",
   "execution_count": 405,
   "id": "pivot-vs-value_counts-2",
   "metadata": {},
   "outputs": [
    {
     "data": {
      "text/html": [
       "<div><style>\n",
       ".dataframe > thead > tr,\n",
       ".dataframe > tbody > tr {\n",
       "  text-align: right;\n",
       "  white-space: pre-wrap;\n",
       "}\n",
       "</style>\n",
       "<small>shape: (2, 2)</small><table border=\"1\" class=\"dataframe\"><thead><tr><th>group</th><th>n_unique_values</th></tr><tr><td>str</td><td>str</td></tr></thead><tbody><tr><td>&quot;A&quot;</td><td>&quot;{&quot;field_0&quot;:{&quot;value&quot;:2,&quot;count&quot;:1},&quot;field_1&quot;:{&quot;value&quot;:3,&quot;count&quot;:1},&quot;field_2&quot;:{&quot;value&quot;:1,&quot;count&quot;:1}}&quot;</td></tr><tr><td>&quot;B&quot;</td><td>&quot;{&quot;field_0&quot;:{&quot;value&quot;:1,&quot;count&quot;:1},&quot;field_1&quot;:{&quot;value&quot;:2,&quot;count&quot;:1},&quot;field_2&quot;:{&quot;value&quot;:3,&quot;count&quot;:1}}&quot;</td></tr></tbody></table></div>"
      ],
      "text/plain": [
       "shape: (2, 2)\n",
       "┌───────┬──────────────────────────────────────────────────────────────────────────────────────────┐\n",
       "│ group ┆ n_unique_values                                                                          │\n",
       "│ ---   ┆ ---                                                                                      │\n",
       "│ str   ┆ str                                                                                      │\n",
       "╞═══════╪══════════════════════════════════════════════════════════════════════════════════════════╡\n",
       "│ A     ┆ {\"field_0\":{\"value\":2,\"count\":1},\"field_1\":{\"value\":3,\"count\":1},\"field_2\":{\"value\":1,\"c │\n",
       "│       ┆ ount\":1}}                                                                                │\n",
       "│ B     ┆ {\"field_0\":{\"value\":1,\"count\":1},\"field_1\":{\"value\":2,\"count\":1},\"field_2\":{\"value\":3,\"c │\n",
       "│       ┆ ount\":1}}                                                                                │\n",
       "└───────┴──────────────────────────────────────────────────────────────────────────────────────────┘"
      ]
     },
     "execution_count": 396,
     "metadata": {},
     "output_type": "execute_result"
    }
   ],
   "source": [
    "#| label: pivot-vs-value_counts-2\n",
    "(\n",
    "  counts_with_value_counts\n",
    "  .with_columns(\n",
    "    pl.col('n_unique_values').list.to_struct().struct.json_encode()\n",
    "  )\n",
    ")"
   ]
  },
  {
   "cell_type": "markdown",
   "id": "4d8dec13",
   "metadata": {},
   "source": [
    "### Long to Wide- unstack()\n",
    "\n",
    "Another way to pivot from long to wide, which is less general but more efficient, is the `unstack()` method.\n",
    "Unstacking is much \"dumber\" than pivoting, and thus, much faster. \n"
   ]
  },
  {
   "cell_type": "code",
   "execution_count": 406,
   "id": "unstack",
   "metadata": {},
   "outputs": [
    {
     "data": {
      "text/html": [
       "<div><style>\n",
       ".dataframe > thead > tr,\n",
       ".dataframe > tbody > tr {\n",
       "  text-align: right;\n",
       "  white-space: pre-wrap;\n",
       "}\n",
       "</style>\n",
       "<small>shape: (3, 2)</small><table border=\"1\" class=\"dataframe\"><thead><tr><th>height_0</th><th>height_1</th></tr><tr><td>f64</td><td>f64</td></tr></thead><tbody><tr><td>2.8</td><td>2.9</td></tr><tr><td>1.9</td><td>2.2</td></tr><tr><td>2.3</td><td>2.1</td></tr></tbody></table></div>"
      ],
      "text/plain": [
       "shape: (3, 2)\n",
       "┌──────────┬──────────┐\n",
       "│ height_0 ┆ height_1 │\n",
       "│ ---      ┆ ---      │\n",
       "│ f64      ┆ f64      │\n",
       "╞══════════╪══════════╡\n",
       "│ 2.8      ┆ 2.9      │\n",
       "│ 1.9      ┆ 2.2      │\n",
       "│ 2.3      ┆ 2.1      │\n",
       "└──────────┴──────────┘"
      ]
     },
     "execution_count": 397,
     "metadata": {},
     "output_type": "execute_result"
    }
   ],
   "source": [
    "#| label: unstack\n",
    "\n",
    "(\n",
    "  long\n",
    "  .sort('treatment')\n",
    "  .unstack(\n",
    "    step = 3,\n",
    "    how='vertical',\n",
    "    columns=\"height\",\n",
    "    )\n",
    ")"
   ]
  },
  {
   "cell_type": "markdown",
   "id": "f90b71ad",
   "metadata": {},
   "source": [
    "### unest()\n",
    "\n",
    "See @sec-struct.\n",
    "\n",
    "\n",
    "\n",
    "\n",
    "## Dataframe in Memory\n"
   ]
  },
  {
   "cell_type": "code",
   "execution_count": 407,
   "id": "61f22c04",
   "metadata": {},
   "outputs": [
    {
     "data": {
      "text/plain": [
       "0.0002288818359375"
      ]
     },
     "execution_count": 398,
     "metadata": {},
     "output_type": "execute_result"
    }
   ],
   "source": [
    "df.estimated_size(unit=\"mb\")"
   ]
  },
  {
   "cell_type": "code",
   "execution_count": 408,
   "id": "935a9e44",
   "metadata": {},
   "outputs": [
    {
     "data": {
      "text/html": [
       "<div><style>\n",
       ".dataframe > thead > tr,\n",
       ".dataframe > tbody > tr {\n",
       "  text-align: right;\n",
       "  white-space: pre-wrap;\n",
       "}\n",
       "</style>\n",
       "<small>shape: (6, 4)</small><table border=\"1\" class=\"dataframe\"><thead><tr><th>integer</th><th>date</th><th>float</th><th>string</th></tr><tr><td>i64</td><td>datetime[μs]</td><td>f64</td><td>str</td></tr></thead><tbody><tr><td>1</td><td>2022-01-01 00:00:00</td><td>4.0</td><td>&quot;a&quot;</td></tr><tr><td>2</td><td>2022-01-02 00:00:00</td><td>5.0</td><td>&quot;b&quot;</td></tr><tr><td>3</td><td>2022-01-03 00:00:00</td><td>6.0</td><td>&quot;c&quot;</td></tr><tr><td>1</td><td>2022-01-04 00:00:00</td><td>7.0</td><td>&quot;d&quot;</td></tr><tr><td>2</td><td>2022-01-05 00:00:00</td><td>8.0</td><td>&quot;d&quot;</td></tr><tr><td>3</td><td>2022-01-06 00:00:00</td><td>9.0</td><td>&quot;d&quot;</td></tr></tbody></table></div>"
      ],
      "text/plain": [
       "shape: (6, 4)\n",
       "┌─────────┬─────────────────────┬───────┬────────┐\n",
       "│ integer ┆ date                ┆ float ┆ string │\n",
       "│ ---     ┆ ---                 ┆ ---   ┆ ---    │\n",
       "│ i64     ┆ datetime[μs]        ┆ f64   ┆ str    │\n",
       "╞═════════╪═════════════════════╪═══════╪════════╡\n",
       "│ 1       ┆ 2022-01-01 00:00:00 ┆ 4.0   ┆ a      │\n",
       "│ 2       ┆ 2022-01-02 00:00:00 ┆ 5.0   ┆ b      │\n",
       "│ 3       ┆ 2022-01-03 00:00:00 ┆ 6.0   ┆ c      │\n",
       "│ 1       ┆ 2022-01-04 00:00:00 ┆ 7.0   ┆ d      │\n",
       "│ 2       ┆ 2022-01-05 00:00:00 ┆ 8.0   ┆ d      │\n",
       "│ 3       ┆ 2022-01-06 00:00:00 ┆ 9.0   ┆ d      │\n",
       "└─────────┴─────────────────────┴───────┴────────┘"
      ]
     },
     "execution_count": 399,
     "metadata": {},
     "output_type": "execute_result"
    }
   ],
   "source": [
    "df.rechunk() # ensure contiguous memory layout"
   ]
  },
  {
   "cell_type": "code",
   "execution_count": 409,
   "id": "365ebcdc",
   "metadata": {},
   "outputs": [
    {
     "data": {
      "text/plain": [
       "1"
      ]
     },
     "execution_count": 400,
     "metadata": {},
     "output_type": "execute_result"
    }
   ],
   "source": [
    "df.n_chunks() # number of ChunkedArrays in the dataframe"
   ]
  },
  {
   "cell_type": "code",
   "execution_count": 410,
   "id": "e04b350c",
   "metadata": {},
   "outputs": [
    {
     "data": {
      "text/html": [
       "<div><style>\n",
       ".dataframe > thead > tr,\n",
       ".dataframe > tbody > tr {\n",
       "  text-align: right;\n",
       "  white-space: pre-wrap;\n",
       "}\n",
       "</style>\n",
       "<small>shape: (6, 4)</small><table border=\"1\" class=\"dataframe\"><thead><tr><th>integer</th><th>date</th><th>float</th><th>string</th></tr><tr><td>i64</td><td>datetime[μs]</td><td>f64</td><td>str</td></tr></thead><tbody><tr><td>1</td><td>2022-01-01 00:00:00</td><td>4.0</td><td>&quot;a&quot;</td></tr><tr><td>2</td><td>2022-01-02 00:00:00</td><td>5.0</td><td>&quot;b&quot;</td></tr><tr><td>3</td><td>2022-01-03 00:00:00</td><td>6.0</td><td>&quot;c&quot;</td></tr><tr><td>1</td><td>2022-01-04 00:00:00</td><td>7.0</td><td>&quot;d&quot;</td></tr><tr><td>2</td><td>2022-01-05 00:00:00</td><td>8.0</td><td>&quot;d&quot;</td></tr><tr><td>3</td><td>2022-01-06 00:00:00</td><td>9.0</td><td>&quot;d&quot;</td></tr></tbody></table></div>"
      ],
      "text/plain": [
       "shape: (6, 4)\n",
       "┌─────────┬─────────────────────┬───────┬────────┐\n",
       "│ integer ┆ date                ┆ float ┆ string │\n",
       "│ ---     ┆ ---                 ┆ ---   ┆ ---    │\n",
       "│ i64     ┆ datetime[μs]        ┆ f64   ┆ str    │\n",
       "╞═════════╪═════════════════════╪═══════╪════════╡\n",
       "│ 1       ┆ 2022-01-01 00:00:00 ┆ 4.0   ┆ a      │\n",
       "│ 2       ┆ 2022-01-02 00:00:00 ┆ 5.0   ┆ b      │\n",
       "│ 3       ┆ 2022-01-03 00:00:00 ┆ 6.0   ┆ c      │\n",
       "│ 1       ┆ 2022-01-04 00:00:00 ┆ 7.0   ┆ d      │\n",
       "│ 2       ┆ 2022-01-05 00:00:00 ┆ 8.0   ┆ d      │\n",
       "│ 3       ┆ 2022-01-06 00:00:00 ┆ 9.0   ┆ d      │\n",
       "└─────────┴─────────────────────┴───────┴────────┘"
      ]
     },
     "execution_count": 401,
     "metadata": {},
     "output_type": "execute_result"
    }
   ],
   "source": [
    "df.shrink_to_fit() # reduce memory allocation to actual size"
   ]
  },
  {
   "cell_type": "markdown",
   "id": "875675d0",
   "metadata": {},
   "source": [
    "# I/O\n",
    "\n",
    "## Reading Frames from Disk\n",
    "\n",
    "### tl;dr\n",
    "\n",
    "If you want an eager frame use `pl.read_xxx()`, and if you want a lazy frame use `pl.scan_xxx()`. \n",
    "\n",
    "### In Detail\n",
    "\n",
    "To read data from disk we need to think about the following:\n",
    "\n",
    "1. What is the taget object?\n",
    "2. What is the struture of the data on disk?\n",
    "   1. Single file VS multiple files? If multiple files, how are they organized? \n",
    "   2. Format of each file. \n",
    "   3. Are the files remote or local? \n",
    "\n",
    "If the target object is an eager frame you will want to use `pl.read_xxx()`.\n",
    "So to read a csv you will use `pl.read_csv()`, to read a parquet you will use `pl.read_parquet()`, etc.\n",
    "\n",
    "If the target object is a lazy frame you will want to use `pl.scan_xxx()`.\n",
    "So to read a csv you will use `pl.scan_csv()`, to read a parquet you will use `pl.scan_parquet()`, etc.\n",
    "\n",
    "If the data is stored in multiple files, `scan_xxx()` methods currently have better support. \n",
    "You can state the locations of the files in many ways. \n",
    "Note, however, that if you are used to Pandas that takes a path to folder and will import, recursively, all the files in the folder, Polars will not do that; it will expect a more precise glob. \n",
    "\n",
    "For example, say the data is in \n",
    "\n",
    ".  \n",
    "|-- data\n",
    "|   |-- 2022\n",
    "|   |   |-- 01\n",
    "|   |   |   |-- 01.parquet\n",
    "|   |   |   |-- 02.parquet\n",
    "|   |-- 2023\n",
    "|   |   |-- 01\n",
    "|   |   |   |-- 01.parquet\n",
    "|   |   |   |-- 02.parquet\n",
    "\n",
    "In Pandas you could use `pd.read_parquet(\"data/\")`.\n",
    "This will not work in Polars (TTBOMK), where you will need the following glob `pl.scan_parquet(\"data/**/*.parquet)\"`.\n",
    "\n",
    "Multiple Parquet files also make an Apache Arrow Dataset. \n",
    "Polars will allow you to read an Arrow Dataset with `pl.scan_arrow_dataset()`.\n",
    "The syntax was used in @sec-polars-lazy-in-memory and  looks like:"
   ]
  },
  {
   "cell_type": "code",
   "execution_count": 411,
   "id": "fa902a1e",
   "metadata": {},
   "outputs": [],
   "source": [
    "#| eval: false\n",
    "dset = ds.dataset(\"data/\", format=\"parquet\") \n",
    "pl.scan_pyarrow_dataset(dset)"
   ]
  },
  {
   "cell_type": "markdown",
   "id": "6abd83d5",
   "metadata": {},
   "source": [
    "When using this functionality you should recall the follwing:\n",
    "\n",
    "1. PyArrow has more functionality that Polars. As such, it may be able to read more formats, and more complex formats, where `pl.scan_xxx()` may fail.\n",
    "2. Polars native readers are more optimized than PyArrow. In particular, they push-down more operations, which is particularly imopirtant when reading from remote storage (i.e. DataLakes) such as S3 or Azure Blob Storage.\n",
    "\n",
    "\n",
    "### Why Parquet?\n",
    "\n",
    "Why do I prefer Parquet over CSV, Pickle, Feather, or other formats?\n",
    "\n",
    "I prefer Parquet over CSV because Parquet is compressed, and stores schema. Thus avoiding time and errors involved in guessing the schema at import time. \n",
    "\n",
    "I prefer Parquet over Pickle because Parquet is a standard, and is not specific to a particular Python version. Also, being optimized for columnar storage, Parquet has better compression and read performance. \n",
    "\n",
    "I Prefer Parquet over Feather because Parquet has better compression. \n",
    "\n",
    "\n",
    "\n",
    "## Writing Frames to Disk {#sec-disk-export}\n",
    "\n",
    "### tl;dr\n",
    "\n",
    "An eager Polars frame will have a `.write_xxx()` method.\n",
    "\n",
    "If the output of an opeation does not fit into memory, so that an eager frame cannot materialize, look into the `.sink_parquet()` engine. It will write to disk in a streaming fashion. Alas, it currently supports a very limited set of operations.\n",
    "\n",
    "\n",
    "\n",
    "# Polars Expressions {#sec-expressions}\n",
    "\n",
    "Things to recall about Polars expressions:\n",
    "\n",
    "1. Think of them as functions, that can be chained, and evaluated (lazyly) within a Polars context such as `df.select()`, `df.with_columns()`, etc.\n",
    "2. They are not the same as Python functions, and will not work outside of a Polars context.\n",
    "3. Almost all `pl.Series()` methods are available as Polars expressions. There are however some exceptions.\n",
    "\n",
    "\n",
    "Because almost all Polars Series methods are available as Polars expressions, we refer the reader to @sec-series for a review of importanta series methods. \n",
    "In this section we will focus on exceptions, and some important expressions that are not available for Series.\n",
    "\n",
    "\n",
    "## Arithmetic\n",
    "\n",
    "\n",
    "\n",
    "\n",
    "\n",
    "\n",
    "# Polars LazyFrames\n",
    "\n",
    "\n",
    "\n",
    "\n",
    "## Processing Multiple Frames Simultanously\n",
    "\n",
    "Q: What if you want to access a column from frame `df`, when processing frame `df2`?\\\n",
    "A: Just join them.\\\n",
    "Q: What if they are not joinable?\\\n",
    "A: Use a diagonal join. Q: Can't I just add a search-space into the lazy query? A: Ahhh! Use `df.with_context()`.\n"
   ]
  },
  {
   "cell_type": "code",
   "execution_count": 412,
   "id": "841dcf08",
   "metadata": {},
   "outputs": [
    {
     "name": "stderr",
     "output_type": "stream",
     "text": [
      "/var/folders/ld/j2ckdhnj5hqcx58byy0gj9th0000gn/T/ipykernel_99747/2186241628.py:9: DeprecationWarning:\n",
      "\n",
      "`map_dict` is deprecated. It has been renamed to `replace`. The default behavior has changed to keep any values not present in the mapping unchanged. Pass `default=None` to keep existing behavior.\n",
      "\n",
      "/var/folders/ld/j2ckdhnj5hqcx58byy0gj9th0000gn/T/ipykernel_99747/2186241628.py:9: DeprecationWarning:\n",
      "\n",
      "`the argument remapping` for `map_dict` is deprecated. It has been renamed to `mapping`.\n",
      "\n"
     ]
    },
    {
     "data": {
      "text/html": [
       "<div><style>\n",
       ".dataframe > thead > tr,\n",
       ".dataframe > tbody > tr {\n",
       "  text-align: right;\n",
       "  white-space: pre-wrap;\n",
       "}\n",
       "</style>\n",
       "<small>shape: (6, 5)</small><table border=\"1\" class=\"dataframe\"><thead><tr><th>integer</th><th>date</th><th>float</th><th>string</th><th>float2</th></tr><tr><td>i64</td><td>datetime[μs]</td><td>f64</td><td>str</td><td>f64</td></tr></thead><tbody><tr><td>1</td><td>2022-01-01 00:00:00</td><td>4.0</td><td>&quot;a&quot;</td><td>35.0</td></tr><tr><td>2</td><td>2022-01-02 00:00:00</td><td>5.0</td><td>&quot;b&quot;</td><td>100.0</td></tr><tr><td>3</td><td>2022-01-03 00:00:00</td><td>6.0</td><td>&quot;c&quot;</td><td>100.0</td></tr><tr><td>1</td><td>2022-01-04 00:00:00</td><td>7.0</td><td>&quot;d&quot;</td><td>100.0</td></tr><tr><td>2</td><td>2022-01-05 00:00:00</td><td>8.0</td><td>&quot;d&quot;</td><td>100.0</td></tr><tr><td>3</td><td>2022-01-06 00:00:00</td><td>9.0</td><td>&quot;d&quot;</td><td>100.0</td></tr></tbody></table></div>"
      ],
      "text/plain": [
       "shape: (6, 5)\n",
       "┌─────────┬─────────────────────┬───────┬────────┬────────┐\n",
       "│ integer ┆ date                ┆ float ┆ string ┆ float2 │\n",
       "│ ---     ┆ ---                 ┆ ---   ┆ ---    ┆ ---    │\n",
       "│ i64     ┆ datetime[μs]        ┆ f64   ┆ str    ┆ f64    │\n",
       "╞═════════╪═════════════════════╪═══════╪════════╪════════╡\n",
       "│ 1       ┆ 2022-01-01 00:00:00 ┆ 4.0   ┆ a      ┆ 35.0   │\n",
       "│ 2       ┆ 2022-01-02 00:00:00 ┆ 5.0   ┆ b      ┆ 100.0  │\n",
       "│ 3       ┆ 2022-01-03 00:00:00 ┆ 6.0   ┆ c      ┆ 100.0  │\n",
       "│ 1       ┆ 2022-01-04 00:00:00 ┆ 7.0   ┆ d      ┆ 100.0  │\n",
       "│ 2       ┆ 2022-01-05 00:00:00 ┆ 8.0   ┆ d      ┆ 100.0  │\n",
       "│ 3       ┆ 2022-01-06 00:00:00 ┆ 9.0   ┆ d      ┆ 100.0  │\n",
       "└─────────┴─────────────────────┴───────┴────────┴────────┘"
      ]
     },
     "execution_count": 402,
     "metadata": {},
     "output_type": "execute_result"
    }
   ],
   "source": [
    "df3 = pl.Series(\"blah\", [100,2,3]).to_frame()\n",
    "\n",
    "q = (\n",
    "    df.lazy()\n",
    "    .with_context( # add colums of df2 to the search space\n",
    "        df3.lazy()\n",
    "        )\n",
    "    .with_columns(\n",
    "        pl.col('float').map_dict(remapping={4.0:None}, default=100).fill_null(pl.col('blah').mean()).alias('float2'),\n",
    "        )\n",
    "    )\n",
    "\n",
    "q.collect()"
   ]
  },
  {
   "cell_type": "markdown",
   "id": "94958474",
   "metadata": {},
   "source": [
    "Things to note:\n",
    "\n",
    "-   `with_context()` is a lazy operation. This is great news, since it means both frames will benefit from query planning, etc.\n",
    "-   `with_context()` will not copy the data, but rather, add a reference to the data.\n",
    "-   Why not use `pl.col('blah').mean()` within the `map_dict()`? That is indeed more reasonable. It simply did not work.\n",
    "-   Try it yourself: Can you use multiple `with_context()`?\n",
    "\n",
    "\n",
    "### Imputation Example\n"
   ]
  },
  {
   "cell_type": "code",
   "execution_count": 413,
   "id": "7b2b10c0",
   "metadata": {},
   "outputs": [
    {
     "name": "stderr",
     "output_type": "stream",
     "text": [
      "/var/folders/ld/j2ckdhnj5hqcx58byy0gj9th0000gn/T/ipykernel_99747/2751601251.py:12: DeprecationWarning:\n",
      "\n",
      "`suffix` is deprecated. It has been moved to `name.suffix`.\n",
      "\n"
     ]
    },
    {
     "data": {
      "text/html": [
       "<div><style>\n",
       ".dataframe > thead > tr,\n",
       ".dataframe > tbody > tr {\n",
       "  text-align: right;\n",
       "  white-space: pre-wrap;\n",
       "}\n",
       "</style>\n",
       "<small>shape: (3, 1)</small><table border=\"1\" class=\"dataframe\"><thead><tr><th>feature_0</th></tr><tr><td>f64</td></tr></thead><tbody><tr><td>-1.0</td></tr><tr><td>0.0</td></tr><tr><td>1.0</td></tr></tbody></table></div>"
      ],
      "text/plain": [
       "shape: (3, 1)\n",
       "┌───────────┐\n",
       "│ feature_0 │\n",
       "│ ---       │\n",
       "│ f64       │\n",
       "╞═══════════╡\n",
       "│ -1.0      │\n",
       "│ 0.0       │\n",
       "│ 1.0       │\n",
       "└───────────┘"
      ]
     },
     "execution_count": 403,
     "metadata": {},
     "output_type": "execute_result"
    }
   ],
   "source": [
    "train_lf = pl.LazyFrame(\n",
    "    {\"feature_0\": [-1.0, 0, 1], \"feature_1\": [-1.0, 0, 1]}\n",
    ")\n",
    "test_lf = pl.LazyFrame(\n",
    "    {\"feature_0\": [-1.0, None, 1], \"feature_1\": [-1.0, 0, 1]}\n",
    ")\n",
    "\n",
    "(\n",
    "  test_lf\n",
    "  .with_context(\n",
    "    train_lf\n",
    "    .select(pl.all().suffix(\"_train\")))\n",
    "    .select(\n",
    "      pl.col(\"feature_0\")\n",
    "      .fill_null(\n",
    "        pl.col(\"feature_0_train\").median()\n",
    "      )\n",
    "  )\n",
    ").collect()"
   ]
  },
  {
   "cell_type": "markdown",
   "id": "cb387a73",
   "metadata": {},
   "source": [
    "# Extensions\n",
    "\n",
    "## SQL\n",
    "\n",
    "## Plotting\n",
    "\n",
    "## ML \n"
   ]
  }
 ],
 "metadata": {
  "kernelspec": {
   "display_name": "Python 3 (ipykernel)",
   "language": "python",
   "name": "python3"
  },
  "language_info": {
   "codemirror_mode": {
    "name": "ipython",
    "version": 3
   },
   "file_extension": ".py",
   "mimetype": "text/x-python",
   "name": "python",
   "nbconvert_exporter": "python",
   "pygments_lexer": "ipython3",
   "version": "3.9.6"
  }
 },
 "nbformat": 4,
 "nbformat_minor": 5
}

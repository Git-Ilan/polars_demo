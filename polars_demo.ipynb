{
 "cells": [
  {
   "cell_type": "raw",
   "id": "185a7f20",
   "metadata": {},
   "source": [
    "---\n",
    "title: Intro 2 Polars\n",
    "execute:\n",
    "  eval: false\n",
    "  warning: true\n",
    "  error: true\n",
    "  keep-ipynb: true\n",
    "  cache: true\n",
    "pdf-engine: lualatex\n",
    "html:\n",
    "  code-tools: false\n",
    "  fold-code: false\n",
    "  author: Jonathan D. Rosenblatt\n",
    "  data: 02-27-2023\n",
    "  toc: false\n",
    "  number-sections: true\n",
    "  number-depth: 3\n",
    "  embed-resources: true\n",
    "---"
   ]
  },
  {
   "cell_type": "markdown",
   "id": "10776307",
   "metadata": {},
   "source": [
    "# Background {#sec-background}\n",
    "\n",
    "\n",
    "## Ritchie Vink, Rust, Apache Arrow and Covid\n",
    "\n",
    "[Here](https://www.ritchievink.com/blog/2021/02/28/i-wrote-one-of-the-fastest-dataframe-libraries/) is the story, by the creator of Polars.\n",
    "\n",
    "\n",
    "## Who Can Benefit from Polars?\n",
    "\n",
    "- Researcher (DS, Analyst, Statistician, etc):\n",
    "  - Working on their local machine. \n",
    "  - Working on a cloud machine (SageMaker, EC2).\n",
    "- Production system:\n",
    "  - Running on a dedicated server. \n",
    "  - Running on \"serverless\" (e.g. AWS Lambda, Google Cloud Functions).\n",
    "\n",
    "## The DataFrame Landscape\n",
    "\n",
    "Initially there were R's `data.frame`. \n",
    "R has evolved, and it now offers `tibble`s and `data.table`s.\n",
    "Python had only `Pandas` for years. \n",
    "Then the Python ecosystem exploded, and now we have:\n",
    "\n",
    "-  [Pandas](https://Pandas.pydata.org/): The original Python dataframe module. Build by Wes McKinney, on top of numpy.\n",
    "-  [Polars](https://www.pola.rs/): A new dataframe module, build by Ritchie Vink, on top of Rust and Apache Arrow.\n",
    "-  [datatable](https://datatable.readthedocs.io/en/latest/): An attempt to recreate R's [data.table](https://github.com/Rdatatable/data.table) API and (crazy) speed in Python. \n",
    "-  [Dask](https://www.dask.org/): A distributed computing engine for Python, with support for distributing data over multiple processes running Pandas (or numpy, Polars, etc).\n",
    "-  [Vaex](https://vaex.io/): A high performance Python library for lazy Out-of-Core DataFrames (similar to dask, but with a different API).\n",
    "-  [Modin](https://github.com/modin-project/modin): A drop-in distributed  replacement for Pandas, built on top of [Ray](https://www.ray.io/). \n",
    "-  [DuckDB](https://duckdb.org/): An embeddable SQL OLAP database management system. These are dataframe that are stored on disk, compute on a single process, and queried with SQL or pythonic API.\n",
    "- [Daft](https://www.getdaft.io/): A distributed dataframe library built for \"Complex Data\" (data that doesn't usually fit in a SQL table such as images, videos, documents etc). \n",
    "-  [Fugue](https://fugue-tutorials.readthedocs.io/): A dataframe library that allows you to write SQL-like code, and execute it on different backends (e.g. Spark, Dask, Pandas, Polars, etc).\n",
    "-  [pySpark](https://spark.apache.org/docs/latest/api/python/index.html): The Python API for Spark. Spark is a distributed computing engine, with support for distributing data over multiple processes running Pandas (or numpy, Polars, etc).\n",
    "-  [CUDF](https://github.com/rapidsai/cudf): A GPU accelerated dataframe library, build on top of Apache Arrow.\n",
    "\n",
    "\n",
    "\n",
    "See [here](https://pola-rs.github.io/Polars-book/user-guide/misc/alternatives/) and [here](https://www.getdaft.io/projects/docs/en/latest/dataframe_comparison.html) for more details. \n",
    "\n",
    "\n",
    "\n",
    "\n",
    "\n",
    "# Motivation {#sec-motivation}\n",
    "\n",
    "Each of the following, alone(!), is amazing.\n",
    "\n",
    "1. Small memory footprint.\n",
    "1. Native dtypes: missing, strings.\n",
    "2. Lazy evaluation allows query Planning.\n",
    "3. Streaming engine: No need to load entire dataset into memory.\n",
    "4. Out of the box parallelism: Fast and informative messages for debugging.\n",
    "5. Strict typing: This means the dtype of output is defined by the operation and not bu the input. This is both safer, and allows static analysis.\n",
    "\n",
    "\n",
    "## Setting Up the Environment\n",
    "\n",
    "At this point you may want to create and activate a [venv](https://realpython.com/python-virtual-environments-a-primer/) for this project. \n"
   ]
  },
  {
   "cell_type": "code",
   "execution_count": 1,
   "id": "806074af",
   "metadata": {},
   "outputs": [],
   "source": [
    "# %pip install --upgrade pip\n",
    "# %pip install --upgrade Polars\n",
    "# %pip install --upgrade pyarrow\n",
    "# %pip install --upgrade Pandas\n",
    "# %pip install --upgrade plotly\n",
    "# %pip freeze > requirements.txt\n",
    "# %pip install -r requirements.txt"
   ]
  },
  {
   "cell_type": "code",
   "execution_count": 2,
   "id": "Polars-version",
   "metadata": {},
   "outputs": [],
   "source": [
    "#| label: Polars-version\n",
    "%pip show Polars # check you Polars version"
   ]
  },
  {
   "cell_type": "code",
   "execution_count": 3,
   "id": "Pandas-version",
   "metadata": {},
   "outputs": [],
   "source": [
    "#| label: Pandas-version\n",
    "%pip show Pandas # check you Polars version"
   ]
  },
  {
   "cell_type": "code",
   "execution_count": 4,
   "id": "preliminaries",
   "metadata": {},
   "outputs": [],
   "source": [
    "#| label: preliminaries\n",
    "\n",
    "import polars as pl\n",
    "pl.Config(fmt_str_lengths=50)\n",
    "\n",
    "import pandas as pd\n",
    "import numpy as np\n",
    "import pyarrow as pa\n",
    "import plotly.express as px\n",
    "import string\n",
    "import random\n",
    "import os\n",
    "import sys\n",
    "%matplotlib inline \n",
    "import matplotlib.pyplot as plt\n",
    "from datetime import datetime\n",
    "\n",
    "# Following two lines only required to view plotly when rendering from VScode. \n",
    "import plotly.io as pio\n",
    "# pio.renderers.default = \"plotly_mimetype+notebook_connected+notebook\"\n",
    "pio.renderers.default = \"plotly_mimetype+notebook\""
   ]
  },
  {
   "cell_type": "markdown",
   "id": "9b4dd19a",
   "metadata": {},
   "source": [
    "## Memory Footprint\n",
    "\n",
    "### Memory Footprint of Storage\n",
    "\n",
    "Comparing Polars to Pandas- the memory footprint of a series of strings. \n",
    "\n",
    "Polars. "
   ]
  },
  {
   "cell_type": "code",
   "execution_count": 5,
   "id": "0b330d95",
   "metadata": {},
   "outputs": [],
   "source": [
    "letters = pl.Series(list(string.ascii_letters))\n",
    "\n",
    "n = int(10e6)\n",
    "letter1 = letters.sample(n,with_replacement=True)\n",
    "letter1.estimated_size(unit='gb') "
   ]
  },
  {
   "cell_type": "markdown",
   "id": "d1314dd5",
   "metadata": {},
   "source": [
    "Pandas before Pandas 2.0. "
   ]
  },
  {
   "cell_type": "code",
   "execution_count": 6,
   "id": "0d91bcd1",
   "metadata": {},
   "outputs": [],
   "source": [
    "# Pandas with Ver 1.x backend\n",
    "letter1_Pandas = letter1.to_pandas(use_pyarrow_extension_array=False) \n",
    "letter1_Pandas.memory_usage(deep=True, index=False) / 1e9"
   ]
  },
  {
   "cell_type": "markdown",
   "id": "92026839",
   "metadata": {},
   "source": [
    "Pandas after Pandas 2.0, with the Pyarrow backend (Apr 2023)."
   ]
  },
  {
   "cell_type": "code",
   "execution_count": 7,
   "id": "e8801603",
   "metadata": {},
   "outputs": [],
   "source": [
    "letter1_Pandas = letter1.to_pandas(use_pyarrow_extension_array=True) \n",
    "letter1_Pandas.memory_usage(deep=True, index=False) / 1e9"
   ]
  },
  {
   "cell_type": "markdown",
   "id": "8a075cd6",
   "metadata": {},
   "source": [
    "### Operating From Disk to Disk\n",
    "\n",
    "What if my data does not fit into RAM? \n",
    "Turns out you manifest a lazy frame into disk, instead of RAM, thus avoiding the need to load the entire dataset into memory. \n",
    "Alas, the function that does so, [sink_parquet()](https://pola-rs.github.io/Polars/py-Polars/html/reference/lazyframe/api/Polars.LazyFrame.sink_parquet.html), has currently limited functionality. \n",
    "It is certainly worth keeping an eye on this function, as it matures.\n",
    "\n",
    "::: {.callout-note}\n",
    "Although the potential of `sink_parquet()` is amazing, I find that it currently does not support complicated queries. \n",
    ":::\n",
    "\n",
    "\n",
    "## Lazy Frames and Query Planning\n",
    "\n",
    "Consider a sort operation that follows a filter operation. \n",
    "Ideally, filter precedes the sort, but we did not ensure this... \n",
    "We now demonstrate that Polars' query planner will do it for you. \n",
    "En passant, we see Polars is more efficient also without the query planner.\n",
    "\n",
    "\n",
    "Polars' Eager evaluation in the **wrong** order. \n",
    "Sort then filter.\n"
   ]
  },
  {
   "cell_type": "code",
   "execution_count": 8,
   "id": "2775397a",
   "metadata": {},
   "outputs": [],
   "source": [
    "%timeit -n 2 -r 2 letter1.sort().filter(letter1.is_in(['a','b','c']))"
   ]
  },
  {
   "cell_type": "markdown",
   "id": "15a96ce0",
   "metadata": {},
   "source": [
    "Polars' Eager evaluation in the **right** order. \n",
    "Filter then sort.\n"
   ]
  },
  {
   "cell_type": "code",
   "execution_count": 9,
   "id": "4e7a280d",
   "metadata": {},
   "outputs": [],
   "source": [
    "%timeit -n 2 -r 2 letter1.filter(letter1.is_in(['a','b','c'])).sort()"
   ]
  },
  {
   "cell_type": "code",
   "execution_count": 10,
   "id": "f9f20074",
   "metadata": {},
   "outputs": [],
   "source": [
    "latter1_lazy = letter1.alias('letters').to_frame().lazy()"
   ]
  },
  {
   "cell_type": "markdown",
   "id": "f7c6a889",
   "metadata": {},
   "source": [
    "Polars' Lazy evaluation in the **wrong** order; **without** query planning"
   ]
  },
  {
   "cell_type": "code",
   "execution_count": 11,
   "id": "52ac776e",
   "metadata": {},
   "outputs": [],
   "source": [
    "%timeit -n 2 -r 2 latter1_lazy.sort(by='letters').filter(pl.col('letters').is_in(['a','b','c'])).collect(no_optimization=True)"
   ]
  },
  {
   "cell_type": "markdown",
   "id": "0770a233",
   "metadata": {},
   "source": [
    "Polars' Lazy evaluation in the **wrong** order; **with** query planning"
   ]
  },
  {
   "cell_type": "code",
   "execution_count": 12,
   "id": "eb079c6c",
   "metadata": {},
   "outputs": [],
   "source": [
    "%timeit -n 2 -r 2 latter1_lazy.sort(by='letters').filter(pl.col('letters').is_in(['a','b','c'])).collect()"
   ]
  },
  {
   "cell_type": "markdown",
   "id": "dfca4156",
   "metadata": {},
   "source": [
    "Things to note:\n",
    "\n",
    "1. A lazy evaluation was triggered when `df.lazy()` converted the Polars DataFrame to a Polars LazyFrame.\n",
    "2. The query planner worked: The Lazy evaluation in the wrong order timed as much as an eager evaluation in the right order; even when accounting for the overhead of converting the frame from eager to lazy.\n",
    "\n",
    "Now compare to Pandas...\n",
    "\n",
    "Pandas' eager evaluation in the **wrong** order.\n"
   ]
  },
  {
   "cell_type": "code",
   "execution_count": 13,
   "id": "36df451e",
   "metadata": {},
   "outputs": [],
   "source": [
    "%timeit -n1 -r1 letter1_Pandas.sort_values().loc[lambda x: x.isin(['a','b','c'])]"
   ]
  },
  {
   "cell_type": "markdown",
   "id": "7428f13f",
   "metadata": {},
   "source": [
    "Pandas eager evaluation in the **right** order: Filter then sort.\n"
   ]
  },
  {
   "cell_type": "code",
   "execution_count": 14,
   "id": "e0a958a5",
   "metadata": {},
   "outputs": [],
   "source": [
    "%timeit -n1 -r1 letter1_Pandas.loc[lambda x: x.isin(['a','b','c'])].sort_values()"
   ]
  },
  {
   "cell_type": "markdown",
   "id": "a7f923e5",
   "metadata": {},
   "source": [
    "Pandas without lambda functions syntax; looks slightly better.\n"
   ]
  },
  {
   "cell_type": "code",
   "execution_count": 15,
   "id": "5b27ecee",
   "metadata": {},
   "outputs": [],
   "source": [
    "%timeit -n 2 -r 2 letter1_Pandas.loc[letter1_Pandas.isin(['a','b','c'])].sort_values()"
   ]
  },
  {
   "cell_type": "markdown",
   "id": "30f86da8",
   "metadata": {},
   "source": [
    "Things to note:\n",
    "\n",
    "1. Query planning works!\n",
    "2. Pandas has dramatically improved since <2.0.0. \n",
    "3. Lambda functions are always slow (both Pandas and Polars).\n",
    "\n",
    "\n",
    "## Optimized for Within-Column Operations\n",
    "\n",
    "Polars seamlessly parallelizes over columns (also within, when possible). \n",
    "As the number of columns in the data grows, we would expect fixed runtime until all cores are used, and then linear scaling. \n",
    "The following code demonstrates this idea, using a simple sum-within-column.\n"
   ]
  },
  {
   "cell_type": "code",
   "execution_count": 16,
   "id": "b8d3e741",
   "metadata": {},
   "outputs": [],
   "source": [
    "# Mac users with Apple silicon (M1 or M2) may also want to benchmark Apples' mlx:\n",
    "# %pip install mlx\n",
    "import mlx.core as mx"
   ]
  },
  {
   "cell_type": "code",
   "execution_count": 17,
   "id": "80bd2857",
   "metadata": {},
   "outputs": [],
   "source": [
    "# Maker an array of floats.\n",
    "A_numpy = np.random.randn(int(1e6), 10)\n",
    "\n",
    "A_numpy = A_numpy.copy()\n",
    "A_Polars = pl.DataFrame(A_numpy)\n",
    "A_Pandas_numpy = pd.DataFrame(A_numpy)\n",
    "A_Pandas_arrow = pd.DataFrame(A_numpy, dtype=\"float32[pyarrow]\")\n",
    "# A_arrow = pa.Table.from_Pandas(A_Pandas_numpy) # no sum method\n",
    "A_mlx = mx.array(A_numpy)"
   ]
  },
  {
   "cell_type": "markdown",
   "id": "b0f221fd",
   "metadata": {},
   "source": [
    "Candidates currently omited:\n",
    "\n",
    "1. JAX\n",
    "2. PyTorch\n",
    "3. TensorFlow\n",
    "4. ...?\n",
    "\n",
    "\n",
    "\n",
    "### Summing Over Columns\n"
   ]
  },
  {
   "cell_type": "code",
   "execution_count": 18,
   "id": "b7f34168",
   "metadata": {},
   "outputs": [],
   "source": [
    "%timeit -n 4 -r 2 A_numpy.sum(axis=0)"
   ]
  },
  {
   "cell_type": "code",
   "execution_count": 19,
   "id": "384c020b",
   "metadata": {},
   "outputs": [],
   "source": [
    "A_numpy.sum(axis=0).shape"
   ]
  },
  {
   "cell_type": "code",
   "execution_count": 20,
   "id": "2adb2ed1",
   "metadata": {},
   "outputs": [],
   "source": [
    "%timeit -n 4 -r 2 A_Polars.sum()"
   ]
  },
  {
   "cell_type": "code",
   "execution_count": 21,
   "id": "48f9a277",
   "metadata": {},
   "outputs": [],
   "source": [
    "A_Polars.sum().shape"
   ]
  },
  {
   "cell_type": "code",
   "execution_count": 22,
   "id": "573d4652",
   "metadata": {},
   "outputs": [],
   "source": [
    "%timeit -n 4 -r 2 A_mlx.sum(axis=0)"
   ]
  },
  {
   "cell_type": "code",
   "execution_count": 23,
   "id": "ae54bc4f",
   "metadata": {},
   "outputs": [],
   "source": [
    "A_mlx.sum(axis=0).shape"
   ]
  },
  {
   "cell_type": "markdown",
   "id": "f162c500",
   "metadata": {},
   "source": [
    "### 50 Shades of Pandas\n",
    "\n",
    "Pandas with numpy backend"
   ]
  },
  {
   "cell_type": "code",
   "execution_count": 24,
   "id": "4fd33569",
   "metadata": {},
   "outputs": [],
   "source": [
    "%timeit -n 4 -r 2 A_Pandas_numpy.sum(axis=0)"
   ]
  },
  {
   "cell_type": "code",
   "execution_count": 25,
   "id": "7377a839",
   "metadata": {},
   "outputs": [],
   "source": [
    "A_Pandas_numpy.sum(axis=0).shape"
   ]
  },
  {
   "cell_type": "markdown",
   "id": "8d65cd06",
   "metadata": {},
   "source": [
    "Pandas with arrow backend"
   ]
  },
  {
   "cell_type": "code",
   "execution_count": 26,
   "id": "ed469a8e",
   "metadata": {},
   "outputs": [],
   "source": [
    "%timeit -n 4 -r 2 A_Pandas_arrow.sum(axis=0)"
   ]
  },
  {
   "cell_type": "code",
   "execution_count": 27,
   "id": "dc32d513",
   "metadata": {},
   "outputs": [],
   "source": [
    "A_Pandas_arrow.sum(axis=0).shape"
   ]
  },
  {
   "cell_type": "markdown",
   "id": "4b6cfc37",
   "metadata": {},
   "source": [
    "Pandas with numpy backend, converted to numpy"
   ]
  },
  {
   "cell_type": "code",
   "execution_count": 28,
   "id": "47486def",
   "metadata": {},
   "outputs": [],
   "source": [
    "%timeit -n 4 -r 2 A_Pandas_numpy.values.sum(axis=0)"
   ]
  },
  {
   "cell_type": "code",
   "execution_count": 29,
   "id": "7f643388",
   "metadata": {},
   "outputs": [],
   "source": [
    "A_Pandas_numpy.values.sum(axis=0).shape"
   ]
  },
  {
   "cell_type": "markdown",
   "id": "244302c5",
   "metadata": {},
   "source": [
    "Pandas with arrow backend, converted to numpy"
   ]
  },
  {
   "cell_type": "code",
   "execution_count": 30,
   "id": "2b993207",
   "metadata": {},
   "outputs": [],
   "source": [
    "%timeit -n 4 -r 2 A_Pandas_arrow.values.sum(axis=0)"
   ]
  },
  {
   "cell_type": "code",
   "execution_count": 31,
   "id": "5e2e8934",
   "metadata": {},
   "outputs": [],
   "source": [
    "type(A_Pandas_arrow.values)"
   ]
  },
  {
   "cell_type": "code",
   "execution_count": 32,
   "id": "735120ba",
   "metadata": {},
   "outputs": [],
   "source": [
    "A_Pandas_arrow.values.sum(axis=0).shape"
   ]
  },
  {
   "cell_type": "markdown",
   "id": "fd353a14",
   "metadata": {},
   "source": [
    "Pandas to mlx"
   ]
  },
  {
   "cell_type": "code",
   "execution_count": 33,
   "id": "2778b75c",
   "metadata": {},
   "outputs": [],
   "source": [
    "%timeit -n 4 -r 2 mx.array(A_Pandas_numpy.values).sum(axis=0)"
   ]
  },
  {
   "cell_type": "code",
   "execution_count": 34,
   "id": "2d5d3af8",
   "metadata": {},
   "outputs": [],
   "source": [
    "mx.array(A_Pandas_numpy.values).sum(axis=0).shape"
   ]
  },
  {
   "cell_type": "markdown",
   "id": "b0f2ab74",
   "metadata": {},
   "source": [
    "### Summing Over Rows\n"
   ]
  },
  {
   "cell_type": "code",
   "execution_count": 35,
   "id": "ec5be85b",
   "metadata": {},
   "outputs": [],
   "source": [
    "%timeit -n 4 -r 2 A_numpy.sum(axis=1)"
   ]
  },
  {
   "cell_type": "code",
   "execution_count": 36,
   "id": "6311d2cc",
   "metadata": {},
   "outputs": [],
   "source": [
    "A_numpy.sum(axis=1).shape"
   ]
  },
  {
   "cell_type": "code",
   "execution_count": 37,
   "id": "d0ede3b9",
   "metadata": {},
   "outputs": [],
   "source": [
    "%timeit -n 4 -r 2 A_Polars.sum_horizontal()"
   ]
  },
  {
   "cell_type": "code",
   "execution_count": 38,
   "id": "0554c815",
   "metadata": {},
   "outputs": [],
   "source": [
    "A_Polars.sum_horizontal().shape"
   ]
  },
  {
   "cell_type": "code",
   "execution_count": 39,
   "id": "4fec9bc3",
   "metadata": {},
   "outputs": [],
   "source": [
    "%timeit -n 4 -r 2 A_mlx.sum(axis=1)"
   ]
  },
  {
   "cell_type": "code",
   "execution_count": 40,
   "id": "7948e766",
   "metadata": {},
   "outputs": [],
   "source": [
    "A_mlx.sum(axis=1).shape"
   ]
  },
  {
   "cell_type": "markdown",
   "id": "395400fa",
   "metadata": {},
   "source": [
    "### 50 Shades of Pandas\n",
    "\n",
    "Pandas with numpy backend"
   ]
  },
  {
   "cell_type": "code",
   "execution_count": 41,
   "id": "ea41dc87",
   "metadata": {},
   "outputs": [],
   "source": [
    "%timeit -n 4 -r 2 A_Pandas_numpy.sum(axis=1)"
   ]
  },
  {
   "cell_type": "markdown",
   "id": "4445245a",
   "metadata": {},
   "source": [
    "Pandas with arrow backend"
   ]
  },
  {
   "cell_type": "code",
   "execution_count": 42,
   "id": "ee023dff",
   "metadata": {},
   "outputs": [],
   "source": [
    "%timeit -n 4 -r 2 A_Pandas_arrow.sum(axis=1)"
   ]
  },
  {
   "cell_type": "markdown",
   "id": "d55580c9",
   "metadata": {},
   "source": [
    "Pandas with numpy backend, converted to numpy"
   ]
  },
  {
   "cell_type": "code",
   "execution_count": 43,
   "id": "52eed3d2",
   "metadata": {},
   "outputs": [],
   "source": [
    "%timeit -n 4 -r 2 A_Pandas_numpy.values.sum(axis=1)"
   ]
  },
  {
   "cell_type": "markdown",
   "id": "49815278",
   "metadata": {},
   "source": [
    "Pandas with arrow backend, converted to numpy"
   ]
  },
  {
   "cell_type": "code",
   "execution_count": 44,
   "id": "a7c73620",
   "metadata": {},
   "outputs": [],
   "source": [
    "%timeit -n 4 -r 2 A_Pandas_arrow.values.sum(axis=1)"
   ]
  },
  {
   "cell_type": "markdown",
   "id": "3daa7890",
   "metadata": {},
   "source": [
    "Pandas to mlx"
   ]
  },
  {
   "cell_type": "code",
   "execution_count": 45,
   "id": "8c981ed3",
   "metadata": {},
   "outputs": [],
   "source": [
    "%timeit -n 4 -r 2 mx.array(A_Pandas_numpy.values).sum(axis=1)"
   ]
  },
  {
   "cell_type": "markdown",
   "id": "cc6e40f7",
   "metadata": {},
   "source": [
    "## Speed Of Import\n",
    "\n",
    "Polar's `read_X` functions are quite faster than Pandas. \n",
    "This is due to better type \"guessing\" heuristics, and easier mapping between the disk representation and memory representation of the data.\n",
    "\n",
    "We benchmark by making synthetic data, save it on disk, and reimporting it.\n",
    "\n",
    "### CSV Format\n"
   ]
  },
  {
   "cell_type": "code",
   "execution_count": 46,
   "id": "1541b2bb",
   "metadata": {},
   "outputs": [],
   "source": [
    "n_rows = int(1e5)\n",
    "n_cols = 10\n",
    "data_Polars = pl.DataFrame(np.random.randn(n_rows,n_cols))\n",
    "data_Polars.write_csv('data/data.csv', include_header = False)\n",
    "f\"{os.path.getsize('data/data.csv')/1e7:.2f} MB on disk\""
   ]
  },
  {
   "cell_type": "markdown",
   "id": "194c4280",
   "metadata": {},
   "source": [
    "Import with Pandas.\n"
   ]
  },
  {
   "cell_type": "code",
   "execution_count": 47,
   "id": "50242ec6",
   "metadata": {},
   "outputs": [],
   "source": [
    "%timeit -n2 -r2 data_Pandas = pd.read_csv('data/data.csv', header = None)"
   ]
  },
  {
   "cell_type": "markdown",
   "id": "b4db06ea",
   "metadata": {},
   "source": [
    "Import with Polars.\n"
   ]
  },
  {
   "cell_type": "code",
   "execution_count": 48,
   "id": "8414d39e",
   "metadata": {},
   "outputs": [],
   "source": [
    "%timeit -n2 -r2 data_Polars = pl.read_csv('data/data.csv', has_header = False)"
   ]
  },
  {
   "cell_type": "markdown",
   "id": "cb90136c",
   "metadata": {},
   "source": [
    "What is the ratio of times on your machine?\n",
    "How many cores do you have?\n",
    "\n",
    "\n",
    "\n",
    "\n",
    "### Parquet Format\n"
   ]
  },
  {
   "cell_type": "code",
   "execution_count": 49,
   "id": "6f20cb2b",
   "metadata": {},
   "outputs": [],
   "source": [
    "data_Polars.write_parquet('data/data.parquet')\n",
    "f\"{os.path.getsize('data/data.parquet')/1e7:.2f} MB on disk\""
   ]
  },
  {
   "cell_type": "code",
   "execution_count": 50,
   "id": "717e395a",
   "metadata": {},
   "outputs": [],
   "source": [
    "%timeit -n2 -r2 data_Pandas = pd.read_parquet('data/data.parquet')"
   ]
  },
  {
   "cell_type": "code",
   "execution_count": 51,
   "id": "368c8abe",
   "metadata": {},
   "outputs": [],
   "source": [
    "%timeit -n2 -r2 data_Polars = pl.read_parquet('data/data.parquet')"
   ]
  },
  {
   "cell_type": "markdown",
   "id": "4e6500f2",
   "metadata": {},
   "source": [
    "### Feather (Apache IPC) Format\n"
   ]
  },
  {
   "cell_type": "code",
   "execution_count": 52,
   "id": "65b709a3",
   "metadata": {},
   "outputs": [],
   "source": [
    "data_Polars.write_ipc('data/data.feather')\n",
    "f\"{os.path.getsize('data/data.feather')/1e7:.2f} MB on disk\""
   ]
  },
  {
   "cell_type": "code",
   "execution_count": 53,
   "id": "1eafa209",
   "metadata": {},
   "outputs": [],
   "source": [
    "%timeit -n2 -r2 data_Polars = pl.read_ipc('data/data.feather')"
   ]
  },
  {
   "cell_type": "code",
   "execution_count": 54,
   "id": "ddecdcc4",
   "metadata": {},
   "outputs": [],
   "source": [
    "%timeit -n2 -r2 data_Pandas = pd.read_feather('data/data.feather')"
   ]
  },
  {
   "cell_type": "markdown",
   "id": "423f43a5",
   "metadata": {},
   "source": [
    "### Pickle Format"
   ]
  },
  {
   "cell_type": "code",
   "execution_count": 55,
   "id": "bc6da7b4",
   "metadata": {},
   "outputs": [],
   "source": [
    "import pickle\n",
    "pickle.dump(data_Polars, open('data/data.pickle', 'wb'))\n",
    "f\"{os.path.getsize('data/data.pickle')/1e7:.2f} MB on disk\""
   ]
  },
  {
   "cell_type": "code",
   "execution_count": 56,
   "id": "ec023e3e",
   "metadata": {},
   "outputs": [],
   "source": [
    "%timeit -n2 -r2 data_Polars = pickle.load(open('data/data.pickle', 'rb'))"
   ]
  },
  {
   "cell_type": "markdown",
   "id": "39060854",
   "metadata": {},
   "source": [
    "### Summarizing Import\n",
    "\n",
    "Things to note:\n",
    "\n",
    "1. The difference in speed is quite large between Pandas vs. Polars.\n",
    "1. When dealing with CSV's, the function `pl.read_csv` reads in parallel, and has better type guessing heuristics.\n",
    "2. The difference in speed is quite large between csv vs. parquet and feather, with feather\\<parquet\\<csv.\n",
    "1. Feather is the fastest, but larger on disk. Thus good for short-term storage, and parquet for long-term.\n",
    "1. The fact that pickle isn't the fastest surprised me; but then again, it is not optimized for data.\n",
    "\n",
    "\n",
    "\n",
    "## Speed Of Join\n",
    "\n",
    "Because Pandas is built on numpy, people see it as both an in-memory database, and a matrix/array library. With Polars, it is quite clear it is an in-memory database, and not an array processing library (despite having a `pl.dot()` function for inner products). As such, you cannot multiply two Polars dataframes, but you can certainly join then efficiently.\n",
    "\n",
    "Make some data:\n"
   ]
  },
  {
   "cell_type": "code",
   "execution_count": 57,
   "id": "a2c7be80",
   "metadata": {},
   "outputs": [],
   "source": [
    "def make_data(n_rows, n_cols):\n",
    "  data = np.concatenate(\n",
    "  (\n",
    "    np.arange(n_rows)[:,np.newaxis], # index\n",
    "    np.random.randn(n_rows,n_cols), # values\n",
    "    ),\n",
    "    axis=1)\n",
    "    \n",
    "  return data\n",
    "\n",
    "\n",
    "n_rows = int(1e6)\n",
    "n_cols = 10\n",
    "data_left = make_data(n_rows, n_cols)\n",
    "data_right = make_data(n_rows, n_cols)\n",
    "\n",
    "data_left.shape"
   ]
  },
  {
   "cell_type": "markdown",
   "id": "ad9d1321",
   "metadata": {},
   "source": [
    "### Polars Join\n"
   ]
  },
  {
   "cell_type": "code",
   "execution_count": 58,
   "id": "ecca3bd9",
   "metadata": {},
   "outputs": [],
   "source": [
    "data_left_Polars = pl.DataFrame(data_left)\n",
    "data_right_Polars = pl.DataFrame(data_right)\n",
    "\n",
    "%timeit -n2 -r2 Polars_joined = data_left_Polars.join(data_right_Polars, on = 'column_0', how = 'left')"
   ]
  },
  {
   "cell_type": "markdown",
   "id": "7129bec4",
   "metadata": {},
   "source": [
    "### Pandas Join\n"
   ]
  },
  {
   "cell_type": "code",
   "execution_count": 59,
   "id": "26822db5",
   "metadata": {},
   "outputs": [],
   "source": [
    "data_left_Pandas = pd.DataFrame(data_left)\n",
    "data_right_Pandas = pd.DataFrame(data_right)\n",
    "\n",
    "%timeit -n2 -r2 Pandas_joined = data_left_Pandas.merge(data_right_Pandas, on = 0, how = 'inner')"
   ]
  },
  {
   "cell_type": "markdown",
   "id": "161eac58",
   "metadata": {},
   "source": [
    "## The NYC Taxi Dataset {#sec-nyc_taxi}\n",
    "\n",
    "Empirical demonstration:\n",
    "Load the celebrated NYC taxi dataset, filter some rides and get the mean `tip_amount` by `passenger_count`.\n"
   ]
  },
  {
   "cell_type": "code",
   "execution_count": 60,
   "id": "fa9cf691",
   "metadata": {},
   "outputs": [],
   "source": [
    "path = 'data/NYC' # Data from https://www.nyc.gov/site/tlc/about/tlc-trip-record-data.page\n",
    "file_names = os.listdir(path)"
   ]
  },
  {
   "cell_type": "markdown",
   "id": "27e2b077",
   "metadata": {},
   "source": [
    "### Pandas\n",
    "\n",
    "`df.query()` syntax."
   ]
  },
  {
   "cell_type": "code",
   "execution_count": 61,
   "id": "6affb64d",
   "metadata": {},
   "outputs": [],
   "source": [
    "%%time \n",
    "taxi_Pandas = pd.read_parquet(path)\n",
    "\n",
    "query = '''\n",
    "    passenger_count > 0 and \n",
    "    passenger_count < 5 and  \n",
    "    trip_distance >= 0 and \n",
    "    trip_distance <= 10 and \n",
    "    fare_amount >= 0 and \n",
    "    fare_amount <= 100 and \n",
    "    tip_amount >= 0 and \n",
    "    tip_amount <= 20 and \n",
    "    total_amount >= 0 and \n",
    "    total_amount <= 100\n",
    "    '''.replace('\\n', '')\n",
    "taxi_Pandas.query(query).groupby('passenger_count').agg({'tip_amount':'mean'})"
   ]
  },
  {
   "cell_type": "markdown",
   "id": "b8962af7",
   "metadata": {},
   "source": [
    "Well, the `df.loc[]` syntax is usually faster than the `query` syntax:\n"
   ]
  },
  {
   "cell_type": "code",
   "execution_count": 62,
   "id": "9b178fce",
   "metadata": {},
   "outputs": [],
   "source": [
    "%%time \n",
    "taxi_Pandas = pd.read_parquet(path)\n",
    "\n",
    "ind = (\n",
    "    taxi_Pandas['passenger_count'].between(1,4) \n",
    "    & taxi_Pandas['trip_distance'].between(0,10) \n",
    "    & taxi_Pandas['fare_amount'].between(0,100) \n",
    "    & taxi_Pandas['tip_amount'].between(0,20) \n",
    "    & taxi_Pandas['total_amount'].between(0,100)\n",
    ")\n",
    "(\n",
    "    taxi_Pandas[ind]\n",
    "    .groupby('passenger_count')\n",
    "    .agg({'tip_amount':'mean'})\n",
    ")"
   ]
  },
  {
   "cell_type": "markdown",
   "id": "70cb39aa",
   "metadata": {},
   "source": [
    "### Polars\n"
   ]
  },
  {
   "cell_type": "code",
   "execution_count": 63,
   "id": "9d060fe4",
   "metadata": {},
   "outputs": [],
   "source": [
    "%%time \n",
    "\n",
    "import pyarrow.dataset as ds\n",
    "dset = ds.dataset(\"data/NYC\", format=\"parquet\")  # define folder as Pyarrow dataset\n",
    "\n",
    "q = (\n",
    "    pl.scan_pyarrow_dataset(dset)\n",
    "    # pl.read_parquet(\"data/NYC/*.parquet\") # will now work because parquet was created with Int32, and not Int64. \n",
    "    .filter(\n",
    "        pl.col('passenger_count').is_between(1,4),\n",
    "        pl.col('trip_distance').is_between(0,10),\n",
    "        pl.col('fare_amount').is_between(0,100),\n",
    "        pl.col('tip_amount').is_between(0,20),\n",
    "        pl.col('total_amount').is_between(0,100)\n",
    "    )\n",
    "    .group_by('passenger_count')\n",
    "    .agg(pl.col('tip_amount').mean().name.suffix('_mean'))\n",
    "    )\n",
    "\n",
    "q.collect()"
   ]
  },
  {
   "cell_type": "code",
   "execution_count": 64,
   "id": "248c10b6",
   "metadata": {},
   "outputs": [],
   "source": [
    "q.show_graph() # Graphviz has to be installed"
   ]
  },
  {
   "cell_type": "markdown",
   "id": "bc04fbdf",
   "metadata": {},
   "source": [
    "Things to note:\n",
    "\n",
    "1. I only have 2 parquet files. When I run the same with more files, despite my 16GB of RAM, **Pandas will crash my python kernel**.\n",
    "2. From the query graph I see import is done in parallel, and filtering done at scanning time!\n",
    "3. Warning: The `pl.scan_paquet()` function will not work with a glob if files are in a remote data lake (e.g. S3). More on that later...\n",
    "\n",
    "\n",
    "\n",
    "\n",
    "\n",
    "\n",
    "\n",
    "# Preliminaries\n",
    "\n",
    "\n",
    "\n",
    "\n",
    "## Object Classes\n",
    "\n",
    "- **Polars Series**: Like a Pandas series. An in-memory array of data, with a name, and a dtype. \n",
    "\n",
    "- **Polars Expr**: A Polars series that is not yet computed, and that will be computed when needed.  A Polars Expression can be thought of as:\n",
    "  1. A Lazy Series: A series that is not yet computed, and that will be computed when needed.\n",
    "  2. A function: That maps a Polars series to another Polars series (possibly of length 1).\n",
    "\n",
    "- **Polars LazyFrame**: A collection of Polars Expressions. This is the Polars equivalent of a Spark DataFrame. It is lazy, thus allows query planning.\n",
    "\n",
    "- **Polars DataFrame**: A collection of Polars Series. This is the Polars equivalent of a Pandas DataFrame. It is eager, and does not allow query planning.\n",
    "  \n",
    "\n",
    "::: {.callout-warning}\n",
    "Not all methods are implemented for all classes. \n",
    "In particular, not all `pl.Dataframe` methods are implemented for `pl.LazyFrame` and vice versa. The same goes for `pl.Series` and `pl.Expr`.\n",
    "\n",
    "This is not because the developers are lazy, but because the API is still being developed, and there are fundamental differences between the classes.\n",
    "\n",
    "Think about it:\n",
    "\n",
    "1. Why do we not see a `df.height` attribute for a `pl.LazeFrame`?\n",
    "2. Why do we not see a `df.sample()` method for a `pl.LazyFrame`?\n",
    "\n",
    ":::\n",
    "\n",
    "\n",
    "\n",
    "## Evaluation Engines\n",
    "\n",
    "Polars seemingly **2 evaluation engines**:\n",
    "\n",
    "1. **Eager**: This is the default. It is the same as Pandas. When you call a method, the method is immediately executed.\n",
    "2. **Lazy**: This is the same as Spark. When you call a method, the method is not immediately executed. Instead, a query plan is created. The query plan is then executed when you call `.collect()`.\n",
    "\n",
    "Why \"seemingly\" 2? \n",
    "Because each engine has it's own subtleties.\n",
    "For instance, the behavior of the lazy engine may depend on streaming VS non-streaming evaluation, and on the means of loading the data.\n",
    "\n",
    "1. **Streaming**: This is a special case of lazy evaluation. It is used when you have a large dataset, and you want to process it in chunks. You can then call `.collect(streaming=True)` to process the dataset in chunks. This is useful when you have a dataset that is too large to fit into memory, and you want to process it in chunks. It is also useful when you want to process a dataset in real-time, as it is being generated.\n",
    "2. **Loading**: Reading multiple parquet files using Polars native readers, may behave slightly different than reading the same files as a Pyarrow dataset (always prefer the native readers, when possible).\n",
    "  \n",
    "\n",
    "\n",
    "\n",
    "## Polars dtypes\n",
    "\n",
    "Polars has its own dtypes, call with `pl.<dtype>`; e.g. `pl.Int32`.\n",
    "A comprehensive list may be found [here](https://docs.pola.rs/py-Polars/html/reference/datatypes.html).\n",
    "\n",
    "Here are the most common. \n",
    "Note, that unlike Pandas, all are native Polars dtypes, and do not recur to Python objects. \n",
    "\n",
    "- Floats: \n",
    "  - `pl.Float64`: Arguably, the most frequently used dtype.\n",
    "- Integers: \n",
    "  - `pl.Int64`: The most frequently used integer dtype.\n",
    "- Booleans: \n",
    "  - `pl.Boolean`: As the name suggests. \n",
    "- Strings: \n",
    "  - `pl.Utf8`: The only string encoding supported by Polars. \n",
    "  - `pl.String`: Recently introduced as an alias to `pl.Utf8`.\n",
    "- Temporal: \n",
    "  - `pl.Date`: Date, without time.\n",
    "  - `pl.Datetime`: Date, with time. \n",
    "  - `pl.Time`: Time, without date.\n",
    "  - `pl.Duration`: Time difference.\n",
    "- Nulls: \n",
    "  - `pl.Null`: Polars equivalent of `None`.\n",
    "  - `np.nan`: The numpy dtype. Essentially a float, and not as a null.\n",
    "- Nested:\n",
    "  - `pl.List`: A list of items.\n",
    "  - `pl.Array`: Fixed length list. \n",
    "  - `pl.Struct`: Think of it as a dict within a frame.\n",
    "\n",
    "\n",
    "\n",
    "Things to note:\n",
    "\n",
    "-  Polars has no `Int` dtype, nor `Float`. You must specify the number of bits.\n",
    "-  Polars recently introduced `pl.String` as an alias for `pl.Utf8`. No other encodings are supported.\n",
    "-  Polars also supports `np.nan`(!), which is different than its `pl.Null` dtype. `np.nan` is a **float**, and `Null` is a None.\n",
    "  \n",
    "\n",
    "\n",
    "\n",
    "## The Polars API\n",
    "\n",
    "- You will fall in love with it!\n",
    "- Much more similar to PySpark than to Pandas. The Pandas API is simply not amenable to lazy evaluation. \n",
    "\n",
    "\n",
    "### Some Design Principles {#sec-api-principles}\n",
    "\n",
    "Here are some principles that will help you understand the API:\n",
    "\n",
    "1. All columns are created equal. There are **no indexing** columns. \n",
    "\n",
    "2. Always **remember the class** you are operating on: Is it a series, a dataframe, an expression, or a lazyframe?\n",
    "\n",
    "5. Operations on the columns of a dataframe will always be part of a **context**. Context may include:\n",
    "    1. `pl.DataFrame.select()`: This is the most common context. It is used to select columns, and to apply operations on columns.\n",
    "    2. `pl.DataFrame.with_columns()`: This is used to add columns to a dataframe.\n",
    "    3. `pl.DataFrame.group_by().agg()`: The `.agg()` context works like a `.select()` context, but it is used to apply operations on sub-groups of rows.\n",
    "    4. `pl.DataFrame.filter()`: This is used to filter rows using expressions that evaluate to Booleans.\n",
    "\n",
    "6. Two-word methods are always lower-case, and separated by underscores. E.g: `.is_in()` instead of `.isin()`; `.is_null()` instead of `.isnull()`; `.group_by()` instead of `.groupby()` (starting version 19.0.0). \n",
    "\n",
    "7. Polars was designed for operation within **columns**, not within rows. Operations within rows are the exception, and the will have a `_horizontal()` suffix. Examples: `pl.sum_horizontal()`, `pl.mean_horizontal()`, `pl.rolling_sum_horizontal()`.\n",
    "\n",
    "8. Look for `pl.Expr()` methods so you can chain operations. E.g. `pl.col('a').add(pl.col('b'))` is better than `pl.col('a') + pl.col('b')`; the former can be further chained.\n",
    "  \n",
    "\n",
    "### Some Examples of the API\n",
    "\n",
    "Here is an example to give you a little taste of what the API feels like. \n"
   ]
  },
  {
   "cell_type": "code",
   "execution_count": 65,
   "id": "Polars-api",
   "metadata": {},
   "outputs": [],
   "source": [
    "#| label: Polars-api\n",
    "\n",
    "# Make some data\n",
    "polars_frame = pl.DataFrame(make_data(100,4))\n",
    "polars_frame.limit(5)"
   ]
  },
  {
   "cell_type": "markdown",
   "id": "71d1ac68",
   "metadata": {},
   "source": [
    "::: {.callout-note}\n",
    "What is the difference between `.head()` and `limit()`?\n",
    "For eager frames? For lazy frames?\n",
    ":::\n",
    "\n",
    "\n",
    "\n",
    "Can you parse the following in your head?"
   ]
  },
  {
   "cell_type": "code",
   "execution_count": 66,
   "id": "f0044c42",
   "metadata": {},
   "outputs": [],
   "source": [
    "(\n",
    "  polars_frame\n",
    "  .rename({'column_0':'group'})\n",
    "  .with_columns(\n",
    "    pl.col('group').cast(pl.Int32),\n",
    "    pl.col('column_1').ge(0).alias('non-negative'),\n",
    "  )\n",
    "  .group_by('non-negative')\n",
    "  .agg(\n",
    "    pl.col('group').is_between(1,4).sum().alias('one-to-four'),\n",
    "    pl.col('^column_[0-9]$').mean().name.suffix('_mean'),\n",
    "  )\n",
    ")"
   ]
  },
  {
   "cell_type": "markdown",
   "id": "b8fd1221",
   "metadata": {},
   "source": [
    "Ask yourself:\n",
    "\n",
    "- What is `polars_frame`? Is it an eager or a lazy Polars dataframe?\n",
    "- Why is `column_1_mean` when `non-negative=false` indeed non negative?\n",
    "- What is a Polars expression?\n",
    "- What is a Polars series?\n",
    "- How did I create the columns `column_1_mean`...`column_4_mean`?\n",
    "- How would you have written this in Pandas?\n"
   ]
  },
  {
   "cell_type": "code",
   "execution_count": 67,
   "id": "Polars-api-second-example",
   "metadata": {},
   "outputs": [],
   "source": [
    "#| label: Polars-api-second-example\n",
    "\n",
    "(\n",
    "  polars_frame\n",
    "  .rename({'column_0':'group'})\n",
    "  .select(\n",
    "    pl.col('group').mod(2),\n",
    "\n",
    "    pl.mean_horizontal(\n",
    "      pl.col('^column_[0-9]$')\n",
    "    )\n",
    "    .name.suffix('_mean')\n",
    "  )\n",
    "  .filter(\n",
    "    pl.col('group').eq(1),\n",
    "    pl.col('column_1_mean').gt(0)\n",
    "  )\n",
    ")"
   ]
  },
  {
   "cell_type": "markdown",
   "id": "c673d206",
   "metadata": {},
   "source": [
    "Try parsing the following in your head:\n"
   ]
  },
  {
   "cell_type": "code",
   "execution_count": 68,
   "id": "6e9be3db",
   "metadata": {},
   "outputs": [],
   "source": [
    "polars_frame_2 = (\n",
    "  pl.DataFrame(make_data(100,1))\n",
    "  .select(\n",
    "    pl.col('*').name.suffix('_second')\n",
    "  )\n",
    ")\n",
    "\n",
    "\n",
    "\n",
    "(\n",
    "  polars_frame\n",
    "  .join(\n",
    "    polars_frame_2,\n",
    "    left_on = 'column_0',\n",
    "    right_on = 'column_0_second',\n",
    "    how = 'left',\n",
    "    validate='1:1'\n",
    "  )\n",
    ")\n"
   ]
  },
  {
   "cell_type": "markdown",
   "id": "4e7dd452",
   "metadata": {},
   "source": [
    "Can you parse the following in your head?\n"
   ]
  },
  {
   "cell_type": "code",
   "execution_count": 69,
   "id": "067e5159",
   "metadata": {},
   "outputs": [],
   "source": [
    "polars_frame_3 = pl.DataFrame(make_data(10,1))\n",
    "\n",
    "(\n",
    "  polars_frame.lazy()\n",
    "  .select(\n",
    "    pl.col('*').name.suffix('_first')\n",
    "  )\n",
    "  .with_context(\n",
    "    polars_frame_3.lazy()\n",
    "    .select(\n",
    "      pl.col('*').name.suffix('_third')\n",
    "    ) \n",
    "  )\n",
    "  .select(\n",
    "    'column_0_first',\n",
    "\n",
    "    pl.when(\n",
    "      pl.col('column_0_first').mod(2).eq(0)\n",
    "      )\n",
    "    .then(\n",
    "      pl.lit(1)\n",
    "      )\n",
    "    .otherwise(\n",
    "      polars_frame_3\n",
    "      .select(\n",
    "        pl.last().min()\n",
    "        )\n",
    "      )\n",
    "  )\n",
    "  .collect(streaming=True)\n",
    ")"
   ]
  },
  {
   "cell_type": "markdown",
   "id": "0fdee539",
   "metadata": {},
   "source": [
    "## Getting Help\n",
    "\n",
    "Before we dive in, you should be aware of the following references for further help:\n",
    "\n",
    "1.  A [github page](https://github.com/pola-rs/Polars). It is particular important to subscribe to [release updates](https://github.com/pola-rs/Polars/releases). \n",
    "2.  A [user guide](https://pola-rs.github.io/Polars-book/user-guide/index.html).\n",
    "3.  A very active community on [Discord](https://discord.gg/4UfP5cfBE7).\n",
    "4.  The [API reference](https://pola-rs.github.io/Polars/py-Polars/html/reference/index.html).\n",
    "5.  A Stack-Overflow [tag](https://stackoverflow.com/questions/tagged/python-Polars).\n",
    "6.  Cheat-sheet for [Pandas users](https://www.rhosignal.com/posts/Polars-Pandas-cheatsheet/).\n",
    "\n",
    "**Warning**: Be careful of AI assistants such as Github-Copilot, TabNine, etc. \n",
    "Polars is still very new, and they may give you Pandas completions instead of Polars.\n",
    "\n",
    "\n",
    "\n",
    "\n",
    "\n",
    "# Polars Series {#sec-series}\n",
    "\n",
    "A Polars series looks a feels a lot like a Pandas series.\n",
    "You usually will try to avoid them because: (a) Your objects will usually be in frames, not in series. (b) If in frames, you will be calling `pl.Expr()` methods, and not `pl.Series()` methods. \n",
    "Getting used to Polars series, will thus give you bad intuitions when you move to Polars expressions.\n",
    "Nevertheless, it is the simples object to learn, so we start there. \n",
    "\n",
    "\n",
    "Construct a series\n"
   ]
  },
  {
   "cell_type": "code",
   "execution_count": 70,
   "id": "make-a-series",
   "metadata": {},
   "outputs": [],
   "source": [
    "#| label: make-a-series\n",
    "s = pl.Series(\"a\", [1, 2, 3])\n",
    "s"
   ]
  },
  {
   "cell_type": "markdown",
   "id": "bb0cb565",
   "metadata": {},
   "source": [
    "Make Pandas series for later comparisons.\n"
   ]
  },
  {
   "cell_type": "code",
   "execution_count": 71,
   "id": "make-a-Pandas-series",
   "metadata": {},
   "outputs": [],
   "source": [
    "#| label: make-a-Pandas-series\n",
    "s_Pandas = pd.Series([1, 2, 3], name = \"a\")\n",
    "s_Pandas"
   ]
  },
  {
   "cell_type": "markdown",
   "id": "4257f272",
   "metadata": {},
   "source": [
    "Notice even the printing to Jupiter is different.\n"
   ]
  },
  {
   "cell_type": "code",
   "execution_count": 72,
   "id": "check-series-type",
   "metadata": {},
   "outputs": [],
   "source": [
    "#| label: check-series-type\n",
    "type(s)"
   ]
  },
  {
   "cell_type": "code",
   "execution_count": 73,
   "id": "check-Pandas-series-type",
   "metadata": {},
   "outputs": [],
   "source": [
    "#| label: check-Pandas-series-type\n",
    "type(s_Pandas)"
   ]
  },
  {
   "cell_type": "code",
   "execution_count": 74,
   "id": "check-series-dtype",
   "metadata": {},
   "outputs": [],
   "source": [
    "#| label: check-series-dtype\n",
    "s.dtype"
   ]
  },
  {
   "cell_type": "code",
   "execution_count": 75,
   "id": "check-Pandas-series-dtype",
   "metadata": {},
   "outputs": [],
   "source": [
    "#| label: check-Pandas-series-dtype\n",
    "s_Pandas.dtype"
   ]
  },
  {
   "cell_type": "markdown",
   "id": "68eb1258",
   "metadata": {},
   "source": [
    "Renaming a series; will be very useful when operating on dataframe columns.\n"
   ]
  },
  {
   "cell_type": "code",
   "execution_count": 76,
   "id": "rename-series",
   "metadata": {},
   "outputs": [],
   "source": [
    "#| label: rename-series\n",
    "s.alias(\"b\")"
   ]
  },
  {
   "cell_type": "markdown",
   "id": "5fb57dbb",
   "metadata": {},
   "source": [
    "Constructing a series of floats, for later use.\n"
   ]
  },
  {
   "cell_type": "code",
   "execution_count": 77,
   "id": "make-a-float-series",
   "metadata": {},
   "outputs": [],
   "source": [
    "#| label: make-a-float-series\n",
    "f = pl.Series(\"a\", [1., 2., 3.])\n",
    "f"
   ]
  },
  {
   "cell_type": "code",
   "execution_count": 78,
   "id": "check-float-series-dtype",
   "metadata": {},
   "outputs": [],
   "source": [
    "#| label: check-float-series-dtype\n",
    "f.dtype"
   ]
  },
  {
   "cell_type": "markdown",
   "id": "f45e59d5",
   "metadata": {},
   "source": [
    "## Export To Other Python Objects\n",
    "\n",
    "The current section deals with exports to other python objects, **in memory**. \n",
    "See @sec-disk-export for exporting to disk.\n",
    "\n",
    "Export to Polars DataFrame."
   ]
  },
  {
   "cell_type": "code",
   "execution_count": 79,
   "id": "series-to-Polars-dataframe",
   "metadata": {},
   "outputs": [],
   "source": [
    "#| label: series-to-Polars-dataframe\n",
    "s.to_frame() "
   ]
  },
  {
   "cell_type": "markdown",
   "id": "32ba95ec",
   "metadata": {},
   "source": [
    "Export to Python list. "
   ]
  },
  {
   "cell_type": "code",
   "execution_count": 80,
   "id": "series-to-list",
   "metadata": {},
   "outputs": [],
   "source": [
    "#| label: series-to-list\n",
    "s.to_list()"
   ]
  },
  {
   "cell_type": "markdown",
   "id": "eeac513c",
   "metadata": {},
   "source": [
    "Export to Numpy array. "
   ]
  },
  {
   "cell_type": "code",
   "execution_count": 81,
   "id": "series-to-numpy",
   "metadata": {},
   "outputs": [],
   "source": [
    "#| label: series-to-numpy\n",
    "s.to_numpy() # useful for preparing data for learning with scikit-learn"
   ]
  },
  {
   "cell_type": "markdown",
   "id": "39d009a3",
   "metadata": {},
   "source": [
    "Export to Pandas Series. "
   ]
  },
  {
   "cell_type": "code",
   "execution_count": 82,
   "id": "series-to-Pandas-series",
   "metadata": {},
   "outputs": [],
   "source": [
    "#| label: series-to-Pandas-series\n",
    "s.to_pandas()"
   ]
  },
  {
   "cell_type": "markdown",
   "id": "c646654d",
   "metadata": {},
   "source": [
    "Export to Arrow Array.\n",
    "Useful for preparing data for learning with XGBoost which supports Arrow.\n",
    "Maybe Scikit-learn will also support Arrow in the future? Although Scikit-learn [may support Polars](https://github.com/scikit-learn/scikit-learn/issues/25896) before it supports Arrow."
   ]
  },
  {
   "cell_type": "code",
   "execution_count": 83,
   "id": "series-to-arrow",
   "metadata": {},
   "outputs": [],
   "source": [
    "#| label: series-to-arrow\n",
    "s.to_arrow() "
   ]
  },
  {
   "cell_type": "markdown",
   "id": "3bcaffc6",
   "metadata": {},
   "source": [
    "## Memory Representation of Series\n",
    "\n",
    "Object size in memory. \n",
    "Super useful for profiling.\n",
    "Will only be available for eager objects; by definitions. \n"
   ]
  },
  {
   "cell_type": "code",
   "execution_count": 84,
   "id": "series-memory-size",
   "metadata": {},
   "outputs": [],
   "source": [
    "#| label: series-memory-size\n",
    "s.estimated_size(unit=\"b\") # 8(bytes) * 3(length)"
   ]
  },
  {
   "cell_type": "markdown",
   "id": "00525e12",
   "metadata": {},
   "source": [
    "## Filtering and Subsetting {#sec-filtering-subsetting-series}\n"
   ]
  },
  {
   "cell_type": "code",
   "execution_count": 85,
   "id": "4530cdbf",
   "metadata": {},
   "outputs": [],
   "source": [
    "s[0] # same as s.__getitem__(0)"
   ]
  },
  {
   "cell_type": "markdown",
   "id": "949f8868",
   "metadata": {},
   "source": [
    "To filter, you need to use the `.filter()` method.\n"
   ]
  },
  {
   "cell_type": "code",
   "execution_count": 86,
   "id": "series-filter-with-series",
   "metadata": {},
   "outputs": [],
   "source": [
    "#| label: series-filter-with-series\n",
    "s.filter(pl.Series(\"a\", [True, False, True])) # works"
   ]
  },
  {
   "cell_type": "markdown",
   "id": "ebc6781e",
   "metadata": {},
   "source": [
    "Filtering with the `[` operator will not work:\n"
   ]
  },
  {
   "cell_type": "code",
   "execution_count": 87,
   "id": "series-subset-with-boolean",
   "metadata": {},
   "outputs": [],
   "source": [
    "#| label: series-subset-with-boolean\n",
    "#| eval: false\n",
    "s[[True, False, True]]"
   ]
  },
  {
   "cell_type": "code",
   "execution_count": 88,
   "id": "series-filter-with-list",
   "metadata": {},
   "outputs": [],
   "source": [
    "#| label: series-filter-with-list\n",
    "s.filter([True, False, True])"
   ]
  },
  {
   "cell_type": "code",
   "execution_count": 89,
   "id": "series-limit",
   "metadata": {},
   "outputs": [],
   "source": [
    "#| label: series-limit\n",
    "s.limit(2)"
   ]
  },
  {
   "cell_type": "code",
   "execution_count": 90,
   "id": "series-head",
   "metadata": {},
   "outputs": [],
   "source": [
    "#| label: series-head\n",
    "s.head(2)"
   ]
  },
  {
   "cell_type": "code",
   "execution_count": 91,
   "id": "series-tail",
   "metadata": {},
   "outputs": [],
   "source": [
    "#| label: series-tail\n",
    "s.tail(2)"
   ]
  },
  {
   "cell_type": "code",
   "execution_count": 92,
   "id": "series-sample",
   "metadata": {},
   "outputs": [],
   "source": [
    "#| label: series-sample\n",
    "s.sample(2, with_replacement=False)"
   ]
  },
  {
   "cell_type": "code",
   "execution_count": 93,
   "id": "series-gather-aka-iloc",
   "metadata": {},
   "outputs": [],
   "source": [
    "#| label: series-gather-aka-iloc\n",
    "s.gather([0, 2]) # same as s[0,2] and Pandas .iloc[[0,2]]"
   ]
  },
  {
   "cell_type": "code",
   "execution_count": 94,
   "id": "series-slice",
   "metadata": {},
   "outputs": [],
   "source": [
    "#| label: series-slice\n",
    "s.slice(1, 2) # same as Pandas .iloc[1:2]"
   ]
  },
  {
   "cell_type": "code",
   "execution_count": 95,
   "id": "series-gather-every",
   "metadata": {},
   "outputs": [],
   "source": [
    "#| label: series-gather-every\n",
    "s.gather_every(2) # same as Pandas .iloc[::2]"
   ]
  },
  {
   "cell_type": "markdown",
   "id": "3348848f",
   "metadata": {},
   "source": [
    "## Aggregations\n"
   ]
  },
  {
   "cell_type": "code",
   "execution_count": 96,
   "id": "series-sum",
   "metadata": {},
   "outputs": [],
   "source": [
    "#| label: series-sum\n",
    "s.sum()"
   ]
  },
  {
   "cell_type": "code",
   "execution_count": 97,
   "id": "series-min",
   "metadata": {},
   "outputs": [],
   "source": [
    "#| label: series-min\n",
    "s.min()"
   ]
  },
  {
   "cell_type": "code",
   "execution_count": 98,
   "id": "series-arg-min",
   "metadata": {},
   "outputs": [],
   "source": [
    "#| label: series-arg-min\n",
    "s.arg_min()"
   ]
  },
  {
   "cell_type": "code",
   "execution_count": 99,
   "id": "series-max",
   "metadata": {},
   "outputs": [],
   "source": [
    "#| label: series-max\n",
    "s.max()"
   ]
  },
  {
   "cell_type": "code",
   "execution_count": 100,
   "id": "series-arg-max",
   "metadata": {},
   "outputs": [],
   "source": [
    "#| label: series-arg-max\n",
    "s.arg_max()"
   ]
  },
  {
   "cell_type": "code",
   "execution_count": 101,
   "id": "series-mean",
   "metadata": {},
   "outputs": [],
   "source": [
    "#| label: series-mean\n",
    "s.mean()"
   ]
  },
  {
   "cell_type": "code",
   "execution_count": 102,
   "id": "series-median",
   "metadata": {},
   "outputs": [],
   "source": [
    "#| label: series-median\n",
    "s.median()"
   ]
  },
  {
   "cell_type": "code",
   "execution_count": 103,
   "id": "series-quantile",
   "metadata": {},
   "outputs": [],
   "source": [
    "#| label: series-quantile\n",
    "s.quantile(0.2)"
   ]
  },
  {
   "cell_type": "code",
   "execution_count": 104,
   "id": "series-entropy",
   "metadata": {},
   "outputs": [],
   "source": [
    "#| label: series-entropy\n",
    "s.entropy()"
   ]
  },
  {
   "cell_type": "code",
   "execution_count": 105,
   "id": "Polars-series-describe",
   "metadata": {},
   "outputs": [],
   "source": [
    "#| label: Polars-series-describe\n",
    "s.describe() "
   ]
  },
  {
   "cell_type": "markdown",
   "id": "84ff97af",
   "metadata": {},
   "source": [
    "Polars `pl.series.describe()` is almost the same as Pandas `pd.series.describe()`.\n"
   ]
  },
  {
   "cell_type": "code",
   "execution_count": 106,
   "id": "Pandas-series-describe",
   "metadata": {},
   "outputs": [],
   "source": [
    "#| label: Pandas-series-describe\n",
    "s_Pandas.describe()"
   ]
  },
  {
   "cell_type": "code",
   "execution_count": 107,
   "id": "series-value-counts",
   "metadata": {},
   "outputs": [],
   "source": [
    "#| label: series-value-counts\n",
    "s.value_counts()"
   ]
  },
  {
   "cell_type": "markdown",
   "id": "ff60f489",
   "metadata": {},
   "source": [
    "## Missing\n",
    "\n",
    "Thanks to Arrow, Polars has built in missing value support for all(!) dtypes. \n",
    "This has been a long awaited feature in the Python data science ecosystem with implications on speed, memory, style and more. \n",
    "The [Polars User Guide](https://pola-rs.github.io/Polars-book/user-guide/howcani/missing_data.html) has a great overview of the topic from which we collect some take-homes:\n",
    "\n",
    "- `np.nan` is also supported along `pl.Null`, but is not considered as a missing value by Polars. This has implications on null counts, statistical aggregations, etc.\n",
    "- `pl.Null`, and `np.nan`s have their own separate functions for imputing, counting, etc.\n"
   ]
  },
  {
   "cell_type": "code",
   "execution_count": 108,
   "id": "74eea07d",
   "metadata": {},
   "outputs": [],
   "source": [
    "m = pl.Series(\"a\", [1, 2, None, np.nan])"
   ]
  },
  {
   "cell_type": "code",
   "execution_count": 109,
   "id": "15198aa7",
   "metadata": {},
   "outputs": [],
   "source": [
    "m.is_null() # checking for None's. Like Pandas .isna()"
   ]
  },
  {
   "cell_type": "code",
   "execution_count": 110,
   "id": "0dc1c79e",
   "metadata": {},
   "outputs": [],
   "source": [
    "m.is_nan() # checking for np.nan's"
   ]
  },
  {
   "cell_type": "markdown",
   "id": "a651ab1f",
   "metadata": {},
   "source": [
    "For comparison with Pandas:\n"
   ]
  },
  {
   "cell_type": "code",
   "execution_count": 111,
   "id": "d56d183e",
   "metadata": {},
   "outputs": [],
   "source": [
    "m_Pandas = pd.Series([1, 2, None, np.nan])"
   ]
  },
  {
   "cell_type": "code",
   "execution_count": 112,
   "id": "e70a923e",
   "metadata": {},
   "outputs": [],
   "source": [
    "m_Pandas.isna()"
   ]
  },
  {
   "cell_type": "code",
   "execution_count": 113,
   "id": "cf42aa8a",
   "metadata": {},
   "outputs": [],
   "source": [
    "m_Pandas.isnull() # alias for pd.isna()"
   ]
  },
  {
   "cell_type": "markdown",
   "id": "a2e03c4c",
   "metadata": {},
   "source": [
    "### Operating on Missing\n",
    "\n",
    "We now compare the behavior of Polars to Pandas when operating on missing values.\n",
    "When interpreting the following remember:\n",
    "\n",
    "1. For Polars, nan is not missing. It is some unknown number. \n",
    "2. For Pandas, nan and Nulls are the same. \n"
   ]
  },
  {
   "cell_type": "code",
   "execution_count": 114,
   "id": "562bf8f2",
   "metadata": {},
   "outputs": [],
   "source": [
    "# Polars\n",
    "m1 = pl.Series(\"a\", [1, None, 2, ]) # python native None\n",
    "m2 = pl.Series(\"a\", [1, np.nan, 2, ]) # numpy's nan\n",
    "m3 = pl.Series(\"a\", [1, float('nan'), 2, ]) # python's nan\n",
    "\n",
    "# Pandas\n",
    "m4 = pd.Series([1, None, 2 ])\n",
    "m5 = pd.Series([1, np.nan, 2, ])\n",
    "m6 = pd.Series([1, float('nan'), 2, ])"
   ]
  },
  {
   "cell_type": "code",
   "execution_count": 115,
   "id": "58654a0c",
   "metadata": {},
   "outputs": [],
   "source": [
    "[\n",
    "  m1.sum(), \n",
    "  m2.sum(), \n",
    "  m3.sum(), \n",
    "  m4.sum(), \n",
    "  m5.sum(), \n",
    "  m6.sum(),\n",
    "  ]"
   ]
  },
  {
   "cell_type": "markdown",
   "id": "1519cd9e",
   "metadata": {},
   "source": [
    "Things to note:\n",
    "\n",
    "-   `None` will be ignored by both, which is **unsafe**.\n",
    "-   `np.nan` will be ignored by Pandas (unsafe), but not by Polars (safe).\n",
    "\n",
    "Filling missing values; `None` and `np.nan` are treated differently:\n"
   ]
  },
  {
   "cell_type": "code",
   "execution_count": 116,
   "id": "series-fill-null-for-null",
   "metadata": {},
   "outputs": [],
   "source": [
    "#| label: series-fill-null-for-null\n",
    "m1.fill_null(0)"
   ]
  },
  {
   "cell_type": "code",
   "execution_count": 117,
   "id": "series-fill-null-for-nan",
   "metadata": {},
   "outputs": [],
   "source": [
    "#| label: series-fill-null-for-nan\n",
    "m2.fill_null(0)"
   ]
  },
  {
   "cell_type": "code",
   "execution_count": 118,
   "id": "series-fill-nan-for-nan",
   "metadata": {},
   "outputs": [],
   "source": [
    "#| label: series-fill-nan-for-nan\n",
    "m2.fill_nan(0)"
   ]
  },
  {
   "cell_type": "code",
   "execution_count": 119,
   "id": "series-drop-null-for-null",
   "metadata": {},
   "outputs": [],
   "source": [
    "#| label: series-drop-null-for-null\n",
    "m1.drop_nulls()"
   ]
  },
  {
   "cell_type": "code",
   "execution_count": 120,
   "id": "series-drop-nan-for-null",
   "metadata": {},
   "outputs": [],
   "source": [
    "#| label: series-drop-nan-for-null\n",
    "m1.drop_nans()"
   ]
  },
  {
   "cell_type": "code",
   "execution_count": 121,
   "id": "series-drop-null-for-nan",
   "metadata": {},
   "outputs": [],
   "source": [
    "#| label: series-drop-null-for-nan\n",
    "m2.drop_nulls()"
   ]
  },
  {
   "cell_type": "code",
   "execution_count": 122,
   "id": "series-interpolate-null-for-null",
   "metadata": {},
   "outputs": [],
   "source": [
    "#| label: series-interpolate-null-for-null\n",
    "m1.interpolate()"
   ]
  },
  {
   "cell_type": "code",
   "execution_count": 123,
   "id": "series-interpolate-null-for-nan",
   "metadata": {},
   "outputs": [],
   "source": [
    "#| label: series-interpolate-null-for-nan\n",
    "m2.interpolate() # np.nan is not considered missing, so why interpolate?"
   ]
  },
  {
   "cell_type": "markdown",
   "id": "35014aaa",
   "metadata": {},
   "source": [
    "## Shape Transformations\n"
   ]
  },
  {
   "cell_type": "code",
   "execution_count": 124,
   "id": "series-to-dummies",
   "metadata": {},
   "outputs": [],
   "source": [
    "#| label: series-to-dummies\n",
    "s.to_dummies()"
   ]
  },
  {
   "cell_type": "code",
   "execution_count": 125,
   "id": "series-shift",
   "metadata": {},
   "outputs": [],
   "source": [
    "#| label: series-shift\n",
    "s.shift(1, fill_value=999)"
   ]
  },
  {
   "cell_type": "code",
   "execution_count": 126,
   "id": "series-shift-back",
   "metadata": {},
   "outputs": [],
   "source": [
    "#| label: series-shift-back\n",
    "s.shift(-1)"
   ]
  },
  {
   "cell_type": "code",
   "execution_count": 127,
   "id": "series-reshape",
   "metadata": {},
   "outputs": [],
   "source": [
    "#| label: series-reshape\n",
    "pl.Series(\"a\",[1,2,3,4]).reshape((2,2))"
   ]
  },
  {
   "cell_type": "markdown",
   "id": "e4fb9fb0",
   "metadata": {},
   "source": [
    "## Arithmetic Operations\n",
    "\n",
    "The following will fail for `pl.Series` for will work(!) for `pl.Expr`.\n"
   ]
  },
  {
   "cell_type": "code",
   "execution_count": 128,
   "id": "series-add",
   "metadata": {},
   "outputs": [],
   "source": [
    "#| label: series-add\n",
    "#| eval: false\n",
    "\n",
    "s.add(1)"
   ]
  },
  {
   "cell_type": "code",
   "execution_count": 129,
   "id": "series-sub",
   "metadata": {},
   "outputs": [],
   "source": [
    "#| label: series-sub\n",
    "#| eval: false\n",
    "\n",
    "s.sub(1)"
   ]
  },
  {
   "cell_type": "code",
   "execution_count": 130,
   "id": "series-mul",
   "metadata": {},
   "outputs": [],
   "source": [
    "#| label: series-mul\n",
    "#| eval: false\n",
    "\n",
    "s.mul(2)"
   ]
  },
  {
   "cell_type": "code",
   "execution_count": 131,
   "id": "series-truediv",
   "metadata": {},
   "outputs": [],
   "source": [
    "#| label: series-truediv\n",
    "#| eval: false\n",
    "\n",
    "s.truediv(2)"
   ]
  },
  {
   "cell_type": "code",
   "execution_count": 132,
   "id": "series-floordiv",
   "metadata": {},
   "outputs": [],
   "source": [
    "#| label: series-floordiv\n",
    "#| eval: false\n",
    "\n",
    "s.floordiv(2)"
   ]
  },
  {
   "cell_type": "markdown",
   "id": "f1e32639",
   "metadata": {},
   "source": [
    "## Mathematical Transformations\n"
   ]
  },
  {
   "cell_type": "code",
   "execution_count": 133,
   "id": "series-abs",
   "metadata": {},
   "outputs": [],
   "source": [
    "#| label: series-abs\n",
    "s.abs()"
   ]
  },
  {
   "cell_type": "code",
   "execution_count": 134,
   "id": "series-sin",
   "metadata": {},
   "outputs": [],
   "source": [
    "#| label: series-sin\n",
    "s.sin()"
   ]
  },
  {
   "cell_type": "code",
   "execution_count": 135,
   "id": "series-exp",
   "metadata": {},
   "outputs": [],
   "source": [
    "#| label: series-exp\n",
    "s.exp()"
   ]
  },
  {
   "cell_type": "code",
   "execution_count": 136,
   "id": "series-hash",
   "metadata": {},
   "outputs": [],
   "source": [
    "#| label: series-hash\n",
    "s.hash()"
   ]
  },
  {
   "cell_type": "code",
   "execution_count": 137,
   "id": "series-log",
   "metadata": {},
   "outputs": [],
   "source": [
    "#| label: series-log\n",
    "s.log()"
   ]
  },
  {
   "cell_type": "code",
   "execution_count": 138,
   "id": "series-sqrt",
   "metadata": {},
   "outputs": [],
   "source": [
    "#| label: series-sqrt\n",
    "s.sqrt()"
   ]
  },
  {
   "cell_type": "markdown",
   "id": "a9cece8b",
   "metadata": {},
   "source": [
    "## Comparisons\n"
   ]
  },
  {
   "cell_type": "code",
   "execution_count": 139,
   "id": "f02294a9",
   "metadata": {},
   "outputs": [],
   "source": [
    "s.equals(pl.Series(\"a\", [1, 2, 3]))"
   ]
  },
  {
   "cell_type": "code",
   "execution_count": 140,
   "id": "series-eq",
   "metadata": {},
   "outputs": [],
   "source": [
    "#| label: series-eq\n",
    "s.eq(2)"
   ]
  },
  {
   "cell_type": "code",
   "execution_count": 141,
   "id": "series-ge",
   "metadata": {},
   "outputs": [],
   "source": [
    "#| label: series-ge\n",
    "s.ge(2)"
   ]
  },
  {
   "cell_type": "markdown",
   "id": "71f675ee",
   "metadata": {},
   "source": [
    "Clip, aka Winsorize. \n"
   ]
  },
  {
   "cell_type": "code",
   "execution_count": 142,
   "id": "series-clip",
   "metadata": {},
   "outputs": [],
   "source": [
    "#| label: series-clip\n",
    "f.clip(lower_bound=1.5,upper_bound=2.5)"
   ]
  },
  {
   "cell_type": "code",
   "execution_count": 143,
   "id": "series-round",
   "metadata": {},
   "outputs": [],
   "source": [
    "#| label: series-round\n",
    "f.round(2)"
   ]
  },
  {
   "cell_type": "code",
   "execution_count": 144,
   "id": "series-ceil",
   "metadata": {},
   "outputs": [],
   "source": [
    "#| label: series-ceil\n",
    "f..add()ceil()"
   ]
  },
  {
   "cell_type": "code",
   "execution_count": 145,
   "id": "series-floor",
   "metadata": {},
   "outputs": [],
   "source": [
    "#| label: series-floor\n",
    "f.floor()"
   ]
  },
  {
   "cell_type": "code",
   "execution_count": 146,
   "id": "series-which-max",
   "metadata": {},
   "outputs": [],
   "source": [
    "#| label: series-which-max\n",
    "s.peak_max()"
   ]
  },
  {
   "cell_type": "markdown",
   "id": "b6b146fb",
   "metadata": {},
   "source": [
    "## Search\n"
   ]
  },
  {
   "cell_type": "code",
   "execution_count": 147,
   "id": "series-search-in-list",
   "metadata": {},
   "outputs": [],
   "source": [
    "#| label: series-search-in-list\n",
    "s.is_in([1, 10])"
   ]
  },
  {
   "cell_type": "code",
   "execution_count": 148,
   "id": "series-search-in-range",
   "metadata": {},
   "outputs": [],
   "source": [
    "#| label: series-search-in-range\n",
    "s.is_between(2, 3, closed='both')"
   ]
  },
  {
   "cell_type": "markdown",
   "id": "077a0db5",
   "metadata": {},
   "source": [
    "## Apply (map_elements)\n",
    "\n",
    "Applying your own function. \n",
    "Also note the informative error message (introduced in Polars Ver 0.18.0) that will try to recommend a more efficient way to do things.\n"
   ]
  },
  {
   "cell_type": "code",
   "execution_count": 149,
   "id": "066ed14d",
   "metadata": {},
   "outputs": [],
   "source": [
    "s.map_elements(lambda x: x + 1)"
   ]
  },
  {
   "cell_type": "markdown",
   "id": "3c61a828",
   "metadata": {},
   "source": [
    "Are lambda functions really so much slower?\n"
   ]
  },
  {
   "cell_type": "code",
   "execution_count": 150,
   "id": "5c72c0b0",
   "metadata": {},
   "outputs": [],
   "source": [
    "s1 = pl.Series(np.random.randn(int(1e6)))"
   ]
  },
  {
   "cell_type": "markdown",
   "id": "441c253e",
   "metadata": {},
   "source": [
    "Adding 1 with apply:\n"
   ]
  },
  {
   "cell_type": "code",
   "execution_count": 151,
   "id": "34a7ba88",
   "metadata": {},
   "outputs": [],
   "source": [
    "%timeit -n2 -r2 s1.map_elements(lambda x: x + 1)"
   ]
  },
  {
   "cell_type": "markdown",
   "id": "a3b52066",
   "metadata": {},
   "source": [
    "Adding 1 without apply:\n"
   ]
  },
  {
   "cell_type": "code",
   "execution_count": 152,
   "id": "68deb47d",
   "metadata": {},
   "outputs": [],
   "source": [
    "%timeit -n2 -r2 s1+1"
   ]
  },
  {
   "cell_type": "markdown",
   "id": "ed2e2da1",
   "metadata": {},
   "source": [
    "## Cumulative Operations\n"
   ]
  },
  {
   "cell_type": "code",
   "execution_count": 153,
   "id": "series-cum-max",
   "metadata": {},
   "outputs": [],
   "source": [
    "#| label: series-cum-max\n",
    "s.cum_max()"
   ]
  },
  {
   "cell_type": "code",
   "execution_count": 154,
   "id": "series-cumsum",
   "metadata": {},
   "outputs": [],
   "source": [
    "#| label: series-cumsum\n",
    "s.cum_sum()"
   ]
  },
  {
   "cell_type": "code",
   "execution_count": 155,
   "id": "series-cumprod",
   "metadata": {},
   "outputs": [],
   "source": [
    "#| label: series-cumprod\n",
    "s.cum_prod()"
   ]
  },
  {
   "cell_type": "code",
   "execution_count": 156,
   "id": "series-ewm",
   "metadata": {},
   "outputs": [],
   "source": [
    "#| label: series-ewm\n",
    "s.ewm_mean(com=0.5)"
   ]
  },
  {
   "cell_type": "markdown",
   "id": "6b82e6c6",
   "metadata": {},
   "source": [
    "## Differentiation Operations\n"
   ]
  },
  {
   "cell_type": "code",
   "execution_count": 157,
   "id": "series-diff",
   "metadata": {},
   "outputs": [],
   "source": [
    "#| label: series-diff\n",
    "s.diff()"
   ]
  },
  {
   "cell_type": "code",
   "execution_count": 158,
   "id": "series-pct-change",
   "metadata": {},
   "outputs": [],
   "source": [
    "#| label: series-pct-change\n",
    "s.pct_change()"
   ]
  },
  {
   "cell_type": "markdown",
   "id": "56ba0ea2",
   "metadata": {},
   "source": [
    "## Windowed Operations\n"
   ]
  },
  {
   "cell_type": "code",
   "execution_count": 159,
   "id": "series-rolling-mean",
   "metadata": {},
   "outputs": [],
   "source": [
    "#| label: series-rolling-mean\n",
    "\n",
    "s.rolling_mean(window_size=2)"
   ]
  },
  {
   "cell_type": "code",
   "execution_count": 160,
   "id": "series-rolling-sum",
   "metadata": {},
   "outputs": [],
   "source": [
    "#| label: series-rolling-sum\n",
    "\n",
    "s.rolling_sum(window_size=2)"
   ]
  },
  {
   "cell_type": "code",
   "execution_count": 161,
   "id": "series-rolling-map",
   "metadata": {},
   "outputs": [],
   "source": [
    "#| label: series-rolling-map\n",
    "s.rolling_map(\n",
    "  sum, \n",
    "  window_size=2)"
   ]
  },
  {
   "cell_type": "markdown",
   "id": "e8094e80",
   "metadata": {},
   "source": [
    "Note:\n",
    "\n",
    "- `sum` is the `pl.sum()` function. You cannot use arbitrary functions within a `rolling_map()` context. \n",
    "- Many rolling functions have been prepared. See the [computations section](https://docs.pola.rs/py-Polars/html/reference/series/computation.html) of the Series class in the official API.\n",
    "\n",
    "\n",
    "\n",
    "## Logical Aggregations\n"
   ]
  },
  {
   "cell_type": "code",
   "execution_count": 162,
   "id": "make-boolean-series",
   "metadata": {},
   "outputs": [],
   "source": [
    "#| label: make-boolean-series\n",
    "b = pl.Series(\"a\", [True, True, False])\n",
    "b.dtype"
   ]
  },
  {
   "cell_type": "code",
   "execution_count": 163,
   "id": "series-all",
   "metadata": {},
   "outputs": [],
   "source": [
    "#| label: series-all\n",
    "b.all()"
   ]
  },
  {
   "cell_type": "code",
   "execution_count": 164,
   "id": "series-any",
   "metadata": {},
   "outputs": [],
   "source": [
    "#| label: series-any\n",
    "b.any()"
   ]
  },
  {
   "cell_type": "code",
   "execution_count": 165,
   "id": "series-not",
   "metadata": {},
   "outputs": [],
   "source": [
    "#| label: series-not\n",
    "b.not_()"
   ]
  },
  {
   "cell_type": "markdown",
   "id": "3f9e8b20",
   "metadata": {},
   "source": [
    "## Uniques and Duplicates\n"
   ]
  },
  {
   "cell_type": "code",
   "execution_count": 166,
   "id": "series-is-duplicated",
   "metadata": {},
   "outputs": [],
   "source": [
    "#| label: series-is-duplicated\n",
    "s.is_duplicated()"
   ]
  },
  {
   "cell_type": "code",
   "execution_count": 167,
   "id": "series-is-unique",
   "metadata": {},
   "outputs": [],
   "source": [
    "#| label: series-is-unique\n",
    "s.is_unique()"
   ]
  },
  {
   "cell_type": "code",
   "execution_count": 168,
   "id": "series-n-unique",
   "metadata": {},
   "outputs": [],
   "source": [
    "#| label: series-n-unique\n",
    "s.unique() # Same as Pandas drop_duplicates()"
   ]
  },
  {
   "cell_type": "code",
   "execution_count": 169,
   "id": "bbf326b8",
   "metadata": {},
   "outputs": [],
   "source": [
    "s.n_unique()"
   ]
  },
  {
   "cell_type": "code",
   "execution_count": 170,
   "id": "6ef3cc2b",
   "metadata": {},
   "outputs": [],
   "source": [
    "pl.Series([1,2,3,4,1]).unique_counts()"
   ]
  },
  {
   "cell_type": "code",
   "execution_count": 171,
   "id": "series-is-first-distinct",
   "metadata": {},
   "outputs": [],
   "source": [
    "#| label: series-is-first-distinct\n",
    "s.is_first_distinct() # not sure there is a pl.Expr method "
   ]
  },
  {
   "cell_type": "markdown",
   "id": "1e900b23",
   "metadata": {},
   "source": [
    "Notes:\n",
    "\n",
    "- `is_first_distinct()` has had many name changes in the past. It was `is_first()` in Polars 0.18.0, and `is_first_distinct()` in Polars 0.19.0.\n",
    "\n",
    "- Do not confuse `.is_first_distinct()` with `.first()`. The former is a logical aggregation, and the latter is a series method. \n"
   ]
  },
  {
   "cell_type": "code",
   "execution_count": 172,
   "id": "first-counter-examples",
   "metadata": {},
   "outputs": [],
   "source": [
    "#| label: first-counter-examples\n",
    "(\n",
    "  pl.DataFrame(pl.Series(\"a\",[1,2,3,1]))\n",
    "  .select(\n",
    "    pl.col('a').first()\n",
    "    )\n",
    ")"
   ]
  },
  {
   "cell_type": "markdown",
   "id": "30cd5106",
   "metadata": {},
   "source": [
    "## Casting\n"
   ]
  },
  {
   "cell_type": "code",
   "execution_count": 173,
   "id": "376eb672",
   "metadata": {},
   "outputs": [],
   "source": [
    "s.cast(pl.Int32)"
   ]
  },
  {
   "cell_type": "markdown",
   "id": "ed06059e",
   "metadata": {},
   "source": [
    "Things to note:\n",
    "\n",
    "-   `cast()` is Polars' equivalent of Pandas' `astype()`.\n",
    "-   The dtypes to cast to are **Polars** dtypes. Don't try `s.cast(\"int32\")`, `s.cast(np.int32)`, or `s.cast(pd.int)`\n",
    "-   For a list of dtypes see the official [documentation](see%20https://pola-rs.github.io/Polars/py-Polars/html/reference/datatypes.html).\n",
    "\n",
    "\n",
    "\n",
    "Find the most efficient dtype for a series; Like Pandas `pd.to_numeric(..., downcast=\"...\"`).\n"
   ]
  },
  {
   "cell_type": "code",
   "execution_count": 174,
   "id": "b15653fa",
   "metadata": {},
   "outputs": [],
   "source": [
    "s.shrink_dtype().dtype # "
   ]
  },
  {
   "cell_type": "markdown",
   "id": "ca3e9fe1",
   "metadata": {},
   "source": [
    "Also see [here](http://braaannigan.github.io/software/2022/10/31/Polars-dtype-diet.html).\n",
    "\n",
    "Shrink the memory allocation to the size of the actual data (in place).\n"
   ]
  },
  {
   "cell_type": "code",
   "execution_count": 175,
   "id": "4394d431",
   "metadata": {},
   "outputs": [],
   "source": [
    "s.shrink_to_fit() "
   ]
  },
  {
   "cell_type": "markdown",
   "id": "ffbd2183",
   "metadata": {},
   "source": [
    "## Ordering and Sorting\n"
   ]
  },
  {
   "cell_type": "code",
   "execution_count": 176,
   "id": "series-sort",
   "metadata": {},
   "outputs": [],
   "source": [
    "#| label: series-sort\n",
    "s.sort()"
   ]
  },
  {
   "cell_type": "code",
   "execution_count": 177,
   "id": "series-reverse",
   "metadata": {},
   "outputs": [],
   "source": [
    "#| label: series-reverse\n",
    "s.reverse()"
   ]
  },
  {
   "cell_type": "code",
   "execution_count": 178,
   "id": "series-rank",
   "metadata": {},
   "outputs": [],
   "source": [
    "#| label: series-rank\n",
    "s.rank()"
   ]
  },
  {
   "cell_type": "code",
   "execution_count": 179,
   "id": "series-arg-sort",
   "metadata": {},
   "outputs": [],
   "source": [
    "#| label: series-arg-sort\n",
    "s.arg_sort() "
   ]
  },
  {
   "cell_type": "markdown",
   "id": "7b3d44ce",
   "metadata": {},
   "source": [
    "`arg_sort()` returns the indices that would sort the series. Same as R's `order()`.\n"
   ]
  },
  {
   "cell_type": "code",
   "execution_count": 180,
   "id": "02b12bf5",
   "metadata": {},
   "outputs": [],
   "source": [
    "sorted_s = s[s.arg_sort()]\n",
    "(s.sort() == sorted_s).all()"
   ]
  },
  {
   "cell_type": "code",
   "execution_count": 181,
   "id": "series-shuffle",
   "metadata": {},
   "outputs": [],
   "source": [
    "#| label: series-shuffle\n",
    "s.shuffle(seed=1) # random permutation"
   ]
  },
  {
   "cell_type": "markdown",
   "id": "b28a7e9f",
   "metadata": {},
   "source": [
    "## Date and Time\n",
    "\n",
    "There are 4 datetime dtypes in Polars:\n",
    "\n",
    "1.  **Date**: A date, without hours. Generated with `pl.Date()`.\n",
    "2.  **Datetime**: Date and hours. Generated with `pl.Datetime()`.\n",
    "3.  **Time**: Hour of day. Generated with `pl.Time()`.\n",
    "4.  **Duration**: As the name suggests. Similar to `timedelta` in Pandas. Generated with `pl.Duration()`.\n",
    "\n",
    "::: {.callout-warning}\n",
    "Python has a sea of modules that support datetimes. \n",
    "A partial list includes: [datetime module](https://docs.python.org/3/library/datetime.html), extensions in [dateutil](https://dateutil.readthedocs.io/en/stable/), [numpy](https://numpy.org/doc/stable/reference/arrays.datetime.html), [Pandas](https://Pandas.pydata.org/Pandas-docs/version/1.1/user_guide/timeseries.html), [arrow](https://arrow.readthedocs.io/en/latest/), the deprecated [scikits.timeseries](https://pytseries.sourceforge.net/) and certainly others. \n",
    "Be aware of the dtype you are using, and the accompanying methods.\n",
    ":::\n",
    "\n",
    "\n",
    "### Time Range\n"
   ]
  },
  {
   "cell_type": "code",
   "execution_count": 182,
   "id": "ec77c765",
   "metadata": {},
   "outputs": [],
   "source": [
    "from datetime import datetime, timedelta\n",
    "\n",
    "date = (\n",
    "  pl.datetime_range(\n",
    "    start = datetime(\n",
    "      year= 2001, month=2, day=2, hour =2, minute=24, second=12), \n",
    "    end = datetime(\n",
    "      year=2002, month=2, day=5, hour =5, minute=34, second=45),\n",
    "    interval='1s', \n",
    "    eager= True, \n",
    "  )\n",
    "  .sample(10)\n",
    ")\n",
    "\n",
    "date"
   ]
  },
  {
   "cell_type": "markdown",
   "id": "752524c6",
   "metadata": {},
   "source": [
    "Things to note:\n",
    "\n",
    "-   How else could I have constructed this series? What other types are accepted as `start` and `end`?\n",
    "-   `pl.date_range` may return a series of dtype `Date` or `Datetime`. This depens of the granularity of the inputs.\n"
   ]
  },
  {
   "cell_type": "code",
   "execution_count": 183,
   "id": "13497eec",
   "metadata": {},
   "outputs": [],
   "source": [
    "date.dtype"
   ]
  },
  {
   "cell_type": "markdown",
   "id": "412432d3",
   "metadata": {},
   "source": [
    "Cast to different time unit. \n",
    "May be useful when joining datasets, and the time unit is different.\n"
   ]
  },
  {
   "cell_type": "code",
   "execution_count": 184,
   "id": "50f47735",
   "metadata": {},
   "outputs": [],
   "source": [
    "date.dt.cast_time_unit(time_unit=\"ms\")"
   ]
  },
  {
   "cell_type": "markdown",
   "id": "5b990149",
   "metadata": {},
   "source": [
    "Datetime methods are accessed with the `.dt` namespace.\n",
    "\n",
    "\n",
    "### Extract Time Sub-Units\n"
   ]
  },
  {
   "cell_type": "code",
   "execution_count": 185,
   "id": "11666aa4",
   "metadata": {},
   "outputs": [],
   "source": [
    "date.dt.second()"
   ]
  },
  {
   "cell_type": "code",
   "execution_count": 186,
   "id": "334afa8b",
   "metadata": {},
   "outputs": [],
   "source": [
    "date.dt.minute()"
   ]
  },
  {
   "cell_type": "code",
   "execution_count": 187,
   "id": "6812837f",
   "metadata": {},
   "outputs": [],
   "source": [
    "date.dt.hour()"
   ]
  },
  {
   "cell_type": "code",
   "execution_count": 188,
   "id": "e18335b6",
   "metadata": {},
   "outputs": [],
   "source": [
    "date.dt.day()"
   ]
  },
  {
   "cell_type": "code",
   "execution_count": 189,
   "id": "f90b6188",
   "metadata": {},
   "outputs": [],
   "source": [
    "date.dt.week()"
   ]
  },
  {
   "cell_type": "code",
   "execution_count": 190,
   "id": "0d509744",
   "metadata": {},
   "outputs": [],
   "source": [
    "date.dt.weekday()"
   ]
  },
  {
   "cell_type": "code",
   "execution_count": 191,
   "id": "5705f66b",
   "metadata": {},
   "outputs": [],
   "source": [
    "date.dt.month()"
   ]
  },
  {
   "cell_type": "code",
   "execution_count": 192,
   "id": "079ae3d3",
   "metadata": {},
   "outputs": [],
   "source": [
    "date.dt.year()"
   ]
  },
  {
   "cell_type": "code",
   "execution_count": 193,
   "id": "2bf0bc3c",
   "metadata": {},
   "outputs": [],
   "source": [
    "date.dt.ordinal_day() # day in year"
   ]
  },
  {
   "cell_type": "code",
   "execution_count": 194,
   "id": "2b10f67b",
   "metadata": {},
   "outputs": [],
   "source": [
    "date.dt.quarter()"
   ]
  },
  {
   "cell_type": "markdown",
   "id": "6e61a421",
   "metadata": {},
   "source": [
    "### Durations\n",
    "\n",
    "Equivalent to Pandas `period` dtype.\n"
   ]
  },
  {
   "cell_type": "code",
   "execution_count": 195,
   "id": "ca7676f1",
   "metadata": {},
   "outputs": [],
   "source": [
    "diffs = date.diff()\n",
    "diffs"
   ]
  },
  {
   "cell_type": "code",
   "execution_count": 196,
   "id": "1bfed457",
   "metadata": {},
   "outputs": [],
   "source": [
    "diffs.dtype"
   ]
  },
  {
   "cell_type": "markdown",
   "id": "50c83761",
   "metadata": {},
   "source": [
    "::: {.callout-important}\n",
    "The extrator of sub-units from a `pl.Duration` has recently changed from `.dt.X()` to `.dt.total_X()`.\n",
    ":::\n"
   ]
  },
  {
   "cell_type": "code",
   "execution_count": 197,
   "id": "5eef1a3c",
   "metadata": {},
   "outputs": [],
   "source": [
    "diffs.dt.total_seconds()"
   ]
  },
  {
   "cell_type": "code",
   "execution_count": 198,
   "id": "c3790c96",
   "metadata": {},
   "outputs": [],
   "source": [
    "diffs.dt.total_minutes()"
   ]
  },
  {
   "cell_type": "code",
   "execution_count": 199,
   "id": "067827fa",
   "metadata": {},
   "outputs": [],
   "source": [
    "diffs.dt.days()"
   ]
  },
  {
   "cell_type": "code",
   "execution_count": 200,
   "id": "4c976e0f",
   "metadata": {},
   "outputs": [],
   "source": [
    "diffs.dt.total_hours()"
   ]
  },
  {
   "cell_type": "markdown",
   "id": "4039cb2b",
   "metadata": {},
   "source": [
    "### Date Aggregations\n",
    "\n",
    "Note that aggregating dates, returns a `datetime` type object.\n"
   ]
  },
  {
   "cell_type": "code",
   "execution_count": 201,
   "id": "31af7a18",
   "metadata": {},
   "outputs": [],
   "source": [
    "date.dt.max()"
   ]
  },
  {
   "cell_type": "code",
   "execution_count": 202,
   "id": "5e3ee0ed",
   "metadata": {},
   "outputs": [],
   "source": [
    "date.dt.min()"
   ]
  },
  {
   "cell_type": "markdown",
   "id": "5e7c3754",
   "metadata": {},
   "source": [
    "I never quite undersootd that is the \"average day.\""
   ]
  },
  {
   "cell_type": "code",
   "execution_count": 203,
   "id": "634f71ae",
   "metadata": {},
   "outputs": [],
   "source": [
    "date.dt.mean()"
   ]
  },
  {
   "cell_type": "code",
   "execution_count": 204,
   "id": "869e6fe2",
   "metadata": {},
   "outputs": [],
   "source": [
    "date.dt.median()"
   ]
  },
  {
   "cell_type": "markdown",
   "id": "167c8afb",
   "metadata": {},
   "source": [
    "### Date Transformations\n"
   ]
  },
  {
   "cell_type": "code",
   "execution_count": 205,
   "id": "6479e1f5",
   "metadata": {},
   "outputs": [],
   "source": [
    "date.dt.offset_by(by=\"-100y\")"
   ]
  },
  {
   "cell_type": "markdown",
   "id": "25904cb7",
   "metadata": {},
   "source": [
    "Notice the syntax of `offset_by`. It is similar to R's `lubridate` package.\n"
   ]
  },
  {
   "cell_type": "code",
   "execution_count": 206,
   "id": "ae1b8763",
   "metadata": {},
   "outputs": [],
   "source": [
    "date.dt.offset_by(by=\"1y2m20d\")"
   ]
  },
  {
   "cell_type": "code",
   "execution_count": 207,
   "id": "03b688b6",
   "metadata": {},
   "outputs": [],
   "source": [
    "date.dt.truncate(\"1m\")"
   ]
  },
  {
   "cell_type": "code",
   "execution_count": 208,
   "id": "56a28775",
   "metadata": {},
   "outputs": [],
   "source": [
    "date.dt.round(every=\"1m\")"
   ]
  },
  {
   "cell_type": "markdown",
   "id": "4750bc00",
   "metadata": {},
   "source": [
    "### From Date to String\n"
   ]
  },
  {
   "cell_type": "code",
   "execution_count": 209,
   "id": "1c6fd0d7",
   "metadata": {},
   "outputs": [],
   "source": [
    "date.dt.to_string(\"%Y-%m-%d\")"
   ]
  },
  {
   "cell_type": "markdown",
   "id": "bfe47c56",
   "metadata": {},
   "source": [
    "Or equivalently:"
   ]
  },
  {
   "cell_type": "code",
   "execution_count": 210,
   "id": "2f5238b7",
   "metadata": {},
   "outputs": [],
   "source": [
    "date.dt.strftime(\"%Y-%m-%d\")"
   ]
  },
  {
   "cell_type": "markdown",
   "id": "0b6dbabb",
   "metadata": {},
   "source": [
    "### From String to Datetime\n"
   ]
  },
  {
   "cell_type": "code",
   "execution_count": 211,
   "id": "da080eb9",
   "metadata": {},
   "outputs": [],
   "source": [
    "sd = pl.Series(\n",
    "    \"date\",\n",
    "    [\n",
    "        \"2021-04-22\",\n",
    "        \"2022-01-04 00:00:00\",\n",
    "        \"01/31/22\",\n",
    "        \"Sun Jul  8 00:34:60 2001\",\n",
    "    ],\n",
    ")\n",
    "sd"
   ]
  },
  {
   "cell_type": "markdown",
   "id": "334be536",
   "metadata": {},
   "source": [
    "Parse into `Date` type.\n"
   ]
  },
  {
   "cell_type": "code",
   "execution_count": 212,
   "id": "f4419f34",
   "metadata": {},
   "outputs": [],
   "source": [
    "sd.str.to_date(format=\"%F\", strict=False)"
   ]
  },
  {
   "cell_type": "markdown",
   "id": "7136a38f",
   "metadata": {},
   "source": [
    "Or equivalently:"
   ]
  },
  {
   "cell_type": "code",
   "execution_count": 213,
   "id": "2b4afe52",
   "metadata": {},
   "outputs": [],
   "source": [
    "sd.str.strptime(dtype= pl.Date, format=\"%F\", strict=False)"
   ]
  },
  {
   "cell_type": "code",
   "execution_count": 214,
   "id": "77b8680f",
   "metadata": {},
   "outputs": [],
   "source": [
    "sd.str.strptime(pl.Date, \"%D\", strict=False)"
   ]
  },
  {
   "cell_type": "markdown",
   "id": "88cf8702",
   "metadata": {},
   "source": [
    "Parse into `Datetime` type.\n"
   ]
  },
  {
   "cell_type": "code",
   "execution_count": 215,
   "id": "b2a0fc23",
   "metadata": {},
   "outputs": [],
   "source": [
    "sd.str.to_datetime(format=\"%F %T\", strict=False)"
   ]
  },
  {
   "cell_type": "markdown",
   "id": "365302dd",
   "metadata": {},
   "source": [
    "Or equivalently:"
   ]
  },
  {
   "cell_type": "code",
   "execution_count": 216,
   "id": "6c763d22",
   "metadata": {},
   "outputs": [],
   "source": [
    "sd.str.strptime(pl.Datetime, \"%F %T\", strict=False)"
   ]
  },
  {
   "cell_type": "code",
   "execution_count": 217,
   "id": "709758fd",
   "metadata": {},
   "outputs": [],
   "source": [
    "sd.str.strptime(pl.Datetime, \"%a %h %d %T %Y\",strict=False)"
   ]
  },
  {
   "cell_type": "markdown",
   "id": "f51e9bc3",
   "metadata": {},
   "source": [
    "Parse into `Time` dtype."
   ]
  },
  {
   "cell_type": "code",
   "execution_count": 218,
   "id": "ef7b30c7",
   "metadata": {},
   "outputs": [],
   "source": [
    "sd.str.to_time(\"%a %h %d %T %Y\",strict=False)"
   ]
  },
  {
   "cell_type": "code",
   "execution_count": 219,
   "id": "be39c7f6",
   "metadata": {},
   "outputs": [],
   "source": [
    "sd.str.strptime(pl.Time, \"%a %h %d %T %Y\", strict=False)"
   ]
  },
  {
   "cell_type": "markdown",
   "id": "9260b17b",
   "metadata": {},
   "source": [
    "## Strings\n",
    "\n",
    "String methods are accessed with the `.str` namespace.\n"
   ]
  },
  {
   "cell_type": "code",
   "execution_count": 220,
   "id": "make-string-series",
   "metadata": {},
   "outputs": [],
   "source": [
    "#| label: make-string-series\n",
    "st = pl.Series(\"a\", [\"foo\", \"bar\", \"baz\"])"
   ]
  },
  {
   "cell_type": "code",
   "execution_count": 221,
   "id": "string-length",
   "metadata": {},
   "outputs": [],
   "source": [
    "#| label: string-length\n",
    "st.str.len_chars() # gets number of chars. In ASCII this is the same as lengths()"
   ]
  },
  {
   "cell_type": "code",
   "execution_count": 222,
   "id": "string-concat",
   "metadata": {},
   "outputs": [],
   "source": [
    "#| label: string-concat\n",
    "st.str.concat(\"-\")"
   ]
  },
  {
   "cell_type": "code",
   "execution_count": 223,
   "id": "string-count-matches",
   "metadata": {},
   "outputs": [],
   "source": [
    "#| label: string-count-matches\n",
    "st.str.count_matches(pattern= 'o') # count literal matches"
   ]
  },
  {
   "cell_type": "code",
   "execution_count": 224,
   "id": "string-contains",
   "metadata": {},
   "outputs": [],
   "source": [
    "#| label: string-contains\n",
    "st.str.contains(\"foo|tra|bar\") "
   ]
  },
  {
   "cell_type": "code",
   "execution_count": 225,
   "id": "string-contains-regrex",
   "metadata": {},
   "outputs": [],
   "source": [
    "#| label: string-contains-regrex\n",
    "st.str.contains(\"ba[a-zA-Z]\") "
   ]
  },
  {
   "cell_type": "code",
   "execution_count": 226,
   "id": "string-contains-regex-2",
   "metadata": {},
   "outputs": [],
   "source": [
    "#| label: string-contains-regex-2\n",
    "st.str.contains(\"[a-zA-Z]{4,5}\") "
   ]
  },
  {
   "cell_type": "code",
   "execution_count": 227,
   "id": "string-count-matches-2",
   "metadata": {},
   "outputs": [],
   "source": [
    "#| label: string-count-matches-2\n",
    "st.str.count_matches(pattern='[a-zA-Z]')"
   ]
  },
  {
   "cell_type": "code",
   "execution_count": 228,
   "id": "string-ends-with",
   "metadata": {},
   "outputs": [],
   "source": [
    "#| label: string-ends-with\n",
    "st.str.ends_with(\"oo\")"
   ]
  },
  {
   "cell_type": "code",
   "execution_count": 229,
   "id": "string-starts-with",
   "metadata": {},
   "outputs": [],
   "source": [
    "#| label: string-starts-with\n",
    "st.str.starts_with(\"fo\")"
   ]
  },
  {
   "cell_type": "markdown",
   "id": "7296ed5b",
   "metadata": {},
   "source": [
    "To extract the **first** appearance of a pattern, use `extract`:\n"
   ]
  },
  {
   "cell_type": "code",
   "execution_count": 230,
   "id": "sample-strings",
   "metadata": {},
   "outputs": [],
   "source": [
    "#| label: sample-strings\n",
    "url = pl.Series(\"a\", [\n",
    "            \"http://vote.com/ballon_dor?candidate=messi&ref=Polars\",\n",
    "\n",
    "            \"http://vote.com/ballon_dor?candidate=jorginho&ref=Polars\",\n",
    "\n",
    "            \"http://vote.com/ballon_dor?candidate=ronaldo&ref=Polars\"\n",
    "            ])"
   ]
  },
  {
   "cell_type": "code",
   "execution_count": 231,
   "id": "string-extract",
   "metadata": {},
   "outputs": [],
   "source": [
    "#| label: string-extract\n",
    "url.str.extract(\"=([a-zA-Z]+)\", 1) \n",
    "# \"=([a-zA-Z]+)\" is read: \"match an equality, followed by any number of alphanumerics\"."
   ]
  },
  {
   "cell_type": "markdown",
   "id": "b316b9ae",
   "metadata": {},
   "source": [
    "To extract **all** appearances of a pattern, use `extract_all`:\n"
   ]
  },
  {
   "cell_type": "code",
   "execution_count": 232,
   "id": "string-extract-all",
   "metadata": {},
   "outputs": [],
   "source": [
    "#| label: string-extract-all\n",
    "url.str.extract_all(\"=(\\w+)\") # \\w is a shorthand for [a-zA-Z0-9_], i.e., alphanumerics and underscore."
   ]
  },
  {
   "cell_type": "code",
   "execution_count": 233,
   "id": "string-pad-end",
   "metadata": {},
   "outputs": [],
   "source": [
    "#| label: string-pad-end\n",
    "st.str.pad_end(8, \"*\")"
   ]
  },
  {
   "cell_type": "code",
   "execution_count": 234,
   "id": "string-pad-start",
   "metadata": {},
   "outputs": [],
   "source": [
    "#| label: string-pad-start\n",
    "st.str.pad_start(8, \"*\")"
   ]
  },
  {
   "cell_type": "code",
   "execution_count": 235,
   "id": "string-strip-char-start",
   "metadata": {},
   "outputs": [],
   "source": [
    "#| label: string-strip-char-start\n",
    "st.str.strip_chars_start('f')"
   ]
  },
  {
   "cell_type": "code",
   "execution_count": 236,
   "id": "string-strip-char-end",
   "metadata": {},
   "outputs": [],
   "source": [
    "#| label: string-strip-char-end\n",
    "st.str.strip_chars_end('r')"
   ]
  },
  {
   "cell_type": "markdown",
   "id": "b5018288",
   "metadata": {},
   "source": [
    "Replacing first appearance of a pattern:\n"
   ]
  },
  {
   "cell_type": "code",
   "execution_count": 237,
   "id": "string-replace",
   "metadata": {},
   "outputs": [],
   "source": [
    "#| label: string-replace\n",
    "st.str.replace(\"o+\", \"ZZ\")"
   ]
  },
  {
   "cell_type": "markdown",
   "id": "9fcfba02",
   "metadata": {},
   "source": [
    "Replace all appearances of a pattern:\n"
   ]
  },
  {
   "cell_type": "code",
   "execution_count": 238,
   "id": "string-replace-all",
   "metadata": {},
   "outputs": [],
   "source": [
    "#| label: string-replace-all\n",
    "st.str.replace_all(\"o\", \"ZZ\")"
   ]
  },
  {
   "cell_type": "markdown",
   "id": "07fa9213",
   "metadata": {},
   "source": [
    "String to list of strings. Number of splits inferred.\n"
   ]
  },
  {
   "cell_type": "code",
   "execution_count": 239,
   "id": "string-split",
   "metadata": {},
   "outputs": [],
   "source": [
    "#| label: string-split\n",
    "st.str.split(by=\"o\")"
   ]
  },
  {
   "cell_type": "code",
   "execution_count": 240,
   "id": "string-split-inclusive",
   "metadata": {},
   "outputs": [],
   "source": [
    "#| label: string-split-inclusive\n",
    "st.str.split(by=\"a\", inclusive=True)"
   ]
  },
  {
   "cell_type": "markdown",
   "id": "62266f37",
   "metadata": {},
   "source": [
    "String to dict of strings. \n",
    "Number of **splits** fixed.\n"
   ]
  },
  {
   "cell_type": "code",
   "execution_count": 241,
   "id": "string-split-exact",
   "metadata": {},
   "outputs": [],
   "source": [
    "#| label: string-split-exact\n",
    "st.str.split_exact(\"a\", 2)"
   ]
  },
  {
   "cell_type": "markdown",
   "id": "1eb8a895",
   "metadata": {},
   "source": [
    "String to dict of strings. \n",
    "Length of **output** fixed.\n"
   ]
  },
  {
   "cell_type": "code",
   "execution_count": 242,
   "id": "string-split-length",
   "metadata": {},
   "outputs": [],
   "source": [
    "#| label: string-split-length\n",
    "st.str.splitn(\"a\", 4)"
   ]
  },
  {
   "cell_type": "markdown",
   "id": "ced41f4c",
   "metadata": {},
   "source": [
    "Strip white spaces.\n"
   ]
  },
  {
   "cell_type": "code",
   "execution_count": 243,
   "id": "89c1d5c6",
   "metadata": {},
   "outputs": [],
   "source": [
    "pl.Series(['   ohh   ','   yeah   ']).str.strip()"
   ]
  },
  {
   "cell_type": "code",
   "execution_count": 244,
   "id": "string-to-uppercase",
   "metadata": {},
   "outputs": [],
   "source": [
    "#| label: string-to-uppercase\n",
    "st.str.to_uppercase()"
   ]
  },
  {
   "cell_type": "code",
   "execution_count": 245,
   "id": "string-to-lowercase",
   "metadata": {},
   "outputs": [],
   "source": [
    "#| label: string-to-lowercase\n",
    "st.str.to_lowercase()"
   ]
  },
  {
   "cell_type": "code",
   "execution_count": 246,
   "id": "string-to-titlecase",
   "metadata": {},
   "outputs": [],
   "source": [
    "#| label: string-to-titlecase\n",
    "st.str.to_titlecase()"
   ]
  },
  {
   "cell_type": "code",
   "execution_count": 247,
   "id": "string-zfill",
   "metadata": {},
   "outputs": [],
   "source": [
    "#| label: string-zfill\n",
    "st.str.zfill(5)"
   ]
  },
  {
   "cell_type": "code",
   "execution_count": 248,
   "id": "string-slice",
   "metadata": {},
   "outputs": [],
   "source": [
    "#| label: string-slice\n",
    "st.str.slice(offset=1, length=1)"
   ]
  },
  {
   "cell_type": "markdown",
   "id": "550dda0e",
   "metadata": {},
   "source": [
    "# Polars (Eager) DataFrames {#sec-dataframes}\n",
    "\n",
    "Recall :\n",
    "\n",
    "1.  There is no row index (like R's `data.frame`, `data.table`, and `tibble`; unlike Python's `Pandas`).\n",
    "2.  Will not accept duplicate column names (unlike Pandas).\n",
    "\n",
    "## Create\n",
    "\n",
    "A frame can be created as you would expect. From a dictionary of series, a numpy array, a Pandas sdataframe, or a list of Polars (or Pandas) series, etc.\n"
   ]
  },
  {
   "cell_type": "code",
   "execution_count": 249,
   "id": "make-dataframe",
   "metadata": {},
   "outputs": [],
   "source": [
    "#| label: make-dataframe\n",
    "\n",
    "\n",
    "df = pl.DataFrame({\n",
    "  \"integer\": [1, 2, 3], \n",
    "  \"date\": [\n",
    "    (datetime(2022, 1, 1)), \n",
    "    (datetime(2022, 1, 2)), \n",
    "    (datetime(2022, 1, 3))], \n",
    "    \"float\": [4.0, 5.0, 6.0],\n",
    "    \"string\": [\"a\", \"b\", \"c\"]})"
   ]
  },
  {
   "cell_type": "markdown",
   "id": "c1166932",
   "metadata": {},
   "source": [
    "## Inspect\n",
    "\n",
    "Nice HTML printing to iPython. "
   ]
  },
  {
   "cell_type": "code",
   "execution_count": 250,
   "id": "6b8c7b32",
   "metadata": {},
   "outputs": [],
   "source": [
    "df"
   ]
  },
  {
   "cell_type": "code",
   "execution_count": 251,
   "id": "5ff34c4b",
   "metadata": {},
   "outputs": [],
   "source": [
    "print(df)"
   ]
  },
  {
   "cell_type": "code",
   "execution_count": 252,
   "id": "8a656539",
   "metadata": {},
   "outputs": [],
   "source": [
    "df.glimpse() # useful for wide frames. Similar to R's str() of Pandas's .info()"
   ]
  },
  {
   "cell_type": "code",
   "execution_count": 253,
   "id": "14f3a58d",
   "metadata": {},
   "outputs": [],
   "source": [
    "df.columns"
   ]
  },
  {
   "cell_type": "code",
   "execution_count": 254,
   "id": "d13bf046",
   "metadata": {},
   "outputs": [],
   "source": [
    "df.shape"
   ]
  },
  {
   "cell_type": "code",
   "execution_count": 255,
   "id": "ea5904be",
   "metadata": {},
   "outputs": [],
   "source": [
    "df.height # probably more useful than df.shape[0]"
   ]
  },
  {
   "cell_type": "code",
   "execution_count": 256,
   "id": "03c87ddc",
   "metadata": {},
   "outputs": [],
   "source": [
    "df.width"
   ]
  },
  {
   "cell_type": "code",
   "execution_count": 257,
   "id": "08ea7baf",
   "metadata": {},
   "outputs": [],
   "source": [
    "df.schema # similar to Pandas info()"
   ]
  },
  {
   "cell_type": "code",
   "execution_count": 258,
   "id": "b634c759",
   "metadata": {},
   "outputs": [],
   "source": [
    "df.with_row_count()"
   ]
  },
  {
   "cell_type": "markdown",
   "id": "1007629c",
   "metadata": {},
   "source": [
    "Things to note:\n",
    "\n",
    "1. `df.schema` and `df.columns` will be available for lazy objects, even before materializing them.\n",
    "2. `df.height` and `df.shape` will not be available for lazy objects, until they are materialized.\n",
    "\n",
    "## Intro to Column Operations\n",
    "\n",
    "::: {.callout-important}\n",
    "This is probably the most important section of the document.\n",
    ":::\n",
    "\n",
    "### Contexts {#sec-contexts}\n",
    "\n",
    "As discussed in @sec-api-principles, operations on columns will always be done within a **context**.\n",
    "Pandas fans may think of Polars Context as `.eval()` or `.assign()` Pandas methods.\n",
    "\n",
    "- `df.with_columns()` to add columns.\n",
    "- `df.select()` to select columns.\n",
    "- `df.group_by().agg()` is acutually `.select()` within a `group_by()` context.\n",
    "- `df.filter()` is a context for filtering rows. \n",
    "\n",
    "Select Context:"
   ]
  },
  {
   "cell_type": "code",
   "execution_count": 259,
   "id": "select-context",
   "metadata": {},
   "outputs": [],
   "source": [
    "#| label: select-context\n",
    "df.select(pl.col(\"integer\").add(1))"
   ]
  },
  {
   "cell_type": "code",
   "execution_count": 260,
   "id": "with-colummns-context",
   "metadata": {},
   "outputs": [],
   "source": [
    "#| label: with-colummns-context\n",
    "df.with_columns(pl.col(\"integer\").add(1))"
   ]
  },
  {
   "cell_type": "markdown",
   "id": "c23d6a8a",
   "metadata": {},
   "source": [
    "Group-by context:\n"
   ]
  },
  {
   "cell_type": "code",
   "execution_count": 261,
   "id": "group-by-context",
   "metadata": {},
   "outputs": [],
   "source": [
    "#| label: group-by-context\n",
    "df.group_by(\"string\").agg(pl.col(\"integer\").add(1))"
   ]
  },
  {
   "cell_type": "markdown",
   "id": "27599d21",
   "metadata": {},
   "source": [
    "### Column Access\n",
    "\n",
    "Within a context there are many ways to access a column.\n",
    "Here are some examples of various ways of adding 1 to the integer column.\n"
   ]
  },
  {
   "cell_type": "code",
   "execution_count": 262,
   "id": "add-1-to-column",
   "metadata": {},
   "outputs": [],
   "source": [
    "#| label: add-1-to-column\n",
    "#| lst-label: col-ref\n",
    "#| lst-cap: Referencing a Column in a Select Context\n",
    "df.select(pl.col(\"integer\").add(1))"
   ]
  },
  {
   "cell_type": "code",
   "execution_count": 263,
   "id": "b1b3dff9",
   "metadata": {},
   "outputs": [],
   "source": [
    "df.select(pl.col([\"integer\"]).add(1))"
   ]
  },
  {
   "cell_type": "code",
   "execution_count": 264,
   "id": "ec3114e3",
   "metadata": {},
   "outputs": [],
   "source": [
    "df.select(pl.col(r\"^integer$\").add(1))"
   ]
  },
  {
   "cell_type": "code",
   "execution_count": 265,
   "id": "8b0e8665",
   "metadata": {},
   "outputs": [],
   "source": [
    "df.select(pl.col(pl.Int64).add(1))"
   ]
  },
  {
   "cell_type": "code",
   "execution_count": 266,
   "id": "d957f715",
   "metadata": {},
   "outputs": [],
   "source": [
    "df.select(pl.first().add(1))"
   ]
  },
  {
   "cell_type": "code",
   "execution_count": 267,
   "id": "1f177209",
   "metadata": {},
   "outputs": [],
   "source": [
    "import polars.selectors as cs\n",
    "\n",
    "df.select(cs.by_name(\"integer\").add(1))"
   ]
  },
  {
   "cell_type": "code",
   "execution_count": 268,
   "id": "4d13a361",
   "metadata": {},
   "outputs": [],
   "source": [
    "df.select(cs.ends_with(\"ger\").add(1))"
   ]
  },
  {
   "cell_type": "code",
   "execution_count": 269,
   "id": "23bfcd23",
   "metadata": {},
   "outputs": [],
   "source": [
    "df.select(cs.starts_with('int').add(1))"
   ]
  },
  {
   "cell_type": "code",
   "execution_count": 270,
   "id": "d11d6f26",
   "metadata": {},
   "outputs": [],
   "source": [
    "df.select(cs.integer().add(1))"
   ]
  },
  {
   "cell_type": "code",
   "execution_count": 271,
   "id": "1615bfdb",
   "metadata": {},
   "outputs": [],
   "source": [
    "df.select(cs.first().add(1))"
   ]
  },
  {
   "cell_type": "code",
   "execution_count": 272,
   "id": "603b588e",
   "metadata": {},
   "outputs": [],
   "source": [
    "df.select(cs.matches(r\"^integer$\").add(1))"
   ]
  },
  {
   "cell_type": "code",
   "execution_count": 273,
   "id": "468578d0",
   "metadata": {},
   "outputs": [],
   "source": [
    "df.select(cs.contains(\"int\").add(1))"
   ]
  },
  {
   "cell_type": "code",
   "execution_count": 274,
   "id": "ce943f12",
   "metadata": {},
   "outputs": [],
   "source": [
    "df.select(pl.col(\"integer\")+1)"
   ]
  },
  {
   "cell_type": "code",
   "execution_count": 275,
   "id": "817fe5cd",
   "metadata": {},
   "outputs": [],
   "source": [
    "df['integer']+1"
   ]
  },
  {
   "cell_type": "code",
   "execution_count": 276,
   "id": "cae1d33f",
   "metadata": {},
   "outputs": [],
   "source": [
    "df.get_column('integer')+1"
   ]
  },
  {
   "cell_type": "markdown",
   "id": "34b231f1",
   "metadata": {},
   "source": [
    "The following will not work because a series does not have a `.add(1)` method."
   ]
  },
  {
   "cell_type": "code",
   "execution_count": 277,
   "id": "5127bf30",
   "metadata": {},
   "outputs": [],
   "source": [
    "#| eval: false\n",
    "df['integer'].add(1)\n",
    "df.get_column('integer').add(1)"
   ]
  },
  {
   "cell_type": "markdown",
   "id": "93188340",
   "metadata": {},
   "source": [
    "::: {.callout-important}\n",
    "Think: What are the differences between these methods?\n",
    ":::\n",
    "\n",
    "My preferred syntax is @col-ref, which is the one I will use in the rest of the document.\n",
    "\n",
    "\n",
    "\n",
    "\n",
    "\n",
    "\n",
    "\n",
    "\n",
    "\n",
    "\n",
    "\n",
    "\n",
    "## Convert to Other Python Objects\n",
    "\n",
    "You can always convert your `pl.Series` or `pl.DataFrame` to other Python objects.\n",
    "\n",
    "To Pandas DataFrame"
   ]
  },
  {
   "cell_type": "code",
   "execution_count": 278,
   "id": "dataframe-to-Pandas",
   "metadata": {},
   "outputs": [],
   "source": [
    "#| label: dataframe-to-Pandas\n",
    "df.to_pandas()"
   ]
  },
  {
   "cell_type": "markdown",
   "id": "e9fb2787",
   "metadata": {},
   "source": [
    "To Numpy Array"
   ]
  },
  {
   "cell_type": "code",
   "execution_count": 279,
   "id": "dataframe-to-numpy",
   "metadata": {},
   "outputs": [],
   "source": [
    "#| label: dataframe-to-numpy\n",
    "df.to_numpy()"
   ]
  },
  {
   "cell_type": "markdown",
   "id": "c38b4749",
   "metadata": {},
   "source": [
    "To List of Polars Series"
   ]
  },
  {
   "cell_type": "code",
   "execution_count": 280,
   "id": "dataframe-to-list",
   "metadata": {},
   "outputs": [],
   "source": [
    "#| label: dataframe-to-list\n",
    "df.get_columns() # columns as list of Polars series"
   ]
  },
  {
   "cell_type": "markdown",
   "id": "1ff15851",
   "metadata": {},
   "source": [
    "To list of tuples"
   ]
  },
  {
   "cell_type": "code",
   "execution_count": 281,
   "id": "dataframe-to-list-of-tuples",
   "metadata": {},
   "outputs": [],
   "source": [
    "#| label: dataframe-to-list-of-tuples\n",
    "df.rows() "
   ]
  },
  {
   "cell_type": "markdown",
   "id": "af4812f4",
   "metadata": {},
   "source": [
    "To Dict of Polars Series"
   ]
  },
  {
   "cell_type": "code",
   "execution_count": 282,
   "id": "dataframe-to-dict-of-series",
   "metadata": {},
   "outputs": [],
   "source": [
    "#| label: dataframe-to-dict-of-series\n",
    "df.to_dict() # columns as dict of Polars series"
   ]
  },
  {
   "cell_type": "markdown",
   "id": "3cb6d30c",
   "metadata": {},
   "source": [
    "To Dict of Python Lists"
   ]
  },
  {
   "cell_type": "code",
   "execution_count": 283,
   "id": "dataframe-to-dict-of-lists",
   "metadata": {},
   "outputs": [],
   "source": [
    "#| label: dataframe-to-dict-of-lists\n",
    "df.to_dict(as_series=False) # columns as dict of Polars series"
   ]
  },
  {
   "cell_type": "markdown",
   "id": "bec38018",
   "metadata": {},
   "source": [
    "To String Representation (`repr`)"
   ]
  },
  {
   "cell_type": "code",
   "execution_count": 284,
   "id": "dataframe-to-repr",
   "metadata": {},
   "outputs": [],
   "source": [
    "#| label: dataframe-to-repr\n",
    "df.to_init_repr()"
   ]
  },
  {
   "cell_type": "markdown",
   "id": "970d0f20",
   "metadata": {},
   "source": [
    "To a Polars Series of Polars Struct"
   ]
  },
  {
   "cell_type": "code",
   "execution_count": 285,
   "id": "dataframe-to-struct",
   "metadata": {},
   "outputs": [],
   "source": [
    "#| label: dataframe-to-struct\n",
    "df.to_struct()"
   ]
  },
  {
   "cell_type": "markdown",
   "id": "d5056fac",
   "metadata": {},
   "source": [
    "To PyArrow Table"
   ]
  },
  {
   "cell_type": "code",
   "execution_count": 286,
   "id": "dataframe-to-arrow",
   "metadata": {},
   "outputs": [],
   "source": [
    "#| label: dataframe-to-arrow\n",
    "df.to_arrow()"
   ]
  },
  {
   "cell_type": "markdown",
   "id": "4665d866",
   "metadata": {},
   "source": [
    "## Statistical Aggregations\n"
   ]
  },
  {
   "cell_type": "code",
   "execution_count": 287,
   "id": "dataframe-describe",
   "metadata": {},
   "outputs": [],
   "source": [
    "#| label: dataframe-describe\n",
    "df.describe()"
   ]
  },
  {
   "cell_type": "markdown",
   "id": "646f9402",
   "metadata": {},
   "source": [
    "Compare to Pandas: Polars will summarize all columns even if they are not numeric.\n"
   ]
  },
  {
   "cell_type": "code",
   "execution_count": 288,
   "id": "dataframe-describe-pandas",
   "metadata": {},
   "outputs": [],
   "source": [
    "#| label: dataframe-describe-pandas\n",
    "df.to_pandas().describe()"
   ]
  },
  {
   "cell_type": "markdown",
   "id": "4adb3efe",
   "metadata": {},
   "source": [
    "Statistical aggregations operate column-wise (and in parallel!)."
   ]
  },
  {
   "cell_type": "code",
   "execution_count": 289,
   "id": "dataframe-max",
   "metadata": {},
   "outputs": [],
   "source": [
    "#| label: dataframe-max\n",
    "df.max()"
   ]
  },
  {
   "cell_type": "code",
   "execution_count": 290,
   "id": "dataframe-min",
   "metadata": {},
   "outputs": [],
   "source": [
    "#| label: dataframe-min\n",
    "df.min()"
   ]
  },
  {
   "cell_type": "code",
   "execution_count": 291,
   "id": "dataframe-mean",
   "metadata": {},
   "outputs": [],
   "source": [
    "#| label: dataframe-mean\n",
    "df.mean()"
   ]
  },
  {
   "cell_type": "code",
   "execution_count": 292,
   "id": "dataframe-median",
   "metadata": {},
   "outputs": [],
   "source": [
    "#| label: dataframe-median\n",
    "df.median()"
   ]
  },
  {
   "cell_type": "code",
   "execution_count": 293,
   "id": "dataframe-quantile",
   "metadata": {},
   "outputs": [],
   "source": [
    "#| label: dataframe-quantile\n",
    "df.quantile(0.1)"
   ]
  },
  {
   "cell_type": "code",
   "execution_count": 294,
   "id": "dataframe-sum",
   "metadata": {},
   "outputs": [],
   "source": [
    "#| label: dataframe-sum\n",
    "df.sum()"
   ]
  },
  {
   "cell_type": "markdown",
   "id": "bbe217a5",
   "metadata": {},
   "source": [
    "Constrast with summation in row:"
   ]
  },
  {
   "cell_type": "code",
   "execution_count": 295,
   "id": "dataframe-sum-horizontal",
   "metadata": {},
   "outputs": [],
   "source": [
    "#| label: dataframe-sum-horizontal\n",
    "df.with_columns(pl.sum_horizontal('*'))"
   ]
  },
  {
   "cell_type": "markdown",
   "id": "4ddbb9be",
   "metadata": {},
   "source": [
    "## Selections {#sec-filtering-subsetting-frames}\n",
    "\n",
    "1.  If you are used to Pandas, recall there is no index. There is thus no need for `loc` vs. `iloc`, `reset_index()`, etc. See [here](https://pola-rs.github.io/Polars-book/user-guide/howcani/selecting_data/selecting_data_indexing.html) for a comparison of extractors between Polars and Pandas.\n",
    "2.  Filtering and selection is possible with the `[` operator, or the `filter()` and `select()` methods. The latter is recommended to facilitate query planning (discussed in @sec-query-planning).\n",
    "\n",
    "### Selecting With Indices\n",
    "\n",
    "The following are presented for completeness. \n",
    "Gnerally, you can, and should, avoid selecting with indices. \n",
    "See @sec-selecting-columns for selecting columns, and @sec-filtering-rows for selecting rows.\n"
   ]
  },
  {
   "cell_type": "code",
   "execution_count": 296,
   "id": "single-cell-extraction",
   "metadata": {},
   "outputs": [],
   "source": [
    "#| label: single-cell-extraction\n",
    "df[0,0] # like Pandas .iloc[]"
   ]
  },
  {
   "cell_type": "markdown",
   "id": "aca3108c",
   "metadata": {},
   "source": [
    "Slicing along rows."
   ]
  },
  {
   "cell_type": "code",
   "execution_count": 297,
   "id": "slice-rows",
   "metadata": {},
   "outputs": [],
   "source": [
    "#| label: slice-rows\n",
    "df[0:1] "
   ]
  },
  {
   "cell_type": "markdown",
   "id": "093360bd",
   "metadata": {},
   "source": [
    "Slicing along columns.\n"
   ]
  },
  {
   "cell_type": "code",
   "execution_count": 298,
   "id": "slice-columns",
   "metadata": {},
   "outputs": [],
   "source": [
    "#| label: slice-columns\n",
    "df[:,0:1]"
   ]
  },
  {
   "cell_type": "markdown",
   "id": "f26d0435",
   "metadata": {},
   "source": [
    "### Selecting Columns {#sec-selecting-columns}\n",
    "\n",
    "First- do you want to return a Polars frame or a Polars series?\n",
    "\n",
    "For a frame:"
   ]
  },
  {
   "cell_type": "code",
   "execution_count": 299,
   "id": "f0375955",
   "metadata": {},
   "outputs": [],
   "source": [
    "df.select(\"integer\")"
   ]
  },
  {
   "cell_type": "markdown",
   "id": "a2edada0",
   "metadata": {},
   "source": [
    "For a series:"
   ]
  },
  {
   "cell_type": "code",
   "execution_count": 300,
   "id": "b191d78f",
   "metadata": {},
   "outputs": [],
   "source": [
    "df['integer']"
   ]
  },
  {
   "cell_type": "markdown",
   "id": "47721b9f",
   "metadata": {},
   "source": [
    "How do I know which is which? \n",
    "\n",
    "1. You can use `type()`.\n",
    "2. Notice the dimension of the index in the output. \n",
    "\n",
    "\n",
    "Select columns with list of labels\n"
   ]
  },
  {
   "cell_type": "code",
   "execution_count": 301,
   "id": "216b05d4",
   "metadata": {},
   "outputs": [],
   "source": [
    "df.select([\"integer\", \"float\"])"
   ]
  },
  {
   "cell_type": "markdown",
   "id": "aecd4770",
   "metadata": {},
   "source": [
    "As of Polars\\>=15.0.0, you don't have to pass a list:\n"
   ]
  },
  {
   "cell_type": "code",
   "execution_count": 302,
   "id": "a8ae589a",
   "metadata": {},
   "outputs": [],
   "source": [
    "df.select(\"integer\", \"float\")"
   ]
  },
  {
   "cell_type": "markdown",
   "id": "3a39203b",
   "metadata": {},
   "source": [
    "Column slicing by label"
   ]
  },
  {
   "cell_type": "code",
   "execution_count": 303,
   "id": "8bcf0437",
   "metadata": {},
   "outputs": [],
   "source": [
    "df[:,\"integer\":\"float\"]"
   ]
  },
  {
   "cell_type": "markdown",
   "id": "1e206ca0",
   "metadata": {},
   "source": [
    "Note: `df.select()` does not support slicing ranges such as `df.select(\"integer\":\"float\")`. \n",
    "\n",
    "Get a column as a Polars Series."
   ]
  },
  {
   "cell_type": "code",
   "execution_count": 304,
   "id": "d3660bc5",
   "metadata": {},
   "outputs": [],
   "source": [
    "df.get_column('integer')"
   ]
  },
  {
   "cell_type": "markdown",
   "id": "2027e59d",
   "metadata": {},
   "source": [
    "Get a column as a Polars series."
   ]
  },
  {
   "cell_type": "code",
   "execution_count": 305,
   "id": "74d2ac89",
   "metadata": {},
   "outputs": [],
   "source": [
    "df.to_series(0)"
   ]
  },
  {
   "cell_type": "code",
   "execution_count": 306,
   "id": "1e2a3472",
   "metadata": {},
   "outputs": [],
   "source": [
    "df.get_column_index('float')"
   ]
  },
  {
   "cell_type": "code",
   "execution_count": 307,
   "id": "0be09955",
   "metadata": {},
   "outputs": [],
   "source": [
    "df.drop(\"integer\")"
   ]
  },
  {
   "cell_type": "markdown",
   "id": "4779e0f4",
   "metadata": {},
   "source": [
    "`df.drop()` not have an `inplace` argument. Use `df.drop_in_place()` instead.\n",
    "\n",
    "\n",
    "\n",
    "### pl.col()\n",
    "\n",
    "The `pl.col()` is **super important**. It allows you to select columns in many ways, and provides almost all the methods (i.e. Polars Expressions) you will need to operate on them. \n"
   ]
  },
  {
   "cell_type": "code",
   "execution_count": 308,
   "id": "a5f926b6",
   "metadata": {},
   "outputs": [],
   "source": [
    "df.select(pl.col(pl.Int64))"
   ]
  },
  {
   "cell_type": "code",
   "execution_count": 309,
   "id": "9e9d7add",
   "metadata": {},
   "outputs": [],
   "source": [
    "df.select(pl.col(pl.Float64))"
   ]
  },
  {
   "cell_type": "code",
   "execution_count": 310,
   "id": "152f3cb4",
   "metadata": {},
   "outputs": [],
   "source": [
    "df.select(pl.col(pl.Utf8))"
   ]
  },
  {
   "cell_type": "markdown",
   "id": "d098b9a4",
   "metadata": {},
   "source": [
    "Python List of Polars dtypes"
   ]
  },
  {
   "cell_type": "code",
   "execution_count": 311,
   "id": "f7b660bb",
   "metadata": {},
   "outputs": [],
   "source": [
    "df.select(pl.col([pl.Int64, pl.Float64]))"
   ]
  },
  {
   "cell_type": "markdown",
   "id": "ce564719",
   "metadata": {},
   "source": [
    "Patterns (\"glob\")"
   ]
  },
  {
   "cell_type": "code",
   "execution_count": 312,
   "id": "35f45b6a",
   "metadata": {},
   "outputs": [],
   "source": [
    "df.select(pl.col(\"*\")) # same as df.select(pl.all())"
   ]
  },
  {
   "cell_type": "markdown",
   "id": "c86313a8",
   "metadata": {},
   "source": [
    "Regular Expression. Important! Use `pl.col('^<patterh>$')` to match regular expressions."
   ]
  },
  {
   "cell_type": "code",
   "execution_count": 313,
   "id": "a26b0e4d",
   "metadata": {},
   "outputs": [],
   "source": [
    "df.select(pl.col(\"^\\w{4}$\")) "
   ]
  },
  {
   "cell_type": "code",
   "execution_count": 314,
   "id": "7833a67a",
   "metadata": {},
   "outputs": [],
   "source": [
    "df.select(pl.col('^.*g$'))"
   ]
  },
  {
   "cell_type": "code",
   "execution_count": 315,
   "id": "pl-col-with-regex",
   "metadata": {},
   "outputs": [],
   "source": [
    "#| label: pl-col-with-regex\n",
    "df.select(pl.col(\"^.*te.*$\")) # regex matching anything with a \"te\""
   ]
  },
  {
   "cell_type": "markdown",
   "id": "6810f1d9",
   "metadata": {},
   "source": [
    "You can use `pl.col()` to exclude columns."
   ]
  },
  {
   "cell_type": "code",
   "execution_count": 316,
   "id": "cd133268",
   "metadata": {},
   "outputs": [],
   "source": [
    "df.select(pl.col(\"*\").exclude(\"integer\"))"
   ]
  },
  {
   "cell_type": "code",
   "execution_count": 317,
   "id": "b2e9b266",
   "metadata": {},
   "outputs": [],
   "source": [
    "df.select(pl.col(\"*\").exclude(pl.Float64))"
   ]
  },
  {
   "cell_type": "markdown",
   "id": "2e315ed6",
   "metadata": {},
   "source": [
    "Exciting! [New API](https://pola-rs.github.io/Polars/py-Polars/html/reference/selectors.html) for column selection. \n"
   ]
  },
  {
   "cell_type": "code",
   "execution_count": 318,
   "id": "pl-column-selector",
   "metadata": {},
   "outputs": [],
   "source": [
    "#| label: pl-column-selector\n",
    "import polars.selectors as cs\n",
    "\n",
    "df.select(cs.starts_with('i'))"
   ]
  },
  {
   "cell_type": "code",
   "execution_count": 319,
   "id": "pl-column-selector-set-opeartions",
   "metadata": {},
   "outputs": [],
   "source": [
    "#| label: pl-column-selector-set-opeartions\n",
    "\n",
    "df.select(cs.starts_with('i') | cs.starts_with('d'))"
   ]
  },
  {
   "cell_type": "code",
   "execution_count": 320,
   "id": "0bfdc62a",
   "metadata": {},
   "outputs": [],
   "source": [
    "df.select(cs.starts_with('i') | cs.starts_with('d'))"
   ]
  },
  {
   "cell_type": "markdown",
   "id": "b2cc4df5",
   "metadata": {},
   "source": [
    "### Selecting Rows By Index\n"
   ]
  },
  {
   "cell_type": "code",
   "execution_count": 321,
   "id": "5523704b",
   "metadata": {},
   "outputs": [],
   "source": [
    "df.limit(2) "
   ]
  },
  {
   "cell_type": "code",
   "execution_count": 322,
   "id": "d7244c72",
   "metadata": {},
   "outputs": [],
   "source": [
    "df.head(2)"
   ]
  },
  {
   "cell_type": "markdown",
   "id": "3a61f891",
   "metadata": {},
   "source": [
    "::: {.callout-important}\n",
    "`df.limit()` is not the same as `df.head()`. The former does not rely on row indices, and will thus work for lazy objects, while the latter will not.\n",
    ":::\n"
   ]
  },
  {
   "cell_type": "code",
   "execution_count": 323,
   "id": "7eb11754",
   "metadata": {},
   "outputs": [],
   "source": [
    "df.tail(1)"
   ]
  },
  {
   "cell_type": "code",
   "execution_count": 324,
   "id": "ecda47b5",
   "metadata": {},
   "outputs": [],
   "source": [
    "df.take_every(2)"
   ]
  },
  {
   "cell_type": "code",
   "execution_count": 325,
   "id": "bd6af723",
   "metadata": {},
   "outputs": [],
   "source": [
    "df.slice(offset=1, length=1)"
   ]
  },
  {
   "cell_type": "code",
   "execution_count": 326,
   "id": "1f5bb9bc",
   "metadata": {},
   "outputs": [],
   "source": [
    "df.sample(1)"
   ]
  },
  {
   "cell_type": "markdown",
   "id": "d1cbddd6",
   "metadata": {},
   "source": [
    "Because `.sample()` requires row counts, it will not work for lazy objects.\n"
   ]
  },
  {
   "cell_type": "code",
   "execution_count": 327,
   "id": "5c72a5f2",
   "metadata": {},
   "outputs": [],
   "source": [
    "df.row(1) # get row as tuple"
   ]
  },
  {
   "cell_type": "markdown",
   "id": "8daf51f5",
   "metadata": {},
   "source": [
    "### Selecting Rows By Condition {#sec-filtering-rows}\n",
    "\n",
    "Aka [Projection](https://en.wikipedia.org/wiki/Projection_(relational_algebra)). \n",
    "\n",
    "Enter the `df.filter()` context. \n"
   ]
  },
  {
   "cell_type": "code",
   "execution_count": 328,
   "id": "filter-context",
   "metadata": {},
   "outputs": [],
   "source": [
    "#| label: filter-context\n",
    "#| lst-label: filter-context\n",
    "#| lst-cap: Filtering Rows in a DataFrame\n",
    "df.filter(pl.col(\"integer\") == 2)"
   ]
  },
  {
   "cell_type": "markdown",
   "id": "923fda26",
   "metadata": {},
   "source": [
    "Things to note:\n",
    "\n",
    "- `df.filter()` is a **Polars Context**. \n",
    "- It is a **keep** filter, not a **drop** filter: it will evaluate expressions, and return the rows where the expression does not evaluate to `False`. \n",
    "-   The `[` operator does not support indexing with boolean such as `df[df[\"integer\"] == 2]`.\n",
    "-   The `filter()` method is recommended over `[` by the authors of Polars, to facilitate lazy evaluation (discussed later).\n",
    "\n",
    "\n",
    "An alternative syntax for equality filtering, known as **constraint** in the Polars documentation.\n"
   ]
  },
  {
   "cell_type": "code",
   "execution_count": 329,
   "id": "4a2a246b",
   "metadata": {},
   "outputs": [],
   "source": [
    "df.filter(integer = 2) "
   ]
  },
  {
   "cell_type": "markdown",
   "id": "54767f52",
   "metadata": {},
   "source": [
    "AND conditions:"
   ]
  },
  {
   "cell_type": "code",
   "execution_count": 330,
   "id": "filter-and",
   "metadata": {},
   "outputs": [],
   "source": [
    "#| label: filter-and\n",
    "df.filter(\n",
    "  pl.col('integer').eq(2),\n",
    "  pl.col('float').gt(10)\n",
    ")"
   ]
  },
  {
   "cell_type": "code",
   "execution_count": 331,
   "id": "filter-and-2",
   "metadata": {},
   "outputs": [],
   "source": [
    "#| label: filter-and-2\n",
    "df.filter(\n",
    "  pl.col('integer').eq(2) &\n",
    "  pl.col('float').gt(10)\n",
    ")"
   ]
  },
  {
   "cell_type": "markdown",
   "id": "33fe630d",
   "metadata": {},
   "source": [
    "OR conditions:"
   ]
  },
  {
   "cell_type": "code",
   "execution_count": 332,
   "id": "filter-or",
   "metadata": {},
   "outputs": [],
   "source": [
    "#| label: filter-or\n",
    "df.filter(\n",
    "  pl.col('integer').eq(2) |\n",
    "  pl.col('float').gt(10)\n",
    ")"
   ]
  },
  {
   "cell_type": "markdown",
   "id": "f9e3dc82",
   "metadata": {},
   "source": [
    "::: {.callout-note}\n",
    "How would you write an AND, or OR condition, without using the comparison methods `.eq()`, `.gt()`, etc.?\n",
    ":::\n",
    "\n",
    "\n",
    "### Selecting From Single Item Frame\n",
    "\n",
    "Say your operation returned a Polars frame with a single float, which you want to manipulate as a Python float:"
   ]
  },
  {
   "cell_type": "code",
   "execution_count": 333,
   "id": "single-item-to-python",
   "metadata": {},
   "outputs": [],
   "source": [
    "#| label: single-item-to-python\n",
    "pl.DataFrame([1]).item() "
   ]
  },
  {
   "cell_type": "markdown",
   "id": "10551279",
   "metadata": {},
   "source": [
    "## Column Transformations \n",
    "\n",
    "1. Transformations are done with Polars Expressions (@sec-expressions) within a **context** (see @sec-contexts).\n",
    "-   The output column will have the same name as the input, unless you use the `alias()` method to rename it.\n"
   ]
  },
  {
   "cell_type": "code",
   "execution_count": 334,
   "id": "with-columns",
   "metadata": {},
   "outputs": [],
   "source": [
    "#| label: with-columns\n",
    "df.with_columns(\n",
    "    pl.col(\"integer\").mul(2),\n",
    "    pl.col(\"integer\").alias(\"integer2\"),\n",
    "    integer3 = pl.col(\"integer\").truediv(3)\n",
    ")"
   ]
  },
  {
   "cell_type": "markdown",
   "id": "7da132d8",
   "metadata": {},
   "source": [
    "Things to note:\n",
    "\n",
    "-   You cannot use `[` to assign! This would not have worked `df['integer3'] = df['integer'] * 2`\n",
    "-   The columns `integer` is multiplied by 2 **in place**, because no `alias` is used.\n",
    "-   As of Polars version \\>15.*.* (I think), you can use `=` to assign. That is how `integer3` is created.\n",
    "-   The column `integer` is copied, by renaming it to `integer2`.\n",
    "\n",
    "If a selection returns multiple columns, all will be transformed:"
   ]
  },
  {
   "cell_type": "code",
   "execution_count": 335,
   "id": "37d86874",
   "metadata": {},
   "outputs": [],
   "source": [
    "df.with_columns(\n",
    "    pl.col([pl.Int64,pl.Float64]).mul(2)\n",
    ")"
   ]
  },
  {
   "cell_type": "code",
   "execution_count": 336,
   "id": "8d3032f5",
   "metadata": {},
   "outputs": [],
   "source": [
    "df.with_columns(\n",
    "    pl.all().cast(pl.Utf8)\n",
    ")"
   ]
  },
  {
   "cell_type": "markdown",
   "id": "7a057fb1",
   "metadata": {},
   "source": [
    "You cannot `.alias()` when operating on multiple columns. But you can `.name.suffix()` or `.name.prefix()`."
   ]
  },
  {
   "cell_type": "code",
   "execution_count": 337,
   "id": "92f43229",
   "metadata": {},
   "outputs": [],
   "source": [
    "df.with_columns(\n",
    "    pl.col([pl.Int64,pl.Float64]).mul(2).name.suffix(\"_2X\")\n",
    ")"
   ]
  },
  {
   "cell_type": "markdown",
   "id": "744c223c",
   "metadata": {},
   "source": [
    "### Conditional Transformation (if-else)\n"
   ]
  },
  {
   "cell_type": "code",
   "execution_count": 338,
   "id": "8b97a4f8",
   "metadata": {},
   "outputs": [],
   "source": [
    "df.with_columns(\n",
    "    pl.when(\n",
    "      pl.col(\"integer\").gt(2)\n",
    "    )\n",
    "    .then(pl.lit(1))\n",
    "    .otherwise(pl.col(\"integer\"))\n",
    "    .alias(\"new_col\")\n",
    ")"
   ]
  },
  {
   "cell_type": "markdown",
   "id": "25b7b5e2",
   "metadata": {},
   "source": [
    "Things to note:\n",
    "\n",
    "-  The `otherwise()` method is optional. If omitted, the original column will be returned (see next example).\n",
    "-  `pl.lit(1)` is a Polars expression that returns the literal 1. It may be ommited, but it is good practice to include it for clarity and safety.\n",
    "-  `pl.col(\"integer\").gt(2)` could have been replaced with `pl.col(\"integer\") > 2`. I like the former because it allows easier composition of conditions.\n",
    "\n",
    "STOPPED HERE\n"
   ]
  },
  {
   "cell_type": "code",
   "execution_count": 339,
   "id": "f1f3f952",
   "metadata": {},
   "outputs": [],
   "source": [
    "df.with_columns(\n",
    "    pl.when(\n",
    "      pl.col(\"integer\") > 2\n",
    "    )\n",
    "    .then(1)\n",
    "    # .otherwise(pl.col(\"integer\"))\n",
    "    .alias(\"new_col\")\n",
    ")"
   ]
  },
  {
   "cell_type": "markdown",
   "id": "3b56f662",
   "metadata": {},
   "source": [
    "### Python Lambda Functions\n",
    "\n",
    "Apply your own lambda function."
   ]
  },
  {
   "cell_type": "code",
   "execution_count": 340,
   "id": "26320a83",
   "metadata": {},
   "outputs": [],
   "source": [
    "df.select([pl.col(\"integer\"), pl.col(\"float\")]).apply(lambda x: x[0] + x[1])"
   ]
  },
  {
   "cell_type": "markdown",
   "id": "54d12828",
   "metadata": {},
   "source": [
    "As usual, using your own functions may have a very serious toll on performance:\n"
   ]
  },
  {
   "cell_type": "code",
   "execution_count": 341,
   "id": "da3568ee",
   "metadata": {},
   "outputs": [],
   "source": [
    "df_big = pl.DataFrame(np.random.randn(1000000, 2), schema=[\"a\", \"b\"]) # previous versions used columns= instead of schema="
   ]
  },
  {
   "cell_type": "code",
   "execution_count": 342,
   "id": "504e02f9",
   "metadata": {},
   "outputs": [],
   "source": [
    "%timeit -n2 -r2 df_big.sum(axis=1)"
   ]
  },
  {
   "cell_type": "code",
   "execution_count": 343,
   "id": "45cf2c39",
   "metadata": {},
   "outputs": [],
   "source": [
    "%timeit -n2 -r2 df_big.apply(lambda x: x[0] + x[1])"
   ]
  },
  {
   "cell_type": "markdown",
   "id": "49dd103b",
   "metadata": {},
   "source": [
    "How would numpy and Pandas deal with this row-wise summation?\n"
   ]
  },
  {
   "cell_type": "code",
   "execution_count": 344,
   "id": "e21e4926",
   "metadata": {},
   "outputs": [],
   "source": [
    "df.shift(1)"
   ]
  },
  {
   "cell_type": "code",
   "execution_count": 345,
   "id": "d8f5a516",
   "metadata": {},
   "outputs": [],
   "source": [
    "df.shift_and_fill(1, 'WOW')"
   ]
  },
  {
   "cell_type": "markdown",
   "id": "dd8dc0a5",
   "metadata": {},
   "source": [
    "### Numpy Ufuncs\n",
    "\n",
    "You can use Numpy's universal functions (ufuncs) on Polars frames. \n",
    "There is little overhead in using Numpy ufuncs.\n",
    "\n",
    "- See [here](https://docs.pola.rs/user-guide/expressions/numpy/) to use Numpy   ufuncs in Polars.\n",
    "- See [here](https://www.w3schools.com/python/numpy/numpy_ufunc_create_function.asp) to create your own Numpy ufunc's.\n",
    "\n",
    "\n",
    "\n",
    "\n",
    "#### Making Your Own Ufuncs\n",
    "\n",
    "TODO\n",
    "\n",
    "\n",
    "## Uniques and Duplicates\n",
    "\n",
    "Keep uniques; same as `pd.drop_duplicates()`.\n"
   ]
  },
  {
   "cell_type": "code",
   "execution_count": 346,
   "id": "dataframe-unique",
   "metadata": {},
   "outputs": [],
   "source": [
    "#| label: dataframe-unique\n",
    "df.unique() "
   ]
  },
  {
   "cell_type": "markdown",
   "id": "28bedac0",
   "metadata": {},
   "source": [
    "Can be used with column subset"
   ]
  },
  {
   "cell_type": "code",
   "execution_count": 347,
   "id": "dataframe-unique-subset",
   "metadata": {},
   "outputs": [],
   "source": [
    "#| label: dataframe-unique-subset\n",
    "df.unique([\"integer\", \"float\"])"
   ]
  },
  {
   "cell_type": "code",
   "execution_count": 348,
   "id": "87377431",
   "metadata": {},
   "outputs": [],
   "source": [
    "df.is_unique()"
   ]
  },
  {
   "cell_type": "code",
   "execution_count": 349,
   "id": "adfad9e1",
   "metadata": {},
   "outputs": [],
   "source": [
    "df.is_duplicated()"
   ]
  },
  {
   "cell_type": "code",
   "execution_count": 350,
   "id": "1a401d77",
   "metadata": {},
   "outputs": [],
   "source": [
    "df.n_unique()"
   ]
  },
  {
   "cell_type": "markdown",
   "id": "9b7c7c33",
   "metadata": {},
   "source": [
    "## Missing\n"
   ]
  },
  {
   "cell_type": "code",
   "execution_count": 351,
   "id": "d868f262",
   "metadata": {},
   "outputs": [],
   "source": [
    "df_with_nulls = df.with_columns(\n",
    "    pl.Series(\"missing\", [3, None, np.nan]),\n",
    ")"
   ]
  },
  {
   "cell_type": "code",
   "execution_count": 352,
   "id": "a01f4410",
   "metadata": {},
   "outputs": [],
   "source": [
    "df_with_nulls.null_count() # same as pd.isnull().sum()"
   ]
  },
  {
   "cell_type": "code",
   "execution_count": 353,
   "id": "12abae9d",
   "metadata": {},
   "outputs": [],
   "source": [
    "df_with_nulls.drop_nulls() # same as pd.dropna()"
   ]
  },
  {
   "cell_type": "markdown",
   "id": "5e9f32e8",
   "metadata": {},
   "source": [
    "Can I also drop `np.nan`'s? \n",
    "There is no `drop_nan()` method. \n",
    "See [StackOverflow](https://stackoverflow.com/questions/75548444/Polars-dataframe-drop-nans) for workarounds.\n"
   ]
  },
  {
   "cell_type": "code",
   "execution_count": 354,
   "id": "09f5bdc7",
   "metadata": {},
   "outputs": [],
   "source": [
    "df_with_nulls.fill_null(0) # same as pd.fillna(0)"
   ]
  },
  {
   "cell_type": "markdown",
   "id": "fe907aca",
   "metadata": {},
   "source": [
    "But recall that `None` and `np.nan` are not the same thing."
   ]
  },
  {
   "cell_type": "code",
   "execution_count": 355,
   "id": "91388973",
   "metadata": {},
   "outputs": [],
   "source": [
    "df_with_nulls.fill_nan(99)"
   ]
  },
  {
   "cell_type": "code",
   "execution_count": 356,
   "id": "7d51667b",
   "metadata": {},
   "outputs": [],
   "source": [
    "df_with_nulls.interpolate()"
   ]
  },
  {
   "cell_type": "markdown",
   "id": "7598dedd",
   "metadata": {},
   "source": [
    "## Sorting\n"
   ]
  },
  {
   "cell_type": "code",
   "execution_count": 357,
   "id": "19123386",
   "metadata": {},
   "outputs": [],
   "source": [
    "df.sort(by=[\"integer\",\"float\"])"
   ]
  },
  {
   "cell_type": "code",
   "execution_count": 358,
   "id": "bf08d545",
   "metadata": {},
   "outputs": [],
   "source": [
    "df.reverse()"
   ]
  },
  {
   "cell_type": "markdown",
   "id": "fc4173b6",
   "metadata": {},
   "source": [
    "## Groupby\n",
    "\n",
    "Grouping over categories:\n",
    "\n",
    "-   `df.partion_by()` will return a list of frames.\n",
    "-   `df.groupby()` for grouping. Just like Pandas, only parallelized, etc. The output will have the length of the number of groups.\n",
    "-   `over()` will assign each row the aggregate in the group. Like Pandas `groupby.transform`. The output will have the same length as the input.\n",
    "\n",
    "Grouping over time:\n",
    "\n",
    "-   `df.grouby_rolling()` for rolling window grouping, a.k.a. a sliding window. Each row will be assigned the aggregate in the window.\n",
    "-   `df.groupby_dynamic()` for dynamic grouping. Each period will be assigned the agregate in the period. The output may have more rows than the input.\n",
    "\n",
    "After grouping:\n",
    "\n",
    "-   `df.groupby().agg()` for aggregating.\n",
    "-   `df.groupby().apply()` for applying a function to each group.\n",
    "-   `df.groupby().count()` for counting.\n",
    "-   `df.groupby().first()` for getting the first row of each group.\n",
    "-   ...\n",
    "\n",
    "See the [API reference](https://pola-rs.github.io/Polars/py-Polars/html/reference/dataframe/groupby.html) for the various options. Also see the [user guide](https://pola-rs.github.io/Polars-book/user-guide/howcani/timeseries/temporal_groupby.html) for more details.\n"
   ]
  },
  {
   "cell_type": "code",
   "execution_count": 359,
   "id": "0cf409cb",
   "metadata": {},
   "outputs": [],
   "source": [
    "df2 = pl.DataFrame({\n",
    "    \"integer\": [1, 1, 2, 2, 3, 3],\n",
    "    \"float\": [1.0, 2.0, 3.0, 4.0, 5.0, 6.0],\n",
    "    \"string\": [\"a\", \"b\", \"c\", \"d\", \"e\", \"f\"],\n",
    "    \"datetime\": [\n",
    "        (datetime(2022, 1, 4)), \n",
    "        (datetime(2022, 1, 4)), \n",
    "        (datetime(2022, 1, 4)), \n",
    "        (datetime(2022, 1, 9)), \n",
    "        (datetime(2022, 1, 9)), \n",
    "        (datetime(2022, 1, 9))],\n",
    "})"
   ]
  },
  {
   "cell_type": "code",
   "execution_count": 360,
   "id": "d8f50438",
   "metadata": {},
   "outputs": [],
   "source": [
    "df2.partition_by(\"integer\")"
   ]
  },
  {
   "cell_type": "code",
   "execution_count": 361,
   "id": "5a06d6f9",
   "metadata": {},
   "outputs": [],
   "source": [
    "groupper = df2.groupby(\"integer\")\n",
    "groupper.count()"
   ]
  },
  {
   "cell_type": "code",
   "execution_count": 362,
   "id": "b6a9918d",
   "metadata": {},
   "outputs": [],
   "source": [
    "groupper.sum()"
   ]
  },
  {
   "cell_type": "markdown",
   "id": "b5d2af18",
   "metadata": {},
   "source": [
    "Groupby a fixed time window with `df.groupby_dynamic()`:\n"
   ]
  },
  {
   "cell_type": "code",
   "execution_count": 363,
   "id": "5f7f166e",
   "metadata": {},
   "outputs": [],
   "source": [
    "(\n",
    "  df2\n",
    "  .groupby_dynamic(index_column=\"datetime\", every=\"1d\")\n",
    "  .agg(pl.col(\"float\").sum())\n",
    ")"
   ]
  },
  {
   "cell_type": "markdown",
   "id": "314f7ad2",
   "metadata": {},
   "source": [
    "If you do not want a single summary per period, rather, a window at each datapoint, use `df.groupby_rolling()`:\n"
   ]
  },
  {
   "cell_type": "code",
   "execution_count": 364,
   "id": "3049651b",
   "metadata": {},
   "outputs": [],
   "source": [
    "(\n",
    "  df2\n",
    "  .groupby_rolling(index_column=\"datetime\", period='1d')\n",
    "  .agg(pl.col(\"float\").sum())\n",
    ")"
   ]
  },
  {
   "cell_type": "markdown",
   "id": "e035c414",
   "metadata": {},
   "source": [
    "### Over\n",
    "\n",
    "You may be familar with Pandas `groupby().transform()`, which will return a frame with the same row-count as its input. You may be familiar with Postgres SQL [window function](https://www.postgresql.org/docs/current/tutorial-window.html). You may not be familiar with either, and still want to aggregate within group, but propagate the result to all group members. Polars' `over()` is the answer.\n"
   ]
  },
  {
   "cell_type": "code",
   "execution_count": 365,
   "id": "b23d24e6",
   "metadata": {},
   "outputs": [],
   "source": [
    "df.with_columns(\n",
    "  pl.col(\"float\").sum().over(\"string\").alias(\"sum\")\n",
    ").limit(5)"
   ]
  },
  {
   "cell_type": "markdown",
   "id": "a2e31b2c",
   "metadata": {},
   "source": [
    "**Careful**: `over()` should follow the aggregation. The following will not fail, but return the wrong result:\n"
   ]
  },
  {
   "cell_type": "code",
   "execution_count": 366,
   "id": "63953426",
   "metadata": {},
   "outputs": [],
   "source": [
    "df.with_columns(\n",
    "  pl.col(\"float\").over(\"string\").sum().alias(\"sum\")\n",
    ").limit(5)"
   ]
  },
  {
   "cell_type": "markdown",
   "id": "ab3753a6",
   "metadata": {},
   "source": [
    "## Joins {#sec-joins}\n",
    "\n",
    "High level:\n",
    "\n",
    "-   `df.hstack()` for horizontal concatenation; like Pandas `pd.concat([],axis=1)` or R's `cbind`.\n",
    "-   `df.vstack()` for vertical concatenation; like Pandas `pd.concat([],axis=0)` or R's `rbind`.\n",
    "-   `df.merge_sorted()` for vertical stacking, with sorting.\n",
    "-   `pl.concat()`, which is similar to the previous two, but with memory re-chunking. `pl.concat()` also allows diagonal concatenation, if columns are not shared.\n",
    "-   `df.extend()` for vertical concatenation, but with memory re-chunking. Similar to `df.vstack().rechunk()`.\n",
    "-   `df.join()` for joins; like Pandas `pd.merge()` or `df.join()`.\n",
    "\n",
    "For more on the differences between these methods, see [here](https://www.rhosignal.com/posts/Polars-extend-vstack/).\n",
    "\n",
    "### hstack\n"
   ]
  },
  {
   "cell_type": "code",
   "execution_count": 367,
   "id": "185cdc7b",
   "metadata": {},
   "outputs": [],
   "source": [
    "new_column = pl.Series(\"c\", np.repeat(1, df.height))\n",
    "\n",
    "df.hstack([new_column])"
   ]
  },
  {
   "cell_type": "markdown",
   "id": "5b3f4e2b",
   "metadata": {},
   "source": [
    "### vstack\n"
   ]
  },
  {
   "cell_type": "code",
   "execution_count": 368,
   "id": "852672ad",
   "metadata": {},
   "outputs": [],
   "source": [
    "df2 = pl.DataFrame({\n",
    "  \"integer\": [1, 2, 3], \n",
    "  \"date\": [\n",
    "    (datetime(2022, 1, 4)), \n",
    "    (datetime(2022, 1, 5)), \n",
    "    (datetime(2022, 1, 6))], \n",
    "    \"float\":[7.0, 8.0, 9.0],\n",
    "    \"string\": [\"d\", \"d\", \"d\"]})\n",
    "\n",
    "\n",
    "df.vstack(df2)"
   ]
  },
  {
   "cell_type": "markdown",
   "id": "b4918561",
   "metadata": {},
   "source": [
    "### Concatenation\n"
   ]
  },
  {
   "cell_type": "code",
   "execution_count": 369,
   "id": "d4d76203",
   "metadata": {},
   "outputs": [],
   "source": [
    "pl.concat([df, df2]) \n",
    "# equivalent to:\n",
    "# pl.concat([df, df2], how='vertical', rechunk=True, parallel=True) "
   ]
  },
  {
   "cell_type": "code",
   "execution_count": 370,
   "id": "2e8f8147",
   "metadata": {},
   "outputs": [],
   "source": [
    "pl.concat([df,new_column.to_frame()], how='horizontal')"
   ]
  },
  {
   "cell_type": "markdown",
   "id": "5f7c3fdf",
   "metadata": {},
   "source": [
    "### extend\n"
   ]
  },
  {
   "cell_type": "code",
   "execution_count": 371,
   "id": "79b2d5a1",
   "metadata": {},
   "outputs": [],
   "source": [
    "df.extend(df2) # like vstack, but with memory re-chunking. Similar to df.vstack().rechunk()"
   ]
  },
  {
   "cell_type": "markdown",
   "id": "f41e8c32",
   "metadata": {},
   "source": [
    "### merge_sorted\n"
   ]
  },
  {
   "cell_type": "code",
   "execution_count": 372,
   "id": "ab322df8",
   "metadata": {},
   "outputs": [],
   "source": [
    "df.merge_sorted(df2, key=\"integer\") # vstacking with sorting."
   ]
  },
  {
   "cell_type": "markdown",
   "id": "8dc50a0d",
   "metadata": {},
   "source": [
    "**Caution**: Joining along rows is possible only if matched columns have the same dtype. Timestamps may be tricky because they may have different time units. Recall that timeunits may be cast before joining using `series.dt.cast_time_unit()`:\n"
   ]
  },
  {
   "cell_type": "code",
   "execution_count": 373,
   "id": "39e91f7c",
   "metadata": {},
   "outputs": [],
   "source": [
    "#| eval: false\n",
    "df.with_columns(\n",
    "    pl.col(pl.Datetime(\"ns\")).dt.cast_time_unit(tu=\"ms\")\n",
    ")            "
   ]
  },
  {
   "cell_type": "markdown",
   "id": "a52f438c",
   "metadata": {},
   "source": [
    "If you cannot arrange schema before concatenating, use a diagonal concatenation:\n"
   ]
  },
  {
   "cell_type": "code",
   "execution_count": 374,
   "id": "0e55bb37",
   "metadata": {},
   "outputs": [],
   "source": [
    "pl.concat(\n",
    "    [df,new_column.to_frame()], \n",
    "    how='diagonal')"
   ]
  },
  {
   "cell_type": "markdown",
   "id": "699080c6",
   "metadata": {},
   "source": [
    "### join\n"
   ]
  },
  {
   "cell_type": "code",
   "execution_count": 375,
   "id": "f80f499d",
   "metadata": {},
   "outputs": [],
   "source": [
    "df.join(df2, on=\"integer\", how=\"left\")"
   ]
  },
  {
   "cell_type": "markdown",
   "id": "9bbb7989",
   "metadata": {},
   "source": [
    "Things to note:\n",
    "\n",
    "-   Repeating column names have been suffixed with \"\\_right\".\n",
    "-   Unlike Pandas, there are no indices. The `on`/`left_on`/`right_on` argument is always required.\n",
    "-   `how=` may take the following values: 'inner', 'left', 'outer', 'semi', 'anti', 'cross'.\n",
    "-   The join is super fast, as demonstrated in @sec-motivation above.\n",
    "\n",
    "### join_asof\n"
   ]
  },
  {
   "cell_type": "code",
   "execution_count": 376,
   "id": "28658b9d",
   "metadata": {},
   "outputs": [],
   "source": [
    "df.join_asof(\n",
    "    df2, \n",
    "    left_on=\"date\", \n",
    "    right_on='date', \n",
    "    by=\"integer\", \n",
    "    strategy=\"backward\", \n",
    "    tolerance='1w')"
   ]
  },
  {
   "cell_type": "markdown",
   "id": "52b4fe45",
   "metadata": {},
   "source": [
    "Things to note:\n",
    "\n",
    "-   Yes! `merge_asof()` is also available.\n",
    "-   The `strategy=` argument may take the following values: 'backward', 'forward'.\n",
    "-   The `tolerance=` argument may take the following values: '1w', '1d', '1h', '1m', '1s', '1ms', '1us', '1ns'.\n",
    "\n",
    "\n",
    "## Reshaping\n",
    "\n",
    "High level:\n",
    "\n",
    "-   `df.transpose()` as the name suggests.\n",
    "-   `df.melt()` for wide to long.\n",
    "-   `df.pivot()` for long to wide.\n",
    "-   `df.explode()` for breaking strings into rows.\n",
    "-   `df.unstack()`\n"
   ]
  },
  {
   "cell_type": "code",
   "execution_count": 377,
   "id": "bd7a773a",
   "metadata": {},
   "outputs": [],
   "source": [
    "df.transpose()"
   ]
  },
  {
   "cell_type": "markdown",
   "id": "47e6c52d",
   "metadata": {},
   "source": [
    "### Wide to Long\n"
   ]
  },
  {
   "cell_type": "code",
   "execution_count": 378,
   "id": "7b228488",
   "metadata": {},
   "outputs": [],
   "source": [
    "# The following example is adapted from Pandas documentation: https://Pandas.pydata.org/docs/reference/api/Pandas.wide_to_long.html\n",
    "\n",
    "np.random.seed(123)\n",
    "wide = pl.DataFrame({\n",
    "    'famid': [\"11\", \"12\", \"13\", \"2\", \"2\", \"2\", \"3\", \"3\", \"3\"],\n",
    "    'birth': [1, 2, 3, 1, 2, 3, 1, 2, 3],\n",
    "    'ht1': [2.8, 2.9, 2.2, 2, 1.8, 1.9, 2.2, 2.3, 2.1],\n",
    "    'ht2': [3.4, 3.8, 2.9, 3.2, 2.8, 2.4, 3.3, 3.4, 2.9]})\n",
    "\n",
    "wide.head(2)"
   ]
  },
  {
   "cell_type": "code",
   "execution_count": 379,
   "id": "ac502e9a",
   "metadata": {},
   "outputs": [],
   "source": [
    "wide.melt(\n",
    "  id_vars=['famid', 'birth'], \n",
    "  value_vars=['ht1', 'ht2'], \n",
    "  variable_name='treatment', \n",
    "  value_name='height').sample(5)"
   ]
  },
  {
   "cell_type": "markdown",
   "id": "08c448be",
   "metadata": {},
   "source": [
    "Break strings into rows.\n"
   ]
  },
  {
   "cell_type": "code",
   "execution_count": 380,
   "id": "ba5e3055",
   "metadata": {},
   "outputs": [],
   "source": [
    "wide.explode(columns=['famid']).limit(5)"
   ]
  },
  {
   "cell_type": "markdown",
   "id": "79a30446",
   "metadata": {},
   "source": [
    "### Long to Wide\n"
   ]
  },
  {
   "cell_type": "code",
   "execution_count": 381,
   "id": "84a9e226",
   "metadata": {},
   "outputs": [],
   "source": [
    "# Example adapted from https://stackoverflow.com/questions/5890584/how-to-reshape-data-from-long-to-wide-format\n",
    "\n",
    "long = pl.DataFrame({\n",
    "    'id': [1, 1, 1, 2, 2, 2, 3, 3, 3],\n",
    "    'treatment': ['A', 'A', 'B', 'A', 'A', 'B', 'A', 'A', 'B'],\n",
    "    'height': [2.8, 2.9, 2.2, 2, 1.8, 1.9, 2.2, 2.3, 2.1]\n",
    "    })\n",
    "  \n",
    "long.limit(5)"
   ]
  },
  {
   "cell_type": "code",
   "execution_count": 382,
   "id": "0c8bd2ea",
   "metadata": {},
   "outputs": [],
   "source": [
    "long.pivot(\n",
    "  index='id', # index in the wide format\n",
    "  columns='treatment', # defines columns in the wide format\n",
    "  values='height')"
   ]
  },
  {
   "cell_type": "code",
   "execution_count": 383,
   "id": "59b3ba72",
   "metadata": {},
   "outputs": [],
   "source": [
    "long.unstack(step=2) # works like a transpose, and then wrap rows. Change the `step=` to get the feeling. "
   ]
  },
  {
   "cell_type": "markdown",
   "id": "867e6f7f",
   "metadata": {},
   "source": [
    "## Nested dtypes\n",
    "\n",
    "\n",
    "\n",
    "## Dataframe in Memory\n"
   ]
  },
  {
   "cell_type": "code",
   "execution_count": 384,
   "id": "4e8e7625",
   "metadata": {},
   "outputs": [],
   "source": [
    "df.estimated_size(unit=\"mb\")"
   ]
  },
  {
   "cell_type": "code",
   "execution_count": 385,
   "id": "486a73d2",
   "metadata": {},
   "outputs": [],
   "source": [
    "df.n_chunks() # number of ChunkedArrays in the dataframe"
   ]
  },
  {
   "cell_type": "code",
   "execution_count": 386,
   "id": "2a9584ba",
   "metadata": {},
   "outputs": [],
   "source": [
    "df.rechunk() # ensure contiguous memory layout"
   ]
  },
  {
   "cell_type": "code",
   "execution_count": 387,
   "id": "a790d281",
   "metadata": {},
   "outputs": [],
   "source": [
    "df.shrink_to_fit() # reduce memory allocation to actual size"
   ]
  },
  {
   "cell_type": "markdown",
   "id": "668e7ba7",
   "metadata": {},
   "source": [
    "## Processing Multiple Frames Simultanously\n",
    "\n",
    "Q: What if you want to access a column from frame `df`, when processing frame `df2`?\\\n",
    "A: Just join them.\\\n",
    "Q: What if they are not joinable?\\\n",
    "A: Use a diagonal join. Q: Can't I just add a search-space into the lazy query? A: Ahhh! Use `df.with_context()`.\n"
   ]
  },
  {
   "cell_type": "code",
   "execution_count": 388,
   "id": "487dfced",
   "metadata": {},
   "outputs": [],
   "source": [
    "df3 = pl.Series(\"blah\", [100,2,3]).to_frame()\n",
    "\n",
    "q = (\n",
    "    df.lazy()\n",
    "    .with_context( # add colums of df2 to the search space\n",
    "        df3.lazy()\n",
    "        )\n",
    "    .with_columns(\n",
    "        pl.col('float').map_dict(remapping={4.0:None}, default=100).fill_null(pl.col('blah').mean()).alias('float2'),\n",
    "        )\n",
    "    )\n",
    "\n",
    "q.collect()"
   ]
  },
  {
   "cell_type": "markdown",
   "id": "1940086c",
   "metadata": {},
   "source": [
    "Things to note:\n",
    "\n",
    "-   `with_context()` is a lazy operation. This is great news, since it means both frames will benefit from query planning, etc.\n",
    "-   `with_context()` will not copy the data, but rather, add a reference to the data.\n",
    "-   Why not use `pl.col('blah').mean()` within the `map_dict()`? That is indeed more reasonable. It simply did not work.\n",
    "-   Try it yourself: Can you use multiple `with_context()`?\n",
    "\n",
    "\n",
    "### Imputation Example\n"
   ]
  },
  {
   "cell_type": "code",
   "execution_count": 389,
   "id": "07e256d8",
   "metadata": {},
   "outputs": [],
   "source": [
    "train_lf = pl.LazyFrame(\n",
    "    {\"feature_0\": [-1.0, 0, 1], \"feature_1\": [-1.0, 0, 1]}\n",
    ")\n",
    "test_lf = pl.LazyFrame(\n",
    "    {\"feature_0\": [-1.0, None, 1], \"feature_1\": [-1.0, 0, 1]}\n",
    ")\n",
    "\n",
    "(\n",
    "  test_lf\n",
    "  .with_context(\n",
    "    train_lf\n",
    "    .select(pl.all().suffix(\"_train\")))\n",
    "    .select(\n",
    "      pl.col(\"feature_0\")\n",
    "      .fill_null(\n",
    "        pl.col(\"feature_0_train\").median()\n",
    "      )\n",
    "  )\n",
    ").collect()"
   ]
  },
  {
   "cell_type": "markdown",
   "id": "b4cfd0cd",
   "metadata": {},
   "source": [
    "# Polars Expressions {#sec-expressions}\n",
    "\n",
    "Things to recall about Polars expressions:\n",
    "\n",
    "1. Think of them as functions, that can be chained, and evaluated (lazyly) within a Polars context such as `df.select()`, `df.with_columns()`, etc.\n",
    "2. They are not the same as Python functions, and will not work outside of a Polars context.\n",
    "3. Almost all `pl.Series()` methods are available as Polars expressions. There are however some exceptions.\n",
    "\n",
    "\n",
    "Because almost all Polars Series methods are available as Polars expressions, we refer the reader to @sec-series for a review of importanta series methods. \n",
    "In this section we will focus on exceptions, and some important expressions that are not available for Series.\n",
    "\n",
    "\n",
    "## Arithmetic\n",
    "\n",
    "\n",
    "\n",
    "\n",
    "\n",
    "\n",
    "# Polars LazyFrames\n",
    "\n",
    "# Extensions\n",
    "\n",
    "## SQL\n",
    "\n",
    "## Plotting\n",
    "\n",
    "## ML \n"
   ]
  }
 ],
 "metadata": {
  "kernelspec": {
   "display_name": "Python 3 (ipykernel)",
   "language": "python",
   "name": "python3"
  },
  "language_info": {
   "codemirror_mode": {
    "name": "ipython",
    "version": 3
   },
   "file_extension": ".py",
   "mimetype": "text/x-python",
   "name": "python",
   "nbconvert_exporter": "python",
   "pygments_lexer": "ipython3",
   "version": "3.9.6"
  }
 },
 "nbformat": 4,
 "nbformat_minor": 5
}

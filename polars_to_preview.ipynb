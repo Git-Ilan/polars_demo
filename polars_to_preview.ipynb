{
 "cells": [
  {
   "cell_type": "raw",
   "id": "8c5b504a",
   "metadata": {},
   "source": [
    "---\n",
    "title: Intro 2 Polars\n",
    "execute:\n",
    "  warning: true\n",
    "  error: true\n",
    "  keep-ipynb: true\n",
    "  cache: true\n",
    "html:\n",
    "  code-tools: true\n",
    "  fold-code: false\n",
    "---"
   ]
  },
  {
   "cell_type": "code",
   "execution_count": 1,
   "id": "9420ca0e",
   "metadata": {},
   "outputs": [],
   "source": [
    "import polars as pl\n",
    "import pandas as pd\n",
    "import numpy as np\n",
    "import pyarrow as pa\n",
    "import plotly.express as px\n",
    "import string\n",
    "import random"
   ]
  },
  {
   "cell_type": "markdown",
   "id": "490c871e",
   "metadata": {},
   "source": [
    "# Motivation\n",
    "\n",
    "1. Small memory footpring\n",
    "  - Native dtypes: missing, strings.\n",
    "  - Arrow format.\n",
    "1. Query Planning\n",
    "1. Parallelism:\n",
    "    - Speed\n",
    "    - Debugging\n",
    "\n",
    "\n",
    "\n",
    "\n",
    "## Memory Footprint\n",
    "\n",
    "\n",
    "### Memory Footprint of Storage\n",
    "\n",
    "Polars vs. Pandas:"
   ]
  },
  {
   "cell_type": "code",
   "execution_count": 2,
   "id": "806b2137",
   "metadata": {},
   "outputs": [
    {
     "data": {
      "text/plain": [
       "0.08381903916597366"
      ]
     },
     "execution_count": 2,
     "metadata": {},
     "output_type": "execute_result"
    }
   ],
   "source": [
    "letters = pl.Series(list(string.ascii_letters))\n",
    "\n",
    "n = int(10e6)\n",
    "letter1 = letters.sample(n,with_replacement=True)\n",
    "letter1.estimated_size(unit='gb')"
   ]
  },
  {
   "cell_type": "code",
   "execution_count": 3,
   "id": "9ce1f5df",
   "metadata": {},
   "outputs": [
    {
     "data": {
      "text/plain": [
       "0.58"
      ]
     },
     "execution_count": 3,
     "metadata": {},
     "output_type": "execute_result"
    }
   ],
   "source": [
    "letter1_pandas = letter1.to_pandas() \n",
    "letter1_pandas.memory_usage(deep=True, index=False) / 1e9"
   ]
  },
  {
   "cell_type": "markdown",
   "id": "42f69229",
   "metadata": {},
   "source": [
    "The memory footprint of the polars Series is 1/7 of the pandas Series(!).\n",
    "But I did cheat- I used string type data to emphasize the difference. The difference would have been smaller if I had used integers or floats. \n",
    "\n",
    "\n",
    "\n",
    "\n",
    "### Memory Footprint of Compute\n",
    "\n",
    "You are probably storing your data to compute with it.\n",
    "Let's compare the memory footprint of computations. \n"
   ]
  },
  {
   "cell_type": "code",
   "execution_count": 4,
   "id": "5dad0ee2",
   "metadata": {},
   "outputs": [],
   "source": [
    "%load_ext memory_profiler"
   ]
  },
  {
   "cell_type": "code",
   "execution_count": 5,
   "id": "8527e991",
   "metadata": {},
   "outputs": [
    {
     "name": "stdout",
     "output_type": "stream",
     "text": [
      "peak memory: 535.46 MiB, increment: 206.49 MiB\n"
     ]
    }
   ],
   "source": [
    "%memit letter1.sort()"
   ]
  },
  {
   "cell_type": "code",
   "execution_count": 6,
   "id": "980ca7a5",
   "metadata": {},
   "outputs": [
    {
     "name": "stdout",
     "output_type": "stream",
     "text": [
      "peak memory: 691.25 MiB, increment: 361.85 MiB\n"
     ]
    }
   ],
   "source": [
    "%memit letter1_pandas.sort_values()"
   ]
  },
  {
   "cell_type": "code",
   "execution_count": 7,
   "id": "0d5fcbc9",
   "metadata": {},
   "outputs": [
    {
     "name": "stdout",
     "output_type": "stream",
     "text": [
      "peak memory: 460.14 MiB, increment: 44.50 MiB\n"
     ]
    }
   ],
   "source": [
    "%memit letter1[10]='a'"
   ]
  },
  {
   "cell_type": "code",
   "execution_count": 8,
   "id": "c4ea2bc4",
   "metadata": {},
   "outputs": [
    {
     "name": "stdout",
     "output_type": "stream",
     "text": [
      "peak memory: 416.77 MiB, increment: 0.00 MiB\n"
     ]
    }
   ],
   "source": [
    "%memit letter1_pandas[10]='a'"
   ]
  },
  {
   "cell_type": "markdown",
   "id": "7d3c3220",
   "metadata": {},
   "source": [
    "Things to notice:\n",
    "\n",
    "- Operating on existing data consumes less memory in polars than in pandas.\n",
    "- Changing the data consumes more memory in polars than in pandas. Why is that?\n",
    "\n",
    "\n",
    "### Operating From Disk to Disk\n",
    "\n",
    "What if my data does not fit into RAM?\n",
    "Turns out you can read from disk, process in RAM, and write to disk. This allows you to process data larger than your memory. \n",
    "\n",
    "TODO: demonstrate sink_parquet from [here](https://www.rhosignal.com/posts/sink-parquet-files/).\n",
    "\n",
    "\n",
    "\n",
    "\n",
    "\n",
    "## Query Planning\n",
    "\n",
    "Consider a sort opperation that follows a filter operation. \n",
    "Ideally, filter precededs the sort, but we did not ensure this...\n",
    "We now demonstarte that polars' query planner will do it for you. \n",
    "En passant, we see polars is more efficient also without the query planner. \n",
    "\n",
    "\n",
    "Polars' Eager evaluation, without query planning. \n",
    "Sort then filter. "
   ]
  },
  {
   "cell_type": "code",
   "execution_count": 9,
   "id": "6155271b",
   "metadata": {},
   "outputs": [
    {
     "name": "stdout",
     "output_type": "stream",
     "text": [
      "875 ms ± 49.4 ms per loop (mean ± std. dev. of 2 runs, 2 loops each)\n"
     ]
    }
   ],
   "source": [
    "%timeit -n 2 -r 2 letter1.sort().filter(letter1.is_in(['a','b','c']))"
   ]
  },
  {
   "cell_type": "markdown",
   "id": "02255c76",
   "metadata": {},
   "source": [
    "Polars' Eager evaluation, without query planning. \n",
    "Filter then sort. "
   ]
  },
  {
   "cell_type": "code",
   "execution_count": 10,
   "id": "d88aa6b1",
   "metadata": {},
   "outputs": [
    {
     "name": "stdout",
     "output_type": "stream",
     "text": [
      "228 ms ± 5.3 ms per loop (mean ± std. dev. of 2 runs, 2 loops each)\n"
     ]
    }
   ],
   "source": [
    "%timeit -n 2 -r 2 letter1.filter(letter1.is_in(['a','b','c'])).sort()"
   ]
  },
  {
   "cell_type": "markdown",
   "id": "50e47993",
   "metadata": {},
   "source": [
    "Polars' Lazy evaluation with query planning. \n",
    "Recieves sort then filter; executes filter then sort. "
   ]
  },
  {
   "cell_type": "code",
   "execution_count": 11,
   "id": "023ec238",
   "metadata": {},
   "outputs": [
    {
     "name": "stdout",
     "output_type": "stream",
     "text": [
      "206 ms ± 5.14 ms per loop (mean ± std. dev. of 2 runs, 2 loops each)\n"
     ]
    }
   ],
   "source": [
    "%timeit -n 2 -r 2 letter1.alias('letters').to_frame().lazy().sort(by='letters').filter(pl.col('letters').is_in(['a','b','c'])).collect()"
   ]
  },
  {
   "cell_type": "markdown",
   "id": "c5a6adcf",
   "metadata": {},
   "source": [
    "Pandas' eager evaluation in the wrong order: Sort then filter. "
   ]
  },
  {
   "cell_type": "markdown",
   "id": "12306de6",
   "metadata": {},
   "source": [
    "%timeit -n 2 -r 2 letter1_pandas.sort_values().loc[lambda x: x.isin(['a','b','c'])]\n",
    "```\n",
    "\n",
    "\n",
    "Pandas eager evaluation in the right order: Filter then sort. "
   ]
  },
  {
   "cell_type": "code",
   "execution_count": 12,
   "id": "6b0a5cfc",
   "metadata": {},
   "outputs": [
    {
     "name": "stdout",
     "output_type": "stream",
     "text": [
      "771 ms ± 18.6 ms per loop (mean ± std. dev. of 7 runs, 2 loops each)\n"
     ]
    }
   ],
   "source": [
    "%timeit -n 2 letter1_pandas.loc[lambda x: x.isin(['a','b','c'])].sort_values()"
   ]
  },
  {
   "cell_type": "markdown",
   "id": "4563ed09",
   "metadata": {},
   "source": [
    "Pandas alternative syntax, just as slow. "
   ]
  },
  {
   "cell_type": "code",
   "execution_count": 13,
   "id": "a25dddbe",
   "metadata": {},
   "outputs": [
    {
     "name": "stdout",
     "output_type": "stream",
     "text": [
      "814 ms ± 35.3 ms per loop (mean ± std. dev. of 2 runs, 2 loops each)\n"
     ]
    }
   ],
   "source": [
    "%timeit -n 2 -r 2 letter1_pandas.loc[letter1_pandas.isin(['a','b','c'])].sort_values()"
   ]
  },
  {
   "cell_type": "markdown",
   "id": "4d4b60a3",
   "metadata": {},
   "source": [
    "Things to note:\n",
    "\n",
    "1. Query planning works!\n",
    "1. Polars faster than Pandas even in eager evaluation (without query planning).\n",
    "\n",
    "\n",
    "\n",
    "## Parallelism\n",
    "\n",
    "Polars seamlessly parallelizes over columns (also within, when possible).\n",
    "As the number of columns in the data grows, we would expect fixed runtime until all cores are used, and then linear scaling.\n",
    "The following code demonstrates this idea, using a simple sum-within-column.\n"
   ]
  },
  {
   "cell_type": "code",
   "execution_count": 14,
   "id": "3cca6b00",
   "metadata": {},
   "outputs": [],
   "source": [
    "import time\n",
    "\n",
    "def scaling_of_sums(n_rows, n_cols):\n",
    "  # n_cols = 2\n",
    "  # n_rows = int(1e6)\n",
    "  A = {}\n",
    "  A_numpy = np.random.randn(n_rows,n_cols)\n",
    "  A['numpy'] = A_numpy.copy()\n",
    "  A['polars'] = pl.DataFrame(A_numpy)\n",
    "  A['pandas'] = pd.DataFrame(A_numpy)\n",
    "\n",
    "  times = {}\n",
    "  for key,value in A.items():\n",
    "    start = time.time()\n",
    "    value.sum()\n",
    "    end = time.time()\n",
    "    times[key] = end-start\n",
    "\n",
    "  return(times)"
   ]
  },
  {
   "cell_type": "code",
   "execution_count": 15,
   "id": "16ff4196",
   "metadata": {},
   "outputs": [],
   "source": [
    "scaling_of_time = {\n",
    "  p:scaling_of_sums(n_rows= int(1e6),n_cols = p) for p in np.arange(1,16)}"
   ]
  },
  {
   "cell_type": "code",
   "execution_count": 16,
   "id": "dd718532",
   "metadata": {},
   "outputs": [
    {
     "data": {
      "text/html": [
       "        <script type=\"text/javascript\">\n",
       "        window.PlotlyConfig = {MathJaxConfig: 'local'};\n",
       "        if (window.MathJax && window.MathJax.Hub && window.MathJax.Hub.Config) {window.MathJax.Hub.Config({SVG: {font: \"STIX-Web\"}});}\n",
       "        if (typeof require !== 'undefined') {\n",
       "        require.undef(\"plotly\");\n",
       "        requirejs.config({\n",
       "            paths: {\n",
       "                'plotly': ['https://cdn.plot.ly/plotly-2.17.1.min']\n",
       "            }\n",
       "        });\n",
       "        require(['plotly'], function(Plotly) {\n",
       "            window._Plotly = Plotly;\n",
       "        });\n",
       "        }\n",
       "        </script>\n",
       "        "
      ]
     },
     "metadata": {},
     "output_type": "display_data"
    },
    {
     "data": {
      "text/html": [
       "<div>                            <div id=\"b332a31b-2708-4f8f-b8fc-a61204703403\" class=\"plotly-graph-div\" style=\"height:525px; width:100%;\"></div>            <script type=\"text/javascript\">                require([\"plotly\"], function(Plotly) {                    window.PLOTLYENV=window.PLOTLYENV || {};                                    if (document.getElementById(\"b332a31b-2708-4f8f-b8fc-a61204703403\")) {                    Plotly.newPlot(                        \"b332a31b-2708-4f8f-b8fc-a61204703403\",                        [{\"hovertemplate\":\"variable=numpy<br>Number of Columns=%{x}<br>Runtime=%{y}<extra></extra>\",\"legendgroup\":\"numpy\",\"line\":{\"color\":\"#636efa\",\"dash\":\"solid\"},\"marker\":{\"symbol\":\"circle\"},\"mode\":\"lines\",\"name\":\"numpy\",\"orientation\":\"v\",\"showlegend\":true,\"x\":[1,2,3,4,5,6,7,8,9,10,11,12,13,14,15],\"xaxis\":\"x\",\"y\":[0.0006237030029296875,0.0011012554168701172,0.0014824867248535156,0.0019943714141845703,0.002911090850830078,0.004269599914550781,0.0052928924560546875,0.004271507263183594,0.005663633346557617,0.0060350894927978516,0.008040666580200195,0.00841665267944336,0.00917816162109375,0.008280515670776367,0.009933710098266602],\"yaxis\":\"y\",\"type\":\"scatter\"},{\"hovertemplate\":\"variable=polars<br>Number of Columns=%{x}<br>Runtime=%{y}<extra></extra>\",\"legendgroup\":\"polars\",\"line\":{\"color\":\"#EF553B\",\"dash\":\"solid\"},\"marker\":{\"symbol\":\"circle\"},\"mode\":\"lines\",\"name\":\"polars\",\"orientation\":\"v\",\"showlegend\":true,\"x\":[1,2,3,4,5,6,7,8,9,10,11,12,13,14,15],\"xaxis\":\"x\",\"y\":[0.0006608963012695312,0.0009572505950927734,0.0011601448059082031,0.0013704299926757812,0.0018684864044189453,0.002424001693725586,0.0027036666870117188,0.002741575241088867,0.0034279823303222656,0.003668546676635742,0.0041086673736572266,0.004563093185424805,0.005012035369873047,0.005663633346557617,0.00527501106262207],\"yaxis\":\"y\",\"type\":\"scatter\"},{\"hovertemplate\":\"variable=pandas<br>Number of Columns=%{x}<br>Runtime=%{y}<extra></extra>\",\"legendgroup\":\"pandas\",\"line\":{\"color\":\"#00cc96\",\"dash\":\"solid\"},\"marker\":{\"symbol\":\"circle\"},\"mode\":\"lines\",\"name\":\"pandas\",\"orientation\":\"v\",\"showlegend\":true,\"x\":[1,2,3,4,5,6,7,8,9,10,11,12,13,14,15],\"xaxis\":\"x\",\"y\":[0.0043392181396484375,0.03877878189086914,0.0446012020111084,0.041783809661865234,0.05655336380004883,0.06229424476623535,0.05997824668884277,0.060915470123291016,0.06517672538757324,0.07246923446655273,0.08344244956970215,0.07593441009521484,0.08331799507141113,0.08279132843017578,0.08530473709106445],\"yaxis\":\"y\",\"type\":\"scatter\"}],                        {\"template\":{\"data\":{\"histogram2dcontour\":[{\"type\":\"histogram2dcontour\",\"colorbar\":{\"outlinewidth\":0,\"ticks\":\"\"},\"colorscale\":[[0.0,\"#0d0887\"],[0.1111111111111111,\"#46039f\"],[0.2222222222222222,\"#7201a8\"],[0.3333333333333333,\"#9c179e\"],[0.4444444444444444,\"#bd3786\"],[0.5555555555555556,\"#d8576b\"],[0.6666666666666666,\"#ed7953\"],[0.7777777777777778,\"#fb9f3a\"],[0.8888888888888888,\"#fdca26\"],[1.0,\"#f0f921\"]]}],\"choropleth\":[{\"type\":\"choropleth\",\"colorbar\":{\"outlinewidth\":0,\"ticks\":\"\"}}],\"histogram2d\":[{\"type\":\"histogram2d\",\"colorbar\":{\"outlinewidth\":0,\"ticks\":\"\"},\"colorscale\":[[0.0,\"#0d0887\"],[0.1111111111111111,\"#46039f\"],[0.2222222222222222,\"#7201a8\"],[0.3333333333333333,\"#9c179e\"],[0.4444444444444444,\"#bd3786\"],[0.5555555555555556,\"#d8576b\"],[0.6666666666666666,\"#ed7953\"],[0.7777777777777778,\"#fb9f3a\"],[0.8888888888888888,\"#fdca26\"],[1.0,\"#f0f921\"]]}],\"heatmap\":[{\"type\":\"heatmap\",\"colorbar\":{\"outlinewidth\":0,\"ticks\":\"\"},\"colorscale\":[[0.0,\"#0d0887\"],[0.1111111111111111,\"#46039f\"],[0.2222222222222222,\"#7201a8\"],[0.3333333333333333,\"#9c179e\"],[0.4444444444444444,\"#bd3786\"],[0.5555555555555556,\"#d8576b\"],[0.6666666666666666,\"#ed7953\"],[0.7777777777777778,\"#fb9f3a\"],[0.8888888888888888,\"#fdca26\"],[1.0,\"#f0f921\"]]}],\"heatmapgl\":[{\"type\":\"heatmapgl\",\"colorbar\":{\"outlinewidth\":0,\"ticks\":\"\"},\"colorscale\":[[0.0,\"#0d0887\"],[0.1111111111111111,\"#46039f\"],[0.2222222222222222,\"#7201a8\"],[0.3333333333333333,\"#9c179e\"],[0.4444444444444444,\"#bd3786\"],[0.5555555555555556,\"#d8576b\"],[0.6666666666666666,\"#ed7953\"],[0.7777777777777778,\"#fb9f3a\"],[0.8888888888888888,\"#fdca26\"],[1.0,\"#f0f921\"]]}],\"contourcarpet\":[{\"type\":\"contourcarpet\",\"colorbar\":{\"outlinewidth\":0,\"ticks\":\"\"}}],\"contour\":[{\"type\":\"contour\",\"colorbar\":{\"outlinewidth\":0,\"ticks\":\"\"},\"colorscale\":[[0.0,\"#0d0887\"],[0.1111111111111111,\"#46039f\"],[0.2222222222222222,\"#7201a8\"],[0.3333333333333333,\"#9c179e\"],[0.4444444444444444,\"#bd3786\"],[0.5555555555555556,\"#d8576b\"],[0.6666666666666666,\"#ed7953\"],[0.7777777777777778,\"#fb9f3a\"],[0.8888888888888888,\"#fdca26\"],[1.0,\"#f0f921\"]]}],\"surface\":[{\"type\":\"surface\",\"colorbar\":{\"outlinewidth\":0,\"ticks\":\"\"},\"colorscale\":[[0.0,\"#0d0887\"],[0.1111111111111111,\"#46039f\"],[0.2222222222222222,\"#7201a8\"],[0.3333333333333333,\"#9c179e\"],[0.4444444444444444,\"#bd3786\"],[0.5555555555555556,\"#d8576b\"],[0.6666666666666666,\"#ed7953\"],[0.7777777777777778,\"#fb9f3a\"],[0.8888888888888888,\"#fdca26\"],[1.0,\"#f0f921\"]]}],\"mesh3d\":[{\"type\":\"mesh3d\",\"colorbar\":{\"outlinewidth\":0,\"ticks\":\"\"}}],\"scatter\":[{\"fillpattern\":{\"fillmode\":\"overlay\",\"size\":10,\"solidity\":0.2},\"type\":\"scatter\"}],\"parcoords\":[{\"type\":\"parcoords\",\"line\":{\"colorbar\":{\"outlinewidth\":0,\"ticks\":\"\"}}}],\"scatterpolargl\":[{\"type\":\"scatterpolargl\",\"marker\":{\"colorbar\":{\"outlinewidth\":0,\"ticks\":\"\"}}}],\"bar\":[{\"error_x\":{\"color\":\"#2a3f5f\"},\"error_y\":{\"color\":\"#2a3f5f\"},\"marker\":{\"line\":{\"color\":\"#E5ECF6\",\"width\":0.5},\"pattern\":{\"fillmode\":\"overlay\",\"size\":10,\"solidity\":0.2}},\"type\":\"bar\"}],\"scattergeo\":[{\"type\":\"scattergeo\",\"marker\":{\"colorbar\":{\"outlinewidth\":0,\"ticks\":\"\"}}}],\"scatterpolar\":[{\"type\":\"scatterpolar\",\"marker\":{\"colorbar\":{\"outlinewidth\":0,\"ticks\":\"\"}}}],\"histogram\":[{\"marker\":{\"pattern\":{\"fillmode\":\"overlay\",\"size\":10,\"solidity\":0.2}},\"type\":\"histogram\"}],\"scattergl\":[{\"type\":\"scattergl\",\"marker\":{\"colorbar\":{\"outlinewidth\":0,\"ticks\":\"\"}}}],\"scatter3d\":[{\"type\":\"scatter3d\",\"line\":{\"colorbar\":{\"outlinewidth\":0,\"ticks\":\"\"}},\"marker\":{\"colorbar\":{\"outlinewidth\":0,\"ticks\":\"\"}}}],\"scattermapbox\":[{\"type\":\"scattermapbox\",\"marker\":{\"colorbar\":{\"outlinewidth\":0,\"ticks\":\"\"}}}],\"scatterternary\":[{\"type\":\"scatterternary\",\"marker\":{\"colorbar\":{\"outlinewidth\":0,\"ticks\":\"\"}}}],\"scattercarpet\":[{\"type\":\"scattercarpet\",\"marker\":{\"colorbar\":{\"outlinewidth\":0,\"ticks\":\"\"}}}],\"carpet\":[{\"aaxis\":{\"endlinecolor\":\"#2a3f5f\",\"gridcolor\":\"white\",\"linecolor\":\"white\",\"minorgridcolor\":\"white\",\"startlinecolor\":\"#2a3f5f\"},\"baxis\":{\"endlinecolor\":\"#2a3f5f\",\"gridcolor\":\"white\",\"linecolor\":\"white\",\"minorgridcolor\":\"white\",\"startlinecolor\":\"#2a3f5f\"},\"type\":\"carpet\"}],\"table\":[{\"cells\":{\"fill\":{\"color\":\"#EBF0F8\"},\"line\":{\"color\":\"white\"}},\"header\":{\"fill\":{\"color\":\"#C8D4E3\"},\"line\":{\"color\":\"white\"}},\"type\":\"table\"}],\"barpolar\":[{\"marker\":{\"line\":{\"color\":\"#E5ECF6\",\"width\":0.5},\"pattern\":{\"fillmode\":\"overlay\",\"size\":10,\"solidity\":0.2}},\"type\":\"barpolar\"}],\"pie\":[{\"automargin\":true,\"type\":\"pie\"}]},\"layout\":{\"autotypenumbers\":\"strict\",\"colorway\":[\"#636efa\",\"#EF553B\",\"#00cc96\",\"#ab63fa\",\"#FFA15A\",\"#19d3f3\",\"#FF6692\",\"#B6E880\",\"#FF97FF\",\"#FECB52\"],\"font\":{\"color\":\"#2a3f5f\"},\"hovermode\":\"closest\",\"hoverlabel\":{\"align\":\"left\"},\"paper_bgcolor\":\"white\",\"plot_bgcolor\":\"#E5ECF6\",\"polar\":{\"bgcolor\":\"#E5ECF6\",\"angularaxis\":{\"gridcolor\":\"white\",\"linecolor\":\"white\",\"ticks\":\"\"},\"radialaxis\":{\"gridcolor\":\"white\",\"linecolor\":\"white\",\"ticks\":\"\"}},\"ternary\":{\"bgcolor\":\"#E5ECF6\",\"aaxis\":{\"gridcolor\":\"white\",\"linecolor\":\"white\",\"ticks\":\"\"},\"baxis\":{\"gridcolor\":\"white\",\"linecolor\":\"white\",\"ticks\":\"\"},\"caxis\":{\"gridcolor\":\"white\",\"linecolor\":\"white\",\"ticks\":\"\"}},\"coloraxis\":{\"colorbar\":{\"outlinewidth\":0,\"ticks\":\"\"}},\"colorscale\":{\"sequential\":[[0.0,\"#0d0887\"],[0.1111111111111111,\"#46039f\"],[0.2222222222222222,\"#7201a8\"],[0.3333333333333333,\"#9c179e\"],[0.4444444444444444,\"#bd3786\"],[0.5555555555555556,\"#d8576b\"],[0.6666666666666666,\"#ed7953\"],[0.7777777777777778,\"#fb9f3a\"],[0.8888888888888888,\"#fdca26\"],[1.0,\"#f0f921\"]],\"sequentialminus\":[[0.0,\"#0d0887\"],[0.1111111111111111,\"#46039f\"],[0.2222222222222222,\"#7201a8\"],[0.3333333333333333,\"#9c179e\"],[0.4444444444444444,\"#bd3786\"],[0.5555555555555556,\"#d8576b\"],[0.6666666666666666,\"#ed7953\"],[0.7777777777777778,\"#fb9f3a\"],[0.8888888888888888,\"#fdca26\"],[1.0,\"#f0f921\"]],\"diverging\":[[0,\"#8e0152\"],[0.1,\"#c51b7d\"],[0.2,\"#de77ae\"],[0.3,\"#f1b6da\"],[0.4,\"#fde0ef\"],[0.5,\"#f7f7f7\"],[0.6,\"#e6f5d0\"],[0.7,\"#b8e186\"],[0.8,\"#7fbc41\"],[0.9,\"#4d9221\"],[1,\"#276419\"]]},\"xaxis\":{\"gridcolor\":\"white\",\"linecolor\":\"white\",\"ticks\":\"\",\"title\":{\"standoff\":15},\"zerolinecolor\":\"white\",\"automargin\":true,\"zerolinewidth\":2},\"yaxis\":{\"gridcolor\":\"white\",\"linecolor\":\"white\",\"ticks\":\"\",\"title\":{\"standoff\":15},\"zerolinecolor\":\"white\",\"automargin\":true,\"zerolinewidth\":2},\"scene\":{\"xaxis\":{\"backgroundcolor\":\"#E5ECF6\",\"gridcolor\":\"white\",\"linecolor\":\"white\",\"showbackground\":true,\"ticks\":\"\",\"zerolinecolor\":\"white\",\"gridwidth\":2},\"yaxis\":{\"backgroundcolor\":\"#E5ECF6\",\"gridcolor\":\"white\",\"linecolor\":\"white\",\"showbackground\":true,\"ticks\":\"\",\"zerolinecolor\":\"white\",\"gridwidth\":2},\"zaxis\":{\"backgroundcolor\":\"#E5ECF6\",\"gridcolor\":\"white\",\"linecolor\":\"white\",\"showbackground\":true,\"ticks\":\"\",\"zerolinecolor\":\"white\",\"gridwidth\":2}},\"shapedefaults\":{\"line\":{\"color\":\"#2a3f5f\"}},\"annotationdefaults\":{\"arrowcolor\":\"#2a3f5f\",\"arrowhead\":0,\"arrowwidth\":1},\"geo\":{\"bgcolor\":\"white\",\"landcolor\":\"#E5ECF6\",\"subunitcolor\":\"white\",\"showland\":true,\"showlakes\":true,\"lakecolor\":\"white\"},\"title\":{\"x\":0.05},\"mapbox\":{\"style\":\"light\"}}},\"xaxis\":{\"anchor\":\"y\",\"domain\":[0.0,1.0],\"title\":{\"text\":\"Number of Columns\"}},\"yaxis\":{\"anchor\":\"x\",\"domain\":[0.0,1.0],\"title\":{\"text\":\"Runtime\"}},\"legend\":{\"title\":{\"text\":\"variable\"},\"tracegroupgap\":0},\"margin\":{\"t\":60}},                        {\"responsive\": true}                    ).then(function(){\n",
       "                            \n",
       "var gd = document.getElementById('b332a31b-2708-4f8f-b8fc-a61204703403');\n",
       "var x = new MutationObserver(function (mutations, observer) {{\n",
       "        var display = window.getComputedStyle(gd).display;\n",
       "        if (!display || display === 'none') {{\n",
       "            console.log([gd, 'removed!']);\n",
       "            Plotly.purge(gd);\n",
       "            observer.disconnect();\n",
       "        }}\n",
       "}});\n",
       "\n",
       "// Listen for the removal of the full notebook cells\n",
       "var notebookContainer = gd.closest('#notebook-container');\n",
       "if (notebookContainer) {{\n",
       "    x.observe(notebookContainer, {childList: true});\n",
       "}}\n",
       "\n",
       "// Listen for the clearing of the current output cell\n",
       "var outputEl = gd.closest('.output');\n",
       "if (outputEl) {{\n",
       "    x.observe(outputEl, {childList: true});\n",
       "}}\n",
       "\n",
       "                        })                };                });            </script>        </div>"
      ]
     },
     "metadata": {},
     "output_type": "display_data"
    }
   ],
   "source": [
    "data = pd.DataFrame(scaling_of_time).T\n",
    "px.line(\n",
    "  data, \n",
    "  labels=dict(\n",
    "    index=\"Number of Columns\", \n",
    "    value=\"Runtime\")\n",
    ")"
   ]
  },
  {
   "cell_type": "markdown",
   "id": "42cd4172",
   "metadata": {},
   "source": [
    "Things to note:\n",
    "\n",
    "- Pandas is slow. \n",
    "- Numpy is quite efficient.\n",
    "- My machine has 8 cores. I would thus expect a fixed timing until 8 columns, and then linear scaling. This is not the case. I wonder why?\n",
    "\n",
    "\n",
    "## Speed Of Import\n",
    "\n",
    "Polar's `read_x` functions are quite faster than Pandas. \n",
    "This is due to better type \"guessing\" heuristics, and to native support of the parquet file format. \n",
    "\n",
    "We now make synthetic data, save it as csv or parquet, and reimport it with polars and pandas.\n",
    "\n",
    "Starting with CSV:"
   ]
  },
  {
   "cell_type": "code",
   "execution_count": 17,
   "id": "6d402f96",
   "metadata": {},
   "outputs": [],
   "source": [
    "n_rows = int(1e5)\n",
    "n_cols = 10\n",
    "data = np.random.randn(n_rows,n_cols)\n",
    "data.tofile('data.csv', sep = ',')"
   ]
  },
  {
   "cell_type": "markdown",
   "id": "f4b1389c",
   "metadata": {},
   "source": [
    "Import with pandas. "
   ]
  },
  {
   "cell_type": "code",
   "execution_count": 18,
   "id": "8e215a1a",
   "metadata": {},
   "outputs": [
    {
     "name": "stdout",
     "output_type": "stream",
     "text": [
      "20.8 s ± 259 ms per loop (mean ± std. dev. of 2 runs, 2 loops each)\n"
     ]
    }
   ],
   "source": [
    "%timeit -n2 -r2 data_pandas = pd.read_csv('data.csv', header = None)"
   ]
  },
  {
   "cell_type": "markdown",
   "id": "60ae971d",
   "metadata": {},
   "source": [
    "Import with polars. "
   ]
  },
  {
   "cell_type": "code",
   "execution_count": 19,
   "id": "ed145a0d",
   "metadata": {},
   "outputs": [
    {
     "name": "stdout",
     "output_type": "stream",
     "text": [
      "3.19 s ± 303 ms per loop (mean ± std. dev. of 2 runs, 2 loops each)\n"
     ]
    }
   ],
   "source": [
    "%timeit -n2 -r2 data_polars = pl.read_csv('data.csv', has_header = False)"
   ]
  },
  {
   "cell_type": "markdown",
   "id": "0999f0ce",
   "metadata": {},
   "source": [
    "Moving to parquet:\n"
   ]
  },
  {
   "cell_type": "code",
   "execution_count": 20,
   "id": "cada4ac8",
   "metadata": {},
   "outputs": [],
   "source": [
    "data_pandas = pd.DataFrame(data)\n",
    "data_pandas.columns = data_pandas.columns.astype(str)\n",
    "data_pandas.to_parquet('data.parquet', index = False)"
   ]
  },
  {
   "cell_type": "code",
   "execution_count": 21,
   "id": "012f8740",
   "metadata": {},
   "outputs": [
    {
     "name": "stdout",
     "output_type": "stream",
     "text": [
      "22.9 ms ± 10.8 ms per loop (mean ± std. dev. of 2 runs, 2 loops each)\n"
     ]
    }
   ],
   "source": [
    "%timeit -n2 -r2 data_pandas = pd.read_parquet('data.parquet')"
   ]
  },
  {
   "cell_type": "code",
   "execution_count": 22,
   "id": "abd1b749",
   "metadata": {},
   "outputs": [
    {
     "name": "stdout",
     "output_type": "stream",
     "text": [
      "13 ms ± 3.91 ms per loop (mean ± std. dev. of 2 runs, 2 loops each)\n"
     ]
    }
   ],
   "source": [
    "%timeit -n2 -r2 data_polars = pl.read_parquet('data.parquet')"
   ]
  },
  {
   "cell_type": "markdown",
   "id": "9d1c4f5a",
   "metadata": {},
   "source": [
    "Things to note:\n",
    "\n",
    "- The difference in speed is quite large.\n",
    "- I dare argue that polars' type guessing is better, but I am not demonstrating it here. \n",
    "- Bonus fact: parquet is much faster than csv, and also saves the frame's schema.\n",
    "\n",
    "\n",
    "\n",
    "## Speed Of Join\n",
    "\n",
    "Because pandas is built on numpy, people see it as both an in-memory database, and a matrix/array library.\n",
    "With polars, it is quite clear it is an in-memory database, and not an array processing library.\n",
    "As such, you cannot multiply two polars dataframes, but you can certainly join then efficiently.\n",
    "\n",
    "Make some data:"
   ]
  },
  {
   "cell_type": "code",
   "execution_count": 23,
   "id": "5fbfc2a0",
   "metadata": {},
   "outputs": [],
   "source": [
    "def make_data(n_rows, n_cols):\n",
    "  data = np.concatenate(\n",
    "  (\n",
    "    np.arange(n_rows)[:,np.newaxis], # index\n",
    "    np.random.randn(n_rows,n_cols), # values\n",
    "    ),\n",
    "    axis=1)\n",
    "    \n",
    "  return data\n",
    "\n",
    "\n",
    "n_rows = int(1e6)\n",
    "n_cols = 10\n",
    "data_left = make_data(n_rows, n_cols)\n",
    "data_right = make_data(n_rows, n_cols)"
   ]
  },
  {
   "cell_type": "markdown",
   "id": "42272aaa",
   "metadata": {},
   "source": [
    "Polars join:"
   ]
  },
  {
   "cell_type": "code",
   "execution_count": 24,
   "id": "823d90bb",
   "metadata": {},
   "outputs": [
    {
     "name": "stdout",
     "output_type": "stream",
     "text": [
      "301 ms ± 61.1 ms per loop (mean ± std. dev. of 2 runs, 2 loops each)\n"
     ]
    }
   ],
   "source": [
    "data_left_polars = pl.DataFrame(data_left)\n",
    "data_right_polars = pl.DataFrame(data_right)\n",
    "\n",
    "%timeit -n2 -r2 polars_joined = data_left_polars.join(data_right_polars, on = 'column_0', how = 'inner')"
   ]
  },
  {
   "cell_type": "markdown",
   "id": "58ea62e4",
   "metadata": {},
   "source": [
    "Pandas join:"
   ]
  },
  {
   "cell_type": "code",
   "execution_count": 25,
   "id": "5c0dc060",
   "metadata": {},
   "outputs": [
    {
     "name": "stdout",
     "output_type": "stream",
     "text": [
      "700 ms ± 66.9 ms per loop (mean ± std. dev. of 2 runs, 2 loops each)\n"
     ]
    }
   ],
   "source": [
    "data_left_pandas = pd.DataFrame(data_left)\n",
    "data_right_pandas = pd.DataFrame(data_right)\n",
    "\n",
    "%timeit -n2 -r2 pandas_joined = data_left_pandas.merge(data_right_pandas, on = 0, how = 'inner')"
   ]
  }
 ],
 "metadata": {
  "kernelspec": {
   "display_name": "Python 3 (ipykernel)",
   "language": "python",
   "name": "python3"
  },
  "language_info": {
   "codemirror_mode": {
    "name": "ipython",
    "version": 3
   },
   "file_extension": ".py",
   "mimetype": "text/x-python",
   "name": "python",
   "nbconvert_exporter": "python",
   "pygments_lexer": "ipython3",
   "version": "3.10.6"
  }
 },
 "nbformat": 4,
 "nbformat_minor": 5
}

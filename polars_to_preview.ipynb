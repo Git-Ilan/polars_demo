{
 "cells": [
  {
   "cell_type": "raw",
   "id": "da8d5d0d",
   "metadata": {},
   "source": [
    "---\n",
    "title: Intro 2 Polars\n",
    "execute:\n",
    "  warning: true\n",
    "  error: true\n",
    "  keep-ipynb: true\n",
    "  cache: true\n",
    "html:\n",
    "  code-tools: true\n",
    "  fold-code: false\n",
    "  author: Jonathan D. Rosenblatt\n",
    "  data: 02-01-2023\n",
    "  toc: true\n",
    "  number-sections: true\n",
    "  embed-resources: true\n",
    "---"
   ]
  },
  {
   "cell_type": "code",
   "execution_count": 1,
   "id": "dc522a87",
   "metadata": {},
   "outputs": [],
   "source": [
    "import polars as pl\n",
    "import pandas as pd\n",
    "import numpy as np\n",
    "import pyarrow as pa\n",
    "import plotly.express as px\n",
    "import string\n",
    "import random\n",
    "import os\n",
    "import sys\n",
    "%matplotlib inline \n",
    "import matplotlib.pyplot as plt\n",
    "from datetime import datetime\n",
    "\n",
    "# Following two lines only required to view plotly when rendering from VScode. \n",
    "import plotly.io as pio\n",
    "pio.renderers.default = \"plotly_mimetype+notebook_connected\""
   ]
  },
  {
   "cell_type": "markdown",
   "id": "bea3154c",
   "metadata": {},
   "source": [
    "# Motivation\n",
    "Each of the following, alone(!), is amazing.\n",
    "\n",
    "1. Small memory footpring\n",
    "    - Native dtypes: missing, strings.\n",
    "    - Arrow format in memory.\n",
    "1. Lazy evaluation allows query Planning.\n",
    "1. Out of the box parallelism: Fast and informative mesages for debugging.\n",
    "1. Strict typing: This means the dtype of output is defined by the operation and not bu the input. This is both safers, and allows static analysis.\n",
    "\n",
    "\n",
    "\n",
    "## Memory Footprint\n",
    "\n",
    "\n",
    "### Memory Footprint of Storage\n",
    "\n",
    "Polars vs. Pandas:"
   ]
  },
  {
   "cell_type": "code",
   "execution_count": 2,
   "id": "91392fd3",
   "metadata": {},
   "outputs": [
    {
     "data": {
      "text/plain": [
       "0.08381903916597366"
      ]
     },
     "execution_count": 2,
     "metadata": {},
     "output_type": "execute_result"
    }
   ],
   "source": [
    "letters = pl.Series(list(string.ascii_letters))\n",
    "\n",
    "n = int(10e6)\n",
    "letter1 = letters.sample(n,with_replacement=True)\n",
    "letter1.estimated_size(unit='gb')"
   ]
  },
  {
   "cell_type": "code",
   "execution_count": 3,
   "id": "3036b98c",
   "metadata": {},
   "outputs": [
    {
     "data": {
      "text/plain": [
       "0.58"
      ]
     },
     "execution_count": 3,
     "metadata": {},
     "output_type": "execute_result"
    }
   ],
   "source": [
    "letter1_pandas = letter1.to_pandas() \n",
    "letter1_pandas.memory_usage(deep=True, index=False) / 1e9"
   ]
  },
  {
   "cell_type": "markdown",
   "id": "02adaa01",
   "metadata": {},
   "source": [
    "The memory footprint of the polars Series is 1/7 of the pandas Series(!).\n",
    "But I did cheat- I used string type data to emphasize the difference. The difference would have been smaller if I had used integers or floats. \n",
    "\n",
    "\n",
    "\n",
    "\n",
    "### Memory Footprint of Compute\n",
    "\n",
    "You are probably storing your data to compute with it.\n",
    "Let's compare the memory footprint of computations. \n"
   ]
  },
  {
   "cell_type": "code",
   "execution_count": 4,
   "id": "321d1a11",
   "metadata": {},
   "outputs": [],
   "source": [
    "%load_ext memory_profiler"
   ]
  },
  {
   "cell_type": "code",
   "execution_count": 5,
   "id": "89bedd76",
   "metadata": {},
   "outputs": [
    {
     "name": "stdout",
     "output_type": "stream",
     "text": [
      "peak memory: 549.16 MiB, increment: 220.83 MiB\n"
     ]
    }
   ],
   "source": [
    "%memit letter1.sort()"
   ]
  },
  {
   "cell_type": "code",
   "execution_count": 6,
   "id": "c368744c",
   "metadata": {},
   "outputs": [
    {
     "name": "stdout",
     "output_type": "stream",
     "text": [
      "peak memory: 706.88 MiB, increment: 377.87 MiB\n"
     ]
    }
   ],
   "source": [
    "%memit letter1_pandas.sort_values()"
   ]
  },
  {
   "cell_type": "code",
   "execution_count": 7,
   "id": "e09ed9d3",
   "metadata": {},
   "outputs": [
    {
     "name": "stdout",
     "output_type": "stream",
     "text": [
      "peak memory: 473.57 MiB, increment: 58.32 MiB\n"
     ]
    }
   ],
   "source": [
    "%memit letter1[10]='a'"
   ]
  },
  {
   "cell_type": "code",
   "execution_count": 8,
   "id": "8b869ad3",
   "metadata": {},
   "outputs": [
    {
     "name": "stdout",
     "output_type": "stream",
     "text": [
      "peak memory: 416.02 MiB, increment: 0.01 MiB\n"
     ]
    }
   ],
   "source": [
    "%memit letter1_pandas[10]='a'"
   ]
  },
  {
   "cell_type": "markdown",
   "id": "3b6cee67",
   "metadata": {},
   "source": [
    "Things to notice:\n",
    "\n",
    "- Operating on existing data consumes less memory in polars than in pandas.\n",
    "- Changing the data consumes more memory in polars than in pandas. I suspect this has to do with the fact that the arrow memory schema used by polars [is optimized](https://pola-rs.github.io/polars-book/user-guide/performance/strings.html). Changing the data, may thus require re-allocation and optimization. \n",
    "\n",
    "\n",
    "### Operating From Disk to Disk\n",
    "\n",
    "What if my data does not fit into RAM?\n",
    "Turns out you can read from disk, process in RAM, and write to disk. This allows you to process data larger than your memory. \n",
    "\n",
    "TODO: demonstrate sink_parquet from [here](https://www.rhosignal.com/posts/sink-parquet-files/).\n",
    "\n",
    "\n",
    "\n",
    "\n",
    "\n",
    "## Query Planning\n",
    "\n",
    "Consider a sort opperation that follows a filter operation. \n",
    "Ideally, filter precededs the sort, but we did not ensure this...\n",
    "We now demonstarte that polars' query planner will do it for you. \n",
    "En passant, we see polars is more efficient also without the query planner. \n",
    "\n",
    "\n",
    "Polars' Eager evaluation, without query planning. \n",
    "Sort then filter. "
   ]
  },
  {
   "cell_type": "code",
   "execution_count": 9,
   "id": "950378ff",
   "metadata": {},
   "outputs": [
    {
     "name": "stdout",
     "output_type": "stream",
     "text": [
      "720 ms ± 74.8 ms per loop (mean ± std. dev. of 2 runs, 2 loops each)\n"
     ]
    }
   ],
   "source": [
    "%timeit -n 2 -r 2 letter1.sort().filter(letter1.is_in(['a','b','c']))"
   ]
  },
  {
   "cell_type": "markdown",
   "id": "04064abb",
   "metadata": {},
   "source": [
    "Polars' Eager evaluation, without query planning. \n",
    "Filter then sort. "
   ]
  },
  {
   "cell_type": "code",
   "execution_count": 10,
   "id": "691fe531",
   "metadata": {},
   "outputs": [
    {
     "name": "stdout",
     "output_type": "stream",
     "text": [
      "214 ms ± 2.15 ms per loop (mean ± std. dev. of 2 runs, 2 loops each)\n"
     ]
    }
   ],
   "source": [
    "%timeit -n 2 -r 2 letter1.filter(letter1.is_in(['a','b','c'])).sort()"
   ]
  },
  {
   "cell_type": "markdown",
   "id": "e1f4be0f",
   "metadata": {},
   "source": [
    "Polars' Lazy evaluation with query planning. \n",
    "Recieves sort then filter; executes filter then sort. "
   ]
  },
  {
   "cell_type": "code",
   "execution_count": 11,
   "id": "2a1ee4c4",
   "metadata": {},
   "outputs": [
    {
     "name": "stdout",
     "output_type": "stream",
     "text": [
      "212 ms ± 25 ms per loop (mean ± std. dev. of 2 runs, 2 loops each)\n"
     ]
    }
   ],
   "source": [
    "%timeit -n 2 -r 2 letter1.alias('letters').to_frame().lazy().sort(by='letters').filter(pl.col('letters').is_in(['a','b','c'])).collect()"
   ]
  },
  {
   "cell_type": "markdown",
   "id": "b305d961",
   "metadata": {},
   "source": [
    "Pandas' eager evaluation in the wrong order: Sort then filter. "
   ]
  },
  {
   "cell_type": "markdown",
   "id": "07e639e0",
   "metadata": {},
   "source": [
    "%timeit -n 2 -r 2 letter1_pandas.sort_values().loc[lambda x: x.isin(['a','b','c'])]\n",
    "```\n",
    "\n",
    "\n",
    "Pandas eager evaluation in the right order: Filter then sort. "
   ]
  },
  {
   "cell_type": "code",
   "execution_count": 12,
   "id": "4ba5614c",
   "metadata": {},
   "outputs": [
    {
     "name": "stdout",
     "output_type": "stream",
     "text": [
      "699 ms ± 23.8 ms per loop (mean ± std. dev. of 7 runs, 2 loops each)\n"
     ]
    }
   ],
   "source": [
    "%timeit -n 2 letter1_pandas.loc[lambda x: x.isin(['a','b','c'])].sort_values()"
   ]
  },
  {
   "cell_type": "markdown",
   "id": "de2a4714",
   "metadata": {},
   "source": [
    "Pandas alternative syntax, just as slow. "
   ]
  },
  {
   "cell_type": "code",
   "execution_count": 13,
   "id": "3b468be9",
   "metadata": {},
   "outputs": [
    {
     "name": "stdout",
     "output_type": "stream",
     "text": [
      "690 ms ± 3.35 ms per loop (mean ± std. dev. of 2 runs, 2 loops each)\n"
     ]
    }
   ],
   "source": [
    "%timeit -n 2 -r 2 letter1_pandas.loc[letter1_pandas.isin(['a','b','c'])].sort_values()"
   ]
  },
  {
   "cell_type": "markdown",
   "id": "8cb6c5c8",
   "metadata": {},
   "source": [
    "Things to note:\n",
    "\n",
    "1. Query planning works!\n",
    "1. Polars faster than Pandas even in eager evaluation (without query planning).\n",
    "\n",
    "\n",
    "\n",
    "## Parallelism\n",
    "\n",
    "Polars seamlessly parallelizes over columns (also within, when possible).\n",
    "As the number of columns in the data grows, we would expect fixed runtime until all cores are used, and then linear scaling.\n",
    "The following code demonstrates this idea, using a simple sum-within-column.\n"
   ]
  },
  {
   "cell_type": "code",
   "execution_count": 14,
   "id": "67f75056",
   "metadata": {},
   "outputs": [],
   "source": [
    "import time\n",
    "\n",
    "def scaling_of_sums(n_rows, n_cols):\n",
    "  # n_cols = 2\n",
    "  # n_rows = int(1e6)\n",
    "  A = {}\n",
    "  A_numpy = np.random.randn(n_rows,n_cols)\n",
    "  A['numpy'] = A_numpy.copy()\n",
    "  A['polars'] = pl.DataFrame(A_numpy)\n",
    "  A['pandas'] = pd.DataFrame(A_numpy)\n",
    "\n",
    "  times = {}\n",
    "  for key,value in A.items():\n",
    "    start = time.time()\n",
    "    value.sum()\n",
    "    end = time.time()\n",
    "    times[key] = end-start\n",
    "\n",
    "  return(times)"
   ]
  },
  {
   "cell_type": "code",
   "execution_count": 15,
   "id": "7499eb8b",
   "metadata": {},
   "outputs": [],
   "source": [
    "scaling_of_time = {\n",
    "  p:scaling_of_sums(n_rows= int(1e6),n_cols = p) for p in np.arange(1,16)}"
   ]
  },
  {
   "cell_type": "code",
   "execution_count": 16,
   "id": "589f00f7",
   "metadata": {},
   "outputs": [
    {
     "data": {
      "text/html": [
       "        <script type=\"text/javascript\">\n",
       "        window.PlotlyConfig = {MathJaxConfig: 'local'};\n",
       "        if (window.MathJax && window.MathJax.Hub && window.MathJax.Hub.Config) {window.MathJax.Hub.Config({SVG: {font: \"STIX-Web\"}});}\n",
       "        if (typeof require !== 'undefined') {\n",
       "        require.undef(\"plotly\");\n",
       "        requirejs.config({\n",
       "            paths: {\n",
       "                'plotly': ['https://cdn.plot.ly/plotly-2.17.1.min']\n",
       "            }\n",
       "        });\n",
       "        require(['plotly'], function(Plotly) {\n",
       "            window._Plotly = Plotly;\n",
       "        });\n",
       "        }\n",
       "        </script>\n",
       "        "
      ]
     },
     "metadata": {},
     "output_type": "display_data"
    },
    {
     "data": {
      "application/vnd.plotly.v1+json": {
       "config": {
        "plotlyServerURL": "https://plot.ly"
       },
       "data": [
        {
         "hovertemplate": "variable=numpy<br>Number of Columns=%{x}<br>Runtime=%{y}<extra></extra>",
         "legendgroup": "numpy",
         "line": {
          "color": "#636efa",
          "dash": "solid"
         },
         "marker": {
          "symbol": "circle"
         },
         "mode": "lines",
         "name": "numpy",
         "orientation": "v",
         "showlegend": true,
         "type": "scatter",
         "x": [
          1,
          2,
          3,
          4,
          5,
          6,
          7,
          8,
          9,
          10,
          11,
          12,
          13,
          14,
          15
         ],
         "xaxis": "x",
         "y": [
          0.002285480499267578,
          0.0008935928344726562,
          0.0014476776123046875,
          0.0019147396087646484,
          0.002465486526489258,
          0.003132343292236328,
          0.003849029541015625,
          0.004439592361450195,
          0.005063533782958984,
          0.005849123001098633,
          0.006223201751708984,
          0.007171154022216797,
          0.007856130599975586,
          0.008823633193969727,
          0.009523391723632812
         ],
         "yaxis": "y"
        },
        {
         "hovertemplate": "variable=polars<br>Number of Columns=%{x}<br>Runtime=%{y}<extra></extra>",
         "legendgroup": "polars",
         "line": {
          "color": "#EF553B",
          "dash": "solid"
         },
         "marker": {
          "symbol": "circle"
         },
         "mode": "lines",
         "name": "polars",
         "orientation": "v",
         "showlegend": true,
         "type": "scatter",
         "x": [
          1,
          2,
          3,
          4,
          5,
          6,
          7,
          8,
          9,
          10,
          11,
          12,
          13,
          14,
          15
         ],
         "xaxis": "x",
         "y": [
          0.00667572021484375,
          0.0008087158203125,
          0.001043558120727539,
          0.0017557144165039062,
          0.002565145492553711,
          0.0019049644470214844,
          0.002366781234741211,
          0.002755880355834961,
          0.0032088756561279297,
          0.0032775402069091797,
          0.0037245750427246094,
          0.003720998764038086,
          0.004060029983520508,
          0.004387378692626953,
          0.004703044891357422
         ],
         "yaxis": "y"
        },
        {
         "hovertemplate": "variable=pandas<br>Number of Columns=%{x}<br>Runtime=%{y}<extra></extra>",
         "legendgroup": "pandas",
         "line": {
          "color": "#00cc96",
          "dash": "solid"
         },
         "marker": {
          "symbol": "circle"
         },
         "mode": "lines",
         "name": "pandas",
         "orientation": "v",
         "showlegend": true,
         "type": "scatter",
         "x": [
          1,
          2,
          3,
          4,
          5,
          6,
          7,
          8,
          9,
          10,
          11,
          12,
          13,
          14,
          15
         ],
         "xaxis": "x",
         "y": [
          0.007811069488525391,
          0.0418086051940918,
          0.038216590881347656,
          0.04335451126098633,
          0.0513455867767334,
          0.053987741470336914,
          0.05811905860900879,
          0.060782670974731445,
          0.06459259986877441,
          0.0656895637512207,
          0.06869196891784668,
          0.0684661865234375,
          0.07219791412353516,
          0.07796239852905273,
          0.07730627059936523
         ],
         "yaxis": "y"
        }
       ],
       "layout": {
        "legend": {
         "title": {
          "text": "variable"
         },
         "tracegroupgap": 0
        },
        "margin": {
         "t": 60
        },
        "template": {
         "data": {
          "bar": [
           {
            "error_x": {
             "color": "#2a3f5f"
            },
            "error_y": {
             "color": "#2a3f5f"
            },
            "marker": {
             "line": {
              "color": "#E5ECF6",
              "width": 0.5
             },
             "pattern": {
              "fillmode": "overlay",
              "size": 10,
              "solidity": 0.2
             }
            },
            "type": "bar"
           }
          ],
          "barpolar": [
           {
            "marker": {
             "line": {
              "color": "#E5ECF6",
              "width": 0.5
             },
             "pattern": {
              "fillmode": "overlay",
              "size": 10,
              "solidity": 0.2
             }
            },
            "type": "barpolar"
           }
          ],
          "carpet": [
           {
            "aaxis": {
             "endlinecolor": "#2a3f5f",
             "gridcolor": "white",
             "linecolor": "white",
             "minorgridcolor": "white",
             "startlinecolor": "#2a3f5f"
            },
            "baxis": {
             "endlinecolor": "#2a3f5f",
             "gridcolor": "white",
             "linecolor": "white",
             "minorgridcolor": "white",
             "startlinecolor": "#2a3f5f"
            },
            "type": "carpet"
           }
          ],
          "choropleth": [
           {
            "colorbar": {
             "outlinewidth": 0,
             "ticks": ""
            },
            "type": "choropleth"
           }
          ],
          "contour": [
           {
            "colorbar": {
             "outlinewidth": 0,
             "ticks": ""
            },
            "colorscale": [
             [
              0.0,
              "#0d0887"
             ],
             [
              0.1111111111111111,
              "#46039f"
             ],
             [
              0.2222222222222222,
              "#7201a8"
             ],
             [
              0.3333333333333333,
              "#9c179e"
             ],
             [
              0.4444444444444444,
              "#bd3786"
             ],
             [
              0.5555555555555556,
              "#d8576b"
             ],
             [
              0.6666666666666666,
              "#ed7953"
             ],
             [
              0.7777777777777778,
              "#fb9f3a"
             ],
             [
              0.8888888888888888,
              "#fdca26"
             ],
             [
              1.0,
              "#f0f921"
             ]
            ],
            "type": "contour"
           }
          ],
          "contourcarpet": [
           {
            "colorbar": {
             "outlinewidth": 0,
             "ticks": ""
            },
            "type": "contourcarpet"
           }
          ],
          "heatmap": [
           {
            "colorbar": {
             "outlinewidth": 0,
             "ticks": ""
            },
            "colorscale": [
             [
              0.0,
              "#0d0887"
             ],
             [
              0.1111111111111111,
              "#46039f"
             ],
             [
              0.2222222222222222,
              "#7201a8"
             ],
             [
              0.3333333333333333,
              "#9c179e"
             ],
             [
              0.4444444444444444,
              "#bd3786"
             ],
             [
              0.5555555555555556,
              "#d8576b"
             ],
             [
              0.6666666666666666,
              "#ed7953"
             ],
             [
              0.7777777777777778,
              "#fb9f3a"
             ],
             [
              0.8888888888888888,
              "#fdca26"
             ],
             [
              1.0,
              "#f0f921"
             ]
            ],
            "type": "heatmap"
           }
          ],
          "heatmapgl": [
           {
            "colorbar": {
             "outlinewidth": 0,
             "ticks": ""
            },
            "colorscale": [
             [
              0.0,
              "#0d0887"
             ],
             [
              0.1111111111111111,
              "#46039f"
             ],
             [
              0.2222222222222222,
              "#7201a8"
             ],
             [
              0.3333333333333333,
              "#9c179e"
             ],
             [
              0.4444444444444444,
              "#bd3786"
             ],
             [
              0.5555555555555556,
              "#d8576b"
             ],
             [
              0.6666666666666666,
              "#ed7953"
             ],
             [
              0.7777777777777778,
              "#fb9f3a"
             ],
             [
              0.8888888888888888,
              "#fdca26"
             ],
             [
              1.0,
              "#f0f921"
             ]
            ],
            "type": "heatmapgl"
           }
          ],
          "histogram": [
           {
            "marker": {
             "pattern": {
              "fillmode": "overlay",
              "size": 10,
              "solidity": 0.2
             }
            },
            "type": "histogram"
           }
          ],
          "histogram2d": [
           {
            "colorbar": {
             "outlinewidth": 0,
             "ticks": ""
            },
            "colorscale": [
             [
              0.0,
              "#0d0887"
             ],
             [
              0.1111111111111111,
              "#46039f"
             ],
             [
              0.2222222222222222,
              "#7201a8"
             ],
             [
              0.3333333333333333,
              "#9c179e"
             ],
             [
              0.4444444444444444,
              "#bd3786"
             ],
             [
              0.5555555555555556,
              "#d8576b"
             ],
             [
              0.6666666666666666,
              "#ed7953"
             ],
             [
              0.7777777777777778,
              "#fb9f3a"
             ],
             [
              0.8888888888888888,
              "#fdca26"
             ],
             [
              1.0,
              "#f0f921"
             ]
            ],
            "type": "histogram2d"
           }
          ],
          "histogram2dcontour": [
           {
            "colorbar": {
             "outlinewidth": 0,
             "ticks": ""
            },
            "colorscale": [
             [
              0.0,
              "#0d0887"
             ],
             [
              0.1111111111111111,
              "#46039f"
             ],
             [
              0.2222222222222222,
              "#7201a8"
             ],
             [
              0.3333333333333333,
              "#9c179e"
             ],
             [
              0.4444444444444444,
              "#bd3786"
             ],
             [
              0.5555555555555556,
              "#d8576b"
             ],
             [
              0.6666666666666666,
              "#ed7953"
             ],
             [
              0.7777777777777778,
              "#fb9f3a"
             ],
             [
              0.8888888888888888,
              "#fdca26"
             ],
             [
              1.0,
              "#f0f921"
             ]
            ],
            "type": "histogram2dcontour"
           }
          ],
          "mesh3d": [
           {
            "colorbar": {
             "outlinewidth": 0,
             "ticks": ""
            },
            "type": "mesh3d"
           }
          ],
          "parcoords": [
           {
            "line": {
             "colorbar": {
              "outlinewidth": 0,
              "ticks": ""
             }
            },
            "type": "parcoords"
           }
          ],
          "pie": [
           {
            "automargin": true,
            "type": "pie"
           }
          ],
          "scatter": [
           {
            "fillpattern": {
             "fillmode": "overlay",
             "size": 10,
             "solidity": 0.2
            },
            "type": "scatter"
           }
          ],
          "scatter3d": [
           {
            "line": {
             "colorbar": {
              "outlinewidth": 0,
              "ticks": ""
             }
            },
            "marker": {
             "colorbar": {
              "outlinewidth": 0,
              "ticks": ""
             }
            },
            "type": "scatter3d"
           }
          ],
          "scattercarpet": [
           {
            "marker": {
             "colorbar": {
              "outlinewidth": 0,
              "ticks": ""
             }
            },
            "type": "scattercarpet"
           }
          ],
          "scattergeo": [
           {
            "marker": {
             "colorbar": {
              "outlinewidth": 0,
              "ticks": ""
             }
            },
            "type": "scattergeo"
           }
          ],
          "scattergl": [
           {
            "marker": {
             "colorbar": {
              "outlinewidth": 0,
              "ticks": ""
             }
            },
            "type": "scattergl"
           }
          ],
          "scattermapbox": [
           {
            "marker": {
             "colorbar": {
              "outlinewidth": 0,
              "ticks": ""
             }
            },
            "type": "scattermapbox"
           }
          ],
          "scatterpolar": [
           {
            "marker": {
             "colorbar": {
              "outlinewidth": 0,
              "ticks": ""
             }
            },
            "type": "scatterpolar"
           }
          ],
          "scatterpolargl": [
           {
            "marker": {
             "colorbar": {
              "outlinewidth": 0,
              "ticks": ""
             }
            },
            "type": "scatterpolargl"
           }
          ],
          "scatterternary": [
           {
            "marker": {
             "colorbar": {
              "outlinewidth": 0,
              "ticks": ""
             }
            },
            "type": "scatterternary"
           }
          ],
          "surface": [
           {
            "colorbar": {
             "outlinewidth": 0,
             "ticks": ""
            },
            "colorscale": [
             [
              0.0,
              "#0d0887"
             ],
             [
              0.1111111111111111,
              "#46039f"
             ],
             [
              0.2222222222222222,
              "#7201a8"
             ],
             [
              0.3333333333333333,
              "#9c179e"
             ],
             [
              0.4444444444444444,
              "#bd3786"
             ],
             [
              0.5555555555555556,
              "#d8576b"
             ],
             [
              0.6666666666666666,
              "#ed7953"
             ],
             [
              0.7777777777777778,
              "#fb9f3a"
             ],
             [
              0.8888888888888888,
              "#fdca26"
             ],
             [
              1.0,
              "#f0f921"
             ]
            ],
            "type": "surface"
           }
          ],
          "table": [
           {
            "cells": {
             "fill": {
              "color": "#EBF0F8"
             },
             "line": {
              "color": "white"
             }
            },
            "header": {
             "fill": {
              "color": "#C8D4E3"
             },
             "line": {
              "color": "white"
             }
            },
            "type": "table"
           }
          ]
         },
         "layout": {
          "annotationdefaults": {
           "arrowcolor": "#2a3f5f",
           "arrowhead": 0,
           "arrowwidth": 1
          },
          "autotypenumbers": "strict",
          "coloraxis": {
           "colorbar": {
            "outlinewidth": 0,
            "ticks": ""
           }
          },
          "colorscale": {
           "diverging": [
            [
             0,
             "#8e0152"
            ],
            [
             0.1,
             "#c51b7d"
            ],
            [
             0.2,
             "#de77ae"
            ],
            [
             0.3,
             "#f1b6da"
            ],
            [
             0.4,
             "#fde0ef"
            ],
            [
             0.5,
             "#f7f7f7"
            ],
            [
             0.6,
             "#e6f5d0"
            ],
            [
             0.7,
             "#b8e186"
            ],
            [
             0.8,
             "#7fbc41"
            ],
            [
             0.9,
             "#4d9221"
            ],
            [
             1,
             "#276419"
            ]
           ],
           "sequential": [
            [
             0.0,
             "#0d0887"
            ],
            [
             0.1111111111111111,
             "#46039f"
            ],
            [
             0.2222222222222222,
             "#7201a8"
            ],
            [
             0.3333333333333333,
             "#9c179e"
            ],
            [
             0.4444444444444444,
             "#bd3786"
            ],
            [
             0.5555555555555556,
             "#d8576b"
            ],
            [
             0.6666666666666666,
             "#ed7953"
            ],
            [
             0.7777777777777778,
             "#fb9f3a"
            ],
            [
             0.8888888888888888,
             "#fdca26"
            ],
            [
             1.0,
             "#f0f921"
            ]
           ],
           "sequentialminus": [
            [
             0.0,
             "#0d0887"
            ],
            [
             0.1111111111111111,
             "#46039f"
            ],
            [
             0.2222222222222222,
             "#7201a8"
            ],
            [
             0.3333333333333333,
             "#9c179e"
            ],
            [
             0.4444444444444444,
             "#bd3786"
            ],
            [
             0.5555555555555556,
             "#d8576b"
            ],
            [
             0.6666666666666666,
             "#ed7953"
            ],
            [
             0.7777777777777778,
             "#fb9f3a"
            ],
            [
             0.8888888888888888,
             "#fdca26"
            ],
            [
             1.0,
             "#f0f921"
            ]
           ]
          },
          "colorway": [
           "#636efa",
           "#EF553B",
           "#00cc96",
           "#ab63fa",
           "#FFA15A",
           "#19d3f3",
           "#FF6692",
           "#B6E880",
           "#FF97FF",
           "#FECB52"
          ],
          "font": {
           "color": "#2a3f5f"
          },
          "geo": {
           "bgcolor": "white",
           "lakecolor": "white",
           "landcolor": "#E5ECF6",
           "showlakes": true,
           "showland": true,
           "subunitcolor": "white"
          },
          "hoverlabel": {
           "align": "left"
          },
          "hovermode": "closest",
          "mapbox": {
           "style": "light"
          },
          "paper_bgcolor": "white",
          "plot_bgcolor": "#E5ECF6",
          "polar": {
           "angularaxis": {
            "gridcolor": "white",
            "linecolor": "white",
            "ticks": ""
           },
           "bgcolor": "#E5ECF6",
           "radialaxis": {
            "gridcolor": "white",
            "linecolor": "white",
            "ticks": ""
           }
          },
          "scene": {
           "xaxis": {
            "backgroundcolor": "#E5ECF6",
            "gridcolor": "white",
            "gridwidth": 2,
            "linecolor": "white",
            "showbackground": true,
            "ticks": "",
            "zerolinecolor": "white"
           },
           "yaxis": {
            "backgroundcolor": "#E5ECF6",
            "gridcolor": "white",
            "gridwidth": 2,
            "linecolor": "white",
            "showbackground": true,
            "ticks": "",
            "zerolinecolor": "white"
           },
           "zaxis": {
            "backgroundcolor": "#E5ECF6",
            "gridcolor": "white",
            "gridwidth": 2,
            "linecolor": "white",
            "showbackground": true,
            "ticks": "",
            "zerolinecolor": "white"
           }
          },
          "shapedefaults": {
           "line": {
            "color": "#2a3f5f"
           }
          },
          "ternary": {
           "aaxis": {
            "gridcolor": "white",
            "linecolor": "white",
            "ticks": ""
           },
           "baxis": {
            "gridcolor": "white",
            "linecolor": "white",
            "ticks": ""
           },
           "bgcolor": "#E5ECF6",
           "caxis": {
            "gridcolor": "white",
            "linecolor": "white",
            "ticks": ""
           }
          },
          "title": {
           "x": 0.05
          },
          "xaxis": {
           "automargin": true,
           "gridcolor": "white",
           "linecolor": "white",
           "ticks": "",
           "title": {
            "standoff": 15
           },
           "zerolinecolor": "white",
           "zerolinewidth": 2
          },
          "yaxis": {
           "automargin": true,
           "gridcolor": "white",
           "linecolor": "white",
           "ticks": "",
           "title": {
            "standoff": 15
           },
           "zerolinecolor": "white",
           "zerolinewidth": 2
          }
         }
        },
        "xaxis": {
         "anchor": "y",
         "domain": [
          0.0,
          1.0
         ],
         "title": {
          "text": "Number of Columns"
         }
        },
        "yaxis": {
         "anchor": "x",
         "domain": [
          0.0,
          1.0
         ],
         "title": {
          "text": "Runtime"
         }
        }
       }
      },
      "text/html": [
       "<div>                            <div id=\"e00cc739-7572-4641-b0d8-1fd945553483\" class=\"plotly-graph-div\" style=\"height:525px; width:100%;\"></div>            <script type=\"text/javascript\">                require([\"plotly\"], function(Plotly) {                    window.PLOTLYENV=window.PLOTLYENV || {};                                    if (document.getElementById(\"e00cc739-7572-4641-b0d8-1fd945553483\")) {                    Plotly.newPlot(                        \"e00cc739-7572-4641-b0d8-1fd945553483\",                        [{\"hovertemplate\":\"variable=numpy<br>Number of Columns=%{x}<br>Runtime=%{y}<extra></extra>\",\"legendgroup\":\"numpy\",\"line\":{\"color\":\"#636efa\",\"dash\":\"solid\"},\"marker\":{\"symbol\":\"circle\"},\"mode\":\"lines\",\"name\":\"numpy\",\"orientation\":\"v\",\"showlegend\":true,\"x\":[1,2,3,4,5,6,7,8,9,10,11,12,13,14,15],\"xaxis\":\"x\",\"y\":[0.002285480499267578,0.0008935928344726562,0.0014476776123046875,0.0019147396087646484,0.002465486526489258,0.003132343292236328,0.003849029541015625,0.004439592361450195,0.005063533782958984,0.005849123001098633,0.006223201751708984,0.007171154022216797,0.007856130599975586,0.008823633193969727,0.009523391723632812],\"yaxis\":\"y\",\"type\":\"scatter\"},{\"hovertemplate\":\"variable=polars<br>Number of Columns=%{x}<br>Runtime=%{y}<extra></extra>\",\"legendgroup\":\"polars\",\"line\":{\"color\":\"#EF553B\",\"dash\":\"solid\"},\"marker\":{\"symbol\":\"circle\"},\"mode\":\"lines\",\"name\":\"polars\",\"orientation\":\"v\",\"showlegend\":true,\"x\":[1,2,3,4,5,6,7,8,9,10,11,12,13,14,15],\"xaxis\":\"x\",\"y\":[0.00667572021484375,0.0008087158203125,0.001043558120727539,0.0017557144165039062,0.002565145492553711,0.0019049644470214844,0.002366781234741211,0.002755880355834961,0.0032088756561279297,0.0032775402069091797,0.0037245750427246094,0.003720998764038086,0.004060029983520508,0.004387378692626953,0.004703044891357422],\"yaxis\":\"y\",\"type\":\"scatter\"},{\"hovertemplate\":\"variable=pandas<br>Number of Columns=%{x}<br>Runtime=%{y}<extra></extra>\",\"legendgroup\":\"pandas\",\"line\":{\"color\":\"#00cc96\",\"dash\":\"solid\"},\"marker\":{\"symbol\":\"circle\"},\"mode\":\"lines\",\"name\":\"pandas\",\"orientation\":\"v\",\"showlegend\":true,\"x\":[1,2,3,4,5,6,7,8,9,10,11,12,13,14,15],\"xaxis\":\"x\",\"y\":[0.007811069488525391,0.0418086051940918,0.038216590881347656,0.04335451126098633,0.0513455867767334,0.053987741470336914,0.05811905860900879,0.060782670974731445,0.06459259986877441,0.0656895637512207,0.06869196891784668,0.0684661865234375,0.07219791412353516,0.07796239852905273,0.07730627059936523],\"yaxis\":\"y\",\"type\":\"scatter\"}],                        {\"template\":{\"data\":{\"histogram2dcontour\":[{\"type\":\"histogram2dcontour\",\"colorbar\":{\"outlinewidth\":0,\"ticks\":\"\"},\"colorscale\":[[0.0,\"#0d0887\"],[0.1111111111111111,\"#46039f\"],[0.2222222222222222,\"#7201a8\"],[0.3333333333333333,\"#9c179e\"],[0.4444444444444444,\"#bd3786\"],[0.5555555555555556,\"#d8576b\"],[0.6666666666666666,\"#ed7953\"],[0.7777777777777778,\"#fb9f3a\"],[0.8888888888888888,\"#fdca26\"],[1.0,\"#f0f921\"]]}],\"choropleth\":[{\"type\":\"choropleth\",\"colorbar\":{\"outlinewidth\":0,\"ticks\":\"\"}}],\"histogram2d\":[{\"type\":\"histogram2d\",\"colorbar\":{\"outlinewidth\":0,\"ticks\":\"\"},\"colorscale\":[[0.0,\"#0d0887\"],[0.1111111111111111,\"#46039f\"],[0.2222222222222222,\"#7201a8\"],[0.3333333333333333,\"#9c179e\"],[0.4444444444444444,\"#bd3786\"],[0.5555555555555556,\"#d8576b\"],[0.6666666666666666,\"#ed7953\"],[0.7777777777777778,\"#fb9f3a\"],[0.8888888888888888,\"#fdca26\"],[1.0,\"#f0f921\"]]}],\"heatmap\":[{\"type\":\"heatmap\",\"colorbar\":{\"outlinewidth\":0,\"ticks\":\"\"},\"colorscale\":[[0.0,\"#0d0887\"],[0.1111111111111111,\"#46039f\"],[0.2222222222222222,\"#7201a8\"],[0.3333333333333333,\"#9c179e\"],[0.4444444444444444,\"#bd3786\"],[0.5555555555555556,\"#d8576b\"],[0.6666666666666666,\"#ed7953\"],[0.7777777777777778,\"#fb9f3a\"],[0.8888888888888888,\"#fdca26\"],[1.0,\"#f0f921\"]]}],\"heatmapgl\":[{\"type\":\"heatmapgl\",\"colorbar\":{\"outlinewidth\":0,\"ticks\":\"\"},\"colorscale\":[[0.0,\"#0d0887\"],[0.1111111111111111,\"#46039f\"],[0.2222222222222222,\"#7201a8\"],[0.3333333333333333,\"#9c179e\"],[0.4444444444444444,\"#bd3786\"],[0.5555555555555556,\"#d8576b\"],[0.6666666666666666,\"#ed7953\"],[0.7777777777777778,\"#fb9f3a\"],[0.8888888888888888,\"#fdca26\"],[1.0,\"#f0f921\"]]}],\"contourcarpet\":[{\"type\":\"contourcarpet\",\"colorbar\":{\"outlinewidth\":0,\"ticks\":\"\"}}],\"contour\":[{\"type\":\"contour\",\"colorbar\":{\"outlinewidth\":0,\"ticks\":\"\"},\"colorscale\":[[0.0,\"#0d0887\"],[0.1111111111111111,\"#46039f\"],[0.2222222222222222,\"#7201a8\"],[0.3333333333333333,\"#9c179e\"],[0.4444444444444444,\"#bd3786\"],[0.5555555555555556,\"#d8576b\"],[0.6666666666666666,\"#ed7953\"],[0.7777777777777778,\"#fb9f3a\"],[0.8888888888888888,\"#fdca26\"],[1.0,\"#f0f921\"]]}],\"surface\":[{\"type\":\"surface\",\"colorbar\":{\"outlinewidth\":0,\"ticks\":\"\"},\"colorscale\":[[0.0,\"#0d0887\"],[0.1111111111111111,\"#46039f\"],[0.2222222222222222,\"#7201a8\"],[0.3333333333333333,\"#9c179e\"],[0.4444444444444444,\"#bd3786\"],[0.5555555555555556,\"#d8576b\"],[0.6666666666666666,\"#ed7953\"],[0.7777777777777778,\"#fb9f3a\"],[0.8888888888888888,\"#fdca26\"],[1.0,\"#f0f921\"]]}],\"mesh3d\":[{\"type\":\"mesh3d\",\"colorbar\":{\"outlinewidth\":0,\"ticks\":\"\"}}],\"scatter\":[{\"fillpattern\":{\"fillmode\":\"overlay\",\"size\":10,\"solidity\":0.2},\"type\":\"scatter\"}],\"parcoords\":[{\"type\":\"parcoords\",\"line\":{\"colorbar\":{\"outlinewidth\":0,\"ticks\":\"\"}}}],\"scatterpolargl\":[{\"type\":\"scatterpolargl\",\"marker\":{\"colorbar\":{\"outlinewidth\":0,\"ticks\":\"\"}}}],\"bar\":[{\"error_x\":{\"color\":\"#2a3f5f\"},\"error_y\":{\"color\":\"#2a3f5f\"},\"marker\":{\"line\":{\"color\":\"#E5ECF6\",\"width\":0.5},\"pattern\":{\"fillmode\":\"overlay\",\"size\":10,\"solidity\":0.2}},\"type\":\"bar\"}],\"scattergeo\":[{\"type\":\"scattergeo\",\"marker\":{\"colorbar\":{\"outlinewidth\":0,\"ticks\":\"\"}}}],\"scatterpolar\":[{\"type\":\"scatterpolar\",\"marker\":{\"colorbar\":{\"outlinewidth\":0,\"ticks\":\"\"}}}],\"histogram\":[{\"marker\":{\"pattern\":{\"fillmode\":\"overlay\",\"size\":10,\"solidity\":0.2}},\"type\":\"histogram\"}],\"scattergl\":[{\"type\":\"scattergl\",\"marker\":{\"colorbar\":{\"outlinewidth\":0,\"ticks\":\"\"}}}],\"scatter3d\":[{\"type\":\"scatter3d\",\"line\":{\"colorbar\":{\"outlinewidth\":0,\"ticks\":\"\"}},\"marker\":{\"colorbar\":{\"outlinewidth\":0,\"ticks\":\"\"}}}],\"scattermapbox\":[{\"type\":\"scattermapbox\",\"marker\":{\"colorbar\":{\"outlinewidth\":0,\"ticks\":\"\"}}}],\"scatterternary\":[{\"type\":\"scatterternary\",\"marker\":{\"colorbar\":{\"outlinewidth\":0,\"ticks\":\"\"}}}],\"scattercarpet\":[{\"type\":\"scattercarpet\",\"marker\":{\"colorbar\":{\"outlinewidth\":0,\"ticks\":\"\"}}}],\"carpet\":[{\"aaxis\":{\"endlinecolor\":\"#2a3f5f\",\"gridcolor\":\"white\",\"linecolor\":\"white\",\"minorgridcolor\":\"white\",\"startlinecolor\":\"#2a3f5f\"},\"baxis\":{\"endlinecolor\":\"#2a3f5f\",\"gridcolor\":\"white\",\"linecolor\":\"white\",\"minorgridcolor\":\"white\",\"startlinecolor\":\"#2a3f5f\"},\"type\":\"carpet\"}],\"table\":[{\"cells\":{\"fill\":{\"color\":\"#EBF0F8\"},\"line\":{\"color\":\"white\"}},\"header\":{\"fill\":{\"color\":\"#C8D4E3\"},\"line\":{\"color\":\"white\"}},\"type\":\"table\"}],\"barpolar\":[{\"marker\":{\"line\":{\"color\":\"#E5ECF6\",\"width\":0.5},\"pattern\":{\"fillmode\":\"overlay\",\"size\":10,\"solidity\":0.2}},\"type\":\"barpolar\"}],\"pie\":[{\"automargin\":true,\"type\":\"pie\"}]},\"layout\":{\"autotypenumbers\":\"strict\",\"colorway\":[\"#636efa\",\"#EF553B\",\"#00cc96\",\"#ab63fa\",\"#FFA15A\",\"#19d3f3\",\"#FF6692\",\"#B6E880\",\"#FF97FF\",\"#FECB52\"],\"font\":{\"color\":\"#2a3f5f\"},\"hovermode\":\"closest\",\"hoverlabel\":{\"align\":\"left\"},\"paper_bgcolor\":\"white\",\"plot_bgcolor\":\"#E5ECF6\",\"polar\":{\"bgcolor\":\"#E5ECF6\",\"angularaxis\":{\"gridcolor\":\"white\",\"linecolor\":\"white\",\"ticks\":\"\"},\"radialaxis\":{\"gridcolor\":\"white\",\"linecolor\":\"white\",\"ticks\":\"\"}},\"ternary\":{\"bgcolor\":\"#E5ECF6\",\"aaxis\":{\"gridcolor\":\"white\",\"linecolor\":\"white\",\"ticks\":\"\"},\"baxis\":{\"gridcolor\":\"white\",\"linecolor\":\"white\",\"ticks\":\"\"},\"caxis\":{\"gridcolor\":\"white\",\"linecolor\":\"white\",\"ticks\":\"\"}},\"coloraxis\":{\"colorbar\":{\"outlinewidth\":0,\"ticks\":\"\"}},\"colorscale\":{\"sequential\":[[0.0,\"#0d0887\"],[0.1111111111111111,\"#46039f\"],[0.2222222222222222,\"#7201a8\"],[0.3333333333333333,\"#9c179e\"],[0.4444444444444444,\"#bd3786\"],[0.5555555555555556,\"#d8576b\"],[0.6666666666666666,\"#ed7953\"],[0.7777777777777778,\"#fb9f3a\"],[0.8888888888888888,\"#fdca26\"],[1.0,\"#f0f921\"]],\"sequentialminus\":[[0.0,\"#0d0887\"],[0.1111111111111111,\"#46039f\"],[0.2222222222222222,\"#7201a8\"],[0.3333333333333333,\"#9c179e\"],[0.4444444444444444,\"#bd3786\"],[0.5555555555555556,\"#d8576b\"],[0.6666666666666666,\"#ed7953\"],[0.7777777777777778,\"#fb9f3a\"],[0.8888888888888888,\"#fdca26\"],[1.0,\"#f0f921\"]],\"diverging\":[[0,\"#8e0152\"],[0.1,\"#c51b7d\"],[0.2,\"#de77ae\"],[0.3,\"#f1b6da\"],[0.4,\"#fde0ef\"],[0.5,\"#f7f7f7\"],[0.6,\"#e6f5d0\"],[0.7,\"#b8e186\"],[0.8,\"#7fbc41\"],[0.9,\"#4d9221\"],[1,\"#276419\"]]},\"xaxis\":{\"gridcolor\":\"white\",\"linecolor\":\"white\",\"ticks\":\"\",\"title\":{\"standoff\":15},\"zerolinecolor\":\"white\",\"automargin\":true,\"zerolinewidth\":2},\"yaxis\":{\"gridcolor\":\"white\",\"linecolor\":\"white\",\"ticks\":\"\",\"title\":{\"standoff\":15},\"zerolinecolor\":\"white\",\"automargin\":true,\"zerolinewidth\":2},\"scene\":{\"xaxis\":{\"backgroundcolor\":\"#E5ECF6\",\"gridcolor\":\"white\",\"linecolor\":\"white\",\"showbackground\":true,\"ticks\":\"\",\"zerolinecolor\":\"white\",\"gridwidth\":2},\"yaxis\":{\"backgroundcolor\":\"#E5ECF6\",\"gridcolor\":\"white\",\"linecolor\":\"white\",\"showbackground\":true,\"ticks\":\"\",\"zerolinecolor\":\"white\",\"gridwidth\":2},\"zaxis\":{\"backgroundcolor\":\"#E5ECF6\",\"gridcolor\":\"white\",\"linecolor\":\"white\",\"showbackground\":true,\"ticks\":\"\",\"zerolinecolor\":\"white\",\"gridwidth\":2}},\"shapedefaults\":{\"line\":{\"color\":\"#2a3f5f\"}},\"annotationdefaults\":{\"arrowcolor\":\"#2a3f5f\",\"arrowhead\":0,\"arrowwidth\":1},\"geo\":{\"bgcolor\":\"white\",\"landcolor\":\"#E5ECF6\",\"subunitcolor\":\"white\",\"showland\":true,\"showlakes\":true,\"lakecolor\":\"white\"},\"title\":{\"x\":0.05},\"mapbox\":{\"style\":\"light\"}}},\"xaxis\":{\"anchor\":\"y\",\"domain\":[0.0,1.0],\"title\":{\"text\":\"Number of Columns\"}},\"yaxis\":{\"anchor\":\"x\",\"domain\":[0.0,1.0],\"title\":{\"text\":\"Runtime\"}},\"legend\":{\"title\":{\"text\":\"variable\"},\"tracegroupgap\":0},\"margin\":{\"t\":60}},                        {\"responsive\": true}                    ).then(function(){\n",
       "                            \n",
       "var gd = document.getElementById('e00cc739-7572-4641-b0d8-1fd945553483');\n",
       "var x = new MutationObserver(function (mutations, observer) {{\n",
       "        var display = window.getComputedStyle(gd).display;\n",
       "        if (!display || display === 'none') {{\n",
       "            console.log([gd, 'removed!']);\n",
       "            Plotly.purge(gd);\n",
       "            observer.disconnect();\n",
       "        }}\n",
       "}});\n",
       "\n",
       "// Listen for the removal of the full notebook cells\n",
       "var notebookContainer = gd.closest('#notebook-container');\n",
       "if (notebookContainer) {{\n",
       "    x.observe(notebookContainer, {childList: true});\n",
       "}}\n",
       "\n",
       "// Listen for the clearing of the current output cell\n",
       "var outputEl = gd.closest('.output');\n",
       "if (outputEl) {{\n",
       "    x.observe(outputEl, {childList: true});\n",
       "}}\n",
       "\n",
       "                        })                };                });            </script>        </div>"
      ]
     },
     "metadata": {},
     "output_type": "display_data"
    }
   ],
   "source": [
    "data = pd.DataFrame(scaling_of_time).T\n",
    "fig = px.line(\n",
    "  data, \n",
    "  labels=dict(\n",
    "    index=\"Number of Columns\", \n",
    "    value=\"Runtime\")\n",
    ")\n",
    "fig.show()"
   ]
  },
  {
   "cell_type": "markdown",
   "id": "2247a93c",
   "metadata": {},
   "source": [
    "Things to note:\n",
    "\n",
    "- Pandas is slow. \n",
    "- Numpy is quite efficient.\n",
    "- My machine has 8 cores. I would thus expect a fixed timing until 8 columns, and then linear scaling. This is not the case. I wonder why?\n",
    "\n",
    "\n",
    "## Speed Of Import\n",
    "\n",
    "Polar's `read_x` functions are quite faster than Pandas. \n",
    "This is due to better type \"guessing\" heuristics, and to native support of the parquet file format. \n",
    "\n",
    "We now make synthetic data, save it as csv or parquet, and reimport it with polars and pandas.\n",
    "\n",
    "Starting with CSV:"
   ]
  },
  {
   "cell_type": "code",
   "execution_count": 17,
   "id": "945c5bf8",
   "metadata": {},
   "outputs": [],
   "source": [
    "n_rows = int(1e5)\n",
    "n_cols = 10\n",
    "data = np.random.randn(n_rows,n_cols)\n",
    "data.tofile('data/data.csv', sep = ',')"
   ]
  },
  {
   "cell_type": "markdown",
   "id": "3b8dbb3b",
   "metadata": {},
   "source": [
    "Import with pandas. "
   ]
  },
  {
   "cell_type": "code",
   "execution_count": 18,
   "id": "215fd4d7",
   "metadata": {},
   "outputs": [
    {
     "name": "stdout",
     "output_type": "stream",
     "text": [
      "18.4 s ± 59.4 ms per loop (mean ± std. dev. of 2 runs, 2 loops each)\n"
     ]
    }
   ],
   "source": [
    "%timeit -n2 -r2 data_pandas = pd.read_csv('data/data.csv', header = None)"
   ]
  },
  {
   "cell_type": "markdown",
   "id": "6bf58d44",
   "metadata": {},
   "source": [
    "Import with polars. "
   ]
  },
  {
   "cell_type": "code",
   "execution_count": 19,
   "id": "1d34d029",
   "metadata": {},
   "outputs": [
    {
     "name": "stdout",
     "output_type": "stream",
     "text": [
      "2.85 s ± 279 ms per loop (mean ± std. dev. of 2 runs, 2 loops each)\n"
     ]
    }
   ],
   "source": [
    "%timeit -n2 -r2 data_polars = pl.read_csv('data/data.csv', has_header = False)"
   ]
  },
  {
   "cell_type": "markdown",
   "id": "c0470ea7",
   "metadata": {},
   "source": [
    "Moving to parquet:\n"
   ]
  },
  {
   "cell_type": "code",
   "execution_count": 20,
   "id": "d48796d7",
   "metadata": {},
   "outputs": [],
   "source": [
    "data_pandas = pd.DataFrame(data)\n",
    "data_pandas.columns = data_pandas.columns.astype(str)\n",
    "data_pandas.to_parquet('data/data.parquet', index = False)"
   ]
  },
  {
   "cell_type": "code",
   "execution_count": 21,
   "id": "96e4fdc7",
   "metadata": {},
   "outputs": [
    {
     "name": "stdout",
     "output_type": "stream",
     "text": [
      "16.7 ms ± 6.2 ms per loop (mean ± std. dev. of 2 runs, 2 loops each)\n"
     ]
    }
   ],
   "source": [
    "%timeit -n2 -r2 data_pandas = pd.read_parquet('data/data.parquet')"
   ]
  },
  {
   "cell_type": "code",
   "execution_count": 22,
   "id": "b8350ca1",
   "metadata": {},
   "outputs": [
    {
     "name": "stdout",
     "output_type": "stream",
     "text": [
      "70.8 ms ± 30.9 ms per loop (mean ± std. dev. of 2 runs, 2 loops each)\n"
     ]
    }
   ],
   "source": [
    "%timeit -n2 -r2 data_polars = pl.read_parquet('data/data.parquet')"
   ]
  },
  {
   "cell_type": "markdown",
   "id": "85c206d3",
   "metadata": {},
   "source": [
    "TODO: add feather.\n",
    "\n",
    "\n",
    "\n",
    "\n",
    "Things to note:\n",
    "\n",
    "- The difference in speed is quite large.\n",
    "- I dare argue that polars' type guessing is better, but I am not demonstrating it here. \n",
    "- Bonus fact: parquet is much faster than csv, and also saves the frame's schema.\n",
    "\n",
    "\n",
    "\n",
    "## Speed Of Join\n",
    "\n",
    "Because pandas is built on numpy, people see it as both an in-memory database, and a matrix/array library.\n",
    "With polars, it is quite clear it is an in-memory database, and not an array processing library (despite having a `pl.dot()` function for inner products).\n",
    "As such, you cannot multiply two polars dataframes, but you can certainly join then efficiently.\n",
    "\n",
    "Make some data:"
   ]
  },
  {
   "cell_type": "code",
   "execution_count": 23,
   "id": "a3e5c97b",
   "metadata": {},
   "outputs": [],
   "source": [
    "def make_data(n_rows, n_cols):\n",
    "  data = np.concatenate(\n",
    "  (\n",
    "    np.arange(n_rows)[:,np.newaxis], # index\n",
    "    np.random.randn(n_rows,n_cols), # values\n",
    "    ),\n",
    "    axis=1)\n",
    "    \n",
    "  return data\n",
    "\n",
    "\n",
    "n_rows = int(1e6)\n",
    "n_cols = 10\n",
    "data_left = make_data(n_rows, n_cols)\n",
    "data_right = make_data(n_rows, n_cols)"
   ]
  },
  {
   "cell_type": "markdown",
   "id": "c6124035",
   "metadata": {},
   "source": [
    "Polars join:"
   ]
  },
  {
   "cell_type": "code",
   "execution_count": 24,
   "id": "d71aea84",
   "metadata": {},
   "outputs": [
    {
     "name": "stdout",
     "output_type": "stream",
     "text": [
      "240 ms ± 47.9 ms per loop (mean ± std. dev. of 2 runs, 2 loops each)\n"
     ]
    }
   ],
   "source": [
    "data_left_polars = pl.DataFrame(data_left)\n",
    "data_right_polars = pl.DataFrame(data_right)\n",
    "\n",
    "%timeit -n2 -r2 polars_joined = data_left_polars.join(data_right_polars, on = 'column_0', how = 'inner')"
   ]
  },
  {
   "cell_type": "markdown",
   "id": "98d5de25",
   "metadata": {},
   "source": [
    "Pandas join:"
   ]
  },
  {
   "cell_type": "code",
   "execution_count": 25,
   "id": "90034030",
   "metadata": {},
   "outputs": [
    {
     "name": "stdout",
     "output_type": "stream",
     "text": [
      "610 ms ± 51.3 ms per loop (mean ± std. dev. of 2 runs, 2 loops each)\n"
     ]
    }
   ],
   "source": [
    "data_left_pandas = pd.DataFrame(data_left)\n",
    "data_right_pandas = pd.DataFrame(data_right)\n",
    "\n",
    "%timeit -n2 -r2 pandas_joined = data_left_pandas.merge(data_right_pandas, on = 0, how = 'inner')"
   ]
  },
  {
   "cell_type": "markdown",
   "id": "6775b4c5",
   "metadata": {},
   "source": [
    "## The NYC Taxi Dataset\n"
   ]
  },
  {
   "cell_type": "code",
   "execution_count": 26,
   "id": "662cf291",
   "metadata": {},
   "outputs": [],
   "source": [
    "path = 'data/NYC' # Data from https://www.nyc.gov/site/tlc/about/tlc-trip-record-data.page\n",
    "file_names = os.listdir(path)"
   ]
  },
  {
   "cell_type": "markdown",
   "id": "f1147d7b",
   "metadata": {},
   "source": [
    "Pandas"
   ]
  },
  {
   "cell_type": "code",
   "execution_count": 27,
   "id": "24ad795d",
   "metadata": {},
   "outputs": [
    {
     "name": "stdout",
     "output_type": "stream",
     "text": [
      "CPU times: user 2.64 s, sys: 1.03 s, total: 3.68 s\n",
      "Wall time: 1.33 s\n"
     ]
    },
    {
     "data": {
      "text/html": [
       "<div>\n",
       "<style scoped>\n",
       "    .dataframe tbody tr th:only-of-type {\n",
       "        vertical-align: middle;\n",
       "    }\n",
       "\n",
       "    .dataframe tbody tr th {\n",
       "        vertical-align: top;\n",
       "    }\n",
       "\n",
       "    .dataframe thead th {\n",
       "        text-align: right;\n",
       "    }\n",
       "</style>\n",
       "<table border=\"1\" class=\"dataframe\">\n",
       "  <thead>\n",
       "    <tr style=\"text-align: right;\">\n",
       "      <th></th>\n",
       "      <th>tip_amount</th>\n",
       "    </tr>\n",
       "    <tr>\n",
       "      <th>passenger_count</th>\n",
       "      <th></th>\n",
       "    </tr>\n",
       "  </thead>\n",
       "  <tbody>\n",
       "    <tr>\n",
       "      <th>1.0</th>\n",
       "      <td>2.701872</td>\n",
       "    </tr>\n",
       "    <tr>\n",
       "      <th>2.0</th>\n",
       "      <td>2.749387</td>\n",
       "    </tr>\n",
       "    <tr>\n",
       "      <th>3.0</th>\n",
       "      <td>2.715053</td>\n",
       "    </tr>\n",
       "    <tr>\n",
       "      <th>4.0</th>\n",
       "      <td>2.782241</td>\n",
       "    </tr>\n",
       "  </tbody>\n",
       "</table>\n",
       "</div>"
      ],
      "text/plain": [
       "                 tip_amount\n",
       "passenger_count            \n",
       "1.0                2.701872\n",
       "2.0                2.749387\n",
       "3.0                2.715053\n",
       "4.0                2.782241"
      ]
     },
     "execution_count": 27,
     "metadata": {},
     "output_type": "execute_result"
    }
   ],
   "source": [
    "%%time \n",
    "taxi_pandas = pd.read_parquet(path)\n",
    "\n",
    "query = '''\n",
    "    passenger_count > 0 and \n",
    "    passenger_count < 5 and  \n",
    "    trip_distance > 0 and \n",
    "    trip_distance < 10 and \n",
    "    fare_amount > 0 and \n",
    "    fare_amount < 100 and \n",
    "    tip_amount > 0 and \n",
    "    tip_amount < 20 and \n",
    "    total_amount > 0 and \n",
    "    total_amount < 100\n",
    "    '''.replace('\\n', '')\n",
    "taxi_pandas.query(query).groupby('passenger_count').agg({'tip_amount':'mean'})"
   ]
  },
  {
   "cell_type": "markdown",
   "id": "9fd81ded",
   "metadata": {},
   "source": [
    "Polars"
   ]
  },
  {
   "cell_type": "code",
   "execution_count": 28,
   "id": "ab699612",
   "metadata": {},
   "outputs": [
    {
     "name": "stdout",
     "output_type": "stream",
     "text": [
      "CPU times: user 1.2 s, sys: 193 ms, total: 1.4 s\n",
      "Wall time: 381 ms\n"
     ]
    },
    {
     "data": {
      "text/html": [
       "<div>\n",
       "<style scoped>\n",
       "    .dataframe tbody tr th:only-of-type {\n",
       "        vertical-align: middle;\n",
       "    }\n",
       "\n",
       "    .dataframe tbody tr th {\n",
       "        vertical-align: top;\n",
       "    }\n",
       "\n",
       "    .dataframe thead th {\n",
       "        text-align: right;\n",
       "    }\n",
       "\n",
       "    .dataframe td {\n",
       "        white-space: pre;\n",
       "    }\n",
       "\n",
       "    .dataframe td {\n",
       "        padding-top: 0;\n",
       "    }\n",
       "\n",
       "    .dataframe td {\n",
       "        padding-bottom: 0;\n",
       "    }\n",
       "\n",
       "    .dataframe td {\n",
       "        line-height: 95%;\n",
       "    }\n",
       "</style>\n",
       "<table border=\"1\" class=\"dataframe\">\n",
       "<small>shape: (4, 2)</small>\n",
       "<thead>\n",
       "<tr>\n",
       "<th>\n",
       "passenger_count\n",
       "</th>\n",
       "<th>\n",
       "tip_amount\n",
       "</th>\n",
       "</tr>\n",
       "<tr>\n",
       "<td>\n",
       "f64\n",
       "</td>\n",
       "<td>\n",
       "f64\n",
       "</td>\n",
       "</tr>\n",
       "</thead>\n",
       "<tbody>\n",
       "<tr>\n",
       "<td>\n",
       "2.0\n",
       "</td>\n",
       "<td>\n",
       "2.749387\n",
       "</td>\n",
       "</tr>\n",
       "<tr>\n",
       "<td>\n",
       "1.0\n",
       "</td>\n",
       "<td>\n",
       "2.701872\n",
       "</td>\n",
       "</tr>\n",
       "<tr>\n",
       "<td>\n",
       "4.0\n",
       "</td>\n",
       "<td>\n",
       "2.782241\n",
       "</td>\n",
       "</tr>\n",
       "<tr>\n",
       "<td>\n",
       "3.0\n",
       "</td>\n",
       "<td>\n",
       "2.715053\n",
       "</td>\n",
       "</tr>\n",
       "</tbody>\n",
       "</table>\n",
       "</div>"
      ],
      "text/plain": [
       "shape: (4, 2)\n",
       "┌─────────────────┬────────────┐\n",
       "│ passenger_count ┆ tip_amount │\n",
       "│ ---             ┆ ---        │\n",
       "│ f64             ┆ f64        │\n",
       "╞═════════════════╪════════════╡\n",
       "│ 2.0             ┆ 2.749387   │\n",
       "│ 1.0             ┆ 2.701872   │\n",
       "│ 4.0             ┆ 2.782241   │\n",
       "│ 3.0             ┆ 2.715053   │\n",
       "└─────────────────┴────────────┘"
      ]
     },
     "execution_count": 28,
     "metadata": {},
     "output_type": "execute_result"
    }
   ],
   "source": [
    "%%time \n",
    "(\n",
    "    pl.scan_parquet(f'{path}/*.parquet')\n",
    "    .filter(\n",
    "        (pl.col('passenger_count') > 0) &\n",
    "        (pl.col('passenger_count') < 5) &\n",
    "        (pl.col('trip_distance') > 0) &\n",
    "        (pl.col('trip_distance') < 10) &\n",
    "        (pl.col('fare_amount') > 0) &\n",
    "        (pl.col('fare_amount') < 100) &\n",
    "        (pl.col('tip_amount') > 0) &\n",
    "        (pl.col('tip_amount') < 20) &\n",
    "        (pl.col('total_amount') > 0) &\n",
    "        (pl.col('total_amount') < 100)\n",
    "    )\n",
    "    .groupby('passenger_count')\n",
    "    .agg([pl.mean('tip_amount')])\n",
    "    .collect()\n",
    "    )"
   ]
  },
  {
   "cell_type": "markdown",
   "id": "95e3c152",
   "metadata": {},
   "source": [
    "Things to note:\n",
    "\n",
    "- Polars is much faster.\n",
    "- I only have 2 parquet files. When I run the same with more files, pandas will crash my python kernel. \n",
    "- You will soon fall in love with the polars query syntax.\n",
    "\n",
    "\n",
    "\n",
    "\n",
    "\n",
    "\n",
    "## Moving Forward...\n",
    "\n",
    "If this motivational seection has convinced you to try polars instead of pandas, here is a  more structured intro. \n",
    "\n",
    "\n",
    "\n",
    "\n",
    "\n",
    "\n",
    "# Polars Series\n",
    "\n",
    "Much like pandas, polars' fundamental building block is the series. \n",
    "A series is a column of data, with a name, and a dtype.\n",
    "In the following we:\n",
    "\n",
    "1. Create a series and demonstrate basic operations on it.\n",
    "1. Demonstrate the various dtypes. \n",
    "1. Discuss missing values.\n",
    "1. Filter a series.\n",
    "\n",
    "## Series Housekeeping\n",
    "Construct a series"
   ]
  },
  {
   "cell_type": "code",
   "execution_count": 29,
   "id": "fafc337e",
   "metadata": {},
   "outputs": [
    {
     "data": {
      "text/html": [
       "<div>\n",
       "<style scoped>\n",
       "    .dataframe tbody tr th:only-of-type {\n",
       "        vertical-align: middle;\n",
       "    }\n",
       "\n",
       "    .dataframe tbody tr th {\n",
       "        vertical-align: top;\n",
       "    }\n",
       "\n",
       "    .dataframe thead th {\n",
       "        text-align: right;\n",
       "    }\n",
       "\n",
       "    .dataframe td {\n",
       "        white-space: pre;\n",
       "    }\n",
       "\n",
       "    .dataframe td {\n",
       "        padding-top: 0;\n",
       "    }\n",
       "\n",
       "    .dataframe td {\n",
       "        padding-bottom: 0;\n",
       "    }\n",
       "\n",
       "    .dataframe td {\n",
       "        line-height: 95%;\n",
       "    }\n",
       "</style>\n",
       "<table border=\"1\" class=\"dataframe\">\n",
       "<small>shape: (3,)</small>\n",
       "<thead>\n",
       "<tr>\n",
       "<th>\n",
       "a\n",
       "</th>\n",
       "</tr>\n",
       "<tr>\n",
       "<td>\n",
       "i64\n",
       "</td>\n",
       "</tr>\n",
       "</thead>\n",
       "<tbody>\n",
       "<tr>\n",
       "<td>\n",
       "1\n",
       "</td>\n",
       "</tr>\n",
       "<tr>\n",
       "<td>\n",
       "2\n",
       "</td>\n",
       "</tr>\n",
       "<tr>\n",
       "<td>\n",
       "3\n",
       "</td>\n",
       "</tr>\n",
       "</tbody>\n",
       "</table>\n",
       "</div>"
      ],
      "text/plain": [
       "shape: (3,)\n",
       "Series: 'a' [i64]\n",
       "[\n",
       "\t1\n",
       "\t2\n",
       "\t3\n",
       "]"
      ]
     },
     "execution_count": 29,
     "metadata": {},
     "output_type": "execute_result"
    }
   ],
   "source": [
    "s = pl.Series(\"a\", [1, 2, 3])\n",
    "s"
   ]
  },
  {
   "cell_type": "markdown",
   "id": "3058a551",
   "metadata": {},
   "source": [
    "Make pandas series for comparison:"
   ]
  },
  {
   "cell_type": "code",
   "execution_count": 30,
   "id": "b7e48d3c",
   "metadata": {},
   "outputs": [],
   "source": [
    "s_pandas = pd.Series([1, 2, 3], name = \"a\")"
   ]
  },
  {
   "cell_type": "code",
   "execution_count": 31,
   "id": "eb0295ac",
   "metadata": {},
   "outputs": [
    {
     "data": {
      "text/plain": [
       "polars.internals.series.series.Series"
      ]
     },
     "execution_count": 31,
     "metadata": {},
     "output_type": "execute_result"
    }
   ],
   "source": [
    "type(s)"
   ]
  },
  {
   "cell_type": "code",
   "execution_count": 32,
   "id": "2395e1f7",
   "metadata": {},
   "outputs": [
    {
     "data": {
      "text/plain": [
       "pandas.core.series.Series"
      ]
     },
     "execution_count": 32,
     "metadata": {},
     "output_type": "execute_result"
    }
   ],
   "source": [
    "type(s_pandas)"
   ]
  },
  {
   "cell_type": "code",
   "execution_count": 33,
   "id": "56d7d16e",
   "metadata": {},
   "outputs": [
    {
     "data": {
      "text/plain": [
       "Int64"
      ]
     },
     "execution_count": 33,
     "metadata": {},
     "output_type": "execute_result"
    }
   ],
   "source": [
    "s.dtype"
   ]
  },
  {
   "cell_type": "code",
   "execution_count": 34,
   "id": "fa906a78",
   "metadata": {},
   "outputs": [
    {
     "data": {
      "text/plain": [
       "dtype('int64')"
      ]
     },
     "execution_count": 34,
     "metadata": {},
     "output_type": "execute_result"
    }
   ],
   "source": [
    "s_pandas.dtype"
   ]
  },
  {
   "cell_type": "markdown",
   "id": "e1deb877",
   "metadata": {},
   "source": [
    "Renaming a series; will be very useful when operating on dataframe columns."
   ]
  },
  {
   "cell_type": "code",
   "execution_count": 35,
   "id": "4e3c9084",
   "metadata": {},
   "outputs": [
    {
     "data": {
      "text/html": [
       "<div>\n",
       "<style scoped>\n",
       "    .dataframe tbody tr th:only-of-type {\n",
       "        vertical-align: middle;\n",
       "    }\n",
       "\n",
       "    .dataframe tbody tr th {\n",
       "        vertical-align: top;\n",
       "    }\n",
       "\n",
       "    .dataframe thead th {\n",
       "        text-align: right;\n",
       "    }\n",
       "\n",
       "    .dataframe td {\n",
       "        white-space: pre;\n",
       "    }\n",
       "\n",
       "    .dataframe td {\n",
       "        padding-top: 0;\n",
       "    }\n",
       "\n",
       "    .dataframe td {\n",
       "        padding-bottom: 0;\n",
       "    }\n",
       "\n",
       "    .dataframe td {\n",
       "        line-height: 95%;\n",
       "    }\n",
       "</style>\n",
       "<table border=\"1\" class=\"dataframe\">\n",
       "<small>shape: (3,)</small>\n",
       "<thead>\n",
       "<tr>\n",
       "<th>\n",
       "b\n",
       "</th>\n",
       "</tr>\n",
       "<tr>\n",
       "<td>\n",
       "i64\n",
       "</td>\n",
       "</tr>\n",
       "</thead>\n",
       "<tbody>\n",
       "<tr>\n",
       "<td>\n",
       "1\n",
       "</td>\n",
       "</tr>\n",
       "<tr>\n",
       "<td>\n",
       "2\n",
       "</td>\n",
       "</tr>\n",
       "<tr>\n",
       "<td>\n",
       "3\n",
       "</td>\n",
       "</tr>\n",
       "</tbody>\n",
       "</table>\n",
       "</div>"
      ],
      "text/plain": [
       "shape: (3,)\n",
       "Series: 'b' [i64]\n",
       "[\n",
       "\t1\n",
       "\t2\n",
       "\t3\n",
       "]"
      ]
     },
     "execution_count": 35,
     "metadata": {},
     "output_type": "execute_result"
    }
   ],
   "source": [
    "s.alias(\"b\")"
   ]
  },
  {
   "cell_type": "code",
   "execution_count": 36,
   "id": "bc4cceba",
   "metadata": {},
   "outputs": [
    {
     "data": {
      "text/html": [
       "<div>\n",
       "<style scoped>\n",
       "    .dataframe tbody tr th:only-of-type {\n",
       "        vertical-align: middle;\n",
       "    }\n",
       "\n",
       "    .dataframe tbody tr th {\n",
       "        vertical-align: top;\n",
       "    }\n",
       "\n",
       "    .dataframe thead th {\n",
       "        text-align: right;\n",
       "    }\n",
       "\n",
       "    .dataframe td {\n",
       "        white-space: pre;\n",
       "    }\n",
       "\n",
       "    .dataframe td {\n",
       "        padding-top: 0;\n",
       "    }\n",
       "\n",
       "    .dataframe td {\n",
       "        padding-bottom: 0;\n",
       "    }\n",
       "\n",
       "    .dataframe td {\n",
       "        line-height: 95%;\n",
       "    }\n",
       "</style>\n",
       "<table border=\"1\" class=\"dataframe\">\n",
       "<small>shape: (3,)</small>\n",
       "<thead>\n",
       "<tr>\n",
       "<th>\n",
       "a\n",
       "</th>\n",
       "</tr>\n",
       "<tr>\n",
       "<td>\n",
       "i64\n",
       "</td>\n",
       "</tr>\n",
       "</thead>\n",
       "<tbody>\n",
       "<tr>\n",
       "<td>\n",
       "1\n",
       "</td>\n",
       "</tr>\n",
       "<tr>\n",
       "<td>\n",
       "2\n",
       "</td>\n",
       "</tr>\n",
       "<tr>\n",
       "<td>\n",
       "3\n",
       "</td>\n",
       "</tr>\n",
       "</tbody>\n",
       "</table>\n",
       "</div>"
      ],
      "text/plain": [
       "shape: (3,)\n",
       "Series: 'a' [i64]\n",
       "[\n",
       "\t1\n",
       "\t2\n",
       "\t3\n",
       "]"
      ]
     },
     "execution_count": 36,
     "metadata": {},
     "output_type": "execute_result"
    }
   ],
   "source": [
    "s.clone()"
   ]
  },
  {
   "cell_type": "code",
   "execution_count": 37,
   "id": "8a9a03ef",
   "metadata": {},
   "outputs": [
    {
     "data": {
      "text/html": [
       "<div>\n",
       "<style scoped>\n",
       "    .dataframe tbody tr th:only-of-type {\n",
       "        vertical-align: middle;\n",
       "    }\n",
       "\n",
       "    .dataframe tbody tr th {\n",
       "        vertical-align: top;\n",
       "    }\n",
       "\n",
       "    .dataframe thead th {\n",
       "        text-align: right;\n",
       "    }\n",
       "\n",
       "    .dataframe td {\n",
       "        white-space: pre;\n",
       "    }\n",
       "\n",
       "    .dataframe td {\n",
       "        padding-top: 0;\n",
       "    }\n",
       "\n",
       "    .dataframe td {\n",
       "        padding-bottom: 0;\n",
       "    }\n",
       "\n",
       "    .dataframe td {\n",
       "        line-height: 95%;\n",
       "    }\n",
       "</style>\n",
       "<table border=\"1\" class=\"dataframe\">\n",
       "<small>shape: (6,)</small>\n",
       "<thead>\n",
       "<tr>\n",
       "<th>\n",
       "a\n",
       "</th>\n",
       "</tr>\n",
       "<tr>\n",
       "<td>\n",
       "i64\n",
       "</td>\n",
       "</tr>\n",
       "</thead>\n",
       "<tbody>\n",
       "<tr>\n",
       "<td>\n",
       "1\n",
       "</td>\n",
       "</tr>\n",
       "<tr>\n",
       "<td>\n",
       "2\n",
       "</td>\n",
       "</tr>\n",
       "<tr>\n",
       "<td>\n",
       "3\n",
       "</td>\n",
       "</tr>\n",
       "<tr>\n",
       "<td>\n",
       "4\n",
       "</td>\n",
       "</tr>\n",
       "<tr>\n",
       "<td>\n",
       "5\n",
       "</td>\n",
       "</tr>\n",
       "<tr>\n",
       "<td>\n",
       "6\n",
       "</td>\n",
       "</tr>\n",
       "</tbody>\n",
       "</table>\n",
       "</div>"
      ],
      "text/plain": [
       "shape: (6,)\n",
       "Series: 'a' [i64]\n",
       "[\n",
       "\t1\n",
       "\t2\n",
       "\t3\n",
       "\t4\n",
       "\t5\n",
       "\t6\n",
       "]"
      ]
     },
     "execution_count": 37,
     "metadata": {},
     "output_type": "execute_result"
    }
   ],
   "source": [
    "s.clone().append(pl.Series(\"a\", [4, 5, 6]))"
   ]
  },
  {
   "cell_type": "markdown",
   "id": "7f7e46d0",
   "metadata": {},
   "source": [
    "Note: `series.append` operates in-place. That is why we cloned the series first.\n",
    "\n",
    "Flatten a list of lists using `explode()`."
   ]
  },
  {
   "cell_type": "code",
   "execution_count": 38,
   "id": "d7a01f4f",
   "metadata": {},
   "outputs": [
    {
     "data": {
      "text/html": [
       "<div>\n",
       "<style scoped>\n",
       "    .dataframe tbody tr th:only-of-type {\n",
       "        vertical-align: middle;\n",
       "    }\n",
       "\n",
       "    .dataframe tbody tr th {\n",
       "        vertical-align: top;\n",
       "    }\n",
       "\n",
       "    .dataframe thead th {\n",
       "        text-align: right;\n",
       "    }\n",
       "\n",
       "    .dataframe td {\n",
       "        white-space: pre;\n",
       "    }\n",
       "\n",
       "    .dataframe td {\n",
       "        padding-top: 0;\n",
       "    }\n",
       "\n",
       "    .dataframe td {\n",
       "        padding-bottom: 0;\n",
       "    }\n",
       "\n",
       "    .dataframe td {\n",
       "        line-height: 95%;\n",
       "    }\n",
       "</style>\n",
       "<table border=\"1\" class=\"dataframe\">\n",
       "<small>shape: (6,)</small>\n",
       "<thead>\n",
       "<tr>\n",
       "<th>\n",
       "a\n",
       "</th>\n",
       "</tr>\n",
       "<tr>\n",
       "<td>\n",
       "i64\n",
       "</td>\n",
       "</tr>\n",
       "</thead>\n",
       "<tbody>\n",
       "<tr>\n",
       "<td>\n",
       "1\n",
       "</td>\n",
       "</tr>\n",
       "<tr>\n",
       "<td>\n",
       "2\n",
       "</td>\n",
       "</tr>\n",
       "<tr>\n",
       "<td>\n",
       "3\n",
       "</td>\n",
       "</tr>\n",
       "<tr>\n",
       "<td>\n",
       "4\n",
       "</td>\n",
       "</tr>\n",
       "<tr>\n",
       "<td>\n",
       "9\n",
       "</td>\n",
       "</tr>\n",
       "<tr>\n",
       "<td>\n",
       "10\n",
       "</td>\n",
       "</tr>\n",
       "</tbody>\n",
       "</table>\n",
       "</div>"
      ],
      "text/plain": [
       "shape: (6,)\n",
       "Series: 'a' [i64]\n",
       "[\n",
       "\t1\n",
       "\t2\n",
       "\t3\n",
       "\t4\n",
       "\t9\n",
       "\t10\n",
       "]"
      ]
     },
     "execution_count": 38,
     "metadata": {},
     "output_type": "execute_result"
    }
   ],
   "source": [
    "pl.Series(\"a\", [[1, 2], [3, 4], [9, 10]]).explode()"
   ]
  },
  {
   "cell_type": "code",
   "execution_count": 39,
   "id": "1a401359",
   "metadata": {},
   "outputs": [
    {
     "data": {
      "text/html": [
       "<div>\n",
       "<style scoped>\n",
       "    .dataframe tbody tr th:only-of-type {\n",
       "        vertical-align: middle;\n",
       "    }\n",
       "\n",
       "    .dataframe tbody tr th {\n",
       "        vertical-align: top;\n",
       "    }\n",
       "\n",
       "    .dataframe thead th {\n",
       "        text-align: right;\n",
       "    }\n",
       "\n",
       "    .dataframe td {\n",
       "        white-space: pre;\n",
       "    }\n",
       "\n",
       "    .dataframe td {\n",
       "        padding-top: 0;\n",
       "    }\n",
       "\n",
       "    .dataframe td {\n",
       "        padding-bottom: 0;\n",
       "    }\n",
       "\n",
       "    .dataframe td {\n",
       "        line-height: 95%;\n",
       "    }\n",
       "</style>\n",
       "<table border=\"1\" class=\"dataframe\">\n",
       "<small>shape: (5,)</small>\n",
       "<thead>\n",
       "<tr>\n",
       "<th>\n",
       "a\n",
       "</th>\n",
       "</tr>\n",
       "<tr>\n",
       "<td>\n",
       "i64\n",
       "</td>\n",
       "</tr>\n",
       "</thead>\n",
       "<tbody>\n",
       "<tr>\n",
       "<td>\n",
       "1\n",
       "</td>\n",
       "</tr>\n",
       "<tr>\n",
       "<td>\n",
       "2\n",
       "</td>\n",
       "</tr>\n",
       "<tr>\n",
       "<td>\n",
       "3\n",
       "</td>\n",
       "</tr>\n",
       "<tr>\n",
       "<td>\n",
       "666\n",
       "</td>\n",
       "</tr>\n",
       "<tr>\n",
       "<td>\n",
       "666\n",
       "</td>\n",
       "</tr>\n",
       "</tbody>\n",
       "</table>\n",
       "</div>"
      ],
      "text/plain": [
       "shape: (5,)\n",
       "Series: 'a' [i64]\n",
       "[\n",
       "\t1\n",
       "\t2\n",
       "\t3\n",
       "\t666\n",
       "\t666\n",
       "]"
      ]
     },
     "execution_count": 39,
     "metadata": {},
     "output_type": "execute_result"
    }
   ],
   "source": [
    "s.extend_constant(666, n=2)"
   ]
  },
  {
   "cell_type": "code",
   "execution_count": 40,
   "id": "cc9c9280",
   "metadata": {},
   "outputs": [],
   "source": [
    "#| eval: false\n",
    "s.new_from_index()"
   ]
  },
  {
   "cell_type": "code",
   "execution_count": 41,
   "id": "00cb3e94",
   "metadata": {},
   "outputs": [
    {
     "data": {
      "text/html": [
       "<div>\n",
       "<style scoped>\n",
       "    .dataframe tbody tr th:only-of-type {\n",
       "        vertical-align: middle;\n",
       "    }\n",
       "\n",
       "    .dataframe tbody tr th {\n",
       "        vertical-align: top;\n",
       "    }\n",
       "\n",
       "    .dataframe thead th {\n",
       "        text-align: right;\n",
       "    }\n",
       "\n",
       "    .dataframe td {\n",
       "        white-space: pre;\n",
       "    }\n",
       "\n",
       "    .dataframe td {\n",
       "        padding-top: 0;\n",
       "    }\n",
       "\n",
       "    .dataframe td {\n",
       "        padding-bottom: 0;\n",
       "    }\n",
       "\n",
       "    .dataframe td {\n",
       "        line-height: 95%;\n",
       "    }\n",
       "</style>\n",
       "<table border=\"1\" class=\"dataframe\">\n",
       "<small>shape: (3,)</small>\n",
       "<thead>\n",
       "<tr>\n",
       "<th>\n",
       "a\n",
       "</th>\n",
       "</tr>\n",
       "<tr>\n",
       "<td>\n",
       "i64\n",
       "</td>\n",
       "</tr>\n",
       "</thead>\n",
       "<tbody>\n",
       "<tr>\n",
       "<td>\n",
       "1\n",
       "</td>\n",
       "</tr>\n",
       "<tr>\n",
       "<td>\n",
       "2\n",
       "</td>\n",
       "</tr>\n",
       "<tr>\n",
       "<td>\n",
       "3\n",
       "</td>\n",
       "</tr>\n",
       "</tbody>\n",
       "</table>\n",
       "</div>"
      ],
      "text/plain": [
       "shape: (3,)\n",
       "Series: 'a' [i64]\n",
       "[\n",
       "\t1\n",
       "\t2\n",
       "\t3\n",
       "]"
      ]
     },
     "execution_count": 40,
     "metadata": {},
     "output_type": "execute_result"
    }
   ],
   "source": [
    "s.rechunk()"
   ]
  },
  {
   "cell_type": "code",
   "execution_count": 42,
   "id": "db97aa35",
   "metadata": {},
   "outputs": [
    {
     "data": {
      "text/html": [
       "<div>\n",
       "<style scoped>\n",
       "    .dataframe tbody tr th:only-of-type {\n",
       "        vertical-align: middle;\n",
       "    }\n",
       "\n",
       "    .dataframe tbody tr th {\n",
       "        vertical-align: top;\n",
       "    }\n",
       "\n",
       "    .dataframe thead th {\n",
       "        text-align: right;\n",
       "    }\n",
       "\n",
       "    .dataframe td {\n",
       "        white-space: pre;\n",
       "    }\n",
       "\n",
       "    .dataframe td {\n",
       "        padding-top: 0;\n",
       "    }\n",
       "\n",
       "    .dataframe td {\n",
       "        padding-bottom: 0;\n",
       "    }\n",
       "\n",
       "    .dataframe td {\n",
       "        line-height: 95%;\n",
       "    }\n",
       "</style>\n",
       "<table border=\"1\" class=\"dataframe\">\n",
       "<small>shape: (3,)</small>\n",
       "<thead>\n",
       "<tr>\n",
       "<th>\n",
       "b\n",
       "</th>\n",
       "</tr>\n",
       "<tr>\n",
       "<td>\n",
       "i64\n",
       "</td>\n",
       "</tr>\n",
       "</thead>\n",
       "<tbody>\n",
       "<tr>\n",
       "<td>\n",
       "1\n",
       "</td>\n",
       "</tr>\n",
       "<tr>\n",
       "<td>\n",
       "2\n",
       "</td>\n",
       "</tr>\n",
       "<tr>\n",
       "<td>\n",
       "3\n",
       "</td>\n",
       "</tr>\n",
       "</tbody>\n",
       "</table>\n",
       "</div>"
      ],
      "text/plain": [
       "shape: (3,)\n",
       "Series: 'b' [i64]\n",
       "[\n",
       "\t1\n",
       "\t2\n",
       "\t3\n",
       "]"
      ]
     },
     "execution_count": 41,
     "metadata": {},
     "output_type": "execute_result"
    }
   ],
   "source": [
    "s.rename(\"b\", in_place=False) # has an in_place option. Unlike .alias()"
   ]
  },
  {
   "cell_type": "code",
   "execution_count": 43,
   "id": "f58476ae",
   "metadata": {},
   "outputs": [
    {
     "data": {
      "text/html": [
       "<div>\n",
       "<style scoped>\n",
       "    .dataframe tbody tr th:only-of-type {\n",
       "        vertical-align: middle;\n",
       "    }\n",
       "\n",
       "    .dataframe tbody tr th {\n",
       "        vertical-align: top;\n",
       "    }\n",
       "\n",
       "    .dataframe thead th {\n",
       "        text-align: right;\n",
       "    }\n",
       "\n",
       "    .dataframe td {\n",
       "        white-space: pre;\n",
       "    }\n",
       "\n",
       "    .dataframe td {\n",
       "        padding-top: 0;\n",
       "    }\n",
       "\n",
       "    .dataframe td {\n",
       "        padding-bottom: 0;\n",
       "    }\n",
       "\n",
       "    .dataframe td {\n",
       "        line-height: 95%;\n",
       "    }\n",
       "</style>\n",
       "<table border=\"1\" class=\"dataframe\">\n",
       "<small>shape: (3, 3)</small>\n",
       "<thead>\n",
       "<tr>\n",
       "<th>\n",
       "a_1\n",
       "</th>\n",
       "<th>\n",
       "a_2\n",
       "</th>\n",
       "<th>\n",
       "a_3\n",
       "</th>\n",
       "</tr>\n",
       "<tr>\n",
       "<td>\n",
       "u8\n",
       "</td>\n",
       "<td>\n",
       "u8\n",
       "</td>\n",
       "<td>\n",
       "u8\n",
       "</td>\n",
       "</tr>\n",
       "</thead>\n",
       "<tbody>\n",
       "<tr>\n",
       "<td>\n",
       "1\n",
       "</td>\n",
       "<td>\n",
       "0\n",
       "</td>\n",
       "<td>\n",
       "0\n",
       "</td>\n",
       "</tr>\n",
       "<tr>\n",
       "<td>\n",
       "0\n",
       "</td>\n",
       "<td>\n",
       "1\n",
       "</td>\n",
       "<td>\n",
       "0\n",
       "</td>\n",
       "</tr>\n",
       "<tr>\n",
       "<td>\n",
       "0\n",
       "</td>\n",
       "<td>\n",
       "0\n",
       "</td>\n",
       "<td>\n",
       "1\n",
       "</td>\n",
       "</tr>\n",
       "</tbody>\n",
       "</table>\n",
       "</div>"
      ],
      "text/plain": [
       "shape: (3, 3)\n",
       "┌─────┬─────┬─────┐\n",
       "│ a_1 ┆ a_2 ┆ a_3 │\n",
       "│ --- ┆ --- ┆ --- │\n",
       "│ u8  ┆ u8  ┆ u8  │\n",
       "╞═════╪═════╪═════╡\n",
       "│ 1   ┆ 0   ┆ 0   │\n",
       "│ 0   ┆ 1   ┆ 0   │\n",
       "│ 0   ┆ 0   ┆ 1   │\n",
       "└─────┴─────┴─────┘"
      ]
     },
     "execution_count": 42,
     "metadata": {},
     "output_type": "execute_result"
    }
   ],
   "source": [
    "s.to_dummies()"
   ]
  },
  {
   "cell_type": "code",
   "execution_count": 44,
   "id": "d324e7f9",
   "metadata": {},
   "outputs": [
    {
     "data": {
      "text/html": [
       "<div>\n",
       "<style scoped>\n",
       "    .dataframe tbody tr th:only-of-type {\n",
       "        vertical-align: middle;\n",
       "    }\n",
       "\n",
       "    .dataframe tbody tr th {\n",
       "        vertical-align: top;\n",
       "    }\n",
       "\n",
       "    .dataframe thead th {\n",
       "        text-align: right;\n",
       "    }\n",
       "\n",
       "    .dataframe td {\n",
       "        white-space: pre;\n",
       "    }\n",
       "\n",
       "    .dataframe td {\n",
       "        padding-top: 0;\n",
       "    }\n",
       "\n",
       "    .dataframe td {\n",
       "        padding-bottom: 0;\n",
       "    }\n",
       "\n",
       "    .dataframe td {\n",
       "        line-height: 95%;\n",
       "    }\n",
       "</style>\n",
       "<table border=\"1\" class=\"dataframe\">\n",
       "<small>shape: (0,)</small>\n",
       "<thead>\n",
       "<tr>\n",
       "<th>\n",
       "a\n",
       "</th>\n",
       "</tr>\n",
       "<tr>\n",
       "<td>\n",
       "i64\n",
       "</td>\n",
       "</tr>\n",
       "</thead>\n",
       "<tbody>\n",
       "</tbody>\n",
       "</table>\n",
       "</div>"
      ],
      "text/plain": [
       "shape: (0,)\n",
       "Series: 'a' [i64]\n",
       "[\n",
       "]"
      ]
     },
     "execution_count": 43,
     "metadata": {},
     "output_type": "execute_result"
    }
   ],
   "source": [
    "s.cleared() # creates an empty series, with same dtype"
   ]
  },
  {
   "cell_type": "markdown",
   "id": "c314917f",
   "metadata": {},
   "source": [
    "Consturcting a series of floats, for later use."
   ]
  },
  {
   "cell_type": "code",
   "execution_count": 45,
   "id": "c183eb56",
   "metadata": {},
   "outputs": [
    {
     "data": {
      "text/html": [
       "<div>\n",
       "<style scoped>\n",
       "    .dataframe tbody tr th:only-of-type {\n",
       "        vertical-align: middle;\n",
       "    }\n",
       "\n",
       "    .dataframe tbody tr th {\n",
       "        vertical-align: top;\n",
       "    }\n",
       "\n",
       "    .dataframe thead th {\n",
       "        text-align: right;\n",
       "    }\n",
       "\n",
       "    .dataframe td {\n",
       "        white-space: pre;\n",
       "    }\n",
       "\n",
       "    .dataframe td {\n",
       "        padding-top: 0;\n",
       "    }\n",
       "\n",
       "    .dataframe td {\n",
       "        padding-bottom: 0;\n",
       "    }\n",
       "\n",
       "    .dataframe td {\n",
       "        line-height: 95%;\n",
       "    }\n",
       "</style>\n",
       "<table border=\"1\" class=\"dataframe\">\n",
       "<small>shape: (3,)</small>\n",
       "<thead>\n",
       "<tr>\n",
       "<th>\n",
       "a\n",
       "</th>\n",
       "</tr>\n",
       "<tr>\n",
       "<td>\n",
       "f64\n",
       "</td>\n",
       "</tr>\n",
       "</thead>\n",
       "<tbody>\n",
       "<tr>\n",
       "<td>\n",
       "1.0\n",
       "</td>\n",
       "</tr>\n",
       "<tr>\n",
       "<td>\n",
       "2.0\n",
       "</td>\n",
       "</tr>\n",
       "<tr>\n",
       "<td>\n",
       "3.0\n",
       "</td>\n",
       "</tr>\n",
       "</tbody>\n",
       "</table>\n",
       "</div>"
      ],
      "text/plain": [
       "shape: (3,)\n",
       "Series: 'a' [f64]\n",
       "[\n",
       "\t1.0\n",
       "\t2.0\n",
       "\t3.0\n",
       "]"
      ]
     },
     "execution_count": 44,
     "metadata": {},
     "output_type": "execute_result"
    }
   ],
   "source": [
    "f = pl.Series(\"a\", [1., 2., 3.])\n",
    "f"
   ]
  },
  {
   "cell_type": "code",
   "execution_count": 46,
   "id": "c43425f4",
   "metadata": {},
   "outputs": [
    {
     "data": {
      "text/plain": [
       "Float64"
      ]
     },
     "execution_count": 45,
     "metadata": {},
     "output_type": "execute_result"
    }
   ],
   "source": [
    "f.dtype"
   ]
  },
  {
   "cell_type": "markdown",
   "id": "602ee71f",
   "metadata": {},
   "source": [
    "## Memory Representation of Series\n",
    "\n",
    "Object size in memory. Super useful for profiling:"
   ]
  },
  {
   "cell_type": "code",
   "execution_count": 47,
   "id": "258ea1fb",
   "metadata": {},
   "outputs": [
    {
     "data": {
      "text/plain": [
       "2.2351741790771484e-08"
      ]
     },
     "execution_count": 46,
     "metadata": {},
     "output_type": "execute_result"
    }
   ],
   "source": [
    "s.estimated_size(unit=\"gb\")"
   ]
  },
  {
   "cell_type": "code",
   "execution_count": 48,
   "id": "9c3170c1",
   "metadata": {},
   "outputs": [
    {
     "data": {
      "text/plain": [
       "[3]"
      ]
     },
     "execution_count": 47,
     "metadata": {},
     "output_type": "execute_result"
    }
   ],
   "source": [
    "s.chunk_lengths() # what is the length of each memory chunk?"
   ]
  },
  {
   "cell_type": "markdown",
   "id": "3b0cf57a",
   "metadata": {},
   "source": [
    "## Filtering and Subsetting\n"
   ]
  },
  {
   "cell_type": "code",
   "execution_count": 49,
   "id": "f8531ee9",
   "metadata": {},
   "outputs": [
    {
     "data": {
      "text/plain": [
       "1"
      ]
     },
     "execution_count": 48,
     "metadata": {},
     "output_type": "execute_result"
    }
   ],
   "source": [
    "s[0]"
   ]
  },
  {
   "cell_type": "markdown",
   "id": "ef6cff81",
   "metadata": {},
   "source": [
    "Filtering with boolneas requires a series of booleans, not a list:"
   ]
  },
  {
   "cell_type": "code",
   "execution_count": 50,
   "id": "d06fc624",
   "metadata": {},
   "outputs": [
    {
     "data": {
      "text/html": [
       "<div>\n",
       "<style scoped>\n",
       "    .dataframe tbody tr th:only-of-type {\n",
       "        vertical-align: middle;\n",
       "    }\n",
       "\n",
       "    .dataframe tbody tr th {\n",
       "        vertical-align: top;\n",
       "    }\n",
       "\n",
       "    .dataframe thead th {\n",
       "        text-align: right;\n",
       "    }\n",
       "\n",
       "    .dataframe td {\n",
       "        white-space: pre;\n",
       "    }\n",
       "\n",
       "    .dataframe td {\n",
       "        padding-top: 0;\n",
       "    }\n",
       "\n",
       "    .dataframe td {\n",
       "        padding-bottom: 0;\n",
       "    }\n",
       "\n",
       "    .dataframe td {\n",
       "        line-height: 95%;\n",
       "    }\n",
       "</style>\n",
       "<table border=\"1\" class=\"dataframe\">\n",
       "<small>shape: (2,)</small>\n",
       "<thead>\n",
       "<tr>\n",
       "<th>\n",
       "a\n",
       "</th>\n",
       "</tr>\n",
       "<tr>\n",
       "<td>\n",
       "i64\n",
       "</td>\n",
       "</tr>\n",
       "</thead>\n",
       "<tbody>\n",
       "<tr>\n",
       "<td>\n",
       "1\n",
       "</td>\n",
       "</tr>\n",
       "<tr>\n",
       "<td>\n",
       "3\n",
       "</td>\n",
       "</tr>\n",
       "</tbody>\n",
       "</table>\n",
       "</div>"
      ],
      "text/plain": [
       "shape: (2,)\n",
       "Series: 'a' [i64]\n",
       "[\n",
       "\t1\n",
       "\t3\n",
       "]"
      ]
     },
     "execution_count": 49,
     "metadata": {},
     "output_type": "execute_result"
    }
   ],
   "source": [
    "s.filter(pl.Series(\"a\", [True, False, True])) # works"
   ]
  },
  {
   "cell_type": "markdown",
   "id": "554e810d",
   "metadata": {},
   "source": [
    "Will not work:"
   ]
  },
  {
   "cell_type": "code",
   "execution_count": 51,
   "id": "ae14d776",
   "metadata": {},
   "outputs": [
    {
     "ename": "NotImplementedError",
     "evalue": "Unsupported idxs datatype.",
     "output_type": "error",
     "traceback": [
      "\u001b[0;31m---------------------------------------------------------------------------\u001b[0m",
      "\u001b[0;31mNotImplementedError\u001b[0m                       Traceback (most recent call last)",
      "Cell \u001b[0;32mIn[50], line 1\u001b[0m\n\u001b[0;32m----> 1\u001b[0m \u001b[43ms\u001b[49m\u001b[43m[\u001b[49m\u001b[43m[\u001b[49m\u001b[38;5;28;43;01mTrue\u001b[39;49;00m\u001b[43m,\u001b[49m\u001b[43m \u001b[49m\u001b[38;5;28;43;01mFalse\u001b[39;49;00m\u001b[43m,\u001b[49m\u001b[43m \u001b[49m\u001b[38;5;28;43;01mTrue\u001b[39;49;00m\u001b[43m]\u001b[49m\u001b[43m]\u001b[49m\n",
      "File \u001b[0;32m~/workspace/practicing_python_2/venv/lib/python3.10/site-packages/polars/internals/series/series.py:825\u001b[0m, in \u001b[0;36mSeries.__getitem__\u001b[0;34m(self, item)\u001b[0m\n\u001b[1;32m    823\u001b[0m \u001b[38;5;66;03m# Sequence of integers (slow to check if sequence contains all integers).\u001b[39;00m\n\u001b[1;32m    824\u001b[0m \u001b[38;5;28;01melif\u001b[39;00m is_int_sequence(item):\n\u001b[0;32m--> 825\u001b[0m     \u001b[38;5;28;01mreturn\u001b[39;00m wrap_s(\u001b[38;5;28mself\u001b[39m\u001b[38;5;241m.\u001b[39m_s\u001b[38;5;241m.\u001b[39mtake_with_series(\u001b[38;5;28;43mself\u001b[39;49m\u001b[38;5;241;43m.\u001b[39;49m\u001b[43m_pos_idxs\u001b[49m\u001b[43m(\u001b[49m\u001b[43mSeries\u001b[49m\u001b[43m(\u001b[49m\u001b[38;5;124;43m\"\u001b[39;49m\u001b[38;5;124;43m\"\u001b[39;49m\u001b[43m,\u001b[49m\u001b[43m \u001b[49m\u001b[43mitem\u001b[49m\u001b[43m)\u001b[49m\u001b[43m)\u001b[49m\u001b[38;5;241m.\u001b[39m_s))\n\u001b[1;32m    827\u001b[0m \u001b[38;5;66;03m# Check for boolean masks last as this is deprecated functionality and\u001b[39;00m\n\u001b[1;32m    828\u001b[0m \u001b[38;5;66;03m# thus can be a slow path.\u001b[39;00m\n\u001b[1;32m    830\u001b[0m \u001b[38;5;28;01melif\u001b[39;00m \u001b[38;5;28misinstance\u001b[39m(item, Series) \u001b[38;5;129;01mand\u001b[39;00m item\u001b[38;5;241m.\u001b[39mdtype \u001b[38;5;241m==\u001b[39m Boolean:\n",
      "File \u001b[0;32m~/workspace/practicing_python_2/venv/lib/python3.10/site-packages/polars/internals/series/series.py:741\u001b[0m, in \u001b[0;36mSeries._pos_idxs\u001b[0;34m(self, idxs)\u001b[0m\n\u001b[1;32m    735\u001b[0m                 idxs \u001b[38;5;241m=\u001b[39m idxs\u001b[38;5;241m.\u001b[39mastype(\n\u001b[1;32m    736\u001b[0m                     np\u001b[38;5;241m.\u001b[39muint32 \u001b[38;5;28;01mif\u001b[39;00m idx_type \u001b[38;5;241m==\u001b[39m UInt32 \u001b[38;5;28;01melse\u001b[39;00m np\u001b[38;5;241m.\u001b[39muint64\n\u001b[1;32m    737\u001b[0m                 )\n\u001b[1;32m    739\u001b[0m         \u001b[38;5;28;01mreturn\u001b[39;00m Series(\u001b[38;5;124m\"\u001b[39m\u001b[38;5;124m\"\u001b[39m, idxs, dtype\u001b[38;5;241m=\u001b[39midx_type)\n\u001b[0;32m--> 741\u001b[0m \u001b[38;5;28;01mraise\u001b[39;00m \u001b[38;5;167;01mNotImplementedError\u001b[39;00m(\u001b[38;5;124m\"\u001b[39m\u001b[38;5;124mUnsupported idxs datatype.\u001b[39m\u001b[38;5;124m\"\u001b[39m)\n",
      "\u001b[0;31mNotImplementedError\u001b[0m: Unsupported idxs datatype."
     ]
    }
   ],
   "source": [
    "#| eval: true\n",
    "\n",
    "s[[True, False, True]]"
   ]
  },
  {
   "cell_type": "markdown",
   "id": "6676597f",
   "metadata": {},
   "source": [
    "Don't be confused with pandas!"
   ]
  },
  {
   "cell_type": "code",
   "execution_count": 52,
   "id": "34c950eb",
   "metadata": {},
   "outputs": [],
   "source": [
    "#| eval: false\n",
    "\n",
    "s.loc[[True, False, True]] "
   ]
  },
  {
   "cell_type": "code",
   "execution_count": 53,
   "id": "3df2e749",
   "metadata": {},
   "outputs": [
    {
     "data": {
      "text/html": [
       "<div>\n",
       "<style scoped>\n",
       "    .dataframe tbody tr th:only-of-type {\n",
       "        vertical-align: middle;\n",
       "    }\n",
       "\n",
       "    .dataframe tbody tr th {\n",
       "        vertical-align: top;\n",
       "    }\n",
       "\n",
       "    .dataframe thead th {\n",
       "        text-align: right;\n",
       "    }\n",
       "\n",
       "    .dataframe td {\n",
       "        white-space: pre;\n",
       "    }\n",
       "\n",
       "    .dataframe td {\n",
       "        padding-top: 0;\n",
       "    }\n",
       "\n",
       "    .dataframe td {\n",
       "        padding-bottom: 0;\n",
       "    }\n",
       "\n",
       "    .dataframe td {\n",
       "        line-height: 95%;\n",
       "    }\n",
       "</style>\n",
       "<table border=\"1\" class=\"dataframe\">\n",
       "<small>shape: (2,)</small>\n",
       "<thead>\n",
       "<tr>\n",
       "<th>\n",
       "a\n",
       "</th>\n",
       "</tr>\n",
       "<tr>\n",
       "<td>\n",
       "i64\n",
       "</td>\n",
       "</tr>\n",
       "</thead>\n",
       "<tbody>\n",
       "<tr>\n",
       "<td>\n",
       "1\n",
       "</td>\n",
       "</tr>\n",
       "<tr>\n",
       "<td>\n",
       "2\n",
       "</td>\n",
       "</tr>\n",
       "</tbody>\n",
       "</table>\n",
       "</div>"
      ],
      "text/plain": [
       "shape: (2,)\n",
       "Series: 'a' [i64]\n",
       "[\n",
       "\t1\n",
       "\t2\n",
       "]"
      ]
     },
     "execution_count": 51,
     "metadata": {},
     "output_type": "execute_result"
    }
   ],
   "source": [
    "s.head(2)"
   ]
  },
  {
   "cell_type": "code",
   "execution_count": 54,
   "id": "dd7d93bc",
   "metadata": {},
   "outputs": [
    {
     "data": {
      "text/html": [
       "<div>\n",
       "<style scoped>\n",
       "    .dataframe tbody tr th:only-of-type {\n",
       "        vertical-align: middle;\n",
       "    }\n",
       "\n",
       "    .dataframe tbody tr th {\n",
       "        vertical-align: top;\n",
       "    }\n",
       "\n",
       "    .dataframe thead th {\n",
       "        text-align: right;\n",
       "    }\n",
       "\n",
       "    .dataframe td {\n",
       "        white-space: pre;\n",
       "    }\n",
       "\n",
       "    .dataframe td {\n",
       "        padding-top: 0;\n",
       "    }\n",
       "\n",
       "    .dataframe td {\n",
       "        padding-bottom: 0;\n",
       "    }\n",
       "\n",
       "    .dataframe td {\n",
       "        line-height: 95%;\n",
       "    }\n",
       "</style>\n",
       "<table border=\"1\" class=\"dataframe\">\n",
       "<small>shape: (2,)</small>\n",
       "<thead>\n",
       "<tr>\n",
       "<th>\n",
       "a\n",
       "</th>\n",
       "</tr>\n",
       "<tr>\n",
       "<td>\n",
       "i64\n",
       "</td>\n",
       "</tr>\n",
       "</thead>\n",
       "<tbody>\n",
       "<tr>\n",
       "<td>\n",
       "1\n",
       "</td>\n",
       "</tr>\n",
       "<tr>\n",
       "<td>\n",
       "2\n",
       "</td>\n",
       "</tr>\n",
       "</tbody>\n",
       "</table>\n",
       "</div>"
      ],
      "text/plain": [
       "shape: (2,)\n",
       "Series: 'a' [i64]\n",
       "[\n",
       "\t1\n",
       "\t2\n",
       "]"
      ]
     },
     "execution_count": 52,
     "metadata": {},
     "output_type": "execute_result"
    }
   ],
   "source": [
    "s.limit(2)"
   ]
  },
  {
   "cell_type": "markdown",
   "id": "1c683c93",
   "metadata": {},
   "source": [
    "Negative indexing is not supported [TODO: verify]:"
   ]
  },
  {
   "cell_type": "code",
   "execution_count": 55,
   "id": "73231019",
   "metadata": {},
   "outputs": [],
   "source": [
    "#| eval: false\n",
    "\n",
    "s.head(-1)\n",
    "s.limit(-1)"
   ]
  },
  {
   "cell_type": "code",
   "execution_count": 56,
   "id": "2e654094",
   "metadata": {},
   "outputs": [
    {
     "data": {
      "text/html": [
       "<div>\n",
       "<style scoped>\n",
       "    .dataframe tbody tr th:only-of-type {\n",
       "        vertical-align: middle;\n",
       "    }\n",
       "\n",
       "    .dataframe tbody tr th {\n",
       "        vertical-align: top;\n",
       "    }\n",
       "\n",
       "    .dataframe thead th {\n",
       "        text-align: right;\n",
       "    }\n",
       "\n",
       "    .dataframe td {\n",
       "        white-space: pre;\n",
       "    }\n",
       "\n",
       "    .dataframe td {\n",
       "        padding-top: 0;\n",
       "    }\n",
       "\n",
       "    .dataframe td {\n",
       "        padding-bottom: 0;\n",
       "    }\n",
       "\n",
       "    .dataframe td {\n",
       "        line-height: 95%;\n",
       "    }\n",
       "</style>\n",
       "<table border=\"1\" class=\"dataframe\">\n",
       "<small>shape: (2,)</small>\n",
       "<thead>\n",
       "<tr>\n",
       "<th>\n",
       "a\n",
       "</th>\n",
       "</tr>\n",
       "<tr>\n",
       "<td>\n",
       "i64\n",
       "</td>\n",
       "</tr>\n",
       "</thead>\n",
       "<tbody>\n",
       "<tr>\n",
       "<td>\n",
       "2\n",
       "</td>\n",
       "</tr>\n",
       "<tr>\n",
       "<td>\n",
       "3\n",
       "</td>\n",
       "</tr>\n",
       "</tbody>\n",
       "</table>\n",
       "</div>"
      ],
      "text/plain": [
       "shape: (2,)\n",
       "Series: 'a' [i64]\n",
       "[\n",
       "\t2\n",
       "\t3\n",
       "]"
      ]
     },
     "execution_count": 53,
     "metadata": {},
     "output_type": "execute_result"
    }
   ],
   "source": [
    "s.tail(2)"
   ]
  },
  {
   "cell_type": "code",
   "execution_count": 57,
   "id": "eaf60841",
   "metadata": {},
   "outputs": [
    {
     "data": {
      "text/html": [
       "<div>\n",
       "<style scoped>\n",
       "    .dataframe tbody tr th:only-of-type {\n",
       "        vertical-align: middle;\n",
       "    }\n",
       "\n",
       "    .dataframe tbody tr th {\n",
       "        vertical-align: top;\n",
       "    }\n",
       "\n",
       "    .dataframe thead th {\n",
       "        text-align: right;\n",
       "    }\n",
       "\n",
       "    .dataframe td {\n",
       "        white-space: pre;\n",
       "    }\n",
       "\n",
       "    .dataframe td {\n",
       "        padding-top: 0;\n",
       "    }\n",
       "\n",
       "    .dataframe td {\n",
       "        padding-bottom: 0;\n",
       "    }\n",
       "\n",
       "    .dataframe td {\n",
       "        line-height: 95%;\n",
       "    }\n",
       "</style>\n",
       "<table border=\"1\" class=\"dataframe\">\n",
       "<small>shape: (2,)</small>\n",
       "<thead>\n",
       "<tr>\n",
       "<th>\n",
       "a\n",
       "</th>\n",
       "</tr>\n",
       "<tr>\n",
       "<td>\n",
       "i64\n",
       "</td>\n",
       "</tr>\n",
       "</thead>\n",
       "<tbody>\n",
       "<tr>\n",
       "<td>\n",
       "1\n",
       "</td>\n",
       "</tr>\n",
       "<tr>\n",
       "<td>\n",
       "3\n",
       "</td>\n",
       "</tr>\n",
       "</tbody>\n",
       "</table>\n",
       "</div>"
      ],
      "text/plain": [
       "shape: (2,)\n",
       "Series: 'a' [i64]\n",
       "[\n",
       "\t1\n",
       "\t3\n",
       "]"
      ]
     },
     "execution_count": 54,
     "metadata": {},
     "output_type": "execute_result"
    }
   ],
   "source": [
    "s.sample(2, with_replacement=False)"
   ]
  },
  {
   "cell_type": "code",
   "execution_count": 58,
   "id": "41e72674",
   "metadata": {},
   "outputs": [
    {
     "data": {
      "text/html": [
       "<div>\n",
       "<style scoped>\n",
       "    .dataframe tbody tr th:only-of-type {\n",
       "        vertical-align: middle;\n",
       "    }\n",
       "\n",
       "    .dataframe tbody tr th {\n",
       "        vertical-align: top;\n",
       "    }\n",
       "\n",
       "    .dataframe thead th {\n",
       "        text-align: right;\n",
       "    }\n",
       "\n",
       "    .dataframe td {\n",
       "        white-space: pre;\n",
       "    }\n",
       "\n",
       "    .dataframe td {\n",
       "        padding-top: 0;\n",
       "    }\n",
       "\n",
       "    .dataframe td {\n",
       "        padding-bottom: 0;\n",
       "    }\n",
       "\n",
       "    .dataframe td {\n",
       "        line-height: 95%;\n",
       "    }\n",
       "</style>\n",
       "<table border=\"1\" class=\"dataframe\">\n",
       "<small>shape: (2,)</small>\n",
       "<thead>\n",
       "<tr>\n",
       "<th>\n",
       "a\n",
       "</th>\n",
       "</tr>\n",
       "<tr>\n",
       "<td>\n",
       "i64\n",
       "</td>\n",
       "</tr>\n",
       "</thead>\n",
       "<tbody>\n",
       "<tr>\n",
       "<td>\n",
       "1\n",
       "</td>\n",
       "</tr>\n",
       "<tr>\n",
       "<td>\n",
       "3\n",
       "</td>\n",
       "</tr>\n",
       "</tbody>\n",
       "</table>\n",
       "</div>"
      ],
      "text/plain": [
       "shape: (2,)\n",
       "Series: 'a' [i64]\n",
       "[\n",
       "\t1\n",
       "\t3\n",
       "]"
      ]
     },
     "execution_count": 55,
     "metadata": {},
     "output_type": "execute_result"
    }
   ],
   "source": [
    "s.take([0, 2]) # same as .iloc"
   ]
  },
  {
   "cell_type": "code",
   "execution_count": 59,
   "id": "bf15a266",
   "metadata": {},
   "outputs": [
    {
     "data": {
      "text/html": [
       "<div>\n",
       "<style scoped>\n",
       "    .dataframe tbody tr th:only-of-type {\n",
       "        vertical-align: middle;\n",
       "    }\n",
       "\n",
       "    .dataframe tbody tr th {\n",
       "        vertical-align: top;\n",
       "    }\n",
       "\n",
       "    .dataframe thead th {\n",
       "        text-align: right;\n",
       "    }\n",
       "\n",
       "    .dataframe td {\n",
       "        white-space: pre;\n",
       "    }\n",
       "\n",
       "    .dataframe td {\n",
       "        padding-top: 0;\n",
       "    }\n",
       "\n",
       "    .dataframe td {\n",
       "        padding-bottom: 0;\n",
       "    }\n",
       "\n",
       "    .dataframe td {\n",
       "        line-height: 95%;\n",
       "    }\n",
       "</style>\n",
       "<table border=\"1\" class=\"dataframe\">\n",
       "<small>shape: (2,)</small>\n",
       "<thead>\n",
       "<tr>\n",
       "<th>\n",
       "a\n",
       "</th>\n",
       "</tr>\n",
       "<tr>\n",
       "<td>\n",
       "i64\n",
       "</td>\n",
       "</tr>\n",
       "</thead>\n",
       "<tbody>\n",
       "<tr>\n",
       "<td>\n",
       "2\n",
       "</td>\n",
       "</tr>\n",
       "<tr>\n",
       "<td>\n",
       "3\n",
       "</td>\n",
       "</tr>\n",
       "</tbody>\n",
       "</table>\n",
       "</div>"
      ],
      "text/plain": [
       "shape: (2,)\n",
       "Series: 'a' [i64]\n",
       "[\n",
       "\t2\n",
       "\t3\n",
       "]"
      ]
     },
     "execution_count": 56,
     "metadata": {},
     "output_type": "execute_result"
    }
   ],
   "source": [
    "s.slice(1, 2) # same as pandas .iloc[1:2]"
   ]
  },
  {
   "cell_type": "code",
   "execution_count": 60,
   "id": "893b84ed",
   "metadata": {},
   "outputs": [
    {
     "data": {
      "text/html": [
       "<div>\n",
       "<style scoped>\n",
       "    .dataframe tbody tr th:only-of-type {\n",
       "        vertical-align: middle;\n",
       "    }\n",
       "\n",
       "    .dataframe tbody tr th {\n",
       "        vertical-align: top;\n",
       "    }\n",
       "\n",
       "    .dataframe thead th {\n",
       "        text-align: right;\n",
       "    }\n",
       "\n",
       "    .dataframe td {\n",
       "        white-space: pre;\n",
       "    }\n",
       "\n",
       "    .dataframe td {\n",
       "        padding-top: 0;\n",
       "    }\n",
       "\n",
       "    .dataframe td {\n",
       "        padding-bottom: 0;\n",
       "    }\n",
       "\n",
       "    .dataframe td {\n",
       "        line-height: 95%;\n",
       "    }\n",
       "</style>\n",
       "<table border=\"1\" class=\"dataframe\">\n",
       "<small>shape: (2,)</small>\n",
       "<thead>\n",
       "<tr>\n",
       "<th>\n",
       "a\n",
       "</th>\n",
       "</tr>\n",
       "<tr>\n",
       "<td>\n",
       "i64\n",
       "</td>\n",
       "</tr>\n",
       "</thead>\n",
       "<tbody>\n",
       "<tr>\n",
       "<td>\n",
       "1\n",
       "</td>\n",
       "</tr>\n",
       "<tr>\n",
       "<td>\n",
       "3\n",
       "</td>\n",
       "</tr>\n",
       "</tbody>\n",
       "</table>\n",
       "</div>"
      ],
      "text/plain": [
       "shape: (2,)\n",
       "Series: 'a' [i64]\n",
       "[\n",
       "\t1\n",
       "\t3\n",
       "]"
      ]
     },
     "execution_count": 57,
     "metadata": {},
     "output_type": "execute_result"
    }
   ],
   "source": [
    "s.take_every(2)"
   ]
  },
  {
   "cell_type": "markdown",
   "id": "745c01d4",
   "metadata": {},
   "source": [
    "## Aggregations"
   ]
  },
  {
   "cell_type": "code",
   "execution_count": 61,
   "id": "049a4bf8",
   "metadata": {},
   "outputs": [
    {
     "data": {
      "text/plain": [
       "6"
      ]
     },
     "execution_count": 58,
     "metadata": {},
     "output_type": "execute_result"
    }
   ],
   "source": [
    "s.sum()"
   ]
  },
  {
   "cell_type": "code",
   "execution_count": 62,
   "id": "b361f9e3",
   "metadata": {},
   "outputs": [
    {
     "data": {
      "text/plain": [
       "1"
      ]
     },
     "execution_count": 59,
     "metadata": {},
     "output_type": "execute_result"
    }
   ],
   "source": [
    "s.min()"
   ]
  },
  {
   "cell_type": "code",
   "execution_count": 63,
   "id": "87a569db",
   "metadata": {},
   "outputs": [
    {
     "data": {
      "text/plain": [
       "0"
      ]
     },
     "execution_count": 60,
     "metadata": {},
     "output_type": "execute_result"
    }
   ],
   "source": [
    "s.arg_min()"
   ]
  },
  {
   "cell_type": "code",
   "execution_count": 64,
   "id": "24183aeb",
   "metadata": {},
   "outputs": [
    {
     "data": {
      "text/plain": [
       "2.0"
      ]
     },
     "execution_count": 61,
     "metadata": {},
     "output_type": "execute_result"
    }
   ],
   "source": [
    "s.mean()"
   ]
  },
  {
   "cell_type": "code",
   "execution_count": 65,
   "id": "e82b46ec",
   "metadata": {},
   "outputs": [
    {
     "data": {
      "text/plain": [
       "2.0"
      ]
     },
     "execution_count": 62,
     "metadata": {},
     "output_type": "execute_result"
    }
   ],
   "source": [
    "s.median()"
   ]
  },
  {
   "cell_type": "code",
   "execution_count": 66,
   "id": "4e5143d2",
   "metadata": {},
   "outputs": [
    {
     "data": {
      "text/plain": [
       "-4.68213122712422"
      ]
     },
     "execution_count": 63,
     "metadata": {},
     "output_type": "execute_result"
    }
   ],
   "source": [
    "s.entropy()"
   ]
  },
  {
   "cell_type": "code",
   "execution_count": 67,
   "id": "e30660f6",
   "metadata": {},
   "outputs": [
    {
     "data": {
      "text/html": [
       "<div>\n",
       "<style scoped>\n",
       "    .dataframe tbody tr th:only-of-type {\n",
       "        vertical-align: middle;\n",
       "    }\n",
       "\n",
       "    .dataframe tbody tr th {\n",
       "        vertical-align: top;\n",
       "    }\n",
       "\n",
       "    .dataframe thead th {\n",
       "        text-align: right;\n",
       "    }\n",
       "\n",
       "    .dataframe td {\n",
       "        white-space: pre;\n",
       "    }\n",
       "\n",
       "    .dataframe td {\n",
       "        padding-top: 0;\n",
       "    }\n",
       "\n",
       "    .dataframe td {\n",
       "        padding-bottom: 0;\n",
       "    }\n",
       "\n",
       "    .dataframe td {\n",
       "        line-height: 95%;\n",
       "    }\n",
       "</style>\n",
       "<table border=\"1\" class=\"dataframe\">\n",
       "<small>shape: (6, 2)</small>\n",
       "<thead>\n",
       "<tr>\n",
       "<th>\n",
       "statistic\n",
       "</th>\n",
       "<th>\n",
       "value\n",
       "</th>\n",
       "</tr>\n",
       "<tr>\n",
       "<td>\n",
       "str\n",
       "</td>\n",
       "<td>\n",
       "f64\n",
       "</td>\n",
       "</tr>\n",
       "</thead>\n",
       "<tbody>\n",
       "<tr>\n",
       "<td>\n",
       "&quot;min&quot;\n",
       "</td>\n",
       "<td>\n",
       "1.0\n",
       "</td>\n",
       "</tr>\n",
       "<tr>\n",
       "<td>\n",
       "&quot;max&quot;\n",
       "</td>\n",
       "<td>\n",
       "3.0\n",
       "</td>\n",
       "</tr>\n",
       "<tr>\n",
       "<td>\n",
       "&quot;null_count&quot;\n",
       "</td>\n",
       "<td>\n",
       "0.0\n",
       "</td>\n",
       "</tr>\n",
       "<tr>\n",
       "<td>\n",
       "&quot;mean&quot;\n",
       "</td>\n",
       "<td>\n",
       "2.0\n",
       "</td>\n",
       "</tr>\n",
       "<tr>\n",
       "<td>\n",
       "&quot;std&quot;\n",
       "</td>\n",
       "<td>\n",
       "1.0\n",
       "</td>\n",
       "</tr>\n",
       "<tr>\n",
       "<td>\n",
       "&quot;count&quot;\n",
       "</td>\n",
       "<td>\n",
       "3.0\n",
       "</td>\n",
       "</tr>\n",
       "</tbody>\n",
       "</table>\n",
       "</div>"
      ],
      "text/plain": [
       "shape: (6, 2)\n",
       "┌────────────┬───────┐\n",
       "│ statistic  ┆ value │\n",
       "│ ---        ┆ ---   │\n",
       "│ str        ┆ f64   │\n",
       "╞════════════╪═══════╡\n",
       "│ min        ┆ 1.0   │\n",
       "│ max        ┆ 3.0   │\n",
       "│ null_count ┆ 0.0   │\n",
       "│ mean       ┆ 2.0   │\n",
       "│ std        ┆ 1.0   │\n",
       "│ count      ┆ 3.0   │\n",
       "└────────────┴───────┘"
      ]
     },
     "execution_count": 64,
     "metadata": {},
     "output_type": "execute_result"
    }
   ],
   "source": [
    "s.describe()"
   ]
  },
  {
   "cell_type": "code",
   "execution_count": 68,
   "id": "39d2eee3",
   "metadata": {},
   "outputs": [
    {
     "data": {
      "text/html": [
       "<div>\n",
       "<style scoped>\n",
       "    .dataframe tbody tr th:only-of-type {\n",
       "        vertical-align: middle;\n",
       "    }\n",
       "\n",
       "    .dataframe tbody tr th {\n",
       "        vertical-align: top;\n",
       "    }\n",
       "\n",
       "    .dataframe thead th {\n",
       "        text-align: right;\n",
       "    }\n",
       "\n",
       "    .dataframe td {\n",
       "        white-space: pre;\n",
       "    }\n",
       "\n",
       "    .dataframe td {\n",
       "        padding-top: 0;\n",
       "    }\n",
       "\n",
       "    .dataframe td {\n",
       "        padding-bottom: 0;\n",
       "    }\n",
       "\n",
       "    .dataframe td {\n",
       "        line-height: 95%;\n",
       "    }\n",
       "</style>\n",
       "<table border=\"1\" class=\"dataframe\">\n",
       "<small>shape: (3, 2)</small>\n",
       "<thead>\n",
       "<tr>\n",
       "<th>\n",
       "a\n",
       "</th>\n",
       "<th>\n",
       "counts\n",
       "</th>\n",
       "</tr>\n",
       "<tr>\n",
       "<td>\n",
       "i64\n",
       "</td>\n",
       "<td>\n",
       "u32\n",
       "</td>\n",
       "</tr>\n",
       "</thead>\n",
       "<tbody>\n",
       "<tr>\n",
       "<td>\n",
       "3\n",
       "</td>\n",
       "<td>\n",
       "1\n",
       "</td>\n",
       "</tr>\n",
       "<tr>\n",
       "<td>\n",
       "1\n",
       "</td>\n",
       "<td>\n",
       "1\n",
       "</td>\n",
       "</tr>\n",
       "<tr>\n",
       "<td>\n",
       "2\n",
       "</td>\n",
       "<td>\n",
       "1\n",
       "</td>\n",
       "</tr>\n",
       "</tbody>\n",
       "</table>\n",
       "</div>"
      ],
      "text/plain": [
       "shape: (3, 2)\n",
       "┌─────┬────────┐\n",
       "│ a   ┆ counts │\n",
       "│ --- ┆ ---    │\n",
       "│ i64 ┆ u32    │\n",
       "╞═════╪════════╡\n",
       "│ 3   ┆ 1      │\n",
       "│ 1   ┆ 1      │\n",
       "│ 2   ┆ 1      │\n",
       "└─────┴────────┘"
      ]
     },
     "execution_count": 65,
     "metadata": {},
     "output_type": "execute_result"
    }
   ],
   "source": [
    "s.value_counts()"
   ]
  },
  {
   "cell_type": "markdown",
   "id": "fef54915",
   "metadata": {},
   "source": [
    "## Object Transformations\n"
   ]
  },
  {
   "cell_type": "code",
   "execution_count": 69,
   "id": "6ab13222",
   "metadata": {},
   "outputs": [
    {
     "data": {
      "text/html": [
       "<div>\n",
       "<style scoped>\n",
       "    .dataframe tbody tr th:only-of-type {\n",
       "        vertical-align: middle;\n",
       "    }\n",
       "\n",
       "    .dataframe tbody tr th {\n",
       "        vertical-align: top;\n",
       "    }\n",
       "\n",
       "    .dataframe thead th {\n",
       "        text-align: right;\n",
       "    }\n",
       "\n",
       "    .dataframe td {\n",
       "        white-space: pre;\n",
       "    }\n",
       "\n",
       "    .dataframe td {\n",
       "        padding-top: 0;\n",
       "    }\n",
       "\n",
       "    .dataframe td {\n",
       "        padding-bottom: 0;\n",
       "    }\n",
       "\n",
       "    .dataframe td {\n",
       "        line-height: 95%;\n",
       "    }\n",
       "</style>\n",
       "<table border=\"1\" class=\"dataframe\">\n",
       "<small>shape: (2,)</small>\n",
       "<thead>\n",
       "<tr>\n",
       "<th>\n",
       "a\n",
       "</th>\n",
       "</tr>\n",
       "<tr>\n",
       "<td>\n",
       "list[i64]\n",
       "</td>\n",
       "</tr>\n",
       "</thead>\n",
       "<tbody>\n",
       "<tr>\n",
       "<td>\n",
       "[1, 2]\n",
       "</td>\n",
       "</tr>\n",
       "<tr>\n",
       "<td>\n",
       "[3, 4]\n",
       "</td>\n",
       "</tr>\n",
       "</tbody>\n",
       "</table>\n",
       "</div>"
      ],
      "text/plain": [
       "shape: (2,)\n",
       "Series: 'a' [list[i64]]\n",
       "[\n",
       "\t[1, 2]\n",
       "\t[3, 4]\n",
       "]"
      ]
     },
     "execution_count": 66,
     "metadata": {},
     "output_type": "execute_result"
    }
   ],
   "source": [
    "pl.Series(\"a\",[1,2,3,4]).reshape(dims = (2,2))"
   ]
  },
  {
   "cell_type": "code",
   "execution_count": 70,
   "id": "d82e3793",
   "metadata": {},
   "outputs": [
    {
     "data": {
      "text/html": [
       "<div>\n",
       "<style scoped>\n",
       "    .dataframe tbody tr th:only-of-type {\n",
       "        vertical-align: middle;\n",
       "    }\n",
       "\n",
       "    .dataframe tbody tr th {\n",
       "        vertical-align: top;\n",
       "    }\n",
       "\n",
       "    .dataframe thead th {\n",
       "        text-align: right;\n",
       "    }\n",
       "\n",
       "    .dataframe td {\n",
       "        white-space: pre;\n",
       "    }\n",
       "\n",
       "    .dataframe td {\n",
       "        padding-top: 0;\n",
       "    }\n",
       "\n",
       "    .dataframe td {\n",
       "        padding-bottom: 0;\n",
       "    }\n",
       "\n",
       "    .dataframe td {\n",
       "        line-height: 95%;\n",
       "    }\n",
       "</style>\n",
       "<table border=\"1\" class=\"dataframe\">\n",
       "<small>shape: (3,)</small>\n",
       "<thead>\n",
       "<tr>\n",
       "<th>\n",
       "a\n",
       "</th>\n",
       "</tr>\n",
       "<tr>\n",
       "<td>\n",
       "i64\n",
       "</td>\n",
       "</tr>\n",
       "</thead>\n",
       "<tbody>\n",
       "<tr>\n",
       "<td>\n",
       "null\n",
       "</td>\n",
       "</tr>\n",
       "<tr>\n",
       "<td>\n",
       "1\n",
       "</td>\n",
       "</tr>\n",
       "<tr>\n",
       "<td>\n",
       "2\n",
       "</td>\n",
       "</tr>\n",
       "</tbody>\n",
       "</table>\n",
       "</div>"
      ],
      "text/plain": [
       "shape: (3,)\n",
       "Series: 'a' [i64]\n",
       "[\n",
       "\tnull\n",
       "\t1\n",
       "\t2\n",
       "]"
      ]
     },
     "execution_count": 67,
     "metadata": {},
     "output_type": "execute_result"
    }
   ],
   "source": [
    "s.shift(1)"
   ]
  },
  {
   "cell_type": "code",
   "execution_count": 71,
   "id": "3a2eac6a",
   "metadata": {},
   "outputs": [
    {
     "data": {
      "text/html": [
       "<div>\n",
       "<style scoped>\n",
       "    .dataframe tbody tr th:only-of-type {\n",
       "        vertical-align: middle;\n",
       "    }\n",
       "\n",
       "    .dataframe tbody tr th {\n",
       "        vertical-align: top;\n",
       "    }\n",
       "\n",
       "    .dataframe thead th {\n",
       "        text-align: right;\n",
       "    }\n",
       "\n",
       "    .dataframe td {\n",
       "        white-space: pre;\n",
       "    }\n",
       "\n",
       "    .dataframe td {\n",
       "        padding-top: 0;\n",
       "    }\n",
       "\n",
       "    .dataframe td {\n",
       "        padding-bottom: 0;\n",
       "    }\n",
       "\n",
       "    .dataframe td {\n",
       "        line-height: 95%;\n",
       "    }\n",
       "</style>\n",
       "<table border=\"1\" class=\"dataframe\">\n",
       "<small>shape: (3,)</small>\n",
       "<thead>\n",
       "<tr>\n",
       "<th>\n",
       "a\n",
       "</th>\n",
       "</tr>\n",
       "<tr>\n",
       "<td>\n",
       "i64\n",
       "</td>\n",
       "</tr>\n",
       "</thead>\n",
       "<tbody>\n",
       "<tr>\n",
       "<td>\n",
       "2\n",
       "</td>\n",
       "</tr>\n",
       "<tr>\n",
       "<td>\n",
       "3\n",
       "</td>\n",
       "</tr>\n",
       "<tr>\n",
       "<td>\n",
       "null\n",
       "</td>\n",
       "</tr>\n",
       "</tbody>\n",
       "</table>\n",
       "</div>"
      ],
      "text/plain": [
       "shape: (3,)\n",
       "Series: 'a' [i64]\n",
       "[\n",
       "\t2\n",
       "\t3\n",
       "\tnull\n",
       "]"
      ]
     },
     "execution_count": 68,
     "metadata": {},
     "output_type": "execute_result"
    }
   ],
   "source": [
    "s.shift(-1)"
   ]
  },
  {
   "cell_type": "code",
   "execution_count": 72,
   "id": "f3c288c9",
   "metadata": {},
   "outputs": [
    {
     "data": {
      "text/html": [
       "<div>\n",
       "<style scoped>\n",
       "    .dataframe tbody tr th:only-of-type {\n",
       "        vertical-align: middle;\n",
       "    }\n",
       "\n",
       "    .dataframe tbody tr th {\n",
       "        vertical-align: top;\n",
       "    }\n",
       "\n",
       "    .dataframe thead th {\n",
       "        text-align: right;\n",
       "    }\n",
       "\n",
       "    .dataframe td {\n",
       "        white-space: pre;\n",
       "    }\n",
       "\n",
       "    .dataframe td {\n",
       "        padding-top: 0;\n",
       "    }\n",
       "\n",
       "    .dataframe td {\n",
       "        padding-bottom: 0;\n",
       "    }\n",
       "\n",
       "    .dataframe td {\n",
       "        line-height: 95%;\n",
       "    }\n",
       "</style>\n",
       "<table border=\"1\" class=\"dataframe\">\n",
       "<small>shape: (3,)</small>\n",
       "<thead>\n",
       "<tr>\n",
       "<th>\n",
       "a\n",
       "</th>\n",
       "</tr>\n",
       "<tr>\n",
       "<td>\n",
       "i64\n",
       "</td>\n",
       "</tr>\n",
       "</thead>\n",
       "<tbody>\n",
       "<tr>\n",
       "<td>\n",
       "999\n",
       "</td>\n",
       "</tr>\n",
       "<tr>\n",
       "<td>\n",
       "1\n",
       "</td>\n",
       "</tr>\n",
       "<tr>\n",
       "<td>\n",
       "2\n",
       "</td>\n",
       "</tr>\n",
       "</tbody>\n",
       "</table>\n",
       "</div>"
      ],
      "text/plain": [
       "shape: (3,)\n",
       "Series: 'a' [i64]\n",
       "[\n",
       "\t999\n",
       "\t1\n",
       "\t2\n",
       "]"
      ]
     },
     "execution_count": 69,
     "metadata": {},
     "output_type": "execute_result"
    }
   ],
   "source": [
    "s.shift_and_fill(1, 999)"
   ]
  },
  {
   "cell_type": "markdown",
   "id": "c2355351",
   "metadata": {},
   "source": [
    "## Mathematical Transformations"
   ]
  },
  {
   "cell_type": "code",
   "execution_count": 73,
   "id": "d282f91a",
   "metadata": {},
   "outputs": [
    {
     "data": {
      "text/html": [
       "<div>\n",
       "<style scoped>\n",
       "    .dataframe tbody tr th:only-of-type {\n",
       "        vertical-align: middle;\n",
       "    }\n",
       "\n",
       "    .dataframe tbody tr th {\n",
       "        vertical-align: top;\n",
       "    }\n",
       "\n",
       "    .dataframe thead th {\n",
       "        text-align: right;\n",
       "    }\n",
       "\n",
       "    .dataframe td {\n",
       "        white-space: pre;\n",
       "    }\n",
       "\n",
       "    .dataframe td {\n",
       "        padding-top: 0;\n",
       "    }\n",
       "\n",
       "    .dataframe td {\n",
       "        padding-bottom: 0;\n",
       "    }\n",
       "\n",
       "    .dataframe td {\n",
       "        line-height: 95%;\n",
       "    }\n",
       "</style>\n",
       "<table border=\"1\" class=\"dataframe\">\n",
       "<small>shape: (3,)</small>\n",
       "<thead>\n",
       "<tr>\n",
       "<th>\n",
       "a\n",
       "</th>\n",
       "</tr>\n",
       "<tr>\n",
       "<td>\n",
       "i64\n",
       "</td>\n",
       "</tr>\n",
       "</thead>\n",
       "<tbody>\n",
       "<tr>\n",
       "<td>\n",
       "1\n",
       "</td>\n",
       "</tr>\n",
       "<tr>\n",
       "<td>\n",
       "2\n",
       "</td>\n",
       "</tr>\n",
       "<tr>\n",
       "<td>\n",
       "3\n",
       "</td>\n",
       "</tr>\n",
       "</tbody>\n",
       "</table>\n",
       "</div>"
      ],
      "text/plain": [
       "shape: (3,)\n",
       "Series: 'a' [i64]\n",
       "[\n",
       "\t1\n",
       "\t2\n",
       "\t3\n",
       "]"
      ]
     },
     "execution_count": 70,
     "metadata": {},
     "output_type": "execute_result"
    }
   ],
   "source": [
    "s.abs()"
   ]
  },
  {
   "cell_type": "code",
   "execution_count": 74,
   "id": "8c1efc1c",
   "metadata": {},
   "outputs": [
    {
     "data": {
      "text/html": [
       "<div>\n",
       "<style scoped>\n",
       "    .dataframe tbody tr th:only-of-type {\n",
       "        vertical-align: middle;\n",
       "    }\n",
       "\n",
       "    .dataframe tbody tr th {\n",
       "        vertical-align: top;\n",
       "    }\n",
       "\n",
       "    .dataframe thead th {\n",
       "        text-align: right;\n",
       "    }\n",
       "\n",
       "    .dataframe td {\n",
       "        white-space: pre;\n",
       "    }\n",
       "\n",
       "    .dataframe td {\n",
       "        padding-top: 0;\n",
       "    }\n",
       "\n",
       "    .dataframe td {\n",
       "        padding-bottom: 0;\n",
       "    }\n",
       "\n",
       "    .dataframe td {\n",
       "        line-height: 95%;\n",
       "    }\n",
       "</style>\n",
       "<table border=\"1\" class=\"dataframe\">\n",
       "<small>shape: (3,)</small>\n",
       "<thead>\n",
       "<tr>\n",
       "<th>\n",
       "a\n",
       "</th>\n",
       "</tr>\n",
       "<tr>\n",
       "<td>\n",
       "f64\n",
       "</td>\n",
       "</tr>\n",
       "</thead>\n",
       "<tbody>\n",
       "<tr>\n",
       "<td>\n",
       "0.841471\n",
       "</td>\n",
       "</tr>\n",
       "<tr>\n",
       "<td>\n",
       "0.909297\n",
       "</td>\n",
       "</tr>\n",
       "<tr>\n",
       "<td>\n",
       "0.14112\n",
       "</td>\n",
       "</tr>\n",
       "</tbody>\n",
       "</table>\n",
       "</div>"
      ],
      "text/plain": [
       "shape: (3,)\n",
       "Series: 'a' [f64]\n",
       "[\n",
       "\t0.841471\n",
       "\t0.909297\n",
       "\t0.14112\n",
       "]"
      ]
     },
     "execution_count": 71,
     "metadata": {},
     "output_type": "execute_result"
    }
   ],
   "source": [
    "s.sin()"
   ]
  },
  {
   "cell_type": "code",
   "execution_count": 75,
   "id": "0468f9fb",
   "metadata": {},
   "outputs": [
    {
     "data": {
      "text/html": [
       "<div>\n",
       "<style scoped>\n",
       "    .dataframe tbody tr th:only-of-type {\n",
       "        vertical-align: middle;\n",
       "    }\n",
       "\n",
       "    .dataframe tbody tr th {\n",
       "        vertical-align: top;\n",
       "    }\n",
       "\n",
       "    .dataframe thead th {\n",
       "        text-align: right;\n",
       "    }\n",
       "\n",
       "    .dataframe td {\n",
       "        white-space: pre;\n",
       "    }\n",
       "\n",
       "    .dataframe td {\n",
       "        padding-top: 0;\n",
       "    }\n",
       "\n",
       "    .dataframe td {\n",
       "        padding-bottom: 0;\n",
       "    }\n",
       "\n",
       "    .dataframe td {\n",
       "        line-height: 95%;\n",
       "    }\n",
       "</style>\n",
       "<table border=\"1\" class=\"dataframe\">\n",
       "<small>shape: (3,)</small>\n",
       "<thead>\n",
       "<tr>\n",
       "<th>\n",
       "a\n",
       "</th>\n",
       "</tr>\n",
       "<tr>\n",
       "<td>\n",
       "f64\n",
       "</td>\n",
       "</tr>\n",
       "</thead>\n",
       "<tbody>\n",
       "<tr>\n",
       "<td>\n",
       "2.718282\n",
       "</td>\n",
       "</tr>\n",
       "<tr>\n",
       "<td>\n",
       "7.389056\n",
       "</td>\n",
       "</tr>\n",
       "<tr>\n",
       "<td>\n",
       "20.085537\n",
       "</td>\n",
       "</tr>\n",
       "</tbody>\n",
       "</table>\n",
       "</div>"
      ],
      "text/plain": [
       "shape: (3,)\n",
       "Series: 'a' [f64]\n",
       "[\n",
       "\t2.718282\n",
       "\t7.389056\n",
       "\t20.085537\n",
       "]"
      ]
     },
     "execution_count": 72,
     "metadata": {},
     "output_type": "execute_result"
    }
   ],
   "source": [
    "s.exp()"
   ]
  },
  {
   "cell_type": "code",
   "execution_count": 76,
   "id": "bf493443",
   "metadata": {},
   "outputs": [
    {
     "data": {
      "text/html": [
       "<div>\n",
       "<style scoped>\n",
       "    .dataframe tbody tr th:only-of-type {\n",
       "        vertical-align: middle;\n",
       "    }\n",
       "\n",
       "    .dataframe tbody tr th {\n",
       "        vertical-align: top;\n",
       "    }\n",
       "\n",
       "    .dataframe thead th {\n",
       "        text-align: right;\n",
       "    }\n",
       "\n",
       "    .dataframe td {\n",
       "        white-space: pre;\n",
       "    }\n",
       "\n",
       "    .dataframe td {\n",
       "        padding-top: 0;\n",
       "    }\n",
       "\n",
       "    .dataframe td {\n",
       "        padding-bottom: 0;\n",
       "    }\n",
       "\n",
       "    .dataframe td {\n",
       "        line-height: 95%;\n",
       "    }\n",
       "</style>\n",
       "<table border=\"1\" class=\"dataframe\">\n",
       "<small>shape: (3,)</small>\n",
       "<thead>\n",
       "<tr>\n",
       "<th>\n",
       "a\n",
       "</th>\n",
       "</tr>\n",
       "<tr>\n",
       "<td>\n",
       "u64\n",
       "</td>\n",
       "</tr>\n",
       "</thead>\n",
       "<tbody>\n",
       "<tr>\n",
       "<td>\n",
       "13321499719149775801\n",
       "</td>\n",
       "</tr>\n",
       "<tr>\n",
       "<td>\n",
       "8196255364589999986\n",
       "</td>\n",
       "</tr>\n",
       "<tr>\n",
       "<td>\n",
       "3071011010030224171\n",
       "</td>\n",
       "</tr>\n",
       "</tbody>\n",
       "</table>\n",
       "</div>"
      ],
      "text/plain": [
       "shape: (3,)\n",
       "Series: 'a' [u64]\n",
       "[\n",
       "\t13321499719149775801\n",
       "\t8196255364589999986\n",
       "\t3071011010030224171\n",
       "]"
      ]
     },
     "execution_count": 73,
     "metadata": {},
     "output_type": "execute_result"
    }
   ],
   "source": [
    "s.hash()"
   ]
  },
  {
   "cell_type": "code",
   "execution_count": 77,
   "id": "5a9191ef",
   "metadata": {},
   "outputs": [
    {
     "data": {
      "text/html": [
       "<div>\n",
       "<style scoped>\n",
       "    .dataframe tbody tr th:only-of-type {\n",
       "        vertical-align: middle;\n",
       "    }\n",
       "\n",
       "    .dataframe tbody tr th {\n",
       "        vertical-align: top;\n",
       "    }\n",
       "\n",
       "    .dataframe thead th {\n",
       "        text-align: right;\n",
       "    }\n",
       "\n",
       "    .dataframe td {\n",
       "        white-space: pre;\n",
       "    }\n",
       "\n",
       "    .dataframe td {\n",
       "        padding-top: 0;\n",
       "    }\n",
       "\n",
       "    .dataframe td {\n",
       "        padding-bottom: 0;\n",
       "    }\n",
       "\n",
       "    .dataframe td {\n",
       "        line-height: 95%;\n",
       "    }\n",
       "</style>\n",
       "<table border=\"1\" class=\"dataframe\">\n",
       "<small>shape: (3,)</small>\n",
       "<thead>\n",
       "<tr>\n",
       "<th>\n",
       "a\n",
       "</th>\n",
       "</tr>\n",
       "<tr>\n",
       "<td>\n",
       "f64\n",
       "</td>\n",
       "</tr>\n",
       "</thead>\n",
       "<tbody>\n",
       "<tr>\n",
       "<td>\n",
       "0.0\n",
       "</td>\n",
       "</tr>\n",
       "<tr>\n",
       "<td>\n",
       "0.693147\n",
       "</td>\n",
       "</tr>\n",
       "<tr>\n",
       "<td>\n",
       "1.098612\n",
       "</td>\n",
       "</tr>\n",
       "</tbody>\n",
       "</table>\n",
       "</div>"
      ],
      "text/plain": [
       "shape: (3,)\n",
       "Series: 'a' [f64]\n",
       "[\n",
       "\t0.0\n",
       "\t0.693147\n",
       "\t1.098612\n",
       "]"
      ]
     },
     "execution_count": 74,
     "metadata": {},
     "output_type": "execute_result"
    }
   ],
   "source": [
    "s.log()"
   ]
  },
  {
   "cell_type": "code",
   "execution_count": 78,
   "id": "ac4444ad",
   "metadata": {},
   "outputs": [
    {
     "data": {
      "text/html": [
       "<div>\n",
       "<style scoped>\n",
       "    .dataframe tbody tr th:only-of-type {\n",
       "        vertical-align: middle;\n",
       "    }\n",
       "\n",
       "    .dataframe tbody tr th {\n",
       "        vertical-align: top;\n",
       "    }\n",
       "\n",
       "    .dataframe thead th {\n",
       "        text-align: right;\n",
       "    }\n",
       "\n",
       "    .dataframe td {\n",
       "        white-space: pre;\n",
       "    }\n",
       "\n",
       "    .dataframe td {\n",
       "        padding-top: 0;\n",
       "    }\n",
       "\n",
       "    .dataframe td {\n",
       "        padding-bottom: 0;\n",
       "    }\n",
       "\n",
       "    .dataframe td {\n",
       "        line-height: 95%;\n",
       "    }\n",
       "</style>\n",
       "<table border=\"1\" class=\"dataframe\">\n",
       "<small>shape: (3,)</small>\n",
       "<thead>\n",
       "<tr>\n",
       "<th>\n",
       "\n",
       "</th>\n",
       "</tr>\n",
       "<tr>\n",
       "<td>\n",
       "bool\n",
       "</td>\n",
       "</tr>\n",
       "</thead>\n",
       "<tbody>\n",
       "<tr>\n",
       "<td>\n",
       "false\n",
       "</td>\n",
       "</tr>\n",
       "<tr>\n",
       "<td>\n",
       "false\n",
       "</td>\n",
       "</tr>\n",
       "<tr>\n",
       "<td>\n",
       "true\n",
       "</td>\n",
       "</tr>\n",
       "</tbody>\n",
       "</table>\n",
       "</div>"
      ],
      "text/plain": [
       "shape: (3,)\n",
       "Series: '' [bool]\n",
       "[\n",
       "\tfalse\n",
       "\tfalse\n",
       "\ttrue\n",
       "]"
      ]
     },
     "execution_count": 75,
     "metadata": {},
     "output_type": "execute_result"
    }
   ],
   "source": [
    "s.peak_max()"
   ]
  },
  {
   "cell_type": "code",
   "execution_count": 79,
   "id": "944dc980",
   "metadata": {},
   "outputs": [
    {
     "data": {
      "text/html": [
       "<div>\n",
       "<style scoped>\n",
       "    .dataframe tbody tr th:only-of-type {\n",
       "        vertical-align: middle;\n",
       "    }\n",
       "\n",
       "    .dataframe tbody tr th {\n",
       "        vertical-align: top;\n",
       "    }\n",
       "\n",
       "    .dataframe thead th {\n",
       "        text-align: right;\n",
       "    }\n",
       "\n",
       "    .dataframe td {\n",
       "        white-space: pre;\n",
       "    }\n",
       "\n",
       "    .dataframe td {\n",
       "        padding-top: 0;\n",
       "    }\n",
       "\n",
       "    .dataframe td {\n",
       "        padding-bottom: 0;\n",
       "    }\n",
       "\n",
       "    .dataframe td {\n",
       "        line-height: 95%;\n",
       "    }\n",
       "</style>\n",
       "<table border=\"1\" class=\"dataframe\">\n",
       "<small>shape: (3,)</small>\n",
       "<thead>\n",
       "<tr>\n",
       "<th>\n",
       "a\n",
       "</th>\n",
       "</tr>\n",
       "<tr>\n",
       "<td>\n",
       "f64\n",
       "</td>\n",
       "</tr>\n",
       "</thead>\n",
       "<tbody>\n",
       "<tr>\n",
       "<td>\n",
       "1.0\n",
       "</td>\n",
       "</tr>\n",
       "<tr>\n",
       "<td>\n",
       "1.414214\n",
       "</td>\n",
       "</tr>\n",
       "<tr>\n",
       "<td>\n",
       "1.732051\n",
       "</td>\n",
       "</tr>\n",
       "</tbody>\n",
       "</table>\n",
       "</div>"
      ],
      "text/plain": [
       "shape: (3,)\n",
       "Series: 'a' [f64]\n",
       "[\n",
       "\t1.0\n",
       "\t1.414214\n",
       "\t1.732051\n",
       "]"
      ]
     },
     "execution_count": 76,
     "metadata": {},
     "output_type": "execute_result"
    }
   ],
   "source": [
    "s.sqrt()"
   ]
  },
  {
   "cell_type": "code",
   "execution_count": 80,
   "id": "d06d0a89",
   "metadata": {},
   "outputs": [
    {
     "data": {
      "text/html": [
       "<div>\n",
       "<style scoped>\n",
       "    .dataframe tbody tr th:only-of-type {\n",
       "        vertical-align: middle;\n",
       "    }\n",
       "\n",
       "    .dataframe tbody tr th {\n",
       "        vertical-align: top;\n",
       "    }\n",
       "\n",
       "    .dataframe thead th {\n",
       "        text-align: right;\n",
       "    }\n",
       "\n",
       "    .dataframe td {\n",
       "        white-space: pre;\n",
       "    }\n",
       "\n",
       "    .dataframe td {\n",
       "        padding-top: 0;\n",
       "    }\n",
       "\n",
       "    .dataframe td {\n",
       "        padding-bottom: 0;\n",
       "    }\n",
       "\n",
       "    .dataframe td {\n",
       "        line-height: 95%;\n",
       "    }\n",
       "</style>\n",
       "<table border=\"1\" class=\"dataframe\">\n",
       "<small>shape: (3,)</small>\n",
       "<thead>\n",
       "<tr>\n",
       "<th>\n",
       "a\n",
       "</th>\n",
       "</tr>\n",
       "<tr>\n",
       "<td>\n",
       "i64\n",
       "</td>\n",
       "</tr>\n",
       "</thead>\n",
       "<tbody>\n",
       "<tr>\n",
       "<td>\n",
       "1\n",
       "</td>\n",
       "</tr>\n",
       "<tr>\n",
       "<td>\n",
       "2\n",
       "</td>\n",
       "</tr>\n",
       "<tr>\n",
       "<td>\n",
       "2\n",
       "</td>\n",
       "</tr>\n",
       "</tbody>\n",
       "</table>\n",
       "</div>"
      ],
      "text/plain": [
       "shape: (3,)\n",
       "Series: 'a' [i64]\n",
       "[\n",
       "\t1\n",
       "\t2\n",
       "\t2\n",
       "]"
      ]
     },
     "execution_count": 77,
     "metadata": {},
     "output_type": "execute_result"
    }
   ],
   "source": [
    "s.clip_max(2)"
   ]
  },
  {
   "cell_type": "code",
   "execution_count": 81,
   "id": "d272cba9",
   "metadata": {},
   "outputs": [
    {
     "data": {
      "text/html": [
       "<div>\n",
       "<style scoped>\n",
       "    .dataframe tbody tr th:only-of-type {\n",
       "        vertical-align: middle;\n",
       "    }\n",
       "\n",
       "    .dataframe tbody tr th {\n",
       "        vertical-align: top;\n",
       "    }\n",
       "\n",
       "    .dataframe thead th {\n",
       "        text-align: right;\n",
       "    }\n",
       "\n",
       "    .dataframe td {\n",
       "        white-space: pre;\n",
       "    }\n",
       "\n",
       "    .dataframe td {\n",
       "        padding-top: 0;\n",
       "    }\n",
       "\n",
       "    .dataframe td {\n",
       "        padding-bottom: 0;\n",
       "    }\n",
       "\n",
       "    .dataframe td {\n",
       "        line-height: 95%;\n",
       "    }\n",
       "</style>\n",
       "<table border=\"1\" class=\"dataframe\">\n",
       "<small>shape: (3,)</small>\n",
       "<thead>\n",
       "<tr>\n",
       "<th>\n",
       "a\n",
       "</th>\n",
       "</tr>\n",
       "<tr>\n",
       "<td>\n",
       "i64\n",
       "</td>\n",
       "</tr>\n",
       "</thead>\n",
       "<tbody>\n",
       "<tr>\n",
       "<td>\n",
       "1\n",
       "</td>\n",
       "</tr>\n",
       "<tr>\n",
       "<td>\n",
       "2\n",
       "</td>\n",
       "</tr>\n",
       "<tr>\n",
       "<td>\n",
       "3\n",
       "</td>\n",
       "</tr>\n",
       "</tbody>\n",
       "</table>\n",
       "</div>"
      ],
      "text/plain": [
       "shape: (3,)\n",
       "Series: 'a' [i64]\n",
       "[\n",
       "\t1\n",
       "\t2\n",
       "\t3\n",
       "]"
      ]
     },
     "execution_count": 78,
     "metadata": {},
     "output_type": "execute_result"
    }
   ],
   "source": [
    "s.clip_min(1)"
   ]
  },
  {
   "cell_type": "markdown",
   "id": "63e048c2",
   "metadata": {},
   "source": [
    "You cannot round integers, but you can round floats.\n"
   ]
  },
  {
   "cell_type": "code",
   "execution_count": 82,
   "id": "5818eb7e",
   "metadata": {},
   "outputs": [
    {
     "data": {
      "text/html": [
       "<div>\n",
       "<style scoped>\n",
       "    .dataframe tbody tr th:only-of-type {\n",
       "        vertical-align: middle;\n",
       "    }\n",
       "\n",
       "    .dataframe tbody tr th {\n",
       "        vertical-align: top;\n",
       "    }\n",
       "\n",
       "    .dataframe thead th {\n",
       "        text-align: right;\n",
       "    }\n",
       "\n",
       "    .dataframe td {\n",
       "        white-space: pre;\n",
       "    }\n",
       "\n",
       "    .dataframe td {\n",
       "        padding-top: 0;\n",
       "    }\n",
       "\n",
       "    .dataframe td {\n",
       "        padding-bottom: 0;\n",
       "    }\n",
       "\n",
       "    .dataframe td {\n",
       "        line-height: 95%;\n",
       "    }\n",
       "</style>\n",
       "<table border=\"1\" class=\"dataframe\">\n",
       "<small>shape: (3,)</small>\n",
       "<thead>\n",
       "<tr>\n",
       "<th>\n",
       "a\n",
       "</th>\n",
       "</tr>\n",
       "<tr>\n",
       "<td>\n",
       "f64\n",
       "</td>\n",
       "</tr>\n",
       "</thead>\n",
       "<tbody>\n",
       "<tr>\n",
       "<td>\n",
       "1.0\n",
       "</td>\n",
       "</tr>\n",
       "<tr>\n",
       "<td>\n",
       "2.0\n",
       "</td>\n",
       "</tr>\n",
       "<tr>\n",
       "<td>\n",
       "3.0\n",
       "</td>\n",
       "</tr>\n",
       "</tbody>\n",
       "</table>\n",
       "</div>"
      ],
      "text/plain": [
       "shape: (3,)\n",
       "Series: 'a' [f64]\n",
       "[\n",
       "\t1.0\n",
       "\t2.0\n",
       "\t3.0\n",
       "]"
      ]
     },
     "execution_count": 79,
     "metadata": {},
     "output_type": "execute_result"
    }
   ],
   "source": [
    "f.round(2)"
   ]
  },
  {
   "cell_type": "code",
   "execution_count": 83,
   "id": "5ee03be6",
   "metadata": {},
   "outputs": [
    {
     "data": {
      "text/html": [
       "<div>\n",
       "<style scoped>\n",
       "    .dataframe tbody tr th:only-of-type {\n",
       "        vertical-align: middle;\n",
       "    }\n",
       "\n",
       "    .dataframe tbody tr th {\n",
       "        vertical-align: top;\n",
       "    }\n",
       "\n",
       "    .dataframe thead th {\n",
       "        text-align: right;\n",
       "    }\n",
       "\n",
       "    .dataframe td {\n",
       "        white-space: pre;\n",
       "    }\n",
       "\n",
       "    .dataframe td {\n",
       "        padding-top: 0;\n",
       "    }\n",
       "\n",
       "    .dataframe td {\n",
       "        padding-bottom: 0;\n",
       "    }\n",
       "\n",
       "    .dataframe td {\n",
       "        line-height: 95%;\n",
       "    }\n",
       "</style>\n",
       "<table border=\"1\" class=\"dataframe\">\n",
       "<small>shape: (3,)</small>\n",
       "<thead>\n",
       "<tr>\n",
       "<th>\n",
       "a\n",
       "</th>\n",
       "</tr>\n",
       "<tr>\n",
       "<td>\n",
       "f64\n",
       "</td>\n",
       "</tr>\n",
       "</thead>\n",
       "<tbody>\n",
       "<tr>\n",
       "<td>\n",
       "1.0\n",
       "</td>\n",
       "</tr>\n",
       "<tr>\n",
       "<td>\n",
       "2.0\n",
       "</td>\n",
       "</tr>\n",
       "<tr>\n",
       "<td>\n",
       "3.0\n",
       "</td>\n",
       "</tr>\n",
       "</tbody>\n",
       "</table>\n",
       "</div>"
      ],
      "text/plain": [
       "shape: (3,)\n",
       "Series: 'a' [f64]\n",
       "[\n",
       "\t1.0\n",
       "\t2.0\n",
       "\t3.0\n",
       "]"
      ]
     },
     "execution_count": 80,
     "metadata": {},
     "output_type": "execute_result"
    }
   ],
   "source": [
    "f.ceil()"
   ]
  },
  {
   "cell_type": "code",
   "execution_count": 84,
   "id": "baf57e7a",
   "metadata": {},
   "outputs": [
    {
     "data": {
      "text/html": [
       "<div>\n",
       "<style scoped>\n",
       "    .dataframe tbody tr th:only-of-type {\n",
       "        vertical-align: middle;\n",
       "    }\n",
       "\n",
       "    .dataframe tbody tr th {\n",
       "        vertical-align: top;\n",
       "    }\n",
       "\n",
       "    .dataframe thead th {\n",
       "        text-align: right;\n",
       "    }\n",
       "\n",
       "    .dataframe td {\n",
       "        white-space: pre;\n",
       "    }\n",
       "\n",
       "    .dataframe td {\n",
       "        padding-top: 0;\n",
       "    }\n",
       "\n",
       "    .dataframe td {\n",
       "        padding-bottom: 0;\n",
       "    }\n",
       "\n",
       "    .dataframe td {\n",
       "        line-height: 95%;\n",
       "    }\n",
       "</style>\n",
       "<table border=\"1\" class=\"dataframe\">\n",
       "<small>shape: (3,)</small>\n",
       "<thead>\n",
       "<tr>\n",
       "<th>\n",
       "a\n",
       "</th>\n",
       "</tr>\n",
       "<tr>\n",
       "<td>\n",
       "f64\n",
       "</td>\n",
       "</tr>\n",
       "</thead>\n",
       "<tbody>\n",
       "<tr>\n",
       "<td>\n",
       "1.0\n",
       "</td>\n",
       "</tr>\n",
       "<tr>\n",
       "<td>\n",
       "2.0\n",
       "</td>\n",
       "</tr>\n",
       "<tr>\n",
       "<td>\n",
       "3.0\n",
       "</td>\n",
       "</tr>\n",
       "</tbody>\n",
       "</table>\n",
       "</div>"
      ],
      "text/plain": [
       "shape: (3,)\n",
       "Series: 'a' [f64]\n",
       "[\n",
       "\t1.0\n",
       "\t2.0\n",
       "\t3.0\n",
       "]"
      ]
     },
     "execution_count": 81,
     "metadata": {},
     "output_type": "execute_result"
    }
   ],
   "source": [
    "f.floor()"
   ]
  },
  {
   "cell_type": "code",
   "execution_count": 85,
   "id": "21e80b9f",
   "metadata": {},
   "outputs": [
    {
     "data": {
      "text/html": [
       "<div>\n",
       "<style scoped>\n",
       "    .dataframe tbody tr th:only-of-type {\n",
       "        vertical-align: middle;\n",
       "    }\n",
       "\n",
       "    .dataframe tbody tr th {\n",
       "        vertical-align: top;\n",
       "    }\n",
       "\n",
       "    .dataframe thead th {\n",
       "        text-align: right;\n",
       "    }\n",
       "\n",
       "    .dataframe td {\n",
       "        white-space: pre;\n",
       "    }\n",
       "\n",
       "    .dataframe td {\n",
       "        padding-top: 0;\n",
       "    }\n",
       "\n",
       "    .dataframe td {\n",
       "        padding-bottom: 0;\n",
       "    }\n",
       "\n",
       "    .dataframe td {\n",
       "        line-height: 95%;\n",
       "    }\n",
       "</style>\n",
       "<table border=\"1\" class=\"dataframe\">\n",
       "<small>shape: (3,)</small>\n",
       "<thead>\n",
       "<tr>\n",
       "<th>\n",
       "a\n",
       "</th>\n",
       "</tr>\n",
       "<tr>\n",
       "<td>\n",
       "bool\n",
       "</td>\n",
       "</tr>\n",
       "</thead>\n",
       "<tbody>\n",
       "<tr>\n",
       "<td>\n",
       "true\n",
       "</td>\n",
       "</tr>\n",
       "<tr>\n",
       "<td>\n",
       "false\n",
       "</td>\n",
       "</tr>\n",
       "<tr>\n",
       "<td>\n",
       "false\n",
       "</td>\n",
       "</tr>\n",
       "</tbody>\n",
       "</table>\n",
       "</div>"
      ],
      "text/plain": [
       "shape: (3,)\n",
       "Series: 'a' [bool]\n",
       "[\n",
       "\ttrue\n",
       "\tfalse\n",
       "\tfalse\n",
       "]"
      ]
     },
     "execution_count": 82,
     "metadata": {},
     "output_type": "execute_result"
    }
   ],
   "source": [
    "s.is_in(pl.Series([1, 10]))"
   ]
  },
  {
   "cell_type": "markdown",
   "id": "85950b6a",
   "metadata": {},
   "source": [
    "__Caution__: `is_in()` in polars has an underscore, unlike `isin()` in pandas.\n",
    "\n",
    "\n",
    "\n",
    "## Apply\n",
    "\n",
    "Applying your own function:"
   ]
  },
  {
   "cell_type": "code",
   "execution_count": 86,
   "id": "3c7c2e40",
   "metadata": {},
   "outputs": [
    {
     "data": {
      "text/html": [
       "<div>\n",
       "<style scoped>\n",
       "    .dataframe tbody tr th:only-of-type {\n",
       "        vertical-align: middle;\n",
       "    }\n",
       "\n",
       "    .dataframe tbody tr th {\n",
       "        vertical-align: top;\n",
       "    }\n",
       "\n",
       "    .dataframe thead th {\n",
       "        text-align: right;\n",
       "    }\n",
       "\n",
       "    .dataframe td {\n",
       "        white-space: pre;\n",
       "    }\n",
       "\n",
       "    .dataframe td {\n",
       "        padding-top: 0;\n",
       "    }\n",
       "\n",
       "    .dataframe td {\n",
       "        padding-bottom: 0;\n",
       "    }\n",
       "\n",
       "    .dataframe td {\n",
       "        line-height: 95%;\n",
       "    }\n",
       "</style>\n",
       "<table border=\"1\" class=\"dataframe\">\n",
       "<small>shape: (3,)</small>\n",
       "<thead>\n",
       "<tr>\n",
       "<th>\n",
       "a\n",
       "</th>\n",
       "</tr>\n",
       "<tr>\n",
       "<td>\n",
       "i64\n",
       "</td>\n",
       "</tr>\n",
       "</thead>\n",
       "<tbody>\n",
       "<tr>\n",
       "<td>\n",
       "2\n",
       "</td>\n",
       "</tr>\n",
       "<tr>\n",
       "<td>\n",
       "3\n",
       "</td>\n",
       "</tr>\n",
       "<tr>\n",
       "<td>\n",
       "4\n",
       "</td>\n",
       "</tr>\n",
       "</tbody>\n",
       "</table>\n",
       "</div>"
      ],
      "text/plain": [
       "shape: (3,)\n",
       "Series: 'a' [i64]\n",
       "[\n",
       "\t2\n",
       "\t3\n",
       "\t4\n",
       "]"
      ]
     },
     "execution_count": 83,
     "metadata": {},
     "output_type": "execute_result"
    }
   ],
   "source": [
    "s.apply(lambda x: x + 1)"
   ]
  },
  {
   "cell_type": "markdown",
   "id": "b8e8bd3c",
   "metadata": {},
   "source": [
    "Using your own functions comes with a performance cost:"
   ]
  },
  {
   "cell_type": "code",
   "execution_count": 87,
   "id": "eaab7eea",
   "metadata": {},
   "outputs": [
    {
     "name": "stdout",
     "output_type": "stream",
     "text": [
      "The slowest run took 5.06 times longer than the fastest. This could mean that an intermediate result is being cached.\n",
      "367 µs ± 246 µs per loop (mean ± std. dev. of 2 runs, 2 loops each)\n"
     ]
    }
   ],
   "source": [
    "s1 = pl.Series(np.random.randn(int(1e5)))\n",
    "\n",
    "%timeit -n2 -r2 s1+1"
   ]
  },
  {
   "cell_type": "code",
   "execution_count": 88,
   "id": "313f8d66",
   "metadata": {},
   "outputs": [
    {
     "name": "stdout",
     "output_type": "stream",
     "text": [
      "21.5 ms ± 2.69 ms per loop (mean ± std. dev. of 2 runs, 2 loops each)\n"
     ]
    }
   ],
   "source": [
    "%timeit -n2 -r2 s1.apply(lambda x: x + 1)"
   ]
  },
  {
   "cell_type": "markdown",
   "id": "95b77aab",
   "metadata": {},
   "source": [
    "## Cummulative Operations\n"
   ]
  },
  {
   "cell_type": "code",
   "execution_count": 89,
   "id": "6a2be97f",
   "metadata": {},
   "outputs": [
    {
     "data": {
      "text/html": [
       "<div>\n",
       "<style scoped>\n",
       "    .dataframe tbody tr th:only-of-type {\n",
       "        vertical-align: middle;\n",
       "    }\n",
       "\n",
       "    .dataframe tbody tr th {\n",
       "        vertical-align: top;\n",
       "    }\n",
       "\n",
       "    .dataframe thead th {\n",
       "        text-align: right;\n",
       "    }\n",
       "\n",
       "    .dataframe td {\n",
       "        white-space: pre;\n",
       "    }\n",
       "\n",
       "    .dataframe td {\n",
       "        padding-top: 0;\n",
       "    }\n",
       "\n",
       "    .dataframe td {\n",
       "        padding-bottom: 0;\n",
       "    }\n",
       "\n",
       "    .dataframe td {\n",
       "        line-height: 95%;\n",
       "    }\n",
       "</style>\n",
       "<table border=\"1\" class=\"dataframe\">\n",
       "<small>shape: (3,)</small>\n",
       "<thead>\n",
       "<tr>\n",
       "<th>\n",
       "a\n",
       "</th>\n",
       "</tr>\n",
       "<tr>\n",
       "<td>\n",
       "i64\n",
       "</td>\n",
       "</tr>\n",
       "</thead>\n",
       "<tbody>\n",
       "<tr>\n",
       "<td>\n",
       "1\n",
       "</td>\n",
       "</tr>\n",
       "<tr>\n",
       "<td>\n",
       "2\n",
       "</td>\n",
       "</tr>\n",
       "<tr>\n",
       "<td>\n",
       "3\n",
       "</td>\n",
       "</tr>\n",
       "</tbody>\n",
       "</table>\n",
       "</div>"
      ],
      "text/plain": [
       "shape: (3,)\n",
       "Series: 'a' [i64]\n",
       "[\n",
       "\t1\n",
       "\t2\n",
       "\t3\n",
       "]"
      ]
     },
     "execution_count": 86,
     "metadata": {},
     "output_type": "execute_result"
    }
   ],
   "source": [
    "s.cummax()"
   ]
  },
  {
   "cell_type": "code",
   "execution_count": 90,
   "id": "4b426776",
   "metadata": {},
   "outputs": [
    {
     "data": {
      "text/html": [
       "<div>\n",
       "<style scoped>\n",
       "    .dataframe tbody tr th:only-of-type {\n",
       "        vertical-align: middle;\n",
       "    }\n",
       "\n",
       "    .dataframe tbody tr th {\n",
       "        vertical-align: top;\n",
       "    }\n",
       "\n",
       "    .dataframe thead th {\n",
       "        text-align: right;\n",
       "    }\n",
       "\n",
       "    .dataframe td {\n",
       "        white-space: pre;\n",
       "    }\n",
       "\n",
       "    .dataframe td {\n",
       "        padding-top: 0;\n",
       "    }\n",
       "\n",
       "    .dataframe td {\n",
       "        padding-bottom: 0;\n",
       "    }\n",
       "\n",
       "    .dataframe td {\n",
       "        line-height: 95%;\n",
       "    }\n",
       "</style>\n",
       "<table border=\"1\" class=\"dataframe\">\n",
       "<small>shape: (3,)</small>\n",
       "<thead>\n",
       "<tr>\n",
       "<th>\n",
       "a\n",
       "</th>\n",
       "</tr>\n",
       "<tr>\n",
       "<td>\n",
       "i64\n",
       "</td>\n",
       "</tr>\n",
       "</thead>\n",
       "<tbody>\n",
       "<tr>\n",
       "<td>\n",
       "1\n",
       "</td>\n",
       "</tr>\n",
       "<tr>\n",
       "<td>\n",
       "3\n",
       "</td>\n",
       "</tr>\n",
       "<tr>\n",
       "<td>\n",
       "6\n",
       "</td>\n",
       "</tr>\n",
       "</tbody>\n",
       "</table>\n",
       "</div>"
      ],
      "text/plain": [
       "shape: (3,)\n",
       "Series: 'a' [i64]\n",
       "[\n",
       "\t1\n",
       "\t3\n",
       "\t6\n",
       "]"
      ]
     },
     "execution_count": 87,
     "metadata": {},
     "output_type": "execute_result"
    }
   ],
   "source": [
    "s.cumsum()"
   ]
  },
  {
   "cell_type": "code",
   "execution_count": 91,
   "id": "33a03419",
   "metadata": {},
   "outputs": [
    {
     "data": {
      "text/html": [
       "<div>\n",
       "<style scoped>\n",
       "    .dataframe tbody tr th:only-of-type {\n",
       "        vertical-align: middle;\n",
       "    }\n",
       "\n",
       "    .dataframe tbody tr th {\n",
       "        vertical-align: top;\n",
       "    }\n",
       "\n",
       "    .dataframe thead th {\n",
       "        text-align: right;\n",
       "    }\n",
       "\n",
       "    .dataframe td {\n",
       "        white-space: pre;\n",
       "    }\n",
       "\n",
       "    .dataframe td {\n",
       "        padding-top: 0;\n",
       "    }\n",
       "\n",
       "    .dataframe td {\n",
       "        padding-bottom: 0;\n",
       "    }\n",
       "\n",
       "    .dataframe td {\n",
       "        line-height: 95%;\n",
       "    }\n",
       "</style>\n",
       "<table border=\"1\" class=\"dataframe\">\n",
       "<small>shape: (3,)</small>\n",
       "<thead>\n",
       "<tr>\n",
       "<th>\n",
       "a\n",
       "</th>\n",
       "</tr>\n",
       "<tr>\n",
       "<td>\n",
       "i64\n",
       "</td>\n",
       "</tr>\n",
       "</thead>\n",
       "<tbody>\n",
       "<tr>\n",
       "<td>\n",
       "1\n",
       "</td>\n",
       "</tr>\n",
       "<tr>\n",
       "<td>\n",
       "2\n",
       "</td>\n",
       "</tr>\n",
       "<tr>\n",
       "<td>\n",
       "6\n",
       "</td>\n",
       "</tr>\n",
       "</tbody>\n",
       "</table>\n",
       "</div>"
      ],
      "text/plain": [
       "shape: (3,)\n",
       "Series: 'a' [i64]\n",
       "[\n",
       "\t1\n",
       "\t2\n",
       "\t6\n",
       "]"
      ]
     },
     "execution_count": 88,
     "metadata": {},
     "output_type": "execute_result"
    }
   ],
   "source": [
    "s.cumprod()"
   ]
  },
  {
   "cell_type": "code",
   "execution_count": 92,
   "id": "1c048173",
   "metadata": {},
   "outputs": [
    {
     "data": {
      "text/html": [
       "<div>\n",
       "<style scoped>\n",
       "    .dataframe tbody tr th:only-of-type {\n",
       "        vertical-align: middle;\n",
       "    }\n",
       "\n",
       "    .dataframe tbody tr th {\n",
       "        vertical-align: top;\n",
       "    }\n",
       "\n",
       "    .dataframe thead th {\n",
       "        text-align: right;\n",
       "    }\n",
       "\n",
       "    .dataframe td {\n",
       "        white-space: pre;\n",
       "    }\n",
       "\n",
       "    .dataframe td {\n",
       "        padding-top: 0;\n",
       "    }\n",
       "\n",
       "    .dataframe td {\n",
       "        padding-bottom: 0;\n",
       "    }\n",
       "\n",
       "    .dataframe td {\n",
       "        line-height: 95%;\n",
       "    }\n",
       "</style>\n",
       "<table border=\"1\" class=\"dataframe\">\n",
       "<small>shape: (3,)</small>\n",
       "<thead>\n",
       "<tr>\n",
       "<th>\n",
       "a\n",
       "</th>\n",
       "</tr>\n",
       "<tr>\n",
       "<td>\n",
       "f64\n",
       "</td>\n",
       "</tr>\n",
       "</thead>\n",
       "<tbody>\n",
       "<tr>\n",
       "<td>\n",
       "1.0\n",
       "</td>\n",
       "</tr>\n",
       "<tr>\n",
       "<td>\n",
       "1.75\n",
       "</td>\n",
       "</tr>\n",
       "<tr>\n",
       "<td>\n",
       "2.615385\n",
       "</td>\n",
       "</tr>\n",
       "</tbody>\n",
       "</table>\n",
       "</div>"
      ],
      "text/plain": [
       "shape: (3,)\n",
       "Series: 'a' [f64]\n",
       "[\n",
       "\t1.0\n",
       "\t1.75\n",
       "\t2.615385\n",
       "]"
      ]
     },
     "execution_count": 89,
     "metadata": {},
     "output_type": "execute_result"
    }
   ],
   "source": [
    "s.ewm_mean(com=0.5)"
   ]
  },
  {
   "cell_type": "markdown",
   "id": "59634b4b",
   "metadata": {},
   "source": [
    "## Sequential Operations\n"
   ]
  },
  {
   "cell_type": "code",
   "execution_count": 93,
   "id": "3b436cd4",
   "metadata": {},
   "outputs": [
    {
     "data": {
      "text/html": [
       "<div>\n",
       "<style scoped>\n",
       "    .dataframe tbody tr th:only-of-type {\n",
       "        vertical-align: middle;\n",
       "    }\n",
       "\n",
       "    .dataframe tbody tr th {\n",
       "        vertical-align: top;\n",
       "    }\n",
       "\n",
       "    .dataframe thead th {\n",
       "        text-align: right;\n",
       "    }\n",
       "\n",
       "    .dataframe td {\n",
       "        white-space: pre;\n",
       "    }\n",
       "\n",
       "    .dataframe td {\n",
       "        padding-top: 0;\n",
       "    }\n",
       "\n",
       "    .dataframe td {\n",
       "        padding-bottom: 0;\n",
       "    }\n",
       "\n",
       "    .dataframe td {\n",
       "        line-height: 95%;\n",
       "    }\n",
       "</style>\n",
       "<table border=\"1\" class=\"dataframe\">\n",
       "<small>shape: (3,)</small>\n",
       "<thead>\n",
       "<tr>\n",
       "<th>\n",
       "a\n",
       "</th>\n",
       "</tr>\n",
       "<tr>\n",
       "<td>\n",
       "i64\n",
       "</td>\n",
       "</tr>\n",
       "</thead>\n",
       "<tbody>\n",
       "<tr>\n",
       "<td>\n",
       "null\n",
       "</td>\n",
       "</tr>\n",
       "<tr>\n",
       "<td>\n",
       "1\n",
       "</td>\n",
       "</tr>\n",
       "<tr>\n",
       "<td>\n",
       "1\n",
       "</td>\n",
       "</tr>\n",
       "</tbody>\n",
       "</table>\n",
       "</div>"
      ],
      "text/plain": [
       "shape: (3,)\n",
       "Series: 'a' [i64]\n",
       "[\n",
       "\tnull\n",
       "\t1\n",
       "\t1\n",
       "]"
      ]
     },
     "execution_count": 90,
     "metadata": {},
     "output_type": "execute_result"
    }
   ],
   "source": [
    "s.diff()"
   ]
  },
  {
   "cell_type": "code",
   "execution_count": 94,
   "id": "24dbb2b3",
   "metadata": {},
   "outputs": [
    {
     "data": {
      "text/html": [
       "<div>\n",
       "<style scoped>\n",
       "    .dataframe tbody tr th:only-of-type {\n",
       "        vertical-align: middle;\n",
       "    }\n",
       "\n",
       "    .dataframe tbody tr th {\n",
       "        vertical-align: top;\n",
       "    }\n",
       "\n",
       "    .dataframe thead th {\n",
       "        text-align: right;\n",
       "    }\n",
       "\n",
       "    .dataframe td {\n",
       "        white-space: pre;\n",
       "    }\n",
       "\n",
       "    .dataframe td {\n",
       "        padding-top: 0;\n",
       "    }\n",
       "\n",
       "    .dataframe td {\n",
       "        padding-bottom: 0;\n",
       "    }\n",
       "\n",
       "    .dataframe td {\n",
       "        line-height: 95%;\n",
       "    }\n",
       "</style>\n",
       "<table border=\"1\" class=\"dataframe\">\n",
       "<small>shape: (3,)</small>\n",
       "<thead>\n",
       "<tr>\n",
       "<th>\n",
       "a\n",
       "</th>\n",
       "</tr>\n",
       "<tr>\n",
       "<td>\n",
       "f64\n",
       "</td>\n",
       "</tr>\n",
       "</thead>\n",
       "<tbody>\n",
       "<tr>\n",
       "<td>\n",
       "null\n",
       "</td>\n",
       "</tr>\n",
       "<tr>\n",
       "<td>\n",
       "1.0\n",
       "</td>\n",
       "</tr>\n",
       "<tr>\n",
       "<td>\n",
       "0.5\n",
       "</td>\n",
       "</tr>\n",
       "</tbody>\n",
       "</table>\n",
       "</div>"
      ],
      "text/plain": [
       "shape: (3,)\n",
       "Series: 'a' [f64]\n",
       "[\n",
       "\tnull\n",
       "\t1.0\n",
       "\t0.5\n",
       "]"
      ]
     },
     "execution_count": 91,
     "metadata": {},
     "output_type": "execute_result"
    }
   ],
   "source": [
    "s.pct_change()"
   ]
  },
  {
   "cell_type": "markdown",
   "id": "870dee1d",
   "metadata": {},
   "source": [
    "## Windowed Operations\n"
   ]
  },
  {
   "cell_type": "code",
   "execution_count": 95,
   "id": "5eda3451",
   "metadata": {},
   "outputs": [
    {
     "data": {
      "text/html": [
       "<div>\n",
       "<style scoped>\n",
       "    .dataframe tbody tr th:only-of-type {\n",
       "        vertical-align: middle;\n",
       "    }\n",
       "\n",
       "    .dataframe tbody tr th {\n",
       "        vertical-align: top;\n",
       "    }\n",
       "\n",
       "    .dataframe thead th {\n",
       "        text-align: right;\n",
       "    }\n",
       "\n",
       "    .dataframe td {\n",
       "        white-space: pre;\n",
       "    }\n",
       "\n",
       "    .dataframe td {\n",
       "        padding-top: 0;\n",
       "    }\n",
       "\n",
       "    .dataframe td {\n",
       "        padding-bottom: 0;\n",
       "    }\n",
       "\n",
       "    .dataframe td {\n",
       "        line-height: 95%;\n",
       "    }\n",
       "</style>\n",
       "<table border=\"1\" class=\"dataframe\">\n",
       "<small>shape: (3,)</small>\n",
       "<thead>\n",
       "<tr>\n",
       "<th>\n",
       "a\n",
       "</th>\n",
       "</tr>\n",
       "<tr>\n",
       "<td>\n",
       "i64\n",
       "</td>\n",
       "</tr>\n",
       "</thead>\n",
       "<tbody>\n",
       "<tr>\n",
       "<td>\n",
       "null\n",
       "</td>\n",
       "</tr>\n",
       "<tr>\n",
       "<td>\n",
       "3\n",
       "</td>\n",
       "</tr>\n",
       "<tr>\n",
       "<td>\n",
       "5\n",
       "</td>\n",
       "</tr>\n",
       "</tbody>\n",
       "</table>\n",
       "</div>"
      ],
      "text/plain": [
       "shape: (3,)\n",
       "Series: 'a' [i64]\n",
       "[\n",
       "\tnull\n",
       "\t3\n",
       "\t5\n",
       "]"
      ]
     },
     "execution_count": 92,
     "metadata": {},
     "output_type": "execute_result"
    }
   ],
   "source": [
    "s.rolling_apply(\n",
    "  pl.sum, \n",
    "  window_size=2)"
   ]
  },
  {
   "cell_type": "markdown",
   "id": "c7d9f58d",
   "metadata": {},
   "source": [
    "Not all functions will work within a `rolling_apply`! Only polars' functions will."
   ]
  },
  {
   "cell_type": "code",
   "execution_count": 96,
   "id": "d53c8b60",
   "metadata": {},
   "outputs": [],
   "source": [
    "#| eval: false\n",
    "\n",
    "s.rolling_apply(np.sum, window_size=2) # will not work"
   ]
  },
  {
   "cell_type": "code",
   "execution_count": 97,
   "id": "cd440dac",
   "metadata": {},
   "outputs": [
    {
     "data": {
      "text/html": [
       "<div>\n",
       "<style scoped>\n",
       "    .dataframe tbody tr th:only-of-type {\n",
       "        vertical-align: middle;\n",
       "    }\n",
       "\n",
       "    .dataframe tbody tr th {\n",
       "        vertical-align: top;\n",
       "    }\n",
       "\n",
       "    .dataframe thead th {\n",
       "        text-align: right;\n",
       "    }\n",
       "\n",
       "    .dataframe td {\n",
       "        white-space: pre;\n",
       "    }\n",
       "\n",
       "    .dataframe td {\n",
       "        padding-top: 0;\n",
       "    }\n",
       "\n",
       "    .dataframe td {\n",
       "        padding-bottom: 0;\n",
       "    }\n",
       "\n",
       "    .dataframe td {\n",
       "        line-height: 95%;\n",
       "    }\n",
       "</style>\n",
       "<table border=\"1\" class=\"dataframe\">\n",
       "<small>shape: (3,)</small>\n",
       "<thead>\n",
       "<tr>\n",
       "<th>\n",
       "a\n",
       "</th>\n",
       "</tr>\n",
       "<tr>\n",
       "<td>\n",
       "i64\n",
       "</td>\n",
       "</tr>\n",
       "</thead>\n",
       "<tbody>\n",
       "<tr>\n",
       "<td>\n",
       "null\n",
       "</td>\n",
       "</tr>\n",
       "<tr>\n",
       "<td>\n",
       "2\n",
       "</td>\n",
       "</tr>\n",
       "<tr>\n",
       "<td>\n",
       "3\n",
       "</td>\n",
       "</tr>\n",
       "</tbody>\n",
       "</table>\n",
       "</div>"
      ],
      "text/plain": [
       "shape: (3,)\n",
       "Series: 'a' [i64]\n",
       "[\n",
       "\tnull\n",
       "\t2\n",
       "\t3\n",
       "]"
      ]
     },
     "execution_count": 93,
     "metadata": {},
     "output_type": "execute_result"
    }
   ],
   "source": [
    "s.rolling_max(window_size=2)"
   ]
  },
  {
   "cell_type": "code",
   "execution_count": 98,
   "id": "82fd62e2",
   "metadata": {},
   "outputs": [
    {
     "data": {
      "text/html": [
       "<div>\n",
       "<style scoped>\n",
       "    .dataframe tbody tr th:only-of-type {\n",
       "        vertical-align: middle;\n",
       "    }\n",
       "\n",
       "    .dataframe tbody tr th {\n",
       "        vertical-align: top;\n",
       "    }\n",
       "\n",
       "    .dataframe thead th {\n",
       "        text-align: right;\n",
       "    }\n",
       "\n",
       "    .dataframe td {\n",
       "        white-space: pre;\n",
       "    }\n",
       "\n",
       "    .dataframe td {\n",
       "        padding-top: 0;\n",
       "    }\n",
       "\n",
       "    .dataframe td {\n",
       "        padding-bottom: 0;\n",
       "    }\n",
       "\n",
       "    .dataframe td {\n",
       "        line-height: 95%;\n",
       "    }\n",
       "</style>\n",
       "<table border=\"1\" class=\"dataframe\">\n",
       "<small>shape: (3,)</small>\n",
       "<thead>\n",
       "<tr>\n",
       "<th>\n",
       "a\n",
       "</th>\n",
       "</tr>\n",
       "<tr>\n",
       "<td>\n",
       "i64\n",
       "</td>\n",
       "</tr>\n",
       "</thead>\n",
       "<tbody>\n",
       "<tr>\n",
       "<td>\n",
       "1\n",
       "</td>\n",
       "</tr>\n",
       "<tr>\n",
       "<td>\n",
       "2\n",
       "</td>\n",
       "</tr>\n",
       "<tr>\n",
       "<td>\n",
       "2\n",
       "</td>\n",
       "</tr>\n",
       "</tbody>\n",
       "</table>\n",
       "</div>"
      ],
      "text/plain": [
       "shape: (3,)\n",
       "Series: 'a' [i64]\n",
       "[\n",
       "\t1\n",
       "\t2\n",
       "\t2\n",
       "]"
      ]
     },
     "execution_count": 94,
     "metadata": {},
     "output_type": "execute_result"
    }
   ],
   "source": [
    "s.clip(1, 2)"
   ]
  },
  {
   "cell_type": "code",
   "execution_count": 99,
   "id": "66e19ed3",
   "metadata": {},
   "outputs": [
    {
     "data": {
      "text/html": [
       "<div>\n",
       "<style scoped>\n",
       "    .dataframe tbody tr th:only-of-type {\n",
       "        vertical-align: middle;\n",
       "    }\n",
       "\n",
       "    .dataframe tbody tr th {\n",
       "        vertical-align: top;\n",
       "    }\n",
       "\n",
       "    .dataframe thead th {\n",
       "        text-align: right;\n",
       "    }\n",
       "\n",
       "    .dataframe td {\n",
       "        white-space: pre;\n",
       "    }\n",
       "\n",
       "    .dataframe td {\n",
       "        padding-top: 0;\n",
       "    }\n",
       "\n",
       "    .dataframe td {\n",
       "        padding-bottom: 0;\n",
       "    }\n",
       "\n",
       "    .dataframe td {\n",
       "        line-height: 95%;\n",
       "    }\n",
       "</style>\n",
       "<table border=\"1\" class=\"dataframe\">\n",
       "<small>shape: (3,)</small>\n",
       "<thead>\n",
       "<tr>\n",
       "<th>\n",
       "a\n",
       "</th>\n",
       "</tr>\n",
       "<tr>\n",
       "<td>\n",
       "i64\n",
       "</td>\n",
       "</tr>\n",
       "</thead>\n",
       "<tbody>\n",
       "<tr>\n",
       "<td>\n",
       "1\n",
       "</td>\n",
       "</tr>\n",
       "<tr>\n",
       "<td>\n",
       "2\n",
       "</td>\n",
       "</tr>\n",
       "<tr>\n",
       "<td>\n",
       "3\n",
       "</td>\n",
       "</tr>\n",
       "</tbody>\n",
       "</table>\n",
       "</div>"
      ],
      "text/plain": [
       "shape: (3,)\n",
       "Series: 'a' [i64]\n",
       "[\n",
       "\t1\n",
       "\t2\n",
       "\t3\n",
       "]"
      ]
     },
     "execution_count": 95,
     "metadata": {},
     "output_type": "execute_result"
    }
   ],
   "source": [
    "s.clone()"
   ]
  },
  {
   "cell_type": "code",
   "execution_count": 100,
   "id": "3b8ff8e0",
   "metadata": {},
   "outputs": [
    {
     "data": {
      "text/html": [
       "<div>\n",
       "<style scoped>\n",
       "    .dataframe tbody tr th:only-of-type {\n",
       "        vertical-align: middle;\n",
       "    }\n",
       "\n",
       "    .dataframe tbody tr th {\n",
       "        vertical-align: top;\n",
       "    }\n",
       "\n",
       "    .dataframe thead th {\n",
       "        text-align: right;\n",
       "    }\n",
       "\n",
       "    .dataframe td {\n",
       "        white-space: pre;\n",
       "    }\n",
       "\n",
       "    .dataframe td {\n",
       "        padding-top: 0;\n",
       "    }\n",
       "\n",
       "    .dataframe td {\n",
       "        padding-bottom: 0;\n",
       "    }\n",
       "\n",
       "    .dataframe td {\n",
       "        line-height: 95%;\n",
       "    }\n",
       "</style>\n",
       "<table border=\"1\" class=\"dataframe\">\n",
       "<small>shape: (3,)</small>\n",
       "<thead>\n",
       "<tr>\n",
       "<th>\n",
       "a\n",
       "</th>\n",
       "</tr>\n",
       "<tr>\n",
       "<td>\n",
       "bool\n",
       "</td>\n",
       "</tr>\n",
       "</thead>\n",
       "<tbody>\n",
       "<tr>\n",
       "<td>\n",
       "true\n",
       "</td>\n",
       "</tr>\n",
       "<tr>\n",
       "<td>\n",
       "true\n",
       "</td>\n",
       "</tr>\n",
       "<tr>\n",
       "<td>\n",
       "true\n",
       "</td>\n",
       "</tr>\n",
       "</tbody>\n",
       "</table>\n",
       "</div>"
      ],
      "text/plain": [
       "shape: (3,)\n",
       "Series: 'a' [bool]\n",
       "[\n",
       "\ttrue\n",
       "\ttrue\n",
       "\ttrue\n",
       "]"
      ]
     },
     "execution_count": 96,
     "metadata": {},
     "output_type": "execute_result"
    }
   ],
   "source": [
    "# check equality with clone\n",
    "s == s.clone()"
   ]
  },
  {
   "cell_type": "markdown",
   "id": "486fe2b5",
   "metadata": {},
   "source": [
    "## Booleans\n"
   ]
  },
  {
   "cell_type": "code",
   "execution_count": 101,
   "id": "290e935c",
   "metadata": {},
   "outputs": [
    {
     "data": {
      "text/plain": [
       "Boolean"
      ]
     },
     "execution_count": 97,
     "metadata": {},
     "output_type": "execute_result"
    }
   ],
   "source": [
    "b = pl.Series(\"a\", [True, True, False])\n",
    "b.dtype"
   ]
  },
  {
   "cell_type": "code",
   "execution_count": 102,
   "id": "3a981a7e",
   "metadata": {},
   "outputs": [
    {
     "data": {
      "text/plain": [
       "False"
      ]
     },
     "execution_count": 98,
     "metadata": {},
     "output_type": "execute_result"
    }
   ],
   "source": [
    "b.all()"
   ]
  },
  {
   "cell_type": "code",
   "execution_count": 103,
   "id": "acb9faf4",
   "metadata": {},
   "outputs": [
    {
     "data": {
      "text/plain": [
       "True"
      ]
     },
     "execution_count": 99,
     "metadata": {},
     "output_type": "execute_result"
    }
   ],
   "source": [
    "b.any()"
   ]
  },
  {
   "cell_type": "markdown",
   "id": "3827d11d",
   "metadata": {},
   "source": [
    "## Uniques and Duplicates\n"
   ]
  },
  {
   "cell_type": "code",
   "execution_count": 104,
   "id": "891b10c8",
   "metadata": {},
   "outputs": [
    {
     "data": {
      "text/html": [
       "<div>\n",
       "<style scoped>\n",
       "    .dataframe tbody tr th:only-of-type {\n",
       "        vertical-align: middle;\n",
       "    }\n",
       "\n",
       "    .dataframe tbody tr th {\n",
       "        vertical-align: top;\n",
       "    }\n",
       "\n",
       "    .dataframe thead th {\n",
       "        text-align: right;\n",
       "    }\n",
       "\n",
       "    .dataframe td {\n",
       "        white-space: pre;\n",
       "    }\n",
       "\n",
       "    .dataframe td {\n",
       "        padding-top: 0;\n",
       "    }\n",
       "\n",
       "    .dataframe td {\n",
       "        padding-bottom: 0;\n",
       "    }\n",
       "\n",
       "    .dataframe td {\n",
       "        line-height: 95%;\n",
       "    }\n",
       "</style>\n",
       "<table border=\"1\" class=\"dataframe\">\n",
       "<small>shape: (3,)</small>\n",
       "<thead>\n",
       "<tr>\n",
       "<th>\n",
       "a\n",
       "</th>\n",
       "</tr>\n",
       "<tr>\n",
       "<td>\n",
       "bool\n",
       "</td>\n",
       "</tr>\n",
       "</thead>\n",
       "<tbody>\n",
       "<tr>\n",
       "<td>\n",
       "false\n",
       "</td>\n",
       "</tr>\n",
       "<tr>\n",
       "<td>\n",
       "false\n",
       "</td>\n",
       "</tr>\n",
       "<tr>\n",
       "<td>\n",
       "false\n",
       "</td>\n",
       "</tr>\n",
       "</tbody>\n",
       "</table>\n",
       "</div>"
      ],
      "text/plain": [
       "shape: (3,)\n",
       "Series: 'a' [bool]\n",
       "[\n",
       "\tfalse\n",
       "\tfalse\n",
       "\tfalse\n",
       "]"
      ]
     },
     "execution_count": 100,
     "metadata": {},
     "output_type": "execute_result"
    }
   ],
   "source": [
    "s.is_duplicated()"
   ]
  },
  {
   "cell_type": "code",
   "execution_count": 105,
   "id": "e81528e6",
   "metadata": {},
   "outputs": [
    {
     "data": {
      "text/html": [
       "<div>\n",
       "<style scoped>\n",
       "    .dataframe tbody tr th:only-of-type {\n",
       "        vertical-align: middle;\n",
       "    }\n",
       "\n",
       "    .dataframe tbody tr th {\n",
       "        vertical-align: top;\n",
       "    }\n",
       "\n",
       "    .dataframe thead th {\n",
       "        text-align: right;\n",
       "    }\n",
       "\n",
       "    .dataframe td {\n",
       "        white-space: pre;\n",
       "    }\n",
       "\n",
       "    .dataframe td {\n",
       "        padding-top: 0;\n",
       "    }\n",
       "\n",
       "    .dataframe td {\n",
       "        padding-bottom: 0;\n",
       "    }\n",
       "\n",
       "    .dataframe td {\n",
       "        line-height: 95%;\n",
       "    }\n",
       "</style>\n",
       "<table border=\"1\" class=\"dataframe\">\n",
       "<small>shape: (3,)</small>\n",
       "<thead>\n",
       "<tr>\n",
       "<th>\n",
       "a\n",
       "</th>\n",
       "</tr>\n",
       "<tr>\n",
       "<td>\n",
       "bool\n",
       "</td>\n",
       "</tr>\n",
       "</thead>\n",
       "<tbody>\n",
       "<tr>\n",
       "<td>\n",
       "true\n",
       "</td>\n",
       "</tr>\n",
       "<tr>\n",
       "<td>\n",
       "true\n",
       "</td>\n",
       "</tr>\n",
       "<tr>\n",
       "<td>\n",
       "true\n",
       "</td>\n",
       "</tr>\n",
       "</tbody>\n",
       "</table>\n",
       "</div>"
      ],
      "text/plain": [
       "shape: (3,)\n",
       "Series: 'a' [bool]\n",
       "[\n",
       "\ttrue\n",
       "\ttrue\n",
       "\ttrue\n",
       "]"
      ]
     },
     "execution_count": 101,
     "metadata": {},
     "output_type": "execute_result"
    }
   ],
   "source": [
    "s.is_unique()"
   ]
  },
  {
   "cell_type": "code",
   "execution_count": 106,
   "id": "f8d59fb3",
   "metadata": {},
   "outputs": [
    {
     "data": {
      "text/plain": [
       "3"
      ]
     },
     "execution_count": 102,
     "metadata": {},
     "output_type": "execute_result"
    }
   ],
   "source": [
    "s.n_unique()"
   ]
  },
  {
   "cell_type": "code",
   "execution_count": 107,
   "id": "d4701370",
   "metadata": {},
   "outputs": [
    {
     "data": {
      "text/html": [
       "<div>\n",
       "<style scoped>\n",
       "    .dataframe tbody tr th:only-of-type {\n",
       "        vertical-align: middle;\n",
       "    }\n",
       "\n",
       "    .dataframe tbody tr th {\n",
       "        vertical-align: top;\n",
       "    }\n",
       "\n",
       "    .dataframe thead th {\n",
       "        text-align: right;\n",
       "    }\n",
       "\n",
       "    .dataframe td {\n",
       "        white-space: pre;\n",
       "    }\n",
       "\n",
       "    .dataframe td {\n",
       "        padding-top: 0;\n",
       "    }\n",
       "\n",
       "    .dataframe td {\n",
       "        padding-bottom: 0;\n",
       "    }\n",
       "\n",
       "    .dataframe td {\n",
       "        line-height: 95%;\n",
       "    }\n",
       "</style>\n",
       "<table border=\"1\" class=\"dataframe\">\n",
       "<small>shape: (4,)</small>\n",
       "<thead>\n",
       "<tr>\n",
       "<th>\n",
       "\n",
       "</th>\n",
       "</tr>\n",
       "<tr>\n",
       "<td>\n",
       "u32\n",
       "</td>\n",
       "</tr>\n",
       "</thead>\n",
       "<tbody>\n",
       "<tr>\n",
       "<td>\n",
       "2\n",
       "</td>\n",
       "</tr>\n",
       "<tr>\n",
       "<td>\n",
       "1\n",
       "</td>\n",
       "</tr>\n",
       "<tr>\n",
       "<td>\n",
       "1\n",
       "</td>\n",
       "</tr>\n",
       "<tr>\n",
       "<td>\n",
       "1\n",
       "</td>\n",
       "</tr>\n",
       "</tbody>\n",
       "</table>\n",
       "</div>"
      ],
      "text/plain": [
       "shape: (4,)\n",
       "Series: '' [u32]\n",
       "[\n",
       "\t2\n",
       "\t1\n",
       "\t1\n",
       "\t1\n",
       "]"
      ]
     },
     "execution_count": 103,
     "metadata": {},
     "output_type": "execute_result"
    }
   ],
   "source": [
    "pl.Series([1,2,3,4,1]).unique_counts()"
   ]
  },
  {
   "cell_type": "markdown",
   "id": "44519d00",
   "metadata": {},
   "source": [
    "The first appearance of a value in a series:"
   ]
  },
  {
   "cell_type": "code",
   "execution_count": 108,
   "id": "fed66af2",
   "metadata": {},
   "outputs": [
    {
     "data": {
      "text/html": [
       "<div>\n",
       "<style scoped>\n",
       "    .dataframe tbody tr th:only-of-type {\n",
       "        vertical-align: middle;\n",
       "    }\n",
       "\n",
       "    .dataframe tbody tr th {\n",
       "        vertical-align: top;\n",
       "    }\n",
       "\n",
       "    .dataframe thead th {\n",
       "        text-align: right;\n",
       "    }\n",
       "\n",
       "    .dataframe td {\n",
       "        white-space: pre;\n",
       "    }\n",
       "\n",
       "    .dataframe td {\n",
       "        padding-top: 0;\n",
       "    }\n",
       "\n",
       "    .dataframe td {\n",
       "        padding-bottom: 0;\n",
       "    }\n",
       "\n",
       "    .dataframe td {\n",
       "        line-height: 95%;\n",
       "    }\n",
       "</style>\n",
       "<table border=\"1\" class=\"dataframe\">\n",
       "<small>shape: (5,)</small>\n",
       "<thead>\n",
       "<tr>\n",
       "<th>\n",
       "\n",
       "</th>\n",
       "</tr>\n",
       "<tr>\n",
       "<td>\n",
       "bool\n",
       "</td>\n",
       "</tr>\n",
       "</thead>\n",
       "<tbody>\n",
       "<tr>\n",
       "<td>\n",
       "true\n",
       "</td>\n",
       "</tr>\n",
       "<tr>\n",
       "<td>\n",
       "true\n",
       "</td>\n",
       "</tr>\n",
       "<tr>\n",
       "<td>\n",
       "true\n",
       "</td>\n",
       "</tr>\n",
       "<tr>\n",
       "<td>\n",
       "true\n",
       "</td>\n",
       "</tr>\n",
       "<tr>\n",
       "<td>\n",
       "false\n",
       "</td>\n",
       "</tr>\n",
       "</tbody>\n",
       "</table>\n",
       "</div>"
      ],
      "text/plain": [
       "shape: (5,)\n",
       "Series: '' [bool]\n",
       "[\n",
       "\ttrue\n",
       "\ttrue\n",
       "\ttrue\n",
       "\ttrue\n",
       "\tfalse\n",
       "]"
      ]
     },
     "execution_count": 104,
     "metadata": {},
     "output_type": "execute_result"
    }
   ],
   "source": [
    "pl.Series([1,2,3,4,1]).is_first()"
   ]
  },
  {
   "cell_type": "markdown",
   "id": "847b8a4d",
   "metadata": {},
   "source": [
    "## dtypes\n",
    "\n",
    "__Note__. Unlike pandas, polars' test functions have an underscore: `is_numeric()` instead of `isnumeric()`.\n",
    "\n",
    "\n",
    "### Testing"
   ]
  },
  {
   "cell_type": "code",
   "execution_count": 109,
   "id": "98278068",
   "metadata": {},
   "outputs": [
    {
     "data": {
      "text/plain": [
       "True"
      ]
     },
     "execution_count": 105,
     "metadata": {},
     "output_type": "execute_result"
    }
   ],
   "source": [
    "s.is_numeric()"
   ]
  },
  {
   "cell_type": "code",
   "execution_count": 110,
   "id": "57b3626e",
   "metadata": {},
   "outputs": [
    {
     "data": {
      "text/plain": [
       "False"
      ]
     },
     "execution_count": 106,
     "metadata": {},
     "output_type": "execute_result"
    }
   ],
   "source": [
    "s.is_float()"
   ]
  },
  {
   "cell_type": "code",
   "execution_count": 111,
   "id": "28c7af77",
   "metadata": {},
   "outputs": [
    {
     "data": {
      "text/plain": [
       "False"
      ]
     },
     "execution_count": 107,
     "metadata": {},
     "output_type": "execute_result"
    }
   ],
   "source": [
    "s.is_utf8()"
   ]
  },
  {
   "cell_type": "code",
   "execution_count": 112,
   "id": "3b87cd83",
   "metadata": {},
   "outputs": [
    {
     "data": {
      "text/plain": [
       "False"
      ]
     },
     "execution_count": 108,
     "metadata": {},
     "output_type": "execute_result"
    }
   ],
   "source": [
    "s.is_boolean()"
   ]
  },
  {
   "cell_type": "code",
   "execution_count": 113,
   "id": "3b8d8458",
   "metadata": {},
   "outputs": [
    {
     "data": {
      "text/plain": [
       "False"
      ]
     },
     "execution_count": 109,
     "metadata": {},
     "output_type": "execute_result"
    }
   ],
   "source": [
    "s.is_datelike()"
   ]
  },
  {
   "cell_type": "markdown",
   "id": "0820b6d5",
   "metadata": {},
   "source": [
    "Compare with Pandas Type Checkers:"
   ]
  },
  {
   "cell_type": "code",
   "execution_count": 114,
   "id": "df316f8a",
   "metadata": {},
   "outputs": [
    {
     "data": {
      "text/plain": [
       "False"
      ]
     },
     "execution_count": 110,
     "metadata": {},
     "output_type": "execute_result"
    }
   ],
   "source": [
    "pd.api.types.is_string_dtype(s_pandas)"
   ]
  },
  {
   "cell_type": "code",
   "execution_count": 115,
   "id": "f6bd42cb",
   "metadata": {},
   "outputs": [
    {
     "data": {
      "text/plain": [
       "False"
      ]
     },
     "execution_count": 111,
     "metadata": {},
     "output_type": "execute_result"
    }
   ],
   "source": [
    "pd.api.types.is_string_dtype(s)"
   ]
  },
  {
   "cell_type": "markdown",
   "id": "9c4ed197",
   "metadata": {},
   "source": [
    "### Casting\n"
   ]
  },
  {
   "cell_type": "code",
   "execution_count": 116,
   "id": "ba6ecd2c",
   "metadata": {},
   "outputs": [
    {
     "data": {
      "text/html": [
       "<div>\n",
       "<style scoped>\n",
       "    .dataframe tbody tr th:only-of-type {\n",
       "        vertical-align: middle;\n",
       "    }\n",
       "\n",
       "    .dataframe tbody tr th {\n",
       "        vertical-align: top;\n",
       "    }\n",
       "\n",
       "    .dataframe thead th {\n",
       "        text-align: right;\n",
       "    }\n",
       "\n",
       "    .dataframe td {\n",
       "        white-space: pre;\n",
       "    }\n",
       "\n",
       "    .dataframe td {\n",
       "        padding-top: 0;\n",
       "    }\n",
       "\n",
       "    .dataframe td {\n",
       "        padding-bottom: 0;\n",
       "    }\n",
       "\n",
       "    .dataframe td {\n",
       "        line-height: 95%;\n",
       "    }\n",
       "</style>\n",
       "<table border=\"1\" class=\"dataframe\">\n",
       "<small>shape: (3,)</small>\n",
       "<thead>\n",
       "<tr>\n",
       "<th>\n",
       "a\n",
       "</th>\n",
       "</tr>\n",
       "<tr>\n",
       "<td>\n",
       "i32\n",
       "</td>\n",
       "</tr>\n",
       "</thead>\n",
       "<tbody>\n",
       "<tr>\n",
       "<td>\n",
       "1\n",
       "</td>\n",
       "</tr>\n",
       "<tr>\n",
       "<td>\n",
       "2\n",
       "</td>\n",
       "</tr>\n",
       "<tr>\n",
       "<td>\n",
       "3\n",
       "</td>\n",
       "</tr>\n",
       "</tbody>\n",
       "</table>\n",
       "</div>"
      ],
      "text/plain": [
       "shape: (3,)\n",
       "Series: 'a' [i32]\n",
       "[\n",
       "\t1\n",
       "\t2\n",
       "\t3\n",
       "]"
      ]
     },
     "execution_count": 112,
     "metadata": {},
     "output_type": "execute_result"
    }
   ],
   "source": [
    "s.cast(pl.Int32)"
   ]
  },
  {
   "cell_type": "markdown",
   "id": "91be3ab2",
   "metadata": {},
   "source": [
    "Things to note: \n",
    "\n",
    "- `s.cast()` is an in place operation. If you want to keep the original series, you can use `s.cast(pl.Int32).clone()`.\n",
    "- `cast()` is polars' equivalent of pandas' `astype()`.\n",
    "- For a list of dtypes see the official [documentation](see https://pola-rs.github.io/polars/py-polars/html/reference/datatypes.html).\n",
    "\n",
    "\n",
    "\n",
    "### Optimizing dtypes\n",
    "\n",
    "Find the most efficient dtype for a series:"
   ]
  },
  {
   "cell_type": "code",
   "execution_count": 117,
   "id": "1cb5d7ff",
   "metadata": {},
   "outputs": [
    {
     "data": {
      "text/html": [
       "<div>\n",
       "<style scoped>\n",
       "    .dataframe tbody tr th:only-of-type {\n",
       "        vertical-align: middle;\n",
       "    }\n",
       "\n",
       "    .dataframe tbody tr th {\n",
       "        vertical-align: top;\n",
       "    }\n",
       "\n",
       "    .dataframe thead th {\n",
       "        text-align: right;\n",
       "    }\n",
       "\n",
       "    .dataframe td {\n",
       "        white-space: pre;\n",
       "    }\n",
       "\n",
       "    .dataframe td {\n",
       "        padding-top: 0;\n",
       "    }\n",
       "\n",
       "    .dataframe td {\n",
       "        padding-bottom: 0;\n",
       "    }\n",
       "\n",
       "    .dataframe td {\n",
       "        line-height: 95%;\n",
       "    }\n",
       "</style>\n",
       "<table border=\"1\" class=\"dataframe\">\n",
       "<small>shape: (3,)</small>\n",
       "<thead>\n",
       "<tr>\n",
       "<th>\n",
       "a\n",
       "</th>\n",
       "</tr>\n",
       "<tr>\n",
       "<td>\n",
       "i8\n",
       "</td>\n",
       "</tr>\n",
       "</thead>\n",
       "<tbody>\n",
       "<tr>\n",
       "<td>\n",
       "1\n",
       "</td>\n",
       "</tr>\n",
       "<tr>\n",
       "<td>\n",
       "2\n",
       "</td>\n",
       "</tr>\n",
       "<tr>\n",
       "<td>\n",
       "3\n",
       "</td>\n",
       "</tr>\n",
       "</tbody>\n",
       "</table>\n",
       "</div>"
      ],
      "text/plain": [
       "shape: (3,)\n",
       "Series: 'a' [i8]\n",
       "[\n",
       "\t1\n",
       "\t2\n",
       "\t3\n",
       "]"
      ]
     },
     "execution_count": 113,
     "metadata": {},
     "output_type": "execute_result"
    }
   ],
   "source": [
    "s.shrink_dtype()"
   ]
  },
  {
   "cell_type": "markdown",
   "id": "597f589d",
   "metadata": {},
   "source": [
    "Also see [here](http://braaannigan.github.io/software/2022/10/31/polars-dtype-diet.html).\n",
    "\n",
    "Shrink the memory allocation to the size of the actual data (in place)."
   ]
  },
  {
   "cell_type": "code",
   "execution_count": 118,
   "id": "9baed1a3",
   "metadata": {},
   "outputs": [
    {
     "data": {
      "text/html": [
       "<div>\n",
       "<style scoped>\n",
       "    .dataframe tbody tr th:only-of-type {\n",
       "        vertical-align: middle;\n",
       "    }\n",
       "\n",
       "    .dataframe tbody tr th {\n",
       "        vertical-align: top;\n",
       "    }\n",
       "\n",
       "    .dataframe thead th {\n",
       "        text-align: right;\n",
       "    }\n",
       "\n",
       "    .dataframe td {\n",
       "        white-space: pre;\n",
       "    }\n",
       "\n",
       "    .dataframe td {\n",
       "        padding-top: 0;\n",
       "    }\n",
       "\n",
       "    .dataframe td {\n",
       "        padding-bottom: 0;\n",
       "    }\n",
       "\n",
       "    .dataframe td {\n",
       "        line-height: 95%;\n",
       "    }\n",
       "</style>\n",
       "<table border=\"1\" class=\"dataframe\">\n",
       "<small>shape: (3,)</small>\n",
       "<thead>\n",
       "<tr>\n",
       "<th>\n",
       "a\n",
       "</th>\n",
       "</tr>\n",
       "<tr>\n",
       "<td>\n",
       "i64\n",
       "</td>\n",
       "</tr>\n",
       "</thead>\n",
       "<tbody>\n",
       "<tr>\n",
       "<td>\n",
       "1\n",
       "</td>\n",
       "</tr>\n",
       "<tr>\n",
       "<td>\n",
       "2\n",
       "</td>\n",
       "</tr>\n",
       "<tr>\n",
       "<td>\n",
       "3\n",
       "</td>\n",
       "</tr>\n",
       "</tbody>\n",
       "</table>\n",
       "</div>"
      ],
      "text/plain": [
       "shape: (3,)\n",
       "Series: 'a' [i64]\n",
       "[\n",
       "\t1\n",
       "\t2\n",
       "\t3\n",
       "]"
      ]
     },
     "execution_count": 114,
     "metadata": {},
     "output_type": "execute_result"
    }
   ],
   "source": [
    "s.shrink_to_fit() "
   ]
  },
  {
   "cell_type": "markdown",
   "id": "53ee1723",
   "metadata": {},
   "source": [
    "## Ordering and Sorting \n"
   ]
  },
  {
   "cell_type": "code",
   "execution_count": 119,
   "id": "749d2208",
   "metadata": {},
   "outputs": [
    {
     "data": {
      "text/html": [
       "<div>\n",
       "<style scoped>\n",
       "    .dataframe tbody tr th:only-of-type {\n",
       "        vertical-align: middle;\n",
       "    }\n",
       "\n",
       "    .dataframe tbody tr th {\n",
       "        vertical-align: top;\n",
       "    }\n",
       "\n",
       "    .dataframe thead th {\n",
       "        text-align: right;\n",
       "    }\n",
       "\n",
       "    .dataframe td {\n",
       "        white-space: pre;\n",
       "    }\n",
       "\n",
       "    .dataframe td {\n",
       "        padding-top: 0;\n",
       "    }\n",
       "\n",
       "    .dataframe td {\n",
       "        padding-bottom: 0;\n",
       "    }\n",
       "\n",
       "    .dataframe td {\n",
       "        line-height: 95%;\n",
       "    }\n",
       "</style>\n",
       "<table border=\"1\" class=\"dataframe\">\n",
       "<small>shape: (3,)</small>\n",
       "<thead>\n",
       "<tr>\n",
       "<th>\n",
       "a\n",
       "</th>\n",
       "</tr>\n",
       "<tr>\n",
       "<td>\n",
       "i64\n",
       "</td>\n",
       "</tr>\n",
       "</thead>\n",
       "<tbody>\n",
       "<tr>\n",
       "<td>\n",
       "1\n",
       "</td>\n",
       "</tr>\n",
       "<tr>\n",
       "<td>\n",
       "2\n",
       "</td>\n",
       "</tr>\n",
       "<tr>\n",
       "<td>\n",
       "3\n",
       "</td>\n",
       "</tr>\n",
       "</tbody>\n",
       "</table>\n",
       "</div>"
      ],
      "text/plain": [
       "shape: (3,)\n",
       "Series: 'a' [i64]\n",
       "[\n",
       "\t1\n",
       "\t2\n",
       "\t3\n",
       "]"
      ]
     },
     "execution_count": 115,
     "metadata": {},
     "output_type": "execute_result"
    }
   ],
   "source": [
    "s.sort()"
   ]
  },
  {
   "cell_type": "code",
   "execution_count": 120,
   "id": "6f1728c9",
   "metadata": {},
   "outputs": [
    {
     "data": {
      "text/html": [
       "<div>\n",
       "<style scoped>\n",
       "    .dataframe tbody tr th:only-of-type {\n",
       "        vertical-align: middle;\n",
       "    }\n",
       "\n",
       "    .dataframe tbody tr th {\n",
       "        vertical-align: top;\n",
       "    }\n",
       "\n",
       "    .dataframe thead th {\n",
       "        text-align: right;\n",
       "    }\n",
       "\n",
       "    .dataframe td {\n",
       "        white-space: pre;\n",
       "    }\n",
       "\n",
       "    .dataframe td {\n",
       "        padding-top: 0;\n",
       "    }\n",
       "\n",
       "    .dataframe td {\n",
       "        padding-bottom: 0;\n",
       "    }\n",
       "\n",
       "    .dataframe td {\n",
       "        line-height: 95%;\n",
       "    }\n",
       "</style>\n",
       "<table border=\"1\" class=\"dataframe\">\n",
       "<small>shape: (3,)</small>\n",
       "<thead>\n",
       "<tr>\n",
       "<th>\n",
       "a\n",
       "</th>\n",
       "</tr>\n",
       "<tr>\n",
       "<td>\n",
       "i64\n",
       "</td>\n",
       "</tr>\n",
       "</thead>\n",
       "<tbody>\n",
       "<tr>\n",
       "<td>\n",
       "3\n",
       "</td>\n",
       "</tr>\n",
       "<tr>\n",
       "<td>\n",
       "2\n",
       "</td>\n",
       "</tr>\n",
       "<tr>\n",
       "<td>\n",
       "1\n",
       "</td>\n",
       "</tr>\n",
       "</tbody>\n",
       "</table>\n",
       "</div>"
      ],
      "text/plain": [
       "shape: (3,)\n",
       "Series: 'a' [i64]\n",
       "[\n",
       "\t3\n",
       "\t2\n",
       "\t1\n",
       "]"
      ]
     },
     "execution_count": 116,
     "metadata": {},
     "output_type": "execute_result"
    }
   ],
   "source": [
    "s.reverse()"
   ]
  },
  {
   "cell_type": "code",
   "execution_count": 121,
   "id": "396d6bbe",
   "metadata": {},
   "outputs": [
    {
     "data": {
      "text/html": [
       "<div>\n",
       "<style scoped>\n",
       "    .dataframe tbody tr th:only-of-type {\n",
       "        vertical-align: middle;\n",
       "    }\n",
       "\n",
       "    .dataframe tbody tr th {\n",
       "        vertical-align: top;\n",
       "    }\n",
       "\n",
       "    .dataframe thead th {\n",
       "        text-align: right;\n",
       "    }\n",
       "\n",
       "    .dataframe td {\n",
       "        white-space: pre;\n",
       "    }\n",
       "\n",
       "    .dataframe td {\n",
       "        padding-top: 0;\n",
       "    }\n",
       "\n",
       "    .dataframe td {\n",
       "        padding-bottom: 0;\n",
       "    }\n",
       "\n",
       "    .dataframe td {\n",
       "        line-height: 95%;\n",
       "    }\n",
       "</style>\n",
       "<table border=\"1\" class=\"dataframe\">\n",
       "<small>shape: (3,)</small>\n",
       "<thead>\n",
       "<tr>\n",
       "<th>\n",
       "a\n",
       "</th>\n",
       "</tr>\n",
       "<tr>\n",
       "<td>\n",
       "f32\n",
       "</td>\n",
       "</tr>\n",
       "</thead>\n",
       "<tbody>\n",
       "<tr>\n",
       "<td>\n",
       "1.0\n",
       "</td>\n",
       "</tr>\n",
       "<tr>\n",
       "<td>\n",
       "2.0\n",
       "</td>\n",
       "</tr>\n",
       "<tr>\n",
       "<td>\n",
       "3.0\n",
       "</td>\n",
       "</tr>\n",
       "</tbody>\n",
       "</table>\n",
       "</div>"
      ],
      "text/plain": [
       "shape: (3,)\n",
       "Series: 'a' [f32]\n",
       "[\n",
       "\t1.0\n",
       "\t2.0\n",
       "\t3.0\n",
       "]"
      ]
     },
     "execution_count": 117,
     "metadata": {},
     "output_type": "execute_result"
    }
   ],
   "source": [
    "s.rank()"
   ]
  },
  {
   "cell_type": "code",
   "execution_count": 122,
   "id": "48a65dc0",
   "metadata": {},
   "outputs": [
    {
     "data": {
      "text/html": [
       "<div>\n",
       "<style scoped>\n",
       "    .dataframe tbody tr th:only-of-type {\n",
       "        vertical-align: middle;\n",
       "    }\n",
       "\n",
       "    .dataframe tbody tr th {\n",
       "        vertical-align: top;\n",
       "    }\n",
       "\n",
       "    .dataframe thead th {\n",
       "        text-align: right;\n",
       "    }\n",
       "\n",
       "    .dataframe td {\n",
       "        white-space: pre;\n",
       "    }\n",
       "\n",
       "    .dataframe td {\n",
       "        padding-top: 0;\n",
       "    }\n",
       "\n",
       "    .dataframe td {\n",
       "        padding-bottom: 0;\n",
       "    }\n",
       "\n",
       "    .dataframe td {\n",
       "        line-height: 95%;\n",
       "    }\n",
       "</style>\n",
       "<table border=\"1\" class=\"dataframe\">\n",
       "<small>shape: (3,)</small>\n",
       "<thead>\n",
       "<tr>\n",
       "<th>\n",
       "a\n",
       "</th>\n",
       "</tr>\n",
       "<tr>\n",
       "<td>\n",
       "u32\n",
       "</td>\n",
       "</tr>\n",
       "</thead>\n",
       "<tbody>\n",
       "<tr>\n",
       "<td>\n",
       "0\n",
       "</td>\n",
       "</tr>\n",
       "<tr>\n",
       "<td>\n",
       "1\n",
       "</td>\n",
       "</tr>\n",
       "<tr>\n",
       "<td>\n",
       "2\n",
       "</td>\n",
       "</tr>\n",
       "</tbody>\n",
       "</table>\n",
       "</div>"
      ],
      "text/plain": [
       "shape: (3,)\n",
       "Series: 'a' [u32]\n",
       "[\n",
       "\t0\n",
       "\t1\n",
       "\t2\n",
       "]"
      ]
     },
     "execution_count": 118,
     "metadata": {},
     "output_type": "execute_result"
    }
   ],
   "source": [
    "s.arg_sort() "
   ]
  },
  {
   "cell_type": "markdown",
   "id": "e813a428",
   "metadata": {},
   "source": [
    "`arg_sort()` returns the indices that would sort the series. Same as R's `order()`.\n"
   ]
  },
  {
   "cell_type": "code",
   "execution_count": 123,
   "id": "0040b04c",
   "metadata": {},
   "outputs": [
    {
     "data": {
      "text/html": [
       "<div>\n",
       "<style scoped>\n",
       "    .dataframe tbody tr th:only-of-type {\n",
       "        vertical-align: middle;\n",
       "    }\n",
       "\n",
       "    .dataframe tbody tr th {\n",
       "        vertical-align: top;\n",
       "    }\n",
       "\n",
       "    .dataframe thead th {\n",
       "        text-align: right;\n",
       "    }\n",
       "\n",
       "    .dataframe td {\n",
       "        white-space: pre;\n",
       "    }\n",
       "\n",
       "    .dataframe td {\n",
       "        padding-top: 0;\n",
       "    }\n",
       "\n",
       "    .dataframe td {\n",
       "        padding-bottom: 0;\n",
       "    }\n",
       "\n",
       "    .dataframe td {\n",
       "        line-height: 95%;\n",
       "    }\n",
       "</style>\n",
       "<table border=\"1\" class=\"dataframe\">\n",
       "<small>shape: (3,)</small>\n",
       "<thead>\n",
       "<tr>\n",
       "<th>\n",
       "a\n",
       "</th>\n",
       "</tr>\n",
       "<tr>\n",
       "<td>\n",
       "bool\n",
       "</td>\n",
       "</tr>\n",
       "</thead>\n",
       "<tbody>\n",
       "<tr>\n",
       "<td>\n",
       "true\n",
       "</td>\n",
       "</tr>\n",
       "<tr>\n",
       "<td>\n",
       "true\n",
       "</td>\n",
       "</tr>\n",
       "<tr>\n",
       "<td>\n",
       "true\n",
       "</td>\n",
       "</tr>\n",
       "</tbody>\n",
       "</table>\n",
       "</div>"
      ],
      "text/plain": [
       "shape: (3,)\n",
       "Series: 'a' [bool]\n",
       "[\n",
       "\ttrue\n",
       "\ttrue\n",
       "\ttrue\n",
       "]"
      ]
     },
     "execution_count": 119,
     "metadata": {},
     "output_type": "execute_result"
    }
   ],
   "source": [
    "s.sort() == s[s.arg_sort()]"
   ]
  },
  {
   "cell_type": "markdown",
   "id": "309611dc",
   "metadata": {},
   "source": [
    "`arg_sort()` can also be used to return the original series from the sorted one:"
   ]
  },
  {
   "cell_type": "code",
   "execution_count": 124,
   "id": "3b2284e9",
   "metadata": {},
   "outputs": [
    {
     "data": {
      "text/html": [
       "<div>\n",
       "<style scoped>\n",
       "    .dataframe tbody tr th:only-of-type {\n",
       "        vertical-align: middle;\n",
       "    }\n",
       "\n",
       "    .dataframe tbody tr th {\n",
       "        vertical-align: top;\n",
       "    }\n",
       "\n",
       "    .dataframe thead th {\n",
       "        text-align: right;\n",
       "    }\n",
       "\n",
       "    .dataframe td {\n",
       "        white-space: pre;\n",
       "    }\n",
       "\n",
       "    .dataframe td {\n",
       "        padding-top: 0;\n",
       "    }\n",
       "\n",
       "    .dataframe td {\n",
       "        padding-bottom: 0;\n",
       "    }\n",
       "\n",
       "    .dataframe td {\n",
       "        line-height: 95%;\n",
       "    }\n",
       "</style>\n",
       "<table border=\"1\" class=\"dataframe\">\n",
       "<small>shape: (3,)</small>\n",
       "<thead>\n",
       "<tr>\n",
       "<th>\n",
       "a\n",
       "</th>\n",
       "</tr>\n",
       "<tr>\n",
       "<td>\n",
       "bool\n",
       "</td>\n",
       "</tr>\n",
       "</thead>\n",
       "<tbody>\n",
       "<tr>\n",
       "<td>\n",
       "true\n",
       "</td>\n",
       "</tr>\n",
       "<tr>\n",
       "<td>\n",
       "true\n",
       "</td>\n",
       "</tr>\n",
       "<tr>\n",
       "<td>\n",
       "true\n",
       "</td>\n",
       "</tr>\n",
       "</tbody>\n",
       "</table>\n",
       "</div>"
      ],
      "text/plain": [
       "shape: (3,)\n",
       "Series: 'a' [bool]\n",
       "[\n",
       "\ttrue\n",
       "\ttrue\n",
       "\ttrue\n",
       "]"
      ]
     },
     "execution_count": 120,
     "metadata": {},
     "output_type": "execute_result"
    }
   ],
   "source": [
    "s == s[s[s.arg_sort()].arg_sort()]"
   ]
  },
  {
   "cell_type": "code",
   "execution_count": 125,
   "id": "55e60065",
   "metadata": {},
   "outputs": [
    {
     "data": {
      "text/html": [
       "<div>\n",
       "<style scoped>\n",
       "    .dataframe tbody tr th:only-of-type {\n",
       "        vertical-align: middle;\n",
       "    }\n",
       "\n",
       "    .dataframe tbody tr th {\n",
       "        vertical-align: top;\n",
       "    }\n",
       "\n",
       "    .dataframe thead th {\n",
       "        text-align: right;\n",
       "    }\n",
       "\n",
       "    .dataframe td {\n",
       "        white-space: pre;\n",
       "    }\n",
       "\n",
       "    .dataframe td {\n",
       "        padding-top: 0;\n",
       "    }\n",
       "\n",
       "    .dataframe td {\n",
       "        padding-bottom: 0;\n",
       "    }\n",
       "\n",
       "    .dataframe td {\n",
       "        line-height: 95%;\n",
       "    }\n",
       "</style>\n",
       "<table border=\"1\" class=\"dataframe\">\n",
       "<small>shape: (3,)</small>\n",
       "<thead>\n",
       "<tr>\n",
       "<th>\n",
       "a\n",
       "</th>\n",
       "</tr>\n",
       "<tr>\n",
       "<td>\n",
       "i64\n",
       "</td>\n",
       "</tr>\n",
       "</thead>\n",
       "<tbody>\n",
       "<tr>\n",
       "<td>\n",
       "2\n",
       "</td>\n",
       "</tr>\n",
       "<tr>\n",
       "<td>\n",
       "1\n",
       "</td>\n",
       "</tr>\n",
       "<tr>\n",
       "<td>\n",
       "3\n",
       "</td>\n",
       "</tr>\n",
       "</tbody>\n",
       "</table>\n",
       "</div>"
      ],
      "text/plain": [
       "shape: (3,)\n",
       "Series: 'a' [i64]\n",
       "[\n",
       "\t2\n",
       "\t1\n",
       "\t3\n",
       "]"
      ]
     },
     "execution_count": 121,
     "metadata": {},
     "output_type": "execute_result"
    }
   ],
   "source": [
    "s.shuffle(seed=1)"
   ]
  },
  {
   "cell_type": "markdown",
   "id": "fb8f33f4",
   "metadata": {},
   "source": [
    "## Missing\n",
    "\n",
    "Pandas users will be excited to know that polars has built in missing value support (!) for all dtypes.\n",
    "This has been a long awaited feature in the Python data science ecosystem, with implications on performance and syntax.\n"
   ]
  },
  {
   "cell_type": "code",
   "execution_count": 126,
   "id": "078ab3a5",
   "metadata": {},
   "outputs": [
    {
     "data": {
      "text/html": [
       "<div>\n",
       "<style scoped>\n",
       "    .dataframe tbody tr th:only-of-type {\n",
       "        vertical-align: middle;\n",
       "    }\n",
       "\n",
       "    .dataframe tbody tr th {\n",
       "        vertical-align: top;\n",
       "    }\n",
       "\n",
       "    .dataframe thead th {\n",
       "        text-align: right;\n",
       "    }\n",
       "\n",
       "    .dataframe td {\n",
       "        white-space: pre;\n",
       "    }\n",
       "\n",
       "    .dataframe td {\n",
       "        padding-top: 0;\n",
       "    }\n",
       "\n",
       "    .dataframe td {\n",
       "        padding-bottom: 0;\n",
       "    }\n",
       "\n",
       "    .dataframe td {\n",
       "        line-height: 95%;\n",
       "    }\n",
       "</style>\n",
       "<table border=\"1\" class=\"dataframe\">\n",
       "<small>shape: (4,)</small>\n",
       "<thead>\n",
       "<tr>\n",
       "<th>\n",
       "a\n",
       "</th>\n",
       "</tr>\n",
       "<tr>\n",
       "<td>\n",
       "bool\n",
       "</td>\n",
       "</tr>\n",
       "</thead>\n",
       "<tbody>\n",
       "<tr>\n",
       "<td>\n",
       "false\n",
       "</td>\n",
       "</tr>\n",
       "<tr>\n",
       "<td>\n",
       "false\n",
       "</td>\n",
       "</tr>\n",
       "<tr>\n",
       "<td>\n",
       "true\n",
       "</td>\n",
       "</tr>\n",
       "<tr>\n",
       "<td>\n",
       "false\n",
       "</td>\n",
       "</tr>\n",
       "</tbody>\n",
       "</table>\n",
       "</div>"
      ],
      "text/plain": [
       "shape: (4,)\n",
       "Series: 'a' [bool]\n",
       "[\n",
       "\tfalse\n",
       "\tfalse\n",
       "\ttrue\n",
       "\tfalse\n",
       "]"
      ]
     },
     "execution_count": 122,
     "metadata": {},
     "output_type": "execute_result"
    }
   ],
   "source": [
    "m = pl.Series(\"a\", [1, 2, None, np.nan])\n",
    "m.is_null()"
   ]
  },
  {
   "cell_type": "code",
   "execution_count": 127,
   "id": "c759a919",
   "metadata": {},
   "outputs": [
    {
     "data": {
      "text/html": [
       "<div>\n",
       "<style scoped>\n",
       "    .dataframe tbody tr th:only-of-type {\n",
       "        vertical-align: middle;\n",
       "    }\n",
       "\n",
       "    .dataframe tbody tr th {\n",
       "        vertical-align: top;\n",
       "    }\n",
       "\n",
       "    .dataframe thead th {\n",
       "        text-align: right;\n",
       "    }\n",
       "\n",
       "    .dataframe td {\n",
       "        white-space: pre;\n",
       "    }\n",
       "\n",
       "    .dataframe td {\n",
       "        padding-top: 0;\n",
       "    }\n",
       "\n",
       "    .dataframe td {\n",
       "        padding-bottom: 0;\n",
       "    }\n",
       "\n",
       "    .dataframe td {\n",
       "        line-height: 95%;\n",
       "    }\n",
       "</style>\n",
       "<table border=\"1\" class=\"dataframe\">\n",
       "<small>shape: (4,)</small>\n",
       "<thead>\n",
       "<tr>\n",
       "<th>\n",
       "a\n",
       "</th>\n",
       "</tr>\n",
       "<tr>\n",
       "<td>\n",
       "bool\n",
       "</td>\n",
       "</tr>\n",
       "</thead>\n",
       "<tbody>\n",
       "<tr>\n",
       "<td>\n",
       "false\n",
       "</td>\n",
       "</tr>\n",
       "<tr>\n",
       "<td>\n",
       "false\n",
       "</td>\n",
       "</tr>\n",
       "<tr>\n",
       "<td>\n",
       "null\n",
       "</td>\n",
       "</tr>\n",
       "<tr>\n",
       "<td>\n",
       "true\n",
       "</td>\n",
       "</tr>\n",
       "</tbody>\n",
       "</table>\n",
       "</div>"
      ],
      "text/plain": [
       "shape: (4,)\n",
       "Series: 'a' [bool]\n",
       "[\n",
       "\tfalse\n",
       "\tfalse\n",
       "\tnull\n",
       "\ttrue\n",
       "]"
      ]
     },
     "execution_count": 123,
     "metadata": {},
     "output_type": "execute_result"
    }
   ],
   "source": [
    "m.is_nan()"
   ]
  },
  {
   "cell_type": "code",
   "execution_count": 128,
   "id": "a08da103",
   "metadata": {},
   "outputs": [],
   "source": [
    "m1 = pl.Series(\"a\", [1, None, 2, ]) # python native None\n",
    "m2 = pl.Series(\"a\", [1, np.nan, 2, ]) # numpy's nan\n",
    "m3 = pl.Series(\"a\", [1, float('nan'), 2, ]) # python's nan\n",
    "m4 = pd.Series([1, None, 2 ])\n",
    "m5 = pd.Series([1, np.nan, 2, ])\n",
    "m6 = pd.Series([1, float('nan'), 2, ])"
   ]
  },
  {
   "cell_type": "code",
   "execution_count": 129,
   "id": "63985a9f",
   "metadata": {},
   "outputs": [
    {
     "data": {
      "text/plain": [
       "[3, nan, nan, 3.0, 3.0, 3.0]"
      ]
     },
     "execution_count": 125,
     "metadata": {},
     "output_type": "execute_result"
    }
   ],
   "source": [
    "[m1.sum(), m2.sum(), m3.sum(), m4.sum(), m5.sum(), m6.sum()]"
   ]
  },
  {
   "cell_type": "markdown",
   "id": "0fa32dee",
   "metadata": {},
   "source": [
    "Things to note:\n",
    "\n",
    "- The use of `is_null()` instead of pandas `isna()`.\n",
    "- Polars supports `np.nan` but that is a different dtype than `None` (which is a `Null` type). `None` is not considered \n",
    "- Aggregating pandas and polars series behave differently w.r.t. missing values:\n",
    "  - Both will ignore `None`; which is unsafe.\n",
    "  - Polars will not ignore `np.nan`; which is safe. Pandas is unsafe w.r.t. `np.nan`, and will ignore it. \n",
    "\n",
    "\n",
    "Filling missing values; `None` and `np.nan` are treated differently:"
   ]
  },
  {
   "cell_type": "code",
   "execution_count": 130,
   "id": "0e42e67f",
   "metadata": {},
   "outputs": [
    {
     "data": {
      "text/html": [
       "<div>\n",
       "<style scoped>\n",
       "    .dataframe tbody tr th:only-of-type {\n",
       "        vertical-align: middle;\n",
       "    }\n",
       "\n",
       "    .dataframe tbody tr th {\n",
       "        vertical-align: top;\n",
       "    }\n",
       "\n",
       "    .dataframe thead th {\n",
       "        text-align: right;\n",
       "    }\n",
       "\n",
       "    .dataframe td {\n",
       "        white-space: pre;\n",
       "    }\n",
       "\n",
       "    .dataframe td {\n",
       "        padding-top: 0;\n",
       "    }\n",
       "\n",
       "    .dataframe td {\n",
       "        padding-bottom: 0;\n",
       "    }\n",
       "\n",
       "    .dataframe td {\n",
       "        line-height: 95%;\n",
       "    }\n",
       "</style>\n",
       "<table border=\"1\" class=\"dataframe\">\n",
       "<small>shape: (3,)</small>\n",
       "<thead>\n",
       "<tr>\n",
       "<th>\n",
       "a\n",
       "</th>\n",
       "</tr>\n",
       "<tr>\n",
       "<td>\n",
       "i64\n",
       "</td>\n",
       "</tr>\n",
       "</thead>\n",
       "<tbody>\n",
       "<tr>\n",
       "<td>\n",
       "1\n",
       "</td>\n",
       "</tr>\n",
       "<tr>\n",
       "<td>\n",
       "0\n",
       "</td>\n",
       "</tr>\n",
       "<tr>\n",
       "<td>\n",
       "2\n",
       "</td>\n",
       "</tr>\n",
       "</tbody>\n",
       "</table>\n",
       "</div>"
      ],
      "text/plain": [
       "shape: (3,)\n",
       "Series: 'a' [i64]\n",
       "[\n",
       "\t1\n",
       "\t0\n",
       "\t2\n",
       "]"
      ]
     },
     "execution_count": 126,
     "metadata": {},
     "output_type": "execute_result"
    }
   ],
   "source": [
    "m1.fill_null(0)"
   ]
  },
  {
   "cell_type": "code",
   "execution_count": 131,
   "id": "178a6dd9",
   "metadata": {},
   "outputs": [
    {
     "data": {
      "text/html": [
       "<div>\n",
       "<style scoped>\n",
       "    .dataframe tbody tr th:only-of-type {\n",
       "        vertical-align: middle;\n",
       "    }\n",
       "\n",
       "    .dataframe tbody tr th {\n",
       "        vertical-align: top;\n",
       "    }\n",
       "\n",
       "    .dataframe thead th {\n",
       "        text-align: right;\n",
       "    }\n",
       "\n",
       "    .dataframe td {\n",
       "        white-space: pre;\n",
       "    }\n",
       "\n",
       "    .dataframe td {\n",
       "        padding-top: 0;\n",
       "    }\n",
       "\n",
       "    .dataframe td {\n",
       "        padding-bottom: 0;\n",
       "    }\n",
       "\n",
       "    .dataframe td {\n",
       "        line-height: 95%;\n",
       "    }\n",
       "</style>\n",
       "<table border=\"1\" class=\"dataframe\">\n",
       "<small>shape: (3,)</small>\n",
       "<thead>\n",
       "<tr>\n",
       "<th>\n",
       "a\n",
       "</th>\n",
       "</tr>\n",
       "<tr>\n",
       "<td>\n",
       "i64\n",
       "</td>\n",
       "</tr>\n",
       "</thead>\n",
       "<tbody>\n",
       "<tr>\n",
       "<td>\n",
       "1\n",
       "</td>\n",
       "</tr>\n",
       "<tr>\n",
       "<td>\n",
       "1\n",
       "</td>\n",
       "</tr>\n",
       "<tr>\n",
       "<td>\n",
       "2\n",
       "</td>\n",
       "</tr>\n",
       "</tbody>\n",
       "</table>\n",
       "</div>"
      ],
      "text/plain": [
       "shape: (3,)\n",
       "Series: 'a' [i64]\n",
       "[\n",
       "\t1\n",
       "\t1\n",
       "\t2\n",
       "]"
      ]
     },
     "execution_count": 127,
     "metadata": {},
     "output_type": "execute_result"
    }
   ],
   "source": [
    "m1.interpolate()"
   ]
  },
  {
   "cell_type": "code",
   "execution_count": 132,
   "id": "6c53a5da",
   "metadata": {},
   "outputs": [
    {
     "data": {
      "text/html": [
       "<div>\n",
       "<style scoped>\n",
       "    .dataframe tbody tr th:only-of-type {\n",
       "        vertical-align: middle;\n",
       "    }\n",
       "\n",
       "    .dataframe tbody tr th {\n",
       "        vertical-align: top;\n",
       "    }\n",
       "\n",
       "    .dataframe thead th {\n",
       "        text-align: right;\n",
       "    }\n",
       "\n",
       "    .dataframe td {\n",
       "        white-space: pre;\n",
       "    }\n",
       "\n",
       "    .dataframe td {\n",
       "        padding-top: 0;\n",
       "    }\n",
       "\n",
       "    .dataframe td {\n",
       "        padding-bottom: 0;\n",
       "    }\n",
       "\n",
       "    .dataframe td {\n",
       "        line-height: 95%;\n",
       "    }\n",
       "</style>\n",
       "<table border=\"1\" class=\"dataframe\">\n",
       "<small>shape: (3,)</small>\n",
       "<thead>\n",
       "<tr>\n",
       "<th>\n",
       "a\n",
       "</th>\n",
       "</tr>\n",
       "<tr>\n",
       "<td>\n",
       "f64\n",
       "</td>\n",
       "</tr>\n",
       "</thead>\n",
       "<tbody>\n",
       "<tr>\n",
       "<td>\n",
       "1.0\n",
       "</td>\n",
       "</tr>\n",
       "<tr>\n",
       "<td>\n",
       "NaN\n",
       "</td>\n",
       "</tr>\n",
       "<tr>\n",
       "<td>\n",
       "2.0\n",
       "</td>\n",
       "</tr>\n",
       "</tbody>\n",
       "</table>\n",
       "</div>"
      ],
      "text/plain": [
       "shape: (3,)\n",
       "Series: 'a' [f64]\n",
       "[\n",
       "\t1.0\n",
       "\tNaN\n",
       "\t2.0\n",
       "]"
      ]
     },
     "execution_count": 128,
     "metadata": {},
     "output_type": "execute_result"
    }
   ],
   "source": [
    "m2.fill_null(0)"
   ]
  },
  {
   "cell_type": "code",
   "execution_count": 133,
   "id": "2fdb03de",
   "metadata": {},
   "outputs": [
    {
     "data": {
      "text/html": [
       "<div>\n",
       "<style scoped>\n",
       "    .dataframe tbody tr th:only-of-type {\n",
       "        vertical-align: middle;\n",
       "    }\n",
       "\n",
       "    .dataframe tbody tr th {\n",
       "        vertical-align: top;\n",
       "    }\n",
       "\n",
       "    .dataframe thead th {\n",
       "        text-align: right;\n",
       "    }\n",
       "\n",
       "    .dataframe td {\n",
       "        white-space: pre;\n",
       "    }\n",
       "\n",
       "    .dataframe td {\n",
       "        padding-top: 0;\n",
       "    }\n",
       "\n",
       "    .dataframe td {\n",
       "        padding-bottom: 0;\n",
       "    }\n",
       "\n",
       "    .dataframe td {\n",
       "        line-height: 95%;\n",
       "    }\n",
       "</style>\n",
       "<table border=\"1\" class=\"dataframe\">\n",
       "<small>shape: (3,)</small>\n",
       "<thead>\n",
       "<tr>\n",
       "<th>\n",
       "a\n",
       "</th>\n",
       "</tr>\n",
       "<tr>\n",
       "<td>\n",
       "f64\n",
       "</td>\n",
       "</tr>\n",
       "</thead>\n",
       "<tbody>\n",
       "<tr>\n",
       "<td>\n",
       "1.0\n",
       "</td>\n",
       "</tr>\n",
       "<tr>\n",
       "<td>\n",
       "0.0\n",
       "</td>\n",
       "</tr>\n",
       "<tr>\n",
       "<td>\n",
       "2.0\n",
       "</td>\n",
       "</tr>\n",
       "</tbody>\n",
       "</table>\n",
       "</div>"
      ],
      "text/plain": [
       "shape: (3,)\n",
       "Series: 'a' [f64]\n",
       "[\n",
       "\t1.0\n",
       "\t0.0\n",
       "\t2.0\n",
       "]"
      ]
     },
     "execution_count": 129,
     "metadata": {},
     "output_type": "execute_result"
    }
   ],
   "source": [
    "m2.fill_nan(0)"
   ]
  },
  {
   "cell_type": "code",
   "execution_count": 134,
   "id": "634480b3",
   "metadata": {},
   "outputs": [
    {
     "data": {
      "text/html": [
       "<div>\n",
       "<style scoped>\n",
       "    .dataframe tbody tr th:only-of-type {\n",
       "        vertical-align: middle;\n",
       "    }\n",
       "\n",
       "    .dataframe tbody tr th {\n",
       "        vertical-align: top;\n",
       "    }\n",
       "\n",
       "    .dataframe thead th {\n",
       "        text-align: right;\n",
       "    }\n",
       "\n",
       "    .dataframe td {\n",
       "        white-space: pre;\n",
       "    }\n",
       "\n",
       "    .dataframe td {\n",
       "        padding-top: 0;\n",
       "    }\n",
       "\n",
       "    .dataframe td {\n",
       "        padding-bottom: 0;\n",
       "    }\n",
       "\n",
       "    .dataframe td {\n",
       "        line-height: 95%;\n",
       "    }\n",
       "</style>\n",
       "<table border=\"1\" class=\"dataframe\">\n",
       "<small>shape: (2,)</small>\n",
       "<thead>\n",
       "<tr>\n",
       "<th>\n",
       "a\n",
       "</th>\n",
       "</tr>\n",
       "<tr>\n",
       "<td>\n",
       "i64\n",
       "</td>\n",
       "</tr>\n",
       "</thead>\n",
       "<tbody>\n",
       "<tr>\n",
       "<td>\n",
       "1\n",
       "</td>\n",
       "</tr>\n",
       "<tr>\n",
       "<td>\n",
       "2\n",
       "</td>\n",
       "</tr>\n",
       "</tbody>\n",
       "</table>\n",
       "</div>"
      ],
      "text/plain": [
       "shape: (2,)\n",
       "Series: 'a' [i64]\n",
       "[\n",
       "\t1\n",
       "\t2\n",
       "]"
      ]
     },
     "execution_count": 130,
     "metadata": {},
     "output_type": "execute_result"
    }
   ],
   "source": [
    "m1.drop_nulls()"
   ]
  },
  {
   "cell_type": "code",
   "execution_count": 135,
   "id": "df8d0f84",
   "metadata": {},
   "outputs": [
    {
     "data": {
      "text/html": [
       "<div>\n",
       "<style scoped>\n",
       "    .dataframe tbody tr th:only-of-type {\n",
       "        vertical-align: middle;\n",
       "    }\n",
       "\n",
       "    .dataframe tbody tr th {\n",
       "        vertical-align: top;\n",
       "    }\n",
       "\n",
       "    .dataframe thead th {\n",
       "        text-align: right;\n",
       "    }\n",
       "\n",
       "    .dataframe td {\n",
       "        white-space: pre;\n",
       "    }\n",
       "\n",
       "    .dataframe td {\n",
       "        padding-top: 0;\n",
       "    }\n",
       "\n",
       "    .dataframe td {\n",
       "        padding-bottom: 0;\n",
       "    }\n",
       "\n",
       "    .dataframe td {\n",
       "        line-height: 95%;\n",
       "    }\n",
       "</style>\n",
       "<table border=\"1\" class=\"dataframe\">\n",
       "<small>shape: (3,)</small>\n",
       "<thead>\n",
       "<tr>\n",
       "<th>\n",
       "a\n",
       "</th>\n",
       "</tr>\n",
       "<tr>\n",
       "<td>\n",
       "i64\n",
       "</td>\n",
       "</tr>\n",
       "</thead>\n",
       "<tbody>\n",
       "<tr>\n",
       "<td>\n",
       "1\n",
       "</td>\n",
       "</tr>\n",
       "<tr>\n",
       "<td>\n",
       "null\n",
       "</td>\n",
       "</tr>\n",
       "<tr>\n",
       "<td>\n",
       "2\n",
       "</td>\n",
       "</tr>\n",
       "</tbody>\n",
       "</table>\n",
       "</div>"
      ],
      "text/plain": [
       "shape: (3,)\n",
       "Series: 'a' [i64]\n",
       "[\n",
       "\t1\n",
       "\tnull\n",
       "\t2\n",
       "]"
      ]
     },
     "execution_count": 131,
     "metadata": {},
     "output_type": "execute_result"
    }
   ],
   "source": [
    "m1.drop_nans()"
   ]
  },
  {
   "cell_type": "code",
   "execution_count": 136,
   "id": "89096ccb",
   "metadata": {},
   "outputs": [
    {
     "data": {
      "text/html": [
       "<div>\n",
       "<style scoped>\n",
       "    .dataframe tbody tr th:only-of-type {\n",
       "        vertical-align: middle;\n",
       "    }\n",
       "\n",
       "    .dataframe tbody tr th {\n",
       "        vertical-align: top;\n",
       "    }\n",
       "\n",
       "    .dataframe thead th {\n",
       "        text-align: right;\n",
       "    }\n",
       "\n",
       "    .dataframe td {\n",
       "        white-space: pre;\n",
       "    }\n",
       "\n",
       "    .dataframe td {\n",
       "        padding-top: 0;\n",
       "    }\n",
       "\n",
       "    .dataframe td {\n",
       "        padding-bottom: 0;\n",
       "    }\n",
       "\n",
       "    .dataframe td {\n",
       "        line-height: 95%;\n",
       "    }\n",
       "</style>\n",
       "<table border=\"1\" class=\"dataframe\">\n",
       "<small>shape: (3,)</small>\n",
       "<thead>\n",
       "<tr>\n",
       "<th>\n",
       "a\n",
       "</th>\n",
       "</tr>\n",
       "<tr>\n",
       "<td>\n",
       "f64\n",
       "</td>\n",
       "</tr>\n",
       "</thead>\n",
       "<tbody>\n",
       "<tr>\n",
       "<td>\n",
       "1.0\n",
       "</td>\n",
       "</tr>\n",
       "<tr>\n",
       "<td>\n",
       "NaN\n",
       "</td>\n",
       "</tr>\n",
       "<tr>\n",
       "<td>\n",
       "2.0\n",
       "</td>\n",
       "</tr>\n",
       "</tbody>\n",
       "</table>\n",
       "</div>"
      ],
      "text/plain": [
       "shape: (3,)\n",
       "Series: 'a' [f64]\n",
       "[\n",
       "\t1.0\n",
       "\tNaN\n",
       "\t2.0\n",
       "]"
      ]
     },
     "execution_count": 132,
     "metadata": {},
     "output_type": "execute_result"
    }
   ],
   "source": [
    "m2.drop_nulls()"
   ]
  },
  {
   "cell_type": "markdown",
   "id": "d2aff708",
   "metadata": {},
   "source": [
    "## Export\n"
   ]
  },
  {
   "cell_type": "code",
   "execution_count": 137,
   "id": "d4633434",
   "metadata": {},
   "outputs": [
    {
     "data": {
      "text/html": [
       "<div>\n",
       "<style scoped>\n",
       "    .dataframe tbody tr th:only-of-type {\n",
       "        vertical-align: middle;\n",
       "    }\n",
       "\n",
       "    .dataframe tbody tr th {\n",
       "        vertical-align: top;\n",
       "    }\n",
       "\n",
       "    .dataframe thead th {\n",
       "        text-align: right;\n",
       "    }\n",
       "\n",
       "    .dataframe td {\n",
       "        white-space: pre;\n",
       "    }\n",
       "\n",
       "    .dataframe td {\n",
       "        padding-top: 0;\n",
       "    }\n",
       "\n",
       "    .dataframe td {\n",
       "        padding-bottom: 0;\n",
       "    }\n",
       "\n",
       "    .dataframe td {\n",
       "        line-height: 95%;\n",
       "    }\n",
       "</style>\n",
       "<table border=\"1\" class=\"dataframe\">\n",
       "<small>shape: (3, 1)</small>\n",
       "<thead>\n",
       "<tr>\n",
       "<th>\n",
       "a\n",
       "</th>\n",
       "</tr>\n",
       "<tr>\n",
       "<td>\n",
       "i64\n",
       "</td>\n",
       "</tr>\n",
       "</thead>\n",
       "<tbody>\n",
       "<tr>\n",
       "<td>\n",
       "1\n",
       "</td>\n",
       "</tr>\n",
       "<tr>\n",
       "<td>\n",
       "2\n",
       "</td>\n",
       "</tr>\n",
       "<tr>\n",
       "<td>\n",
       "3\n",
       "</td>\n",
       "</tr>\n",
       "</tbody>\n",
       "</table>\n",
       "</div>"
      ],
      "text/plain": [
       "shape: (3, 1)\n",
       "┌─────┐\n",
       "│ a   │\n",
       "│ --- │\n",
       "│ i64 │\n",
       "╞═════╡\n",
       "│ 1   │\n",
       "│ 2   │\n",
       "│ 3   │\n",
       "└─────┘"
      ]
     },
     "execution_count": 133,
     "metadata": {},
     "output_type": "execute_result"
    }
   ],
   "source": [
    "s.to_frame()"
   ]
  },
  {
   "cell_type": "code",
   "execution_count": 138,
   "id": "73dd7b72",
   "metadata": {},
   "outputs": [
    {
     "data": {
      "text/plain": [
       "[1, 2, 3]"
      ]
     },
     "execution_count": 134,
     "metadata": {},
     "output_type": "execute_result"
    }
   ],
   "source": [
    "s.to_list()"
   ]
  },
  {
   "cell_type": "code",
   "execution_count": 139,
   "id": "f010a814",
   "metadata": {},
   "outputs": [
    {
     "data": {
      "text/plain": [
       "array([1, 2, 3])"
      ]
     },
     "execution_count": 135,
     "metadata": {},
     "output_type": "execute_result"
    }
   ],
   "source": [
    "s.to_numpy()"
   ]
  },
  {
   "cell_type": "code",
   "execution_count": 140,
   "id": "d1293c7d",
   "metadata": {},
   "outputs": [
    {
     "data": {
      "text/plain": [
       "0    1\n",
       "1    2\n",
       "2    3\n",
       "Name: a, dtype: int64"
      ]
     },
     "execution_count": 136,
     "metadata": {},
     "output_type": "execute_result"
    }
   ],
   "source": [
    "s.to_pandas()"
   ]
  },
  {
   "cell_type": "code",
   "execution_count": 141,
   "id": "2dd88ca9",
   "metadata": {},
   "outputs": [
    {
     "data": {
      "text/plain": [
       "<pyarrow.lib.Int64Array object at 0x7f4f8b201ea0>\n",
       "[\n",
       "  1,\n",
       "  2,\n",
       "  3\n",
       "]"
      ]
     },
     "execution_count": 137,
     "metadata": {},
     "output_type": "execute_result"
    }
   ],
   "source": [
    "s.to_arrow()"
   ]
  },
  {
   "cell_type": "markdown",
   "id": "fbab2e92",
   "metadata": {},
   "source": [
    "## Strings \n",
    "Like Pandas, accessed with the `.str` attribute.\n"
   ]
  },
  {
   "cell_type": "code",
   "execution_count": 142,
   "id": "8dc01762",
   "metadata": {},
   "outputs": [],
   "source": [
    "st = pl.Series(\"a\", [\"foo\", \"bar\", \"baz\"])"
   ]
  },
  {
   "cell_type": "code",
   "execution_count": 143,
   "id": "4be84f04",
   "metadata": {},
   "outputs": [
    {
     "data": {
      "text/html": [
       "<div>\n",
       "<style scoped>\n",
       "    .dataframe tbody tr th:only-of-type {\n",
       "        vertical-align: middle;\n",
       "    }\n",
       "\n",
       "    .dataframe tbody tr th {\n",
       "        vertical-align: top;\n",
       "    }\n",
       "\n",
       "    .dataframe thead th {\n",
       "        text-align: right;\n",
       "    }\n",
       "\n",
       "    .dataframe td {\n",
       "        white-space: pre;\n",
       "    }\n",
       "\n",
       "    .dataframe td {\n",
       "        padding-top: 0;\n",
       "    }\n",
       "\n",
       "    .dataframe td {\n",
       "        padding-bottom: 0;\n",
       "    }\n",
       "\n",
       "    .dataframe td {\n",
       "        line-height: 95%;\n",
       "    }\n",
       "</style>\n",
       "<table border=\"1\" class=\"dataframe\">\n",
       "<small>shape: (3,)</small>\n",
       "<thead>\n",
       "<tr>\n",
       "<th>\n",
       "a\n",
       "</th>\n",
       "</tr>\n",
       "<tr>\n",
       "<td>\n",
       "u32\n",
       "</td>\n",
       "</tr>\n",
       "</thead>\n",
       "<tbody>\n",
       "<tr>\n",
       "<td>\n",
       "3\n",
       "</td>\n",
       "</tr>\n",
       "<tr>\n",
       "<td>\n",
       "3\n",
       "</td>\n",
       "</tr>\n",
       "<tr>\n",
       "<td>\n",
       "3\n",
       "</td>\n",
       "</tr>\n",
       "</tbody>\n",
       "</table>\n",
       "</div>"
      ],
      "text/plain": [
       "shape: (3,)\n",
       "Series: 'a' [u32]\n",
       "[\n",
       "\t3\n",
       "\t3\n",
       "\t3\n",
       "]"
      ]
     },
     "execution_count": 139,
     "metadata": {},
     "output_type": "execute_result"
    }
   ],
   "source": [
    "st.str.n_chars() # gets number of chars. In ASCII this is the same as lengths()"
   ]
  },
  {
   "cell_type": "code",
   "execution_count": 144,
   "id": "41318201",
   "metadata": {},
   "outputs": [
    {
     "data": {
      "text/html": [
       "<div>\n",
       "<style scoped>\n",
       "    .dataframe tbody tr th:only-of-type {\n",
       "        vertical-align: middle;\n",
       "    }\n",
       "\n",
       "    .dataframe tbody tr th {\n",
       "        vertical-align: top;\n",
       "    }\n",
       "\n",
       "    .dataframe thead th {\n",
       "        text-align: right;\n",
       "    }\n",
       "\n",
       "    .dataframe td {\n",
       "        white-space: pre;\n",
       "    }\n",
       "\n",
       "    .dataframe td {\n",
       "        padding-top: 0;\n",
       "    }\n",
       "\n",
       "    .dataframe td {\n",
       "        padding-bottom: 0;\n",
       "    }\n",
       "\n",
       "    .dataframe td {\n",
       "        line-height: 95%;\n",
       "    }\n",
       "</style>\n",
       "<table border=\"1\" class=\"dataframe\">\n",
       "<small>shape: (3,)</small>\n",
       "<thead>\n",
       "<tr>\n",
       "<th>\n",
       "a\n",
       "</th>\n",
       "</tr>\n",
       "<tr>\n",
       "<td>\n",
       "u32\n",
       "</td>\n",
       "</tr>\n",
       "</thead>\n",
       "<tbody>\n",
       "<tr>\n",
       "<td>\n",
       "3\n",
       "</td>\n",
       "</tr>\n",
       "<tr>\n",
       "<td>\n",
       "3\n",
       "</td>\n",
       "</tr>\n",
       "<tr>\n",
       "<td>\n",
       "3\n",
       "</td>\n",
       "</tr>\n",
       "</tbody>\n",
       "</table>\n",
       "</div>"
      ],
      "text/plain": [
       "shape: (3,)\n",
       "Series: 'a' [u32]\n",
       "[\n",
       "\t3\n",
       "\t3\n",
       "\t3\n",
       "]"
      ]
     },
     "execution_count": 140,
     "metadata": {},
     "output_type": "execute_result"
    }
   ],
   "source": [
    "st.str.lengths() # gets number of bytes in memory"
   ]
  },
  {
   "cell_type": "code",
   "execution_count": 145,
   "id": "ee590704",
   "metadata": {},
   "outputs": [
    {
     "data": {
      "text/html": [
       "<div>\n",
       "<style scoped>\n",
       "    .dataframe tbody tr th:only-of-type {\n",
       "        vertical-align: middle;\n",
       "    }\n",
       "\n",
       "    .dataframe tbody tr th {\n",
       "        vertical-align: top;\n",
       "    }\n",
       "\n",
       "    .dataframe thead th {\n",
       "        text-align: right;\n",
       "    }\n",
       "\n",
       "    .dataframe td {\n",
       "        white-space: pre;\n",
       "    }\n",
       "\n",
       "    .dataframe td {\n",
       "        padding-top: 0;\n",
       "    }\n",
       "\n",
       "    .dataframe td {\n",
       "        padding-bottom: 0;\n",
       "    }\n",
       "\n",
       "    .dataframe td {\n",
       "        line-height: 95%;\n",
       "    }\n",
       "</style>\n",
       "<table border=\"1\" class=\"dataframe\">\n",
       "<small>shape: (1,)</small>\n",
       "<thead>\n",
       "<tr>\n",
       "<th>\n",
       "a\n",
       "</th>\n",
       "</tr>\n",
       "<tr>\n",
       "<td>\n",
       "str\n",
       "</td>\n",
       "</tr>\n",
       "</thead>\n",
       "<tbody>\n",
       "<tr>\n",
       "<td>\n",
       "&quot;foo-bar-baz&quot;\n",
       "</td>\n",
       "</tr>\n",
       "</tbody>\n",
       "</table>\n",
       "</div>"
      ],
      "text/plain": [
       "shape: (1,)\n",
       "Series: 'a' [str]\n",
       "[\n",
       "\t\"foo-bar-baz\"\n",
       "]"
      ]
     },
     "execution_count": 141,
     "metadata": {},
     "output_type": "execute_result"
    }
   ],
   "source": [
    "st.str.concat(\"-\")"
   ]
  },
  {
   "cell_type": "code",
   "execution_count": 146,
   "id": "678654e4",
   "metadata": {},
   "outputs": [
    {
     "data": {
      "text/html": [
       "<div>\n",
       "<style scoped>\n",
       "    .dataframe tbody tr th:only-of-type {\n",
       "        vertical-align: middle;\n",
       "    }\n",
       "\n",
       "    .dataframe tbody tr th {\n",
       "        vertical-align: top;\n",
       "    }\n",
       "\n",
       "    .dataframe thead th {\n",
       "        text-align: right;\n",
       "    }\n",
       "\n",
       "    .dataframe td {\n",
       "        white-space: pre;\n",
       "    }\n",
       "\n",
       "    .dataframe td {\n",
       "        padding-top: 0;\n",
       "    }\n",
       "\n",
       "    .dataframe td {\n",
       "        padding-bottom: 0;\n",
       "    }\n",
       "\n",
       "    .dataframe td {\n",
       "        line-height: 95%;\n",
       "    }\n",
       "</style>\n",
       "<table border=\"1\" class=\"dataframe\">\n",
       "<small>shape: (3,)</small>\n",
       "<thead>\n",
       "<tr>\n",
       "<th>\n",
       "a\n",
       "</th>\n",
       "</tr>\n",
       "<tr>\n",
       "<td>\n",
       "bool\n",
       "</td>\n",
       "</tr>\n",
       "</thead>\n",
       "<tbody>\n",
       "<tr>\n",
       "<td>\n",
       "true\n",
       "</td>\n",
       "</tr>\n",
       "<tr>\n",
       "<td>\n",
       "true\n",
       "</td>\n",
       "</tr>\n",
       "<tr>\n",
       "<td>\n",
       "false\n",
       "</td>\n",
       "</tr>\n",
       "</tbody>\n",
       "</table>\n",
       "</div>"
      ],
      "text/plain": [
       "shape: (3,)\n",
       "Series: 'a' [bool]\n",
       "[\n",
       "\ttrue\n",
       "\ttrue\n",
       "\tfalse\n",
       "]"
      ]
     },
     "execution_count": 142,
     "metadata": {},
     "output_type": "execute_result"
    }
   ],
   "source": [
    "st.str.contains(\"foo|tra|bar\")"
   ]
  },
  {
   "cell_type": "code",
   "execution_count": 147,
   "id": "5fbec05a",
   "metadata": {},
   "outputs": [
    {
     "data": {
      "text/html": [
       "<div>\n",
       "<style scoped>\n",
       "    .dataframe tbody tr th:only-of-type {\n",
       "        vertical-align: middle;\n",
       "    }\n",
       "\n",
       "    .dataframe tbody tr th {\n",
       "        vertical-align: top;\n",
       "    }\n",
       "\n",
       "    .dataframe thead th {\n",
       "        text-align: right;\n",
       "    }\n",
       "\n",
       "    .dataframe td {\n",
       "        white-space: pre;\n",
       "    }\n",
       "\n",
       "    .dataframe td {\n",
       "        padding-top: 0;\n",
       "    }\n",
       "\n",
       "    .dataframe td {\n",
       "        padding-bottom: 0;\n",
       "    }\n",
       "\n",
       "    .dataframe td {\n",
       "        line-height: 95%;\n",
       "    }\n",
       "</style>\n",
       "<table border=\"1\" class=\"dataframe\">\n",
       "<small>shape: (3,)</small>\n",
       "<thead>\n",
       "<tr>\n",
       "<th>\n",
       "a\n",
       "</th>\n",
       "</tr>\n",
       "<tr>\n",
       "<td>\n",
       "u32\n",
       "</td>\n",
       "</tr>\n",
       "</thead>\n",
       "<tbody>\n",
       "<tr>\n",
       "<td>\n",
       "2\n",
       "</td>\n",
       "</tr>\n",
       "<tr>\n",
       "<td>\n",
       "0\n",
       "</td>\n",
       "</tr>\n",
       "<tr>\n",
       "<td>\n",
       "0\n",
       "</td>\n",
       "</tr>\n",
       "</tbody>\n",
       "</table>\n",
       "</div>"
      ],
      "text/plain": [
       "shape: (3,)\n",
       "Series: 'a' [u32]\n",
       "[\n",
       "\t2\n",
       "\t0\n",
       "\t0\n",
       "]"
      ]
     },
     "execution_count": 143,
     "metadata": {},
     "output_type": "execute_result"
    }
   ],
   "source": [
    "st.str.count_match(pattern= 'o') # count literal metches"
   ]
  },
  {
   "cell_type": "markdown",
   "id": "4c157d1b",
   "metadata": {},
   "source": [
    "Count pattern matches. \n",
    "Notice the `r\"<regex pattern>\"` syntax for regex (more about it [here](https://stackoverflow.com/questions/2241600/python-regex-r-prefix)). "
   ]
  },
  {
   "cell_type": "code",
   "execution_count": 148,
   "id": "e05fc34f",
   "metadata": {},
   "outputs": [
    {
     "data": {
      "text/html": [
       "<div>\n",
       "<style scoped>\n",
       "    .dataframe tbody tr th:only-of-type {\n",
       "        vertical-align: middle;\n",
       "    }\n",
       "\n",
       "    .dataframe tbody tr th {\n",
       "        vertical-align: top;\n",
       "    }\n",
       "\n",
       "    .dataframe thead th {\n",
       "        text-align: right;\n",
       "    }\n",
       "\n",
       "    .dataframe td {\n",
       "        white-space: pre;\n",
       "    }\n",
       "\n",
       "    .dataframe td {\n",
       "        padding-top: 0;\n",
       "    }\n",
       "\n",
       "    .dataframe td {\n",
       "        padding-bottom: 0;\n",
       "    }\n",
       "\n",
       "    .dataframe td {\n",
       "        line-height: 95%;\n",
       "    }\n",
       "</style>\n",
       "<table border=\"1\" class=\"dataframe\">\n",
       "<small>shape: (3,)</small>\n",
       "<thead>\n",
       "<tr>\n",
       "<th>\n",
       "a\n",
       "</th>\n",
       "</tr>\n",
       "<tr>\n",
       "<td>\n",
       "u32\n",
       "</td>\n",
       "</tr>\n",
       "</thead>\n",
       "<tbody>\n",
       "<tr>\n",
       "<td>\n",
       "3\n",
       "</td>\n",
       "</tr>\n",
       "<tr>\n",
       "<td>\n",
       "3\n",
       "</td>\n",
       "</tr>\n",
       "<tr>\n",
       "<td>\n",
       "3\n",
       "</td>\n",
       "</tr>\n",
       "</tbody>\n",
       "</table>\n",
       "</div>"
      ],
      "text/plain": [
       "shape: (3,)\n",
       "Series: 'a' [u32]\n",
       "[\n",
       "\t3\n",
       "\t3\n",
       "\t3\n",
       "]"
      ]
     },
     "execution_count": 144,
     "metadata": {},
     "output_type": "execute_result"
    }
   ],
   "source": [
    "st.str.count_match(r\"\\w\") # regex for alphanumeric"
   ]
  },
  {
   "cell_type": "code",
   "execution_count": 149,
   "id": "3d446d4d",
   "metadata": {},
   "outputs": [
    {
     "data": {
      "text/html": [
       "<div>\n",
       "<style scoped>\n",
       "    .dataframe tbody tr th:only-of-type {\n",
       "        vertical-align: middle;\n",
       "    }\n",
       "\n",
       "    .dataframe tbody tr th {\n",
       "        vertical-align: top;\n",
       "    }\n",
       "\n",
       "    .dataframe thead th {\n",
       "        text-align: right;\n",
       "    }\n",
       "\n",
       "    .dataframe td {\n",
       "        white-space: pre;\n",
       "    }\n",
       "\n",
       "    .dataframe td {\n",
       "        padding-top: 0;\n",
       "    }\n",
       "\n",
       "    .dataframe td {\n",
       "        padding-bottom: 0;\n",
       "    }\n",
       "\n",
       "    .dataframe td {\n",
       "        line-height: 95%;\n",
       "    }\n",
       "</style>\n",
       "<table border=\"1\" class=\"dataframe\">\n",
       "<small>shape: (3,)</small>\n",
       "<thead>\n",
       "<tr>\n",
       "<th>\n",
       "a\n",
       "</th>\n",
       "</tr>\n",
       "<tr>\n",
       "<td>\n",
       "bool\n",
       "</td>\n",
       "</tr>\n",
       "</thead>\n",
       "<tbody>\n",
       "<tr>\n",
       "<td>\n",
       "true\n",
       "</td>\n",
       "</tr>\n",
       "<tr>\n",
       "<td>\n",
       "false\n",
       "</td>\n",
       "</tr>\n",
       "<tr>\n",
       "<td>\n",
       "false\n",
       "</td>\n",
       "</tr>\n",
       "</tbody>\n",
       "</table>\n",
       "</div>"
      ],
      "text/plain": [
       "shape: (3,)\n",
       "Series: 'a' [bool]\n",
       "[\n",
       "\ttrue\n",
       "\tfalse\n",
       "\tfalse\n",
       "]"
      ]
     },
     "execution_count": 145,
     "metadata": {},
     "output_type": "execute_result"
    }
   ],
   "source": [
    "st.str.ends_with(\"oo\")"
   ]
  },
  {
   "cell_type": "code",
   "execution_count": 150,
   "id": "ed55a9cd",
   "metadata": {},
   "outputs": [
    {
     "data": {
      "text/html": [
       "<div>\n",
       "<style scoped>\n",
       "    .dataframe tbody tr th:only-of-type {\n",
       "        vertical-align: middle;\n",
       "    }\n",
       "\n",
       "    .dataframe tbody tr th {\n",
       "        vertical-align: top;\n",
       "    }\n",
       "\n",
       "    .dataframe thead th {\n",
       "        text-align: right;\n",
       "    }\n",
       "\n",
       "    .dataframe td {\n",
       "        white-space: pre;\n",
       "    }\n",
       "\n",
       "    .dataframe td {\n",
       "        padding-top: 0;\n",
       "    }\n",
       "\n",
       "    .dataframe td {\n",
       "        padding-bottom: 0;\n",
       "    }\n",
       "\n",
       "    .dataframe td {\n",
       "        line-height: 95%;\n",
       "    }\n",
       "</style>\n",
       "<table border=\"1\" class=\"dataframe\">\n",
       "<small>shape: (3,)</small>\n",
       "<thead>\n",
       "<tr>\n",
       "<th>\n",
       "a\n",
       "</th>\n",
       "</tr>\n",
       "<tr>\n",
       "<td>\n",
       "bool\n",
       "</td>\n",
       "</tr>\n",
       "</thead>\n",
       "<tbody>\n",
       "<tr>\n",
       "<td>\n",
       "true\n",
       "</td>\n",
       "</tr>\n",
       "<tr>\n",
       "<td>\n",
       "false\n",
       "</td>\n",
       "</tr>\n",
       "<tr>\n",
       "<td>\n",
       "false\n",
       "</td>\n",
       "</tr>\n",
       "</tbody>\n",
       "</table>\n",
       "</div>"
      ],
      "text/plain": [
       "shape: (3,)\n",
       "Series: 'a' [bool]\n",
       "[\n",
       "\ttrue\n",
       "\tfalse\n",
       "\tfalse\n",
       "]"
      ]
     },
     "execution_count": 146,
     "metadata": {},
     "output_type": "execute_result"
    }
   ],
   "source": [
    "st.str.starts_with(\"fo\")"
   ]
  },
  {
   "cell_type": "markdown",
   "id": "7855c6e7",
   "metadata": {},
   "source": [
    "To extract the first appearance of a pattern, use `extract`:"
   ]
  },
  {
   "cell_type": "code",
   "execution_count": 151,
   "id": "914fd253",
   "metadata": {},
   "outputs": [
    {
     "data": {
      "text/html": [
       "<div>\n",
       "<style scoped>\n",
       "    .dataframe tbody tr th:only-of-type {\n",
       "        vertical-align: middle;\n",
       "    }\n",
       "\n",
       "    .dataframe tbody tr th {\n",
       "        vertical-align: top;\n",
       "    }\n",
       "\n",
       "    .dataframe thead th {\n",
       "        text-align: right;\n",
       "    }\n",
       "\n",
       "    .dataframe td {\n",
       "        white-space: pre;\n",
       "    }\n",
       "\n",
       "    .dataframe td {\n",
       "        padding-top: 0;\n",
       "    }\n",
       "\n",
       "    .dataframe td {\n",
       "        padding-bottom: 0;\n",
       "    }\n",
       "\n",
       "    .dataframe td {\n",
       "        line-height: 95%;\n",
       "    }\n",
       "</style>\n",
       "<table border=\"1\" class=\"dataframe\">\n",
       "<small>shape: (3,)</small>\n",
       "<thead>\n",
       "<tr>\n",
       "<th>\n",
       "a\n",
       "</th>\n",
       "</tr>\n",
       "<tr>\n",
       "<td>\n",
       "str\n",
       "</td>\n",
       "</tr>\n",
       "</thead>\n",
       "<tbody>\n",
       "<tr>\n",
       "<td>\n",
       "&quot;messi&quot;\n",
       "</td>\n",
       "</tr>\n",
       "<tr>\n",
       "<td>\n",
       "&quot;jorginho&quot;\n",
       "</td>\n",
       "</tr>\n",
       "<tr>\n",
       "<td>\n",
       "&quot;ronaldo&quot;\n",
       "</td>\n",
       "</tr>\n",
       "</tbody>\n",
       "</table>\n",
       "</div>"
      ],
      "text/plain": [
       "shape: (3,)\n",
       "Series: 'a' [str]\n",
       "[\n",
       "\t\"messi\"\n",
       "\t\"jorginho\"\n",
       "\t\"ronaldo\"\n",
       "]"
      ]
     },
     "execution_count": 147,
     "metadata": {},
     "output_type": "execute_result"
    }
   ],
   "source": [
    "url = pl.Series(\"a\", [\n",
    "            \"http://vote.com/ballon_dor?candidate=messi&ref=polars\",\n",
    "\n",
    "            \"http://vote.com/ballon_dor?candidate=jorginho&ref=polars\",\n",
    "\n",
    "            \"http://vote.com/ballon_dor?candidate=ronaldo&ref=polars\"\n",
    "            ])\n",
    "\n",
    "url.str.extract(r\"=(\\w+)\", 1)"
   ]
  },
  {
   "cell_type": "markdown",
   "id": "c8634f69",
   "metadata": {},
   "source": [
    "To extract all appearances of a pattern, use `extract_all`:"
   ]
  },
  {
   "cell_type": "code",
   "execution_count": 152,
   "id": "d01e94f8",
   "metadata": {},
   "outputs": [
    {
     "data": {
      "text/html": [
       "<div>\n",
       "<style scoped>\n",
       "    .dataframe tbody tr th:only-of-type {\n",
       "        vertical-align: middle;\n",
       "    }\n",
       "\n",
       "    .dataframe tbody tr th {\n",
       "        vertical-align: top;\n",
       "    }\n",
       "\n",
       "    .dataframe thead th {\n",
       "        text-align: right;\n",
       "    }\n",
       "\n",
       "    .dataframe td {\n",
       "        white-space: pre;\n",
       "    }\n",
       "\n",
       "    .dataframe td {\n",
       "        padding-top: 0;\n",
       "    }\n",
       "\n",
       "    .dataframe td {\n",
       "        padding-bottom: 0;\n",
       "    }\n",
       "\n",
       "    .dataframe td {\n",
       "        line-height: 95%;\n",
       "    }\n",
       "</style>\n",
       "<table border=\"1\" class=\"dataframe\">\n",
       "<small>shape: (3,)</small>\n",
       "<thead>\n",
       "<tr>\n",
       "<th>\n",
       "a\n",
       "</th>\n",
       "</tr>\n",
       "<tr>\n",
       "<td>\n",
       "list[str]\n",
       "</td>\n",
       "</tr>\n",
       "</thead>\n",
       "<tbody>\n",
       "<tr>\n",
       "<td>\n",
       "[&quot;=messi&quot;, &quot;=polars&quot;]\n",
       "</td>\n",
       "</tr>\n",
       "<tr>\n",
       "<td>\n",
       "[&quot;=jorginho&quot;, &quot;=polars&quot;]\n",
       "</td>\n",
       "</tr>\n",
       "<tr>\n",
       "<td>\n",
       "[&quot;=ronaldo&quot;, &quot;=polars&quot;]\n",
       "</td>\n",
       "</tr>\n",
       "</tbody>\n",
       "</table>\n",
       "</div>"
      ],
      "text/plain": [
       "shape: (3,)\n",
       "Series: 'a' [list[str]]\n",
       "[\n",
       "\t[\"=messi\", \"=polars\"]\n",
       "\t[\"=jorginho\", \"=polars\"]\n",
       "\t[\"=ronaldo\", \"=polars\"]\n",
       "]"
      ]
     },
     "execution_count": 148,
     "metadata": {},
     "output_type": "execute_result"
    }
   ],
   "source": [
    "url.str.extract_all(\"=(\\w+)\")"
   ]
  },
  {
   "cell_type": "code",
   "execution_count": 153,
   "id": "d3ef3f00",
   "metadata": {},
   "outputs": [
    {
     "data": {
      "text/html": [
       "<div>\n",
       "<style scoped>\n",
       "    .dataframe tbody tr th:only-of-type {\n",
       "        vertical-align: middle;\n",
       "    }\n",
       "\n",
       "    .dataframe tbody tr th {\n",
       "        vertical-align: top;\n",
       "    }\n",
       "\n",
       "    .dataframe thead th {\n",
       "        text-align: right;\n",
       "    }\n",
       "\n",
       "    .dataframe td {\n",
       "        white-space: pre;\n",
       "    }\n",
       "\n",
       "    .dataframe td {\n",
       "        padding-top: 0;\n",
       "    }\n",
       "\n",
       "    .dataframe td {\n",
       "        padding-bottom: 0;\n",
       "    }\n",
       "\n",
       "    .dataframe td {\n",
       "        line-height: 95%;\n",
       "    }\n",
       "</style>\n",
       "<table border=\"1\" class=\"dataframe\">\n",
       "<small>shape: (3,)</small>\n",
       "<thead>\n",
       "<tr>\n",
       "<th>\n",
       "a\n",
       "</th>\n",
       "</tr>\n",
       "<tr>\n",
       "<td>\n",
       "str\n",
       "</td>\n",
       "</tr>\n",
       "</thead>\n",
       "<tbody>\n",
       "<tr>\n",
       "<td>\n",
       "&quot;foo*****&quot;\n",
       "</td>\n",
       "</tr>\n",
       "<tr>\n",
       "<td>\n",
       "&quot;bar*****&quot;\n",
       "</td>\n",
       "</tr>\n",
       "<tr>\n",
       "<td>\n",
       "&quot;baz*****&quot;\n",
       "</td>\n",
       "</tr>\n",
       "</tbody>\n",
       "</table>\n",
       "</div>"
      ],
      "text/plain": [
       "shape: (3,)\n",
       "Series: 'a' [str]\n",
       "[\n",
       "\t\"foo*****\"\n",
       "\t\"bar*****\"\n",
       "\t\"baz*****\"\n",
       "]"
      ]
     },
     "execution_count": 149,
     "metadata": {},
     "output_type": "execute_result"
    }
   ],
   "source": [
    "st.str.ljust(8, \"*\")"
   ]
  },
  {
   "cell_type": "code",
   "execution_count": 154,
   "id": "0400a80d",
   "metadata": {},
   "outputs": [
    {
     "data": {
      "text/html": [
       "<div>\n",
       "<style scoped>\n",
       "    .dataframe tbody tr th:only-of-type {\n",
       "        vertical-align: middle;\n",
       "    }\n",
       "\n",
       "    .dataframe tbody tr th {\n",
       "        vertical-align: top;\n",
       "    }\n",
       "\n",
       "    .dataframe thead th {\n",
       "        text-align: right;\n",
       "    }\n",
       "\n",
       "    .dataframe td {\n",
       "        white-space: pre;\n",
       "    }\n",
       "\n",
       "    .dataframe td {\n",
       "        padding-top: 0;\n",
       "    }\n",
       "\n",
       "    .dataframe td {\n",
       "        padding-bottom: 0;\n",
       "    }\n",
       "\n",
       "    .dataframe td {\n",
       "        line-height: 95%;\n",
       "    }\n",
       "</style>\n",
       "<table border=\"1\" class=\"dataframe\">\n",
       "<small>shape: (3,)</small>\n",
       "<thead>\n",
       "<tr>\n",
       "<th>\n",
       "a\n",
       "</th>\n",
       "</tr>\n",
       "<tr>\n",
       "<td>\n",
       "str\n",
       "</td>\n",
       "</tr>\n",
       "</thead>\n",
       "<tbody>\n",
       "<tr>\n",
       "<td>\n",
       "&quot;*****foo&quot;\n",
       "</td>\n",
       "</tr>\n",
       "<tr>\n",
       "<td>\n",
       "&quot;*****bar&quot;\n",
       "</td>\n",
       "</tr>\n",
       "<tr>\n",
       "<td>\n",
       "&quot;*****baz&quot;\n",
       "</td>\n",
       "</tr>\n",
       "</tbody>\n",
       "</table>\n",
       "</div>"
      ],
      "text/plain": [
       "shape: (3,)\n",
       "Series: 'a' [str]\n",
       "[\n",
       "\t\"*****foo\"\n",
       "\t\"*****bar\"\n",
       "\t\"*****baz\"\n",
       "]"
      ]
     },
     "execution_count": 150,
     "metadata": {},
     "output_type": "execute_result"
    }
   ],
   "source": [
    "st.str.rjust(8, \"*\")"
   ]
  },
  {
   "cell_type": "code",
   "execution_count": 155,
   "id": "eb0b7c55",
   "metadata": {},
   "outputs": [
    {
     "data": {
      "text/html": [
       "<div>\n",
       "<style scoped>\n",
       "    .dataframe tbody tr th:only-of-type {\n",
       "        vertical-align: middle;\n",
       "    }\n",
       "\n",
       "    .dataframe tbody tr th {\n",
       "        vertical-align: top;\n",
       "    }\n",
       "\n",
       "    .dataframe thead th {\n",
       "        text-align: right;\n",
       "    }\n",
       "\n",
       "    .dataframe td {\n",
       "        white-space: pre;\n",
       "    }\n",
       "\n",
       "    .dataframe td {\n",
       "        padding-top: 0;\n",
       "    }\n",
       "\n",
       "    .dataframe td {\n",
       "        padding-bottom: 0;\n",
       "    }\n",
       "\n",
       "    .dataframe td {\n",
       "        line-height: 95%;\n",
       "    }\n",
       "</style>\n",
       "<table border=\"1\" class=\"dataframe\">\n",
       "<small>shape: (3,)</small>\n",
       "<thead>\n",
       "<tr>\n",
       "<th>\n",
       "a\n",
       "</th>\n",
       "</tr>\n",
       "<tr>\n",
       "<td>\n",
       "str\n",
       "</td>\n",
       "</tr>\n",
       "</thead>\n",
       "<tbody>\n",
       "<tr>\n",
       "<td>\n",
       "&quot;oo&quot;\n",
       "</td>\n",
       "</tr>\n",
       "<tr>\n",
       "<td>\n",
       "&quot;bar&quot;\n",
       "</td>\n",
       "</tr>\n",
       "<tr>\n",
       "<td>\n",
       "&quot;baz&quot;\n",
       "</td>\n",
       "</tr>\n",
       "</tbody>\n",
       "</table>\n",
       "</div>"
      ],
      "text/plain": [
       "shape: (3,)\n",
       "Series: 'a' [str]\n",
       "[\n",
       "\t\"oo\"\n",
       "\t\"bar\"\n",
       "\t\"baz\"\n",
       "]"
      ]
     },
     "execution_count": 151,
     "metadata": {},
     "output_type": "execute_result"
    }
   ],
   "source": [
    "st.str.lstrip('f')"
   ]
  },
  {
   "cell_type": "code",
   "execution_count": 156,
   "id": "2afaf48b",
   "metadata": {},
   "outputs": [
    {
     "data": {
      "text/html": [
       "<div>\n",
       "<style scoped>\n",
       "    .dataframe tbody tr th:only-of-type {\n",
       "        vertical-align: middle;\n",
       "    }\n",
       "\n",
       "    .dataframe tbody tr th {\n",
       "        vertical-align: top;\n",
       "    }\n",
       "\n",
       "    .dataframe thead th {\n",
       "        text-align: right;\n",
       "    }\n",
       "\n",
       "    .dataframe td {\n",
       "        white-space: pre;\n",
       "    }\n",
       "\n",
       "    .dataframe td {\n",
       "        padding-top: 0;\n",
       "    }\n",
       "\n",
       "    .dataframe td {\n",
       "        padding-bottom: 0;\n",
       "    }\n",
       "\n",
       "    .dataframe td {\n",
       "        line-height: 95%;\n",
       "    }\n",
       "</style>\n",
       "<table border=\"1\" class=\"dataframe\">\n",
       "<small>shape: (3,)</small>\n",
       "<thead>\n",
       "<tr>\n",
       "<th>\n",
       "a\n",
       "</th>\n",
       "</tr>\n",
       "<tr>\n",
       "<td>\n",
       "str\n",
       "</td>\n",
       "</tr>\n",
       "</thead>\n",
       "<tbody>\n",
       "<tr>\n",
       "<td>\n",
       "&quot;foo&quot;\n",
       "</td>\n",
       "</tr>\n",
       "<tr>\n",
       "<td>\n",
       "&quot;ba&quot;\n",
       "</td>\n",
       "</tr>\n",
       "<tr>\n",
       "<td>\n",
       "&quot;baz&quot;\n",
       "</td>\n",
       "</tr>\n",
       "</tbody>\n",
       "</table>\n",
       "</div>"
      ],
      "text/plain": [
       "shape: (3,)\n",
       "Series: 'a' [str]\n",
       "[\n",
       "\t\"foo\"\n",
       "\t\"ba\"\n",
       "\t\"baz\"\n",
       "]"
      ]
     },
     "execution_count": 152,
     "metadata": {},
     "output_type": "execute_result"
    }
   ],
   "source": [
    "st.str.rstrip('r')"
   ]
  },
  {
   "cell_type": "markdown",
   "id": "f93a0f2b",
   "metadata": {},
   "source": [
    "Replacing first appearance of a pattern:"
   ]
  },
  {
   "cell_type": "code",
   "execution_count": 157,
   "id": "ce5e21e9",
   "metadata": {},
   "outputs": [
    {
     "data": {
      "text/html": [
       "<div>\n",
       "<style scoped>\n",
       "    .dataframe tbody tr th:only-of-type {\n",
       "        vertical-align: middle;\n",
       "    }\n",
       "\n",
       "    .dataframe tbody tr th {\n",
       "        vertical-align: top;\n",
       "    }\n",
       "\n",
       "    .dataframe thead th {\n",
       "        text-align: right;\n",
       "    }\n",
       "\n",
       "    .dataframe td {\n",
       "        white-space: pre;\n",
       "    }\n",
       "\n",
       "    .dataframe td {\n",
       "        padding-top: 0;\n",
       "    }\n",
       "\n",
       "    .dataframe td {\n",
       "        padding-bottom: 0;\n",
       "    }\n",
       "\n",
       "    .dataframe td {\n",
       "        line-height: 95%;\n",
       "    }\n",
       "</style>\n",
       "<table border=\"1\" class=\"dataframe\">\n",
       "<small>shape: (3,)</small>\n",
       "<thead>\n",
       "<tr>\n",
       "<th>\n",
       "a\n",
       "</th>\n",
       "</tr>\n",
       "<tr>\n",
       "<td>\n",
       "str\n",
       "</td>\n",
       "</tr>\n",
       "</thead>\n",
       "<tbody>\n",
       "<tr>\n",
       "<td>\n",
       "&quot;fZZo&quot;\n",
       "</td>\n",
       "</tr>\n",
       "<tr>\n",
       "<td>\n",
       "&quot;bar&quot;\n",
       "</td>\n",
       "</tr>\n",
       "<tr>\n",
       "<td>\n",
       "&quot;baz&quot;\n",
       "</td>\n",
       "</tr>\n",
       "</tbody>\n",
       "</table>\n",
       "</div>"
      ],
      "text/plain": [
       "shape: (3,)\n",
       "Series: 'a' [str]\n",
       "[\n",
       "\t\"fZZo\"\n",
       "\t\"bar\"\n",
       "\t\"baz\"\n",
       "]"
      ]
     },
     "execution_count": 153,
     "metadata": {},
     "output_type": "execute_result"
    }
   ],
   "source": [
    "st.str.replace(r\"o\", \"ZZ\")  "
   ]
  },
  {
   "cell_type": "code",
   "execution_count": 158,
   "id": "8d16813a",
   "metadata": {},
   "outputs": [
    {
     "data": {
      "text/html": [
       "<div>\n",
       "<style scoped>\n",
       "    .dataframe tbody tr th:only-of-type {\n",
       "        vertical-align: middle;\n",
       "    }\n",
       "\n",
       "    .dataframe tbody tr th {\n",
       "        vertical-align: top;\n",
       "    }\n",
       "\n",
       "    .dataframe thead th {\n",
       "        text-align: right;\n",
       "    }\n",
       "\n",
       "    .dataframe td {\n",
       "        white-space: pre;\n",
       "    }\n",
       "\n",
       "    .dataframe td {\n",
       "        padding-top: 0;\n",
       "    }\n",
       "\n",
       "    .dataframe td {\n",
       "        padding-bottom: 0;\n",
       "    }\n",
       "\n",
       "    .dataframe td {\n",
       "        line-height: 95%;\n",
       "    }\n",
       "</style>\n",
       "<table border=\"1\" class=\"dataframe\">\n",
       "<small>shape: (3,)</small>\n",
       "<thead>\n",
       "<tr>\n",
       "<th>\n",
       "a\n",
       "</th>\n",
       "</tr>\n",
       "<tr>\n",
       "<td>\n",
       "str\n",
       "</td>\n",
       "</tr>\n",
       "</thead>\n",
       "<tbody>\n",
       "<tr>\n",
       "<td>\n",
       "&quot;fZZ&quot;\n",
       "</td>\n",
       "</tr>\n",
       "<tr>\n",
       "<td>\n",
       "&quot;bar&quot;\n",
       "</td>\n",
       "</tr>\n",
       "<tr>\n",
       "<td>\n",
       "&quot;baz&quot;\n",
       "</td>\n",
       "</tr>\n",
       "</tbody>\n",
       "</table>\n",
       "</div>"
      ],
      "text/plain": [
       "shape: (3,)\n",
       "Series: 'a' [str]\n",
       "[\n",
       "\t\"fZZ\"\n",
       "\t\"bar\"\n",
       "\t\"baz\"\n",
       "]"
      ]
     },
     "execution_count": 154,
     "metadata": {},
     "output_type": "execute_result"
    }
   ],
   "source": [
    "st.str.replace(r\"o+\", \"ZZ\")  "
   ]
  },
  {
   "cell_type": "markdown",
   "id": "0d5467ca",
   "metadata": {},
   "source": [
    "Replace all appearances of a pattern:"
   ]
  },
  {
   "cell_type": "code",
   "execution_count": 159,
   "id": "c7ae3102",
   "metadata": {},
   "outputs": [
    {
     "data": {
      "text/html": [
       "<div>\n",
       "<style scoped>\n",
       "    .dataframe tbody tr th:only-of-type {\n",
       "        vertical-align: middle;\n",
       "    }\n",
       "\n",
       "    .dataframe tbody tr th {\n",
       "        vertical-align: top;\n",
       "    }\n",
       "\n",
       "    .dataframe thead th {\n",
       "        text-align: right;\n",
       "    }\n",
       "\n",
       "    .dataframe td {\n",
       "        white-space: pre;\n",
       "    }\n",
       "\n",
       "    .dataframe td {\n",
       "        padding-top: 0;\n",
       "    }\n",
       "\n",
       "    .dataframe td {\n",
       "        padding-bottom: 0;\n",
       "    }\n",
       "\n",
       "    .dataframe td {\n",
       "        line-height: 95%;\n",
       "    }\n",
       "</style>\n",
       "<table border=\"1\" class=\"dataframe\">\n",
       "<small>shape: (3,)</small>\n",
       "<thead>\n",
       "<tr>\n",
       "<th>\n",
       "a\n",
       "</th>\n",
       "</tr>\n",
       "<tr>\n",
       "<td>\n",
       "str\n",
       "</td>\n",
       "</tr>\n",
       "</thead>\n",
       "<tbody>\n",
       "<tr>\n",
       "<td>\n",
       "&quot;fZZZZ&quot;\n",
       "</td>\n",
       "</tr>\n",
       "<tr>\n",
       "<td>\n",
       "&quot;bar&quot;\n",
       "</td>\n",
       "</tr>\n",
       "<tr>\n",
       "<td>\n",
       "&quot;baz&quot;\n",
       "</td>\n",
       "</tr>\n",
       "</tbody>\n",
       "</table>\n",
       "</div>"
      ],
      "text/plain": [
       "shape: (3,)\n",
       "Series: 'a' [str]\n",
       "[\n",
       "\t\"fZZZZ\"\n",
       "\t\"bar\"\n",
       "\t\"baz\"\n",
       "]"
      ]
     },
     "execution_count": 155,
     "metadata": {},
     "output_type": "execute_result"
    }
   ],
   "source": [
    "st.str.replace_all(\"o\", \"ZZ\")"
   ]
  },
  {
   "cell_type": "markdown",
   "id": "47fdeba1",
   "metadata": {},
   "source": [
    "String to list of strings. Number of spits inferred."
   ]
  },
  {
   "cell_type": "code",
   "execution_count": 160,
   "id": "c88a3f00",
   "metadata": {},
   "outputs": [
    {
     "data": {
      "text/html": [
       "<div>\n",
       "<style scoped>\n",
       "    .dataframe tbody tr th:only-of-type {\n",
       "        vertical-align: middle;\n",
       "    }\n",
       "\n",
       "    .dataframe tbody tr th {\n",
       "        vertical-align: top;\n",
       "    }\n",
       "\n",
       "    .dataframe thead th {\n",
       "        text-align: right;\n",
       "    }\n",
       "\n",
       "    .dataframe td {\n",
       "        white-space: pre;\n",
       "    }\n",
       "\n",
       "    .dataframe td {\n",
       "        padding-top: 0;\n",
       "    }\n",
       "\n",
       "    .dataframe td {\n",
       "        padding-bottom: 0;\n",
       "    }\n",
       "\n",
       "    .dataframe td {\n",
       "        line-height: 95%;\n",
       "    }\n",
       "</style>\n",
       "<table border=\"1\" class=\"dataframe\">\n",
       "<small>shape: (3,)</small>\n",
       "<thead>\n",
       "<tr>\n",
       "<th>\n",
       "a\n",
       "</th>\n",
       "</tr>\n",
       "<tr>\n",
       "<td>\n",
       "list[str]\n",
       "</td>\n",
       "</tr>\n",
       "</thead>\n",
       "<tbody>\n",
       "<tr>\n",
       "<td>\n",
       "[&quot;f&quot;, &quot;&quot;, &quot;&quot;]\n",
       "</td>\n",
       "</tr>\n",
       "<tr>\n",
       "<td>\n",
       "[&quot;bar&quot;]\n",
       "</td>\n",
       "</tr>\n",
       "<tr>\n",
       "<td>\n",
       "[&quot;baz&quot;]\n",
       "</td>\n",
       "</tr>\n",
       "</tbody>\n",
       "</table>\n",
       "</div>"
      ],
      "text/plain": [
       "shape: (3,)\n",
       "Series: 'a' [list[str]]\n",
       "[\n",
       "\t[\"f\", \"\", \"\"]\n",
       "\t[\"bar\"]\n",
       "\t[\"baz\"]\n",
       "]"
      ]
     },
     "execution_count": 156,
     "metadata": {},
     "output_type": "execute_result"
    }
   ],
   "source": [
    "st.str.split(by=\"o\")"
   ]
  },
  {
   "cell_type": "code",
   "execution_count": 161,
   "id": "210b7aa7",
   "metadata": {},
   "outputs": [
    {
     "data": {
      "text/html": [
       "<div>\n",
       "<style scoped>\n",
       "    .dataframe tbody tr th:only-of-type {\n",
       "        vertical-align: middle;\n",
       "    }\n",
       "\n",
       "    .dataframe tbody tr th {\n",
       "        vertical-align: top;\n",
       "    }\n",
       "\n",
       "    .dataframe thead th {\n",
       "        text-align: right;\n",
       "    }\n",
       "\n",
       "    .dataframe td {\n",
       "        white-space: pre;\n",
       "    }\n",
       "\n",
       "    .dataframe td {\n",
       "        padding-top: 0;\n",
       "    }\n",
       "\n",
       "    .dataframe td {\n",
       "        padding-bottom: 0;\n",
       "    }\n",
       "\n",
       "    .dataframe td {\n",
       "        line-height: 95%;\n",
       "    }\n",
       "</style>\n",
       "<table border=\"1\" class=\"dataframe\">\n",
       "<small>shape: (3,)</small>\n",
       "<thead>\n",
       "<tr>\n",
       "<th>\n",
       "a\n",
       "</th>\n",
       "</tr>\n",
       "<tr>\n",
       "<td>\n",
       "list[str]\n",
       "</td>\n",
       "</tr>\n",
       "</thead>\n",
       "<tbody>\n",
       "<tr>\n",
       "<td>\n",
       "[&quot;foo&quot;]\n",
       "</td>\n",
       "</tr>\n",
       "<tr>\n",
       "<td>\n",
       "[&quot;ba&quot;, &quot;r&quot;]\n",
       "</td>\n",
       "</tr>\n",
       "<tr>\n",
       "<td>\n",
       "[&quot;ba&quot;, &quot;z&quot;]\n",
       "</td>\n",
       "</tr>\n",
       "</tbody>\n",
       "</table>\n",
       "</div>"
      ],
      "text/plain": [
       "shape: (3,)\n",
       "Series: 'a' [list[str]]\n",
       "[\n",
       "\t[\"foo\"]\n",
       "\t[\"ba\", \"r\"]\n",
       "\t[\"ba\", \"z\"]\n",
       "]"
      ]
     },
     "execution_count": 157,
     "metadata": {},
     "output_type": "execute_result"
    }
   ],
   "source": [
    "st.str.split(by=\"a\", inclusive=True)"
   ]
  },
  {
   "cell_type": "markdown",
   "id": "3b5ed654",
   "metadata": {},
   "source": [
    "String to dict of strings. Number of splits fixed."
   ]
  },
  {
   "cell_type": "code",
   "execution_count": 162,
   "id": "b291e4e3",
   "metadata": {},
   "outputs": [
    {
     "data": {
      "text/html": [
       "<div>\n",
       "<style scoped>\n",
       "    .dataframe tbody tr th:only-of-type {\n",
       "        vertical-align: middle;\n",
       "    }\n",
       "\n",
       "    .dataframe tbody tr th {\n",
       "        vertical-align: top;\n",
       "    }\n",
       "\n",
       "    .dataframe thead th {\n",
       "        text-align: right;\n",
       "    }\n",
       "\n",
       "    .dataframe td {\n",
       "        white-space: pre;\n",
       "    }\n",
       "\n",
       "    .dataframe td {\n",
       "        padding-top: 0;\n",
       "    }\n",
       "\n",
       "    .dataframe td {\n",
       "        padding-bottom: 0;\n",
       "    }\n",
       "\n",
       "    .dataframe td {\n",
       "        line-height: 95%;\n",
       "    }\n",
       "</style>\n",
       "<table border=\"1\" class=\"dataframe\">\n",
       "<small>shape: (3,)</small>\n",
       "<thead>\n",
       "<tr>\n",
       "<th>\n",
       "a\n",
       "</th>\n",
       "</tr>\n",
       "<tr>\n",
       "<td>\n",
       "struct[3]\n",
       "</td>\n",
       "</tr>\n",
       "</thead>\n",
       "<tbody>\n",
       "<tr>\n",
       "<td>\n",
       "{&quot;foo&quot;,null,null}\n",
       "</td>\n",
       "</tr>\n",
       "<tr>\n",
       "<td>\n",
       "{&quot;b&quot;,&quot;r&quot;,null}\n",
       "</td>\n",
       "</tr>\n",
       "<tr>\n",
       "<td>\n",
       "{&quot;b&quot;,&quot;z&quot;,null}\n",
       "</td>\n",
       "</tr>\n",
       "</tbody>\n",
       "</table>\n",
       "</div>"
      ],
      "text/plain": [
       "shape: (3,)\n",
       "Series: 'a' [struct[3]]\n",
       "[\n",
       "\t{\"foo\",null,null}\n",
       "\t{\"b\",\"r\",null}\n",
       "\t{\"b\",\"z\",null}\n",
       "]"
      ]
     },
     "execution_count": 158,
     "metadata": {},
     "output_type": "execute_result"
    }
   ],
   "source": [
    "st.str.split_exact(\"a\", 2)"
   ]
  },
  {
   "cell_type": "markdown",
   "id": "d0f2869b",
   "metadata": {},
   "source": [
    "String to dict of strings. Length of output fixed."
   ]
  },
  {
   "cell_type": "code",
   "execution_count": 163,
   "id": "b130035a",
   "metadata": {},
   "outputs": [
    {
     "data": {
      "text/html": [
       "<div>\n",
       "<style scoped>\n",
       "    .dataframe tbody tr th:only-of-type {\n",
       "        vertical-align: middle;\n",
       "    }\n",
       "\n",
       "    .dataframe tbody tr th {\n",
       "        vertical-align: top;\n",
       "    }\n",
       "\n",
       "    .dataframe thead th {\n",
       "        text-align: right;\n",
       "    }\n",
       "\n",
       "    .dataframe td {\n",
       "        white-space: pre;\n",
       "    }\n",
       "\n",
       "    .dataframe td {\n",
       "        padding-top: 0;\n",
       "    }\n",
       "\n",
       "    .dataframe td {\n",
       "        padding-bottom: 0;\n",
       "    }\n",
       "\n",
       "    .dataframe td {\n",
       "        line-height: 95%;\n",
       "    }\n",
       "</style>\n",
       "<table border=\"1\" class=\"dataframe\">\n",
       "<small>shape: (3,)</small>\n",
       "<thead>\n",
       "<tr>\n",
       "<th>\n",
       "a\n",
       "</th>\n",
       "</tr>\n",
       "<tr>\n",
       "<td>\n",
       "struct[4]\n",
       "</td>\n",
       "</tr>\n",
       "</thead>\n",
       "<tbody>\n",
       "<tr>\n",
       "<td>\n",
       "{&quot;foo&quot;,null,null,null}\n",
       "</td>\n",
       "</tr>\n",
       "<tr>\n",
       "<td>\n",
       "{&quot;b&quot;,&quot;r&quot;,null,null}\n",
       "</td>\n",
       "</tr>\n",
       "<tr>\n",
       "<td>\n",
       "{&quot;b&quot;,&quot;z&quot;,null,null}\n",
       "</td>\n",
       "</tr>\n",
       "</tbody>\n",
       "</table>\n",
       "</div>"
      ],
      "text/plain": [
       "shape: (3,)\n",
       "Series: 'a' [struct[4]]\n",
       "[\n",
       "\t{\"foo\",null,null,null}\n",
       "\t{\"b\",\"r\",null,null}\n",
       "\t{\"b\",\"z\",null,null}\n",
       "]"
      ]
     },
     "execution_count": 159,
     "metadata": {},
     "output_type": "execute_result"
    }
   ],
   "source": [
    "st.str.splitn(\"a\", 4)"
   ]
  },
  {
   "cell_type": "markdown",
   "id": "fbbc48b3",
   "metadata": {},
   "source": [
    "Strip white spaces."
   ]
  },
  {
   "cell_type": "code",
   "execution_count": 164,
   "id": "e496d274",
   "metadata": {},
   "outputs": [
    {
     "data": {
      "text/html": [
       "<div>\n",
       "<style scoped>\n",
       "    .dataframe tbody tr th:only-of-type {\n",
       "        vertical-align: middle;\n",
       "    }\n",
       "\n",
       "    .dataframe tbody tr th {\n",
       "        vertical-align: top;\n",
       "    }\n",
       "\n",
       "    .dataframe thead th {\n",
       "        text-align: right;\n",
       "    }\n",
       "\n",
       "    .dataframe td {\n",
       "        white-space: pre;\n",
       "    }\n",
       "\n",
       "    .dataframe td {\n",
       "        padding-top: 0;\n",
       "    }\n",
       "\n",
       "    .dataframe td {\n",
       "        padding-bottom: 0;\n",
       "    }\n",
       "\n",
       "    .dataframe td {\n",
       "        line-height: 95%;\n",
       "    }\n",
       "</style>\n",
       "<table border=\"1\" class=\"dataframe\">\n",
       "<small>shape: (3,)</small>\n",
       "<thead>\n",
       "<tr>\n",
       "<th>\n",
       "a\n",
       "</th>\n",
       "</tr>\n",
       "<tr>\n",
       "<td>\n",
       "str\n",
       "</td>\n",
       "</tr>\n",
       "</thead>\n",
       "<tbody>\n",
       "<tr>\n",
       "<td>\n",
       "&quot;foo&quot;\n",
       "</td>\n",
       "</tr>\n",
       "<tr>\n",
       "<td>\n",
       "&quot;bar&quot;\n",
       "</td>\n",
       "</tr>\n",
       "<tr>\n",
       "<td>\n",
       "&quot;baz&quot;\n",
       "</td>\n",
       "</tr>\n",
       "</tbody>\n",
       "</table>\n",
       "</div>"
      ],
      "text/plain": [
       "shape: (3,)\n",
       "Series: 'a' [str]\n",
       "[\n",
       "\t\"foo\"\n",
       "\t\"bar\"\n",
       "\t\"baz\"\n",
       "]"
      ]
     },
     "execution_count": 160,
     "metadata": {},
     "output_type": "execute_result"
    }
   ],
   "source": [
    "st.str.rjust(8, \" \").str.strip()"
   ]
  },
  {
   "cell_type": "code",
   "execution_count": 165,
   "id": "639b4f0f",
   "metadata": {},
   "outputs": [
    {
     "data": {
      "text/html": [
       "<div>\n",
       "<style scoped>\n",
       "    .dataframe tbody tr th:only-of-type {\n",
       "        vertical-align: middle;\n",
       "    }\n",
       "\n",
       "    .dataframe tbody tr th {\n",
       "        vertical-align: top;\n",
       "    }\n",
       "\n",
       "    .dataframe thead th {\n",
       "        text-align: right;\n",
       "    }\n",
       "\n",
       "    .dataframe td {\n",
       "        white-space: pre;\n",
       "    }\n",
       "\n",
       "    .dataframe td {\n",
       "        padding-top: 0;\n",
       "    }\n",
       "\n",
       "    .dataframe td {\n",
       "        padding-bottom: 0;\n",
       "    }\n",
       "\n",
       "    .dataframe td {\n",
       "        line-height: 95%;\n",
       "    }\n",
       "</style>\n",
       "<table border=\"1\" class=\"dataframe\">\n",
       "<small>shape: (3,)</small>\n",
       "<thead>\n",
       "<tr>\n",
       "<th>\n",
       "a\n",
       "</th>\n",
       "</tr>\n",
       "<tr>\n",
       "<td>\n",
       "str\n",
       "</td>\n",
       "</tr>\n",
       "</thead>\n",
       "<tbody>\n",
       "<tr>\n",
       "<td>\n",
       "&quot;FOO&quot;\n",
       "</td>\n",
       "</tr>\n",
       "<tr>\n",
       "<td>\n",
       "&quot;BAR&quot;\n",
       "</td>\n",
       "</tr>\n",
       "<tr>\n",
       "<td>\n",
       "&quot;BAZ&quot;\n",
       "</td>\n",
       "</tr>\n",
       "</tbody>\n",
       "</table>\n",
       "</div>"
      ],
      "text/plain": [
       "shape: (3,)\n",
       "Series: 'a' [str]\n",
       "[\n",
       "\t\"FOO\"\n",
       "\t\"BAR\"\n",
       "\t\"BAZ\"\n",
       "]"
      ]
     },
     "execution_count": 161,
     "metadata": {},
     "output_type": "execute_result"
    }
   ],
   "source": [
    "st.str.to_uppercase()"
   ]
  },
  {
   "cell_type": "code",
   "execution_count": 166,
   "id": "1771ce82",
   "metadata": {},
   "outputs": [
    {
     "data": {
      "text/html": [
       "<div>\n",
       "<style scoped>\n",
       "    .dataframe tbody tr th:only-of-type {\n",
       "        vertical-align: middle;\n",
       "    }\n",
       "\n",
       "    .dataframe tbody tr th {\n",
       "        vertical-align: top;\n",
       "    }\n",
       "\n",
       "    .dataframe thead th {\n",
       "        text-align: right;\n",
       "    }\n",
       "\n",
       "    .dataframe td {\n",
       "        white-space: pre;\n",
       "    }\n",
       "\n",
       "    .dataframe td {\n",
       "        padding-top: 0;\n",
       "    }\n",
       "\n",
       "    .dataframe td {\n",
       "        padding-bottom: 0;\n",
       "    }\n",
       "\n",
       "    .dataframe td {\n",
       "        line-height: 95%;\n",
       "    }\n",
       "</style>\n",
       "<table border=\"1\" class=\"dataframe\">\n",
       "<small>shape: (3,)</small>\n",
       "<thead>\n",
       "<tr>\n",
       "<th>\n",
       "a\n",
       "</th>\n",
       "</tr>\n",
       "<tr>\n",
       "<td>\n",
       "str\n",
       "</td>\n",
       "</tr>\n",
       "</thead>\n",
       "<tbody>\n",
       "<tr>\n",
       "<td>\n",
       "&quot;foo&quot;\n",
       "</td>\n",
       "</tr>\n",
       "<tr>\n",
       "<td>\n",
       "&quot;bar&quot;\n",
       "</td>\n",
       "</tr>\n",
       "<tr>\n",
       "<td>\n",
       "&quot;baz&quot;\n",
       "</td>\n",
       "</tr>\n",
       "</tbody>\n",
       "</table>\n",
       "</div>"
      ],
      "text/plain": [
       "shape: (3,)\n",
       "Series: 'a' [str]\n",
       "[\n",
       "\t\"foo\"\n",
       "\t\"bar\"\n",
       "\t\"baz\"\n",
       "]"
      ]
     },
     "execution_count": 162,
     "metadata": {},
     "output_type": "execute_result"
    }
   ],
   "source": [
    "st.str.to_lowercase()"
   ]
  },
  {
   "cell_type": "code",
   "execution_count": 167,
   "id": "d4d93b26",
   "metadata": {},
   "outputs": [
    {
     "data": {
      "text/html": [
       "<div>\n",
       "<style scoped>\n",
       "    .dataframe tbody tr th:only-of-type {\n",
       "        vertical-align: middle;\n",
       "    }\n",
       "\n",
       "    .dataframe tbody tr th {\n",
       "        vertical-align: top;\n",
       "    }\n",
       "\n",
       "    .dataframe thead th {\n",
       "        text-align: right;\n",
       "    }\n",
       "\n",
       "    .dataframe td {\n",
       "        white-space: pre;\n",
       "    }\n",
       "\n",
       "    .dataframe td {\n",
       "        padding-top: 0;\n",
       "    }\n",
       "\n",
       "    .dataframe td {\n",
       "        padding-bottom: 0;\n",
       "    }\n",
       "\n",
       "    .dataframe td {\n",
       "        line-height: 95%;\n",
       "    }\n",
       "</style>\n",
       "<table border=\"1\" class=\"dataframe\">\n",
       "<small>shape: (3,)</small>\n",
       "<thead>\n",
       "<tr>\n",
       "<th>\n",
       "a\n",
       "</th>\n",
       "</tr>\n",
       "<tr>\n",
       "<td>\n",
       "str\n",
       "</td>\n",
       "</tr>\n",
       "</thead>\n",
       "<tbody>\n",
       "<tr>\n",
       "<td>\n",
       "&quot;00foo&quot;\n",
       "</td>\n",
       "</tr>\n",
       "<tr>\n",
       "<td>\n",
       "&quot;00bar&quot;\n",
       "</td>\n",
       "</tr>\n",
       "<tr>\n",
       "<td>\n",
       "&quot;00baz&quot;\n",
       "</td>\n",
       "</tr>\n",
       "</tbody>\n",
       "</table>\n",
       "</div>"
      ],
      "text/plain": [
       "shape: (3,)\n",
       "Series: 'a' [str]\n",
       "[\n",
       "\t\"00foo\"\n",
       "\t\"00bar\"\n",
       "\t\"00baz\"\n",
       "]"
      ]
     },
     "execution_count": 163,
     "metadata": {},
     "output_type": "execute_result"
    }
   ],
   "source": [
    "st.str.zfill(5)"
   ]
  },
  {
   "cell_type": "code",
   "execution_count": 168,
   "id": "90b84d73",
   "metadata": {},
   "outputs": [
    {
     "data": {
      "text/html": [
       "<div>\n",
       "<style scoped>\n",
       "    .dataframe tbody tr th:only-of-type {\n",
       "        vertical-align: middle;\n",
       "    }\n",
       "\n",
       "    .dataframe tbody tr th {\n",
       "        vertical-align: top;\n",
       "    }\n",
       "\n",
       "    .dataframe thead th {\n",
       "        text-align: right;\n",
       "    }\n",
       "\n",
       "    .dataframe td {\n",
       "        white-space: pre;\n",
       "    }\n",
       "\n",
       "    .dataframe td {\n",
       "        padding-top: 0;\n",
       "    }\n",
       "\n",
       "    .dataframe td {\n",
       "        padding-bottom: 0;\n",
       "    }\n",
       "\n",
       "    .dataframe td {\n",
       "        line-height: 95%;\n",
       "    }\n",
       "</style>\n",
       "<table border=\"1\" class=\"dataframe\">\n",
       "<small>shape: (3,)</small>\n",
       "<thead>\n",
       "<tr>\n",
       "<th>\n",
       "a\n",
       "</th>\n",
       "</tr>\n",
       "<tr>\n",
       "<td>\n",
       "str\n",
       "</td>\n",
       "</tr>\n",
       "</thead>\n",
       "<tbody>\n",
       "<tr>\n",
       "<td>\n",
       "&quot;fo&quot;\n",
       "</td>\n",
       "</tr>\n",
       "<tr>\n",
       "<td>\n",
       "&quot;ba&quot;\n",
       "</td>\n",
       "</tr>\n",
       "<tr>\n",
       "<td>\n",
       "&quot;ba&quot;\n",
       "</td>\n",
       "</tr>\n",
       "</tbody>\n",
       "</table>\n",
       "</div>"
      ],
      "text/plain": [
       "shape: (3,)\n",
       "Series: 'a' [str]\n",
       "[\n",
       "\t\"fo\"\n",
       "\t\"ba\"\n",
       "\t\"ba\"\n",
       "]"
      ]
     },
     "execution_count": 164,
     "metadata": {},
     "output_type": "execute_result"
    }
   ],
   "source": [
    "st.str.slice(offset=0, length=2)"
   ]
  },
  {
   "cell_type": "markdown",
   "id": "a70c2c78",
   "metadata": {},
   "source": [
    "## Date and Time\n",
    "\n",
    "There are 4 datetime dtypes in polars:\n",
    "\n",
    "1. Date: A date, without hours. Generated with `pl.Date()`.\n",
    "2. Datetime: Date and hours. Generated with `pl.Datetime()`.\n",
    "3. Duration: As the name suggests. Similar t o `timedelta` in pandas. Generated with `pl.Duration()`.\n",
    "4. Time: Hour of day. Generated with `pl.Time()`.\n",
    "\n",
    "\n",
    "### Converting from Strings\n"
   ]
  },
  {
   "cell_type": "code",
   "execution_count": 169,
   "id": "fa75e747",
   "metadata": {},
   "outputs": [
    {
     "data": {
      "text/html": [
       "<div>\n",
       "<style scoped>\n",
       "    .dataframe tbody tr th:only-of-type {\n",
       "        vertical-align: middle;\n",
       "    }\n",
       "\n",
       "    .dataframe tbody tr th {\n",
       "        vertical-align: top;\n",
       "    }\n",
       "\n",
       "    .dataframe thead th {\n",
       "        text-align: right;\n",
       "    }\n",
       "\n",
       "    .dataframe td {\n",
       "        white-space: pre;\n",
       "    }\n",
       "\n",
       "    .dataframe td {\n",
       "        padding-top: 0;\n",
       "    }\n",
       "\n",
       "    .dataframe td {\n",
       "        padding-bottom: 0;\n",
       "    }\n",
       "\n",
       "    .dataframe td {\n",
       "        line-height: 95%;\n",
       "    }\n",
       "</style>\n",
       "<table border=\"1\" class=\"dataframe\">\n",
       "<small>shape: (4,)</small>\n",
       "<thead>\n",
       "<tr>\n",
       "<th>\n",
       "date\n",
       "</th>\n",
       "</tr>\n",
       "<tr>\n",
       "<td>\n",
       "date\n",
       "</td>\n",
       "</tr>\n",
       "</thead>\n",
       "<tbody>\n",
       "<tr>\n",
       "<td>\n",
       "2021-04-22\n",
       "</td>\n",
       "</tr>\n",
       "<tr>\n",
       "<td>\n",
       "null\n",
       "</td>\n",
       "</tr>\n",
       "<tr>\n",
       "<td>\n",
       "null\n",
       "</td>\n",
       "</tr>\n",
       "<tr>\n",
       "<td>\n",
       "null\n",
       "</td>\n",
       "</tr>\n",
       "</tbody>\n",
       "</table>\n",
       "</div>"
      ],
      "text/plain": [
       "shape: (4,)\n",
       "Series: 'date' [date]\n",
       "[\n",
       "\t2021-04-22\n",
       "\tnull\n",
       "\tnull\n",
       "\tnull\n",
       "]"
      ]
     },
     "execution_count": 165,
     "metadata": {},
     "output_type": "execute_result"
    }
   ],
   "source": [
    "sd = pl.Series(\n",
    "    \"date\",\n",
    "    [\n",
    "        \"2021-04-22\",\n",
    "        \"2022-01-04 00:00:00\",\n",
    "        \"01/31/22\",\n",
    "        \"Sun Jul  8 00:34:60 2001\",\n",
    "    ],\n",
    ")\n",
    "sd.str.strptime(pl.Date, \"%F\", strict=False)"
   ]
  },
  {
   "cell_type": "code",
   "execution_count": 170,
   "id": "3613879a",
   "metadata": {},
   "outputs": [
    {
     "data": {
      "text/html": [
       "<div>\n",
       "<style scoped>\n",
       "    .dataframe tbody tr th:only-of-type {\n",
       "        vertical-align: middle;\n",
       "    }\n",
       "\n",
       "    .dataframe tbody tr th {\n",
       "        vertical-align: top;\n",
       "    }\n",
       "\n",
       "    .dataframe thead th {\n",
       "        text-align: right;\n",
       "    }\n",
       "\n",
       "    .dataframe td {\n",
       "        white-space: pre;\n",
       "    }\n",
       "\n",
       "    .dataframe td {\n",
       "        padding-top: 0;\n",
       "    }\n",
       "\n",
       "    .dataframe td {\n",
       "        padding-bottom: 0;\n",
       "    }\n",
       "\n",
       "    .dataframe td {\n",
       "        line-height: 95%;\n",
       "    }\n",
       "</style>\n",
       "<table border=\"1\" class=\"dataframe\">\n",
       "<small>shape: (4,)</small>\n",
       "<thead>\n",
       "<tr>\n",
       "<th>\n",
       "date\n",
       "</th>\n",
       "</tr>\n",
       "<tr>\n",
       "<td>\n",
       "date\n",
       "</td>\n",
       "</tr>\n",
       "</thead>\n",
       "<tbody>\n",
       "<tr>\n",
       "<td>\n",
       "null\n",
       "</td>\n",
       "</tr>\n",
       "<tr>\n",
       "<td>\n",
       "2022-01-04\n",
       "</td>\n",
       "</tr>\n",
       "<tr>\n",
       "<td>\n",
       "null\n",
       "</td>\n",
       "</tr>\n",
       "<tr>\n",
       "<td>\n",
       "null\n",
       "</td>\n",
       "</tr>\n",
       "</tbody>\n",
       "</table>\n",
       "</div>"
      ],
      "text/plain": [
       "shape: (4,)\n",
       "Series: 'date' [date]\n",
       "[\n",
       "\tnull\n",
       "\t2022-01-04\n",
       "\tnull\n",
       "\tnull\n",
       "]"
      ]
     },
     "execution_count": 166,
     "metadata": {},
     "output_type": "execute_result"
    }
   ],
   "source": [
    "sd.str.strptime(pl.Date, \"%F %T\",strict=False)"
   ]
  },
  {
   "cell_type": "code",
   "execution_count": 171,
   "id": "0781b999",
   "metadata": {},
   "outputs": [
    {
     "data": {
      "text/html": [
       "<div>\n",
       "<style scoped>\n",
       "    .dataframe tbody tr th:only-of-type {\n",
       "        vertical-align: middle;\n",
       "    }\n",
       "\n",
       "    .dataframe tbody tr th {\n",
       "        vertical-align: top;\n",
       "    }\n",
       "\n",
       "    .dataframe thead th {\n",
       "        text-align: right;\n",
       "    }\n",
       "\n",
       "    .dataframe td {\n",
       "        white-space: pre;\n",
       "    }\n",
       "\n",
       "    .dataframe td {\n",
       "        padding-top: 0;\n",
       "    }\n",
       "\n",
       "    .dataframe td {\n",
       "        padding-bottom: 0;\n",
       "    }\n",
       "\n",
       "    .dataframe td {\n",
       "        line-height: 95%;\n",
       "    }\n",
       "</style>\n",
       "<table border=\"1\" class=\"dataframe\">\n",
       "<small>shape: (4,)</small>\n",
       "<thead>\n",
       "<tr>\n",
       "<th>\n",
       "date\n",
       "</th>\n",
       "</tr>\n",
       "<tr>\n",
       "<td>\n",
       "date\n",
       "</td>\n",
       "</tr>\n",
       "</thead>\n",
       "<tbody>\n",
       "<tr>\n",
       "<td>\n",
       "null\n",
       "</td>\n",
       "</tr>\n",
       "<tr>\n",
       "<td>\n",
       "null\n",
       "</td>\n",
       "</tr>\n",
       "<tr>\n",
       "<td>\n",
       "2022-01-31\n",
       "</td>\n",
       "</tr>\n",
       "<tr>\n",
       "<td>\n",
       "null\n",
       "</td>\n",
       "</tr>\n",
       "</tbody>\n",
       "</table>\n",
       "</div>"
      ],
      "text/plain": [
       "shape: (4,)\n",
       "Series: 'date' [date]\n",
       "[\n",
       "\tnull\n",
       "\tnull\n",
       "\t2022-01-31\n",
       "\tnull\n",
       "]"
      ]
     },
     "execution_count": 167,
     "metadata": {},
     "output_type": "execute_result"
    }
   ],
   "source": [
    "sd.str.strptime(pl.Date, \"%D\", strict=False)"
   ]
  },
  {
   "cell_type": "markdown",
   "id": "a2d2b59e",
   "metadata": {},
   "source": [
    "### Time Range\n"
   ]
  },
  {
   "cell_type": "code",
   "execution_count": 172,
   "id": "86763468",
   "metadata": {},
   "outputs": [
    {
     "data": {
      "text/html": [
       "<div>\n",
       "<style scoped>\n",
       "    .dataframe tbody tr th:only-of-type {\n",
       "        vertical-align: middle;\n",
       "    }\n",
       "\n",
       "    .dataframe tbody tr th {\n",
       "        vertical-align: top;\n",
       "    }\n",
       "\n",
       "    .dataframe thead th {\n",
       "        text-align: right;\n",
       "    }\n",
       "\n",
       "    .dataframe td {\n",
       "        white-space: pre;\n",
       "    }\n",
       "\n",
       "    .dataframe td {\n",
       "        padding-top: 0;\n",
       "    }\n",
       "\n",
       "    .dataframe td {\n",
       "        padding-bottom: 0;\n",
       "    }\n",
       "\n",
       "    .dataframe td {\n",
       "        line-height: 95%;\n",
       "    }\n",
       "</style>\n",
       "<table border=\"1\" class=\"dataframe\">\n",
       "<small>shape: (3,)</small>\n",
       "<thead>\n",
       "<tr>\n",
       "<th>\n",
       "\n",
       "</th>\n",
       "</tr>\n",
       "<tr>\n",
       "<td>\n",
       "datetime[μs]\n",
       "</td>\n",
       "</tr>\n",
       "</thead>\n",
       "<tbody>\n",
       "<tr>\n",
       "<td>\n",
       "2001-02-02 00:00:00\n",
       "</td>\n",
       "</tr>\n",
       "<tr>\n",
       "<td>\n",
       "2001-02-02 08:28:20\n",
       "</td>\n",
       "</tr>\n",
       "<tr>\n",
       "<td>\n",
       "2001-02-02 16:56:40\n",
       "</td>\n",
       "</tr>\n",
       "</tbody>\n",
       "</table>\n",
       "</div>"
      ],
      "text/plain": [
       "shape: (3,)\n",
       "Series: '' [datetime[μs]]\n",
       "[\n",
       "\t2001-02-02 00:00:00\n",
       "\t2001-02-02 08:28:20\n",
       "\t2001-02-02 16:56:40\n",
       "]"
      ]
     },
     "execution_count": 168,
     "metadata": {},
     "output_type": "execute_result"
    }
   ],
   "source": [
    "from datetime import datetime, timedelta\n",
    "\n",
    "start = datetime(year= 2001, month=2, day=2)\n",
    "stop = datetime(year=2001, month=2, day=3)\n",
    "\n",
    "date = pl.date_range(\n",
    "  low=start, \n",
    "  high=stop, \n",
    "  interval=timedelta(seconds=500*61))\n",
    "date"
   ]
  },
  {
   "cell_type": "markdown",
   "id": "b69c2b7b",
   "metadata": {},
   "source": [
    "Things to note:\n",
    "\n",
    "- How else could I have constructed this series? What other types are accepted as `low` and `high`? \n",
    "- `pl.date_range` may return a series of dtype `Date` or `Datetime`. This depens of the granularity of the inputs. \n"
   ]
  },
  {
   "cell_type": "code",
   "execution_count": 173,
   "id": "faf68874",
   "metadata": {},
   "outputs": [
    {
     "data": {
      "text/plain": [
       "Datetime(tu='us', tz=None)"
      ]
     },
     "execution_count": 169,
     "metadata": {},
     "output_type": "execute_result"
    }
   ],
   "source": [
    "date.dtype"
   ]
  },
  {
   "cell_type": "markdown",
   "id": "d3d0fe2f",
   "metadata": {},
   "source": [
    "Cast to different time unit. \n",
    "May be useful when joining datasets, and the time unit is different."
   ]
  },
  {
   "cell_type": "code",
   "execution_count": 174,
   "id": "7168b041",
   "metadata": {},
   "outputs": [
    {
     "data": {
      "text/html": [
       "<div>\n",
       "<style scoped>\n",
       "    .dataframe tbody tr th:only-of-type {\n",
       "        vertical-align: middle;\n",
       "    }\n",
       "\n",
       "    .dataframe tbody tr th {\n",
       "        vertical-align: top;\n",
       "    }\n",
       "\n",
       "    .dataframe thead th {\n",
       "        text-align: right;\n",
       "    }\n",
       "\n",
       "    .dataframe td {\n",
       "        white-space: pre;\n",
       "    }\n",
       "\n",
       "    .dataframe td {\n",
       "        padding-top: 0;\n",
       "    }\n",
       "\n",
       "    .dataframe td {\n",
       "        padding-bottom: 0;\n",
       "    }\n",
       "\n",
       "    .dataframe td {\n",
       "        line-height: 95%;\n",
       "    }\n",
       "</style>\n",
       "<table border=\"1\" class=\"dataframe\">\n",
       "<small>shape: (3,)</small>\n",
       "<thead>\n",
       "<tr>\n",
       "<th>\n",
       "\n",
       "</th>\n",
       "</tr>\n",
       "<tr>\n",
       "<td>\n",
       "datetime[ms]\n",
       "</td>\n",
       "</tr>\n",
       "</thead>\n",
       "<tbody>\n",
       "<tr>\n",
       "<td>\n",
       "2001-02-02 00:00:00\n",
       "</td>\n",
       "</tr>\n",
       "<tr>\n",
       "<td>\n",
       "2001-02-02 08:28:20\n",
       "</td>\n",
       "</tr>\n",
       "<tr>\n",
       "<td>\n",
       "2001-02-02 16:56:40\n",
       "</td>\n",
       "</tr>\n",
       "</tbody>\n",
       "</table>\n",
       "</div>"
      ],
      "text/plain": [
       "shape: (3,)\n",
       "Series: '' [datetime[ms]]\n",
       "[\n",
       "\t2001-02-02 00:00:00\n",
       "\t2001-02-02 08:28:20\n",
       "\t2001-02-02 16:56:40\n",
       "]"
      ]
     },
     "execution_count": 170,
     "metadata": {},
     "output_type": "execute_result"
    }
   ],
   "source": [
    "date.dt.cast_time_unit(tu=\"ms\")"
   ]
  },
  {
   "cell_type": "markdown",
   "id": "71577147",
   "metadata": {},
   "source": [
    "### From Date to String\n"
   ]
  },
  {
   "cell_type": "code",
   "execution_count": 175,
   "id": "d377ec02",
   "metadata": {},
   "outputs": [
    {
     "data": {
      "text/html": [
       "<div>\n",
       "<style scoped>\n",
       "    .dataframe tbody tr th:only-of-type {\n",
       "        vertical-align: middle;\n",
       "    }\n",
       "\n",
       "    .dataframe tbody tr th {\n",
       "        vertical-align: top;\n",
       "    }\n",
       "\n",
       "    .dataframe thead th {\n",
       "        text-align: right;\n",
       "    }\n",
       "\n",
       "    .dataframe td {\n",
       "        white-space: pre;\n",
       "    }\n",
       "\n",
       "    .dataframe td {\n",
       "        padding-top: 0;\n",
       "    }\n",
       "\n",
       "    .dataframe td {\n",
       "        padding-bottom: 0;\n",
       "    }\n",
       "\n",
       "    .dataframe td {\n",
       "        line-height: 95%;\n",
       "    }\n",
       "</style>\n",
       "<table border=\"1\" class=\"dataframe\">\n",
       "<small>shape: (3,)</small>\n",
       "<thead>\n",
       "<tr>\n",
       "<th>\n",
       "\n",
       "</th>\n",
       "</tr>\n",
       "<tr>\n",
       "<td>\n",
       "str\n",
       "</td>\n",
       "</tr>\n",
       "</thead>\n",
       "<tbody>\n",
       "<tr>\n",
       "<td>\n",
       "&quot;2001-02-02&quot;\n",
       "</td>\n",
       "</tr>\n",
       "<tr>\n",
       "<td>\n",
       "&quot;2001-02-02&quot;\n",
       "</td>\n",
       "</tr>\n",
       "<tr>\n",
       "<td>\n",
       "&quot;2001-02-02&quot;\n",
       "</td>\n",
       "</tr>\n",
       "</tbody>\n",
       "</table>\n",
       "</div>"
      ],
      "text/plain": [
       "shape: (3,)\n",
       "Series: '' [str]\n",
       "[\n",
       "\t\"2001-02-02\"\n",
       "\t\"2001-02-02\"\n",
       "\t\"2001-02-02\"\n",
       "]"
      ]
     },
     "execution_count": 171,
     "metadata": {},
     "output_type": "execute_result"
    }
   ],
   "source": [
    "date.dt.strftime(\"%Y-%m-%d\")"
   ]
  },
  {
   "cell_type": "markdown",
   "id": "18e2c0d6",
   "metadata": {},
   "source": [
    "### Ecxtract Time Sub-Units\n"
   ]
  },
  {
   "cell_type": "code",
   "execution_count": 176,
   "id": "8c100f16",
   "metadata": {},
   "outputs": [
    {
     "data": {
      "text/html": [
       "<div>\n",
       "<style scoped>\n",
       "    .dataframe tbody tr th:only-of-type {\n",
       "        vertical-align: middle;\n",
       "    }\n",
       "\n",
       "    .dataframe tbody tr th {\n",
       "        vertical-align: top;\n",
       "    }\n",
       "\n",
       "    .dataframe thead th {\n",
       "        text-align: right;\n",
       "    }\n",
       "\n",
       "    .dataframe td {\n",
       "        white-space: pre;\n",
       "    }\n",
       "\n",
       "    .dataframe td {\n",
       "        padding-top: 0;\n",
       "    }\n",
       "\n",
       "    .dataframe td {\n",
       "        padding-bottom: 0;\n",
       "    }\n",
       "\n",
       "    .dataframe td {\n",
       "        line-height: 95%;\n",
       "    }\n",
       "</style>\n",
       "<table border=\"1\" class=\"dataframe\">\n",
       "<small>shape: (3,)</small>\n",
       "<thead>\n",
       "<tr>\n",
       "<th>\n",
       "\n",
       "</th>\n",
       "</tr>\n",
       "<tr>\n",
       "<td>\n",
       "u32\n",
       "</td>\n",
       "</tr>\n",
       "</thead>\n",
       "<tbody>\n",
       "<tr>\n",
       "<td>\n",
       "0\n",
       "</td>\n",
       "</tr>\n",
       "<tr>\n",
       "<td>\n",
       "20\n",
       "</td>\n",
       "</tr>\n",
       "<tr>\n",
       "<td>\n",
       "40\n",
       "</td>\n",
       "</tr>\n",
       "</tbody>\n",
       "</table>\n",
       "</div>"
      ],
      "text/plain": [
       "shape: (3,)\n",
       "Series: '' [u32]\n",
       "[\n",
       "\t0\n",
       "\t20\n",
       "\t40\n",
       "]"
      ]
     },
     "execution_count": 172,
     "metadata": {},
     "output_type": "execute_result"
    }
   ],
   "source": [
    "date.dt.second()"
   ]
  },
  {
   "cell_type": "code",
   "execution_count": 177,
   "id": "7cf182f5",
   "metadata": {},
   "outputs": [
    {
     "data": {
      "text/html": [
       "<div>\n",
       "<style scoped>\n",
       "    .dataframe tbody tr th:only-of-type {\n",
       "        vertical-align: middle;\n",
       "    }\n",
       "\n",
       "    .dataframe tbody tr th {\n",
       "        vertical-align: top;\n",
       "    }\n",
       "\n",
       "    .dataframe thead th {\n",
       "        text-align: right;\n",
       "    }\n",
       "\n",
       "    .dataframe td {\n",
       "        white-space: pre;\n",
       "    }\n",
       "\n",
       "    .dataframe td {\n",
       "        padding-top: 0;\n",
       "    }\n",
       "\n",
       "    .dataframe td {\n",
       "        padding-bottom: 0;\n",
       "    }\n",
       "\n",
       "    .dataframe td {\n",
       "        line-height: 95%;\n",
       "    }\n",
       "</style>\n",
       "<table border=\"1\" class=\"dataframe\">\n",
       "<small>shape: (3,)</small>\n",
       "<thead>\n",
       "<tr>\n",
       "<th>\n",
       "\n",
       "</th>\n",
       "</tr>\n",
       "<tr>\n",
       "<td>\n",
       "u32\n",
       "</td>\n",
       "</tr>\n",
       "</thead>\n",
       "<tbody>\n",
       "<tr>\n",
       "<td>\n",
       "0\n",
       "</td>\n",
       "</tr>\n",
       "<tr>\n",
       "<td>\n",
       "28\n",
       "</td>\n",
       "</tr>\n",
       "<tr>\n",
       "<td>\n",
       "56\n",
       "</td>\n",
       "</tr>\n",
       "</tbody>\n",
       "</table>\n",
       "</div>"
      ],
      "text/plain": [
       "shape: (3,)\n",
       "Series: '' [u32]\n",
       "[\n",
       "\t0\n",
       "\t28\n",
       "\t56\n",
       "]"
      ]
     },
     "execution_count": 173,
     "metadata": {},
     "output_type": "execute_result"
    }
   ],
   "source": [
    "date.dt.minute()"
   ]
  },
  {
   "cell_type": "code",
   "execution_count": 178,
   "id": "9f257658",
   "metadata": {},
   "outputs": [
    {
     "data": {
      "text/html": [
       "<div>\n",
       "<style scoped>\n",
       "    .dataframe tbody tr th:only-of-type {\n",
       "        vertical-align: middle;\n",
       "    }\n",
       "\n",
       "    .dataframe tbody tr th {\n",
       "        vertical-align: top;\n",
       "    }\n",
       "\n",
       "    .dataframe thead th {\n",
       "        text-align: right;\n",
       "    }\n",
       "\n",
       "    .dataframe td {\n",
       "        white-space: pre;\n",
       "    }\n",
       "\n",
       "    .dataframe td {\n",
       "        padding-top: 0;\n",
       "    }\n",
       "\n",
       "    .dataframe td {\n",
       "        padding-bottom: 0;\n",
       "    }\n",
       "\n",
       "    .dataframe td {\n",
       "        line-height: 95%;\n",
       "    }\n",
       "</style>\n",
       "<table border=\"1\" class=\"dataframe\">\n",
       "<small>shape: (3,)</small>\n",
       "<thead>\n",
       "<tr>\n",
       "<th>\n",
       "\n",
       "</th>\n",
       "</tr>\n",
       "<tr>\n",
       "<td>\n",
       "u32\n",
       "</td>\n",
       "</tr>\n",
       "</thead>\n",
       "<tbody>\n",
       "<tr>\n",
       "<td>\n",
       "0\n",
       "</td>\n",
       "</tr>\n",
       "<tr>\n",
       "<td>\n",
       "8\n",
       "</td>\n",
       "</tr>\n",
       "<tr>\n",
       "<td>\n",
       "16\n",
       "</td>\n",
       "</tr>\n",
       "</tbody>\n",
       "</table>\n",
       "</div>"
      ],
      "text/plain": [
       "shape: (3,)\n",
       "Series: '' [u32]\n",
       "[\n",
       "\t0\n",
       "\t8\n",
       "\t16\n",
       "]"
      ]
     },
     "execution_count": 174,
     "metadata": {},
     "output_type": "execute_result"
    }
   ],
   "source": [
    "date.dt.hour()"
   ]
  },
  {
   "cell_type": "code",
   "execution_count": 179,
   "id": "93b7b5a2",
   "metadata": {},
   "outputs": [
    {
     "data": {
      "text/html": [
       "<div>\n",
       "<style scoped>\n",
       "    .dataframe tbody tr th:only-of-type {\n",
       "        vertical-align: middle;\n",
       "    }\n",
       "\n",
       "    .dataframe tbody tr th {\n",
       "        vertical-align: top;\n",
       "    }\n",
       "\n",
       "    .dataframe thead th {\n",
       "        text-align: right;\n",
       "    }\n",
       "\n",
       "    .dataframe td {\n",
       "        white-space: pre;\n",
       "    }\n",
       "\n",
       "    .dataframe td {\n",
       "        padding-top: 0;\n",
       "    }\n",
       "\n",
       "    .dataframe td {\n",
       "        padding-bottom: 0;\n",
       "    }\n",
       "\n",
       "    .dataframe td {\n",
       "        line-height: 95%;\n",
       "    }\n",
       "</style>\n",
       "<table border=\"1\" class=\"dataframe\">\n",
       "<small>shape: (3,)</small>\n",
       "<thead>\n",
       "<tr>\n",
       "<th>\n",
       "\n",
       "</th>\n",
       "</tr>\n",
       "<tr>\n",
       "<td>\n",
       "u32\n",
       "</td>\n",
       "</tr>\n",
       "</thead>\n",
       "<tbody>\n",
       "<tr>\n",
       "<td>\n",
       "2\n",
       "</td>\n",
       "</tr>\n",
       "<tr>\n",
       "<td>\n",
       "2\n",
       "</td>\n",
       "</tr>\n",
       "<tr>\n",
       "<td>\n",
       "2\n",
       "</td>\n",
       "</tr>\n",
       "</tbody>\n",
       "</table>\n",
       "</div>"
      ],
      "text/plain": [
       "shape: (3,)\n",
       "Series: '' [u32]\n",
       "[\n",
       "\t2\n",
       "\t2\n",
       "\t2\n",
       "]"
      ]
     },
     "execution_count": 175,
     "metadata": {},
     "output_type": "execute_result"
    }
   ],
   "source": [
    "date.dt.day()"
   ]
  },
  {
   "cell_type": "code",
   "execution_count": 180,
   "id": "59c6ec01",
   "metadata": {},
   "outputs": [
    {
     "data": {
      "text/html": [
       "<div>\n",
       "<style scoped>\n",
       "    .dataframe tbody tr th:only-of-type {\n",
       "        vertical-align: middle;\n",
       "    }\n",
       "\n",
       "    .dataframe tbody tr th {\n",
       "        vertical-align: top;\n",
       "    }\n",
       "\n",
       "    .dataframe thead th {\n",
       "        text-align: right;\n",
       "    }\n",
       "\n",
       "    .dataframe td {\n",
       "        white-space: pre;\n",
       "    }\n",
       "\n",
       "    .dataframe td {\n",
       "        padding-top: 0;\n",
       "    }\n",
       "\n",
       "    .dataframe td {\n",
       "        padding-bottom: 0;\n",
       "    }\n",
       "\n",
       "    .dataframe td {\n",
       "        line-height: 95%;\n",
       "    }\n",
       "</style>\n",
       "<table border=\"1\" class=\"dataframe\">\n",
       "<small>shape: (3,)</small>\n",
       "<thead>\n",
       "<tr>\n",
       "<th>\n",
       "\n",
       "</th>\n",
       "</tr>\n",
       "<tr>\n",
       "<td>\n",
       "u32\n",
       "</td>\n",
       "</tr>\n",
       "</thead>\n",
       "<tbody>\n",
       "<tr>\n",
       "<td>\n",
       "5\n",
       "</td>\n",
       "</tr>\n",
       "<tr>\n",
       "<td>\n",
       "5\n",
       "</td>\n",
       "</tr>\n",
       "<tr>\n",
       "<td>\n",
       "5\n",
       "</td>\n",
       "</tr>\n",
       "</tbody>\n",
       "</table>\n",
       "</div>"
      ],
      "text/plain": [
       "shape: (3,)\n",
       "Series: '' [u32]\n",
       "[\n",
       "\t5\n",
       "\t5\n",
       "\t5\n",
       "]"
      ]
     },
     "execution_count": 176,
     "metadata": {},
     "output_type": "execute_result"
    }
   ],
   "source": [
    "date.dt.week()"
   ]
  },
  {
   "cell_type": "code",
   "execution_count": 181,
   "id": "2a2dd854",
   "metadata": {},
   "outputs": [
    {
     "data": {
      "text/html": [
       "<div>\n",
       "<style scoped>\n",
       "    .dataframe tbody tr th:only-of-type {\n",
       "        vertical-align: middle;\n",
       "    }\n",
       "\n",
       "    .dataframe tbody tr th {\n",
       "        vertical-align: top;\n",
       "    }\n",
       "\n",
       "    .dataframe thead th {\n",
       "        text-align: right;\n",
       "    }\n",
       "\n",
       "    .dataframe td {\n",
       "        white-space: pre;\n",
       "    }\n",
       "\n",
       "    .dataframe td {\n",
       "        padding-top: 0;\n",
       "    }\n",
       "\n",
       "    .dataframe td {\n",
       "        padding-bottom: 0;\n",
       "    }\n",
       "\n",
       "    .dataframe td {\n",
       "        line-height: 95%;\n",
       "    }\n",
       "</style>\n",
       "<table border=\"1\" class=\"dataframe\">\n",
       "<small>shape: (3,)</small>\n",
       "<thead>\n",
       "<tr>\n",
       "<th>\n",
       "\n",
       "</th>\n",
       "</tr>\n",
       "<tr>\n",
       "<td>\n",
       "u32\n",
       "</td>\n",
       "</tr>\n",
       "</thead>\n",
       "<tbody>\n",
       "<tr>\n",
       "<td>\n",
       "5\n",
       "</td>\n",
       "</tr>\n",
       "<tr>\n",
       "<td>\n",
       "5\n",
       "</td>\n",
       "</tr>\n",
       "<tr>\n",
       "<td>\n",
       "5\n",
       "</td>\n",
       "</tr>\n",
       "</tbody>\n",
       "</table>\n",
       "</div>"
      ],
      "text/plain": [
       "shape: (3,)\n",
       "Series: '' [u32]\n",
       "[\n",
       "\t5\n",
       "\t5\n",
       "\t5\n",
       "]"
      ]
     },
     "execution_count": 177,
     "metadata": {},
     "output_type": "execute_result"
    }
   ],
   "source": [
    "date.dt.weekday()"
   ]
  },
  {
   "cell_type": "code",
   "execution_count": 182,
   "id": "87b86484",
   "metadata": {},
   "outputs": [
    {
     "data": {
      "text/html": [
       "<div>\n",
       "<style scoped>\n",
       "    .dataframe tbody tr th:only-of-type {\n",
       "        vertical-align: middle;\n",
       "    }\n",
       "\n",
       "    .dataframe tbody tr th {\n",
       "        vertical-align: top;\n",
       "    }\n",
       "\n",
       "    .dataframe thead th {\n",
       "        text-align: right;\n",
       "    }\n",
       "\n",
       "    .dataframe td {\n",
       "        white-space: pre;\n",
       "    }\n",
       "\n",
       "    .dataframe td {\n",
       "        padding-top: 0;\n",
       "    }\n",
       "\n",
       "    .dataframe td {\n",
       "        padding-bottom: 0;\n",
       "    }\n",
       "\n",
       "    .dataframe td {\n",
       "        line-height: 95%;\n",
       "    }\n",
       "</style>\n",
       "<table border=\"1\" class=\"dataframe\">\n",
       "<small>shape: (3,)</small>\n",
       "<thead>\n",
       "<tr>\n",
       "<th>\n",
       "\n",
       "</th>\n",
       "</tr>\n",
       "<tr>\n",
       "<td>\n",
       "u32\n",
       "</td>\n",
       "</tr>\n",
       "</thead>\n",
       "<tbody>\n",
       "<tr>\n",
       "<td>\n",
       "2\n",
       "</td>\n",
       "</tr>\n",
       "<tr>\n",
       "<td>\n",
       "2\n",
       "</td>\n",
       "</tr>\n",
       "<tr>\n",
       "<td>\n",
       "2\n",
       "</td>\n",
       "</tr>\n",
       "</tbody>\n",
       "</table>\n",
       "</div>"
      ],
      "text/plain": [
       "shape: (3,)\n",
       "Series: '' [u32]\n",
       "[\n",
       "\t2\n",
       "\t2\n",
       "\t2\n",
       "]"
      ]
     },
     "execution_count": 178,
     "metadata": {},
     "output_type": "execute_result"
    }
   ],
   "source": [
    "date.dt.month()"
   ]
  },
  {
   "cell_type": "code",
   "execution_count": 183,
   "id": "d1d43ef8",
   "metadata": {},
   "outputs": [
    {
     "data": {
      "text/html": [
       "<div>\n",
       "<style scoped>\n",
       "    .dataframe tbody tr th:only-of-type {\n",
       "        vertical-align: middle;\n",
       "    }\n",
       "\n",
       "    .dataframe tbody tr th {\n",
       "        vertical-align: top;\n",
       "    }\n",
       "\n",
       "    .dataframe thead th {\n",
       "        text-align: right;\n",
       "    }\n",
       "\n",
       "    .dataframe td {\n",
       "        white-space: pre;\n",
       "    }\n",
       "\n",
       "    .dataframe td {\n",
       "        padding-top: 0;\n",
       "    }\n",
       "\n",
       "    .dataframe td {\n",
       "        padding-bottom: 0;\n",
       "    }\n",
       "\n",
       "    .dataframe td {\n",
       "        line-height: 95%;\n",
       "    }\n",
       "</style>\n",
       "<table border=\"1\" class=\"dataframe\">\n",
       "<small>shape: (3,)</small>\n",
       "<thead>\n",
       "<tr>\n",
       "<th>\n",
       "\n",
       "</th>\n",
       "</tr>\n",
       "<tr>\n",
       "<td>\n",
       "i32\n",
       "</td>\n",
       "</tr>\n",
       "</thead>\n",
       "<tbody>\n",
       "<tr>\n",
       "<td>\n",
       "2001\n",
       "</td>\n",
       "</tr>\n",
       "<tr>\n",
       "<td>\n",
       "2001\n",
       "</td>\n",
       "</tr>\n",
       "<tr>\n",
       "<td>\n",
       "2001\n",
       "</td>\n",
       "</tr>\n",
       "</tbody>\n",
       "</table>\n",
       "</div>"
      ],
      "text/plain": [
       "shape: (3,)\n",
       "Series: '' [i32]\n",
       "[\n",
       "\t2001\n",
       "\t2001\n",
       "\t2001\n",
       "]"
      ]
     },
     "execution_count": 179,
     "metadata": {},
     "output_type": "execute_result"
    }
   ],
   "source": [
    "date.dt.year()"
   ]
  },
  {
   "cell_type": "code",
   "execution_count": 184,
   "id": "0e33f9fe",
   "metadata": {},
   "outputs": [
    {
     "data": {
      "text/html": [
       "<div>\n",
       "<style scoped>\n",
       "    .dataframe tbody tr th:only-of-type {\n",
       "        vertical-align: middle;\n",
       "    }\n",
       "\n",
       "    .dataframe tbody tr th {\n",
       "        vertical-align: top;\n",
       "    }\n",
       "\n",
       "    .dataframe thead th {\n",
       "        text-align: right;\n",
       "    }\n",
       "\n",
       "    .dataframe td {\n",
       "        white-space: pre;\n",
       "    }\n",
       "\n",
       "    .dataframe td {\n",
       "        padding-top: 0;\n",
       "    }\n",
       "\n",
       "    .dataframe td {\n",
       "        padding-bottom: 0;\n",
       "    }\n",
       "\n",
       "    .dataframe td {\n",
       "        line-height: 95%;\n",
       "    }\n",
       "</style>\n",
       "<table border=\"1\" class=\"dataframe\">\n",
       "<small>shape: (3,)</small>\n",
       "<thead>\n",
       "<tr>\n",
       "<th>\n",
       "\n",
       "</th>\n",
       "</tr>\n",
       "<tr>\n",
       "<td>\n",
       "u32\n",
       "</td>\n",
       "</tr>\n",
       "</thead>\n",
       "<tbody>\n",
       "<tr>\n",
       "<td>\n",
       "33\n",
       "</td>\n",
       "</tr>\n",
       "<tr>\n",
       "<td>\n",
       "33\n",
       "</td>\n",
       "</tr>\n",
       "<tr>\n",
       "<td>\n",
       "33\n",
       "</td>\n",
       "</tr>\n",
       "</tbody>\n",
       "</table>\n",
       "</div>"
      ],
      "text/plain": [
       "shape: (3,)\n",
       "Series: '' [u32]\n",
       "[\n",
       "\t33\n",
       "\t33\n",
       "\t33\n",
       "]"
      ]
     },
     "execution_count": 180,
     "metadata": {},
     "output_type": "execute_result"
    }
   ],
   "source": [
    "date.dt.ordinal_day() # day in year"
   ]
  },
  {
   "cell_type": "code",
   "execution_count": 185,
   "id": "da7eba2b",
   "metadata": {},
   "outputs": [
    {
     "data": {
      "text/html": [
       "<div>\n",
       "<style scoped>\n",
       "    .dataframe tbody tr th:only-of-type {\n",
       "        vertical-align: middle;\n",
       "    }\n",
       "\n",
       "    .dataframe tbody tr th {\n",
       "        vertical-align: top;\n",
       "    }\n",
       "\n",
       "    .dataframe thead th {\n",
       "        text-align: right;\n",
       "    }\n",
       "\n",
       "    .dataframe td {\n",
       "        white-space: pre;\n",
       "    }\n",
       "\n",
       "    .dataframe td {\n",
       "        padding-top: 0;\n",
       "    }\n",
       "\n",
       "    .dataframe td {\n",
       "        padding-bottom: 0;\n",
       "    }\n",
       "\n",
       "    .dataframe td {\n",
       "        line-height: 95%;\n",
       "    }\n",
       "</style>\n",
       "<table border=\"1\" class=\"dataframe\">\n",
       "<small>shape: (3,)</small>\n",
       "<thead>\n",
       "<tr>\n",
       "<th>\n",
       "\n",
       "</th>\n",
       "</tr>\n",
       "<tr>\n",
       "<td>\n",
       "u32\n",
       "</td>\n",
       "</tr>\n",
       "</thead>\n",
       "<tbody>\n",
       "<tr>\n",
       "<td>\n",
       "1\n",
       "</td>\n",
       "</tr>\n",
       "<tr>\n",
       "<td>\n",
       "1\n",
       "</td>\n",
       "</tr>\n",
       "<tr>\n",
       "<td>\n",
       "1\n",
       "</td>\n",
       "</tr>\n",
       "</tbody>\n",
       "</table>\n",
       "</div>"
      ],
      "text/plain": [
       "shape: (3,)\n",
       "Series: '' [u32]\n",
       "[\n",
       "\t1\n",
       "\t1\n",
       "\t1\n",
       "]"
      ]
     },
     "execution_count": 181,
     "metadata": {},
     "output_type": "execute_result"
    }
   ],
   "source": [
    "date.dt.quarter()"
   ]
  },
  {
   "cell_type": "markdown",
   "id": "3052a9c2",
   "metadata": {},
   "source": [
    "### Durations \n",
    "\n",
    "Equivalent to Pandas `period` dtype.\n"
   ]
  },
  {
   "cell_type": "code",
   "execution_count": 186,
   "id": "595fc79c",
   "metadata": {},
   "outputs": [
    {
     "data": {
      "text/html": [
       "<div>\n",
       "<style scoped>\n",
       "    .dataframe tbody tr th:only-of-type {\n",
       "        vertical-align: middle;\n",
       "    }\n",
       "\n",
       "    .dataframe tbody tr th {\n",
       "        vertical-align: top;\n",
       "    }\n",
       "\n",
       "    .dataframe thead th {\n",
       "        text-align: right;\n",
       "    }\n",
       "\n",
       "    .dataframe td {\n",
       "        white-space: pre;\n",
       "    }\n",
       "\n",
       "    .dataframe td {\n",
       "        padding-top: 0;\n",
       "    }\n",
       "\n",
       "    .dataframe td {\n",
       "        padding-bottom: 0;\n",
       "    }\n",
       "\n",
       "    .dataframe td {\n",
       "        line-height: 95%;\n",
       "    }\n",
       "</style>\n",
       "<table border=\"1\" class=\"dataframe\">\n",
       "<small>shape: (3,)</small>\n",
       "<thead>\n",
       "<tr>\n",
       "<th>\n",
       "\n",
       "</th>\n",
       "</tr>\n",
       "<tr>\n",
       "<td>\n",
       "duration[μs]\n",
       "</td>\n",
       "</tr>\n",
       "</thead>\n",
       "<tbody>\n",
       "<tr>\n",
       "<td>\n",
       "null\n",
       "</td>\n",
       "</tr>\n",
       "<tr>\n",
       "<td>\n",
       "8h 28m 20s\n",
       "</td>\n",
       "</tr>\n",
       "<tr>\n",
       "<td>\n",
       "8h 28m 20s\n",
       "</td>\n",
       "</tr>\n",
       "</tbody>\n",
       "</table>\n",
       "</div>"
      ],
      "text/plain": [
       "shape: (3,)\n",
       "Series: '' [duration[μs]]\n",
       "[\n",
       "\tnull\n",
       "\t8h 28m 20s\n",
       "\t8h 28m 20s\n",
       "]"
      ]
     },
     "execution_count": 182,
     "metadata": {},
     "output_type": "execute_result"
    }
   ],
   "source": [
    "diffs = date.diff()\n",
    "diffs"
   ]
  },
  {
   "cell_type": "code",
   "execution_count": 187,
   "id": "caf0bd64",
   "metadata": {},
   "outputs": [
    {
     "data": {
      "text/plain": [
       "Duration(tu='us')"
      ]
     },
     "execution_count": 183,
     "metadata": {},
     "output_type": "execute_result"
    }
   ],
   "source": [
    "diffs.dtype"
   ]
  },
  {
   "cell_type": "code",
   "execution_count": 188,
   "id": "e10c713c",
   "metadata": {},
   "outputs": [
    {
     "data": {
      "text/html": [
       "<div>\n",
       "<style scoped>\n",
       "    .dataframe tbody tr th:only-of-type {\n",
       "        vertical-align: middle;\n",
       "    }\n",
       "\n",
       "    .dataframe tbody tr th {\n",
       "        vertical-align: top;\n",
       "    }\n",
       "\n",
       "    .dataframe thead th {\n",
       "        text-align: right;\n",
       "    }\n",
       "\n",
       "    .dataframe td {\n",
       "        white-space: pre;\n",
       "    }\n",
       "\n",
       "    .dataframe td {\n",
       "        padding-top: 0;\n",
       "    }\n",
       "\n",
       "    .dataframe td {\n",
       "        padding-bottom: 0;\n",
       "    }\n",
       "\n",
       "    .dataframe td {\n",
       "        line-height: 95%;\n",
       "    }\n",
       "</style>\n",
       "<table border=\"1\" class=\"dataframe\">\n",
       "<small>shape: (3,)</small>\n",
       "<thead>\n",
       "<tr>\n",
       "<th>\n",
       "\n",
       "</th>\n",
       "</tr>\n",
       "<tr>\n",
       "<td>\n",
       "i64\n",
       "</td>\n",
       "</tr>\n",
       "</thead>\n",
       "<tbody>\n",
       "<tr>\n",
       "<td>\n",
       "null\n",
       "</td>\n",
       "</tr>\n",
       "<tr>\n",
       "<td>\n",
       "30500\n",
       "</td>\n",
       "</tr>\n",
       "<tr>\n",
       "<td>\n",
       "30500\n",
       "</td>\n",
       "</tr>\n",
       "</tbody>\n",
       "</table>\n",
       "</div>"
      ],
      "text/plain": [
       "shape: (3,)\n",
       "Series: '' [i64]\n",
       "[\n",
       "\tnull\n",
       "\t30500\n",
       "\t30500\n",
       "]"
      ]
     },
     "execution_count": 184,
     "metadata": {},
     "output_type": "execute_result"
    }
   ],
   "source": [
    "diffs.dt.seconds()"
   ]
  },
  {
   "cell_type": "code",
   "execution_count": 189,
   "id": "b0a1f180",
   "metadata": {},
   "outputs": [
    {
     "data": {
      "text/html": [
       "<div>\n",
       "<style scoped>\n",
       "    .dataframe tbody tr th:only-of-type {\n",
       "        vertical-align: middle;\n",
       "    }\n",
       "\n",
       "    .dataframe tbody tr th {\n",
       "        vertical-align: top;\n",
       "    }\n",
       "\n",
       "    .dataframe thead th {\n",
       "        text-align: right;\n",
       "    }\n",
       "\n",
       "    .dataframe td {\n",
       "        white-space: pre;\n",
       "    }\n",
       "\n",
       "    .dataframe td {\n",
       "        padding-top: 0;\n",
       "    }\n",
       "\n",
       "    .dataframe td {\n",
       "        padding-bottom: 0;\n",
       "    }\n",
       "\n",
       "    .dataframe td {\n",
       "        line-height: 95%;\n",
       "    }\n",
       "</style>\n",
       "<table border=\"1\" class=\"dataframe\">\n",
       "<small>shape: (3,)</small>\n",
       "<thead>\n",
       "<tr>\n",
       "<th>\n",
       "\n",
       "</th>\n",
       "</tr>\n",
       "<tr>\n",
       "<td>\n",
       "i64\n",
       "</td>\n",
       "</tr>\n",
       "</thead>\n",
       "<tbody>\n",
       "<tr>\n",
       "<td>\n",
       "null\n",
       "</td>\n",
       "</tr>\n",
       "<tr>\n",
       "<td>\n",
       "508\n",
       "</td>\n",
       "</tr>\n",
       "<tr>\n",
       "<td>\n",
       "508\n",
       "</td>\n",
       "</tr>\n",
       "</tbody>\n",
       "</table>\n",
       "</div>"
      ],
      "text/plain": [
       "shape: (3,)\n",
       "Series: '' [i64]\n",
       "[\n",
       "\tnull\n",
       "\t508\n",
       "\t508\n",
       "]"
      ]
     },
     "execution_count": 185,
     "metadata": {},
     "output_type": "execute_result"
    }
   ],
   "source": [
    "diffs.dt.minutes()"
   ]
  },
  {
   "cell_type": "code",
   "execution_count": 190,
   "id": "96df9d65",
   "metadata": {},
   "outputs": [
    {
     "data": {
      "text/html": [
       "<div>\n",
       "<style scoped>\n",
       "    .dataframe tbody tr th:only-of-type {\n",
       "        vertical-align: middle;\n",
       "    }\n",
       "\n",
       "    .dataframe tbody tr th {\n",
       "        vertical-align: top;\n",
       "    }\n",
       "\n",
       "    .dataframe thead th {\n",
       "        text-align: right;\n",
       "    }\n",
       "\n",
       "    .dataframe td {\n",
       "        white-space: pre;\n",
       "    }\n",
       "\n",
       "    .dataframe td {\n",
       "        padding-top: 0;\n",
       "    }\n",
       "\n",
       "    .dataframe td {\n",
       "        padding-bottom: 0;\n",
       "    }\n",
       "\n",
       "    .dataframe td {\n",
       "        line-height: 95%;\n",
       "    }\n",
       "</style>\n",
       "<table border=\"1\" class=\"dataframe\">\n",
       "<small>shape: (3,)</small>\n",
       "<thead>\n",
       "<tr>\n",
       "<th>\n",
       "\n",
       "</th>\n",
       "</tr>\n",
       "<tr>\n",
       "<td>\n",
       "i64\n",
       "</td>\n",
       "</tr>\n",
       "</thead>\n",
       "<tbody>\n",
       "<tr>\n",
       "<td>\n",
       "null\n",
       "</td>\n",
       "</tr>\n",
       "<tr>\n",
       "<td>\n",
       "0\n",
       "</td>\n",
       "</tr>\n",
       "<tr>\n",
       "<td>\n",
       "0\n",
       "</td>\n",
       "</tr>\n",
       "</tbody>\n",
       "</table>\n",
       "</div>"
      ],
      "text/plain": [
       "shape: (3,)\n",
       "Series: '' [i64]\n",
       "[\n",
       "\tnull\n",
       "\t0\n",
       "\t0\n",
       "]"
      ]
     },
     "execution_count": 186,
     "metadata": {},
     "output_type": "execute_result"
    }
   ],
   "source": [
    "diffs.dt.days()"
   ]
  },
  {
   "cell_type": "code",
   "execution_count": 191,
   "id": "67836bfd",
   "metadata": {},
   "outputs": [
    {
     "data": {
      "text/html": [
       "<div>\n",
       "<style scoped>\n",
       "    .dataframe tbody tr th:only-of-type {\n",
       "        vertical-align: middle;\n",
       "    }\n",
       "\n",
       "    .dataframe tbody tr th {\n",
       "        vertical-align: top;\n",
       "    }\n",
       "\n",
       "    .dataframe thead th {\n",
       "        text-align: right;\n",
       "    }\n",
       "\n",
       "    .dataframe td {\n",
       "        white-space: pre;\n",
       "    }\n",
       "\n",
       "    .dataframe td {\n",
       "        padding-top: 0;\n",
       "    }\n",
       "\n",
       "    .dataframe td {\n",
       "        padding-bottom: 0;\n",
       "    }\n",
       "\n",
       "    .dataframe td {\n",
       "        line-height: 95%;\n",
       "    }\n",
       "</style>\n",
       "<table border=\"1\" class=\"dataframe\">\n",
       "<small>shape: (3,)</small>\n",
       "<thead>\n",
       "<tr>\n",
       "<th>\n",
       "\n",
       "</th>\n",
       "</tr>\n",
       "<tr>\n",
       "<td>\n",
       "i64\n",
       "</td>\n",
       "</tr>\n",
       "</thead>\n",
       "<tbody>\n",
       "<tr>\n",
       "<td>\n",
       "null\n",
       "</td>\n",
       "</tr>\n",
       "<tr>\n",
       "<td>\n",
       "8\n",
       "</td>\n",
       "</tr>\n",
       "<tr>\n",
       "<td>\n",
       "8\n",
       "</td>\n",
       "</tr>\n",
       "</tbody>\n",
       "</table>\n",
       "</div>"
      ],
      "text/plain": [
       "shape: (3,)\n",
       "Series: '' [i64]\n",
       "[\n",
       "\tnull\n",
       "\t8\n",
       "\t8\n",
       "]"
      ]
     },
     "execution_count": 187,
     "metadata": {},
     "output_type": "execute_result"
    }
   ],
   "source": [
    "diffs.dt.hours()"
   ]
  },
  {
   "cell_type": "markdown",
   "id": "90c3f4be",
   "metadata": {},
   "source": [
    "### Date Aggregations\n",
    "Note that aggregating dates, returns a `datetime` type object. \n"
   ]
  },
  {
   "cell_type": "code",
   "execution_count": 192,
   "id": "c09c2859",
   "metadata": {},
   "outputs": [
    {
     "data": {
      "text/plain": [
       "datetime.datetime(2001, 2, 2, 16, 56, 40)"
      ]
     },
     "execution_count": 188,
     "metadata": {},
     "output_type": "execute_result"
    }
   ],
   "source": [
    "date.dt.max()"
   ]
  },
  {
   "cell_type": "code",
   "execution_count": 193,
   "id": "e22441ed",
   "metadata": {},
   "outputs": [
    {
     "data": {
      "text/plain": [
       "datetime.datetime(2001, 2, 2, 0, 0)"
      ]
     },
     "execution_count": 189,
     "metadata": {},
     "output_type": "execute_result"
    }
   ],
   "source": [
    "date.dt.min()"
   ]
  },
  {
   "cell_type": "markdown",
   "id": "30d5cae2",
   "metadata": {},
   "source": [
    "I have no idea what is an \"average date\", but it can be computed."
   ]
  },
  {
   "cell_type": "code",
   "execution_count": 194,
   "id": "89f8c0ac",
   "metadata": {},
   "outputs": [
    {
     "data": {
      "text/plain": [
       "datetime.datetime(2001, 2, 2, 8, 28, 20)"
      ]
     },
     "execution_count": 190,
     "metadata": {},
     "output_type": "execute_result"
    }
   ],
   "source": [
    "date.dt.mean()"
   ]
  },
  {
   "cell_type": "code",
   "execution_count": 195,
   "id": "21568d5e",
   "metadata": {},
   "outputs": [
    {
     "data": {
      "text/plain": [
       "datetime.datetime(2001, 2, 2, 8, 28, 20)"
      ]
     },
     "execution_count": 191,
     "metadata": {},
     "output_type": "execute_result"
    }
   ],
   "source": [
    "date.dt.median()"
   ]
  },
  {
   "cell_type": "markdown",
   "id": "ea0e6bd0",
   "metadata": {},
   "source": [
    "### Data Transformations\n",
    "\n",
    "Notice the syntax of `offset_by`. It is similar to R's `lubridate` package."
   ]
  },
  {
   "cell_type": "code",
   "execution_count": 196,
   "id": "48254d01",
   "metadata": {},
   "outputs": [
    {
     "data": {
      "text/html": [
       "<div>\n",
       "<style scoped>\n",
       "    .dataframe tbody tr th:only-of-type {\n",
       "        vertical-align: middle;\n",
       "    }\n",
       "\n",
       "    .dataframe tbody tr th {\n",
       "        vertical-align: top;\n",
       "    }\n",
       "\n",
       "    .dataframe thead th {\n",
       "        text-align: right;\n",
       "    }\n",
       "\n",
       "    .dataframe td {\n",
       "        white-space: pre;\n",
       "    }\n",
       "\n",
       "    .dataframe td {\n",
       "        padding-top: 0;\n",
       "    }\n",
       "\n",
       "    .dataframe td {\n",
       "        padding-bottom: 0;\n",
       "    }\n",
       "\n",
       "    .dataframe td {\n",
       "        line-height: 95%;\n",
       "    }\n",
       "</style>\n",
       "<table border=\"1\" class=\"dataframe\">\n",
       "<small>shape: (3,)</small>\n",
       "<thead>\n",
       "<tr>\n",
       "<th>\n",
       "\n",
       "</th>\n",
       "</tr>\n",
       "<tr>\n",
       "<td>\n",
       "datetime[μs]\n",
       "</td>\n",
       "</tr>\n",
       "</thead>\n",
       "<tbody>\n",
       "<tr>\n",
       "<td>\n",
       "2002-02-22 00:02:00\n",
       "</td>\n",
       "</tr>\n",
       "<tr>\n",
       "<td>\n",
       "2002-02-22 08:30:20\n",
       "</td>\n",
       "</tr>\n",
       "<tr>\n",
       "<td>\n",
       "2002-02-22 16:58:40\n",
       "</td>\n",
       "</tr>\n",
       "</tbody>\n",
       "</table>\n",
       "</div>"
      ],
      "text/plain": [
       "shape: (3,)\n",
       "Series: '' [datetime[μs]]\n",
       "[\n",
       "\t2002-02-22 00:02:00\n",
       "\t2002-02-22 08:30:20\n",
       "\t2002-02-22 16:58:40\n",
       "]"
      ]
     },
     "execution_count": 192,
     "metadata": {},
     "output_type": "execute_result"
    }
   ],
   "source": [
    "date.dt.offset_by(by=\"1y2m20d\")"
   ]
  },
  {
   "cell_type": "markdown",
   "id": "07fa84c4",
   "metadata": {},
   "source": [
    "Nagative offset is also allowed."
   ]
  },
  {
   "cell_type": "code",
   "execution_count": 197,
   "id": "05b8b0e0",
   "metadata": {},
   "outputs": [
    {
     "data": {
      "text/html": [
       "<div>\n",
       "<style scoped>\n",
       "    .dataframe tbody tr th:only-of-type {\n",
       "        vertical-align: middle;\n",
       "    }\n",
       "\n",
       "    .dataframe tbody tr th {\n",
       "        vertical-align: top;\n",
       "    }\n",
       "\n",
       "    .dataframe thead th {\n",
       "        text-align: right;\n",
       "    }\n",
       "\n",
       "    .dataframe td {\n",
       "        white-space: pre;\n",
       "    }\n",
       "\n",
       "    .dataframe td {\n",
       "        padding-top: 0;\n",
       "    }\n",
       "\n",
       "    .dataframe td {\n",
       "        padding-bottom: 0;\n",
       "    }\n",
       "\n",
       "    .dataframe td {\n",
       "        line-height: 95%;\n",
       "    }\n",
       "</style>\n",
       "<table border=\"1\" class=\"dataframe\">\n",
       "<small>shape: (3,)</small>\n",
       "<thead>\n",
       "<tr>\n",
       "<th>\n",
       "\n",
       "</th>\n",
       "</tr>\n",
       "<tr>\n",
       "<td>\n",
       "datetime[μs]\n",
       "</td>\n",
       "</tr>\n",
       "</thead>\n",
       "<tbody>\n",
       "<tr>\n",
       "<td>\n",
       "2000-01-12 23:58:00\n",
       "</td>\n",
       "</tr>\n",
       "<tr>\n",
       "<td>\n",
       "2000-01-13 08:26:20\n",
       "</td>\n",
       "</tr>\n",
       "<tr>\n",
       "<td>\n",
       "2000-01-13 16:54:40\n",
       "</td>\n",
       "</tr>\n",
       "</tbody>\n",
       "</table>\n",
       "</div>"
      ],
      "text/plain": [
       "shape: (3,)\n",
       "Series: '' [datetime[μs]]\n",
       "[\n",
       "\t2000-01-12 23:58:00\n",
       "\t2000-01-13 08:26:20\n",
       "\t2000-01-13 16:54:40\n",
       "]"
      ]
     },
     "execution_count": 193,
     "metadata": {},
     "output_type": "execute_result"
    }
   ],
   "source": [
    "date.dt.offset_by(by=\"-1y2m20d\")"
   ]
  },
  {
   "cell_type": "code",
   "execution_count": 198,
   "id": "90fd076a",
   "metadata": {},
   "outputs": [
    {
     "data": {
      "text/html": [
       "<div>\n",
       "<style scoped>\n",
       "    .dataframe tbody tr th:only-of-type {\n",
       "        vertical-align: middle;\n",
       "    }\n",
       "\n",
       "    .dataframe tbody tr th {\n",
       "        vertical-align: top;\n",
       "    }\n",
       "\n",
       "    .dataframe thead th {\n",
       "        text-align: right;\n",
       "    }\n",
       "\n",
       "    .dataframe td {\n",
       "        white-space: pre;\n",
       "    }\n",
       "\n",
       "    .dataframe td {\n",
       "        padding-top: 0;\n",
       "    }\n",
       "\n",
       "    .dataframe td {\n",
       "        padding-bottom: 0;\n",
       "    }\n",
       "\n",
       "    .dataframe td {\n",
       "        line-height: 95%;\n",
       "    }\n",
       "</style>\n",
       "<table border=\"1\" class=\"dataframe\">\n",
       "<small>shape: (3,)</small>\n",
       "<thead>\n",
       "<tr>\n",
       "<th>\n",
       "\n",
       "</th>\n",
       "</tr>\n",
       "<tr>\n",
       "<td>\n",
       "datetime[μs]\n",
       "</td>\n",
       "</tr>\n",
       "</thead>\n",
       "<tbody>\n",
       "<tr>\n",
       "<td>\n",
       "2001-01-01 00:00:00\n",
       "</td>\n",
       "</tr>\n",
       "<tr>\n",
       "<td>\n",
       "2001-01-01 00:00:00\n",
       "</td>\n",
       "</tr>\n",
       "<tr>\n",
       "<td>\n",
       "2001-01-01 00:00:00\n",
       "</td>\n",
       "</tr>\n",
       "</tbody>\n",
       "</table>\n",
       "</div>"
      ],
      "text/plain": [
       "shape: (3,)\n",
       "Series: '' [datetime[μs]]\n",
       "[\n",
       "\t2001-01-01 00:00:00\n",
       "\t2001-01-01 00:00:00\n",
       "\t2001-01-01 00:00:00\n",
       "]"
      ]
     },
     "execution_count": 194,
     "metadata": {},
     "output_type": "execute_result"
    }
   ],
   "source": [
    "date.dt.round(\"1y\")"
   ]
  },
  {
   "cell_type": "code",
   "execution_count": 199,
   "id": "3075a9ef",
   "metadata": {},
   "outputs": [
    {
     "data": {
      "text/html": [
       "<div>\n",
       "<style scoped>\n",
       "    .dataframe tbody tr th:only-of-type {\n",
       "        vertical-align: middle;\n",
       "    }\n",
       "\n",
       "    .dataframe tbody tr th {\n",
       "        vertical-align: top;\n",
       "    }\n",
       "\n",
       "    .dataframe thead th {\n",
       "        text-align: right;\n",
       "    }\n",
       "</style>\n",
       "<table border=\"1\" class=\"dataframe\">\n",
       "  <thead>\n",
       "    <tr style=\"text-align: right;\">\n",
       "      <th>col_0</th>\n",
       "      <th>2001-02-02 00:00:00</th>\n",
       "      <th>2001-02-02 08:00:00</th>\n",
       "      <th>2001-02-02 16:30:00</th>\n",
       "    </tr>\n",
       "    <tr>\n",
       "      <th>row_0</th>\n",
       "      <th></th>\n",
       "      <th></th>\n",
       "      <th></th>\n",
       "    </tr>\n",
       "  </thead>\n",
       "  <tbody>\n",
       "    <tr>\n",
       "      <th>2001-02-02 00:00:00</th>\n",
       "      <td>1</td>\n",
       "      <td>0</td>\n",
       "      <td>0</td>\n",
       "    </tr>\n",
       "    <tr>\n",
       "      <th>2001-02-02 08:28:20</th>\n",
       "      <td>0</td>\n",
       "      <td>1</td>\n",
       "      <td>0</td>\n",
       "    </tr>\n",
       "    <tr>\n",
       "      <th>2001-02-02 16:56:40</th>\n",
       "      <td>0</td>\n",
       "      <td>0</td>\n",
       "      <td>1</td>\n",
       "    </tr>\n",
       "  </tbody>\n",
       "</table>\n",
       "</div>"
      ],
      "text/plain": [
       "col_0                2001-02-02 00:00:00  2001-02-02 08:00:00  \\\n",
       "row_0                                                           \n",
       "2001-02-02 00:00:00                    1                    0   \n",
       "2001-02-02 08:28:20                    0                    1   \n",
       "2001-02-02 16:56:40                    0                    0   \n",
       "\n",
       "col_0                2001-02-02 16:30:00  \n",
       "row_0                                     \n",
       "2001-02-02 00:00:00                    0  \n",
       "2001-02-02 08:28:20                    0  \n",
       "2001-02-02 16:56:40                    1  "
      ]
     },
     "execution_count": 195,
     "metadata": {},
     "output_type": "execute_result"
    }
   ],
   "source": [
    "date2 = date.dt.truncate(\"30m\") # round to period\n",
    "pd.crosstab(date,date2)"
   ]
  },
  {
   "cell_type": "markdown",
   "id": "c2482933",
   "metadata": {},
   "source": [
    "## Comparing Series "
   ]
  },
  {
   "cell_type": "code",
   "execution_count": 200,
   "id": "6d19c678",
   "metadata": {},
   "outputs": [
    {
     "data": {
      "text/plain": [
       "True"
      ]
     },
     "execution_count": 196,
     "metadata": {},
     "output_type": "execute_result"
    }
   ],
   "source": [
    "s.series_equal(pl.Series(\"a\", [1, 2, 3]))"
   ]
  },
  {
   "cell_type": "markdown",
   "id": "258ec04e",
   "metadata": {},
   "source": [
    "# DataFrames\n",
    "\n",
    "General:\n",
    "\n",
    "1. There is no row index (like R's `data.frame`, `data.table`, and `tibble`; unlike Python's `pandas`). \n",
    "1. Will not accept duplicat column names (unlike pandas).\n",
    "\n",
    "\n",
    "## DataFrame-Object Hosekeeping\n",
    "\n",
    "A frame can be created as you would expect. \n",
    "From a dictionary of series, a numpy array, a pandas sdataframe, or a list of polars (or pandas) series, etc.\n"
   ]
  },
  {
   "cell_type": "code",
   "execution_count": 201,
   "id": "33296f80",
   "metadata": {},
   "outputs": [
    {
     "data": {
      "text/html": [
       "<div>\n",
       "<style scoped>\n",
       "    .dataframe tbody tr th:only-of-type {\n",
       "        vertical-align: middle;\n",
       "    }\n",
       "\n",
       "    .dataframe tbody tr th {\n",
       "        vertical-align: top;\n",
       "    }\n",
       "\n",
       "    .dataframe thead th {\n",
       "        text-align: right;\n",
       "    }\n",
       "\n",
       "    .dataframe td {\n",
       "        white-space: pre;\n",
       "    }\n",
       "\n",
       "    .dataframe td {\n",
       "        padding-top: 0;\n",
       "    }\n",
       "\n",
       "    .dataframe td {\n",
       "        padding-bottom: 0;\n",
       "    }\n",
       "\n",
       "    .dataframe td {\n",
       "        line-height: 95%;\n",
       "    }\n",
       "</style>\n",
       "<table border=\"1\" class=\"dataframe\">\n",
       "<small>shape: (3, 4)</small>\n",
       "<thead>\n",
       "<tr>\n",
       "<th>\n",
       "integer\n",
       "</th>\n",
       "<th>\n",
       "date\n",
       "</th>\n",
       "<th>\n",
       "float\n",
       "</th>\n",
       "<th>\n",
       "string\n",
       "</th>\n",
       "</tr>\n",
       "<tr>\n",
       "<td>\n",
       "i64\n",
       "</td>\n",
       "<td>\n",
       "datetime[μs]\n",
       "</td>\n",
       "<td>\n",
       "f64\n",
       "</td>\n",
       "<td>\n",
       "str\n",
       "</td>\n",
       "</tr>\n",
       "</thead>\n",
       "<tbody>\n",
       "<tr>\n",
       "<td>\n",
       "1\n",
       "</td>\n",
       "<td>\n",
       "2022-01-01 00:00:00\n",
       "</td>\n",
       "<td>\n",
       "4.0\n",
       "</td>\n",
       "<td>\n",
       "&quot;a&quot;\n",
       "</td>\n",
       "</tr>\n",
       "<tr>\n",
       "<td>\n",
       "2\n",
       "</td>\n",
       "<td>\n",
       "2022-01-02 00:00:00\n",
       "</td>\n",
       "<td>\n",
       "5.0\n",
       "</td>\n",
       "<td>\n",
       "&quot;b&quot;\n",
       "</td>\n",
       "</tr>\n",
       "<tr>\n",
       "<td>\n",
       "3\n",
       "</td>\n",
       "<td>\n",
       "2022-01-03 00:00:00\n",
       "</td>\n",
       "<td>\n",
       "6.0\n",
       "</td>\n",
       "<td>\n",
       "&quot;c&quot;\n",
       "</td>\n",
       "</tr>\n",
       "</tbody>\n",
       "</table>\n",
       "</div>"
      ],
      "text/plain": [
       "shape: (3, 4)\n",
       "┌─────────┬─────────────────────┬───────┬────────┐\n",
       "│ integer ┆ date                ┆ float ┆ string │\n",
       "│ ---     ┆ ---                 ┆ ---   ┆ ---    │\n",
       "│ i64     ┆ datetime[μs]        ┆ f64   ┆ str    │\n",
       "╞═════════╪═════════════════════╪═══════╪════════╡\n",
       "│ 1       ┆ 2022-01-01 00:00:00 ┆ 4.0   ┆ a      │\n",
       "│ 2       ┆ 2022-01-02 00:00:00 ┆ 5.0   ┆ b      │\n",
       "│ 3       ┆ 2022-01-03 00:00:00 ┆ 6.0   ┆ c      │\n",
       "└─────────┴─────────────────────┴───────┴────────┘"
      ]
     },
     "execution_count": 197,
     "metadata": {},
     "output_type": "execute_result"
    }
   ],
   "source": [
    "df = pl.DataFrame({\n",
    "  \"integer\": [1, 2, 3], \n",
    "  \"date\": [\n",
    "    (datetime(2022, 1, 1)), \n",
    "    (datetime(2022, 1, 2)), \n",
    "    (datetime(2022, 1, 3))], \n",
    "    \"float\":[4.0, 5.0, 6.0],\n",
    "    \"string\": [\"a\", \"b\", \"c\"]})\n",
    "\n",
    "df"
   ]
  },
  {
   "cell_type": "code",
   "execution_count": 202,
   "id": "a9e9be2a",
   "metadata": {},
   "outputs": [
    {
     "name": "stdout",
     "output_type": "stream",
     "text": [
      "shape: (3, 4)\n",
      "┌─────────┬─────────────────────┬───────┬────────┐\n",
      "│ integer ┆ date                ┆ float ┆ string │\n",
      "│ ---     ┆ ---                 ┆ ---   ┆ ---    │\n",
      "│ i64     ┆ datetime[μs]        ┆ f64   ┆ str    │\n",
      "╞═════════╪═════════════════════╪═══════╪════════╡\n",
      "│ 1       ┆ 2022-01-01 00:00:00 ┆ 4.0   ┆ a      │\n",
      "│ 2       ┆ 2022-01-02 00:00:00 ┆ 5.0   ┆ b      │\n",
      "│ 3       ┆ 2022-01-03 00:00:00 ┆ 6.0   ┆ c      │\n",
      "└─────────┴─────────────────────┴───────┴────────┘\n"
     ]
    }
   ],
   "source": [
    "print(df)"
   ]
  },
  {
   "cell_type": "markdown",
   "id": "22fca90b",
   "metadata": {},
   "source": [
    "Things to note:\n",
    "\n",
    "1. The frame may be printed with Jupter's styling, or as ASCII with a `print()` statement.\n",
    "1. Shape, and dtypes, are part of the output.\n"
   ]
  },
  {
   "cell_type": "code",
   "execution_count": 203,
   "id": "f4799fc2",
   "metadata": {},
   "outputs": [
    {
     "data": {
      "text/plain": [
       "['integer', 'date', 'float', 'string']"
      ]
     },
     "execution_count": 199,
     "metadata": {},
     "output_type": "execute_result"
    }
   ],
   "source": [
    "df.columns"
   ]
  },
  {
   "cell_type": "code",
   "execution_count": 204,
   "id": "a0aca764",
   "metadata": {},
   "outputs": [
    {
     "data": {
      "text/plain": [
       "(3, 4)"
      ]
     },
     "execution_count": 200,
     "metadata": {},
     "output_type": "execute_result"
    }
   ],
   "source": [
    "df.shape"
   ]
  },
  {
   "cell_type": "code",
   "execution_count": 205,
   "id": "8b7d4e60",
   "metadata": {},
   "outputs": [
    {
     "data": {
      "text/plain": [
       "3"
      ]
     },
     "execution_count": 201,
     "metadata": {},
     "output_type": "execute_result"
    }
   ],
   "source": [
    "df.height # probably more useful than df.shape[0]"
   ]
  },
  {
   "cell_type": "code",
   "execution_count": 206,
   "id": "2d2d97e8",
   "metadata": {},
   "outputs": [
    {
     "data": {
      "text/plain": [
       "4"
      ]
     },
     "execution_count": 202,
     "metadata": {},
     "output_type": "execute_result"
    }
   ],
   "source": [
    "df.width"
   ]
  },
  {
   "cell_type": "code",
   "execution_count": 207,
   "id": "700a7502",
   "metadata": {},
   "outputs": [
    {
     "data": {
      "text/plain": [
       "{'integer': Int64,\n",
       " 'date': Datetime(tu='us', tz=None),\n",
       " 'float': Float64,\n",
       " 'string': Utf8}"
      ]
     },
     "execution_count": 203,
     "metadata": {},
     "output_type": "execute_result"
    }
   ],
   "source": [
    "df.schema # similar to pandas info()"
   ]
  },
  {
   "cell_type": "code",
   "execution_count": 208,
   "id": "893de587",
   "metadata": {},
   "outputs": [
    {
     "data": {
      "text/html": [
       "<div>\n",
       "<style scoped>\n",
       "    .dataframe tbody tr th:only-of-type {\n",
       "        vertical-align: middle;\n",
       "    }\n",
       "\n",
       "    .dataframe tbody tr th {\n",
       "        vertical-align: top;\n",
       "    }\n",
       "\n",
       "    .dataframe thead th {\n",
       "        text-align: right;\n",
       "    }\n",
       "\n",
       "    .dataframe td {\n",
       "        white-space: pre;\n",
       "    }\n",
       "\n",
       "    .dataframe td {\n",
       "        padding-top: 0;\n",
       "    }\n",
       "\n",
       "    .dataframe td {\n",
       "        padding-bottom: 0;\n",
       "    }\n",
       "\n",
       "    .dataframe td {\n",
       "        line-height: 95%;\n",
       "    }\n",
       "</style>\n",
       "<table border=\"1\" class=\"dataframe\">\n",
       "<small>shape: (3, 5)</small>\n",
       "<thead>\n",
       "<tr>\n",
       "<th>\n",
       "row_nr\n",
       "</th>\n",
       "<th>\n",
       "integer\n",
       "</th>\n",
       "<th>\n",
       "date\n",
       "</th>\n",
       "<th>\n",
       "float\n",
       "</th>\n",
       "<th>\n",
       "string\n",
       "</th>\n",
       "</tr>\n",
       "<tr>\n",
       "<td>\n",
       "u32\n",
       "</td>\n",
       "<td>\n",
       "i64\n",
       "</td>\n",
       "<td>\n",
       "datetime[μs]\n",
       "</td>\n",
       "<td>\n",
       "f64\n",
       "</td>\n",
       "<td>\n",
       "str\n",
       "</td>\n",
       "</tr>\n",
       "</thead>\n",
       "<tbody>\n",
       "<tr>\n",
       "<td>\n",
       "0\n",
       "</td>\n",
       "<td>\n",
       "1\n",
       "</td>\n",
       "<td>\n",
       "2022-01-01 00:00:00\n",
       "</td>\n",
       "<td>\n",
       "4.0\n",
       "</td>\n",
       "<td>\n",
       "&quot;a&quot;\n",
       "</td>\n",
       "</tr>\n",
       "<tr>\n",
       "<td>\n",
       "1\n",
       "</td>\n",
       "<td>\n",
       "2\n",
       "</td>\n",
       "<td>\n",
       "2022-01-02 00:00:00\n",
       "</td>\n",
       "<td>\n",
       "5.0\n",
       "</td>\n",
       "<td>\n",
       "&quot;b&quot;\n",
       "</td>\n",
       "</tr>\n",
       "<tr>\n",
       "<td>\n",
       "2\n",
       "</td>\n",
       "<td>\n",
       "3\n",
       "</td>\n",
       "<td>\n",
       "2022-01-03 00:00:00\n",
       "</td>\n",
       "<td>\n",
       "6.0\n",
       "</td>\n",
       "<td>\n",
       "&quot;c&quot;\n",
       "</td>\n",
       "</tr>\n",
       "</tbody>\n",
       "</table>\n",
       "</div>"
      ],
      "text/plain": [
       "shape: (3, 5)\n",
       "┌────────┬─────────┬─────────────────────┬───────┬────────┐\n",
       "│ row_nr ┆ integer ┆ date                ┆ float ┆ string │\n",
       "│ ---    ┆ ---     ┆ ---                 ┆ ---   ┆ ---    │\n",
       "│ u32    ┆ i64     ┆ datetime[μs]        ┆ f64   ┆ str    │\n",
       "╞════════╪═════════╪═════════════════════╪═══════╪════════╡\n",
       "│ 0      ┆ 1       ┆ 2022-01-01 00:00:00 ┆ 4.0   ┆ a      │\n",
       "│ 1      ┆ 2       ┆ 2022-01-02 00:00:00 ┆ 5.0   ┆ b      │\n",
       "│ 2      ┆ 3       ┆ 2022-01-03 00:00:00 ┆ 6.0   ┆ c      │\n",
       "└────────┴─────────┴─────────────────────┴───────┴────────┘"
      ]
     },
     "execution_count": 204,
     "metadata": {},
     "output_type": "execute_result"
    }
   ],
   "source": [
    "df.with_row_count()"
   ]
  },
  {
   "cell_type": "markdown",
   "id": "3b23b2b9",
   "metadata": {},
   "source": [
    "Add a single column"
   ]
  },
  {
   "cell_type": "code",
   "execution_count": 209,
   "id": "933682cf",
   "metadata": {},
   "outputs": [
    {
     "data": {
      "text/html": [
       "<div>\n",
       "<style scoped>\n",
       "    .dataframe tbody tr th:only-of-type {\n",
       "        vertical-align: middle;\n",
       "    }\n",
       "\n",
       "    .dataframe tbody tr th {\n",
       "        vertical-align: top;\n",
       "    }\n",
       "\n",
       "    .dataframe thead th {\n",
       "        text-align: right;\n",
       "    }\n",
       "\n",
       "    .dataframe td {\n",
       "        white-space: pre;\n",
       "    }\n",
       "\n",
       "    .dataframe td {\n",
       "        padding-top: 0;\n",
       "    }\n",
       "\n",
       "    .dataframe td {\n",
       "        padding-bottom: 0;\n",
       "    }\n",
       "\n",
       "    .dataframe td {\n",
       "        line-height: 95%;\n",
       "    }\n",
       "</style>\n",
       "<table border=\"1\" class=\"dataframe\">\n",
       "<small>shape: (3, 5)</small>\n",
       "<thead>\n",
       "<tr>\n",
       "<th>\n",
       "integer\n",
       "</th>\n",
       "<th>\n",
       "date\n",
       "</th>\n",
       "<th>\n",
       "float\n",
       "</th>\n",
       "<th>\n",
       "string\n",
       "</th>\n",
       "<th>\n",
       "new\n",
       "</th>\n",
       "</tr>\n",
       "<tr>\n",
       "<td>\n",
       "i64\n",
       "</td>\n",
       "<td>\n",
       "datetime[μs]\n",
       "</td>\n",
       "<td>\n",
       "f64\n",
       "</td>\n",
       "<td>\n",
       "str\n",
       "</td>\n",
       "<td>\n",
       "i64\n",
       "</td>\n",
       "</tr>\n",
       "</thead>\n",
       "<tbody>\n",
       "<tr>\n",
       "<td>\n",
       "1\n",
       "</td>\n",
       "<td>\n",
       "2022-01-01 00:00:00\n",
       "</td>\n",
       "<td>\n",
       "4.0\n",
       "</td>\n",
       "<td>\n",
       "&quot;a&quot;\n",
       "</td>\n",
       "<td>\n",
       "1\n",
       "</td>\n",
       "</tr>\n",
       "<tr>\n",
       "<td>\n",
       "2\n",
       "</td>\n",
       "<td>\n",
       "2022-01-02 00:00:00\n",
       "</td>\n",
       "<td>\n",
       "5.0\n",
       "</td>\n",
       "<td>\n",
       "&quot;b&quot;\n",
       "</td>\n",
       "<td>\n",
       "2\n",
       "</td>\n",
       "</tr>\n",
       "<tr>\n",
       "<td>\n",
       "3\n",
       "</td>\n",
       "<td>\n",
       "2022-01-03 00:00:00\n",
       "</td>\n",
       "<td>\n",
       "6.0\n",
       "</td>\n",
       "<td>\n",
       "&quot;c&quot;\n",
       "</td>\n",
       "<td>\n",
       "3\n",
       "</td>\n",
       "</tr>\n",
       "</tbody>\n",
       "</table>\n",
       "</div>"
      ],
      "text/plain": [
       "shape: (3, 5)\n",
       "┌─────────┬─────────────────────┬───────┬────────┬─────┐\n",
       "│ integer ┆ date                ┆ float ┆ string ┆ new │\n",
       "│ ---     ┆ ---                 ┆ ---   ┆ ---    ┆ --- │\n",
       "│ i64     ┆ datetime[μs]        ┆ f64   ┆ str    ┆ i64 │\n",
       "╞═════════╪═════════════════════╪═══════╪════════╪═════╡\n",
       "│ 1       ┆ 2022-01-01 00:00:00 ┆ 4.0   ┆ a      ┆ 1   │\n",
       "│ 2       ┆ 2022-01-02 00:00:00 ┆ 5.0   ┆ b      ┆ 2   │\n",
       "│ 3       ┆ 2022-01-03 00:00:00 ┆ 6.0   ┆ c      ┆ 3   │\n",
       "└─────────┴─────────────────────┴───────┴────────┴─────┘"
      ]
     },
     "execution_count": 205,
     "metadata": {},
     "output_type": "execute_result"
    }
   ],
   "source": [
    "df.with_column(pl.Series(\"new\", [1, 2, 3]))"
   ]
  },
  {
   "cell_type": "markdown",
   "id": "5b535300",
   "metadata": {},
   "source": [
    "Add multiple columns"
   ]
  },
  {
   "cell_type": "code",
   "execution_count": 210,
   "id": "0d924e37",
   "metadata": {},
   "outputs": [
    {
     "data": {
      "text/html": [
       "<div>\n",
       "<style scoped>\n",
       "    .dataframe tbody tr th:only-of-type {\n",
       "        vertical-align: middle;\n",
       "    }\n",
       "\n",
       "    .dataframe tbody tr th {\n",
       "        vertical-align: top;\n",
       "    }\n",
       "\n",
       "    .dataframe thead th {\n",
       "        text-align: right;\n",
       "    }\n",
       "\n",
       "    .dataframe td {\n",
       "        white-space: pre;\n",
       "    }\n",
       "\n",
       "    .dataframe td {\n",
       "        padding-top: 0;\n",
       "    }\n",
       "\n",
       "    .dataframe td {\n",
       "        padding-bottom: 0;\n",
       "    }\n",
       "\n",
       "    .dataframe td {\n",
       "        line-height: 95%;\n",
       "    }\n",
       "</style>\n",
       "<table border=\"1\" class=\"dataframe\">\n",
       "<small>shape: (3, 6)</small>\n",
       "<thead>\n",
       "<tr>\n",
       "<th>\n",
       "integer\n",
       "</th>\n",
       "<th>\n",
       "date\n",
       "</th>\n",
       "<th>\n",
       "float\n",
       "</th>\n",
       "<th>\n",
       "string\n",
       "</th>\n",
       "<th>\n",
       "new1\n",
       "</th>\n",
       "<th>\n",
       "new2\n",
       "</th>\n",
       "</tr>\n",
       "<tr>\n",
       "<td>\n",
       "i64\n",
       "</td>\n",
       "<td>\n",
       "datetime[μs]\n",
       "</td>\n",
       "<td>\n",
       "f64\n",
       "</td>\n",
       "<td>\n",
       "str\n",
       "</td>\n",
       "<td>\n",
       "i64\n",
       "</td>\n",
       "<td>\n",
       "i64\n",
       "</td>\n",
       "</tr>\n",
       "</thead>\n",
       "<tbody>\n",
       "<tr>\n",
       "<td>\n",
       "1\n",
       "</td>\n",
       "<td>\n",
       "2022-01-01 00:00:00\n",
       "</td>\n",
       "<td>\n",
       "4.0\n",
       "</td>\n",
       "<td>\n",
       "&quot;a&quot;\n",
       "</td>\n",
       "<td>\n",
       "1\n",
       "</td>\n",
       "<td>\n",
       "4\n",
       "</td>\n",
       "</tr>\n",
       "<tr>\n",
       "<td>\n",
       "2\n",
       "</td>\n",
       "<td>\n",
       "2022-01-02 00:00:00\n",
       "</td>\n",
       "<td>\n",
       "5.0\n",
       "</td>\n",
       "<td>\n",
       "&quot;b&quot;\n",
       "</td>\n",
       "<td>\n",
       "2\n",
       "</td>\n",
       "<td>\n",
       "5\n",
       "</td>\n",
       "</tr>\n",
       "<tr>\n",
       "<td>\n",
       "3\n",
       "</td>\n",
       "<td>\n",
       "2022-01-03 00:00:00\n",
       "</td>\n",
       "<td>\n",
       "6.0\n",
       "</td>\n",
       "<td>\n",
       "&quot;c&quot;\n",
       "</td>\n",
       "<td>\n",
       "3\n",
       "</td>\n",
       "<td>\n",
       "6\n",
       "</td>\n",
       "</tr>\n",
       "</tbody>\n",
       "</table>\n",
       "</div>"
      ],
      "text/plain": [
       "shape: (3, 6)\n",
       "┌─────────┬─────────────────────┬───────┬────────┬──────┬──────┐\n",
       "│ integer ┆ date                ┆ float ┆ string ┆ new1 ┆ new2 │\n",
       "│ ---     ┆ ---                 ┆ ---   ┆ ---    ┆ ---  ┆ ---  │\n",
       "│ i64     ┆ datetime[μs]        ┆ f64   ┆ str    ┆ i64  ┆ i64  │\n",
       "╞═════════╪═════════════════════╪═══════╪════════╪══════╪══════╡\n",
       "│ 1       ┆ 2022-01-01 00:00:00 ┆ 4.0   ┆ a      ┆ 1    ┆ 4    │\n",
       "│ 2       ┆ 2022-01-02 00:00:00 ┆ 5.0   ┆ b      ┆ 2    ┆ 5    │\n",
       "│ 3       ┆ 2022-01-03 00:00:00 ┆ 6.0   ┆ c      ┆ 3    ┆ 6    │\n",
       "└─────────┴─────────────────────┴───────┴────────┴──────┴──────┘"
      ]
     },
     "execution_count": 206,
     "metadata": {},
     "output_type": "execute_result"
    }
   ],
   "source": [
    "df.with_columns([\n",
    "  pl.Series(\"new1\", [1, 2, 3]),\n",
    "  pl.Series(\"new2\", [4, 5, 6])])"
   ]
  },
  {
   "cell_type": "code",
   "execution_count": 211,
   "id": "4b193488",
   "metadata": {},
   "outputs": [
    {
     "data": {
      "text/html": [
       "<div>\n",
       "<style scoped>\n",
       "    .dataframe tbody tr th:only-of-type {\n",
       "        vertical-align: middle;\n",
       "    }\n",
       "\n",
       "    .dataframe tbody tr th {\n",
       "        vertical-align: top;\n",
       "    }\n",
       "\n",
       "    .dataframe thead th {\n",
       "        text-align: right;\n",
       "    }\n",
       "\n",
       "    .dataframe td {\n",
       "        white-space: pre;\n",
       "    }\n",
       "\n",
       "    .dataframe td {\n",
       "        padding-top: 0;\n",
       "    }\n",
       "\n",
       "    .dataframe td {\n",
       "        padding-bottom: 0;\n",
       "    }\n",
       "\n",
       "    .dataframe td {\n",
       "        line-height: 95%;\n",
       "    }\n",
       "</style>\n",
       "<table border=\"1\" class=\"dataframe\">\n",
       "<small>shape: (3, 4)</small>\n",
       "<thead>\n",
       "<tr>\n",
       "<th>\n",
       "integer\n",
       "</th>\n",
       "<th>\n",
       "date\n",
       "</th>\n",
       "<th>\n",
       "float\n",
       "</th>\n",
       "<th>\n",
       "string\n",
       "</th>\n",
       "</tr>\n",
       "<tr>\n",
       "<td>\n",
       "i64\n",
       "</td>\n",
       "<td>\n",
       "datetime[μs]\n",
       "</td>\n",
       "<td>\n",
       "f64\n",
       "</td>\n",
       "<td>\n",
       "str\n",
       "</td>\n",
       "</tr>\n",
       "</thead>\n",
       "<tbody>\n",
       "<tr>\n",
       "<td>\n",
       "1\n",
       "</td>\n",
       "<td>\n",
       "2022-01-01 00:00:00\n",
       "</td>\n",
       "<td>\n",
       "4.0\n",
       "</td>\n",
       "<td>\n",
       "&quot;a&quot;\n",
       "</td>\n",
       "</tr>\n",
       "<tr>\n",
       "<td>\n",
       "2\n",
       "</td>\n",
       "<td>\n",
       "2022-01-02 00:00:00\n",
       "</td>\n",
       "<td>\n",
       "5.0\n",
       "</td>\n",
       "<td>\n",
       "&quot;b&quot;\n",
       "</td>\n",
       "</tr>\n",
       "<tr>\n",
       "<td>\n",
       "3\n",
       "</td>\n",
       "<td>\n",
       "2022-01-03 00:00:00\n",
       "</td>\n",
       "<td>\n",
       "6.0\n",
       "</td>\n",
       "<td>\n",
       "&quot;c&quot;\n",
       "</td>\n",
       "</tr>\n",
       "</tbody>\n",
       "</table>\n",
       "</div>"
      ],
      "text/plain": [
       "shape: (3, 4)\n",
       "┌─────────┬─────────────────────┬───────┬────────┐\n",
       "│ integer ┆ date                ┆ float ┆ string │\n",
       "│ ---     ┆ ---                 ┆ ---   ┆ ---    │\n",
       "│ i64     ┆ datetime[μs]        ┆ f64   ┆ str    │\n",
       "╞═════════╪═════════════════════╪═══════╪════════╡\n",
       "│ 1       ┆ 2022-01-01 00:00:00 ┆ 4.0   ┆ a      │\n",
       "│ 2       ┆ 2022-01-02 00:00:00 ┆ 5.0   ┆ b      │\n",
       "│ 3       ┆ 2022-01-03 00:00:00 ┆ 6.0   ┆ c      │\n",
       "└─────────┴─────────────────────┴───────┴────────┘"
      ]
     },
     "execution_count": 207,
     "metadata": {},
     "output_type": "execute_result"
    }
   ],
   "source": [
    "df.clone() # deep copy"
   ]
  },
  {
   "cell_type": "markdown",
   "id": "ddca5bf3",
   "metadata": {},
   "source": [
    "The following commands make changes in place; I am thus creating a copy of `df`."
   ]
  },
  {
   "cell_type": "code",
   "execution_count": 212,
   "id": "9572e8d9",
   "metadata": {},
   "outputs": [
    {
     "data": {
      "text/html": [
       "<div>\n",
       "<style scoped>\n",
       "    .dataframe tbody tr th:only-of-type {\n",
       "        vertical-align: middle;\n",
       "    }\n",
       "\n",
       "    .dataframe tbody tr th {\n",
       "        vertical-align: top;\n",
       "    }\n",
       "\n",
       "    .dataframe thead th {\n",
       "        text-align: right;\n",
       "    }\n",
       "\n",
       "    .dataframe td {\n",
       "        white-space: pre;\n",
       "    }\n",
       "\n",
       "    .dataframe td {\n",
       "        padding-top: 0;\n",
       "    }\n",
       "\n",
       "    .dataframe td {\n",
       "        padding-bottom: 0;\n",
       "    }\n",
       "\n",
       "    .dataframe td {\n",
       "        line-height: 95%;\n",
       "    }\n",
       "</style>\n",
       "<table border=\"1\" class=\"dataframe\">\n",
       "<small>shape: (3, 5)</small>\n",
       "<thead>\n",
       "<tr>\n",
       "<th>\n",
       "integer\n",
       "</th>\n",
       "<th>\n",
       "new\n",
       "</th>\n",
       "<th>\n",
       "date\n",
       "</th>\n",
       "<th>\n",
       "float\n",
       "</th>\n",
       "<th>\n",
       "string\n",
       "</th>\n",
       "</tr>\n",
       "<tr>\n",
       "<td>\n",
       "i64\n",
       "</td>\n",
       "<td>\n",
       "i64\n",
       "</td>\n",
       "<td>\n",
       "datetime[μs]\n",
       "</td>\n",
       "<td>\n",
       "f64\n",
       "</td>\n",
       "<td>\n",
       "str\n",
       "</td>\n",
       "</tr>\n",
       "</thead>\n",
       "<tbody>\n",
       "<tr>\n",
       "<td>\n",
       "1\n",
       "</td>\n",
       "<td>\n",
       "1\n",
       "</td>\n",
       "<td>\n",
       "2022-01-01 00:00:00\n",
       "</td>\n",
       "<td>\n",
       "4.0\n",
       "</td>\n",
       "<td>\n",
       "&quot;a&quot;\n",
       "</td>\n",
       "</tr>\n",
       "<tr>\n",
       "<td>\n",
       "2\n",
       "</td>\n",
       "<td>\n",
       "2\n",
       "</td>\n",
       "<td>\n",
       "2022-01-02 00:00:00\n",
       "</td>\n",
       "<td>\n",
       "5.0\n",
       "</td>\n",
       "<td>\n",
       "&quot;b&quot;\n",
       "</td>\n",
       "</tr>\n",
       "<tr>\n",
       "<td>\n",
       "3\n",
       "</td>\n",
       "<td>\n",
       "3\n",
       "</td>\n",
       "<td>\n",
       "2022-01-03 00:00:00\n",
       "</td>\n",
       "<td>\n",
       "6.0\n",
       "</td>\n",
       "<td>\n",
       "&quot;c&quot;\n",
       "</td>\n",
       "</tr>\n",
       "</tbody>\n",
       "</table>\n",
       "</div>"
      ],
      "text/plain": [
       "shape: (3, 5)\n",
       "┌─────────┬─────┬─────────────────────┬───────┬────────┐\n",
       "│ integer ┆ new ┆ date                ┆ float ┆ string │\n",
       "│ ---     ┆ --- ┆ ---                 ┆ ---   ┆ ---    │\n",
       "│ i64     ┆ i64 ┆ datetime[μs]        ┆ f64   ┆ str    │\n",
       "╞═════════╪═════╪═════════════════════╪═══════╪════════╡\n",
       "│ 1       ┆ 1   ┆ 2022-01-01 00:00:00 ┆ 4.0   ┆ a      │\n",
       "│ 2       ┆ 2   ┆ 2022-01-02 00:00:00 ┆ 5.0   ┆ b      │\n",
       "│ 3       ┆ 3   ┆ 2022-01-03 00:00:00 ┆ 6.0   ┆ c      │\n",
       "└─────────┴─────┴─────────────────────┴───────┴────────┘"
      ]
     },
     "execution_count": 208,
     "metadata": {},
     "output_type": "execute_result"
    }
   ],
   "source": [
    "df_copy = df.clone() # making a copy since \n",
    "df_copy.insert_at_idx(1, pl.Series(\"new\", [1, 2, 3])) "
   ]
  },
  {
   "cell_type": "code",
   "execution_count": 213,
   "id": "15851176",
   "metadata": {},
   "outputs": [
    {
     "data": {
      "text/html": [
       "<div>\n",
       "<style scoped>\n",
       "    .dataframe tbody tr th:only-of-type {\n",
       "        vertical-align: middle;\n",
       "    }\n",
       "\n",
       "    .dataframe tbody tr th {\n",
       "        vertical-align: top;\n",
       "    }\n",
       "\n",
       "    .dataframe thead th {\n",
       "        text-align: right;\n",
       "    }\n",
       "\n",
       "    .dataframe td {\n",
       "        white-space: pre;\n",
       "    }\n",
       "\n",
       "    .dataframe td {\n",
       "        padding-top: 0;\n",
       "    }\n",
       "\n",
       "    .dataframe td {\n",
       "        padding-bottom: 0;\n",
       "    }\n",
       "\n",
       "    .dataframe td {\n",
       "        line-height: 95%;\n",
       "    }\n",
       "</style>\n",
       "<table border=\"1\" class=\"dataframe\">\n",
       "<small>shape: (3, 5)</small>\n",
       "<thead>\n",
       "<tr>\n",
       "<th>\n",
       "new2\n",
       "</th>\n",
       "<th>\n",
       "new\n",
       "</th>\n",
       "<th>\n",
       "date\n",
       "</th>\n",
       "<th>\n",
       "float\n",
       "</th>\n",
       "<th>\n",
       "string\n",
       "</th>\n",
       "</tr>\n",
       "<tr>\n",
       "<td>\n",
       "i64\n",
       "</td>\n",
       "<td>\n",
       "i64\n",
       "</td>\n",
       "<td>\n",
       "datetime[μs]\n",
       "</td>\n",
       "<td>\n",
       "f64\n",
       "</td>\n",
       "<td>\n",
       "str\n",
       "</td>\n",
       "</tr>\n",
       "</thead>\n",
       "<tbody>\n",
       "<tr>\n",
       "<td>\n",
       "1\n",
       "</td>\n",
       "<td>\n",
       "1\n",
       "</td>\n",
       "<td>\n",
       "2022-01-01 00:00:00\n",
       "</td>\n",
       "<td>\n",
       "4.0\n",
       "</td>\n",
       "<td>\n",
       "&quot;a&quot;\n",
       "</td>\n",
       "</tr>\n",
       "<tr>\n",
       "<td>\n",
       "2\n",
       "</td>\n",
       "<td>\n",
       "2\n",
       "</td>\n",
       "<td>\n",
       "2022-01-02 00:00:00\n",
       "</td>\n",
       "<td>\n",
       "5.0\n",
       "</td>\n",
       "<td>\n",
       "&quot;b&quot;\n",
       "</td>\n",
       "</tr>\n",
       "<tr>\n",
       "<td>\n",
       "3\n",
       "</td>\n",
       "<td>\n",
       "3\n",
       "</td>\n",
       "<td>\n",
       "2022-01-03 00:00:00\n",
       "</td>\n",
       "<td>\n",
       "6.0\n",
       "</td>\n",
       "<td>\n",
       "&quot;c&quot;\n",
       "</td>\n",
       "</tr>\n",
       "</tbody>\n",
       "</table>\n",
       "</div>"
      ],
      "text/plain": [
       "shape: (3, 5)\n",
       "┌──────┬─────┬─────────────────────┬───────┬────────┐\n",
       "│ new2 ┆ new ┆ date                ┆ float ┆ string │\n",
       "│ ---  ┆ --- ┆ ---                 ┆ ---   ┆ ---    │\n",
       "│ i64  ┆ i64 ┆ datetime[μs]        ┆ f64   ┆ str    │\n",
       "╞══════╪═════╪═════════════════════╪═══════╪════════╡\n",
       "│ 1    ┆ 1   ┆ 2022-01-01 00:00:00 ┆ 4.0   ┆ a      │\n",
       "│ 2    ┆ 2   ┆ 2022-01-02 00:00:00 ┆ 5.0   ┆ b      │\n",
       "│ 3    ┆ 3   ┆ 2022-01-03 00:00:00 ┆ 6.0   ┆ c      │\n",
       "└──────┴─────┴─────────────────────┴───────┴────────┘"
      ]
     },
     "execution_count": 209,
     "metadata": {},
     "output_type": "execute_result"
    }
   ],
   "source": [
    "df_copy.replace_at_idx(0, pl.Series(\"new2\", [1, 2, 3]))"
   ]
  },
  {
   "cell_type": "code",
   "execution_count": 214,
   "id": "bfa44ac2",
   "metadata": {},
   "outputs": [
    {
     "data": {
      "text/html": [
       "<div>\n",
       "<style scoped>\n",
       "    .dataframe tbody tr th:only-of-type {\n",
       "        vertical-align: middle;\n",
       "    }\n",
       "\n",
       "    .dataframe tbody tr th {\n",
       "        vertical-align: top;\n",
       "    }\n",
       "\n",
       "    .dataframe thead th {\n",
       "        text-align: right;\n",
       "    }\n",
       "\n",
       "    .dataframe td {\n",
       "        white-space: pre;\n",
       "    }\n",
       "\n",
       "    .dataframe td {\n",
       "        padding-top: 0;\n",
       "    }\n",
       "\n",
       "    .dataframe td {\n",
       "        padding-bottom: 0;\n",
       "    }\n",
       "\n",
       "    .dataframe td {\n",
       "        line-height: 95%;\n",
       "    }\n",
       "</style>\n",
       "<table border=\"1\" class=\"dataframe\">\n",
       "<small>shape: (3, 5)</small>\n",
       "<thead>\n",
       "<tr>\n",
       "<th>\n",
       "new2\n",
       "</th>\n",
       "<th>\n",
       "new\n",
       "</th>\n",
       "<th>\n",
       "date\n",
       "</th>\n",
       "<th>\n",
       "float\n",
       "</th>\n",
       "<th>\n",
       "string\n",
       "</th>\n",
       "</tr>\n",
       "<tr>\n",
       "<td>\n",
       "i64\n",
       "</td>\n",
       "<td>\n",
       "i64\n",
       "</td>\n",
       "<td>\n",
       "datetime[μs]\n",
       "</td>\n",
       "<td>\n",
       "f64\n",
       "</td>\n",
       "<td>\n",
       "str\n",
       "</td>\n",
       "</tr>\n",
       "</thead>\n",
       "<tbody>\n",
       "<tr>\n",
       "<td>\n",
       "1\n",
       "</td>\n",
       "<td>\n",
       "1\n",
       "</td>\n",
       "<td>\n",
       "2022-01-01 00:00:00\n",
       "</td>\n",
       "<td>\n",
       "4.0\n",
       "</td>\n",
       "<td>\n",
       "&quot;a&quot;\n",
       "</td>\n",
       "</tr>\n",
       "<tr>\n",
       "<td>\n",
       "2\n",
       "</td>\n",
       "<td>\n",
       "2\n",
       "</td>\n",
       "<td>\n",
       "2022-01-02 00:00:00\n",
       "</td>\n",
       "<td>\n",
       "5.0\n",
       "</td>\n",
       "<td>\n",
       "&quot;b&quot;\n",
       "</td>\n",
       "</tr>\n",
       "<tr>\n",
       "<td>\n",
       "3\n",
       "</td>\n",
       "<td>\n",
       "3\n",
       "</td>\n",
       "<td>\n",
       "2022-01-03 00:00:00\n",
       "</td>\n",
       "<td>\n",
       "6.0\n",
       "</td>\n",
       "<td>\n",
       "&quot;c&quot;\n",
       "</td>\n",
       "</tr>\n",
       "</tbody>\n",
       "</table>\n",
       "</div>"
      ],
      "text/plain": [
       "shape: (3, 5)\n",
       "┌──────┬─────┬─────────────────────┬───────┬────────┐\n",
       "│ new2 ┆ new ┆ date                ┆ float ┆ string │\n",
       "│ ---  ┆ --- ┆ ---                 ┆ ---   ┆ ---    │\n",
       "│ i64  ┆ i64 ┆ datetime[μs]        ┆ f64   ┆ str    │\n",
       "╞══════╪═════╪═════════════════════╪═══════╪════════╡\n",
       "│ 1    ┆ 1   ┆ 2022-01-01 00:00:00 ┆ 4.0   ┆ a      │\n",
       "│ 2    ┆ 2   ┆ 2022-01-02 00:00:00 ┆ 5.0   ┆ b      │\n",
       "│ 3    ┆ 3   ┆ 2022-01-03 00:00:00 ┆ 6.0   ┆ c      │\n",
       "└──────┴─────┴─────────────────────┴───────┴────────┘"
      ]
     },
     "execution_count": 210,
     "metadata": {},
     "output_type": "execute_result"
    }
   ],
   "source": [
    "df_copy.replace('float', pl.Series(\"new_float\", [4.0, 5.0, 6.0])) "
   ]
  },
  {
   "cell_type": "code",
   "execution_count": 215,
   "id": "2b8e56d6",
   "metadata": {},
   "outputs": [
    {
     "data": {
      "text/html": [
       "<div>\n",
       "<style scoped>\n",
       "    .dataframe tbody tr th:only-of-type {\n",
       "        vertical-align: middle;\n",
       "    }\n",
       "\n",
       "    .dataframe tbody tr th {\n",
       "        vertical-align: top;\n",
       "    }\n",
       "\n",
       "    .dataframe thead th {\n",
       "        text-align: right;\n",
       "    }\n",
       "\n",
       "    .dataframe td {\n",
       "        white-space: pre;\n",
       "    }\n",
       "\n",
       "    .dataframe td {\n",
       "        padding-top: 0;\n",
       "    }\n",
       "\n",
       "    .dataframe td {\n",
       "        padding-bottom: 0;\n",
       "    }\n",
       "\n",
       "    .dataframe td {\n",
       "        line-height: 95%;\n",
       "    }\n",
       "</style>\n",
       "<table border=\"1\" class=\"dataframe\">\n",
       "<small>shape: (3, 5)</small>\n",
       "<thead>\n",
       "<tr>\n",
       "<th>\n",
       "integer\n",
       "</th>\n",
       "<th>\n",
       "date\n",
       "</th>\n",
       "<th>\n",
       "float\n",
       "</th>\n",
       "<th>\n",
       "string\n",
       "</th>\n",
       "<th>\n",
       "new\n",
       "</th>\n",
       "</tr>\n",
       "<tr>\n",
       "<td>\n",
       "i64\n",
       "</td>\n",
       "<td>\n",
       "datetime[μs]\n",
       "</td>\n",
       "<td>\n",
       "f64\n",
       "</td>\n",
       "<td>\n",
       "str\n",
       "</td>\n",
       "<td>\n",
       "i64\n",
       "</td>\n",
       "</tr>\n",
       "</thead>\n",
       "<tbody>\n",
       "<tr>\n",
       "<td>\n",
       "1\n",
       "</td>\n",
       "<td>\n",
       "2022-01-01 00:00:00\n",
       "</td>\n",
       "<td>\n",
       "4.0\n",
       "</td>\n",
       "<td>\n",
       "&quot;a&quot;\n",
       "</td>\n",
       "<td>\n",
       "1\n",
       "</td>\n",
       "</tr>\n",
       "<tr>\n",
       "<td>\n",
       "2\n",
       "</td>\n",
       "<td>\n",
       "2022-01-02 00:00:00\n",
       "</td>\n",
       "<td>\n",
       "5.0\n",
       "</td>\n",
       "<td>\n",
       "&quot;b&quot;\n",
       "</td>\n",
       "<td>\n",
       "2\n",
       "</td>\n",
       "</tr>\n",
       "<tr>\n",
       "<td>\n",
       "3\n",
       "</td>\n",
       "<td>\n",
       "2022-01-03 00:00:00\n",
       "</td>\n",
       "<td>\n",
       "6.0\n",
       "</td>\n",
       "<td>\n",
       "&quot;c&quot;\n",
       "</td>\n",
       "<td>\n",
       "3\n",
       "</td>\n",
       "</tr>\n",
       "</tbody>\n",
       "</table>\n",
       "</div>"
      ],
      "text/plain": [
       "shape: (3, 5)\n",
       "┌─────────┬─────────────────────┬───────┬────────┬─────┐\n",
       "│ integer ┆ date                ┆ float ┆ string ┆ new │\n",
       "│ ---     ┆ ---                 ┆ ---   ┆ ---    ┆ --- │\n",
       "│ i64     ┆ datetime[μs]        ┆ f64   ┆ str    ┆ i64 │\n",
       "╞═════════╪═════════════════════╪═══════╪════════╪═════╡\n",
       "│ 1       ┆ 2022-01-01 00:00:00 ┆ 4.0   ┆ a      ┆ 1   │\n",
       "│ 2       ┆ 2022-01-02 00:00:00 ┆ 5.0   ┆ b      ┆ 2   │\n",
       "│ 3       ┆ 2022-01-03 00:00:00 ┆ 6.0   ┆ c      ┆ 3   │\n",
       "└─────────┴─────────────────────┴───────┴────────┴─────┘"
      ]
     },
     "execution_count": 211,
     "metadata": {},
     "output_type": "execute_result"
    }
   ],
   "source": [
    "def foo(frame):\n",
    "  return frame.with_column(pl.Series(\"new\", [1, 2, 3]))\n",
    "df.pipe(foo)"
   ]
  },
  {
   "cell_type": "code",
   "execution_count": 216,
   "id": "69d38fec",
   "metadata": {},
   "outputs": [
    {
     "data": {
      "text/plain": [
       "False"
      ]
     },
     "execution_count": 212,
     "metadata": {},
     "output_type": "execute_result"
    }
   ],
   "source": [
    "df.is_empty()"
   ]
  },
  {
   "cell_type": "code",
   "execution_count": 217,
   "id": "fc71ea23",
   "metadata": {},
   "outputs": [
    {
     "data": {
      "text/html": [
       "<div>\n",
       "<style scoped>\n",
       "    .dataframe tbody tr th:only-of-type {\n",
       "        vertical-align: middle;\n",
       "    }\n",
       "\n",
       "    .dataframe tbody tr th {\n",
       "        vertical-align: top;\n",
       "    }\n",
       "\n",
       "    .dataframe thead th {\n",
       "        text-align: right;\n",
       "    }\n",
       "\n",
       "    .dataframe td {\n",
       "        white-space: pre;\n",
       "    }\n",
       "\n",
       "    .dataframe td {\n",
       "        padding-top: 0;\n",
       "    }\n",
       "\n",
       "    .dataframe td {\n",
       "        padding-bottom: 0;\n",
       "    }\n",
       "\n",
       "    .dataframe td {\n",
       "        line-height: 95%;\n",
       "    }\n",
       "</style>\n",
       "<table border=\"1\" class=\"dataframe\">\n",
       "<small>shape: (0, 4)</small>\n",
       "<thead>\n",
       "<tr>\n",
       "<th>\n",
       "integer\n",
       "</th>\n",
       "<th>\n",
       "date\n",
       "</th>\n",
       "<th>\n",
       "float\n",
       "</th>\n",
       "<th>\n",
       "string\n",
       "</th>\n",
       "</tr>\n",
       "<tr>\n",
       "<td>\n",
       "i64\n",
       "</td>\n",
       "<td>\n",
       "datetime[μs]\n",
       "</td>\n",
       "<td>\n",
       "f64\n",
       "</td>\n",
       "<td>\n",
       "str\n",
       "</td>\n",
       "</tr>\n",
       "</thead>\n",
       "<tbody>\n",
       "</tbody>\n",
       "</table>\n",
       "</div>"
      ],
      "text/plain": [
       "shape: (0, 4)\n",
       "┌─────────┬──────────────┬───────┬────────┐\n",
       "│ integer ┆ date         ┆ float ┆ string │\n",
       "│ ---     ┆ ---          ┆ ---   ┆ ---    │\n",
       "│ i64     ┆ datetime[μs] ┆ f64   ┆ str    │\n",
       "╞═════════╪══════════════╪═══════╪════════╡\n",
       "└─────────┴──────────────┴───────┴────────┘"
      ]
     },
     "execution_count": 213,
     "metadata": {},
     "output_type": "execute_result"
    }
   ],
   "source": [
    "df.cleared() # make empty copy"
   ]
  },
  {
   "cell_type": "code",
   "execution_count": 218,
   "id": "f3d40ee5",
   "metadata": {},
   "outputs": [
    {
     "data": {
      "text/plain": [
       "True"
      ]
     },
     "execution_count": 214,
     "metadata": {},
     "output_type": "execute_result"
    }
   ],
   "source": [
    "df.cleared().is_empty()"
   ]
  },
  {
   "cell_type": "markdown",
   "id": "5c81821b",
   "metadata": {},
   "source": [
    "Renaming columns can be done with `rename()`. \n",
    "Later, we will see it may also be done with an `alias()` statement withing a `with_columns()` context. "
   ]
  },
  {
   "cell_type": "code",
   "execution_count": 219,
   "id": "3af27ae3",
   "metadata": {},
   "outputs": [
    {
     "data": {
      "text/html": [
       "<div>\n",
       "<style scoped>\n",
       "    .dataframe tbody tr th:only-of-type {\n",
       "        vertical-align: middle;\n",
       "    }\n",
       "\n",
       "    .dataframe tbody tr th {\n",
       "        vertical-align: top;\n",
       "    }\n",
       "\n",
       "    .dataframe thead th {\n",
       "        text-align: right;\n",
       "    }\n",
       "\n",
       "    .dataframe td {\n",
       "        white-space: pre;\n",
       "    }\n",
       "\n",
       "    .dataframe td {\n",
       "        padding-top: 0;\n",
       "    }\n",
       "\n",
       "    .dataframe td {\n",
       "        padding-bottom: 0;\n",
       "    }\n",
       "\n",
       "    .dataframe td {\n",
       "        line-height: 95%;\n",
       "    }\n",
       "</style>\n",
       "<table border=\"1\" class=\"dataframe\">\n",
       "<small>shape: (3, 4)</small>\n",
       "<thead>\n",
       "<tr>\n",
       "<th>\n",
       "integer2\n",
       "</th>\n",
       "<th>\n",
       "date\n",
       "</th>\n",
       "<th>\n",
       "float\n",
       "</th>\n",
       "<th>\n",
       "string\n",
       "</th>\n",
       "</tr>\n",
       "<tr>\n",
       "<td>\n",
       "i64\n",
       "</td>\n",
       "<td>\n",
       "datetime[μs]\n",
       "</td>\n",
       "<td>\n",
       "f64\n",
       "</td>\n",
       "<td>\n",
       "str\n",
       "</td>\n",
       "</tr>\n",
       "</thead>\n",
       "<tbody>\n",
       "<tr>\n",
       "<td>\n",
       "1\n",
       "</td>\n",
       "<td>\n",
       "2022-01-01 00:00:00\n",
       "</td>\n",
       "<td>\n",
       "4.0\n",
       "</td>\n",
       "<td>\n",
       "&quot;a&quot;\n",
       "</td>\n",
       "</tr>\n",
       "<tr>\n",
       "<td>\n",
       "2\n",
       "</td>\n",
       "<td>\n",
       "2022-01-02 00:00:00\n",
       "</td>\n",
       "<td>\n",
       "5.0\n",
       "</td>\n",
       "<td>\n",
       "&quot;b&quot;\n",
       "</td>\n",
       "</tr>\n",
       "<tr>\n",
       "<td>\n",
       "3\n",
       "</td>\n",
       "<td>\n",
       "2022-01-03 00:00:00\n",
       "</td>\n",
       "<td>\n",
       "6.0\n",
       "</td>\n",
       "<td>\n",
       "&quot;c&quot;\n",
       "</td>\n",
       "</tr>\n",
       "</tbody>\n",
       "</table>\n",
       "</div>"
      ],
      "text/plain": [
       "shape: (3, 4)\n",
       "┌──────────┬─────────────────────┬───────┬────────┐\n",
       "│ integer2 ┆ date                ┆ float ┆ string │\n",
       "│ ---      ┆ ---                 ┆ ---   ┆ ---    │\n",
       "│ i64      ┆ datetime[μs]        ┆ f64   ┆ str    │\n",
       "╞══════════╪═════════════════════╪═══════╪════════╡\n",
       "│ 1        ┆ 2022-01-01 00:00:00 ┆ 4.0   ┆ a      │\n",
       "│ 2        ┆ 2022-01-02 00:00:00 ┆ 5.0   ┆ b      │\n",
       "│ 3        ┆ 2022-01-03 00:00:00 ┆ 6.0   ┆ c      │\n",
       "└──────────┴─────────────────────┴───────┴────────┘"
      ]
     },
     "execution_count": 215,
     "metadata": {},
     "output_type": "execute_result"
    }
   ],
   "source": [
    "df.rename({'integer': 'integer2'})"
   ]
  },
  {
   "cell_type": "markdown",
   "id": "ee98f114",
   "metadata": {},
   "source": [
    "## Convert to Other Python Objects\n",
    "TODO\n",
    "\n",
    "### To Pandas\n",
    "\n",
    "### To Numpy\n",
    "\n",
    "### To Python List\n",
    "\n",
    "### To Python Dict\n",
    "\n",
    "### To Python Tuple\n",
    "\n",
    "\n",
    "\n",
    "## Dataframe in Memory\n"
   ]
  },
  {
   "cell_type": "code",
   "execution_count": 220,
   "id": "b356843d",
   "metadata": {},
   "outputs": [
    {
     "data": {
      "text/plain": [
       "9.96515154838562e-08"
      ]
     },
     "execution_count": 216,
     "metadata": {},
     "output_type": "execute_result"
    }
   ],
   "source": [
    "df.estimated_size(unit=\"gb\")"
   ]
  },
  {
   "cell_type": "code",
   "execution_count": 221,
   "id": "4f9b52c7",
   "metadata": {},
   "outputs": [
    {
     "data": {
      "text/plain": [
       "1"
      ]
     },
     "execution_count": 217,
     "metadata": {},
     "output_type": "execute_result"
    }
   ],
   "source": [
    "df.n_chunks() # number of ChunkedArrays in the dataframe"
   ]
  },
  {
   "cell_type": "code",
   "execution_count": 222,
   "id": "77e46184",
   "metadata": {},
   "outputs": [
    {
     "data": {
      "text/html": [
       "<div>\n",
       "<style scoped>\n",
       "    .dataframe tbody tr th:only-of-type {\n",
       "        vertical-align: middle;\n",
       "    }\n",
       "\n",
       "    .dataframe tbody tr th {\n",
       "        vertical-align: top;\n",
       "    }\n",
       "\n",
       "    .dataframe thead th {\n",
       "        text-align: right;\n",
       "    }\n",
       "\n",
       "    .dataframe td {\n",
       "        white-space: pre;\n",
       "    }\n",
       "\n",
       "    .dataframe td {\n",
       "        padding-top: 0;\n",
       "    }\n",
       "\n",
       "    .dataframe td {\n",
       "        padding-bottom: 0;\n",
       "    }\n",
       "\n",
       "    .dataframe td {\n",
       "        line-height: 95%;\n",
       "    }\n",
       "</style>\n",
       "<table border=\"1\" class=\"dataframe\">\n",
       "<small>shape: (3, 4)</small>\n",
       "<thead>\n",
       "<tr>\n",
       "<th>\n",
       "integer\n",
       "</th>\n",
       "<th>\n",
       "date\n",
       "</th>\n",
       "<th>\n",
       "float\n",
       "</th>\n",
       "<th>\n",
       "string\n",
       "</th>\n",
       "</tr>\n",
       "<tr>\n",
       "<td>\n",
       "i64\n",
       "</td>\n",
       "<td>\n",
       "datetime[μs]\n",
       "</td>\n",
       "<td>\n",
       "f64\n",
       "</td>\n",
       "<td>\n",
       "str\n",
       "</td>\n",
       "</tr>\n",
       "</thead>\n",
       "<tbody>\n",
       "<tr>\n",
       "<td>\n",
       "1\n",
       "</td>\n",
       "<td>\n",
       "2022-01-01 00:00:00\n",
       "</td>\n",
       "<td>\n",
       "4.0\n",
       "</td>\n",
       "<td>\n",
       "&quot;a&quot;\n",
       "</td>\n",
       "</tr>\n",
       "<tr>\n",
       "<td>\n",
       "2\n",
       "</td>\n",
       "<td>\n",
       "2022-01-02 00:00:00\n",
       "</td>\n",
       "<td>\n",
       "5.0\n",
       "</td>\n",
       "<td>\n",
       "&quot;b&quot;\n",
       "</td>\n",
       "</tr>\n",
       "<tr>\n",
       "<td>\n",
       "3\n",
       "</td>\n",
       "<td>\n",
       "2022-01-03 00:00:00\n",
       "</td>\n",
       "<td>\n",
       "6.0\n",
       "</td>\n",
       "<td>\n",
       "&quot;c&quot;\n",
       "</td>\n",
       "</tr>\n",
       "</tbody>\n",
       "</table>\n",
       "</div>"
      ],
      "text/plain": [
       "shape: (3, 4)\n",
       "┌─────────┬─────────────────────┬───────┬────────┐\n",
       "│ integer ┆ date                ┆ float ┆ string │\n",
       "│ ---     ┆ ---                 ┆ ---   ┆ ---    │\n",
       "│ i64     ┆ datetime[μs]        ┆ f64   ┆ str    │\n",
       "╞═════════╪═════════════════════╪═══════╪════════╡\n",
       "│ 1       ┆ 2022-01-01 00:00:00 ┆ 4.0   ┆ a      │\n",
       "│ 2       ┆ 2022-01-02 00:00:00 ┆ 5.0   ┆ b      │\n",
       "│ 3       ┆ 2022-01-03 00:00:00 ┆ 6.0   ┆ c      │\n",
       "└─────────┴─────────────────────┴───────┴────────┘"
      ]
     },
     "execution_count": 218,
     "metadata": {},
     "output_type": "execute_result"
    }
   ],
   "source": [
    "df.rechunk() # ensure contiguous memory layout"
   ]
  },
  {
   "cell_type": "code",
   "execution_count": 223,
   "id": "64e7ee77",
   "metadata": {},
   "outputs": [
    {
     "data": {
      "text/html": [
       "<div>\n",
       "<style scoped>\n",
       "    .dataframe tbody tr th:only-of-type {\n",
       "        vertical-align: middle;\n",
       "    }\n",
       "\n",
       "    .dataframe tbody tr th {\n",
       "        vertical-align: top;\n",
       "    }\n",
       "\n",
       "    .dataframe thead th {\n",
       "        text-align: right;\n",
       "    }\n",
       "\n",
       "    .dataframe td {\n",
       "        white-space: pre;\n",
       "    }\n",
       "\n",
       "    .dataframe td {\n",
       "        padding-top: 0;\n",
       "    }\n",
       "\n",
       "    .dataframe td {\n",
       "        padding-bottom: 0;\n",
       "    }\n",
       "\n",
       "    .dataframe td {\n",
       "        line-height: 95%;\n",
       "    }\n",
       "</style>\n",
       "<table border=\"1\" class=\"dataframe\">\n",
       "<small>shape: (3, 4)</small>\n",
       "<thead>\n",
       "<tr>\n",
       "<th>\n",
       "integer\n",
       "</th>\n",
       "<th>\n",
       "date\n",
       "</th>\n",
       "<th>\n",
       "float\n",
       "</th>\n",
       "<th>\n",
       "string\n",
       "</th>\n",
       "</tr>\n",
       "<tr>\n",
       "<td>\n",
       "i64\n",
       "</td>\n",
       "<td>\n",
       "datetime[μs]\n",
       "</td>\n",
       "<td>\n",
       "f64\n",
       "</td>\n",
       "<td>\n",
       "str\n",
       "</td>\n",
       "</tr>\n",
       "</thead>\n",
       "<tbody>\n",
       "<tr>\n",
       "<td>\n",
       "1\n",
       "</td>\n",
       "<td>\n",
       "2022-01-01 00:00:00\n",
       "</td>\n",
       "<td>\n",
       "4.0\n",
       "</td>\n",
       "<td>\n",
       "&quot;a&quot;\n",
       "</td>\n",
       "</tr>\n",
       "<tr>\n",
       "<td>\n",
       "2\n",
       "</td>\n",
       "<td>\n",
       "2022-01-02 00:00:00\n",
       "</td>\n",
       "<td>\n",
       "5.0\n",
       "</td>\n",
       "<td>\n",
       "&quot;b&quot;\n",
       "</td>\n",
       "</tr>\n",
       "<tr>\n",
       "<td>\n",
       "3\n",
       "</td>\n",
       "<td>\n",
       "2022-01-03 00:00:00\n",
       "</td>\n",
       "<td>\n",
       "6.0\n",
       "</td>\n",
       "<td>\n",
       "&quot;c&quot;\n",
       "</td>\n",
       "</tr>\n",
       "</tbody>\n",
       "</table>\n",
       "</div>"
      ],
      "text/plain": [
       "shape: (3, 4)\n",
       "┌─────────┬─────────────────────┬───────┬────────┐\n",
       "│ integer ┆ date                ┆ float ┆ string │\n",
       "│ ---     ┆ ---                 ┆ ---   ┆ ---    │\n",
       "│ i64     ┆ datetime[μs]        ┆ f64   ┆ str    │\n",
       "╞═════════╪═════════════════════╪═══════╪════════╡\n",
       "│ 1       ┆ 2022-01-01 00:00:00 ┆ 4.0   ┆ a      │\n",
       "│ 2       ┆ 2022-01-02 00:00:00 ┆ 5.0   ┆ b      │\n",
       "│ 3       ┆ 2022-01-03 00:00:00 ┆ 6.0   ┆ c      │\n",
       "└─────────┴─────────────────────┴───────┴────────┘"
      ]
     },
     "execution_count": 219,
     "metadata": {},
     "output_type": "execute_result"
    }
   ],
   "source": [
    "df.shrink_to_fit() # reduce memory allocation to actual size"
   ]
  },
  {
   "cell_type": "markdown",
   "id": "f3b77773",
   "metadata": {},
   "source": [
    "## Statistical Aggregations \n"
   ]
  },
  {
   "cell_type": "code",
   "execution_count": 224,
   "id": "33d35699",
   "metadata": {},
   "outputs": [
    {
     "data": {
      "text/html": [
       "<div>\n",
       "<style scoped>\n",
       "    .dataframe tbody tr th:only-of-type {\n",
       "        vertical-align: middle;\n",
       "    }\n",
       "\n",
       "    .dataframe tbody tr th {\n",
       "        vertical-align: top;\n",
       "    }\n",
       "\n",
       "    .dataframe thead th {\n",
       "        text-align: right;\n",
       "    }\n",
       "\n",
       "    .dataframe td {\n",
       "        white-space: pre;\n",
       "    }\n",
       "\n",
       "    .dataframe td {\n",
       "        padding-top: 0;\n",
       "    }\n",
       "\n",
       "    .dataframe td {\n",
       "        padding-bottom: 0;\n",
       "    }\n",
       "\n",
       "    .dataframe td {\n",
       "        line-height: 95%;\n",
       "    }\n",
       "</style>\n",
       "<table border=\"1\" class=\"dataframe\">\n",
       "<small>shape: (7, 5)</small>\n",
       "<thead>\n",
       "<tr>\n",
       "<th>\n",
       "describe\n",
       "</th>\n",
       "<th>\n",
       "integer\n",
       "</th>\n",
       "<th>\n",
       "date\n",
       "</th>\n",
       "<th>\n",
       "float\n",
       "</th>\n",
       "<th>\n",
       "string\n",
       "</th>\n",
       "</tr>\n",
       "<tr>\n",
       "<td>\n",
       "str\n",
       "</td>\n",
       "<td>\n",
       "f64\n",
       "</td>\n",
       "<td>\n",
       "str\n",
       "</td>\n",
       "<td>\n",
       "f64\n",
       "</td>\n",
       "<td>\n",
       "str\n",
       "</td>\n",
       "</tr>\n",
       "</thead>\n",
       "<tbody>\n",
       "<tr>\n",
       "<td>\n",
       "&quot;count&quot;\n",
       "</td>\n",
       "<td>\n",
       "3.0\n",
       "</td>\n",
       "<td>\n",
       "&quot;3&quot;\n",
       "</td>\n",
       "<td>\n",
       "3.0\n",
       "</td>\n",
       "<td>\n",
       "&quot;3&quot;\n",
       "</td>\n",
       "</tr>\n",
       "<tr>\n",
       "<td>\n",
       "&quot;null_count&quot;\n",
       "</td>\n",
       "<td>\n",
       "0.0\n",
       "</td>\n",
       "<td>\n",
       "&quot;0&quot;\n",
       "</td>\n",
       "<td>\n",
       "0.0\n",
       "</td>\n",
       "<td>\n",
       "&quot;0&quot;\n",
       "</td>\n",
       "</tr>\n",
       "<tr>\n",
       "<td>\n",
       "&quot;mean&quot;\n",
       "</td>\n",
       "<td>\n",
       "2.0\n",
       "</td>\n",
       "<td>\n",
       "null\n",
       "</td>\n",
       "<td>\n",
       "5.0\n",
       "</td>\n",
       "<td>\n",
       "null\n",
       "</td>\n",
       "</tr>\n",
       "<tr>\n",
       "<td>\n",
       "&quot;std&quot;\n",
       "</td>\n",
       "<td>\n",
       "1.0\n",
       "</td>\n",
       "<td>\n",
       "null\n",
       "</td>\n",
       "<td>\n",
       "1.0\n",
       "</td>\n",
       "<td>\n",
       "null\n",
       "</td>\n",
       "</tr>\n",
       "<tr>\n",
       "<td>\n",
       "&quot;min&quot;\n",
       "</td>\n",
       "<td>\n",
       "1.0\n",
       "</td>\n",
       "<td>\n",
       "&quot;2022-01-01 00:...\n",
       "</td>\n",
       "<td>\n",
       "4.0\n",
       "</td>\n",
       "<td>\n",
       "&quot;a&quot;\n",
       "</td>\n",
       "</tr>\n",
       "<tr>\n",
       "<td>\n",
       "&quot;max&quot;\n",
       "</td>\n",
       "<td>\n",
       "3.0\n",
       "</td>\n",
       "<td>\n",
       "&quot;2022-01-03 00:...\n",
       "</td>\n",
       "<td>\n",
       "6.0\n",
       "</td>\n",
       "<td>\n",
       "&quot;c&quot;\n",
       "</td>\n",
       "</tr>\n",
       "<tr>\n",
       "<td>\n",
       "&quot;median&quot;\n",
       "</td>\n",
       "<td>\n",
       "2.0\n",
       "</td>\n",
       "<td>\n",
       "null\n",
       "</td>\n",
       "<td>\n",
       "5.0\n",
       "</td>\n",
       "<td>\n",
       "null\n",
       "</td>\n",
       "</tr>\n",
       "</tbody>\n",
       "</table>\n",
       "</div>"
      ],
      "text/plain": [
       "shape: (7, 5)\n",
       "┌────────────┬─────────┬────────────────────────────┬───────┬────────┐\n",
       "│ describe   ┆ integer ┆ date                       ┆ float ┆ string │\n",
       "│ ---        ┆ ---     ┆ ---                        ┆ ---   ┆ ---    │\n",
       "│ str        ┆ f64     ┆ str                        ┆ f64   ┆ str    │\n",
       "╞════════════╪═════════╪════════════════════════════╪═══════╪════════╡\n",
       "│ count      ┆ 3.0     ┆ 3                          ┆ 3.0   ┆ 3      │\n",
       "│ null_count ┆ 0.0     ┆ 0                          ┆ 0.0   ┆ 0      │\n",
       "│ mean       ┆ 2.0     ┆ null                       ┆ 5.0   ┆ null   │\n",
       "│ std        ┆ 1.0     ┆ null                       ┆ 1.0   ┆ null   │\n",
       "│ min        ┆ 1.0     ┆ 2022-01-01 00:00:00.000000 ┆ 4.0   ┆ a      │\n",
       "│ max        ┆ 3.0     ┆ 2022-01-03 00:00:00.000000 ┆ 6.0   ┆ c      │\n",
       "│ median     ┆ 2.0     ┆ null                       ┆ 5.0   ┆ null   │\n",
       "└────────────┴─────────┴────────────────────────────┴───────┴────────┘"
      ]
     },
     "execution_count": 220,
     "metadata": {},
     "output_type": "execute_result"
    }
   ],
   "source": [
    "df.describe()"
   ]
  },
  {
   "cell_type": "markdown",
   "id": "91ff54d8",
   "metadata": {},
   "source": [
    "Compare to pandas:"
   ]
  },
  {
   "cell_type": "code",
   "execution_count": 225,
   "id": "adc4e3da",
   "metadata": {},
   "outputs": [
    {
     "data": {
      "text/html": [
       "<div>\n",
       "<style scoped>\n",
       "    .dataframe tbody tr th:only-of-type {\n",
       "        vertical-align: middle;\n",
       "    }\n",
       "\n",
       "    .dataframe tbody tr th {\n",
       "        vertical-align: top;\n",
       "    }\n",
       "\n",
       "    .dataframe thead th {\n",
       "        text-align: right;\n",
       "    }\n",
       "</style>\n",
       "<table border=\"1\" class=\"dataframe\">\n",
       "  <thead>\n",
       "    <tr style=\"text-align: right;\">\n",
       "      <th></th>\n",
       "      <th>integer</th>\n",
       "      <th>float</th>\n",
       "    </tr>\n",
       "  </thead>\n",
       "  <tbody>\n",
       "    <tr>\n",
       "      <th>count</th>\n",
       "      <td>3.0</td>\n",
       "      <td>3.0</td>\n",
       "    </tr>\n",
       "    <tr>\n",
       "      <th>mean</th>\n",
       "      <td>2.0</td>\n",
       "      <td>5.0</td>\n",
       "    </tr>\n",
       "    <tr>\n",
       "      <th>std</th>\n",
       "      <td>1.0</td>\n",
       "      <td>1.0</td>\n",
       "    </tr>\n",
       "    <tr>\n",
       "      <th>min</th>\n",
       "      <td>1.0</td>\n",
       "      <td>4.0</td>\n",
       "    </tr>\n",
       "    <tr>\n",
       "      <th>25%</th>\n",
       "      <td>1.5</td>\n",
       "      <td>4.5</td>\n",
       "    </tr>\n",
       "    <tr>\n",
       "      <th>50%</th>\n",
       "      <td>2.0</td>\n",
       "      <td>5.0</td>\n",
       "    </tr>\n",
       "    <tr>\n",
       "      <th>75%</th>\n",
       "      <td>2.5</td>\n",
       "      <td>5.5</td>\n",
       "    </tr>\n",
       "    <tr>\n",
       "      <th>max</th>\n",
       "      <td>3.0</td>\n",
       "      <td>6.0</td>\n",
       "    </tr>\n",
       "  </tbody>\n",
       "</table>\n",
       "</div>"
      ],
      "text/plain": [
       "       integer  float\n",
       "count      3.0    3.0\n",
       "mean       2.0    5.0\n",
       "std        1.0    1.0\n",
       "min        1.0    4.0\n",
       "25%        1.5    4.5\n",
       "50%        2.0    5.0\n",
       "75%        2.5    5.5\n",
       "max        3.0    6.0"
      ]
     },
     "execution_count": 221,
     "metadata": {},
     "output_type": "execute_result"
    }
   ],
   "source": [
    "df.to_pandas().describe()"
   ]
  },
  {
   "cell_type": "markdown",
   "id": "eef57bad",
   "metadata": {},
   "source": [
    "Things to note:\n",
    "\n",
    "- Polas will summarize all columns, even if they are not numeric.\n",
    "- The statistics returned are different.\n",
    "- In the following, Polars will always return a frame with the same number of columns as the original frame; pandas would have returned columns only where the operation is defined, and omit NAs. \n",
    "\n",
    "Statistical aggregations operate column-wise (and in parallel)."
   ]
  },
  {
   "cell_type": "code",
   "execution_count": 226,
   "id": "dcf3ca8f",
   "metadata": {},
   "outputs": [
    {
     "data": {
      "text/html": [
       "<div>\n",
       "<style scoped>\n",
       "    .dataframe tbody tr th:only-of-type {\n",
       "        vertical-align: middle;\n",
       "    }\n",
       "\n",
       "    .dataframe tbody tr th {\n",
       "        vertical-align: top;\n",
       "    }\n",
       "\n",
       "    .dataframe thead th {\n",
       "        text-align: right;\n",
       "    }\n",
       "\n",
       "    .dataframe td {\n",
       "        white-space: pre;\n",
       "    }\n",
       "\n",
       "    .dataframe td {\n",
       "        padding-top: 0;\n",
       "    }\n",
       "\n",
       "    .dataframe td {\n",
       "        padding-bottom: 0;\n",
       "    }\n",
       "\n",
       "    .dataframe td {\n",
       "        line-height: 95%;\n",
       "    }\n",
       "</style>\n",
       "<table border=\"1\" class=\"dataframe\">\n",
       "<small>shape: (1, 4)</small>\n",
       "<thead>\n",
       "<tr>\n",
       "<th>\n",
       "integer\n",
       "</th>\n",
       "<th>\n",
       "date\n",
       "</th>\n",
       "<th>\n",
       "float\n",
       "</th>\n",
       "<th>\n",
       "string\n",
       "</th>\n",
       "</tr>\n",
       "<tr>\n",
       "<td>\n",
       "i64\n",
       "</td>\n",
       "<td>\n",
       "datetime[μs]\n",
       "</td>\n",
       "<td>\n",
       "f64\n",
       "</td>\n",
       "<td>\n",
       "str\n",
       "</td>\n",
       "</tr>\n",
       "</thead>\n",
       "<tbody>\n",
       "<tr>\n",
       "<td>\n",
       "3\n",
       "</td>\n",
       "<td>\n",
       "2022-01-03 00:00:00\n",
       "</td>\n",
       "<td>\n",
       "6.0\n",
       "</td>\n",
       "<td>\n",
       "&quot;c&quot;\n",
       "</td>\n",
       "</tr>\n",
       "</tbody>\n",
       "</table>\n",
       "</div>"
      ],
      "text/plain": [
       "shape: (1, 4)\n",
       "┌─────────┬─────────────────────┬───────┬────────┐\n",
       "│ integer ┆ date                ┆ float ┆ string │\n",
       "│ ---     ┆ ---                 ┆ ---   ┆ ---    │\n",
       "│ i64     ┆ datetime[μs]        ┆ f64   ┆ str    │\n",
       "╞═════════╪═════════════════════╪═══════╪════════╡\n",
       "│ 3       ┆ 2022-01-03 00:00:00 ┆ 6.0   ┆ c      │\n",
       "└─────────┴─────────────────────┴───────┴────────┘"
      ]
     },
     "execution_count": 222,
     "metadata": {},
     "output_type": "execute_result"
    }
   ],
   "source": [
    "df.max()"
   ]
  },
  {
   "cell_type": "code",
   "execution_count": 227,
   "id": "435e99dd",
   "metadata": {},
   "outputs": [
    {
     "data": {
      "text/html": [
       "<div>\n",
       "<style scoped>\n",
       "    .dataframe tbody tr th:only-of-type {\n",
       "        vertical-align: middle;\n",
       "    }\n",
       "\n",
       "    .dataframe tbody tr th {\n",
       "        vertical-align: top;\n",
       "    }\n",
       "\n",
       "    .dataframe thead th {\n",
       "        text-align: right;\n",
       "    }\n",
       "\n",
       "    .dataframe td {\n",
       "        white-space: pre;\n",
       "    }\n",
       "\n",
       "    .dataframe td {\n",
       "        padding-top: 0;\n",
       "    }\n",
       "\n",
       "    .dataframe td {\n",
       "        padding-bottom: 0;\n",
       "    }\n",
       "\n",
       "    .dataframe td {\n",
       "        line-height: 95%;\n",
       "    }\n",
       "</style>\n",
       "<table border=\"1\" class=\"dataframe\">\n",
       "<small>shape: (1, 4)</small>\n",
       "<thead>\n",
       "<tr>\n",
       "<th>\n",
       "integer\n",
       "</th>\n",
       "<th>\n",
       "date\n",
       "</th>\n",
       "<th>\n",
       "float\n",
       "</th>\n",
       "<th>\n",
       "string\n",
       "</th>\n",
       "</tr>\n",
       "<tr>\n",
       "<td>\n",
       "i64\n",
       "</td>\n",
       "<td>\n",
       "datetime[μs]\n",
       "</td>\n",
       "<td>\n",
       "f64\n",
       "</td>\n",
       "<td>\n",
       "str\n",
       "</td>\n",
       "</tr>\n",
       "</thead>\n",
       "<tbody>\n",
       "<tr>\n",
       "<td>\n",
       "1\n",
       "</td>\n",
       "<td>\n",
       "2022-01-01 00:00:00\n",
       "</td>\n",
       "<td>\n",
       "4.0\n",
       "</td>\n",
       "<td>\n",
       "&quot;a&quot;\n",
       "</td>\n",
       "</tr>\n",
       "</tbody>\n",
       "</table>\n",
       "</div>"
      ],
      "text/plain": [
       "shape: (1, 4)\n",
       "┌─────────┬─────────────────────┬───────┬────────┐\n",
       "│ integer ┆ date                ┆ float ┆ string │\n",
       "│ ---     ┆ ---                 ┆ ---   ┆ ---    │\n",
       "│ i64     ┆ datetime[μs]        ┆ f64   ┆ str    │\n",
       "╞═════════╪═════════════════════╪═══════╪════════╡\n",
       "│ 1       ┆ 2022-01-01 00:00:00 ┆ 4.0   ┆ a      │\n",
       "└─────────┴─────────────────────┴───────┴────────┘"
      ]
     },
     "execution_count": 223,
     "metadata": {},
     "output_type": "execute_result"
    }
   ],
   "source": [
    "df.min()"
   ]
  },
  {
   "cell_type": "code",
   "execution_count": 228,
   "id": "9a326106",
   "metadata": {},
   "outputs": [
    {
     "data": {
      "text/html": [
       "<div>\n",
       "<style scoped>\n",
       "    .dataframe tbody tr th:only-of-type {\n",
       "        vertical-align: middle;\n",
       "    }\n",
       "\n",
       "    .dataframe tbody tr th {\n",
       "        vertical-align: top;\n",
       "    }\n",
       "\n",
       "    .dataframe thead th {\n",
       "        text-align: right;\n",
       "    }\n",
       "\n",
       "    .dataframe td {\n",
       "        white-space: pre;\n",
       "    }\n",
       "\n",
       "    .dataframe td {\n",
       "        padding-top: 0;\n",
       "    }\n",
       "\n",
       "    .dataframe td {\n",
       "        padding-bottom: 0;\n",
       "    }\n",
       "\n",
       "    .dataframe td {\n",
       "        line-height: 95%;\n",
       "    }\n",
       "</style>\n",
       "<table border=\"1\" class=\"dataframe\">\n",
       "<small>shape: (1, 4)</small>\n",
       "<thead>\n",
       "<tr>\n",
       "<th>\n",
       "integer\n",
       "</th>\n",
       "<th>\n",
       "date\n",
       "</th>\n",
       "<th>\n",
       "float\n",
       "</th>\n",
       "<th>\n",
       "string\n",
       "</th>\n",
       "</tr>\n",
       "<tr>\n",
       "<td>\n",
       "f64\n",
       "</td>\n",
       "<td>\n",
       "datetime[μs]\n",
       "</td>\n",
       "<td>\n",
       "f64\n",
       "</td>\n",
       "<td>\n",
       "str\n",
       "</td>\n",
       "</tr>\n",
       "</thead>\n",
       "<tbody>\n",
       "<tr>\n",
       "<td>\n",
       "2.0\n",
       "</td>\n",
       "<td>\n",
       "null\n",
       "</td>\n",
       "<td>\n",
       "5.0\n",
       "</td>\n",
       "<td>\n",
       "null\n",
       "</td>\n",
       "</tr>\n",
       "</tbody>\n",
       "</table>\n",
       "</div>"
      ],
      "text/plain": [
       "shape: (1, 4)\n",
       "┌─────────┬──────────────┬───────┬────────┐\n",
       "│ integer ┆ date         ┆ float ┆ string │\n",
       "│ ---     ┆ ---          ┆ ---   ┆ ---    │\n",
       "│ f64     ┆ datetime[μs] ┆ f64   ┆ str    │\n",
       "╞═════════╪══════════════╪═══════╪════════╡\n",
       "│ 2.0     ┆ null         ┆ 5.0   ┆ null   │\n",
       "└─────────┴──────────────┴───────┴────────┘"
      ]
     },
     "execution_count": 224,
     "metadata": {},
     "output_type": "execute_result"
    }
   ],
   "source": [
    "df.mean()"
   ]
  },
  {
   "cell_type": "code",
   "execution_count": 229,
   "id": "367a927a",
   "metadata": {},
   "outputs": [
    {
     "data": {
      "text/html": [
       "<div>\n",
       "<style scoped>\n",
       "    .dataframe tbody tr th:only-of-type {\n",
       "        vertical-align: middle;\n",
       "    }\n",
       "\n",
       "    .dataframe tbody tr th {\n",
       "        vertical-align: top;\n",
       "    }\n",
       "\n",
       "    .dataframe thead th {\n",
       "        text-align: right;\n",
       "    }\n",
       "\n",
       "    .dataframe td {\n",
       "        white-space: pre;\n",
       "    }\n",
       "\n",
       "    .dataframe td {\n",
       "        padding-top: 0;\n",
       "    }\n",
       "\n",
       "    .dataframe td {\n",
       "        padding-bottom: 0;\n",
       "    }\n",
       "\n",
       "    .dataframe td {\n",
       "        line-height: 95%;\n",
       "    }\n",
       "</style>\n",
       "<table border=\"1\" class=\"dataframe\">\n",
       "<small>shape: (1, 4)</small>\n",
       "<thead>\n",
       "<tr>\n",
       "<th>\n",
       "integer\n",
       "</th>\n",
       "<th>\n",
       "date\n",
       "</th>\n",
       "<th>\n",
       "float\n",
       "</th>\n",
       "<th>\n",
       "string\n",
       "</th>\n",
       "</tr>\n",
       "<tr>\n",
       "<td>\n",
       "f64\n",
       "</td>\n",
       "<td>\n",
       "datetime[μs]\n",
       "</td>\n",
       "<td>\n",
       "f64\n",
       "</td>\n",
       "<td>\n",
       "str\n",
       "</td>\n",
       "</tr>\n",
       "</thead>\n",
       "<tbody>\n",
       "<tr>\n",
       "<td>\n",
       "2.0\n",
       "</td>\n",
       "<td>\n",
       "null\n",
       "</td>\n",
       "<td>\n",
       "5.0\n",
       "</td>\n",
       "<td>\n",
       "null\n",
       "</td>\n",
       "</tr>\n",
       "</tbody>\n",
       "</table>\n",
       "</div>"
      ],
      "text/plain": [
       "shape: (1, 4)\n",
       "┌─────────┬──────────────┬───────┬────────┐\n",
       "│ integer ┆ date         ┆ float ┆ string │\n",
       "│ ---     ┆ ---          ┆ ---   ┆ ---    │\n",
       "│ f64     ┆ datetime[μs] ┆ f64   ┆ str    │\n",
       "╞═════════╪══════════════╪═══════╪════════╡\n",
       "│ 2.0     ┆ null         ┆ 5.0   ┆ null   │\n",
       "└─────────┴──────────────┴───────┴────────┘"
      ]
     },
     "execution_count": 225,
     "metadata": {},
     "output_type": "execute_result"
    }
   ],
   "source": [
    "df.median()"
   ]
  },
  {
   "cell_type": "code",
   "execution_count": 230,
   "id": "011123ba",
   "metadata": {},
   "outputs": [
    {
     "data": {
      "text/html": [
       "<div>\n",
       "<style scoped>\n",
       "    .dataframe tbody tr th:only-of-type {\n",
       "        vertical-align: middle;\n",
       "    }\n",
       "\n",
       "    .dataframe tbody tr th {\n",
       "        vertical-align: top;\n",
       "    }\n",
       "\n",
       "    .dataframe thead th {\n",
       "        text-align: right;\n",
       "    }\n",
       "\n",
       "    .dataframe td {\n",
       "        white-space: pre;\n",
       "    }\n",
       "\n",
       "    .dataframe td {\n",
       "        padding-top: 0;\n",
       "    }\n",
       "\n",
       "    .dataframe td {\n",
       "        padding-bottom: 0;\n",
       "    }\n",
       "\n",
       "    .dataframe td {\n",
       "        line-height: 95%;\n",
       "    }\n",
       "</style>\n",
       "<table border=\"1\" class=\"dataframe\">\n",
       "<small>shape: (1, 4)</small>\n",
       "<thead>\n",
       "<tr>\n",
       "<th>\n",
       "integer\n",
       "</th>\n",
       "<th>\n",
       "date\n",
       "</th>\n",
       "<th>\n",
       "float\n",
       "</th>\n",
       "<th>\n",
       "string\n",
       "</th>\n",
       "</tr>\n",
       "<tr>\n",
       "<td>\n",
       "i64\n",
       "</td>\n",
       "<td>\n",
       "datetime[μs]\n",
       "</td>\n",
       "<td>\n",
       "f64\n",
       "</td>\n",
       "<td>\n",
       "str\n",
       "</td>\n",
       "</tr>\n",
       "</thead>\n",
       "<tbody>\n",
       "<tr>\n",
       "<td>\n",
       "6\n",
       "</td>\n",
       "<td>\n",
       "null\n",
       "</td>\n",
       "<td>\n",
       "15.0\n",
       "</td>\n",
       "<td>\n",
       "null\n",
       "</td>\n",
       "</tr>\n",
       "</tbody>\n",
       "</table>\n",
       "</div>"
      ],
      "text/plain": [
       "shape: (1, 4)\n",
       "┌─────────┬──────────────┬───────┬────────┐\n",
       "│ integer ┆ date         ┆ float ┆ string │\n",
       "│ ---     ┆ ---          ┆ ---   ┆ ---    │\n",
       "│ i64     ┆ datetime[μs] ┆ f64   ┆ str    │\n",
       "╞═════════╪══════════════╪═══════╪════════╡\n",
       "│ 6       ┆ null         ┆ 15.0  ┆ null   │\n",
       "└─────────┴──────────────┴───────┴────────┘"
      ]
     },
     "execution_count": 226,
     "metadata": {},
     "output_type": "execute_result"
    }
   ],
   "source": [
    "df.sum()"
   ]
  },
  {
   "cell_type": "code",
   "execution_count": 231,
   "id": "8a988a31",
   "metadata": {},
   "outputs": [
    {
     "data": {
      "text/html": [
       "<div>\n",
       "<style scoped>\n",
       "    .dataframe tbody tr th:only-of-type {\n",
       "        vertical-align: middle;\n",
       "    }\n",
       "\n",
       "    .dataframe tbody tr th {\n",
       "        vertical-align: top;\n",
       "    }\n",
       "\n",
       "    .dataframe thead th {\n",
       "        text-align: right;\n",
       "    }\n",
       "\n",
       "    .dataframe td {\n",
       "        white-space: pre;\n",
       "    }\n",
       "\n",
       "    .dataframe td {\n",
       "        padding-top: 0;\n",
       "    }\n",
       "\n",
       "    .dataframe td {\n",
       "        padding-bottom: 0;\n",
       "    }\n",
       "\n",
       "    .dataframe td {\n",
       "        line-height: 95%;\n",
       "    }\n",
       "</style>\n",
       "<table border=\"1\" class=\"dataframe\">\n",
       "<small>shape: (1, 4)</small>\n",
       "<thead>\n",
       "<tr>\n",
       "<th>\n",
       "integer\n",
       "</th>\n",
       "<th>\n",
       "date\n",
       "</th>\n",
       "<th>\n",
       "float\n",
       "</th>\n",
       "<th>\n",
       "string\n",
       "</th>\n",
       "</tr>\n",
       "<tr>\n",
       "<td>\n",
       "f64\n",
       "</td>\n",
       "<td>\n",
       "datetime[μs]\n",
       "</td>\n",
       "<td>\n",
       "f64\n",
       "</td>\n",
       "<td>\n",
       "str\n",
       "</td>\n",
       "</tr>\n",
       "</thead>\n",
       "<tbody>\n",
       "<tr>\n",
       "<td>\n",
       "1.0\n",
       "</td>\n",
       "<td>\n",
       "null\n",
       "</td>\n",
       "<td>\n",
       "1.0\n",
       "</td>\n",
       "<td>\n",
       "null\n",
       "</td>\n",
       "</tr>\n",
       "</tbody>\n",
       "</table>\n",
       "</div>"
      ],
      "text/plain": [
       "shape: (1, 4)\n",
       "┌─────────┬──────────────┬───────┬────────┐\n",
       "│ integer ┆ date         ┆ float ┆ string │\n",
       "│ ---     ┆ ---          ┆ ---   ┆ ---    │\n",
       "│ f64     ┆ datetime[μs] ┆ f64   ┆ str    │\n",
       "╞═════════╪══════════════╪═══════╪════════╡\n",
       "│ 1.0     ┆ null         ┆ 1.0   ┆ null   │\n",
       "└─────────┴──────────────┴───────┴────────┘"
      ]
     },
     "execution_count": 227,
     "metadata": {},
     "output_type": "execute_result"
    }
   ],
   "source": [
    "df.std()"
   ]
  },
  {
   "cell_type": "code",
   "execution_count": 232,
   "id": "d2df937d",
   "metadata": {},
   "outputs": [
    {
     "data": {
      "text/html": [
       "<div>\n",
       "<style scoped>\n",
       "    .dataframe tbody tr th:only-of-type {\n",
       "        vertical-align: middle;\n",
       "    }\n",
       "\n",
       "    .dataframe tbody tr th {\n",
       "        vertical-align: top;\n",
       "    }\n",
       "\n",
       "    .dataframe thead th {\n",
       "        text-align: right;\n",
       "    }\n",
       "\n",
       "    .dataframe td {\n",
       "        white-space: pre;\n",
       "    }\n",
       "\n",
       "    .dataframe td {\n",
       "        padding-top: 0;\n",
       "    }\n",
       "\n",
       "    .dataframe td {\n",
       "        padding-bottom: 0;\n",
       "    }\n",
       "\n",
       "    .dataframe td {\n",
       "        line-height: 95%;\n",
       "    }\n",
       "</style>\n",
       "<table border=\"1\" class=\"dataframe\">\n",
       "<small>shape: (1, 4)</small>\n",
       "<thead>\n",
       "<tr>\n",
       "<th>\n",
       "integer\n",
       "</th>\n",
       "<th>\n",
       "date\n",
       "</th>\n",
       "<th>\n",
       "float\n",
       "</th>\n",
       "<th>\n",
       "string\n",
       "</th>\n",
       "</tr>\n",
       "<tr>\n",
       "<td>\n",
       "f64\n",
       "</td>\n",
       "<td>\n",
       "datetime[μs]\n",
       "</td>\n",
       "<td>\n",
       "f64\n",
       "</td>\n",
       "<td>\n",
       "str\n",
       "</td>\n",
       "</tr>\n",
       "</thead>\n",
       "<tbody>\n",
       "<tr>\n",
       "<td>\n",
       "1.0\n",
       "</td>\n",
       "<td>\n",
       "null\n",
       "</td>\n",
       "<td>\n",
       "4.0\n",
       "</td>\n",
       "<td>\n",
       "null\n",
       "</td>\n",
       "</tr>\n",
       "</tbody>\n",
       "</table>\n",
       "</div>"
      ],
      "text/plain": [
       "shape: (1, 4)\n",
       "┌─────────┬──────────────┬───────┬────────┐\n",
       "│ integer ┆ date         ┆ float ┆ string │\n",
       "│ ---     ┆ ---          ┆ ---   ┆ ---    │\n",
       "│ f64     ┆ datetime[μs] ┆ f64   ┆ str    │\n",
       "╞═════════╪══════════════╪═══════╪════════╡\n",
       "│ 1.0     ┆ null         ┆ 4.0   ┆ null   │\n",
       "└─────────┴──────────────┴───────┴────────┘"
      ]
     },
     "execution_count": 228,
     "metadata": {},
     "output_type": "execute_result"
    }
   ],
   "source": [
    "df.quantile(0.1)"
   ]
  },
  {
   "cell_type": "markdown",
   "id": "33f401d4",
   "metadata": {},
   "source": [
    "## Exctraction\n",
    "\n",
    "1. If you are used to pandas, recall there is no index. There is thus no need for `loc` vs. `iloc`, `reset_index()`, etc.\n",
    "2. Filtering and selection is possible with the `[` operator, or the `filter()` and `select()` methods. The latter is recommended to facilitate lazy evaluation (discussed later).\n",
    "\n",
    "\n",
    "\n",
    "Single cell extraction."
   ]
  },
  {
   "cell_type": "code",
   "execution_count": 233,
   "id": "79559885",
   "metadata": {},
   "outputs": [
    {
     "data": {
      "text/plain": [
       "1"
      ]
     },
     "execution_count": 229,
     "metadata": {},
     "output_type": "execute_result"
    }
   ],
   "source": [
    "df[0,0] # like pandas .iloc[]"
   ]
  },
  {
   "cell_type": "markdown",
   "id": "f0b3d510",
   "metadata": {},
   "source": [
    "Slicing along rows."
   ]
  },
  {
   "cell_type": "code",
   "execution_count": 234,
   "id": "95b85643",
   "metadata": {},
   "outputs": [
    {
     "data": {
      "text/html": [
       "<div>\n",
       "<style scoped>\n",
       "    .dataframe tbody tr th:only-of-type {\n",
       "        vertical-align: middle;\n",
       "    }\n",
       "\n",
       "    .dataframe tbody tr th {\n",
       "        vertical-align: top;\n",
       "    }\n",
       "\n",
       "    .dataframe thead th {\n",
       "        text-align: right;\n",
       "    }\n",
       "\n",
       "    .dataframe td {\n",
       "        white-space: pre;\n",
       "    }\n",
       "\n",
       "    .dataframe td {\n",
       "        padding-top: 0;\n",
       "    }\n",
       "\n",
       "    .dataframe td {\n",
       "        padding-bottom: 0;\n",
       "    }\n",
       "\n",
       "    .dataframe td {\n",
       "        line-height: 95%;\n",
       "    }\n",
       "</style>\n",
       "<table border=\"1\" class=\"dataframe\">\n",
       "<small>shape: (1, 4)</small>\n",
       "<thead>\n",
       "<tr>\n",
       "<th>\n",
       "integer\n",
       "</th>\n",
       "<th>\n",
       "date\n",
       "</th>\n",
       "<th>\n",
       "float\n",
       "</th>\n",
       "<th>\n",
       "string\n",
       "</th>\n",
       "</tr>\n",
       "<tr>\n",
       "<td>\n",
       "i64\n",
       "</td>\n",
       "<td>\n",
       "datetime[μs]\n",
       "</td>\n",
       "<td>\n",
       "f64\n",
       "</td>\n",
       "<td>\n",
       "str\n",
       "</td>\n",
       "</tr>\n",
       "</thead>\n",
       "<tbody>\n",
       "<tr>\n",
       "<td>\n",
       "1\n",
       "</td>\n",
       "<td>\n",
       "2022-01-01 00:00:00\n",
       "</td>\n",
       "<td>\n",
       "4.0\n",
       "</td>\n",
       "<td>\n",
       "&quot;a&quot;\n",
       "</td>\n",
       "</tr>\n",
       "</tbody>\n",
       "</table>\n",
       "</div>"
      ],
      "text/plain": [
       "shape: (1, 4)\n",
       "┌─────────┬─────────────────────┬───────┬────────┐\n",
       "│ integer ┆ date                ┆ float ┆ string │\n",
       "│ ---     ┆ ---                 ┆ ---   ┆ ---    │\n",
       "│ i64     ┆ datetime[μs]        ┆ f64   ┆ str    │\n",
       "╞═════════╪═════════════════════╪═══════╪════════╡\n",
       "│ 1       ┆ 2022-01-01 00:00:00 ┆ 4.0   ┆ a      │\n",
       "└─────────┴─────────────────────┴───────┴────────┘"
      ]
     },
     "execution_count": 230,
     "metadata": {},
     "output_type": "execute_result"
    }
   ],
   "source": [
    "df[0:1] "
   ]
  },
  {
   "cell_type": "markdown",
   "id": "3b110ce1",
   "metadata": {},
   "source": [
    "Slicing along columns."
   ]
  },
  {
   "cell_type": "code",
   "execution_count": 235,
   "id": "19d450c1",
   "metadata": {},
   "outputs": [
    {
     "data": {
      "text/html": [
       "<div>\n",
       "<style scoped>\n",
       "    .dataframe tbody tr th:only-of-type {\n",
       "        vertical-align: middle;\n",
       "    }\n",
       "\n",
       "    .dataframe tbody tr th {\n",
       "        vertical-align: top;\n",
       "    }\n",
       "\n",
       "    .dataframe thead th {\n",
       "        text-align: right;\n",
       "    }\n",
       "\n",
       "    .dataframe td {\n",
       "        white-space: pre;\n",
       "    }\n",
       "\n",
       "    .dataframe td {\n",
       "        padding-top: 0;\n",
       "    }\n",
       "\n",
       "    .dataframe td {\n",
       "        padding-bottom: 0;\n",
       "    }\n",
       "\n",
       "    .dataframe td {\n",
       "        line-height: 95%;\n",
       "    }\n",
       "</style>\n",
       "<table border=\"1\" class=\"dataframe\">\n",
       "<small>shape: (3, 1)</small>\n",
       "<thead>\n",
       "<tr>\n",
       "<th>\n",
       "integer\n",
       "</th>\n",
       "</tr>\n",
       "<tr>\n",
       "<td>\n",
       "i64\n",
       "</td>\n",
       "</tr>\n",
       "</thead>\n",
       "<tbody>\n",
       "<tr>\n",
       "<td>\n",
       "1\n",
       "</td>\n",
       "</tr>\n",
       "<tr>\n",
       "<td>\n",
       "2\n",
       "</td>\n",
       "</tr>\n",
       "<tr>\n",
       "<td>\n",
       "3\n",
       "</td>\n",
       "</tr>\n",
       "</tbody>\n",
       "</table>\n",
       "</div>"
      ],
      "text/plain": [
       "shape: (3, 1)\n",
       "┌─────────┐\n",
       "│ integer │\n",
       "│ ---     │\n",
       "│ i64     │\n",
       "╞═════════╡\n",
       "│ 1       │\n",
       "│ 2       │\n",
       "│ 3       │\n",
       "└─────────┘"
      ]
     },
     "execution_count": 231,
     "metadata": {},
     "output_type": "execute_result"
    }
   ],
   "source": [
    "df[:,0:1]"
   ]
  },
  {
   "cell_type": "markdown",
   "id": "4a065902",
   "metadata": {},
   "source": [
    "### Filtering Rows\n"
   ]
  },
  {
   "cell_type": "code",
   "execution_count": 236,
   "id": "b0990ee1",
   "metadata": {},
   "outputs": [
    {
     "data": {
      "text/html": [
       "<div>\n",
       "<style scoped>\n",
       "    .dataframe tbody tr th:only-of-type {\n",
       "        vertical-align: middle;\n",
       "    }\n",
       "\n",
       "    .dataframe tbody tr th {\n",
       "        vertical-align: top;\n",
       "    }\n",
       "\n",
       "    .dataframe thead th {\n",
       "        text-align: right;\n",
       "    }\n",
       "\n",
       "    .dataframe td {\n",
       "        white-space: pre;\n",
       "    }\n",
       "\n",
       "    .dataframe td {\n",
       "        padding-top: 0;\n",
       "    }\n",
       "\n",
       "    .dataframe td {\n",
       "        padding-bottom: 0;\n",
       "    }\n",
       "\n",
       "    .dataframe td {\n",
       "        line-height: 95%;\n",
       "    }\n",
       "</style>\n",
       "<table border=\"1\" class=\"dataframe\">\n",
       "<small>shape: (2, 4)</small>\n",
       "<thead>\n",
       "<tr>\n",
       "<th>\n",
       "integer\n",
       "</th>\n",
       "<th>\n",
       "date\n",
       "</th>\n",
       "<th>\n",
       "float\n",
       "</th>\n",
       "<th>\n",
       "string\n",
       "</th>\n",
       "</tr>\n",
       "<tr>\n",
       "<td>\n",
       "i64\n",
       "</td>\n",
       "<td>\n",
       "datetime[μs]\n",
       "</td>\n",
       "<td>\n",
       "f64\n",
       "</td>\n",
       "<td>\n",
       "str\n",
       "</td>\n",
       "</tr>\n",
       "</thead>\n",
       "<tbody>\n",
       "<tr>\n",
       "<td>\n",
       "1\n",
       "</td>\n",
       "<td>\n",
       "2022-01-01 00:00:00\n",
       "</td>\n",
       "<td>\n",
       "4.0\n",
       "</td>\n",
       "<td>\n",
       "&quot;a&quot;\n",
       "</td>\n",
       "</tr>\n",
       "<tr>\n",
       "<td>\n",
       "2\n",
       "</td>\n",
       "<td>\n",
       "2022-01-02 00:00:00\n",
       "</td>\n",
       "<td>\n",
       "5.0\n",
       "</td>\n",
       "<td>\n",
       "&quot;b&quot;\n",
       "</td>\n",
       "</tr>\n",
       "</tbody>\n",
       "</table>\n",
       "</div>"
      ],
      "text/plain": [
       "shape: (2, 4)\n",
       "┌─────────┬─────────────────────┬───────┬────────┐\n",
       "│ integer ┆ date                ┆ float ┆ string │\n",
       "│ ---     ┆ ---                 ┆ ---   ┆ ---    │\n",
       "│ i64     ┆ datetime[μs]        ┆ f64   ┆ str    │\n",
       "╞═════════╪═════════════════════╪═══════╪════════╡\n",
       "│ 1       ┆ 2022-01-01 00:00:00 ┆ 4.0   ┆ a      │\n",
       "│ 2       ┆ 2022-01-02 00:00:00 ┆ 5.0   ┆ b      │\n",
       "└─────────┴─────────────────────┴───────┴────────┘"
      ]
     },
     "execution_count": 232,
     "metadata": {},
     "output_type": "execute_result"
    }
   ],
   "source": [
    "df.head(2)"
   ]
  },
  {
   "cell_type": "code",
   "execution_count": 237,
   "id": "350ef892",
   "metadata": {},
   "outputs": [
    {
     "data": {
      "text/html": [
       "<div>\n",
       "<style scoped>\n",
       "    .dataframe tbody tr th:only-of-type {\n",
       "        vertical-align: middle;\n",
       "    }\n",
       "\n",
       "    .dataframe tbody tr th {\n",
       "        vertical-align: top;\n",
       "    }\n",
       "\n",
       "    .dataframe thead th {\n",
       "        text-align: right;\n",
       "    }\n",
       "\n",
       "    .dataframe td {\n",
       "        white-space: pre;\n",
       "    }\n",
       "\n",
       "    .dataframe td {\n",
       "        padding-top: 0;\n",
       "    }\n",
       "\n",
       "    .dataframe td {\n",
       "        padding-bottom: 0;\n",
       "    }\n",
       "\n",
       "    .dataframe td {\n",
       "        line-height: 95%;\n",
       "    }\n",
       "</style>\n",
       "<table border=\"1\" class=\"dataframe\">\n",
       "<small>shape: (2, 4)</small>\n",
       "<thead>\n",
       "<tr>\n",
       "<th>\n",
       "integer\n",
       "</th>\n",
       "<th>\n",
       "date\n",
       "</th>\n",
       "<th>\n",
       "float\n",
       "</th>\n",
       "<th>\n",
       "string\n",
       "</th>\n",
       "</tr>\n",
       "<tr>\n",
       "<td>\n",
       "i64\n",
       "</td>\n",
       "<td>\n",
       "datetime[μs]\n",
       "</td>\n",
       "<td>\n",
       "f64\n",
       "</td>\n",
       "<td>\n",
       "str\n",
       "</td>\n",
       "</tr>\n",
       "</thead>\n",
       "<tbody>\n",
       "<tr>\n",
       "<td>\n",
       "1\n",
       "</td>\n",
       "<td>\n",
       "2022-01-01 00:00:00\n",
       "</td>\n",
       "<td>\n",
       "4.0\n",
       "</td>\n",
       "<td>\n",
       "&quot;a&quot;\n",
       "</td>\n",
       "</tr>\n",
       "<tr>\n",
       "<td>\n",
       "2\n",
       "</td>\n",
       "<td>\n",
       "2022-01-02 00:00:00\n",
       "</td>\n",
       "<td>\n",
       "5.0\n",
       "</td>\n",
       "<td>\n",
       "&quot;b&quot;\n",
       "</td>\n",
       "</tr>\n",
       "</tbody>\n",
       "</table>\n",
       "</div>"
      ],
      "text/plain": [
       "shape: (2, 4)\n",
       "┌─────────┬─────────────────────┬───────┬────────┐\n",
       "│ integer ┆ date                ┆ float ┆ string │\n",
       "│ ---     ┆ ---                 ┆ ---   ┆ ---    │\n",
       "│ i64     ┆ datetime[μs]        ┆ f64   ┆ str    │\n",
       "╞═════════╪═════════════════════╪═══════╪════════╡\n",
       "│ 1       ┆ 2022-01-01 00:00:00 ┆ 4.0   ┆ a      │\n",
       "│ 2       ┆ 2022-01-02 00:00:00 ┆ 5.0   ┆ b      │\n",
       "└─────────┴─────────────────────┴───────┴────────┘"
      ]
     },
     "execution_count": 233,
     "metadata": {},
     "output_type": "execute_result"
    }
   ],
   "source": [
    "df.limit(2) # same as pl.head()"
   ]
  },
  {
   "cell_type": "code",
   "execution_count": 238,
   "id": "1baabd06",
   "metadata": {},
   "outputs": [
    {
     "data": {
      "text/html": [
       "<div>\n",
       "<style scoped>\n",
       "    .dataframe tbody tr th:only-of-type {\n",
       "        vertical-align: middle;\n",
       "    }\n",
       "\n",
       "    .dataframe tbody tr th {\n",
       "        vertical-align: top;\n",
       "    }\n",
       "\n",
       "    .dataframe thead th {\n",
       "        text-align: right;\n",
       "    }\n",
       "\n",
       "    .dataframe td {\n",
       "        white-space: pre;\n",
       "    }\n",
       "\n",
       "    .dataframe td {\n",
       "        padding-top: 0;\n",
       "    }\n",
       "\n",
       "    .dataframe td {\n",
       "        padding-bottom: 0;\n",
       "    }\n",
       "\n",
       "    .dataframe td {\n",
       "        line-height: 95%;\n",
       "    }\n",
       "</style>\n",
       "<table border=\"1\" class=\"dataframe\">\n",
       "<small>shape: (1, 4)</small>\n",
       "<thead>\n",
       "<tr>\n",
       "<th>\n",
       "integer\n",
       "</th>\n",
       "<th>\n",
       "date\n",
       "</th>\n",
       "<th>\n",
       "float\n",
       "</th>\n",
       "<th>\n",
       "string\n",
       "</th>\n",
       "</tr>\n",
       "<tr>\n",
       "<td>\n",
       "i64\n",
       "</td>\n",
       "<td>\n",
       "datetime[μs]\n",
       "</td>\n",
       "<td>\n",
       "f64\n",
       "</td>\n",
       "<td>\n",
       "str\n",
       "</td>\n",
       "</tr>\n",
       "</thead>\n",
       "<tbody>\n",
       "<tr>\n",
       "<td>\n",
       "3\n",
       "</td>\n",
       "<td>\n",
       "2022-01-03 00:00:00\n",
       "</td>\n",
       "<td>\n",
       "6.0\n",
       "</td>\n",
       "<td>\n",
       "&quot;c&quot;\n",
       "</td>\n",
       "</tr>\n",
       "</tbody>\n",
       "</table>\n",
       "</div>"
      ],
      "text/plain": [
       "shape: (1, 4)\n",
       "┌─────────┬─────────────────────┬───────┬────────┐\n",
       "│ integer ┆ date                ┆ float ┆ string │\n",
       "│ ---     ┆ ---                 ┆ ---   ┆ ---    │\n",
       "│ i64     ┆ datetime[μs]        ┆ f64   ┆ str    │\n",
       "╞═════════╪═════════════════════╪═══════╪════════╡\n",
       "│ 3       ┆ 2022-01-03 00:00:00 ┆ 6.0   ┆ c      │\n",
       "└─────────┴─────────────────────┴───────┴────────┘"
      ]
     },
     "execution_count": 234,
     "metadata": {},
     "output_type": "execute_result"
    }
   ],
   "source": [
    "df.tail(1)"
   ]
  },
  {
   "cell_type": "code",
   "execution_count": 239,
   "id": "8896b32a",
   "metadata": {},
   "outputs": [
    {
     "data": {
      "text/html": [
       "<div>\n",
       "<style scoped>\n",
       "    .dataframe tbody tr th:only-of-type {\n",
       "        vertical-align: middle;\n",
       "    }\n",
       "\n",
       "    .dataframe tbody tr th {\n",
       "        vertical-align: top;\n",
       "    }\n",
       "\n",
       "    .dataframe thead th {\n",
       "        text-align: right;\n",
       "    }\n",
       "\n",
       "    .dataframe td {\n",
       "        white-space: pre;\n",
       "    }\n",
       "\n",
       "    .dataframe td {\n",
       "        padding-top: 0;\n",
       "    }\n",
       "\n",
       "    .dataframe td {\n",
       "        padding-bottom: 0;\n",
       "    }\n",
       "\n",
       "    .dataframe td {\n",
       "        line-height: 95%;\n",
       "    }\n",
       "</style>\n",
       "<table border=\"1\" class=\"dataframe\">\n",
       "<small>shape: (2, 4)</small>\n",
       "<thead>\n",
       "<tr>\n",
       "<th>\n",
       "integer\n",
       "</th>\n",
       "<th>\n",
       "date\n",
       "</th>\n",
       "<th>\n",
       "float\n",
       "</th>\n",
       "<th>\n",
       "string\n",
       "</th>\n",
       "</tr>\n",
       "<tr>\n",
       "<td>\n",
       "i64\n",
       "</td>\n",
       "<td>\n",
       "datetime[μs]\n",
       "</td>\n",
       "<td>\n",
       "f64\n",
       "</td>\n",
       "<td>\n",
       "str\n",
       "</td>\n",
       "</tr>\n",
       "</thead>\n",
       "<tbody>\n",
       "<tr>\n",
       "<td>\n",
       "1\n",
       "</td>\n",
       "<td>\n",
       "2022-01-01 00:00:00\n",
       "</td>\n",
       "<td>\n",
       "4.0\n",
       "</td>\n",
       "<td>\n",
       "&quot;a&quot;\n",
       "</td>\n",
       "</tr>\n",
       "<tr>\n",
       "<td>\n",
       "3\n",
       "</td>\n",
       "<td>\n",
       "2022-01-03 00:00:00\n",
       "</td>\n",
       "<td>\n",
       "6.0\n",
       "</td>\n",
       "<td>\n",
       "&quot;c&quot;\n",
       "</td>\n",
       "</tr>\n",
       "</tbody>\n",
       "</table>\n",
       "</div>"
      ],
      "text/plain": [
       "shape: (2, 4)\n",
       "┌─────────┬─────────────────────┬───────┬────────┐\n",
       "│ integer ┆ date                ┆ float ┆ string │\n",
       "│ ---     ┆ ---                 ┆ ---   ┆ ---    │\n",
       "│ i64     ┆ datetime[μs]        ┆ f64   ┆ str    │\n",
       "╞═════════╪═════════════════════╪═══════╪════════╡\n",
       "│ 1       ┆ 2022-01-01 00:00:00 ┆ 4.0   ┆ a      │\n",
       "│ 3       ┆ 2022-01-03 00:00:00 ┆ 6.0   ┆ c      │\n",
       "└─────────┴─────────────────────┴───────┴────────┘"
      ]
     },
     "execution_count": 235,
     "metadata": {},
     "output_type": "execute_result"
    }
   ],
   "source": [
    "df.take_every(2)"
   ]
  },
  {
   "cell_type": "code",
   "execution_count": 240,
   "id": "7c39f44a",
   "metadata": {},
   "outputs": [
    {
     "data": {
      "text/html": [
       "<div>\n",
       "<style scoped>\n",
       "    .dataframe tbody tr th:only-of-type {\n",
       "        vertical-align: middle;\n",
       "    }\n",
       "\n",
       "    .dataframe tbody tr th {\n",
       "        vertical-align: top;\n",
       "    }\n",
       "\n",
       "    .dataframe thead th {\n",
       "        text-align: right;\n",
       "    }\n",
       "\n",
       "    .dataframe td {\n",
       "        white-space: pre;\n",
       "    }\n",
       "\n",
       "    .dataframe td {\n",
       "        padding-top: 0;\n",
       "    }\n",
       "\n",
       "    .dataframe td {\n",
       "        padding-bottom: 0;\n",
       "    }\n",
       "\n",
       "    .dataframe td {\n",
       "        line-height: 95%;\n",
       "    }\n",
       "</style>\n",
       "<table border=\"1\" class=\"dataframe\">\n",
       "<small>shape: (1, 4)</small>\n",
       "<thead>\n",
       "<tr>\n",
       "<th>\n",
       "integer\n",
       "</th>\n",
       "<th>\n",
       "date\n",
       "</th>\n",
       "<th>\n",
       "float\n",
       "</th>\n",
       "<th>\n",
       "string\n",
       "</th>\n",
       "</tr>\n",
       "<tr>\n",
       "<td>\n",
       "i64\n",
       "</td>\n",
       "<td>\n",
       "datetime[μs]\n",
       "</td>\n",
       "<td>\n",
       "f64\n",
       "</td>\n",
       "<td>\n",
       "str\n",
       "</td>\n",
       "</tr>\n",
       "</thead>\n",
       "<tbody>\n",
       "<tr>\n",
       "<td>\n",
       "2\n",
       "</td>\n",
       "<td>\n",
       "2022-01-02 00:00:00\n",
       "</td>\n",
       "<td>\n",
       "5.0\n",
       "</td>\n",
       "<td>\n",
       "&quot;b&quot;\n",
       "</td>\n",
       "</tr>\n",
       "</tbody>\n",
       "</table>\n",
       "</div>"
      ],
      "text/plain": [
       "shape: (1, 4)\n",
       "┌─────────┬─────────────────────┬───────┬────────┐\n",
       "│ integer ┆ date                ┆ float ┆ string │\n",
       "│ ---     ┆ ---                 ┆ ---   ┆ ---    │\n",
       "│ i64     ┆ datetime[μs]        ┆ f64   ┆ str    │\n",
       "╞═════════╪═════════════════════╪═══════╪════════╡\n",
       "│ 2       ┆ 2022-01-02 00:00:00 ┆ 5.0   ┆ b      │\n",
       "└─────────┴─────────────────────┴───────┴────────┘"
      ]
     },
     "execution_count": 236,
     "metadata": {},
     "output_type": "execute_result"
    }
   ],
   "source": [
    "df.slice(offset=1, length=1)"
   ]
  },
  {
   "cell_type": "code",
   "execution_count": 241,
   "id": "3faa9a9c",
   "metadata": {},
   "outputs": [
    {
     "data": {
      "text/html": [
       "<div>\n",
       "<style scoped>\n",
       "    .dataframe tbody tr th:only-of-type {\n",
       "        vertical-align: middle;\n",
       "    }\n",
       "\n",
       "    .dataframe tbody tr th {\n",
       "        vertical-align: top;\n",
       "    }\n",
       "\n",
       "    .dataframe thead th {\n",
       "        text-align: right;\n",
       "    }\n",
       "\n",
       "    .dataframe td {\n",
       "        white-space: pre;\n",
       "    }\n",
       "\n",
       "    .dataframe td {\n",
       "        padding-top: 0;\n",
       "    }\n",
       "\n",
       "    .dataframe td {\n",
       "        padding-bottom: 0;\n",
       "    }\n",
       "\n",
       "    .dataframe td {\n",
       "        line-height: 95%;\n",
       "    }\n",
       "</style>\n",
       "<table border=\"1\" class=\"dataframe\">\n",
       "<small>shape: (1, 4)</small>\n",
       "<thead>\n",
       "<tr>\n",
       "<th>\n",
       "integer\n",
       "</th>\n",
       "<th>\n",
       "date\n",
       "</th>\n",
       "<th>\n",
       "float\n",
       "</th>\n",
       "<th>\n",
       "string\n",
       "</th>\n",
       "</tr>\n",
       "<tr>\n",
       "<td>\n",
       "i64\n",
       "</td>\n",
       "<td>\n",
       "datetime[μs]\n",
       "</td>\n",
       "<td>\n",
       "f64\n",
       "</td>\n",
       "<td>\n",
       "str\n",
       "</td>\n",
       "</tr>\n",
       "</thead>\n",
       "<tbody>\n",
       "<tr>\n",
       "<td>\n",
       "2\n",
       "</td>\n",
       "<td>\n",
       "2022-01-02 00:00:00\n",
       "</td>\n",
       "<td>\n",
       "5.0\n",
       "</td>\n",
       "<td>\n",
       "&quot;b&quot;\n",
       "</td>\n",
       "</tr>\n",
       "</tbody>\n",
       "</table>\n",
       "</div>"
      ],
      "text/plain": [
       "shape: (1, 4)\n",
       "┌─────────┬─────────────────────┬───────┬────────┐\n",
       "│ integer ┆ date                ┆ float ┆ string │\n",
       "│ ---     ┆ ---                 ┆ ---   ┆ ---    │\n",
       "│ i64     ┆ datetime[μs]        ┆ f64   ┆ str    │\n",
       "╞═════════╪═════════════════════╪═══════╪════════╡\n",
       "│ 2       ┆ 2022-01-02 00:00:00 ┆ 5.0   ┆ b      │\n",
       "└─────────┴─────────────────────┴───────┴────────┘"
      ]
     },
     "execution_count": 237,
     "metadata": {},
     "output_type": "execute_result"
    }
   ],
   "source": [
    "df.sample(1)"
   ]
  },
  {
   "cell_type": "code",
   "execution_count": 242,
   "id": "298fe768",
   "metadata": {},
   "outputs": [
    {
     "data": {
      "text/plain": [
       "(2, datetime.datetime(2022, 1, 2, 0, 0), 5.0, 'b')"
      ]
     },
     "execution_count": 238,
     "metadata": {},
     "output_type": "execute_result"
    }
   ],
   "source": [
    "df.row(1) # get row as tuple"
   ]
  },
  {
   "cell_type": "code",
   "execution_count": 243,
   "id": "37c51a80",
   "metadata": {},
   "outputs": [
    {
     "data": {
      "text/plain": [
       "[(1, datetime.datetime(2022, 1, 1, 0, 0), 4.0, 'a'),\n",
       " (2, datetime.datetime(2022, 1, 2, 0, 0), 5.0, 'b'),\n",
       " (3, datetime.datetime(2022, 1, 3, 0, 0), 6.0, 'c')]"
      ]
     },
     "execution_count": 239,
     "metadata": {},
     "output_type": "execute_result"
    }
   ],
   "source": [
    "df.rows() # all rows as list of tuples"
   ]
  },
  {
   "cell_type": "markdown",
   "id": "30f80cf5",
   "metadata": {},
   "source": [
    "Row filtering by label"
   ]
  },
  {
   "cell_type": "code",
   "execution_count": 244,
   "id": "5a96a04e",
   "metadata": {},
   "outputs": [
    {
     "data": {
      "text/html": [
       "<div>\n",
       "<style scoped>\n",
       "    .dataframe tbody tr th:only-of-type {\n",
       "        vertical-align: middle;\n",
       "    }\n",
       "\n",
       "    .dataframe tbody tr th {\n",
       "        vertical-align: top;\n",
       "    }\n",
       "\n",
       "    .dataframe thead th {\n",
       "        text-align: right;\n",
       "    }\n",
       "\n",
       "    .dataframe td {\n",
       "        white-space: pre;\n",
       "    }\n",
       "\n",
       "    .dataframe td {\n",
       "        padding-top: 0;\n",
       "    }\n",
       "\n",
       "    .dataframe td {\n",
       "        padding-bottom: 0;\n",
       "    }\n",
       "\n",
       "    .dataframe td {\n",
       "        line-height: 95%;\n",
       "    }\n",
       "</style>\n",
       "<table border=\"1\" class=\"dataframe\">\n",
       "<small>shape: (1, 4)</small>\n",
       "<thead>\n",
       "<tr>\n",
       "<th>\n",
       "integer\n",
       "</th>\n",
       "<th>\n",
       "date\n",
       "</th>\n",
       "<th>\n",
       "float\n",
       "</th>\n",
       "<th>\n",
       "string\n",
       "</th>\n",
       "</tr>\n",
       "<tr>\n",
       "<td>\n",
       "i64\n",
       "</td>\n",
       "<td>\n",
       "datetime[μs]\n",
       "</td>\n",
       "<td>\n",
       "f64\n",
       "</td>\n",
       "<td>\n",
       "str\n",
       "</td>\n",
       "</tr>\n",
       "</thead>\n",
       "<tbody>\n",
       "<tr>\n",
       "<td>\n",
       "2\n",
       "</td>\n",
       "<td>\n",
       "2022-01-02 00:00:00\n",
       "</td>\n",
       "<td>\n",
       "5.0\n",
       "</td>\n",
       "<td>\n",
       "&quot;b&quot;\n",
       "</td>\n",
       "</tr>\n",
       "</tbody>\n",
       "</table>\n",
       "</div>"
      ],
      "text/plain": [
       "shape: (1, 4)\n",
       "┌─────────┬─────────────────────┬───────┬────────┐\n",
       "│ integer ┆ date                ┆ float ┆ string │\n",
       "│ ---     ┆ ---                 ┆ ---   ┆ ---    │\n",
       "│ i64     ┆ datetime[μs]        ┆ f64   ┆ str    │\n",
       "╞═════════╪═════════════════════╪═══════╪════════╡\n",
       "│ 2       ┆ 2022-01-02 00:00:00 ┆ 5.0   ┆ b      │\n",
       "└─────────┴─────────────────────┴───────┴────────┘"
      ]
     },
     "execution_count": 240,
     "metadata": {},
     "output_type": "execute_result"
    }
   ],
   "source": [
    "df.filter(pl.col(\"integer\") == 2)"
   ]
  },
  {
   "cell_type": "markdown",
   "id": "648921d3",
   "metadata": {},
   "source": [
    "Things to note:\n",
    "\n",
    "- The `[` operator does not support indexing with boolean such as `df[df[\"integer\"] == 2]`.\n",
    "- The `filter()` method is recommended over `[` by the authors of polars, to facilitate lazy evaluation (discussed later).\n",
    "\n",
    "\n",
    "\n",
    "\n",
    "\n",
    "\n",
    "### Selecting Columns\n",
    "\n",
    "Column selection by label"
   ]
  },
  {
   "cell_type": "code",
   "execution_count": 245,
   "id": "b1a12ae1",
   "metadata": {},
   "outputs": [
    {
     "data": {
      "text/html": [
       "<div>\n",
       "<style scoped>\n",
       "    .dataframe tbody tr th:only-of-type {\n",
       "        vertical-align: middle;\n",
       "    }\n",
       "\n",
       "    .dataframe tbody tr th {\n",
       "        vertical-align: top;\n",
       "    }\n",
       "\n",
       "    .dataframe thead th {\n",
       "        text-align: right;\n",
       "    }\n",
       "\n",
       "    .dataframe td {\n",
       "        white-space: pre;\n",
       "    }\n",
       "\n",
       "    .dataframe td {\n",
       "        padding-top: 0;\n",
       "    }\n",
       "\n",
       "    .dataframe td {\n",
       "        padding-bottom: 0;\n",
       "    }\n",
       "\n",
       "    .dataframe td {\n",
       "        line-height: 95%;\n",
       "    }\n",
       "</style>\n",
       "<table border=\"1\" class=\"dataframe\">\n",
       "<small>shape: (3, 1)</small>\n",
       "<thead>\n",
       "<tr>\n",
       "<th>\n",
       "integer\n",
       "</th>\n",
       "</tr>\n",
       "<tr>\n",
       "<td>\n",
       "i64\n",
       "</td>\n",
       "</tr>\n",
       "</thead>\n",
       "<tbody>\n",
       "<tr>\n",
       "<td>\n",
       "1\n",
       "</td>\n",
       "</tr>\n",
       "<tr>\n",
       "<td>\n",
       "2\n",
       "</td>\n",
       "</tr>\n",
       "<tr>\n",
       "<td>\n",
       "3\n",
       "</td>\n",
       "</tr>\n",
       "</tbody>\n",
       "</table>\n",
       "</div>"
      ],
      "text/plain": [
       "shape: (3, 1)\n",
       "┌─────────┐\n",
       "│ integer │\n",
       "│ ---     │\n",
       "│ i64     │\n",
       "╞═════════╡\n",
       "│ 1       │\n",
       "│ 2       │\n",
       "│ 3       │\n",
       "└─────────┘"
      ]
     },
     "execution_count": 241,
     "metadata": {},
     "output_type": "execute_result"
    }
   ],
   "source": [
    "df.select(\"integer\")\n",
    "# or df['integer']\n",
    "# or df[:,'integer']"
   ]
  },
  {
   "cell_type": "markdown",
   "id": "0f607b8e",
   "metadata": {},
   "source": [
    "Multiple column selection by label"
   ]
  },
  {
   "cell_type": "code",
   "execution_count": 246,
   "id": "9af724c1",
   "metadata": {},
   "outputs": [
    {
     "data": {
      "text/html": [
       "<div>\n",
       "<style scoped>\n",
       "    .dataframe tbody tr th:only-of-type {\n",
       "        vertical-align: middle;\n",
       "    }\n",
       "\n",
       "    .dataframe tbody tr th {\n",
       "        vertical-align: top;\n",
       "    }\n",
       "\n",
       "    .dataframe thead th {\n",
       "        text-align: right;\n",
       "    }\n",
       "\n",
       "    .dataframe td {\n",
       "        white-space: pre;\n",
       "    }\n",
       "\n",
       "    .dataframe td {\n",
       "        padding-top: 0;\n",
       "    }\n",
       "\n",
       "    .dataframe td {\n",
       "        padding-bottom: 0;\n",
       "    }\n",
       "\n",
       "    .dataframe td {\n",
       "        line-height: 95%;\n",
       "    }\n",
       "</style>\n",
       "<table border=\"1\" class=\"dataframe\">\n",
       "<small>shape: (3, 2)</small>\n",
       "<thead>\n",
       "<tr>\n",
       "<th>\n",
       "integer\n",
       "</th>\n",
       "<th>\n",
       "float\n",
       "</th>\n",
       "</tr>\n",
       "<tr>\n",
       "<td>\n",
       "i64\n",
       "</td>\n",
       "<td>\n",
       "f64\n",
       "</td>\n",
       "</tr>\n",
       "</thead>\n",
       "<tbody>\n",
       "<tr>\n",
       "<td>\n",
       "1\n",
       "</td>\n",
       "<td>\n",
       "4.0\n",
       "</td>\n",
       "</tr>\n",
       "<tr>\n",
       "<td>\n",
       "2\n",
       "</td>\n",
       "<td>\n",
       "5.0\n",
       "</td>\n",
       "</tr>\n",
       "<tr>\n",
       "<td>\n",
       "3\n",
       "</td>\n",
       "<td>\n",
       "6.0\n",
       "</td>\n",
       "</tr>\n",
       "</tbody>\n",
       "</table>\n",
       "</div>"
      ],
      "text/plain": [
       "shape: (3, 2)\n",
       "┌─────────┬───────┐\n",
       "│ integer ┆ float │\n",
       "│ ---     ┆ ---   │\n",
       "│ i64     ┆ f64   │\n",
       "╞═════════╪═══════╡\n",
       "│ 1       ┆ 4.0   │\n",
       "│ 2       ┆ 5.0   │\n",
       "│ 3       ┆ 6.0   │\n",
       "└─────────┴───────┘"
      ]
     },
     "execution_count": 242,
     "metadata": {},
     "output_type": "execute_result"
    }
   ],
   "source": [
    "df.select([\"integer\", \"float\"])\n",
    "# or df[['integer', 'float']]"
   ]
  },
  {
   "cell_type": "markdown",
   "id": "f5260c4d",
   "metadata": {},
   "source": [
    "Column slicing by label"
   ]
  },
  {
   "cell_type": "code",
   "execution_count": 247,
   "id": "331547c7",
   "metadata": {},
   "outputs": [
    {
     "data": {
      "text/html": [
       "<div>\n",
       "<style scoped>\n",
       "    .dataframe tbody tr th:only-of-type {\n",
       "        vertical-align: middle;\n",
       "    }\n",
       "\n",
       "    .dataframe tbody tr th {\n",
       "        vertical-align: top;\n",
       "    }\n",
       "\n",
       "    .dataframe thead th {\n",
       "        text-align: right;\n",
       "    }\n",
       "\n",
       "    .dataframe td {\n",
       "        white-space: pre;\n",
       "    }\n",
       "\n",
       "    .dataframe td {\n",
       "        padding-top: 0;\n",
       "    }\n",
       "\n",
       "    .dataframe td {\n",
       "        padding-bottom: 0;\n",
       "    }\n",
       "\n",
       "    .dataframe td {\n",
       "        line-height: 95%;\n",
       "    }\n",
       "</style>\n",
       "<table border=\"1\" class=\"dataframe\">\n",
       "<small>shape: (3, 3)</small>\n",
       "<thead>\n",
       "<tr>\n",
       "<th>\n",
       "integer\n",
       "</th>\n",
       "<th>\n",
       "date\n",
       "</th>\n",
       "<th>\n",
       "float\n",
       "</th>\n",
       "</tr>\n",
       "<tr>\n",
       "<td>\n",
       "i64\n",
       "</td>\n",
       "<td>\n",
       "datetime[μs]\n",
       "</td>\n",
       "<td>\n",
       "f64\n",
       "</td>\n",
       "</tr>\n",
       "</thead>\n",
       "<tbody>\n",
       "<tr>\n",
       "<td>\n",
       "1\n",
       "</td>\n",
       "<td>\n",
       "2022-01-01 00:00:00\n",
       "</td>\n",
       "<td>\n",
       "4.0\n",
       "</td>\n",
       "</tr>\n",
       "<tr>\n",
       "<td>\n",
       "2\n",
       "</td>\n",
       "<td>\n",
       "2022-01-02 00:00:00\n",
       "</td>\n",
       "<td>\n",
       "5.0\n",
       "</td>\n",
       "</tr>\n",
       "<tr>\n",
       "<td>\n",
       "3\n",
       "</td>\n",
       "<td>\n",
       "2022-01-03 00:00:00\n",
       "</td>\n",
       "<td>\n",
       "6.0\n",
       "</td>\n",
       "</tr>\n",
       "</tbody>\n",
       "</table>\n",
       "</div>"
      ],
      "text/plain": [
       "shape: (3, 3)\n",
       "┌─────────┬─────────────────────┬───────┐\n",
       "│ integer ┆ date                ┆ float │\n",
       "│ ---     ┆ ---                 ┆ ---   │\n",
       "│ i64     ┆ datetime[μs]        ┆ f64   │\n",
       "╞═════════╪═════════════════════╪═══════╡\n",
       "│ 1       ┆ 2022-01-01 00:00:00 ┆ 4.0   │\n",
       "│ 2       ┆ 2022-01-02 00:00:00 ┆ 5.0   │\n",
       "│ 3       ┆ 2022-01-03 00:00:00 ┆ 6.0   │\n",
       "└─────────┴─────────────────────┴───────┘"
      ]
     },
     "execution_count": 243,
     "metadata": {},
     "output_type": "execute_result"
    }
   ],
   "source": [
    "df[:,\"integer\":\"float\"]"
   ]
  },
  {
   "cell_type": "markdown",
   "id": "6199def8",
   "metadata": {},
   "source": [
    "Note: Slicing with `df.select()` does not support ranges such as `df.select(\"integer\":\"float\")`; only lists of column names.\n",
    "\n",
    "Get a column as a 1D polars frame."
   ]
  },
  {
   "cell_type": "code",
   "execution_count": 248,
   "id": "bd4b73c7",
   "metadata": {},
   "outputs": [
    {
     "data": {
      "text/html": [
       "<div>\n",
       "<style scoped>\n",
       "    .dataframe tbody tr th:only-of-type {\n",
       "        vertical-align: middle;\n",
       "    }\n",
       "\n",
       "    .dataframe tbody tr th {\n",
       "        vertical-align: top;\n",
       "    }\n",
       "\n",
       "    .dataframe thead th {\n",
       "        text-align: right;\n",
       "    }\n",
       "\n",
       "    .dataframe td {\n",
       "        white-space: pre;\n",
       "    }\n",
       "\n",
       "    .dataframe td {\n",
       "        padding-top: 0;\n",
       "    }\n",
       "\n",
       "    .dataframe td {\n",
       "        padding-bottom: 0;\n",
       "    }\n",
       "\n",
       "    .dataframe td {\n",
       "        line-height: 95%;\n",
       "    }\n",
       "</style>\n",
       "<table border=\"1\" class=\"dataframe\">\n",
       "<small>shape: (3,)</small>\n",
       "<thead>\n",
       "<tr>\n",
       "<th>\n",
       "integer\n",
       "</th>\n",
       "</tr>\n",
       "<tr>\n",
       "<td>\n",
       "i64\n",
       "</td>\n",
       "</tr>\n",
       "</thead>\n",
       "<tbody>\n",
       "<tr>\n",
       "<td>\n",
       "1\n",
       "</td>\n",
       "</tr>\n",
       "<tr>\n",
       "<td>\n",
       "2\n",
       "</td>\n",
       "</tr>\n",
       "<tr>\n",
       "<td>\n",
       "3\n",
       "</td>\n",
       "</tr>\n",
       "</tbody>\n",
       "</table>\n",
       "</div>"
      ],
      "text/plain": [
       "shape: (3,)\n",
       "Series: 'integer' [i64]\n",
       "[\n",
       "\t1\n",
       "\t2\n",
       "\t3\n",
       "]"
      ]
     },
     "execution_count": 244,
     "metadata": {},
     "output_type": "execute_result"
    }
   ],
   "source": [
    "df.get_column('integer')"
   ]
  },
  {
   "cell_type": "markdown",
   "id": "92818be8",
   "metadata": {},
   "source": [
    "Get a column as a polars series."
   ]
  },
  {
   "cell_type": "code",
   "execution_count": 249,
   "id": "a924cc6c",
   "metadata": {},
   "outputs": [
    {
     "data": {
      "text/html": [
       "<div>\n",
       "<style scoped>\n",
       "    .dataframe tbody tr th:only-of-type {\n",
       "        vertical-align: middle;\n",
       "    }\n",
       "\n",
       "    .dataframe tbody tr th {\n",
       "        vertical-align: top;\n",
       "    }\n",
       "\n",
       "    .dataframe thead th {\n",
       "        text-align: right;\n",
       "    }\n",
       "\n",
       "    .dataframe td {\n",
       "        white-space: pre;\n",
       "    }\n",
       "\n",
       "    .dataframe td {\n",
       "        padding-top: 0;\n",
       "    }\n",
       "\n",
       "    .dataframe td {\n",
       "        padding-bottom: 0;\n",
       "    }\n",
       "\n",
       "    .dataframe td {\n",
       "        line-height: 95%;\n",
       "    }\n",
       "</style>\n",
       "<table border=\"1\" class=\"dataframe\">\n",
       "<small>shape: (3,)</small>\n",
       "<thead>\n",
       "<tr>\n",
       "<th>\n",
       "integer\n",
       "</th>\n",
       "</tr>\n",
       "<tr>\n",
       "<td>\n",
       "i64\n",
       "</td>\n",
       "</tr>\n",
       "</thead>\n",
       "<tbody>\n",
       "<tr>\n",
       "<td>\n",
       "1\n",
       "</td>\n",
       "</tr>\n",
       "<tr>\n",
       "<td>\n",
       "2\n",
       "</td>\n",
       "</tr>\n",
       "<tr>\n",
       "<td>\n",
       "3\n",
       "</td>\n",
       "</tr>\n",
       "</tbody>\n",
       "</table>\n",
       "</div>"
      ],
      "text/plain": [
       "shape: (3,)\n",
       "Series: 'integer' [i64]\n",
       "[\n",
       "\t1\n",
       "\t2\n",
       "\t3\n",
       "]"
      ]
     },
     "execution_count": 245,
     "metadata": {},
     "output_type": "execute_result"
    }
   ],
   "source": [
    "df.to_series(0)"
   ]
  },
  {
   "cell_type": "code",
   "execution_count": 250,
   "id": "53623b73",
   "metadata": {},
   "outputs": [
    {
     "data": {
      "text/plain": [
       "2"
      ]
     },
     "execution_count": 246,
     "metadata": {},
     "output_type": "execute_result"
    }
   ],
   "source": [
    "df.find_idx_by_name('float')"
   ]
  },
  {
   "cell_type": "code",
   "execution_count": 251,
   "id": "355dfd9f",
   "metadata": {},
   "outputs": [
    {
     "data": {
      "text/plain": [
       "[shape: (3,)\n",
       " Series: 'integer' [i64]\n",
       " [\n",
       " \t1\n",
       " \t2\n",
       " \t3\n",
       " ],\n",
       " shape: (3,)\n",
       " Series: 'date' [datetime[μs]]\n",
       " [\n",
       " \t2022-01-01 00:00:00\n",
       " \t2022-01-02 00:00:00\n",
       " \t2022-01-03 00:00:00\n",
       " ],\n",
       " shape: (3,)\n",
       " Series: 'float' [f64]\n",
       " [\n",
       " \t4.0\n",
       " \t5.0\n",
       " \t6.0\n",
       " ],\n",
       " shape: (3,)\n",
       " Series: 'string' [str]\n",
       " [\n",
       " \t\"a\"\n",
       " \t\"b\"\n",
       " \t\"c\"\n",
       " ]]"
      ]
     },
     "execution_count": 247,
     "metadata": {},
     "output_type": "execute_result"
    }
   ],
   "source": [
    "df.get_columns() # get a list of series"
   ]
  },
  {
   "cell_type": "code",
   "execution_count": 252,
   "id": "a6278baf",
   "metadata": {},
   "outputs": [
    {
     "data": {
      "text/html": [
       "<div>\n",
       "<style scoped>\n",
       "    .dataframe tbody tr th:only-of-type {\n",
       "        vertical-align: middle;\n",
       "    }\n",
       "\n",
       "    .dataframe tbody tr th {\n",
       "        vertical-align: top;\n",
       "    }\n",
       "\n",
       "    .dataframe thead th {\n",
       "        text-align: right;\n",
       "    }\n",
       "\n",
       "    .dataframe td {\n",
       "        white-space: pre;\n",
       "    }\n",
       "\n",
       "    .dataframe td {\n",
       "        padding-top: 0;\n",
       "    }\n",
       "\n",
       "    .dataframe td {\n",
       "        padding-bottom: 0;\n",
       "    }\n",
       "\n",
       "    .dataframe td {\n",
       "        line-height: 95%;\n",
       "    }\n",
       "</style>\n",
       "<table border=\"1\" class=\"dataframe\">\n",
       "<small>shape: (3, 3)</small>\n",
       "<thead>\n",
       "<tr>\n",
       "<th>\n",
       "date\n",
       "</th>\n",
       "<th>\n",
       "float\n",
       "</th>\n",
       "<th>\n",
       "string\n",
       "</th>\n",
       "</tr>\n",
       "<tr>\n",
       "<td>\n",
       "datetime[μs]\n",
       "</td>\n",
       "<td>\n",
       "f64\n",
       "</td>\n",
       "<td>\n",
       "str\n",
       "</td>\n",
       "</tr>\n",
       "</thead>\n",
       "<tbody>\n",
       "<tr>\n",
       "<td>\n",
       "2022-01-01 00:00:00\n",
       "</td>\n",
       "<td>\n",
       "4.0\n",
       "</td>\n",
       "<td>\n",
       "&quot;a&quot;\n",
       "</td>\n",
       "</tr>\n",
       "<tr>\n",
       "<td>\n",
       "2022-01-02 00:00:00\n",
       "</td>\n",
       "<td>\n",
       "5.0\n",
       "</td>\n",
       "<td>\n",
       "&quot;b&quot;\n",
       "</td>\n",
       "</tr>\n",
       "<tr>\n",
       "<td>\n",
       "2022-01-03 00:00:00\n",
       "</td>\n",
       "<td>\n",
       "6.0\n",
       "</td>\n",
       "<td>\n",
       "&quot;c&quot;\n",
       "</td>\n",
       "</tr>\n",
       "</tbody>\n",
       "</table>\n",
       "</div>"
      ],
      "text/plain": [
       "shape: (3, 3)\n",
       "┌─────────────────────┬───────┬────────┐\n",
       "│ date                ┆ float ┆ string │\n",
       "│ ---                 ┆ ---   ┆ ---    │\n",
       "│ datetime[μs]        ┆ f64   ┆ str    │\n",
       "╞═════════════════════╪═══════╪════════╡\n",
       "│ 2022-01-01 00:00:00 ┆ 4.0   ┆ a      │\n",
       "│ 2022-01-02 00:00:00 ┆ 5.0   ┆ b      │\n",
       "│ 2022-01-03 00:00:00 ┆ 6.0   ┆ c      │\n",
       "└─────────────────────┴───────┴────────┘"
      ]
     },
     "execution_count": 248,
     "metadata": {},
     "output_type": "execute_result"
    }
   ],
   "source": [
    "df.drop(\"integer\")"
   ]
  },
  {
   "cell_type": "markdown",
   "id": "3c5939f1",
   "metadata": {},
   "source": [
    "Polars will not have an `inplace` argument. Use `df.drop_in_place()` instead.\n",
    "\n",
    "\n",
    "Select along dtype"
   ]
  },
  {
   "cell_type": "code",
   "execution_count": 253,
   "id": "ce994279",
   "metadata": {},
   "outputs": [
    {
     "data": {
      "text/html": [
       "<div>\n",
       "<style scoped>\n",
       "    .dataframe tbody tr th:only-of-type {\n",
       "        vertical-align: middle;\n",
       "    }\n",
       "\n",
       "    .dataframe tbody tr th {\n",
       "        vertical-align: top;\n",
       "    }\n",
       "\n",
       "    .dataframe thead th {\n",
       "        text-align: right;\n",
       "    }\n",
       "\n",
       "    .dataframe td {\n",
       "        white-space: pre;\n",
       "    }\n",
       "\n",
       "    .dataframe td {\n",
       "        padding-top: 0;\n",
       "    }\n",
       "\n",
       "    .dataframe td {\n",
       "        padding-bottom: 0;\n",
       "    }\n",
       "\n",
       "    .dataframe td {\n",
       "        line-height: 95%;\n",
       "    }\n",
       "</style>\n",
       "<table border=\"1\" class=\"dataframe\">\n",
       "<small>shape: (3, 1)</small>\n",
       "<thead>\n",
       "<tr>\n",
       "<th>\n",
       "integer\n",
       "</th>\n",
       "</tr>\n",
       "<tr>\n",
       "<td>\n",
       "i64\n",
       "</td>\n",
       "</tr>\n",
       "</thead>\n",
       "<tbody>\n",
       "<tr>\n",
       "<td>\n",
       "1\n",
       "</td>\n",
       "</tr>\n",
       "<tr>\n",
       "<td>\n",
       "2\n",
       "</td>\n",
       "</tr>\n",
       "<tr>\n",
       "<td>\n",
       "3\n",
       "</td>\n",
       "</tr>\n",
       "</tbody>\n",
       "</table>\n",
       "</div>"
      ],
      "text/plain": [
       "shape: (3, 1)\n",
       "┌─────────┐\n",
       "│ integer │\n",
       "│ ---     │\n",
       "│ i64     │\n",
       "╞═════════╡\n",
       "│ 1       │\n",
       "│ 2       │\n",
       "│ 3       │\n",
       "└─────────┘"
      ]
     },
     "execution_count": 249,
     "metadata": {},
     "output_type": "execute_result"
    }
   ],
   "source": [
    "df.select(pl.col(pl.Int64))"
   ]
  },
  {
   "cell_type": "code",
   "execution_count": 254,
   "id": "ddf84081",
   "metadata": {},
   "outputs": [
    {
     "data": {
      "text/html": [
       "<div>\n",
       "<style scoped>\n",
       "    .dataframe tbody tr th:only-of-type {\n",
       "        vertical-align: middle;\n",
       "    }\n",
       "\n",
       "    .dataframe tbody tr th {\n",
       "        vertical-align: top;\n",
       "    }\n",
       "\n",
       "    .dataframe thead th {\n",
       "        text-align: right;\n",
       "    }\n",
       "\n",
       "    .dataframe td {\n",
       "        white-space: pre;\n",
       "    }\n",
       "\n",
       "    .dataframe td {\n",
       "        padding-top: 0;\n",
       "    }\n",
       "\n",
       "    .dataframe td {\n",
       "        padding-bottom: 0;\n",
       "    }\n",
       "\n",
       "    .dataframe td {\n",
       "        line-height: 95%;\n",
       "    }\n",
       "</style>\n",
       "<table border=\"1\" class=\"dataframe\">\n",
       "<small>shape: (3, 1)</small>\n",
       "<thead>\n",
       "<tr>\n",
       "<th>\n",
       "float\n",
       "</th>\n",
       "</tr>\n",
       "<tr>\n",
       "<td>\n",
       "f64\n",
       "</td>\n",
       "</tr>\n",
       "</thead>\n",
       "<tbody>\n",
       "<tr>\n",
       "<td>\n",
       "4.0\n",
       "</td>\n",
       "</tr>\n",
       "<tr>\n",
       "<td>\n",
       "5.0\n",
       "</td>\n",
       "</tr>\n",
       "<tr>\n",
       "<td>\n",
       "6.0\n",
       "</td>\n",
       "</tr>\n",
       "</tbody>\n",
       "</table>\n",
       "</div>"
      ],
      "text/plain": [
       "shape: (3, 1)\n",
       "┌───────┐\n",
       "│ float │\n",
       "│ ---   │\n",
       "│ f64   │\n",
       "╞═══════╡\n",
       "│ 4.0   │\n",
       "│ 5.0   │\n",
       "│ 6.0   │\n",
       "└───────┘"
      ]
     },
     "execution_count": 250,
     "metadata": {},
     "output_type": "execute_result"
    }
   ],
   "source": [
    "df.select(pl.col(pl.Float64))"
   ]
  },
  {
   "cell_type": "code",
   "execution_count": 255,
   "id": "50a91dc3",
   "metadata": {},
   "outputs": [
    {
     "data": {
      "text/html": [
       "<div>\n",
       "<style scoped>\n",
       "    .dataframe tbody tr th:only-of-type {\n",
       "        vertical-align: middle;\n",
       "    }\n",
       "\n",
       "    .dataframe tbody tr th {\n",
       "        vertical-align: top;\n",
       "    }\n",
       "\n",
       "    .dataframe thead th {\n",
       "        text-align: right;\n",
       "    }\n",
       "\n",
       "    .dataframe td {\n",
       "        white-space: pre;\n",
       "    }\n",
       "\n",
       "    .dataframe td {\n",
       "        padding-top: 0;\n",
       "    }\n",
       "\n",
       "    .dataframe td {\n",
       "        padding-bottom: 0;\n",
       "    }\n",
       "\n",
       "    .dataframe td {\n",
       "        line-height: 95%;\n",
       "    }\n",
       "</style>\n",
       "<table border=\"1\" class=\"dataframe\">\n",
       "<small>shape: (3, 1)</small>\n",
       "<thead>\n",
       "<tr>\n",
       "<th>\n",
       "string\n",
       "</th>\n",
       "</tr>\n",
       "<tr>\n",
       "<td>\n",
       "str\n",
       "</td>\n",
       "</tr>\n",
       "</thead>\n",
       "<tbody>\n",
       "<tr>\n",
       "<td>\n",
       "&quot;a&quot;\n",
       "</td>\n",
       "</tr>\n",
       "<tr>\n",
       "<td>\n",
       "&quot;b&quot;\n",
       "</td>\n",
       "</tr>\n",
       "<tr>\n",
       "<td>\n",
       "&quot;c&quot;\n",
       "</td>\n",
       "</tr>\n",
       "</tbody>\n",
       "</table>\n",
       "</div>"
      ],
      "text/plain": [
       "shape: (3, 1)\n",
       "┌────────┐\n",
       "│ string │\n",
       "│ ---    │\n",
       "│ str    │\n",
       "╞════════╡\n",
       "│ a      │\n",
       "│ b      │\n",
       "│ c      │\n",
       "└────────┘"
      ]
     },
     "execution_count": 251,
     "metadata": {},
     "output_type": "execute_result"
    }
   ],
   "source": [
    "df.select(pl.col(pl.Utf8))"
   ]
  },
  {
   "cell_type": "markdown",
   "id": "c9270127",
   "metadata": {},
   "source": [
    "Things to note:\n",
    "\n",
    "- The `pl.col()` function will be very useful for referencing columns in a dataframe. It may extract a single column, a list, a particular (polars) dtype, a regex pattern, or simply all columns.\n",
    "- When exctracting along dtype, use polars' dtypes, not pandas' dtypes. For example, use `pl.Int64` instead of `np.int64`.\n",
    "\n",
    "\n",
    "\n",
    "\n",
    "### Selecting A Single Item\n",
    "\n",
    "Exctracts the first element as a scalar. Useful when you output a single number as a frame object. "
   ]
  },
  {
   "cell_type": "code",
   "execution_count": 256,
   "id": "a3cb5137",
   "metadata": {},
   "outputs": [
    {
     "data": {
      "text/plain": [
       "1"
      ]
     },
     "execution_count": 252,
     "metadata": {},
     "output_type": "execute_result"
    }
   ],
   "source": [
    "pl.DataFrame([1]).item() # notice the output is not a frame, rather, a scalar."
   ]
  },
  {
   "cell_type": "markdown",
   "id": "a011e997",
   "metadata": {},
   "source": [
    "## Uniques and Duplicates\n"
   ]
  },
  {
   "cell_type": "code",
   "execution_count": 257,
   "id": "498cc72c",
   "metadata": {},
   "outputs": [
    {
     "data": {
      "text/html": [
       "<div>\n",
       "<style scoped>\n",
       "    .dataframe tbody tr th:only-of-type {\n",
       "        vertical-align: middle;\n",
       "    }\n",
       "\n",
       "    .dataframe tbody tr th {\n",
       "        vertical-align: top;\n",
       "    }\n",
       "\n",
       "    .dataframe thead th {\n",
       "        text-align: right;\n",
       "    }\n",
       "\n",
       "    .dataframe td {\n",
       "        white-space: pre;\n",
       "    }\n",
       "\n",
       "    .dataframe td {\n",
       "        padding-top: 0;\n",
       "    }\n",
       "\n",
       "    .dataframe td {\n",
       "        padding-bottom: 0;\n",
       "    }\n",
       "\n",
       "    .dataframe td {\n",
       "        line-height: 95%;\n",
       "    }\n",
       "</style>\n",
       "<table border=\"1\" class=\"dataframe\">\n",
       "<small>shape: (3,)</small>\n",
       "<thead>\n",
       "<tr>\n",
       "<th>\n",
       "\n",
       "</th>\n",
       "</tr>\n",
       "<tr>\n",
       "<td>\n",
       "bool\n",
       "</td>\n",
       "</tr>\n",
       "</thead>\n",
       "<tbody>\n",
       "<tr>\n",
       "<td>\n",
       "true\n",
       "</td>\n",
       "</tr>\n",
       "<tr>\n",
       "<td>\n",
       "true\n",
       "</td>\n",
       "</tr>\n",
       "<tr>\n",
       "<td>\n",
       "true\n",
       "</td>\n",
       "</tr>\n",
       "</tbody>\n",
       "</table>\n",
       "</div>"
      ],
      "text/plain": [
       "shape: (3,)\n",
       "Series: '' [bool]\n",
       "[\n",
       "\ttrue\n",
       "\ttrue\n",
       "\ttrue\n",
       "]"
      ]
     },
     "execution_count": 253,
     "metadata": {},
     "output_type": "execute_result"
    }
   ],
   "source": [
    "df.is_unique()"
   ]
  },
  {
   "cell_type": "code",
   "execution_count": 258,
   "id": "fc0486cc",
   "metadata": {},
   "outputs": [
    {
     "data": {
      "text/html": [
       "<div>\n",
       "<style scoped>\n",
       "    .dataframe tbody tr th:only-of-type {\n",
       "        vertical-align: middle;\n",
       "    }\n",
       "\n",
       "    .dataframe tbody tr th {\n",
       "        vertical-align: top;\n",
       "    }\n",
       "\n",
       "    .dataframe thead th {\n",
       "        text-align: right;\n",
       "    }\n",
       "\n",
       "    .dataframe td {\n",
       "        white-space: pre;\n",
       "    }\n",
       "\n",
       "    .dataframe td {\n",
       "        padding-top: 0;\n",
       "    }\n",
       "\n",
       "    .dataframe td {\n",
       "        padding-bottom: 0;\n",
       "    }\n",
       "\n",
       "    .dataframe td {\n",
       "        line-height: 95%;\n",
       "    }\n",
       "</style>\n",
       "<table border=\"1\" class=\"dataframe\">\n",
       "<small>shape: (3,)</small>\n",
       "<thead>\n",
       "<tr>\n",
       "<th>\n",
       "\n",
       "</th>\n",
       "</tr>\n",
       "<tr>\n",
       "<td>\n",
       "bool\n",
       "</td>\n",
       "</tr>\n",
       "</thead>\n",
       "<tbody>\n",
       "<tr>\n",
       "<td>\n",
       "false\n",
       "</td>\n",
       "</tr>\n",
       "<tr>\n",
       "<td>\n",
       "false\n",
       "</td>\n",
       "</tr>\n",
       "<tr>\n",
       "<td>\n",
       "false\n",
       "</td>\n",
       "</tr>\n",
       "</tbody>\n",
       "</table>\n",
       "</div>"
      ],
      "text/plain": [
       "shape: (3,)\n",
       "Series: '' [bool]\n",
       "[\n",
       "\tfalse\n",
       "\tfalse\n",
       "\tfalse\n",
       "]"
      ]
     },
     "execution_count": 254,
     "metadata": {},
     "output_type": "execute_result"
    }
   ],
   "source": [
    "df.is_duplicated()"
   ]
  },
  {
   "cell_type": "code",
   "execution_count": 259,
   "id": "39a52db6",
   "metadata": {},
   "outputs": [
    {
     "data": {
      "text/html": [
       "<div>\n",
       "<style scoped>\n",
       "    .dataframe tbody tr th:only-of-type {\n",
       "        vertical-align: middle;\n",
       "    }\n",
       "\n",
       "    .dataframe tbody tr th {\n",
       "        vertical-align: top;\n",
       "    }\n",
       "\n",
       "    .dataframe thead th {\n",
       "        text-align: right;\n",
       "    }\n",
       "\n",
       "    .dataframe td {\n",
       "        white-space: pre;\n",
       "    }\n",
       "\n",
       "    .dataframe td {\n",
       "        padding-top: 0;\n",
       "    }\n",
       "\n",
       "    .dataframe td {\n",
       "        padding-bottom: 0;\n",
       "    }\n",
       "\n",
       "    .dataframe td {\n",
       "        line-height: 95%;\n",
       "    }\n",
       "</style>\n",
       "<table border=\"1\" class=\"dataframe\">\n",
       "<small>shape: (3, 4)</small>\n",
       "<thead>\n",
       "<tr>\n",
       "<th>\n",
       "integer\n",
       "</th>\n",
       "<th>\n",
       "date\n",
       "</th>\n",
       "<th>\n",
       "float\n",
       "</th>\n",
       "<th>\n",
       "string\n",
       "</th>\n",
       "</tr>\n",
       "<tr>\n",
       "<td>\n",
       "i64\n",
       "</td>\n",
       "<td>\n",
       "datetime[μs]\n",
       "</td>\n",
       "<td>\n",
       "f64\n",
       "</td>\n",
       "<td>\n",
       "str\n",
       "</td>\n",
       "</tr>\n",
       "</thead>\n",
       "<tbody>\n",
       "<tr>\n",
       "<td>\n",
       "1\n",
       "</td>\n",
       "<td>\n",
       "2022-01-01 00:00:00\n",
       "</td>\n",
       "<td>\n",
       "4.0\n",
       "</td>\n",
       "<td>\n",
       "&quot;a&quot;\n",
       "</td>\n",
       "</tr>\n",
       "<tr>\n",
       "<td>\n",
       "2\n",
       "</td>\n",
       "<td>\n",
       "2022-01-02 00:00:00\n",
       "</td>\n",
       "<td>\n",
       "5.0\n",
       "</td>\n",
       "<td>\n",
       "&quot;b&quot;\n",
       "</td>\n",
       "</tr>\n",
       "<tr>\n",
       "<td>\n",
       "3\n",
       "</td>\n",
       "<td>\n",
       "2022-01-03 00:00:00\n",
       "</td>\n",
       "<td>\n",
       "6.0\n",
       "</td>\n",
       "<td>\n",
       "&quot;c&quot;\n",
       "</td>\n",
       "</tr>\n",
       "</tbody>\n",
       "</table>\n",
       "</div>"
      ],
      "text/plain": [
       "shape: (3, 4)\n",
       "┌─────────┬─────────────────────┬───────┬────────┐\n",
       "│ integer ┆ date                ┆ float ┆ string │\n",
       "│ ---     ┆ ---                 ┆ ---   ┆ ---    │\n",
       "│ i64     ┆ datetime[μs]        ┆ f64   ┆ str    │\n",
       "╞═════════╪═════════════════════╪═══════╪════════╡\n",
       "│ 1       ┆ 2022-01-01 00:00:00 ┆ 4.0   ┆ a      │\n",
       "│ 2       ┆ 2022-01-02 00:00:00 ┆ 5.0   ┆ b      │\n",
       "│ 3       ┆ 2022-01-03 00:00:00 ┆ 6.0   ┆ c      │\n",
       "└─────────┴─────────────────────┴───────┴────────┘"
      ]
     },
     "execution_count": 255,
     "metadata": {},
     "output_type": "execute_result"
    }
   ],
   "source": [
    "df.unique() # same as pd.drop_duplicates()"
   ]
  },
  {
   "cell_type": "code",
   "execution_count": 260,
   "id": "473a969e",
   "metadata": {},
   "outputs": [
    {
     "data": {
      "text/plain": [
       "3"
      ]
     },
     "execution_count": 256,
     "metadata": {},
     "output_type": "execute_result"
    }
   ],
   "source": [
    "df.n_unique()"
   ]
  },
  {
   "cell_type": "markdown",
   "id": "85ffc981",
   "metadata": {},
   "source": [
    "## Missing\n"
   ]
  },
  {
   "cell_type": "code",
   "execution_count": 261,
   "id": "015e4d9f",
   "metadata": {},
   "outputs": [],
   "source": [
    "df_with_nulls = df.with_columns([\n",
    "    pl.Series(\"missing\", [3, None, np.nan]),\n",
    "])"
   ]
  },
  {
   "cell_type": "code",
   "execution_count": 262,
   "id": "7b76fcfc",
   "metadata": {},
   "outputs": [
    {
     "data": {
      "text/html": [
       "<div>\n",
       "<style scoped>\n",
       "    .dataframe tbody tr th:only-of-type {\n",
       "        vertical-align: middle;\n",
       "    }\n",
       "\n",
       "    .dataframe tbody tr th {\n",
       "        vertical-align: top;\n",
       "    }\n",
       "\n",
       "    .dataframe thead th {\n",
       "        text-align: right;\n",
       "    }\n",
       "\n",
       "    .dataframe td {\n",
       "        white-space: pre;\n",
       "    }\n",
       "\n",
       "    .dataframe td {\n",
       "        padding-top: 0;\n",
       "    }\n",
       "\n",
       "    .dataframe td {\n",
       "        padding-bottom: 0;\n",
       "    }\n",
       "\n",
       "    .dataframe td {\n",
       "        line-height: 95%;\n",
       "    }\n",
       "</style>\n",
       "<table border=\"1\" class=\"dataframe\">\n",
       "<small>shape: (1, 5)</small>\n",
       "<thead>\n",
       "<tr>\n",
       "<th>\n",
       "integer\n",
       "</th>\n",
       "<th>\n",
       "date\n",
       "</th>\n",
       "<th>\n",
       "float\n",
       "</th>\n",
       "<th>\n",
       "string\n",
       "</th>\n",
       "<th>\n",
       "missing\n",
       "</th>\n",
       "</tr>\n",
       "<tr>\n",
       "<td>\n",
       "u32\n",
       "</td>\n",
       "<td>\n",
       "u32\n",
       "</td>\n",
       "<td>\n",
       "u32\n",
       "</td>\n",
       "<td>\n",
       "u32\n",
       "</td>\n",
       "<td>\n",
       "u32\n",
       "</td>\n",
       "</tr>\n",
       "</thead>\n",
       "<tbody>\n",
       "<tr>\n",
       "<td>\n",
       "0\n",
       "</td>\n",
       "<td>\n",
       "0\n",
       "</td>\n",
       "<td>\n",
       "0\n",
       "</td>\n",
       "<td>\n",
       "0\n",
       "</td>\n",
       "<td>\n",
       "1\n",
       "</td>\n",
       "</tr>\n",
       "</tbody>\n",
       "</table>\n",
       "</div>"
      ],
      "text/plain": [
       "shape: (1, 5)\n",
       "┌─────────┬──────┬───────┬────────┬─────────┐\n",
       "│ integer ┆ date ┆ float ┆ string ┆ missing │\n",
       "│ ---     ┆ ---  ┆ ---   ┆ ---    ┆ ---     │\n",
       "│ u32     ┆ u32  ┆ u32   ┆ u32    ┆ u32     │\n",
       "╞═════════╪══════╪═══════╪════════╪═════════╡\n",
       "│ 0       ┆ 0    ┆ 0     ┆ 0      ┆ 1       │\n",
       "└─────────┴──────┴───────┴────────┴─────────┘"
      ]
     },
     "execution_count": 258,
     "metadata": {},
     "output_type": "execute_result"
    }
   ],
   "source": [
    "df_with_nulls.null_count() # same as pd.isnull().sum()"
   ]
  },
  {
   "cell_type": "code",
   "execution_count": 263,
   "id": "f07c705c",
   "metadata": {},
   "outputs": [
    {
     "data": {
      "text/html": [
       "<div>\n",
       "<style scoped>\n",
       "    .dataframe tbody tr th:only-of-type {\n",
       "        vertical-align: middle;\n",
       "    }\n",
       "\n",
       "    .dataframe tbody tr th {\n",
       "        vertical-align: top;\n",
       "    }\n",
       "\n",
       "    .dataframe thead th {\n",
       "        text-align: right;\n",
       "    }\n",
       "\n",
       "    .dataframe td {\n",
       "        white-space: pre;\n",
       "    }\n",
       "\n",
       "    .dataframe td {\n",
       "        padding-top: 0;\n",
       "    }\n",
       "\n",
       "    .dataframe td {\n",
       "        padding-bottom: 0;\n",
       "    }\n",
       "\n",
       "    .dataframe td {\n",
       "        line-height: 95%;\n",
       "    }\n",
       "</style>\n",
       "<table border=\"1\" class=\"dataframe\">\n",
       "<small>shape: (2, 5)</small>\n",
       "<thead>\n",
       "<tr>\n",
       "<th>\n",
       "integer\n",
       "</th>\n",
       "<th>\n",
       "date\n",
       "</th>\n",
       "<th>\n",
       "float\n",
       "</th>\n",
       "<th>\n",
       "string\n",
       "</th>\n",
       "<th>\n",
       "missing\n",
       "</th>\n",
       "</tr>\n",
       "<tr>\n",
       "<td>\n",
       "i64\n",
       "</td>\n",
       "<td>\n",
       "datetime[μs]\n",
       "</td>\n",
       "<td>\n",
       "f64\n",
       "</td>\n",
       "<td>\n",
       "str\n",
       "</td>\n",
       "<td>\n",
       "f64\n",
       "</td>\n",
       "</tr>\n",
       "</thead>\n",
       "<tbody>\n",
       "<tr>\n",
       "<td>\n",
       "1\n",
       "</td>\n",
       "<td>\n",
       "2022-01-01 00:00:00\n",
       "</td>\n",
       "<td>\n",
       "4.0\n",
       "</td>\n",
       "<td>\n",
       "&quot;a&quot;\n",
       "</td>\n",
       "<td>\n",
       "3.0\n",
       "</td>\n",
       "</tr>\n",
       "<tr>\n",
       "<td>\n",
       "3\n",
       "</td>\n",
       "<td>\n",
       "2022-01-03 00:00:00\n",
       "</td>\n",
       "<td>\n",
       "6.0\n",
       "</td>\n",
       "<td>\n",
       "&quot;c&quot;\n",
       "</td>\n",
       "<td>\n",
       "NaN\n",
       "</td>\n",
       "</tr>\n",
       "</tbody>\n",
       "</table>\n",
       "</div>"
      ],
      "text/plain": [
       "shape: (2, 5)\n",
       "┌─────────┬─────────────────────┬───────┬────────┬─────────┐\n",
       "│ integer ┆ date                ┆ float ┆ string ┆ missing │\n",
       "│ ---     ┆ ---                 ┆ ---   ┆ ---    ┆ ---     │\n",
       "│ i64     ┆ datetime[μs]        ┆ f64   ┆ str    ┆ f64     │\n",
       "╞═════════╪═════════════════════╪═══════╪════════╪═════════╡\n",
       "│ 1       ┆ 2022-01-01 00:00:00 ┆ 4.0   ┆ a      ┆ 3.0     │\n",
       "│ 3       ┆ 2022-01-03 00:00:00 ┆ 6.0   ┆ c      ┆ NaN     │\n",
       "└─────────┴─────────────────────┴───────┴────────┴─────────┘"
      ]
     },
     "execution_count": 259,
     "metadata": {},
     "output_type": "execute_result"
    }
   ],
   "source": [
    "df_with_nulls.drop_nulls() # same as pd.dropna()"
   ]
  },
  {
   "cell_type": "code",
   "execution_count": 264,
   "id": "6f73e4f9",
   "metadata": {},
   "outputs": [
    {
     "data": {
      "text/html": [
       "<div>\n",
       "<style scoped>\n",
       "    .dataframe tbody tr th:only-of-type {\n",
       "        vertical-align: middle;\n",
       "    }\n",
       "\n",
       "    .dataframe tbody tr th {\n",
       "        vertical-align: top;\n",
       "    }\n",
       "\n",
       "    .dataframe thead th {\n",
       "        text-align: right;\n",
       "    }\n",
       "\n",
       "    .dataframe td {\n",
       "        white-space: pre;\n",
       "    }\n",
       "\n",
       "    .dataframe td {\n",
       "        padding-top: 0;\n",
       "    }\n",
       "\n",
       "    .dataframe td {\n",
       "        padding-bottom: 0;\n",
       "    }\n",
       "\n",
       "    .dataframe td {\n",
       "        line-height: 95%;\n",
       "    }\n",
       "</style>\n",
       "<table border=\"1\" class=\"dataframe\">\n",
       "<small>shape: (3, 5)</small>\n",
       "<thead>\n",
       "<tr>\n",
       "<th>\n",
       "integer\n",
       "</th>\n",
       "<th>\n",
       "date\n",
       "</th>\n",
       "<th>\n",
       "float\n",
       "</th>\n",
       "<th>\n",
       "string\n",
       "</th>\n",
       "<th>\n",
       "missing\n",
       "</th>\n",
       "</tr>\n",
       "<tr>\n",
       "<td>\n",
       "i64\n",
       "</td>\n",
       "<td>\n",
       "datetime[μs]\n",
       "</td>\n",
       "<td>\n",
       "f64\n",
       "</td>\n",
       "<td>\n",
       "str\n",
       "</td>\n",
       "<td>\n",
       "f64\n",
       "</td>\n",
       "</tr>\n",
       "</thead>\n",
       "<tbody>\n",
       "<tr>\n",
       "<td>\n",
       "1\n",
       "</td>\n",
       "<td>\n",
       "2022-01-01 00:00:00\n",
       "</td>\n",
       "<td>\n",
       "4.0\n",
       "</td>\n",
       "<td>\n",
       "&quot;a&quot;\n",
       "</td>\n",
       "<td>\n",
       "3.0\n",
       "</td>\n",
       "</tr>\n",
       "<tr>\n",
       "<td>\n",
       "2\n",
       "</td>\n",
       "<td>\n",
       "2022-01-02 00:00:00\n",
       "</td>\n",
       "<td>\n",
       "5.0\n",
       "</td>\n",
       "<td>\n",
       "&quot;b&quot;\n",
       "</td>\n",
       "<td>\n",
       "0.0\n",
       "</td>\n",
       "</tr>\n",
       "<tr>\n",
       "<td>\n",
       "3\n",
       "</td>\n",
       "<td>\n",
       "2022-01-03 00:00:00\n",
       "</td>\n",
       "<td>\n",
       "6.0\n",
       "</td>\n",
       "<td>\n",
       "&quot;c&quot;\n",
       "</td>\n",
       "<td>\n",
       "NaN\n",
       "</td>\n",
       "</tr>\n",
       "</tbody>\n",
       "</table>\n",
       "</div>"
      ],
      "text/plain": [
       "shape: (3, 5)\n",
       "┌─────────┬─────────────────────┬───────┬────────┬─────────┐\n",
       "│ integer ┆ date                ┆ float ┆ string ┆ missing │\n",
       "│ ---     ┆ ---                 ┆ ---   ┆ ---    ┆ ---     │\n",
       "│ i64     ┆ datetime[μs]        ┆ f64   ┆ str    ┆ f64     │\n",
       "╞═════════╪═════════════════════╪═══════╪════════╪═════════╡\n",
       "│ 1       ┆ 2022-01-01 00:00:00 ┆ 4.0   ┆ a      ┆ 3.0     │\n",
       "│ 2       ┆ 2022-01-02 00:00:00 ┆ 5.0   ┆ b      ┆ 0.0     │\n",
       "│ 3       ┆ 2022-01-03 00:00:00 ┆ 6.0   ┆ c      ┆ NaN     │\n",
       "└─────────┴─────────────────────┴───────┴────────┴─────────┘"
      ]
     },
     "execution_count": 260,
     "metadata": {},
     "output_type": "execute_result"
    }
   ],
   "source": [
    "df_with_nulls.fill_null(0) # same as pd.fillna(0)"
   ]
  },
  {
   "cell_type": "markdown",
   "id": "fb412b37",
   "metadata": {},
   "source": [
    "But recall that `None` and `np.nan` are not the same thing. "
   ]
  },
  {
   "cell_type": "code",
   "execution_count": 265,
   "id": "df23735d",
   "metadata": {},
   "outputs": [
    {
     "data": {
      "text/html": [
       "<div>\n",
       "<style scoped>\n",
       "    .dataframe tbody tr th:only-of-type {\n",
       "        vertical-align: middle;\n",
       "    }\n",
       "\n",
       "    .dataframe tbody tr th {\n",
       "        vertical-align: top;\n",
       "    }\n",
       "\n",
       "    .dataframe thead th {\n",
       "        text-align: right;\n",
       "    }\n",
       "\n",
       "    .dataframe td {\n",
       "        white-space: pre;\n",
       "    }\n",
       "\n",
       "    .dataframe td {\n",
       "        padding-top: 0;\n",
       "    }\n",
       "\n",
       "    .dataframe td {\n",
       "        padding-bottom: 0;\n",
       "    }\n",
       "\n",
       "    .dataframe td {\n",
       "        line-height: 95%;\n",
       "    }\n",
       "</style>\n",
       "<table border=\"1\" class=\"dataframe\">\n",
       "<small>shape: (3, 5)</small>\n",
       "<thead>\n",
       "<tr>\n",
       "<th>\n",
       "integer\n",
       "</th>\n",
       "<th>\n",
       "date\n",
       "</th>\n",
       "<th>\n",
       "float\n",
       "</th>\n",
       "<th>\n",
       "string\n",
       "</th>\n",
       "<th>\n",
       "missing\n",
       "</th>\n",
       "</tr>\n",
       "<tr>\n",
       "<td>\n",
       "i64\n",
       "</td>\n",
       "<td>\n",
       "datetime[μs]\n",
       "</td>\n",
       "<td>\n",
       "f64\n",
       "</td>\n",
       "<td>\n",
       "str\n",
       "</td>\n",
       "<td>\n",
       "f64\n",
       "</td>\n",
       "</tr>\n",
       "</thead>\n",
       "<tbody>\n",
       "<tr>\n",
       "<td>\n",
       "1\n",
       "</td>\n",
       "<td>\n",
       "2022-01-01 00:00:00\n",
       "</td>\n",
       "<td>\n",
       "4.0\n",
       "</td>\n",
       "<td>\n",
       "&quot;a&quot;\n",
       "</td>\n",
       "<td>\n",
       "3.0\n",
       "</td>\n",
       "</tr>\n",
       "<tr>\n",
       "<td>\n",
       "2\n",
       "</td>\n",
       "<td>\n",
       "2022-01-02 00:00:00\n",
       "</td>\n",
       "<td>\n",
       "5.0\n",
       "</td>\n",
       "<td>\n",
       "&quot;b&quot;\n",
       "</td>\n",
       "<td>\n",
       "null\n",
       "</td>\n",
       "</tr>\n",
       "<tr>\n",
       "<td>\n",
       "3\n",
       "</td>\n",
       "<td>\n",
       "2022-01-03 00:00:00\n",
       "</td>\n",
       "<td>\n",
       "6.0\n",
       "</td>\n",
       "<td>\n",
       "&quot;c&quot;\n",
       "</td>\n",
       "<td>\n",
       "99.0\n",
       "</td>\n",
       "</tr>\n",
       "</tbody>\n",
       "</table>\n",
       "</div>"
      ],
      "text/plain": [
       "shape: (3, 5)\n",
       "┌─────────┬─────────────────────┬───────┬────────┬─────────┐\n",
       "│ integer ┆ date                ┆ float ┆ string ┆ missing │\n",
       "│ ---     ┆ ---                 ┆ ---   ┆ ---    ┆ ---     │\n",
       "│ i64     ┆ datetime[μs]        ┆ f64   ┆ str    ┆ f64     │\n",
       "╞═════════╪═════════════════════╪═══════╪════════╪═════════╡\n",
       "│ 1       ┆ 2022-01-01 00:00:00 ┆ 4.0   ┆ a      ┆ 3.0     │\n",
       "│ 2       ┆ 2022-01-02 00:00:00 ┆ 5.0   ┆ b      ┆ null    │\n",
       "│ 3       ┆ 2022-01-03 00:00:00 ┆ 6.0   ┆ c      ┆ 99.0    │\n",
       "└─────────┴─────────────────────┴───────┴────────┴─────────┘"
      ]
     },
     "execution_count": 261,
     "metadata": {},
     "output_type": "execute_result"
    }
   ],
   "source": [
    "df_with_nulls.fill_nan(99)"
   ]
  },
  {
   "cell_type": "code",
   "execution_count": 266,
   "id": "755c5ed0",
   "metadata": {},
   "outputs": [
    {
     "data": {
      "text/html": [
       "<div>\n",
       "<style scoped>\n",
       "    .dataframe tbody tr th:only-of-type {\n",
       "        vertical-align: middle;\n",
       "    }\n",
       "\n",
       "    .dataframe tbody tr th {\n",
       "        vertical-align: top;\n",
       "    }\n",
       "\n",
       "    .dataframe thead th {\n",
       "        text-align: right;\n",
       "    }\n",
       "\n",
       "    .dataframe td {\n",
       "        white-space: pre;\n",
       "    }\n",
       "\n",
       "    .dataframe td {\n",
       "        padding-top: 0;\n",
       "    }\n",
       "\n",
       "    .dataframe td {\n",
       "        padding-bottom: 0;\n",
       "    }\n",
       "\n",
       "    .dataframe td {\n",
       "        line-height: 95%;\n",
       "    }\n",
       "</style>\n",
       "<table border=\"1\" class=\"dataframe\">\n",
       "<small>shape: (3, 5)</small>\n",
       "<thead>\n",
       "<tr>\n",
       "<th>\n",
       "integer\n",
       "</th>\n",
       "<th>\n",
       "date\n",
       "</th>\n",
       "<th>\n",
       "float\n",
       "</th>\n",
       "<th>\n",
       "string\n",
       "</th>\n",
       "<th>\n",
       "missing\n",
       "</th>\n",
       "</tr>\n",
       "<tr>\n",
       "<td>\n",
       "i64\n",
       "</td>\n",
       "<td>\n",
       "datetime[μs]\n",
       "</td>\n",
       "<td>\n",
       "f64\n",
       "</td>\n",
       "<td>\n",
       "str\n",
       "</td>\n",
       "<td>\n",
       "f64\n",
       "</td>\n",
       "</tr>\n",
       "</thead>\n",
       "<tbody>\n",
       "<tr>\n",
       "<td>\n",
       "1\n",
       "</td>\n",
       "<td>\n",
       "2022-01-01 00:00:00\n",
       "</td>\n",
       "<td>\n",
       "4.0\n",
       "</td>\n",
       "<td>\n",
       "&quot;a&quot;\n",
       "</td>\n",
       "<td>\n",
       "3.0\n",
       "</td>\n",
       "</tr>\n",
       "<tr>\n",
       "<td>\n",
       "2\n",
       "</td>\n",
       "<td>\n",
       "2022-01-02 00:00:00\n",
       "</td>\n",
       "<td>\n",
       "5.0\n",
       "</td>\n",
       "<td>\n",
       "&quot;b&quot;\n",
       "</td>\n",
       "<td>\n",
       "NaN\n",
       "</td>\n",
       "</tr>\n",
       "<tr>\n",
       "<td>\n",
       "3\n",
       "</td>\n",
       "<td>\n",
       "2022-01-03 00:00:00\n",
       "</td>\n",
       "<td>\n",
       "6.0\n",
       "</td>\n",
       "<td>\n",
       "&quot;c&quot;\n",
       "</td>\n",
       "<td>\n",
       "NaN\n",
       "</td>\n",
       "</tr>\n",
       "</tbody>\n",
       "</table>\n",
       "</div>"
      ],
      "text/plain": [
       "shape: (3, 5)\n",
       "┌─────────┬─────────────────────┬───────┬────────┬─────────┐\n",
       "│ integer ┆ date                ┆ float ┆ string ┆ missing │\n",
       "│ ---     ┆ ---                 ┆ ---   ┆ ---    ┆ ---     │\n",
       "│ i64     ┆ datetime[μs]        ┆ f64   ┆ str    ┆ f64     │\n",
       "╞═════════╪═════════════════════╪═══════╪════════╪═════════╡\n",
       "│ 1       ┆ 2022-01-01 00:00:00 ┆ 4.0   ┆ a      ┆ 3.0     │\n",
       "│ 2       ┆ 2022-01-02 00:00:00 ┆ 5.0   ┆ b      ┆ NaN     │\n",
       "│ 3       ┆ 2022-01-03 00:00:00 ┆ 6.0   ┆ c      ┆ NaN     │\n",
       "└─────────┴─────────────────────┴───────┴────────┴─────────┘"
      ]
     },
     "execution_count": 262,
     "metadata": {},
     "output_type": "execute_result"
    }
   ],
   "source": [
    "df_with_nulls.interpolate()"
   ]
  },
  {
   "cell_type": "markdown",
   "id": "31fc89b6",
   "metadata": {},
   "source": [
    "## Transformations\n",
    "\n",
    "- The general idea of colum trasformation is to wrap all transformations in a `with_columns()` method, and the select colums to operat on with `pl.col()`. \n",
    "- The output column will have the same name as the input, unless you use the `alias()` method to rename it. \n",
    "- The `with_columns()` is called a __polars context__.\n",
    "- The flavor of the `with_columns()` context is similar to pandas' `assign()`.\n",
    "- One can use `df.iter_rows()` to get an iterator over rows. \n"
   ]
  },
  {
   "cell_type": "code",
   "execution_count": 267,
   "id": "4f32f028",
   "metadata": {},
   "outputs": [
    {
     "data": {
      "text/html": [
       "<div>\n",
       "<style scoped>\n",
       "    .dataframe tbody tr th:only-of-type {\n",
       "        vertical-align: middle;\n",
       "    }\n",
       "\n",
       "    .dataframe tbody tr th {\n",
       "        vertical-align: top;\n",
       "    }\n",
       "\n",
       "    .dataframe thead th {\n",
       "        text-align: right;\n",
       "    }\n",
       "\n",
       "    .dataframe td {\n",
       "        white-space: pre;\n",
       "    }\n",
       "\n",
       "    .dataframe td {\n",
       "        padding-top: 0;\n",
       "    }\n",
       "\n",
       "    .dataframe td {\n",
       "        padding-bottom: 0;\n",
       "    }\n",
       "\n",
       "    .dataframe td {\n",
       "        line-height: 95%;\n",
       "    }\n",
       "</style>\n",
       "<table border=\"1\" class=\"dataframe\">\n",
       "<small>shape: (3, 5)</small>\n",
       "<thead>\n",
       "<tr>\n",
       "<th>\n",
       "integer\n",
       "</th>\n",
       "<th>\n",
       "date\n",
       "</th>\n",
       "<th>\n",
       "float\n",
       "</th>\n",
       "<th>\n",
       "string\n",
       "</th>\n",
       "<th>\n",
       "integer2\n",
       "</th>\n",
       "</tr>\n",
       "<tr>\n",
       "<td>\n",
       "i64\n",
       "</td>\n",
       "<td>\n",
       "datetime[μs]\n",
       "</td>\n",
       "<td>\n",
       "f64\n",
       "</td>\n",
       "<td>\n",
       "str\n",
       "</td>\n",
       "<td>\n",
       "i64\n",
       "</td>\n",
       "</tr>\n",
       "</thead>\n",
       "<tbody>\n",
       "<tr>\n",
       "<td>\n",
       "2\n",
       "</td>\n",
       "<td>\n",
       "2022-01-01 00:00:00\n",
       "</td>\n",
       "<td>\n",
       "4.0\n",
       "</td>\n",
       "<td>\n",
       "&quot;a&quot;\n",
       "</td>\n",
       "<td>\n",
       "1\n",
       "</td>\n",
       "</tr>\n",
       "<tr>\n",
       "<td>\n",
       "4\n",
       "</td>\n",
       "<td>\n",
       "2022-01-02 00:00:00\n",
       "</td>\n",
       "<td>\n",
       "5.0\n",
       "</td>\n",
       "<td>\n",
       "&quot;b&quot;\n",
       "</td>\n",
       "<td>\n",
       "2\n",
       "</td>\n",
       "</tr>\n",
       "<tr>\n",
       "<td>\n",
       "6\n",
       "</td>\n",
       "<td>\n",
       "2022-01-03 00:00:00\n",
       "</td>\n",
       "<td>\n",
       "6.0\n",
       "</td>\n",
       "<td>\n",
       "&quot;c&quot;\n",
       "</td>\n",
       "<td>\n",
       "3\n",
       "</td>\n",
       "</tr>\n",
       "</tbody>\n",
       "</table>\n",
       "</div>"
      ],
      "text/plain": [
       "shape: (3, 5)\n",
       "┌─────────┬─────────────────────┬───────┬────────┬──────────┐\n",
       "│ integer ┆ date                ┆ float ┆ string ┆ integer2 │\n",
       "│ ---     ┆ ---                 ┆ ---   ┆ ---    ┆ ---      │\n",
       "│ i64     ┆ datetime[μs]        ┆ f64   ┆ str    ┆ i64      │\n",
       "╞═════════╪═════════════════════╪═══════╪════════╪══════════╡\n",
       "│ 2       ┆ 2022-01-01 00:00:00 ┆ 4.0   ┆ a      ┆ 1        │\n",
       "│ 4       ┆ 2022-01-02 00:00:00 ┆ 5.0   ┆ b      ┆ 2        │\n",
       "│ 6       ┆ 2022-01-03 00:00:00 ┆ 6.0   ┆ c      ┆ 3        │\n",
       "└─────────┴─────────────────────┴───────┴────────┴──────────┘"
      ]
     },
     "execution_count": 263,
     "metadata": {},
     "output_type": "execute_result"
    }
   ],
   "source": [
    "df.with_columns([\n",
    "    pl.col(\"integer\").alias(\"integer2\"),\n",
    "    pl.col(\"integer\") * 2\n",
    "])"
   ]
  },
  {
   "cell_type": "markdown",
   "id": "27543113",
   "metadata": {},
   "source": [
    "Things to note:\n",
    "\n",
    "- The column `integer` is copied, by renaming it to `integer2`.\n",
    "- The columns `integer` is multiplied by 2 in place, because no `alias` is used. \n",
    "- You cannot use `[` to assign! This would not have worked `df['integer3'] = df['integer'] * 2`\n",
    "\n",
    "\n",
    "\n",
    "\n",
    "If a selection returns multiple columns, all will be transformed:"
   ]
  },
  {
   "cell_type": "code",
   "execution_count": 268,
   "id": "fc8791c4",
   "metadata": {},
   "outputs": [
    {
     "data": {
      "text/html": [
       "<div>\n",
       "<style scoped>\n",
       "    .dataframe tbody tr th:only-of-type {\n",
       "        vertical-align: middle;\n",
       "    }\n",
       "\n",
       "    .dataframe tbody tr th {\n",
       "        vertical-align: top;\n",
       "    }\n",
       "\n",
       "    .dataframe thead th {\n",
       "        text-align: right;\n",
       "    }\n",
       "\n",
       "    .dataframe td {\n",
       "        white-space: pre;\n",
       "    }\n",
       "\n",
       "    .dataframe td {\n",
       "        padding-top: 0;\n",
       "    }\n",
       "\n",
       "    .dataframe td {\n",
       "        padding-bottom: 0;\n",
       "    }\n",
       "\n",
       "    .dataframe td {\n",
       "        line-height: 95%;\n",
       "    }\n",
       "</style>\n",
       "<table border=\"1\" class=\"dataframe\">\n",
       "<small>shape: (3, 4)</small>\n",
       "<thead>\n",
       "<tr>\n",
       "<th>\n",
       "integer\n",
       "</th>\n",
       "<th>\n",
       "date\n",
       "</th>\n",
       "<th>\n",
       "float\n",
       "</th>\n",
       "<th>\n",
       "string\n",
       "</th>\n",
       "</tr>\n",
       "<tr>\n",
       "<td>\n",
       "i64\n",
       "</td>\n",
       "<td>\n",
       "datetime[μs]\n",
       "</td>\n",
       "<td>\n",
       "f64\n",
       "</td>\n",
       "<td>\n",
       "str\n",
       "</td>\n",
       "</tr>\n",
       "</thead>\n",
       "<tbody>\n",
       "<tr>\n",
       "<td>\n",
       "2\n",
       "</td>\n",
       "<td>\n",
       "2022-01-01 00:00:00\n",
       "</td>\n",
       "<td>\n",
       "8.0\n",
       "</td>\n",
       "<td>\n",
       "&quot;a&quot;\n",
       "</td>\n",
       "</tr>\n",
       "<tr>\n",
       "<td>\n",
       "4\n",
       "</td>\n",
       "<td>\n",
       "2022-01-02 00:00:00\n",
       "</td>\n",
       "<td>\n",
       "10.0\n",
       "</td>\n",
       "<td>\n",
       "&quot;b&quot;\n",
       "</td>\n",
       "</tr>\n",
       "<tr>\n",
       "<td>\n",
       "6\n",
       "</td>\n",
       "<td>\n",
       "2022-01-03 00:00:00\n",
       "</td>\n",
       "<td>\n",
       "12.0\n",
       "</td>\n",
       "<td>\n",
       "&quot;c&quot;\n",
       "</td>\n",
       "</tr>\n",
       "</tbody>\n",
       "</table>\n",
       "</div>"
      ],
      "text/plain": [
       "shape: (3, 4)\n",
       "┌─────────┬─────────────────────┬───────┬────────┐\n",
       "│ integer ┆ date                ┆ float ┆ string │\n",
       "│ ---     ┆ ---                 ┆ ---   ┆ ---    │\n",
       "│ i64     ┆ datetime[μs]        ┆ f64   ┆ str    │\n",
       "╞═════════╪═════════════════════╪═══════╪════════╡\n",
       "│ 2       ┆ 2022-01-01 00:00:00 ┆ 8.0   ┆ a      │\n",
       "│ 4       ┆ 2022-01-02 00:00:00 ┆ 10.0  ┆ b      │\n",
       "│ 6       ┆ 2022-01-03 00:00:00 ┆ 12.0  ┆ c      │\n",
       "└─────────┴─────────────────────┴───────┴────────┘"
      ]
     },
     "execution_count": 264,
     "metadata": {},
     "output_type": "execute_result"
    }
   ],
   "source": [
    "df.with_columns([\n",
    "    pl.col([pl.Int64,pl.Float64])*2\n",
    "])"
   ]
  },
  {
   "cell_type": "code",
   "execution_count": 269,
   "id": "6764a5be",
   "metadata": {},
   "outputs": [
    {
     "name": "stderr",
     "output_type": "stream",
     "text": [
      "thread '<unnamed>' panicked at 'data types don't match: InvalidOperation(Owned(\"multiplication operation not supported for shape: (3,)\\nChunkedArray: 'string' [str]\\n[\\n\\t\\\"a\\\"\\n\\t\\\"b\\\"\\n\\t\\\"c\\\"\\n] and shape: (1,)\\nSeries: 'literal' [str]\\n[\\n\\t\\\"2\\\"\\n]\"))', /home/runner/work/polars/polars/polars/polars-core/src/series/arithmetic/borrowed.rs:467:44\n",
      "note: run with `RUST_BACKTRACE=1` environment variable to display a backtrace\n"
     ]
    },
    {
     "ename": "PanicException",
     "evalue": "data types don't match: InvalidOperation(Owned(\"multiplication operation not supported for shape: (3,)\\nChunkedArray: 'string' [str]\\n[\\n\\t\\\"a\\\"\\n\\t\\\"b\\\"\\n\\t\\\"c\\\"\\n] and shape: (1,)\\nSeries: 'literal' [str]\\n[\\n\\t\\\"2\\\"\\n]\"))",
     "output_type": "error",
     "traceback": [
      "\u001b[0;31m---------------------------------------------------------------------------\u001b[0m",
      "\u001b[0;31mPanicException\u001b[0m                            Traceback (most recent call last)",
      "Cell \u001b[0;32mIn[265], line 1\u001b[0m\n\u001b[0;32m----> 1\u001b[0m \u001b[43mdf\u001b[49m\u001b[38;5;241;43m.\u001b[39;49m\u001b[43mwith_columns\u001b[49m\u001b[43m(\u001b[49m\u001b[43m[\u001b[49m\n\u001b[1;32m      2\u001b[0m \u001b[43m    \u001b[49m\u001b[43mpl\u001b[49m\u001b[38;5;241;43m.\u001b[39;49m\u001b[43mall\u001b[49m\u001b[43m(\u001b[49m\u001b[43m)\u001b[49m\u001b[38;5;241;43m*\u001b[39;49m\u001b[38;5;241;43m2\u001b[39;49m\n\u001b[1;32m      3\u001b[0m \u001b[43m]\u001b[49m\u001b[43m)\u001b[49m\n",
      "File \u001b[0;32m~/workspace/practicing_python_2/venv/lib/python3.10/site-packages/polars/internals/dataframe/frame.py:5584\u001b[0m, in \u001b[0;36mDataFrame.with_columns\u001b[0;34m(self, exprs, **named_exprs)\u001b[0m\n\u001b[1;32m   5581\u001b[0m \u001b[38;5;28;01mif\u001b[39;00m exprs \u001b[38;5;129;01mis\u001b[39;00m \u001b[38;5;129;01mnot\u001b[39;00m \u001b[38;5;28;01mNone\u001b[39;00m \u001b[38;5;129;01mand\u001b[39;00m \u001b[38;5;129;01mnot\u001b[39;00m \u001b[38;5;28misinstance\u001b[39m(exprs, Sequence):\n\u001b[1;32m   5582\u001b[0m     exprs \u001b[38;5;241m=\u001b[39m [exprs]\n\u001b[1;32m   5583\u001b[0m \u001b[38;5;28;01mreturn\u001b[39;00m (\n\u001b[0;32m-> 5584\u001b[0m     \u001b[38;5;28;43mself\u001b[39;49m\u001b[38;5;241;43m.\u001b[39;49m\u001b[43mlazy\u001b[49m\u001b[43m(\u001b[49m\u001b[43m)\u001b[49m\u001b[38;5;241;43m.\u001b[39;49m\u001b[43mwith_columns\u001b[49m\u001b[43m(\u001b[49m\u001b[43mexprs\u001b[49m\u001b[43m,\u001b[49m\u001b[43m \u001b[49m\u001b[38;5;241;43m*\u001b[39;49m\u001b[38;5;241;43m*\u001b[39;49m\u001b[43mnamed_exprs\u001b[49m\u001b[43m)\u001b[49m\u001b[38;5;241;43m.\u001b[39;49m\u001b[43mcollect\u001b[49m\u001b[43m(\u001b[49m\u001b[43mno_optimization\u001b[49m\u001b[38;5;241;43m=\u001b[39;49m\u001b[38;5;28;43;01mTrue\u001b[39;49;00m\u001b[43m)\u001b[49m\n\u001b[1;32m   5585\u001b[0m )\n",
      "File \u001b[0;32m~/workspace/practicing_python_2/venv/lib/python3.10/site-packages/polars/utils.py:394\u001b[0m, in \u001b[0;36mdeprecated_alias.<locals>.deco.<locals>.wrapper\u001b[0;34m(*args, **kwargs)\u001b[0m\n\u001b[1;32m    391\u001b[0m \u001b[38;5;129m@functools\u001b[39m\u001b[38;5;241m.\u001b[39mwraps(fn)\n\u001b[1;32m    392\u001b[0m \u001b[38;5;28;01mdef\u001b[39;00m \u001b[38;5;21mwrapper\u001b[39m(\u001b[38;5;241m*\u001b[39margs: P\u001b[38;5;241m.\u001b[39margs, \u001b[38;5;241m*\u001b[39m\u001b[38;5;241m*\u001b[39mkwargs: P\u001b[38;5;241m.\u001b[39mkwargs) \u001b[38;5;241m-\u001b[39m\u001b[38;5;241m>\u001b[39m T:\n\u001b[1;32m    393\u001b[0m     _rename_kwargs(fn\u001b[38;5;241m.\u001b[39m\u001b[38;5;18m__name__\u001b[39m, kwargs, aliases)\n\u001b[0;32m--> 394\u001b[0m     \u001b[38;5;28;01mreturn\u001b[39;00m \u001b[43mfn\u001b[49m\u001b[43m(\u001b[49m\u001b[38;5;241;43m*\u001b[39;49m\u001b[43margs\u001b[49m\u001b[43m,\u001b[49m\u001b[43m \u001b[49m\u001b[38;5;241;43m*\u001b[39;49m\u001b[38;5;241;43m*\u001b[39;49m\u001b[43mkwargs\u001b[49m\u001b[43m)\u001b[49m\n",
      "File \u001b[0;32m~/workspace/practicing_python_2/venv/lib/python3.10/site-packages/polars/internals/lazyframe/frame.py:1168\u001b[0m, in \u001b[0;36mLazyFrame.collect\u001b[0;34m(self, type_coercion, predicate_pushdown, projection_pushdown, simplify_expression, no_optimization, slice_pushdown, common_subplan_elimination, streaming)\u001b[0m\n\u001b[1;32m   1157\u001b[0m     common_subplan_elimination \u001b[38;5;241m=\u001b[39m \u001b[38;5;28;01mFalse\u001b[39;00m\n\u001b[1;32m   1159\u001b[0m ldf \u001b[38;5;241m=\u001b[39m \u001b[38;5;28mself\u001b[39m\u001b[38;5;241m.\u001b[39m_ldf\u001b[38;5;241m.\u001b[39moptimization_toggle(\n\u001b[1;32m   1160\u001b[0m     type_coercion,\n\u001b[1;32m   1161\u001b[0m     predicate_pushdown,\n\u001b[0;32m   (...)\u001b[0m\n\u001b[1;32m   1166\u001b[0m     streaming,\n\u001b[1;32m   1167\u001b[0m )\n\u001b[0;32m-> 1168\u001b[0m \u001b[38;5;28;01mreturn\u001b[39;00m pli\u001b[38;5;241m.\u001b[39mwrap_df(\u001b[43mldf\u001b[49m\u001b[38;5;241;43m.\u001b[39;49m\u001b[43mcollect\u001b[49m\u001b[43m(\u001b[49m\u001b[43m)\u001b[49m)\n",
      "\u001b[0;31mPanicException\u001b[0m: data types don't match: InvalidOperation(Owned(\"multiplication operation not supported for shape: (3,)\\nChunkedArray: 'string' [str]\\n[\\n\\t\\\"a\\\"\\n\\t\\\"b\\\"\\n\\t\\\"c\\\"\\n] and shape: (1,)\\nSeries: 'literal' [str]\\n[\\n\\t\\\"2\\\"\\n]\"))"
     ]
    }
   ],
   "source": [
    "df.with_columns([\n",
    "    pl.all()*2\n",
    "])"
   ]
  },
  {
   "cell_type": "markdown",
   "id": "e47d9d7d",
   "metadata": {},
   "source": [
    "Apply your own labda function. "
   ]
  },
  {
   "cell_type": "code",
   "execution_count": 270,
   "id": "0a592c7e",
   "metadata": {},
   "outputs": [
    {
     "data": {
      "text/html": [
       "<div>\n",
       "<style scoped>\n",
       "    .dataframe tbody tr th:only-of-type {\n",
       "        vertical-align: middle;\n",
       "    }\n",
       "\n",
       "    .dataframe tbody tr th {\n",
       "        vertical-align: top;\n",
       "    }\n",
       "\n",
       "    .dataframe thead th {\n",
       "        text-align: right;\n",
       "    }\n",
       "\n",
       "    .dataframe td {\n",
       "        white-space: pre;\n",
       "    }\n",
       "\n",
       "    .dataframe td {\n",
       "        padding-top: 0;\n",
       "    }\n",
       "\n",
       "    .dataframe td {\n",
       "        padding-bottom: 0;\n",
       "    }\n",
       "\n",
       "    .dataframe td {\n",
       "        line-height: 95%;\n",
       "    }\n",
       "</style>\n",
       "<table border=\"1\" class=\"dataframe\">\n",
       "<small>shape: (3, 1)</small>\n",
       "<thead>\n",
       "<tr>\n",
       "<th>\n",
       "apply\n",
       "</th>\n",
       "</tr>\n",
       "<tr>\n",
       "<td>\n",
       "f64\n",
       "</td>\n",
       "</tr>\n",
       "</thead>\n",
       "<tbody>\n",
       "<tr>\n",
       "<td>\n",
       "5.0\n",
       "</td>\n",
       "</tr>\n",
       "<tr>\n",
       "<td>\n",
       "7.0\n",
       "</td>\n",
       "</tr>\n",
       "<tr>\n",
       "<td>\n",
       "9.0\n",
       "</td>\n",
       "</tr>\n",
       "</tbody>\n",
       "</table>\n",
       "</div>"
      ],
      "text/plain": [
       "shape: (3, 1)\n",
       "┌───────┐\n",
       "│ apply │\n",
       "│ ---   │\n",
       "│ f64   │\n",
       "╞═══════╡\n",
       "│ 5.0   │\n",
       "│ 7.0   │\n",
       "│ 9.0   │\n",
       "└───────┘"
      ]
     },
     "execution_count": 266,
     "metadata": {},
     "output_type": "execute_result"
    }
   ],
   "source": [
    "df.select([pl.col(\"integer\"), pl.col(\"float\")]).apply(lambda x: x[0] + x[1])"
   ]
  },
  {
   "cell_type": "markdown",
   "id": "cdcb6942",
   "metadata": {},
   "source": [
    "But wait- using your own functions may have a very serious toll on perforance:"
   ]
  },
  {
   "cell_type": "code",
   "execution_count": 271,
   "id": "96b085e5",
   "metadata": {},
   "outputs": [
    {
     "name": "stdout",
     "output_type": "stream",
     "text": [
      "4.78 ms ± 107 µs per loop (mean ± std. dev. of 2 runs, 2 loops each)\n"
     ]
    }
   ],
   "source": [
    "df_big = pl.DataFrame(np.random.randn(1000000, 2), columns=[\"a\", \"b\"])\n",
    "%timeit -n2 -r2 df_big.sum(axis=1)"
   ]
  },
  {
   "cell_type": "code",
   "execution_count": 272,
   "id": "50af5ef3",
   "metadata": {},
   "outputs": [
    {
     "name": "stdout",
     "output_type": "stream",
     "text": [
      "343 ms ± 6.13 ms per loop (mean ± std. dev. of 2 runs, 2 loops each)\n"
     ]
    }
   ],
   "source": [
    "%timeit -n2 -r2 df_big.apply(lambda x: x[0] + x[1])"
   ]
  },
  {
   "cell_type": "code",
   "execution_count": 273,
   "id": "8d59ad82",
   "metadata": {},
   "outputs": [
    {
     "data": {
      "text/html": [
       "<div>\n",
       "<style scoped>\n",
       "    .dataframe tbody tr th:only-of-type {\n",
       "        vertical-align: middle;\n",
       "    }\n",
       "\n",
       "    .dataframe tbody tr th {\n",
       "        vertical-align: top;\n",
       "    }\n",
       "\n",
       "    .dataframe thead th {\n",
       "        text-align: right;\n",
       "    }\n",
       "\n",
       "    .dataframe td {\n",
       "        white-space: pre;\n",
       "    }\n",
       "\n",
       "    .dataframe td {\n",
       "        padding-top: 0;\n",
       "    }\n",
       "\n",
       "    .dataframe td {\n",
       "        padding-bottom: 0;\n",
       "    }\n",
       "\n",
       "    .dataframe td {\n",
       "        line-height: 95%;\n",
       "    }\n",
       "</style>\n",
       "<table border=\"1\" class=\"dataframe\">\n",
       "<small>shape: (3, 4)</small>\n",
       "<thead>\n",
       "<tr>\n",
       "<th>\n",
       "integer\n",
       "</th>\n",
       "<th>\n",
       "date\n",
       "</th>\n",
       "<th>\n",
       "float\n",
       "</th>\n",
       "<th>\n",
       "string\n",
       "</th>\n",
       "</tr>\n",
       "<tr>\n",
       "<td>\n",
       "i64\n",
       "</td>\n",
       "<td>\n",
       "datetime[μs]\n",
       "</td>\n",
       "<td>\n",
       "f64\n",
       "</td>\n",
       "<td>\n",
       "str\n",
       "</td>\n",
       "</tr>\n",
       "</thead>\n",
       "<tbody>\n",
       "<tr>\n",
       "<td>\n",
       "null\n",
       "</td>\n",
       "<td>\n",
       "null\n",
       "</td>\n",
       "<td>\n",
       "null\n",
       "</td>\n",
       "<td>\n",
       "null\n",
       "</td>\n",
       "</tr>\n",
       "<tr>\n",
       "<td>\n",
       "1\n",
       "</td>\n",
       "<td>\n",
       "2022-01-01 00:00:00\n",
       "</td>\n",
       "<td>\n",
       "4.0\n",
       "</td>\n",
       "<td>\n",
       "&quot;a&quot;\n",
       "</td>\n",
       "</tr>\n",
       "<tr>\n",
       "<td>\n",
       "2\n",
       "</td>\n",
       "<td>\n",
       "2022-01-02 00:00:00\n",
       "</td>\n",
       "<td>\n",
       "5.0\n",
       "</td>\n",
       "<td>\n",
       "&quot;b&quot;\n",
       "</td>\n",
       "</tr>\n",
       "</tbody>\n",
       "</table>\n",
       "</div>"
      ],
      "text/plain": [
       "shape: (3, 4)\n",
       "┌─────────┬─────────────────────┬───────┬────────┐\n",
       "│ integer ┆ date                ┆ float ┆ string │\n",
       "│ ---     ┆ ---                 ┆ ---   ┆ ---    │\n",
       "│ i64     ┆ datetime[μs]        ┆ f64   ┆ str    │\n",
       "╞═════════╪═════════════════════╪═══════╪════════╡\n",
       "│ null    ┆ null                ┆ null  ┆ null   │\n",
       "│ 1       ┆ 2022-01-01 00:00:00 ┆ 4.0   ┆ a      │\n",
       "│ 2       ┆ 2022-01-02 00:00:00 ┆ 5.0   ┆ b      │\n",
       "└─────────┴─────────────────────┴───────┴────────┘"
      ]
     },
     "execution_count": 269,
     "metadata": {},
     "output_type": "execute_result"
    }
   ],
   "source": [
    "df.shift(1)"
   ]
  },
  {
   "cell_type": "code",
   "execution_count": 274,
   "id": "10b69d6e",
   "metadata": {},
   "outputs": [
    {
     "data": {
      "text/html": [
       "<div>\n",
       "<style scoped>\n",
       "    .dataframe tbody tr th:only-of-type {\n",
       "        vertical-align: middle;\n",
       "    }\n",
       "\n",
       "    .dataframe tbody tr th {\n",
       "        vertical-align: top;\n",
       "    }\n",
       "\n",
       "    .dataframe thead th {\n",
       "        text-align: right;\n",
       "    }\n",
       "\n",
       "    .dataframe td {\n",
       "        white-space: pre;\n",
       "    }\n",
       "\n",
       "    .dataframe td {\n",
       "        padding-top: 0;\n",
       "    }\n",
       "\n",
       "    .dataframe td {\n",
       "        padding-bottom: 0;\n",
       "    }\n",
       "\n",
       "    .dataframe td {\n",
       "        line-height: 95%;\n",
       "    }\n",
       "</style>\n",
       "<table border=\"1\" class=\"dataframe\">\n",
       "<small>shape: (3, 4)</small>\n",
       "<thead>\n",
       "<tr>\n",
       "<th>\n",
       "integer\n",
       "</th>\n",
       "<th>\n",
       "date\n",
       "</th>\n",
       "<th>\n",
       "float\n",
       "</th>\n",
       "<th>\n",
       "string\n",
       "</th>\n",
       "</tr>\n",
       "<tr>\n",
       "<td>\n",
       "str\n",
       "</td>\n",
       "<td>\n",
       "str\n",
       "</td>\n",
       "<td>\n",
       "str\n",
       "</td>\n",
       "<td>\n",
       "str\n",
       "</td>\n",
       "</tr>\n",
       "</thead>\n",
       "<tbody>\n",
       "<tr>\n",
       "<td>\n",
       "&quot;WOW&quot;\n",
       "</td>\n",
       "<td>\n",
       "&quot;WOW&quot;\n",
       "</td>\n",
       "<td>\n",
       "&quot;WOW&quot;\n",
       "</td>\n",
       "<td>\n",
       "&quot;WOW&quot;\n",
       "</td>\n",
       "</tr>\n",
       "<tr>\n",
       "<td>\n",
       "&quot;1&quot;\n",
       "</td>\n",
       "<td>\n",
       "&quot;2022-01-01 00:...\n",
       "</td>\n",
       "<td>\n",
       "&quot;4.0&quot;\n",
       "</td>\n",
       "<td>\n",
       "&quot;a&quot;\n",
       "</td>\n",
       "</tr>\n",
       "<tr>\n",
       "<td>\n",
       "&quot;2&quot;\n",
       "</td>\n",
       "<td>\n",
       "&quot;2022-01-02 00:...\n",
       "</td>\n",
       "<td>\n",
       "&quot;5.0&quot;\n",
       "</td>\n",
       "<td>\n",
       "&quot;b&quot;\n",
       "</td>\n",
       "</tr>\n",
       "</tbody>\n",
       "</table>\n",
       "</div>"
      ],
      "text/plain": [
       "shape: (3, 4)\n",
       "┌─────────┬────────────────────────────┬───────┬────────┐\n",
       "│ integer ┆ date                       ┆ float ┆ string │\n",
       "│ ---     ┆ ---                        ┆ ---   ┆ ---    │\n",
       "│ str     ┆ str                        ┆ str   ┆ str    │\n",
       "╞═════════╪════════════════════════════╪═══════╪════════╡\n",
       "│ WOW     ┆ WOW                        ┆ WOW   ┆ WOW    │\n",
       "│ 1       ┆ 2022-01-01 00:00:00.000000 ┆ 4.0   ┆ a      │\n",
       "│ 2       ┆ 2022-01-02 00:00:00.000000 ┆ 5.0   ┆ b      │\n",
       "└─────────┴────────────────────────────┴───────┴────────┘"
      ]
     },
     "execution_count": 270,
     "metadata": {},
     "output_type": "execute_result"
    }
   ],
   "source": [
    "df.shift_and_fill(1, 'WOW')"
   ]
  },
  {
   "cell_type": "markdown",
   "id": "46b25f25",
   "metadata": {},
   "source": [
    "## Sorting\n"
   ]
  },
  {
   "cell_type": "code",
   "execution_count": 275,
   "id": "cbab7d6a",
   "metadata": {},
   "outputs": [
    {
     "data": {
      "text/html": [
       "<div>\n",
       "<style scoped>\n",
       "    .dataframe tbody tr th:only-of-type {\n",
       "        vertical-align: middle;\n",
       "    }\n",
       "\n",
       "    .dataframe tbody tr th {\n",
       "        vertical-align: top;\n",
       "    }\n",
       "\n",
       "    .dataframe thead th {\n",
       "        text-align: right;\n",
       "    }\n",
       "\n",
       "    .dataframe td {\n",
       "        white-space: pre;\n",
       "    }\n",
       "\n",
       "    .dataframe td {\n",
       "        padding-top: 0;\n",
       "    }\n",
       "\n",
       "    .dataframe td {\n",
       "        padding-bottom: 0;\n",
       "    }\n",
       "\n",
       "    .dataframe td {\n",
       "        line-height: 95%;\n",
       "    }\n",
       "</style>\n",
       "<table border=\"1\" class=\"dataframe\">\n",
       "<small>shape: (3, 4)</small>\n",
       "<thead>\n",
       "<tr>\n",
       "<th>\n",
       "integer\n",
       "</th>\n",
       "<th>\n",
       "date\n",
       "</th>\n",
       "<th>\n",
       "float\n",
       "</th>\n",
       "<th>\n",
       "string\n",
       "</th>\n",
       "</tr>\n",
       "<tr>\n",
       "<td>\n",
       "i64\n",
       "</td>\n",
       "<td>\n",
       "datetime[μs]\n",
       "</td>\n",
       "<td>\n",
       "f64\n",
       "</td>\n",
       "<td>\n",
       "str\n",
       "</td>\n",
       "</tr>\n",
       "</thead>\n",
       "<tbody>\n",
       "<tr>\n",
       "<td>\n",
       "1\n",
       "</td>\n",
       "<td>\n",
       "2022-01-01 00:00:00\n",
       "</td>\n",
       "<td>\n",
       "4.0\n",
       "</td>\n",
       "<td>\n",
       "&quot;a&quot;\n",
       "</td>\n",
       "</tr>\n",
       "<tr>\n",
       "<td>\n",
       "2\n",
       "</td>\n",
       "<td>\n",
       "2022-01-02 00:00:00\n",
       "</td>\n",
       "<td>\n",
       "5.0\n",
       "</td>\n",
       "<td>\n",
       "&quot;b&quot;\n",
       "</td>\n",
       "</tr>\n",
       "<tr>\n",
       "<td>\n",
       "3\n",
       "</td>\n",
       "<td>\n",
       "2022-01-03 00:00:00\n",
       "</td>\n",
       "<td>\n",
       "6.0\n",
       "</td>\n",
       "<td>\n",
       "&quot;c&quot;\n",
       "</td>\n",
       "</tr>\n",
       "</tbody>\n",
       "</table>\n",
       "</div>"
      ],
      "text/plain": [
       "shape: (3, 4)\n",
       "┌─────────┬─────────────────────┬───────┬────────┐\n",
       "│ integer ┆ date                ┆ float ┆ string │\n",
       "│ ---     ┆ ---                 ┆ ---   ┆ ---    │\n",
       "│ i64     ┆ datetime[μs]        ┆ f64   ┆ str    │\n",
       "╞═════════╪═════════════════════╪═══════╪════════╡\n",
       "│ 1       ┆ 2022-01-01 00:00:00 ┆ 4.0   ┆ a      │\n",
       "│ 2       ┆ 2022-01-02 00:00:00 ┆ 5.0   ┆ b      │\n",
       "│ 3       ┆ 2022-01-03 00:00:00 ┆ 6.0   ┆ c      │\n",
       "└─────────┴─────────────────────┴───────┴────────┘"
      ]
     },
     "execution_count": 271,
     "metadata": {},
     "output_type": "execute_result"
    }
   ],
   "source": [
    "df.sort(\"integer\")"
   ]
  },
  {
   "cell_type": "code",
   "execution_count": 276,
   "id": "6ae0f894",
   "metadata": {},
   "outputs": [
    {
     "data": {
      "text/html": [
       "<div>\n",
       "<style scoped>\n",
       "    .dataframe tbody tr th:only-of-type {\n",
       "        vertical-align: middle;\n",
       "    }\n",
       "\n",
       "    .dataframe tbody tr th {\n",
       "        vertical-align: top;\n",
       "    }\n",
       "\n",
       "    .dataframe thead th {\n",
       "        text-align: right;\n",
       "    }\n",
       "\n",
       "    .dataframe td {\n",
       "        white-space: pre;\n",
       "    }\n",
       "\n",
       "    .dataframe td {\n",
       "        padding-top: 0;\n",
       "    }\n",
       "\n",
       "    .dataframe td {\n",
       "        padding-bottom: 0;\n",
       "    }\n",
       "\n",
       "    .dataframe td {\n",
       "        line-height: 95%;\n",
       "    }\n",
       "</style>\n",
       "<table border=\"1\" class=\"dataframe\">\n",
       "<small>shape: (3, 4)</small>\n",
       "<thead>\n",
       "<tr>\n",
       "<th>\n",
       "integer\n",
       "</th>\n",
       "<th>\n",
       "date\n",
       "</th>\n",
       "<th>\n",
       "float\n",
       "</th>\n",
       "<th>\n",
       "string\n",
       "</th>\n",
       "</tr>\n",
       "<tr>\n",
       "<td>\n",
       "i64\n",
       "</td>\n",
       "<td>\n",
       "datetime[μs]\n",
       "</td>\n",
       "<td>\n",
       "f64\n",
       "</td>\n",
       "<td>\n",
       "str\n",
       "</td>\n",
       "</tr>\n",
       "</thead>\n",
       "<tbody>\n",
       "<tr>\n",
       "<td>\n",
       "3\n",
       "</td>\n",
       "<td>\n",
       "2022-01-03 00:00:00\n",
       "</td>\n",
       "<td>\n",
       "6.0\n",
       "</td>\n",
       "<td>\n",
       "&quot;c&quot;\n",
       "</td>\n",
       "</tr>\n",
       "<tr>\n",
       "<td>\n",
       "2\n",
       "</td>\n",
       "<td>\n",
       "2022-01-02 00:00:00\n",
       "</td>\n",
       "<td>\n",
       "5.0\n",
       "</td>\n",
       "<td>\n",
       "&quot;b&quot;\n",
       "</td>\n",
       "</tr>\n",
       "<tr>\n",
       "<td>\n",
       "1\n",
       "</td>\n",
       "<td>\n",
       "2022-01-01 00:00:00\n",
       "</td>\n",
       "<td>\n",
       "4.0\n",
       "</td>\n",
       "<td>\n",
       "&quot;a&quot;\n",
       "</td>\n",
       "</tr>\n",
       "</tbody>\n",
       "</table>\n",
       "</div>"
      ],
      "text/plain": [
       "shape: (3, 4)\n",
       "┌─────────┬─────────────────────┬───────┬────────┐\n",
       "│ integer ┆ date                ┆ float ┆ string │\n",
       "│ ---     ┆ ---                 ┆ ---   ┆ ---    │\n",
       "│ i64     ┆ datetime[μs]        ┆ f64   ┆ str    │\n",
       "╞═════════╪═════════════════════╪═══════╪════════╡\n",
       "│ 3       ┆ 2022-01-03 00:00:00 ┆ 6.0   ┆ c      │\n",
       "│ 2       ┆ 2022-01-02 00:00:00 ┆ 5.0   ┆ b      │\n",
       "│ 1       ┆ 2022-01-01 00:00:00 ┆ 4.0   ┆ a      │\n",
       "└─────────┴─────────────────────┴───────┴────────┘"
      ]
     },
     "execution_count": 272,
     "metadata": {},
     "output_type": "execute_result"
    }
   ],
   "source": [
    "df.reverse()"
   ]
  },
  {
   "cell_type": "markdown",
   "id": "a15add4a",
   "metadata": {},
   "source": [
    "## Joins\n",
    "\n",
    "High level: \n",
    "\n",
    "- `df.hstack()` for horizontal concatenation; like pandas `pd.concat([],axis=1)` or R's cbind.\n",
    "- `df.vstack()` for vertical concatenation; like pandas `pd.concat([],axis=0)` or R's rbind.\n",
    "- `df.join()` for joins; like pandas `pd.merge()` or `df.join()`.\n"
   ]
  },
  {
   "cell_type": "code",
   "execution_count": 277,
   "id": "6a673ed8",
   "metadata": {},
   "outputs": [
    {
     "data": {
      "text/html": [
       "<div>\n",
       "<style scoped>\n",
       "    .dataframe tbody tr th:only-of-type {\n",
       "        vertical-align: middle;\n",
       "    }\n",
       "\n",
       "    .dataframe tbody tr th {\n",
       "        vertical-align: top;\n",
       "    }\n",
       "\n",
       "    .dataframe thead th {\n",
       "        text-align: right;\n",
       "    }\n",
       "\n",
       "    .dataframe td {\n",
       "        white-space: pre;\n",
       "    }\n",
       "\n",
       "    .dataframe td {\n",
       "        padding-top: 0;\n",
       "    }\n",
       "\n",
       "    .dataframe td {\n",
       "        padding-bottom: 0;\n",
       "    }\n",
       "\n",
       "    .dataframe td {\n",
       "        line-height: 95%;\n",
       "    }\n",
       "</style>\n",
       "<table border=\"1\" class=\"dataframe\">\n",
       "<small>shape: (3, 5)</small>\n",
       "<thead>\n",
       "<tr>\n",
       "<th>\n",
       "integer\n",
       "</th>\n",
       "<th>\n",
       "date\n",
       "</th>\n",
       "<th>\n",
       "float\n",
       "</th>\n",
       "<th>\n",
       "string\n",
       "</th>\n",
       "<th>\n",
       "c\n",
       "</th>\n",
       "</tr>\n",
       "<tr>\n",
       "<td>\n",
       "i64\n",
       "</td>\n",
       "<td>\n",
       "datetime[μs]\n",
       "</td>\n",
       "<td>\n",
       "f64\n",
       "</td>\n",
       "<td>\n",
       "str\n",
       "</td>\n",
       "<td>\n",
       "i64\n",
       "</td>\n",
       "</tr>\n",
       "</thead>\n",
       "<tbody>\n",
       "<tr>\n",
       "<td>\n",
       "1\n",
       "</td>\n",
       "<td>\n",
       "2022-01-01 00:00:00\n",
       "</td>\n",
       "<td>\n",
       "4.0\n",
       "</td>\n",
       "<td>\n",
       "&quot;a&quot;\n",
       "</td>\n",
       "<td>\n",
       "1\n",
       "</td>\n",
       "</tr>\n",
       "<tr>\n",
       "<td>\n",
       "2\n",
       "</td>\n",
       "<td>\n",
       "2022-01-02 00:00:00\n",
       "</td>\n",
       "<td>\n",
       "5.0\n",
       "</td>\n",
       "<td>\n",
       "&quot;b&quot;\n",
       "</td>\n",
       "<td>\n",
       "1\n",
       "</td>\n",
       "</tr>\n",
       "<tr>\n",
       "<td>\n",
       "3\n",
       "</td>\n",
       "<td>\n",
       "2022-01-03 00:00:00\n",
       "</td>\n",
       "<td>\n",
       "6.0\n",
       "</td>\n",
       "<td>\n",
       "&quot;c&quot;\n",
       "</td>\n",
       "<td>\n",
       "1\n",
       "</td>\n",
       "</tr>\n",
       "</tbody>\n",
       "</table>\n",
       "</div>"
      ],
      "text/plain": [
       "shape: (3, 5)\n",
       "┌─────────┬─────────────────────┬───────┬────────┬─────┐\n",
       "│ integer ┆ date                ┆ float ┆ string ┆ c   │\n",
       "│ ---     ┆ ---                 ┆ ---   ┆ ---    ┆ --- │\n",
       "│ i64     ┆ datetime[μs]        ┆ f64   ┆ str    ┆ i64 │\n",
       "╞═════════╪═════════════════════╪═══════╪════════╪═════╡\n",
       "│ 1       ┆ 2022-01-01 00:00:00 ┆ 4.0   ┆ a      ┆ 1   │\n",
       "│ 2       ┆ 2022-01-02 00:00:00 ┆ 5.0   ┆ b      ┆ 1   │\n",
       "│ 3       ┆ 2022-01-03 00:00:00 ┆ 6.0   ┆ c      ┆ 1   │\n",
       "└─────────┴─────────────────────┴───────┴────────┴─────┘"
      ]
     },
     "execution_count": 273,
     "metadata": {},
     "output_type": "execute_result"
    }
   ],
   "source": [
    "new_column = pl.Series(\"c\", np.repeat(1, df.height))\n",
    "\n",
    "df.hstack([new_column])"
   ]
  },
  {
   "cell_type": "code",
   "execution_count": 278,
   "id": "d2b8b4e8",
   "metadata": {},
   "outputs": [
    {
     "data": {
      "text/html": [
       "<div>\n",
       "<style scoped>\n",
       "    .dataframe tbody tr th:only-of-type {\n",
       "        vertical-align: middle;\n",
       "    }\n",
       "\n",
       "    .dataframe tbody tr th {\n",
       "        vertical-align: top;\n",
       "    }\n",
       "\n",
       "    .dataframe thead th {\n",
       "        text-align: right;\n",
       "    }\n",
       "\n",
       "    .dataframe td {\n",
       "        white-space: pre;\n",
       "    }\n",
       "\n",
       "    .dataframe td {\n",
       "        padding-top: 0;\n",
       "    }\n",
       "\n",
       "    .dataframe td {\n",
       "        padding-bottom: 0;\n",
       "    }\n",
       "\n",
       "    .dataframe td {\n",
       "        line-height: 95%;\n",
       "    }\n",
       "</style>\n",
       "<table border=\"1\" class=\"dataframe\">\n",
       "<small>shape: (6, 4)</small>\n",
       "<thead>\n",
       "<tr>\n",
       "<th>\n",
       "integer\n",
       "</th>\n",
       "<th>\n",
       "date\n",
       "</th>\n",
       "<th>\n",
       "float\n",
       "</th>\n",
       "<th>\n",
       "string\n",
       "</th>\n",
       "</tr>\n",
       "<tr>\n",
       "<td>\n",
       "i64\n",
       "</td>\n",
       "<td>\n",
       "datetime[μs]\n",
       "</td>\n",
       "<td>\n",
       "f64\n",
       "</td>\n",
       "<td>\n",
       "str\n",
       "</td>\n",
       "</tr>\n",
       "</thead>\n",
       "<tbody>\n",
       "<tr>\n",
       "<td>\n",
       "1\n",
       "</td>\n",
       "<td>\n",
       "2022-01-01 00:00:00\n",
       "</td>\n",
       "<td>\n",
       "4.0\n",
       "</td>\n",
       "<td>\n",
       "&quot;a&quot;\n",
       "</td>\n",
       "</tr>\n",
       "<tr>\n",
       "<td>\n",
       "2\n",
       "</td>\n",
       "<td>\n",
       "2022-01-02 00:00:00\n",
       "</td>\n",
       "<td>\n",
       "5.0\n",
       "</td>\n",
       "<td>\n",
       "&quot;b&quot;\n",
       "</td>\n",
       "</tr>\n",
       "<tr>\n",
       "<td>\n",
       "3\n",
       "</td>\n",
       "<td>\n",
       "2022-01-03 00:00:00\n",
       "</td>\n",
       "<td>\n",
       "6.0\n",
       "</td>\n",
       "<td>\n",
       "&quot;c&quot;\n",
       "</td>\n",
       "</tr>\n",
       "<tr>\n",
       "<td>\n",
       "1\n",
       "</td>\n",
       "<td>\n",
       "2022-01-04 00:00:00\n",
       "</td>\n",
       "<td>\n",
       "7.0\n",
       "</td>\n",
       "<td>\n",
       "&quot;d&quot;\n",
       "</td>\n",
       "</tr>\n",
       "<tr>\n",
       "<td>\n",
       "2\n",
       "</td>\n",
       "<td>\n",
       "2022-01-05 00:00:00\n",
       "</td>\n",
       "<td>\n",
       "8.0\n",
       "</td>\n",
       "<td>\n",
       "&quot;d&quot;\n",
       "</td>\n",
       "</tr>\n",
       "<tr>\n",
       "<td>\n",
       "3\n",
       "</td>\n",
       "<td>\n",
       "2022-01-06 00:00:00\n",
       "</td>\n",
       "<td>\n",
       "9.0\n",
       "</td>\n",
       "<td>\n",
       "&quot;d&quot;\n",
       "</td>\n",
       "</tr>\n",
       "</tbody>\n",
       "</table>\n",
       "</div>"
      ],
      "text/plain": [
       "shape: (6, 4)\n",
       "┌─────────┬─────────────────────┬───────┬────────┐\n",
       "│ integer ┆ date                ┆ float ┆ string │\n",
       "│ ---     ┆ ---                 ┆ ---   ┆ ---    │\n",
       "│ i64     ┆ datetime[μs]        ┆ f64   ┆ str    │\n",
       "╞═════════╪═════════════════════╪═══════╪════════╡\n",
       "│ 1       ┆ 2022-01-01 00:00:00 ┆ 4.0   ┆ a      │\n",
       "│ 2       ┆ 2022-01-02 00:00:00 ┆ 5.0   ┆ b      │\n",
       "│ 3       ┆ 2022-01-03 00:00:00 ┆ 6.0   ┆ c      │\n",
       "│ 1       ┆ 2022-01-04 00:00:00 ┆ 7.0   ┆ d      │\n",
       "│ 2       ┆ 2022-01-05 00:00:00 ┆ 8.0   ┆ d      │\n",
       "│ 3       ┆ 2022-01-06 00:00:00 ┆ 9.0   ┆ d      │\n",
       "└─────────┴─────────────────────┴───────┴────────┘"
      ]
     },
     "execution_count": 274,
     "metadata": {},
     "output_type": "execute_result"
    }
   ],
   "source": [
    "df2 = pl.DataFrame({\n",
    "  \"integer\": [1, 2, 3], \n",
    "  \"date\": [\n",
    "    (datetime(2022, 1, 4)), \n",
    "    (datetime(2022, 1, 5)), \n",
    "    (datetime(2022, 1, 6))], \n",
    "    \"float\":[7.0, 8.0, 9.0],\n",
    "    \"string\": [\"d\", \"d\", \"d\"]})\n",
    "\n",
    "\n",
    "df.vstack(df2)"
   ]
  },
  {
   "cell_type": "code",
   "execution_count": 279,
   "id": "430afdda",
   "metadata": {},
   "outputs": [
    {
     "data": {
      "text/html": [
       "<div>\n",
       "<style scoped>\n",
       "    .dataframe tbody tr th:only-of-type {\n",
       "        vertical-align: middle;\n",
       "    }\n",
       "\n",
       "    .dataframe tbody tr th {\n",
       "        vertical-align: top;\n",
       "    }\n",
       "\n",
       "    .dataframe thead th {\n",
       "        text-align: right;\n",
       "    }\n",
       "\n",
       "    .dataframe td {\n",
       "        white-space: pre;\n",
       "    }\n",
       "\n",
       "    .dataframe td {\n",
       "        padding-top: 0;\n",
       "    }\n",
       "\n",
       "    .dataframe td {\n",
       "        padding-bottom: 0;\n",
       "    }\n",
       "\n",
       "    .dataframe td {\n",
       "        line-height: 95%;\n",
       "    }\n",
       "</style>\n",
       "<table border=\"1\" class=\"dataframe\">\n",
       "<small>shape: (6, 4)</small>\n",
       "<thead>\n",
       "<tr>\n",
       "<th>\n",
       "integer\n",
       "</th>\n",
       "<th>\n",
       "date\n",
       "</th>\n",
       "<th>\n",
       "float\n",
       "</th>\n",
       "<th>\n",
       "string\n",
       "</th>\n",
       "</tr>\n",
       "<tr>\n",
       "<td>\n",
       "i64\n",
       "</td>\n",
       "<td>\n",
       "datetime[μs]\n",
       "</td>\n",
       "<td>\n",
       "f64\n",
       "</td>\n",
       "<td>\n",
       "str\n",
       "</td>\n",
       "</tr>\n",
       "</thead>\n",
       "<tbody>\n",
       "<tr>\n",
       "<td>\n",
       "1\n",
       "</td>\n",
       "<td>\n",
       "2022-01-01 00:00:00\n",
       "</td>\n",
       "<td>\n",
       "4.0\n",
       "</td>\n",
       "<td>\n",
       "&quot;a&quot;\n",
       "</td>\n",
       "</tr>\n",
       "<tr>\n",
       "<td>\n",
       "2\n",
       "</td>\n",
       "<td>\n",
       "2022-01-02 00:00:00\n",
       "</td>\n",
       "<td>\n",
       "5.0\n",
       "</td>\n",
       "<td>\n",
       "&quot;b&quot;\n",
       "</td>\n",
       "</tr>\n",
       "<tr>\n",
       "<td>\n",
       "3\n",
       "</td>\n",
       "<td>\n",
       "2022-01-03 00:00:00\n",
       "</td>\n",
       "<td>\n",
       "6.0\n",
       "</td>\n",
       "<td>\n",
       "&quot;c&quot;\n",
       "</td>\n",
       "</tr>\n",
       "<tr>\n",
       "<td>\n",
       "1\n",
       "</td>\n",
       "<td>\n",
       "2022-01-04 00:00:00\n",
       "</td>\n",
       "<td>\n",
       "7.0\n",
       "</td>\n",
       "<td>\n",
       "&quot;d&quot;\n",
       "</td>\n",
       "</tr>\n",
       "<tr>\n",
       "<td>\n",
       "2\n",
       "</td>\n",
       "<td>\n",
       "2022-01-05 00:00:00\n",
       "</td>\n",
       "<td>\n",
       "8.0\n",
       "</td>\n",
       "<td>\n",
       "&quot;d&quot;\n",
       "</td>\n",
       "</tr>\n",
       "<tr>\n",
       "<td>\n",
       "3\n",
       "</td>\n",
       "<td>\n",
       "2022-01-06 00:00:00\n",
       "</td>\n",
       "<td>\n",
       "9.0\n",
       "</td>\n",
       "<td>\n",
       "&quot;d&quot;\n",
       "</td>\n",
       "</tr>\n",
       "</tbody>\n",
       "</table>\n",
       "</div>"
      ],
      "text/plain": [
       "shape: (6, 4)\n",
       "┌─────────┬─────────────────────┬───────┬────────┐\n",
       "│ integer ┆ date                ┆ float ┆ string │\n",
       "│ ---     ┆ ---                 ┆ ---   ┆ ---    │\n",
       "│ i64     ┆ datetime[μs]        ┆ f64   ┆ str    │\n",
       "╞═════════╪═════════════════════╪═══════╪════════╡\n",
       "│ 1       ┆ 2022-01-01 00:00:00 ┆ 4.0   ┆ a      │\n",
       "│ 2       ┆ 2022-01-02 00:00:00 ┆ 5.0   ┆ b      │\n",
       "│ 3       ┆ 2022-01-03 00:00:00 ┆ 6.0   ┆ c      │\n",
       "│ 1       ┆ 2022-01-04 00:00:00 ┆ 7.0   ┆ d      │\n",
       "│ 2       ┆ 2022-01-05 00:00:00 ┆ 8.0   ┆ d      │\n",
       "│ 3       ┆ 2022-01-06 00:00:00 ┆ 9.0   ┆ d      │\n",
       "└─────────┴─────────────────────┴───────┴────────┘"
      ]
     },
     "execution_count": 275,
     "metadata": {},
     "output_type": "execute_result"
    }
   ],
   "source": [
    "df.extend(df2) # like vstack, but with memory re-chunking. Similar to df.vstack().rechunk()"
   ]
  },
  {
   "cell_type": "code",
   "execution_count": 280,
   "id": "596cb18c",
   "metadata": {},
   "outputs": [
    {
     "data": {
      "text/html": [
       "<div>\n",
       "<style scoped>\n",
       "    .dataframe tbody tr th:only-of-type {\n",
       "        vertical-align: middle;\n",
       "    }\n",
       "\n",
       "    .dataframe tbody tr th {\n",
       "        vertical-align: top;\n",
       "    }\n",
       "\n",
       "    .dataframe thead th {\n",
       "        text-align: right;\n",
       "    }\n",
       "\n",
       "    .dataframe td {\n",
       "        white-space: pre;\n",
       "    }\n",
       "\n",
       "    .dataframe td {\n",
       "        padding-top: 0;\n",
       "    }\n",
       "\n",
       "    .dataframe td {\n",
       "        padding-bottom: 0;\n",
       "    }\n",
       "\n",
       "    .dataframe td {\n",
       "        line-height: 95%;\n",
       "    }\n",
       "</style>\n",
       "<table border=\"1\" class=\"dataframe\">\n",
       "<small>shape: (9, 4)</small>\n",
       "<thead>\n",
       "<tr>\n",
       "<th>\n",
       "integer\n",
       "</th>\n",
       "<th>\n",
       "date\n",
       "</th>\n",
       "<th>\n",
       "float\n",
       "</th>\n",
       "<th>\n",
       "string\n",
       "</th>\n",
       "</tr>\n",
       "<tr>\n",
       "<td>\n",
       "i64\n",
       "</td>\n",
       "<td>\n",
       "datetime[μs]\n",
       "</td>\n",
       "<td>\n",
       "f64\n",
       "</td>\n",
       "<td>\n",
       "str\n",
       "</td>\n",
       "</tr>\n",
       "</thead>\n",
       "<tbody>\n",
       "<tr>\n",
       "<td>\n",
       "1\n",
       "</td>\n",
       "<td>\n",
       "2022-01-01 00:00:00\n",
       "</td>\n",
       "<td>\n",
       "4.0\n",
       "</td>\n",
       "<td>\n",
       "&quot;a&quot;\n",
       "</td>\n",
       "</tr>\n",
       "<tr>\n",
       "<td>\n",
       "1\n",
       "</td>\n",
       "<td>\n",
       "2022-01-04 00:00:00\n",
       "</td>\n",
       "<td>\n",
       "7.0\n",
       "</td>\n",
       "<td>\n",
       "&quot;d&quot;\n",
       "</td>\n",
       "</tr>\n",
       "<tr>\n",
       "<td>\n",
       "2\n",
       "</td>\n",
       "<td>\n",
       "2022-01-02 00:00:00\n",
       "</td>\n",
       "<td>\n",
       "5.0\n",
       "</td>\n",
       "<td>\n",
       "&quot;b&quot;\n",
       "</td>\n",
       "</tr>\n",
       "<tr>\n",
       "<td>\n",
       "2\n",
       "</td>\n",
       "<td>\n",
       "2022-01-05 00:00:00\n",
       "</td>\n",
       "<td>\n",
       "8.0\n",
       "</td>\n",
       "<td>\n",
       "&quot;d&quot;\n",
       "</td>\n",
       "</tr>\n",
       "<tr>\n",
       "<td>\n",
       "3\n",
       "</td>\n",
       "<td>\n",
       "2022-01-03 00:00:00\n",
       "</td>\n",
       "<td>\n",
       "6.0\n",
       "</td>\n",
       "<td>\n",
       "&quot;c&quot;\n",
       "</td>\n",
       "</tr>\n",
       "<tr>\n",
       "<td>\n",
       "1\n",
       "</td>\n",
       "<td>\n",
       "2022-01-04 00:00:00\n",
       "</td>\n",
       "<td>\n",
       "7.0\n",
       "</td>\n",
       "<td>\n",
       "&quot;d&quot;\n",
       "</td>\n",
       "</tr>\n",
       "<tr>\n",
       "<td>\n",
       "2\n",
       "</td>\n",
       "<td>\n",
       "2022-01-05 00:00:00\n",
       "</td>\n",
       "<td>\n",
       "8.0\n",
       "</td>\n",
       "<td>\n",
       "&quot;d&quot;\n",
       "</td>\n",
       "</tr>\n",
       "<tr>\n",
       "<td>\n",
       "3\n",
       "</td>\n",
       "<td>\n",
       "2022-01-06 00:00:00\n",
       "</td>\n",
       "<td>\n",
       "9.0\n",
       "</td>\n",
       "<td>\n",
       "&quot;d&quot;\n",
       "</td>\n",
       "</tr>\n",
       "<tr>\n",
       "<td>\n",
       "3\n",
       "</td>\n",
       "<td>\n",
       "2022-01-06 00:00:00\n",
       "</td>\n",
       "<td>\n",
       "9.0\n",
       "</td>\n",
       "<td>\n",
       "&quot;d&quot;\n",
       "</td>\n",
       "</tr>\n",
       "</tbody>\n",
       "</table>\n",
       "</div>"
      ],
      "text/plain": [
       "shape: (9, 4)\n",
       "┌─────────┬─────────────────────┬───────┬────────┐\n",
       "│ integer ┆ date                ┆ float ┆ string │\n",
       "│ ---     ┆ ---                 ┆ ---   ┆ ---    │\n",
       "│ i64     ┆ datetime[μs]        ┆ f64   ┆ str    │\n",
       "╞═════════╪═════════════════════╪═══════╪════════╡\n",
       "│ 1       ┆ 2022-01-01 00:00:00 ┆ 4.0   ┆ a      │\n",
       "│ 1       ┆ 2022-01-04 00:00:00 ┆ 7.0   ┆ d      │\n",
       "│ 2       ┆ 2022-01-02 00:00:00 ┆ 5.0   ┆ b      │\n",
       "│ 2       ┆ 2022-01-05 00:00:00 ┆ 8.0   ┆ d      │\n",
       "│ ...     ┆ ...                 ┆ ...   ┆ ...    │\n",
       "│ 1       ┆ 2022-01-04 00:00:00 ┆ 7.0   ┆ d      │\n",
       "│ 2       ┆ 2022-01-05 00:00:00 ┆ 8.0   ┆ d      │\n",
       "│ 3       ┆ 2022-01-06 00:00:00 ┆ 9.0   ┆ d      │\n",
       "│ 3       ┆ 2022-01-06 00:00:00 ┆ 9.0   ┆ d      │\n",
       "└─────────┴─────────────────────┴───────┴────────┘"
      ]
     },
     "execution_count": 276,
     "metadata": {},
     "output_type": "execute_result"
    }
   ],
   "source": [
    "df.merge_sorted(df2, key=\"integer\") # vstacking with sorting (aka riffle-shuffle)."
   ]
  },
  {
   "cell_type": "markdown",
   "id": "ae656cd6",
   "metadata": {},
   "source": [
    "__Caution__: Joining along rows is possible only if matched columns have the same dtype. \n",
    "Timestamps may be tricky because they may have different time units.\n",
    "Recall that timeunits may be cast before joining using `series.dt.cast_time_unit()`:"
   ]
  },
  {
   "cell_type": "code",
   "execution_count": 281,
   "id": "616d8d03",
   "metadata": {},
   "outputs": [],
   "source": [
    "#| eval: false\n",
    "df.with_column(\n",
    "    pl.col(pl.Datetime(\"ns\")).dt.cast_time_unit(tu=\"ms\")\n",
    ")            "
   ]
  },
  {
   "cell_type": "code",
   "execution_count": 282,
   "id": "82fdc47b",
   "metadata": {},
   "outputs": [
    {
     "data": {
      "text/html": [
       "<div>\n",
       "<style scoped>\n",
       "    .dataframe tbody tr th:only-of-type {\n",
       "        vertical-align: middle;\n",
       "    }\n",
       "\n",
       "    .dataframe tbody tr th {\n",
       "        vertical-align: top;\n",
       "    }\n",
       "\n",
       "    .dataframe thead th {\n",
       "        text-align: right;\n",
       "    }\n",
       "\n",
       "    .dataframe td {\n",
       "        white-space: pre;\n",
       "    }\n",
       "\n",
       "    .dataframe td {\n",
       "        padding-top: 0;\n",
       "    }\n",
       "\n",
       "    .dataframe td {\n",
       "        padding-bottom: 0;\n",
       "    }\n",
       "\n",
       "    .dataframe td {\n",
       "        line-height: 95%;\n",
       "    }\n",
       "</style>\n",
       "<table border=\"1\" class=\"dataframe\">\n",
       "<small>shape: (6, 7)</small>\n",
       "<thead>\n",
       "<tr>\n",
       "<th>\n",
       "integer\n",
       "</th>\n",
       "<th>\n",
       "date\n",
       "</th>\n",
       "<th>\n",
       "float\n",
       "</th>\n",
       "<th>\n",
       "string\n",
       "</th>\n",
       "<th>\n",
       "date_right\n",
       "</th>\n",
       "<th>\n",
       "float_right\n",
       "</th>\n",
       "<th>\n",
       "string_right\n",
       "</th>\n",
       "</tr>\n",
       "<tr>\n",
       "<td>\n",
       "i64\n",
       "</td>\n",
       "<td>\n",
       "datetime[μs]\n",
       "</td>\n",
       "<td>\n",
       "f64\n",
       "</td>\n",
       "<td>\n",
       "str\n",
       "</td>\n",
       "<td>\n",
       "datetime[μs]\n",
       "</td>\n",
       "<td>\n",
       "f64\n",
       "</td>\n",
       "<td>\n",
       "str\n",
       "</td>\n",
       "</tr>\n",
       "</thead>\n",
       "<tbody>\n",
       "<tr>\n",
       "<td>\n",
       "1\n",
       "</td>\n",
       "<td>\n",
       "2022-01-01 00:00:00\n",
       "</td>\n",
       "<td>\n",
       "4.0\n",
       "</td>\n",
       "<td>\n",
       "&quot;a&quot;\n",
       "</td>\n",
       "<td>\n",
       "2022-01-04 00:00:00\n",
       "</td>\n",
       "<td>\n",
       "7.0\n",
       "</td>\n",
       "<td>\n",
       "&quot;d&quot;\n",
       "</td>\n",
       "</tr>\n",
       "<tr>\n",
       "<td>\n",
       "2\n",
       "</td>\n",
       "<td>\n",
       "2022-01-02 00:00:00\n",
       "</td>\n",
       "<td>\n",
       "5.0\n",
       "</td>\n",
       "<td>\n",
       "&quot;b&quot;\n",
       "</td>\n",
       "<td>\n",
       "2022-01-05 00:00:00\n",
       "</td>\n",
       "<td>\n",
       "8.0\n",
       "</td>\n",
       "<td>\n",
       "&quot;d&quot;\n",
       "</td>\n",
       "</tr>\n",
       "<tr>\n",
       "<td>\n",
       "3\n",
       "</td>\n",
       "<td>\n",
       "2022-01-03 00:00:00\n",
       "</td>\n",
       "<td>\n",
       "6.0\n",
       "</td>\n",
       "<td>\n",
       "&quot;c&quot;\n",
       "</td>\n",
       "<td>\n",
       "2022-01-06 00:00:00\n",
       "</td>\n",
       "<td>\n",
       "9.0\n",
       "</td>\n",
       "<td>\n",
       "&quot;d&quot;\n",
       "</td>\n",
       "</tr>\n",
       "<tr>\n",
       "<td>\n",
       "1\n",
       "</td>\n",
       "<td>\n",
       "2022-01-04 00:00:00\n",
       "</td>\n",
       "<td>\n",
       "7.0\n",
       "</td>\n",
       "<td>\n",
       "&quot;d&quot;\n",
       "</td>\n",
       "<td>\n",
       "2022-01-04 00:00:00\n",
       "</td>\n",
       "<td>\n",
       "7.0\n",
       "</td>\n",
       "<td>\n",
       "&quot;d&quot;\n",
       "</td>\n",
       "</tr>\n",
       "<tr>\n",
       "<td>\n",
       "2\n",
       "</td>\n",
       "<td>\n",
       "2022-01-05 00:00:00\n",
       "</td>\n",
       "<td>\n",
       "8.0\n",
       "</td>\n",
       "<td>\n",
       "&quot;d&quot;\n",
       "</td>\n",
       "<td>\n",
       "2022-01-05 00:00:00\n",
       "</td>\n",
       "<td>\n",
       "8.0\n",
       "</td>\n",
       "<td>\n",
       "&quot;d&quot;\n",
       "</td>\n",
       "</tr>\n",
       "<tr>\n",
       "<td>\n",
       "3\n",
       "</td>\n",
       "<td>\n",
       "2022-01-06 00:00:00\n",
       "</td>\n",
       "<td>\n",
       "9.0\n",
       "</td>\n",
       "<td>\n",
       "&quot;d&quot;\n",
       "</td>\n",
       "<td>\n",
       "2022-01-06 00:00:00\n",
       "</td>\n",
       "<td>\n",
       "9.0\n",
       "</td>\n",
       "<td>\n",
       "&quot;d&quot;\n",
       "</td>\n",
       "</tr>\n",
       "</tbody>\n",
       "</table>\n",
       "</div>"
      ],
      "text/plain": [
       "shape: (6, 7)\n",
       "┌─────────┬──────────────┬───────┬────────┬─────────────────────┬─────────────┬──────────────┐\n",
       "│ integer ┆ date         ┆ float ┆ string ┆ date_right          ┆ float_right ┆ string_right │\n",
       "│ ---     ┆ ---          ┆ ---   ┆ ---    ┆ ---                 ┆ ---         ┆ ---          │\n",
       "│ i64     ┆ datetime[μs] ┆ f64   ┆ str    ┆ datetime[μs]        ┆ f64         ┆ str          │\n",
       "╞═════════╪══════════════╪═══════╪════════╪═════════════════════╪═════════════╪══════════════╡\n",
       "│ 1       ┆ 2022-01-01   ┆ 4.0   ┆ a      ┆ 2022-01-04 00:00:00 ┆ 7.0         ┆ d            │\n",
       "│         ┆ 00:00:00     ┆       ┆        ┆                     ┆             ┆              │\n",
       "│ 2       ┆ 2022-01-02   ┆ 5.0   ┆ b      ┆ 2022-01-05 00:00:00 ┆ 8.0         ┆ d            │\n",
       "│         ┆ 00:00:00     ┆       ┆        ┆                     ┆             ┆              │\n",
       "│ 3       ┆ 2022-01-03   ┆ 6.0   ┆ c      ┆ 2022-01-06 00:00:00 ┆ 9.0         ┆ d            │\n",
       "│         ┆ 00:00:00     ┆       ┆        ┆                     ┆             ┆              │\n",
       "│ 1       ┆ 2022-01-04   ┆ 7.0   ┆ d      ┆ 2022-01-04 00:00:00 ┆ 7.0         ┆ d            │\n",
       "│         ┆ 00:00:00     ┆       ┆        ┆                     ┆             ┆              │\n",
       "│ 2       ┆ 2022-01-05   ┆ 8.0   ┆ d      ┆ 2022-01-05 00:00:00 ┆ 8.0         ┆ d            │\n",
       "│         ┆ 00:00:00     ┆       ┆        ┆                     ┆             ┆              │\n",
       "│ 3       ┆ 2022-01-06   ┆ 9.0   ┆ d      ┆ 2022-01-06 00:00:00 ┆ 9.0         ┆ d            │\n",
       "│         ┆ 00:00:00     ┆       ┆        ┆                     ┆             ┆              │\n",
       "└─────────┴──────────────┴───────┴────────┴─────────────────────┴─────────────┴──────────────┘"
      ]
     },
     "execution_count": 277,
     "metadata": {},
     "output_type": "execute_result"
    }
   ],
   "source": [
    "df.join(df2, on=\"integer\", how=\"left\")"
   ]
  },
  {
   "cell_type": "markdown",
   "id": "394538c4",
   "metadata": {},
   "source": [
    "Things to note:\n",
    "\n",
    "- Repeating column names have been suffixed with \"_right\".\n",
    "- Unlike pandas, there are no indices. The `on`/`left_on`/`right_on` argument is always required.\n",
    "- `how=` may take the following values: 'inner', 'left', 'outer', 'semi', 'anti', 'cross'.\n",
    "- The join is super fast, as demonstrated in the Motivation section above. \n"
   ]
  },
  {
   "cell_type": "code",
   "execution_count": 283,
   "id": "fd86d2c7",
   "metadata": {},
   "outputs": [
    {
     "ename": "NotFoundError",
     "evalue": "date2",
     "output_type": "error",
     "traceback": [
      "\u001b[0;31m---------------------------------------------------------------------------\u001b[0m",
      "\u001b[0;31mNotFoundError\u001b[0m                             Traceback (most recent call last)",
      "Cell \u001b[0;32mIn[278], line 1\u001b[0m\n\u001b[0;32m----> 1\u001b[0m \u001b[43mdf\u001b[49m\u001b[38;5;241;43m.\u001b[39;49m\u001b[43mjoin_asof\u001b[49m\u001b[43m(\u001b[49m\u001b[43mdf2\u001b[49m\u001b[43m,\u001b[49m\u001b[43m \u001b[49m\u001b[43mleft_on\u001b[49m\u001b[38;5;241;43m=\u001b[39;49m\u001b[38;5;124;43m\"\u001b[39;49m\u001b[38;5;124;43mdate\u001b[39;49m\u001b[38;5;124;43m\"\u001b[39;49m\u001b[43m,\u001b[49m\u001b[43m \u001b[49m\u001b[43mright_on\u001b[49m\u001b[38;5;241;43m=\u001b[39;49m\u001b[38;5;124;43m'\u001b[39;49m\u001b[38;5;124;43mdate2\u001b[39;49m\u001b[38;5;124;43m'\u001b[39;49m\u001b[43m,\u001b[49m\u001b[43m \u001b[49m\u001b[43mby\u001b[49m\u001b[38;5;241;43m=\u001b[39;49m\u001b[38;5;124;43m\"\u001b[39;49m\u001b[38;5;124;43minteger\u001b[39;49m\u001b[38;5;124;43m\"\u001b[39;49m\u001b[43m,\u001b[49m\u001b[43m \u001b[49m\u001b[43mstrategy\u001b[49m\u001b[38;5;241;43m=\u001b[39;49m\u001b[38;5;124;43m\"\u001b[39;49m\u001b[38;5;124;43mbackward\u001b[39;49m\u001b[38;5;124;43m\"\u001b[39;49m\u001b[43m,\u001b[49m\u001b[43m \u001b[49m\u001b[43mtolerance\u001b[49m\u001b[38;5;241;43m=\u001b[39;49m\u001b[38;5;124;43m'\u001b[39;49m\u001b[38;5;124;43m1w\u001b[39;49m\u001b[38;5;124;43m'\u001b[39;49m\u001b[43m)\u001b[49m\n",
      "File \u001b[0;32m~/workspace/practicing_python_2/venv/lib/python3.10/site-packages/polars/internals/dataframe/frame.py:3987\u001b[0m, in \u001b[0;36mDataFrame.join_asof\u001b[0;34m(self, other, left_on, right_on, on, by_left, by_right, by, strategy, suffix, tolerance, allow_parallel, force_parallel)\u001b[0m\n\u001b[1;32m   3863\u001b[0m \u001b[38;5;28;01mdef\u001b[39;00m \u001b[38;5;21mjoin_asof\u001b[39m(\n\u001b[1;32m   3864\u001b[0m     \u001b[38;5;28mself\u001b[39m,\n\u001b[1;32m   3865\u001b[0m     other: DataFrame,\n\u001b[0;32m   (...)\u001b[0m\n\u001b[1;32m   3876\u001b[0m     force_parallel: \u001b[38;5;28mbool\u001b[39m \u001b[38;5;241m=\u001b[39m \u001b[38;5;28;01mFalse\u001b[39;00m,\n\u001b[1;32m   3877\u001b[0m ) \u001b[38;5;241m-\u001b[39m\u001b[38;5;241m>\u001b[39m DataFrame:\n\u001b[1;32m   3878\u001b[0m \u001b[38;5;250m    \u001b[39m\u001b[38;5;124;03m\"\"\"\u001b[39;00m\n\u001b[1;32m   3879\u001b[0m \u001b[38;5;124;03m    Perform an asof join.\u001b[39;00m\n\u001b[1;32m   3880\u001b[0m \n\u001b[0;32m   (...)\u001b[0m\n\u001b[1;32m   3984\u001b[0m \n\u001b[1;32m   3985\u001b[0m \u001b[38;5;124;03m    \"\"\"\u001b[39;00m\n\u001b[1;32m   3986\u001b[0m     \u001b[38;5;28;01mreturn\u001b[39;00m (\n\u001b[0;32m-> 3987\u001b[0m         \u001b[38;5;28;43mself\u001b[39;49m\u001b[38;5;241;43m.\u001b[39;49m\u001b[43mlazy\u001b[49m\u001b[43m(\u001b[49m\u001b[43m)\u001b[49m\n\u001b[1;32m   3988\u001b[0m \u001b[43m        \u001b[49m\u001b[38;5;241;43m.\u001b[39;49m\u001b[43mjoin_asof\u001b[49m\u001b[43m(\u001b[49m\n\u001b[1;32m   3989\u001b[0m \u001b[43m            \u001b[49m\u001b[43mother\u001b[49m\u001b[38;5;241;43m.\u001b[39;49m\u001b[43mlazy\u001b[49m\u001b[43m(\u001b[49m\u001b[43m)\u001b[49m\u001b[43m,\u001b[49m\n\u001b[1;32m   3990\u001b[0m \u001b[43m            \u001b[49m\u001b[43mleft_on\u001b[49m\u001b[38;5;241;43m=\u001b[39;49m\u001b[43mleft_on\u001b[49m\u001b[43m,\u001b[49m\n\u001b[1;32m   3991\u001b[0m \u001b[43m            \u001b[49m\u001b[43mright_on\u001b[49m\u001b[38;5;241;43m=\u001b[39;49m\u001b[43mright_on\u001b[49m\u001b[43m,\u001b[49m\n\u001b[1;32m   3992\u001b[0m \u001b[43m            \u001b[49m\u001b[43mon\u001b[49m\u001b[38;5;241;43m=\u001b[39;49m\u001b[43mon\u001b[49m\u001b[43m,\u001b[49m\n\u001b[1;32m   3993\u001b[0m \u001b[43m            \u001b[49m\u001b[43mby_left\u001b[49m\u001b[38;5;241;43m=\u001b[39;49m\u001b[43mby_left\u001b[49m\u001b[43m,\u001b[49m\n\u001b[1;32m   3994\u001b[0m \u001b[43m            \u001b[49m\u001b[43mby_right\u001b[49m\u001b[38;5;241;43m=\u001b[39;49m\u001b[43mby_right\u001b[49m\u001b[43m,\u001b[49m\n\u001b[1;32m   3995\u001b[0m \u001b[43m            \u001b[49m\u001b[43mby\u001b[49m\u001b[38;5;241;43m=\u001b[39;49m\u001b[43mby\u001b[49m\u001b[43m,\u001b[49m\n\u001b[1;32m   3996\u001b[0m \u001b[43m            \u001b[49m\u001b[43mstrategy\u001b[49m\u001b[38;5;241;43m=\u001b[39;49m\u001b[43mstrategy\u001b[49m\u001b[43m,\u001b[49m\n\u001b[1;32m   3997\u001b[0m \u001b[43m            \u001b[49m\u001b[43msuffix\u001b[49m\u001b[38;5;241;43m=\u001b[39;49m\u001b[43msuffix\u001b[49m\u001b[43m,\u001b[49m\n\u001b[1;32m   3998\u001b[0m \u001b[43m            \u001b[49m\u001b[43mtolerance\u001b[49m\u001b[38;5;241;43m=\u001b[39;49m\u001b[43mtolerance\u001b[49m\u001b[43m,\u001b[49m\n\u001b[1;32m   3999\u001b[0m \u001b[43m            \u001b[49m\u001b[43mallow_parallel\u001b[49m\u001b[38;5;241;43m=\u001b[39;49m\u001b[43mallow_parallel\u001b[49m\u001b[43m,\u001b[49m\n\u001b[1;32m   4000\u001b[0m \u001b[43m            \u001b[49m\u001b[43mforce_parallel\u001b[49m\u001b[38;5;241;43m=\u001b[39;49m\u001b[43mforce_parallel\u001b[49m\u001b[43m,\u001b[49m\n\u001b[1;32m   4001\u001b[0m \u001b[43m        \u001b[49m\u001b[43m)\u001b[49m\n\u001b[1;32m   4002\u001b[0m \u001b[43m        \u001b[49m\u001b[38;5;241;43m.\u001b[39;49m\u001b[43mcollect\u001b[49m\u001b[43m(\u001b[49m\u001b[43mno_optimization\u001b[49m\u001b[38;5;241;43m=\u001b[39;49m\u001b[38;5;28;43;01mTrue\u001b[39;49;00m\u001b[43m)\u001b[49m\n\u001b[1;32m   4003\u001b[0m     )\n",
      "File \u001b[0;32m~/workspace/practicing_python_2/venv/lib/python3.10/site-packages/polars/utils.py:394\u001b[0m, in \u001b[0;36mdeprecated_alias.<locals>.deco.<locals>.wrapper\u001b[0;34m(*args, **kwargs)\u001b[0m\n\u001b[1;32m    391\u001b[0m \u001b[38;5;129m@functools\u001b[39m\u001b[38;5;241m.\u001b[39mwraps(fn)\n\u001b[1;32m    392\u001b[0m \u001b[38;5;28;01mdef\u001b[39;00m \u001b[38;5;21mwrapper\u001b[39m(\u001b[38;5;241m*\u001b[39margs: P\u001b[38;5;241m.\u001b[39margs, \u001b[38;5;241m*\u001b[39m\u001b[38;5;241m*\u001b[39mkwargs: P\u001b[38;5;241m.\u001b[39mkwargs) \u001b[38;5;241m-\u001b[39m\u001b[38;5;241m>\u001b[39m T:\n\u001b[1;32m    393\u001b[0m     _rename_kwargs(fn\u001b[38;5;241m.\u001b[39m\u001b[38;5;18m__name__\u001b[39m, kwargs, aliases)\n\u001b[0;32m--> 394\u001b[0m     \u001b[38;5;28;01mreturn\u001b[39;00m \u001b[43mfn\u001b[49m\u001b[43m(\u001b[49m\u001b[38;5;241;43m*\u001b[39;49m\u001b[43margs\u001b[49m\u001b[43m,\u001b[49m\u001b[43m \u001b[49m\u001b[38;5;241;43m*\u001b[39;49m\u001b[38;5;241;43m*\u001b[39;49m\u001b[43mkwargs\u001b[49m\u001b[43m)\u001b[49m\n",
      "File \u001b[0;32m~/workspace/practicing_python_2/venv/lib/python3.10/site-packages/polars/internals/lazyframe/frame.py:1168\u001b[0m, in \u001b[0;36mLazyFrame.collect\u001b[0;34m(self, type_coercion, predicate_pushdown, projection_pushdown, simplify_expression, no_optimization, slice_pushdown, common_subplan_elimination, streaming)\u001b[0m\n\u001b[1;32m   1157\u001b[0m     common_subplan_elimination \u001b[38;5;241m=\u001b[39m \u001b[38;5;28;01mFalse\u001b[39;00m\n\u001b[1;32m   1159\u001b[0m ldf \u001b[38;5;241m=\u001b[39m \u001b[38;5;28mself\u001b[39m\u001b[38;5;241m.\u001b[39m_ldf\u001b[38;5;241m.\u001b[39moptimization_toggle(\n\u001b[1;32m   1160\u001b[0m     type_coercion,\n\u001b[1;32m   1161\u001b[0m     predicate_pushdown,\n\u001b[0;32m   (...)\u001b[0m\n\u001b[1;32m   1166\u001b[0m     streaming,\n\u001b[1;32m   1167\u001b[0m )\n\u001b[0;32m-> 1168\u001b[0m \u001b[38;5;28;01mreturn\u001b[39;00m pli\u001b[38;5;241m.\u001b[39mwrap_df(\u001b[43mldf\u001b[49m\u001b[38;5;241;43m.\u001b[39;49m\u001b[43mcollect\u001b[49m\u001b[43m(\u001b[49m\u001b[43m)\u001b[49m)\n",
      "\u001b[0;31mNotFoundError\u001b[0m: date2"
     ]
    }
   ],
   "source": [
    "df.join_asof(df2, left_on=\"date\", right_on='date2', by=\"integer\", strategy=\"backward\", tolerance='1w')"
   ]
  },
  {
   "cell_type": "markdown",
   "id": "bb172327",
   "metadata": {},
   "source": [
    "Things to note:\n",
    "\n",
    "- Yes! `merge_asof()` is also available.\n",
    "- The `strategy=` argument may take the following values: 'backward', 'forward'.\n",
    "- The `tolerance=` argument may take the following values: '1w', '1d', '1h', '1m', '1s', '1ms', '1us', '1ns'.\n",
    "\n",
    "\n",
    "\n",
    "### Concatenation\n",
    "\n",
    "TODO: pl.concat\n",
    "\n",
    "\n",
    "\n",
    "\n",
    "\n",
    "## Reshaping\n"
   ]
  },
  {
   "cell_type": "code",
   "execution_count": 284,
   "id": "7db15fa5",
   "metadata": {},
   "outputs": [
    {
     "data": {
      "text/html": [
       "<div>\n",
       "<style scoped>\n",
       "    .dataframe tbody tr th:only-of-type {\n",
       "        vertical-align: middle;\n",
       "    }\n",
       "\n",
       "    .dataframe tbody tr th {\n",
       "        vertical-align: top;\n",
       "    }\n",
       "\n",
       "    .dataframe thead th {\n",
       "        text-align: right;\n",
       "    }\n",
       "\n",
       "    .dataframe td {\n",
       "        white-space: pre;\n",
       "    }\n",
       "\n",
       "    .dataframe td {\n",
       "        padding-top: 0;\n",
       "    }\n",
       "\n",
       "    .dataframe td {\n",
       "        padding-bottom: 0;\n",
       "    }\n",
       "\n",
       "    .dataframe td {\n",
       "        line-height: 95%;\n",
       "    }\n",
       "</style>\n",
       "<table border=\"1\" class=\"dataframe\">\n",
       "<small>shape: (4, 6)</small>\n",
       "<thead>\n",
       "<tr>\n",
       "<th>\n",
       "column_0\n",
       "</th>\n",
       "<th>\n",
       "column_1\n",
       "</th>\n",
       "<th>\n",
       "column_2\n",
       "</th>\n",
       "<th>\n",
       "column_3\n",
       "</th>\n",
       "<th>\n",
       "column_4\n",
       "</th>\n",
       "<th>\n",
       "column_5\n",
       "</th>\n",
       "</tr>\n",
       "<tr>\n",
       "<td>\n",
       "str\n",
       "</td>\n",
       "<td>\n",
       "str\n",
       "</td>\n",
       "<td>\n",
       "str\n",
       "</td>\n",
       "<td>\n",
       "str\n",
       "</td>\n",
       "<td>\n",
       "str\n",
       "</td>\n",
       "<td>\n",
       "str\n",
       "</td>\n",
       "</tr>\n",
       "</thead>\n",
       "<tbody>\n",
       "<tr>\n",
       "<td>\n",
       "&quot;1&quot;\n",
       "</td>\n",
       "<td>\n",
       "&quot;2&quot;\n",
       "</td>\n",
       "<td>\n",
       "&quot;3&quot;\n",
       "</td>\n",
       "<td>\n",
       "&quot;1&quot;\n",
       "</td>\n",
       "<td>\n",
       "&quot;2&quot;\n",
       "</td>\n",
       "<td>\n",
       "&quot;3&quot;\n",
       "</td>\n",
       "</tr>\n",
       "<tr>\n",
       "<td>\n",
       "&quot;2022-01-01 00:...\n",
       "</td>\n",
       "<td>\n",
       "&quot;2022-01-02 00:...\n",
       "</td>\n",
       "<td>\n",
       "&quot;2022-01-03 00:...\n",
       "</td>\n",
       "<td>\n",
       "&quot;2022-01-04 00:...\n",
       "</td>\n",
       "<td>\n",
       "&quot;2022-01-05 00:...\n",
       "</td>\n",
       "<td>\n",
       "&quot;2022-01-06 00:...\n",
       "</td>\n",
       "</tr>\n",
       "<tr>\n",
       "<td>\n",
       "&quot;4.0&quot;\n",
       "</td>\n",
       "<td>\n",
       "&quot;5.0&quot;\n",
       "</td>\n",
       "<td>\n",
       "&quot;6.0&quot;\n",
       "</td>\n",
       "<td>\n",
       "&quot;7.0&quot;\n",
       "</td>\n",
       "<td>\n",
       "&quot;8.0&quot;\n",
       "</td>\n",
       "<td>\n",
       "&quot;9.0&quot;\n",
       "</td>\n",
       "</tr>\n",
       "<tr>\n",
       "<td>\n",
       "&quot;a&quot;\n",
       "</td>\n",
       "<td>\n",
       "&quot;b&quot;\n",
       "</td>\n",
       "<td>\n",
       "&quot;c&quot;\n",
       "</td>\n",
       "<td>\n",
       "&quot;d&quot;\n",
       "</td>\n",
       "<td>\n",
       "&quot;d&quot;\n",
       "</td>\n",
       "<td>\n",
       "&quot;d&quot;\n",
       "</td>\n",
       "</tr>\n",
       "</tbody>\n",
       "</table>\n",
       "</div>"
      ],
      "text/plain": [
       "shape: (4, 6)\n",
       "┌────────────────┬────────────────┬────────────────┬───────────────┬───────────────┬───────────────┐\n",
       "│ column_0       ┆ column_1       ┆ column_2       ┆ column_3      ┆ column_4      ┆ column_5      │\n",
       "│ ---            ┆ ---            ┆ ---            ┆ ---           ┆ ---           ┆ ---           │\n",
       "│ str            ┆ str            ┆ str            ┆ str           ┆ str           ┆ str           │\n",
       "╞════════════════╪════════════════╪════════════════╪═══════════════╪═══════════════╪═══════════════╡\n",
       "│ 1              ┆ 2              ┆ 3              ┆ 1             ┆ 2             ┆ 3             │\n",
       "│ 2022-01-01 00: ┆ 2022-01-02 00: ┆ 2022-01-03 00: ┆ 2022-01-04    ┆ 2022-01-05    ┆ 2022-01-06    │\n",
       "│ 00:00.000000   ┆ 00:00.000000   ┆ 00:00.000000   ┆ 00:00:00.0000 ┆ 00:00:00.0000 ┆ 00:00:00.0000 │\n",
       "│                ┆                ┆                ┆ 00            ┆ 00            ┆ 00            │\n",
       "│ 4.0            ┆ 5.0            ┆ 6.0            ┆ 7.0           ┆ 8.0           ┆ 9.0           │\n",
       "│ a              ┆ b              ┆ c              ┆ d             ┆ d             ┆ d             │\n",
       "└────────────────┴────────────────┴────────────────┴───────────────┴───────────────┴───────────────┘"
      ]
     },
     "execution_count": 279,
     "metadata": {},
     "output_type": "execute_result"
    }
   ],
   "source": [
    "df.transpose()"
   ]
  },
  {
   "cell_type": "markdown",
   "id": "b2705a79",
   "metadata": {},
   "source": [
    "### Wide to Long\n"
   ]
  },
  {
   "cell_type": "code",
   "execution_count": 285,
   "id": "7921f491",
   "metadata": {},
   "outputs": [
    {
     "data": {
      "text/html": [
       "<div>\n",
       "<style scoped>\n",
       "    .dataframe tbody tr th:only-of-type {\n",
       "        vertical-align: middle;\n",
       "    }\n",
       "\n",
       "    .dataframe tbody tr th {\n",
       "        vertical-align: top;\n",
       "    }\n",
       "\n",
       "    .dataframe thead th {\n",
       "        text-align: right;\n",
       "    }\n",
       "\n",
       "    .dataframe td {\n",
       "        white-space: pre;\n",
       "    }\n",
       "\n",
       "    .dataframe td {\n",
       "        padding-top: 0;\n",
       "    }\n",
       "\n",
       "    .dataframe td {\n",
       "        padding-bottom: 0;\n",
       "    }\n",
       "\n",
       "    .dataframe td {\n",
       "        line-height: 95%;\n",
       "    }\n",
       "</style>\n",
       "<table border=\"1\" class=\"dataframe\">\n",
       "<small>shape: (2, 4)</small>\n",
       "<thead>\n",
       "<tr>\n",
       "<th>\n",
       "famid\n",
       "</th>\n",
       "<th>\n",
       "birth\n",
       "</th>\n",
       "<th>\n",
       "ht1\n",
       "</th>\n",
       "<th>\n",
       "ht2\n",
       "</th>\n",
       "</tr>\n",
       "<tr>\n",
       "<td>\n",
       "str\n",
       "</td>\n",
       "<td>\n",
       "i64\n",
       "</td>\n",
       "<td>\n",
       "f64\n",
       "</td>\n",
       "<td>\n",
       "f64\n",
       "</td>\n",
       "</tr>\n",
       "</thead>\n",
       "<tbody>\n",
       "<tr>\n",
       "<td>\n",
       "&quot;11&quot;\n",
       "</td>\n",
       "<td>\n",
       "1\n",
       "</td>\n",
       "<td>\n",
       "2.8\n",
       "</td>\n",
       "<td>\n",
       "3.4\n",
       "</td>\n",
       "</tr>\n",
       "<tr>\n",
       "<td>\n",
       "&quot;12&quot;\n",
       "</td>\n",
       "<td>\n",
       "2\n",
       "</td>\n",
       "<td>\n",
       "2.9\n",
       "</td>\n",
       "<td>\n",
       "3.8\n",
       "</td>\n",
       "</tr>\n",
       "</tbody>\n",
       "</table>\n",
       "</div>"
      ],
      "text/plain": [
       "shape: (2, 4)\n",
       "┌───────┬───────┬─────┬─────┐\n",
       "│ famid ┆ birth ┆ ht1 ┆ ht2 │\n",
       "│ ---   ┆ ---   ┆ --- ┆ --- │\n",
       "│ str   ┆ i64   ┆ f64 ┆ f64 │\n",
       "╞═══════╪═══════╪═════╪═════╡\n",
       "│ 11    ┆ 1     ┆ 2.8 ┆ 3.4 │\n",
       "│ 12    ┆ 2     ┆ 2.9 ┆ 3.8 │\n",
       "└───────┴───────┴─────┴─────┘"
      ]
     },
     "execution_count": 280,
     "metadata": {},
     "output_type": "execute_result"
    }
   ],
   "source": [
    "# The following example is adapted from Pandas documentation: https://pandas.pydata.org/docs/reference/api/pandas.wide_to_long.html\n",
    "\n",
    "np.random.seed(123)\n",
    "wide = pl.DataFrame({\n",
    "    'famid': [\"11\", \"12\", \"13\", \"2\", \"2\", \"2\", \"3\", \"3\", \"3\"],\n",
    "    'birth': [1, 2, 3, 1, 2, 3, 1, 2, 3],\n",
    "    'ht1': [2.8, 2.9, 2.2, 2, 1.8, 1.9, 2.2, 2.3, 2.1],\n",
    "    'ht2': [3.4, 3.8, 2.9, 3.2, 2.8, 2.4, 3.3, 3.4, 2.9]})\n",
    "\n",
    "wide.head(2)"
   ]
  },
  {
   "cell_type": "code",
   "execution_count": 286,
   "id": "95fe232b",
   "metadata": {},
   "outputs": [
    {
     "data": {
      "text/html": [
       "<div>\n",
       "<style scoped>\n",
       "    .dataframe tbody tr th:only-of-type {\n",
       "        vertical-align: middle;\n",
       "    }\n",
       "\n",
       "    .dataframe tbody tr th {\n",
       "        vertical-align: top;\n",
       "    }\n",
       "\n",
       "    .dataframe thead th {\n",
       "        text-align: right;\n",
       "    }\n",
       "\n",
       "    .dataframe td {\n",
       "        white-space: pre;\n",
       "    }\n",
       "\n",
       "    .dataframe td {\n",
       "        padding-top: 0;\n",
       "    }\n",
       "\n",
       "    .dataframe td {\n",
       "        padding-bottom: 0;\n",
       "    }\n",
       "\n",
       "    .dataframe td {\n",
       "        line-height: 95%;\n",
       "    }\n",
       "</style>\n",
       "<table border=\"1\" class=\"dataframe\">\n",
       "<small>shape: (5, 4)</small>\n",
       "<thead>\n",
       "<tr>\n",
       "<th>\n",
       "famid\n",
       "</th>\n",
       "<th>\n",
       "birth\n",
       "</th>\n",
       "<th>\n",
       "treatment\n",
       "</th>\n",
       "<th>\n",
       "height\n",
       "</th>\n",
       "</tr>\n",
       "<tr>\n",
       "<td>\n",
       "str\n",
       "</td>\n",
       "<td>\n",
       "i64\n",
       "</td>\n",
       "<td>\n",
       "str\n",
       "</td>\n",
       "<td>\n",
       "f64\n",
       "</td>\n",
       "</tr>\n",
       "</thead>\n",
       "<tbody>\n",
       "<tr>\n",
       "<td>\n",
       "&quot;3&quot;\n",
       "</td>\n",
       "<td>\n",
       "1\n",
       "</td>\n",
       "<td>\n",
       "&quot;ht2&quot;\n",
       "</td>\n",
       "<td>\n",
       "3.3\n",
       "</td>\n",
       "</tr>\n",
       "<tr>\n",
       "<td>\n",
       "&quot;12&quot;\n",
       "</td>\n",
       "<td>\n",
       "2\n",
       "</td>\n",
       "<td>\n",
       "&quot;ht1&quot;\n",
       "</td>\n",
       "<td>\n",
       "2.9\n",
       "</td>\n",
       "</tr>\n",
       "<tr>\n",
       "<td>\n",
       "&quot;13&quot;\n",
       "</td>\n",
       "<td>\n",
       "3\n",
       "</td>\n",
       "<td>\n",
       "&quot;ht1&quot;\n",
       "</td>\n",
       "<td>\n",
       "2.2\n",
       "</td>\n",
       "</tr>\n",
       "<tr>\n",
       "<td>\n",
       "&quot;2&quot;\n",
       "</td>\n",
       "<td>\n",
       "3\n",
       "</td>\n",
       "<td>\n",
       "&quot;ht1&quot;\n",
       "</td>\n",
       "<td>\n",
       "1.9\n",
       "</td>\n",
       "</tr>\n",
       "<tr>\n",
       "<td>\n",
       "&quot;3&quot;\n",
       "</td>\n",
       "<td>\n",
       "2\n",
       "</td>\n",
       "<td>\n",
       "&quot;ht2&quot;\n",
       "</td>\n",
       "<td>\n",
       "3.4\n",
       "</td>\n",
       "</tr>\n",
       "</tbody>\n",
       "</table>\n",
       "</div>"
      ],
      "text/plain": [
       "shape: (5, 4)\n",
       "┌───────┬───────┬───────────┬────────┐\n",
       "│ famid ┆ birth ┆ treatment ┆ height │\n",
       "│ ---   ┆ ---   ┆ ---       ┆ ---    │\n",
       "│ str   ┆ i64   ┆ str       ┆ f64    │\n",
       "╞═══════╪═══════╪═══════════╪════════╡\n",
       "│ 3     ┆ 1     ┆ ht2       ┆ 3.3    │\n",
       "│ 12    ┆ 2     ┆ ht1       ┆ 2.9    │\n",
       "│ 13    ┆ 3     ┆ ht1       ┆ 2.2    │\n",
       "│ 2     ┆ 3     ┆ ht1       ┆ 1.9    │\n",
       "│ 3     ┆ 2     ┆ ht2       ┆ 3.4    │\n",
       "└───────┴───────┴───────────┴────────┘"
      ]
     },
     "execution_count": 281,
     "metadata": {},
     "output_type": "execute_result"
    }
   ],
   "source": [
    "wide.melt(\n",
    "  id_vars=['famid', 'birth'], \n",
    "  value_vars=['ht1', 'ht2'], \n",
    "  variable_name='treatment', \n",
    "  value_name='height').sample(5)"
   ]
  },
  {
   "cell_type": "markdown",
   "id": "0589f80c",
   "metadata": {},
   "source": [
    "Break strings into rows. "
   ]
  },
  {
   "cell_type": "code",
   "execution_count": 287,
   "id": "28af97f8",
   "metadata": {},
   "outputs": [
    {
     "data": {
      "text/html": [
       "<div>\n",
       "<style scoped>\n",
       "    .dataframe tbody tr th:only-of-type {\n",
       "        vertical-align: middle;\n",
       "    }\n",
       "\n",
       "    .dataframe tbody tr th {\n",
       "        vertical-align: top;\n",
       "    }\n",
       "\n",
       "    .dataframe thead th {\n",
       "        text-align: right;\n",
       "    }\n",
       "\n",
       "    .dataframe td {\n",
       "        white-space: pre;\n",
       "    }\n",
       "\n",
       "    .dataframe td {\n",
       "        padding-top: 0;\n",
       "    }\n",
       "\n",
       "    .dataframe td {\n",
       "        padding-bottom: 0;\n",
       "    }\n",
       "\n",
       "    .dataframe td {\n",
       "        line-height: 95%;\n",
       "    }\n",
       "</style>\n",
       "<table border=\"1\" class=\"dataframe\">\n",
       "<small>shape: (5, 4)</small>\n",
       "<thead>\n",
       "<tr>\n",
       "<th>\n",
       "famid\n",
       "</th>\n",
       "<th>\n",
       "birth\n",
       "</th>\n",
       "<th>\n",
       "ht1\n",
       "</th>\n",
       "<th>\n",
       "ht2\n",
       "</th>\n",
       "</tr>\n",
       "<tr>\n",
       "<td>\n",
       "str\n",
       "</td>\n",
       "<td>\n",
       "i64\n",
       "</td>\n",
       "<td>\n",
       "f64\n",
       "</td>\n",
       "<td>\n",
       "f64\n",
       "</td>\n",
       "</tr>\n",
       "</thead>\n",
       "<tbody>\n",
       "<tr>\n",
       "<td>\n",
       "&quot;1&quot;\n",
       "</td>\n",
       "<td>\n",
       "1\n",
       "</td>\n",
       "<td>\n",
       "2.8\n",
       "</td>\n",
       "<td>\n",
       "3.4\n",
       "</td>\n",
       "</tr>\n",
       "<tr>\n",
       "<td>\n",
       "&quot;1&quot;\n",
       "</td>\n",
       "<td>\n",
       "1\n",
       "</td>\n",
       "<td>\n",
       "2.8\n",
       "</td>\n",
       "<td>\n",
       "3.4\n",
       "</td>\n",
       "</tr>\n",
       "<tr>\n",
       "<td>\n",
       "&quot;1&quot;\n",
       "</td>\n",
       "<td>\n",
       "2\n",
       "</td>\n",
       "<td>\n",
       "2.9\n",
       "</td>\n",
       "<td>\n",
       "3.8\n",
       "</td>\n",
       "</tr>\n",
       "<tr>\n",
       "<td>\n",
       "&quot;2&quot;\n",
       "</td>\n",
       "<td>\n",
       "2\n",
       "</td>\n",
       "<td>\n",
       "2.9\n",
       "</td>\n",
       "<td>\n",
       "3.8\n",
       "</td>\n",
       "</tr>\n",
       "<tr>\n",
       "<td>\n",
       "&quot;1&quot;\n",
       "</td>\n",
       "<td>\n",
       "3\n",
       "</td>\n",
       "<td>\n",
       "2.2\n",
       "</td>\n",
       "<td>\n",
       "2.9\n",
       "</td>\n",
       "</tr>\n",
       "</tbody>\n",
       "</table>\n",
       "</div>"
      ],
      "text/plain": [
       "shape: (5, 4)\n",
       "┌───────┬───────┬─────┬─────┐\n",
       "│ famid ┆ birth ┆ ht1 ┆ ht2 │\n",
       "│ ---   ┆ ---   ┆ --- ┆ --- │\n",
       "│ str   ┆ i64   ┆ f64 ┆ f64 │\n",
       "╞═══════╪═══════╪═════╪═════╡\n",
       "│ 1     ┆ 1     ┆ 2.8 ┆ 3.4 │\n",
       "│ 1     ┆ 1     ┆ 2.8 ┆ 3.4 │\n",
       "│ 1     ┆ 2     ┆ 2.9 ┆ 3.8 │\n",
       "│ 2     ┆ 2     ┆ 2.9 ┆ 3.8 │\n",
       "│ 1     ┆ 3     ┆ 2.2 ┆ 2.9 │\n",
       "└───────┴───────┴─────┴─────┘"
      ]
     },
     "execution_count": 282,
     "metadata": {},
     "output_type": "execute_result"
    }
   ],
   "source": [
    "wide.explode(columns=['famid']).limit(5)"
   ]
  },
  {
   "cell_type": "markdown",
   "id": "8d1a9e15",
   "metadata": {},
   "source": [
    "### Long to Wide\n"
   ]
  },
  {
   "cell_type": "code",
   "execution_count": 288,
   "id": "fac5da3e",
   "metadata": {},
   "outputs": [
    {
     "data": {
      "text/html": [
       "<div>\n",
       "<style scoped>\n",
       "    .dataframe tbody tr th:only-of-type {\n",
       "        vertical-align: middle;\n",
       "    }\n",
       "\n",
       "    .dataframe tbody tr th {\n",
       "        vertical-align: top;\n",
       "    }\n",
       "\n",
       "    .dataframe thead th {\n",
       "        text-align: right;\n",
       "    }\n",
       "\n",
       "    .dataframe td {\n",
       "        white-space: pre;\n",
       "    }\n",
       "\n",
       "    .dataframe td {\n",
       "        padding-top: 0;\n",
       "    }\n",
       "\n",
       "    .dataframe td {\n",
       "        padding-bottom: 0;\n",
       "    }\n",
       "\n",
       "    .dataframe td {\n",
       "        line-height: 95%;\n",
       "    }\n",
       "</style>\n",
       "<table border=\"1\" class=\"dataframe\">\n",
       "<small>shape: (5, 3)</small>\n",
       "<thead>\n",
       "<tr>\n",
       "<th>\n",
       "id\n",
       "</th>\n",
       "<th>\n",
       "treatment\n",
       "</th>\n",
       "<th>\n",
       "height\n",
       "</th>\n",
       "</tr>\n",
       "<tr>\n",
       "<td>\n",
       "i64\n",
       "</td>\n",
       "<td>\n",
       "str\n",
       "</td>\n",
       "<td>\n",
       "f64\n",
       "</td>\n",
       "</tr>\n",
       "</thead>\n",
       "<tbody>\n",
       "<tr>\n",
       "<td>\n",
       "1\n",
       "</td>\n",
       "<td>\n",
       "&quot;A&quot;\n",
       "</td>\n",
       "<td>\n",
       "2.8\n",
       "</td>\n",
       "</tr>\n",
       "<tr>\n",
       "<td>\n",
       "1\n",
       "</td>\n",
       "<td>\n",
       "&quot;A&quot;\n",
       "</td>\n",
       "<td>\n",
       "2.9\n",
       "</td>\n",
       "</tr>\n",
       "<tr>\n",
       "<td>\n",
       "1\n",
       "</td>\n",
       "<td>\n",
       "&quot;B&quot;\n",
       "</td>\n",
       "<td>\n",
       "2.2\n",
       "</td>\n",
       "</tr>\n",
       "<tr>\n",
       "<td>\n",
       "2\n",
       "</td>\n",
       "<td>\n",
       "&quot;A&quot;\n",
       "</td>\n",
       "<td>\n",
       "2.0\n",
       "</td>\n",
       "</tr>\n",
       "<tr>\n",
       "<td>\n",
       "2\n",
       "</td>\n",
       "<td>\n",
       "&quot;A&quot;\n",
       "</td>\n",
       "<td>\n",
       "1.8\n",
       "</td>\n",
       "</tr>\n",
       "</tbody>\n",
       "</table>\n",
       "</div>"
      ],
      "text/plain": [
       "shape: (5, 3)\n",
       "┌─────┬───────────┬────────┐\n",
       "│ id  ┆ treatment ┆ height │\n",
       "│ --- ┆ ---       ┆ ---    │\n",
       "│ i64 ┆ str       ┆ f64    │\n",
       "╞═════╪═══════════╪════════╡\n",
       "│ 1   ┆ A         ┆ 2.8    │\n",
       "│ 1   ┆ A         ┆ 2.9    │\n",
       "│ 1   ┆ B         ┆ 2.2    │\n",
       "│ 2   ┆ A         ┆ 2.0    │\n",
       "│ 2   ┆ A         ┆ 1.8    │\n",
       "└─────┴───────────┴────────┘"
      ]
     },
     "execution_count": 283,
     "metadata": {},
     "output_type": "execute_result"
    }
   ],
   "source": [
    "# Example adapted from https://stackoverflow.com/questions/5890584/how-to-reshape-data-from-long-to-wide-format\n",
    "\n",
    "long = pl.DataFrame({\n",
    "    'id': [1, 1, 1, 2, 2, 2, 3, 3, 3],\n",
    "    'treatment': ['A', 'A', 'B', 'A', 'A', 'B', 'A', 'A', 'B'],\n",
    "    'height': [2.8, 2.9, 2.2, 2, 1.8, 1.9, 2.2, 2.3, 2.1]\n",
    "    })\n",
    "  \n",
    "long.limit(5)"
   ]
  },
  {
   "cell_type": "code",
   "execution_count": 289,
   "id": "d71a13c5",
   "metadata": {},
   "outputs": [
    {
     "data": {
      "text/html": [
       "<div>\n",
       "<style scoped>\n",
       "    .dataframe tbody tr th:only-of-type {\n",
       "        vertical-align: middle;\n",
       "    }\n",
       "\n",
       "    .dataframe tbody tr th {\n",
       "        vertical-align: top;\n",
       "    }\n",
       "\n",
       "    .dataframe thead th {\n",
       "        text-align: right;\n",
       "    }\n",
       "\n",
       "    .dataframe td {\n",
       "        white-space: pre;\n",
       "    }\n",
       "\n",
       "    .dataframe td {\n",
       "        padding-top: 0;\n",
       "    }\n",
       "\n",
       "    .dataframe td {\n",
       "        padding-bottom: 0;\n",
       "    }\n",
       "\n",
       "    .dataframe td {\n",
       "        line-height: 95%;\n",
       "    }\n",
       "</style>\n",
       "<table border=\"1\" class=\"dataframe\">\n",
       "<small>shape: (3, 3)</small>\n",
       "<thead>\n",
       "<tr>\n",
       "<th>\n",
       "id\n",
       "</th>\n",
       "<th>\n",
       "A\n",
       "</th>\n",
       "<th>\n",
       "B\n",
       "</th>\n",
       "</tr>\n",
       "<tr>\n",
       "<td>\n",
       "i64\n",
       "</td>\n",
       "<td>\n",
       "f64\n",
       "</td>\n",
       "<td>\n",
       "f64\n",
       "</td>\n",
       "</tr>\n",
       "</thead>\n",
       "<tbody>\n",
       "<tr>\n",
       "<td>\n",
       "1\n",
       "</td>\n",
       "<td>\n",
       "2.8\n",
       "</td>\n",
       "<td>\n",
       "2.2\n",
       "</td>\n",
       "</tr>\n",
       "<tr>\n",
       "<td>\n",
       "2\n",
       "</td>\n",
       "<td>\n",
       "2.0\n",
       "</td>\n",
       "<td>\n",
       "1.9\n",
       "</td>\n",
       "</tr>\n",
       "<tr>\n",
       "<td>\n",
       "3\n",
       "</td>\n",
       "<td>\n",
       "2.2\n",
       "</td>\n",
       "<td>\n",
       "2.1\n",
       "</td>\n",
       "</tr>\n",
       "</tbody>\n",
       "</table>\n",
       "</div>"
      ],
      "text/plain": [
       "shape: (3, 3)\n",
       "┌─────┬─────┬─────┐\n",
       "│ id  ┆ A   ┆ B   │\n",
       "│ --- ┆ --- ┆ --- │\n",
       "│ i64 ┆ f64 ┆ f64 │\n",
       "╞═════╪═════╪═════╡\n",
       "│ 1   ┆ 2.8 ┆ 2.2 │\n",
       "│ 2   ┆ 2.0 ┆ 1.9 │\n",
       "│ 3   ┆ 2.2 ┆ 2.1 │\n",
       "└─────┴─────┴─────┘"
      ]
     },
     "execution_count": 284,
     "metadata": {},
     "output_type": "execute_result"
    }
   ],
   "source": [
    "long.pivot(\n",
    "  index='id', \n",
    "  columns='treatment',\n",
    "  values='height')"
   ]
  },
  {
   "cell_type": "code",
   "execution_count": 290,
   "id": "053cd4ed",
   "metadata": {},
   "outputs": [
    {
     "data": {
      "text/html": [
       "<div>\n",
       "<style scoped>\n",
       "    .dataframe tbody tr th:only-of-type {\n",
       "        vertical-align: middle;\n",
       "    }\n",
       "\n",
       "    .dataframe tbody tr th {\n",
       "        vertical-align: top;\n",
       "    }\n",
       "\n",
       "    .dataframe thead th {\n",
       "        text-align: right;\n",
       "    }\n",
       "\n",
       "    .dataframe td {\n",
       "        white-space: pre;\n",
       "    }\n",
       "\n",
       "    .dataframe td {\n",
       "        padding-top: 0;\n",
       "    }\n",
       "\n",
       "    .dataframe td {\n",
       "        padding-bottom: 0;\n",
       "    }\n",
       "\n",
       "    .dataframe td {\n",
       "        line-height: 95%;\n",
       "    }\n",
       "</style>\n",
       "<table border=\"1\" class=\"dataframe\">\n",
       "<small>shape: (2, 15)</small>\n",
       "<thead>\n",
       "<tr>\n",
       "<th>\n",
       "id_0\n",
       "</th>\n",
       "<th>\n",
       "id_1\n",
       "</th>\n",
       "<th>\n",
       "id_2\n",
       "</th>\n",
       "<th>\n",
       "id_3\n",
       "</th>\n",
       "<th>\n",
       "id_4\n",
       "</th>\n",
       "<th>\n",
       "treatment_0\n",
       "</th>\n",
       "<th>\n",
       "treatment_1\n",
       "</th>\n",
       "<th>\n",
       "treatment_2\n",
       "</th>\n",
       "<th>\n",
       "treatment_3\n",
       "</th>\n",
       "<th>\n",
       "treatment_4\n",
       "</th>\n",
       "<th>\n",
       "height_0\n",
       "</th>\n",
       "<th>\n",
       "height_1\n",
       "</th>\n",
       "<th>\n",
       "height_2\n",
       "</th>\n",
       "<th>\n",
       "height_3\n",
       "</th>\n",
       "<th>\n",
       "height_4\n",
       "</th>\n",
       "</tr>\n",
       "<tr>\n",
       "<td>\n",
       "i64\n",
       "</td>\n",
       "<td>\n",
       "i64\n",
       "</td>\n",
       "<td>\n",
       "i64\n",
       "</td>\n",
       "<td>\n",
       "i64\n",
       "</td>\n",
       "<td>\n",
       "i64\n",
       "</td>\n",
       "<td>\n",
       "str\n",
       "</td>\n",
       "<td>\n",
       "str\n",
       "</td>\n",
       "<td>\n",
       "str\n",
       "</td>\n",
       "<td>\n",
       "str\n",
       "</td>\n",
       "<td>\n",
       "str\n",
       "</td>\n",
       "<td>\n",
       "f64\n",
       "</td>\n",
       "<td>\n",
       "f64\n",
       "</td>\n",
       "<td>\n",
       "f64\n",
       "</td>\n",
       "<td>\n",
       "f64\n",
       "</td>\n",
       "<td>\n",
       "f64\n",
       "</td>\n",
       "</tr>\n",
       "</thead>\n",
       "<tbody>\n",
       "<tr>\n",
       "<td>\n",
       "1\n",
       "</td>\n",
       "<td>\n",
       "1\n",
       "</td>\n",
       "<td>\n",
       "2\n",
       "</td>\n",
       "<td>\n",
       "3\n",
       "</td>\n",
       "<td>\n",
       "3\n",
       "</td>\n",
       "<td>\n",
       "&quot;A&quot;\n",
       "</td>\n",
       "<td>\n",
       "&quot;B&quot;\n",
       "</td>\n",
       "<td>\n",
       "&quot;A&quot;\n",
       "</td>\n",
       "<td>\n",
       "&quot;A&quot;\n",
       "</td>\n",
       "<td>\n",
       "&quot;B&quot;\n",
       "</td>\n",
       "<td>\n",
       "2.8\n",
       "</td>\n",
       "<td>\n",
       "2.2\n",
       "</td>\n",
       "<td>\n",
       "1.8\n",
       "</td>\n",
       "<td>\n",
       "2.2\n",
       "</td>\n",
       "<td>\n",
       "2.1\n",
       "</td>\n",
       "</tr>\n",
       "<tr>\n",
       "<td>\n",
       "1\n",
       "</td>\n",
       "<td>\n",
       "2\n",
       "</td>\n",
       "<td>\n",
       "2\n",
       "</td>\n",
       "<td>\n",
       "3\n",
       "</td>\n",
       "<td>\n",
       "null\n",
       "</td>\n",
       "<td>\n",
       "&quot;A&quot;\n",
       "</td>\n",
       "<td>\n",
       "&quot;A&quot;\n",
       "</td>\n",
       "<td>\n",
       "&quot;B&quot;\n",
       "</td>\n",
       "<td>\n",
       "&quot;A&quot;\n",
       "</td>\n",
       "<td>\n",
       "null\n",
       "</td>\n",
       "<td>\n",
       "2.9\n",
       "</td>\n",
       "<td>\n",
       "2.0\n",
       "</td>\n",
       "<td>\n",
       "1.9\n",
       "</td>\n",
       "<td>\n",
       "2.3\n",
       "</td>\n",
       "<td>\n",
       "null\n",
       "</td>\n",
       "</tr>\n",
       "</tbody>\n",
       "</table>\n",
       "</div>"
      ],
      "text/plain": [
       "shape: (2, 15)\n",
       "┌──────┬──────┬──────┬──────┬─────┬──────────┬──────────┬──────────┬──────────┐\n",
       "│ id_0 ┆ id_1 ┆ id_2 ┆ id_3 ┆ ... ┆ height_1 ┆ height_2 ┆ height_3 ┆ height_4 │\n",
       "│ ---  ┆ ---  ┆ ---  ┆ ---  ┆     ┆ ---      ┆ ---      ┆ ---      ┆ ---      │\n",
       "│ i64  ┆ i64  ┆ i64  ┆ i64  ┆     ┆ f64      ┆ f64      ┆ f64      ┆ f64      │\n",
       "╞══════╪══════╪══════╪══════╪═════╪══════════╪══════════╪══════════╪══════════╡\n",
       "│ 1    ┆ 1    ┆ 2    ┆ 3    ┆ ... ┆ 2.2      ┆ 1.8      ┆ 2.2      ┆ 2.1      │\n",
       "│ 1    ┆ 2    ┆ 2    ┆ 3    ┆ ... ┆ 2.0      ┆ 1.9      ┆ 2.3      ┆ null     │\n",
       "└──────┴──────┴──────┴──────┴─────┴──────────┴──────────┴──────────┴──────────┘"
      ]
     },
     "execution_count": 285,
     "metadata": {},
     "output_type": "execute_result"
    }
   ],
   "source": [
    "long.unstack(step=2) # works like a transpose, and then wrap rows. Change the `step=` to get the feeling. "
   ]
  },
  {
   "cell_type": "markdown",
   "id": "dcb08641",
   "metadata": {},
   "source": [
    "## Groupby\n"
   ]
  },
  {
   "cell_type": "code",
   "execution_count": 291,
   "id": "1917f3a0",
   "metadata": {},
   "outputs": [],
   "source": [
    "df2 = pl.DataFrame({\n",
    "    \"integer\": [1, 1, 2, 2, 3, 3],\n",
    "    \"float\": [1.0, 2.0, 3.0, 4.0, 5.0, 6.0],\n",
    "    \"string\": [\"a\", \"b\", \"c\", \"d\", \"e\", \"f\"],\n",
    "    \"datetime\": [\n",
    "        (datetime(2022, 1, 4)), \n",
    "        (datetime(2022, 1, 4)), \n",
    "        (datetime(2022, 1, 4)), \n",
    "        (datetime(2022, 1, 9)), \n",
    "        (datetime(2022, 1, 9)), \n",
    "        (datetime(2022, 1, 9))],\n",
    "})"
   ]
  },
  {
   "cell_type": "code",
   "execution_count": 292,
   "id": "baa66ae6",
   "metadata": {},
   "outputs": [
    {
     "data": {
      "text/plain": [
       "[shape: (2, 4)\n",
       " ┌─────────┬───────┬────────┬─────────────────────┐\n",
       " │ integer ┆ float ┆ string ┆ datetime            │\n",
       " │ ---     ┆ ---   ┆ ---    ┆ ---                 │\n",
       " │ i64     ┆ f64   ┆ str    ┆ datetime[μs]        │\n",
       " ╞═════════╪═══════╪════════╪═════════════════════╡\n",
       " │ 1       ┆ 1.0   ┆ a      ┆ 2022-01-04 00:00:00 │\n",
       " │ 1       ┆ 2.0   ┆ b      ┆ 2022-01-04 00:00:00 │\n",
       " └─────────┴───────┴────────┴─────────────────────┘,\n",
       " shape: (2, 4)\n",
       " ┌─────────┬───────┬────────┬─────────────────────┐\n",
       " │ integer ┆ float ┆ string ┆ datetime            │\n",
       " │ ---     ┆ ---   ┆ ---    ┆ ---                 │\n",
       " │ i64     ┆ f64   ┆ str    ┆ datetime[μs]        │\n",
       " ╞═════════╪═══════╪════════╪═════════════════════╡\n",
       " │ 2       ┆ 3.0   ┆ c      ┆ 2022-01-04 00:00:00 │\n",
       " │ 2       ┆ 4.0   ┆ d      ┆ 2022-01-09 00:00:00 │\n",
       " └─────────┴───────┴────────┴─────────────────────┘,\n",
       " shape: (2, 4)\n",
       " ┌─────────┬───────┬────────┬─────────────────────┐\n",
       " │ integer ┆ float ┆ string ┆ datetime            │\n",
       " │ ---     ┆ ---   ┆ ---    ┆ ---                 │\n",
       " │ i64     ┆ f64   ┆ str    ┆ datetime[μs]        │\n",
       " ╞═════════╪═══════╪════════╪═════════════════════╡\n",
       " │ 3       ┆ 5.0   ┆ e      ┆ 2022-01-09 00:00:00 │\n",
       " │ 3       ┆ 6.0   ┆ f      ┆ 2022-01-09 00:00:00 │\n",
       " └─────────┴───────┴────────┴─────────────────────┘]"
      ]
     },
     "execution_count": 287,
     "metadata": {},
     "output_type": "execute_result"
    }
   ],
   "source": [
    "df2.partition_by(\"integer\")"
   ]
  },
  {
   "cell_type": "code",
   "execution_count": 293,
   "id": "82eea6ba",
   "metadata": {},
   "outputs": [
    {
     "data": {
      "text/html": [
       "<div>\n",
       "<style scoped>\n",
       "    .dataframe tbody tr th:only-of-type {\n",
       "        vertical-align: middle;\n",
       "    }\n",
       "\n",
       "    .dataframe tbody tr th {\n",
       "        vertical-align: top;\n",
       "    }\n",
       "\n",
       "    .dataframe thead th {\n",
       "        text-align: right;\n",
       "    }\n",
       "\n",
       "    .dataframe td {\n",
       "        white-space: pre;\n",
       "    }\n",
       "\n",
       "    .dataframe td {\n",
       "        padding-top: 0;\n",
       "    }\n",
       "\n",
       "    .dataframe td {\n",
       "        padding-bottom: 0;\n",
       "    }\n",
       "\n",
       "    .dataframe td {\n",
       "        line-height: 95%;\n",
       "    }\n",
       "</style>\n",
       "<table border=\"1\" class=\"dataframe\">\n",
       "<small>shape: (3, 2)</small>\n",
       "<thead>\n",
       "<tr>\n",
       "<th>\n",
       "integer\n",
       "</th>\n",
       "<th>\n",
       "count\n",
       "</th>\n",
       "</tr>\n",
       "<tr>\n",
       "<td>\n",
       "i64\n",
       "</td>\n",
       "<td>\n",
       "u32\n",
       "</td>\n",
       "</tr>\n",
       "</thead>\n",
       "<tbody>\n",
       "<tr>\n",
       "<td>\n",
       "2\n",
       "</td>\n",
       "<td>\n",
       "2\n",
       "</td>\n",
       "</tr>\n",
       "<tr>\n",
       "<td>\n",
       "1\n",
       "</td>\n",
       "<td>\n",
       "2\n",
       "</td>\n",
       "</tr>\n",
       "<tr>\n",
       "<td>\n",
       "3\n",
       "</td>\n",
       "<td>\n",
       "2\n",
       "</td>\n",
       "</tr>\n",
       "</tbody>\n",
       "</table>\n",
       "</div>"
      ],
      "text/plain": [
       "shape: (3, 2)\n",
       "┌─────────┬───────┐\n",
       "│ integer ┆ count │\n",
       "│ ---     ┆ ---   │\n",
       "│ i64     ┆ u32   │\n",
       "╞═════════╪═══════╡\n",
       "│ 2       ┆ 2     │\n",
       "│ 1       ┆ 2     │\n",
       "│ 3       ┆ 2     │\n",
       "└─────────┴───────┘"
      ]
     },
     "execution_count": 288,
     "metadata": {},
     "output_type": "execute_result"
    }
   ],
   "source": [
    "groupper = df2.groupby(\"integer\")\n",
    "groupper.count()"
   ]
  },
  {
   "cell_type": "code",
   "execution_count": 294,
   "id": "757a188e",
   "metadata": {},
   "outputs": [
    {
     "data": {
      "text/html": [
       "<div>\n",
       "<style scoped>\n",
       "    .dataframe tbody tr th:only-of-type {\n",
       "        vertical-align: middle;\n",
       "    }\n",
       "\n",
       "    .dataframe tbody tr th {\n",
       "        vertical-align: top;\n",
       "    }\n",
       "\n",
       "    .dataframe thead th {\n",
       "        text-align: right;\n",
       "    }\n",
       "\n",
       "    .dataframe td {\n",
       "        white-space: pre;\n",
       "    }\n",
       "\n",
       "    .dataframe td {\n",
       "        padding-top: 0;\n",
       "    }\n",
       "\n",
       "    .dataframe td {\n",
       "        padding-bottom: 0;\n",
       "    }\n",
       "\n",
       "    .dataframe td {\n",
       "        line-height: 95%;\n",
       "    }\n",
       "</style>\n",
       "<table border=\"1\" class=\"dataframe\">\n",
       "<small>shape: (3, 4)</small>\n",
       "<thead>\n",
       "<tr>\n",
       "<th>\n",
       "integer\n",
       "</th>\n",
       "<th>\n",
       "float\n",
       "</th>\n",
       "<th>\n",
       "string\n",
       "</th>\n",
       "<th>\n",
       "datetime\n",
       "</th>\n",
       "</tr>\n",
       "<tr>\n",
       "<td>\n",
       "i64\n",
       "</td>\n",
       "<td>\n",
       "f64\n",
       "</td>\n",
       "<td>\n",
       "str\n",
       "</td>\n",
       "<td>\n",
       "datetime[μs]\n",
       "</td>\n",
       "</tr>\n",
       "</thead>\n",
       "<tbody>\n",
       "<tr>\n",
       "<td>\n",
       "2\n",
       "</td>\n",
       "<td>\n",
       "7.0\n",
       "</td>\n",
       "<td>\n",
       "null\n",
       "</td>\n",
       "<td>\n",
       "2074-01-12 00:00:00\n",
       "</td>\n",
       "</tr>\n",
       "<tr>\n",
       "<td>\n",
       "1\n",
       "</td>\n",
       "<td>\n",
       "3.0\n",
       "</td>\n",
       "<td>\n",
       "null\n",
       "</td>\n",
       "<td>\n",
       "2074-01-07 00:00:00\n",
       "</td>\n",
       "</tr>\n",
       "<tr>\n",
       "<td>\n",
       "3\n",
       "</td>\n",
       "<td>\n",
       "11.0\n",
       "</td>\n",
       "<td>\n",
       "null\n",
       "</td>\n",
       "<td>\n",
       "2074-01-17 00:00:00\n",
       "</td>\n",
       "</tr>\n",
       "</tbody>\n",
       "</table>\n",
       "</div>"
      ],
      "text/plain": [
       "shape: (3, 4)\n",
       "┌─────────┬───────┬────────┬─────────────────────┐\n",
       "│ integer ┆ float ┆ string ┆ datetime            │\n",
       "│ ---     ┆ ---   ┆ ---    ┆ ---                 │\n",
       "│ i64     ┆ f64   ┆ str    ┆ datetime[μs]        │\n",
       "╞═════════╪═══════╪════════╪═════════════════════╡\n",
       "│ 2       ┆ 7.0   ┆ null   ┆ 2074-01-12 00:00:00 │\n",
       "│ 1       ┆ 3.0   ┆ null   ┆ 2074-01-07 00:00:00 │\n",
       "│ 3       ┆ 11.0  ┆ null   ┆ 2074-01-17 00:00:00 │\n",
       "└─────────┴───────┴────────┴─────────────────────┘"
      ]
     },
     "execution_count": 289,
     "metadata": {},
     "output_type": "execute_result"
    }
   ],
   "source": [
    "groupper.sum()"
   ]
  },
  {
   "cell_type": "markdown",
   "id": "4c955dec",
   "metadata": {},
   "source": [
    "Groupby a fixed time window with `df.groupby_dynamic()`:"
   ]
  },
  {
   "cell_type": "code",
   "execution_count": 295,
   "id": "11708162",
   "metadata": {},
   "outputs": [
    {
     "data": {
      "text/html": [
       "<div>\n",
       "<style scoped>\n",
       "    .dataframe tbody tr th:only-of-type {\n",
       "        vertical-align: middle;\n",
       "    }\n",
       "\n",
       "    .dataframe tbody tr th {\n",
       "        vertical-align: top;\n",
       "    }\n",
       "\n",
       "    .dataframe thead th {\n",
       "        text-align: right;\n",
       "    }\n",
       "\n",
       "    .dataframe td {\n",
       "        white-space: pre;\n",
       "    }\n",
       "\n",
       "    .dataframe td {\n",
       "        padding-top: 0;\n",
       "    }\n",
       "\n",
       "    .dataframe td {\n",
       "        padding-bottom: 0;\n",
       "    }\n",
       "\n",
       "    .dataframe td {\n",
       "        line-height: 95%;\n",
       "    }\n",
       "</style>\n",
       "<table border=\"1\" class=\"dataframe\">\n",
       "<small>shape: (2, 2)</small>\n",
       "<thead>\n",
       "<tr>\n",
       "<th>\n",
       "datetime\n",
       "</th>\n",
       "<th>\n",
       "float\n",
       "</th>\n",
       "</tr>\n",
       "<tr>\n",
       "<td>\n",
       "datetime[μs]\n",
       "</td>\n",
       "<td>\n",
       "f64\n",
       "</td>\n",
       "</tr>\n",
       "</thead>\n",
       "<tbody>\n",
       "<tr>\n",
       "<td>\n",
       "2022-01-04 00:00:00\n",
       "</td>\n",
       "<td>\n",
       "6.0\n",
       "</td>\n",
       "</tr>\n",
       "<tr>\n",
       "<td>\n",
       "2022-01-09 00:00:00\n",
       "</td>\n",
       "<td>\n",
       "15.0\n",
       "</td>\n",
       "</tr>\n",
       "</tbody>\n",
       "</table>\n",
       "</div>"
      ],
      "text/plain": [
       "shape: (2, 2)\n",
       "┌─────────────────────┬───────┐\n",
       "│ datetime            ┆ float │\n",
       "│ ---                 ┆ ---   │\n",
       "│ datetime[μs]        ┆ f64   │\n",
       "╞═════════════════════╪═══════╡\n",
       "│ 2022-01-04 00:00:00 ┆ 6.0   │\n",
       "│ 2022-01-09 00:00:00 ┆ 15.0  │\n",
       "└─────────────────────┴───────┘"
      ]
     },
     "execution_count": 290,
     "metadata": {},
     "output_type": "execute_result"
    }
   ],
   "source": [
    "(\n",
    "  df2\n",
    "  .groupby_dynamic(index_column=\"datetime\", every=\"1d\")\n",
    "  .agg(pl.col(\"float\").sum())\n",
    ")"
   ]
  },
  {
   "cell_type": "markdown",
   "id": "618dcbf0",
   "metadata": {},
   "source": [
    "If you do not want a single summary per period, rather, a window at each datapoint, use `df.groupby_rolling()`:"
   ]
  },
  {
   "cell_type": "code",
   "execution_count": 296,
   "id": "ecd2c37f",
   "metadata": {},
   "outputs": [
    {
     "data": {
      "text/html": [
       "<div>\n",
       "<style scoped>\n",
       "    .dataframe tbody tr th:only-of-type {\n",
       "        vertical-align: middle;\n",
       "    }\n",
       "\n",
       "    .dataframe tbody tr th {\n",
       "        vertical-align: top;\n",
       "    }\n",
       "\n",
       "    .dataframe thead th {\n",
       "        text-align: right;\n",
       "    }\n",
       "\n",
       "    .dataframe td {\n",
       "        white-space: pre;\n",
       "    }\n",
       "\n",
       "    .dataframe td {\n",
       "        padding-top: 0;\n",
       "    }\n",
       "\n",
       "    .dataframe td {\n",
       "        padding-bottom: 0;\n",
       "    }\n",
       "\n",
       "    .dataframe td {\n",
       "        line-height: 95%;\n",
       "    }\n",
       "</style>\n",
       "<table border=\"1\" class=\"dataframe\">\n",
       "<small>shape: (6, 2)</small>\n",
       "<thead>\n",
       "<tr>\n",
       "<th>\n",
       "datetime\n",
       "</th>\n",
       "<th>\n",
       "float\n",
       "</th>\n",
       "</tr>\n",
       "<tr>\n",
       "<td>\n",
       "datetime[μs]\n",
       "</td>\n",
       "<td>\n",
       "f64\n",
       "</td>\n",
       "</tr>\n",
       "</thead>\n",
       "<tbody>\n",
       "<tr>\n",
       "<td>\n",
       "2022-01-04 00:00:00\n",
       "</td>\n",
       "<td>\n",
       "1.0\n",
       "</td>\n",
       "</tr>\n",
       "<tr>\n",
       "<td>\n",
       "2022-01-04 00:00:00\n",
       "</td>\n",
       "<td>\n",
       "3.0\n",
       "</td>\n",
       "</tr>\n",
       "<tr>\n",
       "<td>\n",
       "2022-01-04 00:00:00\n",
       "</td>\n",
       "<td>\n",
       "6.0\n",
       "</td>\n",
       "</tr>\n",
       "<tr>\n",
       "<td>\n",
       "2022-01-09 00:00:00\n",
       "</td>\n",
       "<td>\n",
       "4.0\n",
       "</td>\n",
       "</tr>\n",
       "<tr>\n",
       "<td>\n",
       "2022-01-09 00:00:00\n",
       "</td>\n",
       "<td>\n",
       "9.0\n",
       "</td>\n",
       "</tr>\n",
       "<tr>\n",
       "<td>\n",
       "2022-01-09 00:00:00\n",
       "</td>\n",
       "<td>\n",
       "15.0\n",
       "</td>\n",
       "</tr>\n",
       "</tbody>\n",
       "</table>\n",
       "</div>"
      ],
      "text/plain": [
       "shape: (6, 2)\n",
       "┌─────────────────────┬───────┐\n",
       "│ datetime            ┆ float │\n",
       "│ ---                 ┆ ---   │\n",
       "│ datetime[μs]        ┆ f64   │\n",
       "╞═════════════════════╪═══════╡\n",
       "│ 2022-01-04 00:00:00 ┆ 1.0   │\n",
       "│ 2022-01-04 00:00:00 ┆ 3.0   │\n",
       "│ 2022-01-04 00:00:00 ┆ 6.0   │\n",
       "│ 2022-01-09 00:00:00 ┆ 4.0   │\n",
       "│ 2022-01-09 00:00:00 ┆ 9.0   │\n",
       "│ 2022-01-09 00:00:00 ┆ 15.0  │\n",
       "└─────────────────────┴───────┘"
      ]
     },
     "execution_count": 291,
     "metadata": {},
     "output_type": "execute_result"
    }
   ],
   "source": [
    "(\n",
    "  df2\n",
    "  .groupby_rolling(index_column=\"datetime\", period='1d')\n",
    "  .agg(pl.col(\"float\").sum())\n",
    ")"
   ]
  },
  {
   "cell_type": "markdown",
   "id": "e8e43fd9",
   "metadata": {},
   "source": [
    "# Query Planning and Optimization\n",
    "\n",
    "The take-home of this section, is that polar can take advantage of half-a-century's worth of research in query planning and optimization.\n",
    "You will not have to think about the right order of operations, or the right data structures to use. \n",
    "Rather, replace the polars dataframe with a polars lazy-dataframe, state all the operations you want, and just finish with a `collect()`.\n",
    "Polars will take care of the rest, and provide you with the tools to understand its plan. \n",
    "\n",
    "We will not go into the details of the difference between a lazy and a non-lazy dataframe.\n",
    "Just assume a lazy frame allows everything a non-lazy frame can do, but it does not execute the operations until you call `collect()`.\n",
    "This is not entirely true, but you will get an informative error if you try to do something that is not supported.\n",
    "\n",
    "\n",
    "Get your lazy dataframe:"
   ]
  },
  {
   "cell_type": "code",
   "execution_count": 297,
   "id": "656d5bfb",
   "metadata": {},
   "outputs": [],
   "source": [
    "df_lazy = df.lazy()"
   ]
  },
  {
   "cell_type": "markdown",
   "id": "79d81b48",
   "metadata": {},
   "source": [
    "State all your operations:"
   ]
  },
  {
   "cell_type": "code",
   "execution_count": 298,
   "id": "bc4daa71",
   "metadata": {},
   "outputs": [],
   "source": [
    "q = (\n",
    "  df_lazy\n",
    "  .filter(pl.col(\"float\") > 2.0)\n",
    "  .filter(pl.col(\"float\") > 3.0)\n",
    "  .filter(pl.col(\"float\") > 7.0)\n",
    "  .select([\"integer\"])\n",
    "  .sort(\"integer\")\n",
    ")"
   ]
  },
  {
   "cell_type": "markdown",
   "id": "0b1f2fed",
   "metadata": {},
   "source": [
    "And now visualize the query. "
   ]
  },
  {
   "cell_type": "code",
   "execution_count": 299,
   "id": "c89202c8",
   "metadata": {},
   "outputs": [
    {
     "data": {
      "text/html": [
       "<h4>NAIVE QUERY PLAN</h4><p>run <b>LazyFrame.show_graph()</b> to see the optimized version</p><?xml version=\"1.0\" encoding=\"UTF-8\" standalone=\"no\"?>\n",
       "<!DOCTYPE svg PUBLIC \"-//W3C//DTD SVG 1.1//EN\"\n",
       " \"http://www.w3.org/Graphics/SVG/1.1/DTD/svg11.dtd\">\n",
       "<!-- Generated by graphviz version 2.43.0 (0)\n",
       " -->\n",
       "<!-- Title: polars_query Pages: 1 -->\n",
       "<svg width=\"258pt\" height=\"421pt\"\n",
       " viewBox=\"0.00 0.00 258.00 421.00\" xmlns=\"http://www.w3.org/2000/svg\" xmlns:xlink=\"http://www.w3.org/1999/xlink\">\n",
       "<g id=\"graph0\" class=\"graph\" transform=\"scale(1 1) rotate(0) translate(4 417)\">\n",
       "<title>polars_query</title>\n",
       "<polygon fill=\"white\" stroke=\"transparent\" points=\"-4,4 -4,-417 254,-417 254,4 -4,4\"/>\n",
       "<!-- SORT BY [col(&quot;integer&quot;)] [(0, 0)] -->\n",
       "<g id=\"node1\" class=\"node\">\n",
       "<title>SORT BY [col(&quot;integer&quot;)] [(0, 0)]</title>\n",
       "<polygon fill=\"none\" stroke=\"black\" points=\"221,-413 29,-413 29,-377 221,-377 221,-413\"/>\n",
       "<text text-anchor=\"middle\" x=\"125\" y=\"-391.3\" font-family=\"Times,serif\" font-size=\"14.00\">SORT BY [col(&quot;integer&quot;)]</text>\n",
       "</g>\n",
       "<!-- π 1/4 [(0, 1)] -->\n",
       "<g id=\"node2\" class=\"node\">\n",
       "<title>π 1/4 [(0, 1)]</title>\n",
       "<polygon fill=\"none\" stroke=\"black\" points=\"152,-341 98,-341 98,-305 152,-305 152,-341\"/>\n",
       "<text text-anchor=\"middle\" x=\"125\" y=\"-319.3\" font-family=\"Times,serif\" font-size=\"14.00\">π 1/4</text>\n",
       "</g>\n",
       "<!-- SORT BY [col(&quot;integer&quot;)] [(0, 0)]&#45;&#45;π 1/4 [(0, 1)] -->\n",
       "<g id=\"edge1\" class=\"edge\">\n",
       "<title>SORT BY [col(&quot;integer&quot;)] [(0, 0)]&#45;&#45;π 1/4 [(0, 1)]</title>\n",
       "<path fill=\"none\" stroke=\"black\" d=\"M125,-376.7C125,-365.85 125,-351.92 125,-341.1\"/>\n",
       "</g>\n",
       "<!-- FILTER BY (col(&quot;float&quot;)) &gt; (7f64) [(0, 2)] -->\n",
       "<g id=\"node3\" class=\"node\">\n",
       "<title>FILTER BY (col(&quot;float&quot;)) &gt; (7f64) [(0, 2)]</title>\n",
       "<polygon fill=\"none\" stroke=\"black\" points=\"250,-269 0,-269 0,-233 250,-233 250,-269\"/>\n",
       "<text text-anchor=\"middle\" x=\"125\" y=\"-247.3\" font-family=\"Times,serif\" font-size=\"14.00\">FILTER BY (col(&quot;float&quot;)) &gt; (7f64)</text>\n",
       "</g>\n",
       "<!-- π 1/4 [(0, 1)]&#45;&#45;FILTER BY (col(&quot;float&quot;)) &gt; (7f64) [(0, 2)] -->\n",
       "<g id=\"edge2\" class=\"edge\">\n",
       "<title>π 1/4 [(0, 1)]&#45;&#45;FILTER BY (col(&quot;float&quot;)) &gt; (7f64) [(0, 2)]</title>\n",
       "<path fill=\"none\" stroke=\"black\" d=\"M125,-304.7C125,-293.85 125,-279.92 125,-269.1\"/>\n",
       "</g>\n",
       "<!-- FILTER BY (col(&quot;float&quot;)) &gt; (3f64) [(0, 3)] -->\n",
       "<g id=\"node4\" class=\"node\">\n",
       "<title>FILTER BY (col(&quot;float&quot;)) &gt; (3f64) [(0, 3)]</title>\n",
       "<polygon fill=\"none\" stroke=\"black\" points=\"250,-197 0,-197 0,-161 250,-161 250,-197\"/>\n",
       "<text text-anchor=\"middle\" x=\"125\" y=\"-175.3\" font-family=\"Times,serif\" font-size=\"14.00\">FILTER BY (col(&quot;float&quot;)) &gt; (3f64)</text>\n",
       "</g>\n",
       "<!-- FILTER BY (col(&quot;float&quot;)) &gt; (7f64) [(0, 2)]&#45;&#45;FILTER BY (col(&quot;float&quot;)) &gt; (3f64) [(0, 3)] -->\n",
       "<g id=\"edge3\" class=\"edge\">\n",
       "<title>FILTER BY (col(&quot;float&quot;)) &gt; (7f64) [(0, 2)]&#45;&#45;FILTER BY (col(&quot;float&quot;)) &gt; (3f64) [(0, 3)]</title>\n",
       "<path fill=\"none\" stroke=\"black\" d=\"M125,-232.7C125,-221.85 125,-207.92 125,-197.1\"/>\n",
       "</g>\n",
       "<!-- FILTER BY (col(&quot;float&quot;)) &gt; (2f64) [(0, 4)] -->\n",
       "<g id=\"node5\" class=\"node\">\n",
       "<title>FILTER BY (col(&quot;float&quot;)) &gt; (2f64) [(0, 4)]</title>\n",
       "<polygon fill=\"none\" stroke=\"black\" points=\"250,-125 0,-125 0,-89 250,-89 250,-125\"/>\n",
       "<text text-anchor=\"middle\" x=\"125\" y=\"-103.3\" font-family=\"Times,serif\" font-size=\"14.00\">FILTER BY (col(&quot;float&quot;)) &gt; (2f64)</text>\n",
       "</g>\n",
       "<!-- FILTER BY (col(&quot;float&quot;)) &gt; (3f64) [(0, 3)]&#45;&#45;FILTER BY (col(&quot;float&quot;)) &gt; (2f64) [(0, 4)] -->\n",
       "<g id=\"edge4\" class=\"edge\">\n",
       "<title>FILTER BY (col(&quot;float&quot;)) &gt; (3f64) [(0, 3)]&#45;&#45;FILTER BY (col(&quot;float&quot;)) &gt; (2f64) [(0, 4)]</title>\n",
       "<path fill=\"none\" stroke=\"black\" d=\"M125,-160.7C125,-149.85 125,-135.92 125,-125.1\"/>\n",
       "</g>\n",
       "<!-- TABLE\n",
       "π */4;\n",
       "σ &#45;; [(0, 5)] -->\n",
       "<g id=\"node6\" class=\"node\">\n",
       "<title>TABLE\n",
       "π */4;\n",
       "σ &#45;; [(0, 5)]</title>\n",
       "<polygon fill=\"none\" stroke=\"black\" points=\"157.5,-53 92.5,-53 92.5,0 157.5,0 157.5,-53\"/>\n",
       "<text text-anchor=\"middle\" x=\"125\" y=\"-37.8\" font-family=\"Times,serif\" font-size=\"14.00\">TABLE</text>\n",
       "<text text-anchor=\"middle\" x=\"125\" y=\"-22.8\" font-family=\"Times,serif\" font-size=\"14.00\">π */4;</text>\n",
       "<text text-anchor=\"middle\" x=\"125\" y=\"-7.8\" font-family=\"Times,serif\" font-size=\"14.00\">σ &#45;;</text>\n",
       "</g>\n",
       "<!-- FILTER BY (col(&quot;float&quot;)) &gt; (2f64) [(0, 4)]&#45;&#45;TABLE\n",
       "π */4;\n",
       "σ &#45;; [(0, 5)] -->\n",
       "<g id=\"edge5\" class=\"edge\">\n",
       "<title>FILTER BY (col(&quot;float&quot;)) &gt; (2f64) [(0, 4)]&#45;&#45;TABLE\n",
       "π */4;\n",
       "σ &#45;; [(0, 5)]</title>\n",
       "<path fill=\"none\" stroke=\"black\" d=\"M125,-88.97C125,-78.51 125,-64.9 125,-53.16\"/>\n",
       "</g>\n",
       "</g>\n",
       "</svg>\n"
      ],
      "text/plain": [
       "<polars.LazyFrame object at 0x7F4F8B2BB040>"
      ]
     },
     "execution_count": 294,
     "metadata": {},
     "output_type": "execute_result"
    }
   ],
   "source": [
    "q # same as q.show_graph(optimized=False)"
   ]
  },
  {
   "cell_type": "code",
   "execution_count": 300,
   "id": "6247fef3",
   "metadata": {},
   "outputs": [
    {
     "data": {
      "image/svg+xml": [
       "<svg xmlns=\"http://www.w3.org/2000/svg\" xmlns:xlink=\"http://www.w3.org/1999/xlink\" width=\"218pt\" height=\"205pt\" viewBox=\"0.00 0.00 218.00 205.00\">\n",
       "<g id=\"graph0\" class=\"graph\" transform=\"scale(1 1) rotate(0) translate(4 201)\">\n",
       "<title>polars_query</title>\n",
       "<polygon fill=\"white\" stroke=\"transparent\" points=\"-4,4 -4,-201 214,-201 214,4 -4,4\"/>\n",
       "<!-- SORT BY [col(&quot;integer&quot;)] [(0, 0)] -->\n",
       "<g id=\"node1\" class=\"node\">\n",
       "<title>SORT BY [col(&quot;integer&quot;)] [(0, 0)]</title>\n",
       "<polygon fill=\"none\" stroke=\"black\" points=\"201,-197 9,-197 9,-161 201,-161 201,-197\"/>\n",
       "<text text-anchor=\"middle\" x=\"105\" y=\"-175.3\" font-family=\"Times,serif\" font-size=\"14.00\">SORT BY [col(&quot;integer&quot;)]</text>\n",
       "</g>\n",
       "<!-- FAST_PROJECT: [integer] [(0, 1)] -->\n",
       "<g id=\"node2\" class=\"node\">\n",
       "<title>FAST_PROJECT: [integer] [(0, 1)]</title>\n",
       "<polygon fill=\"none\" stroke=\"black\" points=\"204.5,-125 5.5,-125 5.5,-89 204.5,-89 204.5,-125\"/>\n",
       "<text text-anchor=\"middle\" x=\"105\" y=\"-103.3\" font-family=\"Times,serif\" font-size=\"14.00\">FAST_PROJECT: [integer]</text>\n",
       "</g>\n",
       "<!-- SORT BY [col(&quot;integer&quot;)] [(0, 0)]&#45;&#45;FAST_PROJECT: [integer] [(0, 1)] -->\n",
       "<g id=\"edge1\" class=\"edge\">\n",
       "<title>SORT BY [col(&quot;integer&quot;)] [(0, 0)]--FAST_PROJECT: [integer] [(0, 1)]</title>\n",
       "<path fill=\"none\" stroke=\"black\" d=\"M105,-160.7C105,-149.85 105,-135.92 105,-125.1\"/>\n",
       "</g>\n",
       "<!-- TABLE\n",
       "π 2/4;\n",
       "σ ((col(&quot;float&quot;)) &gt; (2f64))...; [(0, 2)] -->\n",
       "<g id=\"node3\" class=\"node\">\n",
       "<title>TABLE\n",
       "π 2/4;\n",
       "σ ((col(&quot;float&quot;)) &gt; (2f64))...; [(0, 2)]</title>\n",
       "<polygon fill=\"none\" stroke=\"black\" points=\"210,-53 0,-53 0,0 210,0 210,-53\"/>\n",
       "<text text-anchor=\"middle\" x=\"105\" y=\"-37.8\" font-family=\"Times,serif\" font-size=\"14.00\">TABLE</text>\n",
       "<text text-anchor=\"middle\" x=\"105\" y=\"-22.8\" font-family=\"Times,serif\" font-size=\"14.00\">π 2/4;</text>\n",
       "<text text-anchor=\"middle\" x=\"105\" y=\"-7.8\" font-family=\"Times,serif\" font-size=\"14.00\">σ ((col(&quot;float&quot;)) &gt; (2f64))...;</text>\n",
       "</g>\n",
       "<!-- FAST_PROJECT: [integer] [(0, 1)]&#45;&#45;TABLE\n",
       "π 2/4;\n",
       "σ ((col(&quot;float&quot;)) &gt; (2f64))...; [(0, 2)] -->\n",
       "<g id=\"edge2\" class=\"edge\">\n",
       "<title>FAST_PROJECT: [integer] [(0, 1)]--TABLE\n",
       "π 2/4;\n",
       "σ ((col(&quot;float&quot;)) &gt; (2f64))...; [(0, 2)]</title>\n",
       "<path fill=\"none\" stroke=\"black\" d=\"M105,-88.97C105,-78.51 105,-64.9 105,-53.16\"/>\n",
       "</g>\n",
       "</g>\n",
       "</svg>"
      ],
      "text/plain": [
       "<IPython.core.display.SVG object>"
      ]
     },
     "metadata": {},
     "output_type": "display_data"
    }
   ],
   "source": [
    "q.show_graph(optimized=True)"
   ]
  },
  {
   "cell_type": "markdown",
   "id": "7eddf79a",
   "metadata": {},
   "source": [
    "Things to note:\n",
    "\n",
    "- You will need Graphviz installed to visualize the query plan.\n",
    "- To understand the plan, you need some terminology from [relational databases](https://www.ibm.com/docs/en/informix-servers/14.10?topic=concepts-selection-projection). Namely:\n",
    "  -  A _selection_ is a subset of rows, marked in the graph with a $$\\sigma$$. \n",
    "  - A _projection_ is a subset of columns, marked in the graph with a $$\\pi$$.\n",
    "- The optimized plan removes redudancies, and orders the operations in the most efficient way.\n",
    "\n",
    "\n",
    "You can now execute the plan with a `collect()`:"
   ]
  },
  {
   "cell_type": "code",
   "execution_count": 301,
   "id": "5a5daf68",
   "metadata": {},
   "outputs": [
    {
     "data": {
      "text/html": [
       "<div>\n",
       "<style scoped>\n",
       "    .dataframe tbody tr th:only-of-type {\n",
       "        vertical-align: middle;\n",
       "    }\n",
       "\n",
       "    .dataframe tbody tr th {\n",
       "        vertical-align: top;\n",
       "    }\n",
       "\n",
       "    .dataframe thead th {\n",
       "        text-align: right;\n",
       "    }\n",
       "\n",
       "    .dataframe td {\n",
       "        white-space: pre;\n",
       "    }\n",
       "\n",
       "    .dataframe td {\n",
       "        padding-top: 0;\n",
       "    }\n",
       "\n",
       "    .dataframe td {\n",
       "        padding-bottom: 0;\n",
       "    }\n",
       "\n",
       "    .dataframe td {\n",
       "        line-height: 95%;\n",
       "    }\n",
       "</style>\n",
       "<table border=\"1\" class=\"dataframe\">\n",
       "<small>shape: (2, 1)</small>\n",
       "<thead>\n",
       "<tr>\n",
       "<th>\n",
       "integer\n",
       "</th>\n",
       "</tr>\n",
       "<tr>\n",
       "<td>\n",
       "i64\n",
       "</td>\n",
       "</tr>\n",
       "</thead>\n",
       "<tbody>\n",
       "<tr>\n",
       "<td>\n",
       "2\n",
       "</td>\n",
       "</tr>\n",
       "<tr>\n",
       "<td>\n",
       "3\n",
       "</td>\n",
       "</tr>\n",
       "</tbody>\n",
       "</table>\n",
       "</div>"
      ],
      "text/plain": [
       "shape: (2, 1)\n",
       "┌─────────┐\n",
       "│ integer │\n",
       "│ ---     │\n",
       "│ i64     │\n",
       "╞═════════╡\n",
       "│ 2       │\n",
       "│ 3       │\n",
       "└─────────┘"
      ]
     },
     "execution_count": 296,
     "metadata": {},
     "output_type": "execute_result"
    }
   ],
   "source": [
    "q.collect()"
   ]
  },
  {
   "cell_type": "code",
   "execution_count": 302,
   "id": "a567df57",
   "metadata": {},
   "outputs": [
    {
     "data": {
      "text/plain": [
       "'  SORT BY [col(\"integer\")]\\n     SELECT [col(\"integer\")] FROM\\n      FILTER [(col(\"float\")) > (7f64)] FROM\\n        FILTER [(col(\"float\")) > (3f64)] FROM\\n          FILTER [(col(\"float\")) > (2f64)] FROM\\n            DF [\"integer\", \"date\", \"float\", \"string\"]; PROJECT */4 COLUMNS; SELECTION: \"None\"\\n'"
      ]
     },
     "execution_count": 297,
     "metadata": {},
     "output_type": "execute_result"
    }
   ],
   "source": [
    "q.describe_plan()"
   ]
  },
  {
   "cell_type": "markdown",
   "id": "131fe2aa",
   "metadata": {},
   "source": [
    "For early stopping you can replace `collect()` with `fetch()`: "
   ]
  },
  {
   "cell_type": "code",
   "execution_count": 303,
   "id": "1f99dd2d",
   "metadata": {},
   "outputs": [
    {
     "data": {
      "text/html": [
       "<div>\n",
       "<style scoped>\n",
       "    .dataframe tbody tr th:only-of-type {\n",
       "        vertical-align: middle;\n",
       "    }\n",
       "\n",
       "    .dataframe tbody tr th {\n",
       "        vertical-align: top;\n",
       "    }\n",
       "\n",
       "    .dataframe thead th {\n",
       "        text-align: right;\n",
       "    }\n",
       "\n",
       "    .dataframe td {\n",
       "        white-space: pre;\n",
       "    }\n",
       "\n",
       "    .dataframe td {\n",
       "        padding-top: 0;\n",
       "    }\n",
       "\n",
       "    .dataframe td {\n",
       "        padding-bottom: 0;\n",
       "    }\n",
       "\n",
       "    .dataframe td {\n",
       "        line-height: 95%;\n",
       "    }\n",
       "</style>\n",
       "<table border=\"1\" class=\"dataframe\">\n",
       "<small>shape: (2, 1)</small>\n",
       "<thead>\n",
       "<tr>\n",
       "<th>\n",
       "integer\n",
       "</th>\n",
       "</tr>\n",
       "<tr>\n",
       "<td>\n",
       "i64\n",
       "</td>\n",
       "</tr>\n",
       "</thead>\n",
       "<tbody>\n",
       "<tr>\n",
       "<td>\n",
       "2\n",
       "</td>\n",
       "</tr>\n",
       "<tr>\n",
       "<td>\n",
       "3\n",
       "</td>\n",
       "</tr>\n",
       "</tbody>\n",
       "</table>\n",
       "</div>"
      ],
      "text/plain": [
       "shape: (2, 1)\n",
       "┌─────────┐\n",
       "│ integer │\n",
       "│ ---     │\n",
       "│ i64     │\n",
       "╞═════════╡\n",
       "│ 2       │\n",
       "│ 3       │\n",
       "└─────────┘"
      ]
     },
     "execution_count": 298,
     "metadata": {},
     "output_type": "execute_result"
    }
   ],
   "source": [
    "q.fetch(2)"
   ]
  },
  {
   "cell_type": "markdown",
   "id": "2a92a2bc",
   "metadata": {},
   "source": [
    "# I/O\n",
    "\n",
    "You will find that polars is blazing fast at reading and writing data.\n",
    "This is due to:\n",
    "\n",
    "1. Very good heuristics/rules implemented in the `read_csv` function.\n",
    "1. The use of [Apache Arrow](https://arrow.apache.org/) as an internal data structure, which maps seamlesly to the parquet file format.\n",
    "1. Parallelism, whenever possible. \n",
    "1. Lazy scans/imports, which allows the materialization only of required data; i.e., filters and projections are executed at scan time.\n",
    "\n",
    "\n",
    "## Import\n",
    "\n",
    "### From a Single File\n",
    "\n",
    "Let's firs make a csv to import:"
   ]
  },
  {
   "cell_type": "code",
   "execution_count": 304,
   "id": "50c606d2",
   "metadata": {},
   "outputs": [],
   "source": [
    "df.write_csv(\"df.csv\")"
   ]
  },
  {
   "cell_type": "markdown",
   "id": "c9625481",
   "metadata": {},
   "source": [
    "Import the csv into a non-lazy frame:"
   ]
  },
  {
   "cell_type": "code",
   "execution_count": 305,
   "id": "4a19a563",
   "metadata": {},
   "outputs": [
    {
     "data": {
      "text/html": [
       "<div>\n",
       "<style scoped>\n",
       "    .dataframe tbody tr th:only-of-type {\n",
       "        vertical-align: middle;\n",
       "    }\n",
       "\n",
       "    .dataframe tbody tr th {\n",
       "        vertical-align: top;\n",
       "    }\n",
       "\n",
       "    .dataframe thead th {\n",
       "        text-align: right;\n",
       "    }\n",
       "\n",
       "    .dataframe td {\n",
       "        white-space: pre;\n",
       "    }\n",
       "\n",
       "    .dataframe td {\n",
       "        padding-top: 0;\n",
       "    }\n",
       "\n",
       "    .dataframe td {\n",
       "        padding-bottom: 0;\n",
       "    }\n",
       "\n",
       "    .dataframe td {\n",
       "        line-height: 95%;\n",
       "    }\n",
       "</style>\n",
       "<table border=\"1\" class=\"dataframe\">\n",
       "<small>shape: (6, 4)</small>\n",
       "<thead>\n",
       "<tr>\n",
       "<th>\n",
       "integer\n",
       "</th>\n",
       "<th>\n",
       "date\n",
       "</th>\n",
       "<th>\n",
       "float\n",
       "</th>\n",
       "<th>\n",
       "string\n",
       "</th>\n",
       "</tr>\n",
       "<tr>\n",
       "<td>\n",
       "i64\n",
       "</td>\n",
       "<td>\n",
       "str\n",
       "</td>\n",
       "<td>\n",
       "f64\n",
       "</td>\n",
       "<td>\n",
       "str\n",
       "</td>\n",
       "</tr>\n",
       "</thead>\n",
       "<tbody>\n",
       "<tr>\n",
       "<td>\n",
       "1\n",
       "</td>\n",
       "<td>\n",
       "&quot;2022-01-01T00:...\n",
       "</td>\n",
       "<td>\n",
       "4.0\n",
       "</td>\n",
       "<td>\n",
       "&quot;a&quot;\n",
       "</td>\n",
       "</tr>\n",
       "<tr>\n",
       "<td>\n",
       "2\n",
       "</td>\n",
       "<td>\n",
       "&quot;2022-01-02T00:...\n",
       "</td>\n",
       "<td>\n",
       "5.0\n",
       "</td>\n",
       "<td>\n",
       "&quot;b&quot;\n",
       "</td>\n",
       "</tr>\n",
       "<tr>\n",
       "<td>\n",
       "3\n",
       "</td>\n",
       "<td>\n",
       "&quot;2022-01-03T00:...\n",
       "</td>\n",
       "<td>\n",
       "6.0\n",
       "</td>\n",
       "<td>\n",
       "&quot;c&quot;\n",
       "</td>\n",
       "</tr>\n",
       "<tr>\n",
       "<td>\n",
       "1\n",
       "</td>\n",
       "<td>\n",
       "&quot;2022-01-04T00:...\n",
       "</td>\n",
       "<td>\n",
       "7.0\n",
       "</td>\n",
       "<td>\n",
       "&quot;d&quot;\n",
       "</td>\n",
       "</tr>\n",
       "<tr>\n",
       "<td>\n",
       "2\n",
       "</td>\n",
       "<td>\n",
       "&quot;2022-01-05T00:...\n",
       "</td>\n",
       "<td>\n",
       "8.0\n",
       "</td>\n",
       "<td>\n",
       "&quot;d&quot;\n",
       "</td>\n",
       "</tr>\n",
       "<tr>\n",
       "<td>\n",
       "3\n",
       "</td>\n",
       "<td>\n",
       "&quot;2022-01-06T00:...\n",
       "</td>\n",
       "<td>\n",
       "9.0\n",
       "</td>\n",
       "<td>\n",
       "&quot;d&quot;\n",
       "</td>\n",
       "</tr>\n",
       "</tbody>\n",
       "</table>\n",
       "</div>"
      ],
      "text/plain": [
       "shape: (6, 4)\n",
       "┌─────────┬────────────────────────────┬───────┬────────┐\n",
       "│ integer ┆ date                       ┆ float ┆ string │\n",
       "│ ---     ┆ ---                        ┆ ---   ┆ ---    │\n",
       "│ i64     ┆ str                        ┆ f64   ┆ str    │\n",
       "╞═════════╪════════════════════════════╪═══════╪════════╡\n",
       "│ 1       ┆ 2022-01-01T00:00:00.000000 ┆ 4.0   ┆ a      │\n",
       "│ 2       ┆ 2022-01-02T00:00:00.000000 ┆ 5.0   ┆ b      │\n",
       "│ 3       ┆ 2022-01-03T00:00:00.000000 ┆ 6.0   ┆ c      │\n",
       "│ 1       ┆ 2022-01-04T00:00:00.000000 ┆ 7.0   ┆ d      │\n",
       "│ 2       ┆ 2022-01-05T00:00:00.000000 ┆ 8.0   ┆ d      │\n",
       "│ 3       ┆ 2022-01-06T00:00:00.000000 ┆ 9.0   ┆ d      │\n",
       "└─────────┴────────────────────────────┴───────┴────────┘"
      ]
     },
     "execution_count": 300,
     "metadata": {},
     "output_type": "execute_result"
    }
   ],
   "source": [
    "pl.read_csv(\"df.csv\")"
   ]
  },
  {
   "cell_type": "markdown",
   "id": "3e0e9c59",
   "metadata": {},
   "source": [
    "Importing as a lazy frame:"
   ]
  },
  {
   "cell_type": "code",
   "execution_count": 306,
   "id": "f7100b15",
   "metadata": {},
   "outputs": [],
   "source": [
    "df_lazy = pl.scan_csv(\"df.csv\")"
   ]
  },
  {
   "cell_type": "markdown",
   "id": "d5b28c1a",
   "metadata": {},
   "source": [
    "Things become interesting when you manipulate the lazy frame before materializing it:"
   ]
  },
  {
   "cell_type": "code",
   "execution_count": 307,
   "id": "7c0066da",
   "metadata": {},
   "outputs": [
    {
     "data": {
      "image/svg+xml": [
       "<svg xmlns=\"http://www.w3.org/2000/svg\" xmlns:xlink=\"http://www.w3.org/1999/xlink\" width=\"214pt\" height=\"205pt\" viewBox=\"0.00 0.00 214.00 205.00\">\n",
       "<g id=\"graph0\" class=\"graph\" transform=\"scale(1 1) rotate(0) translate(4 201)\">\n",
       "<title>polars_query</title>\n",
       "<polygon fill=\"white\" stroke=\"transparent\" points=\"-4,4 -4,-201 210,-201 210,4 -4,4\"/>\n",
       "<!-- SORT BY [col(&quot;integer&quot;)] [(0, 0)] -->\n",
       "<g id=\"node1\" class=\"node\">\n",
       "<title>SORT BY [col(&quot;integer&quot;)] [(0, 0)]</title>\n",
       "<polygon fill=\"none\" stroke=\"black\" points=\"199,-197 7,-197 7,-161 199,-161 199,-197\"/>\n",
       "<text text-anchor=\"middle\" x=\"103\" y=\"-175.3\" font-family=\"Times,serif\" font-size=\"14.00\">SORT BY [col(&quot;integer&quot;)]</text>\n",
       "</g>\n",
       "<!-- FAST_PROJECT: [integer] [(0, 1)] -->\n",
       "<g id=\"node2\" class=\"node\">\n",
       "<title>FAST_PROJECT: [integer] [(0, 1)]</title>\n",
       "<polygon fill=\"none\" stroke=\"black\" points=\"202.5,-125 3.5,-125 3.5,-89 202.5,-89 202.5,-125\"/>\n",
       "<text text-anchor=\"middle\" x=\"103\" y=\"-103.3\" font-family=\"Times,serif\" font-size=\"14.00\">FAST_PROJECT: [integer]</text>\n",
       "</g>\n",
       "<!-- SORT BY [col(&quot;integer&quot;)] [(0, 0)]&#45;&#45;FAST_PROJECT: [integer] [(0, 1)] -->\n",
       "<g id=\"edge1\" class=\"edge\">\n",
       "<title>SORT BY [col(&quot;integer&quot;)] [(0, 0)]--FAST_PROJECT: [integer] [(0, 1)]</title>\n",
       "<path fill=\"none\" stroke=\"black\" d=\"M103,-160.7C103,-149.85 103,-135.92 103,-125.1\"/>\n",
       "</g>\n",
       "<!-- CSV SCAN df.csv;\n",
       "π 2/4;\n",
       "σ ((col(&quot;float&quot;)) &gt; (2f64))... [(0, 2)] -->\n",
       "<g id=\"node3\" class=\"node\">\n",
       "<title>CSV SCAN df.csv;\n",
       "π 2/4;\n",
       "σ ((col(&quot;float&quot;)) &gt; (2f64))... [(0, 2)]</title>\n",
       "<polygon fill=\"none\" stroke=\"black\" points=\"206,-53 0,-53 0,0 206,0 206,-53\"/>\n",
       "<text text-anchor=\"middle\" x=\"103\" y=\"-37.8\" font-family=\"Times,serif\" font-size=\"14.00\">CSV SCAN df.csv;</text>\n",
       "<text text-anchor=\"middle\" x=\"103\" y=\"-22.8\" font-family=\"Times,serif\" font-size=\"14.00\">π 2/4;</text>\n",
       "<text text-anchor=\"middle\" x=\"103\" y=\"-7.8\" font-family=\"Times,serif\" font-size=\"14.00\">σ ((col(&quot;float&quot;)) &gt; (2f64))...</text>\n",
       "</g>\n",
       "<!-- FAST_PROJECT: [integer] [(0, 1)]&#45;&#45;CSV SCAN df.csv;\n",
       "π 2/4;\n",
       "σ ((col(&quot;float&quot;)) &gt; (2f64))... [(0, 2)] -->\n",
       "<g id=\"edge2\" class=\"edge\">\n",
       "<title>FAST_PROJECT: [integer] [(0, 1)]--CSV SCAN df.csv;\n",
       "π 2/4;\n",
       "σ ((col(&quot;float&quot;)) &gt; (2f64))... [(0, 2)]</title>\n",
       "<path fill=\"none\" stroke=\"black\" d=\"M103,-88.97C103,-78.51 103,-64.9 103,-53.16\"/>\n",
       "</g>\n",
       "</g>\n",
       "</svg>"
      ],
      "text/plain": [
       "<IPython.core.display.SVG object>"
      ]
     },
     "metadata": {},
     "output_type": "display_data"
    }
   ],
   "source": [
    "q = (\n",
    "  df_lazy\n",
    "  .filter(pl.col(\"float\") > 2.0)\n",
    "  .filter(pl.col(\"float\") > 3.0)\n",
    "  .filter(pl.col(\"float\") > 7.0)\n",
    "  .select([\"integer\"])\n",
    "  .sort(\"integer\")\n",
    ")\n",
    "\n",
    "q.show_graph(optimized=True)"
   ]
  },
  {
   "cell_type": "code",
   "execution_count": 308,
   "id": "8295b1d2",
   "metadata": {},
   "outputs": [
    {
     "data": {
      "text/html": [
       "<div>\n",
       "<style scoped>\n",
       "    .dataframe tbody tr th:only-of-type {\n",
       "        vertical-align: middle;\n",
       "    }\n",
       "\n",
       "    .dataframe tbody tr th {\n",
       "        vertical-align: top;\n",
       "    }\n",
       "\n",
       "    .dataframe thead th {\n",
       "        text-align: right;\n",
       "    }\n",
       "\n",
       "    .dataframe td {\n",
       "        white-space: pre;\n",
       "    }\n",
       "\n",
       "    .dataframe td {\n",
       "        padding-top: 0;\n",
       "    }\n",
       "\n",
       "    .dataframe td {\n",
       "        padding-bottom: 0;\n",
       "    }\n",
       "\n",
       "    .dataframe td {\n",
       "        line-height: 95%;\n",
       "    }\n",
       "</style>\n",
       "<table border=\"1\" class=\"dataframe\">\n",
       "<small>shape: (2, 1)</small>\n",
       "<thead>\n",
       "<tr>\n",
       "<th>\n",
       "integer\n",
       "</th>\n",
       "</tr>\n",
       "<tr>\n",
       "<td>\n",
       "i64\n",
       "</td>\n",
       "</tr>\n",
       "</thead>\n",
       "<tbody>\n",
       "<tr>\n",
       "<td>\n",
       "2\n",
       "</td>\n",
       "</tr>\n",
       "<tr>\n",
       "<td>\n",
       "3\n",
       "</td>\n",
       "</tr>\n",
       "</tbody>\n",
       "</table>\n",
       "</div>"
      ],
      "text/plain": [
       "shape: (2, 1)\n",
       "┌─────────┐\n",
       "│ integer │\n",
       "│ ---     │\n",
       "│ i64     │\n",
       "╞═════════╡\n",
       "│ 2       │\n",
       "│ 3       │\n",
       "└─────────┘"
      ]
     },
     "execution_count": 303,
     "metadata": {},
     "output_type": "execute_result"
    }
   ],
   "source": [
    "q.collect()"
   ]
  },
  {
   "cell_type": "markdown",
   "id": "c497d1fe",
   "metadata": {},
   "source": [
    "Things to note:\n",
    "\n",
    "- From the graph we see that the filtering ($$\\sigma$$) is done at scan time, and not after the materialization of the data.\n",
    "- To get the actual data, we naturally need to `collect()`.\n",
    "\n",
    "\n",
    "Cleary, .csv is not the only format that can be read. It is possibly the least recommended. \n",
    "Other file types can be found [here](https://pola-rs.github.io/polars/py-polars/html/reference/io.html) and include: \n",
    "- Excel. \n",
    "- Arrow IPC: A binary format for storing columnar data. \n",
    "- Feather (V2): A portable columnar file format that is optimized for storing data in a fast and efficient manner, utilizing the Arrow IPC format internally. \n",
    "- Parquet (non-partitioned): A tabular file format (not columnar) that is optimized for long-term storage, more compressed than Feather. \n",
    "- JSON: Short for JavaScript Object Notation, a textual data-interchange format.\n",
    "- Avro: A binary row-based format. \n",
    "\n",
    "Each of the above formats has a non-lazy reader using `pl.read_*` and a lazy reader using `pl.scan_*`.\n",
    "\n",
    "Not suported formats:\n",
    "- Feather (V1). \n",
    "- HDF5: Currently [not supported](https://github.com/pola-rs/polars/issues/3520).\n",
    "\n",
    "\n",
    "\n",
    "### From Multiple Files\n",
    "TODO: https://pola-rs.github.io/polars-book/user-guide/multiple_files/intro.html\n",
    "\n",
    "- Parquet (partitioned): A collection of files with a common schema, partitioned as folders on disk.\n",
    "- Delta Lake: Extends the Parquet file format. \n",
    "- Arrow Dataset: A collection of files (csv, parquet, feather, etc) with a common schema.\n",
    "\n",
    "\n",
    "#### Partitioned Parquet\n",
    "\n",
    "\n",
    "\n",
    "#### Apache Arrow Dataset\n",
    "\n",
    "An Apache Arrow dataset is a collection of parquet files, with a common schema.\n",
    "It is a very efficient way to store data on disk, and to read it in parallel.\n",
    "\n",
    "Writing an Arrow dataset:\n"
   ]
  },
  {
   "cell_type": "code",
   "execution_count": 309,
   "id": "01c4769e",
   "metadata": {},
   "outputs": [
    {
     "data": {
      "text/plain": [
       "['integer=3', 'integer=1', 'integer=2']"
      ]
     },
     "execution_count": 304,
     "metadata": {},
     "output_type": "execute_result"
    }
   ],
   "source": [
    "df.to_pandas().to_parquet(\"df\", engine=\"pyarrow\", partition_cols=[\"integer\"])\n",
    "\n",
    "os.listdir(\"df\")"
   ]
  },
  {
   "cell_type": "code",
   "execution_count": 310,
   "id": "4261db13",
   "metadata": {},
   "outputs": [
    {
     "data": {
      "text/plain": [
       "[['b00efb0ae14c414c97b1146c70131c09-0.parquet',\n",
       "  'cb0f8bebc3ae4871babdb71a9f01d5f4-0.parquet',\n",
       "  '9f0fe6efe3b94b9e8dd7d0c6ac7a2a53-0.parquet',\n",
       "  '41306cbdcc7342f6bac989563486e60c-0.parquet',\n",
       "  '14f5207aa9304833bda9e495021dbb90-0.parquet',\n",
       "  'dd1d501d1c594e1684a863ddf32556ef-0.parquet',\n",
       "  'ef77a8a9076d44e2904353dc092cb344-0.parquet',\n",
       "  'a61f9978ecde4e0d81008ffdb4c5f9cd-0.parquet',\n",
       "  '604952d90eff4208b0278cef8597226a-0.parquet',\n",
       "  '5bb4705cbb1b4f8c8800a3c587836b91-0.parquet',\n",
       "  '9299f8f27d51472dbfd8b51cb038d61d-0.parquet'],\n",
       " ['b00efb0ae14c414c97b1146c70131c09-0.parquet',\n",
       "  'cb0f8bebc3ae4871babdb71a9f01d5f4-0.parquet',\n",
       "  '9f0fe6efe3b94b9e8dd7d0c6ac7a2a53-0.parquet',\n",
       "  '41306cbdcc7342f6bac989563486e60c-0.parquet',\n",
       "  '14f5207aa9304833bda9e495021dbb90-0.parquet',\n",
       "  'dd1d501d1c594e1684a863ddf32556ef-0.parquet',\n",
       "  'ef77a8a9076d44e2904353dc092cb344-0.parquet',\n",
       "  'a61f9978ecde4e0d81008ffdb4c5f9cd-0.parquet',\n",
       "  '604952d90eff4208b0278cef8597226a-0.parquet',\n",
       "  '5bb4705cbb1b4f8c8800a3c587836b91-0.parquet',\n",
       "  '9299f8f27d51472dbfd8b51cb038d61d-0.parquet'],\n",
       " ['b00efb0ae14c414c97b1146c70131c09-0.parquet',\n",
       "  'cb0f8bebc3ae4871babdb71a9f01d5f4-0.parquet',\n",
       "  '9f0fe6efe3b94b9e8dd7d0c6ac7a2a53-0.parquet',\n",
       "  '41306cbdcc7342f6bac989563486e60c-0.parquet',\n",
       "  '14f5207aa9304833bda9e495021dbb90-0.parquet',\n",
       "  'dd1d501d1c594e1684a863ddf32556ef-0.parquet',\n",
       "  'ef77a8a9076d44e2904353dc092cb344-0.parquet',\n",
       "  'a61f9978ecde4e0d81008ffdb4c5f9cd-0.parquet',\n",
       "  '604952d90eff4208b0278cef8597226a-0.parquet',\n",
       "  '5bb4705cbb1b4f8c8800a3c587836b91-0.parquet',\n",
       "  '9299f8f27d51472dbfd8b51cb038d61d-0.parquet']]"
      ]
     },
     "execution_count": 305,
     "metadata": {},
     "output_type": "execute_result"
    }
   ],
   "source": [
    "[os.listdir(f\"df/{x}/\") for x in os.listdir(\"df\")]"
   ]
  },
  {
   "cell_type": "code",
   "execution_count": 311,
   "id": "fc386bb9",
   "metadata": {},
   "outputs": [
    {
     "data": {
      "text/html": [
       "<div>\n",
       "<style scoped>\n",
       "    .dataframe tbody tr th:only-of-type {\n",
       "        vertical-align: middle;\n",
       "    }\n",
       "\n",
       "    .dataframe tbody tr th {\n",
       "        vertical-align: top;\n",
       "    }\n",
       "\n",
       "    .dataframe thead th {\n",
       "        text-align: right;\n",
       "    }\n",
       "\n",
       "    .dataframe td {\n",
       "        white-space: pre;\n",
       "    }\n",
       "\n",
       "    .dataframe td {\n",
       "        padding-top: 0;\n",
       "    }\n",
       "\n",
       "    .dataframe td {\n",
       "        padding-bottom: 0;\n",
       "    }\n",
       "\n",
       "    .dataframe td {\n",
       "        line-height: 95%;\n",
       "    }\n",
       "</style>\n",
       "<table border=\"1\" class=\"dataframe\">\n",
       "<small>shape: (69, 3)</small>\n",
       "<thead>\n",
       "<tr>\n",
       "<th>\n",
       "date\n",
       "</th>\n",
       "<th>\n",
       "float\n",
       "</th>\n",
       "<th>\n",
       "string\n",
       "</th>\n",
       "</tr>\n",
       "<tr>\n",
       "<td>\n",
       "datetime[μs]\n",
       "</td>\n",
       "<td>\n",
       "f64\n",
       "</td>\n",
       "<td>\n",
       "str\n",
       "</td>\n",
       "</tr>\n",
       "</thead>\n",
       "<tbody>\n",
       "<tr>\n",
       "<td>\n",
       "2022-01-01 00:00:00\n",
       "</td>\n",
       "<td>\n",
       "4.0\n",
       "</td>\n",
       "<td>\n",
       "&quot;a&quot;\n",
       "</td>\n",
       "</tr>\n",
       "<tr>\n",
       "<td>\n",
       "2022-01-04 00:00:00\n",
       "</td>\n",
       "<td>\n",
       "7.0\n",
       "</td>\n",
       "<td>\n",
       "&quot;d&quot;\n",
       "</td>\n",
       "</tr>\n",
       "<tr>\n",
       "<td>\n",
       "2022-01-01 00:00:00\n",
       "</td>\n",
       "<td>\n",
       "4.0\n",
       "</td>\n",
       "<td>\n",
       "&quot;a&quot;\n",
       "</td>\n",
       "</tr>\n",
       "<tr>\n",
       "<td>\n",
       "2022-01-04 00:00:00\n",
       "</td>\n",
       "<td>\n",
       "7.0\n",
       "</td>\n",
       "<td>\n",
       "&quot;d&quot;\n",
       "</td>\n",
       "</tr>\n",
       "<tr>\n",
       "<td>\n",
       "2022-01-01 00:00:00\n",
       "</td>\n",
       "<td>\n",
       "4.0\n",
       "</td>\n",
       "<td>\n",
       "&quot;a&quot;\n",
       "</td>\n",
       "</tr>\n",
       "<tr>\n",
       "<td>\n",
       "2022-01-04 00:00:00\n",
       "</td>\n",
       "<td>\n",
       "7.0\n",
       "</td>\n",
       "<td>\n",
       "&quot;d&quot;\n",
       "</td>\n",
       "</tr>\n",
       "<tr>\n",
       "<td>\n",
       "2022-01-01 00:00:00\n",
       "</td>\n",
       "<td>\n",
       "4.0\n",
       "</td>\n",
       "<td>\n",
       "&quot;a&quot;\n",
       "</td>\n",
       "</tr>\n",
       "<tr>\n",
       "<td>\n",
       "2022-01-04 00:00:00\n",
       "</td>\n",
       "<td>\n",
       "7.0\n",
       "</td>\n",
       "<td>\n",
       "&quot;d&quot;\n",
       "</td>\n",
       "</tr>\n",
       "<tr>\n",
       "<td>\n",
       "2022-01-01 00:00:00\n",
       "</td>\n",
       "<td>\n",
       "4.0\n",
       "</td>\n",
       "<td>\n",
       "&quot;a&quot;\n",
       "</td>\n",
       "</tr>\n",
       "<tr>\n",
       "<td>\n",
       "2022-01-04 00:00:00\n",
       "</td>\n",
       "<td>\n",
       "7.0\n",
       "</td>\n",
       "<td>\n",
       "&quot;d&quot;\n",
       "</td>\n",
       "</tr>\n",
       "<tr>\n",
       "<td>\n",
       "2022-01-04 00:00:00\n",
       "</td>\n",
       "<td>\n",
       "7.0\n",
       "</td>\n",
       "<td>\n",
       "&quot;d&quot;\n",
       "</td>\n",
       "</tr>\n",
       "<tr>\n",
       "<td>\n",
       "2022-01-01 00:00:00\n",
       "</td>\n",
       "<td>\n",
       "4.0\n",
       "</td>\n",
       "<td>\n",
       "&quot;a&quot;\n",
       "</td>\n",
       "</tr>\n",
       "<tr>\n",
       "<td>\n",
       "...\n",
       "</td>\n",
       "<td>\n",
       "...\n",
       "</td>\n",
       "<td>\n",
       "...\n",
       "</td>\n",
       "</tr>\n",
       "<tr>\n",
       "<td>\n",
       "2022-01-03 00:00:00\n",
       "</td>\n",
       "<td>\n",
       "6.0\n",
       "</td>\n",
       "<td>\n",
       "&quot;c&quot;\n",
       "</td>\n",
       "</tr>\n",
       "<tr>\n",
       "<td>\n",
       "2022-01-06 00:00:00\n",
       "</td>\n",
       "<td>\n",
       "9.0\n",
       "</td>\n",
       "<td>\n",
       "&quot;d&quot;\n",
       "</td>\n",
       "</tr>\n",
       "<tr>\n",
       "<td>\n",
       "2022-01-03 00:00:00\n",
       "</td>\n",
       "<td>\n",
       "6.0\n",
       "</td>\n",
       "<td>\n",
       "&quot;c&quot;\n",
       "</td>\n",
       "</tr>\n",
       "<tr>\n",
       "<td>\n",
       "2022-01-06 00:00:00\n",
       "</td>\n",
       "<td>\n",
       "9.0\n",
       "</td>\n",
       "<td>\n",
       "&quot;d&quot;\n",
       "</td>\n",
       "</tr>\n",
       "<tr>\n",
       "<td>\n",
       "2022-01-03 00:00:00\n",
       "</td>\n",
       "<td>\n",
       "6.0\n",
       "</td>\n",
       "<td>\n",
       "&quot;c&quot;\n",
       "</td>\n",
       "</tr>\n",
       "<tr>\n",
       "<td>\n",
       "2022-01-06 00:00:00\n",
       "</td>\n",
       "<td>\n",
       "9.0\n",
       "</td>\n",
       "<td>\n",
       "&quot;d&quot;\n",
       "</td>\n",
       "</tr>\n",
       "<tr>\n",
       "<td>\n",
       "2022-01-03 00:00:00\n",
       "</td>\n",
       "<td>\n",
       "6.0\n",
       "</td>\n",
       "<td>\n",
       "&quot;c&quot;\n",
       "</td>\n",
       "</tr>\n",
       "<tr>\n",
       "<td>\n",
       "2022-01-06 00:00:00\n",
       "</td>\n",
       "<td>\n",
       "9.0\n",
       "</td>\n",
       "<td>\n",
       "&quot;d&quot;\n",
       "</td>\n",
       "</tr>\n",
       "<tr>\n",
       "<td>\n",
       "2022-01-03 00:00:00\n",
       "</td>\n",
       "<td>\n",
       "6.0\n",
       "</td>\n",
       "<td>\n",
       "&quot;c&quot;\n",
       "</td>\n",
       "</tr>\n",
       "<tr>\n",
       "<td>\n",
       "2022-01-06 00:00:00\n",
       "</td>\n",
       "<td>\n",
       "9.0\n",
       "</td>\n",
       "<td>\n",
       "&quot;d&quot;\n",
       "</td>\n",
       "</tr>\n",
       "<tr>\n",
       "<td>\n",
       "2022-01-03 00:00:00\n",
       "</td>\n",
       "<td>\n",
       "6.0\n",
       "</td>\n",
       "<td>\n",
       "&quot;c&quot;\n",
       "</td>\n",
       "</tr>\n",
       "<tr>\n",
       "<td>\n",
       "2022-01-06 00:00:00\n",
       "</td>\n",
       "<td>\n",
       "9.0\n",
       "</td>\n",
       "<td>\n",
       "&quot;d&quot;\n",
       "</td>\n",
       "</tr>\n",
       "</tbody>\n",
       "</table>\n",
       "</div>"
      ],
      "text/plain": [
       "shape: (69, 3)\n",
       "┌─────────────────────┬───────┬────────┐\n",
       "│ date                ┆ float ┆ string │\n",
       "│ ---                 ┆ ---   ┆ ---    │\n",
       "│ datetime[μs]        ┆ f64   ┆ str    │\n",
       "╞═════════════════════╪═══════╪════════╡\n",
       "│ 2022-01-01 00:00:00 ┆ 4.0   ┆ a      │\n",
       "│ 2022-01-04 00:00:00 ┆ 7.0   ┆ d      │\n",
       "│ 2022-01-01 00:00:00 ┆ 4.0   ┆ a      │\n",
       "│ 2022-01-04 00:00:00 ┆ 7.0   ┆ d      │\n",
       "│ ...                 ┆ ...   ┆ ...    │\n",
       "│ 2022-01-03 00:00:00 ┆ 6.0   ┆ c      │\n",
       "│ 2022-01-06 00:00:00 ┆ 9.0   ┆ d      │\n",
       "│ 2022-01-03 00:00:00 ┆ 6.0   ┆ c      │\n",
       "│ 2022-01-06 00:00:00 ┆ 9.0   ┆ d      │\n",
       "└─────────────────────┴───────┴────────┘"
      ]
     },
     "execution_count": 306,
     "metadata": {},
     "output_type": "execute_result"
    }
   ],
   "source": [
    "import pyarrow.dataset as ds\n",
    "dset = ds.dataset(\"df\", format=\"parquet\")  \n",
    "pl.scan_ds(dset).collect()"
   ]
  },
  {
   "cell_type": "markdown",
   "id": "baa9cb75",
   "metadata": {},
   "source": [
    "Things to note:\n",
    "\n",
    "- We used pandas to write the arrow dataset. \n",
    "- The `partition_cols` argument is used to partition the dataset on disk. Each partition is a parquet file (or another partition).\n",
    "- Reading from the web (not from the local filesystem) is slightly different. TODO: add reference. \n",
    "\n",
    "\n",
    "__Caution__:\n",
    "\n",
    "The arrow data format uses caching for string and categorical data (i.e. pl.Series). \n",
    "If importing multiple files, such as multiple parquet/feather files, or an arrow dataset, different files may be cached differnetly. This will cause an error when trying to concatenate the dataframes.\n",
    "To avoid this, you can disable string caching, or enforce [joint caching](https://pola-rs.github.io/polars/py-polars/html/reference/api/polars.StringCache.html) of all files. \n",
    "The latter will look like this:\n"
   ]
  },
  {
   "cell_type": "code",
   "execution_count": 312,
   "id": "3bc0a8c6",
   "metadata": {},
   "outputs": [
    {
     "data": {
      "text/html": [
       "<div>\n",
       "<style scoped>\n",
       "    .dataframe tbody tr th:only-of-type {\n",
       "        vertical-align: middle;\n",
       "    }\n",
       "\n",
       "    .dataframe tbody tr th {\n",
       "        vertical-align: top;\n",
       "    }\n",
       "\n",
       "    .dataframe thead th {\n",
       "        text-align: right;\n",
       "    }\n",
       "\n",
       "    .dataframe td {\n",
       "        white-space: pre;\n",
       "    }\n",
       "\n",
       "    .dataframe td {\n",
       "        padding-top: 0;\n",
       "    }\n",
       "\n",
       "    .dataframe td {\n",
       "        padding-bottom: 0;\n",
       "    }\n",
       "\n",
       "    .dataframe td {\n",
       "        line-height: 95%;\n",
       "    }\n",
       "</style>\n",
       "<table border=\"1\" class=\"dataframe\">\n",
       "<small>shape: (3, 3)</small>\n",
       "<thead>\n",
       "<tr>\n",
       "<th>\n",
       "date\n",
       "</th>\n",
       "<th>\n",
       "float\n",
       "</th>\n",
       "<th>\n",
       "string\n",
       "</th>\n",
       "</tr>\n",
       "<tr>\n",
       "<td>\n",
       "datetime[μs]\n",
       "</td>\n",
       "<td>\n",
       "f64\n",
       "</td>\n",
       "<td>\n",
       "str\n",
       "</td>\n",
       "</tr>\n",
       "</thead>\n",
       "<tbody>\n",
       "<tr>\n",
       "<td>\n",
       "2022-01-01 00:00:00\n",
       "</td>\n",
       "<td>\n",
       "4.0\n",
       "</td>\n",
       "<td>\n",
       "&quot;a&quot;\n",
       "</td>\n",
       "</tr>\n",
       "<tr>\n",
       "<td>\n",
       "2022-01-04 00:00:00\n",
       "</td>\n",
       "<td>\n",
       "7.0\n",
       "</td>\n",
       "<td>\n",
       "&quot;d&quot;\n",
       "</td>\n",
       "</tr>\n",
       "<tr>\n",
       "<td>\n",
       "2022-01-01 00:00:00\n",
       "</td>\n",
       "<td>\n",
       "4.0\n",
       "</td>\n",
       "<td>\n",
       "&quot;a&quot;\n",
       "</td>\n",
       "</tr>\n",
       "</tbody>\n",
       "</table>\n",
       "</div>"
      ],
      "text/plain": [
       "shape: (3, 3)\n",
       "┌─────────────────────┬───────┬────────┐\n",
       "│ date                ┆ float ┆ string │\n",
       "│ ---                 ┆ ---   ┆ ---    │\n",
       "│ datetime[μs]        ┆ f64   ┆ str    │\n",
       "╞═════════════════════╪═══════╪════════╡\n",
       "│ 2022-01-01 00:00:00 ┆ 4.0   ┆ a      │\n",
       "│ 2022-01-04 00:00:00 ┆ 7.0   ┆ d      │\n",
       "│ 2022-01-01 00:00:00 ┆ 4.0   ┆ a      │\n",
       "└─────────────────────┴───────┴────────┘"
      ]
     },
     "execution_count": 307,
     "metadata": {},
     "output_type": "execute_result"
    }
   ],
   "source": [
    "with pl.StringCache():\n",
    "  df_import = pl.scan_ds(dset).collect()\n",
    "df_import.head(3)"
   ]
  },
  {
   "cell_type": "markdown",
   "id": "519230f2",
   "metadata": {},
   "source": [
    "#### Multiple CSVs\n",
    "\n",
    "TODO: `pl.read_csv_batched()`\n",
    "\n",
    "\n",
    "\n",
    "### Reading from a Database\n",
    "TODO: SQL, Delta Lake.\n",
    "\n",
    "\n",
    "\n",
    "## Export\n",
    "\n",
    "TODO\n",
    "\n",
    "\n",
    "\n",
    "\n",
    "\n",
    "\n",
    "\n",
    "\n",
    "# Plotting\n",
    "\n",
    "To get an intuition of what you may expect in this chapter you should know the following.\n",
    "There are approaches to plotting in python:\n",
    "\n",
    "1. The object oriented, where a dataframe has a plotting method. The method may use a single, or even multiple backends. Such is the pandas dataframe, which may use a matplotlib, plotly, or bokeh backend.\n",
    "2. The functional method, where a plotting function takes a dataframe as an argument. Such are the matplotlib, seaborn, and plotly functions, which may take pandas dataframes as inputs. \n",
    "\n",
    "Plotting support in polars thus boils down to the folowing questions:\n",
    "(1) Do polars dataframes have a plotting method? With which backend?\n",
    "(2) Can plotting functions take polars dataframes as inputs?\n",
    "\n",
    "The answer to the first is negative. \n",
    "Polars dataframes do not have a plotting method, and it seems they are not planned to have one (TODO: add reference).\n",
    "The answer to the second is \"almost yes\" \n",
    "Any plotting function that can take numpy 1D arrays as inputs, can take a polars series after a zero copy conversion with `pl.Series.to_numpy()`.\n",
    "Some plotting functions will not even require the conversion to numpy (and will handle it internally).\n",
    "\n",
    "Polars frames may cause trouble. You may expect to use a `plot(df, x='col1', y='col2')` syntax; it may work if `df` is a pandas dataframe, but not with polars.\n",
    "Support of this syntax does not depend on polars developers, rather, on the plotting function developpers. \n",
    "I suspect that the plotly and bokeh teams will eventually supprts polars. I do not know about the seaborm, or matplotlib teams.\n",
    "\n",
    "\n",
    "\n",
    "## Plotly Functions\n",
    "\n",
    "The `iris` dataset is provided by plotly as a pandas frame. \n",
    "We convert it to a polars frame."
   ]
  },
  {
   "cell_type": "code",
   "execution_count": 313,
   "id": "8031f67d",
   "metadata": {},
   "outputs": [
    {
     "data": {
      "text/html": [
       "<div>\n",
       "<style scoped>\n",
       "    .dataframe tbody tr th:only-of-type {\n",
       "        vertical-align: middle;\n",
       "    }\n",
       "\n",
       "    .dataframe tbody tr th {\n",
       "        vertical-align: top;\n",
       "    }\n",
       "\n",
       "    .dataframe thead th {\n",
       "        text-align: right;\n",
       "    }\n",
       "\n",
       "    .dataframe td {\n",
       "        white-space: pre;\n",
       "    }\n",
       "\n",
       "    .dataframe td {\n",
       "        padding-top: 0;\n",
       "    }\n",
       "\n",
       "    .dataframe td {\n",
       "        padding-bottom: 0;\n",
       "    }\n",
       "\n",
       "    .dataframe td {\n",
       "        line-height: 95%;\n",
       "    }\n",
       "</style>\n",
       "<table border=\"1\" class=\"dataframe\">\n",
       "<small>shape: (5, 6)</small>\n",
       "<thead>\n",
       "<tr>\n",
       "<th>\n",
       "sepal_length\n",
       "</th>\n",
       "<th>\n",
       "sepal_width\n",
       "</th>\n",
       "<th>\n",
       "petal_length\n",
       "</th>\n",
       "<th>\n",
       "petal_width\n",
       "</th>\n",
       "<th>\n",
       "species\n",
       "</th>\n",
       "<th>\n",
       "species_id\n",
       "</th>\n",
       "</tr>\n",
       "<tr>\n",
       "<td>\n",
       "f64\n",
       "</td>\n",
       "<td>\n",
       "f64\n",
       "</td>\n",
       "<td>\n",
       "f64\n",
       "</td>\n",
       "<td>\n",
       "f64\n",
       "</td>\n",
       "<td>\n",
       "str\n",
       "</td>\n",
       "<td>\n",
       "i64\n",
       "</td>\n",
       "</tr>\n",
       "</thead>\n",
       "<tbody>\n",
       "<tr>\n",
       "<td>\n",
       "5.1\n",
       "</td>\n",
       "<td>\n",
       "3.5\n",
       "</td>\n",
       "<td>\n",
       "1.4\n",
       "</td>\n",
       "<td>\n",
       "0.2\n",
       "</td>\n",
       "<td>\n",
       "&quot;setosa&quot;\n",
       "</td>\n",
       "<td>\n",
       "1\n",
       "</td>\n",
       "</tr>\n",
       "<tr>\n",
       "<td>\n",
       "4.9\n",
       "</td>\n",
       "<td>\n",
       "3.0\n",
       "</td>\n",
       "<td>\n",
       "1.4\n",
       "</td>\n",
       "<td>\n",
       "0.2\n",
       "</td>\n",
       "<td>\n",
       "&quot;setosa&quot;\n",
       "</td>\n",
       "<td>\n",
       "1\n",
       "</td>\n",
       "</tr>\n",
       "<tr>\n",
       "<td>\n",
       "4.7\n",
       "</td>\n",
       "<td>\n",
       "3.2\n",
       "</td>\n",
       "<td>\n",
       "1.3\n",
       "</td>\n",
       "<td>\n",
       "0.2\n",
       "</td>\n",
       "<td>\n",
       "&quot;setosa&quot;\n",
       "</td>\n",
       "<td>\n",
       "1\n",
       "</td>\n",
       "</tr>\n",
       "<tr>\n",
       "<td>\n",
       "4.6\n",
       "</td>\n",
       "<td>\n",
       "3.1\n",
       "</td>\n",
       "<td>\n",
       "1.5\n",
       "</td>\n",
       "<td>\n",
       "0.2\n",
       "</td>\n",
       "<td>\n",
       "&quot;setosa&quot;\n",
       "</td>\n",
       "<td>\n",
       "1\n",
       "</td>\n",
       "</tr>\n",
       "<tr>\n",
       "<td>\n",
       "5.0\n",
       "</td>\n",
       "<td>\n",
       "3.6\n",
       "</td>\n",
       "<td>\n",
       "1.4\n",
       "</td>\n",
       "<td>\n",
       "0.2\n",
       "</td>\n",
       "<td>\n",
       "&quot;setosa&quot;\n",
       "</td>\n",
       "<td>\n",
       "1\n",
       "</td>\n",
       "</tr>\n",
       "</tbody>\n",
       "</table>\n",
       "</div>"
      ],
      "text/plain": [
       "shape: (5, 6)\n",
       "┌──────────────┬─────────────┬──────────────┬─────────────┬─────────┬────────────┐\n",
       "│ sepal_length ┆ sepal_width ┆ petal_length ┆ petal_width ┆ species ┆ species_id │\n",
       "│ ---          ┆ ---         ┆ ---          ┆ ---         ┆ ---     ┆ ---        │\n",
       "│ f64          ┆ f64         ┆ f64          ┆ f64         ┆ str     ┆ i64        │\n",
       "╞══════════════╪═════════════╪══════════════╪═════════════╪═════════╪════════════╡\n",
       "│ 5.1          ┆ 3.5         ┆ 1.4          ┆ 0.2         ┆ setosa  ┆ 1          │\n",
       "│ 4.9          ┆ 3.0         ┆ 1.4          ┆ 0.2         ┆ setosa  ┆ 1          │\n",
       "│ 4.7          ┆ 3.2         ┆ 1.3          ┆ 0.2         ┆ setosa  ┆ 1          │\n",
       "│ 4.6          ┆ 3.1         ┆ 1.5          ┆ 0.2         ┆ setosa  ┆ 1          │\n",
       "│ 5.0          ┆ 3.6         ┆ 1.4          ┆ 0.2         ┆ setosa  ┆ 1          │\n",
       "└──────────────┴─────────────┴──────────────┴─────────────┴─────────┴────────────┘"
      ]
     },
     "execution_count": 308,
     "metadata": {},
     "output_type": "execute_result"
    }
   ],
   "source": [
    "iris = pl.DataFrame(px.data.iris())\n",
    "iris.head()"
   ]
  },
  {
   "cell_type": "markdown",
   "id": "02cb9082",
   "metadata": {},
   "source": [
    "Plotly's `scatter()` can take x and y as str, int or Series or array-like. The following will naturally work:"
   ]
  },
  {
   "cell_type": "code",
   "execution_count": 314,
   "id": "802952f8",
   "metadata": {},
   "outputs": [
    {
     "data": {
      "application/vnd.plotly.v1+json": {
       "config": {
        "plotlyServerURL": "https://plot.ly"
       },
       "data": [
        {
         "hovertemplate": "x=%{x}<br>y=%{y}<extra></extra>",
         "legendgroup": "",
         "marker": {
          "color": "#636efa",
          "symbol": "circle"
         },
         "mode": "markers",
         "name": "",
         "orientation": "v",
         "showlegend": false,
         "type": "scatter",
         "x": [
          3.5,
          3.0,
          3.2,
          3.1,
          3.6,
          3.9,
          3.4,
          3.4,
          2.9,
          3.1,
          3.7,
          3.4,
          3.0,
          3.0,
          4.0,
          4.4,
          3.9,
          3.5,
          3.8,
          3.8,
          3.4,
          3.7,
          3.6,
          3.3,
          3.4,
          3.0,
          3.4,
          3.5,
          3.4,
          3.2,
          3.1,
          3.4,
          4.1,
          4.2,
          3.1,
          3.2,
          3.5,
          3.1,
          3.0,
          3.4,
          3.5,
          2.3,
          3.2,
          3.5,
          3.8,
          3.0,
          3.8,
          3.2,
          3.7,
          3.3,
          3.2,
          3.2,
          3.1,
          2.3,
          2.8,
          2.8,
          3.3,
          2.4,
          2.9,
          2.7,
          2.0,
          3.0,
          2.2,
          2.9,
          2.9,
          3.1,
          3.0,
          2.7,
          2.2,
          2.5,
          3.2,
          2.8,
          2.5,
          2.8,
          2.9,
          3.0,
          2.8,
          3.0,
          2.9,
          2.6,
          2.4,
          2.4,
          2.7,
          2.7,
          3.0,
          3.4,
          3.1,
          2.3,
          3.0,
          2.5,
          2.6,
          3.0,
          2.6,
          2.3,
          2.7,
          3.0,
          2.9,
          2.9,
          2.5,
          2.8,
          3.3,
          2.7,
          3.0,
          2.9,
          3.0,
          3.0,
          2.5,
          2.9,
          2.5,
          3.6,
          3.2,
          2.7,
          3.0,
          2.5,
          2.8,
          3.2,
          3.0,
          3.8,
          2.6,
          2.2,
          3.2,
          2.8,
          2.8,
          2.7,
          3.3,
          3.2,
          2.8,
          3.0,
          2.8,
          3.0,
          2.8,
          3.8,
          2.8,
          2.8,
          2.6,
          3.0,
          3.4,
          3.1,
          3.0,
          3.1,
          3.1,
          3.1,
          2.7,
          3.2,
          3.3,
          3.0,
          2.5,
          3.0,
          3.4,
          3.0
         ],
         "xaxis": "x",
         "y": [
          5.1,
          4.9,
          4.7,
          4.6,
          5.0,
          5.4,
          4.6,
          5.0,
          4.4,
          4.9,
          5.4,
          4.8,
          4.8,
          4.3,
          5.8,
          5.7,
          5.4,
          5.1,
          5.7,
          5.1,
          5.4,
          5.1,
          4.6,
          5.1,
          4.8,
          5.0,
          5.0,
          5.2,
          5.2,
          4.7,
          4.8,
          5.4,
          5.2,
          5.5,
          4.9,
          5.0,
          5.5,
          4.9,
          4.4,
          5.1,
          5.0,
          4.5,
          4.4,
          5.0,
          5.1,
          4.8,
          5.1,
          4.6,
          5.3,
          5.0,
          7.0,
          6.4,
          6.9,
          5.5,
          6.5,
          5.7,
          6.3,
          4.9,
          6.6,
          5.2,
          5.0,
          5.9,
          6.0,
          6.1,
          5.6,
          6.7,
          5.6,
          5.8,
          6.2,
          5.6,
          5.9,
          6.1,
          6.3,
          6.1,
          6.4,
          6.6,
          6.8,
          6.7,
          6.0,
          5.7,
          5.5,
          5.5,
          5.8,
          6.0,
          5.4,
          6.0,
          6.7,
          6.3,
          5.6,
          5.5,
          5.5,
          6.1,
          5.8,
          5.0,
          5.6,
          5.7,
          5.7,
          6.2,
          5.1,
          5.7,
          6.3,
          5.8,
          7.1,
          6.3,
          6.5,
          7.6,
          4.9,
          7.3,
          6.7,
          7.2,
          6.5,
          6.4,
          6.8,
          5.7,
          5.8,
          6.4,
          6.5,
          7.7,
          7.7,
          6.0,
          6.9,
          5.6,
          7.7,
          6.3,
          6.7,
          7.2,
          6.2,
          6.1,
          6.4,
          7.2,
          7.4,
          7.9,
          6.4,
          6.3,
          6.1,
          7.7,
          6.3,
          6.4,
          6.0,
          6.9,
          6.7,
          6.9,
          5.8,
          6.8,
          6.7,
          6.7,
          6.3,
          6.5,
          6.2,
          5.9
         ],
         "yaxis": "y"
        }
       ],
       "layout": {
        "legend": {
         "tracegroupgap": 0
        },
        "margin": {
         "t": 60
        },
        "template": {
         "data": {
          "bar": [
           {
            "error_x": {
             "color": "#2a3f5f"
            },
            "error_y": {
             "color": "#2a3f5f"
            },
            "marker": {
             "line": {
              "color": "#E5ECF6",
              "width": 0.5
             },
             "pattern": {
              "fillmode": "overlay",
              "size": 10,
              "solidity": 0.2
             }
            },
            "type": "bar"
           }
          ],
          "barpolar": [
           {
            "marker": {
             "line": {
              "color": "#E5ECF6",
              "width": 0.5
             },
             "pattern": {
              "fillmode": "overlay",
              "size": 10,
              "solidity": 0.2
             }
            },
            "type": "barpolar"
           }
          ],
          "carpet": [
           {
            "aaxis": {
             "endlinecolor": "#2a3f5f",
             "gridcolor": "white",
             "linecolor": "white",
             "minorgridcolor": "white",
             "startlinecolor": "#2a3f5f"
            },
            "baxis": {
             "endlinecolor": "#2a3f5f",
             "gridcolor": "white",
             "linecolor": "white",
             "minorgridcolor": "white",
             "startlinecolor": "#2a3f5f"
            },
            "type": "carpet"
           }
          ],
          "choropleth": [
           {
            "colorbar": {
             "outlinewidth": 0,
             "ticks": ""
            },
            "type": "choropleth"
           }
          ],
          "contour": [
           {
            "colorbar": {
             "outlinewidth": 0,
             "ticks": ""
            },
            "colorscale": [
             [
              0.0,
              "#0d0887"
             ],
             [
              0.1111111111111111,
              "#46039f"
             ],
             [
              0.2222222222222222,
              "#7201a8"
             ],
             [
              0.3333333333333333,
              "#9c179e"
             ],
             [
              0.4444444444444444,
              "#bd3786"
             ],
             [
              0.5555555555555556,
              "#d8576b"
             ],
             [
              0.6666666666666666,
              "#ed7953"
             ],
             [
              0.7777777777777778,
              "#fb9f3a"
             ],
             [
              0.8888888888888888,
              "#fdca26"
             ],
             [
              1.0,
              "#f0f921"
             ]
            ],
            "type": "contour"
           }
          ],
          "contourcarpet": [
           {
            "colorbar": {
             "outlinewidth": 0,
             "ticks": ""
            },
            "type": "contourcarpet"
           }
          ],
          "heatmap": [
           {
            "colorbar": {
             "outlinewidth": 0,
             "ticks": ""
            },
            "colorscale": [
             [
              0.0,
              "#0d0887"
             ],
             [
              0.1111111111111111,
              "#46039f"
             ],
             [
              0.2222222222222222,
              "#7201a8"
             ],
             [
              0.3333333333333333,
              "#9c179e"
             ],
             [
              0.4444444444444444,
              "#bd3786"
             ],
             [
              0.5555555555555556,
              "#d8576b"
             ],
             [
              0.6666666666666666,
              "#ed7953"
             ],
             [
              0.7777777777777778,
              "#fb9f3a"
             ],
             [
              0.8888888888888888,
              "#fdca26"
             ],
             [
              1.0,
              "#f0f921"
             ]
            ],
            "type": "heatmap"
           }
          ],
          "heatmapgl": [
           {
            "colorbar": {
             "outlinewidth": 0,
             "ticks": ""
            },
            "colorscale": [
             [
              0.0,
              "#0d0887"
             ],
             [
              0.1111111111111111,
              "#46039f"
             ],
             [
              0.2222222222222222,
              "#7201a8"
             ],
             [
              0.3333333333333333,
              "#9c179e"
             ],
             [
              0.4444444444444444,
              "#bd3786"
             ],
             [
              0.5555555555555556,
              "#d8576b"
             ],
             [
              0.6666666666666666,
              "#ed7953"
             ],
             [
              0.7777777777777778,
              "#fb9f3a"
             ],
             [
              0.8888888888888888,
              "#fdca26"
             ],
             [
              1.0,
              "#f0f921"
             ]
            ],
            "type": "heatmapgl"
           }
          ],
          "histogram": [
           {
            "marker": {
             "pattern": {
              "fillmode": "overlay",
              "size": 10,
              "solidity": 0.2
             }
            },
            "type": "histogram"
           }
          ],
          "histogram2d": [
           {
            "colorbar": {
             "outlinewidth": 0,
             "ticks": ""
            },
            "colorscale": [
             [
              0.0,
              "#0d0887"
             ],
             [
              0.1111111111111111,
              "#46039f"
             ],
             [
              0.2222222222222222,
              "#7201a8"
             ],
             [
              0.3333333333333333,
              "#9c179e"
             ],
             [
              0.4444444444444444,
              "#bd3786"
             ],
             [
              0.5555555555555556,
              "#d8576b"
             ],
             [
              0.6666666666666666,
              "#ed7953"
             ],
             [
              0.7777777777777778,
              "#fb9f3a"
             ],
             [
              0.8888888888888888,
              "#fdca26"
             ],
             [
              1.0,
              "#f0f921"
             ]
            ],
            "type": "histogram2d"
           }
          ],
          "histogram2dcontour": [
           {
            "colorbar": {
             "outlinewidth": 0,
             "ticks": ""
            },
            "colorscale": [
             [
              0.0,
              "#0d0887"
             ],
             [
              0.1111111111111111,
              "#46039f"
             ],
             [
              0.2222222222222222,
              "#7201a8"
             ],
             [
              0.3333333333333333,
              "#9c179e"
             ],
             [
              0.4444444444444444,
              "#bd3786"
             ],
             [
              0.5555555555555556,
              "#d8576b"
             ],
             [
              0.6666666666666666,
              "#ed7953"
             ],
             [
              0.7777777777777778,
              "#fb9f3a"
             ],
             [
              0.8888888888888888,
              "#fdca26"
             ],
             [
              1.0,
              "#f0f921"
             ]
            ],
            "type": "histogram2dcontour"
           }
          ],
          "mesh3d": [
           {
            "colorbar": {
             "outlinewidth": 0,
             "ticks": ""
            },
            "type": "mesh3d"
           }
          ],
          "parcoords": [
           {
            "line": {
             "colorbar": {
              "outlinewidth": 0,
              "ticks": ""
             }
            },
            "type": "parcoords"
           }
          ],
          "pie": [
           {
            "automargin": true,
            "type": "pie"
           }
          ],
          "scatter": [
           {
            "fillpattern": {
             "fillmode": "overlay",
             "size": 10,
             "solidity": 0.2
            },
            "type": "scatter"
           }
          ],
          "scatter3d": [
           {
            "line": {
             "colorbar": {
              "outlinewidth": 0,
              "ticks": ""
             }
            },
            "marker": {
             "colorbar": {
              "outlinewidth": 0,
              "ticks": ""
             }
            },
            "type": "scatter3d"
           }
          ],
          "scattercarpet": [
           {
            "marker": {
             "colorbar": {
              "outlinewidth": 0,
              "ticks": ""
             }
            },
            "type": "scattercarpet"
           }
          ],
          "scattergeo": [
           {
            "marker": {
             "colorbar": {
              "outlinewidth": 0,
              "ticks": ""
             }
            },
            "type": "scattergeo"
           }
          ],
          "scattergl": [
           {
            "marker": {
             "colorbar": {
              "outlinewidth": 0,
              "ticks": ""
             }
            },
            "type": "scattergl"
           }
          ],
          "scattermapbox": [
           {
            "marker": {
             "colorbar": {
              "outlinewidth": 0,
              "ticks": ""
             }
            },
            "type": "scattermapbox"
           }
          ],
          "scatterpolar": [
           {
            "marker": {
             "colorbar": {
              "outlinewidth": 0,
              "ticks": ""
             }
            },
            "type": "scatterpolar"
           }
          ],
          "scatterpolargl": [
           {
            "marker": {
             "colorbar": {
              "outlinewidth": 0,
              "ticks": ""
             }
            },
            "type": "scatterpolargl"
           }
          ],
          "scatterternary": [
           {
            "marker": {
             "colorbar": {
              "outlinewidth": 0,
              "ticks": ""
             }
            },
            "type": "scatterternary"
           }
          ],
          "surface": [
           {
            "colorbar": {
             "outlinewidth": 0,
             "ticks": ""
            },
            "colorscale": [
             [
              0.0,
              "#0d0887"
             ],
             [
              0.1111111111111111,
              "#46039f"
             ],
             [
              0.2222222222222222,
              "#7201a8"
             ],
             [
              0.3333333333333333,
              "#9c179e"
             ],
             [
              0.4444444444444444,
              "#bd3786"
             ],
             [
              0.5555555555555556,
              "#d8576b"
             ],
             [
              0.6666666666666666,
              "#ed7953"
             ],
             [
              0.7777777777777778,
              "#fb9f3a"
             ],
             [
              0.8888888888888888,
              "#fdca26"
             ],
             [
              1.0,
              "#f0f921"
             ]
            ],
            "type": "surface"
           }
          ],
          "table": [
           {
            "cells": {
             "fill": {
              "color": "#EBF0F8"
             },
             "line": {
              "color": "white"
             }
            },
            "header": {
             "fill": {
              "color": "#C8D4E3"
             },
             "line": {
              "color": "white"
             }
            },
            "type": "table"
           }
          ]
         },
         "layout": {
          "annotationdefaults": {
           "arrowcolor": "#2a3f5f",
           "arrowhead": 0,
           "arrowwidth": 1
          },
          "autotypenumbers": "strict",
          "coloraxis": {
           "colorbar": {
            "outlinewidth": 0,
            "ticks": ""
           }
          },
          "colorscale": {
           "diverging": [
            [
             0,
             "#8e0152"
            ],
            [
             0.1,
             "#c51b7d"
            ],
            [
             0.2,
             "#de77ae"
            ],
            [
             0.3,
             "#f1b6da"
            ],
            [
             0.4,
             "#fde0ef"
            ],
            [
             0.5,
             "#f7f7f7"
            ],
            [
             0.6,
             "#e6f5d0"
            ],
            [
             0.7,
             "#b8e186"
            ],
            [
             0.8,
             "#7fbc41"
            ],
            [
             0.9,
             "#4d9221"
            ],
            [
             1,
             "#276419"
            ]
           ],
           "sequential": [
            [
             0.0,
             "#0d0887"
            ],
            [
             0.1111111111111111,
             "#46039f"
            ],
            [
             0.2222222222222222,
             "#7201a8"
            ],
            [
             0.3333333333333333,
             "#9c179e"
            ],
            [
             0.4444444444444444,
             "#bd3786"
            ],
            [
             0.5555555555555556,
             "#d8576b"
            ],
            [
             0.6666666666666666,
             "#ed7953"
            ],
            [
             0.7777777777777778,
             "#fb9f3a"
            ],
            [
             0.8888888888888888,
             "#fdca26"
            ],
            [
             1.0,
             "#f0f921"
            ]
           ],
           "sequentialminus": [
            [
             0.0,
             "#0d0887"
            ],
            [
             0.1111111111111111,
             "#46039f"
            ],
            [
             0.2222222222222222,
             "#7201a8"
            ],
            [
             0.3333333333333333,
             "#9c179e"
            ],
            [
             0.4444444444444444,
             "#bd3786"
            ],
            [
             0.5555555555555556,
             "#d8576b"
            ],
            [
             0.6666666666666666,
             "#ed7953"
            ],
            [
             0.7777777777777778,
             "#fb9f3a"
            ],
            [
             0.8888888888888888,
             "#fdca26"
            ],
            [
             1.0,
             "#f0f921"
            ]
           ]
          },
          "colorway": [
           "#636efa",
           "#EF553B",
           "#00cc96",
           "#ab63fa",
           "#FFA15A",
           "#19d3f3",
           "#FF6692",
           "#B6E880",
           "#FF97FF",
           "#FECB52"
          ],
          "font": {
           "color": "#2a3f5f"
          },
          "geo": {
           "bgcolor": "white",
           "lakecolor": "white",
           "landcolor": "#E5ECF6",
           "showlakes": true,
           "showland": true,
           "subunitcolor": "white"
          },
          "hoverlabel": {
           "align": "left"
          },
          "hovermode": "closest",
          "mapbox": {
           "style": "light"
          },
          "paper_bgcolor": "white",
          "plot_bgcolor": "#E5ECF6",
          "polar": {
           "angularaxis": {
            "gridcolor": "white",
            "linecolor": "white",
            "ticks": ""
           },
           "bgcolor": "#E5ECF6",
           "radialaxis": {
            "gridcolor": "white",
            "linecolor": "white",
            "ticks": ""
           }
          },
          "scene": {
           "xaxis": {
            "backgroundcolor": "#E5ECF6",
            "gridcolor": "white",
            "gridwidth": 2,
            "linecolor": "white",
            "showbackground": true,
            "ticks": "",
            "zerolinecolor": "white"
           },
           "yaxis": {
            "backgroundcolor": "#E5ECF6",
            "gridcolor": "white",
            "gridwidth": 2,
            "linecolor": "white",
            "showbackground": true,
            "ticks": "",
            "zerolinecolor": "white"
           },
           "zaxis": {
            "backgroundcolor": "#E5ECF6",
            "gridcolor": "white",
            "gridwidth": 2,
            "linecolor": "white",
            "showbackground": true,
            "ticks": "",
            "zerolinecolor": "white"
           }
          },
          "shapedefaults": {
           "line": {
            "color": "#2a3f5f"
           }
          },
          "ternary": {
           "aaxis": {
            "gridcolor": "white",
            "linecolor": "white",
            "ticks": ""
           },
           "baxis": {
            "gridcolor": "white",
            "linecolor": "white",
            "ticks": ""
           },
           "bgcolor": "#E5ECF6",
           "caxis": {
            "gridcolor": "white",
            "linecolor": "white",
            "ticks": ""
           }
          },
          "title": {
           "x": 0.05
          },
          "xaxis": {
           "automargin": true,
           "gridcolor": "white",
           "linecolor": "white",
           "ticks": "",
           "title": {
            "standoff": 15
           },
           "zerolinecolor": "white",
           "zerolinewidth": 2
          },
          "yaxis": {
           "automargin": true,
           "gridcolor": "white",
           "linecolor": "white",
           "ticks": "",
           "title": {
            "standoff": 15
           },
           "zerolinecolor": "white",
           "zerolinewidth": 2
          }
         }
        },
        "xaxis": {
         "anchor": "y",
         "domain": [
          0.0,
          1.0
         ],
         "title": {
          "text": "x"
         }
        },
        "yaxis": {
         "anchor": "x",
         "domain": [
          0.0,
          1.0
         ],
         "title": {
          "text": "y"
         }
        }
       }
      },
      "text/html": [
       "<div>                            <div id=\"144d23d7-904f-4311-99af-e543a816a163\" class=\"plotly-graph-div\" style=\"height:525px; width:100%;\"></div>            <script type=\"text/javascript\">                require([\"plotly\"], function(Plotly) {                    window.PLOTLYENV=window.PLOTLYENV || {};                                    if (document.getElementById(\"144d23d7-904f-4311-99af-e543a816a163\")) {                    Plotly.newPlot(                        \"144d23d7-904f-4311-99af-e543a816a163\",                        [{\"hovertemplate\":\"x=%{x}<br>y=%{y}<extra></extra>\",\"legendgroup\":\"\",\"marker\":{\"color\":\"#636efa\",\"symbol\":\"circle\"},\"mode\":\"markers\",\"name\":\"\",\"orientation\":\"v\",\"showlegend\":false,\"x\":[3.5,3.0,3.2,3.1,3.6,3.9,3.4,3.4,2.9,3.1,3.7,3.4,3.0,3.0,4.0,4.4,3.9,3.5,3.8,3.8,3.4,3.7,3.6,3.3,3.4,3.0,3.4,3.5,3.4,3.2,3.1,3.4,4.1,4.2,3.1,3.2,3.5,3.1,3.0,3.4,3.5,2.3,3.2,3.5,3.8,3.0,3.8,3.2,3.7,3.3,3.2,3.2,3.1,2.3,2.8,2.8,3.3,2.4,2.9,2.7,2.0,3.0,2.2,2.9,2.9,3.1,3.0,2.7,2.2,2.5,3.2,2.8,2.5,2.8,2.9,3.0,2.8,3.0,2.9,2.6,2.4,2.4,2.7,2.7,3.0,3.4,3.1,2.3,3.0,2.5,2.6,3.0,2.6,2.3,2.7,3.0,2.9,2.9,2.5,2.8,3.3,2.7,3.0,2.9,3.0,3.0,2.5,2.9,2.5,3.6,3.2,2.7,3.0,2.5,2.8,3.2,3.0,3.8,2.6,2.2,3.2,2.8,2.8,2.7,3.3,3.2,2.8,3.0,2.8,3.0,2.8,3.8,2.8,2.8,2.6,3.0,3.4,3.1,3.0,3.1,3.1,3.1,2.7,3.2,3.3,3.0,2.5,3.0,3.4,3.0],\"xaxis\":\"x\",\"y\":[5.1,4.9,4.7,4.6,5.0,5.4,4.6,5.0,4.4,4.9,5.4,4.8,4.8,4.3,5.8,5.7,5.4,5.1,5.7,5.1,5.4,5.1,4.6,5.1,4.8,5.0,5.0,5.2,5.2,4.7,4.8,5.4,5.2,5.5,4.9,5.0,5.5,4.9,4.4,5.1,5.0,4.5,4.4,5.0,5.1,4.8,5.1,4.6,5.3,5.0,7.0,6.4,6.9,5.5,6.5,5.7,6.3,4.9,6.6,5.2,5.0,5.9,6.0,6.1,5.6,6.7,5.6,5.8,6.2,5.6,5.9,6.1,6.3,6.1,6.4,6.6,6.8,6.7,6.0,5.7,5.5,5.5,5.8,6.0,5.4,6.0,6.7,6.3,5.6,5.5,5.5,6.1,5.8,5.0,5.6,5.7,5.7,6.2,5.1,5.7,6.3,5.8,7.1,6.3,6.5,7.6,4.9,7.3,6.7,7.2,6.5,6.4,6.8,5.7,5.8,6.4,6.5,7.7,7.7,6.0,6.9,5.6,7.7,6.3,6.7,7.2,6.2,6.1,6.4,7.2,7.4,7.9,6.4,6.3,6.1,7.7,6.3,6.4,6.0,6.9,6.7,6.9,5.8,6.8,6.7,6.7,6.3,6.5,6.2,5.9],\"yaxis\":\"y\",\"type\":\"scatter\"}],                        {\"template\":{\"data\":{\"histogram2dcontour\":[{\"type\":\"histogram2dcontour\",\"colorbar\":{\"outlinewidth\":0,\"ticks\":\"\"},\"colorscale\":[[0.0,\"#0d0887\"],[0.1111111111111111,\"#46039f\"],[0.2222222222222222,\"#7201a8\"],[0.3333333333333333,\"#9c179e\"],[0.4444444444444444,\"#bd3786\"],[0.5555555555555556,\"#d8576b\"],[0.6666666666666666,\"#ed7953\"],[0.7777777777777778,\"#fb9f3a\"],[0.8888888888888888,\"#fdca26\"],[1.0,\"#f0f921\"]]}],\"choropleth\":[{\"type\":\"choropleth\",\"colorbar\":{\"outlinewidth\":0,\"ticks\":\"\"}}],\"histogram2d\":[{\"type\":\"histogram2d\",\"colorbar\":{\"outlinewidth\":0,\"ticks\":\"\"},\"colorscale\":[[0.0,\"#0d0887\"],[0.1111111111111111,\"#46039f\"],[0.2222222222222222,\"#7201a8\"],[0.3333333333333333,\"#9c179e\"],[0.4444444444444444,\"#bd3786\"],[0.5555555555555556,\"#d8576b\"],[0.6666666666666666,\"#ed7953\"],[0.7777777777777778,\"#fb9f3a\"],[0.8888888888888888,\"#fdca26\"],[1.0,\"#f0f921\"]]}],\"heatmap\":[{\"type\":\"heatmap\",\"colorbar\":{\"outlinewidth\":0,\"ticks\":\"\"},\"colorscale\":[[0.0,\"#0d0887\"],[0.1111111111111111,\"#46039f\"],[0.2222222222222222,\"#7201a8\"],[0.3333333333333333,\"#9c179e\"],[0.4444444444444444,\"#bd3786\"],[0.5555555555555556,\"#d8576b\"],[0.6666666666666666,\"#ed7953\"],[0.7777777777777778,\"#fb9f3a\"],[0.8888888888888888,\"#fdca26\"],[1.0,\"#f0f921\"]]}],\"heatmapgl\":[{\"type\":\"heatmapgl\",\"colorbar\":{\"outlinewidth\":0,\"ticks\":\"\"},\"colorscale\":[[0.0,\"#0d0887\"],[0.1111111111111111,\"#46039f\"],[0.2222222222222222,\"#7201a8\"],[0.3333333333333333,\"#9c179e\"],[0.4444444444444444,\"#bd3786\"],[0.5555555555555556,\"#d8576b\"],[0.6666666666666666,\"#ed7953\"],[0.7777777777777778,\"#fb9f3a\"],[0.8888888888888888,\"#fdca26\"],[1.0,\"#f0f921\"]]}],\"contourcarpet\":[{\"type\":\"contourcarpet\",\"colorbar\":{\"outlinewidth\":0,\"ticks\":\"\"}}],\"contour\":[{\"type\":\"contour\",\"colorbar\":{\"outlinewidth\":0,\"ticks\":\"\"},\"colorscale\":[[0.0,\"#0d0887\"],[0.1111111111111111,\"#46039f\"],[0.2222222222222222,\"#7201a8\"],[0.3333333333333333,\"#9c179e\"],[0.4444444444444444,\"#bd3786\"],[0.5555555555555556,\"#d8576b\"],[0.6666666666666666,\"#ed7953\"],[0.7777777777777778,\"#fb9f3a\"],[0.8888888888888888,\"#fdca26\"],[1.0,\"#f0f921\"]]}],\"surface\":[{\"type\":\"surface\",\"colorbar\":{\"outlinewidth\":0,\"ticks\":\"\"},\"colorscale\":[[0.0,\"#0d0887\"],[0.1111111111111111,\"#46039f\"],[0.2222222222222222,\"#7201a8\"],[0.3333333333333333,\"#9c179e\"],[0.4444444444444444,\"#bd3786\"],[0.5555555555555556,\"#d8576b\"],[0.6666666666666666,\"#ed7953\"],[0.7777777777777778,\"#fb9f3a\"],[0.8888888888888888,\"#fdca26\"],[1.0,\"#f0f921\"]]}],\"mesh3d\":[{\"type\":\"mesh3d\",\"colorbar\":{\"outlinewidth\":0,\"ticks\":\"\"}}],\"scatter\":[{\"fillpattern\":{\"fillmode\":\"overlay\",\"size\":10,\"solidity\":0.2},\"type\":\"scatter\"}],\"parcoords\":[{\"type\":\"parcoords\",\"line\":{\"colorbar\":{\"outlinewidth\":0,\"ticks\":\"\"}}}],\"scatterpolargl\":[{\"type\":\"scatterpolargl\",\"marker\":{\"colorbar\":{\"outlinewidth\":0,\"ticks\":\"\"}}}],\"bar\":[{\"error_x\":{\"color\":\"#2a3f5f\"},\"error_y\":{\"color\":\"#2a3f5f\"},\"marker\":{\"line\":{\"color\":\"#E5ECF6\",\"width\":0.5},\"pattern\":{\"fillmode\":\"overlay\",\"size\":10,\"solidity\":0.2}},\"type\":\"bar\"}],\"scattergeo\":[{\"type\":\"scattergeo\",\"marker\":{\"colorbar\":{\"outlinewidth\":0,\"ticks\":\"\"}}}],\"scatterpolar\":[{\"type\":\"scatterpolar\",\"marker\":{\"colorbar\":{\"outlinewidth\":0,\"ticks\":\"\"}}}],\"histogram\":[{\"marker\":{\"pattern\":{\"fillmode\":\"overlay\",\"size\":10,\"solidity\":0.2}},\"type\":\"histogram\"}],\"scattergl\":[{\"type\":\"scattergl\",\"marker\":{\"colorbar\":{\"outlinewidth\":0,\"ticks\":\"\"}}}],\"scatter3d\":[{\"type\":\"scatter3d\",\"line\":{\"colorbar\":{\"outlinewidth\":0,\"ticks\":\"\"}},\"marker\":{\"colorbar\":{\"outlinewidth\":0,\"ticks\":\"\"}}}],\"scattermapbox\":[{\"type\":\"scattermapbox\",\"marker\":{\"colorbar\":{\"outlinewidth\":0,\"ticks\":\"\"}}}],\"scatterternary\":[{\"type\":\"scatterternary\",\"marker\":{\"colorbar\":{\"outlinewidth\":0,\"ticks\":\"\"}}}],\"scattercarpet\":[{\"type\":\"scattercarpet\",\"marker\":{\"colorbar\":{\"outlinewidth\":0,\"ticks\":\"\"}}}],\"carpet\":[{\"aaxis\":{\"endlinecolor\":\"#2a3f5f\",\"gridcolor\":\"white\",\"linecolor\":\"white\",\"minorgridcolor\":\"white\",\"startlinecolor\":\"#2a3f5f\"},\"baxis\":{\"endlinecolor\":\"#2a3f5f\",\"gridcolor\":\"white\",\"linecolor\":\"white\",\"minorgridcolor\":\"white\",\"startlinecolor\":\"#2a3f5f\"},\"type\":\"carpet\"}],\"table\":[{\"cells\":{\"fill\":{\"color\":\"#EBF0F8\"},\"line\":{\"color\":\"white\"}},\"header\":{\"fill\":{\"color\":\"#C8D4E3\"},\"line\":{\"color\":\"white\"}},\"type\":\"table\"}],\"barpolar\":[{\"marker\":{\"line\":{\"color\":\"#E5ECF6\",\"width\":0.5},\"pattern\":{\"fillmode\":\"overlay\",\"size\":10,\"solidity\":0.2}},\"type\":\"barpolar\"}],\"pie\":[{\"automargin\":true,\"type\":\"pie\"}]},\"layout\":{\"autotypenumbers\":\"strict\",\"colorway\":[\"#636efa\",\"#EF553B\",\"#00cc96\",\"#ab63fa\",\"#FFA15A\",\"#19d3f3\",\"#FF6692\",\"#B6E880\",\"#FF97FF\",\"#FECB52\"],\"font\":{\"color\":\"#2a3f5f\"},\"hovermode\":\"closest\",\"hoverlabel\":{\"align\":\"left\"},\"paper_bgcolor\":\"white\",\"plot_bgcolor\":\"#E5ECF6\",\"polar\":{\"bgcolor\":\"#E5ECF6\",\"angularaxis\":{\"gridcolor\":\"white\",\"linecolor\":\"white\",\"ticks\":\"\"},\"radialaxis\":{\"gridcolor\":\"white\",\"linecolor\":\"white\",\"ticks\":\"\"}},\"ternary\":{\"bgcolor\":\"#E5ECF6\",\"aaxis\":{\"gridcolor\":\"white\",\"linecolor\":\"white\",\"ticks\":\"\"},\"baxis\":{\"gridcolor\":\"white\",\"linecolor\":\"white\",\"ticks\":\"\"},\"caxis\":{\"gridcolor\":\"white\",\"linecolor\":\"white\",\"ticks\":\"\"}},\"coloraxis\":{\"colorbar\":{\"outlinewidth\":0,\"ticks\":\"\"}},\"colorscale\":{\"sequential\":[[0.0,\"#0d0887\"],[0.1111111111111111,\"#46039f\"],[0.2222222222222222,\"#7201a8\"],[0.3333333333333333,\"#9c179e\"],[0.4444444444444444,\"#bd3786\"],[0.5555555555555556,\"#d8576b\"],[0.6666666666666666,\"#ed7953\"],[0.7777777777777778,\"#fb9f3a\"],[0.8888888888888888,\"#fdca26\"],[1.0,\"#f0f921\"]],\"sequentialminus\":[[0.0,\"#0d0887\"],[0.1111111111111111,\"#46039f\"],[0.2222222222222222,\"#7201a8\"],[0.3333333333333333,\"#9c179e\"],[0.4444444444444444,\"#bd3786\"],[0.5555555555555556,\"#d8576b\"],[0.6666666666666666,\"#ed7953\"],[0.7777777777777778,\"#fb9f3a\"],[0.8888888888888888,\"#fdca26\"],[1.0,\"#f0f921\"]],\"diverging\":[[0,\"#8e0152\"],[0.1,\"#c51b7d\"],[0.2,\"#de77ae\"],[0.3,\"#f1b6da\"],[0.4,\"#fde0ef\"],[0.5,\"#f7f7f7\"],[0.6,\"#e6f5d0\"],[0.7,\"#b8e186\"],[0.8,\"#7fbc41\"],[0.9,\"#4d9221\"],[1,\"#276419\"]]},\"xaxis\":{\"gridcolor\":\"white\",\"linecolor\":\"white\",\"ticks\":\"\",\"title\":{\"standoff\":15},\"zerolinecolor\":\"white\",\"automargin\":true,\"zerolinewidth\":2},\"yaxis\":{\"gridcolor\":\"white\",\"linecolor\":\"white\",\"ticks\":\"\",\"title\":{\"standoff\":15},\"zerolinecolor\":\"white\",\"automargin\":true,\"zerolinewidth\":2},\"scene\":{\"xaxis\":{\"backgroundcolor\":\"#E5ECF6\",\"gridcolor\":\"white\",\"linecolor\":\"white\",\"showbackground\":true,\"ticks\":\"\",\"zerolinecolor\":\"white\",\"gridwidth\":2},\"yaxis\":{\"backgroundcolor\":\"#E5ECF6\",\"gridcolor\":\"white\",\"linecolor\":\"white\",\"showbackground\":true,\"ticks\":\"\",\"zerolinecolor\":\"white\",\"gridwidth\":2},\"zaxis\":{\"backgroundcolor\":\"#E5ECF6\",\"gridcolor\":\"white\",\"linecolor\":\"white\",\"showbackground\":true,\"ticks\":\"\",\"zerolinecolor\":\"white\",\"gridwidth\":2}},\"shapedefaults\":{\"line\":{\"color\":\"#2a3f5f\"}},\"annotationdefaults\":{\"arrowcolor\":\"#2a3f5f\",\"arrowhead\":0,\"arrowwidth\":1},\"geo\":{\"bgcolor\":\"white\",\"landcolor\":\"#E5ECF6\",\"subunitcolor\":\"white\",\"showland\":true,\"showlakes\":true,\"lakecolor\":\"white\"},\"title\":{\"x\":0.05},\"mapbox\":{\"style\":\"light\"}}},\"xaxis\":{\"anchor\":\"y\",\"domain\":[0.0,1.0],\"title\":{\"text\":\"x\"}},\"yaxis\":{\"anchor\":\"x\",\"domain\":[0.0,1.0],\"title\":{\"text\":\"y\"}},\"legend\":{\"tracegroupgap\":0},\"margin\":{\"t\":60}},                        {\"responsive\": true}                    ).then(function(){\n",
       "                            \n",
       "var gd = document.getElementById('144d23d7-904f-4311-99af-e543a816a163');\n",
       "var x = new MutationObserver(function (mutations, observer) {{\n",
       "        var display = window.getComputedStyle(gd).display;\n",
       "        if (!display || display === 'none') {{\n",
       "            console.log([gd, 'removed!']);\n",
       "            Plotly.purge(gd);\n",
       "            observer.disconnect();\n",
       "        }}\n",
       "}});\n",
       "\n",
       "// Listen for the removal of the full notebook cells\n",
       "var notebookContainer = gd.closest('#notebook-container');\n",
       "if (notebookContainer) {{\n",
       "    x.observe(notebookContainer, {childList: true});\n",
       "}}\n",
       "\n",
       "// Listen for the clearing of the current output cell\n",
       "var outputEl = gd.closest('.output');\n",
       "if (outputEl) {{\n",
       "    x.observe(outputEl, {childList: true});\n",
       "}}\n",
       "\n",
       "                        })                };                });            </script>        </div>"
      ]
     },
     "metadata": {},
     "output_type": "display_data"
    }
   ],
   "source": [
    "fig = px.scatter(\n",
    "    x=iris[\"sepal_width\"].to_list(), \n",
    "    y=iris[\"sepal_length\"].to_list())\n",
    "fig.show()"
   ]
  },
  {
   "cell_type": "markdown",
   "id": "91b6d81f",
   "metadata": {},
   "source": [
    "But wait! Maybe a polars series is \"array-like\" and can be used as input? \n",
    "Yes it can!\n"
   ]
  },
  {
   "cell_type": "code",
   "execution_count": 315,
   "id": "6b8f9e07",
   "metadata": {},
   "outputs": [
    {
     "data": {
      "application/vnd.plotly.v1+json": {
       "config": {
        "plotlyServerURL": "https://plot.ly"
       },
       "data": [
        {
         "hovertemplate": "x=%{x}<br>y=%{y}<extra></extra>",
         "legendgroup": "",
         "marker": {
          "color": "#636efa",
          "symbol": "circle"
         },
         "mode": "markers",
         "name": "",
         "orientation": "v",
         "showlegend": false,
         "type": "scatter",
         "x": [
          3.5,
          3.0,
          3.2,
          3.1,
          3.6,
          3.9,
          3.4,
          3.4,
          2.9,
          3.1,
          3.7,
          3.4,
          3.0,
          3.0,
          4.0,
          4.4,
          3.9,
          3.5,
          3.8,
          3.8,
          3.4,
          3.7,
          3.6,
          3.3,
          3.4,
          3.0,
          3.4,
          3.5,
          3.4,
          3.2,
          3.1,
          3.4,
          4.1,
          4.2,
          3.1,
          3.2,
          3.5,
          3.1,
          3.0,
          3.4,
          3.5,
          2.3,
          3.2,
          3.5,
          3.8,
          3.0,
          3.8,
          3.2,
          3.7,
          3.3,
          3.2,
          3.2,
          3.1,
          2.3,
          2.8,
          2.8,
          3.3,
          2.4,
          2.9,
          2.7,
          2.0,
          3.0,
          2.2,
          2.9,
          2.9,
          3.1,
          3.0,
          2.7,
          2.2,
          2.5,
          3.2,
          2.8,
          2.5,
          2.8,
          2.9,
          3.0,
          2.8,
          3.0,
          2.9,
          2.6,
          2.4,
          2.4,
          2.7,
          2.7,
          3.0,
          3.4,
          3.1,
          2.3,
          3.0,
          2.5,
          2.6,
          3.0,
          2.6,
          2.3,
          2.7,
          3.0,
          2.9,
          2.9,
          2.5,
          2.8,
          3.3,
          2.7,
          3.0,
          2.9,
          3.0,
          3.0,
          2.5,
          2.9,
          2.5,
          3.6,
          3.2,
          2.7,
          3.0,
          2.5,
          2.8,
          3.2,
          3.0,
          3.8,
          2.6,
          2.2,
          3.2,
          2.8,
          2.8,
          2.7,
          3.3,
          3.2,
          2.8,
          3.0,
          2.8,
          3.0,
          2.8,
          3.8,
          2.8,
          2.8,
          2.6,
          3.0,
          3.4,
          3.1,
          3.0,
          3.1,
          3.1,
          3.1,
          2.7,
          3.2,
          3.3,
          3.0,
          2.5,
          3.0,
          3.4,
          3.0
         ],
         "xaxis": "x",
         "y": [
          5.1,
          4.9,
          4.7,
          4.6,
          5.0,
          5.4,
          4.6,
          5.0,
          4.4,
          4.9,
          5.4,
          4.8,
          4.8,
          4.3,
          5.8,
          5.7,
          5.4,
          5.1,
          5.7,
          5.1,
          5.4,
          5.1,
          4.6,
          5.1,
          4.8,
          5.0,
          5.0,
          5.2,
          5.2,
          4.7,
          4.8,
          5.4,
          5.2,
          5.5,
          4.9,
          5.0,
          5.5,
          4.9,
          4.4,
          5.1,
          5.0,
          4.5,
          4.4,
          5.0,
          5.1,
          4.8,
          5.1,
          4.6,
          5.3,
          5.0,
          7.0,
          6.4,
          6.9,
          5.5,
          6.5,
          5.7,
          6.3,
          4.9,
          6.6,
          5.2,
          5.0,
          5.9,
          6.0,
          6.1,
          5.6,
          6.7,
          5.6,
          5.8,
          6.2,
          5.6,
          5.9,
          6.1,
          6.3,
          6.1,
          6.4,
          6.6,
          6.8,
          6.7,
          6.0,
          5.7,
          5.5,
          5.5,
          5.8,
          6.0,
          5.4,
          6.0,
          6.7,
          6.3,
          5.6,
          5.5,
          5.5,
          6.1,
          5.8,
          5.0,
          5.6,
          5.7,
          5.7,
          6.2,
          5.1,
          5.7,
          6.3,
          5.8,
          7.1,
          6.3,
          6.5,
          7.6,
          4.9,
          7.3,
          6.7,
          7.2,
          6.5,
          6.4,
          6.8,
          5.7,
          5.8,
          6.4,
          6.5,
          7.7,
          7.7,
          6.0,
          6.9,
          5.6,
          7.7,
          6.3,
          6.7,
          7.2,
          6.2,
          6.1,
          6.4,
          7.2,
          7.4,
          7.9,
          6.4,
          6.3,
          6.1,
          7.7,
          6.3,
          6.4,
          6.0,
          6.9,
          6.7,
          6.9,
          5.8,
          6.8,
          6.7,
          6.7,
          6.3,
          6.5,
          6.2,
          5.9
         ],
         "yaxis": "y"
        }
       ],
       "layout": {
        "legend": {
         "tracegroupgap": 0
        },
        "margin": {
         "t": 60
        },
        "template": {
         "data": {
          "bar": [
           {
            "error_x": {
             "color": "#2a3f5f"
            },
            "error_y": {
             "color": "#2a3f5f"
            },
            "marker": {
             "line": {
              "color": "#E5ECF6",
              "width": 0.5
             },
             "pattern": {
              "fillmode": "overlay",
              "size": 10,
              "solidity": 0.2
             }
            },
            "type": "bar"
           }
          ],
          "barpolar": [
           {
            "marker": {
             "line": {
              "color": "#E5ECF6",
              "width": 0.5
             },
             "pattern": {
              "fillmode": "overlay",
              "size": 10,
              "solidity": 0.2
             }
            },
            "type": "barpolar"
           }
          ],
          "carpet": [
           {
            "aaxis": {
             "endlinecolor": "#2a3f5f",
             "gridcolor": "white",
             "linecolor": "white",
             "minorgridcolor": "white",
             "startlinecolor": "#2a3f5f"
            },
            "baxis": {
             "endlinecolor": "#2a3f5f",
             "gridcolor": "white",
             "linecolor": "white",
             "minorgridcolor": "white",
             "startlinecolor": "#2a3f5f"
            },
            "type": "carpet"
           }
          ],
          "choropleth": [
           {
            "colorbar": {
             "outlinewidth": 0,
             "ticks": ""
            },
            "type": "choropleth"
           }
          ],
          "contour": [
           {
            "colorbar": {
             "outlinewidth": 0,
             "ticks": ""
            },
            "colorscale": [
             [
              0.0,
              "#0d0887"
             ],
             [
              0.1111111111111111,
              "#46039f"
             ],
             [
              0.2222222222222222,
              "#7201a8"
             ],
             [
              0.3333333333333333,
              "#9c179e"
             ],
             [
              0.4444444444444444,
              "#bd3786"
             ],
             [
              0.5555555555555556,
              "#d8576b"
             ],
             [
              0.6666666666666666,
              "#ed7953"
             ],
             [
              0.7777777777777778,
              "#fb9f3a"
             ],
             [
              0.8888888888888888,
              "#fdca26"
             ],
             [
              1.0,
              "#f0f921"
             ]
            ],
            "type": "contour"
           }
          ],
          "contourcarpet": [
           {
            "colorbar": {
             "outlinewidth": 0,
             "ticks": ""
            },
            "type": "contourcarpet"
           }
          ],
          "heatmap": [
           {
            "colorbar": {
             "outlinewidth": 0,
             "ticks": ""
            },
            "colorscale": [
             [
              0.0,
              "#0d0887"
             ],
             [
              0.1111111111111111,
              "#46039f"
             ],
             [
              0.2222222222222222,
              "#7201a8"
             ],
             [
              0.3333333333333333,
              "#9c179e"
             ],
             [
              0.4444444444444444,
              "#bd3786"
             ],
             [
              0.5555555555555556,
              "#d8576b"
             ],
             [
              0.6666666666666666,
              "#ed7953"
             ],
             [
              0.7777777777777778,
              "#fb9f3a"
             ],
             [
              0.8888888888888888,
              "#fdca26"
             ],
             [
              1.0,
              "#f0f921"
             ]
            ],
            "type": "heatmap"
           }
          ],
          "heatmapgl": [
           {
            "colorbar": {
             "outlinewidth": 0,
             "ticks": ""
            },
            "colorscale": [
             [
              0.0,
              "#0d0887"
             ],
             [
              0.1111111111111111,
              "#46039f"
             ],
             [
              0.2222222222222222,
              "#7201a8"
             ],
             [
              0.3333333333333333,
              "#9c179e"
             ],
             [
              0.4444444444444444,
              "#bd3786"
             ],
             [
              0.5555555555555556,
              "#d8576b"
             ],
             [
              0.6666666666666666,
              "#ed7953"
             ],
             [
              0.7777777777777778,
              "#fb9f3a"
             ],
             [
              0.8888888888888888,
              "#fdca26"
             ],
             [
              1.0,
              "#f0f921"
             ]
            ],
            "type": "heatmapgl"
           }
          ],
          "histogram": [
           {
            "marker": {
             "pattern": {
              "fillmode": "overlay",
              "size": 10,
              "solidity": 0.2
             }
            },
            "type": "histogram"
           }
          ],
          "histogram2d": [
           {
            "colorbar": {
             "outlinewidth": 0,
             "ticks": ""
            },
            "colorscale": [
             [
              0.0,
              "#0d0887"
             ],
             [
              0.1111111111111111,
              "#46039f"
             ],
             [
              0.2222222222222222,
              "#7201a8"
             ],
             [
              0.3333333333333333,
              "#9c179e"
             ],
             [
              0.4444444444444444,
              "#bd3786"
             ],
             [
              0.5555555555555556,
              "#d8576b"
             ],
             [
              0.6666666666666666,
              "#ed7953"
             ],
             [
              0.7777777777777778,
              "#fb9f3a"
             ],
             [
              0.8888888888888888,
              "#fdca26"
             ],
             [
              1.0,
              "#f0f921"
             ]
            ],
            "type": "histogram2d"
           }
          ],
          "histogram2dcontour": [
           {
            "colorbar": {
             "outlinewidth": 0,
             "ticks": ""
            },
            "colorscale": [
             [
              0.0,
              "#0d0887"
             ],
             [
              0.1111111111111111,
              "#46039f"
             ],
             [
              0.2222222222222222,
              "#7201a8"
             ],
             [
              0.3333333333333333,
              "#9c179e"
             ],
             [
              0.4444444444444444,
              "#bd3786"
             ],
             [
              0.5555555555555556,
              "#d8576b"
             ],
             [
              0.6666666666666666,
              "#ed7953"
             ],
             [
              0.7777777777777778,
              "#fb9f3a"
             ],
             [
              0.8888888888888888,
              "#fdca26"
             ],
             [
              1.0,
              "#f0f921"
             ]
            ],
            "type": "histogram2dcontour"
           }
          ],
          "mesh3d": [
           {
            "colorbar": {
             "outlinewidth": 0,
             "ticks": ""
            },
            "type": "mesh3d"
           }
          ],
          "parcoords": [
           {
            "line": {
             "colorbar": {
              "outlinewidth": 0,
              "ticks": ""
             }
            },
            "type": "parcoords"
           }
          ],
          "pie": [
           {
            "automargin": true,
            "type": "pie"
           }
          ],
          "scatter": [
           {
            "fillpattern": {
             "fillmode": "overlay",
             "size": 10,
             "solidity": 0.2
            },
            "type": "scatter"
           }
          ],
          "scatter3d": [
           {
            "line": {
             "colorbar": {
              "outlinewidth": 0,
              "ticks": ""
             }
            },
            "marker": {
             "colorbar": {
              "outlinewidth": 0,
              "ticks": ""
             }
            },
            "type": "scatter3d"
           }
          ],
          "scattercarpet": [
           {
            "marker": {
             "colorbar": {
              "outlinewidth": 0,
              "ticks": ""
             }
            },
            "type": "scattercarpet"
           }
          ],
          "scattergeo": [
           {
            "marker": {
             "colorbar": {
              "outlinewidth": 0,
              "ticks": ""
             }
            },
            "type": "scattergeo"
           }
          ],
          "scattergl": [
           {
            "marker": {
             "colorbar": {
              "outlinewidth": 0,
              "ticks": ""
             }
            },
            "type": "scattergl"
           }
          ],
          "scattermapbox": [
           {
            "marker": {
             "colorbar": {
              "outlinewidth": 0,
              "ticks": ""
             }
            },
            "type": "scattermapbox"
           }
          ],
          "scatterpolar": [
           {
            "marker": {
             "colorbar": {
              "outlinewidth": 0,
              "ticks": ""
             }
            },
            "type": "scatterpolar"
           }
          ],
          "scatterpolargl": [
           {
            "marker": {
             "colorbar": {
              "outlinewidth": 0,
              "ticks": ""
             }
            },
            "type": "scatterpolargl"
           }
          ],
          "scatterternary": [
           {
            "marker": {
             "colorbar": {
              "outlinewidth": 0,
              "ticks": ""
             }
            },
            "type": "scatterternary"
           }
          ],
          "surface": [
           {
            "colorbar": {
             "outlinewidth": 0,
             "ticks": ""
            },
            "colorscale": [
             [
              0.0,
              "#0d0887"
             ],
             [
              0.1111111111111111,
              "#46039f"
             ],
             [
              0.2222222222222222,
              "#7201a8"
             ],
             [
              0.3333333333333333,
              "#9c179e"
             ],
             [
              0.4444444444444444,
              "#bd3786"
             ],
             [
              0.5555555555555556,
              "#d8576b"
             ],
             [
              0.6666666666666666,
              "#ed7953"
             ],
             [
              0.7777777777777778,
              "#fb9f3a"
             ],
             [
              0.8888888888888888,
              "#fdca26"
             ],
             [
              1.0,
              "#f0f921"
             ]
            ],
            "type": "surface"
           }
          ],
          "table": [
           {
            "cells": {
             "fill": {
              "color": "#EBF0F8"
             },
             "line": {
              "color": "white"
             }
            },
            "header": {
             "fill": {
              "color": "#C8D4E3"
             },
             "line": {
              "color": "white"
             }
            },
            "type": "table"
           }
          ]
         },
         "layout": {
          "annotationdefaults": {
           "arrowcolor": "#2a3f5f",
           "arrowhead": 0,
           "arrowwidth": 1
          },
          "autotypenumbers": "strict",
          "coloraxis": {
           "colorbar": {
            "outlinewidth": 0,
            "ticks": ""
           }
          },
          "colorscale": {
           "diverging": [
            [
             0,
             "#8e0152"
            ],
            [
             0.1,
             "#c51b7d"
            ],
            [
             0.2,
             "#de77ae"
            ],
            [
             0.3,
             "#f1b6da"
            ],
            [
             0.4,
             "#fde0ef"
            ],
            [
             0.5,
             "#f7f7f7"
            ],
            [
             0.6,
             "#e6f5d0"
            ],
            [
             0.7,
             "#b8e186"
            ],
            [
             0.8,
             "#7fbc41"
            ],
            [
             0.9,
             "#4d9221"
            ],
            [
             1,
             "#276419"
            ]
           ],
           "sequential": [
            [
             0.0,
             "#0d0887"
            ],
            [
             0.1111111111111111,
             "#46039f"
            ],
            [
             0.2222222222222222,
             "#7201a8"
            ],
            [
             0.3333333333333333,
             "#9c179e"
            ],
            [
             0.4444444444444444,
             "#bd3786"
            ],
            [
             0.5555555555555556,
             "#d8576b"
            ],
            [
             0.6666666666666666,
             "#ed7953"
            ],
            [
             0.7777777777777778,
             "#fb9f3a"
            ],
            [
             0.8888888888888888,
             "#fdca26"
            ],
            [
             1.0,
             "#f0f921"
            ]
           ],
           "sequentialminus": [
            [
             0.0,
             "#0d0887"
            ],
            [
             0.1111111111111111,
             "#46039f"
            ],
            [
             0.2222222222222222,
             "#7201a8"
            ],
            [
             0.3333333333333333,
             "#9c179e"
            ],
            [
             0.4444444444444444,
             "#bd3786"
            ],
            [
             0.5555555555555556,
             "#d8576b"
            ],
            [
             0.6666666666666666,
             "#ed7953"
            ],
            [
             0.7777777777777778,
             "#fb9f3a"
            ],
            [
             0.8888888888888888,
             "#fdca26"
            ],
            [
             1.0,
             "#f0f921"
            ]
           ]
          },
          "colorway": [
           "#636efa",
           "#EF553B",
           "#00cc96",
           "#ab63fa",
           "#FFA15A",
           "#19d3f3",
           "#FF6692",
           "#B6E880",
           "#FF97FF",
           "#FECB52"
          ],
          "font": {
           "color": "#2a3f5f"
          },
          "geo": {
           "bgcolor": "white",
           "lakecolor": "white",
           "landcolor": "#E5ECF6",
           "showlakes": true,
           "showland": true,
           "subunitcolor": "white"
          },
          "hoverlabel": {
           "align": "left"
          },
          "hovermode": "closest",
          "mapbox": {
           "style": "light"
          },
          "paper_bgcolor": "white",
          "plot_bgcolor": "#E5ECF6",
          "polar": {
           "angularaxis": {
            "gridcolor": "white",
            "linecolor": "white",
            "ticks": ""
           },
           "bgcolor": "#E5ECF6",
           "radialaxis": {
            "gridcolor": "white",
            "linecolor": "white",
            "ticks": ""
           }
          },
          "scene": {
           "xaxis": {
            "backgroundcolor": "#E5ECF6",
            "gridcolor": "white",
            "gridwidth": 2,
            "linecolor": "white",
            "showbackground": true,
            "ticks": "",
            "zerolinecolor": "white"
           },
           "yaxis": {
            "backgroundcolor": "#E5ECF6",
            "gridcolor": "white",
            "gridwidth": 2,
            "linecolor": "white",
            "showbackground": true,
            "ticks": "",
            "zerolinecolor": "white"
           },
           "zaxis": {
            "backgroundcolor": "#E5ECF6",
            "gridcolor": "white",
            "gridwidth": 2,
            "linecolor": "white",
            "showbackground": true,
            "ticks": "",
            "zerolinecolor": "white"
           }
          },
          "shapedefaults": {
           "line": {
            "color": "#2a3f5f"
           }
          },
          "ternary": {
           "aaxis": {
            "gridcolor": "white",
            "linecolor": "white",
            "ticks": ""
           },
           "baxis": {
            "gridcolor": "white",
            "linecolor": "white",
            "ticks": ""
           },
           "bgcolor": "#E5ECF6",
           "caxis": {
            "gridcolor": "white",
            "linecolor": "white",
            "ticks": ""
           }
          },
          "title": {
           "x": 0.05
          },
          "xaxis": {
           "automargin": true,
           "gridcolor": "white",
           "linecolor": "white",
           "ticks": "",
           "title": {
            "standoff": 15
           },
           "zerolinecolor": "white",
           "zerolinewidth": 2
          },
          "yaxis": {
           "automargin": true,
           "gridcolor": "white",
           "linecolor": "white",
           "ticks": "",
           "title": {
            "standoff": 15
           },
           "zerolinecolor": "white",
           "zerolinewidth": 2
          }
         }
        },
        "xaxis": {
         "anchor": "y",
         "domain": [
          0.0,
          1.0
         ],
         "title": {
          "text": "x"
         }
        },
        "yaxis": {
         "anchor": "x",
         "domain": [
          0.0,
          1.0
         ],
         "title": {
          "text": "y"
         }
        }
       }
      },
      "text/html": [
       "<div>                            <div id=\"40f2e4e8-8cd9-49f8-89ca-db7a7df1ee11\" class=\"plotly-graph-div\" style=\"height:525px; width:100%;\"></div>            <script type=\"text/javascript\">                require([\"plotly\"], function(Plotly) {                    window.PLOTLYENV=window.PLOTLYENV || {};                                    if (document.getElementById(\"40f2e4e8-8cd9-49f8-89ca-db7a7df1ee11\")) {                    Plotly.newPlot(                        \"40f2e4e8-8cd9-49f8-89ca-db7a7df1ee11\",                        [{\"hovertemplate\":\"x=%{x}<br>y=%{y}<extra></extra>\",\"legendgroup\":\"\",\"marker\":{\"color\":\"#636efa\",\"symbol\":\"circle\"},\"mode\":\"markers\",\"name\":\"\",\"orientation\":\"v\",\"showlegend\":false,\"x\":[3.5,3.0,3.2,3.1,3.6,3.9,3.4,3.4,2.9,3.1,3.7,3.4,3.0,3.0,4.0,4.4,3.9,3.5,3.8,3.8,3.4,3.7,3.6,3.3,3.4,3.0,3.4,3.5,3.4,3.2,3.1,3.4,4.1,4.2,3.1,3.2,3.5,3.1,3.0,3.4,3.5,2.3,3.2,3.5,3.8,3.0,3.8,3.2,3.7,3.3,3.2,3.2,3.1,2.3,2.8,2.8,3.3,2.4,2.9,2.7,2.0,3.0,2.2,2.9,2.9,3.1,3.0,2.7,2.2,2.5,3.2,2.8,2.5,2.8,2.9,3.0,2.8,3.0,2.9,2.6,2.4,2.4,2.7,2.7,3.0,3.4,3.1,2.3,3.0,2.5,2.6,3.0,2.6,2.3,2.7,3.0,2.9,2.9,2.5,2.8,3.3,2.7,3.0,2.9,3.0,3.0,2.5,2.9,2.5,3.6,3.2,2.7,3.0,2.5,2.8,3.2,3.0,3.8,2.6,2.2,3.2,2.8,2.8,2.7,3.3,3.2,2.8,3.0,2.8,3.0,2.8,3.8,2.8,2.8,2.6,3.0,3.4,3.1,3.0,3.1,3.1,3.1,2.7,3.2,3.3,3.0,2.5,3.0,3.4,3.0],\"xaxis\":\"x\",\"y\":[5.1,4.9,4.7,4.6,5.0,5.4,4.6,5.0,4.4,4.9,5.4,4.8,4.8,4.3,5.8,5.7,5.4,5.1,5.7,5.1,5.4,5.1,4.6,5.1,4.8,5.0,5.0,5.2,5.2,4.7,4.8,5.4,5.2,5.5,4.9,5.0,5.5,4.9,4.4,5.1,5.0,4.5,4.4,5.0,5.1,4.8,5.1,4.6,5.3,5.0,7.0,6.4,6.9,5.5,6.5,5.7,6.3,4.9,6.6,5.2,5.0,5.9,6.0,6.1,5.6,6.7,5.6,5.8,6.2,5.6,5.9,6.1,6.3,6.1,6.4,6.6,6.8,6.7,6.0,5.7,5.5,5.5,5.8,6.0,5.4,6.0,6.7,6.3,5.6,5.5,5.5,6.1,5.8,5.0,5.6,5.7,5.7,6.2,5.1,5.7,6.3,5.8,7.1,6.3,6.5,7.6,4.9,7.3,6.7,7.2,6.5,6.4,6.8,5.7,5.8,6.4,6.5,7.7,7.7,6.0,6.9,5.6,7.7,6.3,6.7,7.2,6.2,6.1,6.4,7.2,7.4,7.9,6.4,6.3,6.1,7.7,6.3,6.4,6.0,6.9,6.7,6.9,5.8,6.8,6.7,6.7,6.3,6.5,6.2,5.9],\"yaxis\":\"y\",\"type\":\"scatter\"}],                        {\"template\":{\"data\":{\"histogram2dcontour\":[{\"type\":\"histogram2dcontour\",\"colorbar\":{\"outlinewidth\":0,\"ticks\":\"\"},\"colorscale\":[[0.0,\"#0d0887\"],[0.1111111111111111,\"#46039f\"],[0.2222222222222222,\"#7201a8\"],[0.3333333333333333,\"#9c179e\"],[0.4444444444444444,\"#bd3786\"],[0.5555555555555556,\"#d8576b\"],[0.6666666666666666,\"#ed7953\"],[0.7777777777777778,\"#fb9f3a\"],[0.8888888888888888,\"#fdca26\"],[1.0,\"#f0f921\"]]}],\"choropleth\":[{\"type\":\"choropleth\",\"colorbar\":{\"outlinewidth\":0,\"ticks\":\"\"}}],\"histogram2d\":[{\"type\":\"histogram2d\",\"colorbar\":{\"outlinewidth\":0,\"ticks\":\"\"},\"colorscale\":[[0.0,\"#0d0887\"],[0.1111111111111111,\"#46039f\"],[0.2222222222222222,\"#7201a8\"],[0.3333333333333333,\"#9c179e\"],[0.4444444444444444,\"#bd3786\"],[0.5555555555555556,\"#d8576b\"],[0.6666666666666666,\"#ed7953\"],[0.7777777777777778,\"#fb9f3a\"],[0.8888888888888888,\"#fdca26\"],[1.0,\"#f0f921\"]]}],\"heatmap\":[{\"type\":\"heatmap\",\"colorbar\":{\"outlinewidth\":0,\"ticks\":\"\"},\"colorscale\":[[0.0,\"#0d0887\"],[0.1111111111111111,\"#46039f\"],[0.2222222222222222,\"#7201a8\"],[0.3333333333333333,\"#9c179e\"],[0.4444444444444444,\"#bd3786\"],[0.5555555555555556,\"#d8576b\"],[0.6666666666666666,\"#ed7953\"],[0.7777777777777778,\"#fb9f3a\"],[0.8888888888888888,\"#fdca26\"],[1.0,\"#f0f921\"]]}],\"heatmapgl\":[{\"type\":\"heatmapgl\",\"colorbar\":{\"outlinewidth\":0,\"ticks\":\"\"},\"colorscale\":[[0.0,\"#0d0887\"],[0.1111111111111111,\"#46039f\"],[0.2222222222222222,\"#7201a8\"],[0.3333333333333333,\"#9c179e\"],[0.4444444444444444,\"#bd3786\"],[0.5555555555555556,\"#d8576b\"],[0.6666666666666666,\"#ed7953\"],[0.7777777777777778,\"#fb9f3a\"],[0.8888888888888888,\"#fdca26\"],[1.0,\"#f0f921\"]]}],\"contourcarpet\":[{\"type\":\"contourcarpet\",\"colorbar\":{\"outlinewidth\":0,\"ticks\":\"\"}}],\"contour\":[{\"type\":\"contour\",\"colorbar\":{\"outlinewidth\":0,\"ticks\":\"\"},\"colorscale\":[[0.0,\"#0d0887\"],[0.1111111111111111,\"#46039f\"],[0.2222222222222222,\"#7201a8\"],[0.3333333333333333,\"#9c179e\"],[0.4444444444444444,\"#bd3786\"],[0.5555555555555556,\"#d8576b\"],[0.6666666666666666,\"#ed7953\"],[0.7777777777777778,\"#fb9f3a\"],[0.8888888888888888,\"#fdca26\"],[1.0,\"#f0f921\"]]}],\"surface\":[{\"type\":\"surface\",\"colorbar\":{\"outlinewidth\":0,\"ticks\":\"\"},\"colorscale\":[[0.0,\"#0d0887\"],[0.1111111111111111,\"#46039f\"],[0.2222222222222222,\"#7201a8\"],[0.3333333333333333,\"#9c179e\"],[0.4444444444444444,\"#bd3786\"],[0.5555555555555556,\"#d8576b\"],[0.6666666666666666,\"#ed7953\"],[0.7777777777777778,\"#fb9f3a\"],[0.8888888888888888,\"#fdca26\"],[1.0,\"#f0f921\"]]}],\"mesh3d\":[{\"type\":\"mesh3d\",\"colorbar\":{\"outlinewidth\":0,\"ticks\":\"\"}}],\"scatter\":[{\"fillpattern\":{\"fillmode\":\"overlay\",\"size\":10,\"solidity\":0.2},\"type\":\"scatter\"}],\"parcoords\":[{\"type\":\"parcoords\",\"line\":{\"colorbar\":{\"outlinewidth\":0,\"ticks\":\"\"}}}],\"scatterpolargl\":[{\"type\":\"scatterpolargl\",\"marker\":{\"colorbar\":{\"outlinewidth\":0,\"ticks\":\"\"}}}],\"bar\":[{\"error_x\":{\"color\":\"#2a3f5f\"},\"error_y\":{\"color\":\"#2a3f5f\"},\"marker\":{\"line\":{\"color\":\"#E5ECF6\",\"width\":0.5},\"pattern\":{\"fillmode\":\"overlay\",\"size\":10,\"solidity\":0.2}},\"type\":\"bar\"}],\"scattergeo\":[{\"type\":\"scattergeo\",\"marker\":{\"colorbar\":{\"outlinewidth\":0,\"ticks\":\"\"}}}],\"scatterpolar\":[{\"type\":\"scatterpolar\",\"marker\":{\"colorbar\":{\"outlinewidth\":0,\"ticks\":\"\"}}}],\"histogram\":[{\"marker\":{\"pattern\":{\"fillmode\":\"overlay\",\"size\":10,\"solidity\":0.2}},\"type\":\"histogram\"}],\"scattergl\":[{\"type\":\"scattergl\",\"marker\":{\"colorbar\":{\"outlinewidth\":0,\"ticks\":\"\"}}}],\"scatter3d\":[{\"type\":\"scatter3d\",\"line\":{\"colorbar\":{\"outlinewidth\":0,\"ticks\":\"\"}},\"marker\":{\"colorbar\":{\"outlinewidth\":0,\"ticks\":\"\"}}}],\"scattermapbox\":[{\"type\":\"scattermapbox\",\"marker\":{\"colorbar\":{\"outlinewidth\":0,\"ticks\":\"\"}}}],\"scatterternary\":[{\"type\":\"scatterternary\",\"marker\":{\"colorbar\":{\"outlinewidth\":0,\"ticks\":\"\"}}}],\"scattercarpet\":[{\"type\":\"scattercarpet\",\"marker\":{\"colorbar\":{\"outlinewidth\":0,\"ticks\":\"\"}}}],\"carpet\":[{\"aaxis\":{\"endlinecolor\":\"#2a3f5f\",\"gridcolor\":\"white\",\"linecolor\":\"white\",\"minorgridcolor\":\"white\",\"startlinecolor\":\"#2a3f5f\"},\"baxis\":{\"endlinecolor\":\"#2a3f5f\",\"gridcolor\":\"white\",\"linecolor\":\"white\",\"minorgridcolor\":\"white\",\"startlinecolor\":\"#2a3f5f\"},\"type\":\"carpet\"}],\"table\":[{\"cells\":{\"fill\":{\"color\":\"#EBF0F8\"},\"line\":{\"color\":\"white\"}},\"header\":{\"fill\":{\"color\":\"#C8D4E3\"},\"line\":{\"color\":\"white\"}},\"type\":\"table\"}],\"barpolar\":[{\"marker\":{\"line\":{\"color\":\"#E5ECF6\",\"width\":0.5},\"pattern\":{\"fillmode\":\"overlay\",\"size\":10,\"solidity\":0.2}},\"type\":\"barpolar\"}],\"pie\":[{\"automargin\":true,\"type\":\"pie\"}]},\"layout\":{\"autotypenumbers\":\"strict\",\"colorway\":[\"#636efa\",\"#EF553B\",\"#00cc96\",\"#ab63fa\",\"#FFA15A\",\"#19d3f3\",\"#FF6692\",\"#B6E880\",\"#FF97FF\",\"#FECB52\"],\"font\":{\"color\":\"#2a3f5f\"},\"hovermode\":\"closest\",\"hoverlabel\":{\"align\":\"left\"},\"paper_bgcolor\":\"white\",\"plot_bgcolor\":\"#E5ECF6\",\"polar\":{\"bgcolor\":\"#E5ECF6\",\"angularaxis\":{\"gridcolor\":\"white\",\"linecolor\":\"white\",\"ticks\":\"\"},\"radialaxis\":{\"gridcolor\":\"white\",\"linecolor\":\"white\",\"ticks\":\"\"}},\"ternary\":{\"bgcolor\":\"#E5ECF6\",\"aaxis\":{\"gridcolor\":\"white\",\"linecolor\":\"white\",\"ticks\":\"\"},\"baxis\":{\"gridcolor\":\"white\",\"linecolor\":\"white\",\"ticks\":\"\"},\"caxis\":{\"gridcolor\":\"white\",\"linecolor\":\"white\",\"ticks\":\"\"}},\"coloraxis\":{\"colorbar\":{\"outlinewidth\":0,\"ticks\":\"\"}},\"colorscale\":{\"sequential\":[[0.0,\"#0d0887\"],[0.1111111111111111,\"#46039f\"],[0.2222222222222222,\"#7201a8\"],[0.3333333333333333,\"#9c179e\"],[0.4444444444444444,\"#bd3786\"],[0.5555555555555556,\"#d8576b\"],[0.6666666666666666,\"#ed7953\"],[0.7777777777777778,\"#fb9f3a\"],[0.8888888888888888,\"#fdca26\"],[1.0,\"#f0f921\"]],\"sequentialminus\":[[0.0,\"#0d0887\"],[0.1111111111111111,\"#46039f\"],[0.2222222222222222,\"#7201a8\"],[0.3333333333333333,\"#9c179e\"],[0.4444444444444444,\"#bd3786\"],[0.5555555555555556,\"#d8576b\"],[0.6666666666666666,\"#ed7953\"],[0.7777777777777778,\"#fb9f3a\"],[0.8888888888888888,\"#fdca26\"],[1.0,\"#f0f921\"]],\"diverging\":[[0,\"#8e0152\"],[0.1,\"#c51b7d\"],[0.2,\"#de77ae\"],[0.3,\"#f1b6da\"],[0.4,\"#fde0ef\"],[0.5,\"#f7f7f7\"],[0.6,\"#e6f5d0\"],[0.7,\"#b8e186\"],[0.8,\"#7fbc41\"],[0.9,\"#4d9221\"],[1,\"#276419\"]]},\"xaxis\":{\"gridcolor\":\"white\",\"linecolor\":\"white\",\"ticks\":\"\",\"title\":{\"standoff\":15},\"zerolinecolor\":\"white\",\"automargin\":true,\"zerolinewidth\":2},\"yaxis\":{\"gridcolor\":\"white\",\"linecolor\":\"white\",\"ticks\":\"\",\"title\":{\"standoff\":15},\"zerolinecolor\":\"white\",\"automargin\":true,\"zerolinewidth\":2},\"scene\":{\"xaxis\":{\"backgroundcolor\":\"#E5ECF6\",\"gridcolor\":\"white\",\"linecolor\":\"white\",\"showbackground\":true,\"ticks\":\"\",\"zerolinecolor\":\"white\",\"gridwidth\":2},\"yaxis\":{\"backgroundcolor\":\"#E5ECF6\",\"gridcolor\":\"white\",\"linecolor\":\"white\",\"showbackground\":true,\"ticks\":\"\",\"zerolinecolor\":\"white\",\"gridwidth\":2},\"zaxis\":{\"backgroundcolor\":\"#E5ECF6\",\"gridcolor\":\"white\",\"linecolor\":\"white\",\"showbackground\":true,\"ticks\":\"\",\"zerolinecolor\":\"white\",\"gridwidth\":2}},\"shapedefaults\":{\"line\":{\"color\":\"#2a3f5f\"}},\"annotationdefaults\":{\"arrowcolor\":\"#2a3f5f\",\"arrowhead\":0,\"arrowwidth\":1},\"geo\":{\"bgcolor\":\"white\",\"landcolor\":\"#E5ECF6\",\"subunitcolor\":\"white\",\"showland\":true,\"showlakes\":true,\"lakecolor\":\"white\"},\"title\":{\"x\":0.05},\"mapbox\":{\"style\":\"light\"}}},\"xaxis\":{\"anchor\":\"y\",\"domain\":[0.0,1.0],\"title\":{\"text\":\"x\"}},\"yaxis\":{\"anchor\":\"x\",\"domain\":[0.0,1.0],\"title\":{\"text\":\"y\"}},\"legend\":{\"tracegroupgap\":0},\"margin\":{\"t\":60}},                        {\"responsive\": true}                    ).then(function(){\n",
       "                            \n",
       "var gd = document.getElementById('40f2e4e8-8cd9-49f8-89ca-db7a7df1ee11');\n",
       "var x = new MutationObserver(function (mutations, observer) {{\n",
       "        var display = window.getComputedStyle(gd).display;\n",
       "        if (!display || display === 'none') {{\n",
       "            console.log([gd, 'removed!']);\n",
       "            Plotly.purge(gd);\n",
       "            observer.disconnect();\n",
       "        }}\n",
       "}});\n",
       "\n",
       "// Listen for the removal of the full notebook cells\n",
       "var notebookContainer = gd.closest('#notebook-container');\n",
       "if (notebookContainer) {{\n",
       "    x.observe(notebookContainer, {childList: true});\n",
       "}}\n",
       "\n",
       "// Listen for the clearing of the current output cell\n",
       "var outputEl = gd.closest('.output');\n",
       "if (outputEl) {{\n",
       "    x.observe(outputEl, {childList: true});\n",
       "}}\n",
       "\n",
       "                        })                };                });            </script>        </div>"
      ]
     },
     "metadata": {},
     "output_type": "display_data"
    }
   ],
   "source": [
    "fig = px.scatter(\n",
    "    x=iris[\"sepal_width\"], \n",
    "    y=iris[\"sepal_length\"])\n",
    "fig.show()"
   ]
  },
  {
   "cell_type": "markdown",
   "id": "41d3d655",
   "metadata": {},
   "source": [
    "Can a polars frame be used as input?\n",
    "No it can not. The following will not work:"
   ]
  },
  {
   "cell_type": "code",
   "execution_count": 316,
   "id": "43a1106c",
   "metadata": {},
   "outputs": [],
   "source": [
    "#| eval: false\n",
    "#| \n",
    "fig = px.scatter(data_frame=iris,\n",
    "    x=\"sepal_width\",\n",
    "    y=\"sepal_length\")\n",
    "fig.show()"
   ]
  },
  {
   "cell_type": "markdown",
   "id": "603f3671",
   "metadata": {},
   "source": [
    "## Matplotlib Functions\n",
    "\n",
    "The above discussion applies to matplotlib functions as well; with the exception that matplotlib functions already support polars frames as input.\n",
    "\n",
    "Inputing polars series:"
   ]
  },
  {
   "cell_type": "code",
   "execution_count": 317,
   "id": "f41fed77",
   "metadata": {},
   "outputs": [
    {
     "data": {
      "text/plain": [
       "<matplotlib.collections.PathCollection at 0x7f4e0fe75ae0>"
      ]
     },
     "execution_count": 311,
     "metadata": {},
     "output_type": "execute_result"
    },
    {
     "data": {
      "image/png": "[encoded data removed]",
      "text/plain": [
       "<Figure size 672x480 with 1 Axes>"
      ]
     },
     "metadata": {
      "image/png": {
       "height": 411,
       "width": 577
      }
     },
     "output_type": "display_data"
    }
   ],
   "source": [
    "fig, ax = plt.subplots()\n",
    "ax.scatter(\n",
    "    x=iris[\"sepal_width\"], \n",
    "    y=iris[\"sepal_length\"])"
   ]
  },
  {
   "cell_type": "markdown",
   "id": "b6f26c14",
   "metadata": {},
   "source": [
    "Inputing polars frames:"
   ]
  },
  {
   "cell_type": "code",
   "execution_count": 318,
   "id": "90ac6680",
   "metadata": {},
   "outputs": [
    {
     "data": {
      "text/plain": [
       "<matplotlib.collections.PathCollection at 0x7f4f8b2b9720>"
      ]
     },
     "execution_count": 312,
     "metadata": {},
     "output_type": "execute_result"
    },
    {
     "data": {
      "image/png": "[encoded data removed]",
      "text/plain": [
       "<Figure size 672x480 with 1 Axes>"
      ]
     },
     "metadata": {
      "image/png": {
       "height": 411,
       "width": 577
      }
     },
     "output_type": "display_data"
    }
   ],
   "source": [
    "fig, ax = plt.subplots()\n",
    "ax.scatter(\n",
    "    data=iris,\n",
    "    x=\"sepal_width\",\n",
    "    y=\"sepal_length\")"
   ]
  },
  {
   "cell_type": "markdown",
   "id": "517a6e15",
   "metadata": {},
   "source": [
    "# Polars and ML\n",
    "\n",
    "\"How do to machine learning with polars?\" is not a well defined question. \n",
    "ML can be done with many libraries, and the answer depends on the library you are using.\n",
    "One possibility is converting polars dataframes to a numpy arrays. This is very easy with `pl.Float64` and `pl.Int64` series which convert trivially. \n",
    "Converting `pl.Utf8` and `pl.Categorical` dtypes is a bit more involved, but still possible. For instance, by using `polars.DataFrame.to_dummies()`, `polars.get_dummies()`, or `polars.Series.to_dummies()`.\n",
    "\n",
    "\n",
    "## Polars and Patsy\n",
    "\n",
    "Patsy is a python library for describing statistical models (especially linear models and generalized linear models) and building design matrices.\n"
   ]
  },
  {
   "cell_type": "code",
   "execution_count": 319,
   "id": "93ac8965",
   "metadata": {},
   "outputs": [],
   "source": [
    "import patsy as pt\n",
    "\n",
    "#make a dataframe\n",
    "data = pd.DataFrame(\n",
    "    np.random.randn(100, 3), \n",
    "    columns=[\"y\", \"x1\", \"x2\"])"
   ]
  },
  {
   "cell_type": "markdown",
   "id": "2a8b7375",
   "metadata": {},
   "source": [
    "Use patsy to make a design matrix $$X$$, and a target vector $$y$$ from a pandas dataframe."
   ]
  },
  {
   "cell_type": "code",
   "execution_count": 320,
   "id": "9a7ee754",
   "metadata": {},
   "outputs": [
    {
     "data": {
      "text/plain": [
       "array([[ 1.        ,  0.99734545,  0.2829785 ],\n",
       "       [ 1.        , -0.57860025,  1.65143654],\n",
       "       [ 1.        , -0.42891263,  1.26593626]])"
      ]
     },
     "execution_count": 314,
     "metadata": {},
     "output_type": "execute_result"
    }
   ],
   "source": [
    "formula = 'y ~ x1 + x2'\n",
    "y, X = pt.dmatrices(formula, data)\n",
    "\n",
    "X[:3]"
   ]
  },
  {
   "cell_type": "code",
   "execution_count": 321,
   "id": "a84c13fb",
   "metadata": {},
   "outputs": [
    {
     "data": {
      "text/plain": [
       "array([[-1.0856306 ],\n",
       "       [-1.50629471],\n",
       "       [-2.42667924]])"
      ]
     },
     "execution_count": 315,
     "metadata": {},
     "output_type": "execute_result"
    }
   ],
   "source": [
    "y[:3]"
   ]
  },
  {
   "cell_type": "markdown",
   "id": "b001e20f",
   "metadata": {},
   "source": [
    "Does the same work with polars? Yes!"
   ]
  },
  {
   "cell_type": "code",
   "execution_count": 322,
   "id": "f11f1851",
   "metadata": {},
   "outputs": [
    {
     "data": {
      "text/plain": [
       "array([[-1.0856306 ],\n",
       "       [-1.50629471],\n",
       "       [-2.42667924]])"
      ]
     },
     "execution_count": 316,
     "metadata": {},
     "output_type": "execute_result"
    }
   ],
   "source": [
    "data_polars= pl.DataFrame(data)\n",
    "X, y = pt.dmatrices(formula, data_polars)\n",
    "X[:3]"
   ]
  },
  {
   "cell_type": "markdown",
   "id": "8ae14751",
   "metadata": {},
   "source": [
    "## Effect Coding and Contrasts\n",
    "\n",
    "There are [many ways](https://stats.oarc.ucla.edu/spss/faq/coding-systems-for-categorical-variables-in-regression-analysis/) to encode categorical variables.\n",
    "For predictions, dummy coding is enough. \n",
    "If you want to discuss and infer on effect sizes, you may want to use other coding schemes.\n",
    "\n",
    "One way to go about is to use the [category_encoders](http://contrib.scikit-learn.org/category_encoders/) library.\n",
    "\n",
    "We start by making some categorical data."
   ]
  },
  {
   "cell_type": "code",
   "execution_count": 323,
   "id": "a81db72e",
   "metadata": {},
   "outputs": [
    {
     "data": {
      "text/html": [
       "<div>\n",
       "<style scoped>\n",
       "    .dataframe tbody tr th:only-of-type {\n",
       "        vertical-align: middle;\n",
       "    }\n",
       "\n",
       "    .dataframe tbody tr th {\n",
       "        vertical-align: top;\n",
       "    }\n",
       "\n",
       "    .dataframe thead th {\n",
       "        text-align: right;\n",
       "    }\n",
       "\n",
       "    .dataframe td {\n",
       "        white-space: pre;\n",
       "    }\n",
       "\n",
       "    .dataframe td {\n",
       "        padding-top: 0;\n",
       "    }\n",
       "\n",
       "    .dataframe td {\n",
       "        padding-bottom: 0;\n",
       "    }\n",
       "\n",
       "    .dataframe td {\n",
       "        line-height: 95%;\n",
       "    }\n",
       "</style>\n",
       "<table border=\"1\" class=\"dataframe\">\n",
       "<small>shape: (5, 4)</small>\n",
       "<thead>\n",
       "<tr>\n",
       "<th>\n",
       "y\n",
       "</th>\n",
       "<th>\n",
       "x1\n",
       "</th>\n",
       "<th>\n",
       "x2\n",
       "</th>\n",
       "<th>\n",
       "cat\n",
       "</th>\n",
       "</tr>\n",
       "<tr>\n",
       "<td>\n",
       "f64\n",
       "</td>\n",
       "<td>\n",
       "f64\n",
       "</td>\n",
       "<td>\n",
       "f64\n",
       "</td>\n",
       "<td>\n",
       "str\n",
       "</td>\n",
       "</tr>\n",
       "</thead>\n",
       "<tbody>\n",
       "<tr>\n",
       "<td>\n",
       "-1.085631\n",
       "</td>\n",
       "<td>\n",
       "0.997345\n",
       "</td>\n",
       "<td>\n",
       "0.282978\n",
       "</td>\n",
       "<td>\n",
       "&quot;d&quot;\n",
       "</td>\n",
       "</tr>\n",
       "<tr>\n",
       "<td>\n",
       "-1.506295\n",
       "</td>\n",
       "<td>\n",
       "-0.5786\n",
       "</td>\n",
       "<td>\n",
       "1.651437\n",
       "</td>\n",
       "<td>\n",
       "&quot;b&quot;\n",
       "</td>\n",
       "</tr>\n",
       "<tr>\n",
       "<td>\n",
       "-2.426679\n",
       "</td>\n",
       "<td>\n",
       "-0.428913\n",
       "</td>\n",
       "<td>\n",
       "1.265936\n",
       "</td>\n",
       "<td>\n",
       "&quot;c&quot;\n",
       "</td>\n",
       "</tr>\n",
       "<tr>\n",
       "<td>\n",
       "-0.86674\n",
       "</td>\n",
       "<td>\n",
       "-0.678886\n",
       "</td>\n",
       "<td>\n",
       "-0.094709\n",
       "</td>\n",
       "<td>\n",
       "&quot;d&quot;\n",
       "</td>\n",
       "</tr>\n",
       "<tr>\n",
       "<td>\n",
       "1.49139\n",
       "</td>\n",
       "<td>\n",
       "-0.638902\n",
       "</td>\n",
       "<td>\n",
       "-0.443982\n",
       "</td>\n",
       "<td>\n",
       "&quot;b&quot;\n",
       "</td>\n",
       "</tr>\n",
       "</tbody>\n",
       "</table>\n",
       "</div>"
      ],
      "text/plain": [
       "shape: (5, 4)\n",
       "┌───────────┬───────────┬───────────┬─────┐\n",
       "│ y         ┆ x1        ┆ x2        ┆ cat │\n",
       "│ ---       ┆ ---       ┆ ---       ┆ --- │\n",
       "│ f64       ┆ f64       ┆ f64       ┆ str │\n",
       "╞═══════════╪═══════════╪═══════════╪═════╡\n",
       "│ -1.085631 ┆ 0.997345  ┆ 0.282978  ┆ d   │\n",
       "│ -1.506295 ┆ -0.5786   ┆ 1.651437  ┆ b   │\n",
       "│ -2.426679 ┆ -0.428913 ┆ 1.265936  ┆ c   │\n",
       "│ -0.86674  ┆ -0.678886 ┆ -0.094709 ┆ d   │\n",
       "│ 1.49139   ┆ -0.638902 ┆ -0.443982 ┆ b   │\n",
       "└───────────┴───────────┴───────────┴─────┘"
      ]
     },
     "execution_count": 317,
     "metadata": {},
     "output_type": "execute_result"
    }
   ],
   "source": [
    "import string\n",
    "import random\n",
    "cat = pl.Series(\n",
    "    name=\"cat\",\n",
    "    values=random.choices(\n",
    "        population=string.ascii_letters[:5], \n",
    "        k=data_polars.height)\n",
    "    ).to_frame()\n",
    "data_polars = data_polars.hstack(cat)\n",
    "data_polars.head()"
   ]
  },
  {
   "cell_type": "markdown",
   "id": "61af03d5",
   "metadata": {},
   "source": [
    "The category encoders currently expects pandas dataframes as input, and does not support polars dataframes."
   ]
  },
  {
   "cell_type": "code",
   "execution_count": 324,
   "id": "73fe3617",
   "metadata": {},
   "outputs": [
    {
     "name": "stderr",
     "output_type": "stream",
     "text": [
      "/home/johnros/workspace/practicing_python_2/venv/lib/python3.10/site-packages/category_encoders/base_contrast_encoder.py:126: FutureWarning:\n",
      "\n",
      "Intercept column might not be added anymore in future releases (c.f. issue #370)\n",
      "\n"
     ]
    },
    {
     "data": {
      "text/html": [
       "<style>#sk-container-id-1 {color: black;background-color: white;}#sk-container-id-1 pre{padding: 0;}#sk-container-id-1 div.sk-toggleable {background-color: white;}#sk-container-id-1 label.sk-toggleable__label {cursor: pointer;display: block;width: 100%;margin-bottom: 0;padding: 0.3em;box-sizing: border-box;text-align: center;}#sk-container-id-1 label.sk-toggleable__label-arrow:before {content: \"▸\";float: left;margin-right: 0.25em;color: #696969;}#sk-container-id-1 label.sk-toggleable__label-arrow:hover:before {color: black;}#sk-container-id-1 div.sk-estimator:hover label.sk-toggleable__label-arrow:before {color: black;}#sk-container-id-1 div.sk-toggleable__content {max-height: 0;max-width: 0;overflow: hidden;text-align: left;background-color: #f0f8ff;}#sk-container-id-1 div.sk-toggleable__content pre {margin: 0.2em;color: black;border-radius: 0.25em;background-color: #f0f8ff;}#sk-container-id-1 input.sk-toggleable__control:checked~div.sk-toggleable__content {max-height: 200px;max-width: 100%;overflow: auto;}#sk-container-id-1 input.sk-toggleable__control:checked~label.sk-toggleable__label-arrow:before {content: \"▾\";}#sk-container-id-1 div.sk-estimator input.sk-toggleable__control:checked~label.sk-toggleable__label {background-color: #d4ebff;}#sk-container-id-1 div.sk-label input.sk-toggleable__control:checked~label.sk-toggleable__label {background-color: #d4ebff;}#sk-container-id-1 input.sk-hidden--visually {border: 0;clip: rect(1px 1px 1px 1px);clip: rect(1px, 1px, 1px, 1px);height: 1px;margin: -1px;overflow: hidden;padding: 0;position: absolute;width: 1px;}#sk-container-id-1 div.sk-estimator {font-family: monospace;background-color: #f0f8ff;border: 1px dotted black;border-radius: 0.25em;box-sizing: border-box;margin-bottom: 0.5em;}#sk-container-id-1 div.sk-estimator:hover {background-color: #d4ebff;}#sk-container-id-1 div.sk-parallel-item::after {content: \"\";width: 100%;border-bottom: 1px solid gray;flex-grow: 1;}#sk-container-id-1 div.sk-label:hover label.sk-toggleable__label {background-color: #d4ebff;}#sk-container-id-1 div.sk-serial::before {content: \"\";position: absolute;border-left: 1px solid gray;box-sizing: border-box;top: 0;bottom: 0;left: 50%;z-index: 0;}#sk-container-id-1 div.sk-serial {display: flex;flex-direction: column;align-items: center;background-color: white;padding-right: 0.2em;padding-left: 0.2em;position: relative;}#sk-container-id-1 div.sk-item {position: relative;z-index: 1;}#sk-container-id-1 div.sk-parallel {display: flex;align-items: stretch;justify-content: center;background-color: white;position: relative;}#sk-container-id-1 div.sk-item::before, #sk-container-id-1 div.sk-parallel-item::before {content: \"\";position: absolute;border-left: 1px solid gray;box-sizing: border-box;top: 0;bottom: 0;left: 50%;z-index: -1;}#sk-container-id-1 div.sk-parallel-item {display: flex;flex-direction: column;z-index: 1;position: relative;background-color: white;}#sk-container-id-1 div.sk-parallel-item:first-child::after {align-self: flex-end;width: 50%;}#sk-container-id-1 div.sk-parallel-item:last-child::after {align-self: flex-start;width: 50%;}#sk-container-id-1 div.sk-parallel-item:only-child::after {width: 0;}#sk-container-id-1 div.sk-dashed-wrapped {border: 1px dashed gray;margin: 0 0.4em 0.5em 0.4em;box-sizing: border-box;padding-bottom: 0.4em;background-color: white;}#sk-container-id-1 div.sk-label label {font-family: monospace;font-weight: bold;display: inline-block;line-height: 1.2em;}#sk-container-id-1 div.sk-label-container {text-align: center;}#sk-container-id-1 div.sk-container {/* jupyter's `normalize.less` sets `[hidden] { display: none; }` but bootstrap.min.css set `[hidden] { display: none !important; }` so we also need the `!important` here to be able to override the default hidden behavior on the sphinx rendered scikit-learn.org. See: https://github.com/scikit-learn/scikit-learn/issues/21755 */display: inline-block !important;position: relative;}#sk-container-id-1 div.sk-text-repr-fallback {display: none;}</style><div id=\"sk-container-id-1\" class=\"sk-top-container\"><div class=\"sk-text-repr-fallback\"><pre>HelmertEncoder(cols=[&#x27;cat&#x27;],\n",
       "               mapping=[{&#x27;col&#x27;: &#x27;cat&#x27;,\n",
       "                         &#x27;mapping&#x27;:     cat_0  cat_1  cat_2  cat_3\n",
       " 1   -1.0   -1.0   -1.0   -1.0\n",
       " 2    1.0   -1.0   -1.0   -1.0\n",
       " 3    0.0    2.0   -1.0   -1.0\n",
       " 4    0.0    0.0    3.0   -1.0\n",
       " 5    0.0    0.0    0.0    4.0\n",
       "-1    0.0    0.0    0.0    0.0\n",
       "-2    0.0    0.0    0.0    0.0}])</pre><b>In a Jupyter environment, please rerun this cell to show the HTML representation or trust the notebook. <br />On GitHub, the HTML representation is unable to render, please try loading this page with nbviewer.org.</b></div><div class=\"sk-container\" hidden><div class=\"sk-item\"><div class=\"sk-estimator sk-toggleable\"><input class=\"sk-toggleable__control sk-hidden--visually\" id=\"sk-estimator-id-1\" type=\"checkbox\" checked><label for=\"sk-estimator-id-1\" class=\"sk-toggleable__label sk-toggleable__label-arrow\">HelmertEncoder</label><div class=\"sk-toggleable__content\"><pre>HelmertEncoder(cols=[&#x27;cat&#x27;],\n",
       "               mapping=[{&#x27;col&#x27;: &#x27;cat&#x27;,\n",
       "                         &#x27;mapping&#x27;:     cat_0  cat_1  cat_2  cat_3\n",
       " 1   -1.0   -1.0   -1.0   -1.0\n",
       " 2    1.0   -1.0   -1.0   -1.0\n",
       " 3    0.0    2.0   -1.0   -1.0\n",
       " 4    0.0    0.0    3.0   -1.0\n",
       " 5    0.0    0.0    0.0    4.0\n",
       "-1    0.0    0.0    0.0    0.0\n",
       "-2    0.0    0.0    0.0    0.0}])</pre></div></div></div></div></div>"
      ],
      "text/plain": [
       "HelmertEncoder(cols=['cat'],\n",
       "               mapping=[{'col': 'cat',\n",
       "                         'mapping':     cat_0  cat_1  cat_2  cat_3\n",
       " 1   -1.0   -1.0   -1.0   -1.0\n",
       " 2    1.0   -1.0   -1.0   -1.0\n",
       " 3    0.0    2.0   -1.0   -1.0\n",
       " 4    0.0    0.0    3.0   -1.0\n",
       " 5    0.0    0.0    0.0    4.0\n",
       "-1    0.0    0.0    0.0    0.0\n",
       "-2    0.0    0.0    0.0    0.0}])"
      ]
     },
     "execution_count": 318,
     "metadata": {},
     "output_type": "execute_result"
    }
   ],
   "source": [
    "import category_encoders as ce\n",
    "encoder = ce.HelmertEncoder()\n",
    "encoder.fit(data_polars.to_pandas())"
   ]
  },
  {
   "cell_type": "markdown",
   "id": "aebd699a",
   "metadata": {},
   "source": [
    "# Config\n"
   ]
  },
  {
   "cell_type": "code",
   "execution_count": 325,
   "id": "22772cc7",
   "metadata": {},
   "outputs": [
    {
     "data": {
      "text/plain": [
       "['__annotations__',\n",
       " '__class__',\n",
       " '__delattr__',\n",
       " '__dict__',\n",
       " '__dir__',\n",
       " '__doc__',\n",
       " '__enter__',\n",
       " '__eq__',\n",
       " '__exit__',\n",
       " '__format__',\n",
       " '__ge__',\n",
       " '__getattribute__',\n",
       " '__gt__',\n",
       " '__hash__',\n",
       " '__init__',\n",
       " '__init_subclass__',\n",
       " '__le__',\n",
       " '__lt__',\n",
       " '__module__',\n",
       " '__ne__',\n",
       " '__new__',\n",
       " '__reduce__',\n",
       " '__reduce_ex__',\n",
       " '__repr__',\n",
       " '__setattr__',\n",
       " '__sizeof__',\n",
       " '__str__',\n",
       " '__subclasshook__',\n",
       " '__weakref__',\n",
       " 'load',\n",
       " 'restore_defaults',\n",
       " 'save',\n",
       " 'set_ascii_tables',\n",
       " 'set_fmt_str_lengths',\n",
       " 'set_tbl_cell_alignment',\n",
       " 'set_tbl_cols',\n",
       " 'set_tbl_column_data_type_inline',\n",
       " 'set_tbl_dataframe_shape_below',\n",
       " 'set_tbl_formatting',\n",
       " 'set_tbl_hide_column_data_types',\n",
       " 'set_tbl_hide_column_names',\n",
       " 'set_tbl_hide_dataframe_shape',\n",
       " 'set_tbl_hide_dtype_separator',\n",
       " 'set_tbl_rows',\n",
       " 'set_tbl_width_chars',\n",
       " 'set_verbose',\n",
       " 'state',\n",
       " 'with_columns_kwargs']"
      ]
     },
     "execution_count": 319,
     "metadata": {},
     "output_type": "execute_result"
    }
   ],
   "source": [
    "list(dir(pl.Config))"
   ]
  }
 ],
 "metadata": {
  "kernelspec": {
   "display_name": "Python 3 (ipykernel)",
   "language": "python",
   "name": "python3"
  },
  "language_info": {
   "codemirror_mode": {
    "name": "ipython",
    "version": 3
   },
   "file_extension": ".py",
   "mimetype": "text/x-python",
   "name": "python",
   "nbconvert_exporter": "python",
   "pygments_lexer": "ipython3",
   "version": "3.10.6"
  }
 },
 "nbformat": 4,
 "nbformat_minor": 5
}

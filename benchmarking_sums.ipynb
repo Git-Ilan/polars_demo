{
 "cells": [
  {
   "cell_type": "raw",
   "id": "0e67a26b",
   "metadata": {},
   "source": [
    "---\n",
    "title: Benchmarking\n",
    "execute:\n",
    "  warning: true\n",
    "  error: true\n",
    "  keep-ipynb: true\n",
    "  cache: true\n",
    "---"
   ]
  },
  {
   "cell_type": "code",
   "execution_count": 1,
   "id": "f45e7802",
   "metadata": {},
   "outputs": [],
   "source": [
    "import polars as pl\n",
    "import pandas as pd\n",
    "import numpy as np\n",
    "import pyarrow as pa\n",
    "import plotly.express as px\n",
    "import string\n",
    "import random\n",
    "import os\n",
    "import sys\n",
    "%matplotlib inline \n",
    "import matplotlib.pyplot as plt\n",
    "from datetime import datetime\n",
    "import mlx.core as mx\n",
    "\n",
    "import time"
   ]
  },
  {
   "cell_type": "code",
   "execution_count": 2,
   "id": "f206fc05",
   "metadata": {},
   "outputs": [],
   "source": [
    "# Maker an array of floats.\n",
    "A_numpy = np.random.randn(int(1e6), 10)\n",
    "\n",
    "A_numpy = A_numpy.copy()\n",
    "A_polars = pl.DataFrame(A_numpy)\n",
    "A_pandas_numpy = pd.DataFrame(A_numpy)\n",
    "A_pandas_arrow = pd.DataFrame(A_numpy, dtype=\"float32[pyarrow]\")\n",
    "# A_arrow = pa.Table.from_pandas(A_pandas_numpy) # no sum method\n",
    "A_mlx = mx.array(A_numpy)"
   ]
  },
  {
   "cell_type": "markdown",
   "id": "77c260d1",
   "metadata": {},
   "source": [
    "Candidates currently ommited:\n",
    "\n",
    "1. JAX\n",
    "2. PyTorch\n",
    "3. TensorFlow\n",
    "4. ?\n",
    "\n",
    "\n",
    "\n",
    "# Summing Over Columns\n"
   ]
  },
  {
   "cell_type": "code",
   "execution_count": 3,
   "id": "0c369904",
   "metadata": {},
   "outputs": [
    {
     "name": "stdout",
     "output_type": "stream",
     "text": [
      "8.13 ms ± 213 µs per loop (mean ± std. dev. of 2 runs, 4 loops each)\n"
     ]
    }
   ],
   "source": [
    "%timeit -n 4 -r 2 A_numpy.sum(axis=0)"
   ]
  },
  {
   "cell_type": "code",
   "execution_count": 4,
   "id": "e22dac40",
   "metadata": {},
   "outputs": [
    {
     "data": {
      "text/plain": [
       "(10,)"
      ]
     },
     "execution_count": 54,
     "metadata": {},
     "output_type": "execute_result"
    }
   ],
   "source": [
    "A_numpy.sum(axis=0).shape"
   ]
  },
  {
   "cell_type": "code",
   "execution_count": 5,
   "id": "30b313ea",
   "metadata": {},
   "outputs": [
    {
     "name": "stdout",
     "output_type": "stream",
     "text": [
      "3.61 ms ± 1.56 ms per loop (mean ± std. dev. of 2 runs, 4 loops each)\n"
     ]
    }
   ],
   "source": [
    "%timeit -n 4 -r 2 A_polars.sum()"
   ]
  },
  {
   "cell_type": "code",
   "execution_count": 6,
   "id": "a0d9c162",
   "metadata": {},
   "outputs": [
    {
     "data": {
      "text/plain": [
       "(1, 10)"
      ]
     },
     "execution_count": 56,
     "metadata": {},
     "output_type": "execute_result"
    }
   ],
   "source": [
    "A_polars.sum().shape"
   ]
  },
  {
   "cell_type": "code",
   "execution_count": 7,
   "id": "c1c0a972",
   "metadata": {},
   "outputs": [
    {
     "name": "stdout",
     "output_type": "stream",
     "text": [
      "The slowest run took 132.64 times longer than the fastest. This could mean that an intermediate result is being cached.\n",
      "155 µs ± 153 µs per loop (mean ± std. dev. of 2 runs, 4 loops each)\n"
     ]
    }
   ],
   "source": [
    "%timeit -n 4 -r 2 A_mlx.sum(axis=0)"
   ]
  },
  {
   "cell_type": "code",
   "execution_count": 8,
   "id": "d6ca6867",
   "metadata": {},
   "outputs": [
    {
     "data": {
      "text/plain": [
       "(10,)"
      ]
     },
     "execution_count": 58,
     "metadata": {},
     "output_type": "execute_result"
    }
   ],
   "source": [
    "A_mlx.sum(axis=0).shape"
   ]
  },
  {
   "cell_type": "markdown",
   "id": "c646eb2a",
   "metadata": {},
   "source": [
    "## 50 Shades of Pandas\n",
    "\n",
    "Pandas with numpy backend"
   ]
  },
  {
   "cell_type": "code",
   "execution_count": 9,
   "id": "e438f1f3",
   "metadata": {},
   "outputs": [
    {
     "name": "stdout",
     "output_type": "stream",
     "text": [
      "26.9 ms ± 1.48 ms per loop (mean ± std. dev. of 2 runs, 4 loops each)\n"
     ]
    }
   ],
   "source": [
    "%timeit -n 4 -r 2 A_pandas_numpy.sum(axis=0)"
   ]
  },
  {
   "cell_type": "code",
   "execution_count": 10,
   "id": "23103f89",
   "metadata": {},
   "outputs": [
    {
     "data": {
      "text/plain": [
       "(10,)"
      ]
     },
     "execution_count": 60,
     "metadata": {},
     "output_type": "execute_result"
    }
   ],
   "source": [
    "A_pandas_numpy.sum(axis=0).shape"
   ]
  },
  {
   "cell_type": "markdown",
   "id": "3a7589a3",
   "metadata": {},
   "source": [
    "Pandas with arrow backend"
   ]
  },
  {
   "cell_type": "code",
   "execution_count": 11,
   "id": "54ca2978",
   "metadata": {},
   "outputs": [
    {
     "name": "stdout",
     "output_type": "stream",
     "text": [
      "3.96 ms ± 752 µs per loop (mean ± std. dev. of 2 runs, 4 loops each)\n"
     ]
    }
   ],
   "source": [
    "%timeit -n 4 -r 2 A_pandas_arrow.sum(axis=0)"
   ]
  },
  {
   "cell_type": "code",
   "execution_count": 12,
   "id": "0e9a5393",
   "metadata": {},
   "outputs": [
    {
     "data": {
      "text/plain": [
       "(10,)"
      ]
     },
     "execution_count": 62,
     "metadata": {},
     "output_type": "execute_result"
    }
   ],
   "source": [
    "A_pandas_arrow.sum(axis=0).shape"
   ]
  },
  {
   "cell_type": "markdown",
   "id": "0db1f3bf",
   "metadata": {},
   "source": [
    "Pandas with numpy backend, converted to numpy"
   ]
  },
  {
   "cell_type": "code",
   "execution_count": 13,
   "id": "35607d58",
   "metadata": {},
   "outputs": [
    {
     "name": "stdout",
     "output_type": "stream",
     "text": [
      "8.03 ms ± 175 µs per loop (mean ± std. dev. of 2 runs, 4 loops each)\n"
     ]
    }
   ],
   "source": [
    "%timeit -n 4 -r 2 A_pandas_numpy.values.sum(axis=0)"
   ]
  },
  {
   "cell_type": "code",
   "execution_count": 14,
   "id": "9f23c463",
   "metadata": {},
   "outputs": [
    {
     "data": {
      "text/plain": [
       "(10,)"
      ]
     },
     "execution_count": 64,
     "metadata": {},
     "output_type": "execute_result"
    }
   ],
   "source": [
    "A_pandas_numpy.values.sum(axis=0).shape"
   ]
  },
  {
   "cell_type": "markdown",
   "id": "f08df5e0",
   "metadata": {},
   "source": [
    "Pandas with arrow backend, converted to numpy"
   ]
  },
  {
   "cell_type": "code",
   "execution_count": 15,
   "id": "2eab65ed",
   "metadata": {},
   "outputs": [
    {
     "name": "stdout",
     "output_type": "stream",
     "text": [
      "423 ms ± 8.46 ms per loop (mean ± std. dev. of 2 runs, 4 loops each)\n"
     ]
    }
   ],
   "source": [
    "%timeit -n 4 -r 2 A_pandas_arrow.values.sum(axis=0)"
   ]
  },
  {
   "cell_type": "code",
   "execution_count": 16,
   "id": "c62fe22c",
   "metadata": {},
   "outputs": [
    {
     "data": {
      "text/plain": [
       "numpy.ndarray"
      ]
     },
     "execution_count": 66,
     "metadata": {},
     "output_type": "execute_result"
    }
   ],
   "source": [
    "type(A_pandas_arrow.values)"
   ]
  },
  {
   "cell_type": "code",
   "execution_count": 17,
   "id": "1ff58b6b",
   "metadata": {},
   "outputs": [
    {
     "data": {
      "text/plain": [
       "(10,)"
      ]
     },
     "execution_count": 67,
     "metadata": {},
     "output_type": "execute_result"
    }
   ],
   "source": [
    "A_pandas_arrow.values.sum(axis=0).shape"
   ]
  },
  {
   "cell_type": "markdown",
   "id": "a0c8b34c",
   "metadata": {},
   "source": [
    "Pandas to mlx"
   ]
  },
  {
   "cell_type": "code",
   "execution_count": 18,
   "id": "d0a0fa43",
   "metadata": {},
   "outputs": [
    {
     "name": "stdout",
     "output_type": "stream",
     "text": [
      "5.68 ms ± 3.12 ms per loop (mean ± std. dev. of 2 runs, 4 loops each)\n"
     ]
    }
   ],
   "source": [
    "%timeit -n 4 -r 2 mx.array(A_pandas_numpy.values).sum(axis=0)"
   ]
  },
  {
   "cell_type": "code",
   "execution_count": 19,
   "id": "151cba75",
   "metadata": {},
   "outputs": [
    {
     "data": {
      "text/plain": [
       "(10,)"
      ]
     },
     "execution_count": 69,
     "metadata": {},
     "output_type": "execute_result"
    }
   ],
   "source": [
    "mx.array(A_pandas_numpy.values).sum(axis=0).shape"
   ]
  },
  {
   "cell_type": "markdown",
   "id": "85f320c4",
   "metadata": {},
   "source": [
    "# Summing Over Rows\n"
   ]
  },
  {
   "cell_type": "code",
   "execution_count": 20,
   "id": "fa9b7304",
   "metadata": {},
   "outputs": [
    {
     "name": "stdout",
     "output_type": "stream",
     "text": [
      "8.44 ms ± 171 µs per loop (mean ± std. dev. of 2 runs, 4 loops each)\n"
     ]
    }
   ],
   "source": [
    "%timeit -n 4 -r 2 A_numpy.sum(axis=1)"
   ]
  },
  {
   "cell_type": "code",
   "execution_count": 21,
   "id": "68b3627b",
   "metadata": {},
   "outputs": [
    {
     "data": {
      "text/plain": [
       "(1000000,)"
      ]
     },
     "execution_count": 71,
     "metadata": {},
     "output_type": "execute_result"
    }
   ],
   "source": [
    "A_numpy.sum(axis=1).shape"
   ]
  },
  {
   "cell_type": "code",
   "execution_count": 22,
   "id": "c8a5088f",
   "metadata": {},
   "outputs": [
    {
     "name": "stdout",
     "output_type": "stream",
     "text": [
      "9.98 ms ± 2.18 ms per loop (mean ± std. dev. of 2 runs, 4 loops each)\n"
     ]
    }
   ],
   "source": [
    "%timeit -n 4 -r 2 A_polars.sum_horizontal()"
   ]
  },
  {
   "cell_type": "code",
   "execution_count": 23,
   "id": "c2a3c988",
   "metadata": {},
   "outputs": [
    {
     "data": {
      "text/plain": [
       "(1000000,)"
      ]
     },
     "execution_count": 73,
     "metadata": {},
     "output_type": "execute_result"
    }
   ],
   "source": [
    "A_polars.sum_horizontal().shape"
   ]
  },
  {
   "cell_type": "code",
   "execution_count": 24,
   "id": "07788e96",
   "metadata": {},
   "outputs": [
    {
     "name": "stdout",
     "output_type": "stream",
     "text": [
      "The slowest run took 6.12 times longer than the fastest. This could mean that an intermediate result is being cached.\n",
      "6.94 µs ± 4.99 µs per loop (mean ± std. dev. of 2 runs, 4 loops each)\n"
     ]
    }
   ],
   "source": [
    "%timeit -n 4 -r 2 A_mlx.sum(axis=1)"
   ]
  },
  {
   "cell_type": "code",
   "execution_count": 25,
   "id": "afb96d93",
   "metadata": {},
   "outputs": [
    {
     "data": {
      "text/plain": [
       "(1000000,)"
      ]
     },
     "execution_count": 75,
     "metadata": {},
     "output_type": "execute_result"
    }
   ],
   "source": [
    "A_mlx.sum(axis=1).shape"
   ]
  },
  {
   "cell_type": "markdown",
   "id": "31e568db",
   "metadata": {},
   "source": [
    "## 50 Shades of Pandas\n",
    "\n",
    "Pandas with numpy backend"
   ]
  },
  {
   "cell_type": "code",
   "execution_count": 26,
   "id": "40557b9f",
   "metadata": {},
   "outputs": [
    {
     "name": "stdout",
     "output_type": "stream",
     "text": [
      "74.2 ms ± 314 µs per loop (mean ± std. dev. of 2 runs, 4 loops each)\n"
     ]
    }
   ],
   "source": [
    "%timeit -n 4 -r 2 A_pandas_numpy.sum(axis=1)"
   ]
  },
  {
   "cell_type": "markdown",
   "id": "f639ef7b",
   "metadata": {},
   "source": [
    "Pandas with arrow backend"
   ]
  },
  {
   "cell_type": "code",
   "execution_count": 27,
   "id": "e52d67fc",
   "metadata": {},
   "outputs": [
    {
     "name": "stdout",
     "output_type": "stream",
     "text": [
      "192 ms ± 6.55 ms per loop (mean ± std. dev. of 2 runs, 4 loops each)\n"
     ]
    }
   ],
   "source": [
    "%timeit -n 4 -r 2 A_pandas_arrow.sum(axis=1)"
   ]
  },
  {
   "cell_type": "markdown",
   "id": "4969e85d",
   "metadata": {},
   "source": [
    "Pandas with numpy backend, converted to numpy"
   ]
  },
  {
   "cell_type": "code",
   "execution_count": 28,
   "id": "d441f51e",
   "metadata": {},
   "outputs": [
    {
     "name": "stdout",
     "output_type": "stream",
     "text": [
      "8.38 ms ± 151 µs per loop (mean ± std. dev. of 2 runs, 4 loops each)\n"
     ]
    }
   ],
   "source": [
    "%timeit -n 4 -r 2 A_pandas_numpy.values.sum(axis=1)"
   ]
  },
  {
   "cell_type": "markdown",
   "id": "4d3722fd",
   "metadata": {},
   "source": [
    "Pandas with arrow backend, converted to numpy"
   ]
  },
  {
   "cell_type": "code",
   "execution_count": 29,
   "id": "734a0b76",
   "metadata": {},
   "outputs": [
    {
     "name": "stdout",
     "output_type": "stream",
     "text": [
      "417 ms ± 7.09 ms per loop (mean ± std. dev. of 2 runs, 4 loops each)\n"
     ]
    }
   ],
   "source": [
    "%timeit -n 4 -r 2 A_pandas_arrow.values.sum(axis=1)"
   ]
  },
  {
   "cell_type": "markdown",
   "id": "c4474d63",
   "metadata": {},
   "source": [
    "Pandas to mlx"
   ]
  },
  {
   "cell_type": "code",
   "execution_count": 30,
   "id": "4ce4a0ad",
   "metadata": {},
   "outputs": [
    {
     "name": "stdout",
     "output_type": "stream",
     "text": [
      "5.47 ms ± 3.28 ms per loop (mean ± std. dev. of 2 runs, 4 loops each)\n"
     ]
    }
   ],
   "source": [
    "%timeit -n 4 -r 2 mx.array(A_pandas_numpy.values).sum(axis=1)"
   ]
  }
 ],
 "metadata": {
  "kernelspec": {
   "display_name": "Python 3 (ipykernel)",
   "language": "python",
   "name": "python3"
  }
 },
 "nbformat": 4,
 "nbformat_minor": 5
}
